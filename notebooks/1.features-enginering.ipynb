{
 "cells": [
  {
   "cell_type": "markdown",
   "id": "66601fc9",
   "metadata": {},
   "source": [
    "# Imports and definitions"
   ]
  },
  {
   "cell_type": "code",
   "execution_count": 1,
   "id": "a8a0ea99",
   "metadata": {},
   "outputs": [],
   "source": [
    "import pickle\n",
    "from pathlib import Path\n",
    "\n",
    "import polars as pl\n",
    "import polars.selectors as cs\n",
    "\n",
    "from sklearn.linear_model import Ridge, Lasso\n",
    "from sklearn.model_selection import train_test_split\n",
    "from sklearn.metrics import mean_absolute_error\n",
    "\n",
    "\n",
    "_ = pl.Config.set_tbl_cols(None)\n",
    "_ = pl.Config.set_fmt_str_lengths(500)\n",
    "_ = pl.Config.set_fmt_float(\"full\")"
   ]
  },
  {
   "cell_type": "code",
   "execution_count": 2,
   "id": "8faa3fe6",
   "metadata": {},
   "outputs": [],
   "source": [
    "base_dir = Path('/workspaces/data-scientist-at-magenta/')\n",
    "code_dir = base_dir / 'notebooks'\n",
    "dagster_storage_dir = base_dir / 'dagster_home' / 'storage'"
   ]
  },
  {
   "cell_type": "code",
   "execution_count": 3,
   "id": "3331f18c",
   "metadata": {},
   "outputs": [],
   "source": [
    "def load_artifact(targ_file:str):\n",
    "    targ_path = dagster_storage_dir / targ_file\n",
    "    \n",
    "    if not targ_path.exists():\n",
    "        raise FileNotFoundError(f'Artifact {targ_file} not found in {dagster_storage_dir}')\n",
    "\n",
    "    with open(targ_path,'rb') as fp:\n",
    "        test_artifact = pickle.load(fp)\n",
    "\n",
    "    return pl.from_pandas(test_artifact)"
   ]
  },
  {
   "cell_type": "markdown",
   "id": "c602eecb",
   "metadata": {},
   "source": [
    "`core_data` <br><br>\n",
    "\n",
    "| Feature Name           | Description                                                  |\n",
    "|------------------------|--------------------------------------------------------------|\n",
    "| rating_account_id      | Unique identifier for the contract account                    |\n",
    "| customer_id            | Unique identifier for the customer                           |\n",
    "| age                    | Age of the customer **in years**                                       |\n",
    "| contract_lifetime_days | Total duration of the customer contract in days              |\n",
    "| remaining_binding_days | Number of days left in the contract binding period - usual binding period is 2 years - **if it's positive it means that the customer is still in the binding period**       |\n",
    "| has_special_offer      | Indicates if the customer has a special offer      |\n",
    "| is_magenta1_customer   | Indicates if the customer is part of the Magenta1 program - fedelty program    |\n",
    "| available_gb           | Amount of mobile data included in the current tariff         |\n",
    "| gross_mrc              | Gross monthly recurring charge (in euros)                    |\n",
    "| smartphone_brand       | Brand of the customer’s smartphone                           |\n",
    "| has_done_upselling     | Whether the customer has already done an upsell in the last 3 years      |\n"
   ]
  },
  {
   "cell_type": "markdown",
   "id": "583d2e94",
   "metadata": {},
   "source": [
    "`usage_info`\n",
    "\n",
    "| Feature Name           | Description                                                  |\n",
    "|------------------------|--------------------------------------------------------------|\n",
    "| rating_account_id      | Unique identifier for the contract account                    |\n",
    "| billed_period_month_d  | Billing period (monthly)                                     |\n",
    "| has_used_roaming       | Indicates if roaming was used during the period            |\n",
    "| used_gb                | Amount of mobile data used in the billing period (in GB)     |\n"
   ]
  },
  {
   "cell_type": "markdown",
   "id": "074317ef",
   "metadata": {},
   "source": [
    "`customer_interactions`\n",
    "\n",
    "| Feature Name   | Description                                                              |\n",
    "|----------------|--------------------------------------------------------------------------|\n",
    "| customer_id    | Unique identifier for the customer                                       |\n",
    "| type_subtype   | Category and subtype of the interaction (e.g., tariff change, billing)   |\n",
    "| n              | Number of interactions of this type in the last 6 months                                |\n",
    "| days_since_last| Number of days since the last interaction of this type                   |\n"
   ]
  },
  {
   "cell_type": "markdown",
   "id": "f3ab727d",
   "metadata": {},
   "source": [
    "# Read data"
   ]
  },
  {
   "cell_type": "code",
   "execution_count": 4,
   "id": "82ebb18c",
   "metadata": {},
   "outputs": [
    {
     "name": "stdout",
     "output_type": "stream",
     "text": [
      "CPU times: user 112 ms, sys: 27.9 ms, total: 140 ms\n",
      "Wall time: 238 ms\n"
     ]
    }
   ],
   "source": [
    "%%time\n",
    "\n",
    "core_data = load_artifact('core_data')\n",
    "customer_interactions = load_artifact('customer_interactions')\n",
    "usage_info = load_artifact('usage_info')"
   ]
  },
  {
   "cell_type": "markdown",
   "id": "e2166da0",
   "metadata": {},
   "source": [
    "---"
   ]
  },
  {
   "cell_type": "markdown",
   "id": "a46ae8c8",
   "metadata": {},
   "source": [
    "# Features computation"
   ]
  },
  {
   "cell_type": "markdown",
   "id": "6b561842",
   "metadata": {},
   "source": [
    "## `core_data`"
   ]
  },
  {
   "cell_type": "code",
   "execution_count": 5,
   "id": "1216de29",
   "metadata": {},
   "outputs": [
    {
     "name": "stdout",
     "output_type": "stream",
     "text": [
      "CPU times: user 29.8 ms, sys: 20.4 ms, total: 50.2 ms\n",
      "Wall time: 118 ms\n"
     ]
    }
   ],
   "source": [
    "%%time\n",
    "\n",
    "core_data = core_data.with_columns(\n",
    "    pl.col('rating_account_id').cast(pl.Utf8),\n",
    "    pl.col(\"has_done_upselling\").cast(pl.Boolean),\n",
    "    pl.col(\"has_special_offer\").cast(pl.Boolean),\n",
    "    pl.col(\"is_magenta1_customer\").cast(pl.Boolean)\n",
    ")\n",
    "\n",
    "# Manipulating binding days\n",
    "core_data = core_data.with_columns(\n",
    "    (pl.col('contract_lifetime_days') + pl.col('remaining_binding_days')).alias('contract_binding_days'),\n",
    "    (pl.col('contract_lifetime_days') / (pl.col('contract_lifetime_days') + pl.col('remaining_binding_days'))).round(2).alias('completion_rate'),\n",
    "    pl.when(pl.col('remaining_binding_days') > 0)\n",
    "        .then(True)\n",
    "        .otherwise(False)\n",
    "        .alias('is_bounded')\n",
    ")\n",
    "\n",
    "\n",
    "# One-hot-encoding smartphone brands - extracting the values in order to keep the same order for the columns\n",
    "# The number of unique values is not too high, so one-hot-encoding is not affecting the dimensionality too much\n",
    "smartphone_brands_list = core_data.select(pl.col('smartphone_brand')).unique().to_series().sort().to_list()\n",
    "core_data = core_data.with_columns(\n",
    "    [\n",
    "        pl.when(pl.col(\"smartphone_brand\") == brand)\n",
    "        .then(True)\n",
    "        .otherwise(False)\n",
    "        .alias(f\"is_{brand.lower()}\")\n",
    "        for brand in smartphone_brands_list\n",
    "    ]\n",
    ")\n",
    "core_data = core_data.drop(\"smartphone_brand\")\n",
    "\n",
    "\n",
    "# Add how many contract has the customer - including the current one\n",
    "n_contract_per_customer = core_data.group_by(\"customer_id\").agg(\n",
    "    pl.col(\"rating_account_id\").count().alias(\"n_contracts_per_customer\")\n",
    ")\n",
    "core_data = core_data.join(n_contract_per_customer, on=\"customer_id\", how=\"left\")"
   ]
  },
  {
   "cell_type": "code",
   "execution_count": 6,
   "id": "4773ac6f",
   "metadata": {},
   "outputs": [
    {
     "data": {
      "text/html": [
       "<div><style>\n",
       ".dataframe > thead > tr,\n",
       ".dataframe > tbody > tr {\n",
       "  text-align: right;\n",
       "  white-space: pre-wrap;\n",
       "}\n",
       "</style>\n",
       "<small>shape: (100_000, 19)</small><table border=\"1\" class=\"dataframe\"><thead><tr><th>rating_account_id</th><th>customer_id</th><th>age</th><th>contract_lifetime_days</th><th>remaining_binding_days</th><th>has_special_offer</th><th>is_magenta1_customer</th><th>available_gb</th><th>gross_mrc</th><th>has_done_upselling</th><th>contract_binding_days</th><th>completion_rate</th><th>is_bounded</th><th>is_huawei</th><th>is_oneplus</th><th>is_samsung</th><th>is_xiaomi</th><th>is_iphone</th><th>n_contracts_per_customer</th></tr><tr><td>str</td><td>str</td><td>i64</td><td>i64</td><td>i64</td><td>bool</td><td>bool</td><td>i64</td><td>f64</td><td>bool</td><td>i64</td><td>f64</td><td>bool</td><td>bool</td><td>bool</td><td>bool</td><td>bool</td><td>bool</td><td>u32</td></tr></thead><tbody><tr><td>&quot;289094&quot;</td><td>&quot;4.161115&quot;</td><td>36</td><td>878</td><td>325</td><td>false</td><td>false</td><td>20</td><td>70</td><td>false</td><td>1203</td><td>0.73</td><td>true</td><td>false</td><td>false</td><td>false</td><td>false</td><td>true</td><td>1</td></tr><tr><td>&quot;677626&quot;</td><td>&quot;2.429976&quot;</td><td>34</td><td>998</td><td>614</td><td>false</td><td>false</td><td>0</td><td>5</td><td>false</td><td>1612</td><td>0.62</td><td>true</td><td>false</td><td>false</td><td>true</td><td>false</td><td>false</td><td>1</td></tr><tr><td>&quot;769928&quot;</td><td>&quot;3.875044&quot;</td><td>36</td><td>37</td><td>-26</td><td>false</td><td>true</td><td>50</td><td>16.94</td><td>false</td><td>11</td><td>3.36</td><td>false</td><td>false</td><td>false</td><td>true</td><td>false</td><td>false</td><td>2</td></tr><tr><td>&quot;873260&quot;</td><td>&quot;4.649933&quot;</td><td>50</td><td>503</td><td>-149</td><td>false</td><td>true</td><td>20</td><td>30.2</td><td>true</td><td>354</td><td>1.42</td><td>false</td><td>false</td><td>false</td><td>false</td><td>false</td><td>true</td><td>1</td></tr><tr><td>&quot;109774&quot;</td><td>&quot;3.851059&quot;</td><td>47</td><td>331</td><td>-328</td><td>true</td><td>true</td><td>null</td><td>46.12</td><td>false</td><td>3</td><td>110.33</td><td>false</td><td>false</td><td>false</td><td>true</td><td>false</td><td>false</td><td>3</td></tr><tr><td>&hellip;</td><td>&hellip;</td><td>&hellip;</td><td>&hellip;</td><td>&hellip;</td><td>&hellip;</td><td>&hellip;</td><td>&hellip;</td><td>&hellip;</td><td>&hellip;</td><td>&hellip;</td><td>&hellip;</td><td>&hellip;</td><td>&hellip;</td><td>&hellip;</td><td>&hellip;</td><td>&hellip;</td><td>&hellip;</td><td>&hellip;</td></tr><tr><td>&quot;502283&quot;</td><td>&quot;5.605022&quot;</td><td>88</td><td>1573</td><td>-576</td><td>false</td><td>false</td><td>10</td><td>34.18</td><td>false</td><td>997</td><td>1.58</td><td>false</td><td>false</td><td>false</td><td>true</td><td>false</td><td>false</td><td>4</td></tr><tr><td>&quot;618421&quot;</td><td>&quot;2.862063&quot;</td><td>85</td><td>1138</td><td>412</td><td>true</td><td>false</td><td>40</td><td>50.1</td><td>false</td><td>1550</td><td>0.73</td><td>true</td><td>false</td><td>false</td><td>false</td><td>false</td><td>true</td><td>1</td></tr><tr><td>&quot;104422&quot;</td><td>&quot;2.414264&quot;</td><td>79</td><td>1709</td><td>-494</td><td>false</td><td>false</td><td>10</td><td>12.96</td><td>false</td><td>1215</td><td>1.41</td><td>false</td><td>false</td><td>false</td><td>true</td><td>false</td><td>false</td><td>3</td></tr><tr><td>&quot;642380&quot;</td><td>&quot;3.619106&quot;</td><td>84</td><td>1592</td><td>403</td><td>false</td><td>false</td><td>10</td><td>56.73</td><td>false</td><td>1995</td><td>0.8</td><td>true</td><td>false</td><td>false</td><td>true</td><td>false</td><td>false</td><td>2</td></tr><tr><td>&quot;620562&quot;</td><td>&quot;2.177584&quot;</td><td>88</td><td>1711</td><td>383</td><td>false</td><td>false</td><td>10</td><td>5</td><td>false</td><td>2094</td><td>0.82</td><td>true</td><td>false</td><td>false</td><td>false</td><td>false</td><td>true</td><td>2</td></tr></tbody></table></div>"
      ],
      "text/plain": [
       "shape: (100_000, 19)\n",
       "┌────────────┬────────────┬─────┬────────────┬───┬────────────┬───────────┬───────────┬────────────┐\n",
       "│ rating_acc ┆ customer_i ┆ age ┆ contract_l ┆ … ┆ is_samsung ┆ is_xiaomi ┆ is_iphone ┆ n_contract │\n",
       "│ ount_id    ┆ d          ┆ --- ┆ ifetime_da ┆   ┆ ---        ┆ ---       ┆ ---       ┆ s_per_cust │\n",
       "│ ---        ┆ ---        ┆ i64 ┆ ys         ┆   ┆ bool       ┆ bool      ┆ bool      ┆ omer       │\n",
       "│ str        ┆ str        ┆     ┆ ---        ┆   ┆            ┆           ┆           ┆ ---        │\n",
       "│            ┆            ┆     ┆ i64        ┆   ┆            ┆           ┆           ┆ u32        │\n",
       "╞════════════╪════════════╪═════╪════════════╪═══╪════════════╪═══════════╪═══════════╪════════════╡\n",
       "│ 289094     ┆ 4.161115   ┆ 36  ┆ 878        ┆ … ┆ false      ┆ false     ┆ true      ┆ 1          │\n",
       "│ 677626     ┆ 2.429976   ┆ 34  ┆ 998        ┆ … ┆ true       ┆ false     ┆ false     ┆ 1          │\n",
       "│ 769928     ┆ 3.875044   ┆ 36  ┆ 37         ┆ … ┆ true       ┆ false     ┆ false     ┆ 2          │\n",
       "│ 873260     ┆ 4.649933   ┆ 50  ┆ 503        ┆ … ┆ false      ┆ false     ┆ true      ┆ 1          │\n",
       "│ 109774     ┆ 3.851059   ┆ 47  ┆ 331        ┆ … ┆ true       ┆ false     ┆ false     ┆ 3          │\n",
       "│ …          ┆ …          ┆ …   ┆ …          ┆ … ┆ …          ┆ …         ┆ …         ┆ …          │\n",
       "│ 502283     ┆ 5.605022   ┆ 88  ┆ 1573       ┆ … ┆ true       ┆ false     ┆ false     ┆ 4          │\n",
       "│ 618421     ┆ 2.862063   ┆ 85  ┆ 1138       ┆ … ┆ false      ┆ false     ┆ true      ┆ 1          │\n",
       "│ 104422     ┆ 2.414264   ┆ 79  ┆ 1709       ┆ … ┆ true       ┆ false     ┆ false     ┆ 3          │\n",
       "│ 642380     ┆ 3.619106   ┆ 84  ┆ 1592       ┆ … ┆ true       ┆ false     ┆ false     ┆ 2          │\n",
       "│ 620562     ┆ 2.177584   ┆ 88  ┆ 1711       ┆ … ┆ false      ┆ false     ┆ true      ┆ 2          │\n",
       "└────────────┴────────────┴─────┴────────────┴───┴────────────┴───────────┴───────────┴────────────┘"
      ]
     },
     "execution_count": 6,
     "metadata": {},
     "output_type": "execute_result"
    }
   ],
   "source": [
    "core_data"
   ]
  },
  {
   "cell_type": "code",
   "execution_count": 7,
   "id": "245da419",
   "metadata": {},
   "outputs": [
    {
     "data": {
      "text/plain": [
       "(100000, 19)"
      ]
     },
     "execution_count": 7,
     "metadata": {},
     "output_type": "execute_result"
    }
   ],
   "source": [
    "core_data.shape"
   ]
  },
  {
   "cell_type": "markdown",
   "id": "cdd17951",
   "metadata": {},
   "source": [
    "---"
   ]
  },
  {
   "cell_type": "markdown",
   "id": "dec4f76e",
   "metadata": {},
   "source": [
    "## `usage_info`"
   ]
  },
  {
   "cell_type": "code",
   "execution_count": 8,
   "id": "45b12ecd",
   "metadata": {},
   "outputs": [
    {
     "name": "stdout",
     "output_type": "stream",
     "text": [
      "CPU times: user 218 ms, sys: 8.06 ms, total: 226 ms\n",
      "Wall time: 170 ms\n"
     ]
    }
   ],
   "source": [
    "%%time\n",
    "\n",
    "usage_info = usage_info.with_columns([\n",
    "    pl.col('rating_account_id').cast(pl.Utf8),\n",
    "    pl.col('billed_period_month_d').cast(pl.Date),\n",
    "    pl.col('has_used_roaming').cast(pl.Boolean),\n",
    "    pl.col('used_gb').cast(pl.Float64)\n",
    "]).sort(['rating_account_id', 'billed_period_month_d'])"
   ]
  },
  {
   "cell_type": "code",
   "execution_count": 9,
   "id": "74f34c97",
   "metadata": {},
   "outputs": [
    {
     "name": "stdout",
     "output_type": "stream",
     "text": [
      "CPU times: user 8.93 ms, sys: 1.88 ms, total: 10.8 ms\n",
      "Wall time: 15.1 ms\n"
     ]
    }
   ],
   "source": [
    "%%time\n",
    "\n",
    "month_usage = usage_info.group_by('rating_account_id').agg([\n",
    "    pl.col('used_gb')\n",
    "])\n",
    "\n",
    "month_usage = month_usage.with_columns([\n",
    "    pl.col('used_gb').list.get(0).alias('last_1_month_usage_gb'),\n",
    "    pl.col('used_gb').list.get(1).alias('last_2_month_usage_gb'),\n",
    "    pl.col('used_gb').list.get(2).alias('last_3_month_usage_gb'),\n",
    "    pl.col('used_gb').list.get(3).alias('last_4_month_usage_gb'),\n",
    "\n",
    "]).drop('used_gb')\n"
   ]
  },
  {
   "cell_type": "code",
   "execution_count": 10,
   "id": "e4e800c9",
   "metadata": {},
   "outputs": [
    {
     "data": {
      "text/html": [
       "<div><style>\n",
       ".dataframe > thead > tr,\n",
       ".dataframe > tbody > tr {\n",
       "  text-align: right;\n",
       "  white-space: pre-wrap;\n",
       "}\n",
       "</style>\n",
       "<small>shape: (100_000, 5)</small><table border=\"1\" class=\"dataframe\"><thead><tr><th>rating_account_id</th><th>last_1_month_usage_gb</th><th>last_2_month_usage_gb</th><th>last_3_month_usage_gb</th><th>last_4_month_usage_gb</th></tr><tr><td>str</td><td>f64</td><td>f64</td><td>f64</td><td>f64</td></tr></thead><tbody><tr><td>&quot;100010&quot;</td><td>0.9</td><td>0.8</td><td>0.4</td><td>0.9</td></tr><tr><td>&quot;100017&quot;</td><td>0.7</td><td>0.5</td><td>0.8</td><td>0.3</td></tr><tr><td>&quot;100036&quot;</td><td>0.9</td><td>0.2</td><td>0.2</td><td>1</td></tr><tr><td>&quot;100047&quot;</td><td>35.6</td><td>48.9</td><td>35.4</td><td>50.7</td></tr><tr><td>&quot;100064&quot;</td><td>0.7</td><td>0.7</td><td>0.3</td><td>0.8</td></tr><tr><td>&hellip;</td><td>&hellip;</td><td>&hellip;</td><td>&hellip;</td><td>&hellip;</td></tr><tr><td>&quot;999922&quot;</td><td>2.3</td><td>1.4</td><td>3.6</td><td>2.1</td></tr><tr><td>&quot;999934&quot;</td><td>12.8</td><td>13.8</td><td>14.5</td><td>6.5</td></tr><tr><td>&quot;999940&quot;</td><td>9.8</td><td>11.6</td><td>5.4</td><td>14.4</td></tr><tr><td>&quot;999956&quot;</td><td>13</td><td>10.4</td><td>13.7</td><td>14.1</td></tr><tr><td>&quot;999971&quot;</td><td>3.7</td><td>2.3</td><td>1.1</td><td>1.1</td></tr></tbody></table></div>"
      ],
      "text/plain": [
       "shape: (100_000, 5)\n",
       "┌───────────────────┬───────────────────┬───────────────────┬───────────────────┬──────────────────┐\n",
       "│ rating_account_id ┆ last_1_month_usag ┆ last_2_month_usag ┆ last_3_month_usag ┆ last_4_month_usa │\n",
       "│ ---               ┆ e_gb              ┆ e_gb              ┆ e_gb              ┆ ge_gb            │\n",
       "│ str               ┆ ---               ┆ ---               ┆ ---               ┆ ---              │\n",
       "│                   ┆ f64               ┆ f64               ┆ f64               ┆ f64              │\n",
       "╞═══════════════════╪═══════════════════╪═══════════════════╪═══════════════════╪══════════════════╡\n",
       "│ 100010            ┆ 0.9               ┆ 0.8               ┆ 0.4               ┆ 0.9              │\n",
       "│ 100017            ┆ 0.7               ┆ 0.5               ┆ 0.8               ┆ 0.3              │\n",
       "│ 100036            ┆ 0.9               ┆ 0.2               ┆ 0.2               ┆ 1                │\n",
       "│ 100047            ┆ 35.6              ┆ 48.9              ┆ 35.4              ┆ 50.7             │\n",
       "│ 100064            ┆ 0.7               ┆ 0.7               ┆ 0.3               ┆ 0.8              │\n",
       "│ …                 ┆ …                 ┆ …                 ┆ …                 ┆ …                │\n",
       "│ 999922            ┆ 2.3               ┆ 1.4               ┆ 3.6               ┆ 2.1              │\n",
       "│ 999934            ┆ 12.8              ┆ 13.8              ┆ 14.5              ┆ 6.5              │\n",
       "│ 999940            ┆ 9.8               ┆ 11.6              ┆ 5.4               ┆ 14.4             │\n",
       "│ 999956            ┆ 13                ┆ 10.4              ┆ 13.7              ┆ 14.1             │\n",
       "│ 999971            ┆ 3.7               ┆ 2.3               ┆ 1.1               ┆ 1.1              │\n",
       "└───────────────────┴───────────────────┴───────────────────┴───────────────────┴──────────────────┘"
      ]
     },
     "execution_count": 10,
     "metadata": {},
     "output_type": "execute_result"
    }
   ],
   "source": [
    "month_usage"
   ]
  },
  {
   "cell_type": "code",
   "execution_count": 11,
   "id": "f1c8a71b",
   "metadata": {},
   "outputs": [
    {
     "name": "stdout",
     "output_type": "stream",
     "text": [
      "CPU times: user 393 ms, sys: 29 ms, total: 422 ms\n",
      "Wall time: 291 ms\n"
     ]
    }
   ],
   "source": [
    "%%time\n",
    "\n",
    "aggregated_features = usage_info.group_by('rating_account_id').agg([\n",
    "    \n",
    "    # BASIC USAGE STATISTICS\n",
    "    pl.col('used_gb').mean().round(2).alias('avg_monthly_usage_gb'),\n",
    "    pl.col('used_gb').median().round(2).alias('median_monthly_usage_gb'),\n",
    "    pl.col('used_gb').sum().round(2).alias('total_usage_gb'),\n",
    "    pl.col('used_gb').std().round(2).alias('usage_std_gb'),\n",
    "    pl.col('used_gb').min().round(2).alias('min_monthly_usage_gb'),\n",
    "    pl.col('used_gb').max().round(2).alias('max_monthly_usage_gb'),\n",
    "    pl.col('used_gb').quantile(0.25).round(2).alias('usage_q25_gb'),\n",
    "    pl.col('used_gb').quantile(0.75).round(2).alias('usage_q75_gb'),\n",
    "    \n",
    "    # ROAMING STATISTICS\n",
    "    pl.col('has_used_roaming').sum().alias('months_with_roaming'),\n",
    "    pl.col('has_used_roaming').mean().alias('roaming_frequency_ratio'),\n",
    "    pl.col('has_used_roaming').any().alias('ever_used_roaming'),\n",
    "    pl.col('has_used_roaming').all().alias('always_used_roaming'),\n",
    "    \n",
    "    # # USAGE INTENSITY CATEGORIES\n",
    "    (pl.col('used_gb') == 0).sum().alias('zero_usage_months'),\n",
    "    (pl.col('used_gb') > 0).sum().alias('active_usage_months'),\n",
    "])"
   ]
  },
  {
   "cell_type": "code",
   "execution_count": 12,
   "id": "61b6148d",
   "metadata": {},
   "outputs": [
    {
     "data": {
      "text/html": [
       "<div><style>\n",
       ".dataframe > thead > tr,\n",
       ".dataframe > tbody > tr {\n",
       "  text-align: right;\n",
       "  white-space: pre-wrap;\n",
       "}\n",
       "</style>\n",
       "<small>shape: (100_000, 15)</small><table border=\"1\" class=\"dataframe\"><thead><tr><th>rating_account_id</th><th>avg_monthly_usage_gb</th><th>median_monthly_usage_gb</th><th>total_usage_gb</th><th>usage_std_gb</th><th>min_monthly_usage_gb</th><th>max_monthly_usage_gb</th><th>usage_q25_gb</th><th>usage_q75_gb</th><th>months_with_roaming</th><th>roaming_frequency_ratio</th><th>ever_used_roaming</th><th>always_used_roaming</th><th>zero_usage_months</th><th>active_usage_months</th></tr><tr><td>str</td><td>f64</td><td>f64</td><td>f64</td><td>f64</td><td>f64</td><td>f64</td><td>f64</td><td>f64</td><td>u32</td><td>f64</td><td>bool</td><td>bool</td><td>u32</td><td>u32</td></tr></thead><tbody><tr><td>&quot;100010&quot;</td><td>0.75</td><td>0.85</td><td>3</td><td>0.24</td><td>0.4</td><td>0.9</td><td>0.8</td><td>0.9</td><td>0</td><td>0</td><td>false</td><td>false</td><td>0</td><td>4</td></tr><tr><td>&quot;100017&quot;</td><td>0.57</td><td>0.6</td><td>2.3</td><td>0.22</td><td>0.3</td><td>0.8</td><td>0.5</td><td>0.7</td><td>2</td><td>0.5</td><td>true</td><td>false</td><td>0</td><td>4</td></tr><tr><td>&quot;100036&quot;</td><td>0.57</td><td>0.55</td><td>2.3</td><td>0.43</td><td>0.2</td><td>1</td><td>0.2</td><td>0.9</td><td>1</td><td>0.25</td><td>true</td><td>false</td><td>0</td><td>4</td></tr><tr><td>&quot;100047&quot;</td><td>42.65</td><td>42.25</td><td>170.6</td><td>8.29</td><td>35.4</td><td>50.7</td><td>35.6</td><td>48.9</td><td>0</td><td>0</td><td>false</td><td>false</td><td>0</td><td>4</td></tr><tr><td>&quot;100064&quot;</td><td>0.62</td><td>0.7</td><td>2.5</td><td>0.22</td><td>0.3</td><td>0.8</td><td>0.7</td><td>0.7</td><td>1</td><td>0.25</td><td>true</td><td>false</td><td>0</td><td>4</td></tr><tr><td>&hellip;</td><td>&hellip;</td><td>&hellip;</td><td>&hellip;</td><td>&hellip;</td><td>&hellip;</td><td>&hellip;</td><td>&hellip;</td><td>&hellip;</td><td>&hellip;</td><td>&hellip;</td><td>&hellip;</td><td>&hellip;</td><td>&hellip;</td><td>&hellip;</td></tr><tr><td>&quot;999922&quot;</td><td>2.35</td><td>2.2</td><td>9.4</td><td>0.92</td><td>1.4</td><td>3.6</td><td>2.1</td><td>2.3</td><td>0</td><td>0</td><td>false</td><td>false</td><td>0</td><td>4</td></tr><tr><td>&quot;999934&quot;</td><td>11.9</td><td>13.3</td><td>47.6</td><td>3.67</td><td>6.5</td><td>14.5</td><td>12.8</td><td>13.8</td><td>3</td><td>0.75</td><td>true</td><td>false</td><td>0</td><td>4</td></tr><tr><td>&quot;999940&quot;</td><td>10.3</td><td>10.7</td><td>41.2</td><td>3.78</td><td>5.4</td><td>14.4</td><td>9.8</td><td>11.6</td><td>1</td><td>0.25</td><td>true</td><td>false</td><td>0</td><td>4</td></tr><tr><td>&quot;999956&quot;</td><td>12.8</td><td>13.35</td><td>51.2</td><td>1.66</td><td>10.4</td><td>14.1</td><td>13</td><td>13.7</td><td>0</td><td>0</td><td>false</td><td>false</td><td>0</td><td>4</td></tr><tr><td>&quot;999971&quot;</td><td>2.05</td><td>1.7</td><td>8.2</td><td>1.24</td><td>1.1</td><td>3.7</td><td>1.1</td><td>2.3</td><td>2</td><td>0.5</td><td>true</td><td>false</td><td>0</td><td>4</td></tr></tbody></table></div>"
      ],
      "text/plain": [
       "shape: (100_000, 15)\n",
       "┌───────────┬───────────┬───────────┬───────────┬───┬───────────┬───────────┬───────────┬──────────┐\n",
       "│ rating_ac ┆ avg_month ┆ median_mo ┆ total_usa ┆ … ┆ ever_used ┆ always_us ┆ zero_usag ┆ active_u │\n",
       "│ count_id  ┆ ly_usage_ ┆ nthly_usa ┆ ge_gb     ┆   ┆ _roaming  ┆ ed_roamin ┆ e_months  ┆ sage_mon │\n",
       "│ ---       ┆ gb        ┆ ge_gb     ┆ ---       ┆   ┆ ---       ┆ g         ┆ ---       ┆ ths      │\n",
       "│ str       ┆ ---       ┆ ---       ┆ f64       ┆   ┆ bool      ┆ ---       ┆ u32       ┆ ---      │\n",
       "│           ┆ f64       ┆ f64       ┆           ┆   ┆           ┆ bool      ┆           ┆ u32      │\n",
       "╞═══════════╪═══════════╪═══════════╪═══════════╪═══╪═══════════╪═══════════╪═══════════╪══════════╡\n",
       "│ 100010    ┆ 0.75      ┆ 0.85      ┆ 3         ┆ … ┆ false     ┆ false     ┆ 0         ┆ 4        │\n",
       "│ 100017    ┆ 0.57      ┆ 0.6       ┆ 2.3       ┆ … ┆ true      ┆ false     ┆ 0         ┆ 4        │\n",
       "│ 100036    ┆ 0.57      ┆ 0.55      ┆ 2.3       ┆ … ┆ true      ┆ false     ┆ 0         ┆ 4        │\n",
       "│ 100047    ┆ 42.65     ┆ 42.25     ┆ 170.6     ┆ … ┆ false     ┆ false     ┆ 0         ┆ 4        │\n",
       "│ 100064    ┆ 0.62      ┆ 0.7       ┆ 2.5       ┆ … ┆ true      ┆ false     ┆ 0         ┆ 4        │\n",
       "│ …         ┆ …         ┆ …         ┆ …         ┆ … ┆ …         ┆ …         ┆ …         ┆ …        │\n",
       "│ 999922    ┆ 2.35      ┆ 2.2       ┆ 9.4       ┆ … ┆ false     ┆ false     ┆ 0         ┆ 4        │\n",
       "│ 999934    ┆ 11.9      ┆ 13.3      ┆ 47.6      ┆ … ┆ true      ┆ false     ┆ 0         ┆ 4        │\n",
       "│ 999940    ┆ 10.3      ┆ 10.7      ┆ 41.2      ┆ … ┆ true      ┆ false     ┆ 0         ┆ 4        │\n",
       "│ 999956    ┆ 12.8      ┆ 13.35     ┆ 51.2      ┆ … ┆ false     ┆ false     ┆ 0         ┆ 4        │\n",
       "│ 999971    ┆ 2.05      ┆ 1.7       ┆ 8.2       ┆ … ┆ true      ┆ false     ┆ 0         ┆ 4        │\n",
       "└───────────┴───────────┴───────────┴───────────┴───┴───────────┴───────────┴───────────┴──────────┘"
      ]
     },
     "execution_count": 12,
     "metadata": {},
     "output_type": "execute_result"
    }
   ],
   "source": [
    "aggregated_features"
   ]
  },
  {
   "cell_type": "code",
   "execution_count": 13,
   "id": "d7d17fcd",
   "metadata": {},
   "outputs": [
    {
     "name": "stdout",
     "output_type": "stream",
     "text": [
      "CPU times: user 2.83 s, sys: 10 ms, total: 2.84 s\n",
      "Wall time: 1.63 s\n"
     ]
    }
   ],
   "source": [
    "%%time\n",
    "\n",
    "# CALCULATE TRENDS AND ROLLING METRICS\n",
    "trend_features = usage_info.group_by('rating_account_id').agg([\n",
    "    # ROLLING AVERAGES\n",
    "    # 2-month rolling average\n",
    "    pl.col('used_gb').rolling_mean_by(\n",
    "        'billed_period_month_d', window_size='2mo'\n",
    "    ).alias('avg_2month_rolling_usage_gb'),\n",
    "    \n",
    "    # 3-month rolling average\n",
    "        pl.col('used_gb').rolling_mean_by(\n",
    "        'billed_period_month_d', window_size='3mo'\n",
    "    ).alias('avg_3month_rolling_usage_gb'),\n",
    "\n",
    "    \n",
    "    # PERIOD-OVER-PERIOD DELTAS\n",
    "    (pl.col('used_gb') - pl.col('used_gb').shift(1)).alias('delta_1mo'),\n",
    "    (pl.col('used_gb') - pl.col('used_gb').shift(2)).alias('delta_2mo'),\n",
    "    (pl.col('used_gb') - pl.col('used_gb').shift(3)).alias('delta_3mo'),\n",
    "\n",
    "    # VOLATILITY METRICS\n",
    "    # Rolling standard deviation\n",
    "    pl.col('used_gb').rolling_std_by(\n",
    "        'billed_period_month_d', window_size='2mo'\n",
    "    ).alias('std_2month_rolling_usage_gb')\n",
    "])\n",
    "\n",
    "trend_features = trend_features.with_columns([\n",
    "    # delta_1mo statistics\n",
    "    pl.col('delta_1mo').list.mean().round(2).alias('avg_delta_1mo'),\n",
    "    pl.col('delta_1mo').list.std().round(2).alias('delta_1mo_volatility'),\n",
    "    pl.col('delta_1mo').list.max().round(2).alias('max_delta_1mo_increase'),\n",
    "    pl.col('delta_1mo').list.min().round(2).alias('max_delta_1mo_decrease'),\n",
    "    pl.col('delta_1mo').list.eval(pl.element() > 0).list.sum().alias('months_with_delta_1mo_increase'),\n",
    "    pl.col('delta_1mo').list.eval(pl.element() < 0).list.sum().alias('months_with_delta_1mo_decrease'),\n",
    "    pl.col('delta_1mo').list.eval(pl.element() == 0).list.sum().alias('months_with_no_delta_1mo_change'),\n",
    "\n",
    "    # delta_2mo statistics\n",
    "    pl.col('delta_2mo').list.mean().round(2).alias('avg_delta_2mo'),\n",
    "    pl.col('delta_2mo').list.std().round(2).alias('delta_2mo_volatility'),\n",
    "    pl.col('delta_2mo').list.max().round(2).alias('max_delta_2mo_increase'),\n",
    "    pl.col('delta_2mo').list.min().round(2).alias('max_delta_2mo_decrease'),\n",
    "    pl.col('delta_2mo').list.eval(pl.element() > 0).list.sum().alias('months_with_delta_2mo_increase'),\n",
    "    pl.col('delta_2mo').list.eval(pl.element() < 0).list.sum().alias('months_with_delta_2mo_decrease'),\n",
    "    pl.col('delta_2mo').list.eval(pl.element() == 0).list.sum().alias('months_with_no_delta_2mo_change'),\n",
    "\n",
    "    # delta_3mo statistics\n",
    "    pl.col('delta_3mo').list.mean().round(2).alias('avg_delta_3mo'),\n",
    "    pl.col('delta_3mo').list.max().round(2).alias('max_delta_3mo_increase'),\n",
    "    pl.col('delta_3mo').list.min().round(2).alias('max_delta_3mo_decrease'),\n",
    "    pl.col('delta_3mo').list.eval(pl.element() > 0).list.sum().alias('months_with_delta_3mo_increase'),\n",
    "    pl.col('delta_3mo').list.eval(pl.element() < 0).list.sum().alias('months_with_delta_3mo_decrease'),\n",
    "    pl.col('delta_3mo').list.eval(pl.element() == 0).list.sum().alias('months_with_no_delta_3mo_change'),\n",
    "])\n",
    "\n",
    "# The following block extracts the last N values from the rolling/statistical lists for each account.\n",
    "# Each column contains the most recent, second most recent, etc. value from the corresponding list\n",
    "\n",
    "trend_features = trend_features.with_columns([\n",
    "    pl.col('avg_2month_rolling_usage_gb').list.get(-(i+1)).round(2).alias(f'last_{i+1}_2mo_rolling_avg')\n",
    "    for i in range(3)\n",
    "]).drop('avg_2month_rolling_usage_gb')\n",
    "\n",
    "trend_features = trend_features.with_columns([\n",
    "    pl.col('avg_3month_rolling_usage_gb').list.get(-(i+1)).round(2).alias(f'last_{i+1}_3mo_rolling_avg')\n",
    "    for i in range(2)\n",
    "]).drop('avg_3month_rolling_usage_gb')\n",
    "\n",
    "trend_features = trend_features.with_columns([\n",
    "    pl.col('delta_1mo').list.get(-(i+1)).round(2).alias(f'last_{i+1}_delta_1mo')\n",
    "    for i in range(3)\n",
    "]).drop('delta_1mo')\n",
    "\n",
    "trend_features = trend_features.with_columns([\n",
    "    pl.col('delta_2mo').list.get(-(i+1)).round(2).alias(f'last_{i+1}_delta_2mo')\n",
    "    for i in range(2)\n",
    "]).drop('delta_2mo')\n",
    "\n",
    "trend_features = trend_features.with_columns([\n",
    "    pl.col('delta_3mo').list.get(-(i+1)).round(2).alias(f'last_{i+1}_delta_3mo')\n",
    "    for i in range(1)\n",
    "]).drop('delta_3mo')\n",
    "\n",
    "trend_features = trend_features.with_columns([\n",
    "    pl.col('std_2month_rolling_usage_gb').list.get(-(i+1)).round(2).alias(f'last_{i+1}_2mo_rolling_stdev')\n",
    "    for i in range(3)\n",
    "]).drop('std_2month_rolling_usage_gb')"
   ]
  },
  {
   "cell_type": "code",
   "execution_count": 14,
   "id": "dbf4932f",
   "metadata": {},
   "outputs": [
    {
     "data": {
      "text/html": [
       "<div><style>\n",
       ".dataframe > thead > tr,\n",
       ".dataframe > tbody > tr {\n",
       "  text-align: right;\n",
       "  white-space: pre-wrap;\n",
       "}\n",
       "</style>\n",
       "<small>shape: (100_000, 35)</small><table border=\"1\" class=\"dataframe\"><thead><tr><th>rating_account_id</th><th>avg_delta_1mo</th><th>delta_1mo_volatility</th><th>max_delta_1mo_increase</th><th>max_delta_1mo_decrease</th><th>months_with_delta_1mo_increase</th><th>months_with_delta_1mo_decrease</th><th>months_with_no_delta_1mo_change</th><th>avg_delta_2mo</th><th>delta_2mo_volatility</th><th>max_delta_2mo_increase</th><th>max_delta_2mo_decrease</th><th>months_with_delta_2mo_increase</th><th>months_with_delta_2mo_decrease</th><th>months_with_no_delta_2mo_change</th><th>avg_delta_3mo</th><th>max_delta_3mo_increase</th><th>max_delta_3mo_decrease</th><th>months_with_delta_3mo_increase</th><th>months_with_delta_3mo_decrease</th><th>months_with_no_delta_3mo_change</th><th>last_1_2mo_rolling_avg</th><th>last_2_2mo_rolling_avg</th><th>last_3_2mo_rolling_avg</th><th>last_1_3mo_rolling_avg</th><th>last_2_3mo_rolling_avg</th><th>last_1_delta_1mo</th><th>last_2_delta_1mo</th><th>last_3_delta_1mo</th><th>last_1_delta_2mo</th><th>last_2_delta_2mo</th><th>last_1_delta_3mo</th><th>last_1_2mo_rolling_stdev</th><th>last_2_2mo_rolling_stdev</th><th>last_3_2mo_rolling_stdev</th></tr><tr><td>str</td><td>f64</td><td>f64</td><td>f64</td><td>f64</td><td>u32</td><td>u32</td><td>u32</td><td>f64</td><td>f64</td><td>f64</td><td>f64</td><td>u32</td><td>u32</td><td>u32</td><td>f64</td><td>f64</td><td>f64</td><td>u32</td><td>u32</td><td>u32</td><td>f64</td><td>f64</td><td>f64</td><td>f64</td><td>f64</td><td>f64</td><td>f64</td><td>f64</td><td>f64</td><td>f64</td><td>f64</td><td>f64</td><td>f64</td><td>f64</td></tr></thead><tbody><tr><td>&quot;100010&quot;</td><td>0</td><td>0.46</td><td>0.5</td><td>-0.4</td><td>1</td><td>2</td><td>0</td><td>-0.2</td><td>0.42</td><td>0.1</td><td>-0.5</td><td>1</td><td>1</td><td>0</td><td>0</td><td>0</td><td>0</td><td>0</td><td>0</td><td>1</td><td>0.65</td><td>0.6</td><td>0.85</td><td>0.7</td><td>0.7</td><td>0.5</td><td>-0.4</td><td>-0.1</td><td>0.1</td><td>-0.5</td><td>0</td><td>0.35</td><td>0.28</td><td>0.07</td></tr><tr><td>&quot;100017&quot;</td><td>-0.13</td><td>0.4</td><td>0.3</td><td>-0.5</td><td>1</td><td>2</td><td>0</td><td>-0.05</td><td>0.21</td><td>0.1</td><td>-0.2</td><td>1</td><td>1</td><td>0</td><td>-0.4</td><td>-0.4</td><td>-0.4</td><td>0</td><td>1</td><td>0</td><td>0.55</td><td>0.65</td><td>0.6</td><td>0.53</td><td>0.67</td><td>-0.5</td><td>0.3</td><td>-0.2</td><td>-0.2</td><td>0.1</td><td>-0.4</td><td>0.35</td><td>0.21</td><td>0.14</td></tr><tr><td>&quot;100036&quot;</td><td>0.03</td><td>0.75</td><td>0.8</td><td>-0.7</td><td>1</td><td>1</td><td>1</td><td>0.05</td><td>1.06</td><td>0.8</td><td>-0.7</td><td>1</td><td>1</td><td>0</td><td>0.1</td><td>0.1</td><td>0.1</td><td>1</td><td>0</td><td>0</td><td>0.6</td><td>0.2</td><td>0.55</td><td>0.47</td><td>0.43</td><td>0.8</td><td>0</td><td>-0.7</td><td>0.8</td><td>-0.7</td><td>0.1</td><td>0.57</td><td>0</td><td>0.49</td></tr><tr><td>&quot;100047&quot;</td><td>5.03</td><td>16.08</td><td>15.3</td><td>-13.5</td><td>2</td><td>1</td><td>0</td><td>0.8</td><td>1.41</td><td>1.8</td><td>-0.2</td><td>1</td><td>1</td><td>0</td><td>15.1</td><td>15.1</td><td>15.1</td><td>1</td><td>0</td><td>0</td><td>43.05</td><td>42.15</td><td>42.25</td><td>45</td><td>39.97</td><td>15.3</td><td>-13.5</td><td>13.3</td><td>1.8</td><td>-0.2</td><td>15.1</td><td>10.82</td><td>9.55</td><td>9.4</td></tr><tr><td>&quot;100064&quot;</td><td>0.03</td><td>0.45</td><td>0.5</td><td>-0.4</td><td>1</td><td>1</td><td>1</td><td>-0.15</td><td>0.35</td><td>0.1</td><td>-0.4</td><td>1</td><td>1</td><td>0</td><td>0.1</td><td>0.1</td><td>0.1</td><td>1</td><td>0</td><td>0</td><td>0.55</td><td>0.5</td><td>0.7</td><td>0.6</td><td>0.57</td><td>0.5</td><td>-0.4</td><td>0</td><td>0.1</td><td>-0.4</td><td>0.1</td><td>0.35</td><td>0.28</td><td>0</td></tr><tr><td>&hellip;</td><td>&hellip;</td><td>&hellip;</td><td>&hellip;</td><td>&hellip;</td><td>&hellip;</td><td>&hellip;</td><td>&hellip;</td><td>&hellip;</td><td>&hellip;</td><td>&hellip;</td><td>&hellip;</td><td>&hellip;</td><td>&hellip;</td><td>&hellip;</td><td>&hellip;</td><td>&hellip;</td><td>&hellip;</td><td>&hellip;</td><td>&hellip;</td><td>&hellip;</td><td>&hellip;</td><td>&hellip;</td><td>&hellip;</td><td>&hellip;</td><td>&hellip;</td><td>&hellip;</td><td>&hellip;</td><td>&hellip;</td><td>&hellip;</td><td>&hellip;</td><td>&hellip;</td><td>&hellip;</td><td>&hellip;</td><td>&hellip;</td></tr><tr><td>&quot;999922&quot;</td><td>-0.07</td><td>1.99</td><td>2.2</td><td>-1.5</td><td>1</td><td>2</td><td>0</td><td>1</td><td>0.42</td><td>1.3</td><td>0.7</td><td>2</td><td>0</td><td>0</td><td>-0.2</td><td>-0.2</td><td>-0.2</td><td>0</td><td>1</td><td>0</td><td>2.85</td><td>2.5</td><td>1.85</td><td>2.37</td><td>2.43</td><td>-1.5</td><td>2.2</td><td>-0.9</td><td>0.7</td><td>1.3</td><td>-0.2</td><td>1.06</td><td>1.56</td><td>0.64</td></tr><tr><td>&quot;999934&quot;</td><td>-2.1</td><td>5.11</td><td>1</td><td>-8</td><td>2</td><td>1</td><td>0</td><td>-2.8</td><td>6.36</td><td>1.7</td><td>-7.3</td><td>1</td><td>1</td><td>0</td><td>-6.3</td><td>-6.3</td><td>-6.3</td><td>0</td><td>1</td><td>0</td><td>10.5</td><td>14.15</td><td>13.3</td><td>11.6</td><td>13.7</td><td>-8</td><td>0.7</td><td>1</td><td>-7.3</td><td>1.7</td><td>-6.3</td><td>5.66</td><td>0.49</td><td>0.71</td></tr><tr><td>&quot;999940&quot;</td><td>1.53</td><td>7.6</td><td>9</td><td>-6.2</td><td>2</td><td>1</td><td>0</td><td>-0.8</td><td>5.09</td><td>2.8</td><td>-4.4</td><td>1</td><td>1</td><td>0</td><td>4.6</td><td>4.6</td><td>4.6</td><td>1</td><td>0</td><td>0</td><td>9.9</td><td>8.5</td><td>10.7</td><td>10.47</td><td>8.93</td><td>9</td><td>-6.2</td><td>1.8</td><td>2.8</td><td>-4.4</td><td>4.6</td><td>6.36</td><td>4.38</td><td>1.27</td></tr><tr><td>&quot;999956&quot;</td><td>0.37</td><td>2.95</td><td>3.3</td><td>-2.6</td><td>2</td><td>1</td><td>0</td><td>2.2</td><td>2.12</td><td>3.7</td><td>0.7</td><td>2</td><td>0</td><td>0</td><td>1.1</td><td>1.1</td><td>1.1</td><td>1</td><td>0</td><td>0</td><td>13.9</td><td>12.05</td><td>11.7</td><td>12.73</td><td>12.37</td><td>0.4</td><td>3.3</td><td>-2.6</td><td>3.7</td><td>0.7</td><td>1.1</td><td>0.28</td><td>2.33</td><td>1.84</td></tr><tr><td>&quot;999971&quot;</td><td>-0.87</td><td>0.76</td><td>0</td><td>-1.4</td><td>0</td><td>2</td><td>1</td><td>-1.9</td><td>0.99</td><td>-1.2</td><td>-2.6</td><td>0</td><td>2</td><td>0</td><td>-2.6</td><td>-2.6</td><td>-2.6</td><td>0</td><td>1</td><td>0</td><td>1.1</td><td>1.7</td><td>3</td><td>1.5</td><td>2.37</td><td>0</td><td>-1.2</td><td>-1.4</td><td>-1.2</td><td>-2.6</td><td>-2.6</td><td>0</td><td>0.85</td><td>0.99</td></tr></tbody></table></div>"
      ],
      "text/plain": [
       "shape: (100_000, 35)\n",
       "┌───────────┬───────────┬───────────┬───────────┬───┬───────────┬───────────┬───────────┬──────────┐\n",
       "│ rating_ac ┆ avg_delta ┆ delta_1mo ┆ max_delta ┆ … ┆ last_1_de ┆ last_1_2m ┆ last_2_2m ┆ last_3_2 │\n",
       "│ count_id  ┆ _1mo      ┆ _volatili ┆ _1mo_incr ┆   ┆ lta_3mo   ┆ o_rolling ┆ o_rolling ┆ mo_rolli │\n",
       "│ ---       ┆ ---       ┆ ty        ┆ ease      ┆   ┆ ---       ┆ _stdev    ┆ _stdev    ┆ ng_stdev │\n",
       "│ str       ┆ f64       ┆ ---       ┆ ---       ┆   ┆ f64       ┆ ---       ┆ ---       ┆ ---      │\n",
       "│           ┆           ┆ f64       ┆ f64       ┆   ┆           ┆ f64       ┆ f64       ┆ f64      │\n",
       "╞═══════════╪═══════════╪═══════════╪═══════════╪═══╪═══════════╪═══════════╪═══════════╪══════════╡\n",
       "│ 100010    ┆ 0         ┆ 0.46      ┆ 0.5       ┆ … ┆ 0         ┆ 0.35      ┆ 0.28      ┆ 0.07     │\n",
       "│ 100017    ┆ -0.13     ┆ 0.4       ┆ 0.3       ┆ … ┆ -0.4      ┆ 0.35      ┆ 0.21      ┆ 0.14     │\n",
       "│ 100036    ┆ 0.03      ┆ 0.75      ┆ 0.8       ┆ … ┆ 0.1       ┆ 0.57      ┆ 0         ┆ 0.49     │\n",
       "│ 100047    ┆ 5.03      ┆ 16.08     ┆ 15.3      ┆ … ┆ 15.1      ┆ 10.82     ┆ 9.55      ┆ 9.4      │\n",
       "│ 100064    ┆ 0.03      ┆ 0.45      ┆ 0.5       ┆ … ┆ 0.1       ┆ 0.35      ┆ 0.28      ┆ 0        │\n",
       "│ …         ┆ …         ┆ …         ┆ …         ┆ … ┆ …         ┆ …         ┆ …         ┆ …        │\n",
       "│ 999922    ┆ -0.07     ┆ 1.99      ┆ 2.2       ┆ … ┆ -0.2      ┆ 1.06      ┆ 1.56      ┆ 0.64     │\n",
       "│ 999934    ┆ -2.1      ┆ 5.11      ┆ 1         ┆ … ┆ -6.3      ┆ 5.66      ┆ 0.49      ┆ 0.71     │\n",
       "│ 999940    ┆ 1.53      ┆ 7.6       ┆ 9         ┆ … ┆ 4.6       ┆ 6.36      ┆ 4.38      ┆ 1.27     │\n",
       "│ 999956    ┆ 0.37      ┆ 2.95      ┆ 3.3       ┆ … ┆ 1.1       ┆ 0.28      ┆ 2.33      ┆ 1.84     │\n",
       "│ 999971    ┆ -0.87     ┆ 0.76      ┆ 0         ┆ … ┆ -2.6      ┆ 0         ┆ 0.85      ┆ 0.99     │\n",
       "└───────────┴───────────┴───────────┴───────────┴───┴───────────┴───────────┴───────────┴──────────┘"
      ]
     },
     "execution_count": 14,
     "metadata": {},
     "output_type": "execute_result"
    }
   ],
   "source": [
    "trend_features"
   ]
  },
  {
   "cell_type": "code",
   "execution_count": 15,
   "id": "cd461e3b",
   "metadata": {},
   "outputs": [],
   "source": [
    "usage_features = aggregated_features.join(\n",
    "    trend_features, \n",
    "    on='rating_account_id', \n",
    "    how='left'\n",
    ").join(\n",
    "    month_usage,\n",
    "    on='rating_account_id',\n",
    "    how='left'\n",
    ")"
   ]
  },
  {
   "cell_type": "code",
   "execution_count": 16,
   "id": "59272474",
   "metadata": {},
   "outputs": [
    {
     "data": {
      "text/html": [
       "<div><style>\n",
       ".dataframe > thead > tr,\n",
       ".dataframe > tbody > tr {\n",
       "  text-align: right;\n",
       "  white-space: pre-wrap;\n",
       "}\n",
       "</style>\n",
       "<small>shape: (100_000, 53)</small><table border=\"1\" class=\"dataframe\"><thead><tr><th>rating_account_id</th><th>avg_monthly_usage_gb</th><th>median_monthly_usage_gb</th><th>total_usage_gb</th><th>usage_std_gb</th><th>min_monthly_usage_gb</th><th>max_monthly_usage_gb</th><th>usage_q25_gb</th><th>usage_q75_gb</th><th>months_with_roaming</th><th>roaming_frequency_ratio</th><th>ever_used_roaming</th><th>always_used_roaming</th><th>zero_usage_months</th><th>active_usage_months</th><th>avg_delta_1mo</th><th>delta_1mo_volatility</th><th>max_delta_1mo_increase</th><th>max_delta_1mo_decrease</th><th>months_with_delta_1mo_increase</th><th>months_with_delta_1mo_decrease</th><th>months_with_no_delta_1mo_change</th><th>avg_delta_2mo</th><th>delta_2mo_volatility</th><th>max_delta_2mo_increase</th><th>max_delta_2mo_decrease</th><th>months_with_delta_2mo_increase</th><th>months_with_delta_2mo_decrease</th><th>months_with_no_delta_2mo_change</th><th>avg_delta_3mo</th><th>max_delta_3mo_increase</th><th>max_delta_3mo_decrease</th><th>months_with_delta_3mo_increase</th><th>months_with_delta_3mo_decrease</th><th>months_with_no_delta_3mo_change</th><th>last_1_2mo_rolling_avg</th><th>last_2_2mo_rolling_avg</th><th>last_3_2mo_rolling_avg</th><th>last_1_3mo_rolling_avg</th><th>last_2_3mo_rolling_avg</th><th>last_1_delta_1mo</th><th>last_2_delta_1mo</th><th>last_3_delta_1mo</th><th>last_1_delta_2mo</th><th>last_2_delta_2mo</th><th>last_1_delta_3mo</th><th>last_1_2mo_rolling_stdev</th><th>last_2_2mo_rolling_stdev</th><th>last_3_2mo_rolling_stdev</th><th>last_1_month_usage_gb</th><th>last_2_month_usage_gb</th><th>last_3_month_usage_gb</th><th>last_4_month_usage_gb</th></tr><tr><td>str</td><td>f64</td><td>f64</td><td>f64</td><td>f64</td><td>f64</td><td>f64</td><td>f64</td><td>f64</td><td>u32</td><td>f64</td><td>bool</td><td>bool</td><td>u32</td><td>u32</td><td>f64</td><td>f64</td><td>f64</td><td>f64</td><td>u32</td><td>u32</td><td>u32</td><td>f64</td><td>f64</td><td>f64</td><td>f64</td><td>u32</td><td>u32</td><td>u32</td><td>f64</td><td>f64</td><td>f64</td><td>u32</td><td>u32</td><td>u32</td><td>f64</td><td>f64</td><td>f64</td><td>f64</td><td>f64</td><td>f64</td><td>f64</td><td>f64</td><td>f64</td><td>f64</td><td>f64</td><td>f64</td><td>f64</td><td>f64</td><td>f64</td><td>f64</td><td>f64</td><td>f64</td></tr></thead><tbody><tr><td>&quot;100010&quot;</td><td>0.75</td><td>0.85</td><td>3</td><td>0.24</td><td>0.4</td><td>0.9</td><td>0.8</td><td>0.9</td><td>0</td><td>0</td><td>false</td><td>false</td><td>0</td><td>4</td><td>0</td><td>0.46</td><td>0.5</td><td>-0.4</td><td>1</td><td>2</td><td>0</td><td>-0.2</td><td>0.42</td><td>0.1</td><td>-0.5</td><td>1</td><td>1</td><td>0</td><td>0</td><td>0</td><td>0</td><td>0</td><td>0</td><td>1</td><td>0.65</td><td>0.6</td><td>0.85</td><td>0.7</td><td>0.7</td><td>0.5</td><td>-0.4</td><td>-0.1</td><td>0.1</td><td>-0.5</td><td>0</td><td>0.35</td><td>0.28</td><td>0.07</td><td>0.9</td><td>0.8</td><td>0.4</td><td>0.9</td></tr><tr><td>&quot;100017&quot;</td><td>0.57</td><td>0.6</td><td>2.3</td><td>0.22</td><td>0.3</td><td>0.8</td><td>0.5</td><td>0.7</td><td>2</td><td>0.5</td><td>true</td><td>false</td><td>0</td><td>4</td><td>-0.13</td><td>0.4</td><td>0.3</td><td>-0.5</td><td>1</td><td>2</td><td>0</td><td>-0.05</td><td>0.21</td><td>0.1</td><td>-0.2</td><td>1</td><td>1</td><td>0</td><td>-0.4</td><td>-0.4</td><td>-0.4</td><td>0</td><td>1</td><td>0</td><td>0.55</td><td>0.65</td><td>0.6</td><td>0.53</td><td>0.67</td><td>-0.5</td><td>0.3</td><td>-0.2</td><td>-0.2</td><td>0.1</td><td>-0.4</td><td>0.35</td><td>0.21</td><td>0.14</td><td>0.7</td><td>0.5</td><td>0.8</td><td>0.3</td></tr><tr><td>&quot;100036&quot;</td><td>0.57</td><td>0.55</td><td>2.3</td><td>0.43</td><td>0.2</td><td>1</td><td>0.2</td><td>0.9</td><td>1</td><td>0.25</td><td>true</td><td>false</td><td>0</td><td>4</td><td>0.03</td><td>0.75</td><td>0.8</td><td>-0.7</td><td>1</td><td>1</td><td>1</td><td>0.05</td><td>1.06</td><td>0.8</td><td>-0.7</td><td>1</td><td>1</td><td>0</td><td>0.1</td><td>0.1</td><td>0.1</td><td>1</td><td>0</td><td>0</td><td>0.6</td><td>0.2</td><td>0.55</td><td>0.47</td><td>0.43</td><td>0.8</td><td>0</td><td>-0.7</td><td>0.8</td><td>-0.7</td><td>0.1</td><td>0.57</td><td>0</td><td>0.49</td><td>0.9</td><td>0.2</td><td>0.2</td><td>1</td></tr><tr><td>&quot;100047&quot;</td><td>42.65</td><td>42.25</td><td>170.6</td><td>8.29</td><td>35.4</td><td>50.7</td><td>35.6</td><td>48.9</td><td>0</td><td>0</td><td>false</td><td>false</td><td>0</td><td>4</td><td>5.03</td><td>16.08</td><td>15.3</td><td>-13.5</td><td>2</td><td>1</td><td>0</td><td>0.8</td><td>1.41</td><td>1.8</td><td>-0.2</td><td>1</td><td>1</td><td>0</td><td>15.1</td><td>15.1</td><td>15.1</td><td>1</td><td>0</td><td>0</td><td>43.05</td><td>42.15</td><td>42.25</td><td>45</td><td>39.97</td><td>15.3</td><td>-13.5</td><td>13.3</td><td>1.8</td><td>-0.2</td><td>15.1</td><td>10.82</td><td>9.55</td><td>9.4</td><td>35.6</td><td>48.9</td><td>35.4</td><td>50.7</td></tr><tr><td>&quot;100064&quot;</td><td>0.62</td><td>0.7</td><td>2.5</td><td>0.22</td><td>0.3</td><td>0.8</td><td>0.7</td><td>0.7</td><td>1</td><td>0.25</td><td>true</td><td>false</td><td>0</td><td>4</td><td>0.03</td><td>0.45</td><td>0.5</td><td>-0.4</td><td>1</td><td>1</td><td>1</td><td>-0.15</td><td>0.35</td><td>0.1</td><td>-0.4</td><td>1</td><td>1</td><td>0</td><td>0.1</td><td>0.1</td><td>0.1</td><td>1</td><td>0</td><td>0</td><td>0.55</td><td>0.5</td><td>0.7</td><td>0.6</td><td>0.57</td><td>0.5</td><td>-0.4</td><td>0</td><td>0.1</td><td>-0.4</td><td>0.1</td><td>0.35</td><td>0.28</td><td>0</td><td>0.7</td><td>0.7</td><td>0.3</td><td>0.8</td></tr><tr><td>&hellip;</td><td>&hellip;</td><td>&hellip;</td><td>&hellip;</td><td>&hellip;</td><td>&hellip;</td><td>&hellip;</td><td>&hellip;</td><td>&hellip;</td><td>&hellip;</td><td>&hellip;</td><td>&hellip;</td><td>&hellip;</td><td>&hellip;</td><td>&hellip;</td><td>&hellip;</td><td>&hellip;</td><td>&hellip;</td><td>&hellip;</td><td>&hellip;</td><td>&hellip;</td><td>&hellip;</td><td>&hellip;</td><td>&hellip;</td><td>&hellip;</td><td>&hellip;</td><td>&hellip;</td><td>&hellip;</td><td>&hellip;</td><td>&hellip;</td><td>&hellip;</td><td>&hellip;</td><td>&hellip;</td><td>&hellip;</td><td>&hellip;</td><td>&hellip;</td><td>&hellip;</td><td>&hellip;</td><td>&hellip;</td><td>&hellip;</td><td>&hellip;</td><td>&hellip;</td><td>&hellip;</td><td>&hellip;</td><td>&hellip;</td><td>&hellip;</td><td>&hellip;</td><td>&hellip;</td><td>&hellip;</td><td>&hellip;</td><td>&hellip;</td><td>&hellip;</td><td>&hellip;</td></tr><tr><td>&quot;999922&quot;</td><td>2.35</td><td>2.2</td><td>9.4</td><td>0.92</td><td>1.4</td><td>3.6</td><td>2.1</td><td>2.3</td><td>0</td><td>0</td><td>false</td><td>false</td><td>0</td><td>4</td><td>-0.07</td><td>1.99</td><td>2.2</td><td>-1.5</td><td>1</td><td>2</td><td>0</td><td>1</td><td>0.42</td><td>1.3</td><td>0.7</td><td>2</td><td>0</td><td>0</td><td>-0.2</td><td>-0.2</td><td>-0.2</td><td>0</td><td>1</td><td>0</td><td>2.85</td><td>2.5</td><td>1.85</td><td>2.37</td><td>2.43</td><td>-1.5</td><td>2.2</td><td>-0.9</td><td>0.7</td><td>1.3</td><td>-0.2</td><td>1.06</td><td>1.56</td><td>0.64</td><td>2.3</td><td>1.4</td><td>3.6</td><td>2.1</td></tr><tr><td>&quot;999934&quot;</td><td>11.9</td><td>13.3</td><td>47.6</td><td>3.67</td><td>6.5</td><td>14.5</td><td>12.8</td><td>13.8</td><td>3</td><td>0.75</td><td>true</td><td>false</td><td>0</td><td>4</td><td>-2.1</td><td>5.11</td><td>1</td><td>-8</td><td>2</td><td>1</td><td>0</td><td>-2.8</td><td>6.36</td><td>1.7</td><td>-7.3</td><td>1</td><td>1</td><td>0</td><td>-6.3</td><td>-6.3</td><td>-6.3</td><td>0</td><td>1</td><td>0</td><td>10.5</td><td>14.15</td><td>13.3</td><td>11.6</td><td>13.7</td><td>-8</td><td>0.7</td><td>1</td><td>-7.3</td><td>1.7</td><td>-6.3</td><td>5.66</td><td>0.49</td><td>0.71</td><td>12.8</td><td>13.8</td><td>14.5</td><td>6.5</td></tr><tr><td>&quot;999940&quot;</td><td>10.3</td><td>10.7</td><td>41.2</td><td>3.78</td><td>5.4</td><td>14.4</td><td>9.8</td><td>11.6</td><td>1</td><td>0.25</td><td>true</td><td>false</td><td>0</td><td>4</td><td>1.53</td><td>7.6</td><td>9</td><td>-6.2</td><td>2</td><td>1</td><td>0</td><td>-0.8</td><td>5.09</td><td>2.8</td><td>-4.4</td><td>1</td><td>1</td><td>0</td><td>4.6</td><td>4.6</td><td>4.6</td><td>1</td><td>0</td><td>0</td><td>9.9</td><td>8.5</td><td>10.7</td><td>10.47</td><td>8.93</td><td>9</td><td>-6.2</td><td>1.8</td><td>2.8</td><td>-4.4</td><td>4.6</td><td>6.36</td><td>4.38</td><td>1.27</td><td>9.8</td><td>11.6</td><td>5.4</td><td>14.4</td></tr><tr><td>&quot;999956&quot;</td><td>12.8</td><td>13.35</td><td>51.2</td><td>1.66</td><td>10.4</td><td>14.1</td><td>13</td><td>13.7</td><td>0</td><td>0</td><td>false</td><td>false</td><td>0</td><td>4</td><td>0.37</td><td>2.95</td><td>3.3</td><td>-2.6</td><td>2</td><td>1</td><td>0</td><td>2.2</td><td>2.12</td><td>3.7</td><td>0.7</td><td>2</td><td>0</td><td>0</td><td>1.1</td><td>1.1</td><td>1.1</td><td>1</td><td>0</td><td>0</td><td>13.9</td><td>12.05</td><td>11.7</td><td>12.73</td><td>12.37</td><td>0.4</td><td>3.3</td><td>-2.6</td><td>3.7</td><td>0.7</td><td>1.1</td><td>0.28</td><td>2.33</td><td>1.84</td><td>13</td><td>10.4</td><td>13.7</td><td>14.1</td></tr><tr><td>&quot;999971&quot;</td><td>2.05</td><td>1.7</td><td>8.2</td><td>1.24</td><td>1.1</td><td>3.7</td><td>1.1</td><td>2.3</td><td>2</td><td>0.5</td><td>true</td><td>false</td><td>0</td><td>4</td><td>-0.87</td><td>0.76</td><td>0</td><td>-1.4</td><td>0</td><td>2</td><td>1</td><td>-1.9</td><td>0.99</td><td>-1.2</td><td>-2.6</td><td>0</td><td>2</td><td>0</td><td>-2.6</td><td>-2.6</td><td>-2.6</td><td>0</td><td>1</td><td>0</td><td>1.1</td><td>1.7</td><td>3</td><td>1.5</td><td>2.37</td><td>0</td><td>-1.2</td><td>-1.4</td><td>-1.2</td><td>-2.6</td><td>-2.6</td><td>0</td><td>0.85</td><td>0.99</td><td>3.7</td><td>2.3</td><td>1.1</td><td>1.1</td></tr></tbody></table></div>"
      ],
      "text/plain": [
       "shape: (100_000, 53)\n",
       "┌───────────┬───────────┬───────────┬───────────┬───┬───────────┬───────────┬───────────┬──────────┐\n",
       "│ rating_ac ┆ avg_month ┆ median_mo ┆ total_usa ┆ … ┆ last_1_mo ┆ last_2_mo ┆ last_3_mo ┆ last_4_m │\n",
       "│ count_id  ┆ ly_usage_ ┆ nthly_usa ┆ ge_gb     ┆   ┆ nth_usage ┆ nth_usage ┆ nth_usage ┆ onth_usa │\n",
       "│ ---       ┆ gb        ┆ ge_gb     ┆ ---       ┆   ┆ _gb       ┆ _gb       ┆ _gb       ┆ ge_gb    │\n",
       "│ str       ┆ ---       ┆ ---       ┆ f64       ┆   ┆ ---       ┆ ---       ┆ ---       ┆ ---      │\n",
       "│           ┆ f64       ┆ f64       ┆           ┆   ┆ f64       ┆ f64       ┆ f64       ┆ f64      │\n",
       "╞═══════════╪═══════════╪═══════════╪═══════════╪═══╪═══════════╪═══════════╪═══════════╪══════════╡\n",
       "│ 100010    ┆ 0.75      ┆ 0.85      ┆ 3         ┆ … ┆ 0.9       ┆ 0.8       ┆ 0.4       ┆ 0.9      │\n",
       "│ 100017    ┆ 0.57      ┆ 0.6       ┆ 2.3       ┆ … ┆ 0.7       ┆ 0.5       ┆ 0.8       ┆ 0.3      │\n",
       "│ 100036    ┆ 0.57      ┆ 0.55      ┆ 2.3       ┆ … ┆ 0.9       ┆ 0.2       ┆ 0.2       ┆ 1        │\n",
       "│ 100047    ┆ 42.65     ┆ 42.25     ┆ 170.6     ┆ … ┆ 35.6      ┆ 48.9      ┆ 35.4      ┆ 50.7     │\n",
       "│ 100064    ┆ 0.62      ┆ 0.7       ┆ 2.5       ┆ … ┆ 0.7       ┆ 0.7       ┆ 0.3       ┆ 0.8      │\n",
       "│ …         ┆ …         ┆ …         ┆ …         ┆ … ┆ …         ┆ …         ┆ …         ┆ …        │\n",
       "│ 999922    ┆ 2.35      ┆ 2.2       ┆ 9.4       ┆ … ┆ 2.3       ┆ 1.4       ┆ 3.6       ┆ 2.1      │\n",
       "│ 999934    ┆ 11.9      ┆ 13.3      ┆ 47.6      ┆ … ┆ 12.8      ┆ 13.8      ┆ 14.5      ┆ 6.5      │\n",
       "│ 999940    ┆ 10.3      ┆ 10.7      ┆ 41.2      ┆ … ┆ 9.8       ┆ 11.6      ┆ 5.4       ┆ 14.4     │\n",
       "│ 999956    ┆ 12.8      ┆ 13.35     ┆ 51.2      ┆ … ┆ 13        ┆ 10.4      ┆ 13.7      ┆ 14.1     │\n",
       "│ 999971    ┆ 2.05      ┆ 1.7       ┆ 8.2       ┆ … ┆ 3.7       ┆ 2.3       ┆ 1.1       ┆ 1.1      │\n",
       "└───────────┴───────────┴───────────┴───────────┴───┴───────────┴───────────┴───────────┴──────────┘"
      ]
     },
     "execution_count": 16,
     "metadata": {},
     "output_type": "execute_result"
    }
   ],
   "source": [
    "usage_features"
   ]
  },
  {
   "cell_type": "code",
   "execution_count": 17,
   "id": "e265851b",
   "metadata": {},
   "outputs": [
    {
     "data": {
      "text/plain": [
       "(100000, 53)"
      ]
     },
     "execution_count": 17,
     "metadata": {},
     "output_type": "execute_result"
    }
   ],
   "source": [
    "usage_features.shape"
   ]
  },
  {
   "cell_type": "markdown",
   "id": "61c38a0b",
   "metadata": {},
   "source": [
    "---"
   ]
  },
  {
   "cell_type": "markdown",
   "id": "0a9036d5",
   "metadata": {},
   "source": [
    "## `customer_interactions`"
   ]
  },
  {
   "cell_type": "code",
   "execution_count": 18,
   "id": "e9ca2ec6",
   "metadata": {},
   "outputs": [
    {
     "name": "stdout",
     "output_type": "stream",
     "text": [
      "CPU times: user 29.1 ms, sys: 7.96 ms, total: 37.1 ms\n",
      "Wall time: 54.9 ms\n"
     ]
    }
   ],
   "source": [
    "%%time\n",
    "\n",
    "interactions_features = customer_interactions.pivot(\n",
    "    index='customer_id',\n",
    "    on='type_subtype', \n",
    "    values=['n', 'days_since_last'],\n",
    "    aggregate_function='first' # There is only one value per customer\n",
    ")"
   ]
  },
  {
   "cell_type": "code",
   "execution_count": 19,
   "id": "12d4ed48",
   "metadata": {},
   "outputs": [
    {
     "data": {
      "text/plain": [
       "(42095, 9)"
      ]
     },
     "execution_count": 19,
     "metadata": {},
     "output_type": "execute_result"
    }
   ],
   "source": [
    "interactions_features.shape"
   ]
  },
  {
   "cell_type": "markdown",
   "id": "6ec71704",
   "metadata": {},
   "source": [
    "---"
   ]
  },
  {
   "cell_type": "markdown",
   "id": "5c7a977d",
   "metadata": {},
   "source": [
    "## `combined_features`"
   ]
  },
  {
   "cell_type": "code",
   "execution_count": 20,
   "id": "53c090e1",
   "metadata": {},
   "outputs": [],
   "source": [
    "features = core_data.join(\n",
    "    usage_features,\n",
    "    on='rating_account_id',\n",
    "    how='left'\n",
    ").join(\n",
    "    interactions_features,\n",
    "    on='customer_id',\n",
    "    how='left'\n",
    ")"
   ]
  },
  {
   "cell_type": "code",
   "execution_count": 36,
   "id": "e11dada6",
   "metadata": {},
   "outputs": [
    {
     "data": {
      "text/html": [
       "<div><style>\n",
       ".dataframe > thead > tr,\n",
       ".dataframe > tbody > tr {\n",
       "  text-align: right;\n",
       "  white-space: pre-wrap;\n",
       "}\n",
       "</style>\n",
       "<small>shape: (5, 79)</small><table border=\"1\" class=\"dataframe\"><thead><tr><th>rating_account_id</th><th>customer_id</th><th>age</th><th>contract_lifetime_days</th><th>remaining_binding_days</th><th>has_special_offer</th><th>is_magenta1_customer</th><th>available_gb</th><th>gross_mrc</th><th>has_done_upselling</th><th>contract_binding_days</th><th>completion_rate</th><th>is_bounded</th><th>is_huawei</th><th>is_oneplus</th><th>is_samsung</th><th>is_xiaomi</th><th>is_iphone</th><th>n_contracts_per_customer</th><th>avg_monthly_usage_gb</th><th>median_monthly_usage_gb</th><th>total_usage_gb</th><th>usage_std_gb</th><th>min_monthly_usage_gb</th><th>max_monthly_usage_gb</th><th>usage_q25_gb</th><th>usage_q75_gb</th><th>months_with_roaming</th><th>roaming_frequency_ratio</th><th>ever_used_roaming</th><th>always_used_roaming</th><th>zero_usage_months</th><th>active_usage_months</th><th>avg_delta_1mo</th><th>delta_1mo_volatility</th><th>max_delta_1mo_increase</th><th>max_delta_1mo_decrease</th><th>&hellip;</th><th>max_delta_2mo_increase</th><th>max_delta_2mo_decrease</th><th>months_with_delta_2mo_increase</th><th>months_with_delta_2mo_decrease</th><th>months_with_no_delta_2mo_change</th><th>avg_delta_3mo</th><th>max_delta_3mo_increase</th><th>max_delta_3mo_decrease</th><th>months_with_delta_3mo_increase</th><th>months_with_delta_3mo_decrease</th><th>months_with_no_delta_3mo_change</th><th>last_1_2mo_rolling_avg</th><th>last_2_2mo_rolling_avg</th><th>last_3_2mo_rolling_avg</th><th>last_1_3mo_rolling_avg</th><th>last_2_3mo_rolling_avg</th><th>last_1_delta_1mo</th><th>last_2_delta_1mo</th><th>last_3_delta_1mo</th><th>last_1_delta_2mo</th><th>last_2_delta_2mo</th><th>last_1_delta_3mo</th><th>last_1_2mo_rolling_stdev</th><th>last_2_2mo_rolling_stdev</th><th>last_3_2mo_rolling_stdev</th><th>last_1_month_usage_gb</th><th>last_2_month_usage_gb</th><th>last_3_month_usage_gb</th><th>last_4_month_usage_gb</th><th>n_rechnungsanfragen</th><th>n_produkte&amp;services-tarifdetails</th><th>n_prolongation</th><th>n_produkte&amp;services-tarifwechsel</th><th>days_since_last_rechnungsanfragen</th><th>days_since_last_produkte&amp;services-tarifdetails</th><th>days_since_last_prolongation</th><th>days_since_last_produkte&amp;services-tarifwechsel</th></tr><tr><td>str</td><td>str</td><td>i64</td><td>i64</td><td>i64</td><td>bool</td><td>bool</td><td>i64</td><td>f64</td><td>bool</td><td>i64</td><td>f64</td><td>bool</td><td>bool</td><td>bool</td><td>bool</td><td>bool</td><td>bool</td><td>u32</td><td>f64</td><td>f64</td><td>f64</td><td>f64</td><td>f64</td><td>f64</td><td>f64</td><td>f64</td><td>u32</td><td>f64</td><td>bool</td><td>bool</td><td>u32</td><td>u32</td><td>f64</td><td>f64</td><td>f64</td><td>f64</td><td>&hellip;</td><td>f64</td><td>f64</td><td>u32</td><td>u32</td><td>u32</td><td>f64</td><td>f64</td><td>f64</td><td>u32</td><td>u32</td><td>u32</td><td>f64</td><td>f64</td><td>f64</td><td>f64</td><td>f64</td><td>f64</td><td>f64</td><td>f64</td><td>f64</td><td>f64</td><td>f64</td><td>f64</td><td>f64</td><td>f64</td><td>f64</td><td>f64</td><td>f64</td><td>f64</td><td>i64</td><td>i64</td><td>i64</td><td>i64</td><td>i64</td><td>i64</td><td>i64</td><td>i64</td></tr></thead><tbody><tr><td>&quot;289094&quot;</td><td>&quot;4.161115&quot;</td><td>36</td><td>878</td><td>325</td><td>false</td><td>false</td><td>20</td><td>70</td><td>false</td><td>1203</td><td>0.73</td><td>true</td><td>false</td><td>false</td><td>false</td><td>false</td><td>true</td><td>1</td><td>0.28</td><td>0.15</td><td>1.1</td><td>0.36</td><td>0</td><td>0.8</td><td>0.1</td><td>0.2</td><td>1</td><td>0.25</td><td>true</td><td>false</td><td>1</td><td>3</td><td>-0.27</td><td>0.29</td><td>-0.1</td><td>-0.6</td><td>&hellip;</td><td>-0.2</td><td>-0.7</td><td>0</td><td>2</td><td>0</td><td>-0.8</td><td>-0.8</td><td>-0.8</td><td>0</td><td>1</td><td>0</td><td>0.05</td><td>0.15</td><td>0.5</td><td>0.1</td><td>0.37</td><td>-0.1</td><td>-0.1</td><td>-0.6</td><td>-0.2</td><td>-0.7</td><td>-0.8</td><td>0.07</td><td>0.07</td><td>0.42</td><td>0.8</td><td>0.2</td><td>0.1</td><td>0</td><td>0</td><td>0</td><td>0</td><td>0</td><td>-1</td><td>-1</td><td>-1</td><td>-1</td></tr><tr><td>&quot;677626&quot;</td><td>&quot;2.429976&quot;</td><td>34</td><td>998</td><td>614</td><td>false</td><td>false</td><td>0</td><td>5</td><td>false</td><td>1612</td><td>0.62</td><td>true</td><td>false</td><td>false</td><td>true</td><td>false</td><td>false</td><td>1</td><td>0.65</td><td>0.65</td><td>2.6</td><td>0.31</td><td>0.3</td><td>1</td><td>0.5</td><td>0.8</td><td>1</td><td>0.25</td><td>true</td><td>false</td><td>0</td><td>4</td><td>0.07</td><td>0.55</td><td>0.7</td><td>-0.3</td><td>&hellip;</td><td>0.5</td><td>-0.5</td><td>1</td><td>1</td><td>0</td><td>0.2</td><td>0.2</td><td>0.2</td><td>1</td><td>0</td><td>0</td><td>0.65</td><td>0.4</td><td>0.65</td><td>0.6</td><td>0.53</td><td>0.7</td><td>-0.2</td><td>-0.3</td><td>0.5</td><td>-0.5</td><td>0.2</td><td>0.49</td><td>0.14</td><td>0.21</td><td>0.8</td><td>0.5</td><td>0.3</td><td>1</td><td>0</td><td>0</td><td>1</td><td>1</td><td>-1</td><td>-1</td><td>87</td><td>118</td></tr><tr><td>&quot;769928&quot;</td><td>&quot;3.875044&quot;</td><td>36</td><td>37</td><td>-26</td><td>false</td><td>true</td><td>50</td><td>16.94</td><td>false</td><td>11</td><td>3.36</td><td>false</td><td>false</td><td>false</td><td>true</td><td>false</td><td>false</td><td>2</td><td>0.6</td><td>0.55</td><td>2.4</td><td>0.32</td><td>0.3</td><td>1</td><td>0.4</td><td>0.7</td><td>0</td><td>0</td><td>false</td><td>false</td><td>0</td><td>4</td><td>-0.2</td><td>0.56</td><td>0.4</td><td>-0.7</td><td>&hellip;</td><td>0.1</td><td>-0.3</td><td>1</td><td>1</td><td>0</td><td>-0.6</td><td>-0.6</td><td>-0.6</td><td>0</td><td>1</td><td>0</td><td>0.55</td><td>0.5</td><td>0.65</td><td>0.47</td><td>0.67</td><td>-0.3</td><td>0.4</td><td>-0.7</td><td>0.1</td><td>-0.3</td><td>-0.6</td><td>0.21</td><td>0.28</td><td>0.49</td><td>1</td><td>0.3</td><td>0.7</td><td>0.4</td><td>0</td><td>0</td><td>0</td><td>0</td><td>-1</td><td>-1</td><td>-1</td><td>-1</td></tr><tr><td>&quot;873260&quot;</td><td>&quot;4.649933&quot;</td><td>50</td><td>503</td><td>-149</td><td>false</td><td>true</td><td>20</td><td>30.2</td><td>true</td><td>354</td><td>1.42</td><td>false</td><td>false</td><td>false</td><td>false</td><td>false</td><td>true</td><td>1</td><td>0.38</td><td>0.25</td><td>1.5</td><td>0.36</td><td>0.1</td><td>0.9</td><td>0.2</td><td>0.3</td><td>0</td><td>0</td><td>false</td><td>false</td><td>0</td><td>4</td><td>0.03</td><td>0.67</td><td>0.6</td><td>-0.7</td><td>&hellip;</td><td>0.8</td><td>-0.1</td><td>1</td><td>1</td><td>0</td><td>0.1</td><td>0.1</td><td>0.1</td><td>1</td><td>0</td><td>0</td><td>0.55</td><td>0.6</td><td>0.2</td><td>0.47</td><td>0.43</td><td>-0.7</td><td>0.6</td><td>0.2</td><td>-0.1</td><td>0.8</td><td>0.1</td><td>0.49</td><td>0.42</td><td>0.14</td><td>0.1</td><td>0.3</td><td>0.9</td><td>0.2</td><td>0</td><td>0</td><td>0</td><td>0</td><td>-1</td><td>-1</td><td>-1</td><td>-1</td></tr><tr><td>&quot;109774&quot;</td><td>&quot;3.851059&quot;</td><td>47</td><td>331</td><td>-328</td><td>true</td><td>true</td><td>null</td><td>46.12</td><td>false</td><td>3</td><td>110.33</td><td>false</td><td>false</td><td>false</td><td>true</td><td>false</td><td>false</td><td>3</td><td>0.35</td><td>0.35</td><td>1.4</td><td>0.29</td><td>0.1</td><td>0.6</td><td>0.1</td><td>0.6</td><td>1</td><td>0.25</td><td>true</td><td>false</td><td>0</td><td>4</td><td>0</td><td>0.5</td><td>0.5</td><td>-0.5</td><td>&hellip;</td><td>0.5</td><td>-0.5</td><td>1</td><td>1</td><td>0</td><td>0</td><td>0</td><td>0</td><td>0</td><td>0</td><td>1</td><td>0.35</td><td>0.1</td><td>0.35</td><td>0.27</td><td>0.27</td><td>0.5</td><td>0</td><td>-0.5</td><td>0.5</td><td>-0.5</td><td>0</td><td>0.35</td><td>0</td><td>0.35</td><td>0.6</td><td>0.1</td><td>0.1</td><td>0.6</td><td>0</td><td>0</td><td>0</td><td>0</td><td>-1</td><td>-1</td><td>-1</td><td>-1</td></tr></tbody></table></div>"
      ],
      "text/plain": [
       "shape: (5, 79)\n",
       "┌────────────┬────────────┬─────┬────────────┬───┬────────────┬────────────┬───────────┬───────────┐\n",
       "│ rating_acc ┆ customer_i ┆ age ┆ contract_l ┆ … ┆ days_since ┆ days_since ┆ days_sinc ┆ days_sinc │\n",
       "│ ount_id    ┆ d          ┆ --- ┆ ifetime_da ┆   ┆ _last_rech ┆ _last_prod ┆ e_last_pr ┆ e_last_pr │\n",
       "│ ---        ┆ ---        ┆ i64 ┆ ys         ┆   ┆ nungsanfra ┆ ukte&servi ┆ olongatio ┆ odukte&se │\n",
       "│ str        ┆ str        ┆     ┆ ---        ┆   ┆ gen        ┆ ces-tarifd ┆ n         ┆ rvices-ta │\n",
       "│            ┆            ┆     ┆ i64        ┆   ┆ ---        ┆ etails     ┆ ---       ┆ rifwechse │\n",
       "│            ┆            ┆     ┆            ┆   ┆ i64        ┆ ---        ┆ i64       ┆ l         │\n",
       "│            ┆            ┆     ┆            ┆   ┆            ┆ i64        ┆           ┆ ---       │\n",
       "│            ┆            ┆     ┆            ┆   ┆            ┆            ┆           ┆ i64       │\n",
       "╞════════════╪════════════╪═════╪════════════╪═══╪════════════╪════════════╪═══════════╪═══════════╡\n",
       "│ 289094     ┆ 4.161115   ┆ 36  ┆ 878        ┆ … ┆ -1         ┆ -1         ┆ -1        ┆ -1        │\n",
       "│ 677626     ┆ 2.429976   ┆ 34  ┆ 998        ┆ … ┆ -1         ┆ -1         ┆ 87        ┆ 118       │\n",
       "│ 769928     ┆ 3.875044   ┆ 36  ┆ 37         ┆ … ┆ -1         ┆ -1         ┆ -1        ┆ -1        │\n",
       "│ 873260     ┆ 4.649933   ┆ 50  ┆ 503        ┆ … ┆ -1         ┆ -1         ┆ -1        ┆ -1        │\n",
       "│ 109774     ┆ 3.851059   ┆ 47  ┆ 331        ┆ … ┆ -1         ┆ -1         ┆ -1        ┆ -1        │\n",
       "└────────────┴────────────┴─────┴────────────┴───┴────────────┴────────────┴───────────┴───────────┘"
      ]
     },
     "execution_count": 36,
     "metadata": {},
     "output_type": "execute_result"
    }
   ],
   "source": [
    "features.head()"
   ]
  },
  {
   "cell_type": "code",
   "execution_count": 22,
   "id": "fa21103c",
   "metadata": {},
   "outputs": [
    {
     "name": "stdout",
     "output_type": "stream",
     "text": [
      "CPU times: user 1.44 ms, sys: 3.93 ms, total: 5.38 ms\n",
      "Wall time: 5.55 ms\n"
     ]
    }
   ],
   "source": [
    "%%time\n",
    "\n",
    "# Filling null values from intereactions features\n",
    "features = features.with_columns([\n",
    "    pl.when(pl.col(col).is_null())\n",
    "    .then(0)\n",
    "    .otherwise(pl.col(col))\n",
    "    .alias(col)\n",
    "    for col in features.columns if col.startswith('n_')\n",
    "] + [\n",
    "    pl.when(pl.col(col).is_null())\n",
    "    .then(-1)\n",
    "    .otherwise(pl.col(col))\n",
    "    .alias(col)\n",
    "    for col in features.columns if col.startswith('days_since_last')\n",
    "])"
   ]
  },
  {
   "cell_type": "markdown",
   "id": "85d61e28",
   "metadata": {},
   "source": [
    "### Dealing with null values in `available_gb`"
   ]
  },
  {
   "cell_type": "code",
   "execution_count": 23,
   "id": "1dc62e05",
   "metadata": {},
   "outputs": [
    {
     "data": {
      "text/html": [
       "<div><style>\n",
       ".dataframe > thead > tr,\n",
       ".dataframe > tbody > tr {\n",
       "  text-align: right;\n",
       "  white-space: pre-wrap;\n",
       "}\n",
       "</style>\n",
       "<small>shape: (14_148, 6)</small><table border=\"1\" class=\"dataframe\"><thead><tr><th>rating_account_id</th><th>available_gb</th><th>last_1_month_usage_gb</th><th>last_2_month_usage_gb</th><th>last_3_month_usage_gb</th><th>last_4_month_usage_gb</th></tr><tr><td>str</td><td>i64</td><td>f64</td><td>f64</td><td>f64</td><td>f64</td></tr></thead><tbody><tr><td>&quot;109774&quot;</td><td>null</td><td>0.6</td><td>0.1</td><td>0.1</td><td>0.6</td></tr><tr><td>&quot;781755&quot;</td><td>null</td><td>0.6</td><td>0.8</td><td>0.3</td><td>0</td></tr><tr><td>&quot;827238&quot;</td><td>null</td><td>0</td><td>0.7</td><td>0.9</td><td>0.1</td></tr><tr><td>&quot;330581&quot;</td><td>null</td><td>0</td><td>0.2</td><td>0.2</td><td>0.9</td></tr><tr><td>&quot;416121&quot;</td><td>null</td><td>0.8</td><td>0.8</td><td>0.3</td><td>0.5</td></tr><tr><td>&hellip;</td><td>&hellip;</td><td>&hellip;</td><td>&hellip;</td><td>&hellip;</td><td>&hellip;</td></tr><tr><td>&quot;662172&quot;</td><td>null</td><td>54.7</td><td>62.5</td><td>24.7</td><td>37.4</td></tr><tr><td>&quot;556788&quot;</td><td>null</td><td>19.6</td><td>32.6</td><td>31</td><td>65.2</td></tr><tr><td>&quot;283647&quot;</td><td>null</td><td>51.3</td><td>18.1</td><td>53.3</td><td>39.2</td></tr><tr><td>&quot;581854&quot;</td><td>null</td><td>49.5</td><td>21.5</td><td>27.7</td><td>18.6</td></tr><tr><td>&quot;727874&quot;</td><td>null</td><td>39.7</td><td>20.8</td><td>16.7</td><td>55.4</td></tr></tbody></table></div>"
      ],
      "text/plain": [
       "shape: (14_148, 6)\n",
       "┌────────────────┬──────────────┬────────────────┬────────────────┬────────────────┬───────────────┐\n",
       "│ rating_account ┆ available_gb ┆ last_1_month_u ┆ last_2_month_u ┆ last_3_month_u ┆ last_4_month_ │\n",
       "│ _id            ┆ ---          ┆ sage_gb        ┆ sage_gb        ┆ sage_gb        ┆ usage_gb      │\n",
       "│ ---            ┆ i64          ┆ ---            ┆ ---            ┆ ---            ┆ ---           │\n",
       "│ str            ┆              ┆ f64            ┆ f64            ┆ f64            ┆ f64           │\n",
       "╞════════════════╪══════════════╪════════════════╪════════════════╪════════════════╪═══════════════╡\n",
       "│ 109774         ┆ null         ┆ 0.6            ┆ 0.1            ┆ 0.1            ┆ 0.6           │\n",
       "│ 781755         ┆ null         ┆ 0.6            ┆ 0.8            ┆ 0.3            ┆ 0             │\n",
       "│ 827238         ┆ null         ┆ 0              ┆ 0.7            ┆ 0.9            ┆ 0.1           │\n",
       "│ 330581         ┆ null         ┆ 0              ┆ 0.2            ┆ 0.2            ┆ 0.9           │\n",
       "│ 416121         ┆ null         ┆ 0.8            ┆ 0.8            ┆ 0.3            ┆ 0.5           │\n",
       "│ …              ┆ …            ┆ …              ┆ …              ┆ …              ┆ …             │\n",
       "│ 662172         ┆ null         ┆ 54.7           ┆ 62.5           ┆ 24.7           ┆ 37.4          │\n",
       "│ 556788         ┆ null         ┆ 19.6           ┆ 32.6           ┆ 31             ┆ 65.2          │\n",
       "│ 283647         ┆ null         ┆ 51.3           ┆ 18.1           ┆ 53.3           ┆ 39.2          │\n",
       "│ 581854         ┆ null         ┆ 49.5           ┆ 21.5           ┆ 27.7           ┆ 18.6          │\n",
       "│ 727874         ┆ null         ┆ 39.7           ┆ 20.8           ┆ 16.7           ┆ 55.4          │\n",
       "└────────────────┴──────────────┴────────────────┴────────────────┴────────────────┴───────────────┘"
      ]
     },
     "execution_count": 23,
     "metadata": {},
     "output_type": "execute_result"
    }
   ],
   "source": [
    "features.filter(pl.col('available_gb').is_null()).select('rating_account_id', 'available_gb', 'last_1_month_usage_gb', 'last_2_month_usage_gb', 'last_3_month_usage_gb', 'last_4_month_usage_gb')"
   ]
  },
  {
   "cell_type": "code",
   "execution_count": 24,
   "id": "9321417f",
   "metadata": {},
   "outputs": [
    {
     "name": "stdout",
     "output_type": "stream",
     "text": [
      "MAE Ridge: 15.0033\n",
      "CPU times: user 29.4 ms, sys: 20.3 ms, total: 49.7 ms\n",
      "Wall time: 101 ms\n"
     ]
    }
   ],
   "source": [
    "%%time\n",
    "\n",
    "# Option A1: predict the value with a linear model\n",
    "\n",
    "# Prepare the data: drop rows with null available_gb and select numeric features\n",
    "df = (\n",
    "        features\n",
    "            .filter(pl.col('available_gb').is_not_null())\n",
    "            .select('available_gb', 'last_1_month_usage_gb', 'last_2_month_usage_gb', 'last_3_month_usage_gb', 'last_4_month_usage_gb')\n",
    ")\n",
    "\n",
    "X = df[['last_1_month_usage_gb', 'last_2_month_usage_gb', 'last_3_month_usage_gb', 'last_4_month_usage_gb']]\n",
    "y = df['available_gb']\n",
    "\n",
    "# Split into train/test\n",
    "X_train, X_test, y_train, y_test = train_test_split(X, y, test_size=0.2, random_state=42)\n",
    "\n",
    "# Fit Ridge regression (L2)\n",
    "ridge = Ridge()\n",
    "ridge.fit(X_train, y_train)\n",
    "\n",
    "# Predict and evaluate\n",
    "y_pred = ridge.predict(X_test)\n",
    "mae_linear_model = mean_absolute_error(y_test, y_pred)\n",
    "print(f'MAE Ridge: {mae_linear_model:.4f}')"
   ]
  },
  {
   "cell_type": "code",
   "execution_count": 25,
   "id": "a95ec080",
   "metadata": {},
   "outputs": [
    {
     "name": "stdout",
     "output_type": "stream",
     "text": [
      "MAE Lasso: 14.9996\n",
      "CPU times: user 32.2 ms, sys: 7.71 ms, total: 39.9 ms\n",
      "Wall time: 32.9 ms\n"
     ]
    }
   ],
   "source": [
    "%%time\n",
    "\n",
    "# Option A2: predict the value with a linear model\n",
    "\n",
    "# Prepare the data: drop rows with null available_gb and select numeric features\n",
    "df = (\n",
    "        features\n",
    "            .filter(pl.col('available_gb').is_not_null())\n",
    "            .select('available_gb', 'last_1_month_usage_gb', 'last_2_month_usage_gb', 'last_3_month_usage_gb', 'last_4_month_usage_gb')\n",
    ")\n",
    "\n",
    "X = df[['last_1_month_usage_gb', 'last_2_month_usage_gb', 'last_3_month_usage_gb', 'last_4_month_usage_gb']]\n",
    "y = df['available_gb']\n",
    "\n",
    "# Split into train/test\n",
    "X_train, X_test, y_train, y_test = train_test_split(X, y, test_size=0.2, random_state=42)\n",
    "\n",
    "# Fit Lasso regression (L1)\n",
    "lasso = Lasso()\n",
    "lasso.fit(X_train, y_train)\n",
    "\n",
    "# Predict and evaluate\n",
    "y_pred = lasso.predict(X_test)\n",
    "mae_lasso = mean_absolute_error(y_test, y_pred)\n",
    "print(f'MAE Lasso: {mae_lasso:.4f}')"
   ]
  },
  {
   "cell_type": "code",
   "execution_count": 26,
   "id": "a5a192aa",
   "metadata": {},
   "outputs": [
    {
     "name": "stdout",
     "output_type": "stream",
     "text": [
      "MAE horizontal_mean: 21.8625\n",
      "CPU times: user 64.3 ms, sys: 2.47 ms, total: 66.7 ms\n",
      "Wall time: 70.7 ms\n"
     ]
    }
   ],
   "source": [
    "%%time\n",
    "\n",
    "# Option B: mean of the previous contract activities\n",
    "\n",
    "columns_to_average = ['last_1_month_usage_gb', 'last_2_month_usage_gb', 'last_3_month_usage_gb', 'last_4_month_usage_gb']\n",
    "\n",
    "# Prepare the data: drop rows with null available_gb and select numeric features\n",
    "df = (\n",
    "        features\n",
    "            .filter(pl.col('available_gb').is_not_null())\n",
    "            .select('available_gb', 'last_1_month_usage_gb', 'last_2_month_usage_gb', 'last_3_month_usage_gb', 'last_4_month_usage_gb')\n",
    ")\n",
    "\n",
    "\n",
    "# Compute horizontal mean and find closest value\n",
    "result_df = df.with_columns([\n",
    "    # Compute horizontal mean\n",
    "    pl.mean_horizontal(columns_to_average).alias('prediction')\n",
    "])\n",
    "\n",
    "mae_horizontal_mean = mean_absolute_error(result_df['available_gb'], result_df['prediction'])\n",
    "print(f'MAE horizontal_mean: {mae_horizontal_mean:.4f}')"
   ]
  },
  {
   "cell_type": "markdown",
   "id": "28534acd",
   "metadata": {},
   "source": [
    "The error of the linear models is lower compared to the mean of the activities. **Winning option A2**"
   ]
  },
  {
   "cell_type": "code",
   "execution_count": 27,
   "id": "96291a8b",
   "metadata": {},
   "outputs": [],
   "source": [
    "# APPLY THE PREDICTION TO MISSING ROWS\n",
    "# Prepare the data: drop rows with null available_gb and select numeric features\n",
    "df = (\n",
    "        features\n",
    "            .filter(pl.col('available_gb').is_not_null())\n",
    "            .select('available_gb', 'last_1_month_usage_gb', 'last_2_month_usage_gb', 'last_3_month_usage_gb', 'last_4_month_usage_gb')\n",
    ")\n",
    "\n",
    "X = df.select(['last_1_month_usage_gb', 'last_2_month_usage_gb', 'last_3_month_usage_gb', 'last_4_month_usage_gb'])\n",
    "y = df.select('available_gb').to_series()\n",
    "\n",
    "df_missing = (\n",
    "        features\n",
    "            .filter(pl.col('available_gb').is_null())\n",
    "            .select(pl.exclude(\"available_gb\"))\n",
    ")\n",
    "\n",
    "X_missing = df_missing.select(['last_1_month_usage_gb', 'last_2_month_usage_gb', 'last_3_month_usage_gb', 'last_4_month_usage_gb'])\n",
    "\n",
    "\n",
    "# Fit Lasso regression (L1)\n",
    "lasso = Lasso()\n",
    "lasso.fit(X, y)\n",
    "\n",
    "# Predict\n",
    "df_missing = df_missing.with_columns(available_gb=lasso.predict(X_missing))\n",
    "\n",
    "# Since the value cannot be float, mapping the predicted values to similar options from data\n",
    "available_values = features.filter(pl.col('available_gb').is_not_null()).select(pl.col('available_gb')).unique().to_series().to_list()\n",
    "\n",
    "def find_closest(val, avail_list):\n",
    "    'Find closest value from available_values list'\n",
    "    if val is None:\n",
    "        return None\n",
    "    return min(avail_list, key=lambda x: abs(x - val))\n",
    "\n",
    "# Compute horizontal mean and find closest value\n",
    "df_missing = df_missing.with_columns([\n",
    "    # Find closest available value\n",
    "    pl.col('available_gb').map_elements(\n",
    "        lambda x: find_closest(x, available_values), \n",
    "        return_dtype=pl.Int64\n",
    "    ).alias('available_gb')\n",
    "])"
   ]
  },
  {
   "cell_type": "code",
   "execution_count": null,
   "id": "c5914edb",
   "metadata": {},
   "outputs": [
    {
     "name": "stdout",
     "output_type": "stream",
     "text": [
      "CPU times: user 11.8 ms, sys: 980 μs, total: 12.7 ms\n",
      "Wall time: 11.2 ms\n"
     ]
    },
    {
     "data": {
      "text/html": [
       "<div><style>\n",
       ".dataframe > thead > tr,\n",
       ".dataframe > tbody > tr {\n",
       "  text-align: right;\n",
       "  white-space: pre-wrap;\n",
       "}\n",
       "</style>\n",
       "<small>shape: (100_000, 79)</small><table border=\"1\" class=\"dataframe\"><thead><tr><th>rating_account_id</th><th>customer_id</th><th>age</th><th>contract_lifetime_days</th><th>remaining_binding_days</th><th>has_special_offer</th><th>is_magenta1_customer</th><th>available_gb</th><th>gross_mrc</th><th>has_done_upselling</th><th>contract_binding_days</th><th>completion_rate</th><th>is_bounded</th><th>is_huawei</th><th>is_oneplus</th><th>is_samsung</th><th>is_xiaomi</th><th>is_iphone</th><th>n_contracts_per_customer</th><th>avg_monthly_usage_gb</th><th>median_monthly_usage_gb</th><th>total_usage_gb</th><th>usage_std_gb</th><th>min_monthly_usage_gb</th><th>max_monthly_usage_gb</th><th>usage_q25_gb</th><th>usage_q75_gb</th><th>months_with_roaming</th><th>roaming_frequency_ratio</th><th>ever_used_roaming</th><th>always_used_roaming</th><th>zero_usage_months</th><th>active_usage_months</th><th>avg_delta_1mo</th><th>delta_1mo_volatility</th><th>max_delta_1mo_increase</th><th>max_delta_1mo_decrease</th><th>&hellip;</th><th>max_delta_2mo_increase</th><th>max_delta_2mo_decrease</th><th>months_with_delta_2mo_increase</th><th>months_with_delta_2mo_decrease</th><th>months_with_no_delta_2mo_change</th><th>avg_delta_3mo</th><th>max_delta_3mo_increase</th><th>max_delta_3mo_decrease</th><th>months_with_delta_3mo_increase</th><th>months_with_delta_3mo_decrease</th><th>months_with_no_delta_3mo_change</th><th>last_1_2mo_rolling_avg</th><th>last_2_2mo_rolling_avg</th><th>last_3_2mo_rolling_avg</th><th>last_1_3mo_rolling_avg</th><th>last_2_3mo_rolling_avg</th><th>last_1_delta_1mo</th><th>last_2_delta_1mo</th><th>last_3_delta_1mo</th><th>last_1_delta_2mo</th><th>last_2_delta_2mo</th><th>last_1_delta_3mo</th><th>last_1_2mo_rolling_stdev</th><th>last_2_2mo_rolling_stdev</th><th>last_3_2mo_rolling_stdev</th><th>last_1_month_usage_gb</th><th>last_2_month_usage_gb</th><th>last_3_month_usage_gb</th><th>last_4_month_usage_gb</th><th>n_rechnungsanfragen</th><th>n_produkte&amp;services-tarifdetails</th><th>n_prolongation</th><th>n_produkte&amp;services-tarifwechsel</th><th>days_since_last_rechnungsanfragen</th><th>days_since_last_produkte&amp;services-tarifdetails</th><th>days_since_last_prolongation</th><th>days_since_last_produkte&amp;services-tarifwechsel</th></tr><tr><td>str</td><td>str</td><td>i64</td><td>i64</td><td>i64</td><td>bool</td><td>bool</td><td>i64</td><td>f64</td><td>bool</td><td>i64</td><td>f64</td><td>bool</td><td>bool</td><td>bool</td><td>bool</td><td>bool</td><td>bool</td><td>u32</td><td>f64</td><td>f64</td><td>f64</td><td>f64</td><td>f64</td><td>f64</td><td>f64</td><td>f64</td><td>u32</td><td>f64</td><td>bool</td><td>bool</td><td>u32</td><td>u32</td><td>f64</td><td>f64</td><td>f64</td><td>f64</td><td>&hellip;</td><td>f64</td><td>f64</td><td>u32</td><td>u32</td><td>u32</td><td>f64</td><td>f64</td><td>f64</td><td>u32</td><td>u32</td><td>u32</td><td>f64</td><td>f64</td><td>f64</td><td>f64</td><td>f64</td><td>f64</td><td>f64</td><td>f64</td><td>f64</td><td>f64</td><td>f64</td><td>f64</td><td>f64</td><td>f64</td><td>f64</td><td>f64</td><td>f64</td><td>f64</td><td>i64</td><td>i64</td><td>i64</td><td>i64</td><td>i64</td><td>i64</td><td>i64</td><td>i64</td></tr></thead><tbody><tr><td>&quot;289094&quot;</td><td>&quot;4.161115&quot;</td><td>36</td><td>878</td><td>325</td><td>false</td><td>false</td><td>20</td><td>70</td><td>false</td><td>1203</td><td>0.73</td><td>true</td><td>false</td><td>false</td><td>false</td><td>false</td><td>true</td><td>1</td><td>0.28</td><td>0.15</td><td>1.1</td><td>0.36</td><td>0</td><td>0.8</td><td>0.1</td><td>0.2</td><td>1</td><td>0.25</td><td>true</td><td>false</td><td>1</td><td>3</td><td>-0.27</td><td>0.29</td><td>-0.1</td><td>-0.6</td><td>&hellip;</td><td>-0.2</td><td>-0.7</td><td>0</td><td>2</td><td>0</td><td>-0.8</td><td>-0.8</td><td>-0.8</td><td>0</td><td>1</td><td>0</td><td>0.05</td><td>0.15</td><td>0.5</td><td>0.1</td><td>0.37</td><td>-0.1</td><td>-0.1</td><td>-0.6</td><td>-0.2</td><td>-0.7</td><td>-0.8</td><td>0.07</td><td>0.07</td><td>0.42</td><td>0.8</td><td>0.2</td><td>0.1</td><td>0</td><td>0</td><td>0</td><td>0</td><td>0</td><td>-1</td><td>-1</td><td>-1</td><td>-1</td></tr><tr><td>&quot;677626&quot;</td><td>&quot;2.429976&quot;</td><td>34</td><td>998</td><td>614</td><td>false</td><td>false</td><td>0</td><td>5</td><td>false</td><td>1612</td><td>0.62</td><td>true</td><td>false</td><td>false</td><td>true</td><td>false</td><td>false</td><td>1</td><td>0.65</td><td>0.65</td><td>2.6</td><td>0.31</td><td>0.3</td><td>1</td><td>0.5</td><td>0.8</td><td>1</td><td>0.25</td><td>true</td><td>false</td><td>0</td><td>4</td><td>0.07</td><td>0.55</td><td>0.7</td><td>-0.3</td><td>&hellip;</td><td>0.5</td><td>-0.5</td><td>1</td><td>1</td><td>0</td><td>0.2</td><td>0.2</td><td>0.2</td><td>1</td><td>0</td><td>0</td><td>0.65</td><td>0.4</td><td>0.65</td><td>0.6</td><td>0.53</td><td>0.7</td><td>-0.2</td><td>-0.3</td><td>0.5</td><td>-0.5</td><td>0.2</td><td>0.49</td><td>0.14</td><td>0.21</td><td>0.8</td><td>0.5</td><td>0.3</td><td>1</td><td>0</td><td>0</td><td>1</td><td>1</td><td>-1</td><td>-1</td><td>87</td><td>118</td></tr><tr><td>&quot;769928&quot;</td><td>&quot;3.875044&quot;</td><td>36</td><td>37</td><td>-26</td><td>false</td><td>true</td><td>50</td><td>16.94</td><td>false</td><td>11</td><td>3.36</td><td>false</td><td>false</td><td>false</td><td>true</td><td>false</td><td>false</td><td>2</td><td>0.6</td><td>0.55</td><td>2.4</td><td>0.32</td><td>0.3</td><td>1</td><td>0.4</td><td>0.7</td><td>0</td><td>0</td><td>false</td><td>false</td><td>0</td><td>4</td><td>-0.2</td><td>0.56</td><td>0.4</td><td>-0.7</td><td>&hellip;</td><td>0.1</td><td>-0.3</td><td>1</td><td>1</td><td>0</td><td>-0.6</td><td>-0.6</td><td>-0.6</td><td>0</td><td>1</td><td>0</td><td>0.55</td><td>0.5</td><td>0.65</td><td>0.47</td><td>0.67</td><td>-0.3</td><td>0.4</td><td>-0.7</td><td>0.1</td><td>-0.3</td><td>-0.6</td><td>0.21</td><td>0.28</td><td>0.49</td><td>1</td><td>0.3</td><td>0.7</td><td>0.4</td><td>0</td><td>0</td><td>0</td><td>0</td><td>-1</td><td>-1</td><td>-1</td><td>-1</td></tr><tr><td>&quot;873260&quot;</td><td>&quot;4.649933&quot;</td><td>50</td><td>503</td><td>-149</td><td>false</td><td>true</td><td>20</td><td>30.2</td><td>true</td><td>354</td><td>1.42</td><td>false</td><td>false</td><td>false</td><td>false</td><td>false</td><td>true</td><td>1</td><td>0.38</td><td>0.25</td><td>1.5</td><td>0.36</td><td>0.1</td><td>0.9</td><td>0.2</td><td>0.3</td><td>0</td><td>0</td><td>false</td><td>false</td><td>0</td><td>4</td><td>0.03</td><td>0.67</td><td>0.6</td><td>-0.7</td><td>&hellip;</td><td>0.8</td><td>-0.1</td><td>1</td><td>1</td><td>0</td><td>0.1</td><td>0.1</td><td>0.1</td><td>1</td><td>0</td><td>0</td><td>0.55</td><td>0.6</td><td>0.2</td><td>0.47</td><td>0.43</td><td>-0.7</td><td>0.6</td><td>0.2</td><td>-0.1</td><td>0.8</td><td>0.1</td><td>0.49</td><td>0.42</td><td>0.14</td><td>0.1</td><td>0.3</td><td>0.9</td><td>0.2</td><td>0</td><td>0</td><td>0</td><td>0</td><td>-1</td><td>-1</td><td>-1</td><td>-1</td></tr><tr><td>&quot;692379&quot;</td><td>&quot;4.382165&quot;</td><td>46</td><td>80</td><td>-25</td><td>false</td><td>true</td><td>40</td><td>60.71</td><td>false</td><td>55</td><td>1.45</td><td>false</td><td>true</td><td>false</td><td>false</td><td>false</td><td>false</td><td>1</td><td>0.55</td><td>0.6</td><td>2.2</td><td>0.3</td><td>0.2</td><td>0.8</td><td>0.4</td><td>0.8</td><td>2</td><td>0.5</td><td>true</td><td>false</td><td>0</td><td>4</td><td>0</td><td>0.53</td><td>0.6</td><td>-0.4</td><td>&hellip;</td><td>0.4</td><td>-0.6</td><td>1</td><td>1</td><td>0</td><td>0</td><td>0</td><td>0</td><td>0</td><td>0</td><td>1</td><td>0.5</td><td>0.3</td><td>0.6</td><td>0.47</td><td>0.47</td><td>0.6</td><td>-0.2</td><td>-0.4</td><td>0.4</td><td>-0.6</td><td>0</td><td>0.42</td><td>0.14</td><td>0.28</td><td>0.8</td><td>0.4</td><td>0.2</td><td>0.8</td><td>0</td><td>0</td><td>0</td><td>0</td><td>-1</td><td>-1</td><td>-1</td><td>-1</td></tr><tr><td>&hellip;</td><td>&hellip;</td><td>&hellip;</td><td>&hellip;</td><td>&hellip;</td><td>&hellip;</td><td>&hellip;</td><td>&hellip;</td><td>&hellip;</td><td>&hellip;</td><td>&hellip;</td><td>&hellip;</td><td>&hellip;</td><td>&hellip;</td><td>&hellip;</td><td>&hellip;</td><td>&hellip;</td><td>&hellip;</td><td>&hellip;</td><td>&hellip;</td><td>&hellip;</td><td>&hellip;</td><td>&hellip;</td><td>&hellip;</td><td>&hellip;</td><td>&hellip;</td><td>&hellip;</td><td>&hellip;</td><td>&hellip;</td><td>&hellip;</td><td>&hellip;</td><td>&hellip;</td><td>&hellip;</td><td>&hellip;</td><td>&hellip;</td><td>&hellip;</td><td>&hellip;</td><td>&hellip;</td><td>&hellip;</td><td>&hellip;</td><td>&hellip;</td><td>&hellip;</td><td>&hellip;</td><td>&hellip;</td><td>&hellip;</td><td>&hellip;</td><td>&hellip;</td><td>&hellip;</td><td>&hellip;</td><td>&hellip;</td><td>&hellip;</td><td>&hellip;</td><td>&hellip;</td><td>&hellip;</td><td>&hellip;</td><td>&hellip;</td><td>&hellip;</td><td>&hellip;</td><td>&hellip;</td><td>&hellip;</td><td>&hellip;</td><td>&hellip;</td><td>&hellip;</td><td>&hellip;</td><td>&hellip;</td><td>&hellip;</td><td>&hellip;</td><td>&hellip;</td><td>&hellip;</td><td>&hellip;</td><td>&hellip;</td><td>&hellip;</td><td>&hellip;</td><td>&hellip;</td><td>&hellip;</td></tr><tr><td>&quot;662172&quot;</td><td>&quot;4.149389&quot;</td><td>87</td><td>1121</td><td>-392</td><td>false</td><td>false</td><td>20</td><td>28.88</td><td>false</td><td>729</td><td>1.54</td><td>false</td><td>false</td><td>false</td><td>true</td><td>false</td><td>false</td><td>1</td><td>44.82</td><td>46.05</td><td>179.3</td><td>17.03</td><td>24.7</td><td>62.5</td><td>37.4</td><td>54.7</td><td>3</td><td>0.75</td><td>true</td><td>false</td><td>0</td><td>4</td><td>-5.77</td><td>27.85</td><td>12.7</td><td>-37.8</td><td>&hellip;</td><td>-25.1</td><td>-30</td><td>0</td><td>2</td><td>0</td><td>-17.3</td><td>-17.3</td><td>-17.3</td><td>0</td><td>1</td><td>0</td><td>31.05</td><td>43.6</td><td>58.6</td><td>41.53</td><td>47.3</td><td>12.7</td><td>-37.8</td><td>7.8</td><td>-25.1</td><td>-30</td><td>-17.3</td><td>8.98</td><td>26.73</td><td>5.52</td><td>54.7</td><td>62.5</td><td>24.7</td><td>37.4</td><td>0</td><td>0</td><td>0</td><td>0</td><td>-1</td><td>-1</td><td>-1</td><td>-1</td></tr><tr><td>&quot;556788&quot;</td><td>&quot;5.370598&quot;</td><td>86</td><td>1306</td><td>101</td><td>false</td><td>false</td><td>20</td><td>63.37</td><td>false</td><td>1407</td><td>0.93</td><td>true</td><td>false</td><td>false</td><td>false</td><td>false</td><td>true</td><td>2</td><td>37.1</td><td>31.8</td><td>148.4</td><td>19.61</td><td>19.6</td><td>65.2</td><td>31</td><td>32.6</td><td>0</td><td>0</td><td>false</td><td>false</td><td>0</td><td>4</td><td>15.2</td><td>18</td><td>34.2</td><td>-1.6</td><td>&hellip;</td><td>32.6</td><td>11.4</td><td>2</td><td>0</td><td>0</td><td>45.6</td><td>45.6</td><td>45.6</td><td>1</td><td>0</td><td>0</td><td>48.1</td><td>31.8</td><td>26.1</td><td>42.93</td><td>27.73</td><td>34.2</td><td>-1.6</td><td>13</td><td>32.6</td><td>11.4</td><td>45.6</td><td>24.18</td><td>1.13</td><td>9.19</td><td>19.6</td><td>32.6</td><td>31</td><td>65.2</td><td>0</td><td>0</td><td>0</td><td>0</td><td>-1</td><td>-1</td><td>-1</td><td>-1</td></tr><tr><td>&quot;283647&quot;</td><td>&quot;5.710892&quot;</td><td>91</td><td>1158</td><td>-613</td><td>false</td><td>false</td><td>20</td><td>66.02</td><td>false</td><td>545</td><td>2.12</td><td>false</td><td>false</td><td>false</td><td>false</td><td>false</td><td>true</td><td>1</td><td>40.48</td><td>45.25</td><td>161.9</td><td>16.17</td><td>18.1</td><td>53.3</td><td>39.2</td><td>51.3</td><td>0</td><td>0</td><td>false</td><td>false</td><td>0</td><td>4</td><td>-4.03</td><td>35.29</td><td>35.2</td><td>-33.2</td><td>&hellip;</td><td>21.1</td><td>2</td><td>2</td><td>0</td><td>0</td><td>-12.1</td><td>-12.1</td><td>-12.1</td><td>0</td><td>1</td><td>0</td><td>46.25</td><td>35.7</td><td>34.7</td><td>36.87</td><td>40.9</td><td>-14.1</td><td>35.2</td><td>-33.2</td><td>21.1</td><td>2</td><td>-12.1</td><td>9.97</td><td>24.89</td><td>23.48</td><td>51.3</td><td>18.1</td><td>53.3</td><td>39.2</td><td>0</td><td>0</td><td>0</td><td>1</td><td>-1</td><td>-1</td><td>-1</td><td>25</td></tr><tr><td>&quot;581854&quot;</td><td>&quot;1.953617&quot;</td><td>100</td><td>1378</td><td>715</td><td>false</td><td>false</td><td>20</td><td>43.47</td><td>false</td><td>2093</td><td>0.66</td><td>true</td><td>false</td><td>false</td><td>false</td><td>false</td><td>true</td><td>4</td><td>29.33</td><td>24.6</td><td>117.3</td><td>13.98</td><td>18.6</td><td>49.5</td><td>21.5</td><td>27.7</td><td>0</td><td>0</td><td>false</td><td>false</td><td>0</td><td>4</td><td>-10.3</td><td>17.13</td><td>6.2</td><td>-28</td><td>&hellip;</td><td>-2.9</td><td>-21.8</td><td>0</td><td>2</td><td>0</td><td>-30.9</td><td>-30.9</td><td>-30.9</td><td>0</td><td>1</td><td>0</td><td>23.15</td><td>24.6</td><td>35.5</td><td>22.6</td><td>32.9</td><td>-9.1</td><td>6.2</td><td>-28</td><td>-2.9</td><td>-21.8</td><td>-30.9</td><td>6.43</td><td>4.38</td><td>19.8</td><td>49.5</td><td>21.5</td><td>27.7</td><td>18.6</td><td>0</td><td>0</td><td>0</td><td>0</td><td>-1</td><td>-1</td><td>-1</td><td>-1</td></tr><tr><td>&quot;727874&quot;</td><td>&quot;4.662990&quot;</td><td>91</td><td>1344</td><td>-669</td><td>false</td><td>false</td><td>20</td><td>50.1</td><td>false</td><td>675</td><td>1.99</td><td>false</td><td>false</td><td>false</td><td>false</td><td>false</td><td>true</td><td>3</td><td>33.15</td><td>30.25</td><td>132.6</td><td>17.9</td><td>16.7</td><td>55.4</td><td>20.8</td><td>39.7</td><td>0</td><td>0</td><td>false</td><td>false</td><td>0</td><td>4</td><td>5.23</td><td>29.91</td><td>38.7</td><td>-18.9</td><td>&hellip;</td><td>34.6</td><td>-23</td><td>1</td><td>1</td><td>0</td><td>15.7</td><td>15.7</td><td>15.7</td><td>1</td><td>0</td><td>0</td><td>36.05</td><td>18.75</td><td>30.25</td><td>30.97</td><td>25.73</td><td>38.7</td><td>-4.1</td><td>-18.9</td><td>34.6</td><td>-23</td><td>15.7</td><td>27.37</td><td>2.9</td><td>13.36</td><td>39.7</td><td>20.8</td><td>16.7</td><td>55.4</td><td>0</td><td>0</td><td>2</td><td>0</td><td>-1</td><td>-1</td><td>85</td><td>-1</td></tr></tbody></table></div>"
      ],
      "text/plain": [
       "shape: (100_000, 79)\n",
       "┌────────────┬────────────┬─────┬────────────┬───┬────────────┬────────────┬───────────┬───────────┐\n",
       "│ rating_acc ┆ customer_i ┆ age ┆ contract_l ┆ … ┆ days_since ┆ days_since ┆ days_sinc ┆ days_sinc │\n",
       "│ ount_id    ┆ d          ┆ --- ┆ ifetime_da ┆   ┆ _last_rech ┆ _last_prod ┆ e_last_pr ┆ e_last_pr │\n",
       "│ ---        ┆ ---        ┆ i64 ┆ ys         ┆   ┆ nungsanfra ┆ ukte&servi ┆ olongatio ┆ odukte&se │\n",
       "│ str        ┆ str        ┆     ┆ ---        ┆   ┆ gen        ┆ ces-tarifd ┆ n         ┆ rvices-ta │\n",
       "│            ┆            ┆     ┆ i64        ┆   ┆ ---        ┆ etails     ┆ ---       ┆ rifwechse │\n",
       "│            ┆            ┆     ┆            ┆   ┆ i64        ┆ ---        ┆ i64       ┆ l         │\n",
       "│            ┆            ┆     ┆            ┆   ┆            ┆ i64        ┆           ┆ ---       │\n",
       "│            ┆            ┆     ┆            ┆   ┆            ┆            ┆           ┆ i64       │\n",
       "╞════════════╪════════════╪═════╪════════════╪═══╪════════════╪════════════╪═══════════╪═══════════╡\n",
       "│ 289094     ┆ 4.161115   ┆ 36  ┆ 878        ┆ … ┆ -1         ┆ -1         ┆ -1        ┆ -1        │\n",
       "│ 677626     ┆ 2.429976   ┆ 34  ┆ 998        ┆ … ┆ -1         ┆ -1         ┆ 87        ┆ 118       │\n",
       "│ 769928     ┆ 3.875044   ┆ 36  ┆ 37         ┆ … ┆ -1         ┆ -1         ┆ -1        ┆ -1        │\n",
       "│ 873260     ┆ 4.649933   ┆ 50  ┆ 503        ┆ … ┆ -1         ┆ -1         ┆ -1        ┆ -1        │\n",
       "│ 692379     ┆ 4.382165   ┆ 46  ┆ 80         ┆ … ┆ -1         ┆ -1         ┆ -1        ┆ -1        │\n",
       "│ …          ┆ …          ┆ …   ┆ …          ┆ … ┆ …          ┆ …          ┆ …         ┆ …         │\n",
       "│ 662172     ┆ 4.149389   ┆ 87  ┆ 1121       ┆ … ┆ -1         ┆ -1         ┆ -1        ┆ -1        │\n",
       "│ 556788     ┆ 5.370598   ┆ 86  ┆ 1306       ┆ … ┆ -1         ┆ -1         ┆ -1        ┆ -1        │\n",
       "│ 283647     ┆ 5.710892   ┆ 91  ┆ 1158       ┆ … ┆ -1         ┆ -1         ┆ -1        ┆ 25        │\n",
       "│ 581854     ┆ 1.953617   ┆ 100 ┆ 1378       ┆ … ┆ -1         ┆ -1         ┆ -1        ┆ -1        │\n",
       "│ 727874     ┆ 4.662990   ┆ 91  ┆ 1344       ┆ … ┆ -1         ┆ -1         ┆ 85        ┆ -1        │\n",
       "└────────────┴────────────┴─────┴────────────┴───┴────────────┴────────────┴───────────┴───────────┘"
      ]
     },
     "execution_count": 29,
     "metadata": {},
     "output_type": "execute_result"
    }
   ],
   "source": [
    "%%time\n",
    "\n",
    "features_without_nulls = pl.concat(\n",
    "    [\n",
    "        features.filter(pl.col('available_gb').is_not_null()),\n",
    "        df_missing\n",
    "    ],\n",
    "    how='diagonal'\n",
    ")\n",
    "\n",
    "features_without_nulls.head()"
   ]
  },
  {
   "cell_type": "code",
   "execution_count": null,
   "id": "caf49508",
   "metadata": {},
   "outputs": [
    {
     "data": {
      "text/html": [
       "<div><style>\n",
       ".dataframe > thead > tr,\n",
       ".dataframe > tbody > tr {\n",
       "  text-align: right;\n",
       "  white-space: pre-wrap;\n",
       "}\n",
       "</style>\n",
       "<small>shape: (0, 0)</small><table border=\"1\" class=\"dataframe\"><thead><tr></tr><tr></tr></thead><tbody></tbody></table></div>"
      ],
      "text/plain": [
       "shape: (0, 0)\n",
       "┌┐\n",
       "╞╡\n",
       "└┘"
      ]
     },
     "execution_count": 30,
     "metadata": {},
     "output_type": "execute_result"
    }
   ],
   "source": [
    "# Checking if there are other columns to fill\n",
    "\n",
    "null_counts_features = features_without_nulls.select([\n",
    "    pl.col(col).is_null().sum().alias(f'{col}_nulls') for col in features_without_nulls.columns\n",
    "])\n",
    "\n",
    "null_counts_features.select([\n",
    "    col for col in null_counts_features.columns if null_counts_features[0, col] != 0\n",
    "])"
   ]
  },
  {
   "cell_type": "markdown",
   "id": "5245db83",
   "metadata": {},
   "source": [
    "### Computing additional features\n",
    "\n",
    "Computing features based on `available_gb`, since there are no missing values"
   ]
  },
  {
   "cell_type": "code",
   "execution_count": null,
   "id": "e5edfb95",
   "metadata": {},
   "outputs": [
    {
     "name": "stdout",
     "output_type": "stream",
     "text": [
      "CPU times: user 46.7 ms, sys: 9.86 ms, total: 56.6 ms\n",
      "Wall time: 72.1 ms\n"
     ]
    }
   ],
   "source": [
    "%%time\n",
    "\n",
    "# Compute how many times the contract required more than available data, baed on definde threshold of the current plan.\n",
    "\n",
    "# Compute 20%, 50%, and 80% for available_gb per rating_account_id\n",
    "thresholds_available_gb = features_without_nulls.group_by('rating_account_id').agg([\n",
    "    (pl.col('available_gb') / 100 * 25).get(0).round(2).alias('p25'),\n",
    "    (pl.col('available_gb') / 100 * 50).get(0).round(2).alias('p50'),\n",
    "    (pl.col('available_gb') / 100 * 70).get(0).round(2).alias('p75'),\n",
    "])\n",
    "\n",
    "# Compute, for each month, in which range the usage falls\n",
    "percentile_exprs = []\n",
    "for i in range(1, 5):\n",
    "    percentile_expr = (\n",
    "        pl.when(pl.col(f'last_{i}_month_usage_gb').is_between(-1, pl.col('p25'), closed='right')). # -1 otherwise 0 is not counted\n",
    "        .then(pl.lit('P1'))\n",
    "        .when(pl.col(f'last_{i}_month_usage_gb').is_between(pl.col('p25'), pl.col('p50'), closed='right'))\n",
    "        .then(pl.lit('P2'))\n",
    "        .when(pl.col(f'last_{i}_month_usage_gb').is_between(pl.col('p50'), pl.col('p75'), closed='right'))\n",
    "        .then(pl.lit('P3'))\n",
    "        .when(pl.col(f'last_{i}_month_usage_gb').is_between(pl.col('p75'), pl.col('available_gb'), closed='right'))\n",
    "        .then(pl.lit('P4'))\n",
    "        .when(pl.col(f'last_{i}_month_usage_gb') > pl.col('available_gb'))\n",
    "        .then(pl.lit('P5')). # how many times has exceeded the available data\n",
    "        .otherwise(pl.lit(None))\n",
    "        .alias(f'month_{i}_threshold')\n",
    "    )\n",
    "    percentile_exprs.append(percentile_expr)\n",
    "\n",
    "# Compute how many times, in the past 4 months, the usage felt in specific ranges\n",
    "count_exprs = []\n",
    "for p in range(1, 6):\n",
    "    count_expr = sum(\n",
    "        (pl.col(f'month_{i}_threshold') == f'P{p}').cast(pl.Int32)\n",
    "        for i in range(1, 5)\n",
    "    ).alias(f'times_in_p{p}')\n",
    "    count_exprs.append(count_expr)\n",
    "\n",
    "# Final computation\n",
    "features_without_nulls = (\n",
    "    features_without_nulls\n",
    "    .join(\n",
    "        thresholds_available_gb,\n",
    "        on='rating_account_id',\n",
    "        how='left')\n",
    "    .with_columns(percentile_exprs)\n",
    "    .with_columns(count_exprs)\n",
    ").drop(['p25', 'p50', 'p75', 'month_1_threshold', 'month_2_threshold', 'month_3_threshold', 'month_4_threshold'])"
   ]
  },
  {
   "cell_type": "code",
   "execution_count": 41,
   "id": "75be9a31",
   "metadata": {},
   "outputs": [
    {
     "name": "stdout",
     "output_type": "stream",
     "text": [
      "Number of invalid rows: 0\n"
     ]
    }
   ],
   "source": [
    "# Check that the sum of times_in_p1 to times_in_p5 is always 4 (number of billing months) for each row\n",
    "check_sum = features_without_nulls.select(\n",
    "    (pl.col('times_in_p1') + pl.col('times_in_p2') + pl.col('times_in_p3') + pl.col('times_in_p4') + pl.col('times_in_p5')).alias('sum_p')\n",
    ")\n",
    "\n",
    "# Count how many rows do not have sum == 4\n",
    "invalid_rows = check_sum.filter(pl.col('sum_p') != 4).height\n",
    "print(f\"Number of invalid rows: {invalid_rows}\")"
   ]
  },
  {
   "cell_type": "markdown",
   "id": "e940d562",
   "metadata": {},
   "source": [
    "---"
   ]
  },
  {
   "cell_type": "markdown",
   "id": "e97e0b0c",
   "metadata": {},
   "source": [
    "## `final features dataframe`"
   ]
  },
  {
   "cell_type": "code",
   "execution_count": 37,
   "id": "c1ba55f3",
   "metadata": {},
   "outputs": [
    {
     "data": {
      "text/plain": [
       "(100000, 85)"
      ]
     },
     "execution_count": 37,
     "metadata": {},
     "output_type": "execute_result"
    }
   ],
   "source": [
    "features_without_nulls.shape"
   ]
  },
  {
   "cell_type": "code",
   "execution_count": 38,
   "id": "6886d4fa",
   "metadata": {},
   "outputs": [
    {
     "data": {
      "text/html": [
       "<div><style>\n",
       ".dataframe > thead > tr,\n",
       ".dataframe > tbody > tr {\n",
       "  text-align: right;\n",
       "  white-space: pre-wrap;\n",
       "}\n",
       "</style>\n",
       "<small>shape: (5, 85)</small><table border=\"1\" class=\"dataframe\"><thead><tr><th>rating_account_id</th><th>customer_id</th><th>age</th><th>contract_lifetime_days</th><th>remaining_binding_days</th><th>has_special_offer</th><th>is_magenta1_customer</th><th>available_gb</th><th>gross_mrc</th><th>has_done_upselling</th><th>contract_binding_days</th><th>completion_rate</th><th>is_bounded</th><th>is_huawei</th><th>is_oneplus</th><th>is_samsung</th><th>is_xiaomi</th><th>is_iphone</th><th>n_contracts_per_customer</th><th>avg_monthly_usage_gb</th><th>median_monthly_usage_gb</th><th>total_usage_gb</th><th>usage_std_gb</th><th>min_monthly_usage_gb</th><th>max_monthly_usage_gb</th><th>usage_q25_gb</th><th>usage_q75_gb</th><th>months_with_roaming</th><th>roaming_frequency_ratio</th><th>ever_used_roaming</th><th>always_used_roaming</th><th>zero_usage_months</th><th>active_usage_months</th><th>avg_delta_1mo</th><th>delta_1mo_volatility</th><th>max_delta_1mo_increase</th><th>max_delta_1mo_decrease</th><th>&hellip;</th><th>max_delta_3mo_increase</th><th>max_delta_3mo_decrease</th><th>months_with_delta_3mo_increase</th><th>months_with_delta_3mo_decrease</th><th>months_with_no_delta_3mo_change</th><th>last_1_2mo_rolling_avg</th><th>last_2_2mo_rolling_avg</th><th>last_3_2mo_rolling_avg</th><th>last_1_3mo_rolling_avg</th><th>last_2_3mo_rolling_avg</th><th>last_1_delta_1mo</th><th>last_2_delta_1mo</th><th>last_3_delta_1mo</th><th>last_1_delta_2mo</th><th>last_2_delta_2mo</th><th>last_1_delta_3mo</th><th>last_1_2mo_rolling_stdev</th><th>last_2_2mo_rolling_stdev</th><th>last_3_2mo_rolling_stdev</th><th>last_1_month_usage_gb</th><th>last_2_month_usage_gb</th><th>last_3_month_usage_gb</th><th>last_4_month_usage_gb</th><th>n_rechnungsanfragen</th><th>n_produkte&amp;services-tarifdetails</th><th>n_prolongation</th><th>n_produkte&amp;services-tarifwechsel</th><th>days_since_last_rechnungsanfragen</th><th>days_since_last_produkte&amp;services-tarifdetails</th><th>days_since_last_prolongation</th><th>days_since_last_produkte&amp;services-tarifwechsel</th><th>times_exceeded_available_gb</th><th>times_in_p1</th><th>times_in_p2</th><th>times_in_p3</th><th>times_in_p4</th><th>times_in_p5</th></tr><tr><td>str</td><td>str</td><td>i64</td><td>i64</td><td>i64</td><td>bool</td><td>bool</td><td>i64</td><td>f64</td><td>bool</td><td>i64</td><td>f64</td><td>bool</td><td>bool</td><td>bool</td><td>bool</td><td>bool</td><td>bool</td><td>u32</td><td>f64</td><td>f64</td><td>f64</td><td>f64</td><td>f64</td><td>f64</td><td>f64</td><td>f64</td><td>u32</td><td>f64</td><td>bool</td><td>bool</td><td>u32</td><td>u32</td><td>f64</td><td>f64</td><td>f64</td><td>f64</td><td>&hellip;</td><td>f64</td><td>f64</td><td>u32</td><td>u32</td><td>u32</td><td>f64</td><td>f64</td><td>f64</td><td>f64</td><td>f64</td><td>f64</td><td>f64</td><td>f64</td><td>f64</td><td>f64</td><td>f64</td><td>f64</td><td>f64</td><td>f64</td><td>f64</td><td>f64</td><td>f64</td><td>f64</td><td>i64</td><td>i64</td><td>i64</td><td>i64</td><td>i64</td><td>i64</td><td>i64</td><td>i64</td><td>i32</td><td>i32</td><td>i32</td><td>i32</td><td>i32</td><td>i32</td></tr></thead><tbody><tr><td>&quot;289094&quot;</td><td>&quot;4.161115&quot;</td><td>36</td><td>878</td><td>325</td><td>false</td><td>false</td><td>20</td><td>70</td><td>false</td><td>1203</td><td>0.73</td><td>true</td><td>false</td><td>false</td><td>false</td><td>false</td><td>true</td><td>1</td><td>0.28</td><td>0.15</td><td>1.1</td><td>0.36</td><td>0</td><td>0.8</td><td>0.1</td><td>0.2</td><td>1</td><td>0.25</td><td>true</td><td>false</td><td>1</td><td>3</td><td>-0.27</td><td>0.29</td><td>-0.1</td><td>-0.6</td><td>&hellip;</td><td>-0.8</td><td>-0.8</td><td>0</td><td>1</td><td>0</td><td>0.05</td><td>0.15</td><td>0.5</td><td>0.1</td><td>0.37</td><td>-0.1</td><td>-0.1</td><td>-0.6</td><td>-0.2</td><td>-0.7</td><td>-0.8</td><td>0.07</td><td>0.07</td><td>0.42</td><td>0.8</td><td>0.2</td><td>0.1</td><td>0</td><td>0</td><td>0</td><td>0</td><td>0</td><td>-1</td><td>-1</td><td>-1</td><td>-1</td><td>0</td><td>4</td><td>0</td><td>0</td><td>0</td><td>0</td></tr><tr><td>&quot;677626&quot;</td><td>&quot;2.429976&quot;</td><td>34</td><td>998</td><td>614</td><td>false</td><td>false</td><td>0</td><td>5</td><td>false</td><td>1612</td><td>0.62</td><td>true</td><td>false</td><td>false</td><td>true</td><td>false</td><td>false</td><td>1</td><td>0.65</td><td>0.65</td><td>2.6</td><td>0.31</td><td>0.3</td><td>1</td><td>0.5</td><td>0.8</td><td>1</td><td>0.25</td><td>true</td><td>false</td><td>0</td><td>4</td><td>0.07</td><td>0.55</td><td>0.7</td><td>-0.3</td><td>&hellip;</td><td>0.2</td><td>0.2</td><td>1</td><td>0</td><td>0</td><td>0.65</td><td>0.4</td><td>0.65</td><td>0.6</td><td>0.53</td><td>0.7</td><td>-0.2</td><td>-0.3</td><td>0.5</td><td>-0.5</td><td>0.2</td><td>0.49</td><td>0.14</td><td>0.21</td><td>0.8</td><td>0.5</td><td>0.3</td><td>1</td><td>0</td><td>0</td><td>1</td><td>1</td><td>-1</td><td>-1</td><td>87</td><td>118</td><td>4</td><td>0</td><td>0</td><td>0</td><td>0</td><td>4</td></tr><tr><td>&quot;769928&quot;</td><td>&quot;3.875044&quot;</td><td>36</td><td>37</td><td>-26</td><td>false</td><td>true</td><td>50</td><td>16.94</td><td>false</td><td>11</td><td>3.36</td><td>false</td><td>false</td><td>false</td><td>true</td><td>false</td><td>false</td><td>2</td><td>0.6</td><td>0.55</td><td>2.4</td><td>0.32</td><td>0.3</td><td>1</td><td>0.4</td><td>0.7</td><td>0</td><td>0</td><td>false</td><td>false</td><td>0</td><td>4</td><td>-0.2</td><td>0.56</td><td>0.4</td><td>-0.7</td><td>&hellip;</td><td>-0.6</td><td>-0.6</td><td>0</td><td>1</td><td>0</td><td>0.55</td><td>0.5</td><td>0.65</td><td>0.47</td><td>0.67</td><td>-0.3</td><td>0.4</td><td>-0.7</td><td>0.1</td><td>-0.3</td><td>-0.6</td><td>0.21</td><td>0.28</td><td>0.49</td><td>1</td><td>0.3</td><td>0.7</td><td>0.4</td><td>0</td><td>0</td><td>0</td><td>0</td><td>-1</td><td>-1</td><td>-1</td><td>-1</td><td>0</td><td>4</td><td>0</td><td>0</td><td>0</td><td>0</td></tr><tr><td>&quot;873260&quot;</td><td>&quot;4.649933&quot;</td><td>50</td><td>503</td><td>-149</td><td>false</td><td>true</td><td>20</td><td>30.2</td><td>true</td><td>354</td><td>1.42</td><td>false</td><td>false</td><td>false</td><td>false</td><td>false</td><td>true</td><td>1</td><td>0.38</td><td>0.25</td><td>1.5</td><td>0.36</td><td>0.1</td><td>0.9</td><td>0.2</td><td>0.3</td><td>0</td><td>0</td><td>false</td><td>false</td><td>0</td><td>4</td><td>0.03</td><td>0.67</td><td>0.6</td><td>-0.7</td><td>&hellip;</td><td>0.1</td><td>0.1</td><td>1</td><td>0</td><td>0</td><td>0.55</td><td>0.6</td><td>0.2</td><td>0.47</td><td>0.43</td><td>-0.7</td><td>0.6</td><td>0.2</td><td>-0.1</td><td>0.8</td><td>0.1</td><td>0.49</td><td>0.42</td><td>0.14</td><td>0.1</td><td>0.3</td><td>0.9</td><td>0.2</td><td>0</td><td>0</td><td>0</td><td>0</td><td>-1</td><td>-1</td><td>-1</td><td>-1</td><td>0</td><td>4</td><td>0</td><td>0</td><td>0</td><td>0</td></tr><tr><td>&quot;692379&quot;</td><td>&quot;4.382165&quot;</td><td>46</td><td>80</td><td>-25</td><td>false</td><td>true</td><td>40</td><td>60.71</td><td>false</td><td>55</td><td>1.45</td><td>false</td><td>true</td><td>false</td><td>false</td><td>false</td><td>false</td><td>1</td><td>0.55</td><td>0.6</td><td>2.2</td><td>0.3</td><td>0.2</td><td>0.8</td><td>0.4</td><td>0.8</td><td>2</td><td>0.5</td><td>true</td><td>false</td><td>0</td><td>4</td><td>0</td><td>0.53</td><td>0.6</td><td>-0.4</td><td>&hellip;</td><td>0</td><td>0</td><td>0</td><td>0</td><td>1</td><td>0.5</td><td>0.3</td><td>0.6</td><td>0.47</td><td>0.47</td><td>0.6</td><td>-0.2</td><td>-0.4</td><td>0.4</td><td>-0.6</td><td>0</td><td>0.42</td><td>0.14</td><td>0.28</td><td>0.8</td><td>0.4</td><td>0.2</td><td>0.8</td><td>0</td><td>0</td><td>0</td><td>0</td><td>-1</td><td>-1</td><td>-1</td><td>-1</td><td>0</td><td>4</td><td>0</td><td>0</td><td>0</td><td>0</td></tr></tbody></table></div>"
      ],
      "text/plain": [
       "shape: (5, 85)\n",
       "┌────────────┬────────────┬─────┬────────────┬───┬────────────┬────────────┬───────────┬───────────┐\n",
       "│ rating_acc ┆ customer_i ┆ age ┆ contract_l ┆ … ┆ times_in_p ┆ times_in_p ┆ times_in_ ┆ times_in_ │\n",
       "│ ount_id    ┆ d          ┆ --- ┆ ifetime_da ┆   ┆ 2          ┆ 3          ┆ p4        ┆ p5        │\n",
       "│ ---        ┆ ---        ┆ i64 ┆ ys         ┆   ┆ ---        ┆ ---        ┆ ---       ┆ ---       │\n",
       "│ str        ┆ str        ┆     ┆ ---        ┆   ┆ i32        ┆ i32        ┆ i32       ┆ i32       │\n",
       "│            ┆            ┆     ┆ i64        ┆   ┆            ┆            ┆           ┆           │\n",
       "╞════════════╪════════════╪═════╪════════════╪═══╪════════════╪════════════╪═══════════╪═══════════╡\n",
       "│ 289094     ┆ 4.161115   ┆ 36  ┆ 878        ┆ … ┆ 0          ┆ 0          ┆ 0         ┆ 0         │\n",
       "│ 677626     ┆ 2.429976   ┆ 34  ┆ 998        ┆ … ┆ 0          ┆ 0          ┆ 0         ┆ 4         │\n",
       "│ 769928     ┆ 3.875044   ┆ 36  ┆ 37         ┆ … ┆ 0          ┆ 0          ┆ 0         ┆ 0         │\n",
       "│ 873260     ┆ 4.649933   ┆ 50  ┆ 503        ┆ … ┆ 0          ┆ 0          ┆ 0         ┆ 0         │\n",
       "│ 692379     ┆ 4.382165   ┆ 46  ┆ 80         ┆ … ┆ 0          ┆ 0          ┆ 0         ┆ 0         │\n",
       "└────────────┴────────────┴─────┴────────────┴───┴────────────┴────────────┴───────────┴───────────┘"
      ]
     },
     "execution_count": 38,
     "metadata": {},
     "output_type": "execute_result"
    }
   ],
   "source": [
    "features_without_nulls.head()"
   ]
  },
  {
   "cell_type": "markdown",
   "id": "2d8ec0a1",
   "metadata": {},
   "source": [
    "# Features cleaning"
   ]
  },
  {
   "cell_type": "markdown",
   "id": "7a9465da",
   "metadata": {},
   "source": [
    "# Storing"
   ]
  },
  {
   "cell_type": "markdown",
   "id": "ccc65b72",
   "metadata": {},
   "source": []
  }
 ],
 "metadata": {
  "kernelspec": {
   "display_name": "ci-validation",
   "language": "python",
   "name": "python3"
  },
  "language_info": {
   "codemirror_mode": {
    "name": "ipython",
    "version": 3
   },
   "file_extension": ".py",
   "mimetype": "text/x-python",
   "name": "python",
   "nbconvert_exporter": "python",
   "pygments_lexer": "ipython3",
   "version": "3.12.0"
  }
 },
 "nbformat": 4,
 "nbformat_minor": 5
}
