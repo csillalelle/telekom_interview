{
 "cells": [
  {
   "cell_type": "markdown",
   "id": "66601fc9",
   "metadata": {},
   "source": [
    "# Imports and definitions"
   ]
  },
  {
   "cell_type": "code",
   "execution_count": 1,
   "id": "a8a0ea99",
   "metadata": {},
   "outputs": [],
   "source": [
    "import pickle\n",
    "from pathlib import Path\n",
    "\n",
    "import polars as pl\n",
    "import polars.selectors as cs\n",
    "\n",
    "from sklearn.linear_model import Ridge, Lasso\n",
    "from sklearn.model_selection import train_test_split\n",
    "from sklearn.metrics import mean_absolute_error\n",
    "\n",
    "import plotly.express as px\n",
    "\n",
    "\n",
    "_ = pl.Config.set_tbl_cols(None)\n",
    "_ = pl.Config.set_fmt_str_lengths(500)\n",
    "_ = pl.Config.set_fmt_float(\"full\")"
   ]
  },
  {
   "cell_type": "code",
   "execution_count": 2,
   "id": "8faa3fe6",
   "metadata": {},
   "outputs": [],
   "source": [
    "base_dir = Path('/workspaces/data-scientist-at-magenta/')\n",
    "code_dir = base_dir / 'notebooks'\n",
    "dagster_storage_dir = base_dir / 'dagster_home' / 'storage'"
   ]
  },
  {
   "cell_type": "code",
   "execution_count": 3,
   "id": "3331f18c",
   "metadata": {},
   "outputs": [],
   "source": [
    "def load_artifact(targ_file:str):\n",
    "    targ_path = dagster_storage_dir / targ_file\n",
    "    \n",
    "    if not targ_path.exists():\n",
    "        raise FileNotFoundError(f'Artifact {targ_file} not found in {dagster_storage_dir}')\n",
    "\n",
    "    with open(targ_path,'rb') as fp:\n",
    "        test_artifact = pickle.load(fp)\n",
    "\n",
    "    return pl.from_pandas(test_artifact)"
   ]
  },
  {
   "cell_type": "markdown",
   "id": "c602eecb",
   "metadata": {},
   "source": [
    "`core_data` <br><br>\n",
    "\n",
    "| Feature Name           | Description                                                  |\n",
    "|------------------------|--------------------------------------------------------------|\n",
    "| rating_account_id      | Unique identifier for the contract account                    |\n",
    "| customer_id            | Unique identifier for the customer                           |\n",
    "| age                    | Age of the customer **in years**                                       |\n",
    "| contract_lifetime_days | Total duration of the customer contract in days              |\n",
    "| remaining_binding_days | Number of days left in the contract binding period - usual binding period is 2 years - **if it's positive it means that the customer is still in the binding period**       |\n",
    "| has_special_offer      | Indicates if the customer has a special offer      |\n",
    "| is_magenta1_customer   | Indicates if the customer is part of the Magenta1 program - fedelty program    |\n",
    "| available_gb           | Amount of mobile data included in the current tariff         |\n",
    "| gross_mrc              | Gross monthly recurring charge (in euros)                    |\n",
    "| smartphone_brand       | Brand of the customer’s smartphone                           |\n",
    "| has_done_upselling     | Whether the customer has already done an upsell in the last 3 years      |\n"
   ]
  },
  {
   "cell_type": "markdown",
   "id": "583d2e94",
   "metadata": {},
   "source": [
    "`usage_info`\n",
    "\n",
    "| Feature Name           | Description                                                  |\n",
    "|------------------------|--------------------------------------------------------------|\n",
    "| rating_account_id      | Unique identifier for the contract account                    |\n",
    "| billed_period_month_d  | Billing period (monthly)                                     |\n",
    "| has_used_roaming       | Indicates if roaming was used during the period            |\n",
    "| used_gb                | Amount of mobile data used in the billing period (in GB)     |\n"
   ]
  },
  {
   "cell_type": "markdown",
   "id": "074317ef",
   "metadata": {},
   "source": [
    "`customer_interactions`\n",
    "\n",
    "| Feature Name   | Description                                                              |\n",
    "|----------------|--------------------------------------------------------------------------|\n",
    "| customer_id    | Unique identifier for the customer                                       |\n",
    "| type_subtype   | Category and subtype of the interaction (e.g., tariff change, billing)   |\n",
    "| n              | Number of interactions of this type in the last 6 months                                |\n",
    "| days_since_last| Number of days since the last interaction of this type                   |\n"
   ]
  },
  {
   "cell_type": "markdown",
   "id": "f3ab727d",
   "metadata": {},
   "source": [
    "# Read data"
   ]
  },
  {
   "cell_type": "code",
   "execution_count": 4,
   "id": "82ebb18c",
   "metadata": {},
   "outputs": [
    {
     "name": "stdout",
     "output_type": "stream",
     "text": [
      "CPU times: user 119 ms, sys: 31.1 ms, total: 150 ms\n",
      "Wall time: 197 ms\n"
     ]
    }
   ],
   "source": [
    "%%time\n",
    "\n",
    "core_data = load_artifact('core_data')\n",
    "customer_interactions = load_artifact('customer_interactions')\n",
    "usage_info = load_artifact('usage_info')"
   ]
  },
  {
   "cell_type": "markdown",
   "id": "e2166da0",
   "metadata": {},
   "source": [
    "---"
   ]
  },
  {
   "cell_type": "markdown",
   "id": "a46ae8c8",
   "metadata": {},
   "source": [
    "# Features computation"
   ]
  },
  {
   "cell_type": "markdown",
   "id": "6b561842",
   "metadata": {},
   "source": [
    "## `core_data`"
   ]
  },
  {
   "cell_type": "code",
   "execution_count": 5,
   "id": "1216de29",
   "metadata": {},
   "outputs": [
    {
     "name": "stdout",
     "output_type": "stream",
     "text": [
      "CPU times: user 38.1 ms, sys: 8.92 ms, total: 47 ms\n",
      "Wall time: 61.9 ms\n"
     ]
    }
   ],
   "source": [
    "%%time\n",
    "\n",
    "core_data = core_data.with_columns(\n",
    "    pl.col('rating_account_id').cast(pl.Utf8),\n",
    "    pl.col(\"has_done_upselling\").cast(pl.Boolean),\n",
    "    pl.col(\"has_special_offer\").cast(pl.Boolean),\n",
    "    pl.col(\"is_magenta1_customer\").cast(pl.Boolean)\n",
    ")\n",
    "\n",
    "# Manipulating binding days\n",
    "core_data = core_data.with_columns(\n",
    "    (pl.col('contract_lifetime_days') + pl.col('remaining_binding_days')).alias('contract_binding_days'),\n",
    "    (pl.col('contract_lifetime_days') / (pl.col('contract_lifetime_days') + pl.col('remaining_binding_days'))).round(2).alias('completion_rate'),\n",
    "    pl.when(pl.col('remaining_binding_days') > 0)\n",
    "        .then(True)\n",
    "        .otherwise(False)\n",
    "        .alias('is_bounded')\n",
    ")\n",
    "\n",
    "\n",
    "# One-hot-encoding smartphone brands - extracting the values in order to keep the same order for the columns\n",
    "# The number of unique values is not too high, so one-hot-encoding is not affecting the dimensionality too much\n",
    "smartphone_brands_list = core_data.select(pl.col('smartphone_brand')).unique().to_series().sort().to_list()\n",
    "core_data = core_data.with_columns(\n",
    "    [\n",
    "        pl.when(pl.col(\"smartphone_brand\") == brand)\n",
    "        .then(True)\n",
    "        .otherwise(False)\n",
    "        .alias(f\"is_{brand.lower()}\")\n",
    "        for brand in smartphone_brands_list\n",
    "    ]\n",
    ")\n",
    "core_data = core_data.drop(\"smartphone_brand\")\n",
    "\n",
    "\n",
    "# Add how many contract has the customer - including the current one\n",
    "n_contract_per_customer = core_data.group_by(\"customer_id\").agg(\n",
    "    pl.col(\"rating_account_id\").count().alias(\"n_contracts_per_customer\")\n",
    ")\n",
    "core_data = core_data.join(n_contract_per_customer, on=\"customer_id\", how=\"left\")"
   ]
  },
  {
   "cell_type": "code",
   "execution_count": 6,
   "id": "4773ac6f",
   "metadata": {},
   "outputs": [
    {
     "data": {
      "text/html": [
       "<div><style>\n",
       ".dataframe > thead > tr,\n",
       ".dataframe > tbody > tr {\n",
       "  text-align: right;\n",
       "  white-space: pre-wrap;\n",
       "}\n",
       "</style>\n",
       "<small>shape: (100_000, 19)</small><table border=\"1\" class=\"dataframe\"><thead><tr><th>rating_account_id</th><th>customer_id</th><th>age</th><th>contract_lifetime_days</th><th>remaining_binding_days</th><th>has_special_offer</th><th>is_magenta1_customer</th><th>available_gb</th><th>gross_mrc</th><th>has_done_upselling</th><th>contract_binding_days</th><th>completion_rate</th><th>is_bounded</th><th>is_huawei</th><th>is_oneplus</th><th>is_samsung</th><th>is_xiaomi</th><th>is_iphone</th><th>n_contracts_per_customer</th></tr><tr><td>str</td><td>str</td><td>i64</td><td>i64</td><td>i64</td><td>bool</td><td>bool</td><td>i64</td><td>f64</td><td>bool</td><td>i64</td><td>f64</td><td>bool</td><td>bool</td><td>bool</td><td>bool</td><td>bool</td><td>bool</td><td>u32</td></tr></thead><tbody><tr><td>&quot;289094&quot;</td><td>&quot;4.161115&quot;</td><td>36</td><td>878</td><td>325</td><td>false</td><td>false</td><td>20</td><td>70</td><td>false</td><td>1203</td><td>0.73</td><td>true</td><td>false</td><td>false</td><td>false</td><td>false</td><td>true</td><td>1</td></tr><tr><td>&quot;677626&quot;</td><td>&quot;2.429976&quot;</td><td>34</td><td>998</td><td>614</td><td>false</td><td>false</td><td>0</td><td>5</td><td>false</td><td>1612</td><td>0.62</td><td>true</td><td>false</td><td>false</td><td>true</td><td>false</td><td>false</td><td>1</td></tr><tr><td>&quot;769928&quot;</td><td>&quot;3.875044&quot;</td><td>36</td><td>37</td><td>-26</td><td>false</td><td>true</td><td>50</td><td>16.94</td><td>false</td><td>11</td><td>3.36</td><td>false</td><td>false</td><td>false</td><td>true</td><td>false</td><td>false</td><td>2</td></tr><tr><td>&quot;873260&quot;</td><td>&quot;4.649933&quot;</td><td>50</td><td>503</td><td>-149</td><td>false</td><td>true</td><td>20</td><td>30.2</td><td>true</td><td>354</td><td>1.42</td><td>false</td><td>false</td><td>false</td><td>false</td><td>false</td><td>true</td><td>1</td></tr><tr><td>&quot;109774&quot;</td><td>&quot;3.851059&quot;</td><td>47</td><td>331</td><td>-328</td><td>true</td><td>true</td><td>null</td><td>46.12</td><td>false</td><td>3</td><td>110.33</td><td>false</td><td>false</td><td>false</td><td>true</td><td>false</td><td>false</td><td>3</td></tr><tr><td>&hellip;</td><td>&hellip;</td><td>&hellip;</td><td>&hellip;</td><td>&hellip;</td><td>&hellip;</td><td>&hellip;</td><td>&hellip;</td><td>&hellip;</td><td>&hellip;</td><td>&hellip;</td><td>&hellip;</td><td>&hellip;</td><td>&hellip;</td><td>&hellip;</td><td>&hellip;</td><td>&hellip;</td><td>&hellip;</td><td>&hellip;</td></tr><tr><td>&quot;502283&quot;</td><td>&quot;5.605022&quot;</td><td>88</td><td>1573</td><td>-576</td><td>false</td><td>false</td><td>10</td><td>34.18</td><td>false</td><td>997</td><td>1.58</td><td>false</td><td>false</td><td>false</td><td>true</td><td>false</td><td>false</td><td>4</td></tr><tr><td>&quot;618421&quot;</td><td>&quot;2.862063&quot;</td><td>85</td><td>1138</td><td>412</td><td>true</td><td>false</td><td>40</td><td>50.1</td><td>false</td><td>1550</td><td>0.73</td><td>true</td><td>false</td><td>false</td><td>false</td><td>false</td><td>true</td><td>1</td></tr><tr><td>&quot;104422&quot;</td><td>&quot;2.414264&quot;</td><td>79</td><td>1709</td><td>-494</td><td>false</td><td>false</td><td>10</td><td>12.96</td><td>false</td><td>1215</td><td>1.41</td><td>false</td><td>false</td><td>false</td><td>true</td><td>false</td><td>false</td><td>3</td></tr><tr><td>&quot;642380&quot;</td><td>&quot;3.619106&quot;</td><td>84</td><td>1592</td><td>403</td><td>false</td><td>false</td><td>10</td><td>56.73</td><td>false</td><td>1995</td><td>0.8</td><td>true</td><td>false</td><td>false</td><td>true</td><td>false</td><td>false</td><td>2</td></tr><tr><td>&quot;620562&quot;</td><td>&quot;2.177584&quot;</td><td>88</td><td>1711</td><td>383</td><td>false</td><td>false</td><td>10</td><td>5</td><td>false</td><td>2094</td><td>0.82</td><td>true</td><td>false</td><td>false</td><td>false</td><td>false</td><td>true</td><td>2</td></tr></tbody></table></div>"
      ],
      "text/plain": [
       "shape: (100_000, 19)\n",
       "┌────────────┬────────────┬─────┬────────────┬───┬────────────┬───────────┬───────────┬────────────┐\n",
       "│ rating_acc ┆ customer_i ┆ age ┆ contract_l ┆ … ┆ is_samsung ┆ is_xiaomi ┆ is_iphone ┆ n_contract │\n",
       "│ ount_id    ┆ d          ┆ --- ┆ ifetime_da ┆   ┆ ---        ┆ ---       ┆ ---       ┆ s_per_cust │\n",
       "│ ---        ┆ ---        ┆ i64 ┆ ys         ┆   ┆ bool       ┆ bool      ┆ bool      ┆ omer       │\n",
       "│ str        ┆ str        ┆     ┆ ---        ┆   ┆            ┆           ┆           ┆ ---        │\n",
       "│            ┆            ┆     ┆ i64        ┆   ┆            ┆           ┆           ┆ u32        │\n",
       "╞════════════╪════════════╪═════╪════════════╪═══╪════════════╪═══════════╪═══════════╪════════════╡\n",
       "│ 289094     ┆ 4.161115   ┆ 36  ┆ 878        ┆ … ┆ false      ┆ false     ┆ true      ┆ 1          │\n",
       "│ 677626     ┆ 2.429976   ┆ 34  ┆ 998        ┆ … ┆ true       ┆ false     ┆ false     ┆ 1          │\n",
       "│ 769928     ┆ 3.875044   ┆ 36  ┆ 37         ┆ … ┆ true       ┆ false     ┆ false     ┆ 2          │\n",
       "│ 873260     ┆ 4.649933   ┆ 50  ┆ 503        ┆ … ┆ false      ┆ false     ┆ true      ┆ 1          │\n",
       "│ 109774     ┆ 3.851059   ┆ 47  ┆ 331        ┆ … ┆ true       ┆ false     ┆ false     ┆ 3          │\n",
       "│ …          ┆ …          ┆ …   ┆ …          ┆ … ┆ …          ┆ …         ┆ …         ┆ …          │\n",
       "│ 502283     ┆ 5.605022   ┆ 88  ┆ 1573       ┆ … ┆ true       ┆ false     ┆ false     ┆ 4          │\n",
       "│ 618421     ┆ 2.862063   ┆ 85  ┆ 1138       ┆ … ┆ false      ┆ false     ┆ true      ┆ 1          │\n",
       "│ 104422     ┆ 2.414264   ┆ 79  ┆ 1709       ┆ … ┆ true       ┆ false     ┆ false     ┆ 3          │\n",
       "│ 642380     ┆ 3.619106   ┆ 84  ┆ 1592       ┆ … ┆ true       ┆ false     ┆ false     ┆ 2          │\n",
       "│ 620562     ┆ 2.177584   ┆ 88  ┆ 1711       ┆ … ┆ false      ┆ false     ┆ true      ┆ 2          │\n",
       "└────────────┴────────────┴─────┴────────────┴───┴────────────┴───────────┴───────────┴────────────┘"
      ]
     },
     "execution_count": 6,
     "metadata": {},
     "output_type": "execute_result"
    }
   ],
   "source": [
    "core_data"
   ]
  },
  {
   "cell_type": "code",
   "execution_count": 7,
   "id": "245da419",
   "metadata": {},
   "outputs": [
    {
     "data": {
      "text/plain": [
       "(100000, 19)"
      ]
     },
     "execution_count": 7,
     "metadata": {},
     "output_type": "execute_result"
    }
   ],
   "source": [
    "core_data.shape"
   ]
  },
  {
   "cell_type": "markdown",
   "id": "cdd17951",
   "metadata": {},
   "source": [
    "---"
   ]
  },
  {
   "cell_type": "markdown",
   "id": "dec4f76e",
   "metadata": {},
   "source": [
    "## `usage_info`"
   ]
  },
  {
   "cell_type": "code",
   "execution_count": 8,
   "id": "45b12ecd",
   "metadata": {},
   "outputs": [
    {
     "name": "stdout",
     "output_type": "stream",
     "text": [
      "CPU times: user 219 ms, sys: 6.43 ms, total: 226 ms\n",
      "Wall time: 196 ms\n"
     ]
    }
   ],
   "source": [
    "%%time\n",
    "\n",
    "usage_info = usage_info.with_columns([\n",
    "    pl.col('rating_account_id').cast(pl.Utf8),\n",
    "    pl.col('billed_period_month_d').cast(pl.Date),\n",
    "    pl.col('has_used_roaming').cast(pl.Boolean),\n",
    "    pl.col('used_gb').cast(pl.Float64)\n",
    "]).sort(['rating_account_id', 'billed_period_month_d'])"
   ]
  },
  {
   "cell_type": "code",
   "execution_count": 9,
   "id": "74f34c97",
   "metadata": {},
   "outputs": [
    {
     "name": "stdout",
     "output_type": "stream",
     "text": [
      "CPU times: user 7.22 ms, sys: 1.73 ms, total: 8.95 ms\n",
      "Wall time: 7.52 ms\n"
     ]
    }
   ],
   "source": [
    "%%time\n",
    "\n",
    "month_usage = usage_info.group_by('rating_account_id').agg([\n",
    "    pl.col('used_gb')\n",
    "])\n",
    "\n",
    "month_usage = month_usage.with_columns([\n",
    "    pl.col('used_gb').list.get(0).alias('last_1_month_usage_gb'),\n",
    "    pl.col('used_gb').list.get(1).alias('last_2_month_usage_gb'),\n",
    "    pl.col('used_gb').list.get(2).alias('last_3_month_usage_gb'),\n",
    "    pl.col('used_gb').list.get(3).alias('last_4_month_usage_gb'),\n",
    "\n",
    "]).drop('used_gb')\n"
   ]
  },
  {
   "cell_type": "code",
   "execution_count": 10,
   "id": "e4e800c9",
   "metadata": {},
   "outputs": [
    {
     "data": {
      "text/html": [
       "<div><style>\n",
       ".dataframe > thead > tr,\n",
       ".dataframe > tbody > tr {\n",
       "  text-align: right;\n",
       "  white-space: pre-wrap;\n",
       "}\n",
       "</style>\n",
       "<small>shape: (100_000, 5)</small><table border=\"1\" class=\"dataframe\"><thead><tr><th>rating_account_id</th><th>last_1_month_usage_gb</th><th>last_2_month_usage_gb</th><th>last_3_month_usage_gb</th><th>last_4_month_usage_gb</th></tr><tr><td>str</td><td>f64</td><td>f64</td><td>f64</td><td>f64</td></tr></thead><tbody><tr><td>&quot;100010&quot;</td><td>0.9</td><td>0.8</td><td>0.4</td><td>0.9</td></tr><tr><td>&quot;100017&quot;</td><td>0.7</td><td>0.5</td><td>0.8</td><td>0.3</td></tr><tr><td>&quot;100036&quot;</td><td>0.9</td><td>0.2</td><td>0.2</td><td>1</td></tr><tr><td>&quot;100047&quot;</td><td>35.6</td><td>48.9</td><td>35.4</td><td>50.7</td></tr><tr><td>&quot;100064&quot;</td><td>0.7</td><td>0.7</td><td>0.3</td><td>0.8</td></tr><tr><td>&hellip;</td><td>&hellip;</td><td>&hellip;</td><td>&hellip;</td><td>&hellip;</td></tr><tr><td>&quot;999922&quot;</td><td>2.3</td><td>1.4</td><td>3.6</td><td>2.1</td></tr><tr><td>&quot;999934&quot;</td><td>12.8</td><td>13.8</td><td>14.5</td><td>6.5</td></tr><tr><td>&quot;999940&quot;</td><td>9.8</td><td>11.6</td><td>5.4</td><td>14.4</td></tr><tr><td>&quot;999956&quot;</td><td>13</td><td>10.4</td><td>13.7</td><td>14.1</td></tr><tr><td>&quot;999971&quot;</td><td>3.7</td><td>2.3</td><td>1.1</td><td>1.1</td></tr></tbody></table></div>"
      ],
      "text/plain": [
       "shape: (100_000, 5)\n",
       "┌───────────────────┬───────────────────┬───────────────────┬───────────────────┬──────────────────┐\n",
       "│ rating_account_id ┆ last_1_month_usag ┆ last_2_month_usag ┆ last_3_month_usag ┆ last_4_month_usa │\n",
       "│ ---               ┆ e_gb              ┆ e_gb              ┆ e_gb              ┆ ge_gb            │\n",
       "│ str               ┆ ---               ┆ ---               ┆ ---               ┆ ---              │\n",
       "│                   ┆ f64               ┆ f64               ┆ f64               ┆ f64              │\n",
       "╞═══════════════════╪═══════════════════╪═══════════════════╪═══════════════════╪══════════════════╡\n",
       "│ 100010            ┆ 0.9               ┆ 0.8               ┆ 0.4               ┆ 0.9              │\n",
       "│ 100017            ┆ 0.7               ┆ 0.5               ┆ 0.8               ┆ 0.3              │\n",
       "│ 100036            ┆ 0.9               ┆ 0.2               ┆ 0.2               ┆ 1                │\n",
       "│ 100047            ┆ 35.6              ┆ 48.9              ┆ 35.4              ┆ 50.7             │\n",
       "│ 100064            ┆ 0.7               ┆ 0.7               ┆ 0.3               ┆ 0.8              │\n",
       "│ …                 ┆ …                 ┆ …                 ┆ …                 ┆ …                │\n",
       "│ 999922            ┆ 2.3               ┆ 1.4               ┆ 3.6               ┆ 2.1              │\n",
       "│ 999934            ┆ 12.8              ┆ 13.8              ┆ 14.5              ┆ 6.5              │\n",
       "│ 999940            ┆ 9.8               ┆ 11.6              ┆ 5.4               ┆ 14.4             │\n",
       "│ 999956            ┆ 13                ┆ 10.4              ┆ 13.7              ┆ 14.1             │\n",
       "│ 999971            ┆ 3.7               ┆ 2.3               ┆ 1.1               ┆ 1.1              │\n",
       "└───────────────────┴───────────────────┴───────────────────┴───────────────────┴──────────────────┘"
      ]
     },
     "execution_count": 10,
     "metadata": {},
     "output_type": "execute_result"
    }
   ],
   "source": [
    "month_usage"
   ]
  },
  {
   "cell_type": "code",
   "execution_count": 11,
   "id": "f1c8a71b",
   "metadata": {},
   "outputs": [
    {
     "name": "stdout",
     "output_type": "stream",
     "text": [
      "CPU times: user 377 ms, sys: 15.3 ms, total: 393 ms\n",
      "Wall time: 330 ms\n"
     ]
    }
   ],
   "source": [
    "%%time\n",
    "\n",
    "aggregated_features = usage_info.group_by('rating_account_id').agg([\n",
    "    \n",
    "    # BASIC USAGE STATISTICS\n",
    "    pl.col('used_gb').mean().round(2).alias('avg_monthly_usage_gb'),\n",
    "    pl.col('used_gb').median().round(2).alias('median_monthly_usage_gb'),\n",
    "    pl.col('used_gb').sum().round(2).alias('total_usage_gb'),\n",
    "    pl.col('used_gb').std().round(2).alias('usage_std_gb'),\n",
    "    pl.col('used_gb').min().round(2).alias('min_monthly_usage_gb'),\n",
    "    pl.col('used_gb').max().round(2).alias('max_monthly_usage_gb'),\n",
    "    pl.col('used_gb').quantile(0.25).round(2).alias('usage_q25_gb'),\n",
    "    pl.col('used_gb').quantile(0.75).round(2).alias('usage_q75_gb'),\n",
    "    \n",
    "    # ROAMING STATISTICS\n",
    "    pl.col('has_used_roaming').sum().alias('months_with_roaming'),\n",
    "    pl.col('has_used_roaming').any().alias('ever_used_roaming'),\n",
    "    pl.col('has_used_roaming').all().alias('always_used_roaming'),\n",
    "    \n",
    "    # # USAGE INTENSITY CATEGORIES\n",
    "    (pl.col('used_gb') == 0).sum().alias('zero_usage_months'),\n",
    "    (pl.col('used_gb') > 0).sum().alias('active_usage_months'),\n",
    "])"
   ]
  },
  {
   "cell_type": "code",
   "execution_count": 12,
   "id": "61b6148d",
   "metadata": {},
   "outputs": [
    {
     "data": {
      "text/html": [
       "<div><style>\n",
       ".dataframe > thead > tr,\n",
       ".dataframe > tbody > tr {\n",
       "  text-align: right;\n",
       "  white-space: pre-wrap;\n",
       "}\n",
       "</style>\n",
       "<small>shape: (100_000, 14)</small><table border=\"1\" class=\"dataframe\"><thead><tr><th>rating_account_id</th><th>avg_monthly_usage_gb</th><th>median_monthly_usage_gb</th><th>total_usage_gb</th><th>usage_std_gb</th><th>min_monthly_usage_gb</th><th>max_monthly_usage_gb</th><th>usage_q25_gb</th><th>usage_q75_gb</th><th>months_with_roaming</th><th>ever_used_roaming</th><th>always_used_roaming</th><th>zero_usage_months</th><th>active_usage_months</th></tr><tr><td>str</td><td>f64</td><td>f64</td><td>f64</td><td>f64</td><td>f64</td><td>f64</td><td>f64</td><td>f64</td><td>u32</td><td>bool</td><td>bool</td><td>u32</td><td>u32</td></tr></thead><tbody><tr><td>&quot;100010&quot;</td><td>0.75</td><td>0.85</td><td>3</td><td>0.24</td><td>0.4</td><td>0.9</td><td>0.8</td><td>0.9</td><td>0</td><td>false</td><td>false</td><td>0</td><td>4</td></tr><tr><td>&quot;100017&quot;</td><td>0.57</td><td>0.6</td><td>2.3</td><td>0.22</td><td>0.3</td><td>0.8</td><td>0.5</td><td>0.7</td><td>2</td><td>true</td><td>false</td><td>0</td><td>4</td></tr><tr><td>&quot;100036&quot;</td><td>0.57</td><td>0.55</td><td>2.3</td><td>0.43</td><td>0.2</td><td>1</td><td>0.2</td><td>0.9</td><td>1</td><td>true</td><td>false</td><td>0</td><td>4</td></tr><tr><td>&quot;100047&quot;</td><td>42.65</td><td>42.25</td><td>170.6</td><td>8.29</td><td>35.4</td><td>50.7</td><td>35.6</td><td>48.9</td><td>0</td><td>false</td><td>false</td><td>0</td><td>4</td></tr><tr><td>&quot;100064&quot;</td><td>0.62</td><td>0.7</td><td>2.5</td><td>0.22</td><td>0.3</td><td>0.8</td><td>0.7</td><td>0.7</td><td>1</td><td>true</td><td>false</td><td>0</td><td>4</td></tr><tr><td>&hellip;</td><td>&hellip;</td><td>&hellip;</td><td>&hellip;</td><td>&hellip;</td><td>&hellip;</td><td>&hellip;</td><td>&hellip;</td><td>&hellip;</td><td>&hellip;</td><td>&hellip;</td><td>&hellip;</td><td>&hellip;</td><td>&hellip;</td></tr><tr><td>&quot;999922&quot;</td><td>2.35</td><td>2.2</td><td>9.4</td><td>0.92</td><td>1.4</td><td>3.6</td><td>2.1</td><td>2.3</td><td>0</td><td>false</td><td>false</td><td>0</td><td>4</td></tr><tr><td>&quot;999934&quot;</td><td>11.9</td><td>13.3</td><td>47.6</td><td>3.67</td><td>6.5</td><td>14.5</td><td>12.8</td><td>13.8</td><td>3</td><td>true</td><td>false</td><td>0</td><td>4</td></tr><tr><td>&quot;999940&quot;</td><td>10.3</td><td>10.7</td><td>41.2</td><td>3.78</td><td>5.4</td><td>14.4</td><td>9.8</td><td>11.6</td><td>1</td><td>true</td><td>false</td><td>0</td><td>4</td></tr><tr><td>&quot;999956&quot;</td><td>12.8</td><td>13.35</td><td>51.2</td><td>1.66</td><td>10.4</td><td>14.1</td><td>13</td><td>13.7</td><td>0</td><td>false</td><td>false</td><td>0</td><td>4</td></tr><tr><td>&quot;999971&quot;</td><td>2.05</td><td>1.7</td><td>8.2</td><td>1.24</td><td>1.1</td><td>3.7</td><td>1.1</td><td>2.3</td><td>2</td><td>true</td><td>false</td><td>0</td><td>4</td></tr></tbody></table></div>"
      ],
      "text/plain": [
       "shape: (100_000, 14)\n",
       "┌───────────┬───────────┬───────────┬───────────┬───┬───────────┬───────────┬───────────┬──────────┐\n",
       "│ rating_ac ┆ avg_month ┆ median_mo ┆ total_usa ┆ … ┆ ever_used ┆ always_us ┆ zero_usag ┆ active_u │\n",
       "│ count_id  ┆ ly_usage_ ┆ nthly_usa ┆ ge_gb     ┆   ┆ _roaming  ┆ ed_roamin ┆ e_months  ┆ sage_mon │\n",
       "│ ---       ┆ gb        ┆ ge_gb     ┆ ---       ┆   ┆ ---       ┆ g         ┆ ---       ┆ ths      │\n",
       "│ str       ┆ ---       ┆ ---       ┆ f64       ┆   ┆ bool      ┆ ---       ┆ u32       ┆ ---      │\n",
       "│           ┆ f64       ┆ f64       ┆           ┆   ┆           ┆ bool      ┆           ┆ u32      │\n",
       "╞═══════════╪═══════════╪═══════════╪═══════════╪═══╪═══════════╪═══════════╪═══════════╪══════════╡\n",
       "│ 100010    ┆ 0.75      ┆ 0.85      ┆ 3         ┆ … ┆ false     ┆ false     ┆ 0         ┆ 4        │\n",
       "│ 100017    ┆ 0.57      ┆ 0.6       ┆ 2.3       ┆ … ┆ true      ┆ false     ┆ 0         ┆ 4        │\n",
       "│ 100036    ┆ 0.57      ┆ 0.55      ┆ 2.3       ┆ … ┆ true      ┆ false     ┆ 0         ┆ 4        │\n",
       "│ 100047    ┆ 42.65     ┆ 42.25     ┆ 170.6     ┆ … ┆ false     ┆ false     ┆ 0         ┆ 4        │\n",
       "│ 100064    ┆ 0.62      ┆ 0.7       ┆ 2.5       ┆ … ┆ true      ┆ false     ┆ 0         ┆ 4        │\n",
       "│ …         ┆ …         ┆ …         ┆ …         ┆ … ┆ …         ┆ …         ┆ …         ┆ …        │\n",
       "│ 999922    ┆ 2.35      ┆ 2.2       ┆ 9.4       ┆ … ┆ false     ┆ false     ┆ 0         ┆ 4        │\n",
       "│ 999934    ┆ 11.9      ┆ 13.3      ┆ 47.6      ┆ … ┆ true      ┆ false     ┆ 0         ┆ 4        │\n",
       "│ 999940    ┆ 10.3      ┆ 10.7      ┆ 41.2      ┆ … ┆ true      ┆ false     ┆ 0         ┆ 4        │\n",
       "│ 999956    ┆ 12.8      ┆ 13.35     ┆ 51.2      ┆ … ┆ false     ┆ false     ┆ 0         ┆ 4        │\n",
       "│ 999971    ┆ 2.05      ┆ 1.7       ┆ 8.2       ┆ … ┆ true      ┆ false     ┆ 0         ┆ 4        │\n",
       "└───────────┴───────────┴───────────┴───────────┴───┴───────────┴───────────┴───────────┴──────────┘"
      ]
     },
     "execution_count": 12,
     "metadata": {},
     "output_type": "execute_result"
    }
   ],
   "source": [
    "aggregated_features"
   ]
  },
  {
   "cell_type": "code",
   "execution_count": 13,
   "id": "d7d17fcd",
   "metadata": {},
   "outputs": [
    {
     "name": "stdout",
     "output_type": "stream",
     "text": [
      "CPU times: user 2.83 s, sys: 13.7 ms, total: 2.84 s\n",
      "Wall time: 1.87 s\n"
     ]
    }
   ],
   "source": [
    "%%time\n",
    "\n",
    "# CALCULATE TRENDS AND ROLLING METRICS\n",
    "trend_features = usage_info.group_by('rating_account_id').agg([\n",
    "    # ROLLING AVERAGES\n",
    "    # 2-month rolling average\n",
    "    pl.col('used_gb').rolling_mean_by(\n",
    "        'billed_period_month_d', window_size='2mo'\n",
    "    ).alias('avg_2month_rolling_usage_gb'),\n",
    "    \n",
    "    # 3-month rolling average\n",
    "        pl.col('used_gb').rolling_mean_by(\n",
    "        'billed_period_month_d', window_size='3mo'\n",
    "    ).alias('avg_3month_rolling_usage_gb'),\n",
    "\n",
    "    \n",
    "    # PERIOD-OVER-PERIOD DELTAS\n",
    "    (pl.col('used_gb') - pl.col('used_gb').shift(1)).alias('delta_1mo'),\n",
    "    (pl.col('used_gb') - pl.col('used_gb').shift(2)).alias('delta_2mo'),\n",
    "    (pl.col('used_gb') - pl.col('used_gb').shift(3)).alias('delta_3mo'),\n",
    "\n",
    "    # VOLATILITY METRICS\n",
    "    # Rolling standard deviation\n",
    "    pl.col('used_gb').rolling_std_by(\n",
    "        'billed_period_month_d', window_size='2mo'\n",
    "    ).alias('std_2month_rolling_usage_gb')\n",
    "])\n",
    "\n",
    "trend_features = trend_features.with_columns([\n",
    "    # delta_1mo statistics\n",
    "    pl.col('delta_1mo').list.mean().round(2).alias('avg_delta_1mo'),\n",
    "    pl.col('delta_1mo').list.std().round(2).alias('delta_1mo_volatility'),\n",
    "    pl.col('delta_1mo').list.max().round(2).alias('max_delta_1mo_increase'),\n",
    "    pl.col('delta_1mo').list.min().round(2).alias('max_delta_1mo_decrease'),\n",
    "    pl.col('delta_1mo').list.eval(pl.element() > 0).list.sum().alias('months_with_delta_1mo_increase'),\n",
    "    pl.col('delta_1mo').list.eval(pl.element() < 0).list.sum().alias('months_with_delta_1mo_decrease'),\n",
    "    pl.col('delta_1mo').list.eval(pl.element() == 0).list.sum().alias('months_with_no_delta_1mo_change'),\n",
    "\n",
    "    # delta_2mo statistics\n",
    "    pl.col('delta_2mo').list.mean().round(2).alias('avg_delta_2mo'),\n",
    "    pl.col('delta_2mo').list.std().round(2).alias('delta_2mo_volatility'),\n",
    "    pl.col('delta_2mo').list.max().round(2).alias('max_delta_2mo_increase'),\n",
    "    pl.col('delta_2mo').list.min().round(2).alias('max_delta_2mo_decrease'),\n",
    "    pl.col('delta_2mo').list.eval(pl.element() > 0).list.sum().alias('months_with_delta_2mo_increase'),\n",
    "    pl.col('delta_2mo').list.eval(pl.element() < 0).list.sum().alias('months_with_delta_2mo_decrease'),\n",
    "    pl.col('delta_2mo').list.eval(pl.element() == 0).list.sum().alias('months_with_no_delta_2mo_change'),\n",
    "\n",
    "    # delta_3mo statistics\n",
    "    pl.col('delta_3mo').list.mean().round(2).alias('avg_delta_3mo'),\n",
    "    pl.col('delta_3mo').list.max().round(2).alias('max_delta_3mo_increase'),\n",
    "    pl.col('delta_3mo').list.min().round(2).alias('max_delta_3mo_decrease'),\n",
    "    pl.col('delta_3mo').list.eval(pl.element() > 0).list.sum().alias('months_with_delta_3mo_increase'),\n",
    "    pl.col('delta_3mo').list.eval(pl.element() < 0).list.sum().alias('months_with_delta_3mo_decrease'),\n",
    "    pl.col('delta_3mo').list.eval(pl.element() == 0).list.sum().alias('months_with_no_delta_3mo_change'),\n",
    "])\n",
    "\n",
    "# The following block extracts the last N values from the rolling/statistical lists for each account.\n",
    "# Each column contains the most recent, second most recent, etc. value from the corresponding list\n",
    "\n",
    "trend_features = trend_features.with_columns([\n",
    "    pl.col('avg_2month_rolling_usage_gb').list.get(-(i+1)).round(2).alias(f'last_{i+1}_2mo_rolling_avg')\n",
    "    for i in range(3)\n",
    "]).drop('avg_2month_rolling_usage_gb')\n",
    "\n",
    "trend_features = trend_features.with_columns([\n",
    "    pl.col('avg_3month_rolling_usage_gb').list.get(-(i+1)).round(2).alias(f'last_{i+1}_3mo_rolling_avg')\n",
    "    for i in range(2)\n",
    "]).drop('avg_3month_rolling_usage_gb')\n",
    "\n",
    "trend_features = trend_features.with_columns([\n",
    "    pl.col('delta_1mo').list.get(-(i+1)).round(2).alias(f'last_{i+1}_delta_1mo')\n",
    "    for i in range(3)\n",
    "]).drop('delta_1mo')\n",
    "\n",
    "trend_features = trend_features.with_columns([\n",
    "    pl.col('delta_2mo').list.get(-(i+1)).round(2).alias(f'last_{i+1}_delta_2mo')\n",
    "    for i in range(2)\n",
    "]).drop('delta_2mo')\n",
    "\n",
    "trend_features = trend_features.with_columns([\n",
    "    pl.col('delta_3mo').list.get(-(i+1)).round(2).alias(f'last_{i+1}_delta_3mo')\n",
    "    for i in range(1)\n",
    "]).drop('delta_3mo')\n",
    "\n",
    "trend_features = trend_features.with_columns([\n",
    "    pl.col('std_2month_rolling_usage_gb').list.get(-(i+1)).round(2).alias(f'last_{i+1}_2mo_rolling_stdev')\n",
    "    for i in range(3)\n",
    "]).drop('std_2month_rolling_usage_gb')"
   ]
  },
  {
   "cell_type": "code",
   "execution_count": 14,
   "id": "dbf4932f",
   "metadata": {},
   "outputs": [
    {
     "data": {
      "text/html": [
       "<div><style>\n",
       ".dataframe > thead > tr,\n",
       ".dataframe > tbody > tr {\n",
       "  text-align: right;\n",
       "  white-space: pre-wrap;\n",
       "}\n",
       "</style>\n",
       "<small>shape: (100_000, 35)</small><table border=\"1\" class=\"dataframe\"><thead><tr><th>rating_account_id</th><th>avg_delta_1mo</th><th>delta_1mo_volatility</th><th>max_delta_1mo_increase</th><th>max_delta_1mo_decrease</th><th>months_with_delta_1mo_increase</th><th>months_with_delta_1mo_decrease</th><th>months_with_no_delta_1mo_change</th><th>avg_delta_2mo</th><th>delta_2mo_volatility</th><th>max_delta_2mo_increase</th><th>max_delta_2mo_decrease</th><th>months_with_delta_2mo_increase</th><th>months_with_delta_2mo_decrease</th><th>months_with_no_delta_2mo_change</th><th>avg_delta_3mo</th><th>max_delta_3mo_increase</th><th>max_delta_3mo_decrease</th><th>months_with_delta_3mo_increase</th><th>months_with_delta_3mo_decrease</th><th>months_with_no_delta_3mo_change</th><th>last_1_2mo_rolling_avg</th><th>last_2_2mo_rolling_avg</th><th>last_3_2mo_rolling_avg</th><th>last_1_3mo_rolling_avg</th><th>last_2_3mo_rolling_avg</th><th>last_1_delta_1mo</th><th>last_2_delta_1mo</th><th>last_3_delta_1mo</th><th>last_1_delta_2mo</th><th>last_2_delta_2mo</th><th>last_1_delta_3mo</th><th>last_1_2mo_rolling_stdev</th><th>last_2_2mo_rolling_stdev</th><th>last_3_2mo_rolling_stdev</th></tr><tr><td>str</td><td>f64</td><td>f64</td><td>f64</td><td>f64</td><td>u32</td><td>u32</td><td>u32</td><td>f64</td><td>f64</td><td>f64</td><td>f64</td><td>u32</td><td>u32</td><td>u32</td><td>f64</td><td>f64</td><td>f64</td><td>u32</td><td>u32</td><td>u32</td><td>f64</td><td>f64</td><td>f64</td><td>f64</td><td>f64</td><td>f64</td><td>f64</td><td>f64</td><td>f64</td><td>f64</td><td>f64</td><td>f64</td><td>f64</td><td>f64</td></tr></thead><tbody><tr><td>&quot;100010&quot;</td><td>0</td><td>0.46</td><td>0.5</td><td>-0.4</td><td>1</td><td>2</td><td>0</td><td>-0.2</td><td>0.42</td><td>0.1</td><td>-0.5</td><td>1</td><td>1</td><td>0</td><td>0</td><td>0</td><td>0</td><td>0</td><td>0</td><td>1</td><td>0.65</td><td>0.6</td><td>0.85</td><td>0.7</td><td>0.7</td><td>0.5</td><td>-0.4</td><td>-0.1</td><td>0.1</td><td>-0.5</td><td>0</td><td>0.35</td><td>0.28</td><td>0.07</td></tr><tr><td>&quot;100017&quot;</td><td>-0.13</td><td>0.4</td><td>0.3</td><td>-0.5</td><td>1</td><td>2</td><td>0</td><td>-0.05</td><td>0.21</td><td>0.1</td><td>-0.2</td><td>1</td><td>1</td><td>0</td><td>-0.4</td><td>-0.4</td><td>-0.4</td><td>0</td><td>1</td><td>0</td><td>0.55</td><td>0.65</td><td>0.6</td><td>0.53</td><td>0.67</td><td>-0.5</td><td>0.3</td><td>-0.2</td><td>-0.2</td><td>0.1</td><td>-0.4</td><td>0.35</td><td>0.21</td><td>0.14</td></tr><tr><td>&quot;100036&quot;</td><td>0.03</td><td>0.75</td><td>0.8</td><td>-0.7</td><td>1</td><td>1</td><td>1</td><td>0.05</td><td>1.06</td><td>0.8</td><td>-0.7</td><td>1</td><td>1</td><td>0</td><td>0.1</td><td>0.1</td><td>0.1</td><td>1</td><td>0</td><td>0</td><td>0.6</td><td>0.2</td><td>0.55</td><td>0.47</td><td>0.43</td><td>0.8</td><td>0</td><td>-0.7</td><td>0.8</td><td>-0.7</td><td>0.1</td><td>0.57</td><td>0</td><td>0.49</td></tr><tr><td>&quot;100047&quot;</td><td>5.03</td><td>16.08</td><td>15.3</td><td>-13.5</td><td>2</td><td>1</td><td>0</td><td>0.8</td><td>1.41</td><td>1.8</td><td>-0.2</td><td>1</td><td>1</td><td>0</td><td>15.1</td><td>15.1</td><td>15.1</td><td>1</td><td>0</td><td>0</td><td>43.05</td><td>42.15</td><td>42.25</td><td>45</td><td>39.97</td><td>15.3</td><td>-13.5</td><td>13.3</td><td>1.8</td><td>-0.2</td><td>15.1</td><td>10.82</td><td>9.55</td><td>9.4</td></tr><tr><td>&quot;100064&quot;</td><td>0.03</td><td>0.45</td><td>0.5</td><td>-0.4</td><td>1</td><td>1</td><td>1</td><td>-0.15</td><td>0.35</td><td>0.1</td><td>-0.4</td><td>1</td><td>1</td><td>0</td><td>0.1</td><td>0.1</td><td>0.1</td><td>1</td><td>0</td><td>0</td><td>0.55</td><td>0.5</td><td>0.7</td><td>0.6</td><td>0.57</td><td>0.5</td><td>-0.4</td><td>0</td><td>0.1</td><td>-0.4</td><td>0.1</td><td>0.35</td><td>0.28</td><td>0</td></tr><tr><td>&hellip;</td><td>&hellip;</td><td>&hellip;</td><td>&hellip;</td><td>&hellip;</td><td>&hellip;</td><td>&hellip;</td><td>&hellip;</td><td>&hellip;</td><td>&hellip;</td><td>&hellip;</td><td>&hellip;</td><td>&hellip;</td><td>&hellip;</td><td>&hellip;</td><td>&hellip;</td><td>&hellip;</td><td>&hellip;</td><td>&hellip;</td><td>&hellip;</td><td>&hellip;</td><td>&hellip;</td><td>&hellip;</td><td>&hellip;</td><td>&hellip;</td><td>&hellip;</td><td>&hellip;</td><td>&hellip;</td><td>&hellip;</td><td>&hellip;</td><td>&hellip;</td><td>&hellip;</td><td>&hellip;</td><td>&hellip;</td><td>&hellip;</td></tr><tr><td>&quot;999922&quot;</td><td>-0.07</td><td>1.99</td><td>2.2</td><td>-1.5</td><td>1</td><td>2</td><td>0</td><td>1</td><td>0.42</td><td>1.3</td><td>0.7</td><td>2</td><td>0</td><td>0</td><td>-0.2</td><td>-0.2</td><td>-0.2</td><td>0</td><td>1</td><td>0</td><td>2.85</td><td>2.5</td><td>1.85</td><td>2.37</td><td>2.43</td><td>-1.5</td><td>2.2</td><td>-0.9</td><td>0.7</td><td>1.3</td><td>-0.2</td><td>1.06</td><td>1.56</td><td>0.64</td></tr><tr><td>&quot;999934&quot;</td><td>-2.1</td><td>5.11</td><td>1</td><td>-8</td><td>2</td><td>1</td><td>0</td><td>-2.8</td><td>6.36</td><td>1.7</td><td>-7.3</td><td>1</td><td>1</td><td>0</td><td>-6.3</td><td>-6.3</td><td>-6.3</td><td>0</td><td>1</td><td>0</td><td>10.5</td><td>14.15</td><td>13.3</td><td>11.6</td><td>13.7</td><td>-8</td><td>0.7</td><td>1</td><td>-7.3</td><td>1.7</td><td>-6.3</td><td>5.66</td><td>0.49</td><td>0.71</td></tr><tr><td>&quot;999940&quot;</td><td>1.53</td><td>7.6</td><td>9</td><td>-6.2</td><td>2</td><td>1</td><td>0</td><td>-0.8</td><td>5.09</td><td>2.8</td><td>-4.4</td><td>1</td><td>1</td><td>0</td><td>4.6</td><td>4.6</td><td>4.6</td><td>1</td><td>0</td><td>0</td><td>9.9</td><td>8.5</td><td>10.7</td><td>10.47</td><td>8.93</td><td>9</td><td>-6.2</td><td>1.8</td><td>2.8</td><td>-4.4</td><td>4.6</td><td>6.36</td><td>4.38</td><td>1.27</td></tr><tr><td>&quot;999956&quot;</td><td>0.37</td><td>2.95</td><td>3.3</td><td>-2.6</td><td>2</td><td>1</td><td>0</td><td>2.2</td><td>2.12</td><td>3.7</td><td>0.7</td><td>2</td><td>0</td><td>0</td><td>1.1</td><td>1.1</td><td>1.1</td><td>1</td><td>0</td><td>0</td><td>13.9</td><td>12.05</td><td>11.7</td><td>12.73</td><td>12.37</td><td>0.4</td><td>3.3</td><td>-2.6</td><td>3.7</td><td>0.7</td><td>1.1</td><td>0.28</td><td>2.33</td><td>1.84</td></tr><tr><td>&quot;999971&quot;</td><td>-0.87</td><td>0.76</td><td>0</td><td>-1.4</td><td>0</td><td>2</td><td>1</td><td>-1.9</td><td>0.99</td><td>-1.2</td><td>-2.6</td><td>0</td><td>2</td><td>0</td><td>-2.6</td><td>-2.6</td><td>-2.6</td><td>0</td><td>1</td><td>0</td><td>1.1</td><td>1.7</td><td>3</td><td>1.5</td><td>2.37</td><td>0</td><td>-1.2</td><td>-1.4</td><td>-1.2</td><td>-2.6</td><td>-2.6</td><td>0</td><td>0.85</td><td>0.99</td></tr></tbody></table></div>"
      ],
      "text/plain": [
       "shape: (100_000, 35)\n",
       "┌───────────┬───────────┬───────────┬───────────┬───┬───────────┬───────────┬───────────┬──────────┐\n",
       "│ rating_ac ┆ avg_delta ┆ delta_1mo ┆ max_delta ┆ … ┆ last_1_de ┆ last_1_2m ┆ last_2_2m ┆ last_3_2 │\n",
       "│ count_id  ┆ _1mo      ┆ _volatili ┆ _1mo_incr ┆   ┆ lta_3mo   ┆ o_rolling ┆ o_rolling ┆ mo_rolli │\n",
       "│ ---       ┆ ---       ┆ ty        ┆ ease      ┆   ┆ ---       ┆ _stdev    ┆ _stdev    ┆ ng_stdev │\n",
       "│ str       ┆ f64       ┆ ---       ┆ ---       ┆   ┆ f64       ┆ ---       ┆ ---       ┆ ---      │\n",
       "│           ┆           ┆ f64       ┆ f64       ┆   ┆           ┆ f64       ┆ f64       ┆ f64      │\n",
       "╞═══════════╪═══════════╪═══════════╪═══════════╪═══╪═══════════╪═══════════╪═══════════╪══════════╡\n",
       "│ 100010    ┆ 0         ┆ 0.46      ┆ 0.5       ┆ … ┆ 0         ┆ 0.35      ┆ 0.28      ┆ 0.07     │\n",
       "│ 100017    ┆ -0.13     ┆ 0.4       ┆ 0.3       ┆ … ┆ -0.4      ┆ 0.35      ┆ 0.21      ┆ 0.14     │\n",
       "│ 100036    ┆ 0.03      ┆ 0.75      ┆ 0.8       ┆ … ┆ 0.1       ┆ 0.57      ┆ 0         ┆ 0.49     │\n",
       "│ 100047    ┆ 5.03      ┆ 16.08     ┆ 15.3      ┆ … ┆ 15.1      ┆ 10.82     ┆ 9.55      ┆ 9.4      │\n",
       "│ 100064    ┆ 0.03      ┆ 0.45      ┆ 0.5       ┆ … ┆ 0.1       ┆ 0.35      ┆ 0.28      ┆ 0        │\n",
       "│ …         ┆ …         ┆ …         ┆ …         ┆ … ┆ …         ┆ …         ┆ …         ┆ …        │\n",
       "│ 999922    ┆ -0.07     ┆ 1.99      ┆ 2.2       ┆ … ┆ -0.2      ┆ 1.06      ┆ 1.56      ┆ 0.64     │\n",
       "│ 999934    ┆ -2.1      ┆ 5.11      ┆ 1         ┆ … ┆ -6.3      ┆ 5.66      ┆ 0.49      ┆ 0.71     │\n",
       "│ 999940    ┆ 1.53      ┆ 7.6       ┆ 9         ┆ … ┆ 4.6       ┆ 6.36      ┆ 4.38      ┆ 1.27     │\n",
       "│ 999956    ┆ 0.37      ┆ 2.95      ┆ 3.3       ┆ … ┆ 1.1       ┆ 0.28      ┆ 2.33      ┆ 1.84     │\n",
       "│ 999971    ┆ -0.87     ┆ 0.76      ┆ 0         ┆ … ┆ -2.6      ┆ 0         ┆ 0.85      ┆ 0.99     │\n",
       "└───────────┴───────────┴───────────┴───────────┴───┴───────────┴───────────┴───────────┴──────────┘"
      ]
     },
     "execution_count": 14,
     "metadata": {},
     "output_type": "execute_result"
    }
   ],
   "source": [
    "trend_features"
   ]
  },
  {
   "cell_type": "code",
   "execution_count": 15,
   "id": "cd461e3b",
   "metadata": {},
   "outputs": [],
   "source": [
    "usage_features = aggregated_features.join(\n",
    "    trend_features, \n",
    "    on='rating_account_id', \n",
    "    how='left'\n",
    ").join(\n",
    "    month_usage,\n",
    "    on='rating_account_id',\n",
    "    how='left'\n",
    ")"
   ]
  },
  {
   "cell_type": "code",
   "execution_count": 16,
   "id": "59272474",
   "metadata": {},
   "outputs": [
    {
     "data": {
      "text/html": [
       "<div><style>\n",
       ".dataframe > thead > tr,\n",
       ".dataframe > tbody > tr {\n",
       "  text-align: right;\n",
       "  white-space: pre-wrap;\n",
       "}\n",
       "</style>\n",
       "<small>shape: (100_000, 52)</small><table border=\"1\" class=\"dataframe\"><thead><tr><th>rating_account_id</th><th>avg_monthly_usage_gb</th><th>median_monthly_usage_gb</th><th>total_usage_gb</th><th>usage_std_gb</th><th>min_monthly_usage_gb</th><th>max_monthly_usage_gb</th><th>usage_q25_gb</th><th>usage_q75_gb</th><th>months_with_roaming</th><th>ever_used_roaming</th><th>always_used_roaming</th><th>zero_usage_months</th><th>active_usage_months</th><th>avg_delta_1mo</th><th>delta_1mo_volatility</th><th>max_delta_1mo_increase</th><th>max_delta_1mo_decrease</th><th>months_with_delta_1mo_increase</th><th>months_with_delta_1mo_decrease</th><th>months_with_no_delta_1mo_change</th><th>avg_delta_2mo</th><th>delta_2mo_volatility</th><th>max_delta_2mo_increase</th><th>max_delta_2mo_decrease</th><th>months_with_delta_2mo_increase</th><th>months_with_delta_2mo_decrease</th><th>months_with_no_delta_2mo_change</th><th>avg_delta_3mo</th><th>max_delta_3mo_increase</th><th>max_delta_3mo_decrease</th><th>months_with_delta_3mo_increase</th><th>months_with_delta_3mo_decrease</th><th>months_with_no_delta_3mo_change</th><th>last_1_2mo_rolling_avg</th><th>last_2_2mo_rolling_avg</th><th>last_3_2mo_rolling_avg</th><th>last_1_3mo_rolling_avg</th><th>last_2_3mo_rolling_avg</th><th>last_1_delta_1mo</th><th>last_2_delta_1mo</th><th>last_3_delta_1mo</th><th>last_1_delta_2mo</th><th>last_2_delta_2mo</th><th>last_1_delta_3mo</th><th>last_1_2mo_rolling_stdev</th><th>last_2_2mo_rolling_stdev</th><th>last_3_2mo_rolling_stdev</th><th>last_1_month_usage_gb</th><th>last_2_month_usage_gb</th><th>last_3_month_usage_gb</th><th>last_4_month_usage_gb</th></tr><tr><td>str</td><td>f64</td><td>f64</td><td>f64</td><td>f64</td><td>f64</td><td>f64</td><td>f64</td><td>f64</td><td>u32</td><td>bool</td><td>bool</td><td>u32</td><td>u32</td><td>f64</td><td>f64</td><td>f64</td><td>f64</td><td>u32</td><td>u32</td><td>u32</td><td>f64</td><td>f64</td><td>f64</td><td>f64</td><td>u32</td><td>u32</td><td>u32</td><td>f64</td><td>f64</td><td>f64</td><td>u32</td><td>u32</td><td>u32</td><td>f64</td><td>f64</td><td>f64</td><td>f64</td><td>f64</td><td>f64</td><td>f64</td><td>f64</td><td>f64</td><td>f64</td><td>f64</td><td>f64</td><td>f64</td><td>f64</td><td>f64</td><td>f64</td><td>f64</td><td>f64</td></tr></thead><tbody><tr><td>&quot;100010&quot;</td><td>0.75</td><td>0.85</td><td>3</td><td>0.24</td><td>0.4</td><td>0.9</td><td>0.8</td><td>0.9</td><td>0</td><td>false</td><td>false</td><td>0</td><td>4</td><td>0</td><td>0.46</td><td>0.5</td><td>-0.4</td><td>1</td><td>2</td><td>0</td><td>-0.2</td><td>0.42</td><td>0.1</td><td>-0.5</td><td>1</td><td>1</td><td>0</td><td>0</td><td>0</td><td>0</td><td>0</td><td>0</td><td>1</td><td>0.65</td><td>0.6</td><td>0.85</td><td>0.7</td><td>0.7</td><td>0.5</td><td>-0.4</td><td>-0.1</td><td>0.1</td><td>-0.5</td><td>0</td><td>0.35</td><td>0.28</td><td>0.07</td><td>0.9</td><td>0.8</td><td>0.4</td><td>0.9</td></tr><tr><td>&quot;100017&quot;</td><td>0.57</td><td>0.6</td><td>2.3</td><td>0.22</td><td>0.3</td><td>0.8</td><td>0.5</td><td>0.7</td><td>2</td><td>true</td><td>false</td><td>0</td><td>4</td><td>-0.13</td><td>0.4</td><td>0.3</td><td>-0.5</td><td>1</td><td>2</td><td>0</td><td>-0.05</td><td>0.21</td><td>0.1</td><td>-0.2</td><td>1</td><td>1</td><td>0</td><td>-0.4</td><td>-0.4</td><td>-0.4</td><td>0</td><td>1</td><td>0</td><td>0.55</td><td>0.65</td><td>0.6</td><td>0.53</td><td>0.67</td><td>-0.5</td><td>0.3</td><td>-0.2</td><td>-0.2</td><td>0.1</td><td>-0.4</td><td>0.35</td><td>0.21</td><td>0.14</td><td>0.7</td><td>0.5</td><td>0.8</td><td>0.3</td></tr><tr><td>&quot;100036&quot;</td><td>0.57</td><td>0.55</td><td>2.3</td><td>0.43</td><td>0.2</td><td>1</td><td>0.2</td><td>0.9</td><td>1</td><td>true</td><td>false</td><td>0</td><td>4</td><td>0.03</td><td>0.75</td><td>0.8</td><td>-0.7</td><td>1</td><td>1</td><td>1</td><td>0.05</td><td>1.06</td><td>0.8</td><td>-0.7</td><td>1</td><td>1</td><td>0</td><td>0.1</td><td>0.1</td><td>0.1</td><td>1</td><td>0</td><td>0</td><td>0.6</td><td>0.2</td><td>0.55</td><td>0.47</td><td>0.43</td><td>0.8</td><td>0</td><td>-0.7</td><td>0.8</td><td>-0.7</td><td>0.1</td><td>0.57</td><td>0</td><td>0.49</td><td>0.9</td><td>0.2</td><td>0.2</td><td>1</td></tr><tr><td>&quot;100047&quot;</td><td>42.65</td><td>42.25</td><td>170.6</td><td>8.29</td><td>35.4</td><td>50.7</td><td>35.6</td><td>48.9</td><td>0</td><td>false</td><td>false</td><td>0</td><td>4</td><td>5.03</td><td>16.08</td><td>15.3</td><td>-13.5</td><td>2</td><td>1</td><td>0</td><td>0.8</td><td>1.41</td><td>1.8</td><td>-0.2</td><td>1</td><td>1</td><td>0</td><td>15.1</td><td>15.1</td><td>15.1</td><td>1</td><td>0</td><td>0</td><td>43.05</td><td>42.15</td><td>42.25</td><td>45</td><td>39.97</td><td>15.3</td><td>-13.5</td><td>13.3</td><td>1.8</td><td>-0.2</td><td>15.1</td><td>10.82</td><td>9.55</td><td>9.4</td><td>35.6</td><td>48.9</td><td>35.4</td><td>50.7</td></tr><tr><td>&quot;100064&quot;</td><td>0.62</td><td>0.7</td><td>2.5</td><td>0.22</td><td>0.3</td><td>0.8</td><td>0.7</td><td>0.7</td><td>1</td><td>true</td><td>false</td><td>0</td><td>4</td><td>0.03</td><td>0.45</td><td>0.5</td><td>-0.4</td><td>1</td><td>1</td><td>1</td><td>-0.15</td><td>0.35</td><td>0.1</td><td>-0.4</td><td>1</td><td>1</td><td>0</td><td>0.1</td><td>0.1</td><td>0.1</td><td>1</td><td>0</td><td>0</td><td>0.55</td><td>0.5</td><td>0.7</td><td>0.6</td><td>0.57</td><td>0.5</td><td>-0.4</td><td>0</td><td>0.1</td><td>-0.4</td><td>0.1</td><td>0.35</td><td>0.28</td><td>0</td><td>0.7</td><td>0.7</td><td>0.3</td><td>0.8</td></tr><tr><td>&hellip;</td><td>&hellip;</td><td>&hellip;</td><td>&hellip;</td><td>&hellip;</td><td>&hellip;</td><td>&hellip;</td><td>&hellip;</td><td>&hellip;</td><td>&hellip;</td><td>&hellip;</td><td>&hellip;</td><td>&hellip;</td><td>&hellip;</td><td>&hellip;</td><td>&hellip;</td><td>&hellip;</td><td>&hellip;</td><td>&hellip;</td><td>&hellip;</td><td>&hellip;</td><td>&hellip;</td><td>&hellip;</td><td>&hellip;</td><td>&hellip;</td><td>&hellip;</td><td>&hellip;</td><td>&hellip;</td><td>&hellip;</td><td>&hellip;</td><td>&hellip;</td><td>&hellip;</td><td>&hellip;</td><td>&hellip;</td><td>&hellip;</td><td>&hellip;</td><td>&hellip;</td><td>&hellip;</td><td>&hellip;</td><td>&hellip;</td><td>&hellip;</td><td>&hellip;</td><td>&hellip;</td><td>&hellip;</td><td>&hellip;</td><td>&hellip;</td><td>&hellip;</td><td>&hellip;</td><td>&hellip;</td><td>&hellip;</td><td>&hellip;</td><td>&hellip;</td></tr><tr><td>&quot;999922&quot;</td><td>2.35</td><td>2.2</td><td>9.4</td><td>0.92</td><td>1.4</td><td>3.6</td><td>2.1</td><td>2.3</td><td>0</td><td>false</td><td>false</td><td>0</td><td>4</td><td>-0.07</td><td>1.99</td><td>2.2</td><td>-1.5</td><td>1</td><td>2</td><td>0</td><td>1</td><td>0.42</td><td>1.3</td><td>0.7</td><td>2</td><td>0</td><td>0</td><td>-0.2</td><td>-0.2</td><td>-0.2</td><td>0</td><td>1</td><td>0</td><td>2.85</td><td>2.5</td><td>1.85</td><td>2.37</td><td>2.43</td><td>-1.5</td><td>2.2</td><td>-0.9</td><td>0.7</td><td>1.3</td><td>-0.2</td><td>1.06</td><td>1.56</td><td>0.64</td><td>2.3</td><td>1.4</td><td>3.6</td><td>2.1</td></tr><tr><td>&quot;999934&quot;</td><td>11.9</td><td>13.3</td><td>47.6</td><td>3.67</td><td>6.5</td><td>14.5</td><td>12.8</td><td>13.8</td><td>3</td><td>true</td><td>false</td><td>0</td><td>4</td><td>-2.1</td><td>5.11</td><td>1</td><td>-8</td><td>2</td><td>1</td><td>0</td><td>-2.8</td><td>6.36</td><td>1.7</td><td>-7.3</td><td>1</td><td>1</td><td>0</td><td>-6.3</td><td>-6.3</td><td>-6.3</td><td>0</td><td>1</td><td>0</td><td>10.5</td><td>14.15</td><td>13.3</td><td>11.6</td><td>13.7</td><td>-8</td><td>0.7</td><td>1</td><td>-7.3</td><td>1.7</td><td>-6.3</td><td>5.66</td><td>0.49</td><td>0.71</td><td>12.8</td><td>13.8</td><td>14.5</td><td>6.5</td></tr><tr><td>&quot;999940&quot;</td><td>10.3</td><td>10.7</td><td>41.2</td><td>3.78</td><td>5.4</td><td>14.4</td><td>9.8</td><td>11.6</td><td>1</td><td>true</td><td>false</td><td>0</td><td>4</td><td>1.53</td><td>7.6</td><td>9</td><td>-6.2</td><td>2</td><td>1</td><td>0</td><td>-0.8</td><td>5.09</td><td>2.8</td><td>-4.4</td><td>1</td><td>1</td><td>0</td><td>4.6</td><td>4.6</td><td>4.6</td><td>1</td><td>0</td><td>0</td><td>9.9</td><td>8.5</td><td>10.7</td><td>10.47</td><td>8.93</td><td>9</td><td>-6.2</td><td>1.8</td><td>2.8</td><td>-4.4</td><td>4.6</td><td>6.36</td><td>4.38</td><td>1.27</td><td>9.8</td><td>11.6</td><td>5.4</td><td>14.4</td></tr><tr><td>&quot;999956&quot;</td><td>12.8</td><td>13.35</td><td>51.2</td><td>1.66</td><td>10.4</td><td>14.1</td><td>13</td><td>13.7</td><td>0</td><td>false</td><td>false</td><td>0</td><td>4</td><td>0.37</td><td>2.95</td><td>3.3</td><td>-2.6</td><td>2</td><td>1</td><td>0</td><td>2.2</td><td>2.12</td><td>3.7</td><td>0.7</td><td>2</td><td>0</td><td>0</td><td>1.1</td><td>1.1</td><td>1.1</td><td>1</td><td>0</td><td>0</td><td>13.9</td><td>12.05</td><td>11.7</td><td>12.73</td><td>12.37</td><td>0.4</td><td>3.3</td><td>-2.6</td><td>3.7</td><td>0.7</td><td>1.1</td><td>0.28</td><td>2.33</td><td>1.84</td><td>13</td><td>10.4</td><td>13.7</td><td>14.1</td></tr><tr><td>&quot;999971&quot;</td><td>2.05</td><td>1.7</td><td>8.2</td><td>1.24</td><td>1.1</td><td>3.7</td><td>1.1</td><td>2.3</td><td>2</td><td>true</td><td>false</td><td>0</td><td>4</td><td>-0.87</td><td>0.76</td><td>0</td><td>-1.4</td><td>0</td><td>2</td><td>1</td><td>-1.9</td><td>0.99</td><td>-1.2</td><td>-2.6</td><td>0</td><td>2</td><td>0</td><td>-2.6</td><td>-2.6</td><td>-2.6</td><td>0</td><td>1</td><td>0</td><td>1.1</td><td>1.7</td><td>3</td><td>1.5</td><td>2.37</td><td>0</td><td>-1.2</td><td>-1.4</td><td>-1.2</td><td>-2.6</td><td>-2.6</td><td>0</td><td>0.85</td><td>0.99</td><td>3.7</td><td>2.3</td><td>1.1</td><td>1.1</td></tr></tbody></table></div>"
      ],
      "text/plain": [
       "shape: (100_000, 52)\n",
       "┌───────────┬───────────┬───────────┬───────────┬───┬───────────┬───────────┬───────────┬──────────┐\n",
       "│ rating_ac ┆ avg_month ┆ median_mo ┆ total_usa ┆ … ┆ last_1_mo ┆ last_2_mo ┆ last_3_mo ┆ last_4_m │\n",
       "│ count_id  ┆ ly_usage_ ┆ nthly_usa ┆ ge_gb     ┆   ┆ nth_usage ┆ nth_usage ┆ nth_usage ┆ onth_usa │\n",
       "│ ---       ┆ gb        ┆ ge_gb     ┆ ---       ┆   ┆ _gb       ┆ _gb       ┆ _gb       ┆ ge_gb    │\n",
       "│ str       ┆ ---       ┆ ---       ┆ f64       ┆   ┆ ---       ┆ ---       ┆ ---       ┆ ---      │\n",
       "│           ┆ f64       ┆ f64       ┆           ┆   ┆ f64       ┆ f64       ┆ f64       ┆ f64      │\n",
       "╞═══════════╪═══════════╪═══════════╪═══════════╪═══╪═══════════╪═══════════╪═══════════╪══════════╡\n",
       "│ 100010    ┆ 0.75      ┆ 0.85      ┆ 3         ┆ … ┆ 0.9       ┆ 0.8       ┆ 0.4       ┆ 0.9      │\n",
       "│ 100017    ┆ 0.57      ┆ 0.6       ┆ 2.3       ┆ … ┆ 0.7       ┆ 0.5       ┆ 0.8       ┆ 0.3      │\n",
       "│ 100036    ┆ 0.57      ┆ 0.55      ┆ 2.3       ┆ … ┆ 0.9       ┆ 0.2       ┆ 0.2       ┆ 1        │\n",
       "│ 100047    ┆ 42.65     ┆ 42.25     ┆ 170.6     ┆ … ┆ 35.6      ┆ 48.9      ┆ 35.4      ┆ 50.7     │\n",
       "│ 100064    ┆ 0.62      ┆ 0.7       ┆ 2.5       ┆ … ┆ 0.7       ┆ 0.7       ┆ 0.3       ┆ 0.8      │\n",
       "│ …         ┆ …         ┆ …         ┆ …         ┆ … ┆ …         ┆ …         ┆ …         ┆ …        │\n",
       "│ 999922    ┆ 2.35      ┆ 2.2       ┆ 9.4       ┆ … ┆ 2.3       ┆ 1.4       ┆ 3.6       ┆ 2.1      │\n",
       "│ 999934    ┆ 11.9      ┆ 13.3      ┆ 47.6      ┆ … ┆ 12.8      ┆ 13.8      ┆ 14.5      ┆ 6.5      │\n",
       "│ 999940    ┆ 10.3      ┆ 10.7      ┆ 41.2      ┆ … ┆ 9.8       ┆ 11.6      ┆ 5.4       ┆ 14.4     │\n",
       "│ 999956    ┆ 12.8      ┆ 13.35     ┆ 51.2      ┆ … ┆ 13        ┆ 10.4      ┆ 13.7      ┆ 14.1     │\n",
       "│ 999971    ┆ 2.05      ┆ 1.7       ┆ 8.2       ┆ … ┆ 3.7       ┆ 2.3       ┆ 1.1       ┆ 1.1      │\n",
       "└───────────┴───────────┴───────────┴───────────┴───┴───────────┴───────────┴───────────┴──────────┘"
      ]
     },
     "execution_count": 16,
     "metadata": {},
     "output_type": "execute_result"
    }
   ],
   "source": [
    "usage_features"
   ]
  },
  {
   "cell_type": "code",
   "execution_count": 17,
   "id": "e265851b",
   "metadata": {},
   "outputs": [
    {
     "data": {
      "text/plain": [
       "(100000, 52)"
      ]
     },
     "execution_count": 17,
     "metadata": {},
     "output_type": "execute_result"
    }
   ],
   "source": [
    "usage_features.shape"
   ]
  },
  {
   "cell_type": "markdown",
   "id": "61c38a0b",
   "metadata": {},
   "source": [
    "---"
   ]
  },
  {
   "cell_type": "markdown",
   "id": "0a9036d5",
   "metadata": {},
   "source": [
    "## `customer_interactions`"
   ]
  },
  {
   "cell_type": "code",
   "execution_count": 18,
   "id": "e9ca2ec6",
   "metadata": {},
   "outputs": [
    {
     "name": "stdout",
     "output_type": "stream",
     "text": [
      "CPU times: user 29.4 ms, sys: 5.88 ms, total: 35.3 ms\n",
      "Wall time: 69 ms\n"
     ]
    }
   ],
   "source": [
    "%%time\n",
    "\n",
    "interactions_features = customer_interactions.pivot(\n",
    "    index='customer_id',\n",
    "    on='type_subtype', \n",
    "    values=['n', 'days_since_last'],\n",
    "    aggregate_function='first' # There is only one value per customer\n",
    ")"
   ]
  },
  {
   "cell_type": "code",
   "execution_count": 19,
   "id": "12d4ed48",
   "metadata": {},
   "outputs": [
    {
     "data": {
      "text/plain": [
       "(42095, 9)"
      ]
     },
     "execution_count": 19,
     "metadata": {},
     "output_type": "execute_result"
    }
   ],
   "source": [
    "interactions_features.shape"
   ]
  },
  {
   "cell_type": "markdown",
   "id": "6ec71704",
   "metadata": {},
   "source": [
    "---"
   ]
  },
  {
   "cell_type": "markdown",
   "id": "5c7a977d",
   "metadata": {},
   "source": [
    "## `combined_features`"
   ]
  },
  {
   "cell_type": "code",
   "execution_count": 20,
   "id": "53c090e1",
   "metadata": {},
   "outputs": [],
   "source": [
    "features = core_data.join(\n",
    "    usage_features,\n",
    "    on='rating_account_id',\n",
    "    how='left'\n",
    ").join(\n",
    "    interactions_features,\n",
    "    on='customer_id',\n",
    "    how='left'\n",
    ")"
   ]
  },
  {
   "cell_type": "code",
   "execution_count": 21,
   "id": "e11dada6",
   "metadata": {},
   "outputs": [
    {
     "data": {
      "text/html": [
       "<div><style>\n",
       ".dataframe > thead > tr,\n",
       ".dataframe > tbody > tr {\n",
       "  text-align: right;\n",
       "  white-space: pre-wrap;\n",
       "}\n",
       "</style>\n",
       "<small>shape: (5, 78)</small><table border=\"1\" class=\"dataframe\"><thead><tr><th>rating_account_id</th><th>customer_id</th><th>age</th><th>contract_lifetime_days</th><th>remaining_binding_days</th><th>has_special_offer</th><th>is_magenta1_customer</th><th>available_gb</th><th>gross_mrc</th><th>has_done_upselling</th><th>contract_binding_days</th><th>completion_rate</th><th>is_bounded</th><th>is_huawei</th><th>is_oneplus</th><th>is_samsung</th><th>is_xiaomi</th><th>is_iphone</th><th>n_contracts_per_customer</th><th>avg_monthly_usage_gb</th><th>median_monthly_usage_gb</th><th>total_usage_gb</th><th>usage_std_gb</th><th>min_monthly_usage_gb</th><th>max_monthly_usage_gb</th><th>usage_q25_gb</th><th>usage_q75_gb</th><th>months_with_roaming</th><th>ever_used_roaming</th><th>always_used_roaming</th><th>zero_usage_months</th><th>active_usage_months</th><th>avg_delta_1mo</th><th>delta_1mo_volatility</th><th>max_delta_1mo_increase</th><th>max_delta_1mo_decrease</th><th>months_with_delta_1mo_increase</th><th>&hellip;</th><th>max_delta_2mo_increase</th><th>max_delta_2mo_decrease</th><th>months_with_delta_2mo_increase</th><th>months_with_delta_2mo_decrease</th><th>months_with_no_delta_2mo_change</th><th>avg_delta_3mo</th><th>max_delta_3mo_increase</th><th>max_delta_3mo_decrease</th><th>months_with_delta_3mo_increase</th><th>months_with_delta_3mo_decrease</th><th>months_with_no_delta_3mo_change</th><th>last_1_2mo_rolling_avg</th><th>last_2_2mo_rolling_avg</th><th>last_3_2mo_rolling_avg</th><th>last_1_3mo_rolling_avg</th><th>last_2_3mo_rolling_avg</th><th>last_1_delta_1mo</th><th>last_2_delta_1mo</th><th>last_3_delta_1mo</th><th>last_1_delta_2mo</th><th>last_2_delta_2mo</th><th>last_1_delta_3mo</th><th>last_1_2mo_rolling_stdev</th><th>last_2_2mo_rolling_stdev</th><th>last_3_2mo_rolling_stdev</th><th>last_1_month_usage_gb</th><th>last_2_month_usage_gb</th><th>last_3_month_usage_gb</th><th>last_4_month_usage_gb</th><th>n_rechnungsanfragen</th><th>n_produkte&amp;services-tarifdetails</th><th>n_prolongation</th><th>n_produkte&amp;services-tarifwechsel</th><th>days_since_last_rechnungsanfragen</th><th>days_since_last_produkte&amp;services-tarifdetails</th><th>days_since_last_prolongation</th><th>days_since_last_produkte&amp;services-tarifwechsel</th></tr><tr><td>str</td><td>str</td><td>i64</td><td>i64</td><td>i64</td><td>bool</td><td>bool</td><td>i64</td><td>f64</td><td>bool</td><td>i64</td><td>f64</td><td>bool</td><td>bool</td><td>bool</td><td>bool</td><td>bool</td><td>bool</td><td>u32</td><td>f64</td><td>f64</td><td>f64</td><td>f64</td><td>f64</td><td>f64</td><td>f64</td><td>f64</td><td>u32</td><td>bool</td><td>bool</td><td>u32</td><td>u32</td><td>f64</td><td>f64</td><td>f64</td><td>f64</td><td>u32</td><td>&hellip;</td><td>f64</td><td>f64</td><td>u32</td><td>u32</td><td>u32</td><td>f64</td><td>f64</td><td>f64</td><td>u32</td><td>u32</td><td>u32</td><td>f64</td><td>f64</td><td>f64</td><td>f64</td><td>f64</td><td>f64</td><td>f64</td><td>f64</td><td>f64</td><td>f64</td><td>f64</td><td>f64</td><td>f64</td><td>f64</td><td>f64</td><td>f64</td><td>f64</td><td>f64</td><td>i64</td><td>i64</td><td>i64</td><td>i64</td><td>i64</td><td>i64</td><td>i64</td><td>i64</td></tr></thead><tbody><tr><td>&quot;289094&quot;</td><td>&quot;4.161115&quot;</td><td>36</td><td>878</td><td>325</td><td>false</td><td>false</td><td>20</td><td>70</td><td>false</td><td>1203</td><td>0.73</td><td>true</td><td>false</td><td>false</td><td>false</td><td>false</td><td>true</td><td>1</td><td>0.28</td><td>0.15</td><td>1.1</td><td>0.36</td><td>0</td><td>0.8</td><td>0.1</td><td>0.2</td><td>1</td><td>true</td><td>false</td><td>1</td><td>3</td><td>-0.27</td><td>0.29</td><td>-0.1</td><td>-0.6</td><td>0</td><td>&hellip;</td><td>-0.2</td><td>-0.7</td><td>0</td><td>2</td><td>0</td><td>-0.8</td><td>-0.8</td><td>-0.8</td><td>0</td><td>1</td><td>0</td><td>0.05</td><td>0.15</td><td>0.5</td><td>0.1</td><td>0.37</td><td>-0.1</td><td>-0.1</td><td>-0.6</td><td>-0.2</td><td>-0.7</td><td>-0.8</td><td>0.07</td><td>0.07</td><td>0.42</td><td>0.8</td><td>0.2</td><td>0.1</td><td>0</td><td>null</td><td>null</td><td>null</td><td>null</td><td>null</td><td>null</td><td>null</td><td>null</td></tr><tr><td>&quot;677626&quot;</td><td>&quot;2.429976&quot;</td><td>34</td><td>998</td><td>614</td><td>false</td><td>false</td><td>0</td><td>5</td><td>false</td><td>1612</td><td>0.62</td><td>true</td><td>false</td><td>false</td><td>true</td><td>false</td><td>false</td><td>1</td><td>0.65</td><td>0.65</td><td>2.6</td><td>0.31</td><td>0.3</td><td>1</td><td>0.5</td><td>0.8</td><td>1</td><td>true</td><td>false</td><td>0</td><td>4</td><td>0.07</td><td>0.55</td><td>0.7</td><td>-0.3</td><td>1</td><td>&hellip;</td><td>0.5</td><td>-0.5</td><td>1</td><td>1</td><td>0</td><td>0.2</td><td>0.2</td><td>0.2</td><td>1</td><td>0</td><td>0</td><td>0.65</td><td>0.4</td><td>0.65</td><td>0.6</td><td>0.53</td><td>0.7</td><td>-0.2</td><td>-0.3</td><td>0.5</td><td>-0.5</td><td>0.2</td><td>0.49</td><td>0.14</td><td>0.21</td><td>0.8</td><td>0.5</td><td>0.3</td><td>1</td><td>null</td><td>null</td><td>1</td><td>1</td><td>null</td><td>null</td><td>87</td><td>118</td></tr><tr><td>&quot;769928&quot;</td><td>&quot;3.875044&quot;</td><td>36</td><td>37</td><td>-26</td><td>false</td><td>true</td><td>50</td><td>16.94</td><td>false</td><td>11</td><td>3.36</td><td>false</td><td>false</td><td>false</td><td>true</td><td>false</td><td>false</td><td>2</td><td>0.6</td><td>0.55</td><td>2.4</td><td>0.32</td><td>0.3</td><td>1</td><td>0.4</td><td>0.7</td><td>0</td><td>false</td><td>false</td><td>0</td><td>4</td><td>-0.2</td><td>0.56</td><td>0.4</td><td>-0.7</td><td>1</td><td>&hellip;</td><td>0.1</td><td>-0.3</td><td>1</td><td>1</td><td>0</td><td>-0.6</td><td>-0.6</td><td>-0.6</td><td>0</td><td>1</td><td>0</td><td>0.55</td><td>0.5</td><td>0.65</td><td>0.47</td><td>0.67</td><td>-0.3</td><td>0.4</td><td>-0.7</td><td>0.1</td><td>-0.3</td><td>-0.6</td><td>0.21</td><td>0.28</td><td>0.49</td><td>1</td><td>0.3</td><td>0.7</td><td>0.4</td><td>null</td><td>null</td><td>null</td><td>null</td><td>null</td><td>null</td><td>null</td><td>null</td></tr><tr><td>&quot;873260&quot;</td><td>&quot;4.649933&quot;</td><td>50</td><td>503</td><td>-149</td><td>false</td><td>true</td><td>20</td><td>30.2</td><td>true</td><td>354</td><td>1.42</td><td>false</td><td>false</td><td>false</td><td>false</td><td>false</td><td>true</td><td>1</td><td>0.38</td><td>0.25</td><td>1.5</td><td>0.36</td><td>0.1</td><td>0.9</td><td>0.2</td><td>0.3</td><td>0</td><td>false</td><td>false</td><td>0</td><td>4</td><td>0.03</td><td>0.67</td><td>0.6</td><td>-0.7</td><td>2</td><td>&hellip;</td><td>0.8</td><td>-0.1</td><td>1</td><td>1</td><td>0</td><td>0.1</td><td>0.1</td><td>0.1</td><td>1</td><td>0</td><td>0</td><td>0.55</td><td>0.6</td><td>0.2</td><td>0.47</td><td>0.43</td><td>-0.7</td><td>0.6</td><td>0.2</td><td>-0.1</td><td>0.8</td><td>0.1</td><td>0.49</td><td>0.42</td><td>0.14</td><td>0.1</td><td>0.3</td><td>0.9</td><td>0.2</td><td>null</td><td>null</td><td>null</td><td>null</td><td>null</td><td>null</td><td>null</td><td>null</td></tr><tr><td>&quot;109774&quot;</td><td>&quot;3.851059&quot;</td><td>47</td><td>331</td><td>-328</td><td>true</td><td>true</td><td>null</td><td>46.12</td><td>false</td><td>3</td><td>110.33</td><td>false</td><td>false</td><td>false</td><td>true</td><td>false</td><td>false</td><td>3</td><td>0.35</td><td>0.35</td><td>1.4</td><td>0.29</td><td>0.1</td><td>0.6</td><td>0.1</td><td>0.6</td><td>1</td><td>true</td><td>false</td><td>0</td><td>4</td><td>0</td><td>0.5</td><td>0.5</td><td>-0.5</td><td>1</td><td>&hellip;</td><td>0.5</td><td>-0.5</td><td>1</td><td>1</td><td>0</td><td>0</td><td>0</td><td>0</td><td>0</td><td>0</td><td>1</td><td>0.35</td><td>0.1</td><td>0.35</td><td>0.27</td><td>0.27</td><td>0.5</td><td>0</td><td>-0.5</td><td>0.5</td><td>-0.5</td><td>0</td><td>0.35</td><td>0</td><td>0.35</td><td>0.6</td><td>0.1</td><td>0.1</td><td>0.6</td><td>null</td><td>null</td><td>null</td><td>null</td><td>null</td><td>null</td><td>null</td><td>null</td></tr></tbody></table></div>"
      ],
      "text/plain": [
       "shape: (5, 78)\n",
       "┌────────────┬────────────┬─────┬────────────┬───┬────────────┬────────────┬───────────┬───────────┐\n",
       "│ rating_acc ┆ customer_i ┆ age ┆ contract_l ┆ … ┆ days_since ┆ days_since ┆ days_sinc ┆ days_sinc │\n",
       "│ ount_id    ┆ d          ┆ --- ┆ ifetime_da ┆   ┆ _last_rech ┆ _last_prod ┆ e_last_pr ┆ e_last_pr │\n",
       "│ ---        ┆ ---        ┆ i64 ┆ ys         ┆   ┆ nungsanfra ┆ ukte&servi ┆ olongatio ┆ odukte&se │\n",
       "│ str        ┆ str        ┆     ┆ ---        ┆   ┆ gen        ┆ ces-tarifd ┆ n         ┆ rvices-ta │\n",
       "│            ┆            ┆     ┆ i64        ┆   ┆ ---        ┆ etails     ┆ ---       ┆ rifwechse │\n",
       "│            ┆            ┆     ┆            ┆   ┆ i64        ┆ ---        ┆ i64       ┆ l         │\n",
       "│            ┆            ┆     ┆            ┆   ┆            ┆ i64        ┆           ┆ ---       │\n",
       "│            ┆            ┆     ┆            ┆   ┆            ┆            ┆           ┆ i64       │\n",
       "╞════════════╪════════════╪═════╪════════════╪═══╪════════════╪════════════╪═══════════╪═══════════╡\n",
       "│ 289094     ┆ 4.161115   ┆ 36  ┆ 878        ┆ … ┆ null       ┆ null       ┆ null      ┆ null      │\n",
       "│ 677626     ┆ 2.429976   ┆ 34  ┆ 998        ┆ … ┆ null       ┆ null       ┆ 87        ┆ 118       │\n",
       "│ 769928     ┆ 3.875044   ┆ 36  ┆ 37         ┆ … ┆ null       ┆ null       ┆ null      ┆ null      │\n",
       "│ 873260     ┆ 4.649933   ┆ 50  ┆ 503        ┆ … ┆ null       ┆ null       ┆ null      ┆ null      │\n",
       "│ 109774     ┆ 3.851059   ┆ 47  ┆ 331        ┆ … ┆ null       ┆ null       ┆ null      ┆ null      │\n",
       "└────────────┴────────────┴─────┴────────────┴───┴────────────┴────────────┴───────────┴───────────┘"
      ]
     },
     "execution_count": 21,
     "metadata": {},
     "output_type": "execute_result"
    }
   ],
   "source": [
    "features.head()"
   ]
  },
  {
   "cell_type": "code",
   "execution_count": 22,
   "id": "fa21103c",
   "metadata": {},
   "outputs": [
    {
     "name": "stdout",
     "output_type": "stream",
     "text": [
      "CPU times: user 2.99 ms, sys: 1.04 ms, total: 4.03 ms\n",
      "Wall time: 8.44 ms\n"
     ]
    }
   ],
   "source": [
    "%%time\n",
    "\n",
    "# Filling null values from intereactions features\n",
    "features = features.with_columns([\n",
    "    pl.when(pl.col(col).is_null())\n",
    "    .then(0)\n",
    "    .otherwise(pl.col(col))\n",
    "    .alias(col)\n",
    "    for col in features.columns if col.startswith('n_')\n",
    "] + [\n",
    "    pl.when(pl.col(col).is_null())\n",
    "    .then(-1)\n",
    "    .otherwise(pl.col(col))\n",
    "    .alias(col)\n",
    "    for col in features.columns if col.startswith('days_since_last')\n",
    "])"
   ]
  },
  {
   "cell_type": "markdown",
   "id": "85d61e28",
   "metadata": {},
   "source": [
    "### Dealing with null values in `available_gb`"
   ]
  },
  {
   "cell_type": "code",
   "execution_count": 23,
   "id": "1dc62e05",
   "metadata": {},
   "outputs": [
    {
     "data": {
      "text/html": [
       "<div><style>\n",
       ".dataframe > thead > tr,\n",
       ".dataframe > tbody > tr {\n",
       "  text-align: right;\n",
       "  white-space: pre-wrap;\n",
       "}\n",
       "</style>\n",
       "<small>shape: (14_148, 6)</small><table border=\"1\" class=\"dataframe\"><thead><tr><th>rating_account_id</th><th>available_gb</th><th>last_1_month_usage_gb</th><th>last_2_month_usage_gb</th><th>last_3_month_usage_gb</th><th>last_4_month_usage_gb</th></tr><tr><td>str</td><td>i64</td><td>f64</td><td>f64</td><td>f64</td><td>f64</td></tr></thead><tbody><tr><td>&quot;109774&quot;</td><td>null</td><td>0.6</td><td>0.1</td><td>0.1</td><td>0.6</td></tr><tr><td>&quot;781755&quot;</td><td>null</td><td>0.6</td><td>0.8</td><td>0.3</td><td>0</td></tr><tr><td>&quot;827238&quot;</td><td>null</td><td>0</td><td>0.7</td><td>0.9</td><td>0.1</td></tr><tr><td>&quot;330581&quot;</td><td>null</td><td>0</td><td>0.2</td><td>0.2</td><td>0.9</td></tr><tr><td>&quot;416121&quot;</td><td>null</td><td>0.8</td><td>0.8</td><td>0.3</td><td>0.5</td></tr><tr><td>&hellip;</td><td>&hellip;</td><td>&hellip;</td><td>&hellip;</td><td>&hellip;</td><td>&hellip;</td></tr><tr><td>&quot;662172&quot;</td><td>null</td><td>54.7</td><td>62.5</td><td>24.7</td><td>37.4</td></tr><tr><td>&quot;556788&quot;</td><td>null</td><td>19.6</td><td>32.6</td><td>31</td><td>65.2</td></tr><tr><td>&quot;283647&quot;</td><td>null</td><td>51.3</td><td>18.1</td><td>53.3</td><td>39.2</td></tr><tr><td>&quot;581854&quot;</td><td>null</td><td>49.5</td><td>21.5</td><td>27.7</td><td>18.6</td></tr><tr><td>&quot;727874&quot;</td><td>null</td><td>39.7</td><td>20.8</td><td>16.7</td><td>55.4</td></tr></tbody></table></div>"
      ],
      "text/plain": [
       "shape: (14_148, 6)\n",
       "┌────────────────┬──────────────┬────────────────┬────────────────┬────────────────┬───────────────┐\n",
       "│ rating_account ┆ available_gb ┆ last_1_month_u ┆ last_2_month_u ┆ last_3_month_u ┆ last_4_month_ │\n",
       "│ _id            ┆ ---          ┆ sage_gb        ┆ sage_gb        ┆ sage_gb        ┆ usage_gb      │\n",
       "│ ---            ┆ i64          ┆ ---            ┆ ---            ┆ ---            ┆ ---           │\n",
       "│ str            ┆              ┆ f64            ┆ f64            ┆ f64            ┆ f64           │\n",
       "╞════════════════╪══════════════╪════════════════╪════════════════╪════════════════╪═══════════════╡\n",
       "│ 109774         ┆ null         ┆ 0.6            ┆ 0.1            ┆ 0.1            ┆ 0.6           │\n",
       "│ 781755         ┆ null         ┆ 0.6            ┆ 0.8            ┆ 0.3            ┆ 0             │\n",
       "│ 827238         ┆ null         ┆ 0              ┆ 0.7            ┆ 0.9            ┆ 0.1           │\n",
       "│ 330581         ┆ null         ┆ 0              ┆ 0.2            ┆ 0.2            ┆ 0.9           │\n",
       "│ 416121         ┆ null         ┆ 0.8            ┆ 0.8            ┆ 0.3            ┆ 0.5           │\n",
       "│ …              ┆ …            ┆ …              ┆ …              ┆ …              ┆ …             │\n",
       "│ 662172         ┆ null         ┆ 54.7           ┆ 62.5           ┆ 24.7           ┆ 37.4          │\n",
       "│ 556788         ┆ null         ┆ 19.6           ┆ 32.6           ┆ 31             ┆ 65.2          │\n",
       "│ 283647         ┆ null         ┆ 51.3           ┆ 18.1           ┆ 53.3           ┆ 39.2          │\n",
       "│ 581854         ┆ null         ┆ 49.5           ┆ 21.5           ┆ 27.7           ┆ 18.6          │\n",
       "│ 727874         ┆ null         ┆ 39.7           ┆ 20.8           ┆ 16.7           ┆ 55.4          │\n",
       "└────────────────┴──────────────┴────────────────┴────────────────┴────────────────┴───────────────┘"
      ]
     },
     "execution_count": 23,
     "metadata": {},
     "output_type": "execute_result"
    }
   ],
   "source": [
    "features.filter(pl.col('available_gb').is_null()).select('rating_account_id', 'available_gb', 'last_1_month_usage_gb', 'last_2_month_usage_gb', 'last_3_month_usage_gb', 'last_4_month_usage_gb')"
   ]
  },
  {
   "cell_type": "code",
   "execution_count": 24,
   "id": "9321417f",
   "metadata": {},
   "outputs": [
    {
     "name": "stdout",
     "output_type": "stream",
     "text": [
      "MAE Ridge: 15.0033\n",
      "CPU times: user 29.2 ms, sys: 16.2 ms, total: 45.4 ms\n",
      "Wall time: 84.8 ms\n"
     ]
    }
   ],
   "source": [
    "%%time\n",
    "\n",
    "# Option A1: predict the value with a linear model\n",
    "\n",
    "# Prepare the data: drop rows with null available_gb and select numeric features\n",
    "df = (\n",
    "        features\n",
    "            .filter(pl.col('available_gb').is_not_null())\n",
    "            .select('available_gb', 'last_1_month_usage_gb', 'last_2_month_usage_gb', 'last_3_month_usage_gb', 'last_4_month_usage_gb')\n",
    ")\n",
    "\n",
    "X = df[['last_1_month_usage_gb', 'last_2_month_usage_gb', 'last_3_month_usage_gb', 'last_4_month_usage_gb']]\n",
    "y = df['available_gb']\n",
    "\n",
    "# Split into train/test\n",
    "X_train, X_test, y_train, y_test = train_test_split(X, y, test_size=0.2, random_state=42)\n",
    "\n",
    "# Fit Ridge regression (L2)\n",
    "ridge = Ridge()\n",
    "ridge.fit(X_train, y_train)\n",
    "\n",
    "# Predict and evaluate\n",
    "y_pred = ridge.predict(X_test)\n",
    "mae_linear_model = mean_absolute_error(y_test, y_pred)\n",
    "print(f'MAE Ridge: {mae_linear_model:.4f}')"
   ]
  },
  {
   "cell_type": "code",
   "execution_count": 25,
   "id": "a95ec080",
   "metadata": {},
   "outputs": [
    {
     "name": "stdout",
     "output_type": "stream",
     "text": [
      "MAE Lasso: 14.9996\n",
      "CPU times: user 59.4 ms, sys: 6.5 ms, total: 65.9 ms\n",
      "Wall time: 83.2 ms\n"
     ]
    }
   ],
   "source": [
    "%%time\n",
    "\n",
    "# Option A2: predict the value with a linear model\n",
    "\n",
    "# Prepare the data: drop rows with null available_gb and select numeric features\n",
    "df = (\n",
    "        features\n",
    "            .filter(pl.col('available_gb').is_not_null())\n",
    "            .select('available_gb', 'last_1_month_usage_gb', 'last_2_month_usage_gb', 'last_3_month_usage_gb', 'last_4_month_usage_gb')\n",
    ")\n",
    "\n",
    "X = df[['last_1_month_usage_gb', 'last_2_month_usage_gb', 'last_3_month_usage_gb', 'last_4_month_usage_gb']]\n",
    "y = df['available_gb']\n",
    "\n",
    "# Split into train/test\n",
    "X_train, X_test, y_train, y_test = train_test_split(X, y, test_size=0.2, random_state=42)\n",
    "\n",
    "# Fit Lasso regression (L1)\n",
    "lasso = Lasso()\n",
    "lasso.fit(X_train, y_train)\n",
    "\n",
    "# Predict and evaluate\n",
    "y_pred = lasso.predict(X_test)\n",
    "mae_lasso = mean_absolute_error(y_test, y_pred)\n",
    "print(f'MAE Lasso: {mae_lasso:.4f}')"
   ]
  },
  {
   "cell_type": "code",
   "execution_count": 26,
   "id": "a5a192aa",
   "metadata": {},
   "outputs": [
    {
     "name": "stdout",
     "output_type": "stream",
     "text": [
      "MAE horizontal_mean: 21.8625\n",
      "CPU times: user 15.3 ms, sys: 2.9 ms, total: 18.2 ms\n",
      "Wall time: 19.1 ms\n"
     ]
    }
   ],
   "source": [
    "%%time\n",
    "\n",
    "# Option B: mean of the previous contract activities\n",
    "\n",
    "columns_to_average = ['last_1_month_usage_gb', 'last_2_month_usage_gb', 'last_3_month_usage_gb', 'last_4_month_usage_gb']\n",
    "\n",
    "# Prepare the data: drop rows with null available_gb and select numeric features\n",
    "df = (\n",
    "        features\n",
    "            .filter(pl.col('available_gb').is_not_null())\n",
    "            .select('available_gb', 'last_1_month_usage_gb', 'last_2_month_usage_gb', 'last_3_month_usage_gb', 'last_4_month_usage_gb')\n",
    ")\n",
    "\n",
    "\n",
    "# Compute horizontal mean and find closest value\n",
    "result_df = df.with_columns([\n",
    "    # Compute horizontal mean\n",
    "    pl.mean_horizontal(columns_to_average).alias('prediction')\n",
    "])\n",
    "\n",
    "mae_horizontal_mean = mean_absolute_error(result_df['available_gb'], result_df['prediction'])\n",
    "print(f'MAE horizontal_mean: {mae_horizontal_mean:.4f}')"
   ]
  },
  {
   "cell_type": "markdown",
   "id": "28534acd",
   "metadata": {},
   "source": [
    "The error of the linear models is lower compared to the mean of the activities. **Winning option A2**"
   ]
  },
  {
   "cell_type": "code",
   "execution_count": 27,
   "id": "96291a8b",
   "metadata": {},
   "outputs": [],
   "source": [
    "# APPLY THE PREDICTION TO MISSING ROWS\n",
    "# Prepare the data: drop rows with null available_gb and select numeric features\n",
    "df = (\n",
    "        features\n",
    "            .filter(pl.col('available_gb').is_not_null())\n",
    "            .select('available_gb', 'last_1_month_usage_gb', 'last_2_month_usage_gb', 'last_3_month_usage_gb', 'last_4_month_usage_gb')\n",
    ")\n",
    "\n",
    "X = df.select(['last_1_month_usage_gb', 'last_2_month_usage_gb', 'last_3_month_usage_gb', 'last_4_month_usage_gb'])\n",
    "y = df.select('available_gb').to_series()\n",
    "\n",
    "df_missing = (\n",
    "        features\n",
    "            .filter(pl.col('available_gb').is_null())\n",
    "            .select(pl.exclude(\"available_gb\"))\n",
    ")\n",
    "\n",
    "X_missing = df_missing.select(['last_1_month_usage_gb', 'last_2_month_usage_gb', 'last_3_month_usage_gb', 'last_4_month_usage_gb'])\n",
    "\n",
    "\n",
    "# Fit Lasso regression (L1)\n",
    "lasso = Lasso()\n",
    "lasso.fit(X, y)\n",
    "\n",
    "# Predict\n",
    "df_missing = df_missing.with_columns(available_gb=lasso.predict(X_missing))\n",
    "\n",
    "# Since the value cannot be float, mapping the predicted values to similar options from data\n",
    "available_values = features.filter(pl.col('available_gb').is_not_null()).select(pl.col('available_gb')).unique().to_series().to_list()\n",
    "\n",
    "def find_closest(val, avail_list):\n",
    "    'Find closest value from available_values list'\n",
    "    if val is None:\n",
    "        return None\n",
    "    return min(avail_list, key=lambda x: abs(x - val))\n",
    "\n",
    "# Compute horizontal mean and find closest value\n",
    "df_missing = df_missing.with_columns([\n",
    "    # Find closest available value\n",
    "    pl.col('available_gb').map_elements(\n",
    "        lambda x: find_closest(x, available_values), \n",
    "        return_dtype=pl.Int64\n",
    "    ).alias('available_gb')\n",
    "])"
   ]
  },
  {
   "cell_type": "code",
   "execution_count": 28,
   "id": "c5914edb",
   "metadata": {},
   "outputs": [
    {
     "name": "stdout",
     "output_type": "stream",
     "text": [
      "CPU times: user 10.1 ms, sys: 995 μs, total: 11.1 ms\n",
      "Wall time: 12.9 ms\n"
     ]
    },
    {
     "data": {
      "text/html": [
       "<div><style>\n",
       ".dataframe > thead > tr,\n",
       ".dataframe > tbody > tr {\n",
       "  text-align: right;\n",
       "  white-space: pre-wrap;\n",
       "}\n",
       "</style>\n",
       "<small>shape: (5, 78)</small><table border=\"1\" class=\"dataframe\"><thead><tr><th>rating_account_id</th><th>customer_id</th><th>age</th><th>contract_lifetime_days</th><th>remaining_binding_days</th><th>has_special_offer</th><th>is_magenta1_customer</th><th>available_gb</th><th>gross_mrc</th><th>has_done_upselling</th><th>contract_binding_days</th><th>completion_rate</th><th>is_bounded</th><th>is_huawei</th><th>is_oneplus</th><th>is_samsung</th><th>is_xiaomi</th><th>is_iphone</th><th>n_contracts_per_customer</th><th>avg_monthly_usage_gb</th><th>median_monthly_usage_gb</th><th>total_usage_gb</th><th>usage_std_gb</th><th>min_monthly_usage_gb</th><th>max_monthly_usage_gb</th><th>usage_q25_gb</th><th>usage_q75_gb</th><th>months_with_roaming</th><th>ever_used_roaming</th><th>always_used_roaming</th><th>zero_usage_months</th><th>active_usage_months</th><th>avg_delta_1mo</th><th>delta_1mo_volatility</th><th>max_delta_1mo_increase</th><th>max_delta_1mo_decrease</th><th>months_with_delta_1mo_increase</th><th>&hellip;</th><th>max_delta_2mo_increase</th><th>max_delta_2mo_decrease</th><th>months_with_delta_2mo_increase</th><th>months_with_delta_2mo_decrease</th><th>months_with_no_delta_2mo_change</th><th>avg_delta_3mo</th><th>max_delta_3mo_increase</th><th>max_delta_3mo_decrease</th><th>months_with_delta_3mo_increase</th><th>months_with_delta_3mo_decrease</th><th>months_with_no_delta_3mo_change</th><th>last_1_2mo_rolling_avg</th><th>last_2_2mo_rolling_avg</th><th>last_3_2mo_rolling_avg</th><th>last_1_3mo_rolling_avg</th><th>last_2_3mo_rolling_avg</th><th>last_1_delta_1mo</th><th>last_2_delta_1mo</th><th>last_3_delta_1mo</th><th>last_1_delta_2mo</th><th>last_2_delta_2mo</th><th>last_1_delta_3mo</th><th>last_1_2mo_rolling_stdev</th><th>last_2_2mo_rolling_stdev</th><th>last_3_2mo_rolling_stdev</th><th>last_1_month_usage_gb</th><th>last_2_month_usage_gb</th><th>last_3_month_usage_gb</th><th>last_4_month_usage_gb</th><th>n_rechnungsanfragen</th><th>n_produkte&amp;services-tarifdetails</th><th>n_prolongation</th><th>n_produkte&amp;services-tarifwechsel</th><th>days_since_last_rechnungsanfragen</th><th>days_since_last_produkte&amp;services-tarifdetails</th><th>days_since_last_prolongation</th><th>days_since_last_produkte&amp;services-tarifwechsel</th></tr><tr><td>str</td><td>str</td><td>i64</td><td>i64</td><td>i64</td><td>bool</td><td>bool</td><td>i64</td><td>f64</td><td>bool</td><td>i64</td><td>f64</td><td>bool</td><td>bool</td><td>bool</td><td>bool</td><td>bool</td><td>bool</td><td>u32</td><td>f64</td><td>f64</td><td>f64</td><td>f64</td><td>f64</td><td>f64</td><td>f64</td><td>f64</td><td>u32</td><td>bool</td><td>bool</td><td>u32</td><td>u32</td><td>f64</td><td>f64</td><td>f64</td><td>f64</td><td>u32</td><td>&hellip;</td><td>f64</td><td>f64</td><td>u32</td><td>u32</td><td>u32</td><td>f64</td><td>f64</td><td>f64</td><td>u32</td><td>u32</td><td>u32</td><td>f64</td><td>f64</td><td>f64</td><td>f64</td><td>f64</td><td>f64</td><td>f64</td><td>f64</td><td>f64</td><td>f64</td><td>f64</td><td>f64</td><td>f64</td><td>f64</td><td>f64</td><td>f64</td><td>f64</td><td>f64</td><td>i64</td><td>i64</td><td>i64</td><td>i64</td><td>i64</td><td>i64</td><td>i64</td><td>i64</td></tr></thead><tbody><tr><td>&quot;289094&quot;</td><td>&quot;4.161115&quot;</td><td>36</td><td>878</td><td>325</td><td>false</td><td>false</td><td>20</td><td>70</td><td>false</td><td>1203</td><td>0.73</td><td>true</td><td>false</td><td>false</td><td>false</td><td>false</td><td>true</td><td>1</td><td>0.28</td><td>0.15</td><td>1.1</td><td>0.36</td><td>0</td><td>0.8</td><td>0.1</td><td>0.2</td><td>1</td><td>true</td><td>false</td><td>1</td><td>3</td><td>-0.27</td><td>0.29</td><td>-0.1</td><td>-0.6</td><td>0</td><td>&hellip;</td><td>-0.2</td><td>-0.7</td><td>0</td><td>2</td><td>0</td><td>-0.8</td><td>-0.8</td><td>-0.8</td><td>0</td><td>1</td><td>0</td><td>0.05</td><td>0.15</td><td>0.5</td><td>0.1</td><td>0.37</td><td>-0.1</td><td>-0.1</td><td>-0.6</td><td>-0.2</td><td>-0.7</td><td>-0.8</td><td>0.07</td><td>0.07</td><td>0.42</td><td>0.8</td><td>0.2</td><td>0.1</td><td>0</td><td>0</td><td>0</td><td>0</td><td>0</td><td>-1</td><td>-1</td><td>-1</td><td>-1</td></tr><tr><td>&quot;677626&quot;</td><td>&quot;2.429976&quot;</td><td>34</td><td>998</td><td>614</td><td>false</td><td>false</td><td>0</td><td>5</td><td>false</td><td>1612</td><td>0.62</td><td>true</td><td>false</td><td>false</td><td>true</td><td>false</td><td>false</td><td>1</td><td>0.65</td><td>0.65</td><td>2.6</td><td>0.31</td><td>0.3</td><td>1</td><td>0.5</td><td>0.8</td><td>1</td><td>true</td><td>false</td><td>0</td><td>4</td><td>0.07</td><td>0.55</td><td>0.7</td><td>-0.3</td><td>1</td><td>&hellip;</td><td>0.5</td><td>-0.5</td><td>1</td><td>1</td><td>0</td><td>0.2</td><td>0.2</td><td>0.2</td><td>1</td><td>0</td><td>0</td><td>0.65</td><td>0.4</td><td>0.65</td><td>0.6</td><td>0.53</td><td>0.7</td><td>-0.2</td><td>-0.3</td><td>0.5</td><td>-0.5</td><td>0.2</td><td>0.49</td><td>0.14</td><td>0.21</td><td>0.8</td><td>0.5</td><td>0.3</td><td>1</td><td>0</td><td>0</td><td>1</td><td>1</td><td>-1</td><td>-1</td><td>87</td><td>118</td></tr><tr><td>&quot;769928&quot;</td><td>&quot;3.875044&quot;</td><td>36</td><td>37</td><td>-26</td><td>false</td><td>true</td><td>50</td><td>16.94</td><td>false</td><td>11</td><td>3.36</td><td>false</td><td>false</td><td>false</td><td>true</td><td>false</td><td>false</td><td>2</td><td>0.6</td><td>0.55</td><td>2.4</td><td>0.32</td><td>0.3</td><td>1</td><td>0.4</td><td>0.7</td><td>0</td><td>false</td><td>false</td><td>0</td><td>4</td><td>-0.2</td><td>0.56</td><td>0.4</td><td>-0.7</td><td>1</td><td>&hellip;</td><td>0.1</td><td>-0.3</td><td>1</td><td>1</td><td>0</td><td>-0.6</td><td>-0.6</td><td>-0.6</td><td>0</td><td>1</td><td>0</td><td>0.55</td><td>0.5</td><td>0.65</td><td>0.47</td><td>0.67</td><td>-0.3</td><td>0.4</td><td>-0.7</td><td>0.1</td><td>-0.3</td><td>-0.6</td><td>0.21</td><td>0.28</td><td>0.49</td><td>1</td><td>0.3</td><td>0.7</td><td>0.4</td><td>0</td><td>0</td><td>0</td><td>0</td><td>-1</td><td>-1</td><td>-1</td><td>-1</td></tr><tr><td>&quot;873260&quot;</td><td>&quot;4.649933&quot;</td><td>50</td><td>503</td><td>-149</td><td>false</td><td>true</td><td>20</td><td>30.2</td><td>true</td><td>354</td><td>1.42</td><td>false</td><td>false</td><td>false</td><td>false</td><td>false</td><td>true</td><td>1</td><td>0.38</td><td>0.25</td><td>1.5</td><td>0.36</td><td>0.1</td><td>0.9</td><td>0.2</td><td>0.3</td><td>0</td><td>false</td><td>false</td><td>0</td><td>4</td><td>0.03</td><td>0.67</td><td>0.6</td><td>-0.7</td><td>2</td><td>&hellip;</td><td>0.8</td><td>-0.1</td><td>1</td><td>1</td><td>0</td><td>0.1</td><td>0.1</td><td>0.1</td><td>1</td><td>0</td><td>0</td><td>0.55</td><td>0.6</td><td>0.2</td><td>0.47</td><td>0.43</td><td>-0.7</td><td>0.6</td><td>0.2</td><td>-0.1</td><td>0.8</td><td>0.1</td><td>0.49</td><td>0.42</td><td>0.14</td><td>0.1</td><td>0.3</td><td>0.9</td><td>0.2</td><td>0</td><td>0</td><td>0</td><td>0</td><td>-1</td><td>-1</td><td>-1</td><td>-1</td></tr><tr><td>&quot;692379&quot;</td><td>&quot;4.382165&quot;</td><td>46</td><td>80</td><td>-25</td><td>false</td><td>true</td><td>40</td><td>60.71</td><td>false</td><td>55</td><td>1.45</td><td>false</td><td>true</td><td>false</td><td>false</td><td>false</td><td>false</td><td>1</td><td>0.55</td><td>0.6</td><td>2.2</td><td>0.3</td><td>0.2</td><td>0.8</td><td>0.4</td><td>0.8</td><td>2</td><td>true</td><td>false</td><td>0</td><td>4</td><td>0</td><td>0.53</td><td>0.6</td><td>-0.4</td><td>1</td><td>&hellip;</td><td>0.4</td><td>-0.6</td><td>1</td><td>1</td><td>0</td><td>0</td><td>0</td><td>0</td><td>0</td><td>0</td><td>1</td><td>0.5</td><td>0.3</td><td>0.6</td><td>0.47</td><td>0.47</td><td>0.6</td><td>-0.2</td><td>-0.4</td><td>0.4</td><td>-0.6</td><td>0</td><td>0.42</td><td>0.14</td><td>0.28</td><td>0.8</td><td>0.4</td><td>0.2</td><td>0.8</td><td>0</td><td>0</td><td>0</td><td>0</td><td>-1</td><td>-1</td><td>-1</td><td>-1</td></tr></tbody></table></div>"
      ],
      "text/plain": [
       "shape: (5, 78)\n",
       "┌────────────┬────────────┬─────┬────────────┬───┬────────────┬────────────┬───────────┬───────────┐\n",
       "│ rating_acc ┆ customer_i ┆ age ┆ contract_l ┆ … ┆ days_since ┆ days_since ┆ days_sinc ┆ days_sinc │\n",
       "│ ount_id    ┆ d          ┆ --- ┆ ifetime_da ┆   ┆ _last_rech ┆ _last_prod ┆ e_last_pr ┆ e_last_pr │\n",
       "│ ---        ┆ ---        ┆ i64 ┆ ys         ┆   ┆ nungsanfra ┆ ukte&servi ┆ olongatio ┆ odukte&se │\n",
       "│ str        ┆ str        ┆     ┆ ---        ┆   ┆ gen        ┆ ces-tarifd ┆ n         ┆ rvices-ta │\n",
       "│            ┆            ┆     ┆ i64        ┆   ┆ ---        ┆ etails     ┆ ---       ┆ rifwechse │\n",
       "│            ┆            ┆     ┆            ┆   ┆ i64        ┆ ---        ┆ i64       ┆ l         │\n",
       "│            ┆            ┆     ┆            ┆   ┆            ┆ i64        ┆           ┆ ---       │\n",
       "│            ┆            ┆     ┆            ┆   ┆            ┆            ┆           ┆ i64       │\n",
       "╞════════════╪════════════╪═════╪════════════╪═══╪════════════╪════════════╪═══════════╪═══════════╡\n",
       "│ 289094     ┆ 4.161115   ┆ 36  ┆ 878        ┆ … ┆ -1         ┆ -1         ┆ -1        ┆ -1        │\n",
       "│ 677626     ┆ 2.429976   ┆ 34  ┆ 998        ┆ … ┆ -1         ┆ -1         ┆ 87        ┆ 118       │\n",
       "│ 769928     ┆ 3.875044   ┆ 36  ┆ 37         ┆ … ┆ -1         ┆ -1         ┆ -1        ┆ -1        │\n",
       "│ 873260     ┆ 4.649933   ┆ 50  ┆ 503        ┆ … ┆ -1         ┆ -1         ┆ -1        ┆ -1        │\n",
       "│ 692379     ┆ 4.382165   ┆ 46  ┆ 80         ┆ … ┆ -1         ┆ -1         ┆ -1        ┆ -1        │\n",
       "└────────────┴────────────┴─────┴────────────┴───┴────────────┴────────────┴───────────┴───────────┘"
      ]
     },
     "execution_count": 28,
     "metadata": {},
     "output_type": "execute_result"
    }
   ],
   "source": [
    "%%time\n",
    "\n",
    "features = pl.concat(\n",
    "    [\n",
    "        features.filter(pl.col('available_gb').is_not_null()),\n",
    "        df_missing\n",
    "    ],\n",
    "    how='diagonal'\n",
    ")\n",
    "\n",
    "features.head()"
   ]
  },
  {
   "cell_type": "code",
   "execution_count": 29,
   "id": "caf49508",
   "metadata": {},
   "outputs": [
    {
     "data": {
      "text/html": [
       "<div><style>\n",
       ".dataframe > thead > tr,\n",
       ".dataframe > tbody > tr {\n",
       "  text-align: right;\n",
       "  white-space: pre-wrap;\n",
       "}\n",
       "</style>\n",
       "<small>shape: (0, 0)</small><table border=\"1\" class=\"dataframe\"><thead><tr></tr><tr></tr></thead><tbody></tbody></table></div>"
      ],
      "text/plain": [
       "shape: (0, 0)\n",
       "┌┐\n",
       "╞╡\n",
       "└┘"
      ]
     },
     "execution_count": 29,
     "metadata": {},
     "output_type": "execute_result"
    }
   ],
   "source": [
    "# Checking if there are other columns to fill\n",
    "\n",
    "null_counts_features = features.select([\n",
    "    pl.col(col).is_null().sum().alias(f'{col}_nulls') for col in features.columns\n",
    "])\n",
    "\n",
    "null_counts_features.select([\n",
    "    col for col in null_counts_features.columns if null_counts_features[0, col] != 0\n",
    "])"
   ]
  },
  {
   "cell_type": "markdown",
   "id": "5245db83",
   "metadata": {},
   "source": [
    "### Computing additional features\n",
    "\n",
    "Computing features based on `available_gb`, since there are no missing values"
   ]
  },
  {
   "cell_type": "code",
   "execution_count": 30,
   "id": "e5edfb95",
   "metadata": {},
   "outputs": [
    {
     "name": "stdout",
     "output_type": "stream",
     "text": [
      "CPU times: user 66.6 ms, sys: 16.5 ms, total: 83 ms\n",
      "Wall time: 119 ms\n"
     ]
    }
   ],
   "source": [
    "%%time\n",
    "\n",
    "# Compute how many times the contract required more than available data, baed on definde threshold of the current plan.\n",
    "\n",
    "# Compute 20%, 50%, and 80% for available_gb per rating_account_id\n",
    "thresholds_available_gb = features.group_by('rating_account_id').agg([\n",
    "    (pl.col('available_gb') / 100 * 25).get(0).round(2).alias('p25'),\n",
    "    (pl.col('available_gb') / 100 * 50).get(0).round(2).alias('p50'),\n",
    "    (pl.col('available_gb') / 100 * 70).get(0).round(2).alias('p75'),\n",
    "])\n",
    "\n",
    "# Compute, for each month, in which range the usage falls\n",
    "percentile_exprs = []\n",
    "for i in range(1, 5):\n",
    "    percentile_expr = (\n",
    "        pl.when(pl.col(f'last_{i}_month_usage_gb').is_between(-1, pl.col('p25'), closed='right'))  # -1 otherwise 0 is not counted\n",
    "        .then(pl.lit('P1'))\n",
    "        .when(pl.col(f'last_{i}_month_usage_gb').is_between(pl.col('p25'), pl.col('p50'), closed='right'))\n",
    "        .then(pl.lit('P2'))\n",
    "        .when(pl.col(f'last_{i}_month_usage_gb').is_between(pl.col('p50'), pl.col('p75'), closed='right'))\n",
    "        .then(pl.lit('P3'))\n",
    "        .when(pl.col(f'last_{i}_month_usage_gb').is_between(pl.col('p75'), pl.col('available_gb'), closed='right'))\n",
    "        .then(pl.lit('P4'))\n",
    "        .when(pl.col(f'last_{i}_month_usage_gb') > pl.col('available_gb'))\n",
    "        .then(pl.lit('P5'))  # how many times has exceeded the available data\n",
    "        .otherwise(pl.lit(None))\n",
    "        .alias(f'month_{i}_threshold')\n",
    "    )\n",
    "    percentile_exprs.append(percentile_expr)\n",
    "\n",
    "# Compute how many times, in the past 4 months, the usage felt in specific ranges\n",
    "count_exprs = []\n",
    "for p in range(1, 6):\n",
    "    count_expr = sum(\n",
    "        (pl.col(f'month_{i}_threshold') == f'P{p}').cast(pl.Int32)\n",
    "        for i in range(1, 5)\n",
    "    ).alias(f'times_in_p{p}')\n",
    "    count_exprs.append(count_expr)\n",
    "\n",
    "# Final computation\n",
    "features = (\n",
    "    features\n",
    "    .join(\n",
    "        thresholds_available_gb,\n",
    "        on='rating_account_id',\n",
    "        how='left')\n",
    "    .with_columns(percentile_exprs)\n",
    "    .with_columns(count_exprs)\n",
    ").drop(['p25', 'p50', 'p75', 'month_1_threshold', 'month_2_threshold', 'month_3_threshold', 'month_4_threshold'])"
   ]
  },
  {
   "cell_type": "code",
   "execution_count": 31,
   "id": "75be9a31",
   "metadata": {},
   "outputs": [
    {
     "name": "stdout",
     "output_type": "stream",
     "text": [
      "Number of invalid rows: 0\n"
     ]
    }
   ],
   "source": [
    "# Check that the sum of times_in_p1 to times_in_p5 is always 4 (number of billing months) for each row\n",
    "check_sum = features.select(\n",
    "    (pl.col('times_in_p1') + pl.col('times_in_p2') + pl.col('times_in_p3') + pl.col('times_in_p4') + pl.col('times_in_p5')).alias('sum_p')\n",
    ")\n",
    "\n",
    "# Count how many rows do not have sum == 4\n",
    "invalid_rows = check_sum.filter(pl.col('sum_p') != 4).height\n",
    "print(f\"Number of invalid rows: {invalid_rows}\")"
   ]
  },
  {
   "cell_type": "markdown",
   "id": "e940d562",
   "metadata": {},
   "source": [
    "---"
   ]
  },
  {
   "cell_type": "markdown",
   "id": "e97e0b0c",
   "metadata": {},
   "source": [
    "## `final features dataframe`"
   ]
  },
  {
   "cell_type": "code",
   "execution_count": 32,
   "id": "c1ba55f3",
   "metadata": {},
   "outputs": [
    {
     "data": {
      "text/plain": [
       "(100000, 83)"
      ]
     },
     "execution_count": 32,
     "metadata": {},
     "output_type": "execute_result"
    }
   ],
   "source": [
    "features.shape"
   ]
  },
  {
   "cell_type": "code",
   "execution_count": 33,
   "id": "6886d4fa",
   "metadata": {},
   "outputs": [
    {
     "data": {
      "text/html": [
       "<div><style>\n",
       ".dataframe > thead > tr,\n",
       ".dataframe > tbody > tr {\n",
       "  text-align: right;\n",
       "  white-space: pre-wrap;\n",
       "}\n",
       "</style>\n",
       "<small>shape: (5, 83)</small><table border=\"1\" class=\"dataframe\"><thead><tr><th>rating_account_id</th><th>customer_id</th><th>age</th><th>contract_lifetime_days</th><th>remaining_binding_days</th><th>has_special_offer</th><th>is_magenta1_customer</th><th>available_gb</th><th>gross_mrc</th><th>has_done_upselling</th><th>contract_binding_days</th><th>completion_rate</th><th>is_bounded</th><th>is_huawei</th><th>is_oneplus</th><th>is_samsung</th><th>is_xiaomi</th><th>is_iphone</th><th>n_contracts_per_customer</th><th>avg_monthly_usage_gb</th><th>median_monthly_usage_gb</th><th>total_usage_gb</th><th>usage_std_gb</th><th>min_monthly_usage_gb</th><th>max_monthly_usage_gb</th><th>usage_q25_gb</th><th>usage_q75_gb</th><th>months_with_roaming</th><th>ever_used_roaming</th><th>always_used_roaming</th><th>zero_usage_months</th><th>active_usage_months</th><th>avg_delta_1mo</th><th>delta_1mo_volatility</th><th>max_delta_1mo_increase</th><th>max_delta_1mo_decrease</th><th>months_with_delta_1mo_increase</th><th>&hellip;</th><th>avg_delta_3mo</th><th>max_delta_3mo_increase</th><th>max_delta_3mo_decrease</th><th>months_with_delta_3mo_increase</th><th>months_with_delta_3mo_decrease</th><th>months_with_no_delta_3mo_change</th><th>last_1_2mo_rolling_avg</th><th>last_2_2mo_rolling_avg</th><th>last_3_2mo_rolling_avg</th><th>last_1_3mo_rolling_avg</th><th>last_2_3mo_rolling_avg</th><th>last_1_delta_1mo</th><th>last_2_delta_1mo</th><th>last_3_delta_1mo</th><th>last_1_delta_2mo</th><th>last_2_delta_2mo</th><th>last_1_delta_3mo</th><th>last_1_2mo_rolling_stdev</th><th>last_2_2mo_rolling_stdev</th><th>last_3_2mo_rolling_stdev</th><th>last_1_month_usage_gb</th><th>last_2_month_usage_gb</th><th>last_3_month_usage_gb</th><th>last_4_month_usage_gb</th><th>n_rechnungsanfragen</th><th>n_produkte&amp;services-tarifdetails</th><th>n_prolongation</th><th>n_produkte&amp;services-tarifwechsel</th><th>days_since_last_rechnungsanfragen</th><th>days_since_last_produkte&amp;services-tarifdetails</th><th>days_since_last_prolongation</th><th>days_since_last_produkte&amp;services-tarifwechsel</th><th>times_in_p1</th><th>times_in_p2</th><th>times_in_p3</th><th>times_in_p4</th><th>times_in_p5</th></tr><tr><td>str</td><td>str</td><td>i64</td><td>i64</td><td>i64</td><td>bool</td><td>bool</td><td>i64</td><td>f64</td><td>bool</td><td>i64</td><td>f64</td><td>bool</td><td>bool</td><td>bool</td><td>bool</td><td>bool</td><td>bool</td><td>u32</td><td>f64</td><td>f64</td><td>f64</td><td>f64</td><td>f64</td><td>f64</td><td>f64</td><td>f64</td><td>u32</td><td>bool</td><td>bool</td><td>u32</td><td>u32</td><td>f64</td><td>f64</td><td>f64</td><td>f64</td><td>u32</td><td>&hellip;</td><td>f64</td><td>f64</td><td>f64</td><td>u32</td><td>u32</td><td>u32</td><td>f64</td><td>f64</td><td>f64</td><td>f64</td><td>f64</td><td>f64</td><td>f64</td><td>f64</td><td>f64</td><td>f64</td><td>f64</td><td>f64</td><td>f64</td><td>f64</td><td>f64</td><td>f64</td><td>f64</td><td>f64</td><td>i64</td><td>i64</td><td>i64</td><td>i64</td><td>i64</td><td>i64</td><td>i64</td><td>i64</td><td>i32</td><td>i32</td><td>i32</td><td>i32</td><td>i32</td></tr></thead><tbody><tr><td>&quot;289094&quot;</td><td>&quot;4.161115&quot;</td><td>36</td><td>878</td><td>325</td><td>false</td><td>false</td><td>20</td><td>70</td><td>false</td><td>1203</td><td>0.73</td><td>true</td><td>false</td><td>false</td><td>false</td><td>false</td><td>true</td><td>1</td><td>0.28</td><td>0.15</td><td>1.1</td><td>0.36</td><td>0</td><td>0.8</td><td>0.1</td><td>0.2</td><td>1</td><td>true</td><td>false</td><td>1</td><td>3</td><td>-0.27</td><td>0.29</td><td>-0.1</td><td>-0.6</td><td>0</td><td>&hellip;</td><td>-0.8</td><td>-0.8</td><td>-0.8</td><td>0</td><td>1</td><td>0</td><td>0.05</td><td>0.15</td><td>0.5</td><td>0.1</td><td>0.37</td><td>-0.1</td><td>-0.1</td><td>-0.6</td><td>-0.2</td><td>-0.7</td><td>-0.8</td><td>0.07</td><td>0.07</td><td>0.42</td><td>0.8</td><td>0.2</td><td>0.1</td><td>0</td><td>0</td><td>0</td><td>0</td><td>0</td><td>-1</td><td>-1</td><td>-1</td><td>-1</td><td>4</td><td>0</td><td>0</td><td>0</td><td>0</td></tr><tr><td>&quot;677626&quot;</td><td>&quot;2.429976&quot;</td><td>34</td><td>998</td><td>614</td><td>false</td><td>false</td><td>0</td><td>5</td><td>false</td><td>1612</td><td>0.62</td><td>true</td><td>false</td><td>false</td><td>true</td><td>false</td><td>false</td><td>1</td><td>0.65</td><td>0.65</td><td>2.6</td><td>0.31</td><td>0.3</td><td>1</td><td>0.5</td><td>0.8</td><td>1</td><td>true</td><td>false</td><td>0</td><td>4</td><td>0.07</td><td>0.55</td><td>0.7</td><td>-0.3</td><td>1</td><td>&hellip;</td><td>0.2</td><td>0.2</td><td>0.2</td><td>1</td><td>0</td><td>0</td><td>0.65</td><td>0.4</td><td>0.65</td><td>0.6</td><td>0.53</td><td>0.7</td><td>-0.2</td><td>-0.3</td><td>0.5</td><td>-0.5</td><td>0.2</td><td>0.49</td><td>0.14</td><td>0.21</td><td>0.8</td><td>0.5</td><td>0.3</td><td>1</td><td>0</td><td>0</td><td>1</td><td>1</td><td>-1</td><td>-1</td><td>87</td><td>118</td><td>0</td><td>0</td><td>0</td><td>0</td><td>4</td></tr><tr><td>&quot;769928&quot;</td><td>&quot;3.875044&quot;</td><td>36</td><td>37</td><td>-26</td><td>false</td><td>true</td><td>50</td><td>16.94</td><td>false</td><td>11</td><td>3.36</td><td>false</td><td>false</td><td>false</td><td>true</td><td>false</td><td>false</td><td>2</td><td>0.6</td><td>0.55</td><td>2.4</td><td>0.32</td><td>0.3</td><td>1</td><td>0.4</td><td>0.7</td><td>0</td><td>false</td><td>false</td><td>0</td><td>4</td><td>-0.2</td><td>0.56</td><td>0.4</td><td>-0.7</td><td>1</td><td>&hellip;</td><td>-0.6</td><td>-0.6</td><td>-0.6</td><td>0</td><td>1</td><td>0</td><td>0.55</td><td>0.5</td><td>0.65</td><td>0.47</td><td>0.67</td><td>-0.3</td><td>0.4</td><td>-0.7</td><td>0.1</td><td>-0.3</td><td>-0.6</td><td>0.21</td><td>0.28</td><td>0.49</td><td>1</td><td>0.3</td><td>0.7</td><td>0.4</td><td>0</td><td>0</td><td>0</td><td>0</td><td>-1</td><td>-1</td><td>-1</td><td>-1</td><td>4</td><td>0</td><td>0</td><td>0</td><td>0</td></tr><tr><td>&quot;873260&quot;</td><td>&quot;4.649933&quot;</td><td>50</td><td>503</td><td>-149</td><td>false</td><td>true</td><td>20</td><td>30.2</td><td>true</td><td>354</td><td>1.42</td><td>false</td><td>false</td><td>false</td><td>false</td><td>false</td><td>true</td><td>1</td><td>0.38</td><td>0.25</td><td>1.5</td><td>0.36</td><td>0.1</td><td>0.9</td><td>0.2</td><td>0.3</td><td>0</td><td>false</td><td>false</td><td>0</td><td>4</td><td>0.03</td><td>0.67</td><td>0.6</td><td>-0.7</td><td>2</td><td>&hellip;</td><td>0.1</td><td>0.1</td><td>0.1</td><td>1</td><td>0</td><td>0</td><td>0.55</td><td>0.6</td><td>0.2</td><td>0.47</td><td>0.43</td><td>-0.7</td><td>0.6</td><td>0.2</td><td>-0.1</td><td>0.8</td><td>0.1</td><td>0.49</td><td>0.42</td><td>0.14</td><td>0.1</td><td>0.3</td><td>0.9</td><td>0.2</td><td>0</td><td>0</td><td>0</td><td>0</td><td>-1</td><td>-1</td><td>-1</td><td>-1</td><td>4</td><td>0</td><td>0</td><td>0</td><td>0</td></tr><tr><td>&quot;692379&quot;</td><td>&quot;4.382165&quot;</td><td>46</td><td>80</td><td>-25</td><td>false</td><td>true</td><td>40</td><td>60.71</td><td>false</td><td>55</td><td>1.45</td><td>false</td><td>true</td><td>false</td><td>false</td><td>false</td><td>false</td><td>1</td><td>0.55</td><td>0.6</td><td>2.2</td><td>0.3</td><td>0.2</td><td>0.8</td><td>0.4</td><td>0.8</td><td>2</td><td>true</td><td>false</td><td>0</td><td>4</td><td>0</td><td>0.53</td><td>0.6</td><td>-0.4</td><td>1</td><td>&hellip;</td><td>0</td><td>0</td><td>0</td><td>0</td><td>0</td><td>1</td><td>0.5</td><td>0.3</td><td>0.6</td><td>0.47</td><td>0.47</td><td>0.6</td><td>-0.2</td><td>-0.4</td><td>0.4</td><td>-0.6</td><td>0</td><td>0.42</td><td>0.14</td><td>0.28</td><td>0.8</td><td>0.4</td><td>0.2</td><td>0.8</td><td>0</td><td>0</td><td>0</td><td>0</td><td>-1</td><td>-1</td><td>-1</td><td>-1</td><td>4</td><td>0</td><td>0</td><td>0</td><td>0</td></tr></tbody></table></div>"
      ],
      "text/plain": [
       "shape: (5, 83)\n",
       "┌────────────┬────────────┬─────┬────────────┬───┬────────────┬────────────┬───────────┬───────────┐\n",
       "│ rating_acc ┆ customer_i ┆ age ┆ contract_l ┆ … ┆ times_in_p ┆ times_in_p ┆ times_in_ ┆ times_in_ │\n",
       "│ ount_id    ┆ d          ┆ --- ┆ ifetime_da ┆   ┆ 2          ┆ 3          ┆ p4        ┆ p5        │\n",
       "│ ---        ┆ ---        ┆ i64 ┆ ys         ┆   ┆ ---        ┆ ---        ┆ ---       ┆ ---       │\n",
       "│ str        ┆ str        ┆     ┆ ---        ┆   ┆ i32        ┆ i32        ┆ i32       ┆ i32       │\n",
       "│            ┆            ┆     ┆ i64        ┆   ┆            ┆            ┆           ┆           │\n",
       "╞════════════╪════════════╪═════╪════════════╪═══╪════════════╪════════════╪═══════════╪═══════════╡\n",
       "│ 289094     ┆ 4.161115   ┆ 36  ┆ 878        ┆ … ┆ 0          ┆ 0          ┆ 0         ┆ 0         │\n",
       "│ 677626     ┆ 2.429976   ┆ 34  ┆ 998        ┆ … ┆ 0          ┆ 0          ┆ 0         ┆ 4         │\n",
       "│ 769928     ┆ 3.875044   ┆ 36  ┆ 37         ┆ … ┆ 0          ┆ 0          ┆ 0         ┆ 0         │\n",
       "│ 873260     ┆ 4.649933   ┆ 50  ┆ 503        ┆ … ┆ 0          ┆ 0          ┆ 0         ┆ 0         │\n",
       "│ 692379     ┆ 4.382165   ┆ 46  ┆ 80         ┆ … ┆ 0          ┆ 0          ┆ 0         ┆ 0         │\n",
       "└────────────┴────────────┴─────┴────────────┴───┴────────────┴────────────┴───────────┴───────────┘"
      ]
     },
     "execution_count": 33,
     "metadata": {},
     "output_type": "execute_result"
    }
   ],
   "source": [
    "features.head()"
   ]
  },
  {
   "cell_type": "markdown",
   "id": "2d8ec0a1",
   "metadata": {},
   "source": [
    "# Features cleaning"
   ]
  },
  {
   "cell_type": "markdown",
   "id": "b3ab811a",
   "metadata": {},
   "source": [
    "## Correlation analysis"
   ]
  },
  {
   "cell_type": "code",
   "execution_count": 67,
   "id": "414e7157",
   "metadata": {},
   "outputs": [],
   "source": [
    "numeric_and_booleans_features = features.select(cs.numeric())"
   ]
  },
  {
   "cell_type": "code",
   "execution_count": 68,
   "id": "832f11de",
   "metadata": {},
   "outputs": [
    {
     "name": "stdout",
     "output_type": "stream",
     "text": [
      "CPU times: user 122 ms, sys: 9.49 ms, total: 132 ms\n",
      "Wall time: 117 ms\n"
     ]
    }
   ],
   "source": [
    "%%time\n",
    "\n",
    "correlation_matrix = numeric_and_booleans_features.corr()"
   ]
  },
  {
   "cell_type": "code",
   "execution_count": 69,
   "id": "b181f29b",
   "metadata": {},
   "outputs": [
    {
     "data": {
      "text/html": [
       "<div><style>\n",
       ".dataframe > thead > tr,\n",
       ".dataframe > tbody > tr {\n",
       "  text-align: right;\n",
       "  white-space: pre-wrap;\n",
       "}\n",
       "</style>\n",
       "<small>shape: (70, 70)</small><table border=\"1\" class=\"dataframe\"><thead><tr><th>age</th><th>contract_lifetime_days</th><th>remaining_binding_days</th><th>available_gb</th><th>gross_mrc</th><th>contract_binding_days</th><th>completion_rate</th><th>n_contracts_per_customer</th><th>avg_monthly_usage_gb</th><th>median_monthly_usage_gb</th><th>total_usage_gb</th><th>usage_std_gb</th><th>min_monthly_usage_gb</th><th>max_monthly_usage_gb</th><th>usage_q25_gb</th><th>usage_q75_gb</th><th>months_with_roaming</th><th>zero_usage_months</th><th>active_usage_months</th><th>avg_delta_1mo</th><th>delta_1mo_volatility</th><th>max_delta_1mo_increase</th><th>max_delta_1mo_decrease</th><th>months_with_delta_1mo_increase</th><th>months_with_delta_1mo_decrease</th><th>months_with_no_delta_1mo_change</th><th>avg_delta_2mo</th><th>delta_2mo_volatility</th><th>max_delta_2mo_increase</th><th>max_delta_2mo_decrease</th><th>months_with_delta_2mo_increase</th><th>months_with_delta_2mo_decrease</th><th>months_with_no_delta_2mo_change</th><th>avg_delta_3mo</th><th>max_delta_3mo_increase</th><th>max_delta_3mo_decrease</th><th>months_with_delta_3mo_increase</th><th>months_with_delta_3mo_decrease</th><th>months_with_no_delta_3mo_change</th><th>last_1_2mo_rolling_avg</th><th>last_2_2mo_rolling_avg</th><th>last_3_2mo_rolling_avg</th><th>last_1_3mo_rolling_avg</th><th>last_2_3mo_rolling_avg</th><th>last_1_delta_1mo</th><th>last_2_delta_1mo</th><th>last_3_delta_1mo</th><th>last_1_delta_2mo</th><th>last_2_delta_2mo</th><th>last_1_delta_3mo</th><th>last_1_2mo_rolling_stdev</th><th>last_2_2mo_rolling_stdev</th><th>last_3_2mo_rolling_stdev</th><th>last_1_month_usage_gb</th><th>last_2_month_usage_gb</th><th>last_3_month_usage_gb</th><th>last_4_month_usage_gb</th><th>n_rechnungsanfragen</th><th>n_produkte&amp;services-tarifdetails</th><th>n_prolongation</th><th>n_produkte&amp;services-tarifwechsel</th><th>days_since_last_rechnungsanfragen</th><th>days_since_last_produkte&amp;services-tarifdetails</th><th>days_since_last_prolongation</th><th>days_since_last_produkte&amp;services-tarifwechsel</th><th>times_in_p1</th><th>times_in_p2</th><th>times_in_p3</th><th>times_in_p4</th><th>times_in_p5</th></tr><tr><td>f64</td><td>f64</td><td>f64</td><td>f64</td><td>f64</td><td>f64</td><td>f64</td><td>f64</td><td>f64</td><td>f64</td><td>f64</td><td>f64</td><td>f64</td><td>f64</td><td>f64</td><td>f64</td><td>f64</td><td>f64</td><td>f64</td><td>f64</td><td>f64</td><td>f64</td><td>f64</td><td>f64</td><td>f64</td><td>f64</td><td>f64</td><td>f64</td><td>f64</td><td>f64</td><td>f64</td><td>f64</td><td>f64</td><td>f64</td><td>f64</td><td>f64</td><td>f64</td><td>f64</td><td>f64</td><td>f64</td><td>f64</td><td>f64</td><td>f64</td><td>f64</td><td>f64</td><td>f64</td><td>f64</td><td>f64</td><td>f64</td><td>f64</td><td>f64</td><td>f64</td><td>f64</td><td>f64</td><td>f64</td><td>f64</td><td>f64</td><td>f64</td><td>f64</td><td>f64</td><td>f64</td><td>f64</td><td>f64</td><td>f64</td><td>f64</td><td>f64</td><td>f64</td><td>f64</td><td>f64</td><td>f64</td></tr></thead><tbody><tr><td>1</td><td>-0.0629525879053476</td><td>0.007917425991875568</td><td>0.0020015308181241475</td><td>-0.0014248647679732413</td><td>-0.04689189462413721</td><td>0.00353602431532941</td><td>-0.0033925108458075066</td><td>-0.07313075894941969</td><td>-0.07117159510219147</td><td>-0.07313072441998948</td><td>-0.0752667069178047</td><td>-0.06588505936769457</td><td>-0.07627248976389259</td><td>-0.06852675138912509</td><td>-0.07211471686542024</td><td>0.0024213213370002985</td><td>0.010187406343503983</td><td>-0.0101874063435039</td><td>0.0007023898149709626</td><td>-0.0698694468472535</td><td>-0.06434228889805703</td><td>0.06525763675673277</td><td>-0.0027109579596412622</td><td>-0.003923417078656138</td><td>0.013449505856104643</td><td>0.0038771650238448078</td><td>-0.05982538993845558</td><td>-0.03588147143189146</td><td>0.0418930823776148</td><td>0.002696058456064011</td><td>-0.007157296164963452</td><td>0.012284435206751758</td><td>0.0007018860866903546</td><td>0.0007018860866903546</td><td>0.0007018860866903546</td><td>-0.0027964731629029245</td><td>-0.00016122916901736825</td><td>0.008278462206978325</td><td>-0.07023640985754045</td><td>-0.07118943304127716</td><td>-0.07216078833847767</td><td>-0.07239798432566195</td><td>-0.07251675544933449</td><td>-0.0022278083988556082</td><td>0.004810231937738154</td><td>-0.0018765816242892104</td><td>0.002577746601875384</td><td>0.0029294087217661374</td><td>0.0007018860866903546</td><td>-0.05818506841796149</td><td>-0.06188408762322952</td><td>-0.05992545507252074</td><td>-0.06797684008539309</td><td>-0.06941992923036817</td><td>-0.06614590372886091</td><td>-0.067636313903008</td><td>-0.0029619271116923386</td><td>-0.0036624528884935327</td><td>-0.0010602562815131568</td><td>0.0024569564673974044</td><td>-0.002173552477055877</td><td>-0.0017217017286030646</td><td>-0.004082781479784842</td><td>0.0007222265215127118</td><td>0.047705646519236894</td><td>0.012602850196615879</td><td>-0.011356125642459285</td><td>-0.02461459789404415</td><td>-0.04884294998721446</td></tr><tr><td>-0.06295258790534759</td><td>1</td><td>-0.0003783910010728704</td><td>-0.032126065687675204</td><td>0.0030451716731358623</td><td>0.8171535046016242</td><td>-0.07300261199879411</td><td>0.0023650517704186607</td><td>0.7632866265204388</td><td>0.7508626128730621</td><td>0.7632872022690604</td><td>0.7272201981256826</td><td>0.710920257111116</td><td>0.7732354631860344</td><td>0.7318593393860774</td><td>0.7537621693882587</td><td>-0.005097468591353552</td><td>-0.09475926466371004</td><td>0.09475926466370997</td><td>-0.0015123138415764018</td><td>0.6811245720092849</td><td>0.630724779896917</td><td>-0.6291921881077874</td><td>0.03264938171411658</td><td>0.03404249035232747</td><td>-0.1352208870762016</td><td>0.0048604813883570365</td><td>0.5801060874511151</td><td>0.3801496092665654</td><td>-0.3739104433991196</td><td>0.02229034000445165</td><td>0.017848040212429837</td><td>-0.1103229664401533</td><td>-0.0015110509232823767</td><td>-0.0015110509232823767</td><td>-0.0015110509232823767</td><td>0.01553886015196863</td><td>0.01351762142620585</td><td>-0.08134120648691907</td><td>0.7434205175805239</td><td>0.743278014254858</td><td>0.7427992699446373</td><td>0.7563778588356003</td><td>0.7563208014062932</td><td>-0.003962065315546003</td><td>0.008440296747651647</td><td>-0.006002610013797874</td><td>0.004470249234288799</td><td>0.002431251194703502</td><td>-0.0015110509232823767</td><td>0.5862943391397315</td><td>0.5878593834322187</td><td>0.5894401962885459</td><td>0.7074652280240008</td><td>0.7068184459534311</td><td>0.7085158996998934</td><td>0.7074916297772239</td><td>0.00421444660602776</td><td>0.0021811147714451817</td><td>0.002424094037175166</td><td>0.0038562618871112587</td><td>0.004366695774608397</td><td>0.0014775262795114102</td><td>-0.0016269760313566877</td><td>0.002949492743458491</td><td>-0.4651370824557613</td><td>-0.15697385908485523</td><td>0.08043653464478628</td><td>0.26470369022922924</td><td>0.4983430708639573</td></tr><tr><td>0.007917425991875568</td><td>-0.0003783910010728704</td><td>0.9999999999999999</td><td>0.0007421669104084503</td><td>0.002179619852898867</td><td>0.5761108710174765</td><td>-0.1507495214901689</td><td>0.0031184382252098324</td><td>-0.003368056021030941</td><td>-0.0033786218444621825</td><td>-0.0033670204985767243</td><td>-0.002278291324361265</td><td>-0.003511932081388142</td><td>-0.003135261219195083</td><td>-0.0038810688474674535</td><td>-0.0029258975348432593</td><td>-0.0033505124922018543</td><td>-0.0010846215558273022</td><td>0.0010846215558273072</td><td>0.004231075366245402</td><td>-0.0012913676246216438</td><td>-0.0005253656943313309</td><td>0.0012444482226628166</td><td>0.0010398710334209135</td><td>-0.0009434670746600751</td><td>-0.0001991602516028179</td><td>0.0006135525006577703</td><td>-0.0036709594401793722</td><td>-0.0019173180886053083</td><td>0.0028571672810733012</td><td>0.0016059206003933085</td><td>-0.001983000044914771</td><td>0.001044298351067821</td><td>0.004228160955008833</td><td>0.004228160955008833</td><td>0.004228160955008833</td><td>0.008375570520982954</td><td>-0.006714190636222069</td><td>-0.004642390731298755</td><td>-0.003134501641543642</td><td>-0.001615083942391306</td><td>-0.003421838758769516</td><td>-0.002308263865614657</td><td>-0.0032358684666985455</td><td>-0.0013602383904919337</td><td>-0.003388871642487854</td><td>0.009003476899453246</td><td>-0.00473342809016704</td><td>0.005614739084775269</td><td>0.004228160955008833</td><td>-0.0037692239748397215</td><td>-0.001050758085637673</td><td>0.0012077114722154902</td><td>-0.0060008342919767674</td><td>-0.0005025521403265127</td><td>-0.0025678096237829566</td><td>-0.003403362532700231</td><td>0.0042893103455309885</td><td>-0.0045450803839230955</td><td>-0.000550729968203646</td><td>0.008401502292391047</td><td>0.0041148704343960145</td><td>-0.004200652333154999</td><td>-0.0014239168372262169</td><td>0.002532071796620933</td><td>0.003595027248980564</td><td>0.0005717954093538758</td><td>-0.002259417399267059</td><td>0.00031672611610409875</td><td>-0.0036916032443004695</td></tr><tr><td>0.0020015308181241475</td><td>-0.032126065687675204</td><td>0.0007421669104084504</td><td>0.9999999999999999</td><td>-0.0024587734096769894</td><td>-0.02583113428554061</td><td>0.006971121919043611</td><td>0.0002684735229871767</td><td>-0.04011757756460991</td><td>-0.03933747541803906</td><td>-0.040116928543826175</td><td>-0.04024613006208369</td><td>-0.03617021038246265</td><td>-0.04139055484207002</td><td>-0.03782438878577749</td><td>-0.03989934830826546</td><td>0.0007200633236605356</td><td>0.008177975369587902</td><td>-0.008177975369587918</td><td>-0.0089571980632671</td><td>-0.03691136786859041</td><td>-0.03785421524287581</td><td>0.029866491049181588</td><td>-0.0007914361364533618</td><td>-0.0028488766446646786</td><td>0.00737721491273247</td><td>-0.007199502882120817</td><td>-0.03512391586661177</td><td>-0.028257023438348194</td><td>0.017383569734294932</td><td>-0.005250118537681683</td><td>0.0034678803596330595</td><td>0.004880126414490814</td><td>-0.008958884761091974</td><td>-0.008958884761091974</td><td>-0.008958884761091974</td><td>-0.007460334315593718</td><td>0.0048201060755382686</td><td>0.007384229549775811</td><td>-0.04065715615556799</td><td>-0.03882817397170189</td><td>-0.03745232561192221</td><td>-0.04066676061305669</td><td>-0.03867803535082624</td><td>-0.0047058938957302435</td><td>-0.0012152153721237326</td><td>-0.003113646249159127</td><td>-0.005897651701941139</td><td>-0.004326456852194825</td><td>-0.008958884761091974</td><td>-0.03248632327135266</td><td>-0.0286038506515081</td><td>-0.034649920815514205</td><td>-0.034627216699059306</td><td>-0.03668618027259971</td><td>-0.03724845166090696</td><td>-0.040194977494247656</td><td>-0.0027753592056530617</td><td>0.001975370864724089</td><td>-0.0024030418946654358</td><td>-0.0036484670334102904</td><td>-0.001828261199771774</td><td>-0.00010865678076617748</td><td>-0.0009845477696042433</td><td>-0.003399587000315279</td><td>0.44300923575092677</td><td>0.12012203595677905</td><td>0.026597859735423855</td><td>0.07138108632869992</td><td>-0.5836747528828375</td></tr><tr><td>-0.0014248647679732413</td><td>0.0030451716731358623</td><td>0.002179619852898867</td><td>-0.0024587734096769894</td><td>1</td><td>0.003745413711897003</td><td>0.001448901652406299</td><td>0.0016938968378855258</td><td>0.0034662775264801956</td><td>0.0036649796886498833</td><td>0.0034670413042216385</td><td>0.001983447006780046</td><td>0.003559935212115557</td><td>0.0029799401592150577</td><td>0.004232483813729707</td><td>0.003156082446484031</td><td>-0.002621823061911647</td><td>0.00416868698384991</td><td>-0.004168686983849909</td><td>0.0016857292450166749</td><td>0.002357003944395102</td><td>0.0033169574760850613</td><td>-0.0015639842171657377</td><td>-0.0011157641239080813</td><td>0.0014068762332894742</td><td>-0.0005855575777674823</td><td>-0.0027569414013037955</td><td>0.001878543120285064</td><td>-0.0008726892860535902</td><td>-0.003321487870409262</td><td>-0.0018806672781231143</td><td>0.0005494721132352117</td><td>0.003653928234913019</td><td>0.0016859505374580168</td><td>0.0016859505374580168</td><td>0.0016859505374580168</td><td>0.0032038550078330964</td><td>-0.00031892126693167317</td><td>-0.008074245652902642</td><td>0.002742729071843708</td><td>0.0036344999378973724</td><td>0.0040094187222853165</td><td>0.0037084812711037705</td><td>0.0033371612082357233</td><td>0.002865308322562273</td><td>-0.005622969378124299</td><td>0.004457926510055416</td><td>-0.0027532977838048696</td><td>-0.001160926028117356</td><td>0.0016859505374580168</td><td>0.0027105335786805603</td><td>0.0036034334811532757</td><td>-0.0009023286321955589</td><td>0.0024470740183862895</td><td>0.0051927124225158204</td><td>0.001736507540913687</td><td>0.0034893492438268013</td><td>-0.0014842179605258324</td><td>-0.0070461841673263425</td><td>0.0014512163470149944</td><td>0.004541296831139777</td><td>-0.0030816234859641096</td><td>-0.0035406766558893866</td><td>0.002945215744682074</td><td>0.0028001963669227344</td><td>-0.001521995787355854</td><td>-0.0011358179365463976</td><td>0.0027629290569683796</td><td>-0.0013717817552831178</td><td>0.001947958861748606</td></tr><tr><td>&hellip;</td><td>&hellip;</td><td>&hellip;</td><td>&hellip;</td><td>&hellip;</td><td>&hellip;</td><td>&hellip;</td><td>&hellip;</td><td>&hellip;</td><td>&hellip;</td><td>&hellip;</td><td>&hellip;</td><td>&hellip;</td><td>&hellip;</td><td>&hellip;</td><td>&hellip;</td><td>&hellip;</td><td>&hellip;</td><td>&hellip;</td><td>&hellip;</td><td>&hellip;</td><td>&hellip;</td><td>&hellip;</td><td>&hellip;</td><td>&hellip;</td><td>&hellip;</td><td>&hellip;</td><td>&hellip;</td><td>&hellip;</td><td>&hellip;</td><td>&hellip;</td><td>&hellip;</td><td>&hellip;</td><td>&hellip;</td><td>&hellip;</td><td>&hellip;</td><td>&hellip;</td><td>&hellip;</td><td>&hellip;</td><td>&hellip;</td><td>&hellip;</td><td>&hellip;</td><td>&hellip;</td><td>&hellip;</td><td>&hellip;</td><td>&hellip;</td><td>&hellip;</td><td>&hellip;</td><td>&hellip;</td><td>&hellip;</td><td>&hellip;</td><td>&hellip;</td><td>&hellip;</td><td>&hellip;</td><td>&hellip;</td><td>&hellip;</td><td>&hellip;</td><td>&hellip;</td><td>&hellip;</td><td>&hellip;</td><td>&hellip;</td><td>&hellip;</td><td>&hellip;</td><td>&hellip;</td><td>&hellip;</td><td>&hellip;</td><td>&hellip;</td><td>&hellip;</td><td>&hellip;</td><td>&hellip;</td></tr><tr><td>0.047705646519236894</td><td>-0.4651370824557613</td><td>0.0035950272489805634</td><td>0.44300923575092677</td><td>-0.001521995787355854</td><td>-0.37811760294981384</td><td>0.03603245876904223</td><td>-0.0010580614604684586</td><td>-0.6574356700261336</td><td>-0.6477335996820826</td><td>-0.6574351617633541</td><td>-0.5921330567575226</td><td>-0.6324734010954444</td><td>-0.6550171232472066</td><td>-0.6366293036345562</td><td>-0.6460450821056</td><td>-0.0022202435618355145</td><td>0.19473479366783358</td><td>-0.1947347936678337</td><td>0.001326906786667687</td><td>-0.555236245379734</td><td>-0.5138604773898797</td><td>0.5131083533985022</td><td>-0.05017190324173619</td><td>-0.05086622658141281</td><td>0.20486216667920032</td><td>-0.003294884422366589</td><td>-0.47356767486786105</td><td>-0.30981429961732015</td><td>0.30574381631026665</td><td>-0.03577022579577623</td><td>-0.026718973160469936</td><td>0.17175102633102984</td><td>0.001327230036611494</td><td>0.001327230036611494</td><td>0.001327230036611494</td><td>-0.023392744802626767</td><td>-0.02100348798291842</td><td>0.12428396274545907</td><td>-0.6401201528361139</td><td>-0.6404085652111067</td><td>-0.6399923369406615</td><td>-0.6515520568287523</td><td>-0.6515088247418852</td><td>0.0034509210628460986</td><td>-0.006026941760208073</td><td>0.003915808807681568</td><td>-0.0025729495726785224</td><td>-0.002106399879094899</td><td>0.001327230036611494</td><td>-0.4787230044872635</td><td>-0.47902096232931146</td><td>-0.4795624677691726</td><td>-0.6091650305015999</td><td>-0.6093767387773618</td><td>-0.6100776324444828</td><td>-0.6091716580776606</td><td>0.000059637575997904895</td><td>-0.0012191470648258765</td><td>-0.001453135944898726</td><td>-0.002648473788040453</td><td>0.00007632894699609086</td><td>-0.003910193406857043</td><td>0.0009721214954402584</td><td>-0.0018419967704396566</td><td>1</td><td>-0.25830911226021347</td><td>-0.3079286742066061</td><td>-0.35295243923345915</td><td>-0.7354253793324923</td></tr><tr><td>0.01260285019661588</td><td>-0.15697385908485523</td><td>0.0005717954093538758</td><td>0.12012203595677905</td><td>-0.0011358179365463974</td><td>-0.12797638259614352</td><td>0.010083043683954946</td><td>-0.00404546325199369</td><td>-0.08053488635503672</td><td>-0.07978097346055228</td><td>-0.08053626632882388</td><td>-0.08836353485322143</td><td>-0.06601591086657327</td><td>-0.08501006100996686</td><td>-0.07663393330576229</td><td>-0.08098256481617847</td><td>0.004011439195300704</td><td>-0.10143640503833477</td><td>0.10143640503833465</td><td>-0.005175368001069828</td><td>-0.08260255851680684</td><td>-0.07864889497623406</td><td>0.07415262192460485</td><td>0.01909079448633512</td><td>0.02651005626675375</td><td>-0.09244581478282995</td><td>-0.004948752389538511</td><td>-0.07057830152343202</td><td>-0.04956675320168578</td><td>0.04218459133318309</td><td>0.007545440873567659</td><td>0.02054964434387215</td><td>-0.0772561138065041</td><td>-0.00517598980275904</td><td>-0.00517598980275904</td><td>-0.00517598980275904</td><td>-0.0009713468603610833</td><td>0.0209298352498439</td><td>-0.055885357074821077</td><td>-0.07945220110661956</td><td>-0.07822605127716974</td><td>-0.07736023862530608</td><td>-0.08032589540486917</td><td>-0.0791475167054129</td><td>-0.0024269018307169327</td><td>-0.0018252937563690555</td><td>-0.000967793660771512</td><td>-0.004236585771994782</td><td>-0.002790853651064619</td><td>-0.00517598980275904</td><td>-0.07256802452778705</td><td>-0.07229930076095765</td><td>-0.07123041550751416</td><td>-0.07319372401378046</td><td>-0.07410161945810369</td><td>-0.07485337732906021</td><td>-0.07648248613966893</td><td>-0.004008765254458228</td><td>-0.0033501395087788067</td><td>-0.002247015924201317</td><td>-0.00035153602710774243</td><td>-0.006087907692970569</td><td>-0.005219717915631191</td><td>-0.0000971813050819011</td><td>-0.0007624493507186986</td><td>-0.2583091122602135</td><td>1</td><td>0.06638363851405626</td><td>-0.06603850435498461</td><td>-0.32501826130391254</td></tr><tr><td>-0.011356125642459285</td><td>0.08043653464478628</td><td>-0.002259417399267059</td><td>0.026597859735423855</td><td>0.0027629290569683796</td><td>0.06444416664035231</td><td>-0.0035336615281290557</td><td>0.0022099155654710734</td><td>0.1277148971901287</td><td>0.11951849314969573</td><td>0.12771508845407165</td><td>0.143799347234508</td><td>0.11589738196130095</td><td>0.1398686648806849</td><td>0.11073242930943984</td><td>0.12454400153033612</td><td>0.007081831567542339</td><td>-0.06486624231444324</td><td>0.06486624231444316</td><td>0.005930550562054738</td><td>0.1355873536708041</td><td>0.12767042540258938</td><td>-0.12355130756745797</td><td>0.029447727913750426</td><td>0.006673307821842664</td><td>-0.07328089869697282</td><td>0.008038226591646828</td><td>0.10932843104513819</td><td>0.07704456886249</td><td>-0.06504319484404679</td><td>0.02590299565436248</td><td>-0.002915527235662338</td><td>-0.06312560264259107</td><td>0.005929657650460138</td><td>0.005929657650460138</td><td>0.005929657650460138</td><td>0.023371756848562675</td><td>-0.0076998405133813785</td><td>-0.04385520067360781</td><td>0.12603942337353619</td><td>0.12382557674145965</td><td>0.12263496873381974</td><td>0.127055143248569</td><td>0.1256875386113633</td><td>0.002117545597359137</td><td>0.005462335963983286</td><td>-0.001598904504421387</td><td>0.007554921578262583</td><td>0.0038584171305832875</td><td>0.005929657650460138</td><td>0.1151001103839581</td><td>0.12127235937567242</td><td>0.11240751451406249</td><td>0.11698705992275005</td><td>0.11650811063655493</td><td>0.11927187169755994</td><td>0.12079954414966645</td><td>0.002155692056575203</td><td>0.002197531356652983</td><td>-0.0024947330179143673</td><td>0.00012364639706145917</td><td>0.004345671329991873</td><td>0.0005387009612483223</td><td>-0.003744099075050931</td><td>0.002376749352079732</td><td>-0.3079286742066061</td><td>0.06638363851405626</td><td>1</td><td>0.23716708742306913</td><td>-0.06804662056045266</td></tr><tr><td>-0.02461459789404415</td><td>0.26470369022922924</td><td>0.00031672611610409875</td><td>0.07138108632869991</td><td>-0.0013717817552831178</td><td>0.21654385057369152</td><td>-0.02055105593527674</td><td>0.00006538944256845367</td><td>0.31465248046091876</td><td>0.30125243815779473</td><td>0.31465223603044434</td><td>0.30811558755180074</td><td>0.2988633998709326</td><td>0.3282575316302787</td><td>0.29329312440993455</td><td>0.3026811792336865</td><td>-0.001462540001162611</td><td>-0.07417531216240263</td><td>0.07417531216240258</td><td>-0.005430670448569713</td><td>0.28960525934322573</td><td>0.26515322560233184</td><td>-0.27062384118898314</td><td>0.025420292851836217</td><td>0.02089319317763292</td><td>-0.09391298792028537</td><td>-0.003406036778495155</td><td>0.2429900764871216</td><td>0.1551007619977368</td><td>-0.16075892658304858</td><td>0.01309907483983647</td><td>0.014208605512967968</td><td>-0.07506590488344689</td><td>-0.005431806709049364</td><td>-0.005431806709049364</td><td>-0.005431806709049364</td><td>0.01082428069133967</td><td>0.009214047973624372</td><td>-0.05609551368176083</td><td>0.3052282339316725</td><td>0.30749281511218685</td><td>0.30744338894873346</td><td>0.31164617985217347</td><td>0.3126778851338343</td><td>-0.006027484428002244</td><td>0.0006280708297526537</td><td>-0.00008370792167350667</td><td>-0.005375769999349068</td><td>0.0005437491386759282</td><td>-0.005431806709049364</td><td>0.24635443777408542</td><td>0.25479741091474256</td><td>0.25249114916240734</td><td>0.2920853471576891</td><td>0.29328747285143614</td><td>0.2922381597706154</td><td>0.2891333587223048</td><td>-0.000739556777484845</td><td>-0.00007880956307549504</td><td>-0.0012508651192542877</td><td>0.0018811956779389762</td><td>0.002209165637533562</td><td>0.0011698713406282468</td><td>-0.002237722383573684</td><td>-0.0008157446393455923</td><td>-0.3529524392334592</td><td>-0.06603850435498461</td><td>0.23716708742306913</td><td>1</td><td>0.055590376547614756</td></tr><tr><td>-0.048842949987214467</td><td>0.49834307086395724</td><td>-0.00369160324430047</td><td>-0.5836747528828375</td><td>0.001947958861748606</td><td>0.40520356703213345</td><td>-0.038118751961211124</td><td>0.0029390750474324254</td><td>0.6323782531898273</td><td>0.6277695074718472</td><td>0.6323785544707919</td><td>0.5633760499003347</td><td>0.6046003723208229</td><td>0.6248471995143314</td><td>0.6187298588222405</td><td>0.6247685695082118</td><td>-0.001646259826715656</td><td>-0.10915241943891273</td><td>0.10915241943891302</td><td>0.0015890001265162642</td><td>0.5276922546822074</td><td>0.48992462066491094</td><td>-0.48594619361756386</td><td>0.02679053791871217</td><td>0.0310449238414672</td><td>-0.11725842916744549</td><td>0.005257090170274174</td><td>0.45319519029048044</td><td>0.29808977459105046</td><td>-0.29099649053581367</td><td>0.022848690110580334</td><td>0.013196811841418691</td><td>-0.09906114679523263</td><td>0.0015896259126637825</td><td>0.0015896259126637825</td><td>0.0015896259126637825</td><td>0.015971547701385917</td><td>0.009640550910896339</td><td>-0.07169635879233015</td><td>0.6161998240682884</td><td>0.6157385891437647</td><td>0.6151231386729771</td><td>0.6269451274830641</td><td>0.6262740722765658</td><td>-0.0010962713653672885</td><td>0.005879202967839211</td><td>-0.0031799089916007446</td><td>0.004770337990650007</td><td>0.0026944391321266255</td><td>0.0015896259126637825</td><td>0.45731768845028087</td><td>0.4531531665413022</td><td>0.45636971876828236</td><td>0.5853154286839171</td><td>0.5858762937622245</td><td>0.5866018301784909</td><td>0.5870872803861539</td><td>0.001957967973874244</td><td>0.00273941074873857</td><td>0.004044381173447998</td><td>0.002494463955577347</td><td>0.001679656934958072</td><td>0.006909696167457826</td><td>0.0007632705466497365</td><td>0.0020159246145673164</td><td>-0.7354253793324922</td><td>-0.3250182613039126</td><td>-0.06804662056045266</td><td>0.05559037654761476</td><td>0.9999999999999999</td></tr></tbody></table></div>"
      ],
      "text/plain": [
       "shape: (70, 70)\n",
       "┌───────────┬───────────┬───────────┬───────────┬───┬───────────┬───────────┬───────────┬──────────┐\n",
       "│ age       ┆ contract_ ┆ remaining ┆ available ┆ … ┆ times_in_ ┆ times_in_ ┆ times_in_ ┆ times_in │\n",
       "│ ---       ┆ lifetime_ ┆ _binding_ ┆ _gb       ┆   ┆ p2        ┆ p3        ┆ p4        ┆ _p5      │\n",
       "│ f64       ┆ days      ┆ days      ┆ ---       ┆   ┆ ---       ┆ ---       ┆ ---       ┆ ---      │\n",
       "│           ┆ ---       ┆ ---       ┆ f64       ┆   ┆ f64       ┆ f64       ┆ f64       ┆ f64      │\n",
       "│           ┆ f64       ┆ f64       ┆           ┆   ┆           ┆           ┆           ┆          │\n",
       "╞═══════════╪═══════════╪═══════════╪═══════════╪═══╪═══════════╪═══════════╪═══════════╪══════════╡\n",
       "│ 1         ┆ -0.062952 ┆ 0.0079174 ┆ 0.0020015 ┆ … ┆ 0.0126028 ┆ -0.011356 ┆ -0.024614 ┆ -0.04884 │\n",
       "│           ┆ 587905347 ┆ 259918755 ┆ 308181241 ┆   ┆ 501966158 ┆ 125642459 ┆ 597894044 ┆ 29499872 │\n",
       "│           ┆ 6         ┆ 68        ┆ 475       ┆   ┆ 79        ┆ 285       ┆ 15        ┆ 1446     │\n",
       "│ -0.062952 ┆ 1         ┆ -0.000378 ┆ -0.032126 ┆ … ┆ -0.156973 ┆ 0.0804365 ┆ 0.2647036 ┆ 0.498343 │\n",
       "│ 587905347 ┆           ┆ 391001072 ┆ 065687675 ┆   ┆ 859084855 ┆ 346447862 ┆ 902292292 ┆ 07086395 │\n",
       "│ 59        ┆           ┆ 8704      ┆ 204       ┆   ┆ 23        ┆ 8         ┆ 4         ┆ 73       │\n",
       "│ 0.0079174 ┆ -0.000378 ┆ 0.9999999 ┆ 0.0007421 ┆ … ┆ 0.0005717 ┆ -0.002259 ┆ 0.0003167 ┆ -0.00369 │\n",
       "│ 259918755 ┆ 391001072 ┆ 999999999 ┆ 669104084 ┆   ┆ 954093538 ┆ 417399267 ┆ 261161040 ┆ 16032443 │\n",
       "│ 68        ┆ 8704      ┆           ┆ 503       ┆   ┆ 758       ┆ 059       ┆ 9875      ┆ 004695   │\n",
       "│ 0.0020015 ┆ -0.032126 ┆ 0.0007421 ┆ 0.9999999 ┆ … ┆ 0.1201220 ┆ 0.0265978 ┆ 0.0713810 ┆ -0.58367 │\n",
       "│ 308181241 ┆ 065687675 ┆ 669104084 ┆ 999999999 ┆   ┆ 359567790 ┆ 597354238 ┆ 863286999 ┆ 47528828 │\n",
       "│ 475       ┆ 204       ┆ 504       ┆           ┆   ┆ 5         ┆ 55        ┆ 2         ┆ 375      │\n",
       "│ -0.001424 ┆ 0.0030451 ┆ 0.0021796 ┆ -0.002458 ┆ … ┆ -0.001135 ┆ 0.0027629 ┆ -0.001371 ┆ 0.001947 │\n",
       "│ 864767973 ┆ 716731358 ┆ 198528988 ┆ 773409676 ┆   ┆ 817936546 ┆ 290569683 ┆ 781755283 ┆ 95886174 │\n",
       "│ 2413      ┆ 623       ┆ 67        ┆ 9894      ┆   ┆ 3976      ┆ 796       ┆ 1178      ┆ 8606     │\n",
       "│ …         ┆ …         ┆ …         ┆ …         ┆ … ┆ …         ┆ …         ┆ …         ┆ …        │\n",
       "│ 0.0477056 ┆ -0.465137 ┆ 0.0035950 ┆ 0.4430092 ┆ … ┆ -0.258309 ┆ -0.307928 ┆ -0.352952 ┆ -0.73542 │\n",
       "│ 465192368 ┆ 082455761 ┆ 272489805 ┆ 357509267 ┆   ┆ 112260213 ┆ 674206606 ┆ 439233459 ┆ 53793324 │\n",
       "│ 94        ┆ 3         ┆ 634       ┆ 7         ┆   ┆ 47        ┆ 1         ┆ 15        ┆ 923      │\n",
       "│ 0.0126028 ┆ -0.156973 ┆ 0.0005717 ┆ 0.1201220 ┆ … ┆ 1         ┆ 0.0663836 ┆ -0.066038 ┆ -0.32501 │\n",
       "│ 501966158 ┆ 859084855 ┆ 954093538 ┆ 359567790 ┆   ┆           ┆ 385140562 ┆ 504354984 ┆ 82613039 │\n",
       "│ 8         ┆ 23        ┆ 758       ┆ 5         ┆   ┆           ┆ 6         ┆ 61        ┆ 1254     │\n",
       "│ -0.011356 ┆ 0.0804365 ┆ -0.002259 ┆ 0.0265978 ┆ … ┆ 0.0663836 ┆ 1         ┆ 0.2371670 ┆ -0.06804 │\n",
       "│ 125642459 ┆ 346447862 ┆ 417399267 ┆ 597354238 ┆   ┆ 385140562 ┆           ┆ 874230691 ┆ 66205604 │\n",
       "│ 285       ┆ 8         ┆ 059       ┆ 55        ┆   ┆ 6         ┆           ┆ 3         ┆ 5266     │\n",
       "│ -0.024614 ┆ 0.2647036 ┆ 0.0003167 ┆ 0.0713810 ┆ … ┆ -0.066038 ┆ 0.2371670 ┆ 1         ┆ 0.055590 │\n",
       "│ 597894044 ┆ 902292292 ┆ 261161040 ┆ 863286999 ┆   ┆ 504354984 ┆ 874230691 ┆           ┆ 37654761 │\n",
       "│ 15        ┆ 4         ┆ 9875      ┆ 1         ┆   ┆ 61        ┆ 3         ┆           ┆ 4756     │\n",
       "│ -0.048842 ┆ 0.4983430 ┆ -0.003691 ┆ -0.583674 ┆ … ┆ -0.325018 ┆ -0.068046 ┆ 0.0555903 ┆ 0.999999 │\n",
       "│ 949987214 ┆ 708639572 ┆ 603244300 ┆ 752882837 ┆   ┆ 261303912 ┆ 620560452 ┆ 765476147 ┆ 99999999 │\n",
       "│ 467       ┆ 4         ┆ 47        ┆ 5         ┆   ┆ 6         ┆ 66        ┆ 6         ┆ 99       │\n",
       "└───────────┴───────────┴───────────┴───────────┴───┴───────────┴───────────┴───────────┴──────────┘"
      ]
     },
     "execution_count": 69,
     "metadata": {},
     "output_type": "execute_result"
    }
   ],
   "source": [
    "correlation_matrix"
   ]
  },
  {
   "cell_type": "code",
   "execution_count": 70,
   "id": "1f553063",
   "metadata": {},
   "outputs": [
    {
     "data": {
      "application/vnd.plotly.v1+json": {
       "config": {
        "plotlyServerURL": "https://plot.ly"
       },
       "data": [
        {
         "coloraxis": "coloraxis",
         "hovertemplate": "Features: %{x}<br>Features: %{y}<br>Correlation: %{z}<extra></extra>",
         "name": "0",
         "type": "heatmap",
         "x": [
          "age",
          "contract_lifetime_days",
          "remaining_binding_days",
          "available_gb",
          "gross_mrc",
          "contract_binding_days",
          "completion_rate",
          "n_contracts_per_customer",
          "avg_monthly_usage_gb",
          "median_monthly_usage_gb",
          "total_usage_gb",
          "usage_std_gb",
          "min_monthly_usage_gb",
          "max_monthly_usage_gb",
          "usage_q25_gb",
          "usage_q75_gb",
          "months_with_roaming",
          "zero_usage_months",
          "active_usage_months",
          "avg_delta_1mo",
          "delta_1mo_volatility",
          "max_delta_1mo_increase",
          "max_delta_1mo_decrease",
          "months_with_delta_1mo_increase",
          "months_with_delta_1mo_decrease",
          "months_with_no_delta_1mo_change",
          "avg_delta_2mo",
          "delta_2mo_volatility",
          "max_delta_2mo_increase",
          "max_delta_2mo_decrease",
          "months_with_delta_2mo_increase",
          "months_with_delta_2mo_decrease",
          "months_with_no_delta_2mo_change",
          "avg_delta_3mo",
          "max_delta_3mo_increase",
          "max_delta_3mo_decrease",
          "months_with_delta_3mo_increase",
          "months_with_delta_3mo_decrease",
          "months_with_no_delta_3mo_change",
          "last_1_2mo_rolling_avg",
          "last_2_2mo_rolling_avg",
          "last_3_2mo_rolling_avg",
          "last_1_3mo_rolling_avg",
          "last_2_3mo_rolling_avg",
          "last_1_delta_1mo",
          "last_2_delta_1mo",
          "last_3_delta_1mo",
          "last_1_delta_2mo",
          "last_2_delta_2mo",
          "last_1_delta_3mo",
          "last_1_2mo_rolling_stdev",
          "last_2_2mo_rolling_stdev",
          "last_3_2mo_rolling_stdev",
          "last_1_month_usage_gb",
          "last_2_month_usage_gb",
          "last_3_month_usage_gb",
          "last_4_month_usage_gb",
          "n_rechnungsanfragen",
          "n_produkte&services-tarifdetails",
          "n_prolongation",
          "n_produkte&services-tarifwechsel",
          "days_since_last_rechnungsanfragen",
          "days_since_last_produkte&services-tarifdetails",
          "days_since_last_prolongation",
          "days_since_last_produkte&services-tarifwechsel",
          "times_in_p1",
          "times_in_p2",
          "times_in_p3",
          "times_in_p4",
          "times_in_p5"
         ],
         "xaxis": "x",
         "y": [
          "age",
          "contract_lifetime_days",
          "remaining_binding_days",
          "available_gb",
          "gross_mrc",
          "contract_binding_days",
          "completion_rate",
          "n_contracts_per_customer",
          "avg_monthly_usage_gb",
          "median_monthly_usage_gb",
          "total_usage_gb",
          "usage_std_gb",
          "min_monthly_usage_gb",
          "max_monthly_usage_gb",
          "usage_q25_gb",
          "usage_q75_gb",
          "months_with_roaming",
          "zero_usage_months",
          "active_usage_months",
          "avg_delta_1mo",
          "delta_1mo_volatility",
          "max_delta_1mo_increase",
          "max_delta_1mo_decrease",
          "months_with_delta_1mo_increase",
          "months_with_delta_1mo_decrease",
          "months_with_no_delta_1mo_change",
          "avg_delta_2mo",
          "delta_2mo_volatility",
          "max_delta_2mo_increase",
          "max_delta_2mo_decrease",
          "months_with_delta_2mo_increase",
          "months_with_delta_2mo_decrease",
          "months_with_no_delta_2mo_change",
          "avg_delta_3mo",
          "max_delta_3mo_increase",
          "max_delta_3mo_decrease",
          "months_with_delta_3mo_increase",
          "months_with_delta_3mo_decrease",
          "months_with_no_delta_3mo_change",
          "last_1_2mo_rolling_avg",
          "last_2_2mo_rolling_avg",
          "last_3_2mo_rolling_avg",
          "last_1_3mo_rolling_avg",
          "last_2_3mo_rolling_avg",
          "last_1_delta_1mo",
          "last_2_delta_1mo",
          "last_3_delta_1mo",
          "last_1_delta_2mo",
          "last_2_delta_2mo",
          "last_1_delta_3mo",
          "last_1_2mo_rolling_stdev",
          "last_2_2mo_rolling_stdev",
          "last_3_2mo_rolling_stdev",
          "last_1_month_usage_gb",
          "last_2_month_usage_gb",
          "last_3_month_usage_gb",
          "last_4_month_usage_gb",
          "n_rechnungsanfragen",
          "n_produkte&services-tarifdetails",
          "n_prolongation",
          "n_produkte&services-tarifwechsel",
          "days_since_last_rechnungsanfragen",
          "days_since_last_produkte&services-tarifdetails",
          "days_since_last_prolongation",
          "days_since_last_produkte&services-tarifwechsel",
          "times_in_p1",
          "times_in_p2",
          "times_in_p3",
          "times_in_p4",
          "times_in_p5"
         ],
         "yaxis": "y",
         "z": {
          "bdata": "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",
          "dtype": "f8",
          "shape": "70, 70"
         }
        }
       ],
       "layout": {
        "coloraxis": {
         "cmax": 1,
         "cmin": -1,
         "colorbar": {
          "title": {
           "text": "Correlation"
          }
         },
         "colorscale": [
          [
           0,
           "rgb(103,0,31)"
          ],
          [
           0.1,
           "rgb(178,24,43)"
          ],
          [
           0.2,
           "rgb(214,96,77)"
          ],
          [
           0.3,
           "rgb(244,165,130)"
          ],
          [
           0.4,
           "rgb(253,219,199)"
          ],
          [
           0.5,
           "rgb(247,247,247)"
          ],
          [
           0.6,
           "rgb(209,229,240)"
          ],
          [
           0.7,
           "rgb(146,197,222)"
          ],
          [
           0.8,
           "rgb(67,147,195)"
          ],
          [
           0.9,
           "rgb(33,102,172)"
          ],
          [
           1,
           "rgb(5,48,97)"
          ]
         ]
        },
        "height": 1800,
        "margin": {
         "t": 60
        },
        "template": {
         "data": {
          "bar": [
           {
            "error_x": {
             "color": "#2a3f5f"
            },
            "error_y": {
             "color": "#2a3f5f"
            },
            "marker": {
             "line": {
              "color": "#E5ECF6",
              "width": 0.5
             },
             "pattern": {
              "fillmode": "overlay",
              "size": 10,
              "solidity": 0.2
             }
            },
            "type": "bar"
           }
          ],
          "barpolar": [
           {
            "marker": {
             "line": {
              "color": "#E5ECF6",
              "width": 0.5
             },
             "pattern": {
              "fillmode": "overlay",
              "size": 10,
              "solidity": 0.2
             }
            },
            "type": "barpolar"
           }
          ],
          "carpet": [
           {
            "aaxis": {
             "endlinecolor": "#2a3f5f",
             "gridcolor": "white",
             "linecolor": "white",
             "minorgridcolor": "white",
             "startlinecolor": "#2a3f5f"
            },
            "baxis": {
             "endlinecolor": "#2a3f5f",
             "gridcolor": "white",
             "linecolor": "white",
             "minorgridcolor": "white",
             "startlinecolor": "#2a3f5f"
            },
            "type": "carpet"
           }
          ],
          "choropleth": [
           {
            "colorbar": {
             "outlinewidth": 0,
             "ticks": ""
            },
            "type": "choropleth"
           }
          ],
          "contour": [
           {
            "colorbar": {
             "outlinewidth": 0,
             "ticks": ""
            },
            "colorscale": [
             [
              0,
              "#0d0887"
             ],
             [
              0.1111111111111111,
              "#46039f"
             ],
             [
              0.2222222222222222,
              "#7201a8"
             ],
             [
              0.3333333333333333,
              "#9c179e"
             ],
             [
              0.4444444444444444,
              "#bd3786"
             ],
             [
              0.5555555555555556,
              "#d8576b"
             ],
             [
              0.6666666666666666,
              "#ed7953"
             ],
             [
              0.7777777777777778,
              "#fb9f3a"
             ],
             [
              0.8888888888888888,
              "#fdca26"
             ],
             [
              1,
              "#f0f921"
             ]
            ],
            "type": "contour"
           }
          ],
          "contourcarpet": [
           {
            "colorbar": {
             "outlinewidth": 0,
             "ticks": ""
            },
            "type": "contourcarpet"
           }
          ],
          "heatmap": [
           {
            "colorbar": {
             "outlinewidth": 0,
             "ticks": ""
            },
            "colorscale": [
             [
              0,
              "#0d0887"
             ],
             [
              0.1111111111111111,
              "#46039f"
             ],
             [
              0.2222222222222222,
              "#7201a8"
             ],
             [
              0.3333333333333333,
              "#9c179e"
             ],
             [
              0.4444444444444444,
              "#bd3786"
             ],
             [
              0.5555555555555556,
              "#d8576b"
             ],
             [
              0.6666666666666666,
              "#ed7953"
             ],
             [
              0.7777777777777778,
              "#fb9f3a"
             ],
             [
              0.8888888888888888,
              "#fdca26"
             ],
             [
              1,
              "#f0f921"
             ]
            ],
            "type": "heatmap"
           }
          ],
          "histogram": [
           {
            "marker": {
             "pattern": {
              "fillmode": "overlay",
              "size": 10,
              "solidity": 0.2
             }
            },
            "type": "histogram"
           }
          ],
          "histogram2d": [
           {
            "colorbar": {
             "outlinewidth": 0,
             "ticks": ""
            },
            "colorscale": [
             [
              0,
              "#0d0887"
             ],
             [
              0.1111111111111111,
              "#46039f"
             ],
             [
              0.2222222222222222,
              "#7201a8"
             ],
             [
              0.3333333333333333,
              "#9c179e"
             ],
             [
              0.4444444444444444,
              "#bd3786"
             ],
             [
              0.5555555555555556,
              "#d8576b"
             ],
             [
              0.6666666666666666,
              "#ed7953"
             ],
             [
              0.7777777777777778,
              "#fb9f3a"
             ],
             [
              0.8888888888888888,
              "#fdca26"
             ],
             [
              1,
              "#f0f921"
             ]
            ],
            "type": "histogram2d"
           }
          ],
          "histogram2dcontour": [
           {
            "colorbar": {
             "outlinewidth": 0,
             "ticks": ""
            },
            "colorscale": [
             [
              0,
              "#0d0887"
             ],
             [
              0.1111111111111111,
              "#46039f"
             ],
             [
              0.2222222222222222,
              "#7201a8"
             ],
             [
              0.3333333333333333,
              "#9c179e"
             ],
             [
              0.4444444444444444,
              "#bd3786"
             ],
             [
              0.5555555555555556,
              "#d8576b"
             ],
             [
              0.6666666666666666,
              "#ed7953"
             ],
             [
              0.7777777777777778,
              "#fb9f3a"
             ],
             [
              0.8888888888888888,
              "#fdca26"
             ],
             [
              1,
              "#f0f921"
             ]
            ],
            "type": "histogram2dcontour"
           }
          ],
          "mesh3d": [
           {
            "colorbar": {
             "outlinewidth": 0,
             "ticks": ""
            },
            "type": "mesh3d"
           }
          ],
          "parcoords": [
           {
            "line": {
             "colorbar": {
              "outlinewidth": 0,
              "ticks": ""
             }
            },
            "type": "parcoords"
           }
          ],
          "pie": [
           {
            "automargin": true,
            "type": "pie"
           }
          ],
          "scatter": [
           {
            "fillpattern": {
             "fillmode": "overlay",
             "size": 10,
             "solidity": 0.2
            },
            "type": "scatter"
           }
          ],
          "scatter3d": [
           {
            "line": {
             "colorbar": {
              "outlinewidth": 0,
              "ticks": ""
             }
            },
            "marker": {
             "colorbar": {
              "outlinewidth": 0,
              "ticks": ""
             }
            },
            "type": "scatter3d"
           }
          ],
          "scattercarpet": [
           {
            "marker": {
             "colorbar": {
              "outlinewidth": 0,
              "ticks": ""
             }
            },
            "type": "scattercarpet"
           }
          ],
          "scattergeo": [
           {
            "marker": {
             "colorbar": {
              "outlinewidth": 0,
              "ticks": ""
             }
            },
            "type": "scattergeo"
           }
          ],
          "scattergl": [
           {
            "marker": {
             "colorbar": {
              "outlinewidth": 0,
              "ticks": ""
             }
            },
            "type": "scattergl"
           }
          ],
          "scattermap": [
           {
            "marker": {
             "colorbar": {
              "outlinewidth": 0,
              "ticks": ""
             }
            },
            "type": "scattermap"
           }
          ],
          "scattermapbox": [
           {
            "marker": {
             "colorbar": {
              "outlinewidth": 0,
              "ticks": ""
             }
            },
            "type": "scattermapbox"
           }
          ],
          "scatterpolar": [
           {
            "marker": {
             "colorbar": {
              "outlinewidth": 0,
              "ticks": ""
             }
            },
            "type": "scatterpolar"
           }
          ],
          "scatterpolargl": [
           {
            "marker": {
             "colorbar": {
              "outlinewidth": 0,
              "ticks": ""
             }
            },
            "type": "scatterpolargl"
           }
          ],
          "scatterternary": [
           {
            "marker": {
             "colorbar": {
              "outlinewidth": 0,
              "ticks": ""
             }
            },
            "type": "scatterternary"
           }
          ],
          "surface": [
           {
            "colorbar": {
             "outlinewidth": 0,
             "ticks": ""
            },
            "colorscale": [
             [
              0,
              "#0d0887"
             ],
             [
              0.1111111111111111,
              "#46039f"
             ],
             [
              0.2222222222222222,
              "#7201a8"
             ],
             [
              0.3333333333333333,
              "#9c179e"
             ],
             [
              0.4444444444444444,
              "#bd3786"
             ],
             [
              0.5555555555555556,
              "#d8576b"
             ],
             [
              0.6666666666666666,
              "#ed7953"
             ],
             [
              0.7777777777777778,
              "#fb9f3a"
             ],
             [
              0.8888888888888888,
              "#fdca26"
             ],
             [
              1,
              "#f0f921"
             ]
            ],
            "type": "surface"
           }
          ],
          "table": [
           {
            "cells": {
             "fill": {
              "color": "#EBF0F8"
             },
             "line": {
              "color": "white"
             }
            },
            "header": {
             "fill": {
              "color": "#C8D4E3"
             },
             "line": {
              "color": "white"
             }
            },
            "type": "table"
           }
          ]
         },
         "layout": {
          "annotationdefaults": {
           "arrowcolor": "#2a3f5f",
           "arrowhead": 0,
           "arrowwidth": 1
          },
          "autotypenumbers": "strict",
          "coloraxis": {
           "colorbar": {
            "outlinewidth": 0,
            "ticks": ""
           }
          },
          "colorscale": {
           "diverging": [
            [
             0,
             "#8e0152"
            ],
            [
             0.1,
             "#c51b7d"
            ],
            [
             0.2,
             "#de77ae"
            ],
            [
             0.3,
             "#f1b6da"
            ],
            [
             0.4,
             "#fde0ef"
            ],
            [
             0.5,
             "#f7f7f7"
            ],
            [
             0.6,
             "#e6f5d0"
            ],
            [
             0.7,
             "#b8e186"
            ],
            [
             0.8,
             "#7fbc41"
            ],
            [
             0.9,
             "#4d9221"
            ],
            [
             1,
             "#276419"
            ]
           ],
           "sequential": [
            [
             0,
             "#0d0887"
            ],
            [
             0.1111111111111111,
             "#46039f"
            ],
            [
             0.2222222222222222,
             "#7201a8"
            ],
            [
             0.3333333333333333,
             "#9c179e"
            ],
            [
             0.4444444444444444,
             "#bd3786"
            ],
            [
             0.5555555555555556,
             "#d8576b"
            ],
            [
             0.6666666666666666,
             "#ed7953"
            ],
            [
             0.7777777777777778,
             "#fb9f3a"
            ],
            [
             0.8888888888888888,
             "#fdca26"
            ],
            [
             1,
             "#f0f921"
            ]
           ],
           "sequentialminus": [
            [
             0,
             "#0d0887"
            ],
            [
             0.1111111111111111,
             "#46039f"
            ],
            [
             0.2222222222222222,
             "#7201a8"
            ],
            [
             0.3333333333333333,
             "#9c179e"
            ],
            [
             0.4444444444444444,
             "#bd3786"
            ],
            [
             0.5555555555555556,
             "#d8576b"
            ],
            [
             0.6666666666666666,
             "#ed7953"
            ],
            [
             0.7777777777777778,
             "#fb9f3a"
            ],
            [
             0.8888888888888888,
             "#fdca26"
            ],
            [
             1,
             "#f0f921"
            ]
           ]
          },
          "colorway": [
           "#636efa",
           "#EF553B",
           "#00cc96",
           "#ab63fa",
           "#FFA15A",
           "#19d3f3",
           "#FF6692",
           "#B6E880",
           "#FF97FF",
           "#FECB52"
          ],
          "font": {
           "color": "#2a3f5f"
          },
          "geo": {
           "bgcolor": "white",
           "lakecolor": "white",
           "landcolor": "#E5ECF6",
           "showlakes": true,
           "showland": true,
           "subunitcolor": "white"
          },
          "hoverlabel": {
           "align": "left"
          },
          "hovermode": "closest",
          "mapbox": {
           "style": "light"
          },
          "paper_bgcolor": "white",
          "plot_bgcolor": "#E5ECF6",
          "polar": {
           "angularaxis": {
            "gridcolor": "white",
            "linecolor": "white",
            "ticks": ""
           },
           "bgcolor": "#E5ECF6",
           "radialaxis": {
            "gridcolor": "white",
            "linecolor": "white",
            "ticks": ""
           }
          },
          "scene": {
           "xaxis": {
            "backgroundcolor": "#E5ECF6",
            "gridcolor": "white",
            "gridwidth": 2,
            "linecolor": "white",
            "showbackground": true,
            "ticks": "",
            "zerolinecolor": "white"
           },
           "yaxis": {
            "backgroundcolor": "#E5ECF6",
            "gridcolor": "white",
            "gridwidth": 2,
            "linecolor": "white",
            "showbackground": true,
            "ticks": "",
            "zerolinecolor": "white"
           },
           "zaxis": {
            "backgroundcolor": "#E5ECF6",
            "gridcolor": "white",
            "gridwidth": 2,
            "linecolor": "white",
            "showbackground": true,
            "ticks": "",
            "zerolinecolor": "white"
           }
          },
          "shapedefaults": {
           "line": {
            "color": "#2a3f5f"
           }
          },
          "ternary": {
           "aaxis": {
            "gridcolor": "white",
            "linecolor": "white",
            "ticks": ""
           },
           "baxis": {
            "gridcolor": "white",
            "linecolor": "white",
            "ticks": ""
           },
           "bgcolor": "#E5ECF6",
           "caxis": {
            "gridcolor": "white",
            "linecolor": "white",
            "ticks": ""
           }
          },
          "title": {
           "x": 0.05
          },
          "xaxis": {
           "automargin": true,
           "gridcolor": "white",
           "linecolor": "white",
           "ticks": "",
           "title": {
            "standoff": 15
           },
           "zerolinecolor": "white",
           "zerolinewidth": 2
          },
          "yaxis": {
           "automargin": true,
           "gridcolor": "white",
           "linecolor": "white",
           "ticks": "",
           "title": {
            "standoff": 15
           },
           "zerolinecolor": "white",
           "zerolinewidth": 2
          }
         }
        },
        "title": {
         "text": "Correlation Matrix Heatmap"
        },
        "width": 1800,
        "xaxis": {
         "anchor": "y",
         "domain": [
          0,
          1
         ],
         "title": {
          "text": "Features"
         }
        },
        "yaxis": {
         "anchor": "x",
         "autorange": "reversed",
         "domain": [
          0,
          1
         ],
         "title": {
          "text": "Features"
         }
        }
       }
      }
     },
     "metadata": {},
     "output_type": "display_data"
    }
   ],
   "source": [
    "fig = px.imshow(\n",
    "    correlation_matrix.to_numpy(),\n",
    "    labels=dict(x='Features', y='Features', color='Correlation'),\n",
    "    x=correlation_matrix.columns,\n",
    "    y=correlation_matrix.columns,\n",
    "    color_continuous_scale='RdBu',\n",
    "    zmin=-1, zmax=1,\n",
    "    aspect='auto'\n",
    ")\n",
    "fig.update_layout(\n",
    "    width=1800,\n",
    "    height=1800,\n",
    "    title='Correlation Matrix Heatmap'\n",
    ")\n",
    "fig.update_layout(title='Correlation Matrix Heatmap')\n",
    "fig.show()\n",
    "\n",
    "# Blue means that variable X and variable Y follow the same behaviour (both increasing or decreasing)\n",
    "# Red means that variable X has the opposite behaviour of variable Y"
   ]
  },
  {
   "cell_type": "code",
   "execution_count": 71,
   "id": "ef7a9844",
   "metadata": {},
   "outputs": [
    {
     "name": "stdout",
     "output_type": "stream",
     "text": [
      "CPU times: user 2.45 ms, sys: 945 μs, total: 3.39 ms\n",
      "Wall time: 3.44 ms\n"
     ]
    }
   ],
   "source": [
    "%%time \n",
    "\n",
    "highly_correlated_features = (\n",
    "    correlation_matrix\n",
    "    .unpivot(index=None, variable_name='col1', value_name='correlation')\n",
    "    .with_columns([\n",
    "        pl.repeat(correlation_matrix.columns, correlation_matrix.height).flatten().alias('col2'),\n",
    "        pl.col('correlation').abs()\n",
    "    ])\n",
    "    .filter(pl.col('col1') != pl.col('col2'))\n",
    "    .filter(pl.col('col1') < pl.col('col2'))  # Keep only one pair per combination\n",
    "    .with_columns([\n",
    "        pl.when(pl.col('correlation') > 0.99)\n",
    "            .then(pl.lit('identical'))\n",
    "        .when(pl.col('correlation') > 0.8)\n",
    "            .then(pl.lit('high'))\n",
    "        .when(pl.col('correlation') > 0.7)\n",
    "            .then(pl.lit('medium'))\n",
    "        .otherwise(pl.lit('ok'))\n",
    "        .alias('analysis')\n",
    "    ])\n",
    "    .sort('correlation', descending=True)\n",
    ")"
   ]
  },
  {
   "cell_type": "code",
   "execution_count": 45,
   "id": "533cd7dd",
   "metadata": {},
   "outputs": [
    {
     "data": {
      "text/html": [
       "<div><style>\n",
       ".dataframe > thead > tr,\n",
       ".dataframe > tbody > tr {\n",
       "  text-align: right;\n",
       "  white-space: pre-wrap;\n",
       "}\n",
       "</style>\n",
       "<small>shape: (2_415, 4)</small><table border=\"1\" class=\"dataframe\"><thead><tr><th>col1</th><th>correlation</th><th>col2</th><th>analysis</th></tr><tr><td>str</td><td>f64</td><td>str</td><td>str</td></tr></thead><tbody><tr><td>&quot;active_usage_months&quot;</td><td>1</td><td>&quot;zero_usage_months&quot;</td><td>&quot;identical&quot;</td></tr><tr><td>&quot;avg_delta_3mo&quot;</td><td>1</td><td>&quot;max_delta_3mo_increase&quot;</td><td>&quot;identical&quot;</td></tr><tr><td>&quot;avg_delta_3mo&quot;</td><td>1</td><td>&quot;max_delta_3mo_decrease&quot;</td><td>&quot;identical&quot;</td></tr><tr><td>&quot;avg_delta_3mo&quot;</td><td>1</td><td>&quot;last_1_delta_3mo&quot;</td><td>&quot;identical&quot;</td></tr><tr><td>&quot;max_delta_3mo_decrease&quot;</td><td>1</td><td>&quot;max_delta_3mo_increase&quot;</td><td>&quot;identical&quot;</td></tr><tr><td>&hellip;</td><td>&hellip;</td><td>&hellip;</td><td>&hellip;</td></tr><tr><td>&quot;last_4_month_usage_gb&quot;</td><td>0.000030343105303516372</td><td>&quot;n_prolongation&quot;</td><td>&quot;ok&quot;</td></tr><tr><td>&quot;last_1_delta_1mo&quot;</td><td>0.000022458070975042498</td><td>&quot;n_rechnungsanfragen&quot;</td><td>&quot;ok&quot;</td></tr><tr><td>&quot;last_2_delta_1mo&quot;</td><td>0.000004109764369784097</td><td>&quot;months_with_delta_3mo_decrease&quot;</td><td>&quot;ok&quot;</td></tr><tr><td>&quot;active_usage_months&quot;</td><td>0.00000014146788088847202</td><td>&quot;n_rechnungsanfragen&quot;</td><td>&quot;ok&quot;</td></tr><tr><td>&quot;n_rechnungsanfragen&quot;</td><td>0.00000014146788086687122</td><td>&quot;zero_usage_months&quot;</td><td>&quot;ok&quot;</td></tr></tbody></table></div>"
      ],
      "text/plain": [
       "shape: (2_415, 4)\n",
       "┌────────────────────────┬───────────────────────────┬────────────────────────────────┬───────────┐\n",
       "│ col1                   ┆ correlation               ┆ col2                           ┆ analysis  │\n",
       "│ ---                    ┆ ---                       ┆ ---                            ┆ ---       │\n",
       "│ str                    ┆ f64                       ┆ str                            ┆ str       │\n",
       "╞════════════════════════╪═══════════════════════════╪════════════════════════════════╪═══════════╡\n",
       "│ active_usage_months    ┆ 1                         ┆ zero_usage_months              ┆ identical │\n",
       "│ avg_delta_3mo          ┆ 1                         ┆ max_delta_3mo_increase         ┆ identical │\n",
       "│ avg_delta_3mo          ┆ 1                         ┆ max_delta_3mo_decrease         ┆ identical │\n",
       "│ avg_delta_3mo          ┆ 1                         ┆ last_1_delta_3mo               ┆ identical │\n",
       "│ max_delta_3mo_decrease ┆ 1                         ┆ max_delta_3mo_increase         ┆ identical │\n",
       "│ …                      ┆ …                         ┆ …                              ┆ …         │\n",
       "│ last_4_month_usage_gb  ┆ 0.000030343105303516372   ┆ n_prolongation                 ┆ ok        │\n",
       "│ last_1_delta_1mo       ┆ 0.000022458070975042498   ┆ n_rechnungsanfragen            ┆ ok        │\n",
       "│ last_2_delta_1mo       ┆ 0.000004109764369784097   ┆ months_with_delta_3mo_decrease ┆ ok        │\n",
       "│ active_usage_months    ┆ 0.00000014146788088847202 ┆ n_rechnungsanfragen            ┆ ok        │\n",
       "│ n_rechnungsanfragen    ┆ 0.00000014146788086687122 ┆ zero_usage_months              ┆ ok        │\n",
       "└────────────────────────┴───────────────────────────┴────────────────────────────────┴───────────┘"
      ]
     },
     "execution_count": 45,
     "metadata": {},
     "output_type": "execute_result"
    }
   ],
   "source": [
    "highly_correlated_features"
   ]
  },
  {
   "cell_type": "code",
   "execution_count": 47,
   "id": "2b301b25",
   "metadata": {},
   "outputs": [
    {
     "data": {
      "text/html": [
       "<div><style>\n",
       ".dataframe > thead > tr,\n",
       ".dataframe > tbody > tr {\n",
       "  text-align: right;\n",
       "  white-space: pre-wrap;\n",
       "}\n",
       "</style>\n",
       "<small>shape: (4, 2)</small><table border=\"1\" class=\"dataframe\"><thead><tr><th>analysis</th><th>len</th></tr><tr><td>str</td><td>u32</td></tr></thead><tbody><tr><td>&quot;identical&quot;</td><td>19</td></tr><tr><td>&quot;high&quot;</td><td>158</td></tr><tr><td>&quot;medium&quot;</td><td>99</td></tr><tr><td>&quot;ok&quot;</td><td>2139</td></tr></tbody></table></div>"
      ],
      "text/plain": [
       "shape: (4, 2)\n",
       "┌───────────┬──────┐\n",
       "│ analysis  ┆ len  │\n",
       "│ ---       ┆ ---  │\n",
       "│ str       ┆ u32  │\n",
       "╞═══════════╪══════╡\n",
       "│ identical ┆ 19   │\n",
       "│ high      ┆ 158  │\n",
       "│ medium    ┆ 99   │\n",
       "│ ok        ┆ 2139 │\n",
       "└───────────┴──────┘"
      ]
     },
     "execution_count": 47,
     "metadata": {},
     "output_type": "execute_result"
    }
   ],
   "source": [
    "highly_correlated_features.group_by('analysis', maintain_order=True).len()"
   ]
  },
  {
   "cell_type": "markdown",
   "id": "750c6a27",
   "metadata": {},
   "source": [
    "## Variance analysis"
   ]
  },
  {
   "cell_type": "code",
   "execution_count": 72,
   "id": "cedb61b3",
   "metadata": {},
   "outputs": [],
   "source": [
    "only_numeric_features = features.select(cs.numeric() & ~cs.boolean())"
   ]
  },
  {
   "cell_type": "code",
   "execution_count": null,
   "id": "341759e1",
   "metadata": {},
   "outputs": [
    {
     "name": "stdout",
     "output_type": "stream",
     "text": [
      "CPU times: user 16.2 ms, sys: 878 μs, total: 17.1 ms\n",
      "Wall time: 21.7 ms\n"
     ]
    }
   ],
   "source": [
    "%%time\n",
    "\n",
    "# Compute the standard deviation\n",
    "variance_analysis = (\n",
    "    features\n",
    "    .select([\n",
    "        pl.col(col).std()\n",
    "        for col in numeric_and_booleans_features.columns\n",
    "    ])\n",
    "    .unpivot(variable_name='feature', value_name='stdev')\n",
    "    .sort('stdev', descending=True)\n",
    ")"
   ]
  },
  {
   "cell_type": "code",
   "execution_count": 104,
   "id": "27f61b96",
   "metadata": {},
   "outputs": [
    {
     "data": {
      "text/html": [
       "<div><style>\n",
       ".dataframe > thead > tr,\n",
       ".dataframe > tbody > tr {\n",
       "  text-align: right;\n",
       "  white-space: pre-wrap;\n",
       "}\n",
       "</style>\n",
       "<small>shape: (70, 2)</small><table border=\"1\" class=\"dataframe\"><thead><tr><th>feature</th><th>stdev</th></tr><tr><td>str</td><td>f64</td></tr></thead><tbody><tr><td>&quot;months_with_no_delta_3mo_change&quot;</td><td>0.17850662773735168</td></tr><tr><td>&quot;active_usage_months&quot;</td><td>0.23464950586759398</td></tr><tr><td>&quot;zero_usage_months&quot;</td><td>0.23464950586759403</td></tr><tr><td>&quot;months_with_no_delta_2mo_change&quot;</td><td>0.25738762612818217</td></tr><tr><td>&quot;months_with_no_delta_1mo_change&quot;</td><td>0.31996979811650533</td></tr><tr><td>&hellip;</td><td>&hellip;</td></tr><tr><td>&quot;days_since_last_produkte&amp;services-tarifwechsel&quot;</td><td>42.254754177537265</td></tr><tr><td>&quot;total_usage_gb&quot;</td><td>69.21684430203868</td></tr><tr><td>&quot;remaining_binding_days&quot;</td><td>345.64345852492</td></tr><tr><td>&quot;contract_lifetime_days&quot;</td><td>490.1271217887317</td></tr><tr><td>&quot;contract_binding_days&quot;</td><td>599.638049222254</td></tr></tbody></table></div>"
      ],
      "text/plain": [
       "shape: (70, 2)\n",
       "┌────────────────────────────────────────────────┬─────────────────────┐\n",
       "│ feature                                        ┆ stdev               │\n",
       "│ ---                                            ┆ ---                 │\n",
       "│ str                                            ┆ f64                 │\n",
       "╞════════════════════════════════════════════════╪═════════════════════╡\n",
       "│ months_with_no_delta_3mo_change                ┆ 0.17850662773735168 │\n",
       "│ active_usage_months                            ┆ 0.23464950586759398 │\n",
       "│ zero_usage_months                              ┆ 0.23464950586759403 │\n",
       "│ months_with_no_delta_2mo_change                ┆ 0.25738762612818217 │\n",
       "│ months_with_no_delta_1mo_change                ┆ 0.31996979811650533 │\n",
       "│ …                                              ┆ …                   │\n",
       "│ days_since_last_produkte&services-tarifwechsel ┆ 42.254754177537265  │\n",
       "│ total_usage_gb                                 ┆ 69.21684430203868   │\n",
       "│ remaining_binding_days                         ┆ 345.64345852492     │\n",
       "│ contract_lifetime_days                         ┆ 490.1271217887317   │\n",
       "│ contract_binding_days                          ┆ 599.638049222254    │\n",
       "└────────────────────────────────────────────────┴─────────────────────┘"
      ]
     },
     "execution_count": 104,
     "metadata": {},
     "output_type": "execute_result"
    }
   ],
   "source": [
    "variance_analysis"
   ]
  },
  {
   "cell_type": "code",
   "execution_count": null,
   "id": "bec49f95",
   "metadata": {},
   "outputs": [],
   "source": []
  },
  {
   "cell_type": "code",
   "execution_count": 99,
   "id": "1e5d4219",
   "metadata": {},
   "outputs": [
    {
     "ename": "DuplicateError",
     "evalue": "the name 'std_dev' is duplicate\n\nIt's possible that multiple expressions are returning the same default column name. If this is the case, try renaming the columns with `.alias(\"new_name\")` to avoid duplicate column names.",
     "output_type": "error",
     "traceback": [
      "\u001b[31m---------------------------------------------------------------------------\u001b[39m",
      "\u001b[31mDuplicateError\u001b[39m                            Traceback (most recent call last)",
      "\u001b[36mFile \u001b[39m\u001b[32m<timed exec>:4\u001b[39m\n",
      "\u001b[36mFile \u001b[39m\u001b[32m/workspaces/data-scientist-at-magenta/.pixi/envs/ci-validation/lib/python3.12/site-packages/polars/dataframe/frame.py:9833\u001b[39m, in \u001b[36mDataFrame.select\u001b[39m\u001b[34m(self, *exprs, **named_exprs)\u001b[39m\n\u001b[32m   9731\u001b[39m \u001b[38;5;250m\u001b[39m\u001b[33;03m\"\"\"\u001b[39;00m\n\u001b[32m   9732\u001b[39m \u001b[33;03mSelect columns from this DataFrame.\u001b[39;00m\n\u001b[32m   9733\u001b[39m \n\u001b[32m   (...)\u001b[39m\u001b[32m   9826\u001b[39m \u001b[33;03m└──────────────┘\u001b[39;00m\n\u001b[32m   9827\u001b[39m \u001b[33;03m\"\"\"\u001b[39;00m\n\u001b[32m   9828\u001b[39m \u001b[38;5;28;01mfrom\u001b[39;00m\u001b[38;5;250m \u001b[39m\u001b[34;01mpolars\u001b[39;00m\u001b[34;01m.\u001b[39;00m\u001b[34;01mlazyframe\u001b[39;00m\u001b[34;01m.\u001b[39;00m\u001b[34;01mopt_flags\u001b[39;00m\u001b[38;5;250m \u001b[39m\u001b[38;5;28;01mimport\u001b[39;00m QueryOptFlags\n\u001b[32m   9830\u001b[39m \u001b[38;5;28;01mreturn\u001b[39;00m (\n\u001b[32m   9831\u001b[39m     \u001b[38;5;28;43mself\u001b[39;49m\u001b[43m.\u001b[49m\u001b[43mlazy\u001b[49m\u001b[43m(\u001b[49m\u001b[43m)\u001b[49m\n\u001b[32m   9832\u001b[39m \u001b[43m    \u001b[49m\u001b[43m.\u001b[49m\u001b[43mselect\u001b[49m\u001b[43m(\u001b[49m\u001b[43m*\u001b[49m\u001b[43mexprs\u001b[49m\u001b[43m,\u001b[49m\u001b[43m \u001b[49m\u001b[43m*\u001b[49m\u001b[43m*\u001b[49m\u001b[43mnamed_exprs\u001b[49m\u001b[43m)\u001b[49m\n\u001b[32m-> \u001b[39m\u001b[32m9833\u001b[39m \u001b[43m    \u001b[49m\u001b[43m.\u001b[49m\u001b[43mcollect\u001b[49m\u001b[43m(\u001b[49m\u001b[43moptimizations\u001b[49m\u001b[43m=\u001b[49m\u001b[43mQueryOptFlags\u001b[49m\u001b[43m.\u001b[49m\u001b[43m_eager\u001b[49m\u001b[43m(\u001b[49m\u001b[43m)\u001b[49m\u001b[43m)\u001b[49m\n\u001b[32m   9834\u001b[39m )\n",
      "\u001b[36mFile \u001b[39m\u001b[32m/workspaces/data-scientist-at-magenta/.pixi/envs/ci-validation/lib/python3.12/site-packages/polars/_utils/deprecation.py:97\u001b[39m, in \u001b[36mdeprecate_streaming_parameter.<locals>.decorate.<locals>.wrapper\u001b[39m\u001b[34m(*args, **kwargs)\u001b[39m\n\u001b[32m     93\u001b[39m         kwargs[\u001b[33m\"\u001b[39m\u001b[33mengine\u001b[39m\u001b[33m\"\u001b[39m] = \u001b[33m\"\u001b[39m\u001b[33min-memory\u001b[39m\u001b[33m\"\u001b[39m\n\u001b[32m     95\u001b[39m     \u001b[38;5;28;01mdel\u001b[39;00m kwargs[\u001b[33m\"\u001b[39m\u001b[33mstreaming\u001b[39m\u001b[33m\"\u001b[39m]\n\u001b[32m---> \u001b[39m\u001b[32m97\u001b[39m \u001b[38;5;28;01mreturn\u001b[39;00m \u001b[43mfunction\u001b[49m\u001b[43m(\u001b[49m\u001b[43m*\u001b[49m\u001b[43margs\u001b[49m\u001b[43m,\u001b[49m\u001b[43m \u001b[49m\u001b[43m*\u001b[49m\u001b[43m*\u001b[49m\u001b[43mkwargs\u001b[49m\u001b[43m)\u001b[49m\n",
      "\u001b[36mFile \u001b[39m\u001b[32m/workspaces/data-scientist-at-magenta/.pixi/envs/ci-validation/lib/python3.12/site-packages/polars/lazyframe/opt_flags.py:330\u001b[39m, in \u001b[36mforward_old_opt_flags.<locals>.decorate.<locals>.wrapper\u001b[39m\u001b[34m(*args, **kwargs)\u001b[39m\n\u001b[32m    327\u001b[39m         optflags = cb(optflags, kwargs.pop(key))  \u001b[38;5;66;03m# type: ignore[no-untyped-call,unused-ignore]\u001b[39;00m\n\u001b[32m    329\u001b[39m kwargs[\u001b[33m\"\u001b[39m\u001b[33moptimizations\u001b[39m\u001b[33m\"\u001b[39m] = optflags\n\u001b[32m--> \u001b[39m\u001b[32m330\u001b[39m \u001b[38;5;28;01mreturn\u001b[39;00m \u001b[43mfunction\u001b[49m\u001b[43m(\u001b[49m\u001b[43m*\u001b[49m\u001b[43margs\u001b[49m\u001b[43m,\u001b[49m\u001b[43m \u001b[49m\u001b[43m*\u001b[49m\u001b[43m*\u001b[49m\u001b[43mkwargs\u001b[49m\u001b[43m)\u001b[49m\n",
      "\u001b[36mFile \u001b[39m\u001b[32m/workspaces/data-scientist-at-magenta/.pixi/envs/ci-validation/lib/python3.12/site-packages/polars/lazyframe/frame.py:2332\u001b[39m, in \u001b[36mLazyFrame.collect\u001b[39m\u001b[34m(self, type_coercion, predicate_pushdown, projection_pushdown, simplify_expression, slice_pushdown, comm_subplan_elim, comm_subexpr_elim, cluster_with_columns, collapse_joins, no_optimization, engine, background, optimizations, **_kwargs)\u001b[39m\n\u001b[32m   2330\u001b[39m \u001b[38;5;66;03m# Only for testing purposes\u001b[39;00m\n\u001b[32m   2331\u001b[39m callback = _kwargs.get(\u001b[33m\"\u001b[39m\u001b[33mpost_opt_callback\u001b[39m\u001b[33m\"\u001b[39m, callback)\n\u001b[32m-> \u001b[39m\u001b[32m2332\u001b[39m \u001b[38;5;28;01mreturn\u001b[39;00m wrap_df(\u001b[43mldf\u001b[49m\u001b[43m.\u001b[49m\u001b[43mcollect\u001b[49m\u001b[43m(\u001b[49m\u001b[43mengine\u001b[49m\u001b[43m,\u001b[49m\u001b[43m \u001b[49m\u001b[43mcallback\u001b[49m\u001b[43m)\u001b[49m)\n",
      "\u001b[31mDuplicateError\u001b[39m: the name 'std_dev' is duplicate\n\nIt's possible that multiple expressions are returning the same default column name. If this is the case, try renaming the columns with `.alias(\"new_name\")` to avoid duplicate column names."
     ]
    }
   ],
   "source": [
    "%%time\n",
    "\n",
    "# Compute variance, std, and unique ratio for each numeric/boolean feature\n",
    "variance_analysis = (\n",
    "    features\n",
    "    .select([\n",
    "        pl.col(col).std().alias('std_dev')\n",
    "        for col in numeric_and_booleans_features.columns\n",
    "    ])\n",
    ")\n"
   ]
  },
  {
   "cell_type": "code",
   "execution_count": 98,
   "id": "e921b86d",
   "metadata": {},
   "outputs": [
    {
     "data": {
      "text/plain": [
       "<generator object <genexpr> at 0x73d11d5dbca0>"
      ]
     },
     "execution_count": 98,
     "metadata": {},
     "output_type": "execute_result"
    }
   ],
   "source": [
    "variance_analysis"
   ]
  },
  {
   "cell_type": "code",
   "execution_count": 92,
   "id": "6a461f1a",
   "metadata": {},
   "outputs": [
    {
     "name": "stdout",
     "output_type": "stream",
     "text": [
      "CPU times: user 99.1 ms, sys: 2.46 ms, total: 102 ms\n",
      "Wall time: 211 ms\n"
     ]
    }
   ],
   "source": [
    "%%time\n",
    "\n",
    "# Unique count dataframe (excluding boolean columns)\n",
    "unique_count = (\n",
    "    features\n",
    "    .select([\n",
    "        pl.col(col).n_unique().alias(col)\n",
    "        for col in only_numeric_features.columns\n",
    "    ])\n",
    "    .unpivot(variable_name=\"feature\", value_name=\"unique_count\")\n",
    "    .sort(\"unique_count\")\n",
    ")\n",
    "\n",
    "\n"
   ]
  },
  {
   "cell_type": "code",
   "execution_count": 93,
   "id": "7d784ef8",
   "metadata": {},
   "outputs": [
    {
     "data": {
      "text/html": [
       "<div><style>\n",
       ".dataframe > thead > tr,\n",
       ".dataframe > tbody > tr {\n",
       "  text-align: right;\n",
       "  white-space: pre-wrap;\n",
       "}\n",
       "</style>\n",
       "<small>shape: (70, 2)</small><table border=\"1\" class=\"dataframe\"><thead><tr><th>feature</th><th>unique_count</th></tr><tr><td>str</td><td>u32</td></tr></thead><tbody><tr><td>&quot;months_with_delta_3mo_increase&quot;</td><td>2</td></tr><tr><td>&quot;months_with_delta_3mo_decrease&quot;</td><td>2</td></tr><tr><td>&quot;months_with_no_delta_3mo_change&quot;</td><td>2</td></tr><tr><td>&quot;months_with_delta_2mo_increase&quot;</td><td>3</td></tr><tr><td>&quot;months_with_delta_2mo_decrease&quot;</td><td>3</td></tr><tr><td>&hellip;</td><td>&hellip;</td></tr><tr><td>&quot;completion_rate&quot;</td><td>2487</td></tr><tr><td>&quot;contract_binding_days&quot;</td><td>2516</td></tr><tr><td>&quot;usage_std_gb&quot;</td><td>2671</td></tr><tr><td>&quot;avg_monthly_usage_gb&quot;</td><td>2748</td></tr><tr><td>&quot;delta_1mo_volatility&quot;</td><td>4858</td></tr></tbody></table></div>"
      ],
      "text/plain": [
       "shape: (70, 2)\n",
       "┌─────────────────────────────────┬──────────────┐\n",
       "│ feature                         ┆ unique_count │\n",
       "│ ---                             ┆ ---          │\n",
       "│ str                             ┆ u32          │\n",
       "╞═════════════════════════════════╪══════════════╡\n",
       "│ months_with_delta_3mo_increase  ┆ 2            │\n",
       "│ months_with_delta_3mo_decrease  ┆ 2            │\n",
       "│ months_with_no_delta_3mo_change ┆ 2            │\n",
       "│ months_with_delta_2mo_increase  ┆ 3            │\n",
       "│ months_with_delta_2mo_decrease  ┆ 3            │\n",
       "│ …                               ┆ …            │\n",
       "│ completion_rate                 ┆ 2487         │\n",
       "│ contract_binding_days           ┆ 2516         │\n",
       "│ usage_std_gb                    ┆ 2671         │\n",
       "│ avg_monthly_usage_gb            ┆ 2748         │\n",
       "│ delta_1mo_volatility            ┆ 4858         │\n",
       "└─────────────────────────────────┴──────────────┘"
      ]
     },
     "execution_count": 93,
     "metadata": {},
     "output_type": "execute_result"
    }
   ],
   "source": [
    "unique_count"
   ]
  },
  {
   "cell_type": "code",
   "execution_count": null,
   "id": "3ae8667b",
   "metadata": {},
   "outputs": [],
   "source": [
    "# Do not remove this column because they can have only few values by design - based on number of billing months for example\n",
    "do_not_remove_numeric = [\n",
    "    'months_with_delta_3mo_increase',\n",
    "    'months_with_delta_3mo_decrease',\n",
    "    'months_with_no_delta_3mo_change',\n",
    "    'months_with_delta_2mo_increase',\n",
    "    'months_with_delta_2mo_decrease',\n",
    "    'months_with_no_delta_2mo_change',\n",
    "    'months_with_delta_1mo_increase',\n",
    "    'months_with_delta_1mo_decrease',\n",
    "    'months_with_no_delta_1mo_change',\n",
    "    'zero_usage_months',\n",
    "    'active_usage_months',\n",
    "    'max_delta_1mo_increase',\n",
    "    'max_delta_1mo_decrease',\n",
    "    'max_delta_2mo_increase',\n",
    "    'max_delta_2mo_decrease',\n",
    "    'max_delta_3mo_increase',\n",
    "    'max_delta_3mo_decrease',\n",
    "    'times_in_p1',\n",
    "    'times_in_p2',\n",
    "    'times_in_p3',\n",
    "    'times_in_p4',\n",
    "    'times_in_p5',\n",
    "]\n",
    "\n",
    "do_not_remove_target = ['has_done_upselling']\n",
    "\n",
    "do_not_remove = do_not_remove_numeric + do_not_remove_target\n"
   ]
  },
  {
   "cell_type": "markdown",
   "id": "7a9465da",
   "metadata": {},
   "source": [
    "# Storing"
   ]
  },
  {
   "cell_type": "markdown",
   "id": "ccc65b72",
   "metadata": {},
   "source": []
  }
 ],
 "metadata": {
  "kernelspec": {
   "display_name": "ci-validation",
   "language": "python",
   "name": "python3"
  },
  "language_info": {
   "codemirror_mode": {
    "name": "ipython",
    "version": 3
   },
   "file_extension": ".py",
   "mimetype": "text/x-python",
   "name": "python",
   "nbconvert_exporter": "python",
   "pygments_lexer": "ipython3",
   "version": "3.12.0"
  }
 },
 "nbformat": 4,
 "nbformat_minor": 5
}
