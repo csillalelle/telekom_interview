{
 "cells": [
  {
   "cell_type": "markdown",
   "metadata": {},
   "source": [
    "# Production Model Training\n",
    "\n",
    "This notebook trains the final Random Forest model on the complete dataset and saves the production artifacts:\n",
    "- Random Forest model (best configuration from study)\n",
    "- Imputer model for handling missing values\n",
    "- Feature preprocessing pipeline"
   ]
  },
  {
   "cell_type": "code",
   "execution_count": 2,
   "metadata": {},
   "outputs": [],
   "source": [
    "from pathlib import Path\n",
    "import pickle\n",
    "import optuna\n",
    "\n",
    "import polars as pl\n",
    "import numpy as np\n",
    "\n",
    "from sklearn.ensemble import RandomForestClassifier\n",
    "from sklearn.linear_model import Lasso\n",
    "from sklearn.model_selection import train_test_split\n",
    "from sklearn.metrics import classification_report, confusion_matrix\n",
    "\n",
    "import warnings\n",
    "warnings.filterwarnings('ignore')\n",
    "\n",
    "_ = pl.Config.set_tbl_cols(None)\n",
    "_ = pl.Config.set_fmt_str_lengths(500)\n",
    "_ = pl.Config.set_fmt_float(\"full\")"
   ]
  },
  {
   "cell_type": "code",
   "execution_count": 3,
   "metadata": {},
   "outputs": [
    {
     "name": "stdout",
     "output_type": "stream",
     "text": [
      "Base directory: /Users/danlab/code/magenta-task\n",
      "Artifacts directory: /Users/danlab/code/magenta-task/notebooks/data/models/artifacts\n"
     ]
    }
   ],
   "source": [
    "# Setup paths\n",
    "base_dir = Path('/Users/danlab/code/magenta-task/')\n",
    "code_dir = base_dir / 'notebooks'\n",
    "data_dir = code_dir / \"data\"\n",
    "features_dir = data_dir / 'features'\n",
    "train_dir = data_dir / 'train'\n",
    "test_dir = data_dir / 'test'\n",
    "artifacts_dir = data_dir / \"models/artifacts\"\n",
    "db_dir = 'sqlite:///data/models/{}.db'\n",
    "\n",
    "# Ensure artifacts directory exists\n",
    "artifacts_dir.mkdir(parents=True, exist_ok=True)\n",
    "\n",
    "print(f\"Base directory: {base_dir}\")\n",
    "print(f\"Artifacts directory: {artifacts_dir}\")"
   ]
  },
  {
   "cell_type": "markdown",
   "metadata": {},
   "source": [
    "## Load Complete Dataset"
   ]
  },
  {
   "cell_type": "code",
   "execution_count": 5,
   "metadata": {},
   "outputs": [
    {
     "name": "stdout",
     "output_type": "stream",
     "text": [
      "Full dataset shape: (100000, 83)\n"
     ]
    }
   ],
   "source": [
    "cleaned_features_dataset = pl.read_parquet(features_dir / 'features_cleaned-v0.parquet')\n",
    "\n",
    "print(f\"Full dataset shape: {cleaned_features_dataset.shape}\")"
   ]
  },
  {
   "cell_type": "markdown",
   "metadata": {},
   "source": [
    "## Prepare Data for Training"
   ]
  },
  {
   "cell_type": "code",
   "execution_count": 6,
   "metadata": {},
   "outputs": [],
   "source": [
    "# Prepare features and target\n",
    "X_full = cleaned_features_dataset.select(pl.exclude(['rating_account_id', 'customer_id', 'has_done_upselling']))\n",
    "y_full = cleaned_features_dataset.select('has_done_upselling')"
   ]
  },
  {
   "cell_type": "markdown",
   "metadata": {},
   "source": [
    "## Load Random Forest Configuration"
   ]
  },
  {
   "cell_type": "code",
   "execution_count": 7,
   "metadata": {},
   "outputs": [
    {
     "name": "stdout",
     "output_type": "stream",
     "text": [
      "Loading Random Forest study...\n",
      "Best Random Forest parameters:\n",
      "  n_estimators: 864\n",
      "  max_depth: 19\n",
      "  min_samples_split: 19\n",
      "  min_samples_leaf: 1\n",
      "  min_weight_fraction_leaf: 0.015327799848051129\n",
      "  max_features: sqrt\n",
      "  max_samples: 0.2900931234940456\n",
      "  max_leaf_nodes: 154\n",
      "  class_weight: balanced\n",
      "Best trial value (F1): 0.1669563556238734\n"
     ]
    }
   ],
   "source": [
    "# Load Random Forest study (base F1 optimization)\n",
    "print(\"Loading Random Forest study...\")\n",
    "rf_study = optuna.load_study(\n",
    "    study_name=\"random_forest_optimization_basef1\", \n",
    "    storage=db_dir.format('rf_study')\n",
    ")\n",
    "\n",
    "# Get best parameters\n",
    "best_rf_params = rf_study.best_params\n",
    "print(f\"Best Random Forest parameters:\")\n",
    "for param, value in best_rf_params.items():\n",
    "    print(f\"  {param}: {value}\")\n",
    "\n",
    "print(f\"Best trial value (F1): {rf_study.best_value}\")"
   ]
  },
  {
   "cell_type": "markdown",
   "metadata": {},
   "source": [
    "## Train Final Production Model"
   ]
  },
  {
   "cell_type": "code",
   "execution_count": 8,
   "metadata": {},
   "outputs": [],
   "source": [
    "# Convert to numpy for sklearn\n",
    "X_np = X_full.to_numpy()\n",
    "y_np = y_full.to_numpy().ravel()"
   ]
  },
  {
   "cell_type": "code",
   "execution_count": 9,
   "metadata": {},
   "outputs": [
    {
     "name": "stdout",
     "output_type": "stream",
     "text": [
      "Training final Random Forest model on complete dataset...\n",
      "Random Forest model training completed!\n",
      "Model parameters: {'bootstrap': True, 'ccp_alpha': 0.0, 'class_weight': 'balanced', 'criterion': 'gini', 'max_depth': 19, 'max_features': 'sqrt', 'max_leaf_nodes': 154, 'max_samples': 0.2900931234940456, 'min_impurity_decrease': 0.0, 'min_samples_leaf': 1, 'min_samples_split': 19, 'min_weight_fraction_leaf': 0.015327799848051129, 'monotonic_cst': None, 'n_estimators': 864, 'n_jobs': -1, 'oob_score': False, 'random_state': 42, 'verbose': 0, 'warm_start': False}\n"
     ]
    }
   ],
   "source": [
    "# Create and train final Random Forest model\n",
    "print(\"Training final Random Forest model on complete dataset...\")\n",
    "\n",
    "final_rf_model = RandomForestClassifier(\n",
    "    **best_rf_params,\n",
    "    random_state=42,  # Ensure reproducibility\n",
    "    n_jobs=-1  # Use all available cores\n",
    ")\n",
    "\n",
    "# Train on full dataset\n",
    "final_rf_model.fit(X_np, y_np)\n",
    "\n",
    "print(\"Random Forest model training completed!\")\n",
    "print(f\"Model parameters: {final_rf_model.get_params()}\")"
   ]
  },
  {
   "cell_type": "markdown",
   "metadata": {},
   "source": [
    "## Feature Importance Analysis"
   ]
  },
  {
   "cell_type": "code",
   "execution_count": 10,
   "metadata": {},
   "outputs": [],
   "source": [
    "feature_names = X_full.columns\n",
    "feature_importance = final_rf_model.feature_importances_"
   ]
  },
  {
   "cell_type": "code",
   "execution_count": 13,
   "metadata": {},
   "outputs": [
    {
     "name": "stdout",
     "output_type": "stream",
     "text": [
      "Top 15 Most Important Features:\n",
      "==================================================\n",
      "shape: (15, 2)\n",
      "┌────────────────────────┬──────────────────────┐\n",
      "│ feature                ┆ importance           │\n",
      "│ ---                    ┆ ---                  │\n",
      "│ str                    ┆ f64                  │\n",
      "╞════════════════════════╪══════════════════════╡\n",
      "│ age                    ┆ 0.1459544648628623   │\n",
      "│ available_gb           ┆ 0.10211186347688483  │\n",
      "│ contract_lifetime_days ┆ 0.06337544629952309  │\n",
      "│ gross_mrc              ┆ 0.04327485505187612  │\n",
      "│ remaining_binding_days ┆ 0.03896570749604652  │\n",
      "│ …                      ┆ …                    │\n",
      "│ usage_std_gb           ┆ 0.013830440502246218 │\n",
      "│ last_3_delta_1mo       ┆ 0.013781929854207292 │\n",
      "│ last_1_delta_2mo       ┆ 0.013034944873259227 │\n",
      "│ last_1_2mo_rolling_avg ┆ 0.012983024967219087 │\n",
      "│ avg_monthly_usage_gb   ┆ 0.012603837542984537 │\n",
      "└────────────────────────┴──────────────────────┘\n",
      "\n",
      "Feature importance saved to: /Users/danlab/code/magenta-task/notebooks/data/models/artifacts/feature_importance.csv\n"
     ]
    }
   ],
   "source": [
    "# Get feature importance from final model\n",
    "feature_names = X_full.columns\n",
    "feature_importance = final_rf_model.feature_importances_\n",
    "\n",
    "# Create importance DataFrame\n",
    "importance_df = pl.DataFrame({\n",
    "    'feature': feature_names,\n",
    "    'importance': feature_importance\n",
    "}).sort('importance', descending=True)\n",
    "\n",
    "print(\"Top 15 Most Important Features:\")\n",
    "print(\"=\" * 50)\n",
    "print(importance_df.head(15))\n",
    "\n",
    "# Save feature importance\n",
    "importance_path = artifacts_dir / 'feature_importance.csv'\n",
    "importance_df.write_csv(importance_path)\n",
    "print(f\"\\nFeature importance saved to: {importance_path}\")"
   ]
  },
  {
   "cell_type": "markdown",
   "metadata": {},
   "source": [
    "## Save Production Artifacts"
   ]
  },
  {
   "cell_type": "code",
   "execution_count": 14,
   "metadata": {},
   "outputs": [
    {
     "name": "stdout",
     "output_type": "stream",
     "text": [
      "Random Forest model saved to: /Users/danlab/code/magenta-task/notebooks/data/models/artifacts/initial_model.pkl\n"
     ]
    }
   ],
   "source": [
    "# Save only the trained Random Forest model\n",
    "model_path = artifacts_dir / 'initial_model.pkl'\n",
    "with open(model_path, 'wb') as f:\n",
    "    pickle.dump(final_rf_model, f)\n",
    "\n",
    "print(f\"Random Forest model saved to: {model_path}\")\n"
   ]
  },
  {
   "cell_type": "markdown",
   "metadata": {},
   "source": [
    "## Model Loading Test"
   ]
  },
  {
   "cell_type": "code",
   "execution_count": 19,
   "metadata": {},
   "outputs": [
    {
     "name": "stdout",
     "output_type": "stream",
     "text": [
      "Testing model loading...\n",
      "\n",
      "Model Loading Test Results:\n",
      "Loaded model type: <class 'sklearn.ensemble._forest.RandomForestClassifier'>\n",
      "Test predictions (probabilities): [0.51371808 0.54590508 0.48215524 0.51721858 0.3941271 ]\n",
      "Test predictions (binary): [1 1 0 1 0]\n"
     ]
    }
   ],
   "source": [
    "# Test loading the saved model\n",
    "print(\"Testing model loading...\")\n",
    "\n",
    "# Load production model\n",
    "with open(model_path, 'rb') as f:\n",
    "    loaded_model = pickle.load(f)\n",
    "\n",
    "# Test prediction on a small sample\n",
    "test_sample = X_np[:5]\n",
    "test_predictions = loaded_model.predict_proba(test_sample)[:, 1]\n",
    "test_binary = (test_predictions > 0.5).astype(int)  # Default threshold 0.5\n",
    "\n",
    "print(\"\\nModel Loading Test Results:\")\n",
    "print(f\"Loaded model type: {type(loaded_model)}\")\n",
    "print(f\"Test predictions (probabilities): {test_predictions}\")\n",
    "print(f\"Test predictions (binary): {test_binary}\")"
   ]
  }
 ],
 "metadata": {
  "kernelspec": {
   "display_name": "magenta-task",
   "language": "python",
   "name": "python3"
  },
  "language_info": {
   "codemirror_mode": {
    "name": "ipython",
    "version": 3
   },
   "file_extension": ".py",
   "mimetype": "text/x-python",
   "name": "python",
   "nbconvert_exporter": "python",
   "pygments_lexer": "ipython3",
   "version": "3.12.11"
  }
 },
 "nbformat": 4,
 "nbformat_minor": 4
}
