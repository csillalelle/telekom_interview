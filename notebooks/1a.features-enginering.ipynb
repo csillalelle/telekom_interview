{
 "cells": [
  {
   "cell_type": "markdown",
   "id": "66601fc9",
   "metadata": {},
   "source": [
    "# Table of Contents\n",
    "\n",
    "1. [Imports and definitions](#imports-and-definitions)\n",
    "2. [Read data](#read-data)\n",
    "3. [Features computation](#features-computation)\n",
    "   - [core_data](#core_data)\n",
    "   - [usage_info](#usage_info)\n",
    "   - [customer_interactions](#customer_interactions)\n",
    "   - [combined_features](#combined_features)\n",
    "     - [Dealing with null values in available_gb](#dealing-with-null-values-in-available_gb)\n",
    "     - [Computing additional features](#computing-additional-features)\n",
    "   - [final features dataframe](#final-features-dataframe)\n",
    "4. [Features cleaning](#features-cleaning)\n",
    "   - [Correlation analysis](#correlation-analysis)\n",
    "     - [Analysis correlated networks](#analysis-correlated-networks)\n",
    "   - [Variance analysis](#variance-analysis)\n",
    "   - [Cleaning](#cleaning)\n",
    "5. [Storing](#storing)\n",
    "\n",
    "---\n",
    "\n",
    "# Imports and definitions"
   ]
  },
  {
   "cell_type": "code",
   "execution_count": 1,
   "id": "a8a0ea99",
   "metadata": {},
   "outputs": [],
   "source": [
    "import pickle\n",
    "from pathlib import Path\n",
    "\n",
    "import polars as pl\n",
    "import polars.selectors as cs\n",
    "\n",
    "from sklearn.linear_model import Ridge, Lasso\n",
    "from sklearn.model_selection import train_test_split\n",
    "from sklearn.metrics import mean_absolute_error\n",
    "\n",
    "import plotly.express as px\n",
    "import plotly.graph_objects as go\n",
    "\n",
    "import networkx as nx\n",
    "\n",
    "\n",
    "_ = pl.Config.set_tbl_cols(None)\n",
    "_ = pl.Config.set_fmt_str_lengths(500)\n",
    "_ = pl.Config.set_fmt_float(\"full\")"
   ]
  },
  {
   "cell_type": "code",
   "execution_count": null,
   "id": "177f7486",
   "metadata": {},
   "outputs": [],
   "source": [
    "base_dir = Path('/workspaces/data-scientist-at-magenta')\n",
    "code_dir = base_dir / 'notebooks'\n",
    "data_dir = code_dir / \"data\"\n",
    "raw_dir = data_dir / \"raw\"\n",
    "train_dir = data_dir / 'train'\n",
    "output_dir = code_dir / 'data'\n",
    "features_dir = output_dir / 'features'\n",
    "test_dir = output_dir / 'test'\n",
    "artifacts_dir = output_dir / 'models' / 'artifacts'"
   ]
  },
  {
   "cell_type": "code",
   "execution_count": 3,
   "id": "2720f443",
   "metadata": {},
   "outputs": [],
   "source": [
    "def load_artifact(targ_file:str):\n",
    "    targ_path = raw_dir / targ_file\n",
    "    \n",
    "    if not targ_path.exists():\n",
    "        raise FileNotFoundError(f'Artifact {targ_file} not found in {raw_dir}')\n",
    "\n",
    "    with open(targ_path,'rb') as fp:\n",
    "        test_artifact = pickle.load(fp)\n",
    "\n",
    "    return pl.from_pandas(test_artifact)\n",
    "\n",
    "\n",
    "def plot_correlation_network(G, pos):\n",
    "    edge_x = []\n",
    "    edge_y = []\n",
    "    for edge in G.edges(data=True):\n",
    "        x0, y0 = pos[edge[0]]\n",
    "        x1, y1 = pos[edge[1]]\n",
    "        edge_x += [x0, x1, None]\n",
    "        edge_y += [y0, y1, None]\n",
    "\n",
    "    edge_trace = go.Scatter(\n",
    "        x=edge_x, y=edge_y,\n",
    "        line=dict(width=1, color='#888'),\n",
    "        hoverinfo='none',  # Disable edge hover\n",
    "        mode='lines'\n",
    "    )\n",
    "\n",
    "    node_x = []\n",
    "    node_y = []\n",
    "    node_text = []\n",
    "    for node in G.nodes():\n",
    "        x, y = pos[node]\n",
    "        node_x.append(x)\n",
    "        node_y.append(y)\n",
    "        # Gather all neighbors and their correlations\n",
    "        neighbors = []\n",
    "        for nbr in G.neighbors(node):\n",
    "            corr = G.get_edge_data(node, nbr).get('correlation', None)\n",
    "            if corr is not None:\n",
    "                neighbors.append(f\"{nbr}: {corr:.2f}\")\n",
    "            else:\n",
    "                neighbors.append(f\"{nbr}\")\n",
    "        if neighbors:\n",
    "            hover = f\"{node}<br>Correlations:<br>\" + \"<br>\".join(neighbors)\n",
    "        else:\n",
    "            hover = node\n",
    "        node_text.append(hover)\n",
    "\n",
    "    node_trace = go.Scatter(\n",
    "        x=node_x, y=node_y,\n",
    "        mode='markers+text',\n",
    "        text=list(G.nodes),\n",
    "        textposition=\"top center\",\n",
    "        hoverinfo='text',\n",
    "        hovertext=node_text,\n",
    "        marker=dict(\n",
    "            showscale=False,\n",
    "            color='#87ceeb',\n",
    "            size=20,\n",
    "            line_width=2\n",
    "        )\n",
    "    )\n",
    "\n",
    "    fig = go.Figure(data=[edge_trace, node_trace],\n",
    "                    layout=go.Layout(\n",
    "                        title='Clusters of Highly Correlated Features',\n",
    "                        showlegend=False,\n",
    "                        hovermode='closest',\n",
    "                        margin=dict(b=20, l=5, r=5, t=40),\n",
    "                        xaxis=dict(showgrid=False, zeroline=False, showticklabels=False),\n",
    "                        yaxis=dict(showgrid=False, zeroline=False, showticklabels=False),\n",
    "                        width=1200,\n",
    "                        height=800\n",
    "                    ))\n",
    "    fig.show()\n",
    "\n",
    "\n",
    "def correlation_graph_analysis(correlation_analysis, threshold):\n",
    "    # Filter for high correlation\n",
    "    high_corr_df = correlation_analysis.filter(pl.col(\"correlation\").abs() > threshold)\n",
    "\n",
    "    # Extract columns and correlation values as lists\n",
    "    col1_list = high_corr_df[\"col1\"].to_list()\n",
    "    col2_list = high_corr_df[\"col2\"].to_list()\n",
    "    corr_list = high_corr_df[\"correlation\"].to_list()\n",
    "\n",
    "    # Build a graph of correlated columns, adding correlation as edge attribute\n",
    "    G = nx.Graph()\n",
    "    for c1, c2, corr in zip(col1_list, col2_list, corr_list):\n",
    "        G.add_edge(c1, c2, correlation=corr)\n",
    "\n",
    "    # Find groups of correlated columns (connected components)\n",
    "    clusters = list(nx.connected_components(G))\n",
    "\n",
    "    # Select one column from each cluster to keep\n",
    "    columns_to_keep = [list(cluster)[0] for cluster in clusters]\n",
    "\n",
    "    # Identify all involved columns\n",
    "    all_involved = set(col1_list).union(set(col2_list))\n",
    "\n",
    "    # Find all unique columns from original data\n",
    "    all_columns = set(correlation_analysis[\"col1\"].to_list()) | set(correlation_analysis[\"col2\"].to_list())\n",
    "\n",
    "    # Include columns that are not highly correlated with others\n",
    "    non_clustered = all_columns - all_involved\n",
    "    columns_to_keep.extend(non_clustered)\n",
    "\n",
    "    # Final sorted list of columns to keep\n",
    "    columns_to_keep = set(columns_to_keep)\n",
    "\n",
    "    # Columns to remove: all columns involved in high correlation minus those selected to keep\n",
    "    columns_to_remove = sorted(all_involved - columns_to_keep)\n",
    "\n",
    "    return G, columns_to_remove, clusters"
   ]
  },
  {
   "cell_type": "markdown",
   "id": "c602eecb",
   "metadata": {},
   "source": [
    "`core_data` <br><br>\n",
    "\n",
    "| Feature Name           | Description                                                  |\n",
    "|------------------------|--------------------------------------------------------------|\n",
    "| rating_account_id      | Unique identifier for the contract account                    |\n",
    "| customer_id            | Unique identifier for the customer                           |\n",
    "| age                    | Age of the customer **in years**                                       |\n",
    "| contract_lifetime_days | Total duration of the customer contract in days              |\n",
    "| remaining_binding_days | Number of days left in the contract binding period - usual binding period is 2 years - **if it's positive it means that the customer is still in the binding period**       |\n",
    "| has_special_offer      | Indicates if the customer has a special offer      |\n",
    "| is_magenta1_customer   | Indicates if the customer is part of the Magenta1 program - fedelty program    |\n",
    "| available_gb           | Amount of mobile data included in the current tariff         |\n",
    "| gross_mrc              | Gross monthly recurring charge (in euros)                    |\n",
    "| smartphone_brand       | Brand of the customer’s smartphone                           |\n",
    "| has_done_upselling     | Whether the customer has already done an upsell in the last 3 years      |\n"
   ]
  },
  {
   "cell_type": "markdown",
   "id": "583d2e94",
   "metadata": {},
   "source": [
    "`usage_info`\n",
    "\n",
    "| Feature Name           | Description                                                  |\n",
    "|------------------------|--------------------------------------------------------------|\n",
    "| rating_account_id      | Unique identifier for the contract account                    |\n",
    "| billed_period_month_d  | Billing period (monthly)                                     |\n",
    "| has_used_roaming       | Indicates if roaming was used during the period            |\n",
    "| used_gb                | Amount of mobile data used in the billing period (in GB)     |\n"
   ]
  },
  {
   "cell_type": "markdown",
   "id": "074317ef",
   "metadata": {},
   "source": [
    "`customer_interactions`\n",
    "\n",
    "| Feature Name   | Description                                                              |\n",
    "|----------------|--------------------------------------------------------------------------|\n",
    "| customer_id    | Unique identifier for the customer                                       |\n",
    "| type_subtype   | Category and subtype of the interaction (e.g., tariff change, billing)   |\n",
    "| n              | Number of interactions of this type in the last 6 months                                |\n",
    "| days_since_last| Number of days since the last interaction of this type                   |\n"
   ]
  },
  {
   "cell_type": "markdown",
   "id": "f3ab727d",
   "metadata": {},
   "source": [
    "# Read data"
   ]
  },
  {
   "cell_type": "code",
   "execution_count": 4,
   "id": "82ebb18c",
   "metadata": {},
   "outputs": [
    {
     "name": "stdout",
     "output_type": "stream",
     "text": [
      "CPU times: user 45.6 ms, sys: 14.7 ms, total: 60.3 ms\n",
      "Wall time: 79.8 ms\n"
     ]
    }
   ],
   "source": [
    "%%time\n",
    "\n",
    "core_data = load_artifact('core_data')\n",
    "customer_interactions = load_artifact('customer_interactions')\n",
    "usage_info = load_artifact('usage_info')"
   ]
  },
  {
   "cell_type": "markdown",
   "id": "e2166da0",
   "metadata": {},
   "source": [
    "---"
   ]
  },
  {
   "cell_type": "markdown",
   "id": "a46ae8c8",
   "metadata": {},
   "source": [
    "# Features computation"
   ]
  },
  {
   "cell_type": "markdown",
   "id": "6b561842",
   "metadata": {},
   "source": [
    "## `core_data`"
   ]
  },
  {
   "cell_type": "code",
   "execution_count": 5,
   "id": "1216de29",
   "metadata": {},
   "outputs": [
    {
     "name": "stdout",
     "output_type": "stream",
     "text": [
      "CPU times: user 19.3 ms, sys: 17.8 ms, total: 37.2 ms\n",
      "Wall time: 37.5 ms\n"
     ]
    }
   ],
   "source": [
    "%%time\n",
    "\n",
    "core_data = core_data.with_columns(\n",
    "    pl.col('rating_account_id').cast(pl.Utf8),\n",
    "    pl.col(\"has_done_upselling\").cast(pl.Boolean),\n",
    "    pl.col(\"has_special_offer\").cast(pl.Boolean),\n",
    "    pl.col(\"is_magenta1_customer\").cast(pl.Boolean)\n",
    ")\n",
    "\n",
    "# Manipulating binding days\n",
    "core_data = core_data.with_columns(\n",
    "    (pl.col('contract_lifetime_days') + pl.col('remaining_binding_days')).alias('contract_binding_days'),\n",
    "    (pl.col('contract_lifetime_days') / (pl.col('contract_lifetime_days') + pl.col('remaining_binding_days'))).round(2).alias('completion_rate'),\n",
    "    pl.when(pl.col('remaining_binding_days') > 0)\n",
    "        .then(True)\n",
    "        .otherwise(False)\n",
    "        .alias('is_bounded')\n",
    ")\n",
    "\n",
    "\n",
    "# One-hot-encoding smartphone brands - extracting the values in order to keep the same order for the columns\n",
    "# The number of unique values is not too high, so one-hot-encoding is not affecting the dimensionality too much\n",
    "smartphone_brands_list = core_data.select(pl.col('smartphone_brand')).unique().to_series().sort().to_list()\n",
    "core_data = core_data.with_columns(\n",
    "    [\n",
    "        pl.when(pl.col(\"smartphone_brand\") == brand)\n",
    "        .then(True)\n",
    "        .otherwise(False)\n",
    "        .alias(f\"is_{brand.lower()}\")\n",
    "        for brand in smartphone_brands_list\n",
    "    ]\n",
    ")\n",
    "core_data = core_data.drop(\"smartphone_brand\")\n",
    "\n",
    "\n",
    "# Add how many contract has the customer - including the current one\n",
    "n_contract_per_customer = core_data.group_by(\"customer_id\").agg(\n",
    "    pl.col(\"rating_account_id\").count().alias(\"n_contracts_per_customer\")\n",
    ")\n",
    "core_data = core_data.join(n_contract_per_customer, on=\"customer_id\", how=\"left\")"
   ]
  },
  {
   "cell_type": "code",
   "execution_count": 6,
   "id": "4773ac6f",
   "metadata": {},
   "outputs": [
    {
     "data": {
      "text/html": [
       "<div><style>\n",
       ".dataframe > thead > tr,\n",
       ".dataframe > tbody > tr {\n",
       "  text-align: right;\n",
       "  white-space: pre-wrap;\n",
       "}\n",
       "</style>\n",
       "<small>shape: (100_000, 19)</small><table border=\"1\" class=\"dataframe\"><thead><tr><th>rating_account_id</th><th>customer_id</th><th>age</th><th>contract_lifetime_days</th><th>remaining_binding_days</th><th>has_special_offer</th><th>is_magenta1_customer</th><th>available_gb</th><th>gross_mrc</th><th>has_done_upselling</th><th>contract_binding_days</th><th>completion_rate</th><th>is_bounded</th><th>is_huawei</th><th>is_oneplus</th><th>is_samsung</th><th>is_xiaomi</th><th>is_iphone</th><th>n_contracts_per_customer</th></tr><tr><td>str</td><td>str</td><td>i64</td><td>i64</td><td>i64</td><td>bool</td><td>bool</td><td>i64</td><td>f64</td><td>bool</td><td>i64</td><td>f64</td><td>bool</td><td>bool</td><td>bool</td><td>bool</td><td>bool</td><td>bool</td><td>u32</td></tr></thead><tbody><tr><td>&quot;289094&quot;</td><td>&quot;4.161115&quot;</td><td>36</td><td>878</td><td>325</td><td>false</td><td>false</td><td>20</td><td>70</td><td>false</td><td>1203</td><td>0.73</td><td>true</td><td>false</td><td>false</td><td>false</td><td>false</td><td>true</td><td>1</td></tr><tr><td>&quot;677626&quot;</td><td>&quot;2.429976&quot;</td><td>34</td><td>998</td><td>614</td><td>false</td><td>false</td><td>0</td><td>5</td><td>false</td><td>1612</td><td>0.62</td><td>true</td><td>false</td><td>false</td><td>true</td><td>false</td><td>false</td><td>1</td></tr><tr><td>&quot;769928&quot;</td><td>&quot;3.875044&quot;</td><td>36</td><td>37</td><td>-26</td><td>false</td><td>true</td><td>50</td><td>16.94</td><td>false</td><td>11</td><td>3.36</td><td>false</td><td>false</td><td>false</td><td>true</td><td>false</td><td>false</td><td>2</td></tr><tr><td>&quot;873260&quot;</td><td>&quot;4.649933&quot;</td><td>50</td><td>503</td><td>-149</td><td>false</td><td>true</td><td>20</td><td>30.2</td><td>true</td><td>354</td><td>1.42</td><td>false</td><td>false</td><td>false</td><td>false</td><td>false</td><td>true</td><td>1</td></tr><tr><td>&quot;109774&quot;</td><td>&quot;3.851059&quot;</td><td>47</td><td>331</td><td>-328</td><td>true</td><td>true</td><td>null</td><td>46.12</td><td>false</td><td>3</td><td>110.33</td><td>false</td><td>false</td><td>false</td><td>true</td><td>false</td><td>false</td><td>3</td></tr><tr><td>&hellip;</td><td>&hellip;</td><td>&hellip;</td><td>&hellip;</td><td>&hellip;</td><td>&hellip;</td><td>&hellip;</td><td>&hellip;</td><td>&hellip;</td><td>&hellip;</td><td>&hellip;</td><td>&hellip;</td><td>&hellip;</td><td>&hellip;</td><td>&hellip;</td><td>&hellip;</td><td>&hellip;</td><td>&hellip;</td><td>&hellip;</td></tr><tr><td>&quot;502283&quot;</td><td>&quot;5.605022&quot;</td><td>88</td><td>1573</td><td>-576</td><td>false</td><td>false</td><td>10</td><td>34.18</td><td>false</td><td>997</td><td>1.58</td><td>false</td><td>false</td><td>false</td><td>true</td><td>false</td><td>false</td><td>4</td></tr><tr><td>&quot;618421&quot;</td><td>&quot;2.862063&quot;</td><td>85</td><td>1138</td><td>412</td><td>true</td><td>false</td><td>40</td><td>50.1</td><td>false</td><td>1550</td><td>0.73</td><td>true</td><td>false</td><td>false</td><td>false</td><td>false</td><td>true</td><td>1</td></tr><tr><td>&quot;104422&quot;</td><td>&quot;2.414264&quot;</td><td>79</td><td>1709</td><td>-494</td><td>false</td><td>false</td><td>10</td><td>12.96</td><td>false</td><td>1215</td><td>1.41</td><td>false</td><td>false</td><td>false</td><td>true</td><td>false</td><td>false</td><td>3</td></tr><tr><td>&quot;642380&quot;</td><td>&quot;3.619106&quot;</td><td>84</td><td>1592</td><td>403</td><td>false</td><td>false</td><td>10</td><td>56.73</td><td>false</td><td>1995</td><td>0.8</td><td>true</td><td>false</td><td>false</td><td>true</td><td>false</td><td>false</td><td>2</td></tr><tr><td>&quot;620562&quot;</td><td>&quot;2.177584&quot;</td><td>88</td><td>1711</td><td>383</td><td>false</td><td>false</td><td>10</td><td>5</td><td>false</td><td>2094</td><td>0.82</td><td>true</td><td>false</td><td>false</td><td>false</td><td>false</td><td>true</td><td>2</td></tr></tbody></table></div>"
      ],
      "text/plain": [
       "shape: (100_000, 19)\n",
       "┌────────────┬────────────┬─────┬────────────┬───┬────────────┬───────────┬───────────┬────────────┐\n",
       "│ rating_acc ┆ customer_i ┆ age ┆ contract_l ┆ … ┆ is_samsung ┆ is_xiaomi ┆ is_iphone ┆ n_contract │\n",
       "│ ount_id    ┆ d          ┆ --- ┆ ifetime_da ┆   ┆ ---        ┆ ---       ┆ ---       ┆ s_per_cust │\n",
       "│ ---        ┆ ---        ┆ i64 ┆ ys         ┆   ┆ bool       ┆ bool      ┆ bool      ┆ omer       │\n",
       "│ str        ┆ str        ┆     ┆ ---        ┆   ┆            ┆           ┆           ┆ ---        │\n",
       "│            ┆            ┆     ┆ i64        ┆   ┆            ┆           ┆           ┆ u32        │\n",
       "╞════════════╪════════════╪═════╪════════════╪═══╪════════════╪═══════════╪═══════════╪════════════╡\n",
       "│ 289094     ┆ 4.161115   ┆ 36  ┆ 878        ┆ … ┆ false      ┆ false     ┆ true      ┆ 1          │\n",
       "│ 677626     ┆ 2.429976   ┆ 34  ┆ 998        ┆ … ┆ true       ┆ false     ┆ false     ┆ 1          │\n",
       "│ 769928     ┆ 3.875044   ┆ 36  ┆ 37         ┆ … ┆ true       ┆ false     ┆ false     ┆ 2          │\n",
       "│ 873260     ┆ 4.649933   ┆ 50  ┆ 503        ┆ … ┆ false      ┆ false     ┆ true      ┆ 1          │\n",
       "│ 109774     ┆ 3.851059   ┆ 47  ┆ 331        ┆ … ┆ true       ┆ false     ┆ false     ┆ 3          │\n",
       "│ …          ┆ …          ┆ …   ┆ …          ┆ … ┆ …          ┆ …         ┆ …         ┆ …          │\n",
       "│ 502283     ┆ 5.605022   ┆ 88  ┆ 1573       ┆ … ┆ true       ┆ false     ┆ false     ┆ 4          │\n",
       "│ 618421     ┆ 2.862063   ┆ 85  ┆ 1138       ┆ … ┆ false      ┆ false     ┆ true      ┆ 1          │\n",
       "│ 104422     ┆ 2.414264   ┆ 79  ┆ 1709       ┆ … ┆ true       ┆ false     ┆ false     ┆ 3          │\n",
       "│ 642380     ┆ 3.619106   ┆ 84  ┆ 1592       ┆ … ┆ true       ┆ false     ┆ false     ┆ 2          │\n",
       "│ 620562     ┆ 2.177584   ┆ 88  ┆ 1711       ┆ … ┆ false      ┆ false     ┆ true      ┆ 2          │\n",
       "└────────────┴────────────┴─────┴────────────┴───┴────────────┴───────────┴───────────┴────────────┘"
      ]
     },
     "execution_count": 6,
     "metadata": {},
     "output_type": "execute_result"
    }
   ],
   "source": [
    "core_data"
   ]
  },
  {
   "cell_type": "code",
   "execution_count": 7,
   "id": "245da419",
   "metadata": {},
   "outputs": [
    {
     "data": {
      "text/plain": [
       "(100000, 19)"
      ]
     },
     "execution_count": 7,
     "metadata": {},
     "output_type": "execute_result"
    }
   ],
   "source": [
    "core_data.shape"
   ]
  },
  {
   "cell_type": "markdown",
   "id": "cdd17951",
   "metadata": {},
   "source": [
    "---"
   ]
  },
  {
   "cell_type": "markdown",
   "id": "dec4f76e",
   "metadata": {},
   "source": [
    "## `usage_info`"
   ]
  },
  {
   "cell_type": "code",
   "execution_count": 8,
   "id": "45b12ecd",
   "metadata": {},
   "outputs": [
    {
     "name": "stdout",
     "output_type": "stream",
     "text": [
      "CPU times: user 96.6 ms, sys: 11.1 ms, total: 108 ms\n",
      "Wall time: 32.8 ms\n"
     ]
    }
   ],
   "source": [
    "%%time\n",
    "\n",
    "usage_info = usage_info.with_columns([\n",
    "    pl.col('rating_account_id').cast(pl.Utf8),\n",
    "    pl.col('billed_period_month_d').cast(pl.Date),\n",
    "    pl.col('has_used_roaming').cast(pl.Boolean),\n",
    "    pl.col('used_gb').cast(pl.Float64)\n",
    "]).sort(['rating_account_id', 'billed_period_month_d'])"
   ]
  },
  {
   "cell_type": "code",
   "execution_count": 9,
   "id": "74f34c97",
   "metadata": {},
   "outputs": [
    {
     "name": "stdout",
     "output_type": "stream",
     "text": [
      "CPU times: user 4.13 ms, sys: 2.88 ms, total: 7.01 ms\n",
      "Wall time: 4.85 ms\n"
     ]
    }
   ],
   "source": [
    "%%time\n",
    "\n",
    "month_usage = usage_info.group_by('rating_account_id').agg([\n",
    "    pl.col('used_gb')\n",
    "])\n",
    "\n",
    "month_usage = month_usage.with_columns([\n",
    "    pl.col('used_gb').list.get(0).alias('last_1_month_usage_gb'),\n",
    "    pl.col('used_gb').list.get(1).alias('last_2_month_usage_gb'),\n",
    "    pl.col('used_gb').list.get(2).alias('last_3_month_usage_gb'),\n",
    "    pl.col('used_gb').list.get(3).alias('last_4_month_usage_gb'),\n",
    "\n",
    "]).drop('used_gb')\n"
   ]
  },
  {
   "cell_type": "code",
   "execution_count": 10,
   "id": "e4e800c9",
   "metadata": {},
   "outputs": [
    {
     "data": {
      "text/html": [
       "<div><style>\n",
       ".dataframe > thead > tr,\n",
       ".dataframe > tbody > tr {\n",
       "  text-align: right;\n",
       "  white-space: pre-wrap;\n",
       "}\n",
       "</style>\n",
       "<small>shape: (100_000, 5)</small><table border=\"1\" class=\"dataframe\"><thead><tr><th>rating_account_id</th><th>last_1_month_usage_gb</th><th>last_2_month_usage_gb</th><th>last_3_month_usage_gb</th><th>last_4_month_usage_gb</th></tr><tr><td>str</td><td>f64</td><td>f64</td><td>f64</td><td>f64</td></tr></thead><tbody><tr><td>&quot;100010&quot;</td><td>0.9</td><td>0.8</td><td>0.4</td><td>0.9</td></tr><tr><td>&quot;100017&quot;</td><td>0.7</td><td>0.5</td><td>0.8</td><td>0.3</td></tr><tr><td>&quot;100036&quot;</td><td>0.9</td><td>0.2</td><td>0.2</td><td>1</td></tr><tr><td>&quot;100047&quot;</td><td>35.6</td><td>48.9</td><td>35.4</td><td>50.7</td></tr><tr><td>&quot;100064&quot;</td><td>0.7</td><td>0.7</td><td>0.3</td><td>0.8</td></tr><tr><td>&hellip;</td><td>&hellip;</td><td>&hellip;</td><td>&hellip;</td><td>&hellip;</td></tr><tr><td>&quot;999922&quot;</td><td>2.3</td><td>1.4</td><td>3.6</td><td>2.1</td></tr><tr><td>&quot;999934&quot;</td><td>12.8</td><td>13.8</td><td>14.5</td><td>6.5</td></tr><tr><td>&quot;999940&quot;</td><td>9.8</td><td>11.6</td><td>5.4</td><td>14.4</td></tr><tr><td>&quot;999956&quot;</td><td>13</td><td>10.4</td><td>13.7</td><td>14.1</td></tr><tr><td>&quot;999971&quot;</td><td>3.7</td><td>2.3</td><td>1.1</td><td>1.1</td></tr></tbody></table></div>"
      ],
      "text/plain": [
       "shape: (100_000, 5)\n",
       "┌───────────────────┬───────────────────┬───────────────────┬───────────────────┬──────────────────┐\n",
       "│ rating_account_id ┆ last_1_month_usag ┆ last_2_month_usag ┆ last_3_month_usag ┆ last_4_month_usa │\n",
       "│ ---               ┆ e_gb              ┆ e_gb              ┆ e_gb              ┆ ge_gb            │\n",
       "│ str               ┆ ---               ┆ ---               ┆ ---               ┆ ---              │\n",
       "│                   ┆ f64               ┆ f64               ┆ f64               ┆ f64              │\n",
       "╞═══════════════════╪═══════════════════╪═══════════════════╪═══════════════════╪══════════════════╡\n",
       "│ 100010            ┆ 0.9               ┆ 0.8               ┆ 0.4               ┆ 0.9              │\n",
       "│ 100017            ┆ 0.7               ┆ 0.5               ┆ 0.8               ┆ 0.3              │\n",
       "│ 100036            ┆ 0.9               ┆ 0.2               ┆ 0.2               ┆ 1                │\n",
       "│ 100047            ┆ 35.6              ┆ 48.9              ┆ 35.4              ┆ 50.7             │\n",
       "│ 100064            ┆ 0.7               ┆ 0.7               ┆ 0.3               ┆ 0.8              │\n",
       "│ …                 ┆ …                 ┆ …                 ┆ …                 ┆ …                │\n",
       "│ 999922            ┆ 2.3               ┆ 1.4               ┆ 3.6               ┆ 2.1              │\n",
       "│ 999934            ┆ 12.8              ┆ 13.8              ┆ 14.5              ┆ 6.5              │\n",
       "│ 999940            ┆ 9.8               ┆ 11.6              ┆ 5.4               ┆ 14.4             │\n",
       "│ 999956            ┆ 13                ┆ 10.4              ┆ 13.7              ┆ 14.1             │\n",
       "│ 999971            ┆ 3.7               ┆ 2.3               ┆ 1.1               ┆ 1.1              │\n",
       "└───────────────────┴───────────────────┴───────────────────┴───────────────────┴──────────────────┘"
      ]
     },
     "execution_count": 10,
     "metadata": {},
     "output_type": "execute_result"
    }
   ],
   "source": [
    "month_usage"
   ]
  },
  {
   "cell_type": "code",
   "execution_count": 11,
   "id": "f1c8a71b",
   "metadata": {},
   "outputs": [
    {
     "name": "stdout",
     "output_type": "stream",
     "text": [
      "CPU times: user 905 ms, sys: 15.6 ms, total: 921 ms\n",
      "Wall time: 103 ms\n"
     ]
    }
   ],
   "source": [
    "%%time\n",
    "\n",
    "aggregated_features = usage_info.group_by('rating_account_id').agg([\n",
    "    \n",
    "    # BASIC USAGE STATISTICS\n",
    "    pl.col('used_gb').mean().round(2).alias('avg_monthly_usage_gb'),\n",
    "    pl.col('used_gb').median().round(2).alias('median_monthly_usage_gb'),\n",
    "    pl.col('used_gb').sum().round(2).alias('total_usage_gb'),\n",
    "    pl.col('used_gb').std().round(2).alias('usage_std_gb'),\n",
    "    pl.col('used_gb').min().round(2).alias('min_monthly_usage_gb'),\n",
    "    pl.col('used_gb').max().round(2).alias('max_monthly_usage_gb'),\n",
    "    pl.col('used_gb').quantile(0.25).round(2).alias('usage_q25_gb'),\n",
    "    pl.col('used_gb').quantile(0.75).round(2).alias('usage_q75_gb'),\n",
    "    \n",
    "    # ROAMING STATISTICS\n",
    "    pl.col('has_used_roaming').sum().alias('months_with_roaming'),\n",
    "    pl.col('has_used_roaming').any().alias('ever_used_roaming'),\n",
    "    pl.col('has_used_roaming').all().alias('always_used_roaming'),\n",
    "    \n",
    "    # # USAGE INTENSITY CATEGORIES\n",
    "    (pl.col('used_gb') == 0).sum().alias('zero_usage_months'),\n",
    "    (pl.col('used_gb') > 0).sum().alias('active_usage_months'),\n",
    "])"
   ]
  },
  {
   "cell_type": "code",
   "execution_count": 12,
   "id": "61b6148d",
   "metadata": {},
   "outputs": [
    {
     "data": {
      "text/html": [
       "<div><style>\n",
       ".dataframe > thead > tr,\n",
       ".dataframe > tbody > tr {\n",
       "  text-align: right;\n",
       "  white-space: pre-wrap;\n",
       "}\n",
       "</style>\n",
       "<small>shape: (100_000, 14)</small><table border=\"1\" class=\"dataframe\"><thead><tr><th>rating_account_id</th><th>avg_monthly_usage_gb</th><th>median_monthly_usage_gb</th><th>total_usage_gb</th><th>usage_std_gb</th><th>min_monthly_usage_gb</th><th>max_monthly_usage_gb</th><th>usage_q25_gb</th><th>usage_q75_gb</th><th>months_with_roaming</th><th>ever_used_roaming</th><th>always_used_roaming</th><th>zero_usage_months</th><th>active_usage_months</th></tr><tr><td>str</td><td>f64</td><td>f64</td><td>f64</td><td>f64</td><td>f64</td><td>f64</td><td>f64</td><td>f64</td><td>u32</td><td>bool</td><td>bool</td><td>u32</td><td>u32</td></tr></thead><tbody><tr><td>&quot;100010&quot;</td><td>0.75</td><td>0.85</td><td>3</td><td>0.24</td><td>0.4</td><td>0.9</td><td>0.8</td><td>0.9</td><td>0</td><td>false</td><td>false</td><td>0</td><td>4</td></tr><tr><td>&quot;100017&quot;</td><td>0.57</td><td>0.6</td><td>2.3</td><td>0.22</td><td>0.3</td><td>0.8</td><td>0.5</td><td>0.7</td><td>2</td><td>true</td><td>false</td><td>0</td><td>4</td></tr><tr><td>&quot;100036&quot;</td><td>0.57</td><td>0.55</td><td>2.3</td><td>0.43</td><td>0.2</td><td>1</td><td>0.2</td><td>0.9</td><td>1</td><td>true</td><td>false</td><td>0</td><td>4</td></tr><tr><td>&quot;100047&quot;</td><td>42.65</td><td>42.25</td><td>170.6</td><td>8.29</td><td>35.4</td><td>50.7</td><td>35.6</td><td>48.9</td><td>0</td><td>false</td><td>false</td><td>0</td><td>4</td></tr><tr><td>&quot;100064&quot;</td><td>0.62</td><td>0.7</td><td>2.5</td><td>0.22</td><td>0.3</td><td>0.8</td><td>0.7</td><td>0.7</td><td>1</td><td>true</td><td>false</td><td>0</td><td>4</td></tr><tr><td>&hellip;</td><td>&hellip;</td><td>&hellip;</td><td>&hellip;</td><td>&hellip;</td><td>&hellip;</td><td>&hellip;</td><td>&hellip;</td><td>&hellip;</td><td>&hellip;</td><td>&hellip;</td><td>&hellip;</td><td>&hellip;</td><td>&hellip;</td></tr><tr><td>&quot;999922&quot;</td><td>2.35</td><td>2.2</td><td>9.4</td><td>0.92</td><td>1.4</td><td>3.6</td><td>2.1</td><td>2.3</td><td>0</td><td>false</td><td>false</td><td>0</td><td>4</td></tr><tr><td>&quot;999934&quot;</td><td>11.9</td><td>13.3</td><td>47.6</td><td>3.67</td><td>6.5</td><td>14.5</td><td>12.8</td><td>13.8</td><td>3</td><td>true</td><td>false</td><td>0</td><td>4</td></tr><tr><td>&quot;999940&quot;</td><td>10.3</td><td>10.7</td><td>41.2</td><td>3.78</td><td>5.4</td><td>14.4</td><td>9.8</td><td>11.6</td><td>1</td><td>true</td><td>false</td><td>0</td><td>4</td></tr><tr><td>&quot;999956&quot;</td><td>12.8</td><td>13.35</td><td>51.2</td><td>1.66</td><td>10.4</td><td>14.1</td><td>13</td><td>13.7</td><td>0</td><td>false</td><td>false</td><td>0</td><td>4</td></tr><tr><td>&quot;999971&quot;</td><td>2.05</td><td>1.7</td><td>8.2</td><td>1.24</td><td>1.1</td><td>3.7</td><td>1.1</td><td>2.3</td><td>2</td><td>true</td><td>false</td><td>0</td><td>4</td></tr></tbody></table></div>"
      ],
      "text/plain": [
       "shape: (100_000, 14)\n",
       "┌───────────┬───────────┬───────────┬───────────┬───┬───────────┬───────────┬───────────┬──────────┐\n",
       "│ rating_ac ┆ avg_month ┆ median_mo ┆ total_usa ┆ … ┆ ever_used ┆ always_us ┆ zero_usag ┆ active_u │\n",
       "│ count_id  ┆ ly_usage_ ┆ nthly_usa ┆ ge_gb     ┆   ┆ _roaming  ┆ ed_roamin ┆ e_months  ┆ sage_mon │\n",
       "│ ---       ┆ gb        ┆ ge_gb     ┆ ---       ┆   ┆ ---       ┆ g         ┆ ---       ┆ ths      │\n",
       "│ str       ┆ ---       ┆ ---       ┆ f64       ┆   ┆ bool      ┆ ---       ┆ u32       ┆ ---      │\n",
       "│           ┆ f64       ┆ f64       ┆           ┆   ┆           ┆ bool      ┆           ┆ u32      │\n",
       "╞═══════════╪═══════════╪═══════════╪═══════════╪═══╪═══════════╪═══════════╪═══════════╪══════════╡\n",
       "│ 100010    ┆ 0.75      ┆ 0.85      ┆ 3         ┆ … ┆ false     ┆ false     ┆ 0         ┆ 4        │\n",
       "│ 100017    ┆ 0.57      ┆ 0.6       ┆ 2.3       ┆ … ┆ true      ┆ false     ┆ 0         ┆ 4        │\n",
       "│ 100036    ┆ 0.57      ┆ 0.55      ┆ 2.3       ┆ … ┆ true      ┆ false     ┆ 0         ┆ 4        │\n",
       "│ 100047    ┆ 42.65     ┆ 42.25     ┆ 170.6     ┆ … ┆ false     ┆ false     ┆ 0         ┆ 4        │\n",
       "│ 100064    ┆ 0.62      ┆ 0.7       ┆ 2.5       ┆ … ┆ true      ┆ false     ┆ 0         ┆ 4        │\n",
       "│ …         ┆ …         ┆ …         ┆ …         ┆ … ┆ …         ┆ …         ┆ …         ┆ …        │\n",
       "│ 999922    ┆ 2.35      ┆ 2.2       ┆ 9.4       ┆ … ┆ false     ┆ false     ┆ 0         ┆ 4        │\n",
       "│ 999934    ┆ 11.9      ┆ 13.3      ┆ 47.6      ┆ … ┆ true      ┆ false     ┆ 0         ┆ 4        │\n",
       "│ 999940    ┆ 10.3      ┆ 10.7      ┆ 41.2      ┆ … ┆ true      ┆ false     ┆ 0         ┆ 4        │\n",
       "│ 999956    ┆ 12.8      ┆ 13.35     ┆ 51.2      ┆ … ┆ false     ┆ false     ┆ 0         ┆ 4        │\n",
       "│ 999971    ┆ 2.05      ┆ 1.7       ┆ 8.2       ┆ … ┆ true      ┆ false     ┆ 0         ┆ 4        │\n",
       "└───────────┴───────────┴───────────┴───────────┴───┴───────────┴───────────┴───────────┴──────────┘"
      ]
     },
     "execution_count": 12,
     "metadata": {},
     "output_type": "execute_result"
    }
   ],
   "source": [
    "aggregated_features"
   ]
  },
  {
   "cell_type": "code",
   "execution_count": 13,
   "id": "d7d17fcd",
   "metadata": {},
   "outputs": [
    {
     "name": "stdout",
     "output_type": "stream",
     "text": [
      "CPU times: user 1.34 s, sys: 26.6 ms, total: 1.37 s\n",
      "Wall time: 234 ms\n"
     ]
    }
   ],
   "source": [
    "%%time\n",
    "\n",
    "# CALCULATE TRENDS AND ROLLING METRICS\n",
    "trend_features = usage_info.group_by('rating_account_id').agg([\n",
    "    # ROLLING AVERAGES\n",
    "    # 2-month rolling average\n",
    "    pl.col('used_gb').rolling_mean_by(\n",
    "        'billed_period_month_d', window_size='2mo'\n",
    "    ).alias('avg_2month_rolling_usage_gb'),\n",
    "    \n",
    "    # 3-month rolling average\n",
    "        pl.col('used_gb').rolling_mean_by(\n",
    "        'billed_period_month_d', window_size='3mo'\n",
    "    ).alias('avg_3month_rolling_usage_gb'),\n",
    "\n",
    "    \n",
    "    # PERIOD-OVER-PERIOD DELTAS\n",
    "    (pl.col('used_gb') - pl.col('used_gb').shift(1)).alias('delta_1mo'),\n",
    "    (pl.col('used_gb') - pl.col('used_gb').shift(2)).alias('delta_2mo'),\n",
    "    (pl.col('used_gb') - pl.col('used_gb').shift(3)).alias('delta_3mo'),\n",
    "\n",
    "    # VOLATILITY METRICS\n",
    "    # Rolling standard deviation\n",
    "    pl.col('used_gb').rolling_std_by(\n",
    "        'billed_period_month_d', window_size='2mo'\n",
    "    ).alias('std_2month_rolling_usage_gb')\n",
    "])\n",
    "\n",
    "trend_features = trend_features.with_columns([\n",
    "    # delta_1mo statistics\n",
    "    pl.col('delta_1mo').list.mean().round(2).alias('avg_delta_1mo'),\n",
    "    pl.col('delta_1mo').list.std().round(2).alias('delta_1mo_volatility'),\n",
    "    pl.col('delta_1mo').list.max().round(2).alias('max_delta_1mo_increase'),\n",
    "    pl.col('delta_1mo').list.min().round(2).alias('max_delta_1mo_decrease'),\n",
    "    pl.col('delta_1mo').list.eval(pl.element() > 0).list.sum().alias('months_with_delta_1mo_increase'),\n",
    "    pl.col('delta_1mo').list.eval(pl.element() < 0).list.sum().alias('months_with_delta_1mo_decrease'),\n",
    "    pl.col('delta_1mo').list.eval(pl.element() == 0).list.sum().alias('months_with_no_delta_1mo_change'),\n",
    "\n",
    "    # delta_2mo statistics\n",
    "    pl.col('delta_2mo').list.mean().round(2).alias('avg_delta_2mo'),\n",
    "    pl.col('delta_2mo').list.std().round(2).alias('delta_2mo_volatility'),\n",
    "    pl.col('delta_2mo').list.max().round(2).alias('max_delta_2mo_increase'),\n",
    "    pl.col('delta_2mo').list.min().round(2).alias('max_delta_2mo_decrease'),\n",
    "    pl.col('delta_2mo').list.eval(pl.element() > 0).list.sum().alias('months_with_delta_2mo_increase'),\n",
    "    pl.col('delta_2mo').list.eval(pl.element() < 0).list.sum().alias('months_with_delta_2mo_decrease'),\n",
    "    pl.col('delta_2mo').list.eval(pl.element() == 0).list.sum().alias('months_with_no_delta_2mo_change'),\n",
    "\n",
    "    # delta_3mo statistics\n",
    "    pl.col('delta_3mo').list.mean().round(2).alias('avg_delta_3mo'),\n",
    "    pl.col('delta_3mo').list.max().round(2).alias('max_delta_3mo_increase'),\n",
    "    pl.col('delta_3mo').list.min().round(2).alias('max_delta_3mo_decrease'),\n",
    "    pl.col('delta_3mo').list.eval(pl.element() > 0).list.sum().alias('months_with_delta_3mo_increase'),\n",
    "    pl.col('delta_3mo').list.eval(pl.element() < 0).list.sum().alias('months_with_delta_3mo_decrease'),\n",
    "    pl.col('delta_3mo').list.eval(pl.element() == 0).list.sum().alias('months_with_no_delta_3mo_change'),\n",
    "])\n",
    "\n",
    "# The following block extracts the last N values from the rolling/statistical lists for each account.\n",
    "# Each column contains the most recent, second most recent, etc. value from the corresponding list\n",
    "\n",
    "trend_features = trend_features.with_columns([\n",
    "    pl.col('avg_2month_rolling_usage_gb').list.get(-(i+1)).round(2).alias(f'last_{i+1}_2mo_rolling_avg')\n",
    "    for i in range(3)\n",
    "]).drop('avg_2month_rolling_usage_gb')\n",
    "\n",
    "trend_features = trend_features.with_columns([\n",
    "    pl.col('avg_3month_rolling_usage_gb').list.get(-(i+1)).round(2).alias(f'last_{i+1}_3mo_rolling_avg')\n",
    "    for i in range(2)\n",
    "]).drop('avg_3month_rolling_usage_gb')\n",
    "\n",
    "trend_features = trend_features.with_columns([\n",
    "    pl.col('delta_1mo').list.get(-(i+1)).round(2).alias(f'last_{i+1}_delta_1mo')\n",
    "    for i in range(3)\n",
    "]).drop('delta_1mo')\n",
    "\n",
    "trend_features = trend_features.with_columns([\n",
    "    pl.col('delta_2mo').list.get(-(i+1)).round(2).alias(f'last_{i+1}_delta_2mo')\n",
    "    for i in range(2)\n",
    "]).drop('delta_2mo')\n",
    "\n",
    "trend_features = trend_features.with_columns([\n",
    "    pl.col('delta_3mo').list.get(-(i+1)).round(2).alias(f'last_{i+1}_delta_3mo')\n",
    "    for i in range(1)\n",
    "]).drop('delta_3mo')\n",
    "\n",
    "trend_features = trend_features.with_columns([\n",
    "    pl.col('std_2month_rolling_usage_gb').list.get(-(i+1)).round(2).alias(f'last_{i+1}_2mo_rolling_stdev')\n",
    "    for i in range(3)\n",
    "]).drop('std_2month_rolling_usage_gb')"
   ]
  },
  {
   "cell_type": "code",
   "execution_count": 14,
   "id": "dbf4932f",
   "metadata": {},
   "outputs": [
    {
     "data": {
      "text/html": [
       "<div><style>\n",
       ".dataframe > thead > tr,\n",
       ".dataframe > tbody > tr {\n",
       "  text-align: right;\n",
       "  white-space: pre-wrap;\n",
       "}\n",
       "</style>\n",
       "<small>shape: (100_000, 35)</small><table border=\"1\" class=\"dataframe\"><thead><tr><th>rating_account_id</th><th>avg_delta_1mo</th><th>delta_1mo_volatility</th><th>max_delta_1mo_increase</th><th>max_delta_1mo_decrease</th><th>months_with_delta_1mo_increase</th><th>months_with_delta_1mo_decrease</th><th>months_with_no_delta_1mo_change</th><th>avg_delta_2mo</th><th>delta_2mo_volatility</th><th>max_delta_2mo_increase</th><th>max_delta_2mo_decrease</th><th>months_with_delta_2mo_increase</th><th>months_with_delta_2mo_decrease</th><th>months_with_no_delta_2mo_change</th><th>avg_delta_3mo</th><th>max_delta_3mo_increase</th><th>max_delta_3mo_decrease</th><th>months_with_delta_3mo_increase</th><th>months_with_delta_3mo_decrease</th><th>months_with_no_delta_3mo_change</th><th>last_1_2mo_rolling_avg</th><th>last_2_2mo_rolling_avg</th><th>last_3_2mo_rolling_avg</th><th>last_1_3mo_rolling_avg</th><th>last_2_3mo_rolling_avg</th><th>last_1_delta_1mo</th><th>last_2_delta_1mo</th><th>last_3_delta_1mo</th><th>last_1_delta_2mo</th><th>last_2_delta_2mo</th><th>last_1_delta_3mo</th><th>last_1_2mo_rolling_stdev</th><th>last_2_2mo_rolling_stdev</th><th>last_3_2mo_rolling_stdev</th></tr><tr><td>str</td><td>f64</td><td>f64</td><td>f64</td><td>f64</td><td>u32</td><td>u32</td><td>u32</td><td>f64</td><td>f64</td><td>f64</td><td>f64</td><td>u32</td><td>u32</td><td>u32</td><td>f64</td><td>f64</td><td>f64</td><td>u32</td><td>u32</td><td>u32</td><td>f64</td><td>f64</td><td>f64</td><td>f64</td><td>f64</td><td>f64</td><td>f64</td><td>f64</td><td>f64</td><td>f64</td><td>f64</td><td>f64</td><td>f64</td><td>f64</td></tr></thead><tbody><tr><td>&quot;100010&quot;</td><td>0</td><td>0.46</td><td>0.5</td><td>-0.4</td><td>1</td><td>2</td><td>0</td><td>-0.2</td><td>0.42</td><td>0.1</td><td>-0.5</td><td>1</td><td>1</td><td>0</td><td>0</td><td>0</td><td>0</td><td>0</td><td>0</td><td>1</td><td>0.65</td><td>0.6</td><td>0.85</td><td>0.7</td><td>0.7</td><td>0.5</td><td>-0.4</td><td>-0.1</td><td>0.1</td><td>-0.5</td><td>0</td><td>0.35</td><td>0.28</td><td>0.07</td></tr><tr><td>&quot;100017&quot;</td><td>-0.13</td><td>0.4</td><td>0.3</td><td>-0.5</td><td>1</td><td>2</td><td>0</td><td>-0.05</td><td>0.21</td><td>0.1</td><td>-0.2</td><td>1</td><td>1</td><td>0</td><td>-0.4</td><td>-0.4</td><td>-0.4</td><td>0</td><td>1</td><td>0</td><td>0.55</td><td>0.65</td><td>0.6</td><td>0.53</td><td>0.67</td><td>-0.5</td><td>0.3</td><td>-0.2</td><td>-0.2</td><td>0.1</td><td>-0.4</td><td>0.35</td><td>0.21</td><td>0.14</td></tr><tr><td>&quot;100036&quot;</td><td>0.03</td><td>0.75</td><td>0.8</td><td>-0.7</td><td>1</td><td>1</td><td>1</td><td>0.05</td><td>1.06</td><td>0.8</td><td>-0.7</td><td>1</td><td>1</td><td>0</td><td>0.1</td><td>0.1</td><td>0.1</td><td>1</td><td>0</td><td>0</td><td>0.6</td><td>0.2</td><td>0.55</td><td>0.47</td><td>0.43</td><td>0.8</td><td>0</td><td>-0.7</td><td>0.8</td><td>-0.7</td><td>0.1</td><td>0.57</td><td>0</td><td>0.49</td></tr><tr><td>&quot;100047&quot;</td><td>5.03</td><td>16.08</td><td>15.3</td><td>-13.5</td><td>2</td><td>1</td><td>0</td><td>0.8</td><td>1.41</td><td>1.8</td><td>-0.2</td><td>1</td><td>1</td><td>0</td><td>15.1</td><td>15.1</td><td>15.1</td><td>1</td><td>0</td><td>0</td><td>43.05</td><td>42.15</td><td>42.25</td><td>45</td><td>39.97</td><td>15.3</td><td>-13.5</td><td>13.3</td><td>1.8</td><td>-0.2</td><td>15.1</td><td>10.82</td><td>9.55</td><td>9.4</td></tr><tr><td>&quot;100064&quot;</td><td>0.03</td><td>0.45</td><td>0.5</td><td>-0.4</td><td>1</td><td>1</td><td>1</td><td>-0.15</td><td>0.35</td><td>0.1</td><td>-0.4</td><td>1</td><td>1</td><td>0</td><td>0.1</td><td>0.1</td><td>0.1</td><td>1</td><td>0</td><td>0</td><td>0.55</td><td>0.5</td><td>0.7</td><td>0.6</td><td>0.57</td><td>0.5</td><td>-0.4</td><td>0</td><td>0.1</td><td>-0.4</td><td>0.1</td><td>0.35</td><td>0.28</td><td>0</td></tr><tr><td>&hellip;</td><td>&hellip;</td><td>&hellip;</td><td>&hellip;</td><td>&hellip;</td><td>&hellip;</td><td>&hellip;</td><td>&hellip;</td><td>&hellip;</td><td>&hellip;</td><td>&hellip;</td><td>&hellip;</td><td>&hellip;</td><td>&hellip;</td><td>&hellip;</td><td>&hellip;</td><td>&hellip;</td><td>&hellip;</td><td>&hellip;</td><td>&hellip;</td><td>&hellip;</td><td>&hellip;</td><td>&hellip;</td><td>&hellip;</td><td>&hellip;</td><td>&hellip;</td><td>&hellip;</td><td>&hellip;</td><td>&hellip;</td><td>&hellip;</td><td>&hellip;</td><td>&hellip;</td><td>&hellip;</td><td>&hellip;</td><td>&hellip;</td></tr><tr><td>&quot;999922&quot;</td><td>-0.07</td><td>1.99</td><td>2.2</td><td>-1.5</td><td>1</td><td>2</td><td>0</td><td>1</td><td>0.42</td><td>1.3</td><td>0.7</td><td>2</td><td>0</td><td>0</td><td>-0.2</td><td>-0.2</td><td>-0.2</td><td>0</td><td>1</td><td>0</td><td>2.85</td><td>2.5</td><td>1.85</td><td>2.37</td><td>2.43</td><td>-1.5</td><td>2.2</td><td>-0.9</td><td>0.7</td><td>1.3</td><td>-0.2</td><td>1.06</td><td>1.56</td><td>0.64</td></tr><tr><td>&quot;999934&quot;</td><td>-2.1</td><td>5.11</td><td>1</td><td>-8</td><td>2</td><td>1</td><td>0</td><td>-2.8</td><td>6.36</td><td>1.7</td><td>-7.3</td><td>1</td><td>1</td><td>0</td><td>-6.3</td><td>-6.3</td><td>-6.3</td><td>0</td><td>1</td><td>0</td><td>10.5</td><td>14.15</td><td>13.3</td><td>11.6</td><td>13.7</td><td>-8</td><td>0.7</td><td>1</td><td>-7.3</td><td>1.7</td><td>-6.3</td><td>5.66</td><td>0.49</td><td>0.71</td></tr><tr><td>&quot;999940&quot;</td><td>1.53</td><td>7.6</td><td>9</td><td>-6.2</td><td>2</td><td>1</td><td>0</td><td>-0.8</td><td>5.09</td><td>2.8</td><td>-4.4</td><td>1</td><td>1</td><td>0</td><td>4.6</td><td>4.6</td><td>4.6</td><td>1</td><td>0</td><td>0</td><td>9.9</td><td>8.5</td><td>10.7</td><td>10.47</td><td>8.93</td><td>9</td><td>-6.2</td><td>1.8</td><td>2.8</td><td>-4.4</td><td>4.6</td><td>6.36</td><td>4.38</td><td>1.27</td></tr><tr><td>&quot;999956&quot;</td><td>0.37</td><td>2.95</td><td>3.3</td><td>-2.6</td><td>2</td><td>1</td><td>0</td><td>2.2</td><td>2.12</td><td>3.7</td><td>0.7</td><td>2</td><td>0</td><td>0</td><td>1.1</td><td>1.1</td><td>1.1</td><td>1</td><td>0</td><td>0</td><td>13.9</td><td>12.05</td><td>11.7</td><td>12.73</td><td>12.37</td><td>0.4</td><td>3.3</td><td>-2.6</td><td>3.7</td><td>0.7</td><td>1.1</td><td>0.28</td><td>2.33</td><td>1.84</td></tr><tr><td>&quot;999971&quot;</td><td>-0.87</td><td>0.76</td><td>0</td><td>-1.4</td><td>0</td><td>2</td><td>1</td><td>-1.9</td><td>0.99</td><td>-1.2</td><td>-2.6</td><td>0</td><td>2</td><td>0</td><td>-2.6</td><td>-2.6</td><td>-2.6</td><td>0</td><td>1</td><td>0</td><td>1.1</td><td>1.7</td><td>3</td><td>1.5</td><td>2.37</td><td>0</td><td>-1.2</td><td>-1.4</td><td>-1.2</td><td>-2.6</td><td>-2.6</td><td>0</td><td>0.85</td><td>0.99</td></tr></tbody></table></div>"
      ],
      "text/plain": [
       "shape: (100_000, 35)\n",
       "┌───────────┬───────────┬───────────┬───────────┬───┬───────────┬───────────┬───────────┬──────────┐\n",
       "│ rating_ac ┆ avg_delta ┆ delta_1mo ┆ max_delta ┆ … ┆ last_1_de ┆ last_1_2m ┆ last_2_2m ┆ last_3_2 │\n",
       "│ count_id  ┆ _1mo      ┆ _volatili ┆ _1mo_incr ┆   ┆ lta_3mo   ┆ o_rolling ┆ o_rolling ┆ mo_rolli │\n",
       "│ ---       ┆ ---       ┆ ty        ┆ ease      ┆   ┆ ---       ┆ _stdev    ┆ _stdev    ┆ ng_stdev │\n",
       "│ str       ┆ f64       ┆ ---       ┆ ---       ┆   ┆ f64       ┆ ---       ┆ ---       ┆ ---      │\n",
       "│           ┆           ┆ f64       ┆ f64       ┆   ┆           ┆ f64       ┆ f64       ┆ f64      │\n",
       "╞═══════════╪═══════════╪═══════════╪═══════════╪═══╪═══════════╪═══════════╪═══════════╪══════════╡\n",
       "│ 100010    ┆ 0         ┆ 0.46      ┆ 0.5       ┆ … ┆ 0         ┆ 0.35      ┆ 0.28      ┆ 0.07     │\n",
       "│ 100017    ┆ -0.13     ┆ 0.4       ┆ 0.3       ┆ … ┆ -0.4      ┆ 0.35      ┆ 0.21      ┆ 0.14     │\n",
       "│ 100036    ┆ 0.03      ┆ 0.75      ┆ 0.8       ┆ … ┆ 0.1       ┆ 0.57      ┆ 0         ┆ 0.49     │\n",
       "│ 100047    ┆ 5.03      ┆ 16.08     ┆ 15.3      ┆ … ┆ 15.1      ┆ 10.82     ┆ 9.55      ┆ 9.4      │\n",
       "│ 100064    ┆ 0.03      ┆ 0.45      ┆ 0.5       ┆ … ┆ 0.1       ┆ 0.35      ┆ 0.28      ┆ 0        │\n",
       "│ …         ┆ …         ┆ …         ┆ …         ┆ … ┆ …         ┆ …         ┆ …         ┆ …        │\n",
       "│ 999922    ┆ -0.07     ┆ 1.99      ┆ 2.2       ┆ … ┆ -0.2      ┆ 1.06      ┆ 1.56      ┆ 0.64     │\n",
       "│ 999934    ┆ -2.1      ┆ 5.11      ┆ 1         ┆ … ┆ -6.3      ┆ 5.66      ┆ 0.49      ┆ 0.71     │\n",
       "│ 999940    ┆ 1.53      ┆ 7.6       ┆ 9         ┆ … ┆ 4.6       ┆ 6.36      ┆ 4.38      ┆ 1.27     │\n",
       "│ 999956    ┆ 0.37      ┆ 2.95      ┆ 3.3       ┆ … ┆ 1.1       ┆ 0.28      ┆ 2.33      ┆ 1.84     │\n",
       "│ 999971    ┆ -0.87     ┆ 0.76      ┆ 0         ┆ … ┆ -2.6      ┆ 0         ┆ 0.85      ┆ 0.99     │\n",
       "└───────────┴───────────┴───────────┴───────────┴───┴───────────┴───────────┴───────────┴──────────┘"
      ]
     },
     "execution_count": 14,
     "metadata": {},
     "output_type": "execute_result"
    }
   ],
   "source": [
    "trend_features"
   ]
  },
  {
   "cell_type": "code",
   "execution_count": 15,
   "id": "cd461e3b",
   "metadata": {},
   "outputs": [],
   "source": [
    "usage_features = aggregated_features.join(\n",
    "    trend_features, \n",
    "    on='rating_account_id', \n",
    "    how='left'\n",
    ").join(\n",
    "    month_usage,\n",
    "    on='rating_account_id',\n",
    "    how='left'\n",
    ")"
   ]
  },
  {
   "cell_type": "code",
   "execution_count": 16,
   "id": "59272474",
   "metadata": {},
   "outputs": [
    {
     "data": {
      "text/html": [
       "<div><style>\n",
       ".dataframe > thead > tr,\n",
       ".dataframe > tbody > tr {\n",
       "  text-align: right;\n",
       "  white-space: pre-wrap;\n",
       "}\n",
       "</style>\n",
       "<small>shape: (100_000, 52)</small><table border=\"1\" class=\"dataframe\"><thead><tr><th>rating_account_id</th><th>avg_monthly_usage_gb</th><th>median_monthly_usage_gb</th><th>total_usage_gb</th><th>usage_std_gb</th><th>min_monthly_usage_gb</th><th>max_monthly_usage_gb</th><th>usage_q25_gb</th><th>usage_q75_gb</th><th>months_with_roaming</th><th>ever_used_roaming</th><th>always_used_roaming</th><th>zero_usage_months</th><th>active_usage_months</th><th>avg_delta_1mo</th><th>delta_1mo_volatility</th><th>max_delta_1mo_increase</th><th>max_delta_1mo_decrease</th><th>months_with_delta_1mo_increase</th><th>months_with_delta_1mo_decrease</th><th>months_with_no_delta_1mo_change</th><th>avg_delta_2mo</th><th>delta_2mo_volatility</th><th>max_delta_2mo_increase</th><th>max_delta_2mo_decrease</th><th>months_with_delta_2mo_increase</th><th>months_with_delta_2mo_decrease</th><th>months_with_no_delta_2mo_change</th><th>avg_delta_3mo</th><th>max_delta_3mo_increase</th><th>max_delta_3mo_decrease</th><th>months_with_delta_3mo_increase</th><th>months_with_delta_3mo_decrease</th><th>months_with_no_delta_3mo_change</th><th>last_1_2mo_rolling_avg</th><th>last_2_2mo_rolling_avg</th><th>last_3_2mo_rolling_avg</th><th>last_1_3mo_rolling_avg</th><th>last_2_3mo_rolling_avg</th><th>last_1_delta_1mo</th><th>last_2_delta_1mo</th><th>last_3_delta_1mo</th><th>last_1_delta_2mo</th><th>last_2_delta_2mo</th><th>last_1_delta_3mo</th><th>last_1_2mo_rolling_stdev</th><th>last_2_2mo_rolling_stdev</th><th>last_3_2mo_rolling_stdev</th><th>last_1_month_usage_gb</th><th>last_2_month_usage_gb</th><th>last_3_month_usage_gb</th><th>last_4_month_usage_gb</th></tr><tr><td>str</td><td>f64</td><td>f64</td><td>f64</td><td>f64</td><td>f64</td><td>f64</td><td>f64</td><td>f64</td><td>u32</td><td>bool</td><td>bool</td><td>u32</td><td>u32</td><td>f64</td><td>f64</td><td>f64</td><td>f64</td><td>u32</td><td>u32</td><td>u32</td><td>f64</td><td>f64</td><td>f64</td><td>f64</td><td>u32</td><td>u32</td><td>u32</td><td>f64</td><td>f64</td><td>f64</td><td>u32</td><td>u32</td><td>u32</td><td>f64</td><td>f64</td><td>f64</td><td>f64</td><td>f64</td><td>f64</td><td>f64</td><td>f64</td><td>f64</td><td>f64</td><td>f64</td><td>f64</td><td>f64</td><td>f64</td><td>f64</td><td>f64</td><td>f64</td><td>f64</td></tr></thead><tbody><tr><td>&quot;100010&quot;</td><td>0.75</td><td>0.85</td><td>3</td><td>0.24</td><td>0.4</td><td>0.9</td><td>0.8</td><td>0.9</td><td>0</td><td>false</td><td>false</td><td>0</td><td>4</td><td>0</td><td>0.46</td><td>0.5</td><td>-0.4</td><td>1</td><td>2</td><td>0</td><td>-0.2</td><td>0.42</td><td>0.1</td><td>-0.5</td><td>1</td><td>1</td><td>0</td><td>0</td><td>0</td><td>0</td><td>0</td><td>0</td><td>1</td><td>0.65</td><td>0.6</td><td>0.85</td><td>0.7</td><td>0.7</td><td>0.5</td><td>-0.4</td><td>-0.1</td><td>0.1</td><td>-0.5</td><td>0</td><td>0.35</td><td>0.28</td><td>0.07</td><td>0.9</td><td>0.8</td><td>0.4</td><td>0.9</td></tr><tr><td>&quot;100017&quot;</td><td>0.57</td><td>0.6</td><td>2.3</td><td>0.22</td><td>0.3</td><td>0.8</td><td>0.5</td><td>0.7</td><td>2</td><td>true</td><td>false</td><td>0</td><td>4</td><td>-0.13</td><td>0.4</td><td>0.3</td><td>-0.5</td><td>1</td><td>2</td><td>0</td><td>-0.05</td><td>0.21</td><td>0.1</td><td>-0.2</td><td>1</td><td>1</td><td>0</td><td>-0.4</td><td>-0.4</td><td>-0.4</td><td>0</td><td>1</td><td>0</td><td>0.55</td><td>0.65</td><td>0.6</td><td>0.53</td><td>0.67</td><td>-0.5</td><td>0.3</td><td>-0.2</td><td>-0.2</td><td>0.1</td><td>-0.4</td><td>0.35</td><td>0.21</td><td>0.14</td><td>0.7</td><td>0.5</td><td>0.8</td><td>0.3</td></tr><tr><td>&quot;100036&quot;</td><td>0.57</td><td>0.55</td><td>2.3</td><td>0.43</td><td>0.2</td><td>1</td><td>0.2</td><td>0.9</td><td>1</td><td>true</td><td>false</td><td>0</td><td>4</td><td>0.03</td><td>0.75</td><td>0.8</td><td>-0.7</td><td>1</td><td>1</td><td>1</td><td>0.05</td><td>1.06</td><td>0.8</td><td>-0.7</td><td>1</td><td>1</td><td>0</td><td>0.1</td><td>0.1</td><td>0.1</td><td>1</td><td>0</td><td>0</td><td>0.6</td><td>0.2</td><td>0.55</td><td>0.47</td><td>0.43</td><td>0.8</td><td>0</td><td>-0.7</td><td>0.8</td><td>-0.7</td><td>0.1</td><td>0.57</td><td>0</td><td>0.49</td><td>0.9</td><td>0.2</td><td>0.2</td><td>1</td></tr><tr><td>&quot;100047&quot;</td><td>42.65</td><td>42.25</td><td>170.6</td><td>8.29</td><td>35.4</td><td>50.7</td><td>35.6</td><td>48.9</td><td>0</td><td>false</td><td>false</td><td>0</td><td>4</td><td>5.03</td><td>16.08</td><td>15.3</td><td>-13.5</td><td>2</td><td>1</td><td>0</td><td>0.8</td><td>1.41</td><td>1.8</td><td>-0.2</td><td>1</td><td>1</td><td>0</td><td>15.1</td><td>15.1</td><td>15.1</td><td>1</td><td>0</td><td>0</td><td>43.05</td><td>42.15</td><td>42.25</td><td>45</td><td>39.97</td><td>15.3</td><td>-13.5</td><td>13.3</td><td>1.8</td><td>-0.2</td><td>15.1</td><td>10.82</td><td>9.55</td><td>9.4</td><td>35.6</td><td>48.9</td><td>35.4</td><td>50.7</td></tr><tr><td>&quot;100064&quot;</td><td>0.62</td><td>0.7</td><td>2.5</td><td>0.22</td><td>0.3</td><td>0.8</td><td>0.7</td><td>0.7</td><td>1</td><td>true</td><td>false</td><td>0</td><td>4</td><td>0.03</td><td>0.45</td><td>0.5</td><td>-0.4</td><td>1</td><td>1</td><td>1</td><td>-0.15</td><td>0.35</td><td>0.1</td><td>-0.4</td><td>1</td><td>1</td><td>0</td><td>0.1</td><td>0.1</td><td>0.1</td><td>1</td><td>0</td><td>0</td><td>0.55</td><td>0.5</td><td>0.7</td><td>0.6</td><td>0.57</td><td>0.5</td><td>-0.4</td><td>0</td><td>0.1</td><td>-0.4</td><td>0.1</td><td>0.35</td><td>0.28</td><td>0</td><td>0.7</td><td>0.7</td><td>0.3</td><td>0.8</td></tr><tr><td>&hellip;</td><td>&hellip;</td><td>&hellip;</td><td>&hellip;</td><td>&hellip;</td><td>&hellip;</td><td>&hellip;</td><td>&hellip;</td><td>&hellip;</td><td>&hellip;</td><td>&hellip;</td><td>&hellip;</td><td>&hellip;</td><td>&hellip;</td><td>&hellip;</td><td>&hellip;</td><td>&hellip;</td><td>&hellip;</td><td>&hellip;</td><td>&hellip;</td><td>&hellip;</td><td>&hellip;</td><td>&hellip;</td><td>&hellip;</td><td>&hellip;</td><td>&hellip;</td><td>&hellip;</td><td>&hellip;</td><td>&hellip;</td><td>&hellip;</td><td>&hellip;</td><td>&hellip;</td><td>&hellip;</td><td>&hellip;</td><td>&hellip;</td><td>&hellip;</td><td>&hellip;</td><td>&hellip;</td><td>&hellip;</td><td>&hellip;</td><td>&hellip;</td><td>&hellip;</td><td>&hellip;</td><td>&hellip;</td><td>&hellip;</td><td>&hellip;</td><td>&hellip;</td><td>&hellip;</td><td>&hellip;</td><td>&hellip;</td><td>&hellip;</td><td>&hellip;</td></tr><tr><td>&quot;999922&quot;</td><td>2.35</td><td>2.2</td><td>9.4</td><td>0.92</td><td>1.4</td><td>3.6</td><td>2.1</td><td>2.3</td><td>0</td><td>false</td><td>false</td><td>0</td><td>4</td><td>-0.07</td><td>1.99</td><td>2.2</td><td>-1.5</td><td>1</td><td>2</td><td>0</td><td>1</td><td>0.42</td><td>1.3</td><td>0.7</td><td>2</td><td>0</td><td>0</td><td>-0.2</td><td>-0.2</td><td>-0.2</td><td>0</td><td>1</td><td>0</td><td>2.85</td><td>2.5</td><td>1.85</td><td>2.37</td><td>2.43</td><td>-1.5</td><td>2.2</td><td>-0.9</td><td>0.7</td><td>1.3</td><td>-0.2</td><td>1.06</td><td>1.56</td><td>0.64</td><td>2.3</td><td>1.4</td><td>3.6</td><td>2.1</td></tr><tr><td>&quot;999934&quot;</td><td>11.9</td><td>13.3</td><td>47.6</td><td>3.67</td><td>6.5</td><td>14.5</td><td>12.8</td><td>13.8</td><td>3</td><td>true</td><td>false</td><td>0</td><td>4</td><td>-2.1</td><td>5.11</td><td>1</td><td>-8</td><td>2</td><td>1</td><td>0</td><td>-2.8</td><td>6.36</td><td>1.7</td><td>-7.3</td><td>1</td><td>1</td><td>0</td><td>-6.3</td><td>-6.3</td><td>-6.3</td><td>0</td><td>1</td><td>0</td><td>10.5</td><td>14.15</td><td>13.3</td><td>11.6</td><td>13.7</td><td>-8</td><td>0.7</td><td>1</td><td>-7.3</td><td>1.7</td><td>-6.3</td><td>5.66</td><td>0.49</td><td>0.71</td><td>12.8</td><td>13.8</td><td>14.5</td><td>6.5</td></tr><tr><td>&quot;999940&quot;</td><td>10.3</td><td>10.7</td><td>41.2</td><td>3.78</td><td>5.4</td><td>14.4</td><td>9.8</td><td>11.6</td><td>1</td><td>true</td><td>false</td><td>0</td><td>4</td><td>1.53</td><td>7.6</td><td>9</td><td>-6.2</td><td>2</td><td>1</td><td>0</td><td>-0.8</td><td>5.09</td><td>2.8</td><td>-4.4</td><td>1</td><td>1</td><td>0</td><td>4.6</td><td>4.6</td><td>4.6</td><td>1</td><td>0</td><td>0</td><td>9.9</td><td>8.5</td><td>10.7</td><td>10.47</td><td>8.93</td><td>9</td><td>-6.2</td><td>1.8</td><td>2.8</td><td>-4.4</td><td>4.6</td><td>6.36</td><td>4.38</td><td>1.27</td><td>9.8</td><td>11.6</td><td>5.4</td><td>14.4</td></tr><tr><td>&quot;999956&quot;</td><td>12.8</td><td>13.35</td><td>51.2</td><td>1.66</td><td>10.4</td><td>14.1</td><td>13</td><td>13.7</td><td>0</td><td>false</td><td>false</td><td>0</td><td>4</td><td>0.37</td><td>2.95</td><td>3.3</td><td>-2.6</td><td>2</td><td>1</td><td>0</td><td>2.2</td><td>2.12</td><td>3.7</td><td>0.7</td><td>2</td><td>0</td><td>0</td><td>1.1</td><td>1.1</td><td>1.1</td><td>1</td><td>0</td><td>0</td><td>13.9</td><td>12.05</td><td>11.7</td><td>12.73</td><td>12.37</td><td>0.4</td><td>3.3</td><td>-2.6</td><td>3.7</td><td>0.7</td><td>1.1</td><td>0.28</td><td>2.33</td><td>1.84</td><td>13</td><td>10.4</td><td>13.7</td><td>14.1</td></tr><tr><td>&quot;999971&quot;</td><td>2.05</td><td>1.7</td><td>8.2</td><td>1.24</td><td>1.1</td><td>3.7</td><td>1.1</td><td>2.3</td><td>2</td><td>true</td><td>false</td><td>0</td><td>4</td><td>-0.87</td><td>0.76</td><td>0</td><td>-1.4</td><td>0</td><td>2</td><td>1</td><td>-1.9</td><td>0.99</td><td>-1.2</td><td>-2.6</td><td>0</td><td>2</td><td>0</td><td>-2.6</td><td>-2.6</td><td>-2.6</td><td>0</td><td>1</td><td>0</td><td>1.1</td><td>1.7</td><td>3</td><td>1.5</td><td>2.37</td><td>0</td><td>-1.2</td><td>-1.4</td><td>-1.2</td><td>-2.6</td><td>-2.6</td><td>0</td><td>0.85</td><td>0.99</td><td>3.7</td><td>2.3</td><td>1.1</td><td>1.1</td></tr></tbody></table></div>"
      ],
      "text/plain": [
       "shape: (100_000, 52)\n",
       "┌───────────┬───────────┬───────────┬───────────┬───┬───────────┬───────────┬───────────┬──────────┐\n",
       "│ rating_ac ┆ avg_month ┆ median_mo ┆ total_usa ┆ … ┆ last_1_mo ┆ last_2_mo ┆ last_3_mo ┆ last_4_m │\n",
       "│ count_id  ┆ ly_usage_ ┆ nthly_usa ┆ ge_gb     ┆   ┆ nth_usage ┆ nth_usage ┆ nth_usage ┆ onth_usa │\n",
       "│ ---       ┆ gb        ┆ ge_gb     ┆ ---       ┆   ┆ _gb       ┆ _gb       ┆ _gb       ┆ ge_gb    │\n",
       "│ str       ┆ ---       ┆ ---       ┆ f64       ┆   ┆ ---       ┆ ---       ┆ ---       ┆ ---      │\n",
       "│           ┆ f64       ┆ f64       ┆           ┆   ┆ f64       ┆ f64       ┆ f64       ┆ f64      │\n",
       "╞═══════════╪═══════════╪═══════════╪═══════════╪═══╪═══════════╪═══════════╪═══════════╪══════════╡\n",
       "│ 100010    ┆ 0.75      ┆ 0.85      ┆ 3         ┆ … ┆ 0.9       ┆ 0.8       ┆ 0.4       ┆ 0.9      │\n",
       "│ 100017    ┆ 0.57      ┆ 0.6       ┆ 2.3       ┆ … ┆ 0.7       ┆ 0.5       ┆ 0.8       ┆ 0.3      │\n",
       "│ 100036    ┆ 0.57      ┆ 0.55      ┆ 2.3       ┆ … ┆ 0.9       ┆ 0.2       ┆ 0.2       ┆ 1        │\n",
       "│ 100047    ┆ 42.65     ┆ 42.25     ┆ 170.6     ┆ … ┆ 35.6      ┆ 48.9      ┆ 35.4      ┆ 50.7     │\n",
       "│ 100064    ┆ 0.62      ┆ 0.7       ┆ 2.5       ┆ … ┆ 0.7       ┆ 0.7       ┆ 0.3       ┆ 0.8      │\n",
       "│ …         ┆ …         ┆ …         ┆ …         ┆ … ┆ …         ┆ …         ┆ …         ┆ …        │\n",
       "│ 999922    ┆ 2.35      ┆ 2.2       ┆ 9.4       ┆ … ┆ 2.3       ┆ 1.4       ┆ 3.6       ┆ 2.1      │\n",
       "│ 999934    ┆ 11.9      ┆ 13.3      ┆ 47.6      ┆ … ┆ 12.8      ┆ 13.8      ┆ 14.5      ┆ 6.5      │\n",
       "│ 999940    ┆ 10.3      ┆ 10.7      ┆ 41.2      ┆ … ┆ 9.8       ┆ 11.6      ┆ 5.4       ┆ 14.4     │\n",
       "│ 999956    ┆ 12.8      ┆ 13.35     ┆ 51.2      ┆ … ┆ 13        ┆ 10.4      ┆ 13.7      ┆ 14.1     │\n",
       "│ 999971    ┆ 2.05      ┆ 1.7       ┆ 8.2       ┆ … ┆ 3.7       ┆ 2.3       ┆ 1.1       ┆ 1.1      │\n",
       "└───────────┴───────────┴───────────┴───────────┴───┴───────────┴───────────┴───────────┴──────────┘"
      ]
     },
     "execution_count": 16,
     "metadata": {},
     "output_type": "execute_result"
    }
   ],
   "source": [
    "usage_features"
   ]
  },
  {
   "cell_type": "code",
   "execution_count": 17,
   "id": "e265851b",
   "metadata": {},
   "outputs": [
    {
     "data": {
      "text/plain": [
       "(100000, 52)"
      ]
     },
     "execution_count": 17,
     "metadata": {},
     "output_type": "execute_result"
    }
   ],
   "source": [
    "usage_features.shape"
   ]
  },
  {
   "cell_type": "markdown",
   "id": "61c38a0b",
   "metadata": {},
   "source": [
    "---"
   ]
  },
  {
   "cell_type": "markdown",
   "id": "0a9036d5",
   "metadata": {},
   "source": [
    "## `customer_interactions`"
   ]
  },
  {
   "cell_type": "code",
   "execution_count": 18,
   "id": "e9ca2ec6",
   "metadata": {},
   "outputs": [
    {
     "name": "stdout",
     "output_type": "stream",
     "text": [
      "CPU times: user 13.5 ms, sys: 11 ms, total: 24.5 ms\n",
      "Wall time: 11.1 ms\n"
     ]
    }
   ],
   "source": [
    "%%time\n",
    "\n",
    "interactions_features = customer_interactions.pivot(\n",
    "    index='customer_id',\n",
    "    on='type_subtype', \n",
    "    values=['n', 'days_since_last'],\n",
    "    aggregate_function='first' # There is only one value per customer\n",
    ")"
   ]
  },
  {
   "cell_type": "code",
   "execution_count": 19,
   "id": "12d4ed48",
   "metadata": {},
   "outputs": [
    {
     "data": {
      "text/plain": [
       "(42095, 9)"
      ]
     },
     "execution_count": 19,
     "metadata": {},
     "output_type": "execute_result"
    }
   ],
   "source": [
    "interactions_features.shape"
   ]
  },
  {
   "cell_type": "markdown",
   "id": "6ec71704",
   "metadata": {},
   "source": [
    "---"
   ]
  },
  {
   "cell_type": "markdown",
   "id": "5c7a977d",
   "metadata": {},
   "source": [
    "## `combined_features`"
   ]
  },
  {
   "cell_type": "code",
   "execution_count": 20,
   "id": "53c090e1",
   "metadata": {},
   "outputs": [],
   "source": [
    "features = core_data.join(\n",
    "    usage_features,\n",
    "    on='rating_account_id',\n",
    "    how='left'\n",
    ").join(\n",
    "    interactions_features,\n",
    "    on='customer_id',\n",
    "    how='left'\n",
    ")"
   ]
  },
  {
   "cell_type": "code",
   "execution_count": 21,
   "id": "e11dada6",
   "metadata": {},
   "outputs": [
    {
     "data": {
      "text/html": [
       "<div><style>\n",
       ".dataframe > thead > tr,\n",
       ".dataframe > tbody > tr {\n",
       "  text-align: right;\n",
       "  white-space: pre-wrap;\n",
       "}\n",
       "</style>\n",
       "<small>shape: (5, 78)</small><table border=\"1\" class=\"dataframe\"><thead><tr><th>rating_account_id</th><th>customer_id</th><th>age</th><th>contract_lifetime_days</th><th>remaining_binding_days</th><th>has_special_offer</th><th>is_magenta1_customer</th><th>available_gb</th><th>gross_mrc</th><th>has_done_upselling</th><th>contract_binding_days</th><th>completion_rate</th><th>is_bounded</th><th>is_huawei</th><th>is_oneplus</th><th>is_samsung</th><th>is_xiaomi</th><th>is_iphone</th><th>n_contracts_per_customer</th><th>avg_monthly_usage_gb</th><th>median_monthly_usage_gb</th><th>total_usage_gb</th><th>usage_std_gb</th><th>min_monthly_usage_gb</th><th>max_monthly_usage_gb</th><th>usage_q25_gb</th><th>usage_q75_gb</th><th>months_with_roaming</th><th>ever_used_roaming</th><th>always_used_roaming</th><th>zero_usage_months</th><th>active_usage_months</th><th>avg_delta_1mo</th><th>delta_1mo_volatility</th><th>max_delta_1mo_increase</th><th>max_delta_1mo_decrease</th><th>months_with_delta_1mo_increase</th><th>&hellip;</th><th>max_delta_2mo_increase</th><th>max_delta_2mo_decrease</th><th>months_with_delta_2mo_increase</th><th>months_with_delta_2mo_decrease</th><th>months_with_no_delta_2mo_change</th><th>avg_delta_3mo</th><th>max_delta_3mo_increase</th><th>max_delta_3mo_decrease</th><th>months_with_delta_3mo_increase</th><th>months_with_delta_3mo_decrease</th><th>months_with_no_delta_3mo_change</th><th>last_1_2mo_rolling_avg</th><th>last_2_2mo_rolling_avg</th><th>last_3_2mo_rolling_avg</th><th>last_1_3mo_rolling_avg</th><th>last_2_3mo_rolling_avg</th><th>last_1_delta_1mo</th><th>last_2_delta_1mo</th><th>last_3_delta_1mo</th><th>last_1_delta_2mo</th><th>last_2_delta_2mo</th><th>last_1_delta_3mo</th><th>last_1_2mo_rolling_stdev</th><th>last_2_2mo_rolling_stdev</th><th>last_3_2mo_rolling_stdev</th><th>last_1_month_usage_gb</th><th>last_2_month_usage_gb</th><th>last_3_month_usage_gb</th><th>last_4_month_usage_gb</th><th>n_rechnungsanfragen</th><th>n_produkte&amp;services-tarifdetails</th><th>n_prolongation</th><th>n_produkte&amp;services-tarifwechsel</th><th>days_since_last_rechnungsanfragen</th><th>days_since_last_produkte&amp;services-tarifdetails</th><th>days_since_last_prolongation</th><th>days_since_last_produkte&amp;services-tarifwechsel</th></tr><tr><td>str</td><td>str</td><td>i64</td><td>i64</td><td>i64</td><td>bool</td><td>bool</td><td>i64</td><td>f64</td><td>bool</td><td>i64</td><td>f64</td><td>bool</td><td>bool</td><td>bool</td><td>bool</td><td>bool</td><td>bool</td><td>u32</td><td>f64</td><td>f64</td><td>f64</td><td>f64</td><td>f64</td><td>f64</td><td>f64</td><td>f64</td><td>u32</td><td>bool</td><td>bool</td><td>u32</td><td>u32</td><td>f64</td><td>f64</td><td>f64</td><td>f64</td><td>u32</td><td>&hellip;</td><td>f64</td><td>f64</td><td>u32</td><td>u32</td><td>u32</td><td>f64</td><td>f64</td><td>f64</td><td>u32</td><td>u32</td><td>u32</td><td>f64</td><td>f64</td><td>f64</td><td>f64</td><td>f64</td><td>f64</td><td>f64</td><td>f64</td><td>f64</td><td>f64</td><td>f64</td><td>f64</td><td>f64</td><td>f64</td><td>f64</td><td>f64</td><td>f64</td><td>f64</td><td>i64</td><td>i64</td><td>i64</td><td>i64</td><td>i64</td><td>i64</td><td>i64</td><td>i64</td></tr></thead><tbody><tr><td>&quot;289094&quot;</td><td>&quot;4.161115&quot;</td><td>36</td><td>878</td><td>325</td><td>false</td><td>false</td><td>20</td><td>70</td><td>false</td><td>1203</td><td>0.73</td><td>true</td><td>false</td><td>false</td><td>false</td><td>false</td><td>true</td><td>1</td><td>0.28</td><td>0.15</td><td>1.1</td><td>0.36</td><td>0</td><td>0.8</td><td>0.1</td><td>0.2</td><td>1</td><td>true</td><td>false</td><td>1</td><td>3</td><td>-0.27</td><td>0.29</td><td>-0.1</td><td>-0.6</td><td>0</td><td>&hellip;</td><td>-0.2</td><td>-0.7</td><td>0</td><td>2</td><td>0</td><td>-0.8</td><td>-0.8</td><td>-0.8</td><td>0</td><td>1</td><td>0</td><td>0.05</td><td>0.15</td><td>0.5</td><td>0.1</td><td>0.37</td><td>-0.1</td><td>-0.1</td><td>-0.6</td><td>-0.2</td><td>-0.7</td><td>-0.8</td><td>0.07</td><td>0.07</td><td>0.42</td><td>0.8</td><td>0.2</td><td>0.1</td><td>0</td><td>null</td><td>null</td><td>null</td><td>null</td><td>null</td><td>null</td><td>null</td><td>null</td></tr><tr><td>&quot;677626&quot;</td><td>&quot;2.429976&quot;</td><td>34</td><td>998</td><td>614</td><td>false</td><td>false</td><td>0</td><td>5</td><td>false</td><td>1612</td><td>0.62</td><td>true</td><td>false</td><td>false</td><td>true</td><td>false</td><td>false</td><td>1</td><td>0.65</td><td>0.65</td><td>2.6</td><td>0.31</td><td>0.3</td><td>1</td><td>0.5</td><td>0.8</td><td>1</td><td>true</td><td>false</td><td>0</td><td>4</td><td>0.07</td><td>0.55</td><td>0.7</td><td>-0.3</td><td>1</td><td>&hellip;</td><td>0.5</td><td>-0.5</td><td>1</td><td>1</td><td>0</td><td>0.2</td><td>0.2</td><td>0.2</td><td>1</td><td>0</td><td>0</td><td>0.65</td><td>0.4</td><td>0.65</td><td>0.6</td><td>0.53</td><td>0.7</td><td>-0.2</td><td>-0.3</td><td>0.5</td><td>-0.5</td><td>0.2</td><td>0.49</td><td>0.14</td><td>0.21</td><td>0.8</td><td>0.5</td><td>0.3</td><td>1</td><td>null</td><td>null</td><td>1</td><td>1</td><td>null</td><td>null</td><td>87</td><td>118</td></tr><tr><td>&quot;769928&quot;</td><td>&quot;3.875044&quot;</td><td>36</td><td>37</td><td>-26</td><td>false</td><td>true</td><td>50</td><td>16.94</td><td>false</td><td>11</td><td>3.36</td><td>false</td><td>false</td><td>false</td><td>true</td><td>false</td><td>false</td><td>2</td><td>0.6</td><td>0.55</td><td>2.4</td><td>0.32</td><td>0.3</td><td>1</td><td>0.4</td><td>0.7</td><td>0</td><td>false</td><td>false</td><td>0</td><td>4</td><td>-0.2</td><td>0.56</td><td>0.4</td><td>-0.7</td><td>1</td><td>&hellip;</td><td>0.1</td><td>-0.3</td><td>1</td><td>1</td><td>0</td><td>-0.6</td><td>-0.6</td><td>-0.6</td><td>0</td><td>1</td><td>0</td><td>0.55</td><td>0.5</td><td>0.65</td><td>0.47</td><td>0.67</td><td>-0.3</td><td>0.4</td><td>-0.7</td><td>0.1</td><td>-0.3</td><td>-0.6</td><td>0.21</td><td>0.28</td><td>0.49</td><td>1</td><td>0.3</td><td>0.7</td><td>0.4</td><td>null</td><td>null</td><td>null</td><td>null</td><td>null</td><td>null</td><td>null</td><td>null</td></tr><tr><td>&quot;873260&quot;</td><td>&quot;4.649933&quot;</td><td>50</td><td>503</td><td>-149</td><td>false</td><td>true</td><td>20</td><td>30.2</td><td>true</td><td>354</td><td>1.42</td><td>false</td><td>false</td><td>false</td><td>false</td><td>false</td><td>true</td><td>1</td><td>0.38</td><td>0.25</td><td>1.5</td><td>0.36</td><td>0.1</td><td>0.9</td><td>0.2</td><td>0.3</td><td>0</td><td>false</td><td>false</td><td>0</td><td>4</td><td>0.03</td><td>0.67</td><td>0.6</td><td>-0.7</td><td>2</td><td>&hellip;</td><td>0.8</td><td>-0.1</td><td>1</td><td>1</td><td>0</td><td>0.1</td><td>0.1</td><td>0.1</td><td>1</td><td>0</td><td>0</td><td>0.55</td><td>0.6</td><td>0.2</td><td>0.47</td><td>0.43</td><td>-0.7</td><td>0.6</td><td>0.2</td><td>-0.1</td><td>0.8</td><td>0.1</td><td>0.49</td><td>0.42</td><td>0.14</td><td>0.1</td><td>0.3</td><td>0.9</td><td>0.2</td><td>null</td><td>null</td><td>null</td><td>null</td><td>null</td><td>null</td><td>null</td><td>null</td></tr><tr><td>&quot;109774&quot;</td><td>&quot;3.851059&quot;</td><td>47</td><td>331</td><td>-328</td><td>true</td><td>true</td><td>null</td><td>46.12</td><td>false</td><td>3</td><td>110.33</td><td>false</td><td>false</td><td>false</td><td>true</td><td>false</td><td>false</td><td>3</td><td>0.35</td><td>0.35</td><td>1.4</td><td>0.29</td><td>0.1</td><td>0.6</td><td>0.1</td><td>0.6</td><td>1</td><td>true</td><td>false</td><td>0</td><td>4</td><td>0</td><td>0.5</td><td>0.5</td><td>-0.5</td><td>1</td><td>&hellip;</td><td>0.5</td><td>-0.5</td><td>1</td><td>1</td><td>0</td><td>0</td><td>0</td><td>0</td><td>0</td><td>0</td><td>1</td><td>0.35</td><td>0.1</td><td>0.35</td><td>0.27</td><td>0.27</td><td>0.5</td><td>0</td><td>-0.5</td><td>0.5</td><td>-0.5</td><td>0</td><td>0.35</td><td>0</td><td>0.35</td><td>0.6</td><td>0.1</td><td>0.1</td><td>0.6</td><td>null</td><td>null</td><td>null</td><td>null</td><td>null</td><td>null</td><td>null</td><td>null</td></tr></tbody></table></div>"
      ],
      "text/plain": [
       "shape: (5, 78)\n",
       "┌────────────┬────────────┬─────┬────────────┬───┬────────────┬────────────┬───────────┬───────────┐\n",
       "│ rating_acc ┆ customer_i ┆ age ┆ contract_l ┆ … ┆ days_since ┆ days_since ┆ days_sinc ┆ days_sinc │\n",
       "│ ount_id    ┆ d          ┆ --- ┆ ifetime_da ┆   ┆ _last_rech ┆ _last_prod ┆ e_last_pr ┆ e_last_pr │\n",
       "│ ---        ┆ ---        ┆ i64 ┆ ys         ┆   ┆ nungsanfra ┆ ukte&servi ┆ olongatio ┆ odukte&se │\n",
       "│ str        ┆ str        ┆     ┆ ---        ┆   ┆ gen        ┆ ces-tarifd ┆ n         ┆ rvices-ta │\n",
       "│            ┆            ┆     ┆ i64        ┆   ┆ ---        ┆ etails     ┆ ---       ┆ rifwechse │\n",
       "│            ┆            ┆     ┆            ┆   ┆ i64        ┆ ---        ┆ i64       ┆ l         │\n",
       "│            ┆            ┆     ┆            ┆   ┆            ┆ i64        ┆           ┆ ---       │\n",
       "│            ┆            ┆     ┆            ┆   ┆            ┆            ┆           ┆ i64       │\n",
       "╞════════════╪════════════╪═════╪════════════╪═══╪════════════╪════════════╪═══════════╪═══════════╡\n",
       "│ 289094     ┆ 4.161115   ┆ 36  ┆ 878        ┆ … ┆ null       ┆ null       ┆ null      ┆ null      │\n",
       "│ 677626     ┆ 2.429976   ┆ 34  ┆ 998        ┆ … ┆ null       ┆ null       ┆ 87        ┆ 118       │\n",
       "│ 769928     ┆ 3.875044   ┆ 36  ┆ 37         ┆ … ┆ null       ┆ null       ┆ null      ┆ null      │\n",
       "│ 873260     ┆ 4.649933   ┆ 50  ┆ 503        ┆ … ┆ null       ┆ null       ┆ null      ┆ null      │\n",
       "│ 109774     ┆ 3.851059   ┆ 47  ┆ 331        ┆ … ┆ null       ┆ null       ┆ null      ┆ null      │\n",
       "└────────────┴────────────┴─────┴────────────┴───┴────────────┴────────────┴───────────┴───────────┘"
      ]
     },
     "execution_count": 21,
     "metadata": {},
     "output_type": "execute_result"
    }
   ],
   "source": [
    "features.head()"
   ]
  },
  {
   "cell_type": "code",
   "execution_count": 22,
   "id": "fa21103c",
   "metadata": {},
   "outputs": [
    {
     "name": "stdout",
     "output_type": "stream",
     "text": [
      "CPU times: user 1.29 ms, sys: 2.27 ms, total: 3.55 ms\n",
      "Wall time: 1.15 ms\n"
     ]
    }
   ],
   "source": [
    "%%time\n",
    "\n",
    "# Filling null values from intereactions features\n",
    "features = features.with_columns([\n",
    "    pl.when(pl.col(col).is_null())\n",
    "    .then(0)\n",
    "    .otherwise(pl.col(col))\n",
    "    .alias(col)\n",
    "    for col in features.columns if col.startswith('n_')\n",
    "] + [\n",
    "    pl.when(pl.col(col).is_null())\n",
    "    .then(-1)\n",
    "    .otherwise(pl.col(col))\n",
    "    .alias(col)\n",
    "    for col in features.columns if col.startswith('days_since_last')\n",
    "])"
   ]
  },
  {
   "cell_type": "markdown",
   "id": "85d61e28",
   "metadata": {},
   "source": [
    "### Dealing with null values in `available_gb`"
   ]
  },
  {
   "cell_type": "code",
   "execution_count": 23,
   "id": "1dc62e05",
   "metadata": {},
   "outputs": [
    {
     "data": {
      "text/html": [
       "<div><style>\n",
       ".dataframe > thead > tr,\n",
       ".dataframe > tbody > tr {\n",
       "  text-align: right;\n",
       "  white-space: pre-wrap;\n",
       "}\n",
       "</style>\n",
       "<small>shape: (14_148, 6)</small><table border=\"1\" class=\"dataframe\"><thead><tr><th>rating_account_id</th><th>available_gb</th><th>last_1_month_usage_gb</th><th>last_2_month_usage_gb</th><th>last_3_month_usage_gb</th><th>last_4_month_usage_gb</th></tr><tr><td>str</td><td>i64</td><td>f64</td><td>f64</td><td>f64</td><td>f64</td></tr></thead><tbody><tr><td>&quot;109774&quot;</td><td>null</td><td>0.6</td><td>0.1</td><td>0.1</td><td>0.6</td></tr><tr><td>&quot;781755&quot;</td><td>null</td><td>0.6</td><td>0.8</td><td>0.3</td><td>0</td></tr><tr><td>&quot;827238&quot;</td><td>null</td><td>0</td><td>0.7</td><td>0.9</td><td>0.1</td></tr><tr><td>&quot;330581&quot;</td><td>null</td><td>0</td><td>0.2</td><td>0.2</td><td>0.9</td></tr><tr><td>&quot;416121&quot;</td><td>null</td><td>0.8</td><td>0.8</td><td>0.3</td><td>0.5</td></tr><tr><td>&hellip;</td><td>&hellip;</td><td>&hellip;</td><td>&hellip;</td><td>&hellip;</td><td>&hellip;</td></tr><tr><td>&quot;662172&quot;</td><td>null</td><td>54.7</td><td>62.5</td><td>24.7</td><td>37.4</td></tr><tr><td>&quot;556788&quot;</td><td>null</td><td>19.6</td><td>32.6</td><td>31</td><td>65.2</td></tr><tr><td>&quot;283647&quot;</td><td>null</td><td>51.3</td><td>18.1</td><td>53.3</td><td>39.2</td></tr><tr><td>&quot;581854&quot;</td><td>null</td><td>49.5</td><td>21.5</td><td>27.7</td><td>18.6</td></tr><tr><td>&quot;727874&quot;</td><td>null</td><td>39.7</td><td>20.8</td><td>16.7</td><td>55.4</td></tr></tbody></table></div>"
      ],
      "text/plain": [
       "shape: (14_148, 6)\n",
       "┌────────────────┬──────────────┬────────────────┬────────────────┬────────────────┬───────────────┐\n",
       "│ rating_account ┆ available_gb ┆ last_1_month_u ┆ last_2_month_u ┆ last_3_month_u ┆ last_4_month_ │\n",
       "│ _id            ┆ ---          ┆ sage_gb        ┆ sage_gb        ┆ sage_gb        ┆ usage_gb      │\n",
       "│ ---            ┆ i64          ┆ ---            ┆ ---            ┆ ---            ┆ ---           │\n",
       "│ str            ┆              ┆ f64            ┆ f64            ┆ f64            ┆ f64           │\n",
       "╞════════════════╪══════════════╪════════════════╪════════════════╪════════════════╪═══════════════╡\n",
       "│ 109774         ┆ null         ┆ 0.6            ┆ 0.1            ┆ 0.1            ┆ 0.6           │\n",
       "│ 781755         ┆ null         ┆ 0.6            ┆ 0.8            ┆ 0.3            ┆ 0             │\n",
       "│ 827238         ┆ null         ┆ 0              ┆ 0.7            ┆ 0.9            ┆ 0.1           │\n",
       "│ 330581         ┆ null         ┆ 0              ┆ 0.2            ┆ 0.2            ┆ 0.9           │\n",
       "│ 416121         ┆ null         ┆ 0.8            ┆ 0.8            ┆ 0.3            ┆ 0.5           │\n",
       "│ …              ┆ …            ┆ …              ┆ …              ┆ …              ┆ …             │\n",
       "│ 662172         ┆ null         ┆ 54.7           ┆ 62.5           ┆ 24.7           ┆ 37.4          │\n",
       "│ 556788         ┆ null         ┆ 19.6           ┆ 32.6           ┆ 31             ┆ 65.2          │\n",
       "│ 283647         ┆ null         ┆ 51.3           ┆ 18.1           ┆ 53.3           ┆ 39.2          │\n",
       "│ 581854         ┆ null         ┆ 49.5           ┆ 21.5           ┆ 27.7           ┆ 18.6          │\n",
       "│ 727874         ┆ null         ┆ 39.7           ┆ 20.8           ┆ 16.7           ┆ 55.4          │\n",
       "└────────────────┴──────────────┴────────────────┴────────────────┴────────────────┴───────────────┘"
      ]
     },
     "execution_count": 23,
     "metadata": {},
     "output_type": "execute_result"
    }
   ],
   "source": [
    "features.filter(pl.col('available_gb').is_null()).select('rating_account_id', 'available_gb', 'last_1_month_usage_gb', 'last_2_month_usage_gb', 'last_3_month_usage_gb', 'last_4_month_usage_gb')"
   ]
  },
  {
   "cell_type": "code",
   "execution_count": 24,
   "id": "9321417f",
   "metadata": {},
   "outputs": [
    {
     "name": "stdout",
     "output_type": "stream",
     "text": [
      "MAE Ridge: 15.0033\n",
      "CPU times: user 17.3 ms, sys: 17.3 ms, total: 34.5 ms\n",
      "Wall time: 13.3 ms\n"
     ]
    },
    {
     "name": "stderr",
     "output_type": "stream",
     "text": [
      "/Users/danlab/code/magenta-task/.venv/lib/python3.12/site-packages/sklearn/linear_model/_base.py:280: RuntimeWarning: divide by zero encountered in matmul\n",
      "  return X @ coef_ + self.intercept_\n",
      "/Users/danlab/code/magenta-task/.venv/lib/python3.12/site-packages/sklearn/linear_model/_base.py:280: RuntimeWarning: overflow encountered in matmul\n",
      "  return X @ coef_ + self.intercept_\n",
      "/Users/danlab/code/magenta-task/.venv/lib/python3.12/site-packages/sklearn/linear_model/_base.py:280: RuntimeWarning: invalid value encountered in matmul\n",
      "  return X @ coef_ + self.intercept_\n"
     ]
    }
   ],
   "source": [
    "%%time\n",
    "\n",
    "# Option A1: predict the value with a linear model\n",
    "\n",
    "# Prepare the data: drop rows with null available_gb and select numeric features\n",
    "df = (\n",
    "        features\n",
    "            .filter(pl.col('available_gb').is_not_null())\n",
    "            .select('available_gb', 'last_1_month_usage_gb', 'last_2_month_usage_gb', 'last_3_month_usage_gb', 'last_4_month_usage_gb')\n",
    ")\n",
    "\n",
    "X = df[['last_1_month_usage_gb', 'last_2_month_usage_gb', 'last_3_month_usage_gb', 'last_4_month_usage_gb']]\n",
    "y = df['available_gb']\n",
    "\n",
    "# Split into train/test\n",
    "X_train, X_test, y_train, y_test = train_test_split(X, y, test_size=0.2, random_state=42)\n",
    "\n",
    "# Fit Ridge regression (L2)\n",
    "ridge = Ridge()\n",
    "ridge.fit(X_train, y_train)\n",
    "\n",
    "# Predict and evaluate\n",
    "y_pred = ridge.predict(X_test)\n",
    "mae_linear_model = mean_absolute_error(y_test, y_pred)\n",
    "print(f'MAE Ridge: {mae_linear_model:.4f}')"
   ]
  },
  {
   "cell_type": "code",
   "execution_count": 25,
   "id": "a95ec080",
   "metadata": {},
   "outputs": [
    {
     "name": "stdout",
     "output_type": "stream",
     "text": [
      "MAE Lasso: 14.9996\n",
      "CPU times: user 19.2 ms, sys: 12.6 ms, total: 31.8 ms\n",
      "Wall time: 12.4 ms\n"
     ]
    },
    {
     "name": "stderr",
     "output_type": "stream",
     "text": [
      "/Users/danlab/code/magenta-task/.venv/lib/python3.12/site-packages/sklearn/linear_model/_base.py:280: RuntimeWarning: divide by zero encountered in matmul\n",
      "  return X @ coef_ + self.intercept_\n",
      "/Users/danlab/code/magenta-task/.venv/lib/python3.12/site-packages/sklearn/linear_model/_base.py:280: RuntimeWarning: overflow encountered in matmul\n",
      "  return X @ coef_ + self.intercept_\n",
      "/Users/danlab/code/magenta-task/.venv/lib/python3.12/site-packages/sklearn/linear_model/_base.py:280: RuntimeWarning: invalid value encountered in matmul\n",
      "  return X @ coef_ + self.intercept_\n"
     ]
    }
   ],
   "source": [
    "%%time\n",
    "\n",
    "# Option A2: predict the value with a linear model\n",
    "\n",
    "# Prepare the data: drop rows with null available_gb and select numeric features\n",
    "df = (\n",
    "        features\n",
    "            .filter(pl.col('available_gb').is_not_null())\n",
    "            .select('available_gb', 'last_1_month_usage_gb', 'last_2_month_usage_gb', 'last_3_month_usage_gb', 'last_4_month_usage_gb')\n",
    ")\n",
    "\n",
    "X = df[['last_1_month_usage_gb', 'last_2_month_usage_gb', 'last_3_month_usage_gb', 'last_4_month_usage_gb']]\n",
    "y = df['available_gb']\n",
    "\n",
    "# Split into train/test\n",
    "X_train, X_test, y_train, y_test = train_test_split(X, y, test_size=0.2, random_state=42)\n",
    "\n",
    "# Fit Lasso regression (L1)\n",
    "lasso = Lasso()\n",
    "lasso.fit(X_train, y_train)\n",
    "\n",
    "# Predict and evaluate\n",
    "y_pred = lasso.predict(X_test)\n",
    "mae_lasso = mean_absolute_error(y_test, y_pred)\n",
    "print(f'MAE Lasso: {mae_lasso:.4f}')"
   ]
  },
  {
   "cell_type": "code",
   "execution_count": 26,
   "id": "a5a192aa",
   "metadata": {},
   "outputs": [
    {
     "name": "stdout",
     "output_type": "stream",
     "text": [
      "MAE horizontal_mean: 21.8625\n",
      "CPU times: user 14.8 ms, sys: 6.35 ms, total: 21.1 ms\n",
      "Wall time: 5.78 ms\n"
     ]
    }
   ],
   "source": [
    "%%time\n",
    "\n",
    "# Option B: mean of the previous contract activities\n",
    "\n",
    "columns_to_average = ['last_1_month_usage_gb', 'last_2_month_usage_gb', 'last_3_month_usage_gb', 'last_4_month_usage_gb']\n",
    "\n",
    "# Prepare the data: drop rows with null available_gb and select numeric features\n",
    "df = (\n",
    "        features\n",
    "            .filter(pl.col('available_gb').is_not_null())\n",
    "            .select('available_gb', 'last_1_month_usage_gb', 'last_2_month_usage_gb', 'last_3_month_usage_gb', 'last_4_month_usage_gb')\n",
    ")\n",
    "\n",
    "\n",
    "# Compute horizontal mean and find closest value\n",
    "result_df = df.with_columns([\n",
    "    # Compute horizontal mean\n",
    "    pl.mean_horizontal(columns_to_average).alias('prediction')\n",
    "])\n",
    "\n",
    "mae_horizontal_mean = mean_absolute_error(result_df['available_gb'], result_df['prediction'])\n",
    "print(f'MAE horizontal_mean: {mae_horizontal_mean:.4f}')"
   ]
  },
  {
   "cell_type": "markdown",
   "id": "28534acd",
   "metadata": {},
   "source": [
    "The error of the linear models is lower compared to the mean of the activities. **Winning option A2**"
   ]
  },
  {
   "cell_type": "code",
   "execution_count": 27,
   "id": "96291a8b",
   "metadata": {},
   "outputs": [
    {
     "name": "stderr",
     "output_type": "stream",
     "text": [
      "/Users/danlab/code/magenta-task/.venv/lib/python3.12/site-packages/sklearn/linear_model/_base.py:280: RuntimeWarning: divide by zero encountered in matmul\n",
      "  return X @ coef_ + self.intercept_\n",
      "/Users/danlab/code/magenta-task/.venv/lib/python3.12/site-packages/sklearn/linear_model/_base.py:280: RuntimeWarning: overflow encountered in matmul\n",
      "  return X @ coef_ + self.intercept_\n",
      "/Users/danlab/code/magenta-task/.venv/lib/python3.12/site-packages/sklearn/linear_model/_base.py:280: RuntimeWarning: invalid value encountered in matmul\n",
      "  return X @ coef_ + self.intercept_\n"
     ]
    }
   ],
   "source": [
    "# APPLY THE PREDICTION TO MISSING ROWS\n",
    "# Prepare the data: drop rows with null available_gb and select numeric features\n",
    "df = (\n",
    "        features\n",
    "            .filter(pl.col('available_gb').is_not_null())\n",
    "            .select('available_gb', 'last_1_month_usage_gb', 'last_2_month_usage_gb', 'last_3_month_usage_gb', 'last_4_month_usage_gb')\n",
    ")\n",
    "\n",
    "X = df.select(['last_1_month_usage_gb', 'last_2_month_usage_gb', 'last_3_month_usage_gb', 'last_4_month_usage_gb'])\n",
    "y = df.select('available_gb').to_series()\n",
    "\n",
    "df_missing = (\n",
    "        features\n",
    "            .filter(pl.col('available_gb').is_null())\n",
    "            .select(pl.exclude(\"available_gb\"))\n",
    ")\n",
    "\n",
    "X_missing = df_missing.select(['last_1_month_usage_gb', 'last_2_month_usage_gb', 'last_3_month_usage_gb', 'last_4_month_usage_gb'])\n",
    "\n",
    "\n",
    "# Fit Lasso regression (L1)\n",
    "lasso = Lasso()\n",
    "lasso.fit(X, y)\n",
    "\n",
    "# Predict\n",
    "df_missing = df_missing.with_columns(available_gb=lasso.predict(X_missing))\n",
    "\n",
    "# Since the value cannot be float, mapping the predicted values to similar options from data\n",
    "available_values = features.filter(pl.col('available_gb').is_not_null()).select(pl.col('available_gb')).unique().to_series().to_list()\n",
    "\n",
    "def find_closest(val, avail_list):\n",
    "    'Find closest value from available_values list'\n",
    "    if val is None:\n",
    "        return None\n",
    "    return min(avail_list, key=lambda x: abs(x - val))\n",
    "\n",
    "# Compute horizontal mean and find closest value\n",
    "df_missing = df_missing.with_columns([\n",
    "    # Find closest available value\n",
    "    pl.col('available_gb').map_elements(\n",
    "        lambda x: find_closest(x, available_values), \n",
    "        return_dtype=pl.Int64\n",
    "    ).alias('available_gb')\n",
    "])"
   ]
  },
  {
   "cell_type": "code",
   "execution_count": 28,
   "id": "c5914edb",
   "metadata": {},
   "outputs": [
    {
     "name": "stdout",
     "output_type": "stream",
     "text": [
      "CPU times: user 13.4 ms, sys: 2.95 ms, total: 16.4 ms\n",
      "Wall time: 2.56 ms\n"
     ]
    },
    {
     "data": {
      "text/html": [
       "<div><style>\n",
       ".dataframe > thead > tr,\n",
       ".dataframe > tbody > tr {\n",
       "  text-align: right;\n",
       "  white-space: pre-wrap;\n",
       "}\n",
       "</style>\n",
       "<small>shape: (5, 78)</small><table border=\"1\" class=\"dataframe\"><thead><tr><th>rating_account_id</th><th>customer_id</th><th>age</th><th>contract_lifetime_days</th><th>remaining_binding_days</th><th>has_special_offer</th><th>is_magenta1_customer</th><th>available_gb</th><th>gross_mrc</th><th>has_done_upselling</th><th>contract_binding_days</th><th>completion_rate</th><th>is_bounded</th><th>is_huawei</th><th>is_oneplus</th><th>is_samsung</th><th>is_xiaomi</th><th>is_iphone</th><th>n_contracts_per_customer</th><th>avg_monthly_usage_gb</th><th>median_monthly_usage_gb</th><th>total_usage_gb</th><th>usage_std_gb</th><th>min_monthly_usage_gb</th><th>max_monthly_usage_gb</th><th>usage_q25_gb</th><th>usage_q75_gb</th><th>months_with_roaming</th><th>ever_used_roaming</th><th>always_used_roaming</th><th>zero_usage_months</th><th>active_usage_months</th><th>avg_delta_1mo</th><th>delta_1mo_volatility</th><th>max_delta_1mo_increase</th><th>max_delta_1mo_decrease</th><th>months_with_delta_1mo_increase</th><th>&hellip;</th><th>max_delta_2mo_increase</th><th>max_delta_2mo_decrease</th><th>months_with_delta_2mo_increase</th><th>months_with_delta_2mo_decrease</th><th>months_with_no_delta_2mo_change</th><th>avg_delta_3mo</th><th>max_delta_3mo_increase</th><th>max_delta_3mo_decrease</th><th>months_with_delta_3mo_increase</th><th>months_with_delta_3mo_decrease</th><th>months_with_no_delta_3mo_change</th><th>last_1_2mo_rolling_avg</th><th>last_2_2mo_rolling_avg</th><th>last_3_2mo_rolling_avg</th><th>last_1_3mo_rolling_avg</th><th>last_2_3mo_rolling_avg</th><th>last_1_delta_1mo</th><th>last_2_delta_1mo</th><th>last_3_delta_1mo</th><th>last_1_delta_2mo</th><th>last_2_delta_2mo</th><th>last_1_delta_3mo</th><th>last_1_2mo_rolling_stdev</th><th>last_2_2mo_rolling_stdev</th><th>last_3_2mo_rolling_stdev</th><th>last_1_month_usage_gb</th><th>last_2_month_usage_gb</th><th>last_3_month_usage_gb</th><th>last_4_month_usage_gb</th><th>n_rechnungsanfragen</th><th>n_produkte&amp;services-tarifdetails</th><th>n_prolongation</th><th>n_produkte&amp;services-tarifwechsel</th><th>days_since_last_rechnungsanfragen</th><th>days_since_last_produkte&amp;services-tarifdetails</th><th>days_since_last_prolongation</th><th>days_since_last_produkte&amp;services-tarifwechsel</th></tr><tr><td>str</td><td>str</td><td>i64</td><td>i64</td><td>i64</td><td>bool</td><td>bool</td><td>i64</td><td>f64</td><td>bool</td><td>i64</td><td>f64</td><td>bool</td><td>bool</td><td>bool</td><td>bool</td><td>bool</td><td>bool</td><td>u32</td><td>f64</td><td>f64</td><td>f64</td><td>f64</td><td>f64</td><td>f64</td><td>f64</td><td>f64</td><td>u32</td><td>bool</td><td>bool</td><td>u32</td><td>u32</td><td>f64</td><td>f64</td><td>f64</td><td>f64</td><td>u32</td><td>&hellip;</td><td>f64</td><td>f64</td><td>u32</td><td>u32</td><td>u32</td><td>f64</td><td>f64</td><td>f64</td><td>u32</td><td>u32</td><td>u32</td><td>f64</td><td>f64</td><td>f64</td><td>f64</td><td>f64</td><td>f64</td><td>f64</td><td>f64</td><td>f64</td><td>f64</td><td>f64</td><td>f64</td><td>f64</td><td>f64</td><td>f64</td><td>f64</td><td>f64</td><td>f64</td><td>i64</td><td>i64</td><td>i64</td><td>i64</td><td>i64</td><td>i64</td><td>i64</td><td>i64</td></tr></thead><tbody><tr><td>&quot;289094&quot;</td><td>&quot;4.161115&quot;</td><td>36</td><td>878</td><td>325</td><td>false</td><td>false</td><td>20</td><td>70</td><td>false</td><td>1203</td><td>0.73</td><td>true</td><td>false</td><td>false</td><td>false</td><td>false</td><td>true</td><td>1</td><td>0.28</td><td>0.15</td><td>1.1</td><td>0.36</td><td>0</td><td>0.8</td><td>0.1</td><td>0.2</td><td>1</td><td>true</td><td>false</td><td>1</td><td>3</td><td>-0.27</td><td>0.29</td><td>-0.1</td><td>-0.6</td><td>0</td><td>&hellip;</td><td>-0.2</td><td>-0.7</td><td>0</td><td>2</td><td>0</td><td>-0.8</td><td>-0.8</td><td>-0.8</td><td>0</td><td>1</td><td>0</td><td>0.05</td><td>0.15</td><td>0.5</td><td>0.1</td><td>0.37</td><td>-0.1</td><td>-0.1</td><td>-0.6</td><td>-0.2</td><td>-0.7</td><td>-0.8</td><td>0.07</td><td>0.07</td><td>0.42</td><td>0.8</td><td>0.2</td><td>0.1</td><td>0</td><td>0</td><td>0</td><td>0</td><td>0</td><td>-1</td><td>-1</td><td>-1</td><td>-1</td></tr><tr><td>&quot;677626&quot;</td><td>&quot;2.429976&quot;</td><td>34</td><td>998</td><td>614</td><td>false</td><td>false</td><td>0</td><td>5</td><td>false</td><td>1612</td><td>0.62</td><td>true</td><td>false</td><td>false</td><td>true</td><td>false</td><td>false</td><td>1</td><td>0.65</td><td>0.65</td><td>2.6</td><td>0.31</td><td>0.3</td><td>1</td><td>0.5</td><td>0.8</td><td>1</td><td>true</td><td>false</td><td>0</td><td>4</td><td>0.07</td><td>0.55</td><td>0.7</td><td>-0.3</td><td>1</td><td>&hellip;</td><td>0.5</td><td>-0.5</td><td>1</td><td>1</td><td>0</td><td>0.2</td><td>0.2</td><td>0.2</td><td>1</td><td>0</td><td>0</td><td>0.65</td><td>0.4</td><td>0.65</td><td>0.6</td><td>0.53</td><td>0.7</td><td>-0.2</td><td>-0.3</td><td>0.5</td><td>-0.5</td><td>0.2</td><td>0.49</td><td>0.14</td><td>0.21</td><td>0.8</td><td>0.5</td><td>0.3</td><td>1</td><td>0</td><td>0</td><td>1</td><td>1</td><td>-1</td><td>-1</td><td>87</td><td>118</td></tr><tr><td>&quot;769928&quot;</td><td>&quot;3.875044&quot;</td><td>36</td><td>37</td><td>-26</td><td>false</td><td>true</td><td>50</td><td>16.94</td><td>false</td><td>11</td><td>3.36</td><td>false</td><td>false</td><td>false</td><td>true</td><td>false</td><td>false</td><td>2</td><td>0.6</td><td>0.55</td><td>2.4</td><td>0.32</td><td>0.3</td><td>1</td><td>0.4</td><td>0.7</td><td>0</td><td>false</td><td>false</td><td>0</td><td>4</td><td>-0.2</td><td>0.56</td><td>0.4</td><td>-0.7</td><td>1</td><td>&hellip;</td><td>0.1</td><td>-0.3</td><td>1</td><td>1</td><td>0</td><td>-0.6</td><td>-0.6</td><td>-0.6</td><td>0</td><td>1</td><td>0</td><td>0.55</td><td>0.5</td><td>0.65</td><td>0.47</td><td>0.67</td><td>-0.3</td><td>0.4</td><td>-0.7</td><td>0.1</td><td>-0.3</td><td>-0.6</td><td>0.21</td><td>0.28</td><td>0.49</td><td>1</td><td>0.3</td><td>0.7</td><td>0.4</td><td>0</td><td>0</td><td>0</td><td>0</td><td>-1</td><td>-1</td><td>-1</td><td>-1</td></tr><tr><td>&quot;873260&quot;</td><td>&quot;4.649933&quot;</td><td>50</td><td>503</td><td>-149</td><td>false</td><td>true</td><td>20</td><td>30.2</td><td>true</td><td>354</td><td>1.42</td><td>false</td><td>false</td><td>false</td><td>false</td><td>false</td><td>true</td><td>1</td><td>0.38</td><td>0.25</td><td>1.5</td><td>0.36</td><td>0.1</td><td>0.9</td><td>0.2</td><td>0.3</td><td>0</td><td>false</td><td>false</td><td>0</td><td>4</td><td>0.03</td><td>0.67</td><td>0.6</td><td>-0.7</td><td>2</td><td>&hellip;</td><td>0.8</td><td>-0.1</td><td>1</td><td>1</td><td>0</td><td>0.1</td><td>0.1</td><td>0.1</td><td>1</td><td>0</td><td>0</td><td>0.55</td><td>0.6</td><td>0.2</td><td>0.47</td><td>0.43</td><td>-0.7</td><td>0.6</td><td>0.2</td><td>-0.1</td><td>0.8</td><td>0.1</td><td>0.49</td><td>0.42</td><td>0.14</td><td>0.1</td><td>0.3</td><td>0.9</td><td>0.2</td><td>0</td><td>0</td><td>0</td><td>0</td><td>-1</td><td>-1</td><td>-1</td><td>-1</td></tr><tr><td>&quot;692379&quot;</td><td>&quot;4.382165&quot;</td><td>46</td><td>80</td><td>-25</td><td>false</td><td>true</td><td>40</td><td>60.71</td><td>false</td><td>55</td><td>1.45</td><td>false</td><td>true</td><td>false</td><td>false</td><td>false</td><td>false</td><td>1</td><td>0.55</td><td>0.6</td><td>2.2</td><td>0.3</td><td>0.2</td><td>0.8</td><td>0.4</td><td>0.8</td><td>2</td><td>true</td><td>false</td><td>0</td><td>4</td><td>0</td><td>0.53</td><td>0.6</td><td>-0.4</td><td>1</td><td>&hellip;</td><td>0.4</td><td>-0.6</td><td>1</td><td>1</td><td>0</td><td>0</td><td>0</td><td>0</td><td>0</td><td>0</td><td>1</td><td>0.5</td><td>0.3</td><td>0.6</td><td>0.47</td><td>0.47</td><td>0.6</td><td>-0.2</td><td>-0.4</td><td>0.4</td><td>-0.6</td><td>0</td><td>0.42</td><td>0.14</td><td>0.28</td><td>0.8</td><td>0.4</td><td>0.2</td><td>0.8</td><td>0</td><td>0</td><td>0</td><td>0</td><td>-1</td><td>-1</td><td>-1</td><td>-1</td></tr></tbody></table></div>"
      ],
      "text/plain": [
       "shape: (5, 78)\n",
       "┌────────────┬────────────┬─────┬────────────┬───┬────────────┬────────────┬───────────┬───────────┐\n",
       "│ rating_acc ┆ customer_i ┆ age ┆ contract_l ┆ … ┆ days_since ┆ days_since ┆ days_sinc ┆ days_sinc │\n",
       "│ ount_id    ┆ d          ┆ --- ┆ ifetime_da ┆   ┆ _last_rech ┆ _last_prod ┆ e_last_pr ┆ e_last_pr │\n",
       "│ ---        ┆ ---        ┆ i64 ┆ ys         ┆   ┆ nungsanfra ┆ ukte&servi ┆ olongatio ┆ odukte&se │\n",
       "│ str        ┆ str        ┆     ┆ ---        ┆   ┆ gen        ┆ ces-tarifd ┆ n         ┆ rvices-ta │\n",
       "│            ┆            ┆     ┆ i64        ┆   ┆ ---        ┆ etails     ┆ ---       ┆ rifwechse │\n",
       "│            ┆            ┆     ┆            ┆   ┆ i64        ┆ ---        ┆ i64       ┆ l         │\n",
       "│            ┆            ┆     ┆            ┆   ┆            ┆ i64        ┆           ┆ ---       │\n",
       "│            ┆            ┆     ┆            ┆   ┆            ┆            ┆           ┆ i64       │\n",
       "╞════════════╪════════════╪═════╪════════════╪═══╪════════════╪════════════╪═══════════╪═══════════╡\n",
       "│ 289094     ┆ 4.161115   ┆ 36  ┆ 878        ┆ … ┆ -1         ┆ -1         ┆ -1        ┆ -1        │\n",
       "│ 677626     ┆ 2.429976   ┆ 34  ┆ 998        ┆ … ┆ -1         ┆ -1         ┆ 87        ┆ 118       │\n",
       "│ 769928     ┆ 3.875044   ┆ 36  ┆ 37         ┆ … ┆ -1         ┆ -1         ┆ -1        ┆ -1        │\n",
       "│ 873260     ┆ 4.649933   ┆ 50  ┆ 503        ┆ … ┆ -1         ┆ -1         ┆ -1        ┆ -1        │\n",
       "│ 692379     ┆ 4.382165   ┆ 46  ┆ 80         ┆ … ┆ -1         ┆ -1         ┆ -1        ┆ -1        │\n",
       "└────────────┴────────────┴─────┴────────────┴───┴────────────┴────────────┴───────────┴───────────┘"
      ]
     },
     "execution_count": 28,
     "metadata": {},
     "output_type": "execute_result"
    }
   ],
   "source": [
    "%%time\n",
    "\n",
    "features = pl.concat(\n",
    "    [\n",
    "        features.filter(pl.col('available_gb').is_not_null()),\n",
    "        df_missing\n",
    "    ],\n",
    "    how='diagonal'\n",
    ")\n",
    "\n",
    "features.head()"
   ]
  },
  {
   "cell_type": "code",
   "execution_count": 29,
   "id": "caf49508",
   "metadata": {},
   "outputs": [
    {
     "data": {
      "text/html": [
       "<div><style>\n",
       ".dataframe > thead > tr,\n",
       ".dataframe > tbody > tr {\n",
       "  text-align: right;\n",
       "  white-space: pre-wrap;\n",
       "}\n",
       "</style>\n",
       "<small>shape: (0, 0)</small><table border=\"1\" class=\"dataframe\"><thead><tr></tr><tr></tr></thead><tbody></tbody></table></div>"
      ],
      "text/plain": [
       "shape: (0, 0)\n",
       "┌┐\n",
       "╞╡\n",
       "└┘"
      ]
     },
     "execution_count": 29,
     "metadata": {},
     "output_type": "execute_result"
    }
   ],
   "source": [
    "# Checking if there are other columns to fill\n",
    "\n",
    "null_counts_features = features.select([\n",
    "    pl.col(col).is_null().sum().alias(f'{col}_nulls') for col in features.columns\n",
    "])\n",
    "\n",
    "null_counts_features.select([\n",
    "    col for col in null_counts_features.columns if null_counts_features[0, col] != 0\n",
    "])"
   ]
  },
  {
   "cell_type": "code",
   "execution_count": 68,
   "id": "6ddf3c10",
   "metadata": {},
   "outputs": [],
   "source": [
    "import pickle\n",
    "with open(artifacts_dir / 'imputer_model.pkl', 'wb') as f:\n",
    "    pickle.dump(lasso, f)"
   ]
  },
  {
   "cell_type": "markdown",
   "id": "5245db83",
   "metadata": {},
   "source": [
    "### Computing additional features\n",
    "\n",
    "Computing features based on `available_gb`, since there are no missing values"
   ]
  },
  {
   "cell_type": "code",
   "execution_count": 30,
   "id": "e5edfb95",
   "metadata": {},
   "outputs": [
    {
     "name": "stdout",
     "output_type": "stream",
     "text": [
      "CPU times: user 35 ms, sys: 28.7 ms, total: 63.7 ms\n",
      "Wall time: 17.3 ms\n"
     ]
    }
   ],
   "source": [
    "%%time\n",
    "\n",
    "# Compute how many times the contract required more than available data, baed on definde threshold of the current plan.\n",
    "\n",
    "# Compute 20%, 50%, and 80% for available_gb per rating_account_id\n",
    "thresholds_available_gb = features.group_by('rating_account_id').agg([\n",
    "    (pl.col('available_gb') / 100 * 25).get(0).round(2).alias('p25'),\n",
    "    (pl.col('available_gb') / 100 * 50).get(0).round(2).alias('p50'),\n",
    "    (pl.col('available_gb') / 100 * 70).get(0).round(2).alias('p75'),\n",
    "])\n",
    "\n",
    "# Compute, for each month, in which range the usage falls\n",
    "percentile_exprs = []\n",
    "for i in range(1, 5):\n",
    "    percentile_expr = (\n",
    "        pl.when(pl.col(f'last_{i}_month_usage_gb').is_between(-1, pl.col('p25'), closed='right'))  # -1 otherwise 0 is not counted\n",
    "        .then(pl.lit('P1'))\n",
    "        .when(pl.col(f'last_{i}_month_usage_gb').is_between(pl.col('p25'), pl.col('p50'), closed='right'))\n",
    "        .then(pl.lit('P2'))\n",
    "        .when(pl.col(f'last_{i}_month_usage_gb').is_between(pl.col('p50'), pl.col('p75'), closed='right'))\n",
    "        .then(pl.lit('P3'))\n",
    "        .when(pl.col(f'last_{i}_month_usage_gb').is_between(pl.col('p75'), pl.col('available_gb'), closed='right'))\n",
    "        .then(pl.lit('P4'))\n",
    "        .when(pl.col(f'last_{i}_month_usage_gb') > pl.col('available_gb'))\n",
    "        .then(pl.lit('P5'))  # how many times has exceeded the available data\n",
    "        .otherwise(pl.lit(None))\n",
    "        .alias(f'month_{i}_threshold')\n",
    "    )\n",
    "    percentile_exprs.append(percentile_expr)\n",
    "\n",
    "# Compute how many times, in the past 4 months, the usage felt in specific ranges\n",
    "count_exprs = []\n",
    "for p in range(1, 6):\n",
    "    count_expr = sum(\n",
    "        (pl.col(f'month_{i}_threshold') == f'P{p}').cast(pl.Int32)\n",
    "        for i in range(1, 5)\n",
    "    ).alias(f'times_in_p{p}')\n",
    "    count_exprs.append(count_expr)\n",
    "\n",
    "# Final computation\n",
    "features = (\n",
    "    features\n",
    "    .join(\n",
    "        thresholds_available_gb,\n",
    "        on='rating_account_id',\n",
    "        how='left')\n",
    "    .with_columns(percentile_exprs)\n",
    "    .with_columns(count_exprs)\n",
    ").drop(['p25', 'p50', 'p75', 'month_1_threshold', 'month_2_threshold', 'month_3_threshold', 'month_4_threshold'])"
   ]
  },
  {
   "cell_type": "code",
   "execution_count": 31,
   "id": "75be9a31",
   "metadata": {},
   "outputs": [
    {
     "name": "stdout",
     "output_type": "stream",
     "text": [
      "Number of invalid rows: 0\n"
     ]
    }
   ],
   "source": [
    "# Check that the sum of times_in_p1 to times_in_p5 is always 4 (number of billing months) for each row\n",
    "check_sum = features.select(\n",
    "    (pl.col('times_in_p1') + pl.col('times_in_p2') + pl.col('times_in_p3') + pl.col('times_in_p4') + pl.col('times_in_p5')).alias('sum_p')\n",
    ")\n",
    "\n",
    "# Count how many rows do not have sum == 4\n",
    "invalid_rows = check_sum.filter(pl.col('sum_p') != 4).height\n",
    "print(f\"Number of invalid rows: {invalid_rows}\")"
   ]
  },
  {
   "cell_type": "markdown",
   "id": "e940d562",
   "metadata": {},
   "source": [
    "---"
   ]
  },
  {
   "cell_type": "markdown",
   "id": "e97e0b0c",
   "metadata": {},
   "source": [
    "## `final features dataframe`"
   ]
  },
  {
   "cell_type": "code",
   "execution_count": 32,
   "id": "c1ba55f3",
   "metadata": {},
   "outputs": [
    {
     "data": {
      "text/plain": [
       "(100000, 83)"
      ]
     },
     "execution_count": 32,
     "metadata": {},
     "output_type": "execute_result"
    }
   ],
   "source": [
    "features.shape"
   ]
  },
  {
   "cell_type": "code",
   "execution_count": 33,
   "id": "6886d4fa",
   "metadata": {},
   "outputs": [
    {
     "data": {
      "text/html": [
       "<div><style>\n",
       ".dataframe > thead > tr,\n",
       ".dataframe > tbody > tr {\n",
       "  text-align: right;\n",
       "  white-space: pre-wrap;\n",
       "}\n",
       "</style>\n",
       "<small>shape: (5, 83)</small><table border=\"1\" class=\"dataframe\"><thead><tr><th>rating_account_id</th><th>customer_id</th><th>age</th><th>contract_lifetime_days</th><th>remaining_binding_days</th><th>has_special_offer</th><th>is_magenta1_customer</th><th>available_gb</th><th>gross_mrc</th><th>has_done_upselling</th><th>contract_binding_days</th><th>completion_rate</th><th>is_bounded</th><th>is_huawei</th><th>is_oneplus</th><th>is_samsung</th><th>is_xiaomi</th><th>is_iphone</th><th>n_contracts_per_customer</th><th>avg_monthly_usage_gb</th><th>median_monthly_usage_gb</th><th>total_usage_gb</th><th>usage_std_gb</th><th>min_monthly_usage_gb</th><th>max_monthly_usage_gb</th><th>usage_q25_gb</th><th>usage_q75_gb</th><th>months_with_roaming</th><th>ever_used_roaming</th><th>always_used_roaming</th><th>zero_usage_months</th><th>active_usage_months</th><th>avg_delta_1mo</th><th>delta_1mo_volatility</th><th>max_delta_1mo_increase</th><th>max_delta_1mo_decrease</th><th>months_with_delta_1mo_increase</th><th>&hellip;</th><th>avg_delta_3mo</th><th>max_delta_3mo_increase</th><th>max_delta_3mo_decrease</th><th>months_with_delta_3mo_increase</th><th>months_with_delta_3mo_decrease</th><th>months_with_no_delta_3mo_change</th><th>last_1_2mo_rolling_avg</th><th>last_2_2mo_rolling_avg</th><th>last_3_2mo_rolling_avg</th><th>last_1_3mo_rolling_avg</th><th>last_2_3mo_rolling_avg</th><th>last_1_delta_1mo</th><th>last_2_delta_1mo</th><th>last_3_delta_1mo</th><th>last_1_delta_2mo</th><th>last_2_delta_2mo</th><th>last_1_delta_3mo</th><th>last_1_2mo_rolling_stdev</th><th>last_2_2mo_rolling_stdev</th><th>last_3_2mo_rolling_stdev</th><th>last_1_month_usage_gb</th><th>last_2_month_usage_gb</th><th>last_3_month_usage_gb</th><th>last_4_month_usage_gb</th><th>n_rechnungsanfragen</th><th>n_produkte&amp;services-tarifdetails</th><th>n_prolongation</th><th>n_produkte&amp;services-tarifwechsel</th><th>days_since_last_rechnungsanfragen</th><th>days_since_last_produkte&amp;services-tarifdetails</th><th>days_since_last_prolongation</th><th>days_since_last_produkte&amp;services-tarifwechsel</th><th>times_in_p1</th><th>times_in_p2</th><th>times_in_p3</th><th>times_in_p4</th><th>times_in_p5</th></tr><tr><td>str</td><td>str</td><td>i64</td><td>i64</td><td>i64</td><td>bool</td><td>bool</td><td>i64</td><td>f64</td><td>bool</td><td>i64</td><td>f64</td><td>bool</td><td>bool</td><td>bool</td><td>bool</td><td>bool</td><td>bool</td><td>u32</td><td>f64</td><td>f64</td><td>f64</td><td>f64</td><td>f64</td><td>f64</td><td>f64</td><td>f64</td><td>u32</td><td>bool</td><td>bool</td><td>u32</td><td>u32</td><td>f64</td><td>f64</td><td>f64</td><td>f64</td><td>u32</td><td>&hellip;</td><td>f64</td><td>f64</td><td>f64</td><td>u32</td><td>u32</td><td>u32</td><td>f64</td><td>f64</td><td>f64</td><td>f64</td><td>f64</td><td>f64</td><td>f64</td><td>f64</td><td>f64</td><td>f64</td><td>f64</td><td>f64</td><td>f64</td><td>f64</td><td>f64</td><td>f64</td><td>f64</td><td>f64</td><td>i64</td><td>i64</td><td>i64</td><td>i64</td><td>i64</td><td>i64</td><td>i64</td><td>i64</td><td>i32</td><td>i32</td><td>i32</td><td>i32</td><td>i32</td></tr></thead><tbody><tr><td>&quot;289094&quot;</td><td>&quot;4.161115&quot;</td><td>36</td><td>878</td><td>325</td><td>false</td><td>false</td><td>20</td><td>70</td><td>false</td><td>1203</td><td>0.73</td><td>true</td><td>false</td><td>false</td><td>false</td><td>false</td><td>true</td><td>1</td><td>0.28</td><td>0.15</td><td>1.1</td><td>0.36</td><td>0</td><td>0.8</td><td>0.1</td><td>0.2</td><td>1</td><td>true</td><td>false</td><td>1</td><td>3</td><td>-0.27</td><td>0.29</td><td>-0.1</td><td>-0.6</td><td>0</td><td>&hellip;</td><td>-0.8</td><td>-0.8</td><td>-0.8</td><td>0</td><td>1</td><td>0</td><td>0.05</td><td>0.15</td><td>0.5</td><td>0.1</td><td>0.37</td><td>-0.1</td><td>-0.1</td><td>-0.6</td><td>-0.2</td><td>-0.7</td><td>-0.8</td><td>0.07</td><td>0.07</td><td>0.42</td><td>0.8</td><td>0.2</td><td>0.1</td><td>0</td><td>0</td><td>0</td><td>0</td><td>0</td><td>-1</td><td>-1</td><td>-1</td><td>-1</td><td>4</td><td>0</td><td>0</td><td>0</td><td>0</td></tr><tr><td>&quot;677626&quot;</td><td>&quot;2.429976&quot;</td><td>34</td><td>998</td><td>614</td><td>false</td><td>false</td><td>0</td><td>5</td><td>false</td><td>1612</td><td>0.62</td><td>true</td><td>false</td><td>false</td><td>true</td><td>false</td><td>false</td><td>1</td><td>0.65</td><td>0.65</td><td>2.6</td><td>0.31</td><td>0.3</td><td>1</td><td>0.5</td><td>0.8</td><td>1</td><td>true</td><td>false</td><td>0</td><td>4</td><td>0.07</td><td>0.55</td><td>0.7</td><td>-0.3</td><td>1</td><td>&hellip;</td><td>0.2</td><td>0.2</td><td>0.2</td><td>1</td><td>0</td><td>0</td><td>0.65</td><td>0.4</td><td>0.65</td><td>0.6</td><td>0.53</td><td>0.7</td><td>-0.2</td><td>-0.3</td><td>0.5</td><td>-0.5</td><td>0.2</td><td>0.49</td><td>0.14</td><td>0.21</td><td>0.8</td><td>0.5</td><td>0.3</td><td>1</td><td>0</td><td>0</td><td>1</td><td>1</td><td>-1</td><td>-1</td><td>87</td><td>118</td><td>0</td><td>0</td><td>0</td><td>0</td><td>4</td></tr><tr><td>&quot;769928&quot;</td><td>&quot;3.875044&quot;</td><td>36</td><td>37</td><td>-26</td><td>false</td><td>true</td><td>50</td><td>16.94</td><td>false</td><td>11</td><td>3.36</td><td>false</td><td>false</td><td>false</td><td>true</td><td>false</td><td>false</td><td>2</td><td>0.6</td><td>0.55</td><td>2.4</td><td>0.32</td><td>0.3</td><td>1</td><td>0.4</td><td>0.7</td><td>0</td><td>false</td><td>false</td><td>0</td><td>4</td><td>-0.2</td><td>0.56</td><td>0.4</td><td>-0.7</td><td>1</td><td>&hellip;</td><td>-0.6</td><td>-0.6</td><td>-0.6</td><td>0</td><td>1</td><td>0</td><td>0.55</td><td>0.5</td><td>0.65</td><td>0.47</td><td>0.67</td><td>-0.3</td><td>0.4</td><td>-0.7</td><td>0.1</td><td>-0.3</td><td>-0.6</td><td>0.21</td><td>0.28</td><td>0.49</td><td>1</td><td>0.3</td><td>0.7</td><td>0.4</td><td>0</td><td>0</td><td>0</td><td>0</td><td>-1</td><td>-1</td><td>-1</td><td>-1</td><td>4</td><td>0</td><td>0</td><td>0</td><td>0</td></tr><tr><td>&quot;873260&quot;</td><td>&quot;4.649933&quot;</td><td>50</td><td>503</td><td>-149</td><td>false</td><td>true</td><td>20</td><td>30.2</td><td>true</td><td>354</td><td>1.42</td><td>false</td><td>false</td><td>false</td><td>false</td><td>false</td><td>true</td><td>1</td><td>0.38</td><td>0.25</td><td>1.5</td><td>0.36</td><td>0.1</td><td>0.9</td><td>0.2</td><td>0.3</td><td>0</td><td>false</td><td>false</td><td>0</td><td>4</td><td>0.03</td><td>0.67</td><td>0.6</td><td>-0.7</td><td>2</td><td>&hellip;</td><td>0.1</td><td>0.1</td><td>0.1</td><td>1</td><td>0</td><td>0</td><td>0.55</td><td>0.6</td><td>0.2</td><td>0.47</td><td>0.43</td><td>-0.7</td><td>0.6</td><td>0.2</td><td>-0.1</td><td>0.8</td><td>0.1</td><td>0.49</td><td>0.42</td><td>0.14</td><td>0.1</td><td>0.3</td><td>0.9</td><td>0.2</td><td>0</td><td>0</td><td>0</td><td>0</td><td>-1</td><td>-1</td><td>-1</td><td>-1</td><td>4</td><td>0</td><td>0</td><td>0</td><td>0</td></tr><tr><td>&quot;692379&quot;</td><td>&quot;4.382165&quot;</td><td>46</td><td>80</td><td>-25</td><td>false</td><td>true</td><td>40</td><td>60.71</td><td>false</td><td>55</td><td>1.45</td><td>false</td><td>true</td><td>false</td><td>false</td><td>false</td><td>false</td><td>1</td><td>0.55</td><td>0.6</td><td>2.2</td><td>0.3</td><td>0.2</td><td>0.8</td><td>0.4</td><td>0.8</td><td>2</td><td>true</td><td>false</td><td>0</td><td>4</td><td>0</td><td>0.53</td><td>0.6</td><td>-0.4</td><td>1</td><td>&hellip;</td><td>0</td><td>0</td><td>0</td><td>0</td><td>0</td><td>1</td><td>0.5</td><td>0.3</td><td>0.6</td><td>0.47</td><td>0.47</td><td>0.6</td><td>-0.2</td><td>-0.4</td><td>0.4</td><td>-0.6</td><td>0</td><td>0.42</td><td>0.14</td><td>0.28</td><td>0.8</td><td>0.4</td><td>0.2</td><td>0.8</td><td>0</td><td>0</td><td>0</td><td>0</td><td>-1</td><td>-1</td><td>-1</td><td>-1</td><td>4</td><td>0</td><td>0</td><td>0</td><td>0</td></tr></tbody></table></div>"
      ],
      "text/plain": [
       "shape: (5, 83)\n",
       "┌────────────┬────────────┬─────┬────────────┬───┬────────────┬────────────┬───────────┬───────────┐\n",
       "│ rating_acc ┆ customer_i ┆ age ┆ contract_l ┆ … ┆ times_in_p ┆ times_in_p ┆ times_in_ ┆ times_in_ │\n",
       "│ ount_id    ┆ d          ┆ --- ┆ ifetime_da ┆   ┆ 2          ┆ 3          ┆ p4        ┆ p5        │\n",
       "│ ---        ┆ ---        ┆ i64 ┆ ys         ┆   ┆ ---        ┆ ---        ┆ ---       ┆ ---       │\n",
       "│ str        ┆ str        ┆     ┆ ---        ┆   ┆ i32        ┆ i32        ┆ i32       ┆ i32       │\n",
       "│            ┆            ┆     ┆ i64        ┆   ┆            ┆            ┆           ┆           │\n",
       "╞════════════╪════════════╪═════╪════════════╪═══╪════════════╪════════════╪═══════════╪═══════════╡\n",
       "│ 289094     ┆ 4.161115   ┆ 36  ┆ 878        ┆ … ┆ 0          ┆ 0          ┆ 0         ┆ 0         │\n",
       "│ 677626     ┆ 2.429976   ┆ 34  ┆ 998        ┆ … ┆ 0          ┆ 0          ┆ 0         ┆ 4         │\n",
       "│ 769928     ┆ 3.875044   ┆ 36  ┆ 37         ┆ … ┆ 0          ┆ 0          ┆ 0         ┆ 0         │\n",
       "│ 873260     ┆ 4.649933   ┆ 50  ┆ 503        ┆ … ┆ 0          ┆ 0          ┆ 0         ┆ 0         │\n",
       "│ 692379     ┆ 4.382165   ┆ 46  ┆ 80         ┆ … ┆ 0          ┆ 0          ┆ 0         ┆ 0         │\n",
       "└────────────┴────────────┴─────┴────────────┴───┴────────────┴────────────┴───────────┴───────────┘"
      ]
     },
     "execution_count": 33,
     "metadata": {},
     "output_type": "execute_result"
    }
   ],
   "source": [
    "features.head()"
   ]
  },
  {
   "cell_type": "markdown",
   "id": "2d8ec0a1",
   "metadata": {},
   "source": [
    "# Features cleaning"
   ]
  },
  {
   "cell_type": "markdown",
   "id": "b3ab811a",
   "metadata": {},
   "source": [
    "## Correlation analysis"
   ]
  },
  {
   "cell_type": "code",
   "execution_count": 34,
   "id": "414e7157",
   "metadata": {},
   "outputs": [],
   "source": [
    "numeric_and_booleans_features = features.select(cs.numeric() | cs.boolean())"
   ]
  },
  {
   "cell_type": "code",
   "execution_count": 35,
   "id": "14c92494",
   "metadata": {},
   "outputs": [
    {
     "data": {
      "text/plain": [
       "True"
      ]
     },
     "execution_count": 35,
     "metadata": {},
     "output_type": "execute_result"
    }
   ],
   "source": [
    "'has_done_upselling' in numeric_and_booleans_features.columns"
   ]
  },
  {
   "cell_type": "code",
   "execution_count": 36,
   "id": "832f11de",
   "metadata": {},
   "outputs": [
    {
     "name": "stdout",
     "output_type": "stream",
     "text": [
      "CPU times: user 20.6 ms, sys: 40.7 ms, total: 61.3 ms\n",
      "Wall time: 40.9 ms\n"
     ]
    }
   ],
   "source": [
    "%%time\n",
    "\n",
    "correlation_matrix = numeric_and_booleans_features.corr()"
   ]
  },
  {
   "cell_type": "code",
   "execution_count": 37,
   "id": "b181f29b",
   "metadata": {},
   "outputs": [
    {
     "data": {
      "text/html": [
       "<div><style>\n",
       ".dataframe > thead > tr,\n",
       ".dataframe > tbody > tr {\n",
       "  text-align: right;\n",
       "  white-space: pre-wrap;\n",
       "}\n",
       "</style>\n",
       "<small>shape: (81, 81)</small><table border=\"1\" class=\"dataframe\"><thead><tr><th>age</th><th>contract_lifetime_days</th><th>remaining_binding_days</th><th>has_special_offer</th><th>is_magenta1_customer</th><th>available_gb</th><th>gross_mrc</th><th>has_done_upselling</th><th>contract_binding_days</th><th>completion_rate</th><th>is_bounded</th><th>is_huawei</th><th>is_oneplus</th><th>is_samsung</th><th>is_xiaomi</th><th>is_iphone</th><th>n_contracts_per_customer</th><th>avg_monthly_usage_gb</th><th>median_monthly_usage_gb</th><th>total_usage_gb</th><th>usage_std_gb</th><th>min_monthly_usage_gb</th><th>max_monthly_usage_gb</th><th>usage_q25_gb</th><th>usage_q75_gb</th><th>months_with_roaming</th><th>ever_used_roaming</th><th>always_used_roaming</th><th>zero_usage_months</th><th>active_usage_months</th><th>avg_delta_1mo</th><th>delta_1mo_volatility</th><th>max_delta_1mo_increase</th><th>max_delta_1mo_decrease</th><th>months_with_delta_1mo_increase</th><th>months_with_delta_1mo_decrease</th><th>months_with_no_delta_1mo_change</th><th>&hellip;</th><th>avg_delta_3mo</th><th>max_delta_3mo_increase</th><th>max_delta_3mo_decrease</th><th>months_with_delta_3mo_increase</th><th>months_with_delta_3mo_decrease</th><th>months_with_no_delta_3mo_change</th><th>last_1_2mo_rolling_avg</th><th>last_2_2mo_rolling_avg</th><th>last_3_2mo_rolling_avg</th><th>last_1_3mo_rolling_avg</th><th>last_2_3mo_rolling_avg</th><th>last_1_delta_1mo</th><th>last_2_delta_1mo</th><th>last_3_delta_1mo</th><th>last_1_delta_2mo</th><th>last_2_delta_2mo</th><th>last_1_delta_3mo</th><th>last_1_2mo_rolling_stdev</th><th>last_2_2mo_rolling_stdev</th><th>last_3_2mo_rolling_stdev</th><th>last_1_month_usage_gb</th><th>last_2_month_usage_gb</th><th>last_3_month_usage_gb</th><th>last_4_month_usage_gb</th><th>n_rechnungsanfragen</th><th>n_produkte&amp;services-tarifdetails</th><th>n_prolongation</th><th>n_produkte&amp;services-tarifwechsel</th><th>days_since_last_rechnungsanfragen</th><th>days_since_last_produkte&amp;services-tarifdetails</th><th>days_since_last_prolongation</th><th>days_since_last_produkte&amp;services-tarifwechsel</th><th>times_in_p1</th><th>times_in_p2</th><th>times_in_p3</th><th>times_in_p4</th><th>times_in_p5</th></tr><tr><td>f64</td><td>f64</td><td>f64</td><td>f64</td><td>f64</td><td>f64</td><td>f64</td><td>f64</td><td>f64</td><td>f64</td><td>f64</td><td>f64</td><td>f64</td><td>f64</td><td>f64</td><td>f64</td><td>f64</td><td>f64</td><td>f64</td><td>f64</td><td>f64</td><td>f64</td><td>f64</td><td>f64</td><td>f64</td><td>f64</td><td>f64</td><td>f64</td><td>f64</td><td>f64</td><td>f64</td><td>f64</td><td>f64</td><td>f64</td><td>f64</td><td>f64</td><td>f64</td><td>&hellip;</td><td>f64</td><td>f64</td><td>f64</td><td>f64</td><td>f64</td><td>f64</td><td>f64</td><td>f64</td><td>f64</td><td>f64</td><td>f64</td><td>f64</td><td>f64</td><td>f64</td><td>f64</td><td>f64</td><td>f64</td><td>f64</td><td>f64</td><td>f64</td><td>f64</td><td>f64</td><td>f64</td><td>f64</td><td>f64</td><td>f64</td><td>f64</td><td>f64</td><td>f64</td><td>f64</td><td>f64</td><td>f64</td><td>f64</td><td>f64</td><td>f64</td><td>f64</td><td>f64</td></tr></thead><tbody><tr><td>1</td><td>-0.0629525879053477</td><td>0.007917425991875747</td><td>-0.004591802863005269</td><td>-0.0005704522106472497</td><td>0.002001530818124203</td><td>-0.001424864767973105</td><td>-0.04153326724227131</td><td>-0.04689189462413822</td><td>0.0035360243153290272</td><td>0.0039747041463997265</td><td>-0.002902167339478833</td><td>0.001961146967666313</td><td>0.0009508412788796461</td><td>0.0017371282874024821</td><td>0.0002704501086987437</td><td>-0.003392510845809081</td><td>-0.0731307589494203</td><td>-0.07117159510219447</td><td>-0.07313072441999216</td><td>-0.07526670691780543</td><td>-0.06588505936769493</td><td>-0.07627248976390334</td><td>-0.06852675138912731</td><td>-0.0721147168654201</td><td>0.0024213213370010357</td><td>0.0028884406207485866</td><td>0.0027643128541414304</td><td>0.010187406343517207</td><td>-0.010187406343517258</td><td>0.000702389814970992</td><td>-0.069869446847254</td><td>-0.0643422888980605</td><td>0.06525763675673314</td><td>-0.0027109579596410914</td><td>-0.003923417078655652</td><td>0.013449505856102882</td><td>&hellip;</td><td>0.0007018860866903778</td><td>0.0007018860866903778</td><td>0.0007018860866903778</td><td>-0.002796473162905392</td><td>-0.00016122916901735</td><td>0.008278462206984744</td><td>-0.07023640985753887</td><td>-0.07118943304127713</td><td>-0.0721607883384821</td><td>-0.0723979843256634</td><td>-0.07251675544933986</td><td>-0.0022278083988556217</td><td>0.00481023193773842</td><td>-0.001876581624289159</td><td>0.0025777466018754532</td><td>0.0029294087217664184</td><td>0.0007018860866903778</td><td>-0.05818506841796055</td><td>-0.06188408762322747</td><td>-0.05992545507252038</td><td>-0.0679768400853932</td><td>-0.06941992923036822</td><td>-0.06614590372886239</td><td>-0.06763631390301206</td><td>-0.002961927111691673</td><td>-0.0036624528884945783</td><td>-0.00106025628151353</td><td>0.002456956467397652</td><td>-0.0021735524770572197</td><td>-0.001721701728603328</td><td>-0.004082781479783177</td><td>0.0007222265215129422</td><td>0.04770564651922236</td><td>0.012602850196628627</td><td>-0.011356125642465338</td><td>-0.024614597894047057</td><td>-0.0488429499872255</td></tr><tr><td>-0.0629525879053477</td><td>1</td><td>-0.0003783910010728898</td><td>-0.0023025678524813092</td><td>0.002191272514161916</td><td>-0.032126065687679374</td><td>0.0030451716731356077</td><td>0.004379550151761059</td><td>0.8171535046016165</td><td>-0.07300261199878585</td><td>0.002635506103491189</td><td>0.00028419739566267453</td><td>-0.004675920594287974</td><td>-0.0026743838921719247</td><td>-0.005180140865737749</td><td>0.0054936273735810524</td><td>0.002365051770419589</td><td>0.7632866265204288</td><td>0.7508626128730687</td><td>0.7632872022690763</td><td>0.7272201981256863</td><td>0.7109202571111088</td><td>0.7732354631860756</td><td>0.7318593393861054</td><td>0.7537621693882375</td><td>-0.005097468591355103</td><td>-0.0019697892938416246</td><td>-0.004880964016446549</td><td>-0.09475926466383468</td><td>0.0947592646638343</td><td>-0.0015123138415764153</td><td>0.6811245720092708</td><td>0.6307247798969505</td><td>-0.629192188107774</td><td>0.03264938171410441</td><td>0.03404249035232137</td><td>-0.13522088707618482</td><td>&hellip;</td><td>-0.0015110509232824144</td><td>-0.0015110509232824144</td><td>-0.0015110509232824144</td><td>0.015538860151976431</td><td>0.013517621426203845</td><td>-0.08134120648698065</td><td>0.743420517580498</td><td>0.7432780142548623</td><td>0.7427992699446642</td><td>0.7563778588355978</td><td>0.7563208014063192</td><td>-0.003962065315546012</td><td>0.008440296747652006</td><td>-0.006002610013797714</td><td>0.0044702492342888625</td><td>0.0024312511947036956</td><td>-0.0015110509232824144</td><td>0.5862943391396993</td><td>0.5878593834322124</td><td>0.5894401962885205</td><td>0.7074652280240051</td><td>0.7068184459534343</td><td>0.7085158996998931</td><td>0.7074916297772587</td><td>0.004214446606026726</td><td>0.002181114771445765</td><td>0.0024240940371759866</td><td>0.0038562618871116</td><td>0.00436669577461136</td><td>0.0014775262795115821</td><td>-0.001626976031355502</td><td>0.0029494927434599453</td><td>-0.4651370824554912</td><td>-0.1569738590849741</td><td>0.08043653464481942</td><td>0.26470369022925355</td><td>0.4983430708639657</td></tr><tr><td>0.007917425991875747</td><td>-0.00037839100107288977</td><td>1</td><td>0.002836621622797751</td><td>-0.0017270762444642996</td><td>0.0007421669104085086</td><td>0.002179619852898708</td><td>-0.02270540324045503</td><td>0.5761108710174909</td><td>-0.15074952149015686</td><td>0.7966607385345115</td><td>0.0022402108438379946</td><td>0.001793313269977867</td><td>-0.002214456294861528</td><td>-0.00019307999874908915</td><td>-0.00018573325638275372</td><td>0.0031184382252110996</td><td>-0.0033680560210308285</td><td>-0.003378621844462236</td><td>-0.0033670204985768964</td><td>-0.0022782913243613277</td><td>-0.003511932081388124</td><td>-0.0031352612191952586</td><td>-0.003881068847467549</td><td>-0.0029258975348432146</td><td>-0.0033505124922029133</td><td>-0.002559247357206389</td><td>-0.0032729940735209944</td><td>-0.001084621555828734</td><td>0.00108462155582873</td><td>0.004231075366245346</td><td>-0.0012913676246216865</td><td>-0.0005253656943313156</td><td>0.0012444482226628506</td><td>0.0010398710334205306</td><td>-0.0009434670746599267</td><td>-0.00019916025160278175</td><td>&hellip;</td><td>0.0042281609550089815</td><td>0.0042281609550089815</td><td>0.0042281609550089815</td><td>0.008375570520987039</td><td>-0.00671419063622088</td><td>-0.004642390731302243</td><td>-0.0031345016415436</td><td>-0.0016150839423913234</td><td>-0.0034218387587696517</td><td>-0.0023082638656146664</td><td>-0.003235868466698707</td><td>-0.0013602383904919408</td><td>-0.0033888716424879377</td><td>0.009003476899453028</td><td>-0.004733428090167229</td><td>0.005614739084775776</td><td>0.0042281609550089815</td><td>-0.0037692239748395094</td><td>-0.0010507580856376688</td><td>0.0012077114722154607</td><td>-0.006000834291976932</td><td>-0.0005025521403264842</td><td>-0.0025678096237829354</td><td>-0.0034033625327004667</td><td>0.004289310345529904</td><td>-0.004545080383924308</td><td>-0.000550729968203837</td><td>0.008401502292391755</td><td>0.004114870434398843</td><td>-0.004200652333155454</td><td>-0.0014239168372252664</td><td>0.0025320717966222225</td><td>0.003595027248978508</td><td>0.000571795409354263</td><td>-0.002259417399267957</td><td>0.00031672611610411816</td><td>-0.0036916032443004864</td></tr><tr><td>-0.0045918028630052695</td><td>-0.002302567852481309</td><td>0.002836621622797751</td><td>1</td><td>0.00044653260013443886</td><td>-0.0007265925023272958</td><td>0.003530696955821945</td><td>-0.0007153183529009393</td><td>-0.0002469677269840507</td><td>0.005304590702156782</td><td>0.0031468431797214984</td><td>-0.0018501656333439196</td><td>-0.0019855200479597743</td><td>0.004639694472270228</td><td>-0.0006994313105863596</td><td>-0.002148628346855223</td><td>-0.007399778373458924</td><td>-0.00036387406011787306</td><td>0.00032367384072212334</td><td>-0.0003643486087252424</td><td>-0.0001387047513497202</td><td>-0.0016886485359202952</td><td>-0.0007408673071813585</td><td>0.0005407046809743232</td><td>0.0001465050228351968</td><td>0.00266922216023411</td><td>0.004323862588912817</td><td>-0.0033479916949822326</td><td>-0.00043438304413660273</td><td>0.0004343830441365108</td><td>0.0013515627002632896</td><td>-0.000005663737023073465</td><td>0.0001335174116249571</td><td>-0.00025821578625268786</td><td>0.0030049416348714515</td><td>-0.0015036729066844846</td><td>-0.003052345920329059</td><td>&hellip;</td><td>0.0013499325064134057</td><td>0.0013499325064134057</td><td>0.0013499325064134057</td><td>0.0009211738308017993</td><td>-0.0010976404787036002</td><td>0.000495157232524441</td><td>-0.0007434587933056248</td><td>-0.0006425903034163827</td><td>0.00003486163028747551</td><td>-0.0003106479234465315</td><td>-0.0006073192648943126</td><td>0.0034742949891955117</td><td>-0.003787841108221961</td><td>0.0016777168352904751</td><td>-0.0003171353616405199</td><td>-0.0021068585284736647</td><td>0.0013499325064134057</td><td>-0.000149254235854357</td><td>-0.0007267262013227692</td><td>0.0007879608197672401</td><td>-0.0004793605118667085</td><td>0.0005479364355261209</td><td>-0.0017658823294663898</td><td>0.0003518833513482501</td><td>0.0018968546922944463</td><td>-0.004064966673513941</td><td>0.0006671059750851179</td><td>-0.0013340506894135374</td><td>0.0028737862974820244</td><td>-0.00520698772590246</td><td>0.000801703793485195</td><td>-0.001116240707747035</td><td>0.004908176055550588</td><td>-0.0015720367501634246</td><td>-0.004296473840202138</td><td>-0.004526820461447913</td><td>-0.0017769477542906008</td></tr><tr><td>-0.0005704522106472497</td><td>0.002191272514161916</td><td>-0.0017270762444642998</td><td>0.00044653260013443886</td><td>1</td><td>0.003973339897180192</td><td>-0.002199416869560693</td><td>0.03414953052150721</td><td>0.0007955623976277197</td><td>0.0008558560142034082</td><td>0.0005701964969026256</td><td>-0.0004967342566144464</td><td>-0.0026001613540908948</td><td>0.004291713228338531</td><td>-0.00033392055525764675</td><td>-0.0028338386441610765</td><td>0.004800126165530288</td><td>0.0004998491989980647</td><td>0.00015949929910605688</td><td>0.0005009475564805672</td><td>0.002714904968511883</td><td>-0.0002496032915360592</td><td>0.0013383993034231333</td><td>-0.0006532016362665572</td><td>0.000800729729297818</td><td>-0.0019588304706103054</td><td>-0.0019456597562547344</td><td>0.0023120308307689255</td><td>0.0008860887027977192</td><td>-0.0008860887027979678</td><td>-0.0006902612895723598</td><td>0.0033592135326741034</td><td>0.003963317145546357</td><td>-0.0026316178119499553</td><td>-0.00514027086683799</td><td>0.0035799532097934026</td><td>0.0031799146862987473</td><td>&hellip;</td><td>-0.0006910313027378197</td><td>-0.0006910313027378197</td><td>-0.0006910313027378197</td><td>-0.0020711702709586854</td><td>0.002820055022146893</td><td>-0.002099248096349946</td><td>0.0004149714165760444</td><td>-0.0002638984891702955</td><td>0.0005605959718353852</td><td>0.0001651411895967431</td><td>0.0003169151237531785</td><td>0.0018720020621991486</td><td>0.0002461717794627941</td><td>-0.002810463135843339</td><td>0.0021095376520570003</td><td>-0.0025634997389916443</td><td>-0.0006910313027378197</td><td>0.003465434573746271</td><td>0.0030783972205729575</td><td>0.000518131104137173</td><td>0.0013910333642018313</td><td>-0.00032734152750675175</td><td>-0.0001755415273111775</td><td>0.0009670697878180921</td><td>-0.001350850083372308</td><td>-0.0008705444981992911</td><td>0.0024878267534031977</td><td>0.0038602315018424495</td><td>0.0009160733249261185</td><td>-0.0036879796846018566</td><td>0.002072694952002621</td><td>0.002538730639622824</td><td>0.002204021963765657</td><td>-0.003010371970463974</td><td>-0.0008420598791021157</td><td>0.0017026248514040226</td><td>-0.0008350944593033289</td></tr><tr><td>&hellip;</td><td>&hellip;</td><td>&hellip;</td><td>&hellip;</td><td>&hellip;</td><td>&hellip;</td><td>&hellip;</td><td>&hellip;</td><td>&hellip;</td><td>&hellip;</td><td>&hellip;</td><td>&hellip;</td><td>&hellip;</td><td>&hellip;</td><td>&hellip;</td><td>&hellip;</td><td>&hellip;</td><td>&hellip;</td><td>&hellip;</td><td>&hellip;</td><td>&hellip;</td><td>&hellip;</td><td>&hellip;</td><td>&hellip;</td><td>&hellip;</td><td>&hellip;</td><td>&hellip;</td><td>&hellip;</td><td>&hellip;</td><td>&hellip;</td><td>&hellip;</td><td>&hellip;</td><td>&hellip;</td><td>&hellip;</td><td>&hellip;</td><td>&hellip;</td><td>&hellip;</td><td>&hellip;</td><td>&hellip;</td><td>&hellip;</td><td>&hellip;</td><td>&hellip;</td><td>&hellip;</td><td>&hellip;</td><td>&hellip;</td><td>&hellip;</td><td>&hellip;</td><td>&hellip;</td><td>&hellip;</td><td>&hellip;</td><td>&hellip;</td><td>&hellip;</td><td>&hellip;</td><td>&hellip;</td><td>&hellip;</td><td>&hellip;</td><td>&hellip;</td><td>&hellip;</td><td>&hellip;</td><td>&hellip;</td><td>&hellip;</td><td>&hellip;</td><td>&hellip;</td><td>&hellip;</td><td>&hellip;</td><td>&hellip;</td><td>&hellip;</td><td>&hellip;</td><td>&hellip;</td><td>&hellip;</td><td>&hellip;</td><td>&hellip;</td><td>&hellip;</td><td>&hellip;</td><td>&hellip;</td></tr><tr><td>0.04770564651922235</td><td>-0.4651370824554912</td><td>0.003595027248978508</td><td>0.004908176055550588</td><td>0.002204021963765657</td><td>0.4430092357502365</td><td>-0.0015219957873547272</td><td>-0.016437533277407306</td><td>-0.3781176029495978</td><td>0.03603245876901593</td><td>0.0026703476137642378</td><td>-0.006586134299671042</td><td>0.00461998062928485</td><td>0.003203557312516652</td><td>0.003962926803507999</td><td>-0.00046385275416894773</td><td>-0.0010580614604689812</td><td>-0.6574356700257723</td><td>-0.6477335996817698</td><td>-0.6574351617629731</td><td>-0.5921330567571854</td><td>-0.6324734010951043</td><td>-0.655017123246803</td><td>-0.636629303634189</td><td>-0.646045082105221</td><td>-0.0022202435618332707</td><td>-0.002877214880773874</td><td>0.0002603893665824224</td><td>0.19473479366796784</td><td>-0.19473479366796784</td><td>0.0013269067866670428</td><td>-0.5552362453794027</td><td>-0.513860477389615</td><td>0.5131083533982003</td><td>-0.05017190324175761</td><td>-0.05086622658137377</td><td>0.20486216667898915</td><td>&hellip;</td><td>0.0013272300366106815</td><td>0.0013272300366106815</td><td>0.0013272300366106815</td><td>-0.023392744802639868</td><td>-0.021003487982898188</td><td>0.1242839627454494</td><td>-0.6401201528357924</td><td>-0.6404085652107104</td><td>-0.6399923369403572</td><td>-0.6515520568283352</td><td>-0.6515088247415651</td><td>0.0034509210628444922</td><td>-0.006026941760205114</td><td>0.003915808807679355</td><td>-0.0025729495726770513</td><td>-0.0021063998790940668</td><td>0.0013272300366106815</td><td>-0.47872300448702526</td><td>-0.47902096232906094</td><td>-0.47956246776888367</td><td>-0.609165030501231</td><td>-0.60937673877697</td><td>-0.610077632444146</td><td>-0.609171658077355</td><td>0.000059637575998672714</td><td>-0.0012191470648234394</td><td>-0.0014531359448973823</td><td>-0.0026484737880406043</td><td>0.00007632894699679356</td><td>-0.003910193406858348</td><td>0.0009721214954387538</td><td>-0.0018419967704415702</td><td>0.9999999999999999</td><td>-0.25830911225992387</td><td>-0.30792867420658687</td><td>-0.35295243923304315</td><td>-0.735425379332541</td></tr><tr><td>0.012602850196628627</td><td>-0.1569738590849741</td><td>0.0005717954093542631</td><td>-0.0015720367501634244</td><td>-0.0030103719704639743</td><td>0.1201220359568861</td><td>-0.0011358179365472587</td><td>-0.008374254196067613</td><td>-0.12797638259623856</td><td>0.010083043683961538</td><td>-0.0037605243972385857</td><td>0.00571890715742588</td><td>-0.001222864892321493</td><td>-0.0023102559203584338</td><td>0.004922708952292458</td><td>-0.003581813816815024</td><td>-0.004045463252001213</td><td>-0.0805348863550965</td><td>-0.07978097346060944</td><td>-0.08053626632888904</td><td>-0.08836353485328555</td><td>-0.06601591086663423</td><td>-0.08501006101004556</td><td>-0.07663393330581635</td><td>-0.08098256481623868</td><td>0.004011439195302195</td><td>-0.0013450173125470343</td><td>0.001554746358504374</td><td>-0.10143640503854286</td><td>0.10143640503854286</td><td>-0.00517536800107382</td><td>-0.08260255851686844</td><td>-0.07864889497629995</td><td>0.07415262192466193</td><td>0.01909079448633173</td><td>0.026510056266762654</td><td>-0.0924458147830231</td><td>&hellip;</td><td>-0.005175989802762897</td><td>-0.005175989802762897</td><td>-0.005175989802762897</td><td>-0.000971346860364211</td><td>0.020929835249853847</td><td>-0.05588535707487825</td><td>-0.07945220110667435</td><td>-0.07822605127722324</td><td>-0.07736023862536541</td><td>-0.08032589540493207</td><td>-0.07914751670547175</td><td>-0.002426901830718723</td><td>-0.0018252937563705144</td><td>-0.000967793660772168</td><td>-0.004236585771998165</td><td>-0.0027908536510668565</td><td>-0.005175989802762897</td><td>-0.07256802452784236</td><td>-0.07229930076101733</td><td>-0.07123041550754901</td><td>-0.07319372401384083</td><td>-0.07410161945816272</td><td>-0.0748533773291152</td><td>-0.07648248613972104</td><td>-0.0040087652544593885</td><td>-0.0033501395087819326</td><td>-0.0022470159242042164</td><td>-0.0003515360271087144</td><td>-0.006087907692973942</td><td>-0.005219717915631802</td><td>-0.00009718130508292959</td><td>-0.000762449350718894</td><td>-0.25830911225992387</td><td>0.9999999999999998</td><td>0.06638363851403532</td><td>-0.06603850435504893</td><td>-0.32501826130446215</td></tr><tr><td>-0.011356125642465338</td><td>0.08043653464481942</td><td>-0.002259417399267957</td><td>-0.004296473840202139</td><td>-0.0008420598791021157</td><td>0.02659785973540774</td><td>0.002762929056969013</td><td>0.004138773679560465</td><td>0.06444416664037725</td><td>-0.0035336615281299534</td><td>-0.0033516336189887584</td><td>0.002592873468881893</td><td>0.0011823862420105719</td><td>-0.004517082988481224</td><td>-0.0013179389639532302</td><td>0.002315383633963025</td><td>0.0022099155654734513</td><td>0.12771489719017373</td><td>0.11951849314974672</td><td>0.12771508845412483</td><td>0.14379934723455692</td><td>0.11589738196132676</td><td>0.13986866488074107</td><td>0.11073242930949861</td><td>0.12454400153038282</td><td>0.007081831567543983</td><td>0.006931307039372357</td><td>0.002053291609496798</td><td>-0.0648662423144849</td><td>0.0648662423144849</td><td>0.005930550562057041</td><td>0.13558735367085836</td><td>0.12767042540264215</td><td>-0.12355130756750196</td><td>0.02944772791370152</td><td>0.006673307821826225</td><td>-0.07328089869685903</td><td>&hellip;</td><td>0.005929657650462606</td><td>0.005929657650462606</td><td>0.005929657650462606</td><td>0.023371756848586</td><td>-0.007699840513374086</td><td>-0.04385520067362952</td><td>0.1260394233735784</td><td>0.1238255767415046</td><td>0.12263496873387547</td><td>0.1270551432486157</td><td>0.12568753861141202</td><td>0.002117545597359983</td><td>0.005462335963985856</td><td>-0.0015989045044219935</td><td>0.007554921578265701</td><td>0.0038584171305849234</td><td>0.005929657650462606</td><td>0.11510011038398762</td><td>0.12127235937571822</td><td>0.11240751451407237</td><td>0.11698705992280377</td><td>0.11650811063659408</td><td>0.11927187169760539</td><td>0.12079954414972321</td><td>0.0021556920565726353</td><td>0.0021975313566573347</td><td>-0.0024947330179182444</td><td>0.00012364639706061308</td><td>0.004345671330002707</td><td>0.0005387009612486942</td><td>-0.0037440990750542275</td><td>0.0023767493520834536</td><td>-0.3079286742065868</td><td>0.06638363851403531</td><td>1</td><td>0.2371670874232743</td><td>-0.06804662056053945</td></tr><tr><td>-0.024614597894047054</td><td>0.26470369022925355</td><td>0.00031672611610411816</td><td>-0.004526820461447913</td><td>0.0017026248514040228</td><td>0.07138108632862197</td><td>-0.0013717817552834875</td><td>-0.004721940363697447</td><td>0.2165438505737108</td><td>-0.02055105593527626</td><td>-0.000997789067152584</td><td>-0.002061289632341357</td><td>-0.0047675891075099515</td><td>0.001963607921332731</td><td>-0.0034396984324922184</td><td>0.002377627935435075</td><td>0.00006538944256797002</td><td>0.3146524804609388</td><td>0.30125243815782193</td><td>0.31465223603047016</td><td>0.30811558755183915</td><td>0.298863399870991</td><td>0.32825753163035903</td><td>0.29329312440995947</td><td>0.3026811792337131</td><td>-0.0014625400011626585</td><td>0.00021636773445934235</td><td>0.0027606280589521684</td><td>-0.07417531216266414</td><td>0.07417531216266414</td><td>-0.0054306704485699115</td><td>0.2896052593432555</td><td>0.26515322560237997</td><td>-0.2706238411890056</td><td>0.025420292851836286</td><td>0.020893193177627927</td><td>-0.09391298792010366</td><td>&hellip;</td><td>-0.00543180670905028</td><td>-0.00543180670905028</td><td>-0.00543180670905028</td><td>0.010824280691351369</td><td>0.009214047973634914</td><td>-0.05609551368190936</td><td>0.30522823393168946</td><td>0.307492815112208</td><td>0.3074433889487827</td><td>0.31164617985221</td><td>0.3126778851338649</td><td>-0.006027484428002714</td><td>0.0006280708297527726</td><td>-0.00008370792167351961</td><td>-0.005375769999349422</td><td>0.0005437491386760237</td><td>-0.00543180670905028</td><td>0.24635443777407748</td><td>0.2547974109147824</td><td>0.2524911491623876</td><td>0.29208534715771983</td><td>0.29328747285145385</td><td>0.2922381597706389</td><td>0.28913335872234</td><td>-0.0007395567774847541</td><td>-0.00007880956307668456</td><td>-0.001250865119252942</td><td>0.0018811956779391586</td><td>0.0022091656375357147</td><td>0.0011698713406287345</td><td>-0.0022377223835694953</td><td>-0.000815744639347737</td><td>-0.35295243923304315</td><td>-0.06603850435504893</td><td>0.23716708742327428</td><td>1</td><td>0.05559037654764091</td></tr><tr><td>-0.0488429499872255</td><td>0.4983430708639657</td><td>-0.0036916032443004864</td><td>-0.0017769477542906008</td><td>-0.0008350944593033289</td><td>-0.5836747528829795</td><td>0.001947958861748426</td><td>0.023156656135708362</td><td>0.40520356703214505</td><td>-0.038118751961209785</td><td>0.0006523279345471901</td><td>0.003554657044091145</td><td>-0.0032015303818905432</td><td>-0.0013524727184959994</td><td>-0.005880807657623131</td><td>0.0012895201463129823</td><td>0.0029390750474338457</td><td>0.632378253189832</td><td>0.6277695074719069</td><td>0.6323785544708224</td><td>0.5633760499003585</td><td>0.6046003723208457</td><td>0.6248471995143887</td><td>0.6187298588223148</td><td>0.624768569508226</td><td>-0.0016462598267119814</td><td>0.0018575332563673047</td><td>-0.002650392567313106</td><td>-0.10915241943903498</td><td>0.10915241943903498</td><td>0.0015890001265164793</td><td>0.5276922546822115</td><td>0.48992462066493425</td><td>-0.48594619361758534</td><td>0.026790537918687025</td><td>0.03104492384145017</td><td>-0.11725842916741837</td><td>&hellip;</td><td>0.0015896259126637557</td><td>0.0015896259126637557</td><td>0.0015896259126637557</td><td>0.015971547701395538</td><td>0.009640550910905318</td><td>-0.07169635879236023</td><td>0.616199824068275</td><td>0.6157385891437748</td><td>0.6151231386730199</td><td>0.6269451274830703</td><td>0.6262740722766107</td><td>-0.001096271365367311</td><td>0.0058792029678393365</td><td>-0.003179908991600692</td><td>0.004770337990650093</td><td>0.002694439132126986</td><td>0.0015896259126637557</td><td>0.4573176884502452</td><td>0.453153166541294</td><td>0.4563697187682497</td><td>0.5853154286839107</td><td>0.5858762937622388</td><td>0.5866018301784788</td><td>0.5870872803861819</td><td>0.001957967973871648</td><td>0.0027394107487388555</td><td>0.004044381173450171</td><td>0.002494463955577356</td><td>0.0016796569349575383</td><td>0.006909696167460248</td><td>0.0007632705466489812</td><td>0.002015924614567817</td><td>-0.7354253793325412</td><td>-0.3250182613044621</td><td>-0.06804662056053945</td><td>0.05559037654764091</td><td>1</td></tr></tbody></table></div>"
      ],
      "text/plain": [
       "shape: (81, 81)\n",
       "┌───────────┬───────────┬───────────┬───────────┬───┬───────────┬───────────┬───────────┬──────────┐\n",
       "│ age       ┆ contract_ ┆ remaining ┆ has_speci ┆ … ┆ times_in_ ┆ times_in_ ┆ times_in_ ┆ times_in │\n",
       "│ ---       ┆ lifetime_ ┆ _binding_ ┆ al_offer  ┆   ┆ p2        ┆ p3        ┆ p4        ┆ _p5      │\n",
       "│ f64       ┆ days      ┆ days      ┆ ---       ┆   ┆ ---       ┆ ---       ┆ ---       ┆ ---      │\n",
       "│           ┆ ---       ┆ ---       ┆ f64       ┆   ┆ f64       ┆ f64       ┆ f64       ┆ f64      │\n",
       "│           ┆ f64       ┆ f64       ┆           ┆   ┆           ┆           ┆           ┆          │\n",
       "╞═══════════╪═══════════╪═══════════╪═══════════╪═══╪═══════════╪═══════════╪═══════════╪══════════╡\n",
       "│ 1         ┆ -0.062952 ┆ 0.0079174 ┆ -0.004591 ┆ … ┆ 0.0126028 ┆ -0.011356 ┆ -0.024614 ┆ -0.04884 │\n",
       "│           ┆ 587905347 ┆ 259918757 ┆ 802863005 ┆   ┆ 501966286 ┆ 125642465 ┆ 597894047 ┆ 29499872 │\n",
       "│           ┆ 7         ┆ 47        ┆ 269       ┆   ┆ 27        ┆ 338       ┆ 057       ┆ 255      │\n",
       "│ -0.062952 ┆ 1         ┆ -0.000378 ┆ -0.002302 ┆ … ┆ -0.156973 ┆ 0.0804365 ┆ 0.2647036 ┆ 0.498343 │\n",
       "│ 587905347 ┆           ┆ 391001072 ┆ 567852481 ┆   ┆ 859084974 ┆ 346448194 ┆ 902292535 ┆ 07086396 │\n",
       "│ 7         ┆           ┆ 8898      ┆ 3092      ┆   ┆ 1         ┆ 2         ┆ 5         ┆ 57       │\n",
       "│ 0.0079174 ┆ -0.000378 ┆ 1         ┆ 0.0028366 ┆ … ┆ 0.0005717 ┆ -0.002259 ┆ 0.0003167 ┆ -0.00369 │\n",
       "│ 259918757 ┆ 391001072 ┆           ┆ 216227977 ┆   ┆ 954093542 ┆ 417399267 ┆ 261161041 ┆ 16032443 │\n",
       "│ 47        ┆ 88977     ┆           ┆ 51        ┆   ┆ 63        ┆ 957       ┆ 1816      ┆ 004864   │\n",
       "│ -0.004591 ┆ -0.002302 ┆ 0.0028366 ┆ 1         ┆ … ┆ -0.001572 ┆ -0.004296 ┆ -0.004526 ┆ -0.00177 │\n",
       "│ 802863005 ┆ 567852481 ┆ 216227977 ┆           ┆   ┆ 036750163 ┆ 473840202 ┆ 820461447 ┆ 69477542 │\n",
       "│ 2695      ┆ 309       ┆ 51        ┆           ┆   ┆ 4246      ┆ 138       ┆ 913       ┆ 906008   │\n",
       "│ -0.000570 ┆ 0.0021912 ┆ -0.001727 ┆ 0.0004465 ┆ … ┆ -0.003010 ┆ -0.000842 ┆ 0.0017026 ┆ -0.00083 │\n",
       "│ 452210647 ┆ 725141619 ┆ 076244464 ┆ 326001344 ┆   ┆ 371970463 ┆ 059879102 ┆ 248514040 ┆ 50944593 │\n",
       "│ 2497      ┆ 16        ┆ 2998      ┆ 3886      ┆   ┆ 974       ┆ 1157      ┆ 226       ┆ 033289   │\n",
       "│ …         ┆ …         ┆ …         ┆ …         ┆ … ┆ …         ┆ …         ┆ …         ┆ …        │\n",
       "│ 0.0477056 ┆ -0.465137 ┆ 0.0035950 ┆ 0.0049081 ┆ … ┆ -0.258309 ┆ -0.307928 ┆ -0.352952 ┆ -0.73542 │\n",
       "│ 465192223 ┆ 082455491 ┆ 272489785 ┆ 760555505 ┆   ┆ 112259923 ┆ 674206586 ┆ 439233043 ┆ 53793325 │\n",
       "│ 5         ┆ 2         ┆ 08        ┆ 88        ┆   ┆ 87        ┆ 87        ┆ 15        ┆ 41       │\n",
       "│ 0.0126028 ┆ -0.156973 ┆ 0.0005717 ┆ -0.001572 ┆ … ┆ 0.9999999 ┆ 0.0663836 ┆ -0.066038 ┆ -0.32501 │\n",
       "│ 501966286 ┆ 859084974 ┆ 954093542 ┆ 036750163 ┆   ┆ 999999998 ┆ 385140353 ┆ 504355048 ┆ 82613044 │\n",
       "│ 27        ┆ 1         ┆ 631       ┆ 4244      ┆   ┆           ┆ 2         ┆ 93        ┆ 6215     │\n",
       "│ -0.011356 ┆ 0.0804365 ┆ -0.002259 ┆ -0.004296 ┆ … ┆ 0.0663836 ┆ 1         ┆ 0.2371670 ┆ -0.06804 │\n",
       "│ 125642465 ┆ 346448194 ┆ 417399267 ┆ 473840202 ┆   ┆ 385140353 ┆           ┆ 874232743 ┆ 66205605 │\n",
       "│ 338       ┆ 2         ┆ 957       ┆ 139       ┆   ┆ 1         ┆           ┆           ┆ 3945     │\n",
       "│ -0.024614 ┆ 0.2647036 ┆ 0.0003167 ┆ -0.004526 ┆ … ┆ -0.066038 ┆ 0.2371670 ┆ 1         ┆ 0.055590 │\n",
       "│ 597894047 ┆ 902292535 ┆ 261161041 ┆ 820461447 ┆   ┆ 504355048 ┆ 874232742 ┆           ┆ 37654764 │\n",
       "│ 054       ┆ 5         ┆ 1816      ┆ 913       ┆   ┆ 93        ┆ 8         ┆           ┆ 091      │\n",
       "│ -0.048842 ┆ 0.4983430 ┆ -0.003691 ┆ -0.001776 ┆ … ┆ -0.325018 ┆ -0.068046 ┆ 0.0555903 ┆ 1        │\n",
       "│ 949987225 ┆ 708639657 ┆ 603244300 ┆ 947754290 ┆   ┆ 261304462 ┆ 620560539 ┆ 765476409 ┆          │\n",
       "│ 5         ┆           ┆ 4864      ┆ 6008      ┆   ┆ 1         ┆ 45        ┆ 1         ┆          │\n",
       "└───────────┴───────────┴───────────┴───────────┴───┴───────────┴───────────┴───────────┴──────────┘"
      ]
     },
     "execution_count": 37,
     "metadata": {},
     "output_type": "execute_result"
    }
   ],
   "source": [
    "correlation_matrix"
   ]
  },
  {
   "cell_type": "code",
   "execution_count": 38,
   "id": "1f553063",
   "metadata": {},
   "outputs": [
    {
     "data": {
      "application/vnd.plotly.v1+json": {
       "config": {
        "plotlyServerURL": "https://plot.ly"
       },
       "data": [
        {
         "coloraxis": "coloraxis",
         "hovertemplate": "Features: %{x}<br>Features: %{y}<br>Correlation: %{z}<extra></extra>",
         "name": "0",
         "type": "heatmap",
         "x": [
          "age",
          "contract_lifetime_days",
          "remaining_binding_days",
          "has_special_offer",
          "is_magenta1_customer",
          "available_gb",
          "gross_mrc",
          "has_done_upselling",
          "contract_binding_days",
          "completion_rate",
          "is_bounded",
          "is_huawei",
          "is_oneplus",
          "is_samsung",
          "is_xiaomi",
          "is_iphone",
          "n_contracts_per_customer",
          "avg_monthly_usage_gb",
          "median_monthly_usage_gb",
          "total_usage_gb",
          "usage_std_gb",
          "min_monthly_usage_gb",
          "max_monthly_usage_gb",
          "usage_q25_gb",
          "usage_q75_gb",
          "months_with_roaming",
          "ever_used_roaming",
          "always_used_roaming",
          "zero_usage_months",
          "active_usage_months",
          "avg_delta_1mo",
          "delta_1mo_volatility",
          "max_delta_1mo_increase",
          "max_delta_1mo_decrease",
          "months_with_delta_1mo_increase",
          "months_with_delta_1mo_decrease",
          "months_with_no_delta_1mo_change",
          "avg_delta_2mo",
          "delta_2mo_volatility",
          "max_delta_2mo_increase",
          "max_delta_2mo_decrease",
          "months_with_delta_2mo_increase",
          "months_with_delta_2mo_decrease",
          "months_with_no_delta_2mo_change",
          "avg_delta_3mo",
          "max_delta_3mo_increase",
          "max_delta_3mo_decrease",
          "months_with_delta_3mo_increase",
          "months_with_delta_3mo_decrease",
          "months_with_no_delta_3mo_change",
          "last_1_2mo_rolling_avg",
          "last_2_2mo_rolling_avg",
          "last_3_2mo_rolling_avg",
          "last_1_3mo_rolling_avg",
          "last_2_3mo_rolling_avg",
          "last_1_delta_1mo",
          "last_2_delta_1mo",
          "last_3_delta_1mo",
          "last_1_delta_2mo",
          "last_2_delta_2mo",
          "last_1_delta_3mo",
          "last_1_2mo_rolling_stdev",
          "last_2_2mo_rolling_stdev",
          "last_3_2mo_rolling_stdev",
          "last_1_month_usage_gb",
          "last_2_month_usage_gb",
          "last_3_month_usage_gb",
          "last_4_month_usage_gb",
          "n_rechnungsanfragen",
          "n_produkte&services-tarifdetails",
          "n_prolongation",
          "n_produkte&services-tarifwechsel",
          "days_since_last_rechnungsanfragen",
          "days_since_last_produkte&services-tarifdetails",
          "days_since_last_prolongation",
          "days_since_last_produkte&services-tarifwechsel",
          "times_in_p1",
          "times_in_p2",
          "times_in_p3",
          "times_in_p4",
          "times_in_p5"
         ],
         "xaxis": "x",
         "y": [
          "age",
          "contract_lifetime_days",
          "remaining_binding_days",
          "has_special_offer",
          "is_magenta1_customer",
          "available_gb",
          "gross_mrc",
          "has_done_upselling",
          "contract_binding_days",
          "completion_rate",
          "is_bounded",
          "is_huawei",
          "is_oneplus",
          "is_samsung",
          "is_xiaomi",
          "is_iphone",
          "n_contracts_per_customer",
          "avg_monthly_usage_gb",
          "median_monthly_usage_gb",
          "total_usage_gb",
          "usage_std_gb",
          "min_monthly_usage_gb",
          "max_monthly_usage_gb",
          "usage_q25_gb",
          "usage_q75_gb",
          "months_with_roaming",
          "ever_used_roaming",
          "always_used_roaming",
          "zero_usage_months",
          "active_usage_months",
          "avg_delta_1mo",
          "delta_1mo_volatility",
          "max_delta_1mo_increase",
          "max_delta_1mo_decrease",
          "months_with_delta_1mo_increase",
          "months_with_delta_1mo_decrease",
          "months_with_no_delta_1mo_change",
          "avg_delta_2mo",
          "delta_2mo_volatility",
          "max_delta_2mo_increase",
          "max_delta_2mo_decrease",
          "months_with_delta_2mo_increase",
          "months_with_delta_2mo_decrease",
          "months_with_no_delta_2mo_change",
          "avg_delta_3mo",
          "max_delta_3mo_increase",
          "max_delta_3mo_decrease",
          "months_with_delta_3mo_increase",
          "months_with_delta_3mo_decrease",
          "months_with_no_delta_3mo_change",
          "last_1_2mo_rolling_avg",
          "last_2_2mo_rolling_avg",
          "last_3_2mo_rolling_avg",
          "last_1_3mo_rolling_avg",
          "last_2_3mo_rolling_avg",
          "last_1_delta_1mo",
          "last_2_delta_1mo",
          "last_3_delta_1mo",
          "last_1_delta_2mo",
          "last_2_delta_2mo",
          "last_1_delta_3mo",
          "last_1_2mo_rolling_stdev",
          "last_2_2mo_rolling_stdev",
          "last_3_2mo_rolling_stdev",
          "last_1_month_usage_gb",
          "last_2_month_usage_gb",
          "last_3_month_usage_gb",
          "last_4_month_usage_gb",
          "n_rechnungsanfragen",
          "n_produkte&services-tarifdetails",
          "n_prolongation",
          "n_produkte&services-tarifwechsel",
          "days_since_last_rechnungsanfragen",
          "days_since_last_produkte&services-tarifdetails",
          "days_since_last_prolongation",
          "days_since_last_produkte&services-tarifwechsel",
          "times_in_p1",
          "times_in_p2",
          "times_in_p3",
          "times_in_p4",
          "times_in_p5"
         ],
         "yaxis": "y",
         "z": {
          "bdata": "AAAAAAAA8D9FhUAqqR2wv4z8oO0CN4A/TkUFstrOcr8JPVnLTLFCv3Ml/KyDZWA/GEQZ5VBYV7+KzwAx2UOlv65ft+M2Aqi/pLFZmZT3bD/G+R6Fx0dwP2RH8DlJxme/kkHXwtIQYD/hFiYZPChPP0QCvEsLdlw/jl8/X2a5MT9JWEpknMprv634BIqyuLK/bTpeOU04sr+ydrf1sbiyvw6JsMytRLO/Hn5H39fdsL9x1h4JmIazv4YPHhz4irG/rU1/Lhx2sr8xrJP+4NVjP0fqFMB/qWc/ow2+KS+lZj/2m5yIIt2EPxOcnIgi3YS/iGFlpBIERz891TLN9uKxv+EjkXq8eLC/6TWvd7m0sD9mMeF4SjVmv6KMqUAAEnC/HwNlHmqLiz8lxFAfAcNvP3Qjg/puoa6/EimqZA5for+bI3uVAnOlP7tss1wLFmY/FwFND/hQfb9/KLT7lCiJP5Ja2OTY/0Y/klrY5Nj/Rj+SWtjk2P9GP6IY7Bih6Ga/WnkkBPQhJb+deIVjTPSAP9iaU2sD+7G/Saq7fng5sr/TpPchIXmyv4uc+Z6siLK/RiMRRXWQsr8U9t+GDUBiv2h8vc3ks3M/6BsYLfS+Xr+1G0cr7R1lPz/mAlVq/2c/klrY5Nj/Rj+++vDrbsqtv0sY+GhFr6+/RgJ4m4yurr8KXA0h7maxv0gtvCWBxbG/1qJHHfDusL/wRDwMnVCxv2DCfYKcQ2i/XJwibLgAbr8/lnyDCV9RvzH7mnWcIGQ/OmLDGUXOYb9ZVIonVzVcv64K604buXC/NVYlpXmqRz/N6UTf32yoP29/cuuFz4k/twHzYeFBh787JNazkTSZvxGsq3HxAam/RYVAKqkdsL8AAAAAAADwP3ODhvlYzDi/N3zxs9XcYr+hTR55bvNhPx2Z9OLTcqC/bfnlFzDyaD+BocSKSvBxP15sQhsfJuo/Tq8Ol0ywsr8sn7uQDpdlP2JhHYUKoDI/WaF/4A4nc79GjlLrluhlvzRXtnnFN3W//Lt+XnyAdj8wyzuA319jPxwkTBPYbOg/qobCBxEH6D/BbmZI2WzoP0YY/kpjRec/XmXL1tu/5j8+u09MWL7oP4Pv/UZka+c/9oBP19Ee6D+mr0ZOFeF0vxEfG5PyImC/em0tzQ/+c7/BY7mmJEK4v6ZjuaYkQrg/JjtqnxrHWL+hBCnCxcvlP/nkzbvlLuQ/TErap1ci5L+3tWR1a7egP8eoeW0EbqE/rzndA+tOwb+VZrGJlehzP90EOqQ6kOI/HMfYBl9U2D+AD4IRJu7XvyntV2VH05Y/q04KtMFGkj+ZANw8ID68vxriE5POwVi/GuITk87BWL8a4hOTzsFYv6fdW4HW0o8/ieGPbyCviz+Kw639xtK0v1DgRdMZyuc/QO9h+e7I5z/U9Xz5AsXnP7jB41Y/NOg/jGNqrscz6D+WNkfPhjpwv/5i/3MlSYE/y80yWzGWeL+RhEJkZU9yP0bf0wu06mM/GuITk87BWL8K641Y7MLiP1OeT3u+z+I/ejnAr7Hc4j/5ci0ejqPmP6CLsrdBnuY/nQY9iSms5j8+yYJ8xaPmP9F6f+UqQ3E/3f6WEyHeYT+hUZaTsdtjP7IdFNYql28/ClSy+M/icT/ouSrDMTVYP3ilJTYIqFq/YjTv24gpaD93Z1NTzsTdv3FmjCu4F8S/bPyzHX2XtD/2kSq/5/DQP+Ih41Xa5N8/jPyg7QI3gD9yg4b5WMw4vwAAAAAAAPA/Fr47o9M8Zz9sBzb/4Utcv8ZT302/UUg/6peMf/7aYT+I5HDRFUCXv4B8vBCAb+I/OAxYpMJLw7/0aUCpPn7pP0YI7wkQWmI/jXsldrNhXT9B3awrDSRivwBjbo+wTim/tnUdhixYKL893SPG1otpP8r6w05Tl2u/4wN7ynuta793p6RdJ5VrvzgWU1fsqWK/F0TuLQ7FbL/e2dOMHq9pvzCsv/gwy2+/T7gnRw34Z7938oWyiHJrvz5Pc3Yh92S//E0vUPfPar8tsReHO8VRvxuxF4c7xVE/Bu8ypZpUcT8zUsBtYyhVvwo+4DwWN0G/Kem+GphjVD9MiCgFiQlRPzmWgR1g6k6/qynbiLUaKr+NtFz22RpEPyRJslePEm6/Ckgkn9BpX78PVAEB6mdnP++/Wh24T1o/ZXDoCqc+YL+rovfQGhxRP+5AYlCMUXE/7kBiUIxRcT/uQGJQjFFxP0WqyAs2J4E/1BI601aAe78H8dtF5gNzv+4fRcGGrWm/i5afLSd2Wr/ZifSxHQhsv/z9BrrH6GK/eNiipxuCar8xKrnZQElWvzyW/pv6wmu/w+OqNmpwgj8sFobtW2Nzv7866gt7/3Y/7kBiUIxRcT9P5oC2ouBuv13ZSOcyN1G/fcKsUYLJUz9oK4awVJR4v8wk7YC2d0C/Z3ZoSxYJZb8PucdYXuFrv+TMgPqqkXE/d9K0udydcr+GBOeZ2wtCv/ArqozONIE/gJwWH8HacD/ox0gGtDRxvyT54A9XVFe/Xv7XsSO+ZD/HjM2OUXNtPyegpUqRvEI/LNPPeleCYr8tEHpPyME0P8XOh2baPW6/T0UFstrOcr82fPGz1dxivxa+O6PTPGc/AAAAAAAA8D/NYwfqkkM9Pz9be4QZz0e/touifmjsbD+Uv0l3hnBHv4wegU9uLzC/SNJZOUS6dT9BhlyRaMdpP38VyzgoUF6/lEB99e9DYL8mbVmAEgFzP+X/aE1B60a/vF1kDwCaYb/dVcnhOk9+v0hKJTDL2De/tht7j1g2NT9df9tbweA3v8Cj370oLiK/gCkej7SqW7+XR3Ft2EZIv49L9nXCt0E/8g9FkOQzIz/Rbkm8w91lP/6klgbmtXE//5LKWj9ta7+n2u/3vHc8vwfU7/e8dzw/c+YmZt0kVj90jaotZMHXvig0L9UZgCE/jsx1WyTsML9RiorB0Z1oP2xdUX3coli/nK/svDsBab/dBs4NLfFbv0Qo57olRGA/BMaxkseh2L6OE8T+Nzhlv956pagZ9XC/5ZnCZ4opdT/eomtZKUhnv+/q4P0GHlY/7+rg/QYeVj/v6uD9Bh5WP3yzFb1dL04/OvFcfdb7Ub8Hd14PrjlAPz6EAZqVXEi/Uk9AK3AORb/yGep+DEcCP3tT+avOWzS/mQfDMJDmQ78tOF7rH3ZsPyQO1bWtB2+/kR0hvNp8Wz8M5LMBpsg0v7JYRA9nQmG/7+rg/QYeVj/PJKIfJJAjv8wsSKI40Ee/WHLI+eTRST+esLG4VWo/vz9REols9EE/6BOitqXuXL/EnW18nw83P/tEmDf8E18/387ALm2mcL+/T0gsF9xFP6RgQwVq21W/92Q6RcSKZz8REeUf7FN1v4ALfMktRUo/TSVkVdpJUr9r/kN6mBp0P+YihpuZwVm/b80b6i2Zcb/1dWMdt4pyv/W/ch8PHV2/CT1Zy0yxQr+hTR55bvNhP20HNv/hS1y/zWMH6pJDPT8AAAAAAADwPwrloE5ZRnA/1xPN8IIEYr8o+oYZDHyhP2oRaD2pEUo/I8qoy3ALTD8EFTunJ69CP9n3h7HoRkC/1lVd/+5MZb9wNlr/L5RxP/5aQt1B4jW/39+Pif02Z7+TrVwOTKlzPwBpN/sJYUA/lHz6i+jnJD9Y0KCvQGpAP9nwpYGRPWY/7gNg+aVbML9rJS5Pp+1VP+y+LdVzZ0W/DdEIAAI9Sj8X5egZ9wtgv16qbEGw4F+/EKDGGa7wYj8dyPv/DAlNPxLR+/8MCU2/3FIL1VSeRr8KcmsIyIRrP6x5YdjWO3A/wj4DDueOZb/9GkD09g11v8L6ob60U20/A3qdssMMaj9AxUBTrb00v69h8B6c+2U/okZjmLecWD/NyPm1UkpgvwwVq+OJvFu/VYxoyTAOUj8hN2tIFYNaPyU7QmzKpEa/JTtCbMqkRr8lO0JsyqRGv8W8gBKP92C/FjL6ghUaZz+uv3A9cTJhv31UuKkQMjs/rS9lYXtLMb/vOcKunl5CPzRtXwQ4pSU/O66VF/TEND+L86bovqteP1gc870TIjA/KHUp6PcFZ7/gXzVnBUhhP0ROWnEMAGW/JTtCbMqkRr8UMSQFi2NsP3zdXezdN2k/4wnbEmb6QD8uHaSzaspWP71kvyfhczW/VlXfPDICJ7+Y1kmOXrBPP7gzgzvgIVa/Gh4iE6iGTL/8SWjRWWFkPwPbxQF+n28/jGpTfJQETj/DFUcEQTZuv23nEaHB+mA/085BohrMZD/OFiFIKw5iP0eYLiU1qWi/d58t0rWXS7+c+3aDU+VbPxrNJbJHXUu/dCX8rINlYD8dmfTi03Kgv8ZT302/UUg/P1t7hBnPR78K5aBOWUZwP////////+8/Uy5A7GskZL872Zn94Paqv2Jl5hN6c5q/BCCKSsCNfD/Hztq68mNQv/57VgFkZoG/7TYpjV2ATz/fGwwefFRoP+xn33gTEWQ/EhYp/pBMaD+eIUYAPZgxP67/RIdKiqS/B/zapAokpL9fNDnANIqkv9OA0Agkm6S/vUBd3eaEor8X7dGOJDGlvzr6puG3XaO/2EA7+K9tpL9vxow2VJhHP60kb9o1HlK/GTo4x0sNYb9JTRRGnb+AP9NMFEadv4C/K9n2xSZYgr/XRbH7C+aiv+jE97CgYaO/Usk1SVKVnj9ByFUpDO9Jv6sQnQCHVme/YHmSDJI3fj8dmNHWOX19v8G96AvD+6G/nTszvmjvnL8zd/yd/8yRP5EotvYlgXW/QuRkF6xobD81Qpz1Lv1zPyHSdSgJWYK/IdJ1KAlZgr8h0nUoCVmCvz+McT66jn6/0qVSXz++cz+Db8IG7T5+PyK2EsgD0aS/xGa+Uknho7/6IlOD8yyjv1oWvA1G0qS/AYvPgZvNo7/5+RbGfEZzv+vA+ZH76FO/pWv3GcqBab/vuu3SIih4v/z2AGueuHG/IdJ1KAlZgr8zFgkgDKKgvw0EWuxTSp2/AVtsaaK9ob99R4yWqLqhv0bU+PCHyKK/zKVrozoSo7+4QZqjb5Skv2biu6BZvGa/4vddKKcuYD9jBSdLi69jvxJ42dJj422/p8Dwg0j0Xb9Bz45H1Xscv2TzMR5+IVC/mIqPX3PZa7/U4tdoQ1rcPxm59ldRwL4/wCTUJng8mz8ymlXnB0ayP9JD5Kx2reK/GEQZ5VBYV79t+eUXMPJoP+qXjH/+2mE/touifmjsbD/YE83wggRiv1MuQOxrJGS/AAAAAAAA8D/ub89+59Gav/H84ayzrm4/88CUTSK9Vz+Wy6kDVFtSP4hKdiVoZFa/kr7o05OkST/NaautAmchv4NKQGxX6HM/5F/+hjmaQb+ZkmDht8BbPwDTrpNPZWw/T3bn/AQGbj+XEn+g6WZsPyYG4QCXP2A/KjL7qbkpbT9fRuQwY2loPykc+bgUVnE/HByE3MjaaT8/W9GJXHplv0agk7IuM2a/YfqSvtcOZ7+B1TRkLxNxP8TPNGQvE3G/T1+L/nWeWz/kbnLb/k5jPwxoOfwpLGs/tKEbRNOfWb+83QWb2kdSv0r2VdrdDFc/nlq+UgMwQ7+JkvqkuZVmv/ULAlEux14/dse5+KWYTL/4BOE4qjVrv0KQER0X0F6/hwHSYE4BQj89YqvI1+5tP3mT8ppjn1s/eZPymmOfWz95k/KaY59bP49QWo/4Pmo/bDNWaZzmNL8SISfoOomAv+mYSnXrd2Y/yM7bSxnGbT+UZ5wkLmxwP1/33rg/YW4/e/oGyIhWaz+xPzqx/HhnP0kDXlkcCHe/ejgZiXlCcj/2vQB+FY5mv6PHudRGBVO/eZPymmOfWz9Mj2eiZjRmP0M9jp7yhG0/FEyW+0eRTb9zzyfc4gtkP4EKhCD0RHU/ACE9xnBzXD83rl4cspVsPyIMcOZCUVi/eN/2qHXcfL87jP2v18ZXPx5W8BXlmXI/f+jnAqI+ab+LECtOVgFtv96qsqmQIGg/oqQv+m/wZj/b2GeItu9Yv9dLETn3m1K/hnEbPkiiZj9xIa1xq3lWvxH9uuZU6l8/i88AMdlDpb+BocSKSvBxP4fkcNEVQJe/k79Jd4ZwR78o+oYZDHyhPzzZmf3g9qq/7W/PfufRmr8AAAAAAADwPya1zuP/eIO/5xu1QsJvVT8Ig0XnMH6Wv2CyXpfXtG0/K869PyDKW7+O3gtd0AxKP0JkmDUUumW/KQkWfqRLY7/AFSFPYsZcPz+/0X7qsnO/v1hS862Adb999HRMV7Jzv9VXfB62rGW/QlwX+0p+c78mR+Y2Q0RwvzpCQQvBL3i/kyg3mkcHc7+p7R67W8RAv9RKsWKyJS+/i20JV615Yb85c+JaGTxiP05z4loZPGK/ulVUkFhaX7813IIcZ+Jdv+OJrcLdNWW/FH1+4WV9Oj87Y12XZlCAv/TmdZ+GLXg/TLXJ6E09cT8Hf7waUJxuv+c3yn0Xr1S/Fqoyqf7wbb/y9TiisJBgv7LWnJvAD4C/oNy8MyGUfT8KMQqNCnFbP1taRKz7VV+/W1pErPtVX79bWkSs+1VfvwkUyMhAwnO/x46CbqrxaD9aBb/+eWF0P69/L9XBpXa/1g0MGuovcr8OpDGA22Rvv5Trd5uIC3S/oq79CBlRcr8UVLk1P9z/vtuZT4UGxWu/2Rscw/VuWD89cr3ppO9rvw0RgRvRDl+/W1pErPtVX78t2uv4QOlpv+jjomGlYFG/I9UQ6IWLPz91YV8cBcdwv6fqlToONGq/fggAUGyCdb+Qfewnt6B1v4FZK2ftgWE/glNLNXLgaT/8Fe43N2dlPyWeDYOaSW8/2/UGLj89cz+BK2mRl01sP0viNJ5v42s/Zs+yGGsAej9r22kvANWQv/Q5NF+FJoG/U4+WmdHzcD+Gzfg2UFdzv7l8JuNgtpc/rV+34zYCqL9ebEIbHybqP4B8vBCAb+I/ix6BT24vML9qEWg9qRFKP2Jl5hN6c5q/8vzhrLOubj8mtc7j/3iDvwAAAAAAAPA/lZakEKfCwr+S7yElA4fdP9V5a29u9lg/cA1nOWnXZr/qYKgMOl1svx3/dCx6zHG/M1V5VzL0cT9Bsf4jwY9uP2qSe0D+5uM/VKc+08CT4z9UMJd9AOfjP0ZjoD6k+uI/+J9vYqyH4j+9xrZ8tSrkPxJNCfAiEuM/JEf8YE6p4z+WC6+HCfp4v+yLVdo9Rmm/tOLLYZ8ReL/ijY689/yzv8mNjrz3/LM/EqlLC7i0Uz8wlS1YpsrhP42iVmPLfOA/B50mCSNv4L9cyUje4fCbP/Cv3Z2w75s/X8nf0e9SvL8AXlOWpbhxP71bBmoBNt4/u9qdW8nQ0z+F2ZNWW3TTv9YQiQfLmpM/0vmHckiJiz/IinEBQO62v/XHHqIAslM/9cceogCyUz/1xx6iALJTP4nbXZ0W85E/xWByY3BnfT9JENoombSxv/AtjAoTY+M/IOWwgEtp4z+p+H/Ijl3jP+AYsrC8veM/XQwUj/m44z/3cyio8nlwv2Kxvc2sQXQ/egWjcAqTMj/JodgF6lJOP43P0iFuZXU/9cceogCyUz/l8GgO84feP1okzuOUtt4/JQiIqBTh3j8qiF5AyWTiP/q6kB1reuI/wIwqPgh84j/mlgdwOnHiP8HcZgimPHg/qk0KDg9uS79xH1hSC0NbP8qc7B+TX4A/xA0H47NVeD9BcbqXbeJTv/AcsnUsnmG/KrzCd8C0bz/Hd60sFDPYvyGj9LSHYcC/0m0jtGl/sD+Dly56tbfLP/EJKPHa7tk/pLFZmZT3bD9Orw6XTLCyvzgMWKTCS8O/SNJZOUS6dT8kyqjLcAtMPwQgikrAjXw/8sCUTSK9Vz/nG7VCwm9VP5WWpBCnwsK/AAAAAAAA8D8AKbPgLjbBvyPRgcueP2E/wbuEFUlAcT8tQ+I0UjaAvykln5vGRYA//ttT6CR4YT8DW3UlME1pP2/E9KQ8MK2/UrxJPYG3rL/xtnbGQTCtv5r9e7HWo6u/U1dHjO1Lq79sS9tH+oKtv8SancWQ/6u/aTWveDfSrL9ibpfZJzBgP13PR2x9S3U/iWSpxZZjXb/6PclFqYB1P9c8yUWpgHW/LKGT12fuNj84S92Yx9mpv0nINlbfwae/RFAVwR0JqD9LDP0aHWBFv0PCxm5u3Ei/XgvJnXxvZz8Le+Kb8EZMP+GlLvJbSKa/1DuT4CdAnL8TZIZJlq6dP4EklwuqSGK/QQSZj1mfSL+4I/Iwy8mAP75JRqD38TY/vklGoPfxNj++SUag9/E2P28zzl8f1Vi/fusKrr4VQD+N/MD+/X1nP7TpDlIbSay/m0flUy6FrL9dkml9boysv5VeC9O78ay/GMSg3Of3rL+Ukk/oMYEwPwYxDrx+rUw/WYQpNpJWSb97boDH0mdSP4vHLhJfjho/vklGoPfxNj/6AkBzgY+mv9nhGK+r+aW/Zq5m6sdHpr+VsbRYx/+qv9Zlz/6fW6u/ehpGD23zqr84S6yv2uyqvyxMTBRD93Y/1CS5fGP5Nz9ufn6hqbh+P+mTbOhs+XM/fr+pl/IxgD9VdwW9vKl2P+t0FM7r13s/rFErZ9LEdD/eyAOw2HKiP88c7zZrpoQ/B7dZFqDybL8ZpY8EVguVv5dRExJNhKO/xfkehcdHcD8tn7uQDpdlP/RpQKk+fuk/QIZckWjHaT8EFTunJ69CP8fO2rryY1C/lsupA1RbUj8Hg0XnMH6Wv5PvISUDh90/ACmz4C42wb8AAAAAAADwPztZZzTFaF0/EuP+tDyAXj+IkM94MMpgv0VWgtGOQna/iXnep37+Wj922Cdm88hjP9b5vrB4HGq/te9ORL79ar+Yz5yINhtqv1V5NXvaGlq/NsMP/oWqa79OhAs3i+1mv5G3N0jwBnC/KrrA6xuLZr9FOTueTq5vv5OCSuTqAm+/ZChV1XFLPb9bC+UZVaNaP6EL5RlVo1q/UAsWPc5gZz+qgXqGIjgzvxghWiPtQzw/ckaUbzUISj9lnAJyJ/wmv0yhEsNACUO/L7hjMaEcWT83hWN8n6U+v15EIuhvl2y/kbJGCkV2Zb/AsuxHQWRfP6/AQo+Kf/u+ii2X3iZbRr9HIbi2Ou5fPx7IrdLZWmc/Hsit0tlaZz8eyK3S2VpnPx+h9UlvJng/GHL1uyt+cr/a57i7TaBvv2xItJ9QQ2q/p5ERSooaYL8OXIHTT5FovxwEU6NcJWS/58nWr7BEab979qBq0T42v/6nzKFv/my/77nUuWujez8tFy8Th61vv0+CQaHESmo/Hsit0tlaZz8A7wZO0eBfv5ymObspl04/d3AE/QgNPr8gObf7khx0vxR65OOp7Em/zvpLD9gjaL/UkBofouJpv5q1Sh+kxXc/alw8f/Tudr+4Tf8cMl4xPxjNDRjxtoI/4PF5oJgTej9HHraxlex2v+PVJDliRSC/Plky40qmbj+gNHH1H+BlP7WSqSlkzm6/ZvADmeJ0a7/uulnaB1lQv7owlJIfYEU/ZEfwOUnGZ79iYR2FCqAyP0YI7wkQWmI/fxXLOChQXr/Z94ex6EZAv/57VgFkZoG/iEp2JWhkVr9gsl6X17RtP9V5a29u9lg/I9GBy54/YT86WWc0xWhdP////////+8/d5QyC9mHtL9561yrgnDXv8jgkwfqRbS/SHPbM6ky2r/EX/C2cx5FP66Jno/0m1E/e+iKdVJzUj9KQxgSFJdRP93WwEIWVD8/8PrSG4nsVz/rP40F/CBJPxwR4PhCWFI/WuEX10w8Uj9pvo/ZF04jv1VTn2sn2FS/jxiaB7iqYz/sBRgWJpU7P9UXGBYmlTu/x1fDKWvyVT9Hn23hNh4/P+XkHQKvP1g/rfsTe9UoRz8fIcqyNnt4vwmmuh6P8HQ/MopQBeIPXT+aX9uLNbtwP/UyUOfK6Gc/OlqCYFh0dD+4Hy0Itc9TPyPxPiz7fVS/hKDf/gNoXT/iTZOlj5xYvwtl4DIN/VU/C2XgMg39VT8LZeAyDf1VP1zq8Pc9WVe/Qcky+rAwYD8J2DfW1lBZv5/5rzw3MGA/PdCrTryWOj9WOvoI4nMdP1ZxVLphTVA/PLLg6oTuRj8q9cFkOdU8Pyxs9FIPRXI/CPYkMZ4Jbb8NxVTlugJ0Pxk9xZGj5k0/C2XgMg39VT97vR1nT0MTP42pw4fie1K/iVHq02DgUz9Kf5KrB31TP9FgM6ZFD1C/VF/0ApmbXD8UbBUTVohgP4Tl7IWLIWS/Uj+2rmJHZz92aW7icfZTv8ENtn05I2E/eQ8xw9JVRL/aLYX+1iBLP6Ul4TnvDUc/S8+fhetKeD+NUsn2D/p6v6gtXHO1bHc/rWYMWKY9ZT9oJt9x1uJgv5N9F/inHm0/kkHXwtIQYD9ZoX/gDidzv417JXazYV0/lEB99e9DYL/WVV3/7kxlv+02KY1dgE8/kr7o05OkST8rzr0/IMpbv3ANZzlp12a/wruEFUlAcT8S4/60PIBeP3iUMgvZh7S/AAAAAAAA8D9ejtxqKxO+v5qideYaA5q/cp07U5zOwL90uRCL1tRiv+QC9CDOLW6/m+no7LeVa7+5EL1x0ypuv5UaPDacBVy/3rpc+SkQdL8kWgs6tPlrvxBZDmlGHm2/yDOhhG3sab+invyAEThlv3lYNYMX90O/CSWj9X6TfD+GLXKRsGdFvxotcpGwZ0U/NFZOna8CXL8yppPn+gBTv0oJbuLss06/na0BRnTlUT+HLnCu07BzvzhddEXm7XE/02nsZc8hTT8ej14ORHhxvxG+02N0QVe/3GkfMXoIcb99VeJhhwRjv/QzHjpg4XW/+Ipnj7ocYT8Ve3VeqEeCP8KqERd5Aly/wqoRF3kCXL/CqhEXeQJcv2Flpnu1bG+/l5DDngtIdT+9eNyIEzlvv5qg1La1p3K/uh9uCJjFYL+wbMfajmllvwD49EsNKmu//rF3K3sUaL8TbzHx75JsvxRj95+rzXG/DkupKTP/eD9X7kbBUfp/v5wk7gtTz1w/wqoRF3kCXL+oRSH7fXhvv0UYubtE/Vg/iadRDbLNU7/7ErrCWM5xvzPG0ti2XUS/GXh8HsTKar+WTjOfNiV2v9f7EpgTh3S//AUDcDH2Y78wE2QS5LVtvxZ0eG0StFu/ahTqC1i0cL+ZHzwy2qlUv+U6K2NmUWa//XyVXb0FaL8o+l+bZuxyPyaeEy4RCVS/QDtnj0lfUz90pcL0LYdzvyUjMokYOmq/4RYmGTwoTz9HjlLrluhlv0LdrCsNJGK/Jm1ZgBIBcz9vNlr/L5RxP+AbDB58VGg/zWmrrQJnIb+O3gtd0AxKP+pgqAw6XWy/LUPiNFI2gL+IkM94MMpgv3nrXKuCcNe/Xo7caisTvr8AAAAAAADwP5pAtL2Vsr2/qhXlTjcw47/SYxqIR11CP/KR6i77uVa/jPDq5rK6Vr/9POBBtbtWvz5eUlkRVBI/gfTXTu6LYr99aRfijfJNvy3HIoPAvlW/aUGpCRkkV78NZLsknEdnP92i2PitFVS/w41tIJ+0ZL+TACvlfBVzP8gBK+V8FXO/+OpwvlbFaL946nU/M8VRv8/hez5sW2O/dYZBxNPALb/mAZp7Y9tXP9l9G0U2plG/NVRY9/NTSb+Ot4/9G11kv0fQtiZrblu/K3jkiuFbaL/yVUSrpENKv+/4IgNM7mU/aLBkZgw0Wr+1JUmOmzFovwbzldz2xmi/BvOV3PbGaL8G85Xc9sZov8TuRRCJDVq/eaWpUS+FUz+WpyH1C0NSP4SD4zOrZl+/s3flxFW6N7/RJJRW6a9JvxyfO6avd1a/BfHjjPUoR78+2r3Y7eJxv3zluRa9BEC/53EwZbd9XT+/+77eqM5zv+dbL5WlelU/BvOV3PbGaL8eZgLeApBhPyGB2snZ0zA/9Y3DZyNtcL+TMhoplTVVv5OcAQVepim/WebkOKEnQL8HqPp1TeNpv6PpsvGT7zS/slxws5xAcb+hw5smkvxcP6hikxu7onU/+nBVDwwOXT9HGE8oM+MHv5NxCreTTVi/Gg7Rf/o+P78MfGu8WD5qP3RR8jP17GK/pm1XO4GAcr+vv7z5+xVgP2EdD4auKFa/QwK8Swt2XD80V7Z5xTd1vwBjbo+wTim/5P9oTUHrRr/+WkLdQeI1v+xn33gTEWQ/g0pAbFfocz9CZJg1FLplvx3/dCx6zHG/KSWfm8ZFgD9FVoLRjkJ2v8jgkwfqRbS/m6J15hoDmr+aQLS9lbK9vwAAAAAAAPA/fsxJm6KYwL+JcQYjC+N6v9yHvZMsq3G/9A4Y4Mr/cb8yB8igbatxv5YimsD6zGq/6fP6oMoQcr+iEEcmaTpwv5f1HuYTOnG/06EpvdRRcr+aF213WiVnPxlcovp/OnU/djDdhyv+c79FNO5sLOtUPw017mws61S/+lVjf6CURj/fu65rKoRmvyBxPKEnw22/XCiQQ/6SWz9nmnGbZAkwv+phwcCzbWA/FN1nViE2bb/jfHBBLM5LP830gHn+jm6/Vmuvk1waXb+Rd5jxgi1pPxKCagLqdWC/yugaDHpZcj+sp3jyld97v2qdokQKjUY/ap2iRAqNRj9qnaJECo1GP2MRwOnoVmE/3/nnU/gGLb+ClRmTyrl1v/HI+W0bZHC/0wmIAYgPdb/lG/GlDARyvwOC+QXognK/QEgtCjsfc7//FtOPMrhoPzW8c0HY1kA/v+AtFPQyZ7/mEDi4/s9sP4lS/1Ak/GK/ap2iRAqNRj/gwwhsyuBwv/+IiC2GIUu/gaUA3UHgYb861oPwbSRrv14sht8Hv3S/qYnI4k5cc7+9odHKbbRnv8bgm2wKI0s/hbpJXmXwYb+8Ciuz89pkP56jkAJbE2W/07Lo/AD0Zr9kXZbwvC5GvyCbHpIp6Gs/TPQYMyUqMT8tt0cQbjtwP7g9U5/VKXQ/TTPkL9aXVb+rLdIIki1svxhVBEl5Fni/jl8/X2a5MT/9u35efIB2P7Z1HYYsWCi/vF1kDwCaYb/f34+J/TZnvxIWKf6QTGg/5F/+hjmaQb8pCRZ+pEtjvzNVeVcy9HE//ttT6CR4YT+Jed6nfv5aP0hz2zOpMtq/c507U5zOwL+qFeVONzDjv37MSZuimMC/////////7z9tLXenJF5cP7QdFtDvoWg/0PgawOWrZz9srOjr+aNoP8i1zf1dVFI/rCmAv547cD8Q5dpcWE9lP4lxdZMCPWc/0uWad6WhZz+BlJ552i5mv7UN+uYQ7Uk/g1ACN4inKL+BxWnJGMN0v4rFackYw3Q/Md94ghHTYT8IfaVTATFfPzb6BPP9wmQ/qo/t7t87VL+nFkaGmcZ0P87MzEszG3W/a5iEwUbyIj8EZX1ARTsnP/HaQqdYrUw/ebvvV0oKRz8wEZYs3Yk8v3nMR77auUg/1v6nYaxIYL/Pxq+BdNFrP2R6Qd3f0GE/ZHpB3d/QYT9kekHd39BhP5JnFgBxwWo/R99/5Azbcb/jhB0rSBtpP5NL4DFwS2g/DlxSSMrMYj+XP4cJ2q5nP12n8M8EnGg/lAIl1ISwZD8FQvFxQZZwPyySenveyF+/dwDFgtEIFz+240jDFzBhP5QlEK0ZUF6/ZHpB3d/QYT8c49KIZN04P0UiPvsMMD0/3+RC3zVRcD/ZArLEMUdmP5VrqB+70GY/iu//orYDWj+yqBBfxaRwP/5vJJ7C7m0/zXDNNlmVaj/fzCRXsF04v33tWw/6gHa/RTW4KwKnTz/Jxf3KaFfwvmaG/slHwEU/5Tt0YSHdbL/R4MhoKGY+v0W9g6abV22/QL+JH7b3Yj8sJjFHP3pjP5TXx7ajIFU/SVhKZJzKa78wyzuA319jPz7dI8bWi2k/3VXJ4TpPfr+UrVwOTKlzP50hRgA9mDE/mZJg4bfAWz/AFSFPYsZcP0Gx/iPBj24/Alt1JTBNaT922Cdm88hjP8Vf8LZzHkU/dLkQi9bUYr/TYxqIR11CP4hxBiML43q/bS13pyReXD8AAAAAAADwP3xhAsHRZmY/7nzckJULZz8VFAN8omZmP9tLkCI4KHY/muXQro3AQD+sd7VBfxJtPwLUJCQHuGA/KMCxERSvaz95nIaxn/5pv7pGr+tA+WW/hKghhD8vaD9i1+yz1S9av0rX7LPVL1o/rXVn3jL2PL9pf+9PNkZ0P02iXohy1mc/2otCaE12eb+CSAkevzBnv52T+xeJems/NeGo0mozUb8MRa1ak6ZVvwtCJ5sKHXQ/L+zwih3jYT9swxL84TVxv+139YFBWys/sMfHiJneNz+YLrop885Zv75AQPCj7jy/vkBA8KPuPL++QEDwo+48v+urYrKRKFU/BnjiYBGXa79qab2tSdJ3P8QXpeu7UGM/BcfoezzbbD/bzzxnuk5oPxdocOiVMWg/wh+6Y334aD/W8y/Dfdxhv5p5UbZahVe/mkrDW53vaT9JzmVuA4NtvzbHOHUfW1w/vkBA8KPuPL9DbnCYcC9sP7NY7/Zj+W4/En2FRJDhdj8uhlaVbVZeP9mbWSKUJW8/nIWoyazRZz8HSoTu2+tZP7GfETvCDnK/+x4Me283Q7+BtByIL9AlP9ZJfdET9ye/UEkcJS/Cfr/ShX5hJ0J6v8gFtApM0TK/WGkGrmiufL+//KvX1FVRv7MN1cX5kXC//YSUYocaYj/AxL8RNiQRP/vpseavE2g/rfgEirK4sr8cJEwT2GzoP8n6w05Tl2u/SEolMMvYN78AaTf7CWFAP63/RIdKiqS/ANOuk09lbD9Av9F+6rJzv2qSe0D+5uM/b8T0pDwwrb/V+b6weBxqv62Jno/0m1E/5QL0IM4tbr/ykeou+7lWv9yHvZMsq3G/tB0W0O+haD97YQLB0WZmPwAAAAAAAPA/Fwh+gwfV7z/lCNP0///vP3JwFb32duw//F2DFGSK7j8QaLMBL4zvP8XRVSCtYO8/kBmHSUqt7z/Dy1kEohFwv3THPGRjTEu/Fh9247W5br+7+VO1SFHFv7j5U7VIUcU/dAa/5xpfY7/9cqlbGrDqPyf++3BFsug/sClQCeOs6L+Uph05ed+qP6XvOboOiak/xtyLZfOQyr8/tHz4+tBzP6P9zxQFy+Y/8/SNA2HR3T8O5/MvAXDdv9znIik6CaI/KNuL7XVTnD8Az1TBCCDGv9FNsBdSXmO/0U2wF1JeY7/RTbAXUl5jv/lEmkhViJc/F+5KicDUlT84erALhb+/v5H6X67rJ+8/fcDtl+wq7z+Be+Fr+ibvP/jq+H4Rtu8/caFgQCa27z8yvuBW0f50v4ZzhyJK+4I/CI37+Uq9er9z8M2kAfJwP3ERje2zY2Y/0U2wF1JeY793MXHBrwXnP8d3t8pPAuc/Yh9dHdkM5z9hbWaqRKjtP9sPrO0JqO0/mkwjXEix7T/gUwHim6btP+eBklhc1Fs/47hVgYLnWT+kMDGzw7Zfv30rAE3umGE/e3a/NVKnaD+GOEfCxR1xPzrpdSjacXW/5QWXUyewVz9Zgb+Htgnlvx0MFS/vnbS//WdSNfZYwD8410soRCPUP6jchFFxPOQ/bTpeOU04sr+qhsIHEQfoP+MDe8p7rWu/tht7j1g2NT+TfPqL6OckPwf82qQKJKS/T3bn/AQGbj+/WFLzrYB1v1WnPtPAk+M/UrxJPYG3rL+0705Evv1qv3voinVSc1I/m+no7LeVa7+M8OrmsrpWv/UOGODK/3G/0PgawOWrZz/ufNyQlQtnPxgIfoMH1e8/AAAAAAAA8D9gLyJNB9XvP4s6cpAQBew/OJRdiVEL7j/AWHKkrwvvP3pmrk+Cou8/5dMkQ3TF7z+mp0dPyVpwv8BQpPW0mU6/N1xPPVbfcb9V6MPvhvnEv1Xow++G+cQ/q+Ek5jPSYr+QhhegaUXqP9k0IjriT+g/v2spJrZK6L9uObpBuGiqPzdzqcilLak/3h2zJGgmyr9ZSNpItWVzP0y3eD48buY/U5xDka5X3T+lm5HhfPjcv9vz26Kg46E/L5Fwy3edmz/SJ59FosfFv8VMRJa40GK/xUxElrjQYr/FTESWuNBivxv/x2HiMJc/p4J6g2hnlT9oqkvZyTW/v/uEamHw/e4/44HkG54A7z9meQgVSv3uP2rJBpNhi+8/nLJGt1yL7z+2EShfFLpzv2dnOUBGi4I/dH85JjHaer+Pf5Js/1VxP5kbM1FTamQ/xUxElrjQYr8Cs/bUsKXmPyc8fAxfqeY/ccdQWkSy5j9G/eL+u4DtP4JAIV0ygO0/DBgQO5GI7T/O/UjGXH/tP3zfPrV1GlY/bC9IcSdJVz8boTpjPoZXv+lv/kXknGE/rO8YEYQIZj8QlIMtzBBxP+1zr+7Zr3O/Vsonc9WjUD/x6WTQO7rkv4I625+GbLS/p2lYk8OYvj9SmW5OuEfTP2CSABSwFuQ/s3a39bG4sr/BbmZI2WzoP3anpF0nlWu/XX/bW8HgN79Y0KCvQGpAP140OcA0iqS/lxJ/oOlmbD999HRMV7Jzv1Mwl30A5+M/8bZ2xkEwrb+Yz5yINhtqv0pDGBIUl1E/uRC9cdMqbr/9POBBtbtWvzIHyKBtq3G/bKzo6/mjaD8UFAN8omZmP+YI0/T//+8/YC8iTQfV7z8AAAAAAADwPzzBKd/3duw/Ri1b6WOK7j8U2vKGL4zvP5JeLIOsYO8/rgR9ZUqt7z8OHLPgMhFwv3AUiGQCS0u/7UQfaye4br9V8XYaWFHFv0/xdhpYUcU/EDW7Z1VeY7/cab/gG7DqP6pkJdNGsug/8yeuiOSs6L+5UoMnod+qP9IwnJrkiKk/YT7YUvKQyr+FOI77mtFzP5UohwwGy+Y/qoHXKmTR3T/sx16LAHDdv3GVix5qCaI/1CqTIPRSnD+GRzoN/R/Gv8Sr/duMXWO/xKv924xdY7/Eq/3bjF1jv/brs5BviJc/SFm83aPUlT/zW8Fdg7+/v4fxQgLsJ+8/HRQeTOwq7z9j8Zgt+ibvPxh5UIIRtu8/CMebGCa27z+yXqCtWP50vzxKg0qK+4I/TcHJSeC9er9uRyq7+fJwP71W1MaJY2Y/xKv924xdY7+jI4szsQXnP1YEViNRAuc/70NO/9kM5z9ogHPKRKjtP9RVpFYJqO0/gqNsYkix7T8j5qR7nKbtP2ShFg5F2ls/fHN1WH/nWT/Lubak2bNfv5R9avqnmGE/ZQntk/qoaD+FgGJcVR1xP/K9VA5mcnW/zYQ19v6xVz/nZeB2tQnlvztHBlYGnrS/FeAO0PdYwD8cTtchQyPUPyGbRPNxPOQ/DomwzK1Es79HGP5KY0XnPzgWU1fsqWK/wKPfvSguIr/Z8KWBkT1mP9OA0Agkm6S/JQbhAJc/YD/VV3wetqxlv0ZjoD6k+uI/mf17sdajq79WeTV72hpav9zWwEIWVD8/lBo8NpwFXL8/XlJZEVQSP5UimsD6zGq/yLXN/V1UUj/cS5AiOCh2P3NwFb32duw/izpykBAF7D88wSnf93bsP////////+8/rA6hFzWF5z9ep3CIdTjuP4g7hWukVOo/cY5IsYLn7D+ZDabOeWJ0v558NGlrk26/awGcZcg3cL82QqcdrGfCvylCpx2sZ8I/sRhQgzjLSL++9b9E0wDuP83/yefnyes/eL8u3qyy67/U2KXkDcaoP1S+9kiQLqc/5TF9xSlPyL9Gb0lNkZJ1P7vmyX5eYek/AUVk5TiZ4D9eWw0GgmTgvxKJc8G4EqA/0OdRyO/pmj9e0hSOqkrEv5A5zs75y0i/kDnOzvnLSL+QOc7O+ctIvzd8JCcsGZc/+fX7eMLBkj99NZqw1kq9v7wQabWPuOs/iRV94hW26z83QcRKHrTrP5aVH7tINew/TOf9Ze4y7D/vQWWJUGhlvxAcQtqd6YA/rfluYRc+er/KKzMzSRF3Pzl1Wl/9Ol4/kDnOzvnLSL9fA49fRNLpP4lhzsHY3Ok/vFWMjUrV6T/Uvv7XR2HqPx0yWHYPXuo/vKmo/V1m6j/SBhjrmWbqP7pxwE2mKFA/+3myH5viRD/sBrElbIxlv1BRctr9iVk/esHMckiQXD/vYuKydz1YP4huHaqLb3G/KCv36Bh8Zj9K4jQGwfLiv8uTWhz+nra/OX/HWgRowj8CEvtwKrjTP5h+tTUtB+I/Hn5H39fdsL9dZcvW27/mPxdE7i0OxWy/gCkej7SqW7/uA2D5pVswv71AXd3mhKK/KjL7qbkpbT9CXBf7Sn5zv/ifb2Ksh+I/VFdHjO1Lq782ww/+haprv+/60huJ7Fc/3rpc+SkQdL+A9NdO7otiv+nz+qDKEHK/qymAv547cD+b5dCujcBAP/xdgxRkiu4/OJRdiVEL7j9GLVvpY4ruP6sOoRc1hec/AAAAAAAA8D9LPSA3dkLtPwZv69APHO4/FxMGGI2B7T+lACmBPMlmv+mDI5Z97FA/0uzF/BNiYL8SWXftKBDFvxJZd+0oEMU/3igSqlUza7//tvOu9A7mPyCgDzXaZOQ/CCMMVY5p5L+Sauig32WpPxPhrdyUXKg/KFesWDM5yb8n7SA6g8FxPyj/wN8U4uI/oDlXt/e32D+bPacXKF/Yv6jhXisRTqE/LpAmfcFqmj+8rHaad/fEvwtQq31wM2u/C1CrfXAza78LUKt9cDNrv/rSAVs+TZU/YYjj0R2dlT/QkrBu+Ai+v5q5yU2ju+0//oYJj+nB7T/46uWUy7vtP4hA/ATZQ+4/fLriYddF7j/HMkcg6xl8vzUUqpxBfYM/bm8MoXGbeL/Ryol7icNlP2Vk4QdUrmw/C1CrfXAza7/Ev7q75w/jPzP2goxF+uI/FsDoC0cO4z9HMm+O9E3sP9gSLCjbTuw/TX29ZgZb7D/NUs4fAEfsP2YUfO9KIGQ/U7dnFLjrYD8VaOadR4phvwcgJwAVbWE/HSF3V35wcD+lkNBWiVV1P/BbOVYdLHi/0zwqqMx2Uj87Y6nbOD3kv50WMDJr5rC/dUY3aXOrvT+qtBr0kyDTPwGPSOHiWOM/cNYeCZiGs789u09MWL7oP97Z04wer2m/mEdxbdhGSL9rJS5Pp+1VPxft0Y4kMaW/XkbkMGNpaD8mR+Y2Q0Rwv77Gtny1KuQ/bUvbR/qCrb9OhAs3i+1mv+s/jQX8IEk/I1oLOrT5a799aRfijfJNv6IQRyZpOnC/EOXaXFhPZT+sd7VBfxJtPxBoswEvjO8/wFhypK8L7z8S2vKGL4zvP16ncIh1OO4/Sz0gN3ZC7T/////////vP3GnCJW/O+4/Zy89LcIv7z/hB+ZCliZxvwV3lzvNCVm/sNf2tIu4bL9adZjXAQXFv1p1mNcBBcU/iLjutLVHX7/RzX/ipFTsP+bf1yomOeo/Sgrqmewu6r9PKYzXDRerP7Elqxm8gak//GcyFnGpyr94h6C3II50P3FIYfBVL+g/lh+ByBqi3z+jJT8ypj3fv6Bc0ZM60aE/umlJ9usKnT+4GW5hqzjGv4laXRhwR1+/iVpdGHBHX7+JWl0YcEdfv4PIXaPtEZg/9X+EuLWdlT+5kTamRPm/v0AoPVOgt+4/pn3azW257j9kC1gjxLXuP8HkT7txQ+8/isxs3sNC7z8qH2aSoJlyv5SxBn1RkYI/07R4kKtser9Ba5RrSIFyP7QJtD5wXWU/iVpdGHBHX7+DwXp4RXLoP3y+Zhw6beg/awHG0UF16D+4WiBShzztP+qcRSY5PO0/6h3nwvtE7T8qJgF6BT3tP0VZaGnOSl0/AoHvc7jnWD9Xw61So2lkv3nQBD5c42A/sTVzSCaYZz9O+7K/fudsP+KcaN3r1HW/nmQDZdPIYT/YR1V45vXkvwV+3ic4w7W/kvCyZjfnwT8vKMHgKwLVP+Uq3Y2//uM/hg8eHPiKsb+D7/1GZGvnPzCsv/gwy2+/j0v2dcK3QT/svi3Vc2dFvzr6puG3XaO/KRz5uBRWcT85QkELwS94vxJNCfAiEuM/xJqdxZD/q7+RtzdI8AZwvxwR4PhCWFI/EVkOaUYebb8txyKDwL5Vv5f1HuYTOnG/iHF1kwI9Zz8C1CQkB7hgP8XRVSCtYO8/eWauT4Ki7z+RXiyDrGDvP4g7hWukVOo/B2/r0A8c7j9xpwiVvzvuP////////+8/Fs/qA1rV7j/hNlav73Jsv6eS8REZ9Ce/r0ZwJtxwcr+7yIpnxrnEv5DIimfGucQ/To21s7zWX79BbsCMVK/oP8qKq3g74OY/biVmX9Te5r8v8Do0ZRiqP97xsJO9X6g/LD6cJGCVyb+6JEp4oe5yP37CFvDHh+U/7d4WNScr3D/63XLd383bv2HXCAUtmKE/jlRuGxTimj96RTPrYlPFv8GSUDxG0V+/wZJQPEbRX7/BklA8RtFfv7ckDlaHrpY/Mb6rvZTqlD/b/HMnMoO+v1oOtdCRjO4/Rxa8qJ2P7j9zvP/nGYzuPw3dE6d5GO8/j9sP4uAX7z8eRzdwiHpyv+90uPEHe4E/CrKI0TSCeL8eWQdZTXVwPzO/s9X+2WQ/wZJQPEbRX7+EB4tNlTjlP72CXsQDNuU/WYyqB8hH5T8N7XYpxxPtP+fCXxCmFe0/CpBjufEb7T/cCQi6DBTtP/ydttIjd1Y/PCEwa8TOVj8EPah4k21Qvzo6vF+o+mE/qoe0WMXXZT8e0MkIxIdyP2kLFvnffHS/tj0ogVMaPD9QF9lqRF/kv5/0Tw1InrO/fK194vVYvD854F6GUMXSP9Fqlo+izOM/rk1/Lhx2sr/3gE/X0R7oP0+4J0cN+Ge/8g9FkOQzIz8N0QgAAj1KP9hAO/ivbaS/HByE3MjaaT+TKDeaRwdzvyRH/GBOqeM/aDWveDfSrL8qusDrG4tmv1rhF9dMPFI/xzOhhG3sab9pQakJGSRXv9ShKb3UUXK/0+Wad6WhZz8owLERFK9rP5AZh0lKre8/5NMkQ3TF7z+uBH1lSq3vP3GOSLGC5+w/GBMGGI2B7T9mLz0twi/vPxXP6gNa1e4/AAAAAAAA8D8AZa3mAcdxvx9qO/8czVi/Jhq/4P0hcb/8Yvx/HNXEv/pi/H8c1cQ/0G99LazQZL/GowkMPRrrP+Qijy9iDuk/LjOIGE8G6b+Y12iU6TqqP1CZiPVsaKk/PNAq1O4syr/GEWxEqHNzP94u147Yx+Y/8XiXYynM3T8syz2+/Wzdv00yDjlE1aE/jOaad3q/mz/612POd8nFv7+plHE00GS/v6mUcTTQZL+/qZRxNNBkv9JnOAgMOJc/rVY4yZhxlT9ypnOz7kG/v/s4UmZR1+4/2ZN/eKnZ7j+btU4LidbuP1prchGwY+8/5ORBdiBk7z+/RgnteGV0v+aCmIYYFoM/1XG1rDdGfL+2c9CkKMBxP5lRU6tCvWM/v6mUcTTQZL9Q1EwLE2nnP0IyhlClcec/Eiwmul5z5z+HRjDFyVztP9OfjvRZWu0/yc9I8zpk7T+el5TkIlrtP+yEJ3BxdVU/egHBb5xJVz+COk3P5sNcv0qgxJufCWE/aVjyNdPTZT/5KWZiEEJvP4Cbc+bZu3K/cVXJPKf8Vz8eRmy8Zqzkv/qTbvtFu7S/aGh8nR3ivz/TGnvhIF/TP7los6ca/uM/MayT/uDVYz+lr0ZOFeF0v3fyhbKIcmu/0m5JvMPdZT8X5egZ9wtgv3DGjDZUmEc/QFvRiVx6Zb+p7R67W8RAv5YLr4cJ+ni/Ym6X2ScwYD9FOTueTq5vv2m+j9kXTiO/oZ78gBE4Zb8NZLsknEdnP5oXbXdaJWc/gZSeedouZr95nIaxn/5pv8TLWQSiEXC/pqdHT8lacL8OHLPgMhFwv5gNps55YnS/pQApgTzJZr/hB+ZCliZxv+E2Vq/vcmy/AWWt5gHHcb8AAAAAAADwP4W51QnVkuc/IPCBYuel0T8vY/AWrvl4v01j8Bau+Xg/Djj6GvFjdb8re3RYcDt0v83Gewp+wXe/pvbg5jYsbj8/r1l2i+9iP3qB0Rxqv12/E4JNi/OYUL/mZwhzrLtyvwlTTo6mYmm/RkS1r4x0dr/T4mdBGflXv7b5wZ02YmM/v5ookcJhab8s+a9Iw5VgPxSgfNi4aHW/FKB82Lhodb8UoHzYuGh1v8OWjekroF0/g1W9CyhqYb+pF1cNSTVNP75+Zs5d5nO/jcfPNoK5b78MNQyscsBmv1Vvm9eBWXK/+iEMlLNHa7+1N09IUW9ev69r284RUVS/oUE3FSvLYb+g1HIfGkhpvxquXxpX72u/FKB82Lhodb+5fMpjYg5xvwfsOjasSm6/w+cQfqaBcr+/a/milC1gvyP8pTUnKmu/7D8axXKdcL8ww1w8E0t1v62NkArA72o/b1rDh3oaZr9w96JlfG9kP9Ypb1aJcYE/YT7cswl0O7/hMtyg2h1jv4CLsNjQGV8/yVHgvWMHdD8fYJcvMDBiv16edYJMbnA/tHOnr9YBfT9haldeVvZXv2Lccwfq+Fq/R+oUwH+pZz8RHxuT8iJgvz5Pc3Yh92S//aSWBua1cT9fqmxBsOBfv60kb9o1HlK/RqCTsi4zZr/USrFisiUvv+yLVdo9Rmm/Xs9HbH1LdT+Tgkrk6gJvv1VTn2sn2FS/eVg1gxf3Q7/dotj4rRVUvxpcovp/OnU/tg365hDtST+6Rq/rQPllv3XHPGRjTEu/wFCk9bSZTr9wFIhkAktLv558NGlrk26/6YMjln3sUD8Fd5c7zQlZv6eS8REZ9Ce/H2o7/xzNWL+FudUJ1ZLnPwAAAAAAAPA/Q+vuLjECqj9IH/X19UJWv2Ef9fX1QlY/CHpOTJ+Mcr9AvvurV0d2v7/HUuZNOne/5GXH2FtAcj+0GUiZSORhPyN9k+//hWO/M/qU3vboOT+0Nt1JNlU3v0NyLVtPvme/JSa2EfGfYb+N2YNMMHpaP0gAjTBS6Gk/GY/UzjP1Z79XxtxnOQFFvzq9b0HrjXK/Or1vQeuNcr86vW9B641yvysn4NQ60lE/iYFhbMuDV7/5OVVLzOxPP11j5ChwNE2/Qmods8lkP79N7zgXvO5Hv203jmX801O/fWPklCA4LL/04mwVye51vy8YgbyvoHA/yNEyI9/Var9z1ca8VQtVv/DMJodAlUk/Or1vQeuNcr+/WKJ+XaJov3nAMvWXu3G/o01BtglndL9SdsmAgRs0PxLPqtyL4Vu/5q6shEqsST+deLiB8Vlkv+9co0oa8nQ/BNbd1vOwQ78pj90Si15UP0E3inatD4M/XaOaSL/DYD88jxQuXmNEvz3OZZ5qO1E/Z9FRqlg0gD8hrCD69JFnv8ImrVdpCVa/2JvXkABkfD/3wtOvGFwsP2TQliUPb14/pA2+KS+lZj96bS3ND/5zv/tNL1D3z2q//5LKWj9ta78QoMYZrvBiPxk6OMdLDWG/YfqSvtcOZ7+LbQlXrXlhv7Piy2GfEXi/imSpxZZjXb9kKFXVcUs9v48Ymge4qmM/CSWj9X6TfD/DjW0gn7Rkv3Yw3Ycr/nO/g1ACN4inKL+FqCGEPy9oPxYfduO1uW6/N1xPPVbfcb/tRB9rJ7huv2sBnGXIN3C/0+zF/BNiYL+w1/a0i7hsv69GcCbccHK/Jxq/4P0hcb8g8IFi56XRP0Pr7i4xAqo/////////7z+eoBPAmYFxP6CgE8CZgXG/cI2FB51eWr+/V/hMTKtsv6ioIMZ7L3K/O84TAxAQZD8zv+9zV9BLv4Qv9734y1E/jfmcQdZPP7/ExpPVfYlkv/LKk+ogUnu/N4A7rYWFeb8cLy1SiO9jP9kNAA6tgU8/1zRQXv+kZL9yvSfpQZRxPwQOLHZ2aVq/BA4sdnZpWr8EDix2dmlav7uQixevTly/t5IByeAhVz90mBjig+pMP8ShG3rOR3G/DaxaYqAQbr89PcmCXD5pv0R+Ulzr8W+/6xP1vv8Hbb8iOFe5WbgrPyycnPmh1F+/ng7snOnsGz/EUK/TdUlcv/4UyQOgDV6/BA4sdnZpWr9iwtNEBzRov0usuJuGQVW/etm3yZu4bb+amKtzPj9ovw+j9nbQ0Ge/t2Q0IXy0cL9sNXq2gTVwv4g7f+sXPl+/oiWeCAR4X79hprzrnShfv+wJPdefhV+/DbyadEREZ7+lzvFQcZ5Jvx+iyP0hi2m/Sq38qDd9Qr9kfU7QmxAxP76/2jAUeVk/fmn7iRDSYD8LC1nndJ1mP6zRvaxGtmW/9puciCLdhD/BY7mmJEK4vy2xF4c7xVG/ptrv97x3PL8dyPv/DAlNP0pNFEadv4A/gNU0ZC8TcT85c+JaGTxiP+ONjrz3/LO/+z3JRamAdT9bC+UZVaNaP+sFGBYmlTs/hi1ykbBnRb+TACvlfBVzP0U07mws61Q/gMVpyRjDdL9j1+yz1S9av7v5U7VIUcW/VOjD74b5xL9V8XYaWFHFvzZCpx2sZ8K/E1l37SgQxb9adZjXAQXFv7vIimfGucS/+2L8fxzVxL8vY/AWrvl4v0cf9fX1Qla/nqATwJmBcT8AAAAAAADwPwAAAAAAAPC/Y6tG20OtRD9FM6q8C0XBv9i11Rti7b+/g3djX3Hzvz+p2Ih2RjiXv+aVtjFfOZG/sCZe5fCAtD++59bal1FFv5kTl3TXeb2/UyPwtwJBs7+nHgWgJA+zP4232Jd9mJC/CTXTi+6Ie79n38DZOiGwP5BnjpMrpEQ/kGeOkyukRD+QZ46TK6REP5sqV9oaRYS/eDJiBSaWd7/ErYxITXCmP2psnpQ8wMS/dYz+PXTDxL/D7dBh7sHEv48ftYZGH8W/tjTv6Qohxb+J5yBCSytQP1vMxyy2klm/yBEQ6LvQUz+MQTe0d8tCv0iQ7yeQ9Da/kGeOkyukRD+72ws9/8m9v3vA+oj/vr2/n4ui2OLbvb/Gz/x7JMTDvz99IfuKwcO/ONAJ8AvIw79ke9p/Rb7Dv7tNJaPM/IK+axSfviYlRb/1O2npMfN2v6JfwxZnzVC/5ZXSKoybX78GrCysLLpVv/VmrtSZmWi/hDiJsGtiXr/SPhnZEe3IP4WsQ3q897m/aOla9RKbsL+Hw+g7J/2yvyAaxbdp8bu/E5yciCLdhL+lY7mmJEK4PxuxF4c7xVE/B9Tv97x3PD8R0fv/DAlNv9RMFEadv4C/xc80ZC8Tcb9Nc+JaGTxiv8mNjrz3/LM/1zzJRamAdb+gC+UZVaNav9QXGBYmlTu/GS1ykbBnRT/IASvlfBVzvw017mws61S/isVpyRjDdD9K1+yz1S9aP7n5U7VIUcU/VOjD74b5xD9P8XYaWFHFPyhCpx2sZ8I/E1l37SgQxT9adZjXAQXFP5DIimfGucQ/+mL8fxzVxD9OY/AWrvl4P2If9fX1QlY/oKATwJmBcb8AAAAAAADwvwAAAAAAAPA/fKlG20OtRL+aM6q8C0XBP9i11Rti7b8/cndjX3Hzv7+p2Ih2RjiXP+WVtjFfOZE/sCZe5fCAtL8j59bal1FFPzEUl3TXeb0/RCPwtwJBsz+cHgWgJA+zv4+32Jd9mJA/BTXTi+6Iez9n38DZOiGwv6lnjpMrpES/qWeOkyukRL+pZ46TK6REv5wqV9oaRYQ/fjJiBSaWdz/IrYxITXCmv1RsnpQ8wMQ/coz+PXTDxD++7dBh7sHEP5IftYZGH8U/wDTv6QohxT+F5yBCSytQv2HNxyy2klk/yhEQ6LvQU79PQDe0d8tCP56O7yeQ9DY/qWeOkyukRL+52ws9/8m9P3vA+oj/vr0/n4ui2OLbvT/Gz/x7JMTDPzt9IfuKwcM/NdAJ8AvIwz9le9p/Rb7DP34+vqPM/II+8Q2fviYlRT/ZO2npMfN2P4NfwxZnzVA/HpPSKoybXz+5qCysLLpVP95krtSZmWg/7zaJsGtiXj/SPhnZEe3Iv4WsQ3q897k/aOla9RKbsD+Hw+g7J/2yPyAaxbdp8bs/h2FlpBIERz8mO2qfGsdYvwbvMqWaVHE/c+YmZt0kVj/cUgvVVJ5GvyvZ9sUmWIK/T1+L/nWeWz+6VVSQWFpfvxKpSwu4tFM/LKGT12fuNj9QCxY9zmBnP8dXwylr8lU/M1ZOna8CXL/36nC+VsVov/tVY3+glEY/Mt94ghHTYT+udWfeMvY8v3QGv+caX2O/q+Ek5jPSYr8QNbtnVV5jv7EYUIM4y0i/3ygSqlUza7+IuO60tUdfv06NtbO81l+/0W99LazQZL8NOPoa8WN1vwl6TkyfjHK/cI2FB51eWr9jq0bbQ61EP3upRttDrUS/AAAAAAAA8D8uEYoM4J9tv2VNxjUlZtQ/G7w2gF/X1D81LvD1LLHZPwD4bGZKwNm/RrJ4zXKAOD9jAtGhxcTmP0ZWLD9lnCs/oBjcaCNI4T9hhgmSZFPhP+3Smz/Ibdc/e1h9Br1i1796lYA6dIExv5nNqHj//+8/mc2oeP//7z+Zzah4///vP0gkXON2T+A/8wt+1Y5P4L9jSIYJvQREP/sgTCRTfMQ/EXI9ruzQYr+Sge8Dox7Fv8r5qE/Vg7s/EaAY//OyvL/fOX/iQRPgP9XwrW76wHI/ViL3vokL4D/Y57p+QSfgP13Wnxd7L+A/mc2oeP//7z/k3CKnkoCEv67h+su8iyw/OmFJhaxpVb9VCp7PcNXTv/DNRHwYdW2/y2fwPZq2Sb+6S9QJSZTTP6wdpM5I7Vg/dPAnn12MR7+XN388mUVwP/fr41/qC2m/yMgMorpDcz8/1fExGtZhv2nyS3O1xno/CVqXML5aQT9PlDpQc71VPz8180TEMnW/+4VhC6JKeD9rJ41/eD52vycd6eS/CFo/PdUyzfbisb+hBCnCxcvlPzNSwG1jKFW/dY2qLWTB174LcmsIyIRrP9hFsfsL5qK/5G5y2/5OYz813IIcZ+JdvzGVLVimyuE/OUvdmMfZqb+qgXqGIjgzv0efbeE2Hj8/MqaT5/oAU7946nU/M8VRv9+7rmsqhGa/CX2lUwExXz9pf+9PNkZ0P/1yqVsasOo/kIYXoGlF6j/dab/gG7DqP771v0TTAO4/ALfzrvQO5j/RzX/ipFTsP0FuwIxUr+g/x6MJDD0a6z8re3RYcDt0v0C++6tXR3a/vlf4TEyrbL9GM6q8C0XBv5ozqrwLRcE/LxGKDOCfbb/////////vP43OvRHwlO0/uf+DsQ2V7b9mKmA7lAOnP09og4A1B6c/mHqtxa1Wx78KPIqbKQVkPz7ii1rgPuk/jHzJLUxx4D/cPSn8qV/gv88A19cAPJ0/af9sBOIAmT95HP8RkKLCvzS1iU/9oG2/NLWJT/2gbb80tYlP/aBtvyvPC5po95M/PCTotDzEkT/eZp0BXGi6v1Bpu/Ps+Ok/99aiWSr46T+nEFXxF/7pP8tV2sLabuo/Ll/7KOJx6j+atmXzCONjv/fnd8/KLX0/ovEhUV4Ugb8Dh2O8JTFzP8e7N3Z1/VO/NLWJT/2gbb/iHBk3s47qPwJ9v0/JWOs/Li59KeuW6j+c1FOCAsboP/1Vt2tPt+g/Fh+EFgO86D/NhD7TVbzoP6SfA/7olGM/To3Zf5xOTb////zF4SBfv/T9cOextGg/sDjtNJCPZz8RkPXAKfhSv0OKZdHfZ3K/gc7V/cIWcz/uqm7NfsThvyVYZfdwJbW/LD7iKO1awT+UP2h/5IjSP6LNBt7a4uA/4SORerx4sL/55M275S7kPwo+4DwWN0G/KTQv1RmAIT+seWHY1jtwP+fE97CgYaO/C2g5/Cksaz/kia3C3TVlv46iVmPLfOA/Scg2Vt/Bp78XIVoj7UM8P+XkHQKvP1g/SQlu4uyzTr/P4Xs+bFtjvyBxPKEnw22/NvoE8/3CZD9Nol6IctZnPyb++3BFsug/2DQiOuJP6D+qZCXTRrLoP83/yefnyes/IKAPNdpk5D/m39cqJjnqP8uKq3g74OY/4yKPL2IO6T/NxnsKfsF3v8DHUuZNOne/qKggxnsvcr/XtdUbYu2/v9e11Rti7b8/ZU3GNSVm1D+Nzr0R8JTtP////////+8/vEHg3gTW5r/9QdUdAznAP/npWKiCbqa/35f6zCKQxb/pUUGdGMzRP1RIgG9oqOc/Q3ICgPca5j/NKRdbzkDRv15PZywD6cY/+teHHzeawL80bK6Z1UDBvx5zFD8iZtQ/HnMUPyJm1D8ecxQ/ImbUP0O8XP3Ac8c/Mrqc1OUVw78iUO3oaGa4v3CvJx9ODOo//14l724I6D99vxqB5AjmP05toxbIl+k/0b6mEDVX5z/A1PbMfibAP6zVyUjnD7M/AjGHXpjovj8IS/T60JXJP2r6ch9G+Mg/HnMUPyJm1D9fbHkq/23oPygsYxwJPek/nIDu9q+Y6D/uYyiTg8DjP34lkSUONeY/8tleUHiN5z/d8EcDbBDqP91xiulyQGg/HlmyKhtGF78f6UKawUdPv5ojcviMImg/GnHW2lJncD+iR+pLZERUvzBof1Gzm2e/oUFmLA75dT8PDSOHi3Hgv9wsyn9VIrS/H6jiJoFXwD9OCBk8RfjQP9a10MvsWt8/6DWvd7m0sD9MStqnVyLkvynpvhqYY1Q/jsx1WyTsML/CPgMO545lv1LJNUlSlZ4/taEbRNOfWb8TfX7hZX06PwadJgkjb+C/RFAVwR0JqD9yRpRvNQhKP637E3vVKEc/nK0BRnTlUT90hkHE08Atv1wokEP+kls/qo/t7t87VL/ai0JoTXZ5v7ApUAnjrOi/v2spJrZK6L/zJ66I5Kzov3i/Lt6ssuu/CCMMVY5p5L9LCuqZ7C7qv28lZl/U3ua/LjOIGE8G6b+n9uDmNixuP+Rlx9hbQHI/Os4TAxAQZD+Dd2NfcfO/P3J3Y19x87+/G7w2gF/X1D+5/4OxDZXtv7xB4N4E1ua/AAAAAAAA8D/5EUKcdFimP5gdDyFcOsC/FAOkZj6JxT9rcTnHl27RP08/7rAxhue/b817zutN0b8JM8H+YPLlP3+0+7/SDMA/w+dtzxFLxr/gGT08jD7BP3Xcg9Zh19Q/ddyD1mHX1D913IPWYdfUP55sOCnO1sI/7WRXyJgvx7/Y5eB/pGK4P+EZ1KsyAua/+JVVgNIC6L/C5Vyluwrqv8s1S/2YTue/CNv4byyV6b9w8PC5VuHAP8LX2eMDZq4/Om0CBxuMwT9/vDPv3mLIP1t3L0rxIck/ddyD1mHX1D+Mu7LIwZbov6hF7Rk1Nem/guB9MgCA6L9NaNyAMBTqvyHPNETQf+e/NnDWOKs55r+kLyqGRLHjv+mrkTdNG1+/yc5VbwTCUT/D0Jbq6KBmP7m3zSVbeGK/XdPp3ps4Yb/Oj96DkWFDP2r1eHvTD3c/Lp6TFD4Mar8vyqQ1YmvgP0w+FI6q+7I/tmVh+Q6hv7/oLduo5lHRv3EBTRC+Gd+/ZjHheEo1Zr+4tWR1a7egP0yIKAWJCVE/UIqKwdGdaD/+GkD09g11v0LIVSkM70m/u90Fm9pHUr87Y12XZlCAv1zJSN7h8Js/Sgz9Gh1gRb9lnAJyJ/wmvx8hyrI2e3i/hy5wrtOwc7/mAZp7Y9tXP2eacZtkCTC/qBZGhpnGdD+BSAkevzBnv5SmHTl536o/bjm6Qbhoqj+5UoMnod+qP9PYpeQNxqg/kWrooN9lqT9OKYzXDRerPy/wOjRlGKo/l9dolOk6qj8/r1l2i+9iP7QZSJlI5GE/M7/vc1fQS7+p2Ih2RjiXv6nYiHZGOJc/NS7w9Syx2T9mKmA7lAOnP/xB1R0DOcA/+RFCnHRYpj8AAAAAAADwP9QkENKvG+y/TM6kOYYB0L8Et1lFg3LSP13KuOmvu6M/VABY5Zgyzz/yItbkBN/IPyeJjeLn39c/8aPTutc+1796e+QkSgmav6Bb5l0qsdk/oFvmXSqx2T+gW+ZdKrHZP+QCNH2WpuA/AWycA91q4L+rqPLbbUyUv34pkhZS570/tthxFL79qT9GJu+/nDaOvyilsofzkrg/T1QowdABgD93d3vwRbnJP3h1yBnhunY/n4mDIu9gyT8iVK7kvFLKPyf7QFEsFMo/oFvmXSqx2T+/O5J9TBakP2pnPWl0b6Q/ZZaCIuVPpD+InPQbkxezv2rLqUyJ76c/A1fLbmeNqT+0DUvoOhvGP9Rl8xSOd0U/wN6ZAzAQXb8+BoGqOkl6v94QYJDKrXe/j1TaDVuWcT/xCrf47isNP4I1XG1YmF2/1bRnXAH9bL8F7jO3IbCpv5LQ5IeJjJM/fMtSkYsnnj+yQtD5xgeaP4Lhz5D6bps/oYypQAAScL/HqHltBG6hPzuWgR1g6k6/a11RfdyiWL/C+qG+tFNtP6sQnQCHVme/SvZV2t0MVz/05nWfhi14P++v3Z2w75s/Q8LGbm7cSL9MoRLDQAlDvwmmuh6P8HQ/OF10RebtcT/ZfRtFNqZRv+lhwcCzbWA/zszMSzMbdb+ck/sXiXprP6bvOboOiak/N3OpyKUtqT/TMJya5IipP1O+9kiQLqc/E+Gt3JRcqD+xJasZvIGpP93xsJO9X6g/UZmI9WxoqT96gdEcar9dvyN9k+//hWO/hC/3vfjLUT/mlbYxXzmRv+aVtjFfOZE/APhsZkrA2b9PaIOANQenP/npWKiCbqa/mB0PIVw6wL/TJBDSrxvsv/7//////+8/ba3dfdUdz7+w2KQauGvSvwgGSM3WnKI/0ojgwNTvyL84TiHn/RHPv48hoetSEde/2RQjoIui1z9N66EArJGav0tNWY89wNm/S01Zjz3A2b9LTVmPPcDZv0iLKlpLceC/w56CT1as4D8kVZouR0OVv3OWh+bTlJG/IQp55r4NqT+dECeblEq9P5MrpK7Z/XU/l2WcRHP8tz8cDrKJ9d7Jv9VjScmUg3C/w2pGlWOLyb+WImSfrkbKv56wwWnvDMq/S01Zjz3A2b8j4yu3yXCkP7bRSJqC16M/pi2+wjkSpD9Au6acN7fFP7rw8I94i6g/FVDKVFkqpz81Z3yKU/yzvyve0h6kHDc/2YEuDQ8XYT8PdEquPNRpP7E35G1B7nY/ZOzRDDuFWr+3+k18S2otP5XS1mp361+/3KYbj5tubj9DnkZXIwuqv8s0ucJzJZs/NDmdbXhVez87sKB1BmWVPxlhbJI9yp8/IANlHmqLiz+uOd0D607Bv6sp24i1Giq/na/svDsBab8Dep2ywwxqP2B5kgySN34/n1q+UgMwQ79NtcnoTT1xP1/J39HvUry/XgvJnXxvZz8vuGMxoRxZPzKKUAXiD10/02nsZc8hTT81VFj381NJvxTdZ1YhNm2/bJiEwUbyIj804ajSajNRv8Xci2XzkMq/3h2zJGgmyr9hPthS8pDKv+YxfcUpT8i/KVesWDM5yb/9ZzIWcanKvys+nCRglcm/PNAq1O4syr8Ugk2L85hQvzP6lN726Dk/jvmcQdZPP7+wJl7l8IC0P7AmXuXwgLS/RrJ4zXKAOD+Yeq3FrVbHv9+X+swikMW/FAOkZj6JxT9MzqQ5hgHQv2yt3X3VHc+//v//////7z/iQTChPllfv4IirWsYcMO/dcvLuQGZub9LWvlZHe64PzZhFgPRk5u/vTgIT+V5hr/7GqZ4Sqq6P76jkX12LTg/vqORfXYtOD++o5F9di04P9bPZaQ79Y6/UwsqCr8+jb+3sjJLHRG1P8ThSWVb5Mm/0Vdtevnfyb8MOs7D9tXJv6v2vCb4U8q/N1vGSjJTyr8SkL1ArOhZP5PikDdmWmm/+vszblXnXj9cUOQPIcJYv9TeP50Tw1O/vqORfXYtOD/CWb1TDYvEv+0TW2qpasS/MHmbimJ4xL9jLzs65p3Iv6UKmrsFk8i/Xpxt1CuyyL/WOoDB+p7Iv4zhUZNrvmC/Bdzqr7KDRL/WwWjyVS97P9/5GLUoqTk/lvAozwRDdr9VSJBvz5hCv+Jc7HI7Ln8/mtkddpyINr+Adwlp7DjKPwwpJWeHqre/VhJTd4nCsr9LV8l7rgq4vzFTdP6lBL6/JcRQHwHDbz+VZrGJlehzP4y0XPbZGkQ/3gbODS3xW79AxUBTrb00vxyY0dY5fX2/iZL6pLmVZr8Gf7waUJxuvwFeU5aluHE/C3vim/BGTD83hWN8n6U+v5tf24s1u3A/Ho9eDkR4cb+Pt4/9G11kv+N8cEEszks/BGV9QEU7Jz8MRa1ak6ZVvz+0fPj60HM/WUjaSLVlcz+EOI77mtFzP0dvSU2RknU/J+0gOoPBcT94h6C3II50P7okSnih7nI/xhFsRKhzcz/mZwhzrLtyv7M23Uk2VTe/xMaT1X2JZL+959bal1FFvyPn1tqXUUU/YgLRocXE5j8JPIqbKQVkP+lRQZ0YzNE/a3E5x5du0T8Et1lFg3LSP6/YpBq4a9K/40EwoT5ZX7/+///////vP9YdaKbaQWk/8aUF6rBY6D/+JirG0UroP/A0UXYaXuA/qSeSAEpW4L/9aQmgLaM6v11oh1vHxOY/XWiHW8fE5j9daIdbx8TmPxSXbL77J9c/CuTDHWUb17/r+5p7tINcvyrBn+6tzs0/F0s/dZCJcT+nU4k0EarMv0qv2xLDMbU/KOLkfsnNsr8PHNNmVrR8P9b5jzPdluY/ErgJqc6hcT/PfmF7Fb/mP17KKHAttOY/XWiHW8fE5j8zyiU+3Lh5v8UZvzL6xXs/oWGGFJz5bj/EU2Ni+mXLvx4LV7uILcu/uv2CqA0WzD8NYT+SabDMP+hfGNl+1Gw/0ntZ8g+IYD8PFyNVSoFgP6tSNjL2rlG/Nz8fdiGqcD8oi2a9t8dRP6TYj+CQ73k/koidBjZFYL8+LdKa3/1qv5mTtJokRXS/n72hglh2gD/C01IS+uZrv4e9p2V1iHU/dCOD+m6hrr/dBDqkOpDiPyRJslePEm6/RSjnuiVEYD+vYfAenPtlP8G96AvD+6G/9AsCUS7HXj/nN8p9F69Uv71bBmoBNt4/4aUu8ltIpr9eRCLob5dsv/UyUOfK6Gc/Eb7TY3RBV79H0LYma25bv830gHn+jm6/8dpCp1itTD8MQiebCh10P6T9zxQFy+Y/Tbd4Pjxu5j+UKIcMBsvmP7vmyX5eYek/KP/A3xTi4j9xSGHwVS/oP37CFvDHh+U/3y7XjtjH5j8JU06OpmJpv0NyLVtPvme/8sqT6iBSe7+aE5d013m9vzEUl3TXeb0/RlYsP2WcKz8/4ota4D7pP1RIgG9oqOc/Tz/usDGG579dyrjpr7ujPwgGSM3WnKI/giKtaxhww7/WHWim2kFpPwAAAAAAAPA/+4y/v27X5D/K7Js7Q8Hkv1CQA3BsDJs/qte8MtbhlT+MPxRRrM/Av24wtwKEnys/bjC3AoSfKz9uMLcChJ8rP9YFu1fQSZE/L+esePsYiz+gNxkIzpS1v/hqs5NvMOY/GY09RLQs5j/0rX9YHzHmP626CozZleY/tOa9iX6S5j9pe2UlSJVQP2ZBWJslGnE/F4iGlelbdL97Fjx1Ji51P8sV3K6XIkq/bjC3AoSfKz/311MZ9HDnPwVl8y0pCN0/0sJvUPBy5z/WN73tSiHlPzQKyTmGH+U/n8p3RvsZ5T88E4+lrSnlP02x9H1QMF8/tRu4rJ/GWz++rmrYFj1evxyYh74pP3Q/Ktnb9h3Edj+50OTC07NGP6SGjaGOlmS/OLkE2/XbbD/17v/K7k7ev9+/2WhrEbK/irXcs/L8uz/95eF/TBrPPygkQGYmAd0/EimqZA5for8bx9gGX1TYPwpIJJ/QaV+/A8axkseh2L6iRmOYt5xYP507M75o75y/dse5+KWYTL8WqjKp/vBtv7zanVvJ0NM/1DuT4CdAnL+RskYKRXZlvzpagmBYdHQ/3GkfMXoIcb8reOSK4Vtov1drr5NcGl2/ebvvV0oKRz8u7PCKHeNhP/P0jQNh0d0/U5xDka5X3T+pgdcqZNHdPwFFZOU4meA/nzlXt/e32D+WH4HIGqLfP+3eFjUnK9w/8niXYynM3T9GRLWvjHR2vyUmthHxn2G/OIA7rYWFeb9UI/C3AkGzv0Uj8LcCQbM/oBjcaCNI4T+MfMktTHHgP0JyAoD3GuY/b817zutN0b9UAFjlmDLPP9KI4MDU78i/dcvLuQGZub/xpQXqsFjoP/uMv79u1+Q/AAAAAAAA8D+7cIWNp9vDP4p4vDrs79k/XUu5vRPo178BrVl8K+W1v5s8idgkSOE/mzyJ2CRI4T+bPInYJEjhPzZVy8PNRdI/BzR9dxL80L8Etknji6+svzIafDDjDeQ/hNhuB/z83D+WaOe2VO3RP0wRx93CquA/KIbiHam62T8RDT4zbHh4PzPUG/1iOuE/2EMKYa4xBT/PcfM5Ml7hPwz3IncwNuE/mzyJ2CRI4T9FU19yoB7eP3QP6JFcK9M//+Sie0ae3j+d+0bDfQfRP7CegjubGtE/e0+W0ZgF4z+FYUxuEC3jP1YKEkqX/m8/SmswpuaOZT9P5Qu/Gac1Pxt/XIvbj2M/VmQ7S0Vrez/Q+ZM7S99UP/OFI0no/mk/LLrrFbJ5ST8TFSxb/9PTv+nN8D/QYKm/1FSZXzG5sz96uS5+V9rDP8wASSLnE9M/miN7lQJzpT+BD4IRJu7Xvw9UAQHqZ2c/jRPE/jc4Zb/NyPm1UkpgvzR3/J3/zJE/+AThOKo1a7/y9TiisJBgv4TZk1ZbdNO/E2SGSZaunT/AsuxHQWRfP7gfLQi1z1M/fFXiYYcEY7/yVUSrpENKv5B3mPGCLWk/MRGWLN2JPL9swxL84TVxvw3n8y8BcN2/pZuR4Xz43L/sx16LAHDdv15bDQaCZOC/nD2nFyhf2L+iJT8ypj3fv/rdct3fzdu/LMs9vv1s3b/T4mdBGflXv47Zg0wwelo/Gy8tUojvYz+mHgWgJA+zP50eBaAkD7O/YYYJkmRT4T/cPSn8qV/gv84pF1vOQNG/CTPB/mDy5T/zItbkBN/IPzlOIef9Ec+/S1r5WR3uuD/+JirG0UroP8nsmztDweS/vHCFjafbwz8AAAAAAADwP3RZLUvZ0Nc/HWKqSn3C2b/RVTrLuM21P6VOpsFlU+E/pU6mwWVT4T+lTqbBZVPhP67Zmib769A/UuMTP44j0r+6BkoRsmqrP0V5EzUVi9G/daAUzdao3L/xj20bUebjv2N6jcCsXtm/CjBl21574L/ny88WsyZzP5NHszpNG+E/oVFmGMSsej93c+3amzThP4UMtZYiTOE/pU6mwWVT4T8yIGn/xtLevw0NQgM4kdK/9kpBg+JX3r/1kV4qtffiv+4P2UHQ6+K/Yn+DeETI0L8Mgj4v9KHQvxr41kI3l1c/1+R9NjFVPD9qy6T5E2lmPy4U9jtlinC/CJb6SH4TQb/5ZNThloU4P+8xcwaucXo/qR0hOgUob79RZQCDTpHTPym0VwA4maU/38OuuqumsL/2bxuev5PEv+iKhr6vn9K/u2yzXAsWZj8p7VdlR9OWP+6/Wh24T1o/3nqlqBn1cL8MFavjibxbv5IotvYlgXW/QpARHRfQXr+y1pybwA+Av9YQiQfLmpM/gCSXC6pIYr+vwEKPin/7viPxPiz7fVS/9DMeOmDhdb/w+CIDTO5lPxKCagLqdWC/ecxHvtq5SD/td/WBQVsrP9znIik6CaI/2/PboqDjoT9xlYseagmiPxKJc8G4EqA/qOFeKxFOoT+gXNGTOtGhP2HXCAUtmKE/TTIOOUTVoT+2+cGdNmJjP0cAjTBS6Gk/2A0ADq2BTz+Mt9iXfZiQv5C32Jd9mJA/7dKbP8ht1z/QANfXADydP19PZywD6cY/f7T7v9IMwD8niY3i59/XP48hoetSEde/NmEWA9GTm7/vNFF2Gl7gP1CQA3BsDJs/i3i8Ouzv2T90WS1L2dDXPwAAAAAAAPA/65XpTevh7b+yySYA7b7Gv24Rq37Jbdc/bhGrfslt1z9uEat+yW3XP+YNPLdRTt4/6P/LF0Pz3b8cUpN5y8SOvylYCSnCUsM/O/fngFeHoT/ok/GqoSa1v6irsguGObM/ik3rFry6db+el7eC0sl1Pz6iSH1Y+NY/yI3ikk2acz8SLE0P5j3XP7oomZiwQNc/bhGrfslt1z+iLC3ByHGVPwgQpo/bZZs/rcX4zGwCmT/HsB8qgXe0v8jNWiqOzbO/498xkVwtwj/tuSUj8qDCPzI8x4yw33A/NekDzOfBZb/bYHMCxNpzv4k77DH6Dks/XoDwlzKMcD9xjm2j6MtOP8ng19tghlk/e3KxGDdyYj/hLO2beVCiv0XHktz3534/o/fQnFCGmj/0F1wQsNOKP/AgIKOlZZc/GAFND/hQfb+rTgq0wUaSP2Rw6AqnPmC/5pnCZ4opdT9VjGjJMA5SP0LkZBesaGw/hgHSYE4BQj+g3LwzIZR9P9P5h3JIiYs/QQSZj1mfSL+KLZfeJltGv4Wg3/4DaF0/94pnj7ocYT9osGRmDDRav8noGgx6WXI/1f6nYaxIYL+wx8eImd43Pyjbi+11U5w/MJFwy3edmz/TKpMg9FKcP9DnUcjv6Zo/LZAmfcFqmj+6aUn26wqdP45UbhsU4po/jOaad3q/mz++miiRwmFpvxmP1M4z9We/1zRQXv+kZL8JNdOL7oh7vwU104vuiHs/e1h9Br1i179q/2wE4gCZP/rXhx83msC/wudtzxFLxr/yo9O61z7Xv9kUI6CLotc/vTgIT+V5hr+pJ5IASlbgv6rXvDLW4ZU/XEu5vRPo178dYqpKfcLZv+uV6U3r4e2/AAAAAAAA8D+0G0oYrNHHv06PSse9Yte/To9Kx71i179Oj0rHvWLXv+RwciNA/92/TFOxUGEu3j9HZp0E+JWBvz3dYmIR77a/3qwrdoShmz866iohlGTCP3pMws/VAIq/3Ha9D0lJsT+iNNDJyCx1v0BhfgA97da/cxELJFA1dL9tKaxoYTDXvxBHgNYDONe/To9Kx71i17+dCy80UveYP5n+G9pnDpM/C5pDlQirlT/Ztm5xW6rBP+xXrViTWsE/Ysdd2adqtb8u66K6TUS2v/844+vaQnC/Ik5nJI2ycT9OxgXhot1vP11taXKMS1W/HmeIFdj5bb+y9ic4dDNYPyeJISXdoVi/tKQFYZSuYL9GwKDvN1ybv+H+mkn3CpU/4EUWxE3iZ79C4f+/ZhmNP53GKRruBos/fyi0+5QoiT+ZANw8ID68v6ui99AaHFE/3qJrWSlIZ78hN2tIFYNaPzVCnPUu/XM/PWKryNfubT8JMQqNCnFbP8iKcQFA7ra/uSPyMMvJgD9HIbi2Ou5fP+JNk6WPnFi/Fnt1XqhHgj+1JUmOmzFov6ynePKV33u/zsavgXTRaz+YLrop885ZvwDPVMEIIMa/0iefRaLHxb+GRzoN/R/Gv17SFI6qSsS/vax2mnf3xL+4GW5hqzjGv3pFM+tiU8W/+tdjznfJxb8s+a9Iw5VgP1jG3Gc5AUW/cr0n6UGUcT9n38DZOiGwP2ffwNk6IbC/eZWAOnSBMb96HP8RkKLCvzRsrpnVQMG/4Bk9PIw+wT96e+QkSgmav0zroQCskZq/+hqmeEqquj/8aQmgLaM6v4s/FFGsz8C/Aa1ZfCvltb/RVTrLuM21P7LJJgDtvsa/tBtKGKzRx78AAAAAAADwP/SdGAbchjG/9J0YBtyGMb/0nRgG3IYxvwpjMJcV/Ia/f7CuWAR8iL+6M7nhb5ywP/k+831gh8W/5spTVaiJxb+lEkWxKI3Fv+z0BbNF7sW/l5DHPHXpxb/XpPP2K305v48KdSrSPTS/yHP9IvwCPD+iVhkUHMhGv50TIFRHHx8/9J0YBtyGMb+r1HpDM+W/v5nN6ds467+/NDqNOJwJwL/1Nzi5X33Evy88t45Ki8S/sY3tKcd3xL8Snb/J34nEvzrFK4B+yzm/7NZqhSvOcr9gq/0rl2dlPwbWyd0dbFU/AA1AGB7gUL8IOhN9qTd7v9TbYmpywiK/7kiwR9oXQ7+t4ZII8PvFP5oqN4IOx7O/JBHk3v8osL/HIIXmhDezv2WBykESXLm/k1rY5Nj/Rj8a4hOTzsFYv+5AYlCMUXE/8Org/QYeVj8mO0JsyqRGvyHSdSgJWYK/epPymmOfWz9aWkSs+1Vfv/XHHqIAslM/vUlGoPfxNj8fyK3S2VpnPwtl4DIN/VU/xKoRF3kCXL8H85Xc9sZov2qdokQKjUY/ZHpB3d/QYT++QEDwo+48v9FNsBdSXmO/xUxElrjQYr/Eq/3bjF1jv5A5zs75y0i/C1CrfXAza7+JWl0YcEdfv8GSUDxG0V+/v6mUcTTQZL8UoHzYuGh1vzm9b0HrjXK/BA4sdnZpWr+PZ46TK6REP6pnjpMrpES/mM2oeP//7z81tYlP/aBtvx5zFD8iZtQ/dtyD1mHX1D+fW+ZdKrHZP0tNWY89wNm/vqORfXYtOD9daIdbx8TmP28wtwKEnys/mzyJ2CRI4T+mTqbBZVPhP28Rq37Jbdc/To9Kx71i17/znRgG3IYxvwAAAAAAAPA/AAAAAAAA8D8AAAAAAADwP3Ncv0WgT+A/qSfk87dP4L+3HCSx8wFEPxx5kcNXfMQ/x5JsLtrPYr9B1R2KoR7Fv5SAy9Tcg7s/FEqlZ+2yvL9+abo5QBPgP+T7XIfwwXI/6GxeA4oL4D/p+YHCQSfgPxSesEd9L+A/AAAAAAAA8D8o479JJoGEv3C8yVVGjiw/AVQ3jYZsVb9GFvNFcNXTvzcRN2OpdG2/7u+gxy6wSb/RdX06SpTTP5bD/y0g71g/p77FZd2VR7+Ox79VG0dwP897RoI6EGm/KKuwiv5Dcz8lDfAK49dhv5UlL2lXyHo/vUxVv6NpQT8uK39mzr5VP3g01i5rM3W/AqL2WrJJeD9n68aCqT92v+ZrstNfC1o/k1rY5Nj/Rj8a4hOTzsFYv+5AYlCMUXE/8Org/QYeVj8mO0JsyqRGvyHSdSgJWYK/epPymmOfWz9aWkSs+1Vfv/XHHqIAslM/vUlGoPfxNj8fyK3S2VpnPwtl4DIN/VU/xKoRF3kCXL8H85Xc9sZov2qdokQKjUY/ZHpB3d/QYT++QEDwo+48v9FNsBdSXmO/xUxElrjQYr/Eq/3bjF1jv5A5zs75y0i/C1CrfXAza7+JWl0YcEdfv8GSUDxG0V+/v6mUcTTQZL8UoHzYuGh1vzm9b0HrjXK/BA4sdnZpWr+PZ46TK6REP6pnjpMrpES/mM2oeP//7z81tYlP/aBtvx5zFD8iZtQ/dtyD1mHX1D+fW+ZdKrHZP0tNWY89wNm/vqORfXYtOD9daIdbx8TmP28wtwKEnys/mzyJ2CRI4T+mTqbBZVPhP28Rq37Jbdc/To9Kx71i17/znRgG3IYxvwAAAAAAAPA/AAAAAAAA8D8AAAAAAADwP3Ncv0WgT+A/qSfk87dP4L+3HCSx8wFEPxx5kcNXfMQ/x5JsLtrPYr9B1R2KoR7Fv5SAy9Tcg7s/FEqlZ+2yvL9+abo5QBPgP+T7XIfwwXI/6GxeA4oL4D/p+YHCQSfgPxSesEd9L+A/AAAAAAAA8D8o479JJoGEv3C8yVVGjiw/AVQ3jYZsVb9GFvNFcNXTvzcRN2OpdG2/7u+gxy6wSb/RdX06SpTTP5bD/y0g71g/p77FZd2VR7+Ox79VG0dwP897RoI6EGm/KKuwiv5Dcz8lDfAK49dhv5UlL2lXyHo/vUxVv6NpQT8uK39mzr5VP3g01i5rM3W/AqL2WrJJeD9n68aCqT92v+ZrstNfC1o/k1rY5Nj/Rj8a4hOTzsFYv+5AYlCMUXE/8Org/QYeVj8mO0JsyqRGvyHSdSgJWYK/epPymmOfWz9aWkSs+1Vfv/XHHqIAslM/vUlGoPfxNj8fyK3S2VpnPwtl4DIN/VU/xKoRF3kCXL8H85Xc9sZov2qdokQKjUY/ZHpB3d/QYT++QEDwo+48v9FNsBdSXmO/xUxElrjQYr/Eq/3bjF1jv5A5zs75y0i/C1CrfXAza7+JWl0YcEdfv8GSUDxG0V+/v6mUcTTQZL8UoHzYuGh1vzm9b0HrjXK/BA4sdnZpWr+PZ46TK6REP6pnjpMrpES/mM2oeP//7z81tYlP/aBtvx5zFD8iZtQ/dtyD1mHX1D+fW+ZdKrHZP0tNWY89wNm/vqORfXYtOD9daIdbx8TmP28wtwKEnys/mzyJ2CRI4T+mTqbBZVPhP28Rq37Jbdc/To9Kx71i17/znRgG3IYxvwAAAAAAAPA/AAAAAAAA8D8AAAAAAADwP3Ncv0WgT+A/qSfk87dP4L+3HCSx8wFEPxx5kcNXfMQ/x5JsLtrPYr9B1R2KoR7Fv5SAy9Tcg7s/FEqlZ+2yvL9+abo5QBPgP+T7XIfwwXI/6GxeA4oL4D/p+YHCQSfgPxSesEd9L+A/AAAAAAAA8D8o479JJoGEv3C8yVVGjiw/AVQ3jYZsVb9GFvNFcNXTvzcRN2OpdG2/7u+gxy6wSb/RdX06SpTTP5bD/y0g71g/p77FZd2VR7+Ox79VG0dwP897RoI6EGm/KKuwiv5Dcz8lDfAK49dhv5UlL2lXyHo/vUxVv6NpQT8uK39mzr5VP3g01i5rM3W/AqL2WrJJeD9n68aCqT92v+ZrstNfC1o/ohjsGKHoZr+n3VuB1tKPP0WqyAs2J4E/fLMVvV0vTj/FvIASj/dgvz+McT66jn6/j1Baj/g+aj8JFMjIQMJzv4nbXZ0W85E/bzPOXx/VWL8gofVJbyZ4P1vq8Pc9WVe/YWWme7Vsb7/D7kUQiQ1av2MRwOnoVmE/kmcWAHHBaj/rq2KykShVP/lEmkhViJc/G//HYeIwlz/267OQb4iXPzd8JCcsGZc/+tIBWz5NlT+DyF2j7RGYP7ckDlaHrpY/0mc4CAw4lz/Dlo3pK6BdPysn4NQ60lE/u5CLF69OXL+aKlfaGkWEv5sqV9oaRYQ/SCRc43ZP4D8szwuaaPeTP0S8XP3Ac8c/nmw4Kc7Wwj/jAjR9lqbgP0iLKlpLceC/1s9lpDv1jr8Tl2y++yfXP9cFu1fQSZE/NlXLw81F0j+u2Zom++vQP+cNPLdRTt4/5HByI0D/3b8KYzCXFfyGv3Ncv0WgT+A/c1y/RaBP4D9zXL9FoE/gPwAAAAAAAPA/8IjmSFn17b+P3clqhrjGv61fnofv2ro/LItae8W6lj/ACouJ/eOuv2dOhplfJbQ/2QkZG18Fob+SDyf4R3fQPxOOYvo4K1I/RtiiD3Zb0D8hG2IXk3fQP4CPTycObNA/c1y/RaBP4D9ecjrmZFmMP1OvnMxu5ZM/sAbKHqcUkT8F/fwvSlTBvyAsypV7WJU/jU8OtCnvlT+TQ6SDldrGP22YqzFkije/TdvbwklKYL/rBa3unphav52vjKCo9na/7I/HHeUXTD8We4CEMRhVv2bwX86PoW0//IDttc+VZr+BZZCHRPSXvxh+yX8/1E+/cEtCDcTulz/YnZNcCiuGP8MNLWzYWpA/WnkkBPQhJb+J4Y9vIK+LP9QSOtNWgHu/OvFcfdb7Ub8VMvqCFRpnP9KlUl8/vnM/bDNWaZzmNL/HjoJuqvFoP8ZgcmNwZ30/fusKrr4VQD8XcvW7K35yv0LJMvqwMGA/l5DDngtIdT95palRL4VTP9/551P4Bi2/Rt9/5Azbcb8GeOJgEZdrvxfuSonA1JU/qIJ6g2hnlT9IWbzdo9SVP/r1+3jCwZI/YYjj0R2dlT/0f4S4tZ2VPzG+q72U6pQ/rFY4yZhxlT+DVb0LKGphv4qBYWzLg1e/t5IByeAhVz94MmIFJpZ3v38yYgUmlnc/8wt+1Y5P4L87JOi0PMSRPzK6nNTlFcO/7WRXyJgvx78CbJwD3Wrgv8Oegk9WrOA/VAsqCr8+jb8K5MMdZRvXvy/nrHj7GIs/BzR9dxL80L9S4xM/jiPSv+n/yxdD892/TVOxUGEu3j9+sK5YBHyIv6kn5PO3T+C/qSfk87dP4L+pJ+Tzt0/gv/GI5khZ9e2/AAAAAAAA8D8Sl/f6lgDHvzlCAWPsj6+/96QtupOElT+pZ7OSDHS6Pz2kSC6CzKG/ZcyPcHvAsz+h60XzGoPQv8mWkG3TPNG+Nmo/qO9h0L92t27eTHHQv6mWH+hxYNC/qSfk87dP4L+cFhSvysmSPwNhXfKKRIo/Sd/DywIDkD/L35jIxJLGP9J0sRLgiZQ/+9UFVYlvlD9JvaochJrBv4zVy+Sk1zE/ougvJTe5XD+vaOAkI9UuvyykAp6BAXk/yUQ6cjdGUL8SNEDuErVQP5M0HggejnG/K96F1n5VaT8+M/Q38IGVv+mZonehbpU/yJsHM96Jf78ILq+V0N6CP72nBddsvoM/nniFY0z0gD+Kw639xtK0vwfx20XmA3O/B3deD645QD+uv3A9cTJhv4NvwgbtPn4/EyEn6DqJgL9aBb/+eWF0P0oQ2iiZtLG/jvzA/v19Zz/Z57i7TaBvvwnYN9bWUFm/vXjciBM5b7+VpyH1C0NSP4KVGZPKuXW/44QdK0gbaT9rab2tSdJ3Pzd6sAuFv7+/Z6pL2ck1v7/0W8Fdg7+/v301mrDWSr2/0JKwbvgIvr+5kTamRPm/v9v8cycyg76/c6Zzs+5Bv7+pF1cNSTVNP/k5VUvM7E8/c5gY4oPqTD/DrYxITXCmP8etjEhNcKa/YkiGCb0ERD/eZp0BXGi6vyJQ7ehoZri/2OXgf6RiuD+rqPLbbUyUvyRVmi5HQ5W/t7IySx0RtT/r+5p7tINcv583GQjOlLW/BLZJ44uvrL+6BkoRsmqrPxxSk3nLxI6/R2adBPiVgb+7M7nhb5ywP7ccJLHzAUQ/txwksfMBRD+3HCSx8wFEP4/dyWqGuMa/Epf3+pYAx7/////////vP9lAtPAv+r6/u64KhI/3vr+DUdVdHNe+vxZEG+6+d7+/8lSh8l98v7/askq+qvJiP0auQW3+VGm/OAmWBe/iVj9KfAqJU49Jv9xz4Anqu1u/txwksfMBRD+rxJ+Q9hG3v/dqVRyZHbe/b0Ghe/kot7/+MwJxBmi9v/vRpwoqUL2/kM35Pimnvb/qioErjlm9v4iYaZZd2y8/WaNoTlKGRT+Xdi5VzE51PxByP0mn+la/4/WlRWgDOT/mrmaTQYVIPw2xycZEwF4/uSWPfZnjTr9os2jjEtG/Pxt87GkBnay/BzZOWTB0pr9yp24Zjbisv3BmQUyxWrK/2JpTawP7sb9Q4EXTGcrnP+4fRcGGrWm/PoQBmpVcSL99VLipEDI7PyK2EsgD0aS/6ZhKdet3Zj+vfy/VwaV2v/AtjAoTY+M/tOkOUhtJrL9sSLSfUENqv5/5rzw3MGA/mqDUtrWncr+Dg+Mzq2Zfv/HI+W0bZHC/k0vgMXBLaD/EF6Xru1BjP5L6X67rJ+8/+4RqYfD97j+I8UIC7CfvP7wQabWPuOs/mrnJTaO77T8/KD1ToLfuP1kOtdCRjO4//DhSZlHX7j++fmbOXeZzv1xj5ChwNE2/w6Ebes5Hcb9pbJ6UPMDEv1VsnpQ8wMQ/+yBMJFN8xD9Qabvz7PjpP3CvJx9ODOo/4RnUqzIC5r99KZIWUue9P3OWh+bTlJG/w+FJZVvkyb8rwZ/urc7NP/lqs5NvMOY/MRp8MOMN5D9FeRM1FYvRvylYCSnCUsM/Pd1iYhHvtr/5PvN9YIfFvxx5kcNXfMQ/HHmRw1d8xD8ceZHDV3zEP6xfnofv2ro/OUIBY+yPr7/aQLTwL/q+v/7//////+8/MrgRzahX7j9BUeSBP6nsP5MjYEe5ce8/UumiusNN7j9tw1whDrxrvzsgBHMlxcU/qNq6bNv7db8KOStgWEbFP4FiiGyeD8U/HHmRw1d8xD8y7irb/VfmP/e//OEebeY/IIcGZsJx5j/eMY4Di0frPxIVOmuJSus/msjIvIV67j+34rTw8njuP6sMK7EgH2Q/xpwYJTxeYD8AXHZNs0xXvxZX1tXWMF4/sIIrMkCWbz9IGBTtkKhxPyu7SMg24W2/TBMP4y89Tz+HFj5C3Xvkv4UvWb36VrS/P7eyUA8iwD89W6MA3IjTPwGThbHot+M/Saq7fng5sr9A72H57sjnP4yWny0ndlq/Uk9AK3AORb+tL2Vhe0sxv8RmvlJJ4aO/x87bSxnGbT/VDQwa6i9yvyDlsIBLaeM/m0flUy6FrL+nkRFKihpgvz3Qq068ljo/uh9uCJjFYL+zd+XEVbo3v9MJiAGID3W/DlxSSMrMYj8Fx+h7PNtsP3vA7ZfsKu8/44HkG54A7z8eFB5M7CrvP4gVfeIVtus//YYJj+nB7T+nfdrNbbnuP0gWvKidj+4/2ZN/eKnZ7j+Nx882grlvv0FqHbPJZD+/DqxaYqAQbr91jP49dMPEv3OM/j10w8Q/EXI9ruzQYr/31qJZKvjpP/5eJe9uCOg/+JVVgNIC6L+22HEUvv2pPyIKeea+Dak/0Vdtevnfyb8XSz91kIlxPxmNPUS0LOY/hNhuB/z83D91oBTN1qjcvzv354BXh6E/3qwrdoShmz/nylNVqInFv8aSbC7az2K/xpJsLtrPYr/Gkmwu2s9ivyyLWnvFupY/96QtupOElT+6rgqEj/e+vzG4Ec2oV+4/AAAAAAAA8D8PakZLWljuP5eSddOVce8/V88COpRx7z/Fdfhp/hXFvy0UQAY/OIE/kKwx0Uyswz/Hg1ORduzDv1ZxfTupvcQ/xpJsLtrPYr8sbnV5lGzmPwsKnMMZYuY/q8phlUNr5j9saYMQDFPrPyeo7KeQde4/tlXXSIF57j89r/Ii7FDrPzSJb1Am6VU/ozuooDGKYT+kieatQBVkv07IUdoYiWY/xuh7kYrUZT9+8p+yUXtzPz1tSBW3ZXW/NM9c2vqBWT+rEHUaOn7kv/9O7lufBrS/jVqDcgizvz+0XCpY9q3TPwY/6GkhtOM/06T3ISF5sr/U9Xz5AsXnP9mJ9LEdCGy/8hnqfgxHAj/vOcKunl5CP/oiU4PzLKO/lGecJC5scD8OpDGA22Rvv6r4f8iOXeM/XZJpfW6MrL8OXIHTT5Fov1c6+gjicx0/sWzH2o5pZb/SJJRW6a9Jv+Ub8aUMBHK/lz+HCdquZz/azzxnuk5oP4J74Wv6Ju8/ZnkIFUr97j9k8Zgt+ibvPzZBxEoetOs/9urllMu77T9jC1gjxLXuP3K8/+cZjO4/nLVOC4nW7j8NNQyscsBmv07vOBe87ke/PT3Jglw+ab/D7dBh7sHEv77t0GHuwcQ/k4HvA6Mexb+nEFXxF/7pP32/GoHkCOY/w+VcpbsK6r9FJu+/nDaOv54QJ5uUSr0/DDrOw/bVyb+nU4k0EarMv/Otf1gfMeY/lmjntlTt0T/xj20bUebjv+iT8aqhJrW/OuoqIZRkwj+lEkWxKI3Fv0HVHYqhHsW/QdUdiqEexb9B1R2KoR7Fv8EKi4n9466/qWezkgx0uj+EUdVdHNe+v0JR5IE/qew/EGpGS1pY7j8AAAAAAADwP57RFiboTO4/0Xa51qZx7z+XPeWjJwZ7vwAaPUchgcO/oWrKdDIYfr8vDoi2xknEv2VQioKrbMS/QdUdiqEexb9p0rQD13vmP4DwGRQWYOY/z5HHzPhv5j+Og5cFe3juP9jhXhQHde4/yyGvq05V6z/qlx88FULrP4g7Nosn7Es/J4zmDsivUT+Rx+2KDDljv1YORUXcK2M/nhLRzsRpYD/F1fAb1VNvP5PyIkIy1Xq/HM9EQ86IXj+rLps10Xrkv4Ud6G7hzbO/odcOXAFlvz/wAjoJJ63TP72hc7gWr+M/i5z5nqyIsr+4weNWPzToP/z9BrrH6GK/e1P5q85bNL80bV8EOKUlP1oWvA1G0qS/X/feuD9hbj+U63ebiAt0v98YsrC8veM/ll4L07vxrL8cBFOjXCVkv1ZxVLphTVA///f0Sw0qa78cnzumr3dWvwOC+QXognK/XafwzwScaD8YaHDolTFoP/nq+H4Rtu8/askGk2GL7z8YeVCCEbbvP5WVH7tINew/iUD8BNlD7j/B5E+7cUPvPwzdE6d5GO8/WmtyEbBj7z9Vb5vXgVlyv2w3jmX801O/Rn5SXOvxb7+OH7WGRh/Fv5MftYZGH8U/yfmoT9WDuz/LVdrC2m7qP05toxbIl+k/yzVL/ZhO578npbKH85K4P5MrpK7Z/XU/q/a8JvhTyr9Kr9sSwzG1P626CozZleY/TBHH3cKq4D9ieo3ArF7Zv6irsguGObM/eUzCz9UAir/t9AWzRe7Fv5SAy9Tcg7s/lIDL1NyDuz+UgMvU3IO7P2dOhplfJbQ/PaRILoLMob8WRBvuvne/v5IjYEe5ce8/l5J105Vx7z+e0RYm6EzuPwAAAAAAAPA/g+ykaX867z+ocdu7RcRwv1FOTdhuaoM/bA62dH9Wuj8oLf4znAV2PxE6EZaowLw/lIDL1NyDuz/QPCBZGMnmPz9nXaGAzOY/F8vKKjTV5j/xZ/mAU8frP8ZPUYXy6u0/F7WQi+z07T8F8UsPjO/tP1OMBvj9lFw/rTpFzde6Wz91hHs9/W5bv/pPYqmlhWA/qcwmO+Lvaz+0y5t+EvFwPzIKa02SfXK//Jt6lB9HWT/1A/eyg9nkv9g9yeU8kLS/lEyFyldDwD9v3pjRAvLTP4+kXTrvD+Q/RiMRRXWQsr+MY2quxzPoP3jYoqcbgmq/mAfDMJDmQ787rpUX9MQ0PwGLz4GbzaO/evoGyIhWaz+jrv0IGVFyv14MFI/5uOM/GMSg3Of3rL/nydavsERpvzuy4OqE7kY//7F3K3sUaL8F8eOM9ShHvz9ILQo7H3O/lAIl1ISwZD/CH7pjffhoP3ChYEAmtu8/nbJGt1yL7z8Ix5sYJrbvP03n/WXuMuw/e7riYddF7j+JzGzew0LvP5DbD+LgF+8/5ORBdiBk7z/6IQyUs0drv31j5JQgOCy/6xP1vv8Hbb+2NO/pCiHFv8E07+kKIcU/EqAY//OyvL8uX/so4nHqP9G+phA1V+c/CNv4byyV6b9PVCjB0AGAP5dlnERz/Lc/OFvGSjJTyr8p4uR+yc2yv7TmvYl+kuY/J4biHam62T8JMGXbXnvgv4pN6xa8unW/3Ha9D0lJsT+XkMc8denFvxVKpWftsry/FUqlZ+2yvL8VSqVn7bK8v9oJGRtfBaG/ZcyPcHvAsz/xVKHyX3y/v1HporrDTe4/V88COpRx7z/TdrnWpnHvP4LspGl/Ou8//v//////7z+vshjnhUe9v+AdJ6zpWIE/IVuUClWtfb98CHs/WP66v9trS9PJ+FM/FUqlZ+2yvL8v7KvLGNjmPwUAmP4eyeY/UYm8Ao3U5j9xNRn9//DtPyQiQVZ67e0/VQPm2mTy7T8FlNQcb8XrP5YbkUglF1c/lqekUkxMXj+SX4TJFdpkv6N9G7F6BGY/FlOTvi12Yz84m9eGweNyP/re7SByW3i/esbCeEdXVz/dQOoIKdnkv+tCz/sCQ7S/ceXsfYcWwD/yRbUa6gLUP1ZYWOxvCuQ/FPbfhg1AYr+WNkfPhjpwvzAqudlASVa/LDhe6x92bD+L86bovqteP/n5FsZ8RnO/sT86sfx4Zz8VVLk1P9z/vvdzKKjyeXC/lJJP6DGBMD979qBq0T42vyv1wWQ51Tw/Em8x8e+SbL8+2r3Y7eJxv/8W048yuGg/BULxcUGWcD/V8y/DfdxhvzK+4FbR/nS/tREoXxS6c7+yXqCtWP50v+5BZYlQaGW/xzJHIOsZfL8qH2aSoJlyvx5HN3CIenK/v0YJ7XhldL+1N09IUW9ev/TibBXJ7nW/IjhXuVm4Kz+J5yBCSytQP4XnIEJLK1C/3zl/4kET4D+ZtmXzCONjv8DU9sx+JsA/cPDwuVbhwD94d3vwRbnJPxsOson13sm/EZC9QKzoWT8PHNNmVrR8P2h7ZSVIlVA/EQ0+M2x4eD/ny88WsyZzP56Xt4LSyXU/ojTQycgsdb/XpPP2K305v39pujlAE+A/f2m6OUAT4D9/abo5QBPgP5IPJ/hHd9A/oetF8xqD0L/askq+qvJiP27DXCEOvGu/xXX4af4Vxb+XPeWjJwZ7v6hx27tFxHC/r7IY54VHvb8AAAAAAADwPytUGWANxd+/7/QB6imycD9KjtdBwQbgPyES/E3xed+/f2m6OUAT4D8KJt3xIkR1v+puQJQRhle/0DwdbyGFO7/ZSlvtlMV+v/Pdbo7/qHS/G6Moj5m007+g9nz4xVTTP1qHyuKKjPc+MVuMTzuJcL90p6gAUshxP+jMd+2E53G/B9mApKr7ZT+cfj0SMu10v+7I3j68PmQ/tw9dxxRrWD/nTmQjG0VsPzsTy/+U4WO/6JTUotBYYT9+Pu2HRrB4v6rUWmoY9lG/aHy9zeSzcz/+Yv9zJUmBPzyW/pv6wmu/JQ7Vta0Hb79YHPO9EyIwP+vA+ZH76FO/SQNeWRwId7/amU+FBsVrv2Kxvc2sQXQ/BzEOvH6tTD//p8yhb/5svyxs9FIPRXI/FGP3n6vNcb975bkWvQRAvzW8c0HY1kA/LJJ6e97IX7+aeVG2WoVXv4ZzhyJK+4I/Z2c5QEaLgj89SoNKivuCPxAcQtqd6YA/NRSqnEF9gz+UsQZ9UZGCP+90uPEHe4E/5oKYhhgWgz+va9vOEVFUvy8YgbyvoHA/LJyc+aHUX79bzMcstpJZv2DNxyy2klk/1fCtbvrAcj/353fPyi19P6zVyUjnD7M/w9fZ4wNmrj94dcgZ4bp2P9VjScmUg3C/k+KQN2Zaab/W+Y8z3ZbmP2ZBWJslGnE/M9Qb/WI64T+SR7M6TRvhPz6iSH1Y+NY/QGF+AD3t1r+PCnUq0j00v+T7XIfwwXI/5Ptch/DBcj/k+1yH8MFyPxOOYvo4K1I/yZaQbdM80b5GrkFt/lRpvzsgBHMlxcU/LRRABj84gT8AGj1HIYHDv1FOTdhuaoM/4B0nrOlYgT8rVBlgDcXfvwAAAAAAAPA/UHLIBon0379J71o0qRbgP17s1qmu/d8/5Ptch/DBcj/oYDASBu1SP5+kOTsaUIM/qostmZVwez9d6nqPa8x/P4nk0yZiG9O/BpPK3SoJ1D/7PoaqT7OFP23TrUBUdmw/dB2XO194bT/k2dzLpadSv8UoktTKXFk/1NBjBB4vUT8nXAUfWqNuPwQ/hEx602M/096T8AKLa79vYxTctK94v8QfTz/W512/KIszpaxfdj/qpjDWo5REP78ck4fKFHg/6BsYLfS+Xr/LzTJbMZZ4v8TjqjZqcII/kB0hvNp8Wz8odSno9wVnv6Zr9xnKgWm/eTgZiXlCcj/ZGxzD9W5YP3kFo3AKkzI/WYQpNpJWSb/vudS5a6N7Pwj2JDGeCW2/DkupKTP/eD/mcTBlt31dP7/gLRT0Mme/dgDFgtEIFz+ZSsNbne9pPweN+/lKvXq/dH85JjHaer9NwclJ4L16v635bmEXPnq/bm8MoXGbeL/UtHiQq2x6vwuyiNE0gni/1nG1rDdGfL+hQTcVK8thv8nRMiPf1Wq/ng7snOnsGz/HERDou9BTP8sREOi70FO/ViL3vokL4D+i8SFRXhSBvwIxh16Y6L4/Om0CBxuMwT+eiYMi72DJP8NqRpVji8m/+vszblXnXj8SuAmpzqFxPxeIhpXpW3S/2EMKYa4xBT+hUWYYxKx6P8iN4pJNmnM/cxELJFA1dL/Ic/0i/AI8P+hsXgOKC+A/6GxeA4oL4D/obF4DigvgP0XYog92W9A/Nmo/qO9h0L84CZYF7+JWP6jaumzb+3W/kKwx0Uyswz+hasp0Mhh+v20OtnR/Vro/IFuUClWtfb/u9AHqKbJwP1ByyAaJ9N+/AAAAAAAA8D8t54WvD5rfv0fd503jBuA/6GxeA4oL4D/7zLohdtB4v+Y5IKcG1X+/1b/Y0LsZf7/PY0XZCP/Tv7PNf99PL9M/0Km4wrgAer8MKyiCcbhvvytoBeKHEWC/nvFGrrQQM7+bQWK5qntKPz53rzyCdDG/9s+SUnmTUD/jWSPa/khLv9uL1sqC4Vs/Xt7dCJG5Yz/ZDkPsBQpwP4NIpw9xtk+/li+Uo0oyWr+VNN4ki/EVv/AZ8aPADGq/thtHK+0dZT+RhEJkZU9yPywWhu1bY3O/DOSzAabINL/gXzVnBUhhP++67dIiKHi/9r0AfhWOZr89cr3ppO9rv8ih2AXqUk4/e26Ax9JnUj8tFy8Th61vvw3FVOW6AnQ/V+5GwVH6f7+++77eqM5zv+cQOLj+z2w/tuNIwxcwYT9KzmVuA4Ntv3PwzaQB8nA/j3+SbP9VcT9uRyq7+fJwP8srMzNJEXc/0cqJe4nDZT9Ba5RrSIFyPx9ZB1lNdXA/tnPQpCjAcT+g1HIfGkhpv3PVxrxVC1W/xFCv03VJXL+NQTe0d8tCv09AN7R3y0I/2Oe6fkEn4D8Ch2O8JTFzPwhL9PrQlck/f7wz795iyD8hVK7kvFLKP5YiZJ+uRsq/XVDkDyHCWL/PfmF7Fb/mP3sWPHUmLnU/z3HzOTJe4T93c+3amzThPxIsTQ/mPdc/bimsaGEw17+iVhkUHMhGv+n5gcJBJ+A/6fmBwkEn4D/p+YHCQSfgPyEbYheTd9A/drdu3kxx0L9JfAqJU49Jvwo5K2BYRsU/x4NTkXbsw78vDoi2xknEvygt/jOcBXY/fQh7P1j+ur9KjtdBwQbgP0nvWjSpFuA/LueFrw+a378AAAAAAADwP2W1qQbluYE/6fmBwkEn4D+w5rmPaXVwv8hPncQJVIA/JeCGT4qleT9gCh++ogQxP4z9yThXX9O/gG9dx2K3dj9QVBXZ8ezTP932Wzfgj2w/maRfhjpjPL/xN7XkUR1qP1R6fMhlA2e/5vvDX/x0bj+mnq5TckFWv1N6WK229nM/T3O10wucXr/j3prI3RNlvxQeZtVhWnG/utKj0ejxfj+Mi2hF5wR2vxRDktoPinM/P+YCVWr/Zz9H39MLtOpjP7466gt7/3Y/slhED2dCYb9ETlpxDABlv/z2AGueuHG/o8e51EYFU78NEYEb0Q5fv4zP0iFuZXU/i8cuEl+OGj9PgkGhxEpqPxo9xZGj5k0/nSTuC1PPXD/nWy+VpXpVP4lS/1Ak/GK/lCUQrRlQXr82xzh1H1tcP3ARje2zY2Y/mRszUVNqZD++VtTGiWNmPzh1Wl/9Ol4/ZmThB1SubD+0CbQ+cF1lPzO/s9X+2WQ/mFFTq0K9Yz8Zrl8aV+9rv/DMJodAlUk//RTJA6ANXr9IkO8nkPQ2v52O7yeQ9DY/XdafF3sv4D/Huzd2df1Tv2n6ch9G+Mg/W3cvSvEhyT8m+0BRLBTKP52wwWnvDMq/094/nRPDU79eyihwLbTmP8sV3K6XIkq/DPcidzA24T+FDLWWIkzhP7oomZiwQNc/EEeA1gM417+dEyBURx8fPxOesEd9L+A/E56wR30v4D8TnrBHfS/gP4CPTycObNA/qZYf6HFg0L/bc+AJ6rtbv4FiiGyeD8U/VnF9O6m9xD9lUIqCq2zEvxA6EZaowLw/22tL08n4Uz8hEvxN8Xnfv1/s1qmu/d8/R93nTeMG4D9ltakG5bmBPwAAAAAAAPA/E56wR30v4D8rTTauFhR0v1cPFq03EFs/Vp4ByzlrTb/gli6gEX7Tv3k3SmU0IFc/gEjBrO2b0z8ApflngIB7P+9SQvewvVg/EzGfpsMOaz+l1oyIrpg1v2x+kepp+VQ/1E/orD/eYD/4c2rosslnP4ILQA7Z3nA/TgfIqlMwT7+X6vnScEFhv5GcGCXY3Ga/Zmx87K+bbz/0okhiTNFBPyh3g/6lEmY/k1rY5Nj/Rj8a4hOTzsFYv+5AYlCMUXE/8Org/QYeVj8mO0JsyqRGvyHSdSgJWYK/epPymmOfWz9aWkSs+1Vfv/XHHqIAslM/vUlGoPfxNj8fyK3S2VpnPwtl4DIN/VU/xKoRF3kCXL8H85Xc9sZov2qdokQKjUY/ZHpB3d/QYT++QEDwo+48v9FNsBdSXmO/xUxElrjQYr/Eq/3bjF1jv5A5zs75y0i/C1CrfXAza7+JWl0YcEdfv8GSUDxG0V+/v6mUcTTQZL8UoHzYuGh1vzm9b0HrjXK/BA4sdnZpWr+PZ46TK6REP6pnjpMrpES/mM2oeP//7z81tYlP/aBtvx5zFD8iZtQ/dtyD1mHX1D+fW+ZdKrHZP0tNWY89wNm/vqORfXYtOD9daIdbx8TmP28wtwKEnys/mzyJ2CRI4T+mTqbBZVPhP28Rq37Jbdc/To9Kx71i17/znRgG3IYxvwAAAAAAAPA/AAAAAAAA8D8AAAAAAADwP3Ncv0WgT+A/qSfk87dP4L+3HCSx8wFEPxx5kcNXfMQ/x5JsLtrPYr9B1R2KoR7Fv5SAy9Tcg7s/FEqlZ+2yvL9+abo5QBPgP+T7XIfwwXI/6GxeA4oL4D/p+YHCQSfgPxSesEd9L+A/AAAAAAAA8D8o479JJoGEv3C8yVVGjiw/AVQ3jYZsVb9GFvNFcNXTvzcRN2OpdG2/7u+gxy6wSb/RdX06SpTTP5bD/y0g71g/p77FZd2VR7+Ox79VG0dwP897RoI6EGm/KKuwiv5Dcz8lDfAK49dhv5UlL2lXyHo/vUxVv6NpQT8uK39mzr5VP3g01i5rM3W/AqL2WrJJeD9n68aCqT92v+ZrstNfC1o/vvrw627Krb8J641Y7MLiP07mgLai4G6/zySiHySQI78TMSQFi2NsPzMWCSAMoqC/TI9nomY0Zj8u2uv4QOlpv+XwaA7zh94/+gJAc4GPpr//7gZO0eBfv3u9HWdPQxM/qUUh+314b78fZgLeApBhP9/DCGzK4HC/HOPSiGTdOD9EbnCYcC9sP3cxccGvBec/ArP21LCl5j+jI4szsQXnP2ADj19E0uk/w7+6u+cP4z+DwXp4RXLoP4UHi02VOOU/UdRMCxNp5z+5fMpjYg5xv79Yon5domi/YsLTRAc0aL+72ws9/8m9v7jbCz3/yb0/49wip5KAhL/iHBk3s47qP2BseSr/beg/i7uyyMGW6L+/O5J9TBakPyPjK7fJcKQ/wlm9Uw2LxL8zyiU+3Lh5v/fXUxn0cOc/RlNfcqAe3j8xIGn/xtLev6IsLcHIcZU/nQsvNFL3mD+q1HpDM+W/vyfjv0kmgYS/J+O/SSaBhL8n479JJoGEv15yOuZkWYw/nBYUr8rJkj+rxJ+Q9hG3vzLuKtv9V+Y/K251eZRs5j9p0rQD13vmP9A8IFkYyeY/MOyryxjY5j8KJt3xIkR1v+lgMBIG7VI/+8y6IXbQeL+w5rmPaXVwvytNNq4WFHS/J+O/SSaBhL/////////vP0LQDGT+COM/0ejVlsKG4T/pZyJK/mrlP3vvIQATZOU/TUjzyhlP5T+awC4U3z/lP0oWe8mOMC4/ZKn3ne64Uz8Ha7Qtaklpv4EDyROMoFY/UbRZO9IaRD+TUfhPTGIUv0PoGGCwGHK/ssHoD+U0ZD8uVgfQZaPev74YFWzRk7K/2X7daTN3vT+baLvOiojPP/Or8WixRN0/Sxj4aEWvr79Snk97vs/iP13ZSOcyN1G/zCxIojjQR7983V3s3TdpPw0EWuxTSp2/Qj2OnvKEbT/o46JhpWBRv1gkzuOUtt4/2OEYr6v5pb+bpjm7KZdOP42pw4fie1K/RRi5u0T9WD8hgdrJ2dMwP/+IiC2GIUu/RSI++wwwPT+yWO/2Y/luP8d3t8pPAuc/Jzx8DF+p5j9WBFYjUQLnP4lhzsHY3Ok/NPaCjEX64j98vmYcOm3oP7yCXsQDNuU/QjKGUKVx5z8I7Do2rEpuv3rAMvWXu3G/S6y4m4ZBVb97wPqI/769v3vA+oj/vr0/reH6y7yLLD8Cfb9PyVjrPygsYxwJPek/p0XtGTU16b9pZz1pdG+kP7fRSJqC16M/7BNbaqlqxL/FGb8y+sV7PwVl8y0pCN0/dQ/okVwr0z8MDUIDOJHSvwgQpo/bZZs/mv4b2mcOkz+azenbOOu/v2+8yVVGjiw/b7zJVUaOLD9vvMlVRo4sP1OvnMxu5ZM/A2Fd8opEij/3alUcmR23v/i//OEebeY/Cwqcwxli5j+A8BkUFmDmPz9nXaGAzOY/BQCY/h7J5j/qbkCUEYZXv5+kOTsaUIM/5jkgpwbVf7/IT53ECVSAP1cPFq03EFs/b7zJVUaOLD9B0Axk/gjjP////////+8/gnZ1riET4z9tjFlt6lTlP2Pij1ZKReU/25IjENRZ5T/o35Q6aF3lPwoxZNndbl4/l8gMe03jWj9aX09hcllRv8J2CEOVnFG/6skgicCDJz8dNhS6y8lcP2hKBXEsYmu/ZKz0CuHTZT8dUNOJR6jevxHQSvw0grK/l25tkbQLvz91Ab/MmU7QP7HqlyN2AN0/RQJ4m4yurr95OcCvsdziP3zCrFGCyVM/V3LI+eTRST/jCdsSZvpAPwFbbGmivaG/FEyW+0eRTb8j1RDohYs/PyUIiKgU4d4/Z65m6sdHpr93cAT9CA0+v4lR6tNg4FM/iKdRDbLNU7/1jcNnI21wv4KlAN1B4GG/3+RC3zVRcD8RfYVEkOF2P2IfXR3ZDOc/ccdQWkSy5j/vQ07/2QznP7xVjI1K1ek/FsDoC0cO4z9rAcbRQXXoP1qMqgfIR+U/Eywmul5z5z/E5xB+poFyv6NNQbYJZ3S/e9m3yZu4bb+fi6LY4tu9v5+Lotji270/OmFJhaxpVb8uLn0p65bqP5yA7vavmOg/guB9MgCA6L9lloIi5U+kP6YtvsI5EqQ/MHmbimJ4xL+iYYYUnPluP9LCb1Dwcuc//uSie0ae3j/1SkGD4lfev63F+MxsApk/C5pDlQirlT80Oo04nAnAvwFUN42GbFW/AVQ3jYZsVb8BVDeNhmxVv7AGyh6nFJE/Sd/DywIDkD9wQaF7+Si3vyCHBmbCceY/q8phlUNr5j/PkcfM+G/mPxbLyio01eY/Uom8Ao3U5j/QPB1vIYU7v6mLLZmVcHs/1b/Y0LsZf78k4IZPiqV5P1aeAcs5a02/AVQ3jYZsVb/R6NWWwobhP4N2da4hE+M/AAAAAAAA8D92cG49j2PlP8jpORDlVOU/vC1N0LRb5T+5KumkXmTlP3MXQ/0aGGM/xa/QhOc1dL8Il3VeHmBhv2TlrO0UHHg/Bbw6Eacgbj9bcMe+HVRpv+JW/iUQf3W/CGYrqvE2dj/RNd3GJrHev7bdFREoPLK/P5+pJr3GvD90pAuj0CjQP26jP1YpNd0/ClwNIe5msb/5ci0ejqPmP2grhrBUlHi/nbCxuFVqP78uHaSzaspWP31HjJaouqG/c88n3OILZD90YV8cBcdwvyqIXkDJZOI/lLG0WMf/qr8fObf7khx0v0l/kqsHfVM/+xK6wljOcb+TMhoplTVVvznWg/BtJGu/2gKyxDFHZj8vhlaVbVZeP2FtZqpEqO0/Rf3i/ruA7T9ogHPKRKjtP9S+/tdHYeo/RzJvjvRN7D+4WiBShzztPwztdinHE+0/h0Ywxclc7T+/a/milC1gv1F2yYCBGzQ/mpircz4/aL/Gz/x7JMTDv8bP/HskxMM/VQqez3DV07+c1FOCAsboP+5jKJODwOM/TWjcgDAU6r+HnPQbkxezv0G7ppw3t8U/Yi87OuadyL/FU2Ni+mXLv9Y3ve1KIeU/nftGw30H0T/1kV4qtffiv8ewHyqBd7S/2bZucVuqwT/2Nzi5X33Ev0YW80Vw1dO/RhbzRXDV079GFvNFcNXTvwX9/C9KVMG/y9+YyMSSxj//MwJxBmi9v94xjgOLR+s/bGmDEAxT6z+Og5cFe3juP/Fn+YBTx+s/cDUZ/f/w7T/YSlvtlMV+v17qeo9rzH8/z2NF2Qj/079gCh++ogQxP+CWLqARftO/RhbzRXDV07/qZyJK/mrlP2yMWW3qVOU/dnBuPY9j5T/+///////vP+C5iSbHAOo/QT/vNhEH6j9+n8jFm+7pP9jXJU5KFFc/o4lF0/BBUj+qHIuJi0hkvzs4yYXn4GI/PRqOk9QeWj/Jgv869NdvP8Z1zBaKnnu/xrbsbMf0UD8D1HupR37jvwhy6erSvLK/TnNsLN3yvT/DuWu9hrHSP+1UAWznuuI/SC28JYHFsb+gi7K3QZ7mP8wk7YC2d0C/PlESiWz0QT+9ZL8n4XM1v0fU+PCHyKK/gQqEIPREdT+m6pU6DjRqv/q6kB1reuI/1mXP/p9bq78UeuTjqexJv9FgM6ZFD1C/M8bS2LZdRL+TnAEFXqYpv10sht8Hv3S/lmuoH7vQZj/Ym1kilCVvP9sPrO0JqO0/gUAhXTKA7T/WVaRWCajtPx0yWHYPXuo/1xIsKNtO7D/qnEUmOTztP+fCXxCmFe0/1J+O9Fla7T8j/KU1JyprvxLPqtyL4Vu/D6P2dtDQZ78/fSH7isHDvzx9IfuKwcM/8c1EfBh1bb/8VbdrT7foP34lkSUONeY/Is80RNB/579qy6lMie+nP7nw8I94i6g/pQqauwWTyL8eC1e7iC3LvzQKyTmGH+U/sJ6CO5sa0T/uD9lB0Oviv8jNWiqOzbO/7FetWJNawT8vPLeOSovEvzYRN2OpdG2/NhE3Y6l0bb82ETdjqXRtvyAsypV7WJU/0nSxEuCJlD/80acKKlC9vxIVOmuJSus/Kajsp5B17j/Y4V4UB3XuP8ZPUYXy6u0/JCJBVnrt7T/z3W6O/6h0v4jk0yZiG9O/s81/308v0z+M/ck4V1/Tv3k3SmU0IFc/NhE3Y6l0bb977yEAE2TlP2Pij1ZKReU/yOk5EOVU5T/huYkmxwDqPwAAAAAAAPA/XJtNB8ED6j+u003aovfpP/7ZpKHPrys/4gkKhrvSTj8zeIz+605gvwTftezwnmE/jjPvMYszYj8dzxRbictrPzKKuVgWdne/VZqmi9adZD/kr3+lA4Djvz9IJ+BS+LK/2SXnvHnTvT+ITQ7SOMXSP3W8JqR/v+I/1qJHHfDusL+dBj2JKazmP2d2aEsWCWW/6BOitqXuXL9VVd88MgInv8yla6M6EqO/ASE9xnBzXD99CABQbIJ1v8CMKj4IfOI/eRpGD23zqr/P+ksP2CNov1Vf9AKZm1w/GXh8HsTKar9Z5uQ4oSdAv6iJyOJOXHO/iu//orYDWj+chajJrNFnP5lMI1xIse0/DRgQO5GI7T+Do2xiSLHtP72pqP1dZuo/TX29ZgZb7D/sHefC+0TtPwqQY7nxG+0/yc9I8zpk7T/sPxrFcp1wv+aurIRKrEk/t2Q0IXy0cL840AnwC8jDvzXQCfALyMM/y2fwPZq2Sb8WH4QWA7zoP/LZXlB4jec/N3DWOKs55r8EV8tuZ42pPxVQylRZKqc/Xpxt1CuyyL+6/YKoDRbMP5/Kd0b7GeU/e0+W0ZgF4z9if4N4RMjQv+TfMZFcLcI/Ysdd2adqtb+wje0px3fEv+/voMcusEm/7++gxy6wSb/v76DHLrBJv45PDrQp75U/+9UFVYlvlD+Qzfk+Kae9v5vIyLyFeu4/t1XXSIF57j/LIa+rTlXrPxe1kIvs9O0/VAPm2mTy7T8coyiPmbTTvweTyt0qCdQ/0am4wrgAer9/b13HYrd2P4FIwaztm9M/7++gxy6wSb9MSPPKGU/lP9uSIxDUWeU/uy1N0LRb5T9BP+82EQfqP1ybTQfBA+o/AAAAAAAA8D/CriXfIAzqP3FbUauPFmM/nl9KkjqmaT/1jXl/dOtlvyKrtGGwRWk/6RnLHddaZz+dnHc3MS13P3GA3RRbTHG/3Zn06DSvPT+EzOuGwYXjv6eqn0eXKbO/1B9G9JmIvj9j67auB7TSP3B9jDNxxeI/8UQ8DJ1Qsb8+yYJ8xaPmPw+5x1he4Wu/xZ1tfJ8PNz+a1kmOXrBPP7hBmqNvlKS/N65eHLKVbD+Qfewnt6B1v+aWB3A6ceI/OEusr9rsqr/UkBofouJpvxNsFRNWiGA/lk4znzYldr8HqPp1TeNpv72h0cpttGe/sqgQX8WkcD8ISoTu2+tZP99TAeKbpu0/zf1Ixlx/7T8j5qR7nKbtP9MGGOuZZuo/zFLOHwBH7D8oJgF6BT3tP9wJCLoMFO0/n5eU5CJa7T8vw1w8E0t1v514uIHxWWS/azV6toE1cL9je9p/Rb7Dv2Z72n9FvsM/ukvUCUmU0z/OhD7TVbzoP9zwRwNsEOo/oy8qhkSx47+0DUvoOhvGPzRnfIpT/LO/1jqAwfqeyL8NYT+SabDMPzwTj6WtKeU/hWFMbhAt4z8Lgj4v9KHQv+25JSPyoMI/Luuiuk1Etr8Rnb/J34nEv9F1fTpKlNM/0XV9OkqU0z/RdX06SpTTP5NDpIOV2sY/Sb2qHISawb/qioErjlm9v7fitPDyeO4/Pq/yIuxQ6z/plx88FULrPwbxSw+M7+0/BZTUHG/F6z+g9nz4xVTTP/s+hqpPs4U/DCsognG4b79QVBXZ8ezTP/+k+WeAgHs/0XV9OkqU0z+awC4U3z/lP+jflDpoXeU/uSrppF5k5T9+n8jFm+7pP67TTdqi9+k/wq4l3yAM6j8AAAAAAADwP+dAwsvvPGM/niIX37YHRj8jIqpRKtH/vvs4UsKuqzs/l44v0kxpcj/QVY/hCeRkP1IHpqXPTWa/S7myyihYVj9l9KKPVX7jvw3XrzBblLO/Nal+C7jsvj8ZSfkzKYHSP93/pENryeI/YcJ9gpxDaL/Ren/lKkNxP+TMgPqqkXE/+0SYN/wTXz+3M4M74CFWv2biu6BZvGa/Igxw5kJRWL+BWStn7YFhP8DcZgimPHg/LkxMFEP3dj+atUofpMV3P4Tl7IWLIWS/1/sSmBOHdL+j6bLxk+80v8bgm2wKI0s//m8knsLubT+xnxE7wg5yv+aBklhc1Fs/fN8+tXUaVj9joRYORdpbP7pxwE2mKFA/ZhR870ogZD9GWWhpzkpdP/ydttIjd1Y/7IQncHF1VT+tjZAKwO9qP/Bco0oa8nQ/iTt/6xc+X7+7TSWjzPyCvn8+vqPM/II+qx2kzkjtWD+knwP+6JRjP91xiulyQGg/6auRN00bX7/VZfMUjndFPyve0h6kHDc/jeFRk2u+YL/pXxjZftRsP02x9H1QMF8/VQoSSpf+bz8Z+NZCN5dXPzE8x4yw33A//zjj69pCcL86xSuAfss5v5fD/y0g71g/l8P/LSDvWD+Xw/8tIO9YP22YqzFkije/i9XL5KTXMT+JmGmWXdsvP6oMK7EgH2Q/NIlvUCbpVT+JOzaLJ+xLP1KMBvj9lFw/lhuRSCUXVz9ah8riioz3Pm3TrUBUdmw/K2gF4ocRYL/d9ls34I9sP+9SQvewvVg/l8P/LSDvWD9KFnvJjjAuPwkxZNndbl4/cxdD/RoYYz/Y1yVOShRXP//ZpKHPrys/cVtRq48WYz/nQMLL7zxjP////////+8/9GZCKWaXrj9ztPxprUWvP4N81en1R7A/zC2OOzD45D88Fq3chJGyP5Xgsla7h7I/jKsZRVZNsT94cxqCa0QPPxjXpLp+a3C/HmRDXNCoYT9QXR8W2jtIv3C3Qg0oCmA/XJwibLgAbr/d/pYTId5hP3fStLncnXK/387ALm2mcL8bHiITqIZMv+P3XSinLmA/ed/2qHXcfL+CU0s1cuBpP6tNCg4Pbku/1CS5fGP5Nz9qXDx/9O52v1I/tq5iR2c//AUDcDH2Y7+xXHCznEBxv4W6SV5l8GG/zXDNNlmVaj/7Hgx7bzdDv+K4VYGC51k/bC9IcSdJVz98c3VYf+dZP/t5sh+b4kQ/U7dnFLjrYD8Bge9zuOdYPz0hMGvEzlY/egHBb5xJVz9vWsOHehpmvwTW3dbzsEO/oiWeCAR4X79rFJ++JiVFv/ANn74mJUU/c/Ann12MR79Ojdl/nE5Nvx9ZsiobRhe/yc5VbwTCUT/A3pkDMBBdv9mBLg0PF2E/Btzqr7KDRL/Te1nyD4hgP7UbuKyfxls/SmswpuaOZT/X5H02MVU8PzXpA8znwWW/Ik5nJI2ycT/s1mqFK85yv6i+xWXdlUe/qL7FZd2VR7+ovsVl3ZVHv07b28JJSmC/ougvJTe5XD9Zo2hOUoZFP8acGCU8XmA/ozuooDGKYT8njOYOyK9RP6w6Rc3Xuls/laekUkxMXj8yW4xPO4lwv3QdlztfeG0/n/FGrrQQM7+apF+GOmM8vxQxn6bDDms/qL7FZd2VR79lqfed7rhTP5bIDHtN41o/xa/QhOc1dL+kiUXT8EFSP+IJCoa70k4/n19KkjqmaT+fIhfftgdGP/RmQilml64/AAAAAAAA8D+/8YvTuwmxP17wezuEDKw/IKllv4EGrj8+ZUABtOPkPzyCKp2NG7I/lQj4PkVVsD+0gm8xeflTv/t6EnTAcWu/6IHhqY4AYj/YWO770agUvxXGb/L1cGY/P5Z8gwlfUb+gUZaTsdtjP4YE55nbC0K/v09ILBfcRT/8SWjRWWFkP2MFJ0uLr2O/O4z9r9fGVz/9Fe43N2dlP3EfWFILQ1s/bX5+oam4fj+4Tf8cMl4xP3ZpbuJx9lO/LxNkEuS1bb+hw5smkvxcP7sKK7Pz2mQ/3swkV7BdOL+BtByIL9AlP6QwMbPDtl+/HKE6Yz6GV7/Kubak2bNfv+wGsSVsjGW/FWjmnUeKYb9Xw61So2lkvwM9qHiTbVC/gTpNz+bDXL9x96JlfG9kPyiP3RKLXlQ/Yaa8650oX7/0O2npMfN2v9o7aekx83Y/lzd/PJlFcD/+//zF4SBfvx/pQprBR0+/wtCW6uigZj8+BoGqOkl6vw90Sq481Gk/1sFo8lUvez8PFyNVSoFgP72uatgWPV6/T+ULvxmnNT9qy6T5E2lmP9pgcwLE2nO/TcYF4aLdbz9gq/0rl2dlP47Hv1UbR3A/jse/VRtHcD+Ox79VG0dwP+sFre6emFq/r2jgJCPVLr+Xdi5VzE51PwBcdk2zTFe/pInmrUAVZL+Qx+2KDDljv3WEez39blu/kl+EyRXaZL91p6gAUshxP+TZ3Mulp1K/m0Fiuap7Sj/xN7XkUR1qP6XWjIiumDW/jse/VRtHcD8Ha7Qtaklpv1pfT2FyWVG/CJd1Xh5gYb+rHIuJi0hkvzN4jP7rTmC/9o15f3TrZb8iIqpRKtH/vnO0/GmtRa8/vvGL07sJsT8AAAAAAADwP+osnrLK5LA/IzCU02/Orj8wqu2oLeqxPx1BHRnqqeQ/oETpLyx5rz8Z2gnX5M5Xv1y7Dn1VaGK/9bosl9VvZL80edkxgn5Uv3He9U3XkHA/MfuadZwgZD+zHRTWKpdvP/ArqozONIE/pGBDBWrbVb8D28UBfp9vPxN42dJj422/HlbwFeWZcj8lng2DmklvP8qc7B+TX4A/6ZNs6Gz5cz8XzQ0Y8baCP8ANtn05I2E/FnR4bRK0W7+nYpMbu6J1P56jkAJbE2W/fe1bD/qAdr/WSX3RE/cnv30rAE3umGE/6G/+ReScYT+UfWr6p5hhP1BRctr9iVk/BiAnABVtYT960AQ+XONgPzk6vF+o+mE/SqDEm58JYT/WKW9WiXGBP0I3inatD4M/7Ak915+FX7+iX8MWZ81Qv4NfwxZnzVA/9uvjX+oLab/1/XDnsbRoP5ojcviMImg/ubfNJVt4Yr/eEGCQyq13v7I35G1B7nY/3/kYtSipOT+rUjYy9q5RvxyYh74pP3Q/G39ci9uPYz8uFPY7ZYpwv4k77DH6Dks/Xm1pcoxLVb8F1sndHWxVP897RoI6EGm/z3tGgjoQab/Pe0aCOhBpv52vjKCo9na/LKQCnoEBeT8Qcj9Jp/pWvxZX1tXWMF4/TshR2hiJZj9VDkVF3CtjP/pPYqmlhWA/pH0bsXoEZj/ozHfthOdxv8UoktTKXFk/PnevPIJ0Mb9TenzIZQNnv2x+kepp+VQ/z3tGgjoQab+BA8kTjKBWP8J2CEOVnFG/ZeWs7RQceD87OMmF5+BiPwTftezwnmE/Iau0YbBFaT/7OFLCrqs7P4N81en1R7A/XfB7O4QMrD/qLJ6yyuSwPwAAAAAAAPA/3nsUXM1Asj+esoVI/CqxP/zlzxzvcLA/7kG9DafE5D9i8LmJQLJlv8ZhY73LCTe/NfyZduI0ID8hB4F6TtJeP6E2hyNFb2Q/OmLDGUXOYb8LVLL4z+JxP4CcFh/B2nA/9mQ6RcSKZz+MalN8lAROP6fA8INI9F2/gOjnAqI+ab/b9QYuPz1zP8UNB+OzVXg/fr+pl/IxgD/g8XmgmBN6P3gPMcPSVUS/ahTqC1i0cL/6cFUPDA5dP9Ky6PwA9Ga/RTW4KwKnTz9RSRwlL8J+v3t2vzVSp2g/rO8YEYQIZj9mCe2T+qhoP3vBzHJIkFw/HSF3V35wcD+wNXNIJphnP6uHtFjF12U/aVjyNdPTZT9hPtyzCXQ7v1yjmki/w2A/DbyadEREZ7/lldIqjJtfvx6T0iqMm18/x8gMorpDcz+wOO00kI9nPxpx1tpSZ3A/XNPp3ps4Yb+OVNoNW5ZxP2Ps0Qw7hVq/lvAozwRDdr82Px92IapwPyvZ2/YdxHY/VWQ7S0Vrez8IlvpIfhNBv16A8JcyjHA/H2eIFdj5bb8ADUAYHuBQvymrsIr+Q3M/Kauwiv5Dcz8pq7CK/kNzP+yPxx3lF0w/yUQ6cjdGUL/j9aVFaAM5P6+CKzJAlm8/xuh7kYrUZT+dEtHOxGlgP6jMJjvi72s/F1OTvi12Yz8H2YCkqvtlP9TQYwQeL1E/9c+SUnmTUD/n+8Nf/HRuP9VP6Kw/3mA/Kauwiv5Dcz9StFk70hpEP+vJIInAgyc/Bbw6Eacgbj89Go6T1B5aP44z7zGLM2I/6RnLHddaZz+Xji/STGlyP8wtjjsw+OQ/IKllv4EGrj8jMJTTb86uP957FFzNQLI/AAAAAAAA8D9nMw4LCHSxP/ZWQ/cI17A/WIYxOH27sj/gFQlTWQIUP2wHFEei73i/10rdQ8TMcT8Z60TF9BhiPyhEqub9hFs/WFSKJ1c1XL/ouSrDMTVYP+jHSAa0NHG/EhHlH+xTdb/DFUcEQTZuv0HPjkfVexy/ihArTlYBbb+CK2mRl01sP0Fxupdt4lO/VncFvbypdj9HHraxlex2v9wthf7WIEs/mR88MtqpVL9IGE8oM+MHv2RdlvC8Lka/ycX9ymhX8L7RhX5hJ0J6v4c4R8LFHXE/EJSDLcwQcT+FgGJcVR1xP+9i4rJ3PVg/pJDQVolVdT9O+7K/fudsPx/QyQjEh3I/+SlmYhBCbz/hMtyg2h1jvzyPFC5eY0S/pc7xUHGeSb8GrCysLLpVv7moLKwsulU/PtXxMRrWYb8RkPXAKfhSv6JH6ktkRFS/zY/eg5FhQz/wCrf47isNP7f6TXxLai0/VUiQb8+YQr8oi2a9t8dRP7rQ5MLTs0Y/0PmTO0vfVD/7ZNThloU4P3GObaPoy04/svYnOHQzWD8IOhN9qTd7vyUN8Arj12G/JQ3wCuPXYb8lDfAK49dhvxZ7gIQxGFW/EjRA7hK1UD/mrmaTQYVIP0kYFO2QqHE/fvKfslF7cz/F1fAb1VNvP7TLm34S8XA/OJvXhsHjcj+dfj0SMu10vydcBR9ao24/4lkj2v5IS7+mnq5TckFWv/lzauiyyWc/JQ3wCuPXYb+TUfhPTGIUvxw2FLrLyVw/WnDHvh1Uab/Kgv869NdvPxzPFFuJy2s/nZx3NzEtdz/RVY/hCeRkPzwWrdyEkbI/PmVAAbTj5D8wqu2oLeqxP52yhUj8KrE/ZzMOCwh0sT8AAAAAAADwP/1mHznaWLQ/ahP+6C08sj/UGduMIgRwv3wq31tFYXW/+71kgfOmQT/3e4HJyypTP1JZCHFXTXw/rgrrThu5cL94pSU2CKhavyT54A9XVFe/gQt8yS1FSj9t5xGhwfpgP2TzMR5+IVC/3qqyqZAgaD9L4jSeb+NrP/EcsnUsnmG/63QUzuvXez/j1SQ5YkUgv6Ul4TnvDUc/5TorY2ZRZr+TcQq3k01YvyCbHpIp6Gs/Zob+yUfART/IBbQKTNEyvzrpdSjacXW/7XOv7tmvc7/yvVQOZnJ1v4huHaqLb3G/8Fs5Vh0seL/inGjd69R1v2kLFvnffHS/gJtz5tm7cr+Ai7DY0BlfPz3OZZ5qO1E/H6LI/SGLab/0Zq7UmZlov95krtSZmWg/aPJLc7XGej9DimXR32dyvzBof1Gzm2e/avV4e9MPdz+CNVxtWJhdv5XS1mp361+/4lzscjsufz+k2I/gkO95P6SGjaGOlmS/84UjSej+aT/vMXMGrnF6P8ng19tghlk/JokhJd2hWL/U22JqcsIiv5UlL2lXyHo/lSUvaVfIej+VJS9pV8h6P2bwX86PoW0/kzQeCB6Ocb8NscnGRMBePyq7SMg24W2/PW1IFbdldb+T8iJCMtV6vzIKa02SfXK/+t7tIHJbeL/vyN4+vD5kPwQ/hEx602M/24vWyoLhWz9TelittvZzP4ILQA7Z3nA/lSUvaVfIej9D6BhgsBhyv2lKBXEsYmu/4lb+JRB/db/HdcwWip57vzKKuVgWdne/cYDdFFtMcb9SB6alz01mv5bgsla7h7I/PIIqnY0bsj8eQR0Z6qnkP/zlzxzvcLA/9lZD9wjXsD/+Zh852li0P/7//////+8/+02suDZQsT+RRuwDv9pPPwy3wxu6eRm/4CiS4vGrbr9lBI8O2FRiv9D5lgTHAkk/NlYlpXmqRz9iNO/biCloP17+17EjvmQ/TiVkVdpJUr/TzkGiGsxkP5iKj19z2Wu/oqQv+m/wZj9mz7IYawB6Pyq8wnfAtG8/q1ErZ9LEdD8/WTLjSqZuP0vPn4XrSng//XyVXb0FaL8aDtF/+j4/v0v0GDMlKjE/5Dt0YSHdbL9YaQauaK58v+UFl1MnsFc/Vsonc9WjUD/NhDX2/rFXPygr9+gYfGY/0jwqqMx2Uj+fZANl08hhP7U9KIFTGjw/cVXJPKf8Vz/JUeC9Ywd0P2fRUapYNIA/Sq38qDd9Qr+DOImwa2Jev/A2ibBrYl4/ClqXML5aQT+BztX9whZzP6JBZiwO+XU/LZ6TFD4Mar/UtGdcAf1sv9ymG4+bbm4/mtkddpyINr+RiJ0GNkVgvzi5BNv122w/LLrrFbJ5ST+oHSE6BShvv3xysRg3cmI/tKQFYZSuYL/uSLBH2hdDv7xMVb+jaUE/vExVv6NpQT+8TFW/o2lBP/yA7bXPlWa/LN6F1n5VaT+6JY99meNOv00TD+MvPU8/NM9c2vqBWT8bz0RDzoheP/ybepQfR1k/e8bCeEdXVz+3D13HFGtYP9Pek/ACi2u/Xt7dCJG5Yz9Pc7XTC5xev08HyKpTME+/vExVv6NpQT+ywegP5TRkP2Ss9Arh02U/CGYrqvE2dj/Gtuxsx/RQP1WapovWnWQ/3Zn06DSvPT9MubLKKFhWP4yrGUVWTbE/lQj4PkVVsD+fROkvLHmvP+5BvQ2nxOQ/WIYxOH27sj9qE/7oLTyyP/tNrLg2ULE/AAAAAAAA8D8/Sdv45C1ev+ZTWoPj+0i/N5idl2d4Yz+WHyFG9rpKv0L9TUmzg2A/zOlE399sqD93Z1NTzsTdv8eMzY5Rc20/a/5DepgadD/OFiFIKw5iP9Xi12hDWtw/29hniLbvWL9r22kvANWQv8d3rSwUM9i/3cgDsNhyoj+hNHH1H+BlP4xSyfYP+nq/Kfpfm2bscj8LfGu8WD5qPy23RxBuO3A/0uDIaChmPr+//KvX1FVRv1mBv4e2CeW/8elk0Du65L/nZeB2tQnlv0riNAbB8uK/PGOp2zg95L/YR1V45vXkv1AX2WpEX+S/HkZsvGas5L8fYJcvMDBivyGsIPr0kWe/ZH1O0JsQMT/TPhnZEe3IP9M+GdkR7ci/TpQ6UHO9VT/vqm7NfsThvw8NI4eLceC/L8qkNWJr4D8F7jO3IbCpv0SeRlcjC6q/gHcJaew4yj8+LdKa3/1qv/Xu/8ruTt6/EhUsW//T079RZQCDTpHTP+Es7Zt5UKK/RcCg7zdcm7+t4ZII8PvFPy4rf2bOvlU/Lit/Zs6+VT8uK39mzr5VP4FlkIdE9Je/PjP0N/CBlb9os2jjEtG/P4cWPkLde+S/qxB1Gjp+5L+rLps10Xrkv/UD97KD2eS/3UDqCCnZ5L/nTmQjG0VsP29jFNy0r3i/2Q5D7AUKcD/k3prI3RNlv5jq+dJwQWG/Lit/Zs6+VT8tVgfQZaPevx1Q04lHqN6/0DXdxiax3r8C1HupR37jv+Svf6UDgOO/hczrhsGF479m9KKPVX7jv3dzGoJrRA8/tIJvMXn5U78Z2gnX5M5Xv2LwuYlAsmW/4BUJU1kCFD/UGduMIgRwv5FG7AO/2k8/QEnb+OQtXr/////////vPxOSWvEiiNC/jvJNeBq107+DKOPTxZbWv4s2HM6aiOe/b39y64XPiT9xZowruBfEvyigpUqRvEI/5SKGm5nBWb9ImC4lNalovxm59ldRwL4/10sROfebUr/1OTRfhSaBvyCj9LSHYcC/zxzvNmumhD+1kqkpZM5uv6gtXHO1bHc/Jp4TLhEJVL9zUfIz9exiv7g9U5/VKXQ/Rr2DpptXbb+zDdXF+ZFwvx0MFS/vnbS/gjrbn4ZstL87RwZWBp60v8qTWhz+nra/nRYwMmvmsL8Fft4nOMO1v5/0Tw1InrO/+ZNu+0W7tL9ennWCTG5wP8ImrVdpCVa/vb/aMBR5WT+FrEN6vPe5v4WsQ3q897k/PzXzRMQydb8lWGX3cCW1v9wsyn9VIrS/TD4Ujqr7sj+T0OSHiYyTP8s0ucJzJZs/DCklZ4eqt7+Zk7SaJEV0v9+/2WhrEbK/6c3wP9Bgqb8otFcAOJmlP0XHktz3534/4f6aSfcKlT+aKjeCDsezv3g01i5rM3W/eDTWLmszdb94NNYuazN1vxh+yX8/1E+/6pmid6FulT8afOxpAZ2sv4UvWb36VrS//k7uW58GtL+FHehu4c2zv9g9yeU8kLS/60LP+wJDtL87E8v/lOFjv8QfTz/W512/g0inD3G2T78VHmbVYVpxv5GcGCXY3Ga/eDTWLmszdb++GBVs0ZOyvxHQSvw0grK/td0VESg8sr8Icunq0ryyvz9IJ+BS+LK/pqqfR5cps78N168wW5SzvxjXpLp+a3C/+noSdMBxa79cuw59VWhiv8ZhY73LCTe/bAcUR6LveL98Kt9bRWF1vw23wxu6eRm/51Nag+P7SL8TklrxIojQv/7//////+8/s0JopIT+sD/0T3tA5uewv9nyuWQZzdS/twHzYeFBh79s/LMdfZe0PyzTz3pXgmK/cM0b6i2Zcb93ny3StZdLv8Ek1CZ4PJs/h3EbPkiiZj9Uj5aZ0fNwP9JtI7Rpf7A/CLdZFqDybL9m8AOZ4nRrv61mDFimPWU/QDtnj0lfUz+mbVc7gYByv00z5C/Wl1W/QL+JH7b3Yj/9hJRihxpiP/1nUjX2WMA/qGlYk8OYvj8U4A7Q91jAPzl/x1oEaMI/dEY3aXOrvT+S8LJmN+fBP3ytfeL1WLw/aWh8nR3ivz+zc6ev1gF9P9ib15AAZHw/fmn7iRDSYD9o6Vr1Epuwv2jpWvUSm7A/+oVhC6JKeD8rPuIo7VrBPx+o4iaBV8A/tmVh+Q6hv797y1KRiyeePzQ5nW14VXs/VhJTd4nCsr+evaGCWHaAP4q13LPy/Ls/1FSZXzG5sz/ew666q6awv6P30JxQhpo/4EUWxE3iZ78kEeTe/yiwvwGi9lqySXg/AaL2WrJJeD8BovZaskl4P3BLQg3E7pc/yJsHM96Jf78HNk5ZMHSmvz+3slAPIsA/jlqDcgizvz+g1w5cAWW/P5VMhcpXQ8A/cOXsfYcWwD/olNSi0FhhPymLM6WsX3Y/ly+Uo0oyWr+70qPR6PF+P2ZsfOyvm28/AaL2WrJJeD/aft1pM3e9P5dubZG0C78/P5+pJr3GvD9Pc2ws3fK9P9ol57x5070/1B9G9JmIvj80qX4LuOy+Px5kQ1zQqGE/6IHhqY4AYj/1uiyX1W9kvzX8mXbiNCA/10rdQ8TMcT/6vWSB86ZBP+AokuLxq26/OJidl2d4Yz+N8k14GrXTv7JCaKSE/rA/AAAAAAAA8D8g1BW6fVvOP7As6dmAa7G/OiTWs5E0mb/2kSq/5/DQPy0Qek/IwTQ/9XVjHbeKcr+d+3aDU+VbPzKaVecHRrI/cCGtcat5Vr+Hzfg2UFdzv4OXLnq1t8s/GaWPBFYLlb/uulnaB1lQv2cm33HW4mC/dKXC9C2Hc7+vv7z5+xVgP6st0giSLWy/LCYxRz96Yz/AxL8RNiQRPznXSyhEI9Q/UZluTrhH0z8bTtchQyPUPwES+3AquNM/qrQa9JMg0z8vKMHgKwLVPzjgXoZQxdI/0xp74SBf0z9galdeVvZXv/fC068YXCw/CwtZ53SdZj+Hw+g7J/2yv4fD6Dsn/bI/ayeNf3g+dr+VP2h/5IjSP04IGTxF+NA/6C3bqOZR0b+yQtD5xgeaPzuwoHUGZZU/TFfJe64KuL/C01IS+uZrv/zl4X9MGs8/erkuflfawz/2bxuev5PEv/QXXBCw04o/QuH/v2YZjT/IIIXmhDezv2frxoKpP3a/Z+vGgqk/dr9n68aCqT92v9edk1wKK4Y/CS6vldDegj9yp24Zjbisvz1bowDciNM/s1wqWPat0z/xAjoJJ63TP27emNEC8tM/80W1GuoC1D99Pu2HRrB4v+umMNajlEQ/lTTeJIvxFb+Mi2hF5wR2v/OiSGJM0UE/Z+vGgqk/dr+baLvOiojPP3UBv8yZTtA/dKQLo9Ao0D/EuWu9hrHSP4hNDtI4xdI/Y+u2rge00j8ZSfkzKYHSP09dHxbaO0i/2Fju+9GoFL80edkxgn5UvyEHgXpO0l4/GetExfQYYj/3e4HJyypTP2UEjw7YVGK/lh8hRva6Sr+DKOPTxZbWv/RPe0Dm57C/H9QVun1bzj8AAAAAAADwP6UnfYJXdqw/EayrcfEBqb/iIeNV2uTfP8XOh2baPW6/9b9yHw8dXb8azSWyR11Lv9JD5Kx2reK/Ef265lTqXz+5fCbjYLaXP/EJKPHa7tk/mFETEk2Eo7+6MJSSH2BFP5R9F/inHm0/JSMyiRg6ar9hHQ+GrihWvxhVBEl5Fni/lNfHtqMgVT/76bHmrxNoP6nchFFxPOQ/X5IAFLAW5D8hm0TzcTzkP5l+tTUtB+I/AI9I4eJY4z/mKt2Nv/7jP9Fqlo+izOM/uWizpxr+4z9j3HMH6vhav2TQliUPb14/rNG9rEa2Zb8gGsW3afG7vyAaxbdp8bs/Jh3p5L8IWj+hzQbe2uLgP9a10MvsWt8/cQFNEL4Z37+C4c+Q+m6bPxphbJI9yp8/MVN0/qUEvr+HvadldYh1PyckQGYmAd0/ywBJIucT0z/oioa+r5/Sv+8gIKOlZZc/nMYpGu4Giz9lgcpBEly5v+ZrstNfC1o/5muy018LWj/ma7LTXwtaP8MNLWzYWpA/vqcF12y+gz9vZkFMsVqyvwGThbHot+M/Bj/oaSG04z+9oXO4Fq/jP4+kXTrvD+Q/VlhY7G8K5D+r1FpqGPZRv8Ack4fKFHg/7xnxo8AMar8UQ5LaD4pzPyd3g/6lEmY/5muy018LWj/zq/FosUTdP7DqlyN2AN0/bqM/Vik13T/tVAFs57riP3S8JqR/v+I/cH2MM3HF4j/d/6RDa8niP3C3Qg0oCmA/FcZv8vVwZj9x3vVN15BwP6E2hyNFb2Q/KESq5v2EWz9RWQhxV018P9D5lgTHAkk/Q/1NSbODYD+MNhzOmojnv9jyuWQZzdS/sCzp2YBrsb+lJ32CV3asPwAAAAAAAPA/",
          "dtype": "f8",
          "shape": "81, 81"
         }
        }
       ],
       "layout": {
        "coloraxis": {
         "cmax": 1,
         "cmin": -1,
         "colorbar": {
          "title": {
           "text": "Correlation"
          }
         },
         "colorscale": [
          [
           0,
           "rgb(103,0,31)"
          ],
          [
           0.1,
           "rgb(178,24,43)"
          ],
          [
           0.2,
           "rgb(214,96,77)"
          ],
          [
           0.3,
           "rgb(244,165,130)"
          ],
          [
           0.4,
           "rgb(253,219,199)"
          ],
          [
           0.5,
           "rgb(247,247,247)"
          ],
          [
           0.6,
           "rgb(209,229,240)"
          ],
          [
           0.7,
           "rgb(146,197,222)"
          ],
          [
           0.8,
           "rgb(67,147,195)"
          ],
          [
           0.9,
           "rgb(33,102,172)"
          ],
          [
           1,
           "rgb(5,48,97)"
          ]
         ]
        },
        "height": 1800,
        "margin": {
         "t": 60
        },
        "template": {
         "data": {
          "bar": [
           {
            "error_x": {
             "color": "#2a3f5f"
            },
            "error_y": {
             "color": "#2a3f5f"
            },
            "marker": {
             "line": {
              "color": "#E5ECF6",
              "width": 0.5
             },
             "pattern": {
              "fillmode": "overlay",
              "size": 10,
              "solidity": 0.2
             }
            },
            "type": "bar"
           }
          ],
          "barpolar": [
           {
            "marker": {
             "line": {
              "color": "#E5ECF6",
              "width": 0.5
             },
             "pattern": {
              "fillmode": "overlay",
              "size": 10,
              "solidity": 0.2
             }
            },
            "type": "barpolar"
           }
          ],
          "carpet": [
           {
            "aaxis": {
             "endlinecolor": "#2a3f5f",
             "gridcolor": "white",
             "linecolor": "white",
             "minorgridcolor": "white",
             "startlinecolor": "#2a3f5f"
            },
            "baxis": {
             "endlinecolor": "#2a3f5f",
             "gridcolor": "white",
             "linecolor": "white",
             "minorgridcolor": "white",
             "startlinecolor": "#2a3f5f"
            },
            "type": "carpet"
           }
          ],
          "choropleth": [
           {
            "colorbar": {
             "outlinewidth": 0,
             "ticks": ""
            },
            "type": "choropleth"
           }
          ],
          "contour": [
           {
            "colorbar": {
             "outlinewidth": 0,
             "ticks": ""
            },
            "colorscale": [
             [
              0,
              "#0d0887"
             ],
             [
              0.1111111111111111,
              "#46039f"
             ],
             [
              0.2222222222222222,
              "#7201a8"
             ],
             [
              0.3333333333333333,
              "#9c179e"
             ],
             [
              0.4444444444444444,
              "#bd3786"
             ],
             [
              0.5555555555555556,
              "#d8576b"
             ],
             [
              0.6666666666666666,
              "#ed7953"
             ],
             [
              0.7777777777777778,
              "#fb9f3a"
             ],
             [
              0.8888888888888888,
              "#fdca26"
             ],
             [
              1,
              "#f0f921"
             ]
            ],
            "type": "contour"
           }
          ],
          "contourcarpet": [
           {
            "colorbar": {
             "outlinewidth": 0,
             "ticks": ""
            },
            "type": "contourcarpet"
           }
          ],
          "heatmap": [
           {
            "colorbar": {
             "outlinewidth": 0,
             "ticks": ""
            },
            "colorscale": [
             [
              0,
              "#0d0887"
             ],
             [
              0.1111111111111111,
              "#46039f"
             ],
             [
              0.2222222222222222,
              "#7201a8"
             ],
             [
              0.3333333333333333,
              "#9c179e"
             ],
             [
              0.4444444444444444,
              "#bd3786"
             ],
             [
              0.5555555555555556,
              "#d8576b"
             ],
             [
              0.6666666666666666,
              "#ed7953"
             ],
             [
              0.7777777777777778,
              "#fb9f3a"
             ],
             [
              0.8888888888888888,
              "#fdca26"
             ],
             [
              1,
              "#f0f921"
             ]
            ],
            "type": "heatmap"
           }
          ],
          "histogram": [
           {
            "marker": {
             "pattern": {
              "fillmode": "overlay",
              "size": 10,
              "solidity": 0.2
             }
            },
            "type": "histogram"
           }
          ],
          "histogram2d": [
           {
            "colorbar": {
             "outlinewidth": 0,
             "ticks": ""
            },
            "colorscale": [
             [
              0,
              "#0d0887"
             ],
             [
              0.1111111111111111,
              "#46039f"
             ],
             [
              0.2222222222222222,
              "#7201a8"
             ],
             [
              0.3333333333333333,
              "#9c179e"
             ],
             [
              0.4444444444444444,
              "#bd3786"
             ],
             [
              0.5555555555555556,
              "#d8576b"
             ],
             [
              0.6666666666666666,
              "#ed7953"
             ],
             [
              0.7777777777777778,
              "#fb9f3a"
             ],
             [
              0.8888888888888888,
              "#fdca26"
             ],
             [
              1,
              "#f0f921"
             ]
            ],
            "type": "histogram2d"
           }
          ],
          "histogram2dcontour": [
           {
            "colorbar": {
             "outlinewidth": 0,
             "ticks": ""
            },
            "colorscale": [
             [
              0,
              "#0d0887"
             ],
             [
              0.1111111111111111,
              "#46039f"
             ],
             [
              0.2222222222222222,
              "#7201a8"
             ],
             [
              0.3333333333333333,
              "#9c179e"
             ],
             [
              0.4444444444444444,
              "#bd3786"
             ],
             [
              0.5555555555555556,
              "#d8576b"
             ],
             [
              0.6666666666666666,
              "#ed7953"
             ],
             [
              0.7777777777777778,
              "#fb9f3a"
             ],
             [
              0.8888888888888888,
              "#fdca26"
             ],
             [
              1,
              "#f0f921"
             ]
            ],
            "type": "histogram2dcontour"
           }
          ],
          "mesh3d": [
           {
            "colorbar": {
             "outlinewidth": 0,
             "ticks": ""
            },
            "type": "mesh3d"
           }
          ],
          "parcoords": [
           {
            "line": {
             "colorbar": {
              "outlinewidth": 0,
              "ticks": ""
             }
            },
            "type": "parcoords"
           }
          ],
          "pie": [
           {
            "automargin": true,
            "type": "pie"
           }
          ],
          "scatter": [
           {
            "fillpattern": {
             "fillmode": "overlay",
             "size": 10,
             "solidity": 0.2
            },
            "type": "scatter"
           }
          ],
          "scatter3d": [
           {
            "line": {
             "colorbar": {
              "outlinewidth": 0,
              "ticks": ""
             }
            },
            "marker": {
             "colorbar": {
              "outlinewidth": 0,
              "ticks": ""
             }
            },
            "type": "scatter3d"
           }
          ],
          "scattercarpet": [
           {
            "marker": {
             "colorbar": {
              "outlinewidth": 0,
              "ticks": ""
             }
            },
            "type": "scattercarpet"
           }
          ],
          "scattergeo": [
           {
            "marker": {
             "colorbar": {
              "outlinewidth": 0,
              "ticks": ""
             }
            },
            "type": "scattergeo"
           }
          ],
          "scattergl": [
           {
            "marker": {
             "colorbar": {
              "outlinewidth": 0,
              "ticks": ""
             }
            },
            "type": "scattergl"
           }
          ],
          "scattermap": [
           {
            "marker": {
             "colorbar": {
              "outlinewidth": 0,
              "ticks": ""
             }
            },
            "type": "scattermap"
           }
          ],
          "scattermapbox": [
           {
            "marker": {
             "colorbar": {
              "outlinewidth": 0,
              "ticks": ""
             }
            },
            "type": "scattermapbox"
           }
          ],
          "scatterpolar": [
           {
            "marker": {
             "colorbar": {
              "outlinewidth": 0,
              "ticks": ""
             }
            },
            "type": "scatterpolar"
           }
          ],
          "scatterpolargl": [
           {
            "marker": {
             "colorbar": {
              "outlinewidth": 0,
              "ticks": ""
             }
            },
            "type": "scatterpolargl"
           }
          ],
          "scatterternary": [
           {
            "marker": {
             "colorbar": {
              "outlinewidth": 0,
              "ticks": ""
             }
            },
            "type": "scatterternary"
           }
          ],
          "surface": [
           {
            "colorbar": {
             "outlinewidth": 0,
             "ticks": ""
            },
            "colorscale": [
             [
              0,
              "#0d0887"
             ],
             [
              0.1111111111111111,
              "#46039f"
             ],
             [
              0.2222222222222222,
              "#7201a8"
             ],
             [
              0.3333333333333333,
              "#9c179e"
             ],
             [
              0.4444444444444444,
              "#bd3786"
             ],
             [
              0.5555555555555556,
              "#d8576b"
             ],
             [
              0.6666666666666666,
              "#ed7953"
             ],
             [
              0.7777777777777778,
              "#fb9f3a"
             ],
             [
              0.8888888888888888,
              "#fdca26"
             ],
             [
              1,
              "#f0f921"
             ]
            ],
            "type": "surface"
           }
          ],
          "table": [
           {
            "cells": {
             "fill": {
              "color": "#EBF0F8"
             },
             "line": {
              "color": "white"
             }
            },
            "header": {
             "fill": {
              "color": "#C8D4E3"
             },
             "line": {
              "color": "white"
             }
            },
            "type": "table"
           }
          ]
         },
         "layout": {
          "annotationdefaults": {
           "arrowcolor": "#2a3f5f",
           "arrowhead": 0,
           "arrowwidth": 1
          },
          "autotypenumbers": "strict",
          "coloraxis": {
           "colorbar": {
            "outlinewidth": 0,
            "ticks": ""
           }
          },
          "colorscale": {
           "diverging": [
            [
             0,
             "#8e0152"
            ],
            [
             0.1,
             "#c51b7d"
            ],
            [
             0.2,
             "#de77ae"
            ],
            [
             0.3,
             "#f1b6da"
            ],
            [
             0.4,
             "#fde0ef"
            ],
            [
             0.5,
             "#f7f7f7"
            ],
            [
             0.6,
             "#e6f5d0"
            ],
            [
             0.7,
             "#b8e186"
            ],
            [
             0.8,
             "#7fbc41"
            ],
            [
             0.9,
             "#4d9221"
            ],
            [
             1,
             "#276419"
            ]
           ],
           "sequential": [
            [
             0,
             "#0d0887"
            ],
            [
             0.1111111111111111,
             "#46039f"
            ],
            [
             0.2222222222222222,
             "#7201a8"
            ],
            [
             0.3333333333333333,
             "#9c179e"
            ],
            [
             0.4444444444444444,
             "#bd3786"
            ],
            [
             0.5555555555555556,
             "#d8576b"
            ],
            [
             0.6666666666666666,
             "#ed7953"
            ],
            [
             0.7777777777777778,
             "#fb9f3a"
            ],
            [
             0.8888888888888888,
             "#fdca26"
            ],
            [
             1,
             "#f0f921"
            ]
           ],
           "sequentialminus": [
            [
             0,
             "#0d0887"
            ],
            [
             0.1111111111111111,
             "#46039f"
            ],
            [
             0.2222222222222222,
             "#7201a8"
            ],
            [
             0.3333333333333333,
             "#9c179e"
            ],
            [
             0.4444444444444444,
             "#bd3786"
            ],
            [
             0.5555555555555556,
             "#d8576b"
            ],
            [
             0.6666666666666666,
             "#ed7953"
            ],
            [
             0.7777777777777778,
             "#fb9f3a"
            ],
            [
             0.8888888888888888,
             "#fdca26"
            ],
            [
             1,
             "#f0f921"
            ]
           ]
          },
          "colorway": [
           "#636efa",
           "#EF553B",
           "#00cc96",
           "#ab63fa",
           "#FFA15A",
           "#19d3f3",
           "#FF6692",
           "#B6E880",
           "#FF97FF",
           "#FECB52"
          ],
          "font": {
           "color": "#2a3f5f"
          },
          "geo": {
           "bgcolor": "white",
           "lakecolor": "white",
           "landcolor": "#E5ECF6",
           "showlakes": true,
           "showland": true,
           "subunitcolor": "white"
          },
          "hoverlabel": {
           "align": "left"
          },
          "hovermode": "closest",
          "mapbox": {
           "style": "light"
          },
          "paper_bgcolor": "white",
          "plot_bgcolor": "#E5ECF6",
          "polar": {
           "angularaxis": {
            "gridcolor": "white",
            "linecolor": "white",
            "ticks": ""
           },
           "bgcolor": "#E5ECF6",
           "radialaxis": {
            "gridcolor": "white",
            "linecolor": "white",
            "ticks": ""
           }
          },
          "scene": {
           "xaxis": {
            "backgroundcolor": "#E5ECF6",
            "gridcolor": "white",
            "gridwidth": 2,
            "linecolor": "white",
            "showbackground": true,
            "ticks": "",
            "zerolinecolor": "white"
           },
           "yaxis": {
            "backgroundcolor": "#E5ECF6",
            "gridcolor": "white",
            "gridwidth": 2,
            "linecolor": "white",
            "showbackground": true,
            "ticks": "",
            "zerolinecolor": "white"
           },
           "zaxis": {
            "backgroundcolor": "#E5ECF6",
            "gridcolor": "white",
            "gridwidth": 2,
            "linecolor": "white",
            "showbackground": true,
            "ticks": "",
            "zerolinecolor": "white"
           }
          },
          "shapedefaults": {
           "line": {
            "color": "#2a3f5f"
           }
          },
          "ternary": {
           "aaxis": {
            "gridcolor": "white",
            "linecolor": "white",
            "ticks": ""
           },
           "baxis": {
            "gridcolor": "white",
            "linecolor": "white",
            "ticks": ""
           },
           "bgcolor": "#E5ECF6",
           "caxis": {
            "gridcolor": "white",
            "linecolor": "white",
            "ticks": ""
           }
          },
          "title": {
           "x": 0.05
          },
          "xaxis": {
           "automargin": true,
           "gridcolor": "white",
           "linecolor": "white",
           "ticks": "",
           "title": {
            "standoff": 15
           },
           "zerolinecolor": "white",
           "zerolinewidth": 2
          },
          "yaxis": {
           "automargin": true,
           "gridcolor": "white",
           "linecolor": "white",
           "ticks": "",
           "title": {
            "standoff": 15
           },
           "zerolinecolor": "white",
           "zerolinewidth": 2
          }
         }
        },
        "title": {
         "text": "Correlation Matrix Heatmap"
        },
        "width": 1800,
        "xaxis": {
         "anchor": "y",
         "domain": [
          0,
          1
         ],
         "title": {
          "text": "Features"
         }
        },
        "yaxis": {
         "anchor": "x",
         "autorange": "reversed",
         "domain": [
          0,
          1
         ],
         "title": {
          "text": "Features"
         }
        }
       }
      }
     },
     "metadata": {},
     "output_type": "display_data"
    }
   ],
   "source": [
    "fig = px.imshow(\n",
    "    correlation_matrix.to_numpy(),\n",
    "    labels=dict(x='Features', y='Features', color='Correlation'),\n",
    "    x=correlation_matrix.columns,\n",
    "    y=correlation_matrix.columns,\n",
    "    color_continuous_scale='RdBu',\n",
    "    zmin=-1, zmax=1,\n",
    "    aspect='auto'\n",
    ")\n",
    "fig.update_layout(\n",
    "    width=1800,\n",
    "    height=1800,\n",
    "    title='Correlation Matrix Heatmap'\n",
    ")\n",
    "fig.update_layout(title='Correlation Matrix Heatmap')\n",
    "fig.show()\n",
    "\n",
    "# Blue means that variable X and variable Y follow the same behaviour (both increasing or decreasing)\n",
    "# Red means that variable X has the opposite behaviour of variable Y"
   ]
  },
  {
   "cell_type": "markdown",
   "id": "850ea14f",
   "metadata": {},
   "source": [
    "From the plot, it seems that the target `has_done_upselling` is **not correlated** with any other column"
   ]
  },
  {
   "cell_type": "code",
   "execution_count": 39,
   "id": "ef7a9844",
   "metadata": {},
   "outputs": [
    {
     "name": "stdout",
     "output_type": "stream",
     "text": [
      "CPU times: user 2 ms, sys: 3.57 ms, total: 5.56 ms\n",
      "Wall time: 2.84 ms\n"
     ]
    }
   ],
   "source": [
    "%%time \n",
    "\n",
    "correlation_analysis = (\n",
    "    correlation_matrix\n",
    "    .unpivot(index=None, variable_name='col1', value_name='correlation')\n",
    "    .with_columns([\n",
    "        pl.repeat(correlation_matrix.columns, correlation_matrix.height).flatten().alias('col2'),\n",
    "        pl.col('correlation').abs()\n",
    "    ])\n",
    "    .filter(pl.col('col1') != pl.col('col2'))\n",
    "    .filter(pl.col('col1') < pl.col('col2'))  # Keep only one pair per combination\n",
    "    .with_columns([\n",
    "        pl.when(pl.col('correlation') > 0.99)\n",
    "            .then(pl.lit('identical'))\n",
    "        .when(pl.col('correlation') > 0.9)\n",
    "            .then(pl.lit('high'))\n",
    "        .when(pl.col('correlation') > 0.8)\n",
    "            .then(pl.lit('high-medium'))\n",
    "        .when(pl.col('correlation') > 0.7)\n",
    "            .then(pl.lit('medium'))\n",
    "        .otherwise(pl.lit('ok'))\n",
    "        .alias('analysis')\n",
    "    ])\n",
    "    .sort('correlation', descending=True)\n",
    ")"
   ]
  },
  {
   "cell_type": "code",
   "execution_count": 40,
   "id": "2b301b25",
   "metadata": {},
   "outputs": [
    {
     "data": {
      "text/html": [
       "<div><style>\n",
       ".dataframe > thead > tr,\n",
       ".dataframe > tbody > tr {\n",
       "  text-align: right;\n",
       "  white-space: pre-wrap;\n",
       "}\n",
       "</style>\n",
       "<small>shape: (5, 2)</small><table border=\"1\" class=\"dataframe\"><thead><tr><th>analysis</th><th>len</th></tr><tr><td>str</td><td>u32</td></tr></thead><tbody><tr><td>&quot;identical&quot;</td><td>19</td></tr><tr><td>&quot;high&quot;</td><td>100</td></tr><tr><td>&quot;high-medium&quot;</td><td>58</td></tr><tr><td>&quot;medium&quot;</td><td>101</td></tr><tr><td>&quot;ok&quot;</td><td>2962</td></tr></tbody></table></div>"
      ],
      "text/plain": [
       "shape: (5, 2)\n",
       "┌─────────────┬──────┐\n",
       "│ analysis    ┆ len  │\n",
       "│ ---         ┆ ---  │\n",
       "│ str         ┆ u32  │\n",
       "╞═════════════╪══════╡\n",
       "│ identical   ┆ 19   │\n",
       "│ high        ┆ 100  │\n",
       "│ high-medium ┆ 58   │\n",
       "│ medium      ┆ 101  │\n",
       "│ ok          ┆ 2962 │\n",
       "└─────────────┴──────┘"
      ]
     },
     "execution_count": 40,
     "metadata": {},
     "output_type": "execute_result"
    }
   ],
   "source": [
    "correlation_analysis.group_by('analysis', maintain_order=True).len()"
   ]
  },
  {
   "cell_type": "code",
   "execution_count": 41,
   "id": "0e750d28",
   "metadata": {},
   "outputs": [
    {
     "data": {
      "text/html": [
       "<div><style>\n",
       ".dataframe > thead > tr,\n",
       ".dataframe > tbody > tr {\n",
       "  text-align: right;\n",
       "  white-space: pre-wrap;\n",
       "}\n",
       "</style>\n",
       "<small>shape: (80, 4)</small><table border=\"1\" class=\"dataframe\"><thead><tr><th>col1</th><th>correlation</th><th>col2</th><th>analysis</th></tr><tr><td>str</td><td>f64</td><td>str</td><td>str</td></tr></thead><tbody><tr><td>&quot;available_gb&quot;</td><td>0.052664786297940996</td><td>&quot;has_done_upselling&quot;</td><td>&quot;ok&quot;</td></tr><tr><td>&quot;age&quot;</td><td>0.04153326724227132</td><td>&quot;has_done_upselling&quot;</td><td>&quot;ok&quot;</td></tr><tr><td>&quot;has_done_upselling&quot;</td><td>0.03414953052150721</td><td>&quot;is_magenta1_customer&quot;</td><td>&quot;ok&quot;</td></tr><tr><td>&quot;gross_mrc&quot;</td><td>0.02619134627808244</td><td>&quot;has_done_upselling&quot;</td><td>&quot;ok&quot;</td></tr><tr><td>&quot;has_done_upselling&quot;</td><td>0.023156656135708362</td><td>&quot;times_in_p5&quot;</td><td>&quot;ok&quot;</td></tr><tr><td>&hellip;</td><td>&hellip;</td><td>&hellip;</td><td>&hellip;</td></tr><tr><td>&quot;has_done_upselling&quot;</td><td>0.0005116889862998758</td><td>&quot;months_with_roaming&quot;</td><td>&quot;ok&quot;</td></tr><tr><td>&quot;has_done_upselling&quot;</td><td>0.00048133868409945736</td><td>&quot;last_3_2mo_rolling_stdev&quot;</td><td>&quot;ok&quot;</td></tr><tr><td>&quot;has_done_upselling&quot;</td><td>0.00040420281720261844</td><td>&quot;max_delta_1mo_decrease&quot;</td><td>&quot;ok&quot;</td></tr><tr><td>&quot;ever_used_roaming&quot;</td><td>0.0002376346832045547</td><td>&quot;has_done_upselling&quot;</td><td>&quot;ok&quot;</td></tr><tr><td>&quot;has_done_upselling&quot;</td><td>0.00003038438749876714</td><td>&quot;last_1_delta_1mo&quot;</td><td>&quot;ok&quot;</td></tr></tbody></table></div>"
      ],
      "text/plain": [
       "shape: (80, 4)\n",
       "┌────────────────────┬────────────────────────┬──────────────────────────┬──────────┐\n",
       "│ col1               ┆ correlation            ┆ col2                     ┆ analysis │\n",
       "│ ---                ┆ ---                    ┆ ---                      ┆ ---      │\n",
       "│ str                ┆ f64                    ┆ str                      ┆ str      │\n",
       "╞════════════════════╪════════════════════════╪══════════════════════════╪══════════╡\n",
       "│ available_gb       ┆ 0.052664786297940996   ┆ has_done_upselling       ┆ ok       │\n",
       "│ age                ┆ 0.04153326724227132    ┆ has_done_upselling       ┆ ok       │\n",
       "│ has_done_upselling ┆ 0.03414953052150721    ┆ is_magenta1_customer     ┆ ok       │\n",
       "│ gross_mrc          ┆ 0.02619134627808244    ┆ has_done_upselling       ┆ ok       │\n",
       "│ has_done_upselling ┆ 0.023156656135708362   ┆ times_in_p5              ┆ ok       │\n",
       "│ …                  ┆ …                      ┆ …                        ┆ …        │\n",
       "│ has_done_upselling ┆ 0.0005116889862998758  ┆ months_with_roaming      ┆ ok       │\n",
       "│ has_done_upselling ┆ 0.00048133868409945736 ┆ last_3_2mo_rolling_stdev ┆ ok       │\n",
       "│ has_done_upselling ┆ 0.00040420281720261844 ┆ max_delta_1mo_decrease   ┆ ok       │\n",
       "│ ever_used_roaming  ┆ 0.0002376346832045547  ┆ has_done_upselling       ┆ ok       │\n",
       "│ has_done_upselling ┆ 0.00003038438749876714 ┆ last_1_delta_1mo         ┆ ok       │\n",
       "└────────────────────┴────────────────────────┴──────────────────────────┴──────────┘"
      ]
     },
     "execution_count": 41,
     "metadata": {},
     "output_type": "execute_result"
    }
   ],
   "source": [
    "has_done_upselling_corr = correlation_analysis.filter(\n",
    "    (pl.col('col1') == 'has_done_upselling') | (pl.col('col2') == 'has_done_upselling')\n",
    ")\n",
    "has_done_upselling_corr"
   ]
  },
  {
   "cell_type": "markdown",
   "id": "8ccfd41d",
   "metadata": {},
   "source": [
    "### Anlysis correlated networks"
   ]
  },
  {
   "cell_type": "markdown",
   "id": "d869e355",
   "metadata": {},
   "source": [
    "Instead of removing all the features that exceed a certain threshold. Using this approach of showing the connected features will help to keep some features that retain important business knowldge."
   ]
  },
  {
   "cell_type": "code",
   "execution_count": 42,
   "id": "74e02ef6",
   "metadata": {},
   "outputs": [],
   "source": [
    "G_70, remove_70, clusters_70 = correlation_graph_analysis(correlation_analysis, 0.7)"
   ]
  },
  {
   "cell_type": "code",
   "execution_count": 43,
   "id": "e6e4540c",
   "metadata": {},
   "outputs": [
    {
     "data": {
      "application/vnd.plotly.v1+json": {
       "config": {
        "plotlyServerURL": "https://plot.ly"
       },
       "data": [
        {
         "hoverinfo": "none",
         "line": {
          "color": "#888",
          "width": 1
         },
         "mode": "lines",
         "type": "scatter",
         "x": [
          0.30062508994064047,
          0.29002735700705246,
          null,
          -0.6877601987943627,
          -0.6462720127477615,
          null,
          -0.6877601987943627,
          -0.6476611844871937,
          null,
          -0.6877601987943627,
          -0.6761906800861147,
          null,
          -0.6877601987943627,
          -0.6957009013765573,
          null,
          -0.6877601987943627,
          -0.6343681049582229,
          null,
          -0.6462720127477615,
          -0.6476611844871937,
          null,
          -0.6462720127477615,
          -0.6761906800861147,
          null,
          -0.6462720127477615,
          -0.6957009013765573,
          null,
          -0.6462720127477615,
          -0.6343681049582229,
          null,
          -0.6476611844871937,
          -0.6761906800861147,
          null,
          -0.6476611844871937,
          -0.6957009013765573,
          null,
          -0.6476611844871937,
          -0.6343681049582229,
          null,
          -0.6761906800861147,
          -0.6957009013765573,
          null,
          -0.6761906800861147,
          -0.6343681049582229,
          null,
          0.04072350701545492,
          0.02697103447625184,
          null,
          0.04072350701545492,
          0.03634282739995606,
          null,
          0.04072350701545492,
          0.032115186677320454,
          null,
          0.04072350701545492,
          0.047630293361907355,
          null,
          0.04072350701545492,
          0.043115700043350066,
          null,
          0.04072350701545492,
          0.021082944267790744,
          null,
          0.04072350701545492,
          0.005662758526142373,
          null,
          0.04072350701545492,
          0.02395788528484669,
          null,
          0.04072350701545492,
          0.014152094370218263,
          null,
          0.04072350701545492,
          0.006135460491715012,
          null,
          0.04072350701545492,
          -0.024825924933807,
          null,
          0.04072350701545492,
          -0.007368853264002389,
          null,
          0.04072350701545492,
          -0.010976098487978689,
          null,
          0.04072350701545492,
          -0.009900173669675582,
          null,
          0.04072350701545492,
          -0.020270624058809774,
          null,
          0.04072350701545492,
          0.01863948572544122,
          null,
          0.04072350701545492,
          0.04760680333386235,
          null,
          0.04072350701545492,
          0.06698917063142834,
          null,
          0.04072350701545492,
          0.06853324248171641,
          null,
          0.04072350701545492,
          -0.03295495068375101,
          null,
          0.04072350701545492,
          0.06877052120178258,
          null,
          0.04072350701545492,
          0.08543737557033595,
          null,
          0.04072350701545492,
          0.07426105735768147,
          null,
          0.04072350701545492,
          0.09595733175233562,
          null,
          0.02697103447625184,
          0.03634282739995606,
          null,
          0.02697103447625184,
          0.032115186677320454,
          null,
          0.02697103447625184,
          0.047630293361907355,
          null,
          0.02697103447625184,
          0.043115700043350066,
          null,
          0.02697103447625184,
          0.021082944267790744,
          null,
          0.02697103447625184,
          0.005662758526142373,
          null,
          0.02697103447625184,
          0.02395788528484669,
          null,
          0.02697103447625184,
          0.014152094370218263,
          null,
          0.02697103447625184,
          0.006135460491715012,
          null,
          0.02697103447625184,
          -0.024825924933807,
          null,
          0.02697103447625184,
          -0.007368853264002389,
          null,
          0.02697103447625184,
          -0.010976098487978689,
          null,
          0.02697103447625184,
          -0.009900173669675582,
          null,
          0.02697103447625184,
          -0.020270624058809774,
          null,
          0.02697103447625184,
          0.01863948572544122,
          null,
          0.02697103447625184,
          0.04760680333386235,
          null,
          0.02697103447625184,
          0.06698917063142834,
          null,
          0.02697103447625184,
          0.06853324248171641,
          null,
          0.02697103447625184,
          -0.03295495068375101,
          null,
          0.02697103447625184,
          0.06877052120178258,
          null,
          0.02697103447625184,
          0.08543737557033595,
          null,
          0.02697103447625184,
          0.07426105735768147,
          null,
          0.02697103447625184,
          0.09595733175233562,
          null,
          -0.6957009013765573,
          -0.6343681049582229,
          null,
          0.03634282739995606,
          0.043115700043350066,
          null,
          0.03634282739995606,
          0.005662758526142373,
          null,
          0.03634282739995606,
          0.047630293361907355,
          null,
          0.03634282739995606,
          0.032115186677320454,
          null,
          0.03634282739995606,
          0.021082944267790744,
          null,
          0.03634282739995606,
          0.02395788528484669,
          null,
          0.03634282739995606,
          0.014152094370218263,
          null,
          0.03634282739995606,
          0.006135460491715012,
          null,
          0.03634282739995606,
          -0.024825924933807,
          null,
          0.03634282739995606,
          -0.007368853264002389,
          null,
          0.03634282739995606,
          -0.010976098487978689,
          null,
          0.03634282739995606,
          -0.009900173669675582,
          null,
          0.03634282739995606,
          -0.020270624058809774,
          null,
          0.03634282739995606,
          0.01863948572544122,
          null,
          0.03634282739995606,
          0.04760680333386235,
          null,
          0.03634282739995606,
          0.06698917063142834,
          null,
          0.03634282739995606,
          0.06853324248171641,
          null,
          0.03634282739995606,
          -0.03295495068375101,
          null,
          0.03634282739995606,
          0.06877052120178258,
          null,
          0.03634282739995606,
          0.07426105735768147,
          null,
          0.03634282739995606,
          0.08543737557033595,
          null,
          0.03634282739995606,
          0.09595733175233562,
          null,
          0.043115700043350066,
          0.032115186677320454,
          null,
          0.043115700043350066,
          0.047630293361907355,
          null,
          0.043115700043350066,
          0.021082944267790744,
          null,
          0.043115700043350066,
          0.02395788528484669,
          null,
          0.043115700043350066,
          0.014152094370218263,
          null,
          0.043115700043350066,
          0.006135460491715012,
          null,
          0.043115700043350066,
          0.005662758526142373,
          null,
          0.043115700043350066,
          -0.024825924933807,
          null,
          0.043115700043350066,
          -0.007368853264002389,
          null,
          0.043115700043350066,
          -0.010976098487978689,
          null,
          0.043115700043350066,
          -0.009900173669675582,
          null,
          0.043115700043350066,
          -0.020270624058809774,
          null,
          0.043115700043350066,
          0.01863948572544122,
          null,
          0.043115700043350066,
          0.04760680333386235,
          null,
          0.043115700043350066,
          0.06698917063142834,
          null,
          0.043115700043350066,
          0.06853324248171641,
          null,
          0.043115700043350066,
          -0.03295495068375101,
          null,
          0.043115700043350066,
          0.06877052120178258,
          null,
          0.043115700043350066,
          0.07426105735768147,
          null,
          0.043115700043350066,
          0.08543737557033595,
          null,
          0.043115700043350066,
          0.09595733175233562,
          null,
          0.032115186677320454,
          0.006135460491715012,
          null,
          0.032115186677320454,
          0.02395788528484669,
          null,
          0.032115186677320454,
          0.021082944267790744,
          null,
          0.032115186677320454,
          0.047630293361907355,
          null,
          0.032115186677320454,
          0.005662758526142373,
          null,
          0.032115186677320454,
          0.014152094370218263,
          null,
          0.032115186677320454,
          -0.024825924933807,
          null,
          0.032115186677320454,
          -0.007368853264002389,
          null,
          0.032115186677320454,
          -0.010976098487978689,
          null,
          0.032115186677320454,
          -0.009900173669675582,
          null,
          0.032115186677320454,
          0.01863948572544122,
          null,
          0.032115186677320454,
          -0.020270624058809774,
          null,
          0.032115186677320454,
          0.04760680333386235,
          null,
          0.032115186677320454,
          0.06853324248171641,
          null,
          0.032115186677320454,
          -0.03295495068375101,
          null,
          0.032115186677320454,
          0.06698917063142834,
          null,
          0.032115186677320454,
          0.08543737557033595,
          null,
          0.032115186677320454,
          0.06877052120178258,
          null,
          0.032115186677320454,
          0.07426105735768147,
          null,
          0.032115186677320454,
          0.09595733175233562,
          null,
          0.047630293361907355,
          0.014152094370218263,
          null,
          0.047630293361907355,
          0.02395788528484669,
          null,
          0.047630293361907355,
          0.021082944267790744,
          null,
          0.047630293361907355,
          0.005662758526142373,
          null,
          0.047630293361907355,
          0.006135460491715012,
          null,
          0.047630293361907355,
          -0.024825924933807,
          null,
          0.047630293361907355,
          -0.007368853264002389,
          null,
          0.047630293361907355,
          -0.020270624058809774,
          null,
          0.047630293361907355,
          -0.009900173669675582,
          null,
          0.047630293361907355,
          0.01863948572544122,
          null,
          0.047630293361907355,
          -0.010976098487978689,
          null,
          0.047630293361907355,
          0.04760680333386235,
          null,
          0.047630293361907355,
          0.06698917063142834,
          null,
          0.047630293361907355,
          -0.03295495068375101,
          null,
          0.047630293361907355,
          0.06853324248171641,
          null,
          0.047630293361907355,
          0.06877052120178258,
          null,
          0.047630293361907355,
          0.07426105735768147,
          null,
          0.047630293361907355,
          0.08543737557033595,
          null,
          0.047630293361907355,
          0.09595733175233562,
          null,
          0.005662758526142373,
          0.02395788528484669,
          null,
          0.005662758526142373,
          0.014152094370218263,
          null,
          0.005662758526142373,
          0.006135460491715012,
          null,
          0.005662758526142373,
          0.021082944267790744,
          null,
          0.005662758526142373,
          -0.024825924933807,
          null,
          0.005662758526142373,
          -0.007368853264002389,
          null,
          0.005662758526142373,
          -0.009900173669675582,
          null,
          0.005662758526142373,
          -0.020270624058809774,
          null,
          0.005662758526142373,
          -0.010976098487978689,
          null,
          0.005662758526142373,
          0.01863948572544122,
          null,
          0.005662758526142373,
          0.04760680333386235,
          null,
          0.005662758526142373,
          -0.03295495068375101,
          null,
          0.005662758526142373,
          0.06698917063142834,
          null,
          0.005662758526142373,
          0.06853324248171641,
          null,
          0.021082944267790744,
          0.02395788528484669,
          null,
          0.021082944267790744,
          0.014152094370218263,
          null,
          0.021082944267790744,
          0.006135460491715012,
          null,
          0.021082944267790744,
          0.01863948572544122,
          null,
          0.021082944267790744,
          -0.007368853264002389,
          null,
          0.021082944267790744,
          -0.024825924933807,
          null,
          0.021082944267790744,
          -0.020270624058809774,
          null,
          0.021082944267790744,
          -0.010976098487978689,
          null,
          0.021082944267790744,
          -0.009900173669675582,
          null,
          0.021082944267790744,
          0.04760680333386235,
          null,
          0.021082944267790744,
          0.06698917063142834,
          null,
          0.021082944267790744,
          0.06853324248171641,
          null,
          0.021082944267790744,
          -0.03295495068375101,
          null,
          0.021082944267790744,
          0.06877052120178258,
          null,
          0.021082944267790744,
          0.08543737557033595,
          null,
          0.021082944267790744,
          0.07426105735768147,
          null,
          0.021082944267790744,
          0.09595733175233562,
          null,
          0.014152094370218263,
          -0.007368853264002389,
          null,
          0.014152094370218263,
          -0.020270624058809774,
          null,
          0.014152094370218263,
          0.02395788528484669,
          null,
          0.014152094370218263,
          -0.024825924933807,
          null,
          0.014152094370218263,
          0.006135460491715012,
          null,
          0.014152094370218263,
          0.01863948572544122,
          null,
          0.014152094370218263,
          -0.009900173669675582,
          null,
          0.014152094370218263,
          -0.010976098487978689,
          null,
          0.014152094370218263,
          0.06698917063142834,
          null,
          0.014152094370218263,
          0.04760680333386235,
          null,
          0.014152094370218263,
          -0.03295495068375101,
          null,
          0.014152094370218263,
          0.06877052120178258,
          null,
          0.014152094370218263,
          0.07426105735768147,
          null,
          0.006135460491715012,
          -0.010976098487978689,
          null,
          0.006135460491715012,
          -0.009900173669675582,
          null,
          0.006135460491715012,
          0.02395788528484669,
          null,
          0.006135460491715012,
          -0.024825924933807,
          null,
          0.006135460491715012,
          0.01863948572544122,
          null,
          0.006135460491715012,
          -0.007368853264002389,
          null,
          0.006135460491715012,
          -0.020270624058809774,
          null,
          0.006135460491715012,
          0.06853324248171641,
          null,
          0.006135460491715012,
          0.04760680333386235,
          null,
          0.006135460491715012,
          -0.03295495068375101,
          null,
          0.006135460491715012,
          0.08543737557033595,
          null,
          0.006135460491715012,
          0.06877052120178258,
          null,
          0.02395788528484669,
          -0.007368853264002389,
          null,
          0.02395788528484669,
          -0.009900173669675582,
          null,
          0.02395788528484669,
          -0.024825924933807,
          null,
          0.02395788528484669,
          0.01863948572544122,
          null,
          0.02395788528484669,
          -0.010976098487978689,
          null,
          0.02395788528484669,
          -0.020270624058809774,
          null,
          0.02395788528484669,
          0.04760680333386235,
          null,
          0.02395788528484669,
          0.06698917063142834,
          null,
          0.02395788528484669,
          0.06853324248171641,
          null,
          0.02395788528484669,
          -0.03295495068375101,
          null,
          0.02395788528484669,
          0.08543737557033595,
          null,
          0.02395788528484669,
          0.06877052120178258,
          null,
          -0.024825924933807,
          -0.007368853264002389,
          null,
          -0.024825924933807,
          -0.009900173669675582,
          null,
          -0.024825924933807,
          -0.010976098487978689,
          null,
          -0.024825924933807,
          -0.020270624058809774,
          null,
          -0.024825924933807,
          0.01863948572544122,
          null,
          -0.024825924933807,
          -0.03295495068375101,
          null,
          -0.007368853264002389,
          0.01863948572544122,
          null,
          -0.007368853264002389,
          -0.020270624058809774,
          null,
          -0.007368853264002389,
          -0.010976098487978689,
          null,
          -0.007368853264002389,
          -0.009900173669675582,
          null,
          -0.007368853264002389,
          0.04760680333386235,
          null,
          -0.007368853264002389,
          0.06698917063142834,
          null,
          -0.007368853264002389,
          -0.03295495068375101,
          null,
          -0.020270624058809774,
          0.01863948572544122,
          null,
          -0.020270624058809774,
          0.06698917063142834,
          null,
          -0.020270624058809774,
          -0.009900173669675582,
          null,
          -0.020270624058809774,
          -0.010976098487978689,
          null,
          -0.020270624058809774,
          0.04760680333386235,
          null,
          -0.020270624058809774,
          -0.03295495068375101,
          null,
          -0.010976098487978689,
          0.01863948572544122,
          null,
          -0.010976098487978689,
          0.06853324248171641,
          null,
          -0.010976098487978689,
          -0.009900173669675582,
          null,
          -0.010976098487978689,
          0.04760680333386235,
          null,
          -0.010976098487978689,
          -0.03295495068375101,
          null,
          -0.009900173669675582,
          0.01863948572544122,
          null,
          -0.009900173669675582,
          0.04760680333386235,
          null,
          -0.009900173669675582,
          0.06853324248171641,
          null,
          -0.009900173669675582,
          -0.03295495068375101,
          null,
          0.01863948572544122,
          0.04760680333386235,
          null,
          0.01863948572544122,
          0.06698917063142834,
          null,
          0.01863948572544122,
          0.06853324248171641,
          null,
          0.01863948572544122,
          0.07426105735768147,
          null,
          0.01863948572544122,
          0.06877052120178258,
          null,
          0.01863948572544122,
          0.08543737557033595,
          null,
          0.01863948572544122,
          0.09595733175233562,
          null,
          0.01863948572544122,
          -0.03295495068375101,
          null,
          0.04760680333386235,
          0.06853324248171641,
          null,
          0.04760680333386235,
          0.06698917063142834,
          null,
          0.04760680333386235,
          0.07426105735768147,
          null,
          0.04760680333386235,
          0.06877052120178258,
          null,
          0.04760680333386235,
          0.08543737557033595,
          null,
          0.04760680333386235,
          0.09595733175233562,
          null,
          0.9619836725236782,
          0.9492238593518422,
          null,
          -0.6193788776279581,
          -0.6420865123169351,
          null,
          0.06853324248171641,
          0.07426105735768147,
          null,
          0.06853324248171641,
          0.08543737557033595,
          null,
          0.06853324248171641,
          0.06877052120178258,
          null,
          0.06853324248171641,
          0.09595733175233562,
          null,
          0.06853324248171641,
          0.06698917063142834,
          null,
          0.06698917063142834,
          0.07426105735768147,
          null,
          0.06698917063142834,
          0.06877052120178258,
          null,
          0.06698917063142834,
          0.08543737557033595,
          null,
          0.06698917063142834,
          0.09595733175233562,
          null,
          0.9121775980004742,
          0.8370228598092653,
          null,
          0.06877052120178258,
          0.09595733175233562,
          null,
          0.08543737557033595,
          0.09595733175233562,
          null,
          -0.13195928539812202,
          -0.03295495068375101,
          null,
          0.3425562569743287,
          0.32098917193969806,
          null,
          -0.6343681049582229,
          -0.6424137426645636,
          null,
          -0.6343681049582229,
          -0.5348542617917056,
          null,
          -0.6343681049582229,
          -0.5838218244096982,
          null,
          -0.6343681049582229,
          -0.6948689042206556,
          null,
          -0.6343681049582229,
          -0.7336917311616632,
          null,
          0.4997566959004347,
          0.4499444550161705,
          null,
          0.9920046709331847,
          0.9969284797732308,
          null
         ],
         "y": [
          0.9810410749883002,
          0.9219084107299993,
          null,
          -0.4330268864027645,
          -0.41810802902453725,
          null,
          -0.4330268864027645,
          -0.3903521426086394,
          null,
          -0.4330268864027645,
          -0.38158983606878677,
          null,
          -0.4330268864027645,
          -0.4034938490628702,
          null,
          -0.4330268864027645,
          -0.4639470591712973,
          null,
          -0.41810802902453725,
          -0.3903521426086394,
          null,
          -0.41810802902453725,
          -0.38158983606878677,
          null,
          -0.41810802902453725,
          -0.4034938490628702,
          null,
          -0.41810802902453725,
          -0.4639470591712973,
          null,
          -0.3903521426086394,
          -0.38158983606878677,
          null,
          -0.3903521426086394,
          -0.4034938490628702,
          null,
          -0.3903521426086394,
          -0.4639470591712973,
          null,
          -0.38158983606878677,
          -0.4034938490628702,
          null,
          -0.38158983606878677,
          -0.4639470591712973,
          null,
          0.013680178394850851,
          0.01060853954907385,
          null,
          0.013680178394850851,
          0.033296617581965664,
          null,
          0.013680178394850851,
          0.05040812067405629,
          null,
          0.013680178394850851,
          0.030950053917664942,
          null,
          0.013680178394850851,
          0.05544456323874458,
          null,
          0.013680178394850851,
          0.025927213425191113,
          null,
          0.013680178394850851,
          0.007754703055367104,
          null,
          0.013680178394850851,
          0.07839664919207061,
          null,
          0.013680178394850851,
          0.06096147515968698,
          null,
          0.013680178394850851,
          0.0762510658294252,
          null,
          0.013680178394850851,
          0.014140839833077186,
          null,
          0.013680178394850851,
          0.018669691135274866,
          null,
          0.013680178394850851,
          0.06376347455100868,
          null,
          0.013680178394850851,
          0.04602436372860766,
          null,
          0.013680178394850851,
          0.03490433310291857,
          null,
          0.013680178394850851,
          0.04280093882466604,
          null,
          0.013680178394850851,
          0.06919746759233579,
          null,
          0.013680178394850851,
          0.01895638865899185,
          null,
          0.013680178394850851,
          0.047115820220933836,
          null,
          0.013680178394850851,
          0.06552834675447475,
          null,
          0.013680178394850851,
          0.08177591404045326,
          null,
          0.013680178394850851,
          0.06342195224005483,
          null,
          0.013680178394850851,
          -0.004432906188186803,
          null,
          0.013680178394850851,
          0.033537508902859677,
          null,
          0.01060853954907385,
          0.033296617581965664,
          null,
          0.01060853954907385,
          0.05040812067405629,
          null,
          0.01060853954907385,
          0.030950053917664942,
          null,
          0.01060853954907385,
          0.05544456323874458,
          null,
          0.01060853954907385,
          0.025927213425191113,
          null,
          0.01060853954907385,
          0.007754703055367104,
          null,
          0.01060853954907385,
          0.07839664919207061,
          null,
          0.01060853954907385,
          0.06096147515968698,
          null,
          0.01060853954907385,
          0.0762510658294252,
          null,
          0.01060853954907385,
          0.014140839833077186,
          null,
          0.01060853954907385,
          0.018669691135274866,
          null,
          0.01060853954907385,
          0.06376347455100868,
          null,
          0.01060853954907385,
          0.04602436372860766,
          null,
          0.01060853954907385,
          0.03490433310291857,
          null,
          0.01060853954907385,
          0.04280093882466604,
          null,
          0.01060853954907385,
          0.06919746759233579,
          null,
          0.01060853954907385,
          0.01895638865899185,
          null,
          0.01060853954907385,
          0.047115820220933836,
          null,
          0.01060853954907385,
          0.06552834675447475,
          null,
          0.01060853954907385,
          0.08177591404045326,
          null,
          0.01060853954907385,
          0.06342195224005483,
          null,
          0.01060853954907385,
          -0.004432906188186803,
          null,
          0.01060853954907385,
          0.033537508902859677,
          null,
          -0.4034938490628702,
          -0.4639470591712973,
          null,
          0.033296617581965664,
          0.05544456323874458,
          null,
          0.033296617581965664,
          0.007754703055367104,
          null,
          0.033296617581965664,
          0.030950053917664942,
          null,
          0.033296617581965664,
          0.05040812067405629,
          null,
          0.033296617581965664,
          0.025927213425191113,
          null,
          0.033296617581965664,
          0.07839664919207061,
          null,
          0.033296617581965664,
          0.06096147515968698,
          null,
          0.033296617581965664,
          0.0762510658294252,
          null,
          0.033296617581965664,
          0.014140839833077186,
          null,
          0.033296617581965664,
          0.018669691135274866,
          null,
          0.033296617581965664,
          0.06376347455100868,
          null,
          0.033296617581965664,
          0.04602436372860766,
          null,
          0.033296617581965664,
          0.03490433310291857,
          null,
          0.033296617581965664,
          0.04280093882466604,
          null,
          0.033296617581965664,
          0.06919746759233579,
          null,
          0.033296617581965664,
          0.01895638865899185,
          null,
          0.033296617581965664,
          0.047115820220933836,
          null,
          0.033296617581965664,
          0.06552834675447475,
          null,
          0.033296617581965664,
          0.08177591404045326,
          null,
          0.033296617581965664,
          -0.004432906188186803,
          null,
          0.033296617581965664,
          0.06342195224005483,
          null,
          0.033296617581965664,
          0.033537508902859677,
          null,
          0.05544456323874458,
          0.05040812067405629,
          null,
          0.05544456323874458,
          0.030950053917664942,
          null,
          0.05544456323874458,
          0.025927213425191113,
          null,
          0.05544456323874458,
          0.07839664919207061,
          null,
          0.05544456323874458,
          0.06096147515968698,
          null,
          0.05544456323874458,
          0.0762510658294252,
          null,
          0.05544456323874458,
          0.007754703055367104,
          null,
          0.05544456323874458,
          0.014140839833077186,
          null,
          0.05544456323874458,
          0.018669691135274866,
          null,
          0.05544456323874458,
          0.06376347455100868,
          null,
          0.05544456323874458,
          0.04602436372860766,
          null,
          0.05544456323874458,
          0.03490433310291857,
          null,
          0.05544456323874458,
          0.04280093882466604,
          null,
          0.05544456323874458,
          0.06919746759233579,
          null,
          0.05544456323874458,
          0.01895638865899185,
          null,
          0.05544456323874458,
          0.047115820220933836,
          null,
          0.05544456323874458,
          0.06552834675447475,
          null,
          0.05544456323874458,
          0.08177591404045326,
          null,
          0.05544456323874458,
          -0.004432906188186803,
          null,
          0.05544456323874458,
          0.06342195224005483,
          null,
          0.05544456323874458,
          0.033537508902859677,
          null,
          0.05040812067405629,
          0.0762510658294252,
          null,
          0.05040812067405629,
          0.07839664919207061,
          null,
          0.05040812067405629,
          0.025927213425191113,
          null,
          0.05040812067405629,
          0.030950053917664942,
          null,
          0.05040812067405629,
          0.007754703055367104,
          null,
          0.05040812067405629,
          0.06096147515968698,
          null,
          0.05040812067405629,
          0.014140839833077186,
          null,
          0.05040812067405629,
          0.018669691135274866,
          null,
          0.05040812067405629,
          0.06376347455100868,
          null,
          0.05040812067405629,
          0.04602436372860766,
          null,
          0.05040812067405629,
          0.04280093882466604,
          null,
          0.05040812067405629,
          0.03490433310291857,
          null,
          0.05040812067405629,
          0.06919746759233579,
          null,
          0.05040812067405629,
          0.047115820220933836,
          null,
          0.05040812067405629,
          0.06552834675447475,
          null,
          0.05040812067405629,
          0.01895638865899185,
          null,
          0.05040812067405629,
          0.06342195224005483,
          null,
          0.05040812067405629,
          0.08177591404045326,
          null,
          0.05040812067405629,
          -0.004432906188186803,
          null,
          0.05040812067405629,
          0.033537508902859677,
          null,
          0.030950053917664942,
          0.06096147515968698,
          null,
          0.030950053917664942,
          0.07839664919207061,
          null,
          0.030950053917664942,
          0.025927213425191113,
          null,
          0.030950053917664942,
          0.007754703055367104,
          null,
          0.030950053917664942,
          0.0762510658294252,
          null,
          0.030950053917664942,
          0.014140839833077186,
          null,
          0.030950053917664942,
          0.018669691135274866,
          null,
          0.030950053917664942,
          0.03490433310291857,
          null,
          0.030950053917664942,
          0.04602436372860766,
          null,
          0.030950053917664942,
          0.04280093882466604,
          null,
          0.030950053917664942,
          0.06376347455100868,
          null,
          0.030950053917664942,
          0.06919746759233579,
          null,
          0.030950053917664942,
          0.01895638865899185,
          null,
          0.030950053917664942,
          0.06552834675447475,
          null,
          0.030950053917664942,
          0.047115820220933836,
          null,
          0.030950053917664942,
          0.08177591404045326,
          null,
          0.030950053917664942,
          -0.004432906188186803,
          null,
          0.030950053917664942,
          0.06342195224005483,
          null,
          0.030950053917664942,
          0.033537508902859677,
          null,
          0.007754703055367104,
          0.07839664919207061,
          null,
          0.007754703055367104,
          0.06096147515968698,
          null,
          0.007754703055367104,
          0.0762510658294252,
          null,
          0.007754703055367104,
          0.025927213425191113,
          null,
          0.007754703055367104,
          0.014140839833077186,
          null,
          0.007754703055367104,
          0.018669691135274866,
          null,
          0.007754703055367104,
          0.04602436372860766,
          null,
          0.007754703055367104,
          0.03490433310291857,
          null,
          0.007754703055367104,
          0.06376347455100868,
          null,
          0.007754703055367104,
          0.04280093882466604,
          null,
          0.007754703055367104,
          0.06919746759233579,
          null,
          0.007754703055367104,
          0.06552834675447475,
          null,
          0.007754703055367104,
          0.01895638865899185,
          null,
          0.007754703055367104,
          0.047115820220933836,
          null,
          0.025927213425191113,
          0.07839664919207061,
          null,
          0.025927213425191113,
          0.06096147515968698,
          null,
          0.025927213425191113,
          0.0762510658294252,
          null,
          0.025927213425191113,
          0.04280093882466604,
          null,
          0.025927213425191113,
          0.018669691135274866,
          null,
          0.025927213425191113,
          0.014140839833077186,
          null,
          0.025927213425191113,
          0.03490433310291857,
          null,
          0.025927213425191113,
          0.06376347455100868,
          null,
          0.025927213425191113,
          0.04602436372860766,
          null,
          0.025927213425191113,
          0.06919746759233579,
          null,
          0.025927213425191113,
          0.01895638865899185,
          null,
          0.025927213425191113,
          0.047115820220933836,
          null,
          0.025927213425191113,
          0.06552834675447475,
          null,
          0.025927213425191113,
          0.08177591404045326,
          null,
          0.025927213425191113,
          0.06342195224005483,
          null,
          0.025927213425191113,
          -0.004432906188186803,
          null,
          0.025927213425191113,
          0.033537508902859677,
          null,
          0.06096147515968698,
          0.018669691135274866,
          null,
          0.06096147515968698,
          0.03490433310291857,
          null,
          0.06096147515968698,
          0.07839664919207061,
          null,
          0.06096147515968698,
          0.014140839833077186,
          null,
          0.06096147515968698,
          0.0762510658294252,
          null,
          0.06096147515968698,
          0.04280093882466604,
          null,
          0.06096147515968698,
          0.04602436372860766,
          null,
          0.06096147515968698,
          0.06376347455100868,
          null,
          0.06096147515968698,
          0.01895638865899185,
          null,
          0.06096147515968698,
          0.06919746759233579,
          null,
          0.06096147515968698,
          0.06552834675447475,
          null,
          0.06096147515968698,
          0.08177591404045326,
          null,
          0.06096147515968698,
          -0.004432906188186803,
          null,
          0.0762510658294252,
          0.06376347455100868,
          null,
          0.0762510658294252,
          0.04602436372860766,
          null,
          0.0762510658294252,
          0.07839664919207061,
          null,
          0.0762510658294252,
          0.014140839833077186,
          null,
          0.0762510658294252,
          0.04280093882466604,
          null,
          0.0762510658294252,
          0.018669691135274866,
          null,
          0.0762510658294252,
          0.03490433310291857,
          null,
          0.0762510658294252,
          0.047115820220933836,
          null,
          0.0762510658294252,
          0.06919746759233579,
          null,
          0.0762510658294252,
          0.06552834675447475,
          null,
          0.0762510658294252,
          0.06342195224005483,
          null,
          0.0762510658294252,
          0.08177591404045326,
          null,
          0.07839664919207061,
          0.018669691135274866,
          null,
          0.07839664919207061,
          0.04602436372860766,
          null,
          0.07839664919207061,
          0.014140839833077186,
          null,
          0.07839664919207061,
          0.04280093882466604,
          null,
          0.07839664919207061,
          0.06376347455100868,
          null,
          0.07839664919207061,
          0.03490433310291857,
          null,
          0.07839664919207061,
          0.06919746759233579,
          null,
          0.07839664919207061,
          0.01895638865899185,
          null,
          0.07839664919207061,
          0.047115820220933836,
          null,
          0.07839664919207061,
          0.06552834675447475,
          null,
          0.07839664919207061,
          0.06342195224005483,
          null,
          0.07839664919207061,
          0.08177591404045326,
          null,
          0.014140839833077186,
          0.018669691135274866,
          null,
          0.014140839833077186,
          0.04602436372860766,
          null,
          0.014140839833077186,
          0.06376347455100868,
          null,
          0.014140839833077186,
          0.03490433310291857,
          null,
          0.014140839833077186,
          0.04280093882466604,
          null,
          0.014140839833077186,
          0.06552834675447475,
          null,
          0.018669691135274866,
          0.04280093882466604,
          null,
          0.018669691135274866,
          0.03490433310291857,
          null,
          0.018669691135274866,
          0.06376347455100868,
          null,
          0.018669691135274866,
          0.04602436372860766,
          null,
          0.018669691135274866,
          0.06919746759233579,
          null,
          0.018669691135274866,
          0.01895638865899185,
          null,
          0.018669691135274866,
          0.06552834675447475,
          null,
          0.03490433310291857,
          0.04280093882466604,
          null,
          0.03490433310291857,
          0.01895638865899185,
          null,
          0.03490433310291857,
          0.04602436372860766,
          null,
          0.03490433310291857,
          0.06376347455100868,
          null,
          0.03490433310291857,
          0.06919746759233579,
          null,
          0.03490433310291857,
          0.06552834675447475,
          null,
          0.06376347455100868,
          0.04280093882466604,
          null,
          0.06376347455100868,
          0.047115820220933836,
          null,
          0.06376347455100868,
          0.04602436372860766,
          null,
          0.06376347455100868,
          0.06919746759233579,
          null,
          0.06376347455100868,
          0.06552834675447475,
          null,
          0.04602436372860766,
          0.04280093882466604,
          null,
          0.04602436372860766,
          0.06919746759233579,
          null,
          0.04602436372860766,
          0.047115820220933836,
          null,
          0.04602436372860766,
          0.06552834675447475,
          null,
          0.04280093882466604,
          0.06919746759233579,
          null,
          0.04280093882466604,
          0.01895638865899185,
          null,
          0.04280093882466604,
          0.047115820220933836,
          null,
          0.04280093882466604,
          -0.004432906188186803,
          null,
          0.04280093882466604,
          0.08177591404045326,
          null,
          0.04280093882466604,
          0.06342195224005483,
          null,
          0.04280093882466604,
          0.033537508902859677,
          null,
          0.04280093882466604,
          0.06552834675447475,
          null,
          0.06919746759233579,
          0.047115820220933836,
          null,
          0.06919746759233579,
          0.01895638865899185,
          null,
          0.06919746759233579,
          -0.004432906188186803,
          null,
          0.06919746759233579,
          0.08177591404045326,
          null,
          0.06919746759233579,
          0.06342195224005483,
          null,
          0.06919746759233579,
          0.033537508902859677,
          null,
          0.5876103008020401,
          0.63665211587886,
          null,
          0.6290752690628332,
          0.5833895643359863,
          null,
          0.047115820220933836,
          -0.004432906188186803,
          null,
          0.047115820220933836,
          0.06342195224005483,
          null,
          0.047115820220933836,
          0.08177591404045326,
          null,
          0.047115820220933836,
          0.033537508902859677,
          null,
          0.047115820220933836,
          0.01895638865899185,
          null,
          0.01895638865899185,
          -0.004432906188186803,
          null,
          0.01895638865899185,
          0.08177591404045326,
          null,
          0.01895638865899185,
          0.06342195224005483,
          null,
          0.01895638865899185,
          0.033537508902859677,
          null,
          0.1948675224665302,
          0.18522118543134217,
          null,
          0.08177591404045326,
          0.033537508902859677,
          null,
          0.06342195224005483,
          0.033537508902859677,
          null,
          0.14862161374722194,
          0.06552834675447475,
          null,
          -1,
          -0.9485669384839048,
          null,
          -0.4639470591712973,
          -0.563330666598342,
          null,
          -0.4639470591712973,
          -0.43893244458395325,
          null,
          -0.4639470591712973,
          -0.5379495604270208,
          null,
          -0.4639470591712973,
          -0.5494718866795691,
          null,
          -0.4639470591712973,
          -0.5102372246274174,
          null,
          0.7581079029645656,
          0.7488298802195886,
          null,
          -0.1624920057489184,
          -0.21290962455481252,
          null
         ]
        },
        {
         "hoverinfo": "text",
         "hovertext": [
          "active_usage_months<br>Correlations:<br>zero_usage_months: 1.00",
          "zero_usage_months<br>Correlations:<br>active_usage_months: 1.00",
          "avg_delta_3mo<br>Correlations:<br>max_delta_3mo_increase: 1.00<br>max_delta_3mo_decrease: 1.00<br>last_1_delta_3mo: 1.00<br>avg_delta_1mo: 1.00<br>avg_delta_2mo: 0.71",
          "max_delta_3mo_increase<br>Correlations:<br>avg_delta_3mo: 1.00<br>max_delta_3mo_decrease: 1.00<br>last_1_delta_3mo: 1.00<br>avg_delta_1mo: 1.00<br>avg_delta_2mo: 0.71",
          "max_delta_3mo_decrease<br>Correlations:<br>avg_delta_3mo: 1.00<br>max_delta_3mo_increase: 1.00<br>last_1_delta_3mo: 1.00<br>avg_delta_1mo: 1.00<br>avg_delta_2mo: 0.71",
          "last_1_delta_3mo<br>Correlations:<br>avg_delta_3mo: 1.00<br>max_delta_3mo_increase: 1.00<br>max_delta_3mo_decrease: 1.00<br>avg_delta_1mo: 1.00<br>avg_delta_2mo: 0.71",
          "avg_monthly_usage_gb<br>Correlations:<br>total_usage_gb: 1.00<br>median_monthly_usage_gb: 0.99<br>last_2_3mo_rolling_avg: 0.99<br>last_1_3mo_rolling_avg: 0.99<br>usage_q75_gb: 0.99<br>max_monthly_usage_gb: 0.99<br>usage_q25_gb: 0.98<br>last_2_2mo_rolling_avg: 0.97<br>last_1_2mo_rolling_avg: 0.97<br>last_3_2mo_rolling_avg: 0.97<br>min_monthly_usage_gb: 0.95<br>last_3_month_usage_gb: 0.93<br>last_1_month_usage_gb: 0.93<br>last_2_month_usage_gb: 0.93<br>last_4_month_usage_gb: 0.93<br>usage_std_gb: 0.89<br>delta_1mo_volatility: 0.83<br>max_delta_1mo_increase: 0.77<br>max_delta_1mo_decrease: 0.77<br>contract_lifetime_days: 0.76<br>last_3_2mo_rolling_stdev: 0.72<br>last_1_2mo_rolling_stdev: 0.72<br>last_2_2mo_rolling_stdev: 0.72<br>delta_2mo_volatility: 0.71",
          "total_usage_gb<br>Correlations:<br>avg_monthly_usage_gb: 1.00<br>median_monthly_usage_gb: 0.99<br>last_2_3mo_rolling_avg: 0.99<br>last_1_3mo_rolling_avg: 0.99<br>usage_q75_gb: 0.99<br>max_monthly_usage_gb: 0.99<br>usage_q25_gb: 0.98<br>last_2_2mo_rolling_avg: 0.97<br>last_1_2mo_rolling_avg: 0.97<br>last_3_2mo_rolling_avg: 0.97<br>min_monthly_usage_gb: 0.95<br>last_3_month_usage_gb: 0.93<br>last_1_month_usage_gb: 0.93<br>last_2_month_usage_gb: 0.93<br>last_4_month_usage_gb: 0.93<br>usage_std_gb: 0.89<br>delta_1mo_volatility: 0.83<br>max_delta_1mo_increase: 0.77<br>max_delta_1mo_decrease: 0.77<br>contract_lifetime_days: 0.76<br>last_3_2mo_rolling_stdev: 0.72<br>last_1_2mo_rolling_stdev: 0.72<br>last_2_2mo_rolling_stdev: 0.72<br>delta_2mo_volatility: 0.71",
          "avg_delta_1mo<br>Correlations:<br>avg_delta_3mo: 1.00<br>max_delta_3mo_increase: 1.00<br>max_delta_3mo_decrease: 1.00<br>last_1_delta_3mo: 1.00<br>avg_delta_2mo: 0.71",
          "median_monthly_usage_gb<br>Correlations:<br>avg_monthly_usage_gb: 0.99<br>total_usage_gb: 0.99<br>usage_q75_gb: 0.99<br>usage_q25_gb: 0.99<br>last_1_3mo_rolling_avg: 0.99<br>last_2_3mo_rolling_avg: 0.99<br>max_monthly_usage_gb: 0.97<br>last_2_2mo_rolling_avg: 0.97<br>last_1_2mo_rolling_avg: 0.97<br>last_3_2mo_rolling_avg: 0.97<br>min_monthly_usage_gb: 0.94<br>last_3_month_usage_gb: 0.92<br>last_1_month_usage_gb: 0.92<br>last_2_month_usage_gb: 0.92<br>last_4_month_usage_gb: 0.92<br>usage_std_gb: 0.88<br>delta_1mo_volatility: 0.82<br>max_delta_1mo_increase: 0.76<br>max_delta_1mo_decrease: 0.76<br>contract_lifetime_days: 0.75<br>last_3_2mo_rolling_stdev: 0.71<br>last_2_2mo_rolling_stdev: 0.71<br>last_1_2mo_rolling_stdev: 0.71<br>delta_2mo_volatility: 0.70",
          "usage_q75_gb<br>Correlations:<br>median_monthly_usage_gb: 0.99<br>total_usage_gb: 0.99<br>avg_monthly_usage_gb: 0.99<br>last_2_3mo_rolling_avg: 0.98<br>last_1_3mo_rolling_avg: 0.98<br>max_monthly_usage_gb: 0.97<br>last_2_2mo_rolling_avg: 0.96<br>last_1_2mo_rolling_avg: 0.96<br>last_3_2mo_rolling_avg: 0.96<br>usage_q25_gb: 0.96<br>min_monthly_usage_gb: 0.92<br>last_3_month_usage_gb: 0.92<br>last_1_month_usage_gb: 0.92<br>last_2_month_usage_gb: 0.92<br>last_4_month_usage_gb: 0.92<br>usage_std_gb: 0.90<br>delta_1mo_volatility: 0.85<br>max_delta_1mo_increase: 0.78<br>max_delta_1mo_decrease: 0.78<br>contract_lifetime_days: 0.75<br>last_3_2mo_rolling_stdev: 0.73<br>last_2_2mo_rolling_stdev: 0.73<br>last_1_2mo_rolling_stdev: 0.73<br>delta_2mo_volatility: 0.71",
          "last_2_3mo_rolling_avg<br>Correlations:<br>avg_monthly_usage_gb: 0.99<br>total_usage_gb: 0.99<br>median_monthly_usage_gb: 0.99<br>last_3_2mo_rolling_avg: 0.98<br>last_2_2mo_rolling_avg: 0.98<br>usage_q75_gb: 0.98<br>max_monthly_usage_gb: 0.98<br>last_1_3mo_rolling_avg: 0.98<br>usage_q25_gb: 0.97<br>last_1_2mo_rolling_avg: 0.95<br>min_monthly_usage_gb: 0.95<br>last_3_month_usage_gb: 0.94<br>last_1_month_usage_gb: 0.94<br>last_2_month_usage_gb: 0.94<br>usage_std_gb: 0.88<br>last_4_month_usage_gb: 0.87<br>delta_1mo_volatility: 0.83<br>max_delta_1mo_decrease: 0.80<br>contract_lifetime_days: 0.76<br>max_delta_1mo_increase: 0.73<br>last_1_2mo_rolling_stdev: 0.71<br>last_3_2mo_rolling_stdev: 0.71<br>last_2_2mo_rolling_stdev: 0.71<br>delta_2mo_volatility: 0.71",
          "last_1_3mo_rolling_avg<br>Correlations:<br>total_usage_gb: 0.99<br>avg_monthly_usage_gb: 0.99<br>median_monthly_usage_gb: 0.99<br>last_1_2mo_rolling_avg: 0.98<br>last_2_2mo_rolling_avg: 0.98<br>usage_q75_gb: 0.98<br>max_monthly_usage_gb: 0.98<br>last_2_3mo_rolling_avg: 0.98<br>usage_q25_gb: 0.97<br>last_3_2mo_rolling_avg: 0.95<br>min_monthly_usage_gb: 0.95<br>last_3_month_usage_gb: 0.94<br>last_4_month_usage_gb: 0.94<br>last_2_month_usage_gb: 0.93<br>usage_std_gb: 0.88<br>last_1_month_usage_gb: 0.87<br>delta_1mo_volatility: 0.83<br>max_delta_1mo_increase: 0.80<br>contract_lifetime_days: 0.76<br>max_delta_1mo_decrease: 0.73<br>last_3_2mo_rolling_stdev: 0.71<br>last_2_2mo_rolling_stdev: 0.71<br>last_1_2mo_rolling_stdev: 0.71<br>delta_2mo_volatility: 0.71",
          "usage_q25_gb<br>Correlations:<br>median_monthly_usage_gb: 0.99<br>avg_monthly_usage_gb: 0.98<br>total_usage_gb: 0.98<br>last_1_3mo_rolling_avg: 0.97<br>last_2_3mo_rolling_avg: 0.97<br>usage_q75_gb: 0.96<br>last_2_2mo_rolling_avg: 0.96<br>last_1_2mo_rolling_avg: 0.95<br>last_3_2mo_rolling_avg: 0.95<br>max_monthly_usage_gb: 0.94<br>min_monthly_usage_gb: 0.94<br>last_3_month_usage_gb: 0.91<br>last_2_month_usage_gb: 0.91<br>last_4_month_usage_gb: 0.91<br>last_1_month_usage_gb: 0.91<br>usage_std_gb: 0.82<br>delta_1mo_volatility: 0.77<br>contract_lifetime_days: 0.73<br>max_delta_1mo_increase: 0.71<br>max_delta_1mo_decrease: 0.71",
          "max_monthly_usage_gb<br>Correlations:<br>total_usage_gb: 0.99<br>avg_monthly_usage_gb: 0.99<br>last_1_3mo_rolling_avg: 0.98<br>last_2_3mo_rolling_avg: 0.98<br>usage_q75_gb: 0.97<br>median_monthly_usage_gb: 0.97<br>last_2_2mo_rolling_avg: 0.96<br>last_1_2mo_rolling_avg: 0.96<br>last_3_2mo_rolling_avg: 0.96<br>usage_q25_gb: 0.94<br>usage_std_gb: 0.94<br>last_3_month_usage_gb: 0.91<br>min_monthly_usage_gb: 0.91<br>last_4_month_usage_gb: 0.91<br>last_1_month_usage_gb: 0.91<br>last_2_month_usage_gb: 0.91<br>delta_1mo_volatility: 0.89<br>max_delta_1mo_increase: 0.82<br>max_delta_1mo_decrease: 0.82<br>contract_lifetime_days: 0.77<br>last_3_2mo_rolling_stdev: 0.76<br>last_1_2mo_rolling_stdev: 0.76<br>last_2_2mo_rolling_stdev: 0.76<br>delta_2mo_volatility: 0.76",
          "last_1_2mo_rolling_avg<br>Correlations:<br>last_1_3mo_rolling_avg: 0.98<br>total_usage_gb: 0.97<br>avg_monthly_usage_gb: 0.97<br>median_monthly_usage_gb: 0.97<br>usage_q75_gb: 0.96<br>max_monthly_usage_gb: 0.96<br>usage_q25_gb: 0.95<br>last_3_month_usage_gb: 0.95<br>last_4_month_usage_gb: 0.95<br>last_2_2mo_rolling_avg: 0.95<br>last_2_3mo_rolling_avg: 0.95<br>min_monthly_usage_gb: 0.93<br>last_3_2mo_rolling_avg: 0.90<br>usage_std_gb: 0.87<br>last_2_month_usage_gb: 0.85<br>last_1_month_usage_gb: 0.85<br>max_delta_1mo_increase: 0.81<br>delta_1mo_volatility: 0.81<br>contract_lifetime_days: 0.74<br>last_3_2mo_rolling_stdev: 0.70<br>last_2_2mo_rolling_stdev: 0.70",
          "last_3_2mo_rolling_avg<br>Correlations:<br>last_2_3mo_rolling_avg: 0.98<br>avg_monthly_usage_gb: 0.97<br>total_usage_gb: 0.97<br>median_monthly_usage_gb: 0.97<br>usage_q75_gb: 0.96<br>max_monthly_usage_gb: 0.96<br>usage_q25_gb: 0.95<br>last_1_month_usage_gb: 0.95<br>last_2_month_usage_gb: 0.95<br>last_2_2mo_rolling_avg: 0.95<br>last_1_3mo_rolling_avg: 0.95<br>min_monthly_usage_gb: 0.93<br>last_1_2mo_rolling_avg: 0.90<br>usage_std_gb: 0.87<br>last_3_month_usage_gb: 0.85<br>last_4_month_usage_gb: 0.85<br>max_delta_1mo_decrease: 0.81<br>delta_1mo_volatility: 0.81<br>contract_lifetime_days: 0.74<br>last_1_2mo_rolling_stdev: 0.70<br>last_3_2mo_rolling_stdev: 0.70",
          "last_2_2mo_rolling_avg<br>Correlations:<br>last_1_3mo_rolling_avg: 0.98<br>last_2_3mo_rolling_avg: 0.98<br>avg_monthly_usage_gb: 0.97<br>total_usage_gb: 0.97<br>median_monthly_usage_gb: 0.97<br>usage_q75_gb: 0.96<br>max_monthly_usage_gb: 0.96<br>usage_q25_gb: 0.96<br>last_3_month_usage_gb: 0.95<br>last_2_month_usage_gb: 0.95<br>last_3_2mo_rolling_avg: 0.95<br>last_1_2mo_rolling_avg: 0.95<br>min_monthly_usage_gb: 0.93<br>usage_std_gb: 0.87<br>last_1_month_usage_gb: 0.85<br>last_4_month_usage_gb: 0.85<br>delta_1mo_volatility: 0.81<br>max_delta_1mo_increase: 0.75<br>max_delta_1mo_decrease: 0.75<br>contract_lifetime_days: 0.74<br>last_1_2mo_rolling_stdev: 0.70<br>last_3_2mo_rolling_stdev: 0.70",
          "min_monthly_usage_gb<br>Correlations:<br>avg_monthly_usage_gb: 0.95<br>total_usage_gb: 0.95<br>last_2_3mo_rolling_avg: 0.95<br>last_1_3mo_rolling_avg: 0.95<br>usage_q25_gb: 0.94<br>median_monthly_usage_gb: 0.94<br>last_2_2mo_rolling_avg: 0.93<br>last_3_2mo_rolling_avg: 0.93<br>last_1_2mo_rolling_avg: 0.93<br>usage_q75_gb: 0.92<br>max_monthly_usage_gb: 0.91<br>last_3_month_usage_gb: 0.89<br>last_2_month_usage_gb: 0.88<br>last_1_month_usage_gb: 0.88<br>last_4_month_usage_gb: 0.88<br>usage_std_gb: 0.74<br>contract_lifetime_days: 0.71",
          "last_3_month_usage_gb<br>Correlations:<br>last_1_2mo_rolling_avg: 0.95<br>last_2_2mo_rolling_avg: 0.95<br>last_1_3mo_rolling_avg: 0.94<br>last_2_3mo_rolling_avg: 0.94<br>total_usage_gb: 0.93<br>avg_monthly_usage_gb: 0.93<br>median_monthly_usage_gb: 0.92<br>usage_q75_gb: 0.92<br>max_monthly_usage_gb: 0.91<br>usage_q25_gb: 0.91<br>min_monthly_usage_gb: 0.89<br>last_3_2mo_rolling_avg: 0.85<br>usage_std_gb: 0.82<br>last_4_month_usage_gb: 0.81<br>last_1_month_usage_gb: 0.81<br>last_2_month_usage_gb: 0.81<br>delta_1mo_volatility: 0.77<br>max_delta_1mo_increase: 0.74<br>contract_lifetime_days: 0.71",
          "last_4_month_usage_gb<br>Correlations:<br>last_1_2mo_rolling_avg: 0.95<br>last_1_3mo_rolling_avg: 0.94<br>total_usage_gb: 0.93<br>avg_monthly_usage_gb: 0.93<br>median_monthly_usage_gb: 0.92<br>usage_q75_gb: 0.92<br>max_monthly_usage_gb: 0.91<br>usage_q25_gb: 0.91<br>min_monthly_usage_gb: 0.88<br>last_2_3mo_rolling_avg: 0.87<br>last_2_2mo_rolling_avg: 0.85<br>last_3_2mo_rolling_avg: 0.85<br>usage_std_gb: 0.83<br>max_delta_1mo_increase: 0.81<br>last_3_month_usage_gb: 0.81<br>last_2_month_usage_gb: 0.81<br>last_1_month_usage_gb: 0.81<br>delta_1mo_volatility: 0.77<br>contract_lifetime_days: 0.71",
          "last_1_month_usage_gb<br>Correlations:<br>last_3_2mo_rolling_avg: 0.95<br>last_2_3mo_rolling_avg: 0.94<br>total_usage_gb: 0.93<br>avg_monthly_usage_gb: 0.93<br>median_monthly_usage_gb: 0.92<br>usage_q75_gb: 0.92<br>max_monthly_usage_gb: 0.91<br>usage_q25_gb: 0.91<br>min_monthly_usage_gb: 0.88<br>last_1_3mo_rolling_avg: 0.87<br>last_2_2mo_rolling_avg: 0.85<br>last_1_2mo_rolling_avg: 0.85<br>usage_std_gb: 0.82<br>max_delta_1mo_decrease: 0.81<br>last_3_month_usage_gb: 0.81<br>last_2_month_usage_gb: 0.81<br>last_4_month_usage_gb: 0.81<br>delta_1mo_volatility: 0.77<br>contract_lifetime_days: 0.71",
          "last_2_month_usage_gb<br>Correlations:<br>last_2_2mo_rolling_avg: 0.95<br>last_3_2mo_rolling_avg: 0.95<br>last_2_3mo_rolling_avg: 0.94<br>last_1_3mo_rolling_avg: 0.93<br>avg_monthly_usage_gb: 0.93<br>total_usage_gb: 0.93<br>median_monthly_usage_gb: 0.92<br>usage_q75_gb: 0.92<br>max_monthly_usage_gb: 0.91<br>usage_q25_gb: 0.91<br>min_monthly_usage_gb: 0.88<br>last_1_2mo_rolling_avg: 0.85<br>usage_std_gb: 0.82<br>last_3_month_usage_gb: 0.81<br>last_1_month_usage_gb: 0.81<br>last_4_month_usage_gb: 0.81<br>delta_1mo_volatility: 0.77<br>max_delta_1mo_decrease: 0.73<br>contract_lifetime_days: 0.71",
          "usage_std_gb<br>Correlations:<br>max_monthly_usage_gb: 0.94<br>delta_1mo_volatility: 0.94<br>usage_q75_gb: 0.90<br>total_usage_gb: 0.89<br>avg_monthly_usage_gb: 0.89<br>last_1_3mo_rolling_avg: 0.88<br>last_2_3mo_rolling_avg: 0.88<br>median_monthly_usage_gb: 0.88<br>max_delta_1mo_increase: 0.87<br>last_1_2mo_rolling_avg: 0.87<br>last_2_2mo_rolling_avg: 0.87<br>last_3_2mo_rolling_avg: 0.87<br>max_delta_1mo_decrease: 0.87<br>last_4_month_usage_gb: 0.83<br>last_3_month_usage_gb: 0.82<br>last_1_month_usage_gb: 0.82<br>last_2_month_usage_gb: 0.82<br>usage_q25_gb: 0.82<br>last_2_2mo_rolling_stdev: 0.81<br>last_3_2mo_rolling_stdev: 0.81<br>last_1_2mo_rolling_stdev: 0.81<br>delta_2mo_volatility: 0.79<br>min_monthly_usage_gb: 0.74<br>contract_lifetime_days: 0.73",
          "delta_1mo_volatility<br>Correlations:<br>usage_std_gb: 0.94<br>max_delta_1mo_decrease: 0.92<br>max_delta_1mo_increase: 0.92<br>max_monthly_usage_gb: 0.89<br>last_2_2mo_rolling_stdev: 0.85<br>usage_q75_gb: 0.85<br>total_usage_gb: 0.83<br>avg_monthly_usage_gb: 0.83<br>last_3_2mo_rolling_stdev: 0.83<br>last_1_2mo_rolling_stdev: 0.83<br>last_2_3mo_rolling_avg: 0.83<br>last_1_3mo_rolling_avg: 0.83<br>median_monthly_usage_gb: 0.82<br>last_3_2mo_rolling_avg: 0.81<br>last_1_2mo_rolling_avg: 0.81<br>last_2_2mo_rolling_avg: 0.81<br>delta_2mo_volatility: 0.79<br>last_1_month_usage_gb: 0.77<br>last_4_month_usage_gb: 0.77<br>last_3_month_usage_gb: 0.77<br>last_2_month_usage_gb: 0.77<br>usage_q25_gb: 0.77",
          "months_with_delta_3mo_decrease<br>Correlations:<br>months_with_delta_3mo_increase: 0.94",
          "months_with_delta_3mo_increase<br>Correlations:<br>months_with_delta_3mo_decrease: 0.94",
          "months_with_delta_2mo_decrease<br>Correlations:<br>months_with_delta_2mo_increase: 0.93",
          "months_with_delta_2mo_increase<br>Correlations:<br>months_with_delta_2mo_decrease: 0.93",
          "max_delta_1mo_decrease<br>Correlations:<br>delta_1mo_volatility: 0.92<br>usage_std_gb: 0.87<br>max_monthly_usage_gb: 0.82<br>last_1_month_usage_gb: 0.81<br>last_3_2mo_rolling_avg: 0.81<br>last_2_3mo_rolling_avg: 0.80<br>last_2_2mo_rolling_stdev: 0.79<br>usage_q75_gb: 0.78<br>total_usage_gb: 0.77<br>avg_monthly_usage_gb: 0.77<br>last_1_2mo_rolling_stdev: 0.77<br>last_3_2mo_rolling_stdev: 0.77<br>median_monthly_usage_gb: 0.76<br>last_2_2mo_rolling_avg: 0.75<br>delta_2mo_volatility: 0.74<br>last_2_month_usage_gb: 0.73<br>last_1_3mo_rolling_avg: 0.73<br>usage_q25_gb: 0.71<br>max_delta_1mo_increase: 0.71",
          "max_delta_1mo_increase<br>Correlations:<br>delta_1mo_volatility: 0.92<br>usage_std_gb: 0.87<br>max_monthly_usage_gb: 0.82<br>last_4_month_usage_gb: 0.81<br>last_1_2mo_rolling_avg: 0.81<br>last_1_3mo_rolling_avg: 0.80<br>last_2_2mo_rolling_stdev: 0.79<br>usage_q75_gb: 0.78<br>total_usage_gb: 0.77<br>avg_monthly_usage_gb: 0.77<br>last_3_2mo_rolling_stdev: 0.77<br>last_1_2mo_rolling_stdev: 0.76<br>median_monthly_usage_gb: 0.76<br>last_2_2mo_rolling_avg: 0.75<br>delta_2mo_volatility: 0.74<br>last_3_month_usage_gb: 0.74<br>last_2_3mo_rolling_avg: 0.73<br>usage_q25_gb: 0.71<br>max_delta_1mo_decrease: 0.71",
          "months_with_delta_1mo_decrease<br>Correlations:<br>months_with_delta_1mo_increase: 0.88",
          "months_with_delta_1mo_increase<br>Correlations:<br>months_with_delta_1mo_decrease: 0.88",
          "last_2_2mo_rolling_stdev<br>Correlations:<br>delta_1mo_volatility: 0.85<br>usage_std_gb: 0.81<br>max_delta_1mo_increase: 0.79<br>max_delta_1mo_decrease: 0.79<br>max_monthly_usage_gb: 0.76<br>usage_q75_gb: 0.73<br>total_usage_gb: 0.72<br>avg_monthly_usage_gb: 0.72<br>last_1_3mo_rolling_avg: 0.71<br>last_2_3mo_rolling_avg: 0.71<br>median_monthly_usage_gb: 0.71<br>last_1_2mo_rolling_avg: 0.70",
          "last_3_2mo_rolling_stdev<br>Correlations:<br>delta_1mo_volatility: 0.83<br>usage_std_gb: 0.81<br>max_delta_1mo_increase: 0.77<br>max_delta_1mo_decrease: 0.77<br>max_monthly_usage_gb: 0.76<br>usage_q75_gb: 0.73<br>delta_2mo_volatility: 0.73<br>total_usage_gb: 0.72<br>avg_monthly_usage_gb: 0.72<br>last_1_3mo_rolling_avg: 0.71<br>last_2_3mo_rolling_avg: 0.71<br>median_monthly_usage_gb: 0.71<br>last_1_2mo_rolling_avg: 0.70<br>last_3_2mo_rolling_avg: 0.70<br>last_2_2mo_rolling_avg: 0.70",
          "last_1_2mo_rolling_stdev<br>Correlations:<br>delta_1mo_volatility: 0.83<br>usage_std_gb: 0.81<br>max_delta_1mo_decrease: 0.77<br>max_monthly_usage_gb: 0.76<br>max_delta_1mo_increase: 0.76<br>delta_2mo_volatility: 0.73<br>usage_q75_gb: 0.73<br>total_usage_gb: 0.72<br>avg_monthly_usage_gb: 0.72<br>last_2_3mo_rolling_avg: 0.71<br>last_1_3mo_rolling_avg: 0.71<br>median_monthly_usage_gb: 0.71<br>last_3_2mo_rolling_avg: 0.70<br>last_2_2mo_rolling_avg: 0.70",
          "contract_binding_days<br>Correlations:<br>contract_lifetime_days: 0.82",
          "contract_lifetime_days<br>Correlations:<br>contract_binding_days: 0.82<br>max_monthly_usage_gb: 0.77<br>total_usage_gb: 0.76<br>avg_monthly_usage_gb: 0.76<br>last_1_3mo_rolling_avg: 0.76<br>last_2_3mo_rolling_avg: 0.76<br>usage_q75_gb: 0.75<br>median_monthly_usage_gb: 0.75<br>last_1_2mo_rolling_avg: 0.74<br>last_2_2mo_rolling_avg: 0.74<br>last_3_2mo_rolling_avg: 0.74<br>usage_q25_gb: 0.73<br>usage_std_gb: 0.73<br>min_monthly_usage_gb: 0.71<br>last_3_month_usage_gb: 0.71<br>last_4_month_usage_gb: 0.71<br>last_1_month_usage_gb: 0.71<br>last_2_month_usage_gb: 0.71",
          "is_bounded<br>Correlations:<br>remaining_binding_days: 0.80",
          "remaining_binding_days<br>Correlations:<br>is_bounded: 0.80",
          "delta_2mo_volatility<br>Correlations:<br>usage_std_gb: 0.79<br>delta_1mo_volatility: 0.79<br>max_monthly_usage_gb: 0.76<br>max_delta_1mo_increase: 0.74<br>max_delta_1mo_decrease: 0.74<br>last_3_2mo_rolling_stdev: 0.73<br>last_1_2mo_rolling_stdev: 0.73<br>total_usage_gb: 0.71<br>avg_monthly_usage_gb: 0.71<br>usage_q75_gb: 0.71<br>last_1_3mo_rolling_avg: 0.71<br>last_2_3mo_rolling_avg: 0.71<br>median_monthly_usage_gb: 0.70",
          "avg_delta_2mo<br>Correlations:<br>max_delta_2mo_increase: 0.76<br>max_delta_2mo_decrease: 0.76<br>avg_delta_3mo: 0.71<br>max_delta_3mo_increase: 0.71<br>max_delta_3mo_decrease: 0.71<br>last_1_delta_3mo: 0.71<br>avg_delta_1mo: 0.71<br>last_1_delta_2mo: 0.71<br>last_2_delta_2mo: 0.71<br>last_2_delta_1mo: 0.71",
          "max_delta_2mo_increase<br>Correlations:<br>avg_delta_2mo: 0.76",
          "max_delta_2mo_decrease<br>Correlations:<br>avg_delta_2mo: 0.76",
          "ever_used_roaming<br>Correlations:<br>months_with_roaming: 0.74",
          "months_with_roaming<br>Correlations:<br>ever_used_roaming: 0.74",
          "times_in_p1<br>Correlations:<br>times_in_p5: 0.74",
          "times_in_p5<br>Correlations:<br>times_in_p1: 0.74",
          "last_1_delta_2mo<br>Correlations:<br>avg_delta_2mo: 0.71",
          "last_2_delta_2mo<br>Correlations:<br>avg_delta_2mo: 0.71",
          "last_2_delta_1mo<br>Correlations:<br>avg_delta_2mo: 0.71"
         ],
         "marker": {
          "color": "#87ceeb",
          "line": {
           "width": 2
          },
          "showscale": false,
          "size": 20
         },
         "mode": "markers+text",
         "text": [
          "active_usage_months",
          "zero_usage_months",
          "avg_delta_3mo",
          "max_delta_3mo_increase",
          "max_delta_3mo_decrease",
          "last_1_delta_3mo",
          "avg_monthly_usage_gb",
          "total_usage_gb",
          "avg_delta_1mo",
          "median_monthly_usage_gb",
          "usage_q75_gb",
          "last_2_3mo_rolling_avg",
          "last_1_3mo_rolling_avg",
          "usage_q25_gb",
          "max_monthly_usage_gb",
          "last_1_2mo_rolling_avg",
          "last_3_2mo_rolling_avg",
          "last_2_2mo_rolling_avg",
          "min_monthly_usage_gb",
          "last_3_month_usage_gb",
          "last_4_month_usage_gb",
          "last_1_month_usage_gb",
          "last_2_month_usage_gb",
          "usage_std_gb",
          "delta_1mo_volatility",
          "months_with_delta_3mo_decrease",
          "months_with_delta_3mo_increase",
          "months_with_delta_2mo_decrease",
          "months_with_delta_2mo_increase",
          "max_delta_1mo_decrease",
          "max_delta_1mo_increase",
          "months_with_delta_1mo_decrease",
          "months_with_delta_1mo_increase",
          "last_2_2mo_rolling_stdev",
          "last_3_2mo_rolling_stdev",
          "last_1_2mo_rolling_stdev",
          "contract_binding_days",
          "contract_lifetime_days",
          "is_bounded",
          "remaining_binding_days",
          "delta_2mo_volatility",
          "avg_delta_2mo",
          "max_delta_2mo_increase",
          "max_delta_2mo_decrease",
          "ever_used_roaming",
          "months_with_roaming",
          "times_in_p1",
          "times_in_p5",
          "last_1_delta_2mo",
          "last_2_delta_2mo",
          "last_2_delta_1mo"
         ],
         "textposition": "top center",
         "type": "scatter",
         "x": [
          0.30062508994064047,
          0.29002735700705246,
          -0.6877601987943627,
          -0.6462720127477615,
          -0.6476611844871937,
          -0.6761906800861147,
          0.04072350701545492,
          0.02697103447625184,
          -0.6957009013765573,
          0.03634282739995606,
          0.043115700043350066,
          0.032115186677320454,
          0.047630293361907355,
          0.005662758526142373,
          0.021082944267790744,
          0.014152094370218263,
          0.006135460491715012,
          0.02395788528484669,
          -0.024825924933807,
          -0.007368853264002389,
          -0.020270624058809774,
          -0.010976098487978689,
          -0.009900173669675582,
          0.01863948572544122,
          0.04760680333386235,
          0.9619836725236782,
          0.9492238593518422,
          -0.6193788776279581,
          -0.6420865123169351,
          0.06853324248171641,
          0.06698917063142834,
          0.9121775980004742,
          0.8370228598092653,
          0.07426105735768147,
          0.06877052120178258,
          0.08543737557033595,
          -0.13195928539812202,
          -0.03295495068375101,
          0.3425562569743287,
          0.32098917193969806,
          0.09595733175233562,
          -0.6343681049582229,
          -0.6424137426645636,
          -0.5348542617917056,
          0.4997566959004347,
          0.4499444550161705,
          0.9920046709331847,
          0.9969284797732308,
          -0.5838218244096982,
          -0.6948689042206556,
          -0.7336917311616632
         ],
         "y": [
          0.9810410749883002,
          0.9219084107299993,
          -0.4330268864027645,
          -0.41810802902453725,
          -0.3903521426086394,
          -0.38158983606878677,
          0.013680178394850851,
          0.01060853954907385,
          -0.4034938490628702,
          0.033296617581965664,
          0.05544456323874458,
          0.05040812067405629,
          0.030950053917664942,
          0.007754703055367104,
          0.025927213425191113,
          0.06096147515968698,
          0.0762510658294252,
          0.07839664919207061,
          0.014140839833077186,
          0.018669691135274866,
          0.03490433310291857,
          0.06376347455100868,
          0.04602436372860766,
          0.04280093882466604,
          0.06919746759233579,
          0.5876103008020401,
          0.63665211587886,
          0.6290752690628332,
          0.5833895643359863,
          0.047115820220933836,
          0.01895638865899185,
          0.1948675224665302,
          0.18522118543134217,
          -0.004432906188186803,
          0.08177591404045326,
          0.06342195224005483,
          0.14862161374722194,
          0.06552834675447475,
          -1,
          -0.9485669384839048,
          0.033537508902859677,
          -0.4639470591712973,
          -0.563330666598342,
          -0.43893244458395325,
          0.7581079029645656,
          0.7488298802195886,
          -0.1624920057489184,
          -0.21290962455481252,
          -0.5379495604270208,
          -0.5494718866795691,
          -0.5102372246274174
         ]
        }
       ],
       "layout": {
        "height": 800,
        "hovermode": "closest",
        "margin": {
         "b": 20,
         "l": 5,
         "r": 5,
         "t": 40
        },
        "showlegend": false,
        "template": {
         "data": {
          "bar": [
           {
            "error_x": {
             "color": "#2a3f5f"
            },
            "error_y": {
             "color": "#2a3f5f"
            },
            "marker": {
             "line": {
              "color": "#E5ECF6",
              "width": 0.5
             },
             "pattern": {
              "fillmode": "overlay",
              "size": 10,
              "solidity": 0.2
             }
            },
            "type": "bar"
           }
          ],
          "barpolar": [
           {
            "marker": {
             "line": {
              "color": "#E5ECF6",
              "width": 0.5
             },
             "pattern": {
              "fillmode": "overlay",
              "size": 10,
              "solidity": 0.2
             }
            },
            "type": "barpolar"
           }
          ],
          "carpet": [
           {
            "aaxis": {
             "endlinecolor": "#2a3f5f",
             "gridcolor": "white",
             "linecolor": "white",
             "minorgridcolor": "white",
             "startlinecolor": "#2a3f5f"
            },
            "baxis": {
             "endlinecolor": "#2a3f5f",
             "gridcolor": "white",
             "linecolor": "white",
             "minorgridcolor": "white",
             "startlinecolor": "#2a3f5f"
            },
            "type": "carpet"
           }
          ],
          "choropleth": [
           {
            "colorbar": {
             "outlinewidth": 0,
             "ticks": ""
            },
            "type": "choropleth"
           }
          ],
          "contour": [
           {
            "colorbar": {
             "outlinewidth": 0,
             "ticks": ""
            },
            "colorscale": [
             [
              0,
              "#0d0887"
             ],
             [
              0.1111111111111111,
              "#46039f"
             ],
             [
              0.2222222222222222,
              "#7201a8"
             ],
             [
              0.3333333333333333,
              "#9c179e"
             ],
             [
              0.4444444444444444,
              "#bd3786"
             ],
             [
              0.5555555555555556,
              "#d8576b"
             ],
             [
              0.6666666666666666,
              "#ed7953"
             ],
             [
              0.7777777777777778,
              "#fb9f3a"
             ],
             [
              0.8888888888888888,
              "#fdca26"
             ],
             [
              1,
              "#f0f921"
             ]
            ],
            "type": "contour"
           }
          ],
          "contourcarpet": [
           {
            "colorbar": {
             "outlinewidth": 0,
             "ticks": ""
            },
            "type": "contourcarpet"
           }
          ],
          "heatmap": [
           {
            "colorbar": {
             "outlinewidth": 0,
             "ticks": ""
            },
            "colorscale": [
             [
              0,
              "#0d0887"
             ],
             [
              0.1111111111111111,
              "#46039f"
             ],
             [
              0.2222222222222222,
              "#7201a8"
             ],
             [
              0.3333333333333333,
              "#9c179e"
             ],
             [
              0.4444444444444444,
              "#bd3786"
             ],
             [
              0.5555555555555556,
              "#d8576b"
             ],
             [
              0.6666666666666666,
              "#ed7953"
             ],
             [
              0.7777777777777778,
              "#fb9f3a"
             ],
             [
              0.8888888888888888,
              "#fdca26"
             ],
             [
              1,
              "#f0f921"
             ]
            ],
            "type": "heatmap"
           }
          ],
          "histogram": [
           {
            "marker": {
             "pattern": {
              "fillmode": "overlay",
              "size": 10,
              "solidity": 0.2
             }
            },
            "type": "histogram"
           }
          ],
          "histogram2d": [
           {
            "colorbar": {
             "outlinewidth": 0,
             "ticks": ""
            },
            "colorscale": [
             [
              0,
              "#0d0887"
             ],
             [
              0.1111111111111111,
              "#46039f"
             ],
             [
              0.2222222222222222,
              "#7201a8"
             ],
             [
              0.3333333333333333,
              "#9c179e"
             ],
             [
              0.4444444444444444,
              "#bd3786"
             ],
             [
              0.5555555555555556,
              "#d8576b"
             ],
             [
              0.6666666666666666,
              "#ed7953"
             ],
             [
              0.7777777777777778,
              "#fb9f3a"
             ],
             [
              0.8888888888888888,
              "#fdca26"
             ],
             [
              1,
              "#f0f921"
             ]
            ],
            "type": "histogram2d"
           }
          ],
          "histogram2dcontour": [
           {
            "colorbar": {
             "outlinewidth": 0,
             "ticks": ""
            },
            "colorscale": [
             [
              0,
              "#0d0887"
             ],
             [
              0.1111111111111111,
              "#46039f"
             ],
             [
              0.2222222222222222,
              "#7201a8"
             ],
             [
              0.3333333333333333,
              "#9c179e"
             ],
             [
              0.4444444444444444,
              "#bd3786"
             ],
             [
              0.5555555555555556,
              "#d8576b"
             ],
             [
              0.6666666666666666,
              "#ed7953"
             ],
             [
              0.7777777777777778,
              "#fb9f3a"
             ],
             [
              0.8888888888888888,
              "#fdca26"
             ],
             [
              1,
              "#f0f921"
             ]
            ],
            "type": "histogram2dcontour"
           }
          ],
          "mesh3d": [
           {
            "colorbar": {
             "outlinewidth": 0,
             "ticks": ""
            },
            "type": "mesh3d"
           }
          ],
          "parcoords": [
           {
            "line": {
             "colorbar": {
              "outlinewidth": 0,
              "ticks": ""
             }
            },
            "type": "parcoords"
           }
          ],
          "pie": [
           {
            "automargin": true,
            "type": "pie"
           }
          ],
          "scatter": [
           {
            "fillpattern": {
             "fillmode": "overlay",
             "size": 10,
             "solidity": 0.2
            },
            "type": "scatter"
           }
          ],
          "scatter3d": [
           {
            "line": {
             "colorbar": {
              "outlinewidth": 0,
              "ticks": ""
             }
            },
            "marker": {
             "colorbar": {
              "outlinewidth": 0,
              "ticks": ""
             }
            },
            "type": "scatter3d"
           }
          ],
          "scattercarpet": [
           {
            "marker": {
             "colorbar": {
              "outlinewidth": 0,
              "ticks": ""
             }
            },
            "type": "scattercarpet"
           }
          ],
          "scattergeo": [
           {
            "marker": {
             "colorbar": {
              "outlinewidth": 0,
              "ticks": ""
             }
            },
            "type": "scattergeo"
           }
          ],
          "scattergl": [
           {
            "marker": {
             "colorbar": {
              "outlinewidth": 0,
              "ticks": ""
             }
            },
            "type": "scattergl"
           }
          ],
          "scattermap": [
           {
            "marker": {
             "colorbar": {
              "outlinewidth": 0,
              "ticks": ""
             }
            },
            "type": "scattermap"
           }
          ],
          "scattermapbox": [
           {
            "marker": {
             "colorbar": {
              "outlinewidth": 0,
              "ticks": ""
             }
            },
            "type": "scattermapbox"
           }
          ],
          "scatterpolar": [
           {
            "marker": {
             "colorbar": {
              "outlinewidth": 0,
              "ticks": ""
             }
            },
            "type": "scatterpolar"
           }
          ],
          "scatterpolargl": [
           {
            "marker": {
             "colorbar": {
              "outlinewidth": 0,
              "ticks": ""
             }
            },
            "type": "scatterpolargl"
           }
          ],
          "scatterternary": [
           {
            "marker": {
             "colorbar": {
              "outlinewidth": 0,
              "ticks": ""
             }
            },
            "type": "scatterternary"
           }
          ],
          "surface": [
           {
            "colorbar": {
             "outlinewidth": 0,
             "ticks": ""
            },
            "colorscale": [
             [
              0,
              "#0d0887"
             ],
             [
              0.1111111111111111,
              "#46039f"
             ],
             [
              0.2222222222222222,
              "#7201a8"
             ],
             [
              0.3333333333333333,
              "#9c179e"
             ],
             [
              0.4444444444444444,
              "#bd3786"
             ],
             [
              0.5555555555555556,
              "#d8576b"
             ],
             [
              0.6666666666666666,
              "#ed7953"
             ],
             [
              0.7777777777777778,
              "#fb9f3a"
             ],
             [
              0.8888888888888888,
              "#fdca26"
             ],
             [
              1,
              "#f0f921"
             ]
            ],
            "type": "surface"
           }
          ],
          "table": [
           {
            "cells": {
             "fill": {
              "color": "#EBF0F8"
             },
             "line": {
              "color": "white"
             }
            },
            "header": {
             "fill": {
              "color": "#C8D4E3"
             },
             "line": {
              "color": "white"
             }
            },
            "type": "table"
           }
          ]
         },
         "layout": {
          "annotationdefaults": {
           "arrowcolor": "#2a3f5f",
           "arrowhead": 0,
           "arrowwidth": 1
          },
          "autotypenumbers": "strict",
          "coloraxis": {
           "colorbar": {
            "outlinewidth": 0,
            "ticks": ""
           }
          },
          "colorscale": {
           "diverging": [
            [
             0,
             "#8e0152"
            ],
            [
             0.1,
             "#c51b7d"
            ],
            [
             0.2,
             "#de77ae"
            ],
            [
             0.3,
             "#f1b6da"
            ],
            [
             0.4,
             "#fde0ef"
            ],
            [
             0.5,
             "#f7f7f7"
            ],
            [
             0.6,
             "#e6f5d0"
            ],
            [
             0.7,
             "#b8e186"
            ],
            [
             0.8,
             "#7fbc41"
            ],
            [
             0.9,
             "#4d9221"
            ],
            [
             1,
             "#276419"
            ]
           ],
           "sequential": [
            [
             0,
             "#0d0887"
            ],
            [
             0.1111111111111111,
             "#46039f"
            ],
            [
             0.2222222222222222,
             "#7201a8"
            ],
            [
             0.3333333333333333,
             "#9c179e"
            ],
            [
             0.4444444444444444,
             "#bd3786"
            ],
            [
             0.5555555555555556,
             "#d8576b"
            ],
            [
             0.6666666666666666,
             "#ed7953"
            ],
            [
             0.7777777777777778,
             "#fb9f3a"
            ],
            [
             0.8888888888888888,
             "#fdca26"
            ],
            [
             1,
             "#f0f921"
            ]
           ],
           "sequentialminus": [
            [
             0,
             "#0d0887"
            ],
            [
             0.1111111111111111,
             "#46039f"
            ],
            [
             0.2222222222222222,
             "#7201a8"
            ],
            [
             0.3333333333333333,
             "#9c179e"
            ],
            [
             0.4444444444444444,
             "#bd3786"
            ],
            [
             0.5555555555555556,
             "#d8576b"
            ],
            [
             0.6666666666666666,
             "#ed7953"
            ],
            [
             0.7777777777777778,
             "#fb9f3a"
            ],
            [
             0.8888888888888888,
             "#fdca26"
            ],
            [
             1,
             "#f0f921"
            ]
           ]
          },
          "colorway": [
           "#636efa",
           "#EF553B",
           "#00cc96",
           "#ab63fa",
           "#FFA15A",
           "#19d3f3",
           "#FF6692",
           "#B6E880",
           "#FF97FF",
           "#FECB52"
          ],
          "font": {
           "color": "#2a3f5f"
          },
          "geo": {
           "bgcolor": "white",
           "lakecolor": "white",
           "landcolor": "#E5ECF6",
           "showlakes": true,
           "showland": true,
           "subunitcolor": "white"
          },
          "hoverlabel": {
           "align": "left"
          },
          "hovermode": "closest",
          "mapbox": {
           "style": "light"
          },
          "paper_bgcolor": "white",
          "plot_bgcolor": "#E5ECF6",
          "polar": {
           "angularaxis": {
            "gridcolor": "white",
            "linecolor": "white",
            "ticks": ""
           },
           "bgcolor": "#E5ECF6",
           "radialaxis": {
            "gridcolor": "white",
            "linecolor": "white",
            "ticks": ""
           }
          },
          "scene": {
           "xaxis": {
            "backgroundcolor": "#E5ECF6",
            "gridcolor": "white",
            "gridwidth": 2,
            "linecolor": "white",
            "showbackground": true,
            "ticks": "",
            "zerolinecolor": "white"
           },
           "yaxis": {
            "backgroundcolor": "#E5ECF6",
            "gridcolor": "white",
            "gridwidth": 2,
            "linecolor": "white",
            "showbackground": true,
            "ticks": "",
            "zerolinecolor": "white"
           },
           "zaxis": {
            "backgroundcolor": "#E5ECF6",
            "gridcolor": "white",
            "gridwidth": 2,
            "linecolor": "white",
            "showbackground": true,
            "ticks": "",
            "zerolinecolor": "white"
           }
          },
          "shapedefaults": {
           "line": {
            "color": "#2a3f5f"
           }
          },
          "ternary": {
           "aaxis": {
            "gridcolor": "white",
            "linecolor": "white",
            "ticks": ""
           },
           "baxis": {
            "gridcolor": "white",
            "linecolor": "white",
            "ticks": ""
           },
           "bgcolor": "#E5ECF6",
           "caxis": {
            "gridcolor": "white",
            "linecolor": "white",
            "ticks": ""
           }
          },
          "title": {
           "x": 0.05
          },
          "xaxis": {
           "automargin": true,
           "gridcolor": "white",
           "linecolor": "white",
           "ticks": "",
           "title": {
            "standoff": 15
           },
           "zerolinecolor": "white",
           "zerolinewidth": 2
          },
          "yaxis": {
           "automargin": true,
           "gridcolor": "white",
           "linecolor": "white",
           "ticks": "",
           "title": {
            "standoff": 15
           },
           "zerolinecolor": "white",
           "zerolinewidth": 2
          }
         }
        },
        "title": {
         "text": "Clusters of Highly Correlated Features"
        },
        "width": 1200,
        "xaxis": {
         "showgrid": false,
         "showticklabels": false,
         "zeroline": false
        },
        "yaxis": {
         "showgrid": false,
         "showticklabels": false,
         "zeroline": false
        }
       }
      }
     },
     "metadata": {},
     "output_type": "display_data"
    }
   ],
   "source": [
    "plot_correlation_network(G_70, pos=nx.spring_layout(G_70, seed=42))"
   ]
  },
  {
   "cell_type": "code",
   "execution_count": null,
   "id": "fac1950f",
   "metadata": {},
   "outputs": [],
   "source": []
  },
  {
   "cell_type": "code",
   "execution_count": 44,
   "id": "0f8b50ca",
   "metadata": {},
   "outputs": [],
   "source": [
    "G_80, remove_80, clusters_80 = correlation_graph_analysis(correlation_analysis, 0.8)"
   ]
  },
  {
   "cell_type": "code",
   "execution_count": 45,
   "id": "16bebcaf",
   "metadata": {},
   "outputs": [
    {
     "data": {
      "application/vnd.plotly.v1+json": {
       "config": {
        "plotlyServerURL": "https://plot.ly"
       },
       "data": [
        {
         "hoverinfo": "none",
         "line": {
          "color": "#888",
          "width": 1
         },
         "mode": "lines",
         "type": "scatter",
         "x": [
          0.49488442015897255,
          0.5166094461089296,
          null,
          -0.7451970930479028,
          -0.7470519693345146,
          null,
          -0.7451970930479028,
          -0.7045496256668458,
          null,
          -0.7451970930479028,
          -0.7859209073504774,
          null,
          -0.7451970930479028,
          -0.7825293738779175,
          null,
          -0.7470519693345146,
          -0.7045496256668458,
          null,
          -0.7470519693345146,
          -0.7859209073504774,
          null,
          -0.7470519693345146,
          -0.7825293738779175,
          null,
          -0.7045496256668458,
          -0.7859209073504774,
          null,
          -0.7045496256668458,
          -0.7825293738779175,
          null,
          -0.7859209073504774,
          -0.7825293738779175,
          null,
          0.028945655279834528,
          0.05068364061313995,
          null,
          0.028945655279834528,
          0.049321959081918144,
          null,
          0.028945655279834528,
          0.08281374424220161,
          null,
          0.028945655279834528,
          0.042584411846586234,
          null,
          0.028945655279834528,
          0.07078638003683634,
          null,
          0.028945655279834528,
          0.04352271612694898,
          null,
          0.028945655279834528,
          0.07459199990879206,
          null,
          0.028945655279834528,
          0.06046160874602845,
          null,
          0.028945655279834528,
          0.06319334403610871,
          null,
          0.028945655279834528,
          0.01859232517957906,
          null,
          0.028945655279834528,
          0.08706001679512716,
          null,
          0.028945655279834528,
          0.10354824668834008,
          null,
          0.028945655279834528,
          0.028308969671333336,
          null,
          0.028945655279834528,
          0.09025562310091428,
          null,
          0.028945655279834528,
          0.09665506613691374,
          null,
          0.028945655279834528,
          0.018605733022778573,
          null,
          0.028945655279834528,
          -0.0028514059240226926,
          null,
          0.05068364061313995,
          0.049321959081918144,
          null,
          0.05068364061313995,
          0.08281374424220161,
          null,
          0.05068364061313995,
          0.042584411846586234,
          null,
          0.05068364061313995,
          0.07078638003683634,
          null,
          0.05068364061313995,
          0.04352271612694898,
          null,
          0.05068364061313995,
          0.07459199990879206,
          null,
          0.05068364061313995,
          0.06046160874602845,
          null,
          0.05068364061313995,
          0.06319334403610871,
          null,
          0.05068364061313995,
          0.01859232517957906,
          null,
          0.05068364061313995,
          0.08706001679512716,
          null,
          0.05068364061313995,
          0.10354824668834008,
          null,
          0.05068364061313995,
          0.028308969671333336,
          null,
          0.05068364061313995,
          0.09025562310091428,
          null,
          0.05068364061313995,
          0.09665506613691374,
          null,
          0.05068364061313995,
          0.018605733022778573,
          null,
          0.05068364061313995,
          -0.0028514059240226926,
          null,
          0.049321959081918144,
          0.07078638003683634,
          null,
          0.049321959081918144,
          0.07459199990879206,
          null,
          0.049321959081918144,
          0.042584411846586234,
          null,
          0.049321959081918144,
          0.08281374424220161,
          null,
          0.049321959081918144,
          0.04352271612694898,
          null,
          0.049321959081918144,
          0.06046160874602845,
          null,
          0.049321959081918144,
          0.06319334403610871,
          null,
          0.049321959081918144,
          0.01859232517957906,
          null,
          0.049321959081918144,
          0.08706001679512716,
          null,
          0.049321959081918144,
          0.10354824668834008,
          null,
          0.049321959081918144,
          0.028308969671333336,
          null,
          0.049321959081918144,
          0.09025562310091428,
          null,
          0.049321959081918144,
          0.09665506613691374,
          null,
          0.049321959081918144,
          0.018605733022778573,
          null,
          0.049321959081918144,
          -0.0028514059240226926,
          null,
          0.07078638003683634,
          0.08281374424220161,
          null,
          0.07078638003683634,
          0.042584411846586234,
          null,
          0.07078638003683634,
          0.04352271612694898,
          null,
          0.07078638003683634,
          0.06046160874602845,
          null,
          0.07078638003683634,
          0.06319334403610871,
          null,
          0.07078638003683634,
          0.01859232517957906,
          null,
          0.07078638003683634,
          0.07459199990879206,
          null,
          0.07078638003683634,
          0.08706001679512716,
          null,
          0.07078638003683634,
          0.10354824668834008,
          null,
          0.07078638003683634,
          0.028308969671333336,
          null,
          0.07078638003683634,
          0.09025562310091428,
          null,
          0.07078638003683634,
          0.09665506613691374,
          null,
          0.07078638003683634,
          0.018605733022778573,
          null,
          0.07078638003683634,
          -0.0028514059240226926,
          null,
          0.08281374424220161,
          0.01859232517957906,
          null,
          0.08281374424220161,
          0.06046160874602845,
          null,
          0.08281374424220161,
          0.04352271612694898,
          null,
          0.08281374424220161,
          0.042584411846586234,
          null,
          0.08281374424220161,
          0.07459199990879206,
          null,
          0.08281374424220161,
          0.06319334403610871,
          null,
          0.08281374424220161,
          0.08706001679512716,
          null,
          0.08281374424220161,
          0.10354824668834008,
          null,
          0.08281374424220161,
          0.028308969671333336,
          null,
          0.08281374424220161,
          0.09025562310091428,
          null,
          0.08281374424220161,
          0.018605733022778573,
          null,
          0.08281374424220161,
          0.09665506613691374,
          null,
          0.08281374424220161,
          -0.0028514059240226926,
          null,
          0.042584411846586234,
          0.06319334403610871,
          null,
          0.042584411846586234,
          0.06046160874602845,
          null,
          0.042584411846586234,
          0.04352271612694898,
          null,
          0.042584411846586234,
          0.07459199990879206,
          null,
          0.042584411846586234,
          0.01859232517957906,
          null,
          0.042584411846586234,
          0.08706001679512716,
          null,
          0.042584411846586234,
          0.10354824668834008,
          null,
          0.042584411846586234,
          0.09665506613691374,
          null,
          0.042584411846586234,
          0.09025562310091428,
          null,
          0.042584411846586234,
          0.018605733022778573,
          null,
          0.042584411846586234,
          0.028308969671333336,
          null,
          0.042584411846586234,
          -0.0028514059240226926,
          null,
          0.07459199990879206,
          0.06046160874602845,
          null,
          0.07459199990879206,
          0.06319334403610871,
          null,
          0.07459199990879206,
          0.01859232517957906,
          null,
          0.07459199990879206,
          0.04352271612694898,
          null,
          0.07459199990879206,
          0.08706001679512716,
          null,
          0.07459199990879206,
          0.10354824668834008,
          null,
          0.07459199990879206,
          0.09025562310091428,
          null,
          0.07459199990879206,
          0.09665506613691374,
          null,
          0.07459199990879206,
          0.028308969671333336,
          null,
          0.07459199990879206,
          0.018605733022778573,
          null,
          0.04352271612694898,
          0.06046160874602845,
          null,
          0.04352271612694898,
          0.06319334403610871,
          null,
          0.04352271612694898,
          0.01859232517957906,
          null,
          0.04352271612694898,
          0.018605733022778573,
          null,
          0.04352271612694898,
          0.10354824668834008,
          null,
          0.04352271612694898,
          0.08706001679512716,
          null,
          0.04352271612694898,
          0.09665506613691374,
          null,
          0.04352271612694898,
          0.028308969671333336,
          null,
          0.04352271612694898,
          0.09025562310091428,
          null,
          0.04352271612694898,
          -0.0028514059240226926,
          null,
          0.04352271612694898,
          0.06086486004646553,
          null,
          0.04352271612694898,
          -0.04599677458161149,
          null,
          0.06319334403610871,
          0.10354824668834008,
          null,
          0.06319334403610871,
          0.09665506613691374,
          null,
          0.06319334403610871,
          0.06046160874602845,
          null,
          0.06319334403610871,
          0.08706001679512716,
          null,
          0.06319334403610871,
          0.01859232517957906,
          null,
          0.06319334403610871,
          0.018605733022778573,
          null,
          0.06319334403610871,
          0.09025562310091428,
          null,
          0.06319334403610871,
          0.028308969671333336,
          null,
          0.06319334403610871,
          0.06086486004646553,
          null,
          0.06319334403610871,
          -0.0028514059240226926,
          null,
          0.01859232517957906,
          0.028308969671333336,
          null,
          0.01859232517957906,
          0.09025562310091428,
          null,
          0.01859232517957906,
          0.06046160874602845,
          null,
          0.01859232517957906,
          0.08706001679512716,
          null,
          0.01859232517957906,
          0.018605733022778573,
          null,
          0.01859232517957906,
          0.10354824668834008,
          null,
          0.01859232517957906,
          0.09665506613691374,
          null,
          0.01859232517957906,
          -0.04599677458161149,
          null,
          0.01859232517957906,
          -0.0028514059240226926,
          null,
          0.06046160874602845,
          0.10354824668834008,
          null,
          0.06046160874602845,
          0.09025562310091428,
          null,
          0.06046160874602845,
          0.08706001679512716,
          null,
          0.06046160874602845,
          0.018605733022778573,
          null,
          0.06046160874602845,
          0.028308969671333336,
          null,
          0.06046160874602845,
          0.09665506613691374,
          null,
          0.06046160874602845,
          -0.0028514059240226926,
          null,
          0.08706001679512716,
          0.10354824668834008,
          null,
          0.08706001679512716,
          0.09025562310091428,
          null,
          0.08706001679512716,
          0.028308969671333336,
          null,
          0.08706001679512716,
          0.09665506613691374,
          null,
          0.10354824668834008,
          0.018605733022778573,
          null,
          0.10354824668834008,
          0.09665506613691374,
          null,
          0.10354824668834008,
          0.028308969671333336,
          null,
          0.10354824668834008,
          0.09025562310091428,
          null,
          0.09665506613691374,
          0.018605733022778573,
          null,
          0.09665506613691374,
          0.06086486004646553,
          null,
          0.09665506613691374,
          0.09025562310091428,
          null,
          0.09665506613691374,
          0.028308969671333336,
          null,
          0.028308969671333336,
          0.018605733022778573,
          null,
          0.028308969671333336,
          -0.04599677458161149,
          null,
          0.028308969671333336,
          0.09025562310091428,
          null,
          0.09025562310091428,
          0.018605733022778573,
          null,
          0.018605733022778573,
          -0.0028514059240226926,
          null,
          0.018605733022778573,
          0.06086486004646553,
          null,
          0.018605733022778573,
          -0.04599677458161149,
          null,
          0.018605733022778573,
          -0.07302825507900673,
          null,
          0.018605733022778573,
          -0.0999435384141643,
          null,
          0.018605733022778573,
          -0.022931515179474664,
          null,
          -0.0028514059240226926,
          -0.04599677458161149,
          null,
          -0.0028514059240226926,
          0.06086486004646553,
          null,
          -0.0028514059240226926,
          -0.07302825507900673,
          null,
          -0.0028514059240226926,
          -0.0999435384141643,
          null,
          -0.0028514059240226926,
          -0.022931515179474664,
          null,
          0.9999999999999999,
          0.9882793584888268,
          null,
          -0.6720721206392057,
          -0.7467258999468601,
          null,
          0.8975795275600346,
          0.8168672330692986,
          null,
          -0.2055406300593198,
          -0.150677176844584,
          null
         ],
         "y": [
          0.7096211791011178,
          0.658571694766293,
          null,
          0.17150807463410472,
          0.22640454966683027,
          null,
          0.17150807463410472,
          0.17978143928824694,
          null,
          0.17150807463410472,
          0.21682040228558122,
          null,
          0.17150807463410472,
          0.17523679115947602,
          null,
          0.22640454966683027,
          0.17978143928824694,
          null,
          0.22640454966683027,
          0.21682040228558122,
          null,
          0.22640454966683027,
          0.17523679115947602,
          null,
          0.17978143928824694,
          0.21682040228558122,
          null,
          0.17978143928824694,
          0.17523679115947602,
          null,
          0.21682040228558122,
          0.17523679115947602,
          null,
          -0.1278492413247967,
          -0.15998216432850296,
          null,
          -0.1278492413247967,
          -0.13877472968275115,
          null,
          -0.1278492413247967,
          -0.14597168936084642,
          null,
          -0.1278492413247967,
          -0.11452066478177474,
          null,
          -0.1278492413247967,
          -0.16384244484232052,
          null,
          -0.1278492413247967,
          -0.1862506439636528,
          null,
          -0.1278492413247967,
          -0.12745302910739145,
          null,
          -0.1278492413247967,
          -0.11536264664267104,
          null,
          -0.1278492413247967,
          -0.18632944712276378,
          null,
          -0.1278492413247967,
          -0.1457956143052767,
          null,
          -0.1278492413247967,
          -0.1844053531320662,
          null,
          -0.1278492413247967,
          -0.1457283483263515,
          null,
          -0.1278492413247967,
          -0.16134271686388157,
          null,
          -0.1278492413247967,
          -0.11864439511815725,
          null,
          -0.1278492413247967,
          -0.172395115778955,
          null,
          -0.1278492413247967,
          -0.1900776801043691,
          null,
          -0.1278492413247967,
          -0.19484647558552531,
          null,
          -0.15998216432850296,
          -0.13877472968275115,
          null,
          -0.15998216432850296,
          -0.14597168936084642,
          null,
          -0.15998216432850296,
          -0.11452066478177474,
          null,
          -0.15998216432850296,
          -0.16384244484232052,
          null,
          -0.15998216432850296,
          -0.1862506439636528,
          null,
          -0.15998216432850296,
          -0.12745302910739145,
          null,
          -0.15998216432850296,
          -0.11536264664267104,
          null,
          -0.15998216432850296,
          -0.18632944712276378,
          null,
          -0.15998216432850296,
          -0.1457956143052767,
          null,
          -0.15998216432850296,
          -0.1844053531320662,
          null,
          -0.15998216432850296,
          -0.1457283483263515,
          null,
          -0.15998216432850296,
          -0.16134271686388157,
          null,
          -0.15998216432850296,
          -0.11864439511815725,
          null,
          -0.15998216432850296,
          -0.172395115778955,
          null,
          -0.15998216432850296,
          -0.1900776801043691,
          null,
          -0.15998216432850296,
          -0.19484647558552531,
          null,
          -0.13877472968275115,
          -0.16384244484232052,
          null,
          -0.13877472968275115,
          -0.12745302910739145,
          null,
          -0.13877472968275115,
          -0.11452066478177474,
          null,
          -0.13877472968275115,
          -0.14597168936084642,
          null,
          -0.13877472968275115,
          -0.1862506439636528,
          null,
          -0.13877472968275115,
          -0.11536264664267104,
          null,
          -0.13877472968275115,
          -0.18632944712276378,
          null,
          -0.13877472968275115,
          -0.1457956143052767,
          null,
          -0.13877472968275115,
          -0.1844053531320662,
          null,
          -0.13877472968275115,
          -0.1457283483263515,
          null,
          -0.13877472968275115,
          -0.16134271686388157,
          null,
          -0.13877472968275115,
          -0.11864439511815725,
          null,
          -0.13877472968275115,
          -0.172395115778955,
          null,
          -0.13877472968275115,
          -0.1900776801043691,
          null,
          -0.13877472968275115,
          -0.19484647558552531,
          null,
          -0.16384244484232052,
          -0.14597168936084642,
          null,
          -0.16384244484232052,
          -0.11452066478177474,
          null,
          -0.16384244484232052,
          -0.1862506439636528,
          null,
          -0.16384244484232052,
          -0.11536264664267104,
          null,
          -0.16384244484232052,
          -0.18632944712276378,
          null,
          -0.16384244484232052,
          -0.1457956143052767,
          null,
          -0.16384244484232052,
          -0.12745302910739145,
          null,
          -0.16384244484232052,
          -0.1844053531320662,
          null,
          -0.16384244484232052,
          -0.1457283483263515,
          null,
          -0.16384244484232052,
          -0.16134271686388157,
          null,
          -0.16384244484232052,
          -0.11864439511815725,
          null,
          -0.16384244484232052,
          -0.172395115778955,
          null,
          -0.16384244484232052,
          -0.1900776801043691,
          null,
          -0.16384244484232052,
          -0.19484647558552531,
          null,
          -0.14597168936084642,
          -0.1457956143052767,
          null,
          -0.14597168936084642,
          -0.11536264664267104,
          null,
          -0.14597168936084642,
          -0.1862506439636528,
          null,
          -0.14597168936084642,
          -0.11452066478177474,
          null,
          -0.14597168936084642,
          -0.12745302910739145,
          null,
          -0.14597168936084642,
          -0.18632944712276378,
          null,
          -0.14597168936084642,
          -0.1844053531320662,
          null,
          -0.14597168936084642,
          -0.1457283483263515,
          null,
          -0.14597168936084642,
          -0.16134271686388157,
          null,
          -0.14597168936084642,
          -0.11864439511815725,
          null,
          -0.14597168936084642,
          -0.1900776801043691,
          null,
          -0.14597168936084642,
          -0.172395115778955,
          null,
          -0.14597168936084642,
          -0.19484647558552531,
          null,
          -0.11452066478177474,
          -0.18632944712276378,
          null,
          -0.11452066478177474,
          -0.11536264664267104,
          null,
          -0.11452066478177474,
          -0.1862506439636528,
          null,
          -0.11452066478177474,
          -0.12745302910739145,
          null,
          -0.11452066478177474,
          -0.1457956143052767,
          null,
          -0.11452066478177474,
          -0.1844053531320662,
          null,
          -0.11452066478177474,
          -0.1457283483263515,
          null,
          -0.11452066478177474,
          -0.172395115778955,
          null,
          -0.11452066478177474,
          -0.11864439511815725,
          null,
          -0.11452066478177474,
          -0.1900776801043691,
          null,
          -0.11452066478177474,
          -0.16134271686388157,
          null,
          -0.11452066478177474,
          -0.19484647558552531,
          null,
          -0.12745302910739145,
          -0.11536264664267104,
          null,
          -0.12745302910739145,
          -0.18632944712276378,
          null,
          -0.12745302910739145,
          -0.1457956143052767,
          null,
          -0.12745302910739145,
          -0.1862506439636528,
          null,
          -0.12745302910739145,
          -0.1844053531320662,
          null,
          -0.12745302910739145,
          -0.1457283483263515,
          null,
          -0.12745302910739145,
          -0.11864439511815725,
          null,
          -0.12745302910739145,
          -0.172395115778955,
          null,
          -0.12745302910739145,
          -0.16134271686388157,
          null,
          -0.12745302910739145,
          -0.1900776801043691,
          null,
          -0.1862506439636528,
          -0.11536264664267104,
          null,
          -0.1862506439636528,
          -0.18632944712276378,
          null,
          -0.1862506439636528,
          -0.1457956143052767,
          null,
          -0.1862506439636528,
          -0.1900776801043691,
          null,
          -0.1862506439636528,
          -0.1457283483263515,
          null,
          -0.1862506439636528,
          -0.1844053531320662,
          null,
          -0.1862506439636528,
          -0.172395115778955,
          null,
          -0.1862506439636528,
          -0.16134271686388157,
          null,
          -0.1862506439636528,
          -0.11864439511815725,
          null,
          -0.1862506439636528,
          -0.19484647558552531,
          null,
          -0.1862506439636528,
          -0.2568255578926765,
          null,
          -0.1862506439636528,
          -0.18576380351284008,
          null,
          -0.18632944712276378,
          -0.1457283483263515,
          null,
          -0.18632944712276378,
          -0.172395115778955,
          null,
          -0.18632944712276378,
          -0.11536264664267104,
          null,
          -0.18632944712276378,
          -0.1844053531320662,
          null,
          -0.18632944712276378,
          -0.1457956143052767,
          null,
          -0.18632944712276378,
          -0.1900776801043691,
          null,
          -0.18632944712276378,
          -0.11864439511815725,
          null,
          -0.18632944712276378,
          -0.16134271686388157,
          null,
          -0.18632944712276378,
          -0.2568255578926765,
          null,
          -0.18632944712276378,
          -0.19484647558552531,
          null,
          -0.1457956143052767,
          -0.16134271686388157,
          null,
          -0.1457956143052767,
          -0.11864439511815725,
          null,
          -0.1457956143052767,
          -0.11536264664267104,
          null,
          -0.1457956143052767,
          -0.1844053531320662,
          null,
          -0.1457956143052767,
          -0.1900776801043691,
          null,
          -0.1457956143052767,
          -0.1457283483263515,
          null,
          -0.1457956143052767,
          -0.172395115778955,
          null,
          -0.1457956143052767,
          -0.18576380351284008,
          null,
          -0.1457956143052767,
          -0.19484647558552531,
          null,
          -0.11536264664267104,
          -0.1457283483263515,
          null,
          -0.11536264664267104,
          -0.11864439511815725,
          null,
          -0.11536264664267104,
          -0.1844053531320662,
          null,
          -0.11536264664267104,
          -0.1900776801043691,
          null,
          -0.11536264664267104,
          -0.16134271686388157,
          null,
          -0.11536264664267104,
          -0.172395115778955,
          null,
          -0.11536264664267104,
          -0.19484647558552531,
          null,
          -0.1844053531320662,
          -0.1457283483263515,
          null,
          -0.1844053531320662,
          -0.11864439511815725,
          null,
          -0.1844053531320662,
          -0.16134271686388157,
          null,
          -0.1844053531320662,
          -0.172395115778955,
          null,
          -0.1457283483263515,
          -0.1900776801043691,
          null,
          -0.1457283483263515,
          -0.172395115778955,
          null,
          -0.1457283483263515,
          -0.16134271686388157,
          null,
          -0.1457283483263515,
          -0.11864439511815725,
          null,
          -0.172395115778955,
          -0.1900776801043691,
          null,
          -0.172395115778955,
          -0.2568255578926765,
          null,
          -0.172395115778955,
          -0.11864439511815725,
          null,
          -0.172395115778955,
          -0.16134271686388157,
          null,
          -0.16134271686388157,
          -0.1900776801043691,
          null,
          -0.16134271686388157,
          -0.18576380351284008,
          null,
          -0.16134271686388157,
          -0.11864439511815725,
          null,
          -0.11864439511815725,
          -0.1900776801043691,
          null,
          -0.1900776801043691,
          -0.19484647558552531,
          null,
          -0.1900776801043691,
          -0.2568255578926765,
          null,
          -0.1900776801043691,
          -0.18576380351284008,
          null,
          -0.1900776801043691,
          -0.2607721058893225,
          null,
          -0.1900776801043691,
          -0.1897957799104421,
          null,
          -0.1900776801043691,
          -0.2959564440201939,
          null,
          -0.19484647558552531,
          -0.18576380351284008,
          null,
          -0.19484647558552531,
          -0.2568255578926765,
          null,
          -0.19484647558552531,
          -0.2607721058893225,
          null,
          -0.19484647558552531,
          -0.1897957799104421,
          null,
          -0.19484647558552531,
          -0.2959564440201939,
          null,
          0.2799714424622916,
          0.33417471246021585,
          null,
          -0.16971436529141917,
          -0.20665115800552725,
          null,
          -0.037874419950060724,
          -0.025326523042599063,
          null,
          0.7323742169026332,
          0.723788055160344,
          null
         ]
        },
        {
         "hoverinfo": "text",
         "hovertext": [
          "active_usage_months<br>Correlations:<br>zero_usage_months: 1.00",
          "zero_usage_months<br>Correlations:<br>active_usage_months: 1.00",
          "avg_delta_3mo<br>Correlations:<br>max_delta_3mo_increase: 1.00<br>max_delta_3mo_decrease: 1.00<br>last_1_delta_3mo: 1.00<br>avg_delta_1mo: 1.00",
          "max_delta_3mo_increase<br>Correlations:<br>avg_delta_3mo: 1.00<br>max_delta_3mo_decrease: 1.00<br>last_1_delta_3mo: 1.00<br>avg_delta_1mo: 1.00",
          "max_delta_3mo_decrease<br>Correlations:<br>avg_delta_3mo: 1.00<br>max_delta_3mo_increase: 1.00<br>last_1_delta_3mo: 1.00<br>avg_delta_1mo: 1.00",
          "last_1_delta_3mo<br>Correlations:<br>avg_delta_3mo: 1.00<br>max_delta_3mo_increase: 1.00<br>max_delta_3mo_decrease: 1.00<br>avg_delta_1mo: 1.00",
          "avg_monthly_usage_gb<br>Correlations:<br>total_usage_gb: 1.00<br>median_monthly_usage_gb: 0.99<br>last_2_3mo_rolling_avg: 0.99<br>last_1_3mo_rolling_avg: 0.99<br>usage_q75_gb: 0.99<br>max_monthly_usage_gb: 0.99<br>usage_q25_gb: 0.98<br>last_2_2mo_rolling_avg: 0.97<br>last_1_2mo_rolling_avg: 0.97<br>last_3_2mo_rolling_avg: 0.97<br>min_monthly_usage_gb: 0.95<br>last_3_month_usage_gb: 0.93<br>last_1_month_usage_gb: 0.93<br>last_2_month_usage_gb: 0.93<br>last_4_month_usage_gb: 0.93<br>usage_std_gb: 0.89<br>delta_1mo_volatility: 0.83",
          "total_usage_gb<br>Correlations:<br>avg_monthly_usage_gb: 1.00<br>median_monthly_usage_gb: 0.99<br>last_2_3mo_rolling_avg: 0.99<br>last_1_3mo_rolling_avg: 0.99<br>usage_q75_gb: 0.99<br>max_monthly_usage_gb: 0.99<br>usage_q25_gb: 0.98<br>last_2_2mo_rolling_avg: 0.97<br>last_1_2mo_rolling_avg: 0.97<br>last_3_2mo_rolling_avg: 0.97<br>min_monthly_usage_gb: 0.95<br>last_3_month_usage_gb: 0.93<br>last_1_month_usage_gb: 0.93<br>last_2_month_usage_gb: 0.93<br>last_4_month_usage_gb: 0.93<br>usage_std_gb: 0.89<br>delta_1mo_volatility: 0.83",
          "avg_delta_1mo<br>Correlations:<br>avg_delta_3mo: 1.00<br>max_delta_3mo_increase: 1.00<br>max_delta_3mo_decrease: 1.00<br>last_1_delta_3mo: 1.00",
          "median_monthly_usage_gb<br>Correlations:<br>avg_monthly_usage_gb: 0.99<br>total_usage_gb: 0.99<br>usage_q75_gb: 0.99<br>usage_q25_gb: 0.99<br>last_1_3mo_rolling_avg: 0.99<br>last_2_3mo_rolling_avg: 0.99<br>max_monthly_usage_gb: 0.97<br>last_2_2mo_rolling_avg: 0.97<br>last_1_2mo_rolling_avg: 0.97<br>last_3_2mo_rolling_avg: 0.97<br>min_monthly_usage_gb: 0.94<br>last_3_month_usage_gb: 0.92<br>last_1_month_usage_gb: 0.92<br>last_2_month_usage_gb: 0.92<br>last_4_month_usage_gb: 0.92<br>usage_std_gb: 0.88<br>delta_1mo_volatility: 0.82",
          "usage_q75_gb<br>Correlations:<br>median_monthly_usage_gb: 0.99<br>total_usage_gb: 0.99<br>avg_monthly_usage_gb: 0.99<br>last_2_3mo_rolling_avg: 0.98<br>last_1_3mo_rolling_avg: 0.98<br>max_monthly_usage_gb: 0.97<br>last_2_2mo_rolling_avg: 0.96<br>last_1_2mo_rolling_avg: 0.96<br>last_3_2mo_rolling_avg: 0.96<br>usage_q25_gb: 0.96<br>min_monthly_usage_gb: 0.92<br>last_3_month_usage_gb: 0.92<br>last_1_month_usage_gb: 0.92<br>last_2_month_usage_gb: 0.92<br>last_4_month_usage_gb: 0.92<br>usage_std_gb: 0.90<br>delta_1mo_volatility: 0.85",
          "last_2_3mo_rolling_avg<br>Correlations:<br>avg_monthly_usage_gb: 0.99<br>total_usage_gb: 0.99<br>median_monthly_usage_gb: 0.99<br>last_3_2mo_rolling_avg: 0.98<br>last_2_2mo_rolling_avg: 0.98<br>usage_q75_gb: 0.98<br>max_monthly_usage_gb: 0.98<br>last_1_3mo_rolling_avg: 0.98<br>usage_q25_gb: 0.97<br>last_1_2mo_rolling_avg: 0.95<br>min_monthly_usage_gb: 0.95<br>last_3_month_usage_gb: 0.94<br>last_1_month_usage_gb: 0.94<br>last_2_month_usage_gb: 0.94<br>usage_std_gb: 0.88<br>last_4_month_usage_gb: 0.87<br>delta_1mo_volatility: 0.83",
          "last_1_3mo_rolling_avg<br>Correlations:<br>total_usage_gb: 0.99<br>avg_monthly_usage_gb: 0.99<br>median_monthly_usage_gb: 0.99<br>last_1_2mo_rolling_avg: 0.98<br>last_2_2mo_rolling_avg: 0.98<br>usage_q75_gb: 0.98<br>max_monthly_usage_gb: 0.98<br>last_2_3mo_rolling_avg: 0.98<br>usage_q25_gb: 0.97<br>last_3_2mo_rolling_avg: 0.95<br>min_monthly_usage_gb: 0.95<br>last_3_month_usage_gb: 0.94<br>last_4_month_usage_gb: 0.94<br>last_2_month_usage_gb: 0.93<br>usage_std_gb: 0.88<br>last_1_month_usage_gb: 0.87<br>delta_1mo_volatility: 0.83",
          "usage_q25_gb<br>Correlations:<br>median_monthly_usage_gb: 0.99<br>avg_monthly_usage_gb: 0.98<br>total_usage_gb: 0.98<br>last_1_3mo_rolling_avg: 0.97<br>last_2_3mo_rolling_avg: 0.97<br>usage_q75_gb: 0.96<br>last_2_2mo_rolling_avg: 0.96<br>last_1_2mo_rolling_avg: 0.95<br>last_3_2mo_rolling_avg: 0.95<br>max_monthly_usage_gb: 0.94<br>min_monthly_usage_gb: 0.94<br>last_3_month_usage_gb: 0.91<br>last_2_month_usage_gb: 0.91<br>last_4_month_usage_gb: 0.91<br>last_1_month_usage_gb: 0.91<br>usage_std_gb: 0.82",
          "max_monthly_usage_gb<br>Correlations:<br>total_usage_gb: 0.99<br>avg_monthly_usage_gb: 0.99<br>last_1_3mo_rolling_avg: 0.98<br>last_2_3mo_rolling_avg: 0.98<br>usage_q75_gb: 0.97<br>median_monthly_usage_gb: 0.97<br>last_2_2mo_rolling_avg: 0.96<br>last_1_2mo_rolling_avg: 0.96<br>last_3_2mo_rolling_avg: 0.96<br>usage_q25_gb: 0.94<br>usage_std_gb: 0.94<br>last_3_month_usage_gb: 0.91<br>min_monthly_usage_gb: 0.91<br>last_4_month_usage_gb: 0.91<br>last_1_month_usage_gb: 0.91<br>last_2_month_usage_gb: 0.91<br>delta_1mo_volatility: 0.89<br>max_delta_1mo_increase: 0.82<br>max_delta_1mo_decrease: 0.82",
          "last_1_2mo_rolling_avg<br>Correlations:<br>last_1_3mo_rolling_avg: 0.98<br>total_usage_gb: 0.97<br>avg_monthly_usage_gb: 0.97<br>median_monthly_usage_gb: 0.97<br>usage_q75_gb: 0.96<br>max_monthly_usage_gb: 0.96<br>usage_q25_gb: 0.95<br>last_3_month_usage_gb: 0.95<br>last_4_month_usage_gb: 0.95<br>last_2_2mo_rolling_avg: 0.95<br>last_2_3mo_rolling_avg: 0.95<br>min_monthly_usage_gb: 0.93<br>last_3_2mo_rolling_avg: 0.90<br>usage_std_gb: 0.87<br>last_2_month_usage_gb: 0.85<br>last_1_month_usage_gb: 0.85<br>max_delta_1mo_increase: 0.81<br>delta_1mo_volatility: 0.81",
          "last_3_2mo_rolling_avg<br>Correlations:<br>last_2_3mo_rolling_avg: 0.98<br>avg_monthly_usage_gb: 0.97<br>total_usage_gb: 0.97<br>median_monthly_usage_gb: 0.97<br>usage_q75_gb: 0.96<br>max_monthly_usage_gb: 0.96<br>usage_q25_gb: 0.95<br>last_1_month_usage_gb: 0.95<br>last_2_month_usage_gb: 0.95<br>last_2_2mo_rolling_avg: 0.95<br>last_1_3mo_rolling_avg: 0.95<br>min_monthly_usage_gb: 0.93<br>last_1_2mo_rolling_avg: 0.90<br>usage_std_gb: 0.87<br>last_3_month_usage_gb: 0.85<br>last_4_month_usage_gb: 0.85<br>max_delta_1mo_decrease: 0.81<br>delta_1mo_volatility: 0.81",
          "last_2_2mo_rolling_avg<br>Correlations:<br>last_1_3mo_rolling_avg: 0.98<br>last_2_3mo_rolling_avg: 0.98<br>avg_monthly_usage_gb: 0.97<br>total_usage_gb: 0.97<br>median_monthly_usage_gb: 0.97<br>usage_q75_gb: 0.96<br>max_monthly_usage_gb: 0.96<br>usage_q25_gb: 0.96<br>last_3_month_usage_gb: 0.95<br>last_2_month_usage_gb: 0.95<br>last_3_2mo_rolling_avg: 0.95<br>last_1_2mo_rolling_avg: 0.95<br>min_monthly_usage_gb: 0.93<br>usage_std_gb: 0.87<br>last_1_month_usage_gb: 0.85<br>last_4_month_usage_gb: 0.85<br>delta_1mo_volatility: 0.81",
          "min_monthly_usage_gb<br>Correlations:<br>avg_monthly_usage_gb: 0.95<br>total_usage_gb: 0.95<br>last_2_3mo_rolling_avg: 0.95<br>last_1_3mo_rolling_avg: 0.95<br>usage_q25_gb: 0.94<br>median_monthly_usage_gb: 0.94<br>last_2_2mo_rolling_avg: 0.93<br>last_3_2mo_rolling_avg: 0.93<br>last_1_2mo_rolling_avg: 0.93<br>usage_q75_gb: 0.92<br>max_monthly_usage_gb: 0.91<br>last_3_month_usage_gb: 0.89<br>last_2_month_usage_gb: 0.88<br>last_1_month_usage_gb: 0.88<br>last_4_month_usage_gb: 0.88",
          "last_3_month_usage_gb<br>Correlations:<br>last_1_2mo_rolling_avg: 0.95<br>last_2_2mo_rolling_avg: 0.95<br>last_1_3mo_rolling_avg: 0.94<br>last_2_3mo_rolling_avg: 0.94<br>total_usage_gb: 0.93<br>avg_monthly_usage_gb: 0.93<br>median_monthly_usage_gb: 0.92<br>usage_q75_gb: 0.92<br>max_monthly_usage_gb: 0.91<br>usage_q25_gb: 0.91<br>min_monthly_usage_gb: 0.89<br>last_3_2mo_rolling_avg: 0.85<br>usage_std_gb: 0.82<br>last_4_month_usage_gb: 0.81<br>last_1_month_usage_gb: 0.81<br>last_2_month_usage_gb: 0.81",
          "last_4_month_usage_gb<br>Correlations:<br>last_1_2mo_rolling_avg: 0.95<br>last_1_3mo_rolling_avg: 0.94<br>total_usage_gb: 0.93<br>avg_monthly_usage_gb: 0.93<br>median_monthly_usage_gb: 0.92<br>usage_q75_gb: 0.92<br>max_monthly_usage_gb: 0.91<br>usage_q25_gb: 0.91<br>min_monthly_usage_gb: 0.88<br>last_2_3mo_rolling_avg: 0.87<br>last_2_2mo_rolling_avg: 0.85<br>last_3_2mo_rolling_avg: 0.85<br>usage_std_gb: 0.83<br>max_delta_1mo_increase: 0.81<br>last_3_month_usage_gb: 0.81<br>last_2_month_usage_gb: 0.81<br>last_1_month_usage_gb: 0.81",
          "last_1_month_usage_gb<br>Correlations:<br>last_3_2mo_rolling_avg: 0.95<br>last_2_3mo_rolling_avg: 0.94<br>total_usage_gb: 0.93<br>avg_monthly_usage_gb: 0.93<br>median_monthly_usage_gb: 0.92<br>usage_q75_gb: 0.92<br>max_monthly_usage_gb: 0.91<br>usage_q25_gb: 0.91<br>min_monthly_usage_gb: 0.88<br>last_1_3mo_rolling_avg: 0.87<br>last_2_2mo_rolling_avg: 0.85<br>last_1_2mo_rolling_avg: 0.85<br>usage_std_gb: 0.82<br>max_delta_1mo_decrease: 0.81<br>last_3_month_usage_gb: 0.81<br>last_2_month_usage_gb: 0.81<br>last_4_month_usage_gb: 0.81",
          "last_2_month_usage_gb<br>Correlations:<br>last_2_2mo_rolling_avg: 0.95<br>last_3_2mo_rolling_avg: 0.95<br>last_2_3mo_rolling_avg: 0.94<br>last_1_3mo_rolling_avg: 0.93<br>avg_monthly_usage_gb: 0.93<br>total_usage_gb: 0.93<br>median_monthly_usage_gb: 0.92<br>usage_q75_gb: 0.92<br>max_monthly_usage_gb: 0.91<br>usage_q25_gb: 0.91<br>min_monthly_usage_gb: 0.88<br>last_1_2mo_rolling_avg: 0.85<br>usage_std_gb: 0.82<br>last_3_month_usage_gb: 0.81<br>last_1_month_usage_gb: 0.81<br>last_4_month_usage_gb: 0.81",
          "usage_std_gb<br>Correlations:<br>max_monthly_usage_gb: 0.94<br>delta_1mo_volatility: 0.94<br>usage_q75_gb: 0.90<br>total_usage_gb: 0.89<br>avg_monthly_usage_gb: 0.89<br>last_1_3mo_rolling_avg: 0.88<br>last_2_3mo_rolling_avg: 0.88<br>median_monthly_usage_gb: 0.88<br>max_delta_1mo_increase: 0.87<br>last_1_2mo_rolling_avg: 0.87<br>last_2_2mo_rolling_avg: 0.87<br>last_3_2mo_rolling_avg: 0.87<br>max_delta_1mo_decrease: 0.87<br>last_4_month_usage_gb: 0.83<br>last_3_month_usage_gb: 0.82<br>last_1_month_usage_gb: 0.82<br>last_2_month_usage_gb: 0.82<br>usage_q25_gb: 0.82<br>last_2_2mo_rolling_stdev: 0.81<br>last_3_2mo_rolling_stdev: 0.81<br>last_1_2mo_rolling_stdev: 0.81",
          "delta_1mo_volatility<br>Correlations:<br>usage_std_gb: 0.94<br>max_delta_1mo_decrease: 0.92<br>max_delta_1mo_increase: 0.92<br>max_monthly_usage_gb: 0.89<br>last_2_2mo_rolling_stdev: 0.85<br>usage_q75_gb: 0.85<br>total_usage_gb: 0.83<br>avg_monthly_usage_gb: 0.83<br>last_3_2mo_rolling_stdev: 0.83<br>last_1_2mo_rolling_stdev: 0.83<br>last_2_3mo_rolling_avg: 0.83<br>last_1_3mo_rolling_avg: 0.83<br>median_monthly_usage_gb: 0.82<br>last_3_2mo_rolling_avg: 0.81<br>last_1_2mo_rolling_avg: 0.81<br>last_2_2mo_rolling_avg: 0.81",
          "months_with_delta_3mo_decrease<br>Correlations:<br>months_with_delta_3mo_increase: 0.94",
          "months_with_delta_3mo_increase<br>Correlations:<br>months_with_delta_3mo_decrease: 0.94",
          "months_with_delta_2mo_decrease<br>Correlations:<br>months_with_delta_2mo_increase: 0.93",
          "months_with_delta_2mo_increase<br>Correlations:<br>months_with_delta_2mo_decrease: 0.93",
          "max_delta_1mo_decrease<br>Correlations:<br>delta_1mo_volatility: 0.92<br>usage_std_gb: 0.87<br>max_monthly_usage_gb: 0.82<br>last_1_month_usage_gb: 0.81<br>last_3_2mo_rolling_avg: 0.81",
          "max_delta_1mo_increase<br>Correlations:<br>delta_1mo_volatility: 0.92<br>usage_std_gb: 0.87<br>max_monthly_usage_gb: 0.82<br>last_4_month_usage_gb: 0.81<br>last_1_2mo_rolling_avg: 0.81",
          "months_with_delta_1mo_decrease<br>Correlations:<br>months_with_delta_1mo_increase: 0.88",
          "months_with_delta_1mo_increase<br>Correlations:<br>months_with_delta_1mo_decrease: 0.88",
          "last_2_2mo_rolling_stdev<br>Correlations:<br>delta_1mo_volatility: 0.85<br>usage_std_gb: 0.81",
          "last_3_2mo_rolling_stdev<br>Correlations:<br>delta_1mo_volatility: 0.83<br>usage_std_gb: 0.81",
          "last_1_2mo_rolling_stdev<br>Correlations:<br>delta_1mo_volatility: 0.83<br>usage_std_gb: 0.81",
          "contract_binding_days<br>Correlations:<br>contract_lifetime_days: 0.82",
          "contract_lifetime_days<br>Correlations:<br>contract_binding_days: 0.82"
         ],
         "marker": {
          "color": "#87ceeb",
          "line": {
           "width": 2
          },
          "showscale": false,
          "size": 20
         },
         "mode": "markers+text",
         "text": [
          "active_usage_months",
          "zero_usage_months",
          "avg_delta_3mo",
          "max_delta_3mo_increase",
          "max_delta_3mo_decrease",
          "last_1_delta_3mo",
          "avg_monthly_usage_gb",
          "total_usage_gb",
          "avg_delta_1mo",
          "median_monthly_usage_gb",
          "usage_q75_gb",
          "last_2_3mo_rolling_avg",
          "last_1_3mo_rolling_avg",
          "usage_q25_gb",
          "max_monthly_usage_gb",
          "last_1_2mo_rolling_avg",
          "last_3_2mo_rolling_avg",
          "last_2_2mo_rolling_avg",
          "min_monthly_usage_gb",
          "last_3_month_usage_gb",
          "last_4_month_usage_gb",
          "last_1_month_usage_gb",
          "last_2_month_usage_gb",
          "usage_std_gb",
          "delta_1mo_volatility",
          "months_with_delta_3mo_decrease",
          "months_with_delta_3mo_increase",
          "months_with_delta_2mo_decrease",
          "months_with_delta_2mo_increase",
          "max_delta_1mo_decrease",
          "max_delta_1mo_increase",
          "months_with_delta_1mo_decrease",
          "months_with_delta_1mo_increase",
          "last_2_2mo_rolling_stdev",
          "last_3_2mo_rolling_stdev",
          "last_1_2mo_rolling_stdev",
          "contract_binding_days",
          "contract_lifetime_days"
         ],
         "textposition": "top center",
         "type": "scatter",
         "x": [
          0.49488442015897255,
          0.5166094461089296,
          -0.7451970930479028,
          -0.7470519693345146,
          -0.7045496256668458,
          -0.7859209073504774,
          0.028945655279834528,
          0.05068364061313995,
          -0.7825293738779175,
          0.049321959081918144,
          0.07078638003683634,
          0.08281374424220161,
          0.042584411846586234,
          0.07459199990879206,
          0.04352271612694898,
          0.06319334403610871,
          0.01859232517957906,
          0.06046160874602845,
          0.08706001679512716,
          0.10354824668834008,
          0.09665506613691374,
          0.028308969671333336,
          0.09025562310091428,
          0.018605733022778573,
          -0.0028514059240226926,
          0.9999999999999999,
          0.9882793584888268,
          -0.6720721206392057,
          -0.7467258999468601,
          -0.04599677458161149,
          0.06086486004646553,
          0.8975795275600346,
          0.8168672330692986,
          -0.07302825507900673,
          -0.0999435384141643,
          -0.022931515179474664,
          -0.2055406300593198,
          -0.150677176844584
         ],
         "y": [
          0.7096211791011178,
          0.658571694766293,
          0.17150807463410472,
          0.22640454966683027,
          0.17978143928824694,
          0.21682040228558122,
          -0.1278492413247967,
          -0.15998216432850296,
          0.17523679115947602,
          -0.13877472968275115,
          -0.16384244484232052,
          -0.14597168936084642,
          -0.11452066478177474,
          -0.12745302910739145,
          -0.1862506439636528,
          -0.18632944712276378,
          -0.1457956143052767,
          -0.11536264664267104,
          -0.1844053531320662,
          -0.1457283483263515,
          -0.172395115778955,
          -0.16134271686388157,
          -0.11864439511815725,
          -0.1900776801043691,
          -0.19484647558552531,
          0.2799714424622916,
          0.33417471246021585,
          -0.16971436529141917,
          -0.20665115800552725,
          -0.18576380351284008,
          -0.2568255578926765,
          -0.037874419950060724,
          -0.025326523042599063,
          -0.2607721058893225,
          -0.1897957799104421,
          -0.2959564440201939,
          0.7323742169026332,
          0.723788055160344
         ]
        }
       ],
       "layout": {
        "height": 800,
        "hovermode": "closest",
        "margin": {
         "b": 20,
         "l": 5,
         "r": 5,
         "t": 40
        },
        "showlegend": false,
        "template": {
         "data": {
          "bar": [
           {
            "error_x": {
             "color": "#2a3f5f"
            },
            "error_y": {
             "color": "#2a3f5f"
            },
            "marker": {
             "line": {
              "color": "#E5ECF6",
              "width": 0.5
             },
             "pattern": {
              "fillmode": "overlay",
              "size": 10,
              "solidity": 0.2
             }
            },
            "type": "bar"
           }
          ],
          "barpolar": [
           {
            "marker": {
             "line": {
              "color": "#E5ECF6",
              "width": 0.5
             },
             "pattern": {
              "fillmode": "overlay",
              "size": 10,
              "solidity": 0.2
             }
            },
            "type": "barpolar"
           }
          ],
          "carpet": [
           {
            "aaxis": {
             "endlinecolor": "#2a3f5f",
             "gridcolor": "white",
             "linecolor": "white",
             "minorgridcolor": "white",
             "startlinecolor": "#2a3f5f"
            },
            "baxis": {
             "endlinecolor": "#2a3f5f",
             "gridcolor": "white",
             "linecolor": "white",
             "minorgridcolor": "white",
             "startlinecolor": "#2a3f5f"
            },
            "type": "carpet"
           }
          ],
          "choropleth": [
           {
            "colorbar": {
             "outlinewidth": 0,
             "ticks": ""
            },
            "type": "choropleth"
           }
          ],
          "contour": [
           {
            "colorbar": {
             "outlinewidth": 0,
             "ticks": ""
            },
            "colorscale": [
             [
              0,
              "#0d0887"
             ],
             [
              0.1111111111111111,
              "#46039f"
             ],
             [
              0.2222222222222222,
              "#7201a8"
             ],
             [
              0.3333333333333333,
              "#9c179e"
             ],
             [
              0.4444444444444444,
              "#bd3786"
             ],
             [
              0.5555555555555556,
              "#d8576b"
             ],
             [
              0.6666666666666666,
              "#ed7953"
             ],
             [
              0.7777777777777778,
              "#fb9f3a"
             ],
             [
              0.8888888888888888,
              "#fdca26"
             ],
             [
              1,
              "#f0f921"
             ]
            ],
            "type": "contour"
           }
          ],
          "contourcarpet": [
           {
            "colorbar": {
             "outlinewidth": 0,
             "ticks": ""
            },
            "type": "contourcarpet"
           }
          ],
          "heatmap": [
           {
            "colorbar": {
             "outlinewidth": 0,
             "ticks": ""
            },
            "colorscale": [
             [
              0,
              "#0d0887"
             ],
             [
              0.1111111111111111,
              "#46039f"
             ],
             [
              0.2222222222222222,
              "#7201a8"
             ],
             [
              0.3333333333333333,
              "#9c179e"
             ],
             [
              0.4444444444444444,
              "#bd3786"
             ],
             [
              0.5555555555555556,
              "#d8576b"
             ],
             [
              0.6666666666666666,
              "#ed7953"
             ],
             [
              0.7777777777777778,
              "#fb9f3a"
             ],
             [
              0.8888888888888888,
              "#fdca26"
             ],
             [
              1,
              "#f0f921"
             ]
            ],
            "type": "heatmap"
           }
          ],
          "histogram": [
           {
            "marker": {
             "pattern": {
              "fillmode": "overlay",
              "size": 10,
              "solidity": 0.2
             }
            },
            "type": "histogram"
           }
          ],
          "histogram2d": [
           {
            "colorbar": {
             "outlinewidth": 0,
             "ticks": ""
            },
            "colorscale": [
             [
              0,
              "#0d0887"
             ],
             [
              0.1111111111111111,
              "#46039f"
             ],
             [
              0.2222222222222222,
              "#7201a8"
             ],
             [
              0.3333333333333333,
              "#9c179e"
             ],
             [
              0.4444444444444444,
              "#bd3786"
             ],
             [
              0.5555555555555556,
              "#d8576b"
             ],
             [
              0.6666666666666666,
              "#ed7953"
             ],
             [
              0.7777777777777778,
              "#fb9f3a"
             ],
             [
              0.8888888888888888,
              "#fdca26"
             ],
             [
              1,
              "#f0f921"
             ]
            ],
            "type": "histogram2d"
           }
          ],
          "histogram2dcontour": [
           {
            "colorbar": {
             "outlinewidth": 0,
             "ticks": ""
            },
            "colorscale": [
             [
              0,
              "#0d0887"
             ],
             [
              0.1111111111111111,
              "#46039f"
             ],
             [
              0.2222222222222222,
              "#7201a8"
             ],
             [
              0.3333333333333333,
              "#9c179e"
             ],
             [
              0.4444444444444444,
              "#bd3786"
             ],
             [
              0.5555555555555556,
              "#d8576b"
             ],
             [
              0.6666666666666666,
              "#ed7953"
             ],
             [
              0.7777777777777778,
              "#fb9f3a"
             ],
             [
              0.8888888888888888,
              "#fdca26"
             ],
             [
              1,
              "#f0f921"
             ]
            ],
            "type": "histogram2dcontour"
           }
          ],
          "mesh3d": [
           {
            "colorbar": {
             "outlinewidth": 0,
             "ticks": ""
            },
            "type": "mesh3d"
           }
          ],
          "parcoords": [
           {
            "line": {
             "colorbar": {
              "outlinewidth": 0,
              "ticks": ""
             }
            },
            "type": "parcoords"
           }
          ],
          "pie": [
           {
            "automargin": true,
            "type": "pie"
           }
          ],
          "scatter": [
           {
            "fillpattern": {
             "fillmode": "overlay",
             "size": 10,
             "solidity": 0.2
            },
            "type": "scatter"
           }
          ],
          "scatter3d": [
           {
            "line": {
             "colorbar": {
              "outlinewidth": 0,
              "ticks": ""
             }
            },
            "marker": {
             "colorbar": {
              "outlinewidth": 0,
              "ticks": ""
             }
            },
            "type": "scatter3d"
           }
          ],
          "scattercarpet": [
           {
            "marker": {
             "colorbar": {
              "outlinewidth": 0,
              "ticks": ""
             }
            },
            "type": "scattercarpet"
           }
          ],
          "scattergeo": [
           {
            "marker": {
             "colorbar": {
              "outlinewidth": 0,
              "ticks": ""
             }
            },
            "type": "scattergeo"
           }
          ],
          "scattergl": [
           {
            "marker": {
             "colorbar": {
              "outlinewidth": 0,
              "ticks": ""
             }
            },
            "type": "scattergl"
           }
          ],
          "scattermap": [
           {
            "marker": {
             "colorbar": {
              "outlinewidth": 0,
              "ticks": ""
             }
            },
            "type": "scattermap"
           }
          ],
          "scattermapbox": [
           {
            "marker": {
             "colorbar": {
              "outlinewidth": 0,
              "ticks": ""
             }
            },
            "type": "scattermapbox"
           }
          ],
          "scatterpolar": [
           {
            "marker": {
             "colorbar": {
              "outlinewidth": 0,
              "ticks": ""
             }
            },
            "type": "scatterpolar"
           }
          ],
          "scatterpolargl": [
           {
            "marker": {
             "colorbar": {
              "outlinewidth": 0,
              "ticks": ""
             }
            },
            "type": "scatterpolargl"
           }
          ],
          "scatterternary": [
           {
            "marker": {
             "colorbar": {
              "outlinewidth": 0,
              "ticks": ""
             }
            },
            "type": "scatterternary"
           }
          ],
          "surface": [
           {
            "colorbar": {
             "outlinewidth": 0,
             "ticks": ""
            },
            "colorscale": [
             [
              0,
              "#0d0887"
             ],
             [
              0.1111111111111111,
              "#46039f"
             ],
             [
              0.2222222222222222,
              "#7201a8"
             ],
             [
              0.3333333333333333,
              "#9c179e"
             ],
             [
              0.4444444444444444,
              "#bd3786"
             ],
             [
              0.5555555555555556,
              "#d8576b"
             ],
             [
              0.6666666666666666,
              "#ed7953"
             ],
             [
              0.7777777777777778,
              "#fb9f3a"
             ],
             [
              0.8888888888888888,
              "#fdca26"
             ],
             [
              1,
              "#f0f921"
             ]
            ],
            "type": "surface"
           }
          ],
          "table": [
           {
            "cells": {
             "fill": {
              "color": "#EBF0F8"
             },
             "line": {
              "color": "white"
             }
            },
            "header": {
             "fill": {
              "color": "#C8D4E3"
             },
             "line": {
              "color": "white"
             }
            },
            "type": "table"
           }
          ]
         },
         "layout": {
          "annotationdefaults": {
           "arrowcolor": "#2a3f5f",
           "arrowhead": 0,
           "arrowwidth": 1
          },
          "autotypenumbers": "strict",
          "coloraxis": {
           "colorbar": {
            "outlinewidth": 0,
            "ticks": ""
           }
          },
          "colorscale": {
           "diverging": [
            [
             0,
             "#8e0152"
            ],
            [
             0.1,
             "#c51b7d"
            ],
            [
             0.2,
             "#de77ae"
            ],
            [
             0.3,
             "#f1b6da"
            ],
            [
             0.4,
             "#fde0ef"
            ],
            [
             0.5,
             "#f7f7f7"
            ],
            [
             0.6,
             "#e6f5d0"
            ],
            [
             0.7,
             "#b8e186"
            ],
            [
             0.8,
             "#7fbc41"
            ],
            [
             0.9,
             "#4d9221"
            ],
            [
             1,
             "#276419"
            ]
           ],
           "sequential": [
            [
             0,
             "#0d0887"
            ],
            [
             0.1111111111111111,
             "#46039f"
            ],
            [
             0.2222222222222222,
             "#7201a8"
            ],
            [
             0.3333333333333333,
             "#9c179e"
            ],
            [
             0.4444444444444444,
             "#bd3786"
            ],
            [
             0.5555555555555556,
             "#d8576b"
            ],
            [
             0.6666666666666666,
             "#ed7953"
            ],
            [
             0.7777777777777778,
             "#fb9f3a"
            ],
            [
             0.8888888888888888,
             "#fdca26"
            ],
            [
             1,
             "#f0f921"
            ]
           ],
           "sequentialminus": [
            [
             0,
             "#0d0887"
            ],
            [
             0.1111111111111111,
             "#46039f"
            ],
            [
             0.2222222222222222,
             "#7201a8"
            ],
            [
             0.3333333333333333,
             "#9c179e"
            ],
            [
             0.4444444444444444,
             "#bd3786"
            ],
            [
             0.5555555555555556,
             "#d8576b"
            ],
            [
             0.6666666666666666,
             "#ed7953"
            ],
            [
             0.7777777777777778,
             "#fb9f3a"
            ],
            [
             0.8888888888888888,
             "#fdca26"
            ],
            [
             1,
             "#f0f921"
            ]
           ]
          },
          "colorway": [
           "#636efa",
           "#EF553B",
           "#00cc96",
           "#ab63fa",
           "#FFA15A",
           "#19d3f3",
           "#FF6692",
           "#B6E880",
           "#FF97FF",
           "#FECB52"
          ],
          "font": {
           "color": "#2a3f5f"
          },
          "geo": {
           "bgcolor": "white",
           "lakecolor": "white",
           "landcolor": "#E5ECF6",
           "showlakes": true,
           "showland": true,
           "subunitcolor": "white"
          },
          "hoverlabel": {
           "align": "left"
          },
          "hovermode": "closest",
          "mapbox": {
           "style": "light"
          },
          "paper_bgcolor": "white",
          "plot_bgcolor": "#E5ECF6",
          "polar": {
           "angularaxis": {
            "gridcolor": "white",
            "linecolor": "white",
            "ticks": ""
           },
           "bgcolor": "#E5ECF6",
           "radialaxis": {
            "gridcolor": "white",
            "linecolor": "white",
            "ticks": ""
           }
          },
          "scene": {
           "xaxis": {
            "backgroundcolor": "#E5ECF6",
            "gridcolor": "white",
            "gridwidth": 2,
            "linecolor": "white",
            "showbackground": true,
            "ticks": "",
            "zerolinecolor": "white"
           },
           "yaxis": {
            "backgroundcolor": "#E5ECF6",
            "gridcolor": "white",
            "gridwidth": 2,
            "linecolor": "white",
            "showbackground": true,
            "ticks": "",
            "zerolinecolor": "white"
           },
           "zaxis": {
            "backgroundcolor": "#E5ECF6",
            "gridcolor": "white",
            "gridwidth": 2,
            "linecolor": "white",
            "showbackground": true,
            "ticks": "",
            "zerolinecolor": "white"
           }
          },
          "shapedefaults": {
           "line": {
            "color": "#2a3f5f"
           }
          },
          "ternary": {
           "aaxis": {
            "gridcolor": "white",
            "linecolor": "white",
            "ticks": ""
           },
           "baxis": {
            "gridcolor": "white",
            "linecolor": "white",
            "ticks": ""
           },
           "bgcolor": "#E5ECF6",
           "caxis": {
            "gridcolor": "white",
            "linecolor": "white",
            "ticks": ""
           }
          },
          "title": {
           "x": 0.05
          },
          "xaxis": {
           "automargin": true,
           "gridcolor": "white",
           "linecolor": "white",
           "ticks": "",
           "title": {
            "standoff": 15
           },
           "zerolinecolor": "white",
           "zerolinewidth": 2
          },
          "yaxis": {
           "automargin": true,
           "gridcolor": "white",
           "linecolor": "white",
           "ticks": "",
           "title": {
            "standoff": 15
           },
           "zerolinecolor": "white",
           "zerolinewidth": 2
          }
         }
        },
        "title": {
         "text": "Clusters of Highly Correlated Features"
        },
        "width": 1200,
        "xaxis": {
         "showgrid": false,
         "showticklabels": false,
         "zeroline": false
        },
        "yaxis": {
         "showgrid": false,
         "showticklabels": false,
         "zeroline": false
        }
       }
      }
     },
     "metadata": {},
     "output_type": "display_data"
    }
   ],
   "source": [
    "plot_correlation_network(G_80, pos=nx.spring_layout(G_80, seed=42))"
   ]
  },
  {
   "cell_type": "code",
   "execution_count": null,
   "id": "2b94f83c",
   "metadata": {},
   "outputs": [],
   "source": []
  },
  {
   "cell_type": "code",
   "execution_count": 46,
   "id": "0f49dbd2",
   "metadata": {},
   "outputs": [],
   "source": [
    "G_90, remove_90, clusters_90 = correlation_graph_analysis(correlation_analysis, 0.9)"
   ]
  },
  {
   "cell_type": "code",
   "execution_count": 47,
   "id": "7f8947b4",
   "metadata": {},
   "outputs": [
    {
     "data": {
      "application/vnd.plotly.v1+json": {
       "config": {
        "plotlyServerURL": "https://plot.ly"
       },
       "data": [
        {
         "hoverinfo": "none",
         "line": {
          "color": "#888",
          "width": 1
         },
         "mode": "lines",
         "type": "scatter",
         "x": [
          0.4236747938636155,
          0.4423243615225703,
          null,
          -0.6873042261566543,
          -0.7321261524256069,
          null,
          -0.6873042261566543,
          -0.6519519504879354,
          null,
          -0.6873042261566543,
          -0.7233372738230144,
          null,
          -0.6873042261566543,
          -0.6817216641743348,
          null,
          -0.7321261524256069,
          -0.6519519504879354,
          null,
          -0.7321261524256069,
          -0.7233372738230144,
          null,
          -0.7321261524256069,
          -0.6817216641743348,
          null,
          -0.6519519504879354,
          -0.7233372738230144,
          null,
          -0.6519519504879354,
          -0.6817216641743348,
          null,
          -0.7233372738230144,
          -0.6817216641743348,
          null,
          0.09481559083539903,
          0.08424153330365614,
          null,
          0.09481559083539903,
          0.11253873825578647,
          null,
          0.09481559083539903,
          0.10190278248546324,
          null,
          0.09481559083539903,
          0.14469739067673232,
          null,
          0.09481559083539903,
          0.1061656173342331,
          null,
          0.09481559083539903,
          0.0866744000653605,
          null,
          0.09481559083539903,
          0.11918583530187056,
          null,
          0.09481559083539903,
          0.13509554275536517,
          null,
          0.09481559083539903,
          0.1686057583123654,
          null,
          0.09481559083539903,
          0.06055387211148361,
          null,
          0.09481559083539903,
          0.13970301678345065,
          null,
          0.09481559083539903,
          0.17104298840852183,
          null,
          0.09481559083539903,
          0.03269803854856152,
          null,
          0.09481559083539903,
          0.07728907354064535,
          null,
          0.09481559083539903,
          0.1444681710186362,
          null,
          0.08424153330365614,
          0.11253873825578647,
          null,
          0.08424153330365614,
          0.10190278248546324,
          null,
          0.08424153330365614,
          0.14469739067673232,
          null,
          0.08424153330365614,
          0.1061656173342331,
          null,
          0.08424153330365614,
          0.0866744000653605,
          null,
          0.08424153330365614,
          0.11918583530187056,
          null,
          0.08424153330365614,
          0.13509554275536517,
          null,
          0.08424153330365614,
          0.1686057583123654,
          null,
          0.08424153330365614,
          0.06055387211148361,
          null,
          0.08424153330365614,
          0.13970301678345065,
          null,
          0.08424153330365614,
          0.17104298840852183,
          null,
          0.08424153330365614,
          0.03269803854856152,
          null,
          0.08424153330365614,
          0.07728907354064535,
          null,
          0.08424153330365614,
          0.1444681710186362,
          null,
          0.11253873825578647,
          0.1061656173342331,
          null,
          0.11253873825578647,
          0.11918583530187056,
          null,
          0.11253873825578647,
          0.14469739067673232,
          null,
          0.11253873825578647,
          0.10190278248546324,
          null,
          0.11253873825578647,
          0.0866744000653605,
          null,
          0.11253873825578647,
          0.13509554275536517,
          null,
          0.11253873825578647,
          0.1686057583123654,
          null,
          0.11253873825578647,
          0.06055387211148361,
          null,
          0.11253873825578647,
          0.13970301678345065,
          null,
          0.11253873825578647,
          0.17104298840852183,
          null,
          0.11253873825578647,
          0.03269803854856152,
          null,
          0.11253873825578647,
          0.07728907354064535,
          null,
          0.11253873825578647,
          0.1444681710186362,
          null,
          0.1061656173342331,
          0.10190278248546324,
          null,
          0.1061656173342331,
          0.14469739067673232,
          null,
          0.1061656173342331,
          0.0866744000653605,
          null,
          0.1061656173342331,
          0.13509554275536517,
          null,
          0.1061656173342331,
          0.1686057583123654,
          null,
          0.1061656173342331,
          0.06055387211148361,
          null,
          0.1061656173342331,
          0.11918583530187056,
          null,
          0.1061656173342331,
          0.13970301678345065,
          null,
          0.1061656173342331,
          0.17104298840852183,
          null,
          0.1061656173342331,
          0.03269803854856152,
          null,
          0.1061656173342331,
          0.07728907354064535,
          null,
          0.1061656173342331,
          0.1444681710186362,
          null,
          0.1061656173342331,
          0.0679059819068681,
          null,
          0.10190278248546324,
          0.06055387211148361,
          null,
          0.10190278248546324,
          0.13509554275536517,
          null,
          0.10190278248546324,
          0.0866744000653605,
          null,
          0.10190278248546324,
          0.14469739067673232,
          null,
          0.10190278248546324,
          0.11918583530187056,
          null,
          0.10190278248546324,
          0.1686057583123654,
          null,
          0.10190278248546324,
          0.13970301678345065,
          null,
          0.10190278248546324,
          0.17104298840852183,
          null,
          0.10190278248546324,
          0.03269803854856152,
          null,
          0.10190278248546324,
          0.07728907354064535,
          null,
          0.14469739067673232,
          0.1686057583123654,
          null,
          0.14469739067673232,
          0.13509554275536517,
          null,
          0.14469739067673232,
          0.0866744000653605,
          null,
          0.14469739067673232,
          0.11918583530187056,
          null,
          0.14469739067673232,
          0.06055387211148361,
          null,
          0.14469739067673232,
          0.13970301678345065,
          null,
          0.14469739067673232,
          0.17104298840852183,
          null,
          0.14469739067673232,
          0.1444681710186362,
          null,
          0.14469739067673232,
          0.07728907354064535,
          null,
          0.11918583530187056,
          0.13509554275536517,
          null,
          0.11918583530187056,
          0.1686057583123654,
          null,
          0.11918583530187056,
          0.06055387211148361,
          null,
          0.11918583530187056,
          0.0866744000653605,
          null,
          0.11918583530187056,
          0.13970301678345065,
          null,
          0.11918583530187056,
          0.17104298840852183,
          null,
          0.11918583530187056,
          0.07728907354064535,
          null,
          0.11918583530187056,
          0.1444681710186362,
          null,
          0.11918583530187056,
          0.03269803854856152,
          null,
          0.0866744000653605,
          0.13509554275536517,
          null,
          0.0866744000653605,
          0.1686057583123654,
          null,
          0.0866744000653605,
          0.06055387211148361,
          null,
          0.0866744000653605,
          0.0679059819068681,
          null,
          0.0866744000653605,
          0.17104298840852183,
          null,
          0.0866744000653605,
          0.13970301678345065,
          null,
          0.0866744000653605,
          0.1444681710186362,
          null,
          0.0866744000653605,
          0.03269803854856152,
          null,
          0.0866744000653605,
          0.07728907354064535,
          null,
          0.1686057583123654,
          0.17104298840852183,
          null,
          0.1686057583123654,
          0.1444681710186362,
          null,
          0.1686057583123654,
          0.13509554275536517,
          null,
          0.1686057583123654,
          0.13970301678345065,
          null,
          0.06055387211148361,
          0.03269803854856152,
          null,
          0.06055387211148361,
          0.07728907354064535,
          null,
          0.06055387211148361,
          0.13509554275536517,
          null,
          0.06055387211148361,
          0.13970301678345065,
          null,
          0.13509554275536517,
          0.17104298840852183,
          null,
          0.13509554275536517,
          0.07728907354064535,
          null,
          0.13509554275536517,
          0.13970301678345065,
          null,
          0.0679059819068681,
          0.04006422565380986,
          null,
          0.04006422565380986,
          -0.014829229403487656,
          null,
          0.04006422565380986,
          0.06575833422911763,
          null,
          1,
          0.9887116256757826,
          null,
          -0.614981859386258,
          -0.7018653167320037,
          null
         ],
         "y": [
          0.7955215089039661,
          0.7359389794285593,
          null,
          0.3149676781976224,
          0.33968218369259495,
          null,
          0.3149676781976224,
          0.3424628923035713,
          null,
          0.3149676781976224,
          0.381565083263974,
          null,
          0.3149676781976224,
          0.38822621358523357,
          null,
          0.33968218369259495,
          0.3424628923035713,
          null,
          0.33968218369259495,
          0.381565083263974,
          null,
          0.33968218369259495,
          0.38822621358523357,
          null,
          0.3424628923035713,
          0.381565083263974,
          null,
          0.3424628923035713,
          0.38822621358523357,
          null,
          0.381565083263974,
          0.38822621358523357,
          null,
          -0.11406404731071056,
          -0.13421556155149766,
          null,
          -0.11406404731071056,
          -0.13412998469528212,
          null,
          -0.11406404731071056,
          -0.08337195189011032,
          null,
          -0.11406404731071056,
          -0.11373209886172422,
          null,
          -0.11406404731071056,
          -0.16947641257250473,
          null,
          -0.11406404731071056,
          -0.166037366646541,
          null,
          -0.11406404731071056,
          -0.1066114431486576,
          null,
          -0.11406404731071056,
          -0.07830406359918067,
          null,
          -0.11406404731071056,
          -0.14357601549065652,
          null,
          -0.11406404731071056,
          -0.10019309565077796,
          null,
          -0.11406404731071056,
          -0.1499005666262139,
          null,
          -0.11406404731071056,
          -0.10373994951560138,
          null,
          -0.11406404731071056,
          -0.13291029176616315,
          null,
          -0.11406404731071056,
          -0.06614359596677818,
          null,
          -0.11406404731071056,
          -0.19122882604753552,
          null,
          -0.13421556155149766,
          -0.13412998469528212,
          null,
          -0.13421556155149766,
          -0.08337195189011032,
          null,
          -0.13421556155149766,
          -0.11373209886172422,
          null,
          -0.13421556155149766,
          -0.16947641257250473,
          null,
          -0.13421556155149766,
          -0.166037366646541,
          null,
          -0.13421556155149766,
          -0.1066114431486576,
          null,
          -0.13421556155149766,
          -0.07830406359918067,
          null,
          -0.13421556155149766,
          -0.14357601549065652,
          null,
          -0.13421556155149766,
          -0.10019309565077796,
          null,
          -0.13421556155149766,
          -0.1499005666262139,
          null,
          -0.13421556155149766,
          -0.10373994951560138,
          null,
          -0.13421556155149766,
          -0.13291029176616315,
          null,
          -0.13421556155149766,
          -0.06614359596677818,
          null,
          -0.13421556155149766,
          -0.19122882604753552,
          null,
          -0.13412998469528212,
          -0.16947641257250473,
          null,
          -0.13412998469528212,
          -0.1066114431486576,
          null,
          -0.13412998469528212,
          -0.11373209886172422,
          null,
          -0.13412998469528212,
          -0.08337195189011032,
          null,
          -0.13412998469528212,
          -0.166037366646541,
          null,
          -0.13412998469528212,
          -0.07830406359918067,
          null,
          -0.13412998469528212,
          -0.14357601549065652,
          null,
          -0.13412998469528212,
          -0.10019309565077796,
          null,
          -0.13412998469528212,
          -0.1499005666262139,
          null,
          -0.13412998469528212,
          -0.10373994951560138,
          null,
          -0.13412998469528212,
          -0.13291029176616315,
          null,
          -0.13412998469528212,
          -0.06614359596677818,
          null,
          -0.13412998469528212,
          -0.19122882604753552,
          null,
          -0.16947641257250473,
          -0.08337195189011032,
          null,
          -0.16947641257250473,
          -0.11373209886172422,
          null,
          -0.16947641257250473,
          -0.166037366646541,
          null,
          -0.16947641257250473,
          -0.07830406359918067,
          null,
          -0.16947641257250473,
          -0.14357601549065652,
          null,
          -0.16947641257250473,
          -0.10019309565077796,
          null,
          -0.16947641257250473,
          -0.1066114431486576,
          null,
          -0.16947641257250473,
          -0.1499005666262139,
          null,
          -0.16947641257250473,
          -0.10373994951560138,
          null,
          -0.16947641257250473,
          -0.13291029176616315,
          null,
          -0.16947641257250473,
          -0.06614359596677818,
          null,
          -0.16947641257250473,
          -0.19122882604753552,
          null,
          -0.16947641257250473,
          -0.31706763385203157,
          null,
          -0.08337195189011032,
          -0.10019309565077796,
          null,
          -0.08337195189011032,
          -0.07830406359918067,
          null,
          -0.08337195189011032,
          -0.166037366646541,
          null,
          -0.08337195189011032,
          -0.11373209886172422,
          null,
          -0.08337195189011032,
          -0.1066114431486576,
          null,
          -0.08337195189011032,
          -0.14357601549065652,
          null,
          -0.08337195189011032,
          -0.1499005666262139,
          null,
          -0.08337195189011032,
          -0.10373994951560138,
          null,
          -0.08337195189011032,
          -0.13291029176616315,
          null,
          -0.08337195189011032,
          -0.06614359596677818,
          null,
          -0.11373209886172422,
          -0.14357601549065652,
          null,
          -0.11373209886172422,
          -0.07830406359918067,
          null,
          -0.11373209886172422,
          -0.166037366646541,
          null,
          -0.11373209886172422,
          -0.1066114431486576,
          null,
          -0.11373209886172422,
          -0.10019309565077796,
          null,
          -0.11373209886172422,
          -0.1499005666262139,
          null,
          -0.11373209886172422,
          -0.10373994951560138,
          null,
          -0.11373209886172422,
          -0.19122882604753552,
          null,
          -0.11373209886172422,
          -0.06614359596677818,
          null,
          -0.1066114431486576,
          -0.07830406359918067,
          null,
          -0.1066114431486576,
          -0.14357601549065652,
          null,
          -0.1066114431486576,
          -0.10019309565077796,
          null,
          -0.1066114431486576,
          -0.166037366646541,
          null,
          -0.1066114431486576,
          -0.1499005666262139,
          null,
          -0.1066114431486576,
          -0.10373994951560138,
          null,
          -0.1066114431486576,
          -0.06614359596677818,
          null,
          -0.1066114431486576,
          -0.19122882604753552,
          null,
          -0.1066114431486576,
          -0.13291029176616315,
          null,
          -0.166037366646541,
          -0.07830406359918067,
          null,
          -0.166037366646541,
          -0.14357601549065652,
          null,
          -0.166037366646541,
          -0.10019309565077796,
          null,
          -0.166037366646541,
          -0.31706763385203157,
          null,
          -0.166037366646541,
          -0.10373994951560138,
          null,
          -0.166037366646541,
          -0.1499005666262139,
          null,
          -0.166037366646541,
          -0.19122882604753552,
          null,
          -0.166037366646541,
          -0.13291029176616315,
          null,
          -0.166037366646541,
          -0.06614359596677818,
          null,
          -0.14357601549065652,
          -0.10373994951560138,
          null,
          -0.14357601549065652,
          -0.19122882604753552,
          null,
          -0.14357601549065652,
          -0.07830406359918067,
          null,
          -0.14357601549065652,
          -0.1499005666262139,
          null,
          -0.10019309565077796,
          -0.13291029176616315,
          null,
          -0.10019309565077796,
          -0.06614359596677818,
          null,
          -0.10019309565077796,
          -0.07830406359918067,
          null,
          -0.10019309565077796,
          -0.1499005666262139,
          null,
          -0.07830406359918067,
          -0.10373994951560138,
          null,
          -0.07830406359918067,
          -0.06614359596677818,
          null,
          -0.07830406359918067,
          -0.1499005666262139,
          null,
          -0.31706763385203157,
          -0.49029580401068174,
          null,
          -0.49029580401068174,
          -0.5863211510442718,
          null,
          -0.49029580401068174,
          -0.5998681278827737,
          null,
          0.30584954393520103,
          0.3672112460422618,
          null,
          0.021405613779835915,
          -0.011642955003124313,
          null
         ]
        },
        {
         "hoverinfo": "text",
         "hovertext": [
          "active_usage_months<br>Correlations:<br>zero_usage_months: 1.00",
          "zero_usage_months<br>Correlations:<br>active_usage_months: 1.00",
          "avg_delta_3mo<br>Correlations:<br>max_delta_3mo_increase: 1.00<br>max_delta_3mo_decrease: 1.00<br>last_1_delta_3mo: 1.00<br>avg_delta_1mo: 1.00",
          "max_delta_3mo_increase<br>Correlations:<br>avg_delta_3mo: 1.00<br>max_delta_3mo_decrease: 1.00<br>last_1_delta_3mo: 1.00<br>avg_delta_1mo: 1.00",
          "max_delta_3mo_decrease<br>Correlations:<br>avg_delta_3mo: 1.00<br>max_delta_3mo_increase: 1.00<br>last_1_delta_3mo: 1.00<br>avg_delta_1mo: 1.00",
          "last_1_delta_3mo<br>Correlations:<br>avg_delta_3mo: 1.00<br>max_delta_3mo_increase: 1.00<br>max_delta_3mo_decrease: 1.00<br>avg_delta_1mo: 1.00",
          "avg_monthly_usage_gb<br>Correlations:<br>total_usage_gb: 1.00<br>median_monthly_usage_gb: 0.99<br>last_2_3mo_rolling_avg: 0.99<br>last_1_3mo_rolling_avg: 0.99<br>usage_q75_gb: 0.99<br>max_monthly_usage_gb: 0.99<br>usage_q25_gb: 0.98<br>last_2_2mo_rolling_avg: 0.97<br>last_1_2mo_rolling_avg: 0.97<br>last_3_2mo_rolling_avg: 0.97<br>min_monthly_usage_gb: 0.95<br>last_3_month_usage_gb: 0.93<br>last_1_month_usage_gb: 0.93<br>last_2_month_usage_gb: 0.93<br>last_4_month_usage_gb: 0.93",
          "total_usage_gb<br>Correlations:<br>avg_monthly_usage_gb: 1.00<br>median_monthly_usage_gb: 0.99<br>last_2_3mo_rolling_avg: 0.99<br>last_1_3mo_rolling_avg: 0.99<br>usage_q75_gb: 0.99<br>max_monthly_usage_gb: 0.99<br>usage_q25_gb: 0.98<br>last_2_2mo_rolling_avg: 0.97<br>last_1_2mo_rolling_avg: 0.97<br>last_3_2mo_rolling_avg: 0.97<br>min_monthly_usage_gb: 0.95<br>last_3_month_usage_gb: 0.93<br>last_1_month_usage_gb: 0.93<br>last_2_month_usage_gb: 0.93<br>last_4_month_usage_gb: 0.93",
          "avg_delta_1mo<br>Correlations:<br>avg_delta_3mo: 1.00<br>max_delta_3mo_increase: 1.00<br>max_delta_3mo_decrease: 1.00<br>last_1_delta_3mo: 1.00",
          "median_monthly_usage_gb<br>Correlations:<br>avg_monthly_usage_gb: 0.99<br>total_usage_gb: 0.99<br>usage_q75_gb: 0.99<br>usage_q25_gb: 0.99<br>last_1_3mo_rolling_avg: 0.99<br>last_2_3mo_rolling_avg: 0.99<br>max_monthly_usage_gb: 0.97<br>last_2_2mo_rolling_avg: 0.97<br>last_1_2mo_rolling_avg: 0.97<br>last_3_2mo_rolling_avg: 0.97<br>min_monthly_usage_gb: 0.94<br>last_3_month_usage_gb: 0.92<br>last_1_month_usage_gb: 0.92<br>last_2_month_usage_gb: 0.92<br>last_4_month_usage_gb: 0.92",
          "usage_q75_gb<br>Correlations:<br>median_monthly_usage_gb: 0.99<br>total_usage_gb: 0.99<br>avg_monthly_usage_gb: 0.99<br>last_2_3mo_rolling_avg: 0.98<br>last_1_3mo_rolling_avg: 0.98<br>max_monthly_usage_gb: 0.97<br>last_2_2mo_rolling_avg: 0.96<br>last_1_2mo_rolling_avg: 0.96<br>last_3_2mo_rolling_avg: 0.96<br>usage_q25_gb: 0.96<br>min_monthly_usage_gb: 0.92<br>last_3_month_usage_gb: 0.92<br>last_1_month_usage_gb: 0.92<br>last_2_month_usage_gb: 0.92<br>last_4_month_usage_gb: 0.92<br>usage_std_gb: 0.90",
          "last_2_3mo_rolling_avg<br>Correlations:<br>avg_monthly_usage_gb: 0.99<br>total_usage_gb: 0.99<br>median_monthly_usage_gb: 0.99<br>last_3_2mo_rolling_avg: 0.98<br>last_2_2mo_rolling_avg: 0.98<br>usage_q75_gb: 0.98<br>max_monthly_usage_gb: 0.98<br>last_1_3mo_rolling_avg: 0.98<br>usage_q25_gb: 0.97<br>last_1_2mo_rolling_avg: 0.95<br>min_monthly_usage_gb: 0.95<br>last_3_month_usage_gb: 0.94<br>last_1_month_usage_gb: 0.94<br>last_2_month_usage_gb: 0.94",
          "last_1_3mo_rolling_avg<br>Correlations:<br>total_usage_gb: 0.99<br>avg_monthly_usage_gb: 0.99<br>median_monthly_usage_gb: 0.99<br>last_1_2mo_rolling_avg: 0.98<br>last_2_2mo_rolling_avg: 0.98<br>usage_q75_gb: 0.98<br>max_monthly_usage_gb: 0.98<br>last_2_3mo_rolling_avg: 0.98<br>usage_q25_gb: 0.97<br>last_3_2mo_rolling_avg: 0.95<br>min_monthly_usage_gb: 0.95<br>last_3_month_usage_gb: 0.94<br>last_4_month_usage_gb: 0.94<br>last_2_month_usage_gb: 0.93",
          "usage_q25_gb<br>Correlations:<br>median_monthly_usage_gb: 0.99<br>avg_monthly_usage_gb: 0.98<br>total_usage_gb: 0.98<br>last_1_3mo_rolling_avg: 0.97<br>last_2_3mo_rolling_avg: 0.97<br>usage_q75_gb: 0.96<br>last_2_2mo_rolling_avg: 0.96<br>last_1_2mo_rolling_avg: 0.95<br>last_3_2mo_rolling_avg: 0.95<br>max_monthly_usage_gb: 0.94<br>min_monthly_usage_gb: 0.94<br>last_3_month_usage_gb: 0.91<br>last_2_month_usage_gb: 0.91<br>last_4_month_usage_gb: 0.91<br>last_1_month_usage_gb: 0.91",
          "max_monthly_usage_gb<br>Correlations:<br>total_usage_gb: 0.99<br>avg_monthly_usage_gb: 0.99<br>last_1_3mo_rolling_avg: 0.98<br>last_2_3mo_rolling_avg: 0.98<br>usage_q75_gb: 0.97<br>median_monthly_usage_gb: 0.97<br>last_2_2mo_rolling_avg: 0.96<br>last_1_2mo_rolling_avg: 0.96<br>last_3_2mo_rolling_avg: 0.96<br>usage_q25_gb: 0.94<br>usage_std_gb: 0.94<br>last_3_month_usage_gb: 0.91<br>min_monthly_usage_gb: 0.91<br>last_4_month_usage_gb: 0.91<br>last_1_month_usage_gb: 0.91<br>last_2_month_usage_gb: 0.91",
          "last_1_2mo_rolling_avg<br>Correlations:<br>last_1_3mo_rolling_avg: 0.98<br>total_usage_gb: 0.97<br>avg_monthly_usage_gb: 0.97<br>median_monthly_usage_gb: 0.97<br>usage_q75_gb: 0.96<br>max_monthly_usage_gb: 0.96<br>usage_q25_gb: 0.95<br>last_3_month_usage_gb: 0.95<br>last_4_month_usage_gb: 0.95<br>last_2_2mo_rolling_avg: 0.95<br>last_2_3mo_rolling_avg: 0.95<br>min_monthly_usage_gb: 0.93",
          "last_3_2mo_rolling_avg<br>Correlations:<br>last_2_3mo_rolling_avg: 0.98<br>avg_monthly_usage_gb: 0.97<br>total_usage_gb: 0.97<br>median_monthly_usage_gb: 0.97<br>usage_q75_gb: 0.96<br>max_monthly_usage_gb: 0.96<br>usage_q25_gb: 0.95<br>last_1_month_usage_gb: 0.95<br>last_2_month_usage_gb: 0.95<br>last_2_2mo_rolling_avg: 0.95<br>last_1_3mo_rolling_avg: 0.95<br>min_monthly_usage_gb: 0.93",
          "last_2_2mo_rolling_avg<br>Correlations:<br>last_1_3mo_rolling_avg: 0.98<br>last_2_3mo_rolling_avg: 0.98<br>avg_monthly_usage_gb: 0.97<br>total_usage_gb: 0.97<br>median_monthly_usage_gb: 0.97<br>usage_q75_gb: 0.96<br>max_monthly_usage_gb: 0.96<br>usage_q25_gb: 0.96<br>last_3_month_usage_gb: 0.95<br>last_2_month_usage_gb: 0.95<br>last_3_2mo_rolling_avg: 0.95<br>last_1_2mo_rolling_avg: 0.95<br>min_monthly_usage_gb: 0.93",
          "min_monthly_usage_gb<br>Correlations:<br>avg_monthly_usage_gb: 0.95<br>total_usage_gb: 0.95<br>last_2_3mo_rolling_avg: 0.95<br>last_1_3mo_rolling_avg: 0.95<br>usage_q25_gb: 0.94<br>median_monthly_usage_gb: 0.94<br>last_2_2mo_rolling_avg: 0.93<br>last_3_2mo_rolling_avg: 0.93<br>last_1_2mo_rolling_avg: 0.93<br>usage_q75_gb: 0.92<br>max_monthly_usage_gb: 0.91",
          "last_3_month_usage_gb<br>Correlations:<br>last_1_2mo_rolling_avg: 0.95<br>last_2_2mo_rolling_avg: 0.95<br>last_1_3mo_rolling_avg: 0.94<br>last_2_3mo_rolling_avg: 0.94<br>total_usage_gb: 0.93<br>avg_monthly_usage_gb: 0.93<br>median_monthly_usage_gb: 0.92<br>usage_q75_gb: 0.92<br>max_monthly_usage_gb: 0.91<br>usage_q25_gb: 0.91",
          "last_4_month_usage_gb<br>Correlations:<br>last_1_2mo_rolling_avg: 0.95<br>last_1_3mo_rolling_avg: 0.94<br>total_usage_gb: 0.93<br>avg_monthly_usage_gb: 0.93<br>median_monthly_usage_gb: 0.92<br>usage_q75_gb: 0.92<br>max_monthly_usage_gb: 0.91<br>usage_q25_gb: 0.91",
          "last_1_month_usage_gb<br>Correlations:<br>last_3_2mo_rolling_avg: 0.95<br>last_2_3mo_rolling_avg: 0.94<br>total_usage_gb: 0.93<br>avg_monthly_usage_gb: 0.93<br>median_monthly_usage_gb: 0.92<br>usage_q75_gb: 0.92<br>max_monthly_usage_gb: 0.91<br>usage_q25_gb: 0.91",
          "last_2_month_usage_gb<br>Correlations:<br>last_2_2mo_rolling_avg: 0.95<br>last_3_2mo_rolling_avg: 0.95<br>last_2_3mo_rolling_avg: 0.94<br>last_1_3mo_rolling_avg: 0.93<br>avg_monthly_usage_gb: 0.93<br>total_usage_gb: 0.93<br>median_monthly_usage_gb: 0.92<br>usage_q75_gb: 0.92<br>max_monthly_usage_gb: 0.91<br>usage_q25_gb: 0.91",
          "usage_std_gb<br>Correlations:<br>max_monthly_usage_gb: 0.94<br>delta_1mo_volatility: 0.94<br>usage_q75_gb: 0.90",
          "delta_1mo_volatility<br>Correlations:<br>usage_std_gb: 0.94<br>max_delta_1mo_decrease: 0.92<br>max_delta_1mo_increase: 0.92",
          "months_with_delta_3mo_decrease<br>Correlations:<br>months_with_delta_3mo_increase: 0.94",
          "months_with_delta_3mo_increase<br>Correlations:<br>months_with_delta_3mo_decrease: 0.94",
          "months_with_delta_2mo_decrease<br>Correlations:<br>months_with_delta_2mo_increase: 0.93",
          "months_with_delta_2mo_increase<br>Correlations:<br>months_with_delta_2mo_decrease: 0.93",
          "max_delta_1mo_decrease<br>Correlations:<br>delta_1mo_volatility: 0.92",
          "max_delta_1mo_increase<br>Correlations:<br>delta_1mo_volatility: 0.92"
         ],
         "marker": {
          "color": "#87ceeb",
          "line": {
           "width": 2
          },
          "showscale": false,
          "size": 20
         },
         "mode": "markers+text",
         "text": [
          "active_usage_months",
          "zero_usage_months",
          "avg_delta_3mo",
          "max_delta_3mo_increase",
          "max_delta_3mo_decrease",
          "last_1_delta_3mo",
          "avg_monthly_usage_gb",
          "total_usage_gb",
          "avg_delta_1mo",
          "median_monthly_usage_gb",
          "usage_q75_gb",
          "last_2_3mo_rolling_avg",
          "last_1_3mo_rolling_avg",
          "usage_q25_gb",
          "max_monthly_usage_gb",
          "last_1_2mo_rolling_avg",
          "last_3_2mo_rolling_avg",
          "last_2_2mo_rolling_avg",
          "min_monthly_usage_gb",
          "last_3_month_usage_gb",
          "last_4_month_usage_gb",
          "last_1_month_usage_gb",
          "last_2_month_usage_gb",
          "usage_std_gb",
          "delta_1mo_volatility",
          "months_with_delta_3mo_decrease",
          "months_with_delta_3mo_increase",
          "months_with_delta_2mo_decrease",
          "months_with_delta_2mo_increase",
          "max_delta_1mo_decrease",
          "max_delta_1mo_increase"
         ],
         "textposition": "top center",
         "type": "scatter",
         "x": [
          0.4236747938636155,
          0.4423243615225703,
          -0.6873042261566543,
          -0.7321261524256069,
          -0.6519519504879354,
          -0.7233372738230144,
          0.09481559083539903,
          0.08424153330365614,
          -0.6817216641743348,
          0.11253873825578647,
          0.1061656173342331,
          0.10190278248546324,
          0.14469739067673232,
          0.11918583530187056,
          0.0866744000653605,
          0.1686057583123654,
          0.06055387211148361,
          0.13509554275536517,
          0.13970301678345065,
          0.17104298840852183,
          0.1444681710186362,
          0.03269803854856152,
          0.07728907354064535,
          0.0679059819068681,
          0.04006422565380986,
          1,
          0.9887116256757826,
          -0.614981859386258,
          -0.7018653167320037,
          -0.014829229403487656,
          0.06575833422911763
         ],
         "y": [
          0.7955215089039661,
          0.7359389794285593,
          0.3149676781976224,
          0.33968218369259495,
          0.3424628923035713,
          0.381565083263974,
          -0.11406404731071056,
          -0.13421556155149766,
          0.38822621358523357,
          -0.13412998469528212,
          -0.16947641257250473,
          -0.08337195189011032,
          -0.11373209886172422,
          -0.1066114431486576,
          -0.166037366646541,
          -0.14357601549065652,
          -0.10019309565077796,
          -0.07830406359918067,
          -0.1499005666262139,
          -0.10373994951560138,
          -0.19122882604753552,
          -0.13291029176616315,
          -0.06614359596677818,
          -0.31706763385203157,
          -0.49029580401068174,
          0.30584954393520103,
          0.3672112460422618,
          0.021405613779835915,
          -0.011642955003124313,
          -0.5863211510442718,
          -0.5998681278827737
         ]
        }
       ],
       "layout": {
        "height": 800,
        "hovermode": "closest",
        "margin": {
         "b": 20,
         "l": 5,
         "r": 5,
         "t": 40
        },
        "showlegend": false,
        "template": {
         "data": {
          "bar": [
           {
            "error_x": {
             "color": "#2a3f5f"
            },
            "error_y": {
             "color": "#2a3f5f"
            },
            "marker": {
             "line": {
              "color": "#E5ECF6",
              "width": 0.5
             },
             "pattern": {
              "fillmode": "overlay",
              "size": 10,
              "solidity": 0.2
             }
            },
            "type": "bar"
           }
          ],
          "barpolar": [
           {
            "marker": {
             "line": {
              "color": "#E5ECF6",
              "width": 0.5
             },
             "pattern": {
              "fillmode": "overlay",
              "size": 10,
              "solidity": 0.2
             }
            },
            "type": "barpolar"
           }
          ],
          "carpet": [
           {
            "aaxis": {
             "endlinecolor": "#2a3f5f",
             "gridcolor": "white",
             "linecolor": "white",
             "minorgridcolor": "white",
             "startlinecolor": "#2a3f5f"
            },
            "baxis": {
             "endlinecolor": "#2a3f5f",
             "gridcolor": "white",
             "linecolor": "white",
             "minorgridcolor": "white",
             "startlinecolor": "#2a3f5f"
            },
            "type": "carpet"
           }
          ],
          "choropleth": [
           {
            "colorbar": {
             "outlinewidth": 0,
             "ticks": ""
            },
            "type": "choropleth"
           }
          ],
          "contour": [
           {
            "colorbar": {
             "outlinewidth": 0,
             "ticks": ""
            },
            "colorscale": [
             [
              0,
              "#0d0887"
             ],
             [
              0.1111111111111111,
              "#46039f"
             ],
             [
              0.2222222222222222,
              "#7201a8"
             ],
             [
              0.3333333333333333,
              "#9c179e"
             ],
             [
              0.4444444444444444,
              "#bd3786"
             ],
             [
              0.5555555555555556,
              "#d8576b"
             ],
             [
              0.6666666666666666,
              "#ed7953"
             ],
             [
              0.7777777777777778,
              "#fb9f3a"
             ],
             [
              0.8888888888888888,
              "#fdca26"
             ],
             [
              1,
              "#f0f921"
             ]
            ],
            "type": "contour"
           }
          ],
          "contourcarpet": [
           {
            "colorbar": {
             "outlinewidth": 0,
             "ticks": ""
            },
            "type": "contourcarpet"
           }
          ],
          "heatmap": [
           {
            "colorbar": {
             "outlinewidth": 0,
             "ticks": ""
            },
            "colorscale": [
             [
              0,
              "#0d0887"
             ],
             [
              0.1111111111111111,
              "#46039f"
             ],
             [
              0.2222222222222222,
              "#7201a8"
             ],
             [
              0.3333333333333333,
              "#9c179e"
             ],
             [
              0.4444444444444444,
              "#bd3786"
             ],
             [
              0.5555555555555556,
              "#d8576b"
             ],
             [
              0.6666666666666666,
              "#ed7953"
             ],
             [
              0.7777777777777778,
              "#fb9f3a"
             ],
             [
              0.8888888888888888,
              "#fdca26"
             ],
             [
              1,
              "#f0f921"
             ]
            ],
            "type": "heatmap"
           }
          ],
          "histogram": [
           {
            "marker": {
             "pattern": {
              "fillmode": "overlay",
              "size": 10,
              "solidity": 0.2
             }
            },
            "type": "histogram"
           }
          ],
          "histogram2d": [
           {
            "colorbar": {
             "outlinewidth": 0,
             "ticks": ""
            },
            "colorscale": [
             [
              0,
              "#0d0887"
             ],
             [
              0.1111111111111111,
              "#46039f"
             ],
             [
              0.2222222222222222,
              "#7201a8"
             ],
             [
              0.3333333333333333,
              "#9c179e"
             ],
             [
              0.4444444444444444,
              "#bd3786"
             ],
             [
              0.5555555555555556,
              "#d8576b"
             ],
             [
              0.6666666666666666,
              "#ed7953"
             ],
             [
              0.7777777777777778,
              "#fb9f3a"
             ],
             [
              0.8888888888888888,
              "#fdca26"
             ],
             [
              1,
              "#f0f921"
             ]
            ],
            "type": "histogram2d"
           }
          ],
          "histogram2dcontour": [
           {
            "colorbar": {
             "outlinewidth": 0,
             "ticks": ""
            },
            "colorscale": [
             [
              0,
              "#0d0887"
             ],
             [
              0.1111111111111111,
              "#46039f"
             ],
             [
              0.2222222222222222,
              "#7201a8"
             ],
             [
              0.3333333333333333,
              "#9c179e"
             ],
             [
              0.4444444444444444,
              "#bd3786"
             ],
             [
              0.5555555555555556,
              "#d8576b"
             ],
             [
              0.6666666666666666,
              "#ed7953"
             ],
             [
              0.7777777777777778,
              "#fb9f3a"
             ],
             [
              0.8888888888888888,
              "#fdca26"
             ],
             [
              1,
              "#f0f921"
             ]
            ],
            "type": "histogram2dcontour"
           }
          ],
          "mesh3d": [
           {
            "colorbar": {
             "outlinewidth": 0,
             "ticks": ""
            },
            "type": "mesh3d"
           }
          ],
          "parcoords": [
           {
            "line": {
             "colorbar": {
              "outlinewidth": 0,
              "ticks": ""
             }
            },
            "type": "parcoords"
           }
          ],
          "pie": [
           {
            "automargin": true,
            "type": "pie"
           }
          ],
          "scatter": [
           {
            "fillpattern": {
             "fillmode": "overlay",
             "size": 10,
             "solidity": 0.2
            },
            "type": "scatter"
           }
          ],
          "scatter3d": [
           {
            "line": {
             "colorbar": {
              "outlinewidth": 0,
              "ticks": ""
             }
            },
            "marker": {
             "colorbar": {
              "outlinewidth": 0,
              "ticks": ""
             }
            },
            "type": "scatter3d"
           }
          ],
          "scattercarpet": [
           {
            "marker": {
             "colorbar": {
              "outlinewidth": 0,
              "ticks": ""
             }
            },
            "type": "scattercarpet"
           }
          ],
          "scattergeo": [
           {
            "marker": {
             "colorbar": {
              "outlinewidth": 0,
              "ticks": ""
             }
            },
            "type": "scattergeo"
           }
          ],
          "scattergl": [
           {
            "marker": {
             "colorbar": {
              "outlinewidth": 0,
              "ticks": ""
             }
            },
            "type": "scattergl"
           }
          ],
          "scattermap": [
           {
            "marker": {
             "colorbar": {
              "outlinewidth": 0,
              "ticks": ""
             }
            },
            "type": "scattermap"
           }
          ],
          "scattermapbox": [
           {
            "marker": {
             "colorbar": {
              "outlinewidth": 0,
              "ticks": ""
             }
            },
            "type": "scattermapbox"
           }
          ],
          "scatterpolar": [
           {
            "marker": {
             "colorbar": {
              "outlinewidth": 0,
              "ticks": ""
             }
            },
            "type": "scatterpolar"
           }
          ],
          "scatterpolargl": [
           {
            "marker": {
             "colorbar": {
              "outlinewidth": 0,
              "ticks": ""
             }
            },
            "type": "scatterpolargl"
           }
          ],
          "scatterternary": [
           {
            "marker": {
             "colorbar": {
              "outlinewidth": 0,
              "ticks": ""
             }
            },
            "type": "scatterternary"
           }
          ],
          "surface": [
           {
            "colorbar": {
             "outlinewidth": 0,
             "ticks": ""
            },
            "colorscale": [
             [
              0,
              "#0d0887"
             ],
             [
              0.1111111111111111,
              "#46039f"
             ],
             [
              0.2222222222222222,
              "#7201a8"
             ],
             [
              0.3333333333333333,
              "#9c179e"
             ],
             [
              0.4444444444444444,
              "#bd3786"
             ],
             [
              0.5555555555555556,
              "#d8576b"
             ],
             [
              0.6666666666666666,
              "#ed7953"
             ],
             [
              0.7777777777777778,
              "#fb9f3a"
             ],
             [
              0.8888888888888888,
              "#fdca26"
             ],
             [
              1,
              "#f0f921"
             ]
            ],
            "type": "surface"
           }
          ],
          "table": [
           {
            "cells": {
             "fill": {
              "color": "#EBF0F8"
             },
             "line": {
              "color": "white"
             }
            },
            "header": {
             "fill": {
              "color": "#C8D4E3"
             },
             "line": {
              "color": "white"
             }
            },
            "type": "table"
           }
          ]
         },
         "layout": {
          "annotationdefaults": {
           "arrowcolor": "#2a3f5f",
           "arrowhead": 0,
           "arrowwidth": 1
          },
          "autotypenumbers": "strict",
          "coloraxis": {
           "colorbar": {
            "outlinewidth": 0,
            "ticks": ""
           }
          },
          "colorscale": {
           "diverging": [
            [
             0,
             "#8e0152"
            ],
            [
             0.1,
             "#c51b7d"
            ],
            [
             0.2,
             "#de77ae"
            ],
            [
             0.3,
             "#f1b6da"
            ],
            [
             0.4,
             "#fde0ef"
            ],
            [
             0.5,
             "#f7f7f7"
            ],
            [
             0.6,
             "#e6f5d0"
            ],
            [
             0.7,
             "#b8e186"
            ],
            [
             0.8,
             "#7fbc41"
            ],
            [
             0.9,
             "#4d9221"
            ],
            [
             1,
             "#276419"
            ]
           ],
           "sequential": [
            [
             0,
             "#0d0887"
            ],
            [
             0.1111111111111111,
             "#46039f"
            ],
            [
             0.2222222222222222,
             "#7201a8"
            ],
            [
             0.3333333333333333,
             "#9c179e"
            ],
            [
             0.4444444444444444,
             "#bd3786"
            ],
            [
             0.5555555555555556,
             "#d8576b"
            ],
            [
             0.6666666666666666,
             "#ed7953"
            ],
            [
             0.7777777777777778,
             "#fb9f3a"
            ],
            [
             0.8888888888888888,
             "#fdca26"
            ],
            [
             1,
             "#f0f921"
            ]
           ],
           "sequentialminus": [
            [
             0,
             "#0d0887"
            ],
            [
             0.1111111111111111,
             "#46039f"
            ],
            [
             0.2222222222222222,
             "#7201a8"
            ],
            [
             0.3333333333333333,
             "#9c179e"
            ],
            [
             0.4444444444444444,
             "#bd3786"
            ],
            [
             0.5555555555555556,
             "#d8576b"
            ],
            [
             0.6666666666666666,
             "#ed7953"
            ],
            [
             0.7777777777777778,
             "#fb9f3a"
            ],
            [
             0.8888888888888888,
             "#fdca26"
            ],
            [
             1,
             "#f0f921"
            ]
           ]
          },
          "colorway": [
           "#636efa",
           "#EF553B",
           "#00cc96",
           "#ab63fa",
           "#FFA15A",
           "#19d3f3",
           "#FF6692",
           "#B6E880",
           "#FF97FF",
           "#FECB52"
          ],
          "font": {
           "color": "#2a3f5f"
          },
          "geo": {
           "bgcolor": "white",
           "lakecolor": "white",
           "landcolor": "#E5ECF6",
           "showlakes": true,
           "showland": true,
           "subunitcolor": "white"
          },
          "hoverlabel": {
           "align": "left"
          },
          "hovermode": "closest",
          "mapbox": {
           "style": "light"
          },
          "paper_bgcolor": "white",
          "plot_bgcolor": "#E5ECF6",
          "polar": {
           "angularaxis": {
            "gridcolor": "white",
            "linecolor": "white",
            "ticks": ""
           },
           "bgcolor": "#E5ECF6",
           "radialaxis": {
            "gridcolor": "white",
            "linecolor": "white",
            "ticks": ""
           }
          },
          "scene": {
           "xaxis": {
            "backgroundcolor": "#E5ECF6",
            "gridcolor": "white",
            "gridwidth": 2,
            "linecolor": "white",
            "showbackground": true,
            "ticks": "",
            "zerolinecolor": "white"
           },
           "yaxis": {
            "backgroundcolor": "#E5ECF6",
            "gridcolor": "white",
            "gridwidth": 2,
            "linecolor": "white",
            "showbackground": true,
            "ticks": "",
            "zerolinecolor": "white"
           },
           "zaxis": {
            "backgroundcolor": "#E5ECF6",
            "gridcolor": "white",
            "gridwidth": 2,
            "linecolor": "white",
            "showbackground": true,
            "ticks": "",
            "zerolinecolor": "white"
           }
          },
          "shapedefaults": {
           "line": {
            "color": "#2a3f5f"
           }
          },
          "ternary": {
           "aaxis": {
            "gridcolor": "white",
            "linecolor": "white",
            "ticks": ""
           },
           "baxis": {
            "gridcolor": "white",
            "linecolor": "white",
            "ticks": ""
           },
           "bgcolor": "#E5ECF6",
           "caxis": {
            "gridcolor": "white",
            "linecolor": "white",
            "ticks": ""
           }
          },
          "title": {
           "x": 0.05
          },
          "xaxis": {
           "automargin": true,
           "gridcolor": "white",
           "linecolor": "white",
           "ticks": "",
           "title": {
            "standoff": 15
           },
           "zerolinecolor": "white",
           "zerolinewidth": 2
          },
          "yaxis": {
           "automargin": true,
           "gridcolor": "white",
           "linecolor": "white",
           "ticks": "",
           "title": {
            "standoff": 15
           },
           "zerolinecolor": "white",
           "zerolinewidth": 2
          }
         }
        },
        "title": {
         "text": "Clusters of Highly Correlated Features"
        },
        "width": 1200,
        "xaxis": {
         "showgrid": false,
         "showticklabels": false,
         "zeroline": false
        },
        "yaxis": {
         "showgrid": false,
         "showticklabels": false,
         "zeroline": false
        }
       }
      }
     },
     "metadata": {},
     "output_type": "display_data"
    }
   ],
   "source": [
    "plot_correlation_network(G_90, pos=nx.spring_layout(G_90, seed=42))"
   ]
  },
  {
   "cell_type": "code",
   "execution_count": null,
   "id": "50a3f17b",
   "metadata": {},
   "outputs": [],
   "source": []
  },
  {
   "cell_type": "code",
   "execution_count": 48,
   "id": "15cde223",
   "metadata": {},
   "outputs": [],
   "source": [
    "G_95, remove_95, clusters_95 = correlation_graph_analysis(correlation_analysis, 0.95)"
   ]
  },
  {
   "cell_type": "code",
   "execution_count": 49,
   "id": "92fe285c",
   "metadata": {},
   "outputs": [
    {
     "data": {
      "application/vnd.plotly.v1+json": {
       "config": {
        "plotlyServerURL": "https://plot.ly"
       },
       "data": [
        {
         "hoverinfo": "none",
         "line": {
          "color": "#888",
          "width": 1
         },
         "mode": "lines",
         "type": "scatter",
         "x": [
          0.5972809226293299,
          0.6441155962582179,
          null,
          -0.9469554944720102,
          -1,
          null,
          -0.9469554944720102,
          -0.8943289043742217,
          null,
          -0.9469554944720102,
          -0.9997167084766153,
          null,
          -0.9469554944720102,
          -0.9380941272546799,
          null,
          -1,
          -0.8943289043742217,
          null,
          -1,
          -0.9997167084766153,
          null,
          -1,
          -0.9380941272546799,
          null,
          -0.8943289043742217,
          -0.9997167084766153,
          null,
          -0.8943289043742217,
          -0.9380941272546799,
          null,
          -0.9997167084766153,
          -0.9380941272546799,
          null,
          0.23851537337692189,
          0.20511495520936182,
          null,
          0.23851537337692189,
          0.21546984097185984,
          null,
          0.23851537337692189,
          0.17748783901422843,
          null,
          0.23851537337692189,
          0.14116068178441865,
          null,
          0.23851537337692189,
          0.1844496438083813,
          null,
          0.23851537337692189,
          0.13727634949758968,
          null,
          0.23851537337692189,
          0.15449802719035954,
          null,
          0.23851537337692189,
          0.26999994692532703,
          null,
          0.23851537337692189,
          0.1832249957464534,
          null,
          0.23851537337692189,
          0.23787633344516915,
          null,
          0.23851537337692189,
          0.2710914268911363,
          null,
          0.20511495520936182,
          0.21546984097185984,
          null,
          0.20511495520936182,
          0.17748783901422843,
          null,
          0.20511495520936182,
          0.14116068178441865,
          null,
          0.20511495520936182,
          0.1844496438083813,
          null,
          0.20511495520936182,
          0.13727634949758968,
          null,
          0.20511495520936182,
          0.15449802719035954,
          null,
          0.20511495520936182,
          0.26999994692532703,
          null,
          0.20511495520936182,
          0.1832249957464534,
          null,
          0.20511495520936182,
          0.23787633344516915,
          null,
          0.20511495520936182,
          0.2710914268911363,
          null,
          0.21546984097185984,
          0.1844496438083813,
          null,
          0.21546984097185984,
          0.15449802719035954,
          null,
          0.21546984097185984,
          0.14116068178441865,
          null,
          0.21546984097185984,
          0.17748783901422843,
          null,
          0.21546984097185984,
          0.13727634949758968,
          null,
          0.21546984097185984,
          0.26999994692532703,
          null,
          0.21546984097185984,
          0.1832249957464534,
          null,
          0.21546984097185984,
          0.23787633344516915,
          null,
          0.1844496438083813,
          0.17748783901422843,
          null,
          0.1844496438083813,
          0.14116068178441865,
          null,
          0.1844496438083813,
          0.13727634949758968,
          null,
          0.1844496438083813,
          0.26999994692532703,
          null,
          0.1844496438083813,
          0.1832249957464534,
          null,
          0.1844496438083813,
          0.23787633344516915,
          null,
          0.1844496438083813,
          0.15449802719035954,
          null,
          0.17748783901422843,
          0.23787633344516915,
          null,
          0.17748783901422843,
          0.26999994692532703,
          null,
          0.17748783901422843,
          0.13727634949758968,
          null,
          0.17748783901422843,
          0.14116068178441865,
          null,
          0.17748783901422843,
          0.15449802719035954,
          null,
          0.14116068178441865,
          0.1832249957464534,
          null,
          0.14116068178441865,
          0.26999994692532703,
          null,
          0.14116068178441865,
          0.13727634949758968,
          null,
          0.14116068178441865,
          0.15449802719035954,
          null,
          0.15449802719035954,
          0.26999994692532703,
          null,
          0.15449802719035954,
          0.1832249957464534,
          null,
          0.15449802719035954,
          0.23787633344516915,
          null,
          0.13727634949758968,
          0.26999994692532703,
          null,
          0.13727634949758968,
          0.1832249957464534,
          null,
          0.13727634949758968,
          0.23787633344516915,
          null,
          0.1832249957464534,
          0.34501843455856557,
          null,
          0.1832249957464534,
          0.129468273920608,
          null,
          0.23787633344516915,
          0.276339001764385,
          null,
          0.23787633344516915,
          0.3707075915852134,
          null,
          0.26999994692532703,
          0.34501843455856557,
          null,
          0.26999994692532703,
          0.3707075915852134,
          null
         ],
         "y": [
          0.9463439505836685,
          0.8709324754991593,
          null,
          0.1390098830654882,
          0.16065817771250152,
          null,
          0.1390098830654882,
          0.18282641763209304,
          null,
          0.1390098830654882,
          0.22460875939900235,
          null,
          0.1390098830654882,
          0.23822194731101354,
          null,
          0.16065817771250152,
          0.18282641763209304,
          null,
          0.16065817771250152,
          0.22460875939900235,
          null,
          0.16065817771250152,
          0.23822194731101354,
          null,
          0.18282641763209304,
          0.22460875939900235,
          null,
          0.18282641763209304,
          0.23822194731101354,
          null,
          0.22460875939900235,
          0.23822194731101354,
          null,
          -0.19660139509190955,
          -0.20943751317356227,
          null,
          -0.19660139509190955,
          -0.13689788063251482,
          null,
          -0.19660139509190955,
          -0.09168599029137786,
          null,
          -0.19660139509190955,
          -0.20596090173653567,
          null,
          -0.19660139509190955,
          -0.16401485043186695,
          null,
          -0.19660139509190955,
          -0.1596410804297656,
          null,
          -0.19660139509190955,
          -0.1274115507273526,
          null,
          -0.19660139509190955,
          -0.1488262852218742,
          null,
          -0.19660139509190955,
          -0.27236997127577806,
          null,
          -0.19660139509190955,
          -0.05959146909484181,
          null,
          -0.19660139509190955,
          -0.33986815645931423,
          null,
          -0.20943751317356227,
          -0.13689788063251482,
          null,
          -0.20943751317356227,
          -0.09168599029137786,
          null,
          -0.20943751317356227,
          -0.20596090173653567,
          null,
          -0.20943751317356227,
          -0.16401485043186695,
          null,
          -0.20943751317356227,
          -0.1596410804297656,
          null,
          -0.20943751317356227,
          -0.1274115507273526,
          null,
          -0.20943751317356227,
          -0.1488262852218742,
          null,
          -0.20943751317356227,
          -0.27236997127577806,
          null,
          -0.20943751317356227,
          -0.05959146909484181,
          null,
          -0.20943751317356227,
          -0.33986815645931423,
          null,
          -0.13689788063251482,
          -0.16401485043186695,
          null,
          -0.13689788063251482,
          -0.1274115507273526,
          null,
          -0.13689788063251482,
          -0.20596090173653567,
          null,
          -0.13689788063251482,
          -0.09168599029137786,
          null,
          -0.13689788063251482,
          -0.1596410804297656,
          null,
          -0.13689788063251482,
          -0.1488262852218742,
          null,
          -0.13689788063251482,
          -0.27236997127577806,
          null,
          -0.13689788063251482,
          -0.05959146909484181,
          null,
          -0.16401485043186695,
          -0.09168599029137786,
          null,
          -0.16401485043186695,
          -0.20596090173653567,
          null,
          -0.16401485043186695,
          -0.1596410804297656,
          null,
          -0.16401485043186695,
          -0.1488262852218742,
          null,
          -0.16401485043186695,
          -0.27236997127577806,
          null,
          -0.16401485043186695,
          -0.05959146909484181,
          null,
          -0.16401485043186695,
          -0.1274115507273526,
          null,
          -0.09168599029137786,
          -0.05959146909484181,
          null,
          -0.09168599029137786,
          -0.1488262852218742,
          null,
          -0.09168599029137786,
          -0.1596410804297656,
          null,
          -0.09168599029137786,
          -0.20596090173653567,
          null,
          -0.09168599029137786,
          -0.1274115507273526,
          null,
          -0.20596090173653567,
          -0.27236997127577806,
          null,
          -0.20596090173653567,
          -0.1488262852218742,
          null,
          -0.20596090173653567,
          -0.1596410804297656,
          null,
          -0.20596090173653567,
          -0.1274115507273526,
          null,
          -0.1274115507273526,
          -0.1488262852218742,
          null,
          -0.1274115507273526,
          -0.27236997127577806,
          null,
          -0.1274115507273526,
          -0.05959146909484181,
          null,
          -0.1596410804297656,
          -0.1488262852218742,
          null,
          -0.1596410804297656,
          -0.27236997127577806,
          null,
          -0.1596410804297656,
          -0.05959146909484181,
          null,
          -0.27236997127577806,
          -0.28139324704147456,
          null,
          -0.27236997127577806,
          -0.44880236782798255,
          null,
          -0.05959146909484181,
          0.11554375149440095,
          null,
          -0.05959146909484181,
          -0.035642703261175405,
          null,
          -0.1488262852218742,
          -0.28139324704147456,
          null,
          -0.1488262852218742,
          -0.035642703261175405,
          null
         ]
        },
        {
         "hoverinfo": "text",
         "hovertext": [
          "active_usage_months<br>Correlations:<br>zero_usage_months: 1.00",
          "zero_usage_months<br>Correlations:<br>active_usage_months: 1.00",
          "avg_delta_3mo<br>Correlations:<br>max_delta_3mo_increase: 1.00<br>max_delta_3mo_decrease: 1.00<br>last_1_delta_3mo: 1.00<br>avg_delta_1mo: 1.00",
          "max_delta_3mo_increase<br>Correlations:<br>avg_delta_3mo: 1.00<br>max_delta_3mo_decrease: 1.00<br>last_1_delta_3mo: 1.00<br>avg_delta_1mo: 1.00",
          "max_delta_3mo_decrease<br>Correlations:<br>avg_delta_3mo: 1.00<br>max_delta_3mo_increase: 1.00<br>last_1_delta_3mo: 1.00<br>avg_delta_1mo: 1.00",
          "last_1_delta_3mo<br>Correlations:<br>avg_delta_3mo: 1.00<br>max_delta_3mo_increase: 1.00<br>max_delta_3mo_decrease: 1.00<br>avg_delta_1mo: 1.00",
          "avg_monthly_usage_gb<br>Correlations:<br>total_usage_gb: 1.00<br>median_monthly_usage_gb: 0.99<br>last_2_3mo_rolling_avg: 0.99<br>last_1_3mo_rolling_avg: 0.99<br>usage_q75_gb: 0.99<br>max_monthly_usage_gb: 0.99<br>usage_q25_gb: 0.98<br>last_2_2mo_rolling_avg: 0.97<br>last_1_2mo_rolling_avg: 0.97<br>last_3_2mo_rolling_avg: 0.97<br>min_monthly_usage_gb: 0.95",
          "total_usage_gb<br>Correlations:<br>avg_monthly_usage_gb: 1.00<br>median_monthly_usage_gb: 0.99<br>last_2_3mo_rolling_avg: 0.99<br>last_1_3mo_rolling_avg: 0.99<br>usage_q75_gb: 0.99<br>max_monthly_usage_gb: 0.99<br>usage_q25_gb: 0.98<br>last_2_2mo_rolling_avg: 0.97<br>last_1_2mo_rolling_avg: 0.97<br>last_3_2mo_rolling_avg: 0.97<br>min_monthly_usage_gb: 0.95",
          "avg_delta_1mo<br>Correlations:<br>avg_delta_3mo: 1.00<br>max_delta_3mo_increase: 1.00<br>max_delta_3mo_decrease: 1.00<br>last_1_delta_3mo: 1.00",
          "median_monthly_usage_gb<br>Correlations:<br>avg_monthly_usage_gb: 0.99<br>total_usage_gb: 0.99<br>usage_q75_gb: 0.99<br>usage_q25_gb: 0.99<br>last_1_3mo_rolling_avg: 0.99<br>last_2_3mo_rolling_avg: 0.99<br>max_monthly_usage_gb: 0.97<br>last_2_2mo_rolling_avg: 0.97<br>last_1_2mo_rolling_avg: 0.97<br>last_3_2mo_rolling_avg: 0.97",
          "usage_q75_gb<br>Correlations:<br>median_monthly_usage_gb: 0.99<br>total_usage_gb: 0.99<br>avg_monthly_usage_gb: 0.99<br>last_2_3mo_rolling_avg: 0.98<br>last_1_3mo_rolling_avg: 0.98<br>max_monthly_usage_gb: 0.97<br>last_2_2mo_rolling_avg: 0.96<br>last_1_2mo_rolling_avg: 0.96<br>last_3_2mo_rolling_avg: 0.96<br>usage_q25_gb: 0.96",
          "last_2_3mo_rolling_avg<br>Correlations:<br>avg_monthly_usage_gb: 0.99<br>total_usage_gb: 0.99<br>median_monthly_usage_gb: 0.99<br>last_3_2mo_rolling_avg: 0.98<br>last_2_2mo_rolling_avg: 0.98<br>usage_q75_gb: 0.98<br>max_monthly_usage_gb: 0.98<br>last_1_3mo_rolling_avg: 0.98<br>usage_q25_gb: 0.97",
          "last_1_3mo_rolling_avg<br>Correlations:<br>total_usage_gb: 0.99<br>avg_monthly_usage_gb: 0.99<br>median_monthly_usage_gb: 0.99<br>last_1_2mo_rolling_avg: 0.98<br>last_2_2mo_rolling_avg: 0.98<br>usage_q75_gb: 0.98<br>max_monthly_usage_gb: 0.98<br>last_2_3mo_rolling_avg: 0.98<br>usage_q25_gb: 0.97",
          "usage_q25_gb<br>Correlations:<br>median_monthly_usage_gb: 0.99<br>avg_monthly_usage_gb: 0.98<br>total_usage_gb: 0.98<br>last_1_3mo_rolling_avg: 0.97<br>last_2_3mo_rolling_avg: 0.97<br>usage_q75_gb: 0.96<br>last_2_2mo_rolling_avg: 0.96<br>last_1_2mo_rolling_avg: 0.95<br>last_3_2mo_rolling_avg: 0.95",
          "max_monthly_usage_gb<br>Correlations:<br>total_usage_gb: 0.99<br>avg_monthly_usage_gb: 0.99<br>last_1_3mo_rolling_avg: 0.98<br>last_2_3mo_rolling_avg: 0.98<br>usage_q75_gb: 0.97<br>median_monthly_usage_gb: 0.97<br>last_2_2mo_rolling_avg: 0.96<br>last_1_2mo_rolling_avg: 0.96<br>last_3_2mo_rolling_avg: 0.96",
          "last_1_2mo_rolling_avg<br>Correlations:<br>last_1_3mo_rolling_avg: 0.98<br>total_usage_gb: 0.97<br>avg_monthly_usage_gb: 0.97<br>median_monthly_usage_gb: 0.97<br>usage_q75_gb: 0.96<br>max_monthly_usage_gb: 0.96<br>usage_q25_gb: 0.95<br>last_3_month_usage_gb: 0.95<br>last_4_month_usage_gb: 0.95",
          "last_3_2mo_rolling_avg<br>Correlations:<br>last_2_3mo_rolling_avg: 0.98<br>avg_monthly_usage_gb: 0.97<br>total_usage_gb: 0.97<br>median_monthly_usage_gb: 0.97<br>usage_q75_gb: 0.96<br>max_monthly_usage_gb: 0.96<br>usage_q25_gb: 0.95<br>last_1_month_usage_gb: 0.95<br>last_2_month_usage_gb: 0.95",
          "last_2_2mo_rolling_avg<br>Correlations:<br>last_1_3mo_rolling_avg: 0.98<br>last_2_3mo_rolling_avg: 0.98<br>avg_monthly_usage_gb: 0.97<br>total_usage_gb: 0.97<br>median_monthly_usage_gb: 0.97<br>usage_q75_gb: 0.96<br>max_monthly_usage_gb: 0.96<br>usage_q25_gb: 0.96<br>last_3_month_usage_gb: 0.95<br>last_2_month_usage_gb: 0.95",
          "min_monthly_usage_gb<br>Correlations:<br>avg_monthly_usage_gb: 0.95<br>total_usage_gb: 0.95",
          "last_3_month_usage_gb<br>Correlations:<br>last_1_2mo_rolling_avg: 0.95<br>last_2_2mo_rolling_avg: 0.95",
          "last_4_month_usage_gb<br>Correlations:<br>last_1_2mo_rolling_avg: 0.95",
          "last_1_month_usage_gb<br>Correlations:<br>last_3_2mo_rolling_avg: 0.95",
          "last_2_month_usage_gb<br>Correlations:<br>last_2_2mo_rolling_avg: 0.95<br>last_3_2mo_rolling_avg: 0.95"
         ],
         "marker": {
          "color": "#87ceeb",
          "line": {
           "width": 2
          },
          "showscale": false,
          "size": 20
         },
         "mode": "markers+text",
         "text": [
          "active_usage_months",
          "zero_usage_months",
          "avg_delta_3mo",
          "max_delta_3mo_increase",
          "max_delta_3mo_decrease",
          "last_1_delta_3mo",
          "avg_monthly_usage_gb",
          "total_usage_gb",
          "avg_delta_1mo",
          "median_monthly_usage_gb",
          "usage_q75_gb",
          "last_2_3mo_rolling_avg",
          "last_1_3mo_rolling_avg",
          "usage_q25_gb",
          "max_monthly_usage_gb",
          "last_1_2mo_rolling_avg",
          "last_3_2mo_rolling_avg",
          "last_2_2mo_rolling_avg",
          "min_monthly_usage_gb",
          "last_3_month_usage_gb",
          "last_4_month_usage_gb",
          "last_1_month_usage_gb",
          "last_2_month_usage_gb"
         ],
         "textposition": "top center",
         "type": "scatter",
         "x": [
          0.5972809226293299,
          0.6441155962582179,
          -0.9469554944720102,
          -1,
          -0.8943289043742217,
          -0.9997167084766153,
          0.23851537337692189,
          0.20511495520936182,
          -0.9380941272546799,
          0.21546984097185984,
          0.1844496438083813,
          0.17748783901422843,
          0.14116068178441865,
          0.15449802719035954,
          0.13727634949758968,
          0.1832249957464534,
          0.23787633344516915,
          0.26999994692532703,
          0.2710914268911363,
          0.34501843455856557,
          0.129468273920608,
          0.276339001764385,
          0.3707075915852134
         ],
         "y": [
          0.9463439505836685,
          0.8709324754991593,
          0.1390098830654882,
          0.16065817771250152,
          0.18282641763209304,
          0.22460875939900235,
          -0.19660139509190955,
          -0.20943751317356227,
          0.23822194731101354,
          -0.13689788063251482,
          -0.16401485043186695,
          -0.09168599029137786,
          -0.20596090173653567,
          -0.1274115507273526,
          -0.1596410804297656,
          -0.27236997127577806,
          -0.05959146909484181,
          -0.1488262852218742,
          -0.33986815645931423,
          -0.28139324704147456,
          -0.44880236782798255,
          0.11554375149440095,
          -0.035642703261175405
         ]
        }
       ],
       "layout": {
        "height": 800,
        "hovermode": "closest",
        "margin": {
         "b": 20,
         "l": 5,
         "r": 5,
         "t": 40
        },
        "showlegend": false,
        "template": {
         "data": {
          "bar": [
           {
            "error_x": {
             "color": "#2a3f5f"
            },
            "error_y": {
             "color": "#2a3f5f"
            },
            "marker": {
             "line": {
              "color": "#E5ECF6",
              "width": 0.5
             },
             "pattern": {
              "fillmode": "overlay",
              "size": 10,
              "solidity": 0.2
             }
            },
            "type": "bar"
           }
          ],
          "barpolar": [
           {
            "marker": {
             "line": {
              "color": "#E5ECF6",
              "width": 0.5
             },
             "pattern": {
              "fillmode": "overlay",
              "size": 10,
              "solidity": 0.2
             }
            },
            "type": "barpolar"
           }
          ],
          "carpet": [
           {
            "aaxis": {
             "endlinecolor": "#2a3f5f",
             "gridcolor": "white",
             "linecolor": "white",
             "minorgridcolor": "white",
             "startlinecolor": "#2a3f5f"
            },
            "baxis": {
             "endlinecolor": "#2a3f5f",
             "gridcolor": "white",
             "linecolor": "white",
             "minorgridcolor": "white",
             "startlinecolor": "#2a3f5f"
            },
            "type": "carpet"
           }
          ],
          "choropleth": [
           {
            "colorbar": {
             "outlinewidth": 0,
             "ticks": ""
            },
            "type": "choropleth"
           }
          ],
          "contour": [
           {
            "colorbar": {
             "outlinewidth": 0,
             "ticks": ""
            },
            "colorscale": [
             [
              0,
              "#0d0887"
             ],
             [
              0.1111111111111111,
              "#46039f"
             ],
             [
              0.2222222222222222,
              "#7201a8"
             ],
             [
              0.3333333333333333,
              "#9c179e"
             ],
             [
              0.4444444444444444,
              "#bd3786"
             ],
             [
              0.5555555555555556,
              "#d8576b"
             ],
             [
              0.6666666666666666,
              "#ed7953"
             ],
             [
              0.7777777777777778,
              "#fb9f3a"
             ],
             [
              0.8888888888888888,
              "#fdca26"
             ],
             [
              1,
              "#f0f921"
             ]
            ],
            "type": "contour"
           }
          ],
          "contourcarpet": [
           {
            "colorbar": {
             "outlinewidth": 0,
             "ticks": ""
            },
            "type": "contourcarpet"
           }
          ],
          "heatmap": [
           {
            "colorbar": {
             "outlinewidth": 0,
             "ticks": ""
            },
            "colorscale": [
             [
              0,
              "#0d0887"
             ],
             [
              0.1111111111111111,
              "#46039f"
             ],
             [
              0.2222222222222222,
              "#7201a8"
             ],
             [
              0.3333333333333333,
              "#9c179e"
             ],
             [
              0.4444444444444444,
              "#bd3786"
             ],
             [
              0.5555555555555556,
              "#d8576b"
             ],
             [
              0.6666666666666666,
              "#ed7953"
             ],
             [
              0.7777777777777778,
              "#fb9f3a"
             ],
             [
              0.8888888888888888,
              "#fdca26"
             ],
             [
              1,
              "#f0f921"
             ]
            ],
            "type": "heatmap"
           }
          ],
          "histogram": [
           {
            "marker": {
             "pattern": {
              "fillmode": "overlay",
              "size": 10,
              "solidity": 0.2
             }
            },
            "type": "histogram"
           }
          ],
          "histogram2d": [
           {
            "colorbar": {
             "outlinewidth": 0,
             "ticks": ""
            },
            "colorscale": [
             [
              0,
              "#0d0887"
             ],
             [
              0.1111111111111111,
              "#46039f"
             ],
             [
              0.2222222222222222,
              "#7201a8"
             ],
             [
              0.3333333333333333,
              "#9c179e"
             ],
             [
              0.4444444444444444,
              "#bd3786"
             ],
             [
              0.5555555555555556,
              "#d8576b"
             ],
             [
              0.6666666666666666,
              "#ed7953"
             ],
             [
              0.7777777777777778,
              "#fb9f3a"
             ],
             [
              0.8888888888888888,
              "#fdca26"
             ],
             [
              1,
              "#f0f921"
             ]
            ],
            "type": "histogram2d"
           }
          ],
          "histogram2dcontour": [
           {
            "colorbar": {
             "outlinewidth": 0,
             "ticks": ""
            },
            "colorscale": [
             [
              0,
              "#0d0887"
             ],
             [
              0.1111111111111111,
              "#46039f"
             ],
             [
              0.2222222222222222,
              "#7201a8"
             ],
             [
              0.3333333333333333,
              "#9c179e"
             ],
             [
              0.4444444444444444,
              "#bd3786"
             ],
             [
              0.5555555555555556,
              "#d8576b"
             ],
             [
              0.6666666666666666,
              "#ed7953"
             ],
             [
              0.7777777777777778,
              "#fb9f3a"
             ],
             [
              0.8888888888888888,
              "#fdca26"
             ],
             [
              1,
              "#f0f921"
             ]
            ],
            "type": "histogram2dcontour"
           }
          ],
          "mesh3d": [
           {
            "colorbar": {
             "outlinewidth": 0,
             "ticks": ""
            },
            "type": "mesh3d"
           }
          ],
          "parcoords": [
           {
            "line": {
             "colorbar": {
              "outlinewidth": 0,
              "ticks": ""
             }
            },
            "type": "parcoords"
           }
          ],
          "pie": [
           {
            "automargin": true,
            "type": "pie"
           }
          ],
          "scatter": [
           {
            "fillpattern": {
             "fillmode": "overlay",
             "size": 10,
             "solidity": 0.2
            },
            "type": "scatter"
           }
          ],
          "scatter3d": [
           {
            "line": {
             "colorbar": {
              "outlinewidth": 0,
              "ticks": ""
             }
            },
            "marker": {
             "colorbar": {
              "outlinewidth": 0,
              "ticks": ""
             }
            },
            "type": "scatter3d"
           }
          ],
          "scattercarpet": [
           {
            "marker": {
             "colorbar": {
              "outlinewidth": 0,
              "ticks": ""
             }
            },
            "type": "scattercarpet"
           }
          ],
          "scattergeo": [
           {
            "marker": {
             "colorbar": {
              "outlinewidth": 0,
              "ticks": ""
             }
            },
            "type": "scattergeo"
           }
          ],
          "scattergl": [
           {
            "marker": {
             "colorbar": {
              "outlinewidth": 0,
              "ticks": ""
             }
            },
            "type": "scattergl"
           }
          ],
          "scattermap": [
           {
            "marker": {
             "colorbar": {
              "outlinewidth": 0,
              "ticks": ""
             }
            },
            "type": "scattermap"
           }
          ],
          "scattermapbox": [
           {
            "marker": {
             "colorbar": {
              "outlinewidth": 0,
              "ticks": ""
             }
            },
            "type": "scattermapbox"
           }
          ],
          "scatterpolar": [
           {
            "marker": {
             "colorbar": {
              "outlinewidth": 0,
              "ticks": ""
             }
            },
            "type": "scatterpolar"
           }
          ],
          "scatterpolargl": [
           {
            "marker": {
             "colorbar": {
              "outlinewidth": 0,
              "ticks": ""
             }
            },
            "type": "scatterpolargl"
           }
          ],
          "scatterternary": [
           {
            "marker": {
             "colorbar": {
              "outlinewidth": 0,
              "ticks": ""
             }
            },
            "type": "scatterternary"
           }
          ],
          "surface": [
           {
            "colorbar": {
             "outlinewidth": 0,
             "ticks": ""
            },
            "colorscale": [
             [
              0,
              "#0d0887"
             ],
             [
              0.1111111111111111,
              "#46039f"
             ],
             [
              0.2222222222222222,
              "#7201a8"
             ],
             [
              0.3333333333333333,
              "#9c179e"
             ],
             [
              0.4444444444444444,
              "#bd3786"
             ],
             [
              0.5555555555555556,
              "#d8576b"
             ],
             [
              0.6666666666666666,
              "#ed7953"
             ],
             [
              0.7777777777777778,
              "#fb9f3a"
             ],
             [
              0.8888888888888888,
              "#fdca26"
             ],
             [
              1,
              "#f0f921"
             ]
            ],
            "type": "surface"
           }
          ],
          "table": [
           {
            "cells": {
             "fill": {
              "color": "#EBF0F8"
             },
             "line": {
              "color": "white"
             }
            },
            "header": {
             "fill": {
              "color": "#C8D4E3"
             },
             "line": {
              "color": "white"
             }
            },
            "type": "table"
           }
          ]
         },
         "layout": {
          "annotationdefaults": {
           "arrowcolor": "#2a3f5f",
           "arrowhead": 0,
           "arrowwidth": 1
          },
          "autotypenumbers": "strict",
          "coloraxis": {
           "colorbar": {
            "outlinewidth": 0,
            "ticks": ""
           }
          },
          "colorscale": {
           "diverging": [
            [
             0,
             "#8e0152"
            ],
            [
             0.1,
             "#c51b7d"
            ],
            [
             0.2,
             "#de77ae"
            ],
            [
             0.3,
             "#f1b6da"
            ],
            [
             0.4,
             "#fde0ef"
            ],
            [
             0.5,
             "#f7f7f7"
            ],
            [
             0.6,
             "#e6f5d0"
            ],
            [
             0.7,
             "#b8e186"
            ],
            [
             0.8,
             "#7fbc41"
            ],
            [
             0.9,
             "#4d9221"
            ],
            [
             1,
             "#276419"
            ]
           ],
           "sequential": [
            [
             0,
             "#0d0887"
            ],
            [
             0.1111111111111111,
             "#46039f"
            ],
            [
             0.2222222222222222,
             "#7201a8"
            ],
            [
             0.3333333333333333,
             "#9c179e"
            ],
            [
             0.4444444444444444,
             "#bd3786"
            ],
            [
             0.5555555555555556,
             "#d8576b"
            ],
            [
             0.6666666666666666,
             "#ed7953"
            ],
            [
             0.7777777777777778,
             "#fb9f3a"
            ],
            [
             0.8888888888888888,
             "#fdca26"
            ],
            [
             1,
             "#f0f921"
            ]
           ],
           "sequentialminus": [
            [
             0,
             "#0d0887"
            ],
            [
             0.1111111111111111,
             "#46039f"
            ],
            [
             0.2222222222222222,
             "#7201a8"
            ],
            [
             0.3333333333333333,
             "#9c179e"
            ],
            [
             0.4444444444444444,
             "#bd3786"
            ],
            [
             0.5555555555555556,
             "#d8576b"
            ],
            [
             0.6666666666666666,
             "#ed7953"
            ],
            [
             0.7777777777777778,
             "#fb9f3a"
            ],
            [
             0.8888888888888888,
             "#fdca26"
            ],
            [
             1,
             "#f0f921"
            ]
           ]
          },
          "colorway": [
           "#636efa",
           "#EF553B",
           "#00cc96",
           "#ab63fa",
           "#FFA15A",
           "#19d3f3",
           "#FF6692",
           "#B6E880",
           "#FF97FF",
           "#FECB52"
          ],
          "font": {
           "color": "#2a3f5f"
          },
          "geo": {
           "bgcolor": "white",
           "lakecolor": "white",
           "landcolor": "#E5ECF6",
           "showlakes": true,
           "showland": true,
           "subunitcolor": "white"
          },
          "hoverlabel": {
           "align": "left"
          },
          "hovermode": "closest",
          "mapbox": {
           "style": "light"
          },
          "paper_bgcolor": "white",
          "plot_bgcolor": "#E5ECF6",
          "polar": {
           "angularaxis": {
            "gridcolor": "white",
            "linecolor": "white",
            "ticks": ""
           },
           "bgcolor": "#E5ECF6",
           "radialaxis": {
            "gridcolor": "white",
            "linecolor": "white",
            "ticks": ""
           }
          },
          "scene": {
           "xaxis": {
            "backgroundcolor": "#E5ECF6",
            "gridcolor": "white",
            "gridwidth": 2,
            "linecolor": "white",
            "showbackground": true,
            "ticks": "",
            "zerolinecolor": "white"
           },
           "yaxis": {
            "backgroundcolor": "#E5ECF6",
            "gridcolor": "white",
            "gridwidth": 2,
            "linecolor": "white",
            "showbackground": true,
            "ticks": "",
            "zerolinecolor": "white"
           },
           "zaxis": {
            "backgroundcolor": "#E5ECF6",
            "gridcolor": "white",
            "gridwidth": 2,
            "linecolor": "white",
            "showbackground": true,
            "ticks": "",
            "zerolinecolor": "white"
           }
          },
          "shapedefaults": {
           "line": {
            "color": "#2a3f5f"
           }
          },
          "ternary": {
           "aaxis": {
            "gridcolor": "white",
            "linecolor": "white",
            "ticks": ""
           },
           "baxis": {
            "gridcolor": "white",
            "linecolor": "white",
            "ticks": ""
           },
           "bgcolor": "#E5ECF6",
           "caxis": {
            "gridcolor": "white",
            "linecolor": "white",
            "ticks": ""
           }
          },
          "title": {
           "x": 0.05
          },
          "xaxis": {
           "automargin": true,
           "gridcolor": "white",
           "linecolor": "white",
           "ticks": "",
           "title": {
            "standoff": 15
           },
           "zerolinecolor": "white",
           "zerolinewidth": 2
          },
          "yaxis": {
           "automargin": true,
           "gridcolor": "white",
           "linecolor": "white",
           "ticks": "",
           "title": {
            "standoff": 15
           },
           "zerolinecolor": "white",
           "zerolinewidth": 2
          }
         }
        },
        "title": {
         "text": "Clusters of Highly Correlated Features"
        },
        "width": 1200,
        "xaxis": {
         "showgrid": false,
         "showticklabels": false,
         "zeroline": false
        },
        "yaxis": {
         "showgrid": false,
         "showticklabels": false,
         "zeroline": false
        }
       }
      }
     },
     "metadata": {},
     "output_type": "display_data"
    }
   ],
   "source": [
    "plot_correlation_network(G_95, pos=nx.spring_layout(G_95, seed=42))"
   ]
  },
  {
   "cell_type": "markdown",
   "id": "750c6a27",
   "metadata": {},
   "source": [
    "## Variance analysis"
   ]
  },
  {
   "cell_type": "code",
   "execution_count": 50,
   "id": "cedb61b3",
   "metadata": {},
   "outputs": [],
   "source": [
    "only_numeric_features = features.select(cs.numeric() & ~cs.boolean())"
   ]
  },
  {
   "cell_type": "code",
   "execution_count": 51,
   "id": "341759e1",
   "metadata": {},
   "outputs": [
    {
     "name": "stdout",
     "output_type": "stream",
     "text": [
      "CPU times: user 8.26 ms, sys: 2.79 ms, total: 11.1 ms\n",
      "Wall time: 1.91 ms\n"
     ]
    }
   ],
   "source": [
    "%%time\n",
    "\n",
    "# Compute the standard deviation\n",
    "variance_analysis = (\n",
    "    features\n",
    "    .select([\n",
    "        pl.col(col).std()\n",
    "        for col in numeric_and_booleans_features.columns\n",
    "    ])\n",
    "    .unpivot(variable_name='feature', value_name='stdev')\n",
    "    .sort('stdev', descending=True)\n",
    ")"
   ]
  },
  {
   "cell_type": "code",
   "execution_count": 52,
   "id": "27f61b96",
   "metadata": {},
   "outputs": [
    {
     "data": {
      "text/html": [
       "<div><style>\n",
       ".dataframe > thead > tr,\n",
       ".dataframe > tbody > tr {\n",
       "  text-align: right;\n",
       "  white-space: pre-wrap;\n",
       "}\n",
       "</style>\n",
       "<small>shape: (81, 2)</small><table border=\"1\" class=\"dataframe\"><thead><tr><th>feature</th><th>stdev</th></tr><tr><td>str</td><td>f64</td></tr></thead><tbody><tr><td>&quot;contract_binding_days&quot;</td><td>599.638049222254</td></tr><tr><td>&quot;contract_lifetime_days&quot;</td><td>490.1271217887317</td></tr><tr><td>&quot;remaining_binding_days&quot;</td><td>345.64345852492</td></tr><tr><td>&quot;total_usage_gb&quot;</td><td>69.21684430203867</td></tr><tr><td>&quot;days_since_last_produkte&amp;services-tarifwechsel&quot;</td><td>42.254754177537265</td></tr><tr><td>&hellip;</td><td>&hellip;</td></tr><tr><td>&quot;active_usage_months&quot;</td><td>0.23464950586759398</td></tr><tr><td>&quot;months_with_no_delta_3mo_change&quot;</td><td>0.17850662773735168</td></tr><tr><td>&quot;is_oneplus&quot;</td><td>0.15636891670783276</td></tr><tr><td>&quot;is_xiaomi&quot;</td><td>0.1545039087355984</td></tr><tr><td>&quot;always_used_roaming&quot;</td><td>0.08947041494008787</td></tr></tbody></table></div>"
      ],
      "text/plain": [
       "shape: (81, 2)\n",
       "┌────────────────────────────────────────────────┬─────────────────────┐\n",
       "│ feature                                        ┆ stdev               │\n",
       "│ ---                                            ┆ ---                 │\n",
       "│ str                                            ┆ f64                 │\n",
       "╞════════════════════════════════════════════════╪═════════════════════╡\n",
       "│ contract_binding_days                          ┆ 599.638049222254    │\n",
       "│ contract_lifetime_days                         ┆ 490.1271217887317   │\n",
       "│ remaining_binding_days                         ┆ 345.64345852492     │\n",
       "│ total_usage_gb                                 ┆ 69.21684430203867   │\n",
       "│ days_since_last_produkte&services-tarifwechsel ┆ 42.254754177537265  │\n",
       "│ …                                              ┆ …                   │\n",
       "│ active_usage_months                            ┆ 0.23464950586759398 │\n",
       "│ months_with_no_delta_3mo_change                ┆ 0.17850662773735168 │\n",
       "│ is_oneplus                                     ┆ 0.15636891670783276 │\n",
       "│ is_xiaomi                                      ┆ 0.1545039087355984  │\n",
       "│ always_used_roaming                            ┆ 0.08947041494008787 │\n",
       "└────────────────────────────────────────────────┴─────────────────────┘"
      ]
     },
     "execution_count": 52,
     "metadata": {},
     "output_type": "execute_result"
    }
   ],
   "source": [
    "variance_analysis"
   ]
  },
  {
   "cell_type": "code",
   "execution_count": 53,
   "id": "6a461f1a",
   "metadata": {},
   "outputs": [
    {
     "name": "stdout",
     "output_type": "stream",
     "text": [
      "CPU times: user 55 ms, sys: 7.45 ms, total: 62.4 ms\n",
      "Wall time: 9.03 ms\n"
     ]
    }
   ],
   "source": [
    "%%time\n",
    "\n",
    "# Unique count dataframe (excluding boolean columns)\n",
    "unique_count = (\n",
    "    features\n",
    "    .select([\n",
    "        pl.col(col).n_unique().alias(col)\n",
    "        for col in only_numeric_features.columns \n",
    "    ])\n",
    "    .unpivot(variable_name=\"feature\", value_name=\"unique_count\")\n",
    "    .sort(\"unique_count\")\n",
    ")\n"
   ]
  },
  {
   "cell_type": "code",
   "execution_count": 54,
   "id": "7d784ef8",
   "metadata": {},
   "outputs": [
    {
     "data": {
      "text/html": [
       "<div><style>\n",
       ".dataframe > thead > tr,\n",
       ".dataframe > tbody > tr {\n",
       "  text-align: right;\n",
       "  white-space: pre-wrap;\n",
       "}\n",
       "</style>\n",
       "<small>shape: (70, 2)</small><table border=\"1\" class=\"dataframe\"><thead><tr><th>feature</th><th>unique_count</th></tr><tr><td>str</td><td>u32</td></tr></thead><tbody><tr><td>&quot;months_with_delta_3mo_increase&quot;</td><td>2</td></tr><tr><td>&quot;months_with_delta_3mo_decrease&quot;</td><td>2</td></tr><tr><td>&quot;months_with_no_delta_3mo_change&quot;</td><td>2</td></tr><tr><td>&quot;months_with_delta_2mo_increase&quot;</td><td>3</td></tr><tr><td>&quot;months_with_delta_2mo_decrease&quot;</td><td>3</td></tr><tr><td>&hellip;</td><td>&hellip;</td></tr><tr><td>&quot;completion_rate&quot;</td><td>2487</td></tr><tr><td>&quot;contract_binding_days&quot;</td><td>2516</td></tr><tr><td>&quot;usage_std_gb&quot;</td><td>2671</td></tr><tr><td>&quot;avg_monthly_usage_gb&quot;</td><td>2748</td></tr><tr><td>&quot;delta_1mo_volatility&quot;</td><td>4858</td></tr></tbody></table></div>"
      ],
      "text/plain": [
       "shape: (70, 2)\n",
       "┌─────────────────────────────────┬──────────────┐\n",
       "│ feature                         ┆ unique_count │\n",
       "│ ---                             ┆ ---          │\n",
       "│ str                             ┆ u32          │\n",
       "╞═════════════════════════════════╪══════════════╡\n",
       "│ months_with_delta_3mo_increase  ┆ 2            │\n",
       "│ months_with_delta_3mo_decrease  ┆ 2            │\n",
       "│ months_with_no_delta_3mo_change ┆ 2            │\n",
       "│ months_with_delta_2mo_increase  ┆ 3            │\n",
       "│ months_with_delta_2mo_decrease  ┆ 3            │\n",
       "│ …                               ┆ …            │\n",
       "│ completion_rate                 ┆ 2487         │\n",
       "│ contract_binding_days           ┆ 2516         │\n",
       "│ usage_std_gb                    ┆ 2671         │\n",
       "│ avg_monthly_usage_gb            ┆ 2748         │\n",
       "│ delta_1mo_volatility            ┆ 4858         │\n",
       "└─────────────────────────────────┴──────────────┘"
      ]
     },
     "execution_count": 54,
     "metadata": {},
     "output_type": "execute_result"
    }
   ],
   "source": [
    "unique_count"
   ]
  },
  {
   "cell_type": "markdown",
   "id": "30e9ac99",
   "metadata": {},
   "source": [
    "## Cleaning"
   ]
  },
  {
   "cell_type": "code",
   "execution_count": 55,
   "id": "3ae8667b",
   "metadata": {},
   "outputs": [],
   "source": [
    "do_not_remove = ['has_done_upselling']"
   ]
  },
  {
   "cell_type": "code",
   "execution_count": 56,
   "id": "6462236e",
   "metadata": {},
   "outputs": [],
   "source": [
    "stdev_threshold = 0.1\n",
    "stdev_1quantile = variance_analysis['stdev'].quantile(0.1)"
   ]
  },
  {
   "cell_type": "code",
   "execution_count": 57,
   "id": "e4f5cf75",
   "metadata": {},
   "outputs": [
    {
     "data": {
      "text/html": [
       "<div><style>\n",
       ".dataframe > thead > tr,\n",
       ".dataframe > tbody > tr {\n",
       "  text-align: right;\n",
       "  white-space: pre-wrap;\n",
       "}\n",
       "</style>\n",
       "<small>shape: (1,)</small><table border=\"1\" class=\"dataframe\"><thead><tr><th>feature</th></tr><tr><td>str</td></tr></thead><tbody><tr><td>&quot;always_used_roaming&quot;</td></tr></tbody></table></div>"
      ],
      "text/plain": [
       "shape: (1,)\n",
       "Series: 'feature' [str]\n",
       "[\n",
       "\t\"always_used_roaming\"\n",
       "]"
      ]
     },
     "execution_count": 57,
     "metadata": {},
     "output_type": "execute_result"
    }
   ],
   "source": [
    "low_variance_features = variance_analysis.filter(\n",
    "    pl.col('stdev') <= stdev_threshold\n",
    ")['feature'].unique()\n",
    "\n",
    "low_variance_features"
   ]
  },
  {
   "cell_type": "code",
   "execution_count": 58,
   "id": "e07a8a49",
   "metadata": {},
   "outputs": [],
   "source": [
    "highly_correlated_keep = [\n",
    "    'active_usage_months', 'total_usage_gb', 'avg_monthly_usage_gb', 'max_monthly_usage_gb',\n",
    "    'contract_lifetime_days', 'last_1_delta_3mo', 'months_with_delta_3mo_increase', 'months_with_delta_2mo_increase', 'months_with_delta_3mo_increase'\n",
    "]\n",
    "\n",
    "features_from_clusters = sorted(set().union(*clusters_80))\n",
    "highly_correlated_remove = list(set(features_from_clusters) - set(highly_correlated_keep))"
   ]
  },
  {
   "cell_type": "code",
   "execution_count": 62,
   "id": "df9f13d8",
   "metadata": {},
   "outputs": [
    {
     "name": "stdout",
     "output_type": "stream",
     "text": [
      "Dimensions before cleaning: (100000, 83)\n",
      "Dimensions after cleaning: (100000, 52)\n"
     ]
    }
   ],
   "source": [
    "# Cleaning the dataset\n",
    "features_to_remove = (\n",
    "    set(low_variance_features.to_list()) | set(highly_correlated_remove)\n",
    ") - set(do_not_remove)\n",
    "\n",
    "print(f'Dimensions before cleaning: {features.shape}')\n",
    "\n",
    "features_cleaned = features.drop(list(features_to_remove))\n",
    "\n",
    "print(f'Dimensions after cleaning: {features_cleaned.shape}')"
   ]
  },
  {
   "cell_type": "code",
   "execution_count": 60,
   "id": "9e02505d",
   "metadata": {},
   "outputs": [
    {
     "data": {
      "text/plain": [
       "['rating_account_id',\n",
       " 'customer_id',\n",
       " 'age',\n",
       " 'contract_lifetime_days',\n",
       " 'remaining_binding_days',\n",
       " 'has_special_offer',\n",
       " 'is_magenta1_customer',\n",
       " 'available_gb',\n",
       " 'gross_mrc',\n",
       " 'has_done_upselling',\n",
       " 'completion_rate',\n",
       " 'is_bounded',\n",
       " 'is_huawei',\n",
       " 'is_oneplus',\n",
       " 'is_samsung',\n",
       " 'is_xiaomi',\n",
       " 'is_iphone',\n",
       " 'n_contracts_per_customer',\n",
       " 'avg_monthly_usage_gb',\n",
       " 'total_usage_gb',\n",
       " 'max_monthly_usage_gb',\n",
       " 'months_with_roaming',\n",
       " 'ever_used_roaming',\n",
       " 'active_usage_months',\n",
       " 'months_with_no_delta_1mo_change',\n",
       " 'avg_delta_2mo',\n",
       " 'delta_2mo_volatility',\n",
       " 'max_delta_2mo_increase',\n",
       " 'max_delta_2mo_decrease',\n",
       " 'months_with_delta_2mo_increase',\n",
       " 'months_with_no_delta_2mo_change',\n",
       " 'months_with_delta_3mo_increase',\n",
       " 'months_with_no_delta_3mo_change',\n",
       " 'last_1_delta_1mo',\n",
       " 'last_2_delta_1mo',\n",
       " 'last_3_delta_1mo',\n",
       " 'last_1_delta_2mo',\n",
       " 'last_2_delta_2mo',\n",
       " 'last_1_delta_3mo',\n",
       " 'n_rechnungsanfragen',\n",
       " 'n_produkte&services-tarifdetails',\n",
       " 'n_prolongation',\n",
       " 'n_produkte&services-tarifwechsel',\n",
       " 'days_since_last_rechnungsanfragen',\n",
       " 'days_since_last_produkte&services-tarifdetails',\n",
       " 'days_since_last_prolongation',\n",
       " 'days_since_last_produkte&services-tarifwechsel',\n",
       " 'times_in_p1',\n",
       " 'times_in_p2',\n",
       " 'times_in_p3',\n",
       " 'times_in_p4',\n",
       " 'times_in_p5']"
      ]
     },
     "execution_count": 60,
     "metadata": {},
     "output_type": "execute_result"
    }
   ],
   "source": [
    "features_cleaned.columns"
   ]
  },
  {
   "cell_type": "markdown",
   "id": "7a9465da",
   "metadata": {},
   "source": [
    "# Storing"
   ]
  },
  {
   "cell_type": "code",
   "execution_count": null,
   "id": "e862928b",
   "metadata": {},
   "outputs": [],
   "source": [
    "%%time\n",
    "\n",
    "for directory in [features_dir, train_dir, test_dir, artifacts_dir]:\n",
    "    directory.mkdir(parents=True, exist_ok=True)\n",
    "\n",
    "# Save features\n",
    "features.write_parquet(features_dir / 'features_cleaned-v0.parquet')\n",
    "features_cleaned.write_parquet(features_dir / 'features-v0.parquet')\n",
    "\n",
    "# Prepare features and target for splitting\n",
    "X = features_cleaned.select(pl.exclude(['rating_account_id', 'customer_id', 'has_done_upselling']))\n",
    "y = features_cleaned.select('has_done_upselling')\n",
    "\n",
    "# Convert to numpy for sklearn\n",
    "X_np = X.to_numpy()\n",
    "y_np = y.to_numpy().ravel()\n",
    "\n",
    "# Split into train/test (80/20)\n",
    "X_train, X_test, y_train, y_test = train_test_split(\n",
    "    X_np, y_np, test_size=0.2, random_state=42, stratify=y_np\n",
    ")\n",
    "\n",
    "# Convert back to Polars and save main split\n",
    "train_df = pl.concat([\n",
    "    pl.DataFrame(X_train, schema=X.columns),\n",
    "    pl.DataFrame({'has_done_upselling': y_train})\n",
    "], how='horizontal')\n",
    "\n",
    "test_df = pl.concat([\n",
    "    pl.DataFrame(X_test, schema=X.columns),\n",
    "    pl.DataFrame({'has_done_upselling': y_test})\n",
    "], how='horizontal')\n",
    "\n",
    "train_df.write_parquet(train_dir / 'data-v0-80.parquet')\n",
    "test_df.write_parquet(test_dir / 'data-v0-20.parquet')\n",
    "\n",
    "# Split test data for meta learners (50/50)\n",
    "X_meta_train, X_meta_test, y_meta_train, y_meta_test = train_test_split(\n",
    "    X_test, y_test, test_size=0.5, random_state=42, stratify=y_test\n",
    ")\n",
    "\n",
    "# Convert back to Polars and save meta splits\n",
    "train_meta_df = pl.concat([\n",
    "    pl.DataFrame(X_meta_train, schema=X.columns),\n",
    "    pl.DataFrame({'has_done_upselling': y_meta_train})\n",
    "], how='horizontal')\n",
    "\n",
    "test_meta_df = pl.concat([\n",
    "    pl.DataFrame(X_meta_test, schema=X.columns),\n",
    "    pl.DataFrame({'has_done_upselling': y_meta_test})\n",
    "], how='horizontal')\n",
    "\n",
    "train_meta_df.write_parquet(train_dir / 'data-meta-v0-50.parquet')\n",
    "test_meta_df.write_parquet(test_dir / 'data-meta-v0-50.parquet')"
   ]
  },
  {
   "cell_type": "markdown",
   "id": "ccc65b72",
   "metadata": {},
   "source": [
    "**Features version 0**: \n",
    "\n",
    "- age imputed with Ridge regression\n",
    "    \n",
    "- stdev_threshold = 0.1\n",
    "    \n",
    "- using netowrk analysis for removing correlated features"
   ]
  },
  {
   "cell_type": "markdown",
   "id": "b35bf4e8",
   "metadata": {},
   "source": []
  }
 ],
 "metadata": {
  "kernelspec": {
   "display_name": "magenta-task",
   "language": "python",
   "name": "python3"
  },
  "language_info": {
   "codemirror_mode": {
    "name": "ipython",
    "version": 3
   },
   "file_extension": ".py",
   "mimetype": "text/x-python",
   "name": "python",
   "nbconvert_exporter": "python",
   "pygments_lexer": "ipython3",
   "version": "3.12.11"
  }
 },
 "nbformat": 4,
 "nbformat_minor": 5
}
