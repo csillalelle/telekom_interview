{
 "cells": [
  {
   "cell_type": "markdown",
   "id": "2fba1838",
   "metadata": {},
   "source": [
    "# Imports and definitions"
   ]
  },
  {
   "cell_type": "code",
   "execution_count": 1,
   "id": "8faa0556",
   "metadata": {},
   "outputs": [],
   "source": [
    "import pickle\n",
    "from pathlib import Path\n",
    "\n",
    "import polars as pl\n",
    "\n",
    "_ = pl.Config.set_tbl_cols(None)\n",
    "_ = pl.Config.set_fmt_str_lengths(500)\n",
    "_ = pl.Config.set_fmt_float(\"full\")"
   ]
  },
  {
   "cell_type": "code",
   "execution_count": 2,
   "id": "ff43609f",
   "metadata": {},
   "outputs": [],
   "source": [
    "base_dir = Path('/workspaces/data-scientist-at-magenta/')\n",
    "code_dir = base_dir / 'notebooks'\n",
    "dagster_storage_dir = base_dir / 'dagster_home' / 'storage'\n"
   ]
  },
  {
   "cell_type": "code",
   "execution_count": 3,
   "id": "b9547d1b",
   "metadata": {},
   "outputs": [],
   "source": [
    "def load_artifact(targ_file:str):\n",
    "    targ_path = dagster_storage_dir / targ_file\n",
    "    \n",
    "    if not targ_path.exists():\n",
    "        raise FileNotFoundError(f'Artifact {targ_file} not found in {dagster_storage_dir}')\n",
    "\n",
    "    with open(targ_path,'rb') as fp:\n",
    "        test_artifact = pickle.load(fp)\n",
    "\n",
    "    return pl.from_pandas(test_artifact)"
   ]
  },
  {
   "cell_type": "markdown",
   "id": "5fb9e887",
   "metadata": {},
   "source": [
    "`core_data` <br><br>\n",
    "\n",
    "| Feature Name           | Description                                                  |\n",
    "|------------------------|--------------------------------------------------------------|\n",
    "| rating_account_id      | Unique identifier for the contract account                    |\n",
    "| customer_id            | Unique identifier for the customer                           |\n",
    "| age                    | Age of the customer **in years**                                       |\n",
    "| contract_lifetime_days | Total duration of the customer contract in days              |\n",
    "| remaining_binding_days | Number of days left in the contract binding period - usual binding period is 2 years - **if it's positive it means that the customer is still in the binding period**       |\n",
    "| has_special_offer      | Indicates if the customer has a special offer      |\n",
    "| is_magenta1_customer   | Indicates if the customer is part of the Magenta1 program - fedelty program    |\n",
    "| available_gb           | Amount of mobile data included in the current tariff         |\n",
    "| gross_mrc              | Gross monthly recurring charge (in euros)                    |\n",
    "| smartphone_brand       | Brand of the customer’s smartphone                           |\n",
    "| has_done_upselling     | Whether the customer has already done an upsell in the last 3 years      |\n"
   ]
  },
  {
   "cell_type": "markdown",
   "id": "c36b65f1",
   "metadata": {},
   "source": [
    "`usage_info`\n",
    "\n",
    "| Feature Name           | Description                                                  |\n",
    "|------------------------|--------------------------------------------------------------|\n",
    "| rating_account_id      | Unique identifier for the contract account                    |\n",
    "| billed_period_month_d  | Billing period (monthly)                                     |\n",
    "| has_used_roaming       | Indicates if roaming was used during the period            |\n",
    "| used_gb                | Amount of mobile data used in the billing period (in GB)     |\n"
   ]
  },
  {
   "cell_type": "markdown",
   "id": "5bafb1cf",
   "metadata": {},
   "source": [
    "`customer_interactions`\n",
    "\n",
    "| Feature Name   | Description                                                              |\n",
    "|----------------|--------------------------------------------------------------------------|\n",
    "| customer_id    | Unique identifier for the customer                                       |\n",
    "| type_subtype   | Category and subtype of the interaction (e.g., tariff change, billing)   |\n",
    "| n              | Number of interactions of this type in the last 6 months                                |\n",
    "| days_since_last| Number of days since the last interaction of this type                   |\n"
   ]
  },
  {
   "cell_type": "markdown",
   "id": "1a43615c",
   "metadata": {},
   "source": [
    "# Exploration"
   ]
  },
  {
   "cell_type": "markdown",
   "id": "342d0bf1",
   "metadata": {},
   "source": [
    "## `core_data`"
   ]
  },
  {
   "cell_type": "markdown",
   "id": "808e6c90",
   "metadata": {},
   "source": [
    "\n",
    "| Feature Name           | Description                                                  |\n",
    "|------------------------|--------------------------------------------------------------|\n",
    "| rating_account_id      | Unique identifier for the contract account                    |\n",
    "| customer_id            | Unique identifier for the customer                           |\n",
    "| age                    | Age of the customer **in years**                                       |\n",
    "| contract_lifetime_days | Total duration of the customer contract in days              |\n",
    "| remaining_binding_days | Number of days left in the contract binding period - usual binding period is 2 years - **if it's positive it means that the customer is still in the binding period**       |\n",
    "| has_special_offer      | Indicates if the customer has a special offer      |\n",
    "| is_magenta1_customer   | Indicates if the customer is part of the Magenta1 program - fedelty program    |\n",
    "| available_gb           | Amount of mobile data included in the current tariff         |\n",
    "| gross_mrc              | Gross monthly recurring charge (in euros)                    |\n",
    "| smartphone_brand       | Brand of the customer’s smartphone                           |\n",
    "| has_done_upselling     | Whether the customer has already done an upsell in the last 3 years      |"
   ]
  },
  {
   "cell_type": "markdown",
   "id": "ef2caf9b",
   "metadata": {},
   "source": [
    "### General overview"
   ]
  },
  {
   "cell_type": "code",
   "execution_count": 4,
   "id": "3f837564",
   "metadata": {},
   "outputs": [],
   "source": [
    "core_data = load_artifact('core_data')"
   ]
  },
  {
   "cell_type": "code",
   "execution_count": 5,
   "id": "d5b234b3",
   "metadata": {},
   "outputs": [
    {
     "data": {
      "text/html": [
       "<div><style>\n",
       ".dataframe > thead > tr,\n",
       ".dataframe > tbody > tr {\n",
       "  text-align: right;\n",
       "  white-space: pre-wrap;\n",
       "}\n",
       "</style>\n",
       "<small>shape: (5, 11)</small><table border=\"1\" class=\"dataframe\"><thead><tr><th>rating_account_id</th><th>customer_id</th><th>age</th><th>contract_lifetime_days</th><th>remaining_binding_days</th><th>has_special_offer</th><th>is_magenta1_customer</th><th>available_gb</th><th>gross_mrc</th><th>smartphone_brand</th><th>has_done_upselling</th></tr><tr><td>i64</td><td>str</td><td>i64</td><td>i64</td><td>i64</td><td>i64</td><td>i64</td><td>i64</td><td>f64</td><td>str</td><td>i64</td></tr></thead><tbody><tr><td>289094</td><td>&quot;4.161115&quot;</td><td>36</td><td>878</td><td>325</td><td>0</td><td>0</td><td>20</td><td>70</td><td>&quot;iPhone&quot;</td><td>0</td></tr><tr><td>677626</td><td>&quot;2.429976&quot;</td><td>34</td><td>998</td><td>614</td><td>0</td><td>0</td><td>0</td><td>5</td><td>&quot;Samsung&quot;</td><td>0</td></tr><tr><td>769928</td><td>&quot;3.875044&quot;</td><td>36</td><td>37</td><td>-26</td><td>0</td><td>1</td><td>50</td><td>16.94</td><td>&quot;Samsung&quot;</td><td>0</td></tr><tr><td>873260</td><td>&quot;4.649933&quot;</td><td>50</td><td>503</td><td>-149</td><td>0</td><td>1</td><td>20</td><td>30.2</td><td>&quot;iPhone&quot;</td><td>1</td></tr><tr><td>109774</td><td>&quot;3.851059&quot;</td><td>47</td><td>331</td><td>-328</td><td>1</td><td>1</td><td>null</td><td>46.12</td><td>&quot;Samsung&quot;</td><td>0</td></tr></tbody></table></div>"
      ],
      "text/plain": [
       "shape: (5, 11)\n",
       "┌────────────┬────────────┬─────┬────────────┬───┬────────────┬───────────┬────────────┬───────────┐\n",
       "│ rating_acc ┆ customer_i ┆ age ┆ contract_l ┆ … ┆ available_ ┆ gross_mrc ┆ smartphone ┆ has_done_ │\n",
       "│ ount_id    ┆ d          ┆ --- ┆ ifetime_da ┆   ┆ gb         ┆ ---       ┆ _brand     ┆ upselling │\n",
       "│ ---        ┆ ---        ┆ i64 ┆ ys         ┆   ┆ ---        ┆ f64       ┆ ---        ┆ ---       │\n",
       "│ i64        ┆ str        ┆     ┆ ---        ┆   ┆ i64        ┆           ┆ str        ┆ i64       │\n",
       "│            ┆            ┆     ┆ i64        ┆   ┆            ┆           ┆            ┆           │\n",
       "╞════════════╪════════════╪═════╪════════════╪═══╪════════════╪═══════════╪════════════╪═══════════╡\n",
       "│ 289094     ┆ 4.161115   ┆ 36  ┆ 878        ┆ … ┆ 20         ┆ 70        ┆ iPhone     ┆ 0         │\n",
       "│ 677626     ┆ 2.429976   ┆ 34  ┆ 998        ┆ … ┆ 0          ┆ 5         ┆ Samsung    ┆ 0         │\n",
       "│ 769928     ┆ 3.875044   ┆ 36  ┆ 37         ┆ … ┆ 50         ┆ 16.94     ┆ Samsung    ┆ 0         │\n",
       "│ 873260     ┆ 4.649933   ┆ 50  ┆ 503        ┆ … ┆ 20         ┆ 30.2      ┆ iPhone     ┆ 1         │\n",
       "│ 109774     ┆ 3.851059   ┆ 47  ┆ 331        ┆ … ┆ null       ┆ 46.12     ┆ Samsung    ┆ 0         │\n",
       "└────────────┴────────────┴─────┴────────────┴───┴────────────┴───────────┴────────────┴───────────┘"
      ]
     },
     "execution_count": 5,
     "metadata": {},
     "output_type": "execute_result"
    }
   ],
   "source": [
    "core_data.head()"
   ]
  },
  {
   "cell_type": "code",
   "execution_count": 6,
   "id": "26f47de2",
   "metadata": {},
   "outputs": [
    {
     "data": {
      "text/plain": [
       "Schema([('rating_account_id', Int64),\n",
       "        ('customer_id', String),\n",
       "        ('age', Int64),\n",
       "        ('contract_lifetime_days', Int64),\n",
       "        ('remaining_binding_days', Int64),\n",
       "        ('has_special_offer', Int64),\n",
       "        ('is_magenta1_customer', Int64),\n",
       "        ('available_gb', Int64),\n",
       "        ('gross_mrc', Float64),\n",
       "        ('smartphone_brand', String),\n",
       "        ('has_done_upselling', Int64)])"
      ]
     },
     "execution_count": 6,
     "metadata": {},
     "output_type": "execute_result"
    }
   ],
   "source": [
    "core_data.schema"
   ]
  },
  {
   "cell_type": "code",
   "execution_count": null,
   "id": "56a02406",
   "metadata": {},
   "outputs": [
    {
     "data": {
      "text/html": [
       "<div><style>\n",
       ".dataframe > thead > tr,\n",
       ".dataframe > tbody > tr {\n",
       "  text-align: right;\n",
       "  white-space: pre-wrap;\n",
       "}\n",
       "</style>\n",
       "<small>shape: (100_000, 14)</small><table border=\"1\" class=\"dataframe\"><thead><tr><th>rating_account_id</th><th>customer_id</th><th>age</th><th>contract_lifetime_days</th><th>remaining_binding_days</th><th>has_special_offer</th><th>is_magenta1_customer</th><th>available_gb</th><th>gross_mrc</th><th>smartphone_brand</th><th>has_done_upselling</th><th>contract_binding_days</th><th>completion_rate</th><th>cost_per_gb</th></tr><tr><td>i64</td><td>str</td><td>i64</td><td>i64</td><td>i64</td><td>bool</td><td>bool</td><td>i64</td><td>f64</td><td>str</td><td>bool</td><td>i64</td><td>f64</td><td>f64</td></tr></thead><tbody><tr><td>289094</td><td>&quot;4.161115&quot;</td><td>36</td><td>878</td><td>325</td><td>false</td><td>false</td><td>20</td><td>70</td><td>&quot;iPhone&quot;</td><td>false</td><td>1203</td><td>0.7298420615128844</td><td>3.5</td></tr><tr><td>677626</td><td>&quot;2.429976&quot;</td><td>34</td><td>998</td><td>614</td><td>false</td><td>false</td><td>0</td><td>5</td><td>&quot;Samsung&quot;</td><td>false</td><td>1612</td><td>0.6191066997518611</td><td>inf</td></tr><tr><td>769928</td><td>&quot;3.875044&quot;</td><td>36</td><td>37</td><td>-26</td><td>false</td><td>true</td><td>50</td><td>16.94</td><td>&quot;Samsung&quot;</td><td>false</td><td>11</td><td>3.3636363636363638</td><td>0.33880000000000005</td></tr><tr><td>873260</td><td>&quot;4.649933&quot;</td><td>50</td><td>503</td><td>-149</td><td>false</td><td>true</td><td>20</td><td>30.2</td><td>&quot;iPhone&quot;</td><td>true</td><td>354</td><td>1.42090395480226</td><td>1.51</td></tr><tr><td>109774</td><td>&quot;3.851059&quot;</td><td>47</td><td>331</td><td>-328</td><td>true</td><td>true</td><td>null</td><td>46.12</td><td>&quot;Samsung&quot;</td><td>false</td><td>3</td><td>110.33333333333333</td><td>null</td></tr><tr><td>&hellip;</td><td>&hellip;</td><td>&hellip;</td><td>&hellip;</td><td>&hellip;</td><td>&hellip;</td><td>&hellip;</td><td>&hellip;</td><td>&hellip;</td><td>&hellip;</td><td>&hellip;</td><td>&hellip;</td><td>&hellip;</td><td>&hellip;</td></tr><tr><td>502283</td><td>&quot;5.605022&quot;</td><td>88</td><td>1573</td><td>-576</td><td>false</td><td>false</td><td>10</td><td>34.18</td><td>&quot;Samsung&quot;</td><td>false</td><td>997</td><td>1.5777331995987964</td><td>3.418</td></tr><tr><td>618421</td><td>&quot;2.862063&quot;</td><td>85</td><td>1138</td><td>412</td><td>true</td><td>false</td><td>40</td><td>50.1</td><td>&quot;iPhone&quot;</td><td>false</td><td>1550</td><td>0.7341935483870968</td><td>1.2525</td></tr><tr><td>104422</td><td>&quot;2.414264&quot;</td><td>79</td><td>1709</td><td>-494</td><td>false</td><td>false</td><td>10</td><td>12.96</td><td>&quot;Samsung&quot;</td><td>false</td><td>1215</td><td>1.4065843621399177</td><td>1.296</td></tr><tr><td>642380</td><td>&quot;3.619106&quot;</td><td>84</td><td>1592</td><td>403</td><td>false</td><td>false</td><td>10</td><td>56.73</td><td>&quot;Samsung&quot;</td><td>false</td><td>1995</td><td>0.7979949874686717</td><td>5.673</td></tr><tr><td>620562</td><td>&quot;2.177584&quot;</td><td>88</td><td>1711</td><td>383</td><td>false</td><td>false</td><td>10</td><td>5</td><td>&quot;iPhone&quot;</td><td>false</td><td>2094</td><td>0.8170964660936008</td><td>0.5</td></tr></tbody></table></div>"
      ],
      "text/plain": [
       "shape: (100_000, 14)\n",
       "┌────────────┬────────────┬─────┬────────────┬───┬────────────┬────────────┬───────────┬───────────┐\n",
       "│ rating_acc ┆ customer_i ┆ age ┆ contract_l ┆ … ┆ has_done_u ┆ contract_b ┆ completio ┆ cost_per_ │\n",
       "│ ount_id    ┆ d          ┆ --- ┆ ifetime_da ┆   ┆ pselling   ┆ inding_day ┆ n_rate    ┆ gb        │\n",
       "│ ---        ┆ ---        ┆ i64 ┆ ys         ┆   ┆ ---        ┆ s          ┆ ---       ┆ ---       │\n",
       "│ i64        ┆ str        ┆     ┆ ---        ┆   ┆ bool       ┆ ---        ┆ f64       ┆ f64       │\n",
       "│            ┆            ┆     ┆ i64        ┆   ┆            ┆ i64        ┆           ┆           │\n",
       "╞════════════╪════════════╪═════╪════════════╪═══╪════════════╪════════════╪═══════════╪═══════════╡\n",
       "│ 289094     ┆ 4.161115   ┆ 36  ┆ 878        ┆ … ┆ false      ┆ 1203       ┆ 0.7298420 ┆ 3.5       │\n",
       "│            ┆            ┆     ┆            ┆   ┆            ┆            ┆ 615128844 ┆           │\n",
       "│ 677626     ┆ 2.429976   ┆ 34  ┆ 998        ┆ … ┆ false      ┆ 1612       ┆ 0.6191066 ┆ inf       │\n",
       "│            ┆            ┆     ┆            ┆   ┆            ┆            ┆ 997518611 ┆           │\n",
       "│ 769928     ┆ 3.875044   ┆ 36  ┆ 37         ┆ … ┆ false      ┆ 11         ┆ 3.3636363 ┆ 0.3388000 │\n",
       "│            ┆            ┆     ┆            ┆   ┆            ┆            ┆ 636363638 ┆ 000000000 │\n",
       "│            ┆            ┆     ┆            ┆   ┆            ┆            ┆           ┆ 5         │\n",
       "│ 873260     ┆ 4.649933   ┆ 50  ┆ 503        ┆ … ┆ true       ┆ 354        ┆ 1.4209039 ┆ 1.51      │\n",
       "│            ┆            ┆     ┆            ┆   ┆            ┆            ┆ 5480226   ┆           │\n",
       "│ 109774     ┆ 3.851059   ┆ 47  ┆ 331        ┆ … ┆ false      ┆ 3          ┆ 110.33333 ┆ null      │\n",
       "│            ┆            ┆     ┆            ┆   ┆            ┆            ┆ 333333333 ┆           │\n",
       "│ …          ┆ …          ┆ …   ┆ …          ┆ … ┆ …          ┆ …          ┆ …         ┆ …         │\n",
       "│ 502283     ┆ 5.605022   ┆ 88  ┆ 1573       ┆ … ┆ false      ┆ 997        ┆ 1.5777331 ┆ 3.418     │\n",
       "│            ┆            ┆     ┆            ┆   ┆            ┆            ┆ 995987964 ┆           │\n",
       "│ 618421     ┆ 2.862063   ┆ 85  ┆ 1138       ┆ … ┆ false      ┆ 1550       ┆ 0.7341935 ┆ 1.2525    │\n",
       "│            ┆            ┆     ┆            ┆   ┆            ┆            ┆ 483870968 ┆           │\n",
       "│ 104422     ┆ 2.414264   ┆ 79  ┆ 1709       ┆ … ┆ false      ┆ 1215       ┆ 1.4065843 ┆ 1.296     │\n",
       "│            ┆            ┆     ┆            ┆   ┆            ┆            ┆ 621399177 ┆           │\n",
       "│ 642380     ┆ 3.619106   ┆ 84  ┆ 1592       ┆ … ┆ false      ┆ 1995       ┆ 0.7979949 ┆ 5.673     │\n",
       "│            ┆            ┆     ┆            ┆   ┆            ┆            ┆ 874686717 ┆           │\n",
       "│ 620562     ┆ 2.177584   ┆ 88  ┆ 1711       ┆ … ┆ false      ┆ 2094       ┆ 0.8170964 ┆ 0.5       │\n",
       "│            ┆            ┆     ┆            ┆   ┆            ┆            ┆ 660936008 ┆           │\n",
       "└────────────┴────────────┴─────┴────────────┴───┴────────────┴────────────┴───────────┴───────────┘"
      ]
     },
     "execution_count": 7,
     "metadata": {},
     "output_type": "execute_result"
    }
   ],
   "source": [
    "core_data = core_data.with_columns(\n",
    "    pl.col(\"has_done_upselling\").cast(pl.Boolean),\n",
    "    pl.col(\"has_special_offer\").cast(pl.Boolean),\n",
    "    pl.col(\"is_magenta1_customer\").cast(pl.Boolean)\n",
    ")\n",
    "\n",
    "core_data = core_data.with_columns(\n",
    "    (pl.col('contract_lifetime_days') + pl.col('remaining_binding_days')).alias('contract_binding_days'),\n",
    "    (pl.col('contract_lifetime_days') / (pl.col('contract_lifetime_days') + pl.col('remaining_binding_days'))).alias('completion_rate'),\n",
    "    (pl.col('gross_mrc') / pl.col('available_gb')).alias('cost_per_gb')\n",
    ")\n",
    "\n",
    "core_data"
   ]
  },
  {
   "cell_type": "code",
   "execution_count": null,
   "id": "96386edf",
   "metadata": {},
   "outputs": [
    {
     "name": "stdout",
     "output_type": "stream",
     "text": [
      "The core_data has 100000 rows and 14 columns.\n",
      "\n",
      "The core_data has 58495 unique customers.\n",
      "The core_data has 100000 unique contracts.\n",
      "\n",
      "The core_data has 5 unique smartphone brands.\n",
      "\n",
      "The core_data has 29953(29.95%) contracts with special offers.\n",
      "\n",
      "The core_data has 29929(29.93%) Magenta1 contracts.\n",
      "\n",
      "The core_data has 8974(8.97%) contracts with both special offers and Magenta1.\n",
      "\n",
      "The core_data has a contract lifetime between 7 and 1825 days with an average of 778.61 days.\n",
      "\n",
      "The core_data has a remaining binding days between 1 and 730 days with an average of 275.906 days for still bindings.\n",
      "The core_data has 49938(49.94%) contracts with still bindings.\n",
      "\n",
      "The core_data has exceeded contract days between 1 and 730 days with an average of 275.910 days for not bound contracts.\n",
      "The core_data has 49863(49.86%) contracts with exceeded bindings.\n",
      "\n",
      "The core_data has a completion rate between 50.03% and 99.94% with an average of 73.19%.\n",
      "\n",
      "The core_data has a spending between 5.00 euros and 70.00 euros with an average of 37.54 euros.\n",
      "\n",
      "The core_data has a data volume between 0.00 GB and 50.00 GB with an average of 25.00 GB.\n",
      "The core_data has a cost per GB between 0.10 euros and 7.00 euros with an average of 1.72 euros.\n",
      "\n"
     ]
    }
   ],
   "source": [
    "n_customers = core_data.select(pl.col(\"customer_id\")).unique().shape[0]\n",
    "n_contracts = core_data.select(pl.col(\"rating_account_id\")).unique().shape[0]\n",
    "\n",
    "n_unique_smartphone_brands = core_data.select(pl.col(\"smartphone_brand\")).n_unique()\n",
    "\n",
    "n_special_offer = core_data.filter(pl.col(\"has_special_offer\")).shape[0]\n",
    "\n",
    "n_magenta1 = core_data.filter(pl.col(\"is_magenta1_customer\")).shape[0]\n",
    "\n",
    "n_special_offer_and_magenta1 = core_data.filter(\n",
    "    pl.col(\"has_special_offer\") & pl.col(\"is_magenta1_customer\")\n",
    ").shape[0]\n",
    "\n",
    "min_lifetime = core_data.select(pl.col(\"contract_lifetime_days\")).min().item()\n",
    "max_lifetime = core_data.select(pl.col(\"contract_lifetime_days\")).max().item()\n",
    "avg_lifetime = core_data.select(pl.col(\"contract_lifetime_days\")).mean().item()\n",
    "\n",
    "count_still_bindings = core_data.filter(pl.col(\"remaining_binding_days\") > 0).shape[0]\n",
    "min_still_bindings = core_data.filter(pl.col(\"remaining_binding_days\") > 0).select(pl.col(\"remaining_binding_days\")).min().item()\n",
    "max_still_bindings = core_data.filter(pl.col(\"remaining_binding_days\") > 0).select(pl.col(\"remaining_binding_days\")).max().item()\n",
    "avg_still_bindings = core_data.filter(pl.col(\"remaining_binding_days\") > 0).select(pl.col(\"remaining_binding_days\")).mean().item()\n",
    "\n",
    "count_not_bound = core_data.filter(pl.col(\"remaining_binding_days\") < 0).shape[0]\n",
    "min_not_bound = core_data.filter(pl.col(\"remaining_binding_days\") < 0).select(pl.col(\"remaining_binding_days\")).min().item()\n",
    "max_not_bound = core_data.filter(pl.col(\"remaining_binding_days\") < 0).select(pl.col(\"remaining_binding_days\")).max().item()\n",
    "avg_not_bound = core_data.filter(pl.col(\"remaining_binding_days\") < 0).select(pl.col(\"remaining_binding_days\")).mean().item()\n",
    "\n",
    "min_completion_rate = core_data.filter(pl.col('completion_rate') < 1.0).select(pl.col(\"completion_rate\")).min().item()\n",
    "max_completion_rate = core_data.filter(pl.col('completion_rate') < 1.0).select(pl.col(\"completion_rate\")).max().item()\n",
    "avg_completion_rate = core_data.filter(pl.col('completion_rate') < 1.0).select(pl.col(\"completion_rate\")).mean().item()\n",
    "\n",
    "min_spending = core_data.select(pl.col(\"gross_mrc\")).min().item()\n",
    "max_spending = core_data.select(pl.col(\"gross_mrc\")).max().item()\n",
    "avg_spending = core_data.select(pl.col(\"gross_mrc\")).mean().item()\n",
    "\n",
    "min_data = core_data.select(pl.col(\"available_gb\")).min().item()\n",
    "max_data = core_data.select(pl.col(\"available_gb\")).max().item()\n",
    "avg_data = core_data.select(pl.col(\"available_gb\")).mean().item()\n",
    "\n",
    "min_cost_per_gb = core_data.select(pl.col(\"cost_per_gb\")).min().item()\n",
    "max_cost_per_gb = core_data.filter(~pl.col('cost_per_gb').is_infinite()).select(pl.col(\"cost_per_gb\")).max().item()\n",
    "avg_cost_per_gb = core_data.filter(~pl.col('cost_per_gb').is_infinite()).select(pl.col(\"cost_per_gb\")).mean().item()\n",
    "\n",
    "\n",
    "\n",
    "print(f'The core_data has {core_data.shape[0]} rows and {core_data.shape[1]} columns.\\n')\n",
    "\n",
    "print(f'The core_data has {n_customers} unique customers.')\n",
    "print(f'The core_data has {n_contracts} unique contracts.\\n')\n",
    "\n",
    "print(f'The core_data has {n_unique_smartphone_brands} unique smartphone brands.\\n')\n",
    "\n",
    "print(f'The core_data has {n_special_offer}({n_special_offer / n_contracts * 100:.2f}%) contracts with special offers.\\n')\n",
    "\n",
    "print(f'The core_data has {n_magenta1}({n_magenta1 / n_contracts * 100:.2f}%) Magenta1 contracts.\\n')\n",
    "\n",
    "print(f'The core_data has {n_special_offer_and_magenta1}({n_special_offer_and_magenta1 / n_contracts * 100:.2f}%) contracts with both special offers and Magenta1.\\n')\n",
    "\n",
    "print(f'The core_data has a contract lifetime between {min_lifetime} and {max_lifetime} days with an average of {avg_lifetime:.2f} days.\\n')\n",
    "\n",
    "print(f'The core_data has a remaining binding days between {min_still_bindings} and {max_still_bindings} days with an average of {avg_still_bindings:.3f} days for still bindings.')\n",
    "print(f'The core_data has {count_still_bindings}({count_still_bindings / n_contracts * 100:.2f}%) contracts with still bindings.\\n')\n",
    "\n",
    "print(f'The core_data has exceeded contract days between {abs(max_not_bound)} and {abs(min_not_bound)} days with an average of {abs(avg_not_bound):.3f} days for not bound contracts.')\n",
    "print(f'The core_data has {count_not_bound}({count_not_bound / n_contracts * 100:.2f}%) contracts with exceeded bindings.\\n')\n",
    "\n",
    "print(f'The core_data has a completion rate between {min_completion_rate * 100:.2f}% and {max_completion_rate * 100:.2f}% with an average of {avg_completion_rate * 100:.2f}%.\\n')\n",
    "\n",
    "print(f'The core_data has a spending between {min_spending:.2f} euros and {max_spending:.2f} euros with an average of {avg_spending:.2f} euros.\\n')\n",
    "\n",
    "print(f'The core_data has a data volume between {min_data:.2f} GB and {max_data:.2f} GB with an average of {avg_data:.2f} GB.')\n",
    "print(f'The core_data has a cost per GB between {min_cost_per_gb:.2f} euros and {max_cost_per_gb:.2f} euros with an average of {avg_cost_per_gb:.2f} euros.\\n')"
   ]
  },
  {
   "cell_type": "markdown",
   "id": "b3f41108",
   "metadata": {},
   "source": [
    "### Customers porfolio analysis"
   ]
  },
  {
   "cell_type": "code",
   "execution_count": null,
   "id": "5d43ecae",
   "metadata": {},
   "outputs": [
    {
     "data": {
      "text/html": [
       "<div><style>\n",
       ".dataframe > thead > tr,\n",
       ".dataframe > tbody > tr {\n",
       "  text-align: right;\n",
       "  white-space: pre-wrap;\n",
       "}\n",
       "</style>\n",
       "<small>shape: (8, 19)</small><table border=\"1\" class=\"dataframe\"><thead><tr><th>Portfolio Size</th><th>Total Customers</th><th>Customers Pool Percentage (%)</th><th>Customers with Upselling (%)</th><th>Avg Upselling Contracts per Customer</th><th>Avg Total Spend (€)</th><th>Avg per Contract (€)</th><th>Avg Age per Contract (years)</th><th>Avg Contract Lifetime (days)</th><th>Max Contract Lifetime (days)</th><th>Avg Completed Contracts</th><th>Avg Completion Rate (%)</th><th>Avg Total Data (GB)</th><th>Avg Data per Contract (GB)</th><th>Avg Cost per GB (€)</th><th>Magenta1 Percentage (%)</th><th>Special Offer Percentage (%)</th><th>Avg Count Smartphone Brands</th><th>Max Count Smartphone Brands</th></tr><tr><td>u32</td><td>u32</td><td>f64</td><td>f64</td><td>f64</td><td>f64</td><td>f64</td><td>f64</td><td>f64</td><td>i64</td><td>f64</td><td>f64</td><td>f64</td><td>f64</td><td>f64</td><td>f64</td><td>f64</td><td>f64</td><td>u32</td></tr></thead><tbody><tr><td>1</td><td>30574</td><td>52.27</td><td>6.88</td><td>1</td><td>37.63</td><td>37.63</td><td>43.91</td><td>779.29</td><td>1825</td><td>0.5</td><td>73.08</td><td>21.43</td><td>25.01</td><td>1.73</td><td>29.62</td><td>30.18</td><td>1</td><td>1</td></tr><tr><td>2</td><td>17945</td><td>30.68</td><td>13.9</td><td>1.04</td><td>74.85</td><td>37.43</td><td>43.88</td><td>776.39</td><td>1825</td><td>1</td><td>73.24</td><td>43.03</td><td>25.11</td><td>1.71</td><td>51.04</td><td>51.41</td><td>1.68</td><td>2</td></tr><tr><td>3</td><td>7200</td><td>12.31</td><td>19.75</td><td>1.07</td><td>112.12</td><td>37.37</td><td>43.77</td><td>779.98</td><td>1825</td><td>1.5</td><td>73.33</td><td>64.01</td><td>24.74</td><td>1.72</td><td>66.06</td><td>64.72</td><td>2.14</td><td>3</td></tr><tr><td>4</td><td>2100</td><td>3.59</td><td>24.24</td><td>1.13</td><td>152.05</td><td>38.01</td><td>43.59</td><td>776.77</td><td>1825</td><td>1.97</td><td>73.06</td><td>86.03</td><td>25.23</td><td>1.73</td><td>76.95</td><td>75.38</td><td>2.46</td><td>4</td></tr><tr><td>5</td><td>552</td><td>0.94</td><td>34.06</td><td>1.18</td><td>188.5</td><td>37.7</td><td>44.07</td><td>787.92</td><td>1825</td><td>2.5</td><td>73.04</td><td>109.96</td><td>25.27</td><td>1.69</td><td>82.97</td><td>81.34</td><td>2.67</td><td>5</td></tr><tr><td>6</td><td>96</td><td>0.16</td><td>23.96</td><td>1.17</td><td>224.34</td><td>37.39</td><td>44.2</td><td>805.08</td><td>1823</td><td>2.96</td><td>73.29</td><td>129.69</td><td>25.01</td><td>1.68</td><td>85.42</td><td>90.62</td><td>2.89</td><td>4</td></tr><tr><td>7</td><td>24</td><td>0.04</td><td>33.33</td><td>1.12</td><td>277.81</td><td>39.69</td><td>44.21</td><td>840.54</td><td>1822</td><td>3.58</td><td>72.43</td><td>152.5</td><td>24.49</td><td>2.02</td><td>95.83</td><td>95.83</td><td>2.96</td><td>4</td></tr><tr><td>8</td><td>4</td><td>0.01</td><td>75</td><td>1.67</td><td>272.47</td><td>34.06</td><td>42.38</td><td>568.25</td><td>1663</td><td>5.5</td><td>70.21</td><td>162.5</td><td>26.92</td><td>1.36</td><td>100</td><td>100</td><td>3</td><td>3</td></tr></tbody></table></div>"
      ],
      "text/plain": [
       "shape: (8, 19)\n",
       "┌───────────┬───────────┬───────────┬───────────┬───┬───────────┬───────────┬───────────┬──────────┐\n",
       "│ Portfolio ┆ Total     ┆ Customers ┆ Customers ┆ … ┆ Magenta1  ┆ Special   ┆ Avg Count ┆ Max      │\n",
       "│ Size      ┆ Customers ┆ Pool Perc ┆ with      ┆   ┆ Percentag ┆ Offer Per ┆ Smartphon ┆ Count    │\n",
       "│ ---       ┆ ---       ┆ entage    ┆ Upselling ┆   ┆ e (%)     ┆ centage   ┆ e Brands  ┆ Smartpho │\n",
       "│ u32       ┆ u32       ┆ (%)       ┆ (%)       ┆   ┆ ---       ┆ (%)       ┆ ---       ┆ ne       │\n",
       "│           ┆           ┆ ---       ┆ ---       ┆   ┆ f64       ┆ ---       ┆ f64       ┆ Brands   │\n",
       "│           ┆           ┆ f64       ┆ f64       ┆   ┆           ┆ f64       ┆           ┆ ---      │\n",
       "│           ┆           ┆           ┆           ┆   ┆           ┆           ┆           ┆ u32      │\n",
       "╞═══════════╪═══════════╪═══════════╪═══════════╪═══╪═══════════╪═══════════╪═══════════╪══════════╡\n",
       "│ 1         ┆ 30574     ┆ 52.27     ┆ 6.88      ┆ … ┆ 29.62     ┆ 30.18     ┆ 1         ┆ 1        │\n",
       "│ 2         ┆ 17945     ┆ 30.68     ┆ 13.9      ┆ … ┆ 51.04     ┆ 51.41     ┆ 1.68      ┆ 2        │\n",
       "│ 3         ┆ 7200      ┆ 12.31     ┆ 19.75     ┆ … ┆ 66.06     ┆ 64.72     ┆ 2.14      ┆ 3        │\n",
       "│ 4         ┆ 2100      ┆ 3.59      ┆ 24.24     ┆ … ┆ 76.95     ┆ 75.38     ┆ 2.46      ┆ 4        │\n",
       "│ 5         ┆ 552       ┆ 0.94      ┆ 34.06     ┆ … ┆ 82.97     ┆ 81.34     ┆ 2.67      ┆ 5        │\n",
       "│ 6         ┆ 96        ┆ 0.16      ┆ 23.96     ┆ … ┆ 85.42     ┆ 90.62     ┆ 2.89      ┆ 4        │\n",
       "│ 7         ┆ 24        ┆ 0.04      ┆ 33.33     ┆ … ┆ 95.83     ┆ 95.83     ┆ 2.96      ┆ 4        │\n",
       "│ 8         ┆ 4         ┆ 0.01      ┆ 75        ┆ … ┆ 100       ┆ 100       ┆ 3         ┆ 3        │\n",
       "└───────────┴───────────┴───────────┴───────────┴───┴───────────┴───────────┴───────────┴──────────┘"
      ]
     },
     "execution_count": 9,
     "metadata": {},
     "output_type": "execute_result"
    }
   ],
   "source": [
    "customer_portfolio_value = (\n",
    "    core_data\n",
    "    .group_by('customer_id')\n",
    "    .agg([\n",
    "        pl.col('rating_account_id').count().alias('portfolio_size'),\n",
    "        \n",
    "        pl.col('gross_mrc').sum().alias('total_value'),\n",
    "        pl.col('gross_mrc').mean().alias('avg_per_contract'),\n",
    "        \n",
    "        pl.col('has_done_upselling').max().alias('any_upselling'),\n",
    "        pl.col('has_done_upselling').sum().alias('count_upselling'),\n",
    "        (pl.col('has_done_upselling').sum() / pl.col('rating_account_id').count() * 100).round(2).alias('rate_upselling'),\n",
    "        \n",
    "        pl.col('age').min().alias('min_age'),\n",
    "        pl.col('age').max().alias('max_age'),\n",
    "        pl.col('age').mean().alias('avg_age'),\n",
    "        pl.col('age').std().alias('age_std'),\n",
    "\n",
    "        pl.col('contract_lifetime_days').mean().alias('avg_contract_lifetime'),\n",
    "        pl.col('contract_lifetime_days').max().alias('max_contract_lifetime'),\n",
    "\n",
    "        (pl.col('remaining_binding_days') < 0).sum().alias('count_completed_contracts'),\n",
    "\n",
    "        pl.col('completion_rate').filter(pl.col('completion_rate') < 1.0).mean().alias('avg_completion_rate'),\n",
    "        pl.col('completion_rate').filter(pl.col('completion_rate') < 1.0).min().alias('min_completion_rate'),\n",
    "        pl.col('completion_rate').filter(pl.col('completion_rate') < 1.0).max().alias('max_completion_rate'),\n",
    "        \n",
    "        pl.col('available_gb').sum().alias('total_data_value'),\n",
    "        pl.col('available_gb').mean().alias('avg_data_value'),\n",
    "\n",
    "        pl.col('cost_per_gb').filter(~pl.col('cost_per_gb').is_infinite()).mean().alias('avg_cost_per_gb'),\n",
    "\n",
    "        pl.col('is_magenta1_customer').any().alias('any_magenta1_customer'),\n",
    "\n",
    "        pl.col('has_special_offer').any().alias('any_special_offer'),\n",
    "\n",
    "        pl.col('smartphone_brand').n_unique().alias('count_smartphone_brands'),\n",
    "    ])\n",
    ")\n",
    "\n",
    "\n",
    "portfolio_summary = (\n",
    "    customer_portfolio_value\n",
    "    .group_by('portfolio_size')\n",
    "    .agg([\n",
    "        pl.col('customer_id').n_unique().alias('total_customers'),\n",
    "\n",
    "        (pl.col('customer_id').n_unique() / n_customers * 100).round(2).alias('percent_customers'),\n",
    "\n",
    "        # Percentage of customers who have done at least one upselling (within this portfolio size)\n",
    "        (pl.col('any_upselling').mean() * 100).round(2).alias('customers_with_upselling_percent'),\n",
    "                \n",
    "        # Average number of upselling contracts per customer\n",
    "        pl.col('count_upselling').filter(pl.col('count_upselling') > 0).mean().round(2).alias('avg_upselling_contracts_per_customer'),\n",
    "\n",
    "        pl.col('total_value').mean().round(2).alias('avg_total_spend'),\n",
    "        pl.col('avg_per_contract').mean().round(2).alias('avg_per_contract'),\n",
    "        \n",
    "        pl.col('avg_age').mean().round(2).alias('avg_age_per_contract'),\n",
    "        \n",
    "        pl.col('avg_contract_lifetime').mean().round(2).alias('avg_contract_lifetime_days'),\n",
    "        pl.col('max_contract_lifetime').max().alias('max_contract_lifetime_days'),\n",
    "\n",
    "        pl.col('count_completed_contracts').mean().round(2).alias('avg_completed_contracts'),\n",
    "\n",
    "        (pl.col('avg_completion_rate') * 100).mean().round(2).alias('avg_completion_rate'),\n",
    "\n",
    "        pl.col('total_data_value').mean().round(2).alias('avg_total_data'),\n",
    "        pl.col('avg_data_value').mean().round(2).alias('avg_data_per_contract'),\n",
    "\n",
    "        pl.col('avg_cost_per_gb').mean().round(2).alias('avg_cost_per_gb'),\n",
    "\n",
    "        (pl.col('any_magenta1_customer').mean() * 100).round(2).alias('magenta1_percent'),\n",
    "\n",
    "        (pl.col('any_special_offer').mean() * 100).round(2).alias('specialoffer_percent'),\n",
    "\n",
    "        pl.col('count_smartphone_brands').mean().round(2).alias('avg_count_smartphone_brands'),\n",
    "        pl.col('count_smartphone_brands').max().alias('max_count_smartphone_brands'),\n",
    "    ])\n",
    "    .sort('portfolio_size', descending=False)\n",
    ")\n",
    "\n",
    "portfolio_summary = portfolio_summary.rename({\n",
    "    'portfolio_size': 'Portfolio Size',\n",
    "\n",
    "    'total_customers': 'Total Customers',\n",
    "    'percent_customers': 'Customers Pool Percentage (%)',\n",
    "\n",
    "    'avg_total_spend': 'Avg Total Spend (€)',\n",
    "    'avg_per_contract': 'Avg per Contract (€)',\n",
    "\n",
    "    'avg_age_per_contract': 'Avg Age per Contract (years)',\n",
    "\n",
    "    'avg_contract_lifetime_days': 'Avg Contract Lifetime (days)',\n",
    "    'max_contract_lifetime_days': 'Max Contract Lifetime (days)',\n",
    "\n",
    "    'avg_completed_contracts': 'Avg Completed Contracts',\n",
    "    'avg_completion_rate': 'Avg Completion Rate (%)',\n",
    "\n",
    "    'avg_total_data': 'Avg Total Data (GB)',\n",
    "    'avg_data_per_contract': 'Avg Data per Contract (GB)',\n",
    "\n",
    "    'avg_cost_per_gb': 'Avg Cost per GB (€)',\n",
    "\n",
    "    'magenta1_percent': 'Magenta1 Percentage (%)',\n",
    "\n",
    "    'specialoffer_percent': 'Special Offer Percentage (%)',\n",
    "\n",
    "    'avg_count_smartphone_brands': 'Avg Count Smartphone Brands',\n",
    "    'max_count_smartphone_brands': 'Max Count Smartphone Brands',\n",
    "\n",
    "    'customers_with_upselling_percent': 'Customers with Upselling (%)',\n",
    "    'avg_upselling_contracts_per_customer': 'Avg Upselling Contracts per Customer',  # Average of customers that have at least one upselling contract\n",
    "})\n",
    "\n",
    "portfolio_summary"
   ]
  },
  {
   "cell_type": "markdown",
   "id": "5a23ab67",
   "metadata": {},
   "source": [
    "### Upselling distribution"
   ]
  },
  {
   "cell_type": "code",
   "execution_count": null,
   "id": "1254a7cd",
   "metadata": {},
   "outputs": [
    {
     "name": "stdout",
     "output_type": "stream",
     "text": [
      "The core_data has 7049(7.05%) upsold contracts.\n",
      "\n",
      "The core_data has 6750(11.54%) customers with at least one upselling contract.\n",
      "The core_data has 287(0.49%) customers with more than one upselling contract.\n",
      "The core_data has an average of 1.04 upsold contracts between customers with upsold contracts.\n",
      "The core_data has an average of 0.12 upsold contracts per customer with a maximum of 3 upsold contracts per customer.\n",
      "\n",
      "The core_data has an average age of 41.78 years for customers with upsold contracts.\n",
      "The core_data has an age between 18 and 100 years for customers with upsold contracts.\n",
      "\n",
      "The core_data has an average age of 44.00 years for customers without upsold contracts.\n",
      "The core_data has an age between 18 and 100 years for customers without upsold contracts.\n",
      "\n",
      "The core_data has 3239(45.95%) upsold contracts with still bindings.\n",
      "The core_data has an average of 277.86 days of still bindings for upsold contracts.\n",
      "\n",
      "The core_data has 3802(53.94%) upsold contracts with exceeded bindings.\n",
      "The core_data has an average of 289.17 days of exceeded bindings for upsold contracts.\n",
      "\n",
      "The core_data has an average completion rate of 73.57% for customers with upsold contracts.\n",
      "\n",
      "The core_data has an average data volume of 21.58 GB for upsold contracts.\n",
      "The core_data has an average cost per GB of 1.85 euros for upsold contracts.\n",
      "\n",
      "The core_data has an average data volume of 25.27 GB for customers without upsold contracts.\n",
      "The core_data has an average cost per GB of 1.71 euros for customers without upsold contracts.\n",
      "\n",
      "The core_data has an average spending of 35.72 euros for upsold contracts.\n",
      "The core_data has an average spending of 37.68 euros for customers without upsold contracts.\n",
      "\n",
      "The core_data has 2103(29.83%) upsold contracts with special offers.\n",
      "The core_data has 4946(70.17%) upsold contracts without special offers.\n",
      "The core_data has 65101(70.04%) non-upsold contracts without special offers.\n",
      "The core_data has 27850(29.96%) non-upsold contracts with special offers.\n",
      "\n",
      "The core_data has 2510(35.61%) upsold contracts with Magenta1.\n",
      "The core_data has 4539(64.39%) upsold contracts without Magenta1.\n",
      "The core_data has 65532(70.50%) non-upsold contracts without Magenta1.\n",
      "The core_data has 27419(29.50%) non-upsold contracts with Magenta1.\n",
      "\n"
     ]
    }
   ],
   "source": [
    "n_upselling = core_data.filter(pl.col(\"has_done_upselling\")).shape[0]\n",
    "\n",
    "n_upselling_per_customer = core_data.group_by(\"customer_id\").agg(pl.col(\"has_done_upselling\").sum())\n",
    "n_upselling_customers = n_upselling_per_customer.filter(pl.col(\"has_done_upselling\") > 0).shape[0]\n",
    "n_more1_upselling_customers = n_upselling_per_customer.filter(pl.col(\"has_done_upselling\") > 1).shape[0]\n",
    "avg_upselling_per_customer = n_upselling_per_customer.select(pl.col(\"has_done_upselling\")).mean().item()\n",
    "avg_upselling_per_upselling_customer = n_upselling_per_customer.filter(pl.col(\"has_done_upselling\") > 0).select(pl.col('has_done_upselling')).mean().item()\n",
    "max_upselling_per_customer = n_upselling_per_customer.select(pl.col(\"has_done_upselling\")).max().item()\n",
    "\n",
    "upselling_contracts = core_data.filter(pl.col(\"has_done_upselling\"))\n",
    "not_upselling_contracts = core_data.filter(~pl.col(\"has_done_upselling\"))\n",
    "\n",
    "min_age_upselling = upselling_contracts.select(pl.col(\"age\")).min().item()\n",
    "max_age_upselling = upselling_contracts.select(pl.col(\"age\")).max().item()\n",
    "avg_age_upselling = upselling_contracts.select(pl.col(\"age\")).mean().item()\n",
    "\n",
    "min_age_not_upselling = not_upselling_contracts.select(pl.col(\"age\")).min().item()\n",
    "max_age_not_upselling = not_upselling_contracts.select(pl.col(\"age\")).max().item()\n",
    "avg_age_not_upselling = not_upselling_contracts.select(pl.col(\"age\")).mean().item()\n",
    "\n",
    "count_not_bound_upselling = upselling_contracts.filter(pl.col(\"remaining_binding_days\") < 0).shape[0]\n",
    "count_bound_upselling = upselling_contracts.filter(pl.col(\"remaining_binding_days\") > 0).shape[0]\n",
    "avg_binding_upselling = upselling_contracts.filter(pl.col(\"remaining_binding_days\") > 0).select(pl.col(\"remaining_binding_days\")).mean().item()\n",
    "avg_exceeded_binding_upselling = upselling_contracts.filter(pl.col(\"remaining_binding_days\") < 0).select(pl.col(\"remaining_binding_days\")).mean().item()\n",
    "\n",
    "avg_completion_rate_upselling = upselling_contracts.filter(pl.col('completion_rate') < 1.0).select(pl.col(\"completion_rate\")).mean().item()\n",
    "\n",
    "avg_data_upselling = upselling_contracts.select(pl.col(\"available_gb\")).mean().item()\n",
    "avg_cost_per_gb_upselling = upselling_contracts.filter(~pl.col('cost_per_gb').is_infinite()).select(pl.col(\"cost_per_gb\")).mean().item()\n",
    "avg_data_not_upselling = not_upselling_contracts.select(pl.col(\"available_gb\")).mean().item()\n",
    "avg_cost_per_gb_not_upselling = not_upselling_contracts.filter(~pl.col('cost_per_gb').is_infinite()).select(pl.col(\"cost_per_gb\")).mean().item()\n",
    "\n",
    "avg_spending_upselling = upselling_contracts.select(pl.col(\"gross_mrc\")).mean().item()\n",
    "avg_spending_not_upselling = not_upselling_contracts.select(pl.col(\"gross_mrc\")).mean().item()\n",
    "\n",
    "count_special_offer_upselling = upselling_contracts.filter(pl.col(\"has_special_offer\")).shape[0]\n",
    "count_special_offer_not_upselling = not_upselling_contracts.filter(pl.col(\"has_special_offer\")).shape[0]\n",
    "count_not_special_offer_upselling = upselling_contracts.filter(~pl.col(\"has_special_offer\")).shape[0]\n",
    "count_not_special_offer_not_upselling = not_upselling_contracts.filter(~pl.col(\"has_special_offer\")).shape[0]\n",
    "\n",
    "count_magenta1_upselling = upselling_contracts.filter(pl.col(\"is_magenta1_customer\")).shape[0]\n",
    "count_not_magenta1_upselling = upselling_contracts.filter(~pl.col(\"is_magenta1_customer\")).shape[0]\n",
    "count_magenta1_not_upselling = not_upselling_contracts.filter(pl.col(\"is_magenta1_customer\")).shape[0]\n",
    "count_not_magenta1_not_upselling = not_upselling_contracts.filter(~pl.col(\"is_magenta1_customer\")).shape[0]\n",
    "\n",
    "\n",
    "print(f'The core_data has {n_upselling}({n_upselling / n_contracts * 100:.2f}%) upsold contracts.\\n')\n",
    "\n",
    "print(f'The core_data has {n_upselling_customers}({n_upselling_customers / n_customers * 100:.2f}%) customers with at least one upselling contract.')\n",
    "print(f'The core_data has {n_more1_upselling_customers}({n_more1_upselling_customers / n_customers * 100:.2f}%) customers with more than one upselling contract.')\n",
    "print(f'The core_data has an average of {avg_upselling_per_upselling_customer:.2f} upsold contracts between customers with upsold contracts.')\n",
    "print(f'The core_data has an average of {avg_upselling_per_customer:.2f} upsold contracts per customer with a maximum of {max_upselling_per_customer} upsold contracts per customer.\\n')\n",
    "\n",
    "print(f'The core_data has an average age of {avg_age_upselling:.2f} years for customers with upsold contracts.')\n",
    "print(f'The core_data has an age between {min_age_upselling} and {max_age_upselling} years for customers with upsold contracts.\\n')\n",
    "\n",
    "print(f'The core_data has an average age of {avg_age_not_upselling:.2f} years for customers without upsold contracts.')\n",
    "print(f'The core_data has an age between {min_age_not_upselling} and {max_age_not_upselling} years for customers without upsold contracts.\\n')\n",
    "\n",
    "print(f'The core_data has {count_bound_upselling}({count_bound_upselling / n_upselling * 100:.2f}%) upsold contracts with still bindings.')\n",
    "print(f'The core_data has an average of {avg_binding_upselling:.2f} days of still bindings for upsold contracts.\\n')\n",
    "\n",
    "print(f'The core_data has {count_not_bound_upselling}({count_not_bound_upselling / n_upselling * 100:.2f}%) upsold contracts with exceeded bindings.')\n",
    "print(f'The core_data has an average of {abs(avg_exceeded_binding_upselling):.2f} days of exceeded bindings for upsold contracts.\\n')\n",
    "\n",
    "print(f'The core_data has an average completion rate of {avg_completion_rate_upselling * 100:.2f}% for customers with upsold contracts.\\n')\n",
    "\n",
    "print(f'The core_data has an average data volume of {avg_data_upselling:.2f} GB for upsold contracts.')\n",
    "print(f'The core_data has an average cost per GB of {avg_cost_per_gb_upselling:.2f} euros for upsold contracts.\\n')\n",
    "\n",
    "print(f'The core_data has an average data volume of {avg_data_not_upselling:.2f} GB for customers without upsold contracts.')\n",
    "print(f'The core_data has an average cost per GB of {avg_cost_per_gb_not_upselling:.2f} euros for customers without upsold contracts.\\n')\n",
    "\n",
    "print(f'The core_data has an average spending of {avg_spending_upselling:.2f} euros for upsold contracts.')\n",
    "print(f'The core_data has an average spending of {avg_spending_not_upselling:.2f} euros for customers without upsold contracts.\\n')\n",
    "\n",
    "print(f'The core_data has {count_special_offer_upselling}({count_special_offer_upselling / n_upselling * 100:.2f}%) upsold contracts with special offers.')\n",
    "print(f'The core_data has {count_not_special_offer_upselling}({count_not_special_offer_upselling / n_upselling * 100:.2f}%) upsold contracts without special offers.')\n",
    "print(f'The core_data has {count_not_special_offer_not_upselling}({count_not_special_offer_not_upselling / (n_contracts - n_upselling) * 100:.2f}%) non-upsold contracts without special offers.')\n",
    "print(f'The core_data has {count_special_offer_not_upselling}({count_special_offer_not_upselling / (n_contracts - n_upselling) * 100:.2f}%) non-upsold contracts with special offers.\\n')\n",
    "\n",
    "print(f'The core_data has {count_magenta1_upselling}({count_magenta1_upselling / n_upselling * 100:.2f}%) upsold contracts with Magenta1.')\n",
    "print(f'The core_data has {count_not_magenta1_upselling}({count_not_magenta1_upselling / n_upselling * 100:.2f}%) upsold contracts without Magenta1.')\n",
    "print(f'The core_data has {count_not_magenta1_not_upselling}({count_not_magenta1_not_upselling / (n_contracts - n_upselling) * 100:.2f}%) non-upsold contracts without Magenta1.')\n",
    "print(f'The core_data has {count_magenta1_not_upselling}({count_magenta1_not_upselling / (n_contracts - n_upselling) * 100:.2f}%) non-upsold contracts with Magenta1.\\n')"
   ]
  },
  {
   "cell_type": "markdown",
   "id": "c32e49e8",
   "metadata": {},
   "source": [
    "### Data checks"
   ]
  },
  {
   "cell_type": "code",
   "execution_count": 11,
   "id": "fd9ab56d",
   "metadata": {},
   "outputs": [],
   "source": [
    "null_counts_core_data = core_data.select([\n",
    "    pl.col(col).is_null().sum().alias(f\"{col}_nulls\") for col in core_data.columns\n",
    "])\n",
    "\n",
    "nan_counts_core_data = core_data.select([\n",
    "    pl.col(col).is_nan().sum().alias(f\"{col}_nans\")\n",
    "    for col, dtype in zip(core_data.columns, core_data.dtypes)\n",
    "    if dtype in [pl.Float32, pl.Float64]\n",
    "])\n",
    "\n",
    "inf_counts_core_data = core_data.select([\n",
    "    ((pl.col(col) == float('inf')) | (pl.col(col) == float('-inf'))).sum().alias(f\"{col}_infs\")\n",
    "    for col, dtype in zip(core_data.columns, core_data.dtypes)\n",
    "    if dtype in [pl.Float32, pl.Float64]\n",
    "])"
   ]
  },
  {
   "cell_type": "code",
   "execution_count": 12,
   "id": "944cf461",
   "metadata": {},
   "outputs": [
    {
     "name": "stdout",
     "output_type": "stream",
     "text": [
      "Null counts per column:\n"
     ]
    },
    {
     "data": {
      "text/html": [
       "<div><style>\n",
       ".dataframe > thead > tr,\n",
       ".dataframe > tbody > tr {\n",
       "  text-align: right;\n",
       "  white-space: pre-wrap;\n",
       "}\n",
       "</style>\n",
       "<small>shape: (1, 14)</small><table border=\"1\" class=\"dataframe\"><thead><tr><th>rating_account_id_nulls</th><th>customer_id_nulls</th><th>age_nulls</th><th>contract_lifetime_days_nulls</th><th>remaining_binding_days_nulls</th><th>has_special_offer_nulls</th><th>is_magenta1_customer_nulls</th><th>available_gb_nulls</th><th>gross_mrc_nulls</th><th>smartphone_brand_nulls</th><th>has_done_upselling_nulls</th><th>contract_binding_days_nulls</th><th>completion_rate_nulls</th><th>cost_per_gb_nulls</th></tr><tr><td>u32</td><td>u32</td><td>u32</td><td>u32</td><td>u32</td><td>u32</td><td>u32</td><td>u32</td><td>u32</td><td>u32</td><td>u32</td><td>u32</td><td>u32</td><td>u32</td></tr></thead><tbody><tr><td>0</td><td>0</td><td>0</td><td>0</td><td>0</td><td>0</td><td>0</td><td>14148</td><td>0</td><td>0</td><td>0</td><td>0</td><td>0</td><td>14148</td></tr></tbody></table></div>"
      ],
      "text/plain": [
       "shape: (1, 14)\n",
       "┌───────────┬───────────┬───────────┬───────────┬───┬───────────┬───────────┬───────────┬──────────┐\n",
       "│ rating_ac ┆ customer_ ┆ age_nulls ┆ contract_ ┆ … ┆ has_done_ ┆ contract_ ┆ completio ┆ cost_per │\n",
       "│ count_id_ ┆ id_nulls  ┆ ---       ┆ lifetime_ ┆   ┆ upselling ┆ binding_d ┆ n_rate_nu ┆ _gb_null │\n",
       "│ nulls     ┆ ---       ┆ u32       ┆ days_null ┆   ┆ _nulls    ┆ ays_nulls ┆ lls       ┆ s        │\n",
       "│ ---       ┆ u32       ┆           ┆ s         ┆   ┆ ---       ┆ ---       ┆ ---       ┆ ---      │\n",
       "│ u32       ┆           ┆           ┆ ---       ┆   ┆ u32       ┆ u32       ┆ u32       ┆ u32      │\n",
       "│           ┆           ┆           ┆ u32       ┆   ┆           ┆           ┆           ┆          │\n",
       "╞═══════════╪═══════════╪═══════════╪═══════════╪═══╪═══════════╪═══════════╪═══════════╪══════════╡\n",
       "│ 0         ┆ 0         ┆ 0         ┆ 0         ┆ … ┆ 0         ┆ 0         ┆ 0         ┆ 14148    │\n",
       "└───────────┴───────────┴───────────┴───────────┴───┴───────────┴───────────┴───────────┴──────────┘"
      ]
     },
     "execution_count": 12,
     "metadata": {},
     "output_type": "execute_result"
    }
   ],
   "source": [
    "print(\"Null counts per column:\")\n",
    "null_counts_core_data"
   ]
  },
  {
   "cell_type": "code",
   "execution_count": 13,
   "id": "6e6d9210",
   "metadata": {},
   "outputs": [
    {
     "name": "stdout",
     "output_type": "stream",
     "text": [
      "NaN counts per float column:\n"
     ]
    },
    {
     "data": {
      "text/html": [
       "<div><style>\n",
       ".dataframe > thead > tr,\n",
       ".dataframe > tbody > tr {\n",
       "  text-align: right;\n",
       "  white-space: pre-wrap;\n",
       "}\n",
       "</style>\n",
       "<small>shape: (1, 3)</small><table border=\"1\" class=\"dataframe\"><thead><tr><th>gross_mrc_nans</th><th>completion_rate_nans</th><th>cost_per_gb_nans</th></tr><tr><td>u32</td><td>u32</td><td>u32</td></tr></thead><tbody><tr><td>0</td><td>0</td><td>0</td></tr></tbody></table></div>"
      ],
      "text/plain": [
       "shape: (1, 3)\n",
       "┌────────────────┬──────────────────────┬──────────────────┐\n",
       "│ gross_mrc_nans ┆ completion_rate_nans ┆ cost_per_gb_nans │\n",
       "│ ---            ┆ ---                  ┆ ---              │\n",
       "│ u32            ┆ u32                  ┆ u32              │\n",
       "╞════════════════╪══════════════════════╪══════════════════╡\n",
       "│ 0              ┆ 0                    ┆ 0                │\n",
       "└────────────────┴──────────────────────┴──────────────────┘"
      ]
     },
     "execution_count": 13,
     "metadata": {},
     "output_type": "execute_result"
    }
   ],
   "source": [
    "print(\"NaN counts per float column:\")\n",
    "nan_counts_core_data"
   ]
  },
  {
   "cell_type": "code",
   "execution_count": 14,
   "id": "02d0eacb",
   "metadata": {},
   "outputs": [
    {
     "name": "stdout",
     "output_type": "stream",
     "text": [
      "Infinite counts per float column:\n"
     ]
    },
    {
     "data": {
      "text/html": [
       "<div><style>\n",
       ".dataframe > thead > tr,\n",
       ".dataframe > tbody > tr {\n",
       "  text-align: right;\n",
       "  white-space: pre-wrap;\n",
       "}\n",
       "</style>\n",
       "<small>shape: (1, 3)</small><table border=\"1\" class=\"dataframe\"><thead><tr><th>gross_mrc_infs</th><th>completion_rate_infs</th><th>cost_per_gb_infs</th></tr><tr><td>u32</td><td>u32</td><td>u32</td></tr></thead><tbody><tr><td>0</td><td>0</td><td>14288</td></tr></tbody></table></div>"
      ],
      "text/plain": [
       "shape: (1, 3)\n",
       "┌────────────────┬──────────────────────┬──────────────────┐\n",
       "│ gross_mrc_infs ┆ completion_rate_infs ┆ cost_per_gb_infs │\n",
       "│ ---            ┆ ---                  ┆ ---              │\n",
       "│ u32            ┆ u32                  ┆ u32              │\n",
       "╞════════════════╪══════════════════════╪══════════════════╡\n",
       "│ 0              ┆ 0                    ┆ 14288            │\n",
       "└────────────────┴──────────────────────┴──────────────────┘"
      ]
     },
     "execution_count": 14,
     "metadata": {},
     "output_type": "execute_result"
    }
   ],
   "source": [
    "print(\"Infinite counts per float column:\")\n",
    "inf_counts_core_data"
   ]
  },
  {
   "cell_type": "markdown",
   "id": "adc6e897",
   "metadata": {},
   "source": [
    "---"
   ]
  },
  {
   "cell_type": "markdown",
   "id": "57867800",
   "metadata": {},
   "source": [
    "## `usage_info`\n",
    "\n",
    "| Feature Name           | Description                                                  |\n",
    "|------------------------|--------------------------------------------------------------|\n",
    "| rating_account_id      | Unique identifier for the contract account                    |\n",
    "| billed_period_month_d  | Billing period (monthly)                                     |\n",
    "| has_used_roaming       | Indicates if roaming was used during the period            |\n",
    "| used_gb                | Amount of mobile data used in the billing period (in GB)     |\n"
   ]
  },
  {
   "cell_type": "markdown",
   "id": "2e4e4468",
   "metadata": {},
   "source": [
    "### General overview"
   ]
  },
  {
   "cell_type": "code",
   "execution_count": 15,
   "id": "9756f6c0",
   "metadata": {},
   "outputs": [],
   "source": [
    "usage_info = load_artifact('usage_info')"
   ]
  },
  {
   "cell_type": "code",
   "execution_count": 16,
   "id": "3123bbfb",
   "metadata": {},
   "outputs": [
    {
     "data": {
      "text/html": [
       "<div><style>\n",
       ".dataframe > thead > tr,\n",
       ".dataframe > tbody > tr {\n",
       "  text-align: right;\n",
       "  white-space: pre-wrap;\n",
       "}\n",
       "</style>\n",
       "<small>shape: (5, 4)</small><table border=\"1\" class=\"dataframe\"><thead><tr><th>rating_account_id</th><th>billed_period_month_d</th><th>has_used_roaming</th><th>used_gb</th></tr><tr><td>i64</td><td>str</td><td>i64</td><td>f64</td></tr></thead><tbody><tr><td>289094</td><td>&quot;2024-04-01&quot;</td><td>0</td><td>0.8</td></tr><tr><td>289094</td><td>&quot;2024-05-01&quot;</td><td>0</td><td>0.2</td></tr><tr><td>289094</td><td>&quot;2024-06-01&quot;</td><td>1</td><td>0.1</td></tr><tr><td>289094</td><td>&quot;2024-07-01&quot;</td><td>0</td><td>0</td></tr><tr><td>677626</td><td>&quot;2024-04-01&quot;</td><td>0</td><td>0.8</td></tr></tbody></table></div>"
      ],
      "text/plain": [
       "shape: (5, 4)\n",
       "┌───────────────────┬───────────────────────┬──────────────────┬─────────┐\n",
       "│ rating_account_id ┆ billed_period_month_d ┆ has_used_roaming ┆ used_gb │\n",
       "│ ---               ┆ ---                   ┆ ---              ┆ ---     │\n",
       "│ i64               ┆ str                   ┆ i64              ┆ f64     │\n",
       "╞═══════════════════╪═══════════════════════╪══════════════════╪═════════╡\n",
       "│ 289094            ┆ 2024-04-01            ┆ 0                ┆ 0.8     │\n",
       "│ 289094            ┆ 2024-05-01            ┆ 0                ┆ 0.2     │\n",
       "│ 289094            ┆ 2024-06-01            ┆ 1                ┆ 0.1     │\n",
       "│ 289094            ┆ 2024-07-01            ┆ 0                ┆ 0       │\n",
       "│ 677626            ┆ 2024-04-01            ┆ 0                ┆ 0.8     │\n",
       "└───────────────────┴───────────────────────┴──────────────────┴─────────┘"
      ]
     },
     "execution_count": 16,
     "metadata": {},
     "output_type": "execute_result"
    }
   ],
   "source": [
    "usage_info.head()"
   ]
  },
  {
   "cell_type": "code",
   "execution_count": 17,
   "id": "388797a9",
   "metadata": {},
   "outputs": [
    {
     "data": {
      "text/plain": [
       "Schema([('rating_account_id', Int64),\n",
       "        ('billed_period_month_d', String),\n",
       "        ('has_used_roaming', Int64),\n",
       "        ('used_gb', Float64)])"
      ]
     },
     "execution_count": 17,
     "metadata": {},
     "output_type": "execute_result"
    }
   ],
   "source": [
    "usage_info.schema"
   ]
  },
  {
   "cell_type": "code",
   "execution_count": 18,
   "id": "ba04556f",
   "metadata": {},
   "outputs": [],
   "source": [
    "usage_info = usage_info.with_columns(\n",
    "    pl.col('has_used_roaming').cast(pl.Boolean),\n",
    "    pl.col('billed_period_month_d').cast(pl.Date)\n",
    ")"
   ]
  },
  {
   "cell_type": "code",
   "execution_count": null,
   "id": "81475f4d",
   "metadata": {},
   "outputs": [
    {
     "name": "stdout",
     "output_type": "stream",
     "text": [
      "The usage_info has 100000 unique contracts.\n",
      "\n",
      "The usage_info has billing periods between 2024-04-01 and 2024-07-01.\n",
      "\n",
      "The usage_info has 100000 (100.00%) of contracts with full usage information\n",
      "\n"
     ]
    }
   ],
   "source": [
    "from datetime import datetime\n",
    "\n",
    "n_contracts_usage_info = usage_info.select(pl.col('rating_account_id')).n_unique()\n",
    "\n",
    "min_billing_period = usage_info.select(pl.col('billed_period_month_d')).min().item()\n",
    "max_billing_period = usage_info.select(pl.col('billed_period_month_d')).max().item()\n",
    "\n",
    "n_billing_periods = usage_info.select(pl.col('billed_period_month_d')).n_unique()\n",
    "\n",
    "n_billiging_periods_per_contract = usage_info.group_by('rating_account_id').agg(pl.col('billed_period_month_d').n_unique().alias('n_billing_periods'))\n",
    "complete_blilling_periods = n_billiging_periods_per_contract.filter(pl.col('n_billing_periods') == n_billing_periods).shape[0]\n",
    "\n",
    "print(f'The usage_info has {n_contracts_usage_info} unique contracts.\\n')\n",
    "\n",
    "print(f'The usage_info has billing periods between {min_billing_period} and {max_billing_period}.\\n')\n",
    "\n",
    "print(f'The usage_info has {complete_blilling_periods} ({complete_blilling_periods / n_contracts * 100:.2f}%) of contracts with full usage information\\n')"
   ]
  },
  {
   "cell_type": "markdown",
   "id": "7e2bbbef",
   "metadata": {},
   "source": [
    "### Usage analysis"
   ]
  },
  {
   "cell_type": "code",
   "execution_count": null,
   "id": "e63bf144",
   "metadata": {},
   "outputs": [
    {
     "data": {
      "text/html": [
       "<div><style>\n",
       ".dataframe > thead > tr,\n",
       ".dataframe > tbody > tr {\n",
       "  text-align: right;\n",
       "  white-space: pre-wrap;\n",
       "}\n",
       "</style>\n",
       "<small>shape: (4, 14)</small><table border=\"1\" class=\"dataframe\"><thead><tr><th>Billed Period (Month)</th><th>Total Used GB</th><th>Avg Used GB</th><th>Std Used GB</th><th>Min Used GB</th><th>Median Used GB</th><th>Max Used GB</th><th>Total Used GB Delta previous 1 month</th><th>Total Used GB Delta previous 2 months</th><th>Total Used GB Delta previous 3 months</th><th>Count Roaming Used</th><th>Count Roaming Used Delta previous 1 month</th><th>Count Roaming Used Delta previous 2 months</th><th>Count Roaming Used Delta previous 3 months</th></tr><tr><td>date</td><td>f64</td><td>f64</td><td>f64</td><td>f64</td><td>f64</td><td>f64</td><td>f64</td><td>f64</td><td>f64</td><td>i64</td><td>i64</td><td>i64</td><td>i64</td></tr></thead><tbody><tr><td>2024-04-01</td><td>1402806</td><td>14.03</td><td>18.69</td><td>0</td><td>5</td><td>70</td><td>null</td><td>null</td><td>null</td><td>30001</td><td>null</td><td>null</td><td>null</td></tr><tr><td>2024-05-01</td><td>1396414.1</td><td>13.96</td><td>18.61</td><td>0</td><td>5</td><td>70</td><td>-6391.9</td><td>null</td><td>null</td><td>30083</td><td>82</td><td>null</td><td>null</td></tr><tr><td>2024-06-01</td><td>1404015.3</td><td>14.04</td><td>18.7</td><td>0</td><td>5</td><td>70</td><td>7601.2</td><td>1209.3</td><td>null</td><td>30012</td><td>-71</td><td>11</td><td>null</td></tr><tr><td>2024-07-01</td><td>1399001.3</td><td>13.99</td><td>18.66</td><td>0</td><td>5</td><td>70</td><td>-5014</td><td>2587.2</td><td>-3804.7</td><td>29765</td><td>-247</td><td>-318</td><td>-236</td></tr></tbody></table></div>"
      ],
      "text/plain": [
       "shape: (4, 14)\n",
       "┌───────────┬───────────┬───────────┬───────────┬───┬───────────┬───────────┬───────────┬──────────┐\n",
       "│ Billed    ┆ Total     ┆ Avg Used  ┆ Std Used  ┆ … ┆ Count     ┆ Count     ┆ Count     ┆ Count    │\n",
       "│ Period    ┆ Used GB   ┆ GB        ┆ GB        ┆   ┆ Roaming   ┆ Roaming   ┆ Roaming   ┆ Roaming  │\n",
       "│ (Month)   ┆ ---       ┆ ---       ┆ ---       ┆   ┆ Used      ┆ Used      ┆ Used      ┆ Used     │\n",
       "│ ---       ┆ f64       ┆ f64       ┆ f64       ┆   ┆ ---       ┆ Delta     ┆ Delta     ┆ Delta    │\n",
       "│ date      ┆           ┆           ┆           ┆   ┆ i64       ┆ previous  ┆ previous  ┆ previous │\n",
       "│           ┆           ┆           ┆           ┆   ┆           ┆ 1 month   ┆ 2 months  ┆ 3 months │\n",
       "│           ┆           ┆           ┆           ┆   ┆           ┆ ---       ┆ ---       ┆ ---      │\n",
       "│           ┆           ┆           ┆           ┆   ┆           ┆ i64       ┆ i64       ┆ i64      │\n",
       "╞═══════════╪═══════════╪═══════════╪═══════════╪═══╪═══════════╪═══════════╪═══════════╪══════════╡\n",
       "│ 2024-04-0 ┆ 1402806   ┆ 14.03     ┆ 18.69     ┆ … ┆ 30001     ┆ null      ┆ null      ┆ null     │\n",
       "│ 1         ┆           ┆           ┆           ┆   ┆           ┆           ┆           ┆          │\n",
       "│ 2024-05-0 ┆ 1396414.1 ┆ 13.96     ┆ 18.61     ┆ … ┆ 30083     ┆ 82        ┆ null      ┆ null     │\n",
       "│ 1         ┆           ┆           ┆           ┆   ┆           ┆           ┆           ┆          │\n",
       "│ 2024-06-0 ┆ 1404015.3 ┆ 14.04     ┆ 18.7      ┆ … ┆ 30012     ┆ -71       ┆ 11        ┆ null     │\n",
       "│ 1         ┆           ┆           ┆           ┆   ┆           ┆           ┆           ┆          │\n",
       "│ 2024-07-0 ┆ 1399001.3 ┆ 13.99     ┆ 18.66     ┆ … ┆ 29765     ┆ -247      ┆ -318      ┆ -236     │\n",
       "│ 1         ┆           ┆           ┆           ┆   ┆           ┆           ┆           ┆          │\n",
       "└───────────┴───────────┴───────────┴───────────┴───┴───────────┴───────────┴───────────┴──────────┘"
      ]
     },
     "execution_count": 20,
     "metadata": {},
     "output_type": "execute_result"
    }
   ],
   "source": [
    "usage_per_month = (\n",
    "    usage_info\n",
    "    .group_by('billed_period_month_d')\n",
    "    .agg([\n",
    "        pl.col('used_gb').sum().round(2).alias('total_used_gb'),\n",
    "        pl.col('used_gb').mean().round(2).alias('avg_used_gb'),\n",
    "        pl.col('used_gb').std().round(2).alias('std_used_gb'),\n",
    "        pl.col('used_gb').quantile(0.5).round(2).alias('median_used_gb'),\n",
    "        pl.col('used_gb').max().round(2).alias('max_used_gb'),\n",
    "        pl.col('used_gb').min().round(2).alias('min_used_gb'),\n",
    "\n",
    "        pl.col('has_used_roaming').sum().cast(pl.Int64).alias('count_roaming_used'),\n",
    "    ])\n",
    ").sort('billed_period_month_d', descending=False)\n",
    "\n",
    "usage_per_month = usage_per_month.with_columns(\n",
    "    (pl.col(\"total_used_gb\") - pl.col(\"total_used_gb\").shift(1)).round(2).alias(\"total_used_gb_delta1\"),\n",
    "    (pl.col(\"total_used_gb\") - pl.col(\"total_used_gb\").shift(2)).round(2).alias(\"total_used_gb_delta2\"),\n",
    "    (pl.col(\"total_used_gb\") - pl.col(\"total_used_gb\").shift(3)).round(2).alias(\"total_used_gb_delta3\"),\n",
    "\n",
    "    (pl.col(\"count_roaming_used\") - pl.col(\"count_roaming_used\").shift(1)).alias(\"count_roaming_used_delta1\"),\n",
    "    (pl.col(\"count_roaming_used\") - pl.col(\"count_roaming_used\").shift(2)).alias(\"count_roaming_used_delta2\"),\n",
    "    (pl.col(\"count_roaming_used\") - pl.col(\"count_roaming_used\").shift(3)).alias(\"count_roaming_used_delta3\"),\n",
    ")\n",
    "\n",
    "usage_per_month = usage_per_month.rename({\n",
    "    'billed_period_month_d': 'Billed Period (Month)',\n",
    "    \n",
    "    'total_used_gb': 'Total Used GB',\n",
    "    'avg_used_gb': 'Avg Used GB',\n",
    "    'max_used_gb': 'Max Used GB',\n",
    "    'min_used_gb': 'Min Used GB',\n",
    "    'std_used_gb': 'Std Used GB',\n",
    "    'median_used_gb': 'Median Used GB',\n",
    "    'total_used_gb_delta1': 'Total Used GB Delta previous 1 month',\n",
    "    'total_used_gb_delta2': 'Total Used GB Delta previous 2 months',\n",
    "    'total_used_gb_delta3': 'Total Used GB Delta previous 3 months',\n",
    "    \n",
    "    'count_roaming_used': 'Count Roaming Used',\n",
    "    'count_roaming_used_delta1': 'Count Roaming Used Delta previous 1 month',\n",
    "    'count_roaming_used_delta2': 'Count Roaming Used Delta previous 2 months',\n",
    "    'count_roaming_used_delta3': 'Count Roaming Used Delta previous 3 months',\n",
    "})\n",
    "\n",
    "usage_per_month.select(\n",
    "    pl.col('Billed Period (Month)'),\n",
    "    pl.col('Total Used GB'),\n",
    "    pl.col('Avg Used GB'),\n",
    "    pl.col('Std Used GB'),\n",
    "    pl.col('Min Used GB'),\n",
    "    pl.col('Median Used GB'),\n",
    "    pl.col('Max Used GB'),\n",
    "    pl.col('Total Used GB Delta previous 1 month'),\n",
    "    pl.col('Total Used GB Delta previous 2 months'),\n",
    "    pl.col('Total Used GB Delta previous 3 months'),\n",
    "    pl.col('Count Roaming Used'),\n",
    "    pl.col('Count Roaming Used Delta previous 1 month'),\n",
    "    pl.col('Count Roaming Used Delta previous 2 months'),\n",
    "    pl.col('Count Roaming Used Delta previous 3 months')\n",
    ")"
   ]
  },
  {
   "cell_type": "markdown",
   "id": "3239c81f",
   "metadata": {},
   "source": [
    "### Data checks"
   ]
  },
  {
   "cell_type": "code",
   "execution_count": 21,
   "id": "0da8dbcb",
   "metadata": {},
   "outputs": [],
   "source": [
    "null_counts_usage_info = usage_info.select([\n",
    "    pl.col(col).is_null().sum().alias(f\"{col}_nulls\") for col in usage_info.columns\n",
    "])\n",
    "\n",
    "nan_counts_usage_info = usage_info.select([\n",
    "    pl.col(col).is_nan().sum().alias(f\"{col}_nans\")\n",
    "    for col, dtype in zip(usage_info.columns, usage_info.dtypes)\n",
    "    if dtype in [pl.Float32, pl.Float64, pl.Int64, pl.Int32]\n",
    "])\n",
    "\n",
    "inf_counts_usage_info = usage_info.select([\n",
    "    ((pl.col(col) == float('inf')) | (pl.col(col) == float('-inf'))).sum().alias(f\"{col}_infs\")\n",
    "    for col, dtype in zip(usage_info.columns, usage_info.dtypes)\n",
    "    if dtype in [pl.Float32, pl.Float64, pl.Int64, pl.Int32]\n",
    "])"
   ]
  },
  {
   "cell_type": "code",
   "execution_count": 22,
   "id": "cc80f97b",
   "metadata": {},
   "outputs": [
    {
     "name": "stdout",
     "output_type": "stream",
     "text": [
      "Null counts per column:\n"
     ]
    },
    {
     "data": {
      "text/html": [
       "<div><style>\n",
       ".dataframe > thead > tr,\n",
       ".dataframe > tbody > tr {\n",
       "  text-align: right;\n",
       "  white-space: pre-wrap;\n",
       "}\n",
       "</style>\n",
       "<small>shape: (1, 4)</small><table border=\"1\" class=\"dataframe\"><thead><tr><th>rating_account_id_nulls</th><th>billed_period_month_d_nulls</th><th>has_used_roaming_nulls</th><th>used_gb_nulls</th></tr><tr><td>u32</td><td>u32</td><td>u32</td><td>u32</td></tr></thead><tbody><tr><td>0</td><td>0</td><td>0</td><td>0</td></tr></tbody></table></div>"
      ],
      "text/plain": [
       "shape: (1, 4)\n",
       "┌─────────────────────────┬─────────────────────────────┬────────────────────────┬───────────────┐\n",
       "│ rating_account_id_nulls ┆ billed_period_month_d_nulls ┆ has_used_roaming_nulls ┆ used_gb_nulls │\n",
       "│ ---                     ┆ ---                         ┆ ---                    ┆ ---           │\n",
       "│ u32                     ┆ u32                         ┆ u32                    ┆ u32           │\n",
       "╞═════════════════════════╪═════════════════════════════╪════════════════════════╪═══════════════╡\n",
       "│ 0                       ┆ 0                           ┆ 0                      ┆ 0             │\n",
       "└─────────────────────────┴─────────────────────────────┴────────────────────────┴───────────────┘"
      ]
     },
     "execution_count": 22,
     "metadata": {},
     "output_type": "execute_result"
    }
   ],
   "source": [
    "print(\"Null counts per column:\")\n",
    "null_counts_usage_info"
   ]
  },
  {
   "cell_type": "code",
   "execution_count": 23,
   "id": "83a78ecf",
   "metadata": {},
   "outputs": [
    {
     "name": "stdout",
     "output_type": "stream",
     "text": [
      "NaN counts per float column:\n"
     ]
    },
    {
     "data": {
      "text/html": [
       "<div><style>\n",
       ".dataframe > thead > tr,\n",
       ".dataframe > tbody > tr {\n",
       "  text-align: right;\n",
       "  white-space: pre-wrap;\n",
       "}\n",
       "</style>\n",
       "<small>shape: (1, 2)</small><table border=\"1\" class=\"dataframe\"><thead><tr><th>rating_account_id_nans</th><th>used_gb_nans</th></tr><tr><td>u32</td><td>u32</td></tr></thead><tbody><tr><td>0</td><td>0</td></tr></tbody></table></div>"
      ],
      "text/plain": [
       "shape: (1, 2)\n",
       "┌────────────────────────┬──────────────┐\n",
       "│ rating_account_id_nans ┆ used_gb_nans │\n",
       "│ ---                    ┆ ---          │\n",
       "│ u32                    ┆ u32          │\n",
       "╞════════════════════════╪══════════════╡\n",
       "│ 0                      ┆ 0            │\n",
       "└────────────────────────┴──────────────┘"
      ]
     },
     "execution_count": 23,
     "metadata": {},
     "output_type": "execute_result"
    }
   ],
   "source": [
    "print(\"NaN counts per float column:\")\n",
    "nan_counts_usage_info"
   ]
  },
  {
   "cell_type": "code",
   "execution_count": 24,
   "id": "0f218be2",
   "metadata": {},
   "outputs": [
    {
     "name": "stdout",
     "output_type": "stream",
     "text": [
      "Infinite counts per float column:\n"
     ]
    },
    {
     "data": {
      "text/html": [
       "<div><style>\n",
       ".dataframe > thead > tr,\n",
       ".dataframe > tbody > tr {\n",
       "  text-align: right;\n",
       "  white-space: pre-wrap;\n",
       "}\n",
       "</style>\n",
       "<small>shape: (1, 2)</small><table border=\"1\" class=\"dataframe\"><thead><tr><th>rating_account_id_infs</th><th>used_gb_infs</th></tr><tr><td>u32</td><td>u32</td></tr></thead><tbody><tr><td>0</td><td>0</td></tr></tbody></table></div>"
      ],
      "text/plain": [
       "shape: (1, 2)\n",
       "┌────────────────────────┬──────────────┐\n",
       "│ rating_account_id_infs ┆ used_gb_infs │\n",
       "│ ---                    ┆ ---          │\n",
       "│ u32                    ┆ u32          │\n",
       "╞════════════════════════╪══════════════╡\n",
       "│ 0                      ┆ 0            │\n",
       "└────────────────────────┴──────────────┘"
      ]
     },
     "execution_count": 24,
     "metadata": {},
     "output_type": "execute_result"
    }
   ],
   "source": [
    "print(\"Infinite counts per float column:\")\n",
    "inf_counts_usage_info"
   ]
  },
  {
   "cell_type": "markdown",
   "id": "c4df3d9c",
   "metadata": {},
   "source": [
    "---"
   ]
  },
  {
   "cell_type": "markdown",
   "id": "680702c7",
   "metadata": {},
   "source": [
    "## `customer_interactions`\n",
    "\n",
    "| Feature Name   | Description                                                              |\n",
    "|----------------|--------------------------------------------------------------------------|\n",
    "| customer_id    | Unique identifier for the customer                                       |\n",
    "| type_subtype   | Category and subtype of the interaction (e.g., tariff change, billing)   |\n",
    "| n              | Number of interactions of this type in the last 6 months                                |\n",
    "| days_since_last| Number of days since the last interaction of this type                   |\n"
   ]
  },
  {
   "cell_type": "markdown",
   "id": "d3d2e05e",
   "metadata": {},
   "source": [
    "### General overview"
   ]
  },
  {
   "cell_type": "code",
   "execution_count": 25,
   "id": "644aa005",
   "metadata": {},
   "outputs": [],
   "source": [
    "customer_interactions = load_artifact('customer_interactions')"
   ]
  },
  {
   "cell_type": "code",
   "execution_count": 26,
   "id": "27e56bfb",
   "metadata": {},
   "outputs": [
    {
     "data": {
      "text/html": [
       "<div><style>\n",
       ".dataframe > thead > tr,\n",
       ".dataframe > tbody > tr {\n",
       "  text-align: right;\n",
       "  white-space: pre-wrap;\n",
       "}\n",
       "</style>\n",
       "<small>shape: (5, 4)</small><table border=\"1\" class=\"dataframe\"><thead><tr><th>customer_id</th><th>type_subtype</th><th>n</th><th>days_since_last</th></tr><tr><td>str</td><td>str</td><td>i64</td><td>i64</td></tr></thead><tbody><tr><td>&quot;5.563689&quot;</td><td>&quot;rechnungsanfragen&quot;</td><td>1</td><td>116</td></tr><tr><td>&quot;2.928257&quot;</td><td>&quot;produkte&amp;services-tarifdetails&quot;</td><td>1</td><td>146</td></tr><tr><td>&quot;3.468993&quot;</td><td>&quot;produkte&amp;services-tarifdetails&quot;</td><td>1</td><td>50</td></tr><tr><td>&quot;4.481640&quot;</td><td>&quot;prolongation&quot;</td><td>1</td><td>46</td></tr><tr><td>&quot;1.750352&quot;</td><td>&quot;rechnungsanfragen&quot;</td><td>1</td><td>177</td></tr></tbody></table></div>"
      ],
      "text/plain": [
       "shape: (5, 4)\n",
       "┌─────────────┬────────────────────────────────┬─────┬─────────────────┐\n",
       "│ customer_id ┆ type_subtype                   ┆ n   ┆ days_since_last │\n",
       "│ ---         ┆ ---                            ┆ --- ┆ ---             │\n",
       "│ str         ┆ str                            ┆ i64 ┆ i64             │\n",
       "╞═════════════╪════════════════════════════════╪═════╪═════════════════╡\n",
       "│ 5.563689    ┆ rechnungsanfragen              ┆ 1   ┆ 116             │\n",
       "│ 2.928257    ┆ produkte&services-tarifdetails ┆ 1   ┆ 146             │\n",
       "│ 3.468993    ┆ produkte&services-tarifdetails ┆ 1   ┆ 50              │\n",
       "│ 4.481640    ┆ prolongation                   ┆ 1   ┆ 46              │\n",
       "│ 1.750352    ┆ rechnungsanfragen              ┆ 1   ┆ 177             │\n",
       "└─────────────┴────────────────────────────────┴─────┴─────────────────┘"
      ]
     },
     "execution_count": 26,
     "metadata": {},
     "output_type": "execute_result"
    }
   ],
   "source": [
    "customer_interactions.head()"
   ]
  },
  {
   "cell_type": "code",
   "execution_count": 27,
   "id": "66a75715",
   "metadata": {},
   "outputs": [
    {
     "data": {
      "text/plain": [
       "Schema([('customer_id', String),\n",
       "        ('type_subtype', String),\n",
       "        ('n', Int64),\n",
       "        ('days_since_last', Int64)])"
      ]
     },
     "execution_count": 27,
     "metadata": {},
     "output_type": "execute_result"
    }
   ],
   "source": [
    "customer_interactions.schema"
   ]
  },
  {
   "cell_type": "code",
   "execution_count": null,
   "id": "edec281c",
   "metadata": {},
   "outputs": [
    {
     "name": "stdout",
     "output_type": "stream",
     "text": [
      "The customer_interactions has 42095 (71.96% of whole customers pool) unique customers.\n",
      "\n",
      "The customer_interactions has an average of 1.50 unique interaction types per customer with a maximum of 3 unique interaction types.\n",
      "\n",
      "The customer_interactions has 0 (0.00%) customers with multiple same interaction types.\n",
      "\n",
      "The customer_interactions has 4 unique interaction types: ['rechnungsanfragen', 'produkte&services-tarifdetails', 'prolongation', 'produkte&services-tarifwechsel'].\n",
      "\n"
     ]
    }
   ],
   "source": [
    "n_customers_interactions = customer_interactions.select(pl.col('customer_id')).n_unique()\n",
    "\n",
    "\n",
    "n_types_interactions_per_customers = customer_interactions.group_by('customer_id').agg(pl.col('type_subtype').n_unique().alias('n_types_interactions'))\n",
    "avg_n_types_interactions_per_customer = n_types_interactions_per_customers.select(pl.col('n_types_interactions')).mean().item()\n",
    "max_n_types_interactions_per_customer = n_types_interactions_per_customers.select(pl.col('n_types_interactions')).max().item()\n",
    "\n",
    "multiple_same_interactions_per_customer = customer_interactions.group_by('customer_id', 'type_subtype').len()\n",
    "n_customers_multiple_same_interactions = multiple_same_interactions_per_customer.filter(pl.col('len') > 1).shape[0]\n",
    "\n",
    "types_interactions = customer_interactions.select(pl.col('type_subtype')).unique()\n",
    "\n",
    "print(f'The customer_interactions has {n_customers_interactions} ({n_customers_interactions / n_customers * 100:.2f}% of whole customers pool) unique customers.\\n')\n",
    "\n",
    "print(f'The customer_interactions has an average of {avg_n_types_interactions_per_customer:.2f} unique interaction types per customer with a maximum of {max_n_types_interactions_per_customer} unique interaction types.\\n')\n",
    "\n",
    "print(f'The customer_interactions has {n_customers_multiple_same_interactions} ({n_customers_multiple_same_interactions / n_customers_interactions * 100:.2f}%) customers with multiple same interaction types.\\n')\n",
    "\n",
    "print(f'The customer_interactions has {types_interactions.shape[0]} unique interaction types: {types_interactions.select(pl.col('type_subtype')).to_series().to_list()}.\\n')"
   ]
  },
  {
   "cell_type": "markdown",
   "id": "8c05dd61",
   "metadata": {},
   "source": [
    "### Interactions analysis"
   ]
  },
  {
   "cell_type": "code",
   "execution_count": null,
   "id": "586877b4",
   "metadata": {},
   "outputs": [
    {
     "data": {
      "text/html": [
       "<div><style>\n",
       ".dataframe > thead > tr,\n",
       ".dataframe > tbody > tr {\n",
       "  text-align: right;\n",
       "  white-space: pre-wrap;\n",
       "}\n",
       "</style>\n",
       "<small>shape: (4, 10)</small><table border=\"1\" class=\"dataframe\"><thead><tr><th>Interaction Type</th><th>Number of Customers</th><th>Total Interactions in Last 6 Months</th><th>Min Interactions per Customer in Last 6 Months</th><th>Avg Interactions per Customer in Last 6 Months</th><th>Median Interactions per Customer in Last 6 Months</th><th>Max Interactions per Customer in Last 6 Months</th><th>Avg Days Since Last Interaction</th><th>Max Days Since Last Interaction</th><th>Min Days Since Last Interaction</th></tr><tr><td>str</td><td>u32</td><td>i64</td><td>i64</td><td>f64</td><td>f64</td><td>i64</td><td>f64</td><td>i64</td><td>i64</td></tr></thead><tbody><tr><td>&quot;produkte&amp;services-tarifwechsel&quot;</td><td>15811</td><td>30661</td><td>1</td><td>1.94</td><td>2</td><td>10</td><td>91.02</td><td>180</td><td>0</td></tr><tr><td>&quot;rechnungsanfragen&quot;</td><td>15811</td><td>30493</td><td>1</td><td>1.93</td><td>1</td><td>10</td><td>90.06</td><td>180</td><td>0</td></tr><tr><td>&quot;produkte&amp;services-tarifdetails&quot;</td><td>15759</td><td>30693</td><td>1</td><td>1.95</td><td>2</td><td>10</td><td>90.18</td><td>180</td><td>0</td></tr><tr><td>&quot;prolongation&quot;</td><td>15837</td><td>30507</td><td>1</td><td>1.93</td><td>1</td><td>10</td><td>89.82</td><td>180</td><td>0</td></tr></tbody></table></div>"
      ],
      "text/plain": [
       "shape: (4, 10)\n",
       "┌───────────┬───────────┬───────────┬───────────┬───┬───────────┬───────────┬───────────┬──────────┐\n",
       "│ Interacti ┆ Number of ┆ Total Int ┆ Min Inter ┆ … ┆ Max Inter ┆ Avg Days  ┆ Max Days  ┆ Min Days │\n",
       "│ on Type   ┆ Customers ┆ eractions ┆ actions   ┆   ┆ actions   ┆ Since     ┆ Since     ┆ Since    │\n",
       "│ ---       ┆ ---       ┆ in Last 6 ┆ per       ┆   ┆ per       ┆ Last Inte ┆ Last Inte ┆ Last Int │\n",
       "│ str       ┆ u32       ┆ Months    ┆ Customer  ┆   ┆ Customer  ┆ raction   ┆ raction   ┆ eraction │\n",
       "│           ┆           ┆ ---       ┆ in Last 6 ┆   ┆ in Last 6 ┆ ---       ┆ ---       ┆ ---      │\n",
       "│           ┆           ┆ i64       ┆ Months    ┆   ┆ Months    ┆ f64       ┆ i64       ┆ i64      │\n",
       "│           ┆           ┆           ┆ ---       ┆   ┆ ---       ┆           ┆           ┆          │\n",
       "│           ┆           ┆           ┆ i64       ┆   ┆ i64       ┆           ┆           ┆          │\n",
       "╞═══════════╪═══════════╪═══════════╪═══════════╪═══╪═══════════╪═══════════╪═══════════╪══════════╡\n",
       "│ produkte& ┆ 15811     ┆ 30661     ┆ 1         ┆ … ┆ 10        ┆ 91.02     ┆ 180       ┆ 0        │\n",
       "│ services- ┆           ┆           ┆           ┆   ┆           ┆           ┆           ┆          │\n",
       "│ tarifwech ┆           ┆           ┆           ┆   ┆           ┆           ┆           ┆          │\n",
       "│ sel       ┆           ┆           ┆           ┆   ┆           ┆           ┆           ┆          │\n",
       "│ rechnungs ┆ 15811     ┆ 30493     ┆ 1         ┆ … ┆ 10        ┆ 90.06     ┆ 180       ┆ 0        │\n",
       "│ anfragen  ┆           ┆           ┆           ┆   ┆           ┆           ┆           ┆          │\n",
       "│ produkte& ┆ 15759     ┆ 30693     ┆ 1         ┆ … ┆ 10        ┆ 90.18     ┆ 180       ┆ 0        │\n",
       "│ services- ┆           ┆           ┆           ┆   ┆           ┆           ┆           ┆          │\n",
       "│ tarifdeta ┆           ┆           ┆           ┆   ┆           ┆           ┆           ┆          │\n",
       "│ ils       ┆           ┆           ┆           ┆   ┆           ┆           ┆           ┆          │\n",
       "│ prolongat ┆ 15837     ┆ 30507     ┆ 1         ┆ … ┆ 10        ┆ 89.82     ┆ 180       ┆ 0        │\n",
       "│ ion       ┆           ┆           ┆           ┆   ┆           ┆           ┆           ┆          │\n",
       "└───────────┴───────────┴───────────┴───────────┴───┴───────────┴───────────┴───────────┴──────────┘"
      ]
     },
     "execution_count": 29,
     "metadata": {},
     "output_type": "execute_result"
    }
   ],
   "source": [
    "interactions_distribution = (\n",
    "    customer_interactions\n",
    "    .group_by('type_subtype')\n",
    "    .agg([\n",
    "        pl.col('customer_id').n_unique().alias('n_customers'),\n",
    "\n",
    "        pl.col('n').sum().alias('total_interactions_in_last_6_months'),\n",
    "        pl.col('n').min().round(2).alias('min_interactions_per_customer_in_last_6_months'),\n",
    "        pl.col('n').mean().round(2).alias('avg_interactions_per_customer_in_last_6_months'),\n",
    "        pl.col('n').median().round(2).alias('median_interactions_per_customer_in_last_6_months'),\n",
    "        pl.col('n').max().round(2).alias('max_interactions_per_customer_in_last_6_months'),\n",
    "        \n",
    "\n",
    "        pl.col('days_since_last').mean().round(2).alias('avg_days_since_last_interaction'),\n",
    "        pl.col('days_since_last').max().alias('max_days_since_last_interaction'),\n",
    "        pl.col('days_since_last').min().alias('min_days_since_last_interaction'),\n",
    "    ])\n",
    ")\n",
    "\n",
    "interactions_distribution = interactions_distribution.rename({\n",
    "    'type_subtype': 'Interaction Type',\n",
    "    \n",
    "    'n_customers': 'Number of Customers', \n",
    "\n",
    "    'total_interactions_in_last_6_months': 'Total Interactions in Last 6 Months',\n",
    "    'avg_interactions_per_customer_in_last_6_months': 'Avg Interactions per Customer in Last 6 Months',\n",
    "    'median_interactions_per_customer_in_last_6_months': 'Median Interactions per Customer in Last 6 Months',\n",
    "    'max_interactions_per_customer_in_last_6_months': 'Max Interactions per Customer in Last 6 Months',\n",
    "    'min_interactions_per_customer_in_last_6_months': 'Min Interactions per Customer in Last 6 Months',\n",
    "\n",
    "    'avg_days_since_last_interaction': 'Avg Days Since Last Interaction',\n",
    "    'max_days_since_last_interaction': 'Max Days Since Last Interaction',\n",
    "    'min_days_since_last_interaction': 'Min Days Since Last Interaction',\n",
    "})\n",
    "\n",
    "interactions_distribution"
   ]
  },
  {
   "cell_type": "markdown",
   "id": "f976e6a4",
   "metadata": {},
   "source": [
    "### Data checks"
   ]
  },
  {
   "cell_type": "code",
   "execution_count": 30,
   "id": "08d11a04",
   "metadata": {},
   "outputs": [],
   "source": [
    "null_counts_customer_interactions = customer_interactions.select([\n",
    "    pl.col(col).is_null().sum().alias(f\"{col}_nulls\") for col in customer_interactions.columns\n",
    "])\n",
    "\n",
    "nan_counts_customer_interactions = customer_interactions.select([\n",
    "    pl.col(col).is_nan().sum().alias(f\"{col}_nans\")\n",
    "    for col, dtype in zip(customer_interactions.columns, customer_interactions.dtypes)\n",
    "    if dtype in [pl.Float32, pl.Float64, pl.Int64, pl.Int32]\n",
    "])\n",
    "\n",
    "inf_counts_customer_interactions = customer_interactions.select([\n",
    "    ((pl.col(col) == float('inf')) | (pl.col(col) == float('-inf'))).sum().alias(f\"{col}_infs\")\n",
    "    for col, dtype in zip(customer_interactions.columns, customer_interactions.dtypes)\n",
    "    if dtype in [pl.Float32, pl.Float64, pl.Int64, pl.Int32]\n",
    "])"
   ]
  },
  {
   "cell_type": "code",
   "execution_count": 31,
   "id": "2c969702",
   "metadata": {},
   "outputs": [
    {
     "name": "stdout",
     "output_type": "stream",
     "text": [
      "Null counts per column:\n"
     ]
    },
    {
     "data": {
      "text/html": [
       "<div><style>\n",
       ".dataframe > thead > tr,\n",
       ".dataframe > tbody > tr {\n",
       "  text-align: right;\n",
       "  white-space: pre-wrap;\n",
       "}\n",
       "</style>\n",
       "<small>shape: (1, 4)</small><table border=\"1\" class=\"dataframe\"><thead><tr><th>customer_id_nulls</th><th>type_subtype_nulls</th><th>n_nulls</th><th>days_since_last_nulls</th></tr><tr><td>u32</td><td>u32</td><td>u32</td><td>u32</td></tr></thead><tbody><tr><td>0</td><td>0</td><td>0</td><td>0</td></tr></tbody></table></div>"
      ],
      "text/plain": [
       "shape: (1, 4)\n",
       "┌───────────────────┬────────────────────┬─────────┬───────────────────────┐\n",
       "│ customer_id_nulls ┆ type_subtype_nulls ┆ n_nulls ┆ days_since_last_nulls │\n",
       "│ ---               ┆ ---                ┆ ---     ┆ ---                   │\n",
       "│ u32               ┆ u32                ┆ u32     ┆ u32                   │\n",
       "╞═══════════════════╪════════════════════╪═════════╪═══════════════════════╡\n",
       "│ 0                 ┆ 0                  ┆ 0       ┆ 0                     │\n",
       "└───────────────────┴────────────────────┴─────────┴───────────────────────┘"
      ]
     },
     "execution_count": 31,
     "metadata": {},
     "output_type": "execute_result"
    }
   ],
   "source": [
    "print(\"Null counts per column:\")\n",
    "null_counts_customer_interactions"
   ]
  },
  {
   "cell_type": "code",
   "execution_count": 32,
   "id": "50b929f2",
   "metadata": {},
   "outputs": [
    {
     "name": "stdout",
     "output_type": "stream",
     "text": [
      "NaN counts per float column:\n"
     ]
    },
    {
     "data": {
      "text/html": [
       "<div><style>\n",
       ".dataframe > thead > tr,\n",
       ".dataframe > tbody > tr {\n",
       "  text-align: right;\n",
       "  white-space: pre-wrap;\n",
       "}\n",
       "</style>\n",
       "<small>shape: (1, 2)</small><table border=\"1\" class=\"dataframe\"><thead><tr><th>n_nans</th><th>days_since_last_nans</th></tr><tr><td>u32</td><td>u32</td></tr></thead><tbody><tr><td>0</td><td>0</td></tr></tbody></table></div>"
      ],
      "text/plain": [
       "shape: (1, 2)\n",
       "┌────────┬──────────────────────┐\n",
       "│ n_nans ┆ days_since_last_nans │\n",
       "│ ---    ┆ ---                  │\n",
       "│ u32    ┆ u32                  │\n",
       "╞════════╪══════════════════════╡\n",
       "│ 0      ┆ 0                    │\n",
       "└────────┴──────────────────────┘"
      ]
     },
     "execution_count": 32,
     "metadata": {},
     "output_type": "execute_result"
    }
   ],
   "source": [
    "print(\"NaN counts per float column:\")\n",
    "nan_counts_customer_interactions"
   ]
  },
  {
   "cell_type": "code",
   "execution_count": 33,
   "id": "f7d29e18",
   "metadata": {},
   "outputs": [
    {
     "name": "stdout",
     "output_type": "stream",
     "text": [
      "Infinite counts per float column:\n"
     ]
    },
    {
     "data": {
      "text/html": [
       "<div><style>\n",
       ".dataframe > thead > tr,\n",
       ".dataframe > tbody > tr {\n",
       "  text-align: right;\n",
       "  white-space: pre-wrap;\n",
       "}\n",
       "</style>\n",
       "<small>shape: (1, 2)</small><table border=\"1\" class=\"dataframe\"><thead><tr><th>n_infs</th><th>days_since_last_infs</th></tr><tr><td>u32</td><td>u32</td></tr></thead><tbody><tr><td>0</td><td>0</td></tr></tbody></table></div>"
      ],
      "text/plain": [
       "shape: (1, 2)\n",
       "┌────────┬──────────────────────┐\n",
       "│ n_infs ┆ days_since_last_infs │\n",
       "│ ---    ┆ ---                  │\n",
       "│ u32    ┆ u32                  │\n",
       "╞════════╪══════════════════════╡\n",
       "│ 0      ┆ 0                    │\n",
       "└────────┴──────────────────────┘"
      ]
     },
     "execution_count": 33,
     "metadata": {},
     "output_type": "execute_result"
    }
   ],
   "source": [
    "print(\"Infinite counts per float column:\")\n",
    "inf_counts_customer_interactions"
   ]
  },
  {
   "cell_type": "markdown",
   "id": "9e4e66fa",
   "metadata": {},
   "source": [
    "---"
   ]
  },
  {
   "cell_type": "markdown",
   "id": "dc87fad2",
   "metadata": {},
   "source": [
    "# Conclusion\n",
    "\n",
    "## Data Interpretation\n",
    "\n",
    "This dataset represents a snapshot extracted at a specific point in time, capturing the complete active contract portfolio for each customer.<br>\n",
    "The key insight is that a single `customer_id` can manage multiple simultaneous active contracts (identified by unique `rating_account_id`), as evidenced by the presence of usage data across all contracts for the complete four-month observation period (April-July 2024).\n",
    "It is possible to assume that the age attribute appears to correspond to the individual user of each specific contract rather than the account holder, which aligns with the smartphone brand assignment per contract.\n",
    "\n",
    "This structure reflects two primary real-world scenarios:\n",
    "- **Corporate Accounts**: Businesses managing multiple employee lines, where each contract represents a different employee.\n",
    "\n",
    "- **Family Plans**: Household accounts where the primary account holder manages contracts for multiple family members.\n",
    "\n",
    "## Summary\n",
    "\n",
    "This analysis shows that the data consists of **100000 contracts** from **58495 unique customers**. The most important insight is that only **7.05% of the contracts are upsold** and 11.54% of customers manage at least one upsold contract. This shows how the data is extremely **imbalanced**.\n",
    "\n",
    "The `core_data` dataset captures a multi-contract customer structure where 4.74% of the customers manages 4+ contracts, with an average of **1.71 contracts per customer**.\n",
    "\n",
    "This structure represents both corporate accounts managing employee lines and family plans with multiple household members.\n",
    "\n",
    "**Only 71.96% of the customer base had an interaction with the customer service**, with balanced distribution across four interaction types (prolongation, tariff changes, billing inquiries, and tariff details). However, the 28% coverage gap must be addressed.\n",
    "\n",
    "## Data Quality\n",
    "\n",
    "The primary data quality issue involves 14148 contracts (14.15%) with null `available_gb` values. This requires a strategic approach for handling missing values through imputation, filling, or removal based on business context.\n",
    "\n",
    "## Target\n",
    "\n",
    "The data is modeling scenarios where:\n",
    "\n",
    "- Each contract has independent upgrade potential based on its specific circumstances\n",
    "- Contract lifecycle timing matters (binding periods, contract age)\n",
    "- Service-level features are contract-specific (data allowances, pricing tiers)\n",
    "\n",
    "**Contract-level targeting** is actually the right approach because:\n",
    "\n",
    "- The business logic treats each contract as having independent upgrade potential\n",
    "- Contract-specific features (binding periods, data allowances, pricing) are the key drivers\n",
    "\n",
    "## Data Integration\n",
    "\n",
    "Given the commercial and modeling advantages of contract-level targeting, the optimal data integration strategy involves:\n",
    "\n",
    "- **Usage Data Aggregation**: Transform the monthly usage records into contract-level features by creating aggregated statistics across the 4-month observation period, including average usage, usage trends, rolling averages, and period-over-period deltas.\n",
    "\n",
    "- **Customer Interaction Mapping**: Generate customer-level interaction aggregations and propagate these features to all contracts belonging to the same customer. While this approach may introduce some noise (as interactions may be contract-specific), it provides valuable engagement signals for the 71.96% of customers with interaction history, with null handling for customers without recorded interactions."
   ]
  }
 ],
 "metadata": {
  "kernelspec": {
   "display_name": "ci-validation",
   "language": "python",
   "name": "python3"
  },
  "language_info": {
   "codemirror_mode": {
    "name": "ipython",
    "version": 3
   },
   "file_extension": ".py",
   "mimetype": "text/x-python",
   "name": "python",
   "nbconvert_exporter": "python",
   "pygments_lexer": "ipython3",
   "version": "3.12.0"
  }
 },
 "nbformat": 4,
 "nbformat_minor": 5
}
