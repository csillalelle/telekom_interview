{
 "cells": [
  {
   "cell_type": "markdown",
   "id": "2fba1838",
   "metadata": {},
   "source": [
    "# Table of Contents\n",
    "\n",
    "1. [Imports and definitions](#imports-and-definitions)\n",
    "2. [Exploration](#exploration)\n",
    "   - [core_data](#core_data)\n",
    "     - [General overview](#general-overview)\n",
    "     - [Customers portfolio analysis](#customers-portfolio-analysis)\n",
    "     - [Upselling distribution](#upselling-distribution)\n",
    "     - [Data checks](#data-checks)\n",
    "   - [usage_info](#usage_info)\n",
    "     - [General overview](#general-overview-1)\n",
    "     - [Usage analysis](#usage-analysis)\n",
    "     - [Data checks](#data-checks-1)\n",
    "   - [customer_interactions](#customer_interactions)\n",
    "     - [General overview](#general-overview-2)\n",
    "     - [Interactions analysis](#interactions-analysis)\n",
    "     - [Data checks](#data-checks-2)\n",
    "3. [Conclusion](#conclusion)\n",
    "\n",
    "---\n",
    "\n",
    "# Imports and definitions"
   ]
  },
  {
   "cell_type": "code",
   "execution_count": 1,
   "id": "8faa0556",
   "metadata": {},
   "outputs": [],
   "source": [
    "import pickle\n",
    "from pathlib import Path\n",
    "\n",
    "import polars as pl\n",
    "import plotly.express as px\n",
    "\n",
    "_ = pl.Config.set_tbl_cols(None)\n",
    "_ = pl.Config.set_fmt_str_lengths(500)\n",
    "_ = pl.Config.set_fmt_float(\"full\")"
   ]
  },
  {
   "cell_type": "code",
   "execution_count": 2,
   "id": "ff43609f",
   "metadata": {},
   "outputs": [],
   "source": [
    "base_dir = Path('/workspaces/data-scientist-at-magenta')\n",
    "code_dir = base_dir / 'notebooks'\n",
    "data_dir = code_dir / \"data\"\n",
    "raw_dir = data_dir / \"raw\"\n",
    "features_dir = data_dir / 'features'\n",
    "train_dir = data_dir / 'train'"
   ]
  },
  {
   "cell_type": "code",
   "execution_count": 3,
   "id": "b9547d1b",
   "metadata": {},
   "outputs": [],
   "source": [
    "def load_artifact(targ_file:str):\n",
    "    targ_path = raw_dir / targ_file\n",
    "    \n",
    "    if not targ_path.exists():\n",
    "        raise FileNotFoundError(f'Artifact {targ_file} not found in {raw_dir}')\n",
    "\n",
    "    with open(targ_path,'rb') as fp:\n",
    "        test_artifact = pickle.load(fp)\n",
    "\n",
    "    return pl.from_pandas(test_artifact)"
   ]
  },
  {
   "cell_type": "markdown",
   "id": "5fb9e887",
   "metadata": {},
   "source": [
    "`core_data` <br><br>\n",
    "\n",
    "| Feature Name           | Description                                                  |\n",
    "|------------------------|--------------------------------------------------------------|\n",
    "| rating_account_id      | Unique identifier for the contract account                    |\n",
    "| customer_id            | Unique identifier for the customer                           |\n",
    "| age                    | Age of the customer **in years**                                       |\n",
    "| contract_lifetime_days | Total duration of the customer contract in days              |\n",
    "| remaining_binding_days | Number of days left in the contract binding period - usual binding period is 2 years - **if it's positive it means that the customer is still in the binding period**       |\n",
    "| has_special_offer      | Indicates if the customer has a special offer      |\n",
    "| is_magenta1_customer   | Indicates if the customer is part of the Magenta1 program - fedelty program    |\n",
    "| available_gb           | Amount of mobile data included in the current tariff - usually it's an integer (there aren't plans with 15.4GB, for example)       |\n",
    "| gross_mrc              | Gross monthly recurring charge (in euros)                    |\n",
    "| smartphone_brand       | Brand of the customer’s smartphone                           |\n",
    "| has_done_upselling     | Whether the customer has already done an upsell in the last 3 years      |\n"
   ]
  },
  {
   "cell_type": "markdown",
   "id": "c36b65f1",
   "metadata": {},
   "source": [
    "`usage_info`\n",
    "\n",
    "| Feature Name           | Description                                                  |\n",
    "|------------------------|--------------------------------------------------------------|\n",
    "| rating_account_id      | Unique identifier for the contract account                    |\n",
    "| billed_period_month_d  | Billing period (monthly)                                     |\n",
    "| has_used_roaming       | Indicates if roaming was used during the period            |\n",
    "| used_gb                | Amount of mobile data used in the billing period (in GB)     |\n"
   ]
  },
  {
   "cell_type": "markdown",
   "id": "5bafb1cf",
   "metadata": {},
   "source": [
    "`customer_interactions`\n",
    "\n",
    "| Feature Name   | Description                                                              |\n",
    "|----------------|--------------------------------------------------------------------------|\n",
    "| customer_id    | Unique identifier for the customer                                       |\n",
    "| type_subtype   | Category and subtype of the interaction (e.g., tariff change, billing)   |\n",
    "| n              | Number of interactions of this type in the last 6 months                                |\n",
    "| days_since_last| Number of days since the last interaction of this type                   |\n"
   ]
  },
  {
   "cell_type": "markdown",
   "id": "1a43615c",
   "metadata": {},
   "source": [
    "# Exploration"
   ]
  },
  {
   "cell_type": "markdown",
   "id": "342d0bf1",
   "metadata": {},
   "source": [
    "## `core_data`"
   ]
  },
  {
   "cell_type": "markdown",
   "id": "808e6c90",
   "metadata": {},
   "source": [
    "\n",
    "| Feature Name           | Description                                                  |\n",
    "|------------------------|--------------------------------------------------------------|\n",
    "| rating_account_id      | Unique identifier for the contract account                    |\n",
    "| customer_id            | Unique identifier for the customer                           |\n",
    "| age                    | Age of the customer **in years**                                       |\n",
    "| contract_lifetime_days | Total duration of the customer contract in days              |\n",
    "| remaining_binding_days | Number of days left in the contract binding period - usual binding period is 2 years - **if it's positive it means that the customer is still in the binding period**       |\n",
    "| has_special_offer      | Indicates if the customer has a special offer      |\n",
    "| is_magenta1_customer   | Indicates if the customer is part of the Magenta1 program - fedelty program    |\n",
    "| available_gb           | Amount of mobile data included in the current tariff         |\n",
    "| gross_mrc              | Gross monthly recurring charge (in euros)                    |\n",
    "| smartphone_brand       | Brand of the customer’s smartphone                           |\n",
    "| has_done_upselling     | Whether the customer has already done an upsell in the last 3 years      |"
   ]
  },
  {
   "cell_type": "markdown",
   "id": "ef2caf9b",
   "metadata": {},
   "source": [
    "### General overview"
   ]
  },
  {
   "cell_type": "code",
   "execution_count": 11,
   "id": "3f837564",
   "metadata": {},
   "outputs": [],
   "source": [
    "core_data = load_artifact('core_data')"
   ]
  },
  {
   "cell_type": "code",
   "execution_count": 12,
   "id": "d5b234b3",
   "metadata": {},
   "outputs": [
    {
     "data": {
      "text/html": [
       "<div><style>\n",
       ".dataframe > thead > tr,\n",
       ".dataframe > tbody > tr {\n",
       "  text-align: right;\n",
       "  white-space: pre-wrap;\n",
       "}\n",
       "</style>\n",
       "<small>shape: (5, 11)</small><table border=\"1\" class=\"dataframe\"><thead><tr><th>rating_account_id</th><th>customer_id</th><th>age</th><th>contract_lifetime_days</th><th>remaining_binding_days</th><th>has_special_offer</th><th>is_magenta1_customer</th><th>available_gb</th><th>gross_mrc</th><th>smartphone_brand</th><th>has_done_upselling</th></tr><tr><td>i64</td><td>str</td><td>i64</td><td>i64</td><td>i64</td><td>i64</td><td>i64</td><td>i64</td><td>f64</td><td>str</td><td>i64</td></tr></thead><tbody><tr><td>289094</td><td>&quot;4.161115&quot;</td><td>36</td><td>878</td><td>325</td><td>0</td><td>0</td><td>20</td><td>70</td><td>&quot;iPhone&quot;</td><td>0</td></tr><tr><td>677626</td><td>&quot;2.429976&quot;</td><td>34</td><td>998</td><td>614</td><td>0</td><td>0</td><td>0</td><td>5</td><td>&quot;Samsung&quot;</td><td>0</td></tr><tr><td>769928</td><td>&quot;3.875044&quot;</td><td>36</td><td>37</td><td>-26</td><td>0</td><td>1</td><td>50</td><td>16.94</td><td>&quot;Samsung&quot;</td><td>0</td></tr><tr><td>873260</td><td>&quot;4.649933&quot;</td><td>50</td><td>503</td><td>-149</td><td>0</td><td>1</td><td>20</td><td>30.2</td><td>&quot;iPhone&quot;</td><td>1</td></tr><tr><td>109774</td><td>&quot;3.851059&quot;</td><td>47</td><td>331</td><td>-328</td><td>1</td><td>1</td><td>null</td><td>46.12</td><td>&quot;Samsung&quot;</td><td>0</td></tr></tbody></table></div>"
      ],
      "text/plain": [
       "shape: (5, 11)\n",
       "┌────────────┬────────────┬─────┬────────────┬───┬────────────┬───────────┬────────────┬───────────┐\n",
       "│ rating_acc ┆ customer_i ┆ age ┆ contract_l ┆ … ┆ available_ ┆ gross_mrc ┆ smartphone ┆ has_done_ │\n",
       "│ ount_id    ┆ d          ┆ --- ┆ ifetime_da ┆   ┆ gb         ┆ ---       ┆ _brand     ┆ upselling │\n",
       "│ ---        ┆ ---        ┆ i64 ┆ ys         ┆   ┆ ---        ┆ f64       ┆ ---        ┆ ---       │\n",
       "│ i64        ┆ str        ┆     ┆ ---        ┆   ┆ i64        ┆           ┆ str        ┆ i64       │\n",
       "│            ┆            ┆     ┆ i64        ┆   ┆            ┆           ┆            ┆           │\n",
       "╞════════════╪════════════╪═════╪════════════╪═══╪════════════╪═══════════╪════════════╪═══════════╡\n",
       "│ 289094     ┆ 4.161115   ┆ 36  ┆ 878        ┆ … ┆ 20         ┆ 70        ┆ iPhone     ┆ 0         │\n",
       "│ 677626     ┆ 2.429976   ┆ 34  ┆ 998        ┆ … ┆ 0          ┆ 5         ┆ Samsung    ┆ 0         │\n",
       "│ 769928     ┆ 3.875044   ┆ 36  ┆ 37         ┆ … ┆ 50         ┆ 16.94     ┆ Samsung    ┆ 0         │\n",
       "│ 873260     ┆ 4.649933   ┆ 50  ┆ 503        ┆ … ┆ 20         ┆ 30.2      ┆ iPhone     ┆ 1         │\n",
       "│ 109774     ┆ 3.851059   ┆ 47  ┆ 331        ┆ … ┆ null       ┆ 46.12     ┆ Samsung    ┆ 0         │\n",
       "└────────────┴────────────┴─────┴────────────┴───┴────────────┴───────────┴────────────┴───────────┘"
      ]
     },
     "execution_count": 12,
     "metadata": {},
     "output_type": "execute_result"
    }
   ],
   "source": [
    "core_data.head()"
   ]
  },
  {
   "cell_type": "code",
   "execution_count": 13,
   "id": "26f47de2",
   "metadata": {},
   "outputs": [
    {
     "data": {
      "text/plain": [
       "Schema([('rating_account_id', Int64),\n",
       "        ('customer_id', String),\n",
       "        ('age', Int64),\n",
       "        ('contract_lifetime_days', Int64),\n",
       "        ('remaining_binding_days', Int64),\n",
       "        ('has_special_offer', Int64),\n",
       "        ('is_magenta1_customer', Int64),\n",
       "        ('available_gb', Int64),\n",
       "        ('gross_mrc', Float64),\n",
       "        ('smartphone_brand', String),\n",
       "        ('has_done_upselling', Int64)])"
      ]
     },
     "execution_count": 13,
     "metadata": {},
     "output_type": "execute_result"
    }
   ],
   "source": [
    "core_data.schema"
   ]
  },
  {
   "cell_type": "code",
   "execution_count": 26,
   "id": "56a02406",
   "metadata": {},
   "outputs": [
    {
     "data": {
      "text/html": [
       "<div><style>\n",
       ".dataframe > thead > tr,\n",
       ".dataframe > tbody > tr {\n",
       "  text-align: right;\n",
       "  white-space: pre-wrap;\n",
       "}\n",
       "</style>\n",
       "<small>shape: (100_000, 14)</small><table border=\"1\" class=\"dataframe\"><thead><tr><th>rating_account_id</th><th>customer_id</th><th>age</th><th>contract_lifetime_days</th><th>remaining_binding_days</th><th>has_special_offer</th><th>is_magenta1_customer</th><th>available_gb</th><th>gross_mrc</th><th>smartphone_brand</th><th>has_done_upselling</th><th>contract_binding_days</th><th>completion_rate</th><th>cost_per_gb</th></tr><tr><td>i64</td><td>str</td><td>i64</td><td>i64</td><td>i64</td><td>bool</td><td>bool</td><td>i64</td><td>f64</td><td>str</td><td>bool</td><td>i64</td><td>f64</td><td>f64</td></tr></thead><tbody><tr><td>289094</td><td>&quot;4.161115&quot;</td><td>36</td><td>878</td><td>325</td><td>false</td><td>false</td><td>20</td><td>70</td><td>&quot;iPhone&quot;</td><td>false</td><td>1203</td><td>0.7298420615128844</td><td>3.5</td></tr><tr><td>677626</td><td>&quot;2.429976&quot;</td><td>34</td><td>998</td><td>614</td><td>false</td><td>false</td><td>0</td><td>5</td><td>&quot;Samsung&quot;</td><td>false</td><td>1612</td><td>0.6191066997518611</td><td>inf</td></tr><tr><td>769928</td><td>&quot;3.875044&quot;</td><td>36</td><td>37</td><td>-26</td><td>false</td><td>true</td><td>50</td><td>16.94</td><td>&quot;Samsung&quot;</td><td>false</td><td>11</td><td>3.3636363636363638</td><td>0.33880000000000005</td></tr><tr><td>873260</td><td>&quot;4.649933&quot;</td><td>50</td><td>503</td><td>-149</td><td>false</td><td>true</td><td>20</td><td>30.2</td><td>&quot;iPhone&quot;</td><td>true</td><td>354</td><td>1.42090395480226</td><td>1.51</td></tr><tr><td>109774</td><td>&quot;3.851059&quot;</td><td>47</td><td>331</td><td>-328</td><td>true</td><td>true</td><td>null</td><td>46.12</td><td>&quot;Samsung&quot;</td><td>false</td><td>3</td><td>110.33333333333333</td><td>null</td></tr><tr><td>&hellip;</td><td>&hellip;</td><td>&hellip;</td><td>&hellip;</td><td>&hellip;</td><td>&hellip;</td><td>&hellip;</td><td>&hellip;</td><td>&hellip;</td><td>&hellip;</td><td>&hellip;</td><td>&hellip;</td><td>&hellip;</td><td>&hellip;</td></tr><tr><td>502283</td><td>&quot;5.605022&quot;</td><td>88</td><td>1573</td><td>-576</td><td>false</td><td>false</td><td>10</td><td>34.18</td><td>&quot;Samsung&quot;</td><td>false</td><td>997</td><td>1.5777331995987964</td><td>3.418</td></tr><tr><td>618421</td><td>&quot;2.862063&quot;</td><td>85</td><td>1138</td><td>412</td><td>true</td><td>false</td><td>40</td><td>50.1</td><td>&quot;iPhone&quot;</td><td>false</td><td>1550</td><td>0.7341935483870968</td><td>1.2525</td></tr><tr><td>104422</td><td>&quot;2.414264&quot;</td><td>79</td><td>1709</td><td>-494</td><td>false</td><td>false</td><td>10</td><td>12.96</td><td>&quot;Samsung&quot;</td><td>false</td><td>1215</td><td>1.4065843621399177</td><td>1.296</td></tr><tr><td>642380</td><td>&quot;3.619106&quot;</td><td>84</td><td>1592</td><td>403</td><td>false</td><td>false</td><td>10</td><td>56.73</td><td>&quot;Samsung&quot;</td><td>false</td><td>1995</td><td>0.7979949874686717</td><td>5.673</td></tr><tr><td>620562</td><td>&quot;2.177584&quot;</td><td>88</td><td>1711</td><td>383</td><td>false</td><td>false</td><td>10</td><td>5</td><td>&quot;iPhone&quot;</td><td>false</td><td>2094</td><td>0.8170964660936008</td><td>0.5</td></tr></tbody></table></div>"
      ],
      "text/plain": [
       "shape: (100_000, 14)\n",
       "┌────────────┬────────────┬─────┬────────────┬───┬────────────┬────────────┬───────────┬───────────┐\n",
       "│ rating_acc ┆ customer_i ┆ age ┆ contract_l ┆ … ┆ has_done_u ┆ contract_b ┆ completio ┆ cost_per_ │\n",
       "│ ount_id    ┆ d          ┆ --- ┆ ifetime_da ┆   ┆ pselling   ┆ inding_day ┆ n_rate    ┆ gb        │\n",
       "│ ---        ┆ ---        ┆ i64 ┆ ys         ┆   ┆ ---        ┆ s          ┆ ---       ┆ ---       │\n",
       "│ i64        ┆ str        ┆     ┆ ---        ┆   ┆ bool       ┆ ---        ┆ f64       ┆ f64       │\n",
       "│            ┆            ┆     ┆ i64        ┆   ┆            ┆ i64        ┆           ┆           │\n",
       "╞════════════╪════════════╪═════╪════════════╪═══╪════════════╪════════════╪═══════════╪═══════════╡\n",
       "│ 289094     ┆ 4.161115   ┆ 36  ┆ 878        ┆ … ┆ false      ┆ 1203       ┆ 0.7298420 ┆ 3.5       │\n",
       "│            ┆            ┆     ┆            ┆   ┆            ┆            ┆ 615128844 ┆           │\n",
       "│ 677626     ┆ 2.429976   ┆ 34  ┆ 998        ┆ … ┆ false      ┆ 1612       ┆ 0.6191066 ┆ inf       │\n",
       "│            ┆            ┆     ┆            ┆   ┆            ┆            ┆ 997518611 ┆           │\n",
       "│ 769928     ┆ 3.875044   ┆ 36  ┆ 37         ┆ … ┆ false      ┆ 11         ┆ 3.3636363 ┆ 0.3388000 │\n",
       "│            ┆            ┆     ┆            ┆   ┆            ┆            ┆ 636363638 ┆ 000000000 │\n",
       "│            ┆            ┆     ┆            ┆   ┆            ┆            ┆           ┆ 5         │\n",
       "│ 873260     ┆ 4.649933   ┆ 50  ┆ 503        ┆ … ┆ true       ┆ 354        ┆ 1.4209039 ┆ 1.51      │\n",
       "│            ┆            ┆     ┆            ┆   ┆            ┆            ┆ 5480226   ┆           │\n",
       "│ 109774     ┆ 3.851059   ┆ 47  ┆ 331        ┆ … ┆ false      ┆ 3          ┆ 110.33333 ┆ null      │\n",
       "│            ┆            ┆     ┆            ┆   ┆            ┆            ┆ 333333333 ┆           │\n",
       "│ …          ┆ …          ┆ …   ┆ …          ┆ … ┆ …          ┆ …          ┆ …         ┆ …         │\n",
       "│ 502283     ┆ 5.605022   ┆ 88  ┆ 1573       ┆ … ┆ false      ┆ 997        ┆ 1.5777331 ┆ 3.418     │\n",
       "│            ┆            ┆     ┆            ┆   ┆            ┆            ┆ 995987964 ┆           │\n",
       "│ 618421     ┆ 2.862063   ┆ 85  ┆ 1138       ┆ … ┆ false      ┆ 1550       ┆ 0.7341935 ┆ 1.2525    │\n",
       "│            ┆            ┆     ┆            ┆   ┆            ┆            ┆ 483870968 ┆           │\n",
       "│ 104422     ┆ 2.414264   ┆ 79  ┆ 1709       ┆ … ┆ false      ┆ 1215       ┆ 1.4065843 ┆ 1.296     │\n",
       "│            ┆            ┆     ┆            ┆   ┆            ┆            ┆ 621399177 ┆           │\n",
       "│ 642380     ┆ 3.619106   ┆ 84  ┆ 1592       ┆ … ┆ false      ┆ 1995       ┆ 0.7979949 ┆ 5.673     │\n",
       "│            ┆            ┆     ┆            ┆   ┆            ┆            ┆ 874686717 ┆           │\n",
       "│ 620562     ┆ 2.177584   ┆ 88  ┆ 1711       ┆ … ┆ false      ┆ 2094       ┆ 0.8170964 ┆ 0.5       │\n",
       "│            ┆            ┆     ┆            ┆   ┆            ┆            ┆ 660936008 ┆           │\n",
       "└────────────┴────────────┴─────┴────────────┴───┴────────────┴────────────┴───────────┴───────────┘"
      ]
     },
     "execution_count": 26,
     "metadata": {},
     "output_type": "execute_result"
    }
   ],
   "source": [
    "core_data = core_data.with_columns(\n",
    "    pl.col('has_done_upselling').cast(pl.Boolean),\n",
    "    pl.col('has_special_offer').cast(pl.Boolean),\n",
    "    pl.col('is_magenta1_customer').cast(pl.Boolean)\n",
    ")\n",
    "\n",
    "core_data = core_data.with_columns(\n",
    "    (pl.col('contract_lifetime_days') + pl.col('remaining_binding_days')).alias('contract_binding_days'),\n",
    "    (pl.col('contract_lifetime_days') / (pl.col('contract_lifetime_days') + pl.col('remaining_binding_days'))).alias('completion_rate'),\n",
    "    (pl.col('gross_mrc') / pl.col('available_gb')).alias('cost_per_gb')\n",
    ")\n",
    "\n",
    "core_data"
   ]
  },
  {
   "cell_type": "code",
   "execution_count": 27,
   "id": "96386edf",
   "metadata": {},
   "outputs": [
    {
     "name": "stdout",
     "output_type": "stream",
     "text": [
      "The core_data has 100000 rows and 14 columns.\n",
      "\n",
      "The core_data has 58495 unique customers.\n",
      "The core_data has 100000 unique contracts.\n",
      "\n",
      "The core_data has 5 unique smartphone brands.\n",
      "\n",
      "The core_data has 29953(29.95%) contracts with special offers.\n",
      "\n",
      "The core_data has 29929(29.93%) Magenta1 contracts.\n",
      "\n",
      "The core_data has 8974(8.97%) contracts with both special offers and Magenta1.\n",
      "\n",
      "The core_data has a contract lifetime between 7 and 1825 days with an average of 778.61 days.\n",
      "\n",
      "The core_data has a remaining binding days between 1 and 730 days with an average of 275.906 days for still bindings.\n",
      "The core_data has 49938(49.94%) contracts with still bindings.\n",
      "\n",
      "The core_data has exceeded contract days between 1 and 730 days with an average of 275.910 days for not bound contracts.\n",
      "The core_data has 49863(49.86%) contracts with exceeded bindings.\n",
      "\n",
      "The core_data has a completion rate between 50.03% and 99.94% with an average of 73.19%.\n",
      "\n",
      "The core_data has a spending between 5.00 euros and 70.00 euros with an average of 37.54 euros.\n",
      "\n",
      "The core_data has a data volume between 0.00 GB and 50.00 GB with an average of 25.00 GB.\n",
      "The core_data has a cost per GB between 0.10 euros and 7.00 euros with an average of 1.72 euros.\n",
      "\n"
     ]
    }
   ],
   "source": [
    "n_customers = core_data.select(pl.col('customer_id')).unique().shape[0]\n",
    "n_contracts = core_data.select(pl.col('rating_account_id')).unique().shape[0]\n",
    "\n",
    "n_unique_smartphone_brands = core_data.select(pl.col('smartphone_brand')).n_unique()\n",
    "\n",
    "n_special_offer = core_data.filter(pl.col('has_special_offer')).shape[0]\n",
    "\n",
    "n_magenta1 = core_data.filter(pl.col('is_magenta1_customer')).shape[0]\n",
    "\n",
    "n_special_offer_and_magenta1 = core_data.filter(\n",
    "    pl.col('has_special_offer') & pl.col('is_magenta1_customer')\n",
    ").shape[0]\n",
    "\n",
    "min_lifetime = core_data.select(pl.col('contract_lifetime_days')).min().item()\n",
    "max_lifetime = core_data.select(pl.col('contract_lifetime_days')).max().item()\n",
    "avg_lifetime = core_data.select(pl.col('contract_lifetime_days')).mean().item()\n",
    "\n",
    "count_still_bindings = core_data.filter(pl.col('remaining_binding_days') > 0).shape[0]\n",
    "min_still_bindings = core_data.filter(pl.col('remaining_binding_days') > 0).select(pl.col('remaining_binding_days')).min().item()\n",
    "max_still_bindings = core_data.filter(pl.col('remaining_binding_days') > 0).select(pl.col('remaining_binding_days')).max().item()\n",
    "avg_still_bindings = core_data.filter(pl.col('remaining_binding_days') > 0).select(pl.col('remaining_binding_days')).mean().item()\n",
    "\n",
    "count_not_bound = core_data.filter(pl.col('remaining_binding_days') < 0).shape[0]\n",
    "min_not_bound = core_data.filter(pl.col('remaining_binding_days') < 0).select(pl.col('remaining_binding_days')).min().item()\n",
    "max_not_bound = core_data.filter(pl.col('remaining_binding_days') < 0).select(pl.col('remaining_binding_days')).max().item()\n",
    "avg_not_bound = core_data.filter(pl.col('remaining_binding_days') < 0).select(pl.col('remaining_binding_days')).mean().item()\n",
    "\n",
    "min_completion_rate = core_data.filter(pl.col('completion_rate') < 1.0).select(pl.col('completion_rate')).min().item()\n",
    "max_completion_rate = core_data.filter(pl.col('completion_rate') < 1.0).select(pl.col('completion_rate')).max().item()\n",
    "avg_completion_rate = core_data.filter(pl.col('completion_rate') < 1.0).select(pl.col('completion_rate')).mean().item()\n",
    "\n",
    "min_spending = core_data.select(pl.col('gross_mrc')).min().item()\n",
    "max_spending = core_data.select(pl.col('gross_mrc')).max().item()\n",
    "avg_spending = core_data.select(pl.col('gross_mrc')).mean().item()\n",
    "\n",
    "min_data = core_data.select(pl.col('available_gb')).min().item()\n",
    "max_data = core_data.select(pl.col('available_gb')).max().item()\n",
    "avg_data = core_data.select(pl.col('available_gb')).mean().item()\n",
    "\n",
    "min_cost_per_gb = core_data.select(pl.col('cost_per_gb')).min().item()\n",
    "max_cost_per_gb = core_data.filter(~pl.col('cost_per_gb').is_infinite()).select(pl.col('cost_per_gb')).max().item()\n",
    "avg_cost_per_gb = core_data.filter(~pl.col('cost_per_gb').is_infinite()).select(pl.col('cost_per_gb')).mean().item()\n",
    "\n",
    "\n",
    "\n",
    "print(f'The core_data has {core_data.shape[0]} rows and {core_data.shape[1]} columns.\\n')\n",
    "\n",
    "print(f'The core_data has {n_customers} unique customers.')\n",
    "print(f'The core_data has {n_contracts} unique contracts.\\n')\n",
    "\n",
    "print(f'The core_data has {n_unique_smartphone_brands} unique smartphone brands.\\n')\n",
    "\n",
    "print(f'The core_data has {n_special_offer}({n_special_offer / n_contracts * 100:.2f}%) contracts with special offers.\\n')\n",
    "\n",
    "print(f'The core_data has {n_magenta1}({n_magenta1 / n_contracts * 100:.2f}%) Magenta1 contracts.\\n')\n",
    "\n",
    "print(f'The core_data has {n_special_offer_and_magenta1}({n_special_offer_and_magenta1 / n_contracts * 100:.2f}%) contracts with both special offers and Magenta1.\\n')\n",
    "\n",
    "print(f'The core_data has a contract lifetime between {min_lifetime} and {max_lifetime} days with an average of {avg_lifetime:.2f} days.\\n')\n",
    "\n",
    "print(f'The core_data has a remaining binding days between {min_still_bindings} and {max_still_bindings} days with an average of {avg_still_bindings:.3f} days for still bindings.')\n",
    "print(f'The core_data has {count_still_bindings}({count_still_bindings / n_contracts * 100:.2f}%) contracts with still bindings.\\n')\n",
    "\n",
    "print(f'The core_data has exceeded contract days between {abs(max_not_bound)} and {abs(min_not_bound)} days with an average of {abs(avg_not_bound):.3f} days for not bound contracts.')\n",
    "print(f'The core_data has {count_not_bound}({count_not_bound / n_contracts * 100:.2f}%) contracts with exceeded bindings.\\n')\n",
    "\n",
    "print(f'The core_data has a completion rate between {min_completion_rate * 100:.2f}% and {max_completion_rate * 100:.2f}% with an average of {avg_completion_rate * 100:.2f}%.\\n')\n",
    "\n",
    "print(f'The core_data has a spending between {min_spending:.2f} euros and {max_spending:.2f} euros with an average of {avg_spending:.2f} euros.\\n')\n",
    "\n",
    "print(f'The core_data has a data volume between {min_data:.2f} GB and {max_data:.2f} GB with an average of {avg_data:.2f} GB.')\n",
    "print(f'The core_data has a cost per GB between {min_cost_per_gb:.2f} euros and {max_cost_per_gb:.2f} euros with an average of {avg_cost_per_gb:.2f} euros.\\n')"
   ]
  },
  {
   "cell_type": "code",
   "execution_count": null,
   "id": "6c7cfb48",
   "metadata": {},
   "outputs": [],
   "source": []
  },
  {
   "cell_type": "markdown",
   "id": "d0017843",
   "metadata": {},
   "source": [
    "Finding segment of the customer for target models"
   ]
  },
  {
   "cell_type": "code",
   "execution_count": 54,
   "id": "f0976e89",
   "metadata": {},
   "outputs": [
    {
     "data": {
      "application/vnd.plotly.v1+json": {
       "config": {
        "plotlyServerURL": "https://plot.ly"
       },
       "data": [
        {
         "bingroup": "x",
         "hovertemplate": "age=%{x}<br>count=%{y}<extra></extra>",
         "legendgroup": "",
         "marker": {
          "color": "#636efa",
          "pattern": {
           "shape": ""
          }
         },
         "name": "",
         "nbinsx": 40,
         "orientation": "v",
         "showlegend": false,
         "type": "histogram",
         "x": {
          "bdata": "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",
          "dtype": "i1"
         },
         "xaxis": "x",
         "yaxis": "y"
        }
       ],
       "layout": {
        "barmode": "relative",
        "legend": {
         "tracegroupgap": 0
        },
        "template": {
         "data": {
          "bar": [
           {
            "error_x": {
             "color": "#2a3f5f"
            },
            "error_y": {
             "color": "#2a3f5f"
            },
            "marker": {
             "line": {
              "color": "#E5ECF6",
              "width": 0.5
             },
             "pattern": {
              "fillmode": "overlay",
              "size": 10,
              "solidity": 0.2
             }
            },
            "type": "bar"
           }
          ],
          "barpolar": [
           {
            "marker": {
             "line": {
              "color": "#E5ECF6",
              "width": 0.5
             },
             "pattern": {
              "fillmode": "overlay",
              "size": 10,
              "solidity": 0.2
             }
            },
            "type": "barpolar"
           }
          ],
          "carpet": [
           {
            "aaxis": {
             "endlinecolor": "#2a3f5f",
             "gridcolor": "white",
             "linecolor": "white",
             "minorgridcolor": "white",
             "startlinecolor": "#2a3f5f"
            },
            "baxis": {
             "endlinecolor": "#2a3f5f",
             "gridcolor": "white",
             "linecolor": "white",
             "minorgridcolor": "white",
             "startlinecolor": "#2a3f5f"
            },
            "type": "carpet"
           }
          ],
          "choropleth": [
           {
            "colorbar": {
             "outlinewidth": 0,
             "ticks": ""
            },
            "type": "choropleth"
           }
          ],
          "contour": [
           {
            "colorbar": {
             "outlinewidth": 0,
             "ticks": ""
            },
            "colorscale": [
             [
              0,
              "#0d0887"
             ],
             [
              0.1111111111111111,
              "#46039f"
             ],
             [
              0.2222222222222222,
              "#7201a8"
             ],
             [
              0.3333333333333333,
              "#9c179e"
             ],
             [
              0.4444444444444444,
              "#bd3786"
             ],
             [
              0.5555555555555556,
              "#d8576b"
             ],
             [
              0.6666666666666666,
              "#ed7953"
             ],
             [
              0.7777777777777778,
              "#fb9f3a"
             ],
             [
              0.8888888888888888,
              "#fdca26"
             ],
             [
              1,
              "#f0f921"
             ]
            ],
            "type": "contour"
           }
          ],
          "contourcarpet": [
           {
            "colorbar": {
             "outlinewidth": 0,
             "ticks": ""
            },
            "type": "contourcarpet"
           }
          ],
          "heatmap": [
           {
            "colorbar": {
             "outlinewidth": 0,
             "ticks": ""
            },
            "colorscale": [
             [
              0,
              "#0d0887"
             ],
             [
              0.1111111111111111,
              "#46039f"
             ],
             [
              0.2222222222222222,
              "#7201a8"
             ],
             [
              0.3333333333333333,
              "#9c179e"
             ],
             [
              0.4444444444444444,
              "#bd3786"
             ],
             [
              0.5555555555555556,
              "#d8576b"
             ],
             [
              0.6666666666666666,
              "#ed7953"
             ],
             [
              0.7777777777777778,
              "#fb9f3a"
             ],
             [
              0.8888888888888888,
              "#fdca26"
             ],
             [
              1,
              "#f0f921"
             ]
            ],
            "type": "heatmap"
           }
          ],
          "histogram": [
           {
            "marker": {
             "pattern": {
              "fillmode": "overlay",
              "size": 10,
              "solidity": 0.2
             }
            },
            "type": "histogram"
           }
          ],
          "histogram2d": [
           {
            "colorbar": {
             "outlinewidth": 0,
             "ticks": ""
            },
            "colorscale": [
             [
              0,
              "#0d0887"
             ],
             [
              0.1111111111111111,
              "#46039f"
             ],
             [
              0.2222222222222222,
              "#7201a8"
             ],
             [
              0.3333333333333333,
              "#9c179e"
             ],
             [
              0.4444444444444444,
              "#bd3786"
             ],
             [
              0.5555555555555556,
              "#d8576b"
             ],
             [
              0.6666666666666666,
              "#ed7953"
             ],
             [
              0.7777777777777778,
              "#fb9f3a"
             ],
             [
              0.8888888888888888,
              "#fdca26"
             ],
             [
              1,
              "#f0f921"
             ]
            ],
            "type": "histogram2d"
           }
          ],
          "histogram2dcontour": [
           {
            "colorbar": {
             "outlinewidth": 0,
             "ticks": ""
            },
            "colorscale": [
             [
              0,
              "#0d0887"
             ],
             [
              0.1111111111111111,
              "#46039f"
             ],
             [
              0.2222222222222222,
              "#7201a8"
             ],
             [
              0.3333333333333333,
              "#9c179e"
             ],
             [
              0.4444444444444444,
              "#bd3786"
             ],
             [
              0.5555555555555556,
              "#d8576b"
             ],
             [
              0.6666666666666666,
              "#ed7953"
             ],
             [
              0.7777777777777778,
              "#fb9f3a"
             ],
             [
              0.8888888888888888,
              "#fdca26"
             ],
             [
              1,
              "#f0f921"
             ]
            ],
            "type": "histogram2dcontour"
           }
          ],
          "mesh3d": [
           {
            "colorbar": {
             "outlinewidth": 0,
             "ticks": ""
            },
            "type": "mesh3d"
           }
          ],
          "parcoords": [
           {
            "line": {
             "colorbar": {
              "outlinewidth": 0,
              "ticks": ""
             }
            },
            "type": "parcoords"
           }
          ],
          "pie": [
           {
            "automargin": true,
            "type": "pie"
           }
          ],
          "scatter": [
           {
            "fillpattern": {
             "fillmode": "overlay",
             "size": 10,
             "solidity": 0.2
            },
            "type": "scatter"
           }
          ],
          "scatter3d": [
           {
            "line": {
             "colorbar": {
              "outlinewidth": 0,
              "ticks": ""
             }
            },
            "marker": {
             "colorbar": {
              "outlinewidth": 0,
              "ticks": ""
             }
            },
            "type": "scatter3d"
           }
          ],
          "scattercarpet": [
           {
            "marker": {
             "colorbar": {
              "outlinewidth": 0,
              "ticks": ""
             }
            },
            "type": "scattercarpet"
           }
          ],
          "scattergeo": [
           {
            "marker": {
             "colorbar": {
              "outlinewidth": 0,
              "ticks": ""
             }
            },
            "type": "scattergeo"
           }
          ],
          "scattergl": [
           {
            "marker": {
             "colorbar": {
              "outlinewidth": 0,
              "ticks": ""
             }
            },
            "type": "scattergl"
           }
          ],
          "scattermap": [
           {
            "marker": {
             "colorbar": {
              "outlinewidth": 0,
              "ticks": ""
             }
            },
            "type": "scattermap"
           }
          ],
          "scattermapbox": [
           {
            "marker": {
             "colorbar": {
              "outlinewidth": 0,
              "ticks": ""
             }
            },
            "type": "scattermapbox"
           }
          ],
          "scatterpolar": [
           {
            "marker": {
             "colorbar": {
              "outlinewidth": 0,
              "ticks": ""
             }
            },
            "type": "scatterpolar"
           }
          ],
          "scatterpolargl": [
           {
            "marker": {
             "colorbar": {
              "outlinewidth": 0,
              "ticks": ""
             }
            },
            "type": "scatterpolargl"
           }
          ],
          "scatterternary": [
           {
            "marker": {
             "colorbar": {
              "outlinewidth": 0,
              "ticks": ""
             }
            },
            "type": "scatterternary"
           }
          ],
          "surface": [
           {
            "colorbar": {
             "outlinewidth": 0,
             "ticks": ""
            },
            "colorscale": [
             [
              0,
              "#0d0887"
             ],
             [
              0.1111111111111111,
              "#46039f"
             ],
             [
              0.2222222222222222,
              "#7201a8"
             ],
             [
              0.3333333333333333,
              "#9c179e"
             ],
             [
              0.4444444444444444,
              "#bd3786"
             ],
             [
              0.5555555555555556,
              "#d8576b"
             ],
             [
              0.6666666666666666,
              "#ed7953"
             ],
             [
              0.7777777777777778,
              "#fb9f3a"
             ],
             [
              0.8888888888888888,
              "#fdca26"
             ],
             [
              1,
              "#f0f921"
             ]
            ],
            "type": "surface"
           }
          ],
          "table": [
           {
            "cells": {
             "fill": {
              "color": "#EBF0F8"
             },
             "line": {
              "color": "white"
             }
            },
            "header": {
             "fill": {
              "color": "#C8D4E3"
             },
             "line": {
              "color": "white"
             }
            },
            "type": "table"
           }
          ]
         },
         "layout": {
          "annotationdefaults": {
           "arrowcolor": "#2a3f5f",
           "arrowhead": 0,
           "arrowwidth": 1
          },
          "autotypenumbers": "strict",
          "coloraxis": {
           "colorbar": {
            "outlinewidth": 0,
            "ticks": ""
           }
          },
          "colorscale": {
           "diverging": [
            [
             0,
             "#8e0152"
            ],
            [
             0.1,
             "#c51b7d"
            ],
            [
             0.2,
             "#de77ae"
            ],
            [
             0.3,
             "#f1b6da"
            ],
            [
             0.4,
             "#fde0ef"
            ],
            [
             0.5,
             "#f7f7f7"
            ],
            [
             0.6,
             "#e6f5d0"
            ],
            [
             0.7,
             "#b8e186"
            ],
            [
             0.8,
             "#7fbc41"
            ],
            [
             0.9,
             "#4d9221"
            ],
            [
             1,
             "#276419"
            ]
           ],
           "sequential": [
            [
             0,
             "#0d0887"
            ],
            [
             0.1111111111111111,
             "#46039f"
            ],
            [
             0.2222222222222222,
             "#7201a8"
            ],
            [
             0.3333333333333333,
             "#9c179e"
            ],
            [
             0.4444444444444444,
             "#bd3786"
            ],
            [
             0.5555555555555556,
             "#d8576b"
            ],
            [
             0.6666666666666666,
             "#ed7953"
            ],
            [
             0.7777777777777778,
             "#fb9f3a"
            ],
            [
             0.8888888888888888,
             "#fdca26"
            ],
            [
             1,
             "#f0f921"
            ]
           ],
           "sequentialminus": [
            [
             0,
             "#0d0887"
            ],
            [
             0.1111111111111111,
             "#46039f"
            ],
            [
             0.2222222222222222,
             "#7201a8"
            ],
            [
             0.3333333333333333,
             "#9c179e"
            ],
            [
             0.4444444444444444,
             "#bd3786"
            ],
            [
             0.5555555555555556,
             "#d8576b"
            ],
            [
             0.6666666666666666,
             "#ed7953"
            ],
            [
             0.7777777777777778,
             "#fb9f3a"
            ],
            [
             0.8888888888888888,
             "#fdca26"
            ],
            [
             1,
             "#f0f921"
            ]
           ]
          },
          "colorway": [
           "#636efa",
           "#EF553B",
           "#00cc96",
           "#ab63fa",
           "#FFA15A",
           "#19d3f3",
           "#FF6692",
           "#B6E880",
           "#FF97FF",
           "#FECB52"
          ],
          "font": {
           "color": "#2a3f5f"
          },
          "geo": {
           "bgcolor": "white",
           "lakecolor": "white",
           "landcolor": "#E5ECF6",
           "showlakes": true,
           "showland": true,
           "subunitcolor": "white"
          },
          "hoverlabel": {
           "align": "left"
          },
          "hovermode": "closest",
          "mapbox": {
           "style": "light"
          },
          "paper_bgcolor": "white",
          "plot_bgcolor": "#E5ECF6",
          "polar": {
           "angularaxis": {
            "gridcolor": "white",
            "linecolor": "white",
            "ticks": ""
           },
           "bgcolor": "#E5ECF6",
           "radialaxis": {
            "gridcolor": "white",
            "linecolor": "white",
            "ticks": ""
           }
          },
          "scene": {
           "xaxis": {
            "backgroundcolor": "#E5ECF6",
            "gridcolor": "white",
            "gridwidth": 2,
            "linecolor": "white",
            "showbackground": true,
            "ticks": "",
            "zerolinecolor": "white"
           },
           "yaxis": {
            "backgroundcolor": "#E5ECF6",
            "gridcolor": "white",
            "gridwidth": 2,
            "linecolor": "white",
            "showbackground": true,
            "ticks": "",
            "zerolinecolor": "white"
           },
           "zaxis": {
            "backgroundcolor": "#E5ECF6",
            "gridcolor": "white",
            "gridwidth": 2,
            "linecolor": "white",
            "showbackground": true,
            "ticks": "",
            "zerolinecolor": "white"
           }
          },
          "shapedefaults": {
           "line": {
            "color": "#2a3f5f"
           }
          },
          "ternary": {
           "aaxis": {
            "gridcolor": "white",
            "linecolor": "white",
            "ticks": ""
           },
           "baxis": {
            "gridcolor": "white",
            "linecolor": "white",
            "ticks": ""
           },
           "bgcolor": "#E5ECF6",
           "caxis": {
            "gridcolor": "white",
            "linecolor": "white",
            "ticks": ""
           }
          },
          "title": {
           "x": 0.05
          },
          "xaxis": {
           "automargin": true,
           "gridcolor": "white",
           "linecolor": "white",
           "ticks": "",
           "title": {
            "standoff": 15
           },
           "zerolinecolor": "white",
           "zerolinewidth": 2
          },
          "yaxis": {
           "automargin": true,
           "gridcolor": "white",
           "linecolor": "white",
           "ticks": "",
           "title": {
            "standoff": 15
           },
           "zerolinecolor": "white",
           "zerolinewidth": 2
          }
         }
        },
        "title": {
         "text": "Distribution of Age"
        },
        "xaxis": {
         "anchor": "y",
         "domain": [
          0,
          1
         ],
         "title": {
          "text": "Age"
         }
        },
        "yaxis": {
         "anchor": "x",
         "domain": [
          0,
          1
         ],
         "title": {
          "text": "Count"
         }
        }
       }
      }
     },
     "metadata": {},
     "output_type": "display_data"
    }
   ],
   "source": [
    "fig = px.histogram(core_data, x=\"age\", nbins=40, title=\"Distribution of Age\")\n",
    "fig.update_layout(xaxis_title=\"Age\", yaxis_title=\"Count\")\n",
    "fig.show()"
   ]
  },
  {
   "cell_type": "code",
   "execution_count": 55,
   "id": "14d09c5c",
   "metadata": {},
   "outputs": [
    {
     "data": {
      "application/vnd.plotly.v1+json": {
       "config": {
        "plotlyServerURL": "https://plot.ly"
       },
       "data": [
        {
         "hovertemplate": "variable=positive<br>bin=%{x}<br>value=%{y}<extra></extra>",
         "legendgroup": "positive",
         "marker": {
          "color": "#636efa",
          "pattern": {
           "shape": ""
          }
         },
         "name": "positive",
         "orientation": "v",
         "showlegend": true,
         "textposition": "auto",
         "type": "bar",
         "x": [
          "+100",
          "18-24",
          "25-34",
          "35-44",
          "45-54",
          "55-64",
          "65-74",
          "75-84",
          "85-94",
          "95-100"
         ],
         "xaxis": "x",
         "y": {
          "bdata": "DQAAAPcBAACgBAAAmwsAABcHAABWAQAACgAAAFoAAABQAAAAKQAAAA==",
          "dtype": "u4"
         },
         "yaxis": "y"
        },
        {
         "hovertemplate": "variable=negative<br>bin=%{x}<br>value=%{y}<extra></extra>",
         "legendgroup": "negative",
         "marker": {
          "color": "#EF553B",
          "pattern": {
           "shape": ""
          }
         },
         "name": "negative",
         "orientation": "v",
         "showlegend": true,
         "textposition": "auto",
         "type": "bar",
         "x": [
          "+100",
          "18-24",
          "25-34",
          "35-44",
          "45-54",
          "55-64",
          "65-74",
          "75-84",
          "85-94",
          "95-100"
         ],
         "xaxis": "x",
         "y": {
          "bdata": "kwAAAOkWAAAgNQAAzHgAAGt9AACKFQAApQAAAF4HAABFBwAAcgMAAA==",
          "dtype": "u4"
         },
         "yaxis": "y"
        }
       ],
       "layout": {
        "barmode": "relative",
        "legend": {
         "title": {
          "text": "variable"
         },
         "tracegroupgap": 0
        },
        "template": {
         "data": {
          "bar": [
           {
            "error_x": {
             "color": "#2a3f5f"
            },
            "error_y": {
             "color": "#2a3f5f"
            },
            "marker": {
             "line": {
              "color": "#E5ECF6",
              "width": 0.5
             },
             "pattern": {
              "fillmode": "overlay",
              "size": 10,
              "solidity": 0.2
             }
            },
            "type": "bar"
           }
          ],
          "barpolar": [
           {
            "marker": {
             "line": {
              "color": "#E5ECF6",
              "width": 0.5
             },
             "pattern": {
              "fillmode": "overlay",
              "size": 10,
              "solidity": 0.2
             }
            },
            "type": "barpolar"
           }
          ],
          "carpet": [
           {
            "aaxis": {
             "endlinecolor": "#2a3f5f",
             "gridcolor": "white",
             "linecolor": "white",
             "minorgridcolor": "white",
             "startlinecolor": "#2a3f5f"
            },
            "baxis": {
             "endlinecolor": "#2a3f5f",
             "gridcolor": "white",
             "linecolor": "white",
             "minorgridcolor": "white",
             "startlinecolor": "#2a3f5f"
            },
            "type": "carpet"
           }
          ],
          "choropleth": [
           {
            "colorbar": {
             "outlinewidth": 0,
             "ticks": ""
            },
            "type": "choropleth"
           }
          ],
          "contour": [
           {
            "colorbar": {
             "outlinewidth": 0,
             "ticks": ""
            },
            "colorscale": [
             [
              0,
              "#0d0887"
             ],
             [
              0.1111111111111111,
              "#46039f"
             ],
             [
              0.2222222222222222,
              "#7201a8"
             ],
             [
              0.3333333333333333,
              "#9c179e"
             ],
             [
              0.4444444444444444,
              "#bd3786"
             ],
             [
              0.5555555555555556,
              "#d8576b"
             ],
             [
              0.6666666666666666,
              "#ed7953"
             ],
             [
              0.7777777777777778,
              "#fb9f3a"
             ],
             [
              0.8888888888888888,
              "#fdca26"
             ],
             [
              1,
              "#f0f921"
             ]
            ],
            "type": "contour"
           }
          ],
          "contourcarpet": [
           {
            "colorbar": {
             "outlinewidth": 0,
             "ticks": ""
            },
            "type": "contourcarpet"
           }
          ],
          "heatmap": [
           {
            "colorbar": {
             "outlinewidth": 0,
             "ticks": ""
            },
            "colorscale": [
             [
              0,
              "#0d0887"
             ],
             [
              0.1111111111111111,
              "#46039f"
             ],
             [
              0.2222222222222222,
              "#7201a8"
             ],
             [
              0.3333333333333333,
              "#9c179e"
             ],
             [
              0.4444444444444444,
              "#bd3786"
             ],
             [
              0.5555555555555556,
              "#d8576b"
             ],
             [
              0.6666666666666666,
              "#ed7953"
             ],
             [
              0.7777777777777778,
              "#fb9f3a"
             ],
             [
              0.8888888888888888,
              "#fdca26"
             ],
             [
              1,
              "#f0f921"
             ]
            ],
            "type": "heatmap"
           }
          ],
          "histogram": [
           {
            "marker": {
             "pattern": {
              "fillmode": "overlay",
              "size": 10,
              "solidity": 0.2
             }
            },
            "type": "histogram"
           }
          ],
          "histogram2d": [
           {
            "colorbar": {
             "outlinewidth": 0,
             "ticks": ""
            },
            "colorscale": [
             [
              0,
              "#0d0887"
             ],
             [
              0.1111111111111111,
              "#46039f"
             ],
             [
              0.2222222222222222,
              "#7201a8"
             ],
             [
              0.3333333333333333,
              "#9c179e"
             ],
             [
              0.4444444444444444,
              "#bd3786"
             ],
             [
              0.5555555555555556,
              "#d8576b"
             ],
             [
              0.6666666666666666,
              "#ed7953"
             ],
             [
              0.7777777777777778,
              "#fb9f3a"
             ],
             [
              0.8888888888888888,
              "#fdca26"
             ],
             [
              1,
              "#f0f921"
             ]
            ],
            "type": "histogram2d"
           }
          ],
          "histogram2dcontour": [
           {
            "colorbar": {
             "outlinewidth": 0,
             "ticks": ""
            },
            "colorscale": [
             [
              0,
              "#0d0887"
             ],
             [
              0.1111111111111111,
              "#46039f"
             ],
             [
              0.2222222222222222,
              "#7201a8"
             ],
             [
              0.3333333333333333,
              "#9c179e"
             ],
             [
              0.4444444444444444,
              "#bd3786"
             ],
             [
              0.5555555555555556,
              "#d8576b"
             ],
             [
              0.6666666666666666,
              "#ed7953"
             ],
             [
              0.7777777777777778,
              "#fb9f3a"
             ],
             [
              0.8888888888888888,
              "#fdca26"
             ],
             [
              1,
              "#f0f921"
             ]
            ],
            "type": "histogram2dcontour"
           }
          ],
          "mesh3d": [
           {
            "colorbar": {
             "outlinewidth": 0,
             "ticks": ""
            },
            "type": "mesh3d"
           }
          ],
          "parcoords": [
           {
            "line": {
             "colorbar": {
              "outlinewidth": 0,
              "ticks": ""
             }
            },
            "type": "parcoords"
           }
          ],
          "pie": [
           {
            "automargin": true,
            "type": "pie"
           }
          ],
          "scatter": [
           {
            "fillpattern": {
             "fillmode": "overlay",
             "size": 10,
             "solidity": 0.2
            },
            "type": "scatter"
           }
          ],
          "scatter3d": [
           {
            "line": {
             "colorbar": {
              "outlinewidth": 0,
              "ticks": ""
             }
            },
            "marker": {
             "colorbar": {
              "outlinewidth": 0,
              "ticks": ""
             }
            },
            "type": "scatter3d"
           }
          ],
          "scattercarpet": [
           {
            "marker": {
             "colorbar": {
              "outlinewidth": 0,
              "ticks": ""
             }
            },
            "type": "scattercarpet"
           }
          ],
          "scattergeo": [
           {
            "marker": {
             "colorbar": {
              "outlinewidth": 0,
              "ticks": ""
             }
            },
            "type": "scattergeo"
           }
          ],
          "scattergl": [
           {
            "marker": {
             "colorbar": {
              "outlinewidth": 0,
              "ticks": ""
             }
            },
            "type": "scattergl"
           }
          ],
          "scattermap": [
           {
            "marker": {
             "colorbar": {
              "outlinewidth": 0,
              "ticks": ""
             }
            },
            "type": "scattermap"
           }
          ],
          "scattermapbox": [
           {
            "marker": {
             "colorbar": {
              "outlinewidth": 0,
              "ticks": ""
             }
            },
            "type": "scattermapbox"
           }
          ],
          "scatterpolar": [
           {
            "marker": {
             "colorbar": {
              "outlinewidth": 0,
              "ticks": ""
             }
            },
            "type": "scatterpolar"
           }
          ],
          "scatterpolargl": [
           {
            "marker": {
             "colorbar": {
              "outlinewidth": 0,
              "ticks": ""
             }
            },
            "type": "scatterpolargl"
           }
          ],
          "scatterternary": [
           {
            "marker": {
             "colorbar": {
              "outlinewidth": 0,
              "ticks": ""
             }
            },
            "type": "scatterternary"
           }
          ],
          "surface": [
           {
            "colorbar": {
             "outlinewidth": 0,
             "ticks": ""
            },
            "colorscale": [
             [
              0,
              "#0d0887"
             ],
             [
              0.1111111111111111,
              "#46039f"
             ],
             [
              0.2222222222222222,
              "#7201a8"
             ],
             [
              0.3333333333333333,
              "#9c179e"
             ],
             [
              0.4444444444444444,
              "#bd3786"
             ],
             [
              0.5555555555555556,
              "#d8576b"
             ],
             [
              0.6666666666666666,
              "#ed7953"
             ],
             [
              0.7777777777777778,
              "#fb9f3a"
             ],
             [
              0.8888888888888888,
              "#fdca26"
             ],
             [
              1,
              "#f0f921"
             ]
            ],
            "type": "surface"
           }
          ],
          "table": [
           {
            "cells": {
             "fill": {
              "color": "#EBF0F8"
             },
             "line": {
              "color": "white"
             }
            },
            "header": {
             "fill": {
              "color": "#C8D4E3"
             },
             "line": {
              "color": "white"
             }
            },
            "type": "table"
           }
          ]
         },
         "layout": {
          "annotationdefaults": {
           "arrowcolor": "#2a3f5f",
           "arrowhead": 0,
           "arrowwidth": 1
          },
          "autotypenumbers": "strict",
          "coloraxis": {
           "colorbar": {
            "outlinewidth": 0,
            "ticks": ""
           }
          },
          "colorscale": {
           "diverging": [
            [
             0,
             "#8e0152"
            ],
            [
             0.1,
             "#c51b7d"
            ],
            [
             0.2,
             "#de77ae"
            ],
            [
             0.3,
             "#f1b6da"
            ],
            [
             0.4,
             "#fde0ef"
            ],
            [
             0.5,
             "#f7f7f7"
            ],
            [
             0.6,
             "#e6f5d0"
            ],
            [
             0.7,
             "#b8e186"
            ],
            [
             0.8,
             "#7fbc41"
            ],
            [
             0.9,
             "#4d9221"
            ],
            [
             1,
             "#276419"
            ]
           ],
           "sequential": [
            [
             0,
             "#0d0887"
            ],
            [
             0.1111111111111111,
             "#46039f"
            ],
            [
             0.2222222222222222,
             "#7201a8"
            ],
            [
             0.3333333333333333,
             "#9c179e"
            ],
            [
             0.4444444444444444,
             "#bd3786"
            ],
            [
             0.5555555555555556,
             "#d8576b"
            ],
            [
             0.6666666666666666,
             "#ed7953"
            ],
            [
             0.7777777777777778,
             "#fb9f3a"
            ],
            [
             0.8888888888888888,
             "#fdca26"
            ],
            [
             1,
             "#f0f921"
            ]
           ],
           "sequentialminus": [
            [
             0,
             "#0d0887"
            ],
            [
             0.1111111111111111,
             "#46039f"
            ],
            [
             0.2222222222222222,
             "#7201a8"
            ],
            [
             0.3333333333333333,
             "#9c179e"
            ],
            [
             0.4444444444444444,
             "#bd3786"
            ],
            [
             0.5555555555555556,
             "#d8576b"
            ],
            [
             0.6666666666666666,
             "#ed7953"
            ],
            [
             0.7777777777777778,
             "#fb9f3a"
            ],
            [
             0.8888888888888888,
             "#fdca26"
            ],
            [
             1,
             "#f0f921"
            ]
           ]
          },
          "colorway": [
           "#636efa",
           "#EF553B",
           "#00cc96",
           "#ab63fa",
           "#FFA15A",
           "#19d3f3",
           "#FF6692",
           "#B6E880",
           "#FF97FF",
           "#FECB52"
          ],
          "font": {
           "color": "#2a3f5f"
          },
          "geo": {
           "bgcolor": "white",
           "lakecolor": "white",
           "landcolor": "#E5ECF6",
           "showlakes": true,
           "showland": true,
           "subunitcolor": "white"
          },
          "hoverlabel": {
           "align": "left"
          },
          "hovermode": "closest",
          "mapbox": {
           "style": "light"
          },
          "paper_bgcolor": "white",
          "plot_bgcolor": "#E5ECF6",
          "polar": {
           "angularaxis": {
            "gridcolor": "white",
            "linecolor": "white",
            "ticks": ""
           },
           "bgcolor": "#E5ECF6",
           "radialaxis": {
            "gridcolor": "white",
            "linecolor": "white",
            "ticks": ""
           }
          },
          "scene": {
           "xaxis": {
            "backgroundcolor": "#E5ECF6",
            "gridcolor": "white",
            "gridwidth": 2,
            "linecolor": "white",
            "showbackground": true,
            "ticks": "",
            "zerolinecolor": "white"
           },
           "yaxis": {
            "backgroundcolor": "#E5ECF6",
            "gridcolor": "white",
            "gridwidth": 2,
            "linecolor": "white",
            "showbackground": true,
            "ticks": "",
            "zerolinecolor": "white"
           },
           "zaxis": {
            "backgroundcolor": "#E5ECF6",
            "gridcolor": "white",
            "gridwidth": 2,
            "linecolor": "white",
            "showbackground": true,
            "ticks": "",
            "zerolinecolor": "white"
           }
          },
          "shapedefaults": {
           "line": {
            "color": "#2a3f5f"
           }
          },
          "ternary": {
           "aaxis": {
            "gridcolor": "white",
            "linecolor": "white",
            "ticks": ""
           },
           "baxis": {
            "gridcolor": "white",
            "linecolor": "white",
            "ticks": ""
           },
           "bgcolor": "#E5ECF6",
           "caxis": {
            "gridcolor": "white",
            "linecolor": "white",
            "ticks": ""
           }
          },
          "title": {
           "x": 0.05
          },
          "xaxis": {
           "automargin": true,
           "gridcolor": "white",
           "linecolor": "white",
           "ticks": "",
           "title": {
            "standoff": 15
           },
           "zerolinecolor": "white",
           "zerolinewidth": 2
          },
          "yaxis": {
           "automargin": true,
           "gridcolor": "white",
           "linecolor": "white",
           "ticks": "",
           "title": {
            "standoff": 15
           },
           "zerolinecolor": "white",
           "zerolinewidth": 2
          }
         }
        },
        "title": {
         "text": "Distribution upselling customers by age"
        },
        "xaxis": {
         "anchor": "y",
         "domain": [
          0,
          1
         ],
         "title": {
          "text": "bin"
         }
        },
        "yaxis": {
         "anchor": "x",
         "domain": [
          0,
          1
         ],
         "title": {
          "text": "value"
         }
        }
       }
      }
     },
     "metadata": {},
     "output_type": "display_data"
    }
   ],
   "source": [
    "# Define bin edges and labels\n",
    "bins = [18, 25, 35, 45, 55, 65, 75, 85, 95, 100]\n",
    "labels = [\n",
    "    \"18-24\", \"25-34\", \"35-44\", \"45-54\", \"55-64\",\n",
    "    \"65-74\", \"75-84\", \"85-94\", \"95-100\"\n",
    "]\n",
    "\n",
    "binned_age_upselling = core_data.with_columns(\n",
    "        pl.when(pl.col(\"age\") < 18).then(pl.lit('18-'))\n",
    "        .otherwise(pl.lit('+100'))\n",
    "        .alias(\"bin\")\n",
    ")\n",
    "\n",
    "for i in range(len(bins)-1):\n",
    "    binned_age_upselling = binned_age_upselling.with_columns(\n",
    "        pl.when(pl.col(\"age\").is_between(bins[i], bins[i+1], closed=\"left\")).then(pl.lit(labels[i]))\n",
    "        .otherwise(pl.col('bin'))\n",
    "        .alias(\"bin\")\n",
    ")\n",
    "    \n",
    "# Group by bin and aggregate\n",
    "binned_age_upselling = binned_age_upselling.group_by(\"bin\").agg(\n",
    "    pl.len().alias(\"count\"),\n",
    "    (pl.col(\"has_done_upselling\") == True).sum().alias(\"positive\"),\n",
    "    (pl.col(\"has_done_upselling\") == False).sum().alias(\"negative\"),\n",
    ").sort('bin')\n",
    "\n",
    "fig = px.bar(binned_age_upselling, x=\"bin\", y=['positive', 'negative'], title='Distribution upselling customers by age')\n",
    "fig.show()"
   ]
  },
  {
   "cell_type": "code",
   "execution_count": null,
   "id": "aa12d145",
   "metadata": {},
   "outputs": [],
   "source": []
  },
  {
   "cell_type": "code",
   "execution_count": 59,
   "id": "96719828",
   "metadata": {},
   "outputs": [
    {
     "data": {
      "application/vnd.plotly.v1+json": {
       "config": {
        "plotlyServerURL": "https://plot.ly"
       },
       "data": [
        {
         "bingroup": "x",
         "hovertemplate": "contract_lifetime_days=%{x}<br>count=%{y}<extra></extra>",
         "legendgroup": "",
         "marker": {
          "color": "#636efa",
          "pattern": {
           "shape": ""
          }
         },
         "name": "",
         "nbinsx": 300,
         "orientation": "v",
         "showlegend": false,
         "type": "histogram",
         "x": {
          "bdata": "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",
          "dtype": "i2"
         },
         "xaxis": "x",
         "yaxis": "y"
        }
       ],
       "layout": {
        "barmode": "relative",
        "legend": {
         "tracegroupgap": 0
        },
        "template": {
         "data": {
          "bar": [
           {
            "error_x": {
             "color": "#2a3f5f"
            },
            "error_y": {
             "color": "#2a3f5f"
            },
            "marker": {
             "line": {
              "color": "#E5ECF6",
              "width": 0.5
             },
             "pattern": {
              "fillmode": "overlay",
              "size": 10,
              "solidity": 0.2
             }
            },
            "type": "bar"
           }
          ],
          "barpolar": [
           {
            "marker": {
             "line": {
              "color": "#E5ECF6",
              "width": 0.5
             },
             "pattern": {
              "fillmode": "overlay",
              "size": 10,
              "solidity": 0.2
             }
            },
            "type": "barpolar"
           }
          ],
          "carpet": [
           {
            "aaxis": {
             "endlinecolor": "#2a3f5f",
             "gridcolor": "white",
             "linecolor": "white",
             "minorgridcolor": "white",
             "startlinecolor": "#2a3f5f"
            },
            "baxis": {
             "endlinecolor": "#2a3f5f",
             "gridcolor": "white",
             "linecolor": "white",
             "minorgridcolor": "white",
             "startlinecolor": "#2a3f5f"
            },
            "type": "carpet"
           }
          ],
          "choropleth": [
           {
            "colorbar": {
             "outlinewidth": 0,
             "ticks": ""
            },
            "type": "choropleth"
           }
          ],
          "contour": [
           {
            "colorbar": {
             "outlinewidth": 0,
             "ticks": ""
            },
            "colorscale": [
             [
              0,
              "#0d0887"
             ],
             [
              0.1111111111111111,
              "#46039f"
             ],
             [
              0.2222222222222222,
              "#7201a8"
             ],
             [
              0.3333333333333333,
              "#9c179e"
             ],
             [
              0.4444444444444444,
              "#bd3786"
             ],
             [
              0.5555555555555556,
              "#d8576b"
             ],
             [
              0.6666666666666666,
              "#ed7953"
             ],
             [
              0.7777777777777778,
              "#fb9f3a"
             ],
             [
              0.8888888888888888,
              "#fdca26"
             ],
             [
              1,
              "#f0f921"
             ]
            ],
            "type": "contour"
           }
          ],
          "contourcarpet": [
           {
            "colorbar": {
             "outlinewidth": 0,
             "ticks": ""
            },
            "type": "contourcarpet"
           }
          ],
          "heatmap": [
           {
            "colorbar": {
             "outlinewidth": 0,
             "ticks": ""
            },
            "colorscale": [
             [
              0,
              "#0d0887"
             ],
             [
              0.1111111111111111,
              "#46039f"
             ],
             [
              0.2222222222222222,
              "#7201a8"
             ],
             [
              0.3333333333333333,
              "#9c179e"
             ],
             [
              0.4444444444444444,
              "#bd3786"
             ],
             [
              0.5555555555555556,
              "#d8576b"
             ],
             [
              0.6666666666666666,
              "#ed7953"
             ],
             [
              0.7777777777777778,
              "#fb9f3a"
             ],
             [
              0.8888888888888888,
              "#fdca26"
             ],
             [
              1,
              "#f0f921"
             ]
            ],
            "type": "heatmap"
           }
          ],
          "histogram": [
           {
            "marker": {
             "pattern": {
              "fillmode": "overlay",
              "size": 10,
              "solidity": 0.2
             }
            },
            "type": "histogram"
           }
          ],
          "histogram2d": [
           {
            "colorbar": {
             "outlinewidth": 0,
             "ticks": ""
            },
            "colorscale": [
             [
              0,
              "#0d0887"
             ],
             [
              0.1111111111111111,
              "#46039f"
             ],
             [
              0.2222222222222222,
              "#7201a8"
             ],
             [
              0.3333333333333333,
              "#9c179e"
             ],
             [
              0.4444444444444444,
              "#bd3786"
             ],
             [
              0.5555555555555556,
              "#d8576b"
             ],
             [
              0.6666666666666666,
              "#ed7953"
             ],
             [
              0.7777777777777778,
              "#fb9f3a"
             ],
             [
              0.8888888888888888,
              "#fdca26"
             ],
             [
              1,
              "#f0f921"
             ]
            ],
            "type": "histogram2d"
           }
          ],
          "histogram2dcontour": [
           {
            "colorbar": {
             "outlinewidth": 0,
             "ticks": ""
            },
            "colorscale": [
             [
              0,
              "#0d0887"
             ],
             [
              0.1111111111111111,
              "#46039f"
             ],
             [
              0.2222222222222222,
              "#7201a8"
             ],
             [
              0.3333333333333333,
              "#9c179e"
             ],
             [
              0.4444444444444444,
              "#bd3786"
             ],
             [
              0.5555555555555556,
              "#d8576b"
             ],
             [
              0.6666666666666666,
              "#ed7953"
             ],
             [
              0.7777777777777778,
              "#fb9f3a"
             ],
             [
              0.8888888888888888,
              "#fdca26"
             ],
             [
              1,
              "#f0f921"
             ]
            ],
            "type": "histogram2dcontour"
           }
          ],
          "mesh3d": [
           {
            "colorbar": {
             "outlinewidth": 0,
             "ticks": ""
            },
            "type": "mesh3d"
           }
          ],
          "parcoords": [
           {
            "line": {
             "colorbar": {
              "outlinewidth": 0,
              "ticks": ""
             }
            },
            "type": "parcoords"
           }
          ],
          "pie": [
           {
            "automargin": true,
            "type": "pie"
           }
          ],
          "scatter": [
           {
            "fillpattern": {
             "fillmode": "overlay",
             "size": 10,
             "solidity": 0.2
            },
            "type": "scatter"
           }
          ],
          "scatter3d": [
           {
            "line": {
             "colorbar": {
              "outlinewidth": 0,
              "ticks": ""
             }
            },
            "marker": {
             "colorbar": {
              "outlinewidth": 0,
              "ticks": ""
             }
            },
            "type": "scatter3d"
           }
          ],
          "scattercarpet": [
           {
            "marker": {
             "colorbar": {
              "outlinewidth": 0,
              "ticks": ""
             }
            },
            "type": "scattercarpet"
           }
          ],
          "scattergeo": [
           {
            "marker": {
             "colorbar": {
              "outlinewidth": 0,
              "ticks": ""
             }
            },
            "type": "scattergeo"
           }
          ],
          "scattergl": [
           {
            "marker": {
             "colorbar": {
              "outlinewidth": 0,
              "ticks": ""
             }
            },
            "type": "scattergl"
           }
          ],
          "scattermap": [
           {
            "marker": {
             "colorbar": {
              "outlinewidth": 0,
              "ticks": ""
             }
            },
            "type": "scattermap"
           }
          ],
          "scattermapbox": [
           {
            "marker": {
             "colorbar": {
              "outlinewidth": 0,
              "ticks": ""
             }
            },
            "type": "scattermapbox"
           }
          ],
          "scatterpolar": [
           {
            "marker": {
             "colorbar": {
              "outlinewidth": 0,
              "ticks": ""
             }
            },
            "type": "scatterpolar"
           }
          ],
          "scatterpolargl": [
           {
            "marker": {
             "colorbar": {
              "outlinewidth": 0,
              "ticks": ""
             }
            },
            "type": "scatterpolargl"
           }
          ],
          "scatterternary": [
           {
            "marker": {
             "colorbar": {
              "outlinewidth": 0,
              "ticks": ""
             }
            },
            "type": "scatterternary"
           }
          ],
          "surface": [
           {
            "colorbar": {
             "outlinewidth": 0,
             "ticks": ""
            },
            "colorscale": [
             [
              0,
              "#0d0887"
             ],
             [
              0.1111111111111111,
              "#46039f"
             ],
             [
              0.2222222222222222,
              "#7201a8"
             ],
             [
              0.3333333333333333,
              "#9c179e"
             ],
             [
              0.4444444444444444,
              "#bd3786"
             ],
             [
              0.5555555555555556,
              "#d8576b"
             ],
             [
              0.6666666666666666,
              "#ed7953"
             ],
             [
              0.7777777777777778,
              "#fb9f3a"
             ],
             [
              0.8888888888888888,
              "#fdca26"
             ],
             [
              1,
              "#f0f921"
             ]
            ],
            "type": "surface"
           }
          ],
          "table": [
           {
            "cells": {
             "fill": {
              "color": "#EBF0F8"
             },
             "line": {
              "color": "white"
             }
            },
            "header": {
             "fill": {
              "color": "#C8D4E3"
             },
             "line": {
              "color": "white"
             }
            },
            "type": "table"
           }
          ]
         },
         "layout": {
          "annotationdefaults": {
           "arrowcolor": "#2a3f5f",
           "arrowhead": 0,
           "arrowwidth": 1
          },
          "autotypenumbers": "strict",
          "coloraxis": {
           "colorbar": {
            "outlinewidth": 0,
            "ticks": ""
           }
          },
          "colorscale": {
           "diverging": [
            [
             0,
             "#8e0152"
            ],
            [
             0.1,
             "#c51b7d"
            ],
            [
             0.2,
             "#de77ae"
            ],
            [
             0.3,
             "#f1b6da"
            ],
            [
             0.4,
             "#fde0ef"
            ],
            [
             0.5,
             "#f7f7f7"
            ],
            [
             0.6,
             "#e6f5d0"
            ],
            [
             0.7,
             "#b8e186"
            ],
            [
             0.8,
             "#7fbc41"
            ],
            [
             0.9,
             "#4d9221"
            ],
            [
             1,
             "#276419"
            ]
           ],
           "sequential": [
            [
             0,
             "#0d0887"
            ],
            [
             0.1111111111111111,
             "#46039f"
            ],
            [
             0.2222222222222222,
             "#7201a8"
            ],
            [
             0.3333333333333333,
             "#9c179e"
            ],
            [
             0.4444444444444444,
             "#bd3786"
            ],
            [
             0.5555555555555556,
             "#d8576b"
            ],
            [
             0.6666666666666666,
             "#ed7953"
            ],
            [
             0.7777777777777778,
             "#fb9f3a"
            ],
            [
             0.8888888888888888,
             "#fdca26"
            ],
            [
             1,
             "#f0f921"
            ]
           ],
           "sequentialminus": [
            [
             0,
             "#0d0887"
            ],
            [
             0.1111111111111111,
             "#46039f"
            ],
            [
             0.2222222222222222,
             "#7201a8"
            ],
            [
             0.3333333333333333,
             "#9c179e"
            ],
            [
             0.4444444444444444,
             "#bd3786"
            ],
            [
             0.5555555555555556,
             "#d8576b"
            ],
            [
             0.6666666666666666,
             "#ed7953"
            ],
            [
             0.7777777777777778,
             "#fb9f3a"
            ],
            [
             0.8888888888888888,
             "#fdca26"
            ],
            [
             1,
             "#f0f921"
            ]
           ]
          },
          "colorway": [
           "#636efa",
           "#EF553B",
           "#00cc96",
           "#ab63fa",
           "#FFA15A",
           "#19d3f3",
           "#FF6692",
           "#B6E880",
           "#FF97FF",
           "#FECB52"
          ],
          "font": {
           "color": "#2a3f5f"
          },
          "geo": {
           "bgcolor": "white",
           "lakecolor": "white",
           "landcolor": "#E5ECF6",
           "showlakes": true,
           "showland": true,
           "subunitcolor": "white"
          },
          "hoverlabel": {
           "align": "left"
          },
          "hovermode": "closest",
          "mapbox": {
           "style": "light"
          },
          "paper_bgcolor": "white",
          "plot_bgcolor": "#E5ECF6",
          "polar": {
           "angularaxis": {
            "gridcolor": "white",
            "linecolor": "white",
            "ticks": ""
           },
           "bgcolor": "#E5ECF6",
           "radialaxis": {
            "gridcolor": "white",
            "linecolor": "white",
            "ticks": ""
           }
          },
          "scene": {
           "xaxis": {
            "backgroundcolor": "#E5ECF6",
            "gridcolor": "white",
            "gridwidth": 2,
            "linecolor": "white",
            "showbackground": true,
            "ticks": "",
            "zerolinecolor": "white"
           },
           "yaxis": {
            "backgroundcolor": "#E5ECF6",
            "gridcolor": "white",
            "gridwidth": 2,
            "linecolor": "white",
            "showbackground": true,
            "ticks": "",
            "zerolinecolor": "white"
           },
           "zaxis": {
            "backgroundcolor": "#E5ECF6",
            "gridcolor": "white",
            "gridwidth": 2,
            "linecolor": "white",
            "showbackground": true,
            "ticks": "",
            "zerolinecolor": "white"
           }
          },
          "shapedefaults": {
           "line": {
            "color": "#2a3f5f"
           }
          },
          "ternary": {
           "aaxis": {
            "gridcolor": "white",
            "linecolor": "white",
            "ticks": ""
           },
           "baxis": {
            "gridcolor": "white",
            "linecolor": "white",
            "ticks": ""
           },
           "bgcolor": "#E5ECF6",
           "caxis": {
            "gridcolor": "white",
            "linecolor": "white",
            "ticks": ""
           }
          },
          "title": {
           "x": 0.05
          },
          "xaxis": {
           "automargin": true,
           "gridcolor": "white",
           "linecolor": "white",
           "ticks": "",
           "title": {
            "standoff": 15
           },
           "zerolinecolor": "white",
           "zerolinewidth": 2
          },
          "yaxis": {
           "automargin": true,
           "gridcolor": "white",
           "linecolor": "white",
           "ticks": "",
           "title": {
            "standoff": 15
           },
           "zerolinecolor": "white",
           "zerolinewidth": 2
          }
         }
        },
        "title": {
         "text": "Distribution of Contract Lifetime Days"
        },
        "xaxis": {
         "anchor": "y",
         "domain": [
          0,
          1
         ],
         "title": {
          "text": "Days"
         }
        },
        "yaxis": {
         "anchor": "x",
         "domain": [
          0,
          1
         ],
         "title": {
          "text": "Count"
         }
        }
       }
      }
     },
     "metadata": {},
     "output_type": "display_data"
    }
   ],
   "source": [
    "fig = px.histogram(core_data, x=\"contract_lifetime_days\", nbins=300, title=\"Distribution of Contract Lifetime Days\")\n",
    "fig.update_layout(xaxis_title=\"Days\", yaxis_title=\"Count\")\n",
    "fig.show()"
   ]
  },
  {
   "cell_type": "code",
   "execution_count": 86,
   "id": "56e7f6be",
   "metadata": {},
   "outputs": [
    {
     "data": {
      "application/vnd.plotly.v1+json": {
       "config": {
        "plotlyServerURL": "https://plot.ly"
       },
       "data": [
        {
         "hovertemplate": "variable=positive<br>bin=%{x}<br>value=%{y}<extra></extra>",
         "legendgroup": "positive",
         "marker": {
          "color": "#636efa",
          "pattern": {
           "shape": ""
          }
         },
         "name": "positive",
         "orientation": "v",
         "showlegend": true,
         "textposition": "auto",
         "type": "bar",
         "x": [
          "0010-0109",
          "0110-0209",
          "0210-0309",
          "0310-0409",
          "0410-0509",
          "0510-0609",
          "0610-0709",
          "0710-0809",
          "0810-0909",
          "0910-1009",
          "10-",
          "1010-1109",
          "1110-1209",
          "1210-1309",
          "1310-1409",
          "1410-1509",
          "1510-1609",
          "1610-1709",
          "1710-1809",
          "1860+"
         ],
         "xaxis": "x",
         "y": {
          "bdata": "pQEAAGgBAABmAQAAAgIAADsCAAAdAgAAHwIAABYCAAARAgAA/QEAAAgAAADiAQAAJgEAACABAAD3AAAA+QAAAMsAAAC1AAAAvQAAABwAAAA=",
          "dtype": "u4"
         },
         "yaxis": "y"
        },
        {
         "hovertemplate": "variable=negative<br>bin=%{x}<br>value=%{y}<extra></extra>",
         "legendgroup": "negative",
         "marker": {
          "color": "#EF553B",
          "pattern": {
           "shape": ""
          }
         },
         "name": "negative",
         "orientation": "v",
         "showlegend": true,
         "textposition": "auto",
         "type": "bar",
         "x": [
          "0010-0109",
          "0110-0209",
          "0210-0309",
          "0310-0409",
          "0410-0509",
          "0510-0609",
          "0610-0709",
          "0710-0809",
          "0810-0909",
          "0910-1009",
          "10-",
          "1010-1109",
          "1110-1209",
          "1210-1309",
          "1310-1409",
          "1410-1509",
          "1510-1609",
          "1610-1709",
          "1710-1809",
          "1860+"
         ],
         "xaxis": "x",
         "y": {
          "bdata": "ZhkAAHwZAAB+GQAATBgAAI4YAAAdGQAA0RgAAPcYAAD7GAAA5RgAAMkAAAAeFwAAAwwAAIQMAABWDAAAYwwAAKsMAACZDAAAqQwAAAQCAAA=",
          "dtype": "u4"
         },
         "yaxis": "y"
        }
       ],
       "layout": {
        "barmode": "relative",
        "legend": {
         "title": {
          "text": "variable"
         },
         "tracegroupgap": 0
        },
        "template": {
         "data": {
          "bar": [
           {
            "error_x": {
             "color": "#2a3f5f"
            },
            "error_y": {
             "color": "#2a3f5f"
            },
            "marker": {
             "line": {
              "color": "#E5ECF6",
              "width": 0.5
             },
             "pattern": {
              "fillmode": "overlay",
              "size": 10,
              "solidity": 0.2
             }
            },
            "type": "bar"
           }
          ],
          "barpolar": [
           {
            "marker": {
             "line": {
              "color": "#E5ECF6",
              "width": 0.5
             },
             "pattern": {
              "fillmode": "overlay",
              "size": 10,
              "solidity": 0.2
             }
            },
            "type": "barpolar"
           }
          ],
          "carpet": [
           {
            "aaxis": {
             "endlinecolor": "#2a3f5f",
             "gridcolor": "white",
             "linecolor": "white",
             "minorgridcolor": "white",
             "startlinecolor": "#2a3f5f"
            },
            "baxis": {
             "endlinecolor": "#2a3f5f",
             "gridcolor": "white",
             "linecolor": "white",
             "minorgridcolor": "white",
             "startlinecolor": "#2a3f5f"
            },
            "type": "carpet"
           }
          ],
          "choropleth": [
           {
            "colorbar": {
             "outlinewidth": 0,
             "ticks": ""
            },
            "type": "choropleth"
           }
          ],
          "contour": [
           {
            "colorbar": {
             "outlinewidth": 0,
             "ticks": ""
            },
            "colorscale": [
             [
              0,
              "#0d0887"
             ],
             [
              0.1111111111111111,
              "#46039f"
             ],
             [
              0.2222222222222222,
              "#7201a8"
             ],
             [
              0.3333333333333333,
              "#9c179e"
             ],
             [
              0.4444444444444444,
              "#bd3786"
             ],
             [
              0.5555555555555556,
              "#d8576b"
             ],
             [
              0.6666666666666666,
              "#ed7953"
             ],
             [
              0.7777777777777778,
              "#fb9f3a"
             ],
             [
              0.8888888888888888,
              "#fdca26"
             ],
             [
              1,
              "#f0f921"
             ]
            ],
            "type": "contour"
           }
          ],
          "contourcarpet": [
           {
            "colorbar": {
             "outlinewidth": 0,
             "ticks": ""
            },
            "type": "contourcarpet"
           }
          ],
          "heatmap": [
           {
            "colorbar": {
             "outlinewidth": 0,
             "ticks": ""
            },
            "colorscale": [
             [
              0,
              "#0d0887"
             ],
             [
              0.1111111111111111,
              "#46039f"
             ],
             [
              0.2222222222222222,
              "#7201a8"
             ],
             [
              0.3333333333333333,
              "#9c179e"
             ],
             [
              0.4444444444444444,
              "#bd3786"
             ],
             [
              0.5555555555555556,
              "#d8576b"
             ],
             [
              0.6666666666666666,
              "#ed7953"
             ],
             [
              0.7777777777777778,
              "#fb9f3a"
             ],
             [
              0.8888888888888888,
              "#fdca26"
             ],
             [
              1,
              "#f0f921"
             ]
            ],
            "type": "heatmap"
           }
          ],
          "histogram": [
           {
            "marker": {
             "pattern": {
              "fillmode": "overlay",
              "size": 10,
              "solidity": 0.2
             }
            },
            "type": "histogram"
           }
          ],
          "histogram2d": [
           {
            "colorbar": {
             "outlinewidth": 0,
             "ticks": ""
            },
            "colorscale": [
             [
              0,
              "#0d0887"
             ],
             [
              0.1111111111111111,
              "#46039f"
             ],
             [
              0.2222222222222222,
              "#7201a8"
             ],
             [
              0.3333333333333333,
              "#9c179e"
             ],
             [
              0.4444444444444444,
              "#bd3786"
             ],
             [
              0.5555555555555556,
              "#d8576b"
             ],
             [
              0.6666666666666666,
              "#ed7953"
             ],
             [
              0.7777777777777778,
              "#fb9f3a"
             ],
             [
              0.8888888888888888,
              "#fdca26"
             ],
             [
              1,
              "#f0f921"
             ]
            ],
            "type": "histogram2d"
           }
          ],
          "histogram2dcontour": [
           {
            "colorbar": {
             "outlinewidth": 0,
             "ticks": ""
            },
            "colorscale": [
             [
              0,
              "#0d0887"
             ],
             [
              0.1111111111111111,
              "#46039f"
             ],
             [
              0.2222222222222222,
              "#7201a8"
             ],
             [
              0.3333333333333333,
              "#9c179e"
             ],
             [
              0.4444444444444444,
              "#bd3786"
             ],
             [
              0.5555555555555556,
              "#d8576b"
             ],
             [
              0.6666666666666666,
              "#ed7953"
             ],
             [
              0.7777777777777778,
              "#fb9f3a"
             ],
             [
              0.8888888888888888,
              "#fdca26"
             ],
             [
              1,
              "#f0f921"
             ]
            ],
            "type": "histogram2dcontour"
           }
          ],
          "mesh3d": [
           {
            "colorbar": {
             "outlinewidth": 0,
             "ticks": ""
            },
            "type": "mesh3d"
           }
          ],
          "parcoords": [
           {
            "line": {
             "colorbar": {
              "outlinewidth": 0,
              "ticks": ""
             }
            },
            "type": "parcoords"
           }
          ],
          "pie": [
           {
            "automargin": true,
            "type": "pie"
           }
          ],
          "scatter": [
           {
            "fillpattern": {
             "fillmode": "overlay",
             "size": 10,
             "solidity": 0.2
            },
            "type": "scatter"
           }
          ],
          "scatter3d": [
           {
            "line": {
             "colorbar": {
              "outlinewidth": 0,
              "ticks": ""
             }
            },
            "marker": {
             "colorbar": {
              "outlinewidth": 0,
              "ticks": ""
             }
            },
            "type": "scatter3d"
           }
          ],
          "scattercarpet": [
           {
            "marker": {
             "colorbar": {
              "outlinewidth": 0,
              "ticks": ""
             }
            },
            "type": "scattercarpet"
           }
          ],
          "scattergeo": [
           {
            "marker": {
             "colorbar": {
              "outlinewidth": 0,
              "ticks": ""
             }
            },
            "type": "scattergeo"
           }
          ],
          "scattergl": [
           {
            "marker": {
             "colorbar": {
              "outlinewidth": 0,
              "ticks": ""
             }
            },
            "type": "scattergl"
           }
          ],
          "scattermap": [
           {
            "marker": {
             "colorbar": {
              "outlinewidth": 0,
              "ticks": ""
             }
            },
            "type": "scattermap"
           }
          ],
          "scattermapbox": [
           {
            "marker": {
             "colorbar": {
              "outlinewidth": 0,
              "ticks": ""
             }
            },
            "type": "scattermapbox"
           }
          ],
          "scatterpolar": [
           {
            "marker": {
             "colorbar": {
              "outlinewidth": 0,
              "ticks": ""
             }
            },
            "type": "scatterpolar"
           }
          ],
          "scatterpolargl": [
           {
            "marker": {
             "colorbar": {
              "outlinewidth": 0,
              "ticks": ""
             }
            },
            "type": "scatterpolargl"
           }
          ],
          "scatterternary": [
           {
            "marker": {
             "colorbar": {
              "outlinewidth": 0,
              "ticks": ""
             }
            },
            "type": "scatterternary"
           }
          ],
          "surface": [
           {
            "colorbar": {
             "outlinewidth": 0,
             "ticks": ""
            },
            "colorscale": [
             [
              0,
              "#0d0887"
             ],
             [
              0.1111111111111111,
              "#46039f"
             ],
             [
              0.2222222222222222,
              "#7201a8"
             ],
             [
              0.3333333333333333,
              "#9c179e"
             ],
             [
              0.4444444444444444,
              "#bd3786"
             ],
             [
              0.5555555555555556,
              "#d8576b"
             ],
             [
              0.6666666666666666,
              "#ed7953"
             ],
             [
              0.7777777777777778,
              "#fb9f3a"
             ],
             [
              0.8888888888888888,
              "#fdca26"
             ],
             [
              1,
              "#f0f921"
             ]
            ],
            "type": "surface"
           }
          ],
          "table": [
           {
            "cells": {
             "fill": {
              "color": "#EBF0F8"
             },
             "line": {
              "color": "white"
             }
            },
            "header": {
             "fill": {
              "color": "#C8D4E3"
             },
             "line": {
              "color": "white"
             }
            },
            "type": "table"
           }
          ]
         },
         "layout": {
          "annotationdefaults": {
           "arrowcolor": "#2a3f5f",
           "arrowhead": 0,
           "arrowwidth": 1
          },
          "autotypenumbers": "strict",
          "coloraxis": {
           "colorbar": {
            "outlinewidth": 0,
            "ticks": ""
           }
          },
          "colorscale": {
           "diverging": [
            [
             0,
             "#8e0152"
            ],
            [
             0.1,
             "#c51b7d"
            ],
            [
             0.2,
             "#de77ae"
            ],
            [
             0.3,
             "#f1b6da"
            ],
            [
             0.4,
             "#fde0ef"
            ],
            [
             0.5,
             "#f7f7f7"
            ],
            [
             0.6,
             "#e6f5d0"
            ],
            [
             0.7,
             "#b8e186"
            ],
            [
             0.8,
             "#7fbc41"
            ],
            [
             0.9,
             "#4d9221"
            ],
            [
             1,
             "#276419"
            ]
           ],
           "sequential": [
            [
             0,
             "#0d0887"
            ],
            [
             0.1111111111111111,
             "#46039f"
            ],
            [
             0.2222222222222222,
             "#7201a8"
            ],
            [
             0.3333333333333333,
             "#9c179e"
            ],
            [
             0.4444444444444444,
             "#bd3786"
            ],
            [
             0.5555555555555556,
             "#d8576b"
            ],
            [
             0.6666666666666666,
             "#ed7953"
            ],
            [
             0.7777777777777778,
             "#fb9f3a"
            ],
            [
             0.8888888888888888,
             "#fdca26"
            ],
            [
             1,
             "#f0f921"
            ]
           ],
           "sequentialminus": [
            [
             0,
             "#0d0887"
            ],
            [
             0.1111111111111111,
             "#46039f"
            ],
            [
             0.2222222222222222,
             "#7201a8"
            ],
            [
             0.3333333333333333,
             "#9c179e"
            ],
            [
             0.4444444444444444,
             "#bd3786"
            ],
            [
             0.5555555555555556,
             "#d8576b"
            ],
            [
             0.6666666666666666,
             "#ed7953"
            ],
            [
             0.7777777777777778,
             "#fb9f3a"
            ],
            [
             0.8888888888888888,
             "#fdca26"
            ],
            [
             1,
             "#f0f921"
            ]
           ]
          },
          "colorway": [
           "#636efa",
           "#EF553B",
           "#00cc96",
           "#ab63fa",
           "#FFA15A",
           "#19d3f3",
           "#FF6692",
           "#B6E880",
           "#FF97FF",
           "#FECB52"
          ],
          "font": {
           "color": "#2a3f5f"
          },
          "geo": {
           "bgcolor": "white",
           "lakecolor": "white",
           "landcolor": "#E5ECF6",
           "showlakes": true,
           "showland": true,
           "subunitcolor": "white"
          },
          "hoverlabel": {
           "align": "left"
          },
          "hovermode": "closest",
          "mapbox": {
           "style": "light"
          },
          "paper_bgcolor": "white",
          "plot_bgcolor": "#E5ECF6",
          "polar": {
           "angularaxis": {
            "gridcolor": "white",
            "linecolor": "white",
            "ticks": ""
           },
           "bgcolor": "#E5ECF6",
           "radialaxis": {
            "gridcolor": "white",
            "linecolor": "white",
            "ticks": ""
           }
          },
          "scene": {
           "xaxis": {
            "backgroundcolor": "#E5ECF6",
            "gridcolor": "white",
            "gridwidth": 2,
            "linecolor": "white",
            "showbackground": true,
            "ticks": "",
            "zerolinecolor": "white"
           },
           "yaxis": {
            "backgroundcolor": "#E5ECF6",
            "gridcolor": "white",
            "gridwidth": 2,
            "linecolor": "white",
            "showbackground": true,
            "ticks": "",
            "zerolinecolor": "white"
           },
           "zaxis": {
            "backgroundcolor": "#E5ECF6",
            "gridcolor": "white",
            "gridwidth": 2,
            "linecolor": "white",
            "showbackground": true,
            "ticks": "",
            "zerolinecolor": "white"
           }
          },
          "shapedefaults": {
           "line": {
            "color": "#2a3f5f"
           }
          },
          "ternary": {
           "aaxis": {
            "gridcolor": "white",
            "linecolor": "white",
            "ticks": ""
           },
           "baxis": {
            "gridcolor": "white",
            "linecolor": "white",
            "ticks": ""
           },
           "bgcolor": "#E5ECF6",
           "caxis": {
            "gridcolor": "white",
            "linecolor": "white",
            "ticks": ""
           }
          },
          "title": {
           "x": 0.05
          },
          "xaxis": {
           "automargin": true,
           "gridcolor": "white",
           "linecolor": "white",
           "ticks": "",
           "title": {
            "standoff": 15
           },
           "zerolinecolor": "white",
           "zerolinewidth": 2
          },
          "yaxis": {
           "automargin": true,
           "gridcolor": "white",
           "linecolor": "white",
           "ticks": "",
           "title": {
            "standoff": 15
           },
           "zerolinecolor": "white",
           "zerolinewidth": 2
          }
         }
        },
        "title": {
         "text": "Distribution upselling customer by contract lifetime days"
        },
        "xaxis": {
         "anchor": "y",
         "domain": [
          0,
          1
         ],
         "title": {
          "text": "bin"
         }
        },
        "yaxis": {
         "anchor": "x",
         "domain": [
          0,
          1
         ],
         "title": {
          "text": "value"
         }
        }
       }
      }
     },
     "metadata": {},
     "output_type": "display_data"
    }
   ],
   "source": [
    "bins = list(range(10, 1861, 100))\n",
    "labels = [f\"{str(bins[i]).zfill(4)}-{str(bins[i+1]-1).zfill(4)}\" for i in range(len(bins)-1)]\n",
    "\n",
    "binned_lifetime_upselling = core_data.with_columns(\n",
    "        pl.when(pl.col(\"contract_lifetime_days\") < 10).then(pl.lit('10-'))\n",
    "        .otherwise(pl.lit('1860+'))\n",
    "        .alias(\"bin\")\n",
    ")\n",
    "\n",
    "for i in range(len(bins)-1):\n",
    "    binned_lifetime_upselling = binned_lifetime_upselling.with_columns(\n",
    "        pl.when(pl.col(\"contract_lifetime_days\").is_between(bins[i], bins[i+1], closed=\"left\")).then(pl.lit(labels[i]))\n",
    "        .otherwise(pl.col('bin'))\n",
    "        .alias(\"bin\")\n",
    ")\n",
    "    \n",
    "# Group by bin and aggregate\n",
    "binned_lifetime_upselling = binned_lifetime_upselling.group_by(\"bin\").agg(\n",
    "    pl.len().alias(\"count\"),\n",
    "    (pl.col(\"has_done_upselling\") == True).sum().alias(\"positive\"),\n",
    "    (pl.col(\"has_done_upselling\") == False).sum().alias(\"negative\"),\n",
    ").sort('bin')\n",
    "\n",
    "fig = px.bar(binned_lifetime_upselling, x=\"bin\", y=['positive', 'negative'], title='Distribution upselling customer by contract lifetime days')\n",
    "fig.show()"
   ]
  },
  {
   "cell_type": "code",
   "execution_count": 84,
   "id": "3b96d289",
   "metadata": {},
   "outputs": [
    {
     "data": {
      "text/html": [
       "<div><style>\n",
       ".dataframe > thead > tr,\n",
       ".dataframe > tbody > tr {\n",
       "  text-align: right;\n",
       "  white-space: pre-wrap;\n",
       "}\n",
       "</style>\n",
       "<small>shape: (38, 4)</small><table border=\"1\" class=\"dataframe\"><thead><tr><th>bin</th><th>count</th><th>positive</th><th>negative</th></tr><tr><td>str</td><td>u32</td><td>u32</td><td>u32</td></tr></thead><tbody><tr><td>&quot;10-&quot;</td><td>209</td><td>8</td><td>201</td></tr><tr><td>&quot;10-59&quot;</td><td>3491</td><td>220</td><td>3271</td></tr><tr><td>&quot;1010-1059&quot;</td><td>3438</td><td>260</td><td>3178</td></tr><tr><td>&quot;1060-1109&quot;</td><td>2962</td><td>222</td><td>2740</td></tr><tr><td>&quot;110-159&quot;</td><td>3420</td><td>168</td><td>3252</td></tr><tr><td>&hellip;</td><td>&hellip;</td><td>&hellip;</td><td>&hellip;</td></tr><tr><td>&quot;760-809&quot;</td><td>3508</td><td>270</td><td>3238</td></tr><tr><td>&quot;810-859&quot;</td><td>3518</td><td>268</td><td>3250</td></tr><tr><td>&quot;860-909&quot;</td><td>3406</td><td>261</td><td>3145</td></tr><tr><td>&quot;910-959&quot;</td><td>3366</td><td>263</td><td>3103</td></tr><tr><td>&quot;960-1009&quot;</td><td>3516</td><td>246</td><td>3270</td></tr></tbody></table></div>"
      ],
      "text/plain": [
       "shape: (38, 4)\n",
       "┌───────────┬───────┬──────────┬──────────┐\n",
       "│ bin       ┆ count ┆ positive ┆ negative │\n",
       "│ ---       ┆ ---   ┆ ---      ┆ ---      │\n",
       "│ str       ┆ u32   ┆ u32      ┆ u32      │\n",
       "╞═══════════╪═══════╪══════════╪══════════╡\n",
       "│ 10-       ┆ 209   ┆ 8        ┆ 201      │\n",
       "│ 10-59     ┆ 3491  ┆ 220      ┆ 3271     │\n",
       "│ 1010-1059 ┆ 3438  ┆ 260      ┆ 3178     │\n",
       "│ 1060-1109 ┆ 2962  ┆ 222      ┆ 2740     │\n",
       "│ 110-159   ┆ 3420  ┆ 168      ┆ 3252     │\n",
       "│ …         ┆ …     ┆ …        ┆ …        │\n",
       "│ 760-809   ┆ 3508  ┆ 270      ┆ 3238     │\n",
       "│ 810-859   ┆ 3518  ┆ 268      ┆ 3250     │\n",
       "│ 860-909   ┆ 3406  ┆ 261      ┆ 3145     │\n",
       "│ 910-959   ┆ 3366  ┆ 263      ┆ 3103     │\n",
       "│ 960-1009  ┆ 3516  ┆ 246      ┆ 3270     │\n",
       "└───────────┴───────┴──────────┴──────────┘"
      ]
     },
     "execution_count": 84,
     "metadata": {},
     "output_type": "execute_result"
    }
   ],
   "source": [
    "binned_lifetime_upselling"
   ]
  },
  {
   "cell_type": "code",
   "execution_count": null,
   "id": "22823b27",
   "metadata": {},
   "outputs": [],
   "source": []
  },
  {
   "cell_type": "code",
   "execution_count": 80,
   "id": "27fd521a",
   "metadata": {},
   "outputs": [
    {
     "data": {
      "application/vnd.plotly.v1+json": {
       "config": {
        "plotlyServerURL": "https://plot.ly"
       },
       "data": [
        {
         "hovertemplate": "available_gb=%{x}<br>len=%{y}<extra></extra>",
         "legendgroup": "",
         "marker": {
          "color": "#636efa",
          "pattern": {
           "shape": ""
          }
         },
         "name": "",
         "orientation": "v",
         "showlegend": false,
         "textposition": "auto",
         "type": "bar",
         "x": {
          "bdata": "AAAAAAAA+H8AAAAAAAAAAAAAAAAAAD5AAAAAAAAAREAAAAAAAAA0QAAAAAAAAElAAAAAAAAAJEA=",
          "dtype": "f8"
         },
         "xaxis": "x",
         "y": {
          "bdata": "RDcAANA3AABlOAAA2jcAAIk3AAC8NwAACDgAAA==",
          "dtype": "u4"
         },
         "yaxis": "y"
        }
       ],
       "layout": {
        "barmode": "relative",
        "legend": {
         "tracegroupgap": 0
        },
        "template": {
         "data": {
          "bar": [
           {
            "error_x": {
             "color": "#2a3f5f"
            },
            "error_y": {
             "color": "#2a3f5f"
            },
            "marker": {
             "line": {
              "color": "#E5ECF6",
              "width": 0.5
             },
             "pattern": {
              "fillmode": "overlay",
              "size": 10,
              "solidity": 0.2
             }
            },
            "type": "bar"
           }
          ],
          "barpolar": [
           {
            "marker": {
             "line": {
              "color": "#E5ECF6",
              "width": 0.5
             },
             "pattern": {
              "fillmode": "overlay",
              "size": 10,
              "solidity": 0.2
             }
            },
            "type": "barpolar"
           }
          ],
          "carpet": [
           {
            "aaxis": {
             "endlinecolor": "#2a3f5f",
             "gridcolor": "white",
             "linecolor": "white",
             "minorgridcolor": "white",
             "startlinecolor": "#2a3f5f"
            },
            "baxis": {
             "endlinecolor": "#2a3f5f",
             "gridcolor": "white",
             "linecolor": "white",
             "minorgridcolor": "white",
             "startlinecolor": "#2a3f5f"
            },
            "type": "carpet"
           }
          ],
          "choropleth": [
           {
            "colorbar": {
             "outlinewidth": 0,
             "ticks": ""
            },
            "type": "choropleth"
           }
          ],
          "contour": [
           {
            "colorbar": {
             "outlinewidth": 0,
             "ticks": ""
            },
            "colorscale": [
             [
              0,
              "#0d0887"
             ],
             [
              0.1111111111111111,
              "#46039f"
             ],
             [
              0.2222222222222222,
              "#7201a8"
             ],
             [
              0.3333333333333333,
              "#9c179e"
             ],
             [
              0.4444444444444444,
              "#bd3786"
             ],
             [
              0.5555555555555556,
              "#d8576b"
             ],
             [
              0.6666666666666666,
              "#ed7953"
             ],
             [
              0.7777777777777778,
              "#fb9f3a"
             ],
             [
              0.8888888888888888,
              "#fdca26"
             ],
             [
              1,
              "#f0f921"
             ]
            ],
            "type": "contour"
           }
          ],
          "contourcarpet": [
           {
            "colorbar": {
             "outlinewidth": 0,
             "ticks": ""
            },
            "type": "contourcarpet"
           }
          ],
          "heatmap": [
           {
            "colorbar": {
             "outlinewidth": 0,
             "ticks": ""
            },
            "colorscale": [
             [
              0,
              "#0d0887"
             ],
             [
              0.1111111111111111,
              "#46039f"
             ],
             [
              0.2222222222222222,
              "#7201a8"
             ],
             [
              0.3333333333333333,
              "#9c179e"
             ],
             [
              0.4444444444444444,
              "#bd3786"
             ],
             [
              0.5555555555555556,
              "#d8576b"
             ],
             [
              0.6666666666666666,
              "#ed7953"
             ],
             [
              0.7777777777777778,
              "#fb9f3a"
             ],
             [
              0.8888888888888888,
              "#fdca26"
             ],
             [
              1,
              "#f0f921"
             ]
            ],
            "type": "heatmap"
           }
          ],
          "histogram": [
           {
            "marker": {
             "pattern": {
              "fillmode": "overlay",
              "size": 10,
              "solidity": 0.2
             }
            },
            "type": "histogram"
           }
          ],
          "histogram2d": [
           {
            "colorbar": {
             "outlinewidth": 0,
             "ticks": ""
            },
            "colorscale": [
             [
              0,
              "#0d0887"
             ],
             [
              0.1111111111111111,
              "#46039f"
             ],
             [
              0.2222222222222222,
              "#7201a8"
             ],
             [
              0.3333333333333333,
              "#9c179e"
             ],
             [
              0.4444444444444444,
              "#bd3786"
             ],
             [
              0.5555555555555556,
              "#d8576b"
             ],
             [
              0.6666666666666666,
              "#ed7953"
             ],
             [
              0.7777777777777778,
              "#fb9f3a"
             ],
             [
              0.8888888888888888,
              "#fdca26"
             ],
             [
              1,
              "#f0f921"
             ]
            ],
            "type": "histogram2d"
           }
          ],
          "histogram2dcontour": [
           {
            "colorbar": {
             "outlinewidth": 0,
             "ticks": ""
            },
            "colorscale": [
             [
              0,
              "#0d0887"
             ],
             [
              0.1111111111111111,
              "#46039f"
             ],
             [
              0.2222222222222222,
              "#7201a8"
             ],
             [
              0.3333333333333333,
              "#9c179e"
             ],
             [
              0.4444444444444444,
              "#bd3786"
             ],
             [
              0.5555555555555556,
              "#d8576b"
             ],
             [
              0.6666666666666666,
              "#ed7953"
             ],
             [
              0.7777777777777778,
              "#fb9f3a"
             ],
             [
              0.8888888888888888,
              "#fdca26"
             ],
             [
              1,
              "#f0f921"
             ]
            ],
            "type": "histogram2dcontour"
           }
          ],
          "mesh3d": [
           {
            "colorbar": {
             "outlinewidth": 0,
             "ticks": ""
            },
            "type": "mesh3d"
           }
          ],
          "parcoords": [
           {
            "line": {
             "colorbar": {
              "outlinewidth": 0,
              "ticks": ""
             }
            },
            "type": "parcoords"
           }
          ],
          "pie": [
           {
            "automargin": true,
            "type": "pie"
           }
          ],
          "scatter": [
           {
            "fillpattern": {
             "fillmode": "overlay",
             "size": 10,
             "solidity": 0.2
            },
            "type": "scatter"
           }
          ],
          "scatter3d": [
           {
            "line": {
             "colorbar": {
              "outlinewidth": 0,
              "ticks": ""
             }
            },
            "marker": {
             "colorbar": {
              "outlinewidth": 0,
              "ticks": ""
             }
            },
            "type": "scatter3d"
           }
          ],
          "scattercarpet": [
           {
            "marker": {
             "colorbar": {
              "outlinewidth": 0,
              "ticks": ""
             }
            },
            "type": "scattercarpet"
           }
          ],
          "scattergeo": [
           {
            "marker": {
             "colorbar": {
              "outlinewidth": 0,
              "ticks": ""
             }
            },
            "type": "scattergeo"
           }
          ],
          "scattergl": [
           {
            "marker": {
             "colorbar": {
              "outlinewidth": 0,
              "ticks": ""
             }
            },
            "type": "scattergl"
           }
          ],
          "scattermap": [
           {
            "marker": {
             "colorbar": {
              "outlinewidth": 0,
              "ticks": ""
             }
            },
            "type": "scattermap"
           }
          ],
          "scattermapbox": [
           {
            "marker": {
             "colorbar": {
              "outlinewidth": 0,
              "ticks": ""
             }
            },
            "type": "scattermapbox"
           }
          ],
          "scatterpolar": [
           {
            "marker": {
             "colorbar": {
              "outlinewidth": 0,
              "ticks": ""
             }
            },
            "type": "scatterpolar"
           }
          ],
          "scatterpolargl": [
           {
            "marker": {
             "colorbar": {
              "outlinewidth": 0,
              "ticks": ""
             }
            },
            "type": "scatterpolargl"
           }
          ],
          "scatterternary": [
           {
            "marker": {
             "colorbar": {
              "outlinewidth": 0,
              "ticks": ""
             }
            },
            "type": "scatterternary"
           }
          ],
          "surface": [
           {
            "colorbar": {
             "outlinewidth": 0,
             "ticks": ""
            },
            "colorscale": [
             [
              0,
              "#0d0887"
             ],
             [
              0.1111111111111111,
              "#46039f"
             ],
             [
              0.2222222222222222,
              "#7201a8"
             ],
             [
              0.3333333333333333,
              "#9c179e"
             ],
             [
              0.4444444444444444,
              "#bd3786"
             ],
             [
              0.5555555555555556,
              "#d8576b"
             ],
             [
              0.6666666666666666,
              "#ed7953"
             ],
             [
              0.7777777777777778,
              "#fb9f3a"
             ],
             [
              0.8888888888888888,
              "#fdca26"
             ],
             [
              1,
              "#f0f921"
             ]
            ],
            "type": "surface"
           }
          ],
          "table": [
           {
            "cells": {
             "fill": {
              "color": "#EBF0F8"
             },
             "line": {
              "color": "white"
             }
            },
            "header": {
             "fill": {
              "color": "#C8D4E3"
             },
             "line": {
              "color": "white"
             }
            },
            "type": "table"
           }
          ]
         },
         "layout": {
          "annotationdefaults": {
           "arrowcolor": "#2a3f5f",
           "arrowhead": 0,
           "arrowwidth": 1
          },
          "autotypenumbers": "strict",
          "coloraxis": {
           "colorbar": {
            "outlinewidth": 0,
            "ticks": ""
           }
          },
          "colorscale": {
           "diverging": [
            [
             0,
             "#8e0152"
            ],
            [
             0.1,
             "#c51b7d"
            ],
            [
             0.2,
             "#de77ae"
            ],
            [
             0.3,
             "#f1b6da"
            ],
            [
             0.4,
             "#fde0ef"
            ],
            [
             0.5,
             "#f7f7f7"
            ],
            [
             0.6,
             "#e6f5d0"
            ],
            [
             0.7,
             "#b8e186"
            ],
            [
             0.8,
             "#7fbc41"
            ],
            [
             0.9,
             "#4d9221"
            ],
            [
             1,
             "#276419"
            ]
           ],
           "sequential": [
            [
             0,
             "#0d0887"
            ],
            [
             0.1111111111111111,
             "#46039f"
            ],
            [
             0.2222222222222222,
             "#7201a8"
            ],
            [
             0.3333333333333333,
             "#9c179e"
            ],
            [
             0.4444444444444444,
             "#bd3786"
            ],
            [
             0.5555555555555556,
             "#d8576b"
            ],
            [
             0.6666666666666666,
             "#ed7953"
            ],
            [
             0.7777777777777778,
             "#fb9f3a"
            ],
            [
             0.8888888888888888,
             "#fdca26"
            ],
            [
             1,
             "#f0f921"
            ]
           ],
           "sequentialminus": [
            [
             0,
             "#0d0887"
            ],
            [
             0.1111111111111111,
             "#46039f"
            ],
            [
             0.2222222222222222,
             "#7201a8"
            ],
            [
             0.3333333333333333,
             "#9c179e"
            ],
            [
             0.4444444444444444,
             "#bd3786"
            ],
            [
             0.5555555555555556,
             "#d8576b"
            ],
            [
             0.6666666666666666,
             "#ed7953"
            ],
            [
             0.7777777777777778,
             "#fb9f3a"
            ],
            [
             0.8888888888888888,
             "#fdca26"
            ],
            [
             1,
             "#f0f921"
            ]
           ]
          },
          "colorway": [
           "#636efa",
           "#EF553B",
           "#00cc96",
           "#ab63fa",
           "#FFA15A",
           "#19d3f3",
           "#FF6692",
           "#B6E880",
           "#FF97FF",
           "#FECB52"
          ],
          "font": {
           "color": "#2a3f5f"
          },
          "geo": {
           "bgcolor": "white",
           "lakecolor": "white",
           "landcolor": "#E5ECF6",
           "showlakes": true,
           "showland": true,
           "subunitcolor": "white"
          },
          "hoverlabel": {
           "align": "left"
          },
          "hovermode": "closest",
          "mapbox": {
           "style": "light"
          },
          "paper_bgcolor": "white",
          "plot_bgcolor": "#E5ECF6",
          "polar": {
           "angularaxis": {
            "gridcolor": "white",
            "linecolor": "white",
            "ticks": ""
           },
           "bgcolor": "#E5ECF6",
           "radialaxis": {
            "gridcolor": "white",
            "linecolor": "white",
            "ticks": ""
           }
          },
          "scene": {
           "xaxis": {
            "backgroundcolor": "#E5ECF6",
            "gridcolor": "white",
            "gridwidth": 2,
            "linecolor": "white",
            "showbackground": true,
            "ticks": "",
            "zerolinecolor": "white"
           },
           "yaxis": {
            "backgroundcolor": "#E5ECF6",
            "gridcolor": "white",
            "gridwidth": 2,
            "linecolor": "white",
            "showbackground": true,
            "ticks": "",
            "zerolinecolor": "white"
           },
           "zaxis": {
            "backgroundcolor": "#E5ECF6",
            "gridcolor": "white",
            "gridwidth": 2,
            "linecolor": "white",
            "showbackground": true,
            "ticks": "",
            "zerolinecolor": "white"
           }
          },
          "shapedefaults": {
           "line": {
            "color": "#2a3f5f"
           }
          },
          "ternary": {
           "aaxis": {
            "gridcolor": "white",
            "linecolor": "white",
            "ticks": ""
           },
           "baxis": {
            "gridcolor": "white",
            "linecolor": "white",
            "ticks": ""
           },
           "bgcolor": "#E5ECF6",
           "caxis": {
            "gridcolor": "white",
            "linecolor": "white",
            "ticks": ""
           }
          },
          "title": {
           "x": 0.05
          },
          "xaxis": {
           "automargin": true,
           "gridcolor": "white",
           "linecolor": "white",
           "ticks": "",
           "title": {
            "standoff": 15
           },
           "zerolinecolor": "white",
           "zerolinewidth": 2
          },
          "yaxis": {
           "automargin": true,
           "gridcolor": "white",
           "linecolor": "white",
           "ticks": "",
           "title": {
            "standoff": 15
           },
           "zerolinecolor": "white",
           "zerolinewidth": 2
          }
         }
        },
        "title": {
         "text": "Distribution of Contract Lifetime Days"
        },
        "xaxis": {
         "anchor": "y",
         "domain": [
          0,
          1
         ],
         "title": {
          "text": "GB"
         }
        },
        "yaxis": {
         "anchor": "x",
         "domain": [
          0,
          1
         ],
         "title": {
          "text": "Count"
         }
        }
       }
      }
     },
     "metadata": {},
     "output_type": "display_data"
    }
   ],
   "source": [
    "fig = px.bar(core_data.group_by('available_gb').len(), x=\"available_gb\", y='len', title=\"Distribution of Contract Lifetime Days\")\n",
    "fig.update_layout(xaxis_title=\"GB\", yaxis_title=\"Count\")\n",
    "fig.show()"
   ]
  },
  {
   "cell_type": "code",
   "execution_count": 81,
   "id": "03bdf672",
   "metadata": {},
   "outputs": [
    {
     "data": {
      "application/vnd.plotly.v1+json": {
       "config": {
        "plotlyServerURL": "https://plot.ly"
       },
       "data": [
        {
         "hovertemplate": "variable=positive<br>available_gb=%{x}<br>value=%{y}<extra></extra>",
         "legendgroup": "positive",
         "marker": {
          "color": "#636efa",
          "pattern": {
           "shape": ""
          }
         },
         "name": "positive",
         "orientation": "v",
         "showlegend": true,
         "textposition": "auto",
         "type": "bar",
         "x": {
          "bdata": "AAAAAAAA+H8AAAAAAAAAAAAAAAAAACRAAAAAAAAANEAAAAAAAAA+QAAAAAAAAERAAAAAAAAASUA=",
          "dtype": "f8"
         },
         "xaxis": "x",
         "y": {
          "bdata": "QwMAAPEEAAD0BAAA7AQAAEsDAAAeAwAADAMAAA==",
          "dtype": "u4"
         },
         "yaxis": "y"
        },
        {
         "hovertemplate": "variable=negative<br>available_gb=%{x}<br>value=%{y}<extra></extra>",
         "legendgroup": "negative",
         "marker": {
          "color": "#EF553B",
          "pattern": {
           "shape": ""
          }
         },
         "name": "negative",
         "orientation": "v",
         "showlegend": true,
         "textposition": "auto",
         "type": "bar",
         "x": {
          "bdata": "AAAAAAAA+H8AAAAAAAAAAAAAAAAAACRAAAAAAAAANEAAAAAAAAA+QAAAAAAAAERAAAAAAAAASUA=",
          "dtype": "f8"
         },
         "xaxis": "x",
         "y": {
          "bdata": "ATQAAN8yAAAUMwAAnTIAABo1AAC8NAAAsDQAAA==",
          "dtype": "u4"
         },
         "yaxis": "y"
        }
       ],
       "layout": {
        "barmode": "relative",
        "legend": {
         "title": {
          "text": "variable"
         },
         "tracegroupgap": 0
        },
        "template": {
         "data": {
          "bar": [
           {
            "error_x": {
             "color": "#2a3f5f"
            },
            "error_y": {
             "color": "#2a3f5f"
            },
            "marker": {
             "line": {
              "color": "#E5ECF6",
              "width": 0.5
             },
             "pattern": {
              "fillmode": "overlay",
              "size": 10,
              "solidity": 0.2
             }
            },
            "type": "bar"
           }
          ],
          "barpolar": [
           {
            "marker": {
             "line": {
              "color": "#E5ECF6",
              "width": 0.5
             },
             "pattern": {
              "fillmode": "overlay",
              "size": 10,
              "solidity": 0.2
             }
            },
            "type": "barpolar"
           }
          ],
          "carpet": [
           {
            "aaxis": {
             "endlinecolor": "#2a3f5f",
             "gridcolor": "white",
             "linecolor": "white",
             "minorgridcolor": "white",
             "startlinecolor": "#2a3f5f"
            },
            "baxis": {
             "endlinecolor": "#2a3f5f",
             "gridcolor": "white",
             "linecolor": "white",
             "minorgridcolor": "white",
             "startlinecolor": "#2a3f5f"
            },
            "type": "carpet"
           }
          ],
          "choropleth": [
           {
            "colorbar": {
             "outlinewidth": 0,
             "ticks": ""
            },
            "type": "choropleth"
           }
          ],
          "contour": [
           {
            "colorbar": {
             "outlinewidth": 0,
             "ticks": ""
            },
            "colorscale": [
             [
              0,
              "#0d0887"
             ],
             [
              0.1111111111111111,
              "#46039f"
             ],
             [
              0.2222222222222222,
              "#7201a8"
             ],
             [
              0.3333333333333333,
              "#9c179e"
             ],
             [
              0.4444444444444444,
              "#bd3786"
             ],
             [
              0.5555555555555556,
              "#d8576b"
             ],
             [
              0.6666666666666666,
              "#ed7953"
             ],
             [
              0.7777777777777778,
              "#fb9f3a"
             ],
             [
              0.8888888888888888,
              "#fdca26"
             ],
             [
              1,
              "#f0f921"
             ]
            ],
            "type": "contour"
           }
          ],
          "contourcarpet": [
           {
            "colorbar": {
             "outlinewidth": 0,
             "ticks": ""
            },
            "type": "contourcarpet"
           }
          ],
          "heatmap": [
           {
            "colorbar": {
             "outlinewidth": 0,
             "ticks": ""
            },
            "colorscale": [
             [
              0,
              "#0d0887"
             ],
             [
              0.1111111111111111,
              "#46039f"
             ],
             [
              0.2222222222222222,
              "#7201a8"
             ],
             [
              0.3333333333333333,
              "#9c179e"
             ],
             [
              0.4444444444444444,
              "#bd3786"
             ],
             [
              0.5555555555555556,
              "#d8576b"
             ],
             [
              0.6666666666666666,
              "#ed7953"
             ],
             [
              0.7777777777777778,
              "#fb9f3a"
             ],
             [
              0.8888888888888888,
              "#fdca26"
             ],
             [
              1,
              "#f0f921"
             ]
            ],
            "type": "heatmap"
           }
          ],
          "histogram": [
           {
            "marker": {
             "pattern": {
              "fillmode": "overlay",
              "size": 10,
              "solidity": 0.2
             }
            },
            "type": "histogram"
           }
          ],
          "histogram2d": [
           {
            "colorbar": {
             "outlinewidth": 0,
             "ticks": ""
            },
            "colorscale": [
             [
              0,
              "#0d0887"
             ],
             [
              0.1111111111111111,
              "#46039f"
             ],
             [
              0.2222222222222222,
              "#7201a8"
             ],
             [
              0.3333333333333333,
              "#9c179e"
             ],
             [
              0.4444444444444444,
              "#bd3786"
             ],
             [
              0.5555555555555556,
              "#d8576b"
             ],
             [
              0.6666666666666666,
              "#ed7953"
             ],
             [
              0.7777777777777778,
              "#fb9f3a"
             ],
             [
              0.8888888888888888,
              "#fdca26"
             ],
             [
              1,
              "#f0f921"
             ]
            ],
            "type": "histogram2d"
           }
          ],
          "histogram2dcontour": [
           {
            "colorbar": {
             "outlinewidth": 0,
             "ticks": ""
            },
            "colorscale": [
             [
              0,
              "#0d0887"
             ],
             [
              0.1111111111111111,
              "#46039f"
             ],
             [
              0.2222222222222222,
              "#7201a8"
             ],
             [
              0.3333333333333333,
              "#9c179e"
             ],
             [
              0.4444444444444444,
              "#bd3786"
             ],
             [
              0.5555555555555556,
              "#d8576b"
             ],
             [
              0.6666666666666666,
              "#ed7953"
             ],
             [
              0.7777777777777778,
              "#fb9f3a"
             ],
             [
              0.8888888888888888,
              "#fdca26"
             ],
             [
              1,
              "#f0f921"
             ]
            ],
            "type": "histogram2dcontour"
           }
          ],
          "mesh3d": [
           {
            "colorbar": {
             "outlinewidth": 0,
             "ticks": ""
            },
            "type": "mesh3d"
           }
          ],
          "parcoords": [
           {
            "line": {
             "colorbar": {
              "outlinewidth": 0,
              "ticks": ""
             }
            },
            "type": "parcoords"
           }
          ],
          "pie": [
           {
            "automargin": true,
            "type": "pie"
           }
          ],
          "scatter": [
           {
            "fillpattern": {
             "fillmode": "overlay",
             "size": 10,
             "solidity": 0.2
            },
            "type": "scatter"
           }
          ],
          "scatter3d": [
           {
            "line": {
             "colorbar": {
              "outlinewidth": 0,
              "ticks": ""
             }
            },
            "marker": {
             "colorbar": {
              "outlinewidth": 0,
              "ticks": ""
             }
            },
            "type": "scatter3d"
           }
          ],
          "scattercarpet": [
           {
            "marker": {
             "colorbar": {
              "outlinewidth": 0,
              "ticks": ""
             }
            },
            "type": "scattercarpet"
           }
          ],
          "scattergeo": [
           {
            "marker": {
             "colorbar": {
              "outlinewidth": 0,
              "ticks": ""
             }
            },
            "type": "scattergeo"
           }
          ],
          "scattergl": [
           {
            "marker": {
             "colorbar": {
              "outlinewidth": 0,
              "ticks": ""
             }
            },
            "type": "scattergl"
           }
          ],
          "scattermap": [
           {
            "marker": {
             "colorbar": {
              "outlinewidth": 0,
              "ticks": ""
             }
            },
            "type": "scattermap"
           }
          ],
          "scattermapbox": [
           {
            "marker": {
             "colorbar": {
              "outlinewidth": 0,
              "ticks": ""
             }
            },
            "type": "scattermapbox"
           }
          ],
          "scatterpolar": [
           {
            "marker": {
             "colorbar": {
              "outlinewidth": 0,
              "ticks": ""
             }
            },
            "type": "scatterpolar"
           }
          ],
          "scatterpolargl": [
           {
            "marker": {
             "colorbar": {
              "outlinewidth": 0,
              "ticks": ""
             }
            },
            "type": "scatterpolargl"
           }
          ],
          "scatterternary": [
           {
            "marker": {
             "colorbar": {
              "outlinewidth": 0,
              "ticks": ""
             }
            },
            "type": "scatterternary"
           }
          ],
          "surface": [
           {
            "colorbar": {
             "outlinewidth": 0,
             "ticks": ""
            },
            "colorscale": [
             [
              0,
              "#0d0887"
             ],
             [
              0.1111111111111111,
              "#46039f"
             ],
             [
              0.2222222222222222,
              "#7201a8"
             ],
             [
              0.3333333333333333,
              "#9c179e"
             ],
             [
              0.4444444444444444,
              "#bd3786"
             ],
             [
              0.5555555555555556,
              "#d8576b"
             ],
             [
              0.6666666666666666,
              "#ed7953"
             ],
             [
              0.7777777777777778,
              "#fb9f3a"
             ],
             [
              0.8888888888888888,
              "#fdca26"
             ],
             [
              1,
              "#f0f921"
             ]
            ],
            "type": "surface"
           }
          ],
          "table": [
           {
            "cells": {
             "fill": {
              "color": "#EBF0F8"
             },
             "line": {
              "color": "white"
             }
            },
            "header": {
             "fill": {
              "color": "#C8D4E3"
             },
             "line": {
              "color": "white"
             }
            },
            "type": "table"
           }
          ]
         },
         "layout": {
          "annotationdefaults": {
           "arrowcolor": "#2a3f5f",
           "arrowhead": 0,
           "arrowwidth": 1
          },
          "autotypenumbers": "strict",
          "coloraxis": {
           "colorbar": {
            "outlinewidth": 0,
            "ticks": ""
           }
          },
          "colorscale": {
           "diverging": [
            [
             0,
             "#8e0152"
            ],
            [
             0.1,
             "#c51b7d"
            ],
            [
             0.2,
             "#de77ae"
            ],
            [
             0.3,
             "#f1b6da"
            ],
            [
             0.4,
             "#fde0ef"
            ],
            [
             0.5,
             "#f7f7f7"
            ],
            [
             0.6,
             "#e6f5d0"
            ],
            [
             0.7,
             "#b8e186"
            ],
            [
             0.8,
             "#7fbc41"
            ],
            [
             0.9,
             "#4d9221"
            ],
            [
             1,
             "#276419"
            ]
           ],
           "sequential": [
            [
             0,
             "#0d0887"
            ],
            [
             0.1111111111111111,
             "#46039f"
            ],
            [
             0.2222222222222222,
             "#7201a8"
            ],
            [
             0.3333333333333333,
             "#9c179e"
            ],
            [
             0.4444444444444444,
             "#bd3786"
            ],
            [
             0.5555555555555556,
             "#d8576b"
            ],
            [
             0.6666666666666666,
             "#ed7953"
            ],
            [
             0.7777777777777778,
             "#fb9f3a"
            ],
            [
             0.8888888888888888,
             "#fdca26"
            ],
            [
             1,
             "#f0f921"
            ]
           ],
           "sequentialminus": [
            [
             0,
             "#0d0887"
            ],
            [
             0.1111111111111111,
             "#46039f"
            ],
            [
             0.2222222222222222,
             "#7201a8"
            ],
            [
             0.3333333333333333,
             "#9c179e"
            ],
            [
             0.4444444444444444,
             "#bd3786"
            ],
            [
             0.5555555555555556,
             "#d8576b"
            ],
            [
             0.6666666666666666,
             "#ed7953"
            ],
            [
             0.7777777777777778,
             "#fb9f3a"
            ],
            [
             0.8888888888888888,
             "#fdca26"
            ],
            [
             1,
             "#f0f921"
            ]
           ]
          },
          "colorway": [
           "#636efa",
           "#EF553B",
           "#00cc96",
           "#ab63fa",
           "#FFA15A",
           "#19d3f3",
           "#FF6692",
           "#B6E880",
           "#FF97FF",
           "#FECB52"
          ],
          "font": {
           "color": "#2a3f5f"
          },
          "geo": {
           "bgcolor": "white",
           "lakecolor": "white",
           "landcolor": "#E5ECF6",
           "showlakes": true,
           "showland": true,
           "subunitcolor": "white"
          },
          "hoverlabel": {
           "align": "left"
          },
          "hovermode": "closest",
          "mapbox": {
           "style": "light"
          },
          "paper_bgcolor": "white",
          "plot_bgcolor": "#E5ECF6",
          "polar": {
           "angularaxis": {
            "gridcolor": "white",
            "linecolor": "white",
            "ticks": ""
           },
           "bgcolor": "#E5ECF6",
           "radialaxis": {
            "gridcolor": "white",
            "linecolor": "white",
            "ticks": ""
           }
          },
          "scene": {
           "xaxis": {
            "backgroundcolor": "#E5ECF6",
            "gridcolor": "white",
            "gridwidth": 2,
            "linecolor": "white",
            "showbackground": true,
            "ticks": "",
            "zerolinecolor": "white"
           },
           "yaxis": {
            "backgroundcolor": "#E5ECF6",
            "gridcolor": "white",
            "gridwidth": 2,
            "linecolor": "white",
            "showbackground": true,
            "ticks": "",
            "zerolinecolor": "white"
           },
           "zaxis": {
            "backgroundcolor": "#E5ECF6",
            "gridcolor": "white",
            "gridwidth": 2,
            "linecolor": "white",
            "showbackground": true,
            "ticks": "",
            "zerolinecolor": "white"
           }
          },
          "shapedefaults": {
           "line": {
            "color": "#2a3f5f"
           }
          },
          "ternary": {
           "aaxis": {
            "gridcolor": "white",
            "linecolor": "white",
            "ticks": ""
           },
           "baxis": {
            "gridcolor": "white",
            "linecolor": "white",
            "ticks": ""
           },
           "bgcolor": "#E5ECF6",
           "caxis": {
            "gridcolor": "white",
            "linecolor": "white",
            "ticks": ""
           }
          },
          "title": {
           "x": 0.05
          },
          "xaxis": {
           "automargin": true,
           "gridcolor": "white",
           "linecolor": "white",
           "ticks": "",
           "title": {
            "standoff": 15
           },
           "zerolinecolor": "white",
           "zerolinewidth": 2
          },
          "yaxis": {
           "automargin": true,
           "gridcolor": "white",
           "linecolor": "white",
           "ticks": "",
           "title": {
            "standoff": 15
           },
           "zerolinecolor": "white",
           "zerolinewidth": 2
          }
         }
        },
        "title": {
         "text": "Distribution upselling customer by available data"
        },
        "xaxis": {
         "anchor": "y",
         "domain": [
          0,
          1
         ],
         "title": {
          "text": "available_gb"
         }
        },
        "yaxis": {
         "anchor": "x",
         "domain": [
          0,
          1
         ],
         "title": {
          "text": "value"
         }
        }
       }
      }
     },
     "metadata": {},
     "output_type": "display_data"
    }
   ],
   "source": [
    "\n",
    "binned_gb_upselling = core_data.group_by('available_gb').agg(\n",
    "    pl.len().alias(\"count\"),\n",
    "    (pl.col(\"has_done_upselling\") == True).sum().alias(\"positive\"),\n",
    "    (pl.col(\"has_done_upselling\") == False).sum().alias(\"negative\"),\n",
    ").sort('available_gb')\n",
    "\n",
    "fig = px.bar(binned_gb_upselling, x=\"available_gb\", y=['positive', 'negative'], title='Distribution upselling customer by available data')\n",
    "fig.show()"
   ]
  },
  {
   "cell_type": "markdown",
   "id": "b3f41108",
   "metadata": {},
   "source": [
    "### Customers porfolio analysis"
   ]
  },
  {
   "cell_type": "code",
   "execution_count": 28,
   "id": "5d43ecae",
   "metadata": {},
   "outputs": [
    {
     "data": {
      "text/html": [
       "<div><style>\n",
       ".dataframe > thead > tr,\n",
       ".dataframe > tbody > tr {\n",
       "  text-align: right;\n",
       "  white-space: pre-wrap;\n",
       "}\n",
       "</style>\n",
       "<small>shape: (8, 19)</small><table border=\"1\" class=\"dataframe\"><thead><tr><th>Portfolio Size</th><th>Total Customers</th><th>Customers Pool Percentage (%)</th><th>Customers with Upselling (%)</th><th>Avg Upselling Contracts per Customer</th><th>Avg Total Spend (€)</th><th>Avg per Contract (€)</th><th>Avg Age per Contract (years)</th><th>Avg Contract Lifetime (days)</th><th>Max Contract Lifetime (days)</th><th>Avg Completed Contracts</th><th>Avg Completion Rate (%)</th><th>Avg Total Data (GB)</th><th>Avg Data per Contract (GB)</th><th>Avg Cost per GB (€)</th><th>Magenta1 Percentage (%)</th><th>Special Offer Percentage (%)</th><th>Avg Count Smartphone Brands</th><th>Max Count Smartphone Brands</th></tr><tr><td>u32</td><td>u32</td><td>f64</td><td>f64</td><td>f64</td><td>f64</td><td>f64</td><td>f64</td><td>f64</td><td>i64</td><td>f64</td><td>f64</td><td>f64</td><td>f64</td><td>f64</td><td>f64</td><td>f64</td><td>f64</td><td>u32</td></tr></thead><tbody><tr><td>1</td><td>30574</td><td>52.27</td><td>6.88</td><td>1</td><td>37.63</td><td>37.63</td><td>43.91</td><td>779.29</td><td>1825</td><td>0.5</td><td>73.08</td><td>21.43</td><td>25.01</td><td>1.73</td><td>29.62</td><td>30.18</td><td>1</td><td>1</td></tr><tr><td>2</td><td>17945</td><td>30.68</td><td>13.9</td><td>1.04</td><td>74.85</td><td>37.43</td><td>43.88</td><td>776.39</td><td>1825</td><td>1</td><td>73.24</td><td>43.03</td><td>25.11</td><td>1.71</td><td>51.04</td><td>51.41</td><td>1.68</td><td>2</td></tr><tr><td>3</td><td>7200</td><td>12.31</td><td>19.75</td><td>1.07</td><td>112.12</td><td>37.37</td><td>43.77</td><td>779.98</td><td>1825</td><td>1.5</td><td>73.33</td><td>64.01</td><td>24.74</td><td>1.72</td><td>66.06</td><td>64.72</td><td>2.14</td><td>3</td></tr><tr><td>4</td><td>2100</td><td>3.59</td><td>24.24</td><td>1.13</td><td>152.05</td><td>38.01</td><td>43.59</td><td>776.77</td><td>1825</td><td>1.97</td><td>73.06</td><td>86.03</td><td>25.23</td><td>1.73</td><td>76.95</td><td>75.38</td><td>2.46</td><td>4</td></tr><tr><td>5</td><td>552</td><td>0.94</td><td>34.06</td><td>1.18</td><td>188.5</td><td>37.7</td><td>44.07</td><td>787.92</td><td>1825</td><td>2.5</td><td>73.04</td><td>109.96</td><td>25.27</td><td>1.69</td><td>82.97</td><td>81.34</td><td>2.67</td><td>5</td></tr><tr><td>6</td><td>96</td><td>0.16</td><td>23.96</td><td>1.17</td><td>224.34</td><td>37.39</td><td>44.2</td><td>805.08</td><td>1823</td><td>2.96</td><td>73.29</td><td>129.69</td><td>25.01</td><td>1.68</td><td>85.42</td><td>90.62</td><td>2.89</td><td>4</td></tr><tr><td>7</td><td>24</td><td>0.04</td><td>33.33</td><td>1.12</td><td>277.81</td><td>39.69</td><td>44.21</td><td>840.54</td><td>1822</td><td>3.58</td><td>72.43</td><td>152.5</td><td>24.49</td><td>2.02</td><td>95.83</td><td>95.83</td><td>2.96</td><td>4</td></tr><tr><td>8</td><td>4</td><td>0.01</td><td>75</td><td>1.67</td><td>272.47</td><td>34.06</td><td>42.38</td><td>568.25</td><td>1663</td><td>5.5</td><td>70.21</td><td>162.5</td><td>26.92</td><td>1.36</td><td>100</td><td>100</td><td>3</td><td>3</td></tr></tbody></table></div>"
      ],
      "text/plain": [
       "shape: (8, 19)\n",
       "┌───────────┬───────────┬───────────┬───────────┬───┬───────────┬───────────┬───────────┬──────────┐\n",
       "│ Portfolio ┆ Total     ┆ Customers ┆ Customers ┆ … ┆ Magenta1  ┆ Special   ┆ Avg Count ┆ Max      │\n",
       "│ Size      ┆ Customers ┆ Pool Perc ┆ with      ┆   ┆ Percentag ┆ Offer Per ┆ Smartphon ┆ Count    │\n",
       "│ ---       ┆ ---       ┆ entage    ┆ Upselling ┆   ┆ e (%)     ┆ centage   ┆ e Brands  ┆ Smartpho │\n",
       "│ u32       ┆ u32       ┆ (%)       ┆ (%)       ┆   ┆ ---       ┆ (%)       ┆ ---       ┆ ne       │\n",
       "│           ┆           ┆ ---       ┆ ---       ┆   ┆ f64       ┆ ---       ┆ f64       ┆ Brands   │\n",
       "│           ┆           ┆ f64       ┆ f64       ┆   ┆           ┆ f64       ┆           ┆ ---      │\n",
       "│           ┆           ┆           ┆           ┆   ┆           ┆           ┆           ┆ u32      │\n",
       "╞═══════════╪═══════════╪═══════════╪═══════════╪═══╪═══════════╪═══════════╪═══════════╪══════════╡\n",
       "│ 1         ┆ 30574     ┆ 52.27     ┆ 6.88      ┆ … ┆ 29.62     ┆ 30.18     ┆ 1         ┆ 1        │\n",
       "│ 2         ┆ 17945     ┆ 30.68     ┆ 13.9      ┆ … ┆ 51.04     ┆ 51.41     ┆ 1.68      ┆ 2        │\n",
       "│ 3         ┆ 7200      ┆ 12.31     ┆ 19.75     ┆ … ┆ 66.06     ┆ 64.72     ┆ 2.14      ┆ 3        │\n",
       "│ 4         ┆ 2100      ┆ 3.59      ┆ 24.24     ┆ … ┆ 76.95     ┆ 75.38     ┆ 2.46      ┆ 4        │\n",
       "│ 5         ┆ 552       ┆ 0.94      ┆ 34.06     ┆ … ┆ 82.97     ┆ 81.34     ┆ 2.67      ┆ 5        │\n",
       "│ 6         ┆ 96        ┆ 0.16      ┆ 23.96     ┆ … ┆ 85.42     ┆ 90.62     ┆ 2.89      ┆ 4        │\n",
       "│ 7         ┆ 24        ┆ 0.04      ┆ 33.33     ┆ … ┆ 95.83     ┆ 95.83     ┆ 2.96      ┆ 4        │\n",
       "│ 8         ┆ 4         ┆ 0.01      ┆ 75        ┆ … ┆ 100       ┆ 100       ┆ 3         ┆ 3        │\n",
       "└───────────┴───────────┴───────────┴───────────┴───┴───────────┴───────────┴───────────┴──────────┘"
      ]
     },
     "execution_count": 28,
     "metadata": {},
     "output_type": "execute_result"
    }
   ],
   "source": [
    "customer_portfolio_value = (\n",
    "    core_data\n",
    "    .group_by('customer_id')\n",
    "    .agg([\n",
    "        pl.col('rating_account_id').count().alias('portfolio_size'),\n",
    "        \n",
    "        pl.col('gross_mrc').sum().alias('total_value'),\n",
    "        pl.col('gross_mrc').mean().alias('avg_per_contract'),\n",
    "        \n",
    "        pl.col('has_done_upselling').max().alias('any_upselling'),\n",
    "        pl.col('has_done_upselling').sum().alias('count_upselling'),\n",
    "        (pl.col('has_done_upselling').sum() / pl.col('rating_account_id').count() * 100).round(2).alias('rate_upselling'),\n",
    "        \n",
    "        pl.col('age').min().alias('min_age'),\n",
    "        pl.col('age').max().alias('max_age'),\n",
    "        pl.col('age').mean().alias('avg_age'),\n",
    "        pl.col('age').std().alias('age_std'),\n",
    "\n",
    "        pl.col('contract_lifetime_days').mean().alias('avg_contract_lifetime'),\n",
    "        pl.col('contract_lifetime_days').max().alias('max_contract_lifetime'),\n",
    "\n",
    "        (pl.col('remaining_binding_days') < 0).sum().alias('count_completed_contracts'),\n",
    "\n",
    "        pl.col('completion_rate').filter(pl.col('completion_rate') < 1.0).mean().alias('avg_completion_rate'),\n",
    "        pl.col('completion_rate').filter(pl.col('completion_rate') < 1.0).min().alias('min_completion_rate'),\n",
    "        pl.col('completion_rate').filter(pl.col('completion_rate') < 1.0).max().alias('max_completion_rate'),\n",
    "        \n",
    "        pl.col('available_gb').sum().alias('total_data_value'),\n",
    "        pl.col('available_gb').mean().alias('avg_data_value'),\n",
    "\n",
    "        pl.col('cost_per_gb').filter(~pl.col('cost_per_gb').is_infinite()).mean().alias('avg_cost_per_gb'),\n",
    "\n",
    "        pl.col('is_magenta1_customer').any().alias('any_magenta1_customer'),\n",
    "\n",
    "        pl.col('has_special_offer').any().alias('any_special_offer'),\n",
    "\n",
    "        pl.col('smartphone_brand').n_unique().alias('count_smartphone_brands'),\n",
    "    ])\n",
    ")\n",
    "\n",
    "\n",
    "portfolio_summary = (\n",
    "    customer_portfolio_value\n",
    "    .group_by('portfolio_size')\n",
    "    .agg([\n",
    "        pl.col('customer_id').n_unique().alias('total_customers'),\n",
    "\n",
    "        (pl.col('customer_id').n_unique() / n_customers * 100).round(2).alias('percent_customers'),\n",
    "\n",
    "        # Percentage of customers who have done at least one upselling (within this portfolio size)\n",
    "        (pl.col('any_upselling').mean() * 100).round(2).alias('customers_with_upselling_percent'),\n",
    "                \n",
    "        # Average number of upselling contracts per customer\n",
    "        pl.col('count_upselling').filter(pl.col('count_upselling') > 0).mean().round(2).alias('avg_upselling_contracts_per_customer'),\n",
    "\n",
    "        pl.col('total_value').mean().round(2).alias('avg_total_spend'),\n",
    "        pl.col('avg_per_contract').mean().round(2).alias('avg_per_contract'),\n",
    "        \n",
    "        pl.col('avg_age').mean().round(2).alias('avg_age_per_contract'),\n",
    "        \n",
    "        pl.col('avg_contract_lifetime').mean().round(2).alias('avg_contract_lifetime_days'),\n",
    "        pl.col('max_contract_lifetime').max().alias('max_contract_lifetime_days'),\n",
    "\n",
    "        pl.col('count_completed_contracts').mean().round(2).alias('avg_completed_contracts'),\n",
    "\n",
    "        (pl.col('avg_completion_rate') * 100).mean().round(2).alias('avg_completion_rate'),\n",
    "\n",
    "        pl.col('total_data_value').mean().round(2).alias('avg_total_data'),\n",
    "        pl.col('avg_data_value').mean().round(2).alias('avg_data_per_contract'),\n",
    "\n",
    "        pl.col('avg_cost_per_gb').mean().round(2).alias('avg_cost_per_gb'),\n",
    "\n",
    "        (pl.col('any_magenta1_customer').mean() * 100).round(2).alias('magenta1_percent'),\n",
    "\n",
    "        (pl.col('any_special_offer').mean() * 100).round(2).alias('specialoffer_percent'),\n",
    "\n",
    "        pl.col('count_smartphone_brands').mean().round(2).alias('avg_count_smartphone_brands'),\n",
    "        pl.col('count_smartphone_brands').max().alias('max_count_smartphone_brands'),\n",
    "    ])\n",
    "    .sort('portfolio_size', descending=False)\n",
    ")\n",
    "\n",
    "portfolio_summary = portfolio_summary.rename({\n",
    "    'portfolio_size': 'Portfolio Size',\n",
    "\n",
    "    'total_customers': 'Total Customers',\n",
    "    'percent_customers': 'Customers Pool Percentage (%)',\n",
    "\n",
    "    'avg_total_spend': 'Avg Total Spend (€)',\n",
    "    'avg_per_contract': 'Avg per Contract (€)',\n",
    "\n",
    "    'avg_age_per_contract': 'Avg Age per Contract (years)',\n",
    "\n",
    "    'avg_contract_lifetime_days': 'Avg Contract Lifetime (days)',\n",
    "    'max_contract_lifetime_days': 'Max Contract Lifetime (days)',\n",
    "\n",
    "    'avg_completed_contracts': 'Avg Completed Contracts',\n",
    "    'avg_completion_rate': 'Avg Completion Rate (%)',\n",
    "\n",
    "    'avg_total_data': 'Avg Total Data (GB)',\n",
    "    'avg_data_per_contract': 'Avg Data per Contract (GB)',\n",
    "\n",
    "    'avg_cost_per_gb': 'Avg Cost per GB (€)',\n",
    "\n",
    "    'magenta1_percent': 'Magenta1 Percentage (%)',\n",
    "\n",
    "    'specialoffer_percent': 'Special Offer Percentage (%)',\n",
    "\n",
    "    'avg_count_smartphone_brands': 'Avg Count Smartphone Brands',\n",
    "    'max_count_smartphone_brands': 'Max Count Smartphone Brands',\n",
    "\n",
    "    'customers_with_upselling_percent': 'Customers with Upselling (%)',\n",
    "    'avg_upselling_contracts_per_customer': 'Avg Upselling Contracts per Customer',  # Average of customers that have at least one upselling contract\n",
    "})\n",
    "\n",
    "portfolio_summary"
   ]
  },
  {
   "cell_type": "markdown",
   "id": "5a23ab67",
   "metadata": {},
   "source": [
    "### Upselling distribution"
   ]
  },
  {
   "cell_type": "code",
   "execution_count": 29,
   "id": "1254a7cd",
   "metadata": {},
   "outputs": [
    {
     "name": "stdout",
     "output_type": "stream",
     "text": [
      "The core_data has 7049(7.05%) upsold contracts.\n",
      "\n",
      "The core_data has 6750(11.54%) customers with at least one upselling contract.\n",
      "The core_data has 287(0.49%) customers with more than one upselling contract.\n",
      "The core_data has an average of 1.04 upsold contracts between customers with upsold contracts.\n",
      "The core_data has an average of 0.12 upsold contracts per customer with a maximum of 3 upsold contracts per customer.\n",
      "\n",
      "The core_data has an average age of 41.78 years for customers with upsold contracts.\n",
      "The core_data has an age between 18 and 100 years for customers with upsold contracts.\n",
      "\n",
      "The core_data has an average age of 44.00 years for customers without upsold contracts.\n",
      "The core_data has an age between 18 and 100 years for customers without upsold contracts.\n",
      "\n",
      "The core_data has 3239(45.95%) upsold contracts with still bindings.\n",
      "The core_data has an average of 277.86 days of still bindings for upsold contracts.\n",
      "\n",
      "The core_data has 3802(53.94%) upsold contracts with exceeded bindings.\n",
      "The core_data has an average of 289.17 days of exceeded bindings for upsold contracts.\n",
      "\n",
      "The core_data has an average completion rate of 73.57% for customers with upsold contracts.\n",
      "\n",
      "The core_data has an average data volume of 21.58 GB for upsold contracts.\n",
      "The core_data has an average cost per GB of 1.85 euros for upsold contracts.\n",
      "\n",
      "The core_data has an average data volume of 25.27 GB for customers without upsold contracts.\n",
      "The core_data has an average cost per GB of 1.71 euros for customers without upsold contracts.\n",
      "\n",
      "The core_data has an average spending of 35.72 euros for upsold contracts.\n",
      "The core_data has an average spending of 37.68 euros for customers without upsold contracts.\n",
      "\n",
      "The core_data has 2103(29.83%) upsold contracts with special offers.\n",
      "The core_data has 4946(70.17%) upsold contracts without special offers.\n",
      "The core_data has 65101(70.04%) non-upsold contracts without special offers.\n",
      "The core_data has 27850(29.96%) non-upsold contracts with special offers.\n",
      "\n",
      "The core_data has 2510(35.61%) upsold contracts with Magenta1.\n",
      "The core_data has 4539(64.39%) upsold contracts without Magenta1.\n",
      "The core_data has 65532(70.50%) non-upsold contracts without Magenta1.\n",
      "The core_data has 27419(29.50%) non-upsold contracts with Magenta1.\n",
      "\n"
     ]
    }
   ],
   "source": [
    "n_upselling = core_data.filter(pl.col('has_done_upselling')).shape[0]\n",
    "\n",
    "n_upselling_per_customer = core_data.group_by('customer_id').agg(pl.col('has_done_upselling').sum())\n",
    "n_upselling_customers = n_upselling_per_customer.filter(pl.col('has_done_upselling') > 0).shape[0]\n",
    "n_more1_upselling_customers = n_upselling_per_customer.filter(pl.col('has_done_upselling') > 1).shape[0]\n",
    "avg_upselling_per_customer = n_upselling_per_customer.select(pl.col('has_done_upselling')).mean().item()\n",
    "avg_upselling_per_upselling_customer = n_upselling_per_customer.filter(pl.col('has_done_upselling') > 0).select(pl.col('has_done_upselling')).mean().item()\n",
    "max_upselling_per_customer = n_upselling_per_customer.select(pl.col('has_done_upselling')).max().item()\n",
    "\n",
    "upselling_contracts = core_data.filter(pl.col('has_done_upselling'))\n",
    "not_upselling_contracts = core_data.filter(~pl.col('has_done_upselling'))\n",
    "\n",
    "min_age_upselling = upselling_contracts.select(pl.col('age')).min().item()\n",
    "max_age_upselling = upselling_contracts.select(pl.col('age')).max().item()\n",
    "avg_age_upselling = upselling_contracts.select(pl.col('age')).mean().item()\n",
    "\n",
    "min_age_not_upselling = not_upselling_contracts.select(pl.col('age')).min().item()\n",
    "max_age_not_upselling = not_upselling_contracts.select(pl.col('age')).max().item()\n",
    "avg_age_not_upselling = not_upselling_contracts.select(pl.col('age')).mean().item()\n",
    "\n",
    "count_not_bound_upselling = upselling_contracts.filter(pl.col('remaining_binding_days') < 0).shape[0]\n",
    "count_bound_upselling = upselling_contracts.filter(pl.col('remaining_binding_days') > 0).shape[0]\n",
    "avg_binding_upselling = upselling_contracts.filter(pl.col('remaining_binding_days') > 0).select(pl.col('remaining_binding_days')).mean().item()\n",
    "avg_exceeded_binding_upselling = upselling_contracts.filter(pl.col('remaining_binding_days') < 0).select(pl.col('remaining_binding_days')).mean().item()\n",
    "\n",
    "avg_completion_rate_upselling = upselling_contracts.filter(pl.col('completion_rate') < 1.0).select(pl.col('completion_rate')).mean().item()\n",
    "\n",
    "avg_data_upselling = upselling_contracts.select(pl.col('available_gb')).mean().item()\n",
    "avg_cost_per_gb_upselling = upselling_contracts.filter(~pl.col('cost_per_gb').is_infinite()).select(pl.col('cost_per_gb')).mean().item()\n",
    "avg_data_not_upselling = not_upselling_contracts.select(pl.col('available_gb')).mean().item()\n",
    "avg_cost_per_gb_not_upselling = not_upselling_contracts.filter(~pl.col('cost_per_gb').is_infinite()).select(pl.col('cost_per_gb')).mean().item()\n",
    "\n",
    "avg_spending_upselling = upselling_contracts.select(pl.col('gross_mrc')).mean().item()\n",
    "avg_spending_not_upselling = not_upselling_contracts.select(pl.col('gross_mrc')).mean().item()\n",
    "\n",
    "count_special_offer_upselling = upselling_contracts.filter(pl.col('has_special_offer')).shape[0]\n",
    "count_special_offer_not_upselling = not_upselling_contracts.filter(pl.col('has_special_offer')).shape[0]\n",
    "count_not_special_offer_upselling = upselling_contracts.filter(~pl.col('has_special_offer')).shape[0]\n",
    "count_not_special_offer_not_upselling = not_upselling_contracts.filter(~pl.col('has_special_offer')).shape[0]\n",
    "\n",
    "count_magenta1_upselling = upselling_contracts.filter(pl.col('is_magenta1_customer')).shape[0]\n",
    "count_not_magenta1_upselling = upselling_contracts.filter(~pl.col('is_magenta1_customer')).shape[0]\n",
    "count_magenta1_not_upselling = not_upselling_contracts.filter(pl.col('is_magenta1_customer')).shape[0]\n",
    "count_not_magenta1_not_upselling = not_upselling_contracts.filter(~pl.col('is_magenta1_customer')).shape[0]\n",
    "\n",
    "\n",
    "print(f'The core_data has {n_upselling}({n_upselling / n_contracts * 100:.2f}%) upsold contracts.\\n')\n",
    "\n",
    "print(f'The core_data has {n_upselling_customers}({n_upselling_customers / n_customers * 100:.2f}%) customers with at least one upselling contract.')\n",
    "print(f'The core_data has {n_more1_upselling_customers}({n_more1_upselling_customers / n_customers * 100:.2f}%) customers with more than one upselling contract.')\n",
    "print(f'The core_data has an average of {avg_upselling_per_upselling_customer:.2f} upsold contracts between customers with upsold contracts.')\n",
    "print(f'The core_data has an average of {avg_upselling_per_customer:.2f} upsold contracts per customer with a maximum of {max_upselling_per_customer} upsold contracts per customer.\\n')\n",
    "\n",
    "print(f'The core_data has an average age of {avg_age_upselling:.2f} years for customers with upsold contracts.')\n",
    "print(f'The core_data has an age between {min_age_upselling} and {max_age_upselling} years for customers with upsold contracts.\\n')\n",
    "\n",
    "print(f'The core_data has an average age of {avg_age_not_upselling:.2f} years for customers without upsold contracts.')\n",
    "print(f'The core_data has an age between {min_age_not_upselling} and {max_age_not_upselling} years for customers without upsold contracts.\\n')\n",
    "\n",
    "print(f'The core_data has {count_bound_upselling}({count_bound_upselling / n_upselling * 100:.2f}%) upsold contracts with still bindings.')\n",
    "print(f'The core_data has an average of {avg_binding_upselling:.2f} days of still bindings for upsold contracts.\\n')\n",
    "\n",
    "print(f'The core_data has {count_not_bound_upselling}({count_not_bound_upselling / n_upselling * 100:.2f}%) upsold contracts with exceeded bindings.')\n",
    "print(f'The core_data has an average of {abs(avg_exceeded_binding_upselling):.2f} days of exceeded bindings for upsold contracts.\\n')\n",
    "\n",
    "print(f'The core_data has an average completion rate of {avg_completion_rate_upselling * 100:.2f}% for customers with upsold contracts.\\n')\n",
    "\n",
    "print(f'The core_data has an average data volume of {avg_data_upselling:.2f} GB for upsold contracts.')\n",
    "print(f'The core_data has an average cost per GB of {avg_cost_per_gb_upselling:.2f} euros for upsold contracts.\\n')\n",
    "\n",
    "print(f'The core_data has an average data volume of {avg_data_not_upselling:.2f} GB for customers without upsold contracts.')\n",
    "print(f'The core_data has an average cost per GB of {avg_cost_per_gb_not_upselling:.2f} euros for customers without upsold contracts.\\n')\n",
    "\n",
    "print(f'The core_data has an average spending of {avg_spending_upselling:.2f} euros for upsold contracts.')\n",
    "print(f'The core_data has an average spending of {avg_spending_not_upselling:.2f} euros for customers without upsold contracts.\\n')\n",
    "\n",
    "print(f'The core_data has {count_special_offer_upselling}({count_special_offer_upselling / n_upselling * 100:.2f}%) upsold contracts with special offers.')\n",
    "print(f'The core_data has {count_not_special_offer_upselling}({count_not_special_offer_upselling / n_upselling * 100:.2f}%) upsold contracts without special offers.')\n",
    "print(f'The core_data has {count_not_special_offer_not_upselling}({count_not_special_offer_not_upselling / (n_contracts - n_upselling) * 100:.2f}%) non-upsold contracts without special offers.')\n",
    "print(f'The core_data has {count_special_offer_not_upselling}({count_special_offer_not_upselling / (n_contracts - n_upselling) * 100:.2f}%) non-upsold contracts with special offers.\\n')\n",
    "\n",
    "print(f'The core_data has {count_magenta1_upselling}({count_magenta1_upselling / n_upselling * 100:.2f}%) upsold contracts with Magenta1.')\n",
    "print(f'The core_data has {count_not_magenta1_upselling}({count_not_magenta1_upselling / n_upselling * 100:.2f}%) upsold contracts without Magenta1.')\n",
    "print(f'The core_data has {count_not_magenta1_not_upselling}({count_not_magenta1_not_upselling / (n_contracts - n_upselling) * 100:.2f}%) non-upsold contracts without Magenta1.')\n",
    "print(f'The core_data has {count_magenta1_not_upselling}({count_magenta1_not_upselling / (n_contracts - n_upselling) * 100:.2f}%) non-upsold contracts with Magenta1.\\n')"
   ]
  },
  {
   "cell_type": "markdown",
   "id": "c32e49e8",
   "metadata": {},
   "source": [
    "### Data checks"
   ]
  },
  {
   "cell_type": "code",
   "execution_count": 30,
   "id": "fd9ab56d",
   "metadata": {},
   "outputs": [],
   "source": [
    "null_counts_core_data = core_data.select([\n",
    "    pl.col(col).is_null().sum().alias(f'{col}_nulls') for col in core_data.columns\n",
    "])\n",
    "\n",
    "nan_counts_core_data = core_data.select([\n",
    "    pl.col(col).is_nan().sum().alias(f'{col}_nans')\n",
    "    for col, dtype in zip(core_data.columns, core_data.dtypes)\n",
    "    if dtype in [pl.Float32, pl.Float64]\n",
    "])\n",
    "\n",
    "inf_counts_core_data = core_data.select([\n",
    "    ((pl.col(col) == float('inf')) | (pl.col(col) == float('-inf'))).sum().alias(f'{col}_infs')\n",
    "    for col, dtype in zip(core_data.columns, core_data.dtypes)\n",
    "    if dtype in [pl.Float32, pl.Float64]\n",
    "])"
   ]
  },
  {
   "cell_type": "code",
   "execution_count": 31,
   "id": "944cf461",
   "metadata": {},
   "outputs": [
    {
     "name": "stdout",
     "output_type": "stream",
     "text": [
      "Null counts per column:\n"
     ]
    },
    {
     "data": {
      "text/html": [
       "<div><style>\n",
       ".dataframe > thead > tr,\n",
       ".dataframe > tbody > tr {\n",
       "  text-align: right;\n",
       "  white-space: pre-wrap;\n",
       "}\n",
       "</style>\n",
       "<small>shape: (1, 14)</small><table border=\"1\" class=\"dataframe\"><thead><tr><th>rating_account_id_nulls</th><th>customer_id_nulls</th><th>age_nulls</th><th>contract_lifetime_days_nulls</th><th>remaining_binding_days_nulls</th><th>has_special_offer_nulls</th><th>is_magenta1_customer_nulls</th><th>available_gb_nulls</th><th>gross_mrc_nulls</th><th>smartphone_brand_nulls</th><th>has_done_upselling_nulls</th><th>contract_binding_days_nulls</th><th>completion_rate_nulls</th><th>cost_per_gb_nulls</th></tr><tr><td>u32</td><td>u32</td><td>u32</td><td>u32</td><td>u32</td><td>u32</td><td>u32</td><td>u32</td><td>u32</td><td>u32</td><td>u32</td><td>u32</td><td>u32</td><td>u32</td></tr></thead><tbody><tr><td>0</td><td>0</td><td>0</td><td>0</td><td>0</td><td>0</td><td>0</td><td>14148</td><td>0</td><td>0</td><td>0</td><td>0</td><td>0</td><td>14148</td></tr></tbody></table></div>"
      ],
      "text/plain": [
       "shape: (1, 14)\n",
       "┌───────────┬───────────┬───────────┬───────────┬───┬───────────┬───────────┬───────────┬──────────┐\n",
       "│ rating_ac ┆ customer_ ┆ age_nulls ┆ contract_ ┆ … ┆ has_done_ ┆ contract_ ┆ completio ┆ cost_per │\n",
       "│ count_id_ ┆ id_nulls  ┆ ---       ┆ lifetime_ ┆   ┆ upselling ┆ binding_d ┆ n_rate_nu ┆ _gb_null │\n",
       "│ nulls     ┆ ---       ┆ u32       ┆ days_null ┆   ┆ _nulls    ┆ ays_nulls ┆ lls       ┆ s        │\n",
       "│ ---       ┆ u32       ┆           ┆ s         ┆   ┆ ---       ┆ ---       ┆ ---       ┆ ---      │\n",
       "│ u32       ┆           ┆           ┆ ---       ┆   ┆ u32       ┆ u32       ┆ u32       ┆ u32      │\n",
       "│           ┆           ┆           ┆ u32       ┆   ┆           ┆           ┆           ┆          │\n",
       "╞═══════════╪═══════════╪═══════════╪═══════════╪═══╪═══════════╪═══════════╪═══════════╪══════════╡\n",
       "│ 0         ┆ 0         ┆ 0         ┆ 0         ┆ … ┆ 0         ┆ 0         ┆ 0         ┆ 14148    │\n",
       "└───────────┴───────────┴───────────┴───────────┴───┴───────────┴───────────┴───────────┴──────────┘"
      ]
     },
     "execution_count": 31,
     "metadata": {},
     "output_type": "execute_result"
    }
   ],
   "source": [
    "print('Null counts per column:')\n",
    "null_counts_core_data"
   ]
  },
  {
   "cell_type": "code",
   "execution_count": 32,
   "id": "6e6d9210",
   "metadata": {},
   "outputs": [
    {
     "name": "stdout",
     "output_type": "stream",
     "text": [
      "NaN counts per float column:\n"
     ]
    },
    {
     "data": {
      "text/html": [
       "<div><style>\n",
       ".dataframe > thead > tr,\n",
       ".dataframe > tbody > tr {\n",
       "  text-align: right;\n",
       "  white-space: pre-wrap;\n",
       "}\n",
       "</style>\n",
       "<small>shape: (1, 3)</small><table border=\"1\" class=\"dataframe\"><thead><tr><th>gross_mrc_nans</th><th>completion_rate_nans</th><th>cost_per_gb_nans</th></tr><tr><td>u32</td><td>u32</td><td>u32</td></tr></thead><tbody><tr><td>0</td><td>0</td><td>0</td></tr></tbody></table></div>"
      ],
      "text/plain": [
       "shape: (1, 3)\n",
       "┌────────────────┬──────────────────────┬──────────────────┐\n",
       "│ gross_mrc_nans ┆ completion_rate_nans ┆ cost_per_gb_nans │\n",
       "│ ---            ┆ ---                  ┆ ---              │\n",
       "│ u32            ┆ u32                  ┆ u32              │\n",
       "╞════════════════╪══════════════════════╪══════════════════╡\n",
       "│ 0              ┆ 0                    ┆ 0                │\n",
       "└────────────────┴──────────────────────┴──────────────────┘"
      ]
     },
     "execution_count": 32,
     "metadata": {},
     "output_type": "execute_result"
    }
   ],
   "source": [
    "print('NaN counts per float column:')\n",
    "nan_counts_core_data"
   ]
  },
  {
   "cell_type": "code",
   "execution_count": 33,
   "id": "02d0eacb",
   "metadata": {},
   "outputs": [
    {
     "name": "stdout",
     "output_type": "stream",
     "text": [
      "Infinite counts per float column:\n"
     ]
    },
    {
     "data": {
      "text/html": [
       "<div><style>\n",
       ".dataframe > thead > tr,\n",
       ".dataframe > tbody > tr {\n",
       "  text-align: right;\n",
       "  white-space: pre-wrap;\n",
       "}\n",
       "</style>\n",
       "<small>shape: (1, 3)</small><table border=\"1\" class=\"dataframe\"><thead><tr><th>gross_mrc_infs</th><th>completion_rate_infs</th><th>cost_per_gb_infs</th></tr><tr><td>u32</td><td>u32</td><td>u32</td></tr></thead><tbody><tr><td>0</td><td>0</td><td>14288</td></tr></tbody></table></div>"
      ],
      "text/plain": [
       "shape: (1, 3)\n",
       "┌────────────────┬──────────────────────┬──────────────────┐\n",
       "│ gross_mrc_infs ┆ completion_rate_infs ┆ cost_per_gb_infs │\n",
       "│ ---            ┆ ---                  ┆ ---              │\n",
       "│ u32            ┆ u32                  ┆ u32              │\n",
       "╞════════════════╪══════════════════════╪══════════════════╡\n",
       "│ 0              ┆ 0                    ┆ 14288            │\n",
       "└────────────────┴──────────────────────┴──────────────────┘"
      ]
     },
     "execution_count": 33,
     "metadata": {},
     "output_type": "execute_result"
    }
   ],
   "source": [
    "print('Infinite counts per float column:')\n",
    "inf_counts_core_data"
   ]
  },
  {
   "cell_type": "markdown",
   "id": "adc6e897",
   "metadata": {},
   "source": [
    "---"
   ]
  },
  {
   "cell_type": "markdown",
   "id": "57867800",
   "metadata": {},
   "source": [
    "## `usage_info`\n",
    "\n",
    "| Feature Name           | Description                                                  |\n",
    "|------------------------|--------------------------------------------------------------|\n",
    "| rating_account_id      | Unique identifier for the contract account                    |\n",
    "| billed_period_month_d  | Billing period (monthly)                                     |\n",
    "| has_used_roaming       | Indicates if roaming was used during the period            |\n",
    "| used_gb                | Amount of mobile data used in the billing period (in GB)     |\n"
   ]
  },
  {
   "cell_type": "markdown",
   "id": "2e4e4468",
   "metadata": {},
   "source": [
    "### General overview"
   ]
  },
  {
   "cell_type": "code",
   "execution_count": 34,
   "id": "9756f6c0",
   "metadata": {},
   "outputs": [],
   "source": [
    "usage_info = load_artifact('usage_info')"
   ]
  },
  {
   "cell_type": "code",
   "execution_count": 35,
   "id": "3123bbfb",
   "metadata": {},
   "outputs": [
    {
     "data": {
      "text/html": [
       "<div><style>\n",
       ".dataframe > thead > tr,\n",
       ".dataframe > tbody > tr {\n",
       "  text-align: right;\n",
       "  white-space: pre-wrap;\n",
       "}\n",
       "</style>\n",
       "<small>shape: (5, 4)</small><table border=\"1\" class=\"dataframe\"><thead><tr><th>rating_account_id</th><th>billed_period_month_d</th><th>has_used_roaming</th><th>used_gb</th></tr><tr><td>i64</td><td>str</td><td>i64</td><td>f64</td></tr></thead><tbody><tr><td>289094</td><td>&quot;2024-04-01&quot;</td><td>0</td><td>0.8</td></tr><tr><td>289094</td><td>&quot;2024-05-01&quot;</td><td>0</td><td>0.2</td></tr><tr><td>289094</td><td>&quot;2024-06-01&quot;</td><td>1</td><td>0.1</td></tr><tr><td>289094</td><td>&quot;2024-07-01&quot;</td><td>0</td><td>0</td></tr><tr><td>677626</td><td>&quot;2024-04-01&quot;</td><td>0</td><td>0.8</td></tr></tbody></table></div>"
      ],
      "text/plain": [
       "shape: (5, 4)\n",
       "┌───────────────────┬───────────────────────┬──────────────────┬─────────┐\n",
       "│ rating_account_id ┆ billed_period_month_d ┆ has_used_roaming ┆ used_gb │\n",
       "│ ---               ┆ ---                   ┆ ---              ┆ ---     │\n",
       "│ i64               ┆ str                   ┆ i64              ┆ f64     │\n",
       "╞═══════════════════╪═══════════════════════╪══════════════════╪═════════╡\n",
       "│ 289094            ┆ 2024-04-01            ┆ 0                ┆ 0.8     │\n",
       "│ 289094            ┆ 2024-05-01            ┆ 0                ┆ 0.2     │\n",
       "│ 289094            ┆ 2024-06-01            ┆ 1                ┆ 0.1     │\n",
       "│ 289094            ┆ 2024-07-01            ┆ 0                ┆ 0       │\n",
       "│ 677626            ┆ 2024-04-01            ┆ 0                ┆ 0.8     │\n",
       "└───────────────────┴───────────────────────┴──────────────────┴─────────┘"
      ]
     },
     "execution_count": 35,
     "metadata": {},
     "output_type": "execute_result"
    }
   ],
   "source": [
    "usage_info.head()"
   ]
  },
  {
   "cell_type": "code",
   "execution_count": 36,
   "id": "388797a9",
   "metadata": {},
   "outputs": [
    {
     "data": {
      "text/plain": [
       "Schema([('rating_account_id', Int64),\n",
       "        ('billed_period_month_d', String),\n",
       "        ('has_used_roaming', Int64),\n",
       "        ('used_gb', Float64)])"
      ]
     },
     "execution_count": 36,
     "metadata": {},
     "output_type": "execute_result"
    }
   ],
   "source": [
    "usage_info.schema"
   ]
  },
  {
   "cell_type": "code",
   "execution_count": 37,
   "id": "ba04556f",
   "metadata": {},
   "outputs": [],
   "source": [
    "usage_info = usage_info.with_columns(\n",
    "    pl.col('has_used_roaming').cast(pl.Boolean),\n",
    "    pl.col('billed_period_month_d').cast(pl.Date)\n",
    ")"
   ]
  },
  {
   "cell_type": "code",
   "execution_count": 38,
   "id": "81475f4d",
   "metadata": {},
   "outputs": [
    {
     "name": "stdout",
     "output_type": "stream",
     "text": [
      "The usage_info has 100000 unique contracts.\n",
      "\n",
      "The usage_info has billing periods between 2024-04-01 and 2024-07-01.\n",
      "\n",
      "The usage_info has 100000 (100.00%) of contracts with full usage information\n",
      "\n"
     ]
    }
   ],
   "source": [
    "from datetime import datetime\n",
    "\n",
    "n_contracts_usage_info = usage_info.select(pl.col('rating_account_id')).n_unique()\n",
    "\n",
    "min_billing_period = usage_info.select(pl.col('billed_period_month_d')).min().item()\n",
    "max_billing_period = usage_info.select(pl.col('billed_period_month_d')).max().item()\n",
    "\n",
    "n_billing_periods = usage_info.select(pl.col('billed_period_month_d')).n_unique()\n",
    "\n",
    "n_billiging_periods_per_contract = usage_info.group_by('rating_account_id').agg(pl.col('billed_period_month_d').n_unique().alias('n_billing_periods'))\n",
    "complete_blilling_periods = n_billiging_periods_per_contract.filter(pl.col('n_billing_periods') == n_billing_periods).shape[0]\n",
    "\n",
    "print(f'The usage_info has {n_contracts_usage_info} unique contracts.\\n')\n",
    "\n",
    "print(f'The usage_info has billing periods between {min_billing_period} and {max_billing_period}.\\n')\n",
    "\n",
    "print(f'The usage_info has {complete_blilling_periods} ({complete_blilling_periods / n_contracts * 100:.2f}%) of contracts with full usage information\\n')"
   ]
  },
  {
   "cell_type": "markdown",
   "id": "7e2bbbef",
   "metadata": {},
   "source": [
    "### Usage analysis"
   ]
  },
  {
   "cell_type": "code",
   "execution_count": 39,
   "id": "e63bf144",
   "metadata": {},
   "outputs": [
    {
     "data": {
      "text/html": [
       "<div><style>\n",
       ".dataframe > thead > tr,\n",
       ".dataframe > tbody > tr {\n",
       "  text-align: right;\n",
       "  white-space: pre-wrap;\n",
       "}\n",
       "</style>\n",
       "<small>shape: (4, 14)</small><table border=\"1\" class=\"dataframe\"><thead><tr><th>Billed Period (Month)</th><th>Total Used GB</th><th>Avg Used GB</th><th>Std Used GB</th><th>Min Used GB</th><th>Median Used GB</th><th>Max Used GB</th><th>Total Used GB Delta previous 1 month</th><th>Total Used GB Delta previous 2 months</th><th>Total Used GB Delta previous 3 months</th><th>Count Roaming Used</th><th>Count Roaming Used Delta previous 1 month</th><th>Count Roaming Used Delta previous 2 months</th><th>Count Roaming Used Delta previous 3 months</th></tr><tr><td>date</td><td>f64</td><td>f64</td><td>f64</td><td>f64</td><td>f64</td><td>f64</td><td>f64</td><td>f64</td><td>f64</td><td>i64</td><td>i64</td><td>i64</td><td>i64</td></tr></thead><tbody><tr><td>2024-04-01</td><td>1402806</td><td>14.03</td><td>18.69</td><td>0</td><td>5</td><td>70</td><td>null</td><td>null</td><td>null</td><td>30001</td><td>null</td><td>null</td><td>null</td></tr><tr><td>2024-05-01</td><td>1396414.1</td><td>13.96</td><td>18.61</td><td>0</td><td>5</td><td>70</td><td>-6391.9</td><td>null</td><td>null</td><td>30083</td><td>82</td><td>null</td><td>null</td></tr><tr><td>2024-06-01</td><td>1404015.3</td><td>14.04</td><td>18.7</td><td>0</td><td>5</td><td>70</td><td>7601.2</td><td>1209.3</td><td>null</td><td>30012</td><td>-71</td><td>11</td><td>null</td></tr><tr><td>2024-07-01</td><td>1399001.3</td><td>13.99</td><td>18.66</td><td>0</td><td>5</td><td>70</td><td>-5014</td><td>2587.2</td><td>-3804.7</td><td>29765</td><td>-247</td><td>-318</td><td>-236</td></tr></tbody></table></div>"
      ],
      "text/plain": [
       "shape: (4, 14)\n",
       "┌───────────┬───────────┬───────────┬───────────┬───┬───────────┬───────────┬───────────┬──────────┐\n",
       "│ Billed    ┆ Total     ┆ Avg Used  ┆ Std Used  ┆ … ┆ Count     ┆ Count     ┆ Count     ┆ Count    │\n",
       "│ Period    ┆ Used GB   ┆ GB        ┆ GB        ┆   ┆ Roaming   ┆ Roaming   ┆ Roaming   ┆ Roaming  │\n",
       "│ (Month)   ┆ ---       ┆ ---       ┆ ---       ┆   ┆ Used      ┆ Used      ┆ Used      ┆ Used     │\n",
       "│ ---       ┆ f64       ┆ f64       ┆ f64       ┆   ┆ ---       ┆ Delta     ┆ Delta     ┆ Delta    │\n",
       "│ date      ┆           ┆           ┆           ┆   ┆ i64       ┆ previous  ┆ previous  ┆ previous │\n",
       "│           ┆           ┆           ┆           ┆   ┆           ┆ 1 month   ┆ 2 months  ┆ 3 months │\n",
       "│           ┆           ┆           ┆           ┆   ┆           ┆ ---       ┆ ---       ┆ ---      │\n",
       "│           ┆           ┆           ┆           ┆   ┆           ┆ i64       ┆ i64       ┆ i64      │\n",
       "╞═══════════╪═══════════╪═══════════╪═══════════╪═══╪═══════════╪═══════════╪═══════════╪══════════╡\n",
       "│ 2024-04-0 ┆ 1402806   ┆ 14.03     ┆ 18.69     ┆ … ┆ 30001     ┆ null      ┆ null      ┆ null     │\n",
       "│ 1         ┆           ┆           ┆           ┆   ┆           ┆           ┆           ┆          │\n",
       "│ 2024-05-0 ┆ 1396414.1 ┆ 13.96     ┆ 18.61     ┆ … ┆ 30083     ┆ 82        ┆ null      ┆ null     │\n",
       "│ 1         ┆           ┆           ┆           ┆   ┆           ┆           ┆           ┆          │\n",
       "│ 2024-06-0 ┆ 1404015.3 ┆ 14.04     ┆ 18.7      ┆ … ┆ 30012     ┆ -71       ┆ 11        ┆ null     │\n",
       "│ 1         ┆           ┆           ┆           ┆   ┆           ┆           ┆           ┆          │\n",
       "│ 2024-07-0 ┆ 1399001.3 ┆ 13.99     ┆ 18.66     ┆ … ┆ 29765     ┆ -247      ┆ -318      ┆ -236     │\n",
       "│ 1         ┆           ┆           ┆           ┆   ┆           ┆           ┆           ┆          │\n",
       "└───────────┴───────────┴───────────┴───────────┴───┴───────────┴───────────┴───────────┴──────────┘"
      ]
     },
     "execution_count": 39,
     "metadata": {},
     "output_type": "execute_result"
    }
   ],
   "source": [
    "usage_per_month = (\n",
    "    usage_info\n",
    "    .group_by('billed_period_month_d')\n",
    "    .agg([\n",
    "        pl.col('used_gb').sum().round(2).alias('total_used_gb'),\n",
    "        pl.col('used_gb').mean().round(2).alias('avg_used_gb'),\n",
    "        pl.col('used_gb').std().round(2).alias('std_used_gb'),\n",
    "        pl.col('used_gb').quantile(0.5).round(2).alias('median_used_gb'),\n",
    "        pl.col('used_gb').max().round(2).alias('max_used_gb'),\n",
    "        pl.col('used_gb').min().round(2).alias('min_used_gb'),\n",
    "\n",
    "        pl.col('has_used_roaming').sum().cast(pl.Int64).alias('count_roaming_used'),\n",
    "    ])\n",
    ").sort('billed_period_month_d', descending=False)\n",
    "\n",
    "usage_per_month = usage_per_month.with_columns(\n",
    "    (pl.col('total_used_gb') - pl.col('total_used_gb').shift(1)).round(2).alias('total_used_gb_delta1'),\n",
    "    (pl.col('total_used_gb') - pl.col('total_used_gb').shift(2)).round(2).alias('total_used_gb_delta2'),\n",
    "    (pl.col('total_used_gb') - pl.col('total_used_gb').shift(3)).round(2).alias('total_used_gb_delta3'),\n",
    "\n",
    "    (pl.col('count_roaming_used') - pl.col('count_roaming_used').shift(1)).alias('count_roaming_used_delta1'),\n",
    "    (pl.col('count_roaming_used') - pl.col('count_roaming_used').shift(2)).alias('count_roaming_used_delta2'),\n",
    "    (pl.col('count_roaming_used') - pl.col('count_roaming_used').shift(3)).alias('count_roaming_used_delta3'),\n",
    ")\n",
    "\n",
    "usage_per_month = usage_per_month.rename({\n",
    "    'billed_period_month_d': 'Billed Period (Month)',\n",
    "    \n",
    "    'total_used_gb': 'Total Used GB',\n",
    "    'avg_used_gb': 'Avg Used GB',\n",
    "    'max_used_gb': 'Max Used GB',\n",
    "    'min_used_gb': 'Min Used GB',\n",
    "    'std_used_gb': 'Std Used GB',\n",
    "    'median_used_gb': 'Median Used GB',\n",
    "    'total_used_gb_delta1': 'Total Used GB Delta previous 1 month',\n",
    "    'total_used_gb_delta2': 'Total Used GB Delta previous 2 months',\n",
    "    'total_used_gb_delta3': 'Total Used GB Delta previous 3 months',\n",
    "    \n",
    "    'count_roaming_used': 'Count Roaming Used',\n",
    "    'count_roaming_used_delta1': 'Count Roaming Used Delta previous 1 month',\n",
    "    'count_roaming_used_delta2': 'Count Roaming Used Delta previous 2 months',\n",
    "    'count_roaming_used_delta3': 'Count Roaming Used Delta previous 3 months',\n",
    "})\n",
    "\n",
    "usage_per_month.select(\n",
    "    pl.col('Billed Period (Month)'),\n",
    "    pl.col('Total Used GB'),\n",
    "    pl.col('Avg Used GB'),\n",
    "    pl.col('Std Used GB'),\n",
    "    pl.col('Min Used GB'),\n",
    "    pl.col('Median Used GB'),\n",
    "    pl.col('Max Used GB'),\n",
    "    pl.col('Total Used GB Delta previous 1 month'),\n",
    "    pl.col('Total Used GB Delta previous 2 months'),\n",
    "    pl.col('Total Used GB Delta previous 3 months'),\n",
    "    pl.col('Count Roaming Used'),\n",
    "    pl.col('Count Roaming Used Delta previous 1 month'),\n",
    "    pl.col('Count Roaming Used Delta previous 2 months'),\n",
    "    pl.col('Count Roaming Used Delta previous 3 months')\n",
    ")"
   ]
  },
  {
   "cell_type": "markdown",
   "id": "3239c81f",
   "metadata": {},
   "source": [
    "### Data checks"
   ]
  },
  {
   "cell_type": "code",
   "execution_count": 40,
   "id": "0da8dbcb",
   "metadata": {},
   "outputs": [],
   "source": [
    "null_counts_usage_info = usage_info.select([\n",
    "    pl.col(col).is_null().sum().alias(f'{col}_nulls') for col in usage_info.columns\n",
    "])\n",
    "\n",
    "nan_counts_usage_info = usage_info.select([\n",
    "    pl.col(col).is_nan().sum().alias(f'{col}_nans')\n",
    "    for col, dtype in zip(usage_info.columns, usage_info.dtypes)\n",
    "    if dtype in [pl.Float32, pl.Float64, pl.Int64, pl.Int32]\n",
    "])\n",
    "\n",
    "inf_counts_usage_info = usage_info.select([\n",
    "    ((pl.col(col) == float('inf')) | (pl.col(col) == float('-inf'))).sum().alias(f'{col}_infs')\n",
    "    for col, dtype in zip(usage_info.columns, usage_info.dtypes)\n",
    "    if dtype in [pl.Float32, pl.Float64, pl.Int64, pl.Int32]\n",
    "])"
   ]
  },
  {
   "cell_type": "code",
   "execution_count": 41,
   "id": "cc80f97b",
   "metadata": {},
   "outputs": [
    {
     "name": "stdout",
     "output_type": "stream",
     "text": [
      "Null counts per column:\n"
     ]
    },
    {
     "data": {
      "text/html": [
       "<div><style>\n",
       ".dataframe > thead > tr,\n",
       ".dataframe > tbody > tr {\n",
       "  text-align: right;\n",
       "  white-space: pre-wrap;\n",
       "}\n",
       "</style>\n",
       "<small>shape: (1, 4)</small><table border=\"1\" class=\"dataframe\"><thead><tr><th>rating_account_id_nulls</th><th>billed_period_month_d_nulls</th><th>has_used_roaming_nulls</th><th>used_gb_nulls</th></tr><tr><td>u32</td><td>u32</td><td>u32</td><td>u32</td></tr></thead><tbody><tr><td>0</td><td>0</td><td>0</td><td>0</td></tr></tbody></table></div>"
      ],
      "text/plain": [
       "shape: (1, 4)\n",
       "┌─────────────────────────┬─────────────────────────────┬────────────────────────┬───────────────┐\n",
       "│ rating_account_id_nulls ┆ billed_period_month_d_nulls ┆ has_used_roaming_nulls ┆ used_gb_nulls │\n",
       "│ ---                     ┆ ---                         ┆ ---                    ┆ ---           │\n",
       "│ u32                     ┆ u32                         ┆ u32                    ┆ u32           │\n",
       "╞═════════════════════════╪═════════════════════════════╪════════════════════════╪═══════════════╡\n",
       "│ 0                       ┆ 0                           ┆ 0                      ┆ 0             │\n",
       "└─────────────────────────┴─────────────────────────────┴────────────────────────┴───────────────┘"
      ]
     },
     "execution_count": 41,
     "metadata": {},
     "output_type": "execute_result"
    }
   ],
   "source": [
    "print('Null counts per column:')\n",
    "null_counts_usage_info"
   ]
  },
  {
   "cell_type": "code",
   "execution_count": 42,
   "id": "83a78ecf",
   "metadata": {},
   "outputs": [
    {
     "name": "stdout",
     "output_type": "stream",
     "text": [
      "NaN counts per float column:\n"
     ]
    },
    {
     "data": {
      "text/html": [
       "<div><style>\n",
       ".dataframe > thead > tr,\n",
       ".dataframe > tbody > tr {\n",
       "  text-align: right;\n",
       "  white-space: pre-wrap;\n",
       "}\n",
       "</style>\n",
       "<small>shape: (1, 2)</small><table border=\"1\" class=\"dataframe\"><thead><tr><th>rating_account_id_nans</th><th>used_gb_nans</th></tr><tr><td>u32</td><td>u32</td></tr></thead><tbody><tr><td>0</td><td>0</td></tr></tbody></table></div>"
      ],
      "text/plain": [
       "shape: (1, 2)\n",
       "┌────────────────────────┬──────────────┐\n",
       "│ rating_account_id_nans ┆ used_gb_nans │\n",
       "│ ---                    ┆ ---          │\n",
       "│ u32                    ┆ u32          │\n",
       "╞════════════════════════╪══════════════╡\n",
       "│ 0                      ┆ 0            │\n",
       "└────────────────────────┴──────────────┘"
      ]
     },
     "execution_count": 42,
     "metadata": {},
     "output_type": "execute_result"
    }
   ],
   "source": [
    "print('NaN counts per float column:')\n",
    "nan_counts_usage_info"
   ]
  },
  {
   "cell_type": "code",
   "execution_count": 43,
   "id": "0f218be2",
   "metadata": {},
   "outputs": [
    {
     "name": "stdout",
     "output_type": "stream",
     "text": [
      "Infinite counts per float column:\n"
     ]
    },
    {
     "data": {
      "text/html": [
       "<div><style>\n",
       ".dataframe > thead > tr,\n",
       ".dataframe > tbody > tr {\n",
       "  text-align: right;\n",
       "  white-space: pre-wrap;\n",
       "}\n",
       "</style>\n",
       "<small>shape: (1, 2)</small><table border=\"1\" class=\"dataframe\"><thead><tr><th>rating_account_id_infs</th><th>used_gb_infs</th></tr><tr><td>u32</td><td>u32</td></tr></thead><tbody><tr><td>0</td><td>0</td></tr></tbody></table></div>"
      ],
      "text/plain": [
       "shape: (1, 2)\n",
       "┌────────────────────────┬──────────────┐\n",
       "│ rating_account_id_infs ┆ used_gb_infs │\n",
       "│ ---                    ┆ ---          │\n",
       "│ u32                    ┆ u32          │\n",
       "╞════════════════════════╪══════════════╡\n",
       "│ 0                      ┆ 0            │\n",
       "└────────────────────────┴──────────────┘"
      ]
     },
     "execution_count": 43,
     "metadata": {},
     "output_type": "execute_result"
    }
   ],
   "source": [
    "print('Infinite counts per float column:')\n",
    "inf_counts_usage_info"
   ]
  },
  {
   "cell_type": "markdown",
   "id": "c4df3d9c",
   "metadata": {},
   "source": [
    "---"
   ]
  },
  {
   "cell_type": "markdown",
   "id": "680702c7",
   "metadata": {},
   "source": [
    "## `customer_interactions`\n",
    "\n",
    "| Feature Name   | Description                                                              |\n",
    "|----------------|--------------------------------------------------------------------------|\n",
    "| customer_id    | Unique identifier for the customer                                       |\n",
    "| type_subtype   | Category and subtype of the interaction (e.g., tariff change, billing)   |\n",
    "| n              | Number of interactions of this type in the last 6 months                                |\n",
    "| days_since_last| Number of days since the last interaction of this type                   |\n"
   ]
  },
  {
   "cell_type": "markdown",
   "id": "d3d2e05e",
   "metadata": {},
   "source": [
    "### General overview"
   ]
  },
  {
   "cell_type": "code",
   "execution_count": 44,
   "id": "644aa005",
   "metadata": {},
   "outputs": [],
   "source": [
    "customer_interactions = load_artifact('customer_interactions')"
   ]
  },
  {
   "cell_type": "code",
   "execution_count": 45,
   "id": "27e56bfb",
   "metadata": {},
   "outputs": [
    {
     "data": {
      "text/html": [
       "<div><style>\n",
       ".dataframe > thead > tr,\n",
       ".dataframe > tbody > tr {\n",
       "  text-align: right;\n",
       "  white-space: pre-wrap;\n",
       "}\n",
       "</style>\n",
       "<small>shape: (5, 4)</small><table border=\"1\" class=\"dataframe\"><thead><tr><th>customer_id</th><th>type_subtype</th><th>n</th><th>days_since_last</th></tr><tr><td>str</td><td>str</td><td>i64</td><td>i64</td></tr></thead><tbody><tr><td>&quot;5.563689&quot;</td><td>&quot;rechnungsanfragen&quot;</td><td>1</td><td>116</td></tr><tr><td>&quot;2.928257&quot;</td><td>&quot;produkte&amp;services-tarifdetails&quot;</td><td>1</td><td>146</td></tr><tr><td>&quot;3.468993&quot;</td><td>&quot;produkte&amp;services-tarifdetails&quot;</td><td>1</td><td>50</td></tr><tr><td>&quot;4.481640&quot;</td><td>&quot;prolongation&quot;</td><td>1</td><td>46</td></tr><tr><td>&quot;1.750352&quot;</td><td>&quot;rechnungsanfragen&quot;</td><td>1</td><td>177</td></tr></tbody></table></div>"
      ],
      "text/plain": [
       "shape: (5, 4)\n",
       "┌─────────────┬────────────────────────────────┬─────┬─────────────────┐\n",
       "│ customer_id ┆ type_subtype                   ┆ n   ┆ days_since_last │\n",
       "│ ---         ┆ ---                            ┆ --- ┆ ---             │\n",
       "│ str         ┆ str                            ┆ i64 ┆ i64             │\n",
       "╞═════════════╪════════════════════════════════╪═════╪═════════════════╡\n",
       "│ 5.563689    ┆ rechnungsanfragen              ┆ 1   ┆ 116             │\n",
       "│ 2.928257    ┆ produkte&services-tarifdetails ┆ 1   ┆ 146             │\n",
       "│ 3.468993    ┆ produkte&services-tarifdetails ┆ 1   ┆ 50              │\n",
       "│ 4.481640    ┆ prolongation                   ┆ 1   ┆ 46              │\n",
       "│ 1.750352    ┆ rechnungsanfragen              ┆ 1   ┆ 177             │\n",
       "└─────────────┴────────────────────────────────┴─────┴─────────────────┘"
      ]
     },
     "execution_count": 45,
     "metadata": {},
     "output_type": "execute_result"
    }
   ],
   "source": [
    "customer_interactions.head()"
   ]
  },
  {
   "cell_type": "code",
   "execution_count": 46,
   "id": "66a75715",
   "metadata": {},
   "outputs": [
    {
     "data": {
      "text/plain": [
       "Schema([('customer_id', String),\n",
       "        ('type_subtype', String),\n",
       "        ('n', Int64),\n",
       "        ('days_since_last', Int64)])"
      ]
     },
     "execution_count": 46,
     "metadata": {},
     "output_type": "execute_result"
    }
   ],
   "source": [
    "customer_interactions.schema"
   ]
  },
  {
   "cell_type": "code",
   "execution_count": 47,
   "id": "edec281c",
   "metadata": {},
   "outputs": [
    {
     "name": "stdout",
     "output_type": "stream",
     "text": [
      "The customer_interactions has 42095 (71.96% of whole customers pool) unique customers.\n",
      "\n",
      "The customer_interactions has an average of 1.50 unique interaction types per customer with a maximum of 3 unique interaction types.\n",
      "\n",
      "The customer_interactions has 0 (0.00%) customers with multiple same interaction types.\n",
      "\n",
      "The customer_interactions has 4 unique interaction types: ['produkte&services-tarifwechsel', 'produkte&services-tarifdetails', 'rechnungsanfragen', 'prolongation'].\n",
      "\n"
     ]
    }
   ],
   "source": [
    "n_customers_interactions = customer_interactions.select(pl.col('customer_id')).n_unique()\n",
    "\n",
    "\n",
    "n_types_interactions_per_customers = customer_interactions.group_by('customer_id').agg(pl.col('type_subtype').n_unique().alias('n_types_interactions'))\n",
    "avg_n_types_interactions_per_customer = n_types_interactions_per_customers.select(pl.col('n_types_interactions')).mean().item()\n",
    "max_n_types_interactions_per_customer = n_types_interactions_per_customers.select(pl.col('n_types_interactions')).max().item()\n",
    "\n",
    "multiple_same_interactions_per_customer = customer_interactions.group_by('customer_id', 'type_subtype').len()\n",
    "n_customers_multiple_same_interactions = multiple_same_interactions_per_customer.filter(pl.col('len') > 1).shape[0]\n",
    "\n",
    "types_interactions = customer_interactions.select(pl.col('type_subtype')).unique()\n",
    "\n",
    "print(f'The customer_interactions has {n_customers_interactions} ({n_customers_interactions / n_customers * 100:.2f}% of whole customers pool) unique customers.\\n')\n",
    "\n",
    "print(f'The customer_interactions has an average of {avg_n_types_interactions_per_customer:.2f} unique interaction types per customer with a maximum of {max_n_types_interactions_per_customer} unique interaction types.\\n')\n",
    "\n",
    "print(f'The customer_interactions has {n_customers_multiple_same_interactions} ({n_customers_multiple_same_interactions / n_customers_interactions * 100:.2f}%) customers with multiple same interaction types.\\n')\n",
    "\n",
    "print(f'The customer_interactions has {types_interactions.shape[0]} unique interaction types: {types_interactions.select(pl.col('type_subtype')).to_series().to_list()}.\\n')"
   ]
  },
  {
   "cell_type": "markdown",
   "id": "8c05dd61",
   "metadata": {},
   "source": [
    "### Interactions analysis"
   ]
  },
  {
   "cell_type": "code",
   "execution_count": 48,
   "id": "586877b4",
   "metadata": {},
   "outputs": [
    {
     "data": {
      "text/html": [
       "<div><style>\n",
       ".dataframe > thead > tr,\n",
       ".dataframe > tbody > tr {\n",
       "  text-align: right;\n",
       "  white-space: pre-wrap;\n",
       "}\n",
       "</style>\n",
       "<small>shape: (4, 10)</small><table border=\"1\" class=\"dataframe\"><thead><tr><th>Interaction Type</th><th>Number of Customers</th><th>Total Interactions in Last 6 Months</th><th>Min Interactions per Customer in Last 6 Months</th><th>Avg Interactions per Customer in Last 6 Months</th><th>Median Interactions per Customer in Last 6 Months</th><th>Max Interactions per Customer in Last 6 Months</th><th>Avg Days Since Last Interaction</th><th>Max Days Since Last Interaction</th><th>Min Days Since Last Interaction</th></tr><tr><td>str</td><td>u32</td><td>i64</td><td>i64</td><td>f64</td><td>f64</td><td>i64</td><td>f64</td><td>i64</td><td>i64</td></tr></thead><tbody><tr><td>&quot;prolongation&quot;</td><td>15837</td><td>30507</td><td>1</td><td>1.93</td><td>1</td><td>10</td><td>89.82</td><td>180</td><td>0</td></tr><tr><td>&quot;produkte&amp;services-tarifdetails&quot;</td><td>15759</td><td>30693</td><td>1</td><td>1.95</td><td>2</td><td>10</td><td>90.18</td><td>180</td><td>0</td></tr><tr><td>&quot;produkte&amp;services-tarifwechsel&quot;</td><td>15811</td><td>30661</td><td>1</td><td>1.94</td><td>2</td><td>10</td><td>91.02</td><td>180</td><td>0</td></tr><tr><td>&quot;rechnungsanfragen&quot;</td><td>15811</td><td>30493</td><td>1</td><td>1.93</td><td>1</td><td>10</td><td>90.06</td><td>180</td><td>0</td></tr></tbody></table></div>"
      ],
      "text/plain": [
       "shape: (4, 10)\n",
       "┌───────────┬───────────┬───────────┬───────────┬───┬───────────┬───────────┬───────────┬──────────┐\n",
       "│ Interacti ┆ Number of ┆ Total Int ┆ Min Inter ┆ … ┆ Max Inter ┆ Avg Days  ┆ Max Days  ┆ Min Days │\n",
       "│ on Type   ┆ Customers ┆ eractions ┆ actions   ┆   ┆ actions   ┆ Since     ┆ Since     ┆ Since    │\n",
       "│ ---       ┆ ---       ┆ in Last 6 ┆ per       ┆   ┆ per       ┆ Last Inte ┆ Last Inte ┆ Last Int │\n",
       "│ str       ┆ u32       ┆ Months    ┆ Customer  ┆   ┆ Customer  ┆ raction   ┆ raction   ┆ eraction │\n",
       "│           ┆           ┆ ---       ┆ in Last 6 ┆   ┆ in Last 6 ┆ ---       ┆ ---       ┆ ---      │\n",
       "│           ┆           ┆ i64       ┆ Months    ┆   ┆ Months    ┆ f64       ┆ i64       ┆ i64      │\n",
       "│           ┆           ┆           ┆ ---       ┆   ┆ ---       ┆           ┆           ┆          │\n",
       "│           ┆           ┆           ┆ i64       ┆   ┆ i64       ┆           ┆           ┆          │\n",
       "╞═══════════╪═══════════╪═══════════╪═══════════╪═══╪═══════════╪═══════════╪═══════════╪══════════╡\n",
       "│ prolongat ┆ 15837     ┆ 30507     ┆ 1         ┆ … ┆ 10        ┆ 89.82     ┆ 180       ┆ 0        │\n",
       "│ ion       ┆           ┆           ┆           ┆   ┆           ┆           ┆           ┆          │\n",
       "│ produkte& ┆ 15759     ┆ 30693     ┆ 1         ┆ … ┆ 10        ┆ 90.18     ┆ 180       ┆ 0        │\n",
       "│ services- ┆           ┆           ┆           ┆   ┆           ┆           ┆           ┆          │\n",
       "│ tarifdeta ┆           ┆           ┆           ┆   ┆           ┆           ┆           ┆          │\n",
       "│ ils       ┆           ┆           ┆           ┆   ┆           ┆           ┆           ┆          │\n",
       "│ produkte& ┆ 15811     ┆ 30661     ┆ 1         ┆ … ┆ 10        ┆ 91.02     ┆ 180       ┆ 0        │\n",
       "│ services- ┆           ┆           ┆           ┆   ┆           ┆           ┆           ┆          │\n",
       "│ tarifwech ┆           ┆           ┆           ┆   ┆           ┆           ┆           ┆          │\n",
       "│ sel       ┆           ┆           ┆           ┆   ┆           ┆           ┆           ┆          │\n",
       "│ rechnungs ┆ 15811     ┆ 30493     ┆ 1         ┆ … ┆ 10        ┆ 90.06     ┆ 180       ┆ 0        │\n",
       "│ anfragen  ┆           ┆           ┆           ┆   ┆           ┆           ┆           ┆          │\n",
       "└───────────┴───────────┴───────────┴───────────┴───┴───────────┴───────────┴───────────┴──────────┘"
      ]
     },
     "execution_count": 48,
     "metadata": {},
     "output_type": "execute_result"
    }
   ],
   "source": [
    "interactions_distribution = (\n",
    "    customer_interactions\n",
    "    .group_by('type_subtype')\n",
    "    .agg([\n",
    "        pl.col('customer_id').n_unique().alias('n_customers'),\n",
    "\n",
    "        pl.col('n').sum().alias('total_interactions_in_last_6_months'),\n",
    "        pl.col('n').min().round(2).alias('min_interactions_per_customer_in_last_6_months'),\n",
    "        pl.col('n').mean().round(2).alias('avg_interactions_per_customer_in_last_6_months'),\n",
    "        pl.col('n').median().round(2).alias('median_interactions_per_customer_in_last_6_months'),\n",
    "        pl.col('n').max().round(2).alias('max_interactions_per_customer_in_last_6_months'),\n",
    "        \n",
    "\n",
    "        pl.col('days_since_last').mean().round(2).alias('avg_days_since_last_interaction'),\n",
    "        pl.col('days_since_last').max().alias('max_days_since_last_interaction'),\n",
    "        pl.col('days_since_last').min().alias('min_days_since_last_interaction'),\n",
    "    ])\n",
    ")\n",
    "\n",
    "interactions_distribution = interactions_distribution.rename({\n",
    "    'type_subtype': 'Interaction Type',\n",
    "    \n",
    "    'n_customers': 'Number of Customers', \n",
    "\n",
    "    'total_interactions_in_last_6_months': 'Total Interactions in Last 6 Months',\n",
    "    'avg_interactions_per_customer_in_last_6_months': 'Avg Interactions per Customer in Last 6 Months',\n",
    "    'median_interactions_per_customer_in_last_6_months': 'Median Interactions per Customer in Last 6 Months',\n",
    "    'max_interactions_per_customer_in_last_6_months': 'Max Interactions per Customer in Last 6 Months',\n",
    "    'min_interactions_per_customer_in_last_6_months': 'Min Interactions per Customer in Last 6 Months',\n",
    "\n",
    "    'avg_days_since_last_interaction': 'Avg Days Since Last Interaction',\n",
    "    'max_days_since_last_interaction': 'Max Days Since Last Interaction',\n",
    "    'min_days_since_last_interaction': 'Min Days Since Last Interaction',\n",
    "})\n",
    "\n",
    "interactions_distribution"
   ]
  },
  {
   "cell_type": "markdown",
   "id": "f976e6a4",
   "metadata": {},
   "source": [
    "### Data checks"
   ]
  },
  {
   "cell_type": "code",
   "execution_count": 49,
   "id": "08d11a04",
   "metadata": {},
   "outputs": [],
   "source": [
    "null_counts_customer_interactions = customer_interactions.select([\n",
    "    pl.col(col).is_null().sum().alias(f'{col}_nulls') for col in customer_interactions.columns\n",
    "])\n",
    "\n",
    "nan_counts_customer_interactions = customer_interactions.select([\n",
    "    pl.col(col).is_nan().sum().alias(f'{col}_nans')\n",
    "    for col, dtype in zip(customer_interactions.columns, customer_interactions.dtypes)\n",
    "    if dtype in [pl.Float32, pl.Float64, pl.Int64, pl.Int32]\n",
    "])\n",
    "\n",
    "inf_counts_customer_interactions = customer_interactions.select([\n",
    "    ((pl.col(col) == float('inf')) | (pl.col(col) == float('-inf'))).sum().alias(f'{col}_infs')\n",
    "    for col, dtype in zip(customer_interactions.columns, customer_interactions.dtypes)\n",
    "    if dtype in [pl.Float32, pl.Float64, pl.Int64, pl.Int32]\n",
    "])"
   ]
  },
  {
   "cell_type": "code",
   "execution_count": 50,
   "id": "2c969702",
   "metadata": {},
   "outputs": [
    {
     "name": "stdout",
     "output_type": "stream",
     "text": [
      "Null counts per column:\n"
     ]
    },
    {
     "data": {
      "text/html": [
       "<div><style>\n",
       ".dataframe > thead > tr,\n",
       ".dataframe > tbody > tr {\n",
       "  text-align: right;\n",
       "  white-space: pre-wrap;\n",
       "}\n",
       "</style>\n",
       "<small>shape: (1, 4)</small><table border=\"1\" class=\"dataframe\"><thead><tr><th>customer_id_nulls</th><th>type_subtype_nulls</th><th>n_nulls</th><th>days_since_last_nulls</th></tr><tr><td>u32</td><td>u32</td><td>u32</td><td>u32</td></tr></thead><tbody><tr><td>0</td><td>0</td><td>0</td><td>0</td></tr></tbody></table></div>"
      ],
      "text/plain": [
       "shape: (1, 4)\n",
       "┌───────────────────┬────────────────────┬─────────┬───────────────────────┐\n",
       "│ customer_id_nulls ┆ type_subtype_nulls ┆ n_nulls ┆ days_since_last_nulls │\n",
       "│ ---               ┆ ---                ┆ ---     ┆ ---                   │\n",
       "│ u32               ┆ u32                ┆ u32     ┆ u32                   │\n",
       "╞═══════════════════╪════════════════════╪═════════╪═══════════════════════╡\n",
       "│ 0                 ┆ 0                  ┆ 0       ┆ 0                     │\n",
       "└───────────────────┴────────────────────┴─────────┴───────────────────────┘"
      ]
     },
     "execution_count": 50,
     "metadata": {},
     "output_type": "execute_result"
    }
   ],
   "source": [
    "print('Null counts per column:')\n",
    "null_counts_customer_interactions"
   ]
  },
  {
   "cell_type": "code",
   "execution_count": 51,
   "id": "50b929f2",
   "metadata": {},
   "outputs": [
    {
     "name": "stdout",
     "output_type": "stream",
     "text": [
      "NaN counts per float column:\n"
     ]
    },
    {
     "data": {
      "text/html": [
       "<div><style>\n",
       ".dataframe > thead > tr,\n",
       ".dataframe > tbody > tr {\n",
       "  text-align: right;\n",
       "  white-space: pre-wrap;\n",
       "}\n",
       "</style>\n",
       "<small>shape: (1, 2)</small><table border=\"1\" class=\"dataframe\"><thead><tr><th>n_nans</th><th>days_since_last_nans</th></tr><tr><td>u32</td><td>u32</td></tr></thead><tbody><tr><td>0</td><td>0</td></tr></tbody></table></div>"
      ],
      "text/plain": [
       "shape: (1, 2)\n",
       "┌────────┬──────────────────────┐\n",
       "│ n_nans ┆ days_since_last_nans │\n",
       "│ ---    ┆ ---                  │\n",
       "│ u32    ┆ u32                  │\n",
       "╞════════╪══════════════════════╡\n",
       "│ 0      ┆ 0                    │\n",
       "└────────┴──────────────────────┘"
      ]
     },
     "execution_count": 51,
     "metadata": {},
     "output_type": "execute_result"
    }
   ],
   "source": [
    "print('NaN counts per float column:')\n",
    "nan_counts_customer_interactions"
   ]
  },
  {
   "cell_type": "code",
   "execution_count": 52,
   "id": "f7d29e18",
   "metadata": {},
   "outputs": [
    {
     "name": "stdout",
     "output_type": "stream",
     "text": [
      "Infinite counts per float column:\n"
     ]
    },
    {
     "data": {
      "text/html": [
       "<div><style>\n",
       ".dataframe > thead > tr,\n",
       ".dataframe > tbody > tr {\n",
       "  text-align: right;\n",
       "  white-space: pre-wrap;\n",
       "}\n",
       "</style>\n",
       "<small>shape: (1, 2)</small><table border=\"1\" class=\"dataframe\"><thead><tr><th>n_infs</th><th>days_since_last_infs</th></tr><tr><td>u32</td><td>u32</td></tr></thead><tbody><tr><td>0</td><td>0</td></tr></tbody></table></div>"
      ],
      "text/plain": [
       "shape: (1, 2)\n",
       "┌────────┬──────────────────────┐\n",
       "│ n_infs ┆ days_since_last_infs │\n",
       "│ ---    ┆ ---                  │\n",
       "│ u32    ┆ u32                  │\n",
       "╞════════╪══════════════════════╡\n",
       "│ 0      ┆ 0                    │\n",
       "└────────┴──────────────────────┘"
      ]
     },
     "execution_count": 52,
     "metadata": {},
     "output_type": "execute_result"
    }
   ],
   "source": [
    "print(\"Infinite counts per float column:\")\n",
    "inf_counts_customer_interactions"
   ]
  },
  {
   "cell_type": "markdown",
   "id": "9e4e66fa",
   "metadata": {},
   "source": [
    "---"
   ]
  },
  {
   "cell_type": "markdown",
   "id": "dc87fad2",
   "metadata": {},
   "source": [
    "# Conclusion\n",
    "\n",
    "## Data Interpretation\n",
    "\n",
    "This dataset represents a snapshot extracted at a specific point in time, capturing the complete active contract portfolio for each customer.<br>\n",
    "The key insight is that a single `customer_id` can manage multiple simultaneous active contracts (identified by unique `rating_account_id`), as evidenced by the presence of usage data across all contracts for the complete four-month observation period (April-July 2024).\n",
    "It is possible to assume that the age attribute appears to correspond to the individual user of each specific contract rather than the account holder, which aligns with the smartphone brand assignment per contract.\n",
    "\n",
    "This structure reflects two primary real-world scenarios:\n",
    "- **Corporate Accounts**: Businesses managing multiple employee lines, where each contract represents a different employee.\n",
    "\n",
    "- **Family Plans**: Household accounts where the primary account holder manages contracts for multiple family members.\n",
    "\n",
    "## Summary\n",
    "\n",
    "This analysis shows that the data consists of **100000 contracts** from **58495 unique customers**. The most important insight is that only **7.05% of the contracts are upsold** and 11.54% of customers manage at least one upsold contract. This shows how the data is extremely **imbalanced**.\n",
    "\n",
    "The `core_data` dataset captures a multi-contract customer structure where 4.74% of the customers manages 4+ contracts, with an average of **1.71 contracts per customer**.\n",
    "\n",
    "This structure represents both corporate accounts managing employee lines and family plans with multiple household members.\n",
    "\n",
    "**Only 71.96% of the customer base had an interaction with the customer service**, with balanced distribution across four interaction types (prolongation, tariff changes, billing inquiries, and tariff details). However, the 28% coverage gap must be addressed.\n",
    "\n",
    "## Data Quality\n",
    "\n",
    "The primary data quality issue involves 14148 contracts (14.15%) with null `available_gb` values. This requires a strategic approach for handling missing values through imputation, filling, or removal based on business context.\n",
    "\n",
    "## Target\n",
    "\n",
    "The data is modeling scenarios where:\n",
    "\n",
    "- Each contract has independent upgrade potential based on its specific circumstances\n",
    "- Contract lifecycle timing matters (binding periods, contract age)\n",
    "- Service-level features are contract-specific (data allowances, pricing tiers)\n",
    "\n",
    "**Contract-level targeting** is actually the right approach because:\n",
    "\n",
    "- The business logic treats each contract as having independent upgrade potential\n",
    "- Contract-specific features (binding periods, data allowances, pricing) are the key drivers\n",
    "\n",
    "## Data Integration\n",
    "\n",
    "Given the commercial and modeling advantages of contract-level targeting, the optimal data integration strategy involves:\n",
    "\n",
    "- **Usage Data Aggregation**: Transform the monthly usage records into contract-level features by creating aggregated statistics across the 4-month observation period, including average usage, usage trends, rolling averages, and period-over-period deltas.\n",
    "\n",
    "- **Customer Interaction Mapping**: Transform customer interaction data by pivoting interaction categories (e.g., tariff changes, billing inquiries) into separate feature columns, creating dedicated metrics for each interaction type. These customer-level interaction aggregations are then propagated to all contracts belonging to the same customer. While this approach may introduce some noise since interactions may be contract-specific rather than customer-wide, with appropriate null handling for customers without recorded interactions."
   ]
  }
 ],
 "metadata": {
  "kernelspec": {
   "display_name": "ci-validation",
   "language": "python",
   "name": "python3"
  },
  "language_info": {
   "codemirror_mode": {
    "name": "ipython",
    "version": 3
   },
   "file_extension": ".py",
   "mimetype": "text/x-python",
   "name": "python",
   "nbconvert_exporter": "python",
   "pygments_lexer": "ipython3",
   "version": "3.12.0"
  }
 },
 "nbformat": 4,
 "nbformat_minor": 5
}
