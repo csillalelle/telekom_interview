{
 "cells": [
  {
   "cell_type": "markdown",
   "metadata": {},
   "source": [
    "# Table of Contents\n",
    "\n",
    "1. [Business Presentation: Upselling Opportunity Analysis](#business-presentation-upselling-opportunity-analysis)\n",
    "2. [Current Upselling Performance](#current-upselling-performance)\n",
    "3. [Customer Portfolio Segmentation](#customer-portfolio-segmentation)\n",
    "4. [Age Demographics](#age-demographics)\n",
    "5. [Contract Lifecycle Analysis](#contract-lifecycle-analysis)\n",
    "6. [Data Plan Analysis](#data-plan-analysis)\n",
    "7. [Customer Value Segmentation: Premium vs Standard Customers](#customer-value-segmentation-premium-vs-standard-customers)\n",
    "8. [Business Impact Projection: The ML Model Opportunity](#business-impact-projection-the-ml-model-opportunity)\n",
    "9. [Strategic Recommendations](#strategic-recommendations)\n",
    "\n",
    "---\n",
    "\n",
    "# Business Presentation: Upselling Opportunity Analysis\n",
    "\n",
    "This notebook presents key visualizations that demonstrate the business opportunity for implementing an ML-driven upselling model for Magenta's customer portfolio.\n",
    "\n",
    "## Executive Summary\n",
    "\n",
    "- **100,000 contracts** across **58,495 unique customers** in our analysis\n",
    "- Currently only **7.05% of contracts** have been upsold\n",
    "- Significant untapped opportunity exists across customer segments\n",
    "- Multi-contract customers show higher upselling potential\n",
    "- Strategic targeting based on contract lifecycle and customer behavior patterns"
   ]
  },
  {
   "cell_type": "code",
   "execution_count": 1,
   "metadata": {},
   "outputs": [],
   "source": [
    "# Import required libraries\n",
    "import pickle\n",
    "from pathlib import Path\n",
    "import polars as pl\n",
    "import plotly.express as px\n",
    "import plotly.graph_objects as go\n",
    "from plotly.subplots import make_subplots\n",
    "import numpy as np\n",
    "import matplotlib.pyplot as plt\n",
    "import matplotlib.font_manager as fm\n",
    "\n",
    "FONT_FAMILY = 'Teleneo'\n",
    "\n",
    "# Set Polars configuration for better display\n",
    "_ = pl.Config.set_tbl_cols(None)\n",
    "_ = pl.Config.set_fmt_str_lengths(500)\n",
    "_ = pl.Config.set_fmt_float(\"full\")\n",
    "\n",
    "# Define Magenta brand color\n",
    "MAGENTA_COLOR = 'rgb(226,0,116)'\n",
    "MAGENTA_LIGHT = 'rgba(226,0,116,0.7)'\n",
    "MAGENTA_DARK = 'rgb(180,0,93)'\n",
    "GRAY_COLOR = 'rgb(128,128,128)'\n",
    "\n",
    "# Update default color scheme for all plots\n",
    "color_sequence = [MAGENTA_COLOR, GRAY_COLOR, MAGENTA_LIGHT, MAGENTA_DARK]\n",
    "px.defaults.color_discrete_sequence = color_sequence\n",
    "\n",
    "# Set default font for all plotly figures\n",
    "px.defaults.template = \"plotly_white\""
   ]
  },
  {
   "cell_type": "code",
   "execution_count": null,
   "metadata": {},
   "outputs": [],
   "source": [
    "# Define paths and load data function\n",
    "base_dir = Path('/workspaces/data-scientist-at-magenta')\n",
    "code_dir = base_dir / 'notebooks'\n",
    "data_dir = code_dir / \"data\"\n",
    "raw_dir = data_dir / \"raw\"\n",
    "features_dir = data_dir / 'features'\n",
    "train_dir = data_dir / 'train'\n",
    "images_dir = code_dir / 'images'\n",
    "\n",
    "def load_artifact(targ_file: str):\n",
    "    targ_path = raw_dir / targ_file\n",
    "    \n",
    "    if not targ_path.exists():\n",
    "        raise FileNotFoundError(f'Artifact {targ_file} not found in {raw_dir}')\n",
    "\n",
    "    with open(targ_path, 'rb') as fp:\n",
    "        test_artifact = pickle.load(fp)\n",
    "\n",
    "    return pl.from_pandas(test_artifact)"
   ]
  },
  {
   "cell_type": "code",
   "execution_count": 3,
   "metadata": {},
   "outputs": [
    {
     "name": "stdout",
     "output_type": "stream",
     "text": [
      "Data loaded: 100,000 contracts from 58,495 unique customers\n"
     ]
    }
   ],
   "source": [
    "# Load and prepare core data\n",
    "core_data = load_artifact('core_data')\n",
    "\n",
    "# Convert boolean columns\n",
    "core_data = core_data.with_columns(\n",
    "    pl.col('has_done_upselling').cast(pl.Boolean),\n",
    "    pl.col('has_special_offer').cast(pl.Boolean),\n",
    "    pl.col('is_magenta1_customer').cast(pl.Boolean)\n",
    ")\n",
    "\n",
    "# Calculate derived metrics\n",
    "core_data = core_data.with_columns(\n",
    "    (pl.col('contract_lifetime_days') + pl.col('remaining_binding_days')).alias('contract_binding_days'),\n",
    "    (pl.col('contract_lifetime_days') / (pl.col('contract_lifetime_days') + pl.col('remaining_binding_days'))).alias('completion_rate'),\n",
    "    (pl.col('gross_mrc') / pl.col('available_gb')).alias('cost_per_gb')\n",
    ")\n",
    "\n",
    "print(f\"Data loaded: {core_data.shape[0]:,} contracts from {core_data.select(pl.col('customer_id')).n_unique():,} unique customers\")"
   ]
  },
  {
   "cell_type": "markdown",
   "metadata": {},
   "source": [
    "## 1. Current Upselling Performance"
   ]
  },
  {
   "cell_type": "code",
   "execution_count": 15,
   "metadata": {},
   "outputs": [
    {
     "data": {
      "application/vnd.plotly.v1+json": {
       "config": {
        "plotlyServerURL": "https://plot.ly"
       },
       "data": [
        {
         "hole": 0,
         "labels": [
          "Not Upsold",
          "Upsold"
         ],
         "marker": {
          "colors": [
           "rgb(128,128,128)",
           "rgb(226,0,116)"
          ],
          "line": {
           "color": "white",
           "width": 3
          }
         },
         "pull": [
          0,
          0.1
         ],
         "textfont": {
          "color": "white",
          "size": 18
         },
         "textinfo": "label+percent+value",
         "textposition": "auto",
         "type": "pie",
         "values": [
          92951,
          7049
         ]
        }
       ],
       "layout": {
        "font": {
         "color": "black",
         "family": "Teleneo",
         "size": 16
        },
        "height": 800,
        "legend": {
         "font": {
          "size": 18
         },
         "orientation": "h",
         "x": 0.5,
         "xanchor": "center",
         "y": -0.1,
         "yanchor": "bottom"
        },
        "margin": {
         "b": 80,
         "l": 50,
         "r": 50,
         "t": 100
        },
        "paper_bgcolor": "rgba(0,0,0,0)",
        "plot_bgcolor": "rgba(0,0,0,0)",
        "showlegend": true,
        "template": {
         "data": {
          "bar": [
           {
            "error_x": {
             "color": "#2a3f5f"
            },
            "error_y": {
             "color": "#2a3f5f"
            },
            "marker": {
             "line": {
              "color": "#E5ECF6",
              "width": 0.5
             },
             "pattern": {
              "fillmode": "overlay",
              "size": 10,
              "solidity": 0.2
             }
            },
            "type": "bar"
           }
          ],
          "barpolar": [
           {
            "marker": {
             "line": {
              "color": "#E5ECF6",
              "width": 0.5
             },
             "pattern": {
              "fillmode": "overlay",
              "size": 10,
              "solidity": 0.2
             }
            },
            "type": "barpolar"
           }
          ],
          "carpet": [
           {
            "aaxis": {
             "endlinecolor": "#2a3f5f",
             "gridcolor": "white",
             "linecolor": "white",
             "minorgridcolor": "white",
             "startlinecolor": "#2a3f5f"
            },
            "baxis": {
             "endlinecolor": "#2a3f5f",
             "gridcolor": "white",
             "linecolor": "white",
             "minorgridcolor": "white",
             "startlinecolor": "#2a3f5f"
            },
            "type": "carpet"
           }
          ],
          "choropleth": [
           {
            "colorbar": {
             "outlinewidth": 0,
             "ticks": ""
            },
            "type": "choropleth"
           }
          ],
          "contour": [
           {
            "colorbar": {
             "outlinewidth": 0,
             "ticks": ""
            },
            "colorscale": [
             [
              0,
              "#0d0887"
             ],
             [
              0.1111111111111111,
              "#46039f"
             ],
             [
              0.2222222222222222,
              "#7201a8"
             ],
             [
              0.3333333333333333,
              "#9c179e"
             ],
             [
              0.4444444444444444,
              "#bd3786"
             ],
             [
              0.5555555555555556,
              "#d8576b"
             ],
             [
              0.6666666666666666,
              "#ed7953"
             ],
             [
              0.7777777777777778,
              "#fb9f3a"
             ],
             [
              0.8888888888888888,
              "#fdca26"
             ],
             [
              1,
              "#f0f921"
             ]
            ],
            "type": "contour"
           }
          ],
          "contourcarpet": [
           {
            "colorbar": {
             "outlinewidth": 0,
             "ticks": ""
            },
            "type": "contourcarpet"
           }
          ],
          "heatmap": [
           {
            "colorbar": {
             "outlinewidth": 0,
             "ticks": ""
            },
            "colorscale": [
             [
              0,
              "#0d0887"
             ],
             [
              0.1111111111111111,
              "#46039f"
             ],
             [
              0.2222222222222222,
              "#7201a8"
             ],
             [
              0.3333333333333333,
              "#9c179e"
             ],
             [
              0.4444444444444444,
              "#bd3786"
             ],
             [
              0.5555555555555556,
              "#d8576b"
             ],
             [
              0.6666666666666666,
              "#ed7953"
             ],
             [
              0.7777777777777778,
              "#fb9f3a"
             ],
             [
              0.8888888888888888,
              "#fdca26"
             ],
             [
              1,
              "#f0f921"
             ]
            ],
            "type": "heatmap"
           }
          ],
          "histogram": [
           {
            "marker": {
             "pattern": {
              "fillmode": "overlay",
              "size": 10,
              "solidity": 0.2
             }
            },
            "type": "histogram"
           }
          ],
          "histogram2d": [
           {
            "colorbar": {
             "outlinewidth": 0,
             "ticks": ""
            },
            "colorscale": [
             [
              0,
              "#0d0887"
             ],
             [
              0.1111111111111111,
              "#46039f"
             ],
             [
              0.2222222222222222,
              "#7201a8"
             ],
             [
              0.3333333333333333,
              "#9c179e"
             ],
             [
              0.4444444444444444,
              "#bd3786"
             ],
             [
              0.5555555555555556,
              "#d8576b"
             ],
             [
              0.6666666666666666,
              "#ed7953"
             ],
             [
              0.7777777777777778,
              "#fb9f3a"
             ],
             [
              0.8888888888888888,
              "#fdca26"
             ],
             [
              1,
              "#f0f921"
             ]
            ],
            "type": "histogram2d"
           }
          ],
          "histogram2dcontour": [
           {
            "colorbar": {
             "outlinewidth": 0,
             "ticks": ""
            },
            "colorscale": [
             [
              0,
              "#0d0887"
             ],
             [
              0.1111111111111111,
              "#46039f"
             ],
             [
              0.2222222222222222,
              "#7201a8"
             ],
             [
              0.3333333333333333,
              "#9c179e"
             ],
             [
              0.4444444444444444,
              "#bd3786"
             ],
             [
              0.5555555555555556,
              "#d8576b"
             ],
             [
              0.6666666666666666,
              "#ed7953"
             ],
             [
              0.7777777777777778,
              "#fb9f3a"
             ],
             [
              0.8888888888888888,
              "#fdca26"
             ],
             [
              1,
              "#f0f921"
             ]
            ],
            "type": "histogram2dcontour"
           }
          ],
          "mesh3d": [
           {
            "colorbar": {
             "outlinewidth": 0,
             "ticks": ""
            },
            "type": "mesh3d"
           }
          ],
          "parcoords": [
           {
            "line": {
             "colorbar": {
              "outlinewidth": 0,
              "ticks": ""
             }
            },
            "type": "parcoords"
           }
          ],
          "pie": [
           {
            "automargin": true,
            "type": "pie"
           }
          ],
          "scatter": [
           {
            "fillpattern": {
             "fillmode": "overlay",
             "size": 10,
             "solidity": 0.2
            },
            "type": "scatter"
           }
          ],
          "scatter3d": [
           {
            "line": {
             "colorbar": {
              "outlinewidth": 0,
              "ticks": ""
             }
            },
            "marker": {
             "colorbar": {
              "outlinewidth": 0,
              "ticks": ""
             }
            },
            "type": "scatter3d"
           }
          ],
          "scattercarpet": [
           {
            "marker": {
             "colorbar": {
              "outlinewidth": 0,
              "ticks": ""
             }
            },
            "type": "scattercarpet"
           }
          ],
          "scattergeo": [
           {
            "marker": {
             "colorbar": {
              "outlinewidth": 0,
              "ticks": ""
             }
            },
            "type": "scattergeo"
           }
          ],
          "scattergl": [
           {
            "marker": {
             "colorbar": {
              "outlinewidth": 0,
              "ticks": ""
             }
            },
            "type": "scattergl"
           }
          ],
          "scattermap": [
           {
            "marker": {
             "colorbar": {
              "outlinewidth": 0,
              "ticks": ""
             }
            },
            "type": "scattermap"
           }
          ],
          "scattermapbox": [
           {
            "marker": {
             "colorbar": {
              "outlinewidth": 0,
              "ticks": ""
             }
            },
            "type": "scattermapbox"
           }
          ],
          "scatterpolar": [
           {
            "marker": {
             "colorbar": {
              "outlinewidth": 0,
              "ticks": ""
             }
            },
            "type": "scatterpolar"
           }
          ],
          "scatterpolargl": [
           {
            "marker": {
             "colorbar": {
              "outlinewidth": 0,
              "ticks": ""
             }
            },
            "type": "scatterpolargl"
           }
          ],
          "scatterternary": [
           {
            "marker": {
             "colorbar": {
              "outlinewidth": 0,
              "ticks": ""
             }
            },
            "type": "scatterternary"
           }
          ],
          "surface": [
           {
            "colorbar": {
             "outlinewidth": 0,
             "ticks": ""
            },
            "colorscale": [
             [
              0,
              "#0d0887"
             ],
             [
              0.1111111111111111,
              "#46039f"
             ],
             [
              0.2222222222222222,
              "#7201a8"
             ],
             [
              0.3333333333333333,
              "#9c179e"
             ],
             [
              0.4444444444444444,
              "#bd3786"
             ],
             [
              0.5555555555555556,
              "#d8576b"
             ],
             [
              0.6666666666666666,
              "#ed7953"
             ],
             [
              0.7777777777777778,
              "#fb9f3a"
             ],
             [
              0.8888888888888888,
              "#fdca26"
             ],
             [
              1,
              "#f0f921"
             ]
            ],
            "type": "surface"
           }
          ],
          "table": [
           {
            "cells": {
             "fill": {
              "color": "#EBF0F8"
             },
             "line": {
              "color": "white"
             }
            },
            "header": {
             "fill": {
              "color": "#C8D4E3"
             },
             "line": {
              "color": "white"
             }
            },
            "type": "table"
           }
          ]
         },
         "layout": {
          "annotationdefaults": {
           "arrowcolor": "#2a3f5f",
           "arrowhead": 0,
           "arrowwidth": 1
          },
          "autotypenumbers": "strict",
          "coloraxis": {
           "colorbar": {
            "outlinewidth": 0,
            "ticks": ""
           }
          },
          "colorscale": {
           "diverging": [
            [
             0,
             "#8e0152"
            ],
            [
             0.1,
             "#c51b7d"
            ],
            [
             0.2,
             "#de77ae"
            ],
            [
             0.3,
             "#f1b6da"
            ],
            [
             0.4,
             "#fde0ef"
            ],
            [
             0.5,
             "#f7f7f7"
            ],
            [
             0.6,
             "#e6f5d0"
            ],
            [
             0.7,
             "#b8e186"
            ],
            [
             0.8,
             "#7fbc41"
            ],
            [
             0.9,
             "#4d9221"
            ],
            [
             1,
             "#276419"
            ]
           ],
           "sequential": [
            [
             0,
             "#0d0887"
            ],
            [
             0.1111111111111111,
             "#46039f"
            ],
            [
             0.2222222222222222,
             "#7201a8"
            ],
            [
             0.3333333333333333,
             "#9c179e"
            ],
            [
             0.4444444444444444,
             "#bd3786"
            ],
            [
             0.5555555555555556,
             "#d8576b"
            ],
            [
             0.6666666666666666,
             "#ed7953"
            ],
            [
             0.7777777777777778,
             "#fb9f3a"
            ],
            [
             0.8888888888888888,
             "#fdca26"
            ],
            [
             1,
             "#f0f921"
            ]
           ],
           "sequentialminus": [
            [
             0,
             "#0d0887"
            ],
            [
             0.1111111111111111,
             "#46039f"
            ],
            [
             0.2222222222222222,
             "#7201a8"
            ],
            [
             0.3333333333333333,
             "#9c179e"
            ],
            [
             0.4444444444444444,
             "#bd3786"
            ],
            [
             0.5555555555555556,
             "#d8576b"
            ],
            [
             0.6666666666666666,
             "#ed7953"
            ],
            [
             0.7777777777777778,
             "#fb9f3a"
            ],
            [
             0.8888888888888888,
             "#fdca26"
            ],
            [
             1,
             "#f0f921"
            ]
           ]
          },
          "colorway": [
           "#636efa",
           "#EF553B",
           "#00cc96",
           "#ab63fa",
           "#FFA15A",
           "#19d3f3",
           "#FF6692",
           "#B6E880",
           "#FF97FF",
           "#FECB52"
          ],
          "font": {
           "color": "#2a3f5f"
          },
          "geo": {
           "bgcolor": "white",
           "lakecolor": "white",
           "landcolor": "#E5ECF6",
           "showlakes": true,
           "showland": true,
           "subunitcolor": "white"
          },
          "hoverlabel": {
           "align": "left"
          },
          "hovermode": "closest",
          "mapbox": {
           "style": "light"
          },
          "paper_bgcolor": "white",
          "plot_bgcolor": "#E5ECF6",
          "polar": {
           "angularaxis": {
            "gridcolor": "white",
            "linecolor": "white",
            "ticks": ""
           },
           "bgcolor": "#E5ECF6",
           "radialaxis": {
            "gridcolor": "white",
            "linecolor": "white",
            "ticks": ""
           }
          },
          "scene": {
           "xaxis": {
            "backgroundcolor": "#E5ECF6",
            "gridcolor": "white",
            "gridwidth": 2,
            "linecolor": "white",
            "showbackground": true,
            "ticks": "",
            "zerolinecolor": "white"
           },
           "yaxis": {
            "backgroundcolor": "#E5ECF6",
            "gridcolor": "white",
            "gridwidth": 2,
            "linecolor": "white",
            "showbackground": true,
            "ticks": "",
            "zerolinecolor": "white"
           },
           "zaxis": {
            "backgroundcolor": "#E5ECF6",
            "gridcolor": "white",
            "gridwidth": 2,
            "linecolor": "white",
            "showbackground": true,
            "ticks": "",
            "zerolinecolor": "white"
           }
          },
          "shapedefaults": {
           "line": {
            "color": "#2a3f5f"
           }
          },
          "ternary": {
           "aaxis": {
            "gridcolor": "white",
            "linecolor": "white",
            "ticks": ""
           },
           "baxis": {
            "gridcolor": "white",
            "linecolor": "white",
            "ticks": ""
           },
           "bgcolor": "#E5ECF6",
           "caxis": {
            "gridcolor": "white",
            "linecolor": "white",
            "ticks": ""
           }
          },
          "title": {
           "x": 0.05
          },
          "xaxis": {
           "automargin": true,
           "gridcolor": "white",
           "linecolor": "white",
           "ticks": "",
           "title": {
            "standoff": 15
           },
           "zerolinecolor": "white",
           "zerolinewidth": 2
          },
          "yaxis": {
           "automargin": true,
           "gridcolor": "white",
           "linecolor": "white",
           "ticks": "",
           "title": {
            "standoff": 15
           },
           "zerolinecolor": "white",
           "zerolinewidth": 2
          }
         }
        },
        "title": {
         "font": {
          "color": "black",
          "family": "Teleneo",
          "size": 24
         },
         "text": "Current Upselling Performance",
         "x": 0.5,
         "xanchor": "center"
        },
        "width": 1200
       }
      }
     },
     "metadata": {},
     "output_type": "display_data"
    },
    {
     "name": "stdout",
     "output_type": "stream",
     "text": [
      "Saving chart in presentation-ready formats...\n"
     ]
    }
   ],
   "source": [
    "# Calculate upselling statistics\n",
    "total_contracts = core_data.shape[0]\n",
    "upsold_contracts = core_data.filter(pl.col('has_done_upselling')).shape[0]\n",
    "not_upsold_contracts = total_contracts - upsold_contracts\n",
    "\n",
    "# Create presentation-ready pie chart\n",
    "fig = go.Figure(data=[go.Pie(\n",
    "    labels=['Not Upsold', 'Upsold'],\n",
    "    values=[not_upsold_contracts, upsold_contracts],\n",
    "    hole=0,  # Changed from donut to full pie chart\n",
    "    marker_colors=[GRAY_COLOR, MAGENTA_COLOR],\n",
    "    textinfo='label+percent+value',\n",
    "    textfont_size=18,\n",
    "    textfont_color='white',\n",
    "    textposition='auto',\n",
    "    pull=[0, 0.1],  # Pull out the \"Upsold\" segment slightly for emphasis\n",
    "    marker=dict(\n",
    "        line=dict(color='white', width=3)  # Add white border for better separation\n",
    "    )\n",
    ")])\n",
    "\n",
    "fig.update_layout(\n",
    "    title={\n",
    "        'text': 'Current Upselling Performance',\n",
    "        'x': 0.5,\n",
    "        'xanchor': 'center',\n",
    "        'font': {'size': 24, 'family': FONT_FAMILY, 'color': 'black'}\n",
    "    },\n",
    "    font=dict(size=16, family=FONT_FAMILY, color='black'),\n",
    "    showlegend=True,\n",
    "    legend=dict(\n",
    "        orientation=\"h\",\n",
    "        yanchor=\"bottom\",\n",
    "        y=-0.1,\n",
    "        xanchor=\"center\",\n",
    "        x=0.5,\n",
    "        font=dict(size=18)\n",
    "    ),\n",
    "    width=1200,  # High resolution for presentation\n",
    "    height=800,\n",
    "    plot_bgcolor='rgba(0,0,0,0)',  # Transparent plot background\n",
    "    paper_bgcolor='rgba(0,0,0,0)',  # Transparent paper background\n",
    "    margin=dict(t=100, b=80, l=50, r=50)  # Adjust margins for better spacing\n",
    ")\n",
    "\n",
    "# Display the chart\n",
    "fig.show()\n",
    "\n",
    "# Save the chart in multiple high-quality formats for presentation use\n",
    "print(\"Saving chart in presentation-ready formats...\")\n",
    "\n",
    "# Save as PDF (high quality for printing)\n",
    "fig.write_image(images_dir / \"upselling_performance_chart.pdf\", \n",
    "                width=1200, height=800, scale=2)"
   ]
  },
  {
   "cell_type": "markdown",
   "metadata": {},
   "source": [
    "## 2. Customer Portfolio Segmentation"
   ]
  },
  {
   "cell_type": "code",
   "execution_count": 5,
   "metadata": {},
   "outputs": [
    {
     "data": {
      "application/vnd.plotly.v1+json": {
       "config": {
        "plotlyServerURL": "https://plot.ly"
       },
       "data": [
        {
         "marker": {
          "color": "rgb(226,0,116)"
         },
         "name": "Customers",
         "text": {
          "bdata": "AAAAAIDb3UAAAAAAQIbRQAAAAAAAILxAAAAAAABooEAAAAAAAECBQAAAAAAAAFhAAAAAAAAAOEAAAAAAAAAQQA==",
          "dtype": "f8"
         },
         "textposition": "auto",
         "type": "bar",
         "x": {
          "bdata": "AQAAAAIAAAADAAAABAAAAAUAAAAGAAAABwAAAAgAAAA=",
          "dtype": "u4"
         },
         "xaxis": "x",
         "y": {
          "bdata": "bncAABlGAAAgHAAANAgAACgCAABgAAAAGAAAAAQAAAA=",
          "dtype": "u4"
         },
         "yaxis": "y"
        },
        {
         "marker": {
          "color": "rgba(226,0,116,0.7)"
         },
         "name": "Avg Revenue (€)",
         "text": [
          "€38",
          "€75",
          "€112",
          "€152",
          "€188",
          "€224",
          "€278",
          "€272"
         ],
         "textposition": "auto",
         "type": "bar",
         "x": {
          "bdata": "AQAAAAIAAAADAAAABAAAAAUAAAAGAAAABwAAAAgAAAA=",
          "dtype": "u4"
         },
         "xaxis": "x2",
         "y": {
          "bdata": "cT0K16PQQkBmZmZmZrZSQEjhehSuB1xAmpmZmZkBY0AAAAAAAJBnQHsUrkfhCmxAKVyPwvVccUDsUbgehQdxQA==",
          "dtype": "f8"
         },
         "yaxis": "y2"
        },
        {
         "marker": {
          "color": "rgb(180,0,93)"
         },
         "name": "Upselling Success Rate (%)",
         "text": [
          "6.9%",
          "13.9%",
          "19.8%",
          "24.2%",
          "34.1%",
          "24.0%",
          "33.3%",
          "75.0%"
         ],
         "textposition": "auto",
         "type": "bar",
         "x": {
          "bdata": "AQAAAAIAAAADAAAABAAAAAUAAAAGAAAABwAAAAgAAAA=",
          "dtype": "u4"
         },
         "xaxis": "x3",
         "y": {
          "bdata": "hetRuB6FG0DNzMzMzMwrQAAAAAAAwDNAPQrXo3A9OEBI4XoUrgdBQPYoXI/C9TdACtejcD2qQEAAAAAAAMBSQA==",
          "dtype": "f8"
         },
         "yaxis": "y3"
        },
        {
         "hovertemplate": "<b>%{text}</b><br>Avg Revenue: €%{x:.0f}<br>Upselling Rate: %{y:.1f}%<br><extra></extra>",
         "marker": {
          "color": "rgb(226,0,116)",
          "opacity": 0.7,
          "size": {
           "bdata": "bef7qfGSPkBSuB6F6/ExQM3MzMzMzBxAzczMzMzMAEBEi2zn+6nhP/p+arx0k7g/+n5qvHSTmD/8qfHSTWJwPw==",
           "dtype": "f8"
          },
          "sizemin": 10,
          "sizemode": "area",
          "sizeref": 38.2175
         },
         "mode": "markers+text",
         "name": "Portfolio Segments",
         "text": [
          "1 contracts",
          "2 contracts",
          "3 contracts",
          "4 contracts",
          "5 contracts",
          "6 contracts",
          "7 contracts",
          "8 contracts"
         ],
         "textposition": "middle center",
         "type": "scatter",
         "x": {
          "bdata": "cT0K16PQQkBmZmZmZrZSQEjhehSuB1xAmpmZmZkBY0AAAAAAAJBnQHsUrkfhCmxAKVyPwvVccUDsUbgehQdxQA==",
          "dtype": "f8"
         },
         "xaxis": "x4",
         "y": {
          "bdata": "hetRuB6FG0DNzMzMzMwrQAAAAAAAwDNAPQrXo3A9OEBI4XoUrgdBQPYoXI/C9TdACtejcD2qQEAAAAAAAMBSQA==",
          "dtype": "f8"
         },
         "yaxis": "y4"
        }
       ],
       "layout": {
        "annotations": [
         {
          "font": {
           "size": 16
          },
          "showarrow": false,
          "text": "Customer Distribution by Portfolio Size",
          "x": 0.185,
          "xanchor": "center",
          "xref": "paper",
          "y": 1,
          "yanchor": "bottom",
          "yref": "paper"
         },
         {
          "font": {
           "size": 16
          },
          "showarrow": false,
          "text": "Average Revenue per Customer Segment",
          "x": 0.7550000000000001,
          "xanchor": "center",
          "xref": "paper",
          "y": 1,
          "yanchor": "bottom",
          "yref": "paper"
         },
         {
          "font": {
           "size": 16
          },
          "showarrow": false,
          "text": "Upselling Success Rate by Segment",
          "x": 0.185,
          "xanchor": "center",
          "xref": "paper",
          "y": 0.375,
          "yanchor": "bottom",
          "yref": "paper"
         },
         {
          "font": {
           "size": 16
          },
          "showarrow": false,
          "text": "Customer Value vs Upselling Opportunity",
          "x": 0.7550000000000001,
          "xanchor": "center",
          "xref": "paper",
          "y": 0.375,
          "yanchor": "bottom",
          "yref": "paper"
         }
        ],
        "font": {
         "family": "Teleneo",
         "size": 10
        },
        "height": 800,
        "paper_bgcolor": "rgb(250,250,250)",
        "plot_bgcolor": "rgba(0,0,0,0)",
        "showlegend": false,
        "template": {
         "data": {
          "bar": [
           {
            "error_x": {
             "color": "#2a3f5f"
            },
            "error_y": {
             "color": "#2a3f5f"
            },
            "marker": {
             "line": {
              "color": "#E5ECF6",
              "width": 0.5
             },
             "pattern": {
              "fillmode": "overlay",
              "size": 10,
              "solidity": 0.2
             }
            },
            "type": "bar"
           }
          ],
          "barpolar": [
           {
            "marker": {
             "line": {
              "color": "#E5ECF6",
              "width": 0.5
             },
             "pattern": {
              "fillmode": "overlay",
              "size": 10,
              "solidity": 0.2
             }
            },
            "type": "barpolar"
           }
          ],
          "carpet": [
           {
            "aaxis": {
             "endlinecolor": "#2a3f5f",
             "gridcolor": "white",
             "linecolor": "white",
             "minorgridcolor": "white",
             "startlinecolor": "#2a3f5f"
            },
            "baxis": {
             "endlinecolor": "#2a3f5f",
             "gridcolor": "white",
             "linecolor": "white",
             "minorgridcolor": "white",
             "startlinecolor": "#2a3f5f"
            },
            "type": "carpet"
           }
          ],
          "choropleth": [
           {
            "colorbar": {
             "outlinewidth": 0,
             "ticks": ""
            },
            "type": "choropleth"
           }
          ],
          "contour": [
           {
            "colorbar": {
             "outlinewidth": 0,
             "ticks": ""
            },
            "colorscale": [
             [
              0,
              "#0d0887"
             ],
             [
              0.1111111111111111,
              "#46039f"
             ],
             [
              0.2222222222222222,
              "#7201a8"
             ],
             [
              0.3333333333333333,
              "#9c179e"
             ],
             [
              0.4444444444444444,
              "#bd3786"
             ],
             [
              0.5555555555555556,
              "#d8576b"
             ],
             [
              0.6666666666666666,
              "#ed7953"
             ],
             [
              0.7777777777777778,
              "#fb9f3a"
             ],
             [
              0.8888888888888888,
              "#fdca26"
             ],
             [
              1,
              "#f0f921"
             ]
            ],
            "type": "contour"
           }
          ],
          "contourcarpet": [
           {
            "colorbar": {
             "outlinewidth": 0,
             "ticks": ""
            },
            "type": "contourcarpet"
           }
          ],
          "heatmap": [
           {
            "colorbar": {
             "outlinewidth": 0,
             "ticks": ""
            },
            "colorscale": [
             [
              0,
              "#0d0887"
             ],
             [
              0.1111111111111111,
              "#46039f"
             ],
             [
              0.2222222222222222,
              "#7201a8"
             ],
             [
              0.3333333333333333,
              "#9c179e"
             ],
             [
              0.4444444444444444,
              "#bd3786"
             ],
             [
              0.5555555555555556,
              "#d8576b"
             ],
             [
              0.6666666666666666,
              "#ed7953"
             ],
             [
              0.7777777777777778,
              "#fb9f3a"
             ],
             [
              0.8888888888888888,
              "#fdca26"
             ],
             [
              1,
              "#f0f921"
             ]
            ],
            "type": "heatmap"
           }
          ],
          "histogram": [
           {
            "marker": {
             "pattern": {
              "fillmode": "overlay",
              "size": 10,
              "solidity": 0.2
             }
            },
            "type": "histogram"
           }
          ],
          "histogram2d": [
           {
            "colorbar": {
             "outlinewidth": 0,
             "ticks": ""
            },
            "colorscale": [
             [
              0,
              "#0d0887"
             ],
             [
              0.1111111111111111,
              "#46039f"
             ],
             [
              0.2222222222222222,
              "#7201a8"
             ],
             [
              0.3333333333333333,
              "#9c179e"
             ],
             [
              0.4444444444444444,
              "#bd3786"
             ],
             [
              0.5555555555555556,
              "#d8576b"
             ],
             [
              0.6666666666666666,
              "#ed7953"
             ],
             [
              0.7777777777777778,
              "#fb9f3a"
             ],
             [
              0.8888888888888888,
              "#fdca26"
             ],
             [
              1,
              "#f0f921"
             ]
            ],
            "type": "histogram2d"
           }
          ],
          "histogram2dcontour": [
           {
            "colorbar": {
             "outlinewidth": 0,
             "ticks": ""
            },
            "colorscale": [
             [
              0,
              "#0d0887"
             ],
             [
              0.1111111111111111,
              "#46039f"
             ],
             [
              0.2222222222222222,
              "#7201a8"
             ],
             [
              0.3333333333333333,
              "#9c179e"
             ],
             [
              0.4444444444444444,
              "#bd3786"
             ],
             [
              0.5555555555555556,
              "#d8576b"
             ],
             [
              0.6666666666666666,
              "#ed7953"
             ],
             [
              0.7777777777777778,
              "#fb9f3a"
             ],
             [
              0.8888888888888888,
              "#fdca26"
             ],
             [
              1,
              "#f0f921"
             ]
            ],
            "type": "histogram2dcontour"
           }
          ],
          "mesh3d": [
           {
            "colorbar": {
             "outlinewidth": 0,
             "ticks": ""
            },
            "type": "mesh3d"
           }
          ],
          "parcoords": [
           {
            "line": {
             "colorbar": {
              "outlinewidth": 0,
              "ticks": ""
             }
            },
            "type": "parcoords"
           }
          ],
          "pie": [
           {
            "automargin": true,
            "type": "pie"
           }
          ],
          "scatter": [
           {
            "fillpattern": {
             "fillmode": "overlay",
             "size": 10,
             "solidity": 0.2
            },
            "type": "scatter"
           }
          ],
          "scatter3d": [
           {
            "line": {
             "colorbar": {
              "outlinewidth": 0,
              "ticks": ""
             }
            },
            "marker": {
             "colorbar": {
              "outlinewidth": 0,
              "ticks": ""
             }
            },
            "type": "scatter3d"
           }
          ],
          "scattercarpet": [
           {
            "marker": {
             "colorbar": {
              "outlinewidth": 0,
              "ticks": ""
             }
            },
            "type": "scattercarpet"
           }
          ],
          "scattergeo": [
           {
            "marker": {
             "colorbar": {
              "outlinewidth": 0,
              "ticks": ""
             }
            },
            "type": "scattergeo"
           }
          ],
          "scattergl": [
           {
            "marker": {
             "colorbar": {
              "outlinewidth": 0,
              "ticks": ""
             }
            },
            "type": "scattergl"
           }
          ],
          "scattermap": [
           {
            "marker": {
             "colorbar": {
              "outlinewidth": 0,
              "ticks": ""
             }
            },
            "type": "scattermap"
           }
          ],
          "scattermapbox": [
           {
            "marker": {
             "colorbar": {
              "outlinewidth": 0,
              "ticks": ""
             }
            },
            "type": "scattermapbox"
           }
          ],
          "scatterpolar": [
           {
            "marker": {
             "colorbar": {
              "outlinewidth": 0,
              "ticks": ""
             }
            },
            "type": "scatterpolar"
           }
          ],
          "scatterpolargl": [
           {
            "marker": {
             "colorbar": {
              "outlinewidth": 0,
              "ticks": ""
             }
            },
            "type": "scatterpolargl"
           }
          ],
          "scatterternary": [
           {
            "marker": {
             "colorbar": {
              "outlinewidth": 0,
              "ticks": ""
             }
            },
            "type": "scatterternary"
           }
          ],
          "surface": [
           {
            "colorbar": {
             "outlinewidth": 0,
             "ticks": ""
            },
            "colorscale": [
             [
              0,
              "#0d0887"
             ],
             [
              0.1111111111111111,
              "#46039f"
             ],
             [
              0.2222222222222222,
              "#7201a8"
             ],
             [
              0.3333333333333333,
              "#9c179e"
             ],
             [
              0.4444444444444444,
              "#bd3786"
             ],
             [
              0.5555555555555556,
              "#d8576b"
             ],
             [
              0.6666666666666666,
              "#ed7953"
             ],
             [
              0.7777777777777778,
              "#fb9f3a"
             ],
             [
              0.8888888888888888,
              "#fdca26"
             ],
             [
              1,
              "#f0f921"
             ]
            ],
            "type": "surface"
           }
          ],
          "table": [
           {
            "cells": {
             "fill": {
              "color": "#EBF0F8"
             },
             "line": {
              "color": "white"
             }
            },
            "header": {
             "fill": {
              "color": "#C8D4E3"
             },
             "line": {
              "color": "white"
             }
            },
            "type": "table"
           }
          ]
         },
         "layout": {
          "annotationdefaults": {
           "arrowcolor": "#2a3f5f",
           "arrowhead": 0,
           "arrowwidth": 1
          },
          "autotypenumbers": "strict",
          "coloraxis": {
           "colorbar": {
            "outlinewidth": 0,
            "ticks": ""
           }
          },
          "colorscale": {
           "diverging": [
            [
             0,
             "#8e0152"
            ],
            [
             0.1,
             "#c51b7d"
            ],
            [
             0.2,
             "#de77ae"
            ],
            [
             0.3,
             "#f1b6da"
            ],
            [
             0.4,
             "#fde0ef"
            ],
            [
             0.5,
             "#f7f7f7"
            ],
            [
             0.6,
             "#e6f5d0"
            ],
            [
             0.7,
             "#b8e186"
            ],
            [
             0.8,
             "#7fbc41"
            ],
            [
             0.9,
             "#4d9221"
            ],
            [
             1,
             "#276419"
            ]
           ],
           "sequential": [
            [
             0,
             "#0d0887"
            ],
            [
             0.1111111111111111,
             "#46039f"
            ],
            [
             0.2222222222222222,
             "#7201a8"
            ],
            [
             0.3333333333333333,
             "#9c179e"
            ],
            [
             0.4444444444444444,
             "#bd3786"
            ],
            [
             0.5555555555555556,
             "#d8576b"
            ],
            [
             0.6666666666666666,
             "#ed7953"
            ],
            [
             0.7777777777777778,
             "#fb9f3a"
            ],
            [
             0.8888888888888888,
             "#fdca26"
            ],
            [
             1,
             "#f0f921"
            ]
           ],
           "sequentialminus": [
            [
             0,
             "#0d0887"
            ],
            [
             0.1111111111111111,
             "#46039f"
            ],
            [
             0.2222222222222222,
             "#7201a8"
            ],
            [
             0.3333333333333333,
             "#9c179e"
            ],
            [
             0.4444444444444444,
             "#bd3786"
            ],
            [
             0.5555555555555556,
             "#d8576b"
            ],
            [
             0.6666666666666666,
             "#ed7953"
            ],
            [
             0.7777777777777778,
             "#fb9f3a"
            ],
            [
             0.8888888888888888,
             "#fdca26"
            ],
            [
             1,
             "#f0f921"
            ]
           ]
          },
          "colorway": [
           "#636efa",
           "#EF553B",
           "#00cc96",
           "#ab63fa",
           "#FFA15A",
           "#19d3f3",
           "#FF6692",
           "#B6E880",
           "#FF97FF",
           "#FECB52"
          ],
          "font": {
           "color": "#2a3f5f"
          },
          "geo": {
           "bgcolor": "white",
           "lakecolor": "white",
           "landcolor": "#E5ECF6",
           "showlakes": true,
           "showland": true,
           "subunitcolor": "white"
          },
          "hoverlabel": {
           "align": "left"
          },
          "hovermode": "closest",
          "mapbox": {
           "style": "light"
          },
          "paper_bgcolor": "white",
          "plot_bgcolor": "#E5ECF6",
          "polar": {
           "angularaxis": {
            "gridcolor": "white",
            "linecolor": "white",
            "ticks": ""
           },
           "bgcolor": "#E5ECF6",
           "radialaxis": {
            "gridcolor": "white",
            "linecolor": "white",
            "ticks": ""
           }
          },
          "scene": {
           "xaxis": {
            "backgroundcolor": "#E5ECF6",
            "gridcolor": "white",
            "gridwidth": 2,
            "linecolor": "white",
            "showbackground": true,
            "ticks": "",
            "zerolinecolor": "white"
           },
           "yaxis": {
            "backgroundcolor": "#E5ECF6",
            "gridcolor": "white",
            "gridwidth": 2,
            "linecolor": "white",
            "showbackground": true,
            "ticks": "",
            "zerolinecolor": "white"
           },
           "zaxis": {
            "backgroundcolor": "#E5ECF6",
            "gridcolor": "white",
            "gridwidth": 2,
            "linecolor": "white",
            "showbackground": true,
            "ticks": "",
            "zerolinecolor": "white"
           }
          },
          "shapedefaults": {
           "line": {
            "color": "#2a3f5f"
           }
          },
          "ternary": {
           "aaxis": {
            "gridcolor": "white",
            "linecolor": "white",
            "ticks": ""
           },
           "baxis": {
            "gridcolor": "white",
            "linecolor": "white",
            "ticks": ""
           },
           "bgcolor": "#E5ECF6",
           "caxis": {
            "gridcolor": "white",
            "linecolor": "white",
            "ticks": ""
           }
          },
          "title": {
           "x": 0.05
          },
          "xaxis": {
           "automargin": true,
           "gridcolor": "white",
           "linecolor": "white",
           "ticks": "",
           "title": {
            "standoff": 15
           },
           "zerolinecolor": "white",
           "zerolinewidth": 2
          },
          "yaxis": {
           "automargin": true,
           "gridcolor": "white",
           "linecolor": "white",
           "ticks": "",
           "title": {
            "standoff": 15
           },
           "zerolinecolor": "white",
           "zerolinewidth": 2
          }
         }
        },
        "title": {
         "font": {
          "family": "Teleneo",
          "size": 18
         },
         "text": "Customer Portfolio Analysis",
         "x": 0.5,
         "xanchor": "center"
        },
        "xaxis": {
         "anchor": "y",
         "domain": [
          0,
          0.37
         ],
         "title": {
          "text": "Portfolio Size (Number of Contracts)"
         }
        },
        "xaxis2": {
         "anchor": "y2",
         "domain": [
          0.5700000000000001,
          0.9400000000000001
         ],
         "title": {
          "text": "Portfolio Size (Number of Contracts)"
         }
        },
        "xaxis3": {
         "anchor": "y3",
         "domain": [
          0,
          0.37
         ],
         "title": {
          "text": "Portfolio Size (Number of Contracts)"
         }
        },
        "xaxis4": {
         "anchor": "y4",
         "domain": [
          0.5700000000000001,
          0.9400000000000001
         ],
         "title": {
          "text": "Average Revenue per Customer (€)"
         }
        },
        "yaxis": {
         "anchor": "x",
         "domain": [
          0.625,
          1
         ],
         "title": {
          "text": "Number of Customers"
         }
        },
        "yaxis2": {
         "anchor": "x2",
         "domain": [
          0.625,
          1
         ],
         "title": {
          "text": "Average Revenue (€)"
         }
        },
        "yaxis3": {
         "anchor": "x3",
         "domain": [
          0,
          0.375
         ],
         "title": {
          "text": "Upselling Success Rate (%)"
         }
        },
        "yaxis4": {
         "anchor": "x4",
         "domain": [
          0,
          0.375
         ],
         "title": {
          "text": "Upselling Success Rate (%)"
         }
        },
        "yaxis5": {
         "anchor": "x4",
         "overlaying": "y4",
         "side": "right",
         "title": {
          "text": "Upselling Success Rate (%)"
         }
        }
       }
      }
     },
     "metadata": {},
     "output_type": "display_data"
    }
   ],
   "source": [
    "# Calculate customer portfolio analysis\n",
    "customer_portfolio = (\n",
    "    core_data\n",
    "    .group_by('customer_id')\n",
    "    .agg([\n",
    "        pl.col('rating_account_id').count().alias('portfolio_size'),\n",
    "        pl.col('gross_mrc').sum().alias('total_value'),\n",
    "        pl.col('has_done_upselling').max().alias('any_upselling'),\n",
    "        pl.col('has_done_upselling').sum().alias('count_upselling'),\n",
    "        (pl.col('has_done_upselling').sum() / pl.col('rating_account_id').count() * 100).round(2).alias('upselling_rate')\n",
    "    ])\n",
    ")\n",
    "\n",
    "# Create portfolio summary\n",
    "portfolio_summary = (\n",
    "    customer_portfolio\n",
    "    .group_by('portfolio_size')\n",
    "    .agg([\n",
    "        pl.col('customer_id').n_unique().alias('total_customers'),\n",
    "        (pl.col('any_upselling').mean() * 100).round(2).alias('customers_with_upselling_percent'),\n",
    "        pl.col('total_value').mean().round(2).alias('avg_total_spend'),\n",
    "        pl.col('upselling_rate').mean().round(2).alias('avg_upselling_rate')\n",
    "    ])\n",
    "    .sort('portfolio_size', descending=False)\n",
    "    .filter(pl.col('portfolio_size') <= 8)  # Focus on main segments\n",
    ")\n",
    "\n",
    "# Create visualization\n",
    "fig = make_subplots(\n",
    "    rows=2, cols=2,\n",
    "    subplot_titles=(\n",
    "        'Customer Distribution by Portfolio Size',\n",
    "        'Average Revenue per Customer Segment',\n",
    "        'Upselling Success Rate by Segment',\n",
    "        'Customer Value vs Upselling Opportunity'\n",
    "    ),\n",
    "    specs=[[{\"secondary_y\": False}, {\"secondary_y\": False}],\n",
    "           [{\"secondary_y\": False}, {\"secondary_y\": True}]]\n",
    ")\n",
    "\n",
    "# Customer distribution\n",
    "fig.add_trace(\n",
    "    go.Bar(\n",
    "        x=portfolio_summary['portfolio_size'],\n",
    "        y=portfolio_summary['total_customers'],\n",
    "        name='Customers',\n",
    "        marker_color=MAGENTA_COLOR,\n",
    "        text=portfolio_summary['total_customers'],\n",
    "        textposition='auto'\n",
    "    ),\n",
    "    row=1, col=1\n",
    ")\n",
    "\n",
    "# Average revenue per customer\n",
    "fig.add_trace(\n",
    "    go.Bar(\n",
    "        x=portfolio_summary['portfolio_size'],\n",
    "        y=portfolio_summary['avg_total_spend'],\n",
    "        name='Avg Revenue (€)',\n",
    "        marker_color=MAGENTA_LIGHT,\n",
    "        text=[f'€{x:.0f}' for x in portfolio_summary['avg_total_spend']],\n",
    "        textposition='auto'\n",
    "    ),\n",
    "    row=1, col=2\n",
    ")\n",
    "\n",
    "# Upselling success rate\n",
    "fig.add_trace(\n",
    "    go.Bar(\n",
    "        x=portfolio_summary['portfolio_size'],\n",
    "        y=portfolio_summary['customers_with_upselling_percent'],\n",
    "        name='Upselling Success Rate (%)',\n",
    "        marker_color=MAGENTA_DARK,\n",
    "        text=[f'{x:.1f}%' for x in portfolio_summary['customers_with_upselling_percent']],\n",
    "        textposition='auto'\n",
    "    ),\n",
    "    row=2, col=1\n",
    ")\n",
    "\n",
    "# Combined view: Value vs Opportunity\n",
    "fig.add_trace(\n",
    "    go.Scatter(\n",
    "        x=portfolio_summary['avg_total_spend'],\n",
    "        y=portfolio_summary['customers_with_upselling_percent'],\n",
    "        mode='markers+text',\n",
    "        marker=dict(\n",
    "            size=portfolio_summary['total_customers'].to_numpy() / 1000,\n",
    "            color=MAGENTA_COLOR,\n",
    "            opacity=0.7,\n",
    "            sizemode='area',\n",
    "            sizeref=2. * max(portfolio_summary['total_customers']) / (40. ** 2),\n",
    "            sizemin=10\n",
    "        ),\n",
    "        text=[f'{x} contracts' for x in portfolio_summary['portfolio_size']],\n",
    "        textposition='middle center',\n",
    "        name='Portfolio Segments',\n",
    "        hovertemplate='<b>%{text}</b><br>' +\n",
    "                     'Avg Revenue: €%{x:.0f}<br>' +\n",
    "                     'Upselling Rate: %{y:.1f}%<br>' +\n",
    "                     '<extra></extra>'\n",
    "    ),\n",
    "    row=2, col=2\n",
    ")\n",
    "\n",
    "# Update layout\n",
    "fig.update_xaxes(title_text=\"Portfolio Size (Number of Contracts)\", row=1, col=1)\n",
    "fig.update_yaxes(title_text=\"Number of Customers\", row=1, col=1)\n",
    "fig.update_xaxes(title_text=\"Portfolio Size (Number of Contracts)\", row=1, col=2)\n",
    "fig.update_yaxes(title_text=\"Average Revenue (€)\", row=1, col=2)\n",
    "fig.update_xaxes(title_text=\"Portfolio Size (Number of Contracts)\", row=2, col=1)\n",
    "fig.update_yaxes(title_text=\"Upselling Success Rate (%)\", row=2, col=1)\n",
    "fig.update_xaxes(title_text=\"Average Revenue per Customer (€)\", row=2, col=2)\n",
    "fig.update_yaxes(title_text=\"Upselling Success Rate (%)\", row=2, col=2)\n",
    "\n",
    "fig.update_layout(\n",
    "    title={\n",
    "        'text': 'Customer Portfolio Analysis',\n",
    "        'x': 0.5,\n",
    "        'xanchor': 'center',\n",
    "        'font': {'size': 18, 'family': FONT_FAMILY}\n",
    "    },\n",
    "    plot_bgcolor='rgba(0,0,0,0)',\n",
    "    paper_bgcolor='rgb(250,250,250)',\n",
    "    height=800,\n",
    "    showlegend=False,\n",
    "    font=dict(size=10, family=FONT_FAMILY)\n",
    ")\n",
    "\n",
    "fig.show()"
   ]
  },
  {
   "cell_type": "code",
   "execution_count": 31,
   "metadata": {},
   "outputs": [
    {
     "data": {
      "application/vnd.plotly.v1+json": {
       "config": {
        "plotlyServerURL": "https://plot.ly"
       },
       "data": [
        {
         "marker": {
          "color": "rgb(226,0,116)"
         },
         "name": "Customers",
         "text": {
          "bdata": "AAAAAIDb3UAAAAAAQIbRQAAAAAAAILxAAAAAAABooEAAAAAAAECBQAAAAAAAAFhAAAAAAAAAOEAAAAAAAAAQQA==",
          "dtype": "f8"
         },
         "textfont": {
          "size": 16
         },
         "textposition": "auto",
         "type": "bar",
         "x": {
          "bdata": "AQAAAAIAAAADAAAABAAAAAUAAAAGAAAABwAAAAgAAAA=",
          "dtype": "u4"
         },
         "y": {
          "bdata": "bncAABlGAAAgHAAANAgAACgCAABgAAAAGAAAAAQAAAA=",
          "dtype": "u4"
         }
        }
       ],
       "layout": {
        "font": {
         "family": "Teleneo",
         "size": 16
        },
        "height": 600,
        "paper_bgcolor": "rgb(250,250,250)",
        "plot_bgcolor": "rgba(0,0,0,0)",
        "showlegend": false,
        "template": {
         "data": {
          "bar": [
           {
            "error_x": {
             "color": "#2a3f5f"
            },
            "error_y": {
             "color": "#2a3f5f"
            },
            "marker": {
             "line": {
              "color": "#E5ECF6",
              "width": 0.5
             },
             "pattern": {
              "fillmode": "overlay",
              "size": 10,
              "solidity": 0.2
             }
            },
            "type": "bar"
           }
          ],
          "barpolar": [
           {
            "marker": {
             "line": {
              "color": "#E5ECF6",
              "width": 0.5
             },
             "pattern": {
              "fillmode": "overlay",
              "size": 10,
              "solidity": 0.2
             }
            },
            "type": "barpolar"
           }
          ],
          "carpet": [
           {
            "aaxis": {
             "endlinecolor": "#2a3f5f",
             "gridcolor": "white",
             "linecolor": "white",
             "minorgridcolor": "white",
             "startlinecolor": "#2a3f5f"
            },
            "baxis": {
             "endlinecolor": "#2a3f5f",
             "gridcolor": "white",
             "linecolor": "white",
             "minorgridcolor": "white",
             "startlinecolor": "#2a3f5f"
            },
            "type": "carpet"
           }
          ],
          "choropleth": [
           {
            "colorbar": {
             "outlinewidth": 0,
             "ticks": ""
            },
            "type": "choropleth"
           }
          ],
          "contour": [
           {
            "colorbar": {
             "outlinewidth": 0,
             "ticks": ""
            },
            "colorscale": [
             [
              0,
              "#0d0887"
             ],
             [
              0.1111111111111111,
              "#46039f"
             ],
             [
              0.2222222222222222,
              "#7201a8"
             ],
             [
              0.3333333333333333,
              "#9c179e"
             ],
             [
              0.4444444444444444,
              "#bd3786"
             ],
             [
              0.5555555555555556,
              "#d8576b"
             ],
             [
              0.6666666666666666,
              "#ed7953"
             ],
             [
              0.7777777777777778,
              "#fb9f3a"
             ],
             [
              0.8888888888888888,
              "#fdca26"
             ],
             [
              1,
              "#f0f921"
             ]
            ],
            "type": "contour"
           }
          ],
          "contourcarpet": [
           {
            "colorbar": {
             "outlinewidth": 0,
             "ticks": ""
            },
            "type": "contourcarpet"
           }
          ],
          "heatmap": [
           {
            "colorbar": {
             "outlinewidth": 0,
             "ticks": ""
            },
            "colorscale": [
             [
              0,
              "#0d0887"
             ],
             [
              0.1111111111111111,
              "#46039f"
             ],
             [
              0.2222222222222222,
              "#7201a8"
             ],
             [
              0.3333333333333333,
              "#9c179e"
             ],
             [
              0.4444444444444444,
              "#bd3786"
             ],
             [
              0.5555555555555556,
              "#d8576b"
             ],
             [
              0.6666666666666666,
              "#ed7953"
             ],
             [
              0.7777777777777778,
              "#fb9f3a"
             ],
             [
              0.8888888888888888,
              "#fdca26"
             ],
             [
              1,
              "#f0f921"
             ]
            ],
            "type": "heatmap"
           }
          ],
          "histogram": [
           {
            "marker": {
             "pattern": {
              "fillmode": "overlay",
              "size": 10,
              "solidity": 0.2
             }
            },
            "type": "histogram"
           }
          ],
          "histogram2d": [
           {
            "colorbar": {
             "outlinewidth": 0,
             "ticks": ""
            },
            "colorscale": [
             [
              0,
              "#0d0887"
             ],
             [
              0.1111111111111111,
              "#46039f"
             ],
             [
              0.2222222222222222,
              "#7201a8"
             ],
             [
              0.3333333333333333,
              "#9c179e"
             ],
             [
              0.4444444444444444,
              "#bd3786"
             ],
             [
              0.5555555555555556,
              "#d8576b"
             ],
             [
              0.6666666666666666,
              "#ed7953"
             ],
             [
              0.7777777777777778,
              "#fb9f3a"
             ],
             [
              0.8888888888888888,
              "#fdca26"
             ],
             [
              1,
              "#f0f921"
             ]
            ],
            "type": "histogram2d"
           }
          ],
          "histogram2dcontour": [
           {
            "colorbar": {
             "outlinewidth": 0,
             "ticks": ""
            },
            "colorscale": [
             [
              0,
              "#0d0887"
             ],
             [
              0.1111111111111111,
              "#46039f"
             ],
             [
              0.2222222222222222,
              "#7201a8"
             ],
             [
              0.3333333333333333,
              "#9c179e"
             ],
             [
              0.4444444444444444,
              "#bd3786"
             ],
             [
              0.5555555555555556,
              "#d8576b"
             ],
             [
              0.6666666666666666,
              "#ed7953"
             ],
             [
              0.7777777777777778,
              "#fb9f3a"
             ],
             [
              0.8888888888888888,
              "#fdca26"
             ],
             [
              1,
              "#f0f921"
             ]
            ],
            "type": "histogram2dcontour"
           }
          ],
          "mesh3d": [
           {
            "colorbar": {
             "outlinewidth": 0,
             "ticks": ""
            },
            "type": "mesh3d"
           }
          ],
          "parcoords": [
           {
            "line": {
             "colorbar": {
              "outlinewidth": 0,
              "ticks": ""
             }
            },
            "type": "parcoords"
           }
          ],
          "pie": [
           {
            "automargin": true,
            "type": "pie"
           }
          ],
          "scatter": [
           {
            "fillpattern": {
             "fillmode": "overlay",
             "size": 10,
             "solidity": 0.2
            },
            "type": "scatter"
           }
          ],
          "scatter3d": [
           {
            "line": {
             "colorbar": {
              "outlinewidth": 0,
              "ticks": ""
             }
            },
            "marker": {
             "colorbar": {
              "outlinewidth": 0,
              "ticks": ""
             }
            },
            "type": "scatter3d"
           }
          ],
          "scattercarpet": [
           {
            "marker": {
             "colorbar": {
              "outlinewidth": 0,
              "ticks": ""
             }
            },
            "type": "scattercarpet"
           }
          ],
          "scattergeo": [
           {
            "marker": {
             "colorbar": {
              "outlinewidth": 0,
              "ticks": ""
             }
            },
            "type": "scattergeo"
           }
          ],
          "scattergl": [
           {
            "marker": {
             "colorbar": {
              "outlinewidth": 0,
              "ticks": ""
             }
            },
            "type": "scattergl"
           }
          ],
          "scattermap": [
           {
            "marker": {
             "colorbar": {
              "outlinewidth": 0,
              "ticks": ""
             }
            },
            "type": "scattermap"
           }
          ],
          "scattermapbox": [
           {
            "marker": {
             "colorbar": {
              "outlinewidth": 0,
              "ticks": ""
             }
            },
            "type": "scattermapbox"
           }
          ],
          "scatterpolar": [
           {
            "marker": {
             "colorbar": {
              "outlinewidth": 0,
              "ticks": ""
             }
            },
            "type": "scatterpolar"
           }
          ],
          "scatterpolargl": [
           {
            "marker": {
             "colorbar": {
              "outlinewidth": 0,
              "ticks": ""
             }
            },
            "type": "scatterpolargl"
           }
          ],
          "scatterternary": [
           {
            "marker": {
             "colorbar": {
              "outlinewidth": 0,
              "ticks": ""
             }
            },
            "type": "scatterternary"
           }
          ],
          "surface": [
           {
            "colorbar": {
             "outlinewidth": 0,
             "ticks": ""
            },
            "colorscale": [
             [
              0,
              "#0d0887"
             ],
             [
              0.1111111111111111,
              "#46039f"
             ],
             [
              0.2222222222222222,
              "#7201a8"
             ],
             [
              0.3333333333333333,
              "#9c179e"
             ],
             [
              0.4444444444444444,
              "#bd3786"
             ],
             [
              0.5555555555555556,
              "#d8576b"
             ],
             [
              0.6666666666666666,
              "#ed7953"
             ],
             [
              0.7777777777777778,
              "#fb9f3a"
             ],
             [
              0.8888888888888888,
              "#fdca26"
             ],
             [
              1,
              "#f0f921"
             ]
            ],
            "type": "surface"
           }
          ],
          "table": [
           {
            "cells": {
             "fill": {
              "color": "#EBF0F8"
             },
             "line": {
              "color": "white"
             }
            },
            "header": {
             "fill": {
              "color": "#C8D4E3"
             },
             "line": {
              "color": "white"
             }
            },
            "type": "table"
           }
          ]
         },
         "layout": {
          "annotationdefaults": {
           "arrowcolor": "#2a3f5f",
           "arrowhead": 0,
           "arrowwidth": 1
          },
          "autotypenumbers": "strict",
          "coloraxis": {
           "colorbar": {
            "outlinewidth": 0,
            "ticks": ""
           }
          },
          "colorscale": {
           "diverging": [
            [
             0,
             "#8e0152"
            ],
            [
             0.1,
             "#c51b7d"
            ],
            [
             0.2,
             "#de77ae"
            ],
            [
             0.3,
             "#f1b6da"
            ],
            [
             0.4,
             "#fde0ef"
            ],
            [
             0.5,
             "#f7f7f7"
            ],
            [
             0.6,
             "#e6f5d0"
            ],
            [
             0.7,
             "#b8e186"
            ],
            [
             0.8,
             "#7fbc41"
            ],
            [
             0.9,
             "#4d9221"
            ],
            [
             1,
             "#276419"
            ]
           ],
           "sequential": [
            [
             0,
             "#0d0887"
            ],
            [
             0.1111111111111111,
             "#46039f"
            ],
            [
             0.2222222222222222,
             "#7201a8"
            ],
            [
             0.3333333333333333,
             "#9c179e"
            ],
            [
             0.4444444444444444,
             "#bd3786"
            ],
            [
             0.5555555555555556,
             "#d8576b"
            ],
            [
             0.6666666666666666,
             "#ed7953"
            ],
            [
             0.7777777777777778,
             "#fb9f3a"
            ],
            [
             0.8888888888888888,
             "#fdca26"
            ],
            [
             1,
             "#f0f921"
            ]
           ],
           "sequentialminus": [
            [
             0,
             "#0d0887"
            ],
            [
             0.1111111111111111,
             "#46039f"
            ],
            [
             0.2222222222222222,
             "#7201a8"
            ],
            [
             0.3333333333333333,
             "#9c179e"
            ],
            [
             0.4444444444444444,
             "#bd3786"
            ],
            [
             0.5555555555555556,
             "#d8576b"
            ],
            [
             0.6666666666666666,
             "#ed7953"
            ],
            [
             0.7777777777777778,
             "#fb9f3a"
            ],
            [
             0.8888888888888888,
             "#fdca26"
            ],
            [
             1,
             "#f0f921"
            ]
           ]
          },
          "colorway": [
           "#636efa",
           "#EF553B",
           "#00cc96",
           "#ab63fa",
           "#FFA15A",
           "#19d3f3",
           "#FF6692",
           "#B6E880",
           "#FF97FF",
           "#FECB52"
          ],
          "font": {
           "color": "#2a3f5f"
          },
          "geo": {
           "bgcolor": "white",
           "lakecolor": "white",
           "landcolor": "#E5ECF6",
           "showlakes": true,
           "showland": true,
           "subunitcolor": "white"
          },
          "hoverlabel": {
           "align": "left"
          },
          "hovermode": "closest",
          "mapbox": {
           "style": "light"
          },
          "paper_bgcolor": "white",
          "plot_bgcolor": "#E5ECF6",
          "polar": {
           "angularaxis": {
            "gridcolor": "white",
            "linecolor": "white",
            "ticks": ""
           },
           "bgcolor": "#E5ECF6",
           "radialaxis": {
            "gridcolor": "white",
            "linecolor": "white",
            "ticks": ""
           }
          },
          "scene": {
           "xaxis": {
            "backgroundcolor": "#E5ECF6",
            "gridcolor": "white",
            "gridwidth": 2,
            "linecolor": "white",
            "showbackground": true,
            "ticks": "",
            "zerolinecolor": "white"
           },
           "yaxis": {
            "backgroundcolor": "#E5ECF6",
            "gridcolor": "white",
            "gridwidth": 2,
            "linecolor": "white",
            "showbackground": true,
            "ticks": "",
            "zerolinecolor": "white"
           },
           "zaxis": {
            "backgroundcolor": "#E5ECF6",
            "gridcolor": "white",
            "gridwidth": 2,
            "linecolor": "white",
            "showbackground": true,
            "ticks": "",
            "zerolinecolor": "white"
           }
          },
          "shapedefaults": {
           "line": {
            "color": "#2a3f5f"
           }
          },
          "ternary": {
           "aaxis": {
            "gridcolor": "white",
            "linecolor": "white",
            "ticks": ""
           },
           "baxis": {
            "gridcolor": "white",
            "linecolor": "white",
            "ticks": ""
           },
           "bgcolor": "#E5ECF6",
           "caxis": {
            "gridcolor": "white",
            "linecolor": "white",
            "ticks": ""
           }
          },
          "title": {
           "x": 0.05
          },
          "xaxis": {
           "automargin": true,
           "gridcolor": "white",
           "linecolor": "white",
           "ticks": "",
           "title": {
            "standoff": 15
           },
           "zerolinecolor": "white",
           "zerolinewidth": 2
          },
          "yaxis": {
           "automargin": true,
           "gridcolor": "white",
           "linecolor": "white",
           "ticks": "",
           "title": {
            "standoff": 15
           },
           "zerolinecolor": "white",
           "zerolinewidth": 2
          }
         }
        },
        "title": {
         "font": {
          "family": "Teleneo",
          "size": 22
         },
         "text": "Customer Distribution by Portfolio Size",
         "x": 0.5,
         "xanchor": "center"
        },
        "width": 1400,
        "xaxis": {
         "title": {
          "font": {
           "size": 18
          },
          "text": "Portfolio Size (Number of Contracts)"
         }
        },
        "yaxis": {
         "title": {
          "font": {
           "size": 18
          },
          "text": "Number of Customers"
         }
        }
       }
      }
     },
     "metadata": {},
     "output_type": "display_data"
    },
    {
     "data": {
      "application/vnd.plotly.v1+json": {
       "config": {
        "plotlyServerURL": "https://plot.ly"
       },
       "data": [
        {
         "marker": {
          "color": "rgba(226,0,116,0.7)"
         },
         "name": "Avg Revenue (€)",
         "text": [
          "€38",
          "€75",
          "€112",
          "€152",
          "€188",
          "€224",
          "€278",
          "€272"
         ],
         "textfont": {
          "size": 16
         },
         "textposition": "auto",
         "type": "bar",
         "x": {
          "bdata": "AQAAAAIAAAADAAAABAAAAAUAAAAGAAAABwAAAAgAAAA=",
          "dtype": "u4"
         },
         "y": {
          "bdata": "cT0K16PQQkBmZmZmZrZSQEjhehSuB1xAmpmZmZkBY0AAAAAAAJBnQHsUrkfhCmxAKVyPwvVccUDsUbgehQdxQA==",
          "dtype": "f8"
         }
        }
       ],
       "layout": {
        "font": {
         "family": "Teleneo",
         "size": 16
        },
        "height": 600,
        "paper_bgcolor": "rgb(250,250,250)",
        "plot_bgcolor": "rgba(0,0,0,0)",
        "showlegend": false,
        "template": {
         "data": {
          "bar": [
           {
            "error_x": {
             "color": "#2a3f5f"
            },
            "error_y": {
             "color": "#2a3f5f"
            },
            "marker": {
             "line": {
              "color": "#E5ECF6",
              "width": 0.5
             },
             "pattern": {
              "fillmode": "overlay",
              "size": 10,
              "solidity": 0.2
             }
            },
            "type": "bar"
           }
          ],
          "barpolar": [
           {
            "marker": {
             "line": {
              "color": "#E5ECF6",
              "width": 0.5
             },
             "pattern": {
              "fillmode": "overlay",
              "size": 10,
              "solidity": 0.2
             }
            },
            "type": "barpolar"
           }
          ],
          "carpet": [
           {
            "aaxis": {
             "endlinecolor": "#2a3f5f",
             "gridcolor": "white",
             "linecolor": "white",
             "minorgridcolor": "white",
             "startlinecolor": "#2a3f5f"
            },
            "baxis": {
             "endlinecolor": "#2a3f5f",
             "gridcolor": "white",
             "linecolor": "white",
             "minorgridcolor": "white",
             "startlinecolor": "#2a3f5f"
            },
            "type": "carpet"
           }
          ],
          "choropleth": [
           {
            "colorbar": {
             "outlinewidth": 0,
             "ticks": ""
            },
            "type": "choropleth"
           }
          ],
          "contour": [
           {
            "colorbar": {
             "outlinewidth": 0,
             "ticks": ""
            },
            "colorscale": [
             [
              0,
              "#0d0887"
             ],
             [
              0.1111111111111111,
              "#46039f"
             ],
             [
              0.2222222222222222,
              "#7201a8"
             ],
             [
              0.3333333333333333,
              "#9c179e"
             ],
             [
              0.4444444444444444,
              "#bd3786"
             ],
             [
              0.5555555555555556,
              "#d8576b"
             ],
             [
              0.6666666666666666,
              "#ed7953"
             ],
             [
              0.7777777777777778,
              "#fb9f3a"
             ],
             [
              0.8888888888888888,
              "#fdca26"
             ],
             [
              1,
              "#f0f921"
             ]
            ],
            "type": "contour"
           }
          ],
          "contourcarpet": [
           {
            "colorbar": {
             "outlinewidth": 0,
             "ticks": ""
            },
            "type": "contourcarpet"
           }
          ],
          "heatmap": [
           {
            "colorbar": {
             "outlinewidth": 0,
             "ticks": ""
            },
            "colorscale": [
             [
              0,
              "#0d0887"
             ],
             [
              0.1111111111111111,
              "#46039f"
             ],
             [
              0.2222222222222222,
              "#7201a8"
             ],
             [
              0.3333333333333333,
              "#9c179e"
             ],
             [
              0.4444444444444444,
              "#bd3786"
             ],
             [
              0.5555555555555556,
              "#d8576b"
             ],
             [
              0.6666666666666666,
              "#ed7953"
             ],
             [
              0.7777777777777778,
              "#fb9f3a"
             ],
             [
              0.8888888888888888,
              "#fdca26"
             ],
             [
              1,
              "#f0f921"
             ]
            ],
            "type": "heatmap"
           }
          ],
          "histogram": [
           {
            "marker": {
             "pattern": {
              "fillmode": "overlay",
              "size": 10,
              "solidity": 0.2
             }
            },
            "type": "histogram"
           }
          ],
          "histogram2d": [
           {
            "colorbar": {
             "outlinewidth": 0,
             "ticks": ""
            },
            "colorscale": [
             [
              0,
              "#0d0887"
             ],
             [
              0.1111111111111111,
              "#46039f"
             ],
             [
              0.2222222222222222,
              "#7201a8"
             ],
             [
              0.3333333333333333,
              "#9c179e"
             ],
             [
              0.4444444444444444,
              "#bd3786"
             ],
             [
              0.5555555555555556,
              "#d8576b"
             ],
             [
              0.6666666666666666,
              "#ed7953"
             ],
             [
              0.7777777777777778,
              "#fb9f3a"
             ],
             [
              0.8888888888888888,
              "#fdca26"
             ],
             [
              1,
              "#f0f921"
             ]
            ],
            "type": "histogram2d"
           }
          ],
          "histogram2dcontour": [
           {
            "colorbar": {
             "outlinewidth": 0,
             "ticks": ""
            },
            "colorscale": [
             [
              0,
              "#0d0887"
             ],
             [
              0.1111111111111111,
              "#46039f"
             ],
             [
              0.2222222222222222,
              "#7201a8"
             ],
             [
              0.3333333333333333,
              "#9c179e"
             ],
             [
              0.4444444444444444,
              "#bd3786"
             ],
             [
              0.5555555555555556,
              "#d8576b"
             ],
             [
              0.6666666666666666,
              "#ed7953"
             ],
             [
              0.7777777777777778,
              "#fb9f3a"
             ],
             [
              0.8888888888888888,
              "#fdca26"
             ],
             [
              1,
              "#f0f921"
             ]
            ],
            "type": "histogram2dcontour"
           }
          ],
          "mesh3d": [
           {
            "colorbar": {
             "outlinewidth": 0,
             "ticks": ""
            },
            "type": "mesh3d"
           }
          ],
          "parcoords": [
           {
            "line": {
             "colorbar": {
              "outlinewidth": 0,
              "ticks": ""
             }
            },
            "type": "parcoords"
           }
          ],
          "pie": [
           {
            "automargin": true,
            "type": "pie"
           }
          ],
          "scatter": [
           {
            "fillpattern": {
             "fillmode": "overlay",
             "size": 10,
             "solidity": 0.2
            },
            "type": "scatter"
           }
          ],
          "scatter3d": [
           {
            "line": {
             "colorbar": {
              "outlinewidth": 0,
              "ticks": ""
             }
            },
            "marker": {
             "colorbar": {
              "outlinewidth": 0,
              "ticks": ""
             }
            },
            "type": "scatter3d"
           }
          ],
          "scattercarpet": [
           {
            "marker": {
             "colorbar": {
              "outlinewidth": 0,
              "ticks": ""
             }
            },
            "type": "scattercarpet"
           }
          ],
          "scattergeo": [
           {
            "marker": {
             "colorbar": {
              "outlinewidth": 0,
              "ticks": ""
             }
            },
            "type": "scattergeo"
           }
          ],
          "scattergl": [
           {
            "marker": {
             "colorbar": {
              "outlinewidth": 0,
              "ticks": ""
             }
            },
            "type": "scattergl"
           }
          ],
          "scattermap": [
           {
            "marker": {
             "colorbar": {
              "outlinewidth": 0,
              "ticks": ""
             }
            },
            "type": "scattermap"
           }
          ],
          "scattermapbox": [
           {
            "marker": {
             "colorbar": {
              "outlinewidth": 0,
              "ticks": ""
             }
            },
            "type": "scattermapbox"
           }
          ],
          "scatterpolar": [
           {
            "marker": {
             "colorbar": {
              "outlinewidth": 0,
              "ticks": ""
             }
            },
            "type": "scatterpolar"
           }
          ],
          "scatterpolargl": [
           {
            "marker": {
             "colorbar": {
              "outlinewidth": 0,
              "ticks": ""
             }
            },
            "type": "scatterpolargl"
           }
          ],
          "scatterternary": [
           {
            "marker": {
             "colorbar": {
              "outlinewidth": 0,
              "ticks": ""
             }
            },
            "type": "scatterternary"
           }
          ],
          "surface": [
           {
            "colorbar": {
             "outlinewidth": 0,
             "ticks": ""
            },
            "colorscale": [
             [
              0,
              "#0d0887"
             ],
             [
              0.1111111111111111,
              "#46039f"
             ],
             [
              0.2222222222222222,
              "#7201a8"
             ],
             [
              0.3333333333333333,
              "#9c179e"
             ],
             [
              0.4444444444444444,
              "#bd3786"
             ],
             [
              0.5555555555555556,
              "#d8576b"
             ],
             [
              0.6666666666666666,
              "#ed7953"
             ],
             [
              0.7777777777777778,
              "#fb9f3a"
             ],
             [
              0.8888888888888888,
              "#fdca26"
             ],
             [
              1,
              "#f0f921"
             ]
            ],
            "type": "surface"
           }
          ],
          "table": [
           {
            "cells": {
             "fill": {
              "color": "#EBF0F8"
             },
             "line": {
              "color": "white"
             }
            },
            "header": {
             "fill": {
              "color": "#C8D4E3"
             },
             "line": {
              "color": "white"
             }
            },
            "type": "table"
           }
          ]
         },
         "layout": {
          "annotationdefaults": {
           "arrowcolor": "#2a3f5f",
           "arrowhead": 0,
           "arrowwidth": 1
          },
          "autotypenumbers": "strict",
          "coloraxis": {
           "colorbar": {
            "outlinewidth": 0,
            "ticks": ""
           }
          },
          "colorscale": {
           "diverging": [
            [
             0,
             "#8e0152"
            ],
            [
             0.1,
             "#c51b7d"
            ],
            [
             0.2,
             "#de77ae"
            ],
            [
             0.3,
             "#f1b6da"
            ],
            [
             0.4,
             "#fde0ef"
            ],
            [
             0.5,
             "#f7f7f7"
            ],
            [
             0.6,
             "#e6f5d0"
            ],
            [
             0.7,
             "#b8e186"
            ],
            [
             0.8,
             "#7fbc41"
            ],
            [
             0.9,
             "#4d9221"
            ],
            [
             1,
             "#276419"
            ]
           ],
           "sequential": [
            [
             0,
             "#0d0887"
            ],
            [
             0.1111111111111111,
             "#46039f"
            ],
            [
             0.2222222222222222,
             "#7201a8"
            ],
            [
             0.3333333333333333,
             "#9c179e"
            ],
            [
             0.4444444444444444,
             "#bd3786"
            ],
            [
             0.5555555555555556,
             "#d8576b"
            ],
            [
             0.6666666666666666,
             "#ed7953"
            ],
            [
             0.7777777777777778,
             "#fb9f3a"
            ],
            [
             0.8888888888888888,
             "#fdca26"
            ],
            [
             1,
             "#f0f921"
            ]
           ],
           "sequentialminus": [
            [
             0,
             "#0d0887"
            ],
            [
             0.1111111111111111,
             "#46039f"
            ],
            [
             0.2222222222222222,
             "#7201a8"
            ],
            [
             0.3333333333333333,
             "#9c179e"
            ],
            [
             0.4444444444444444,
             "#bd3786"
            ],
            [
             0.5555555555555556,
             "#d8576b"
            ],
            [
             0.6666666666666666,
             "#ed7953"
            ],
            [
             0.7777777777777778,
             "#fb9f3a"
            ],
            [
             0.8888888888888888,
             "#fdca26"
            ],
            [
             1,
             "#f0f921"
            ]
           ]
          },
          "colorway": [
           "#636efa",
           "#EF553B",
           "#00cc96",
           "#ab63fa",
           "#FFA15A",
           "#19d3f3",
           "#FF6692",
           "#B6E880",
           "#FF97FF",
           "#FECB52"
          ],
          "font": {
           "color": "#2a3f5f"
          },
          "geo": {
           "bgcolor": "white",
           "lakecolor": "white",
           "landcolor": "#E5ECF6",
           "showlakes": true,
           "showland": true,
           "subunitcolor": "white"
          },
          "hoverlabel": {
           "align": "left"
          },
          "hovermode": "closest",
          "mapbox": {
           "style": "light"
          },
          "paper_bgcolor": "white",
          "plot_bgcolor": "#E5ECF6",
          "polar": {
           "angularaxis": {
            "gridcolor": "white",
            "linecolor": "white",
            "ticks": ""
           },
           "bgcolor": "#E5ECF6",
           "radialaxis": {
            "gridcolor": "white",
            "linecolor": "white",
            "ticks": ""
           }
          },
          "scene": {
           "xaxis": {
            "backgroundcolor": "#E5ECF6",
            "gridcolor": "white",
            "gridwidth": 2,
            "linecolor": "white",
            "showbackground": true,
            "ticks": "",
            "zerolinecolor": "white"
           },
           "yaxis": {
            "backgroundcolor": "#E5ECF6",
            "gridcolor": "white",
            "gridwidth": 2,
            "linecolor": "white",
            "showbackground": true,
            "ticks": "",
            "zerolinecolor": "white"
           },
           "zaxis": {
            "backgroundcolor": "#E5ECF6",
            "gridcolor": "white",
            "gridwidth": 2,
            "linecolor": "white",
            "showbackground": true,
            "ticks": "",
            "zerolinecolor": "white"
           }
          },
          "shapedefaults": {
           "line": {
            "color": "#2a3f5f"
           }
          },
          "ternary": {
           "aaxis": {
            "gridcolor": "white",
            "linecolor": "white",
            "ticks": ""
           },
           "baxis": {
            "gridcolor": "white",
            "linecolor": "white",
            "ticks": ""
           },
           "bgcolor": "#E5ECF6",
           "caxis": {
            "gridcolor": "white",
            "linecolor": "white",
            "ticks": ""
           }
          },
          "title": {
           "x": 0.05
          },
          "xaxis": {
           "automargin": true,
           "gridcolor": "white",
           "linecolor": "white",
           "ticks": "",
           "title": {
            "standoff": 15
           },
           "zerolinecolor": "white",
           "zerolinewidth": 2
          },
          "yaxis": {
           "automargin": true,
           "gridcolor": "white",
           "linecolor": "white",
           "ticks": "",
           "title": {
            "standoff": 15
           },
           "zerolinecolor": "white",
           "zerolinewidth": 2
          }
         }
        },
        "title": {
         "font": {
          "family": "Teleneo",
          "size": 22
         },
         "text": "Average Revenue per Customer Segment",
         "x": 0.5,
         "xanchor": "center"
        },
        "width": 1400,
        "xaxis": {
         "title": {
          "font": {
           "size": 18
          },
          "text": "Portfolio Size (Number of Contracts)"
         }
        },
        "yaxis": {
         "title": {
          "font": {
           "size": 18
          },
          "text": "Average Revenue (€)"
         }
        }
       }
      }
     },
     "metadata": {},
     "output_type": "display_data"
    },
    {
     "data": {
      "application/vnd.plotly.v1+json": {
       "config": {
        "plotlyServerURL": "https://plot.ly"
       },
       "data": [
        {
         "marker": {
          "color": "rgb(180,0,93)"
         },
         "name": "Upselling Success Rate (%)",
         "text": [
          "6.9%",
          "13.9%",
          "19.8%",
          "24.2%",
          "34.1%",
          "24.0%",
          "33.3%",
          "75.0%"
         ],
         "textfont": {
          "size": 16
         },
         "textposition": "auto",
         "type": "bar",
         "x": {
          "bdata": "AQAAAAIAAAADAAAABAAAAAUAAAAGAAAABwAAAAgAAAA=",
          "dtype": "u4"
         },
         "y": {
          "bdata": "hetRuB6FG0DNzMzMzMwrQAAAAAAAwDNAPQrXo3A9OEBI4XoUrgdBQPYoXI/C9TdACtejcD2qQEAAAAAAAMBSQA==",
          "dtype": "f8"
         }
        }
       ],
       "layout": {
        "font": {
         "family": "Teleneo",
         "size": 16
        },
        "height": 600,
        "paper_bgcolor": "rgb(250,250,250)",
        "plot_bgcolor": "rgba(0,0,0,0)",
        "showlegend": false,
        "template": {
         "data": {
          "bar": [
           {
            "error_x": {
             "color": "#2a3f5f"
            },
            "error_y": {
             "color": "#2a3f5f"
            },
            "marker": {
             "line": {
              "color": "#E5ECF6",
              "width": 0.5
             },
             "pattern": {
              "fillmode": "overlay",
              "size": 10,
              "solidity": 0.2
             }
            },
            "type": "bar"
           }
          ],
          "barpolar": [
           {
            "marker": {
             "line": {
              "color": "#E5ECF6",
              "width": 0.5
             },
             "pattern": {
              "fillmode": "overlay",
              "size": 10,
              "solidity": 0.2
             }
            },
            "type": "barpolar"
           }
          ],
          "carpet": [
           {
            "aaxis": {
             "endlinecolor": "#2a3f5f",
             "gridcolor": "white",
             "linecolor": "white",
             "minorgridcolor": "white",
             "startlinecolor": "#2a3f5f"
            },
            "baxis": {
             "endlinecolor": "#2a3f5f",
             "gridcolor": "white",
             "linecolor": "white",
             "minorgridcolor": "white",
             "startlinecolor": "#2a3f5f"
            },
            "type": "carpet"
           }
          ],
          "choropleth": [
           {
            "colorbar": {
             "outlinewidth": 0,
             "ticks": ""
            },
            "type": "choropleth"
           }
          ],
          "contour": [
           {
            "colorbar": {
             "outlinewidth": 0,
             "ticks": ""
            },
            "colorscale": [
             [
              0,
              "#0d0887"
             ],
             [
              0.1111111111111111,
              "#46039f"
             ],
             [
              0.2222222222222222,
              "#7201a8"
             ],
             [
              0.3333333333333333,
              "#9c179e"
             ],
             [
              0.4444444444444444,
              "#bd3786"
             ],
             [
              0.5555555555555556,
              "#d8576b"
             ],
             [
              0.6666666666666666,
              "#ed7953"
             ],
             [
              0.7777777777777778,
              "#fb9f3a"
             ],
             [
              0.8888888888888888,
              "#fdca26"
             ],
             [
              1,
              "#f0f921"
             ]
            ],
            "type": "contour"
           }
          ],
          "contourcarpet": [
           {
            "colorbar": {
             "outlinewidth": 0,
             "ticks": ""
            },
            "type": "contourcarpet"
           }
          ],
          "heatmap": [
           {
            "colorbar": {
             "outlinewidth": 0,
             "ticks": ""
            },
            "colorscale": [
             [
              0,
              "#0d0887"
             ],
             [
              0.1111111111111111,
              "#46039f"
             ],
             [
              0.2222222222222222,
              "#7201a8"
             ],
             [
              0.3333333333333333,
              "#9c179e"
             ],
             [
              0.4444444444444444,
              "#bd3786"
             ],
             [
              0.5555555555555556,
              "#d8576b"
             ],
             [
              0.6666666666666666,
              "#ed7953"
             ],
             [
              0.7777777777777778,
              "#fb9f3a"
             ],
             [
              0.8888888888888888,
              "#fdca26"
             ],
             [
              1,
              "#f0f921"
             ]
            ],
            "type": "heatmap"
           }
          ],
          "histogram": [
           {
            "marker": {
             "pattern": {
              "fillmode": "overlay",
              "size": 10,
              "solidity": 0.2
             }
            },
            "type": "histogram"
           }
          ],
          "histogram2d": [
           {
            "colorbar": {
             "outlinewidth": 0,
             "ticks": ""
            },
            "colorscale": [
             [
              0,
              "#0d0887"
             ],
             [
              0.1111111111111111,
              "#46039f"
             ],
             [
              0.2222222222222222,
              "#7201a8"
             ],
             [
              0.3333333333333333,
              "#9c179e"
             ],
             [
              0.4444444444444444,
              "#bd3786"
             ],
             [
              0.5555555555555556,
              "#d8576b"
             ],
             [
              0.6666666666666666,
              "#ed7953"
             ],
             [
              0.7777777777777778,
              "#fb9f3a"
             ],
             [
              0.8888888888888888,
              "#fdca26"
             ],
             [
              1,
              "#f0f921"
             ]
            ],
            "type": "histogram2d"
           }
          ],
          "histogram2dcontour": [
           {
            "colorbar": {
             "outlinewidth": 0,
             "ticks": ""
            },
            "colorscale": [
             [
              0,
              "#0d0887"
             ],
             [
              0.1111111111111111,
              "#46039f"
             ],
             [
              0.2222222222222222,
              "#7201a8"
             ],
             [
              0.3333333333333333,
              "#9c179e"
             ],
             [
              0.4444444444444444,
              "#bd3786"
             ],
             [
              0.5555555555555556,
              "#d8576b"
             ],
             [
              0.6666666666666666,
              "#ed7953"
             ],
             [
              0.7777777777777778,
              "#fb9f3a"
             ],
             [
              0.8888888888888888,
              "#fdca26"
             ],
             [
              1,
              "#f0f921"
             ]
            ],
            "type": "histogram2dcontour"
           }
          ],
          "mesh3d": [
           {
            "colorbar": {
             "outlinewidth": 0,
             "ticks": ""
            },
            "type": "mesh3d"
           }
          ],
          "parcoords": [
           {
            "line": {
             "colorbar": {
              "outlinewidth": 0,
              "ticks": ""
             }
            },
            "type": "parcoords"
           }
          ],
          "pie": [
           {
            "automargin": true,
            "type": "pie"
           }
          ],
          "scatter": [
           {
            "fillpattern": {
             "fillmode": "overlay",
             "size": 10,
             "solidity": 0.2
            },
            "type": "scatter"
           }
          ],
          "scatter3d": [
           {
            "line": {
             "colorbar": {
              "outlinewidth": 0,
              "ticks": ""
             }
            },
            "marker": {
             "colorbar": {
              "outlinewidth": 0,
              "ticks": ""
             }
            },
            "type": "scatter3d"
           }
          ],
          "scattercarpet": [
           {
            "marker": {
             "colorbar": {
              "outlinewidth": 0,
              "ticks": ""
             }
            },
            "type": "scattercarpet"
           }
          ],
          "scattergeo": [
           {
            "marker": {
             "colorbar": {
              "outlinewidth": 0,
              "ticks": ""
             }
            },
            "type": "scattergeo"
           }
          ],
          "scattergl": [
           {
            "marker": {
             "colorbar": {
              "outlinewidth": 0,
              "ticks": ""
             }
            },
            "type": "scattergl"
           }
          ],
          "scattermap": [
           {
            "marker": {
             "colorbar": {
              "outlinewidth": 0,
              "ticks": ""
             }
            },
            "type": "scattermap"
           }
          ],
          "scattermapbox": [
           {
            "marker": {
             "colorbar": {
              "outlinewidth": 0,
              "ticks": ""
             }
            },
            "type": "scattermapbox"
           }
          ],
          "scatterpolar": [
           {
            "marker": {
             "colorbar": {
              "outlinewidth": 0,
              "ticks": ""
             }
            },
            "type": "scatterpolar"
           }
          ],
          "scatterpolargl": [
           {
            "marker": {
             "colorbar": {
              "outlinewidth": 0,
              "ticks": ""
             }
            },
            "type": "scatterpolargl"
           }
          ],
          "scatterternary": [
           {
            "marker": {
             "colorbar": {
              "outlinewidth": 0,
              "ticks": ""
             }
            },
            "type": "scatterternary"
           }
          ],
          "surface": [
           {
            "colorbar": {
             "outlinewidth": 0,
             "ticks": ""
            },
            "colorscale": [
             [
              0,
              "#0d0887"
             ],
             [
              0.1111111111111111,
              "#46039f"
             ],
             [
              0.2222222222222222,
              "#7201a8"
             ],
             [
              0.3333333333333333,
              "#9c179e"
             ],
             [
              0.4444444444444444,
              "#bd3786"
             ],
             [
              0.5555555555555556,
              "#d8576b"
             ],
             [
              0.6666666666666666,
              "#ed7953"
             ],
             [
              0.7777777777777778,
              "#fb9f3a"
             ],
             [
              0.8888888888888888,
              "#fdca26"
             ],
             [
              1,
              "#f0f921"
             ]
            ],
            "type": "surface"
           }
          ],
          "table": [
           {
            "cells": {
             "fill": {
              "color": "#EBF0F8"
             },
             "line": {
              "color": "white"
             }
            },
            "header": {
             "fill": {
              "color": "#C8D4E3"
             },
             "line": {
              "color": "white"
             }
            },
            "type": "table"
           }
          ]
         },
         "layout": {
          "annotationdefaults": {
           "arrowcolor": "#2a3f5f",
           "arrowhead": 0,
           "arrowwidth": 1
          },
          "autotypenumbers": "strict",
          "coloraxis": {
           "colorbar": {
            "outlinewidth": 0,
            "ticks": ""
           }
          },
          "colorscale": {
           "diverging": [
            [
             0,
             "#8e0152"
            ],
            [
             0.1,
             "#c51b7d"
            ],
            [
             0.2,
             "#de77ae"
            ],
            [
             0.3,
             "#f1b6da"
            ],
            [
             0.4,
             "#fde0ef"
            ],
            [
             0.5,
             "#f7f7f7"
            ],
            [
             0.6,
             "#e6f5d0"
            ],
            [
             0.7,
             "#b8e186"
            ],
            [
             0.8,
             "#7fbc41"
            ],
            [
             0.9,
             "#4d9221"
            ],
            [
             1,
             "#276419"
            ]
           ],
           "sequential": [
            [
             0,
             "#0d0887"
            ],
            [
             0.1111111111111111,
             "#46039f"
            ],
            [
             0.2222222222222222,
             "#7201a8"
            ],
            [
             0.3333333333333333,
             "#9c179e"
            ],
            [
             0.4444444444444444,
             "#bd3786"
            ],
            [
             0.5555555555555556,
             "#d8576b"
            ],
            [
             0.6666666666666666,
             "#ed7953"
            ],
            [
             0.7777777777777778,
             "#fb9f3a"
            ],
            [
             0.8888888888888888,
             "#fdca26"
            ],
            [
             1,
             "#f0f921"
            ]
           ],
           "sequentialminus": [
            [
             0,
             "#0d0887"
            ],
            [
             0.1111111111111111,
             "#46039f"
            ],
            [
             0.2222222222222222,
             "#7201a8"
            ],
            [
             0.3333333333333333,
             "#9c179e"
            ],
            [
             0.4444444444444444,
             "#bd3786"
            ],
            [
             0.5555555555555556,
             "#d8576b"
            ],
            [
             0.6666666666666666,
             "#ed7953"
            ],
            [
             0.7777777777777778,
             "#fb9f3a"
            ],
            [
             0.8888888888888888,
             "#fdca26"
            ],
            [
             1,
             "#f0f921"
            ]
           ]
          },
          "colorway": [
           "#636efa",
           "#EF553B",
           "#00cc96",
           "#ab63fa",
           "#FFA15A",
           "#19d3f3",
           "#FF6692",
           "#B6E880",
           "#FF97FF",
           "#FECB52"
          ],
          "font": {
           "color": "#2a3f5f"
          },
          "geo": {
           "bgcolor": "white",
           "lakecolor": "white",
           "landcolor": "#E5ECF6",
           "showlakes": true,
           "showland": true,
           "subunitcolor": "white"
          },
          "hoverlabel": {
           "align": "left"
          },
          "hovermode": "closest",
          "mapbox": {
           "style": "light"
          },
          "paper_bgcolor": "white",
          "plot_bgcolor": "#E5ECF6",
          "polar": {
           "angularaxis": {
            "gridcolor": "white",
            "linecolor": "white",
            "ticks": ""
           },
           "bgcolor": "#E5ECF6",
           "radialaxis": {
            "gridcolor": "white",
            "linecolor": "white",
            "ticks": ""
           }
          },
          "scene": {
           "xaxis": {
            "backgroundcolor": "#E5ECF6",
            "gridcolor": "white",
            "gridwidth": 2,
            "linecolor": "white",
            "showbackground": true,
            "ticks": "",
            "zerolinecolor": "white"
           },
           "yaxis": {
            "backgroundcolor": "#E5ECF6",
            "gridcolor": "white",
            "gridwidth": 2,
            "linecolor": "white",
            "showbackground": true,
            "ticks": "",
            "zerolinecolor": "white"
           },
           "zaxis": {
            "backgroundcolor": "#E5ECF6",
            "gridcolor": "white",
            "gridwidth": 2,
            "linecolor": "white",
            "showbackground": true,
            "ticks": "",
            "zerolinecolor": "white"
           }
          },
          "shapedefaults": {
           "line": {
            "color": "#2a3f5f"
           }
          },
          "ternary": {
           "aaxis": {
            "gridcolor": "white",
            "linecolor": "white",
            "ticks": ""
           },
           "baxis": {
            "gridcolor": "white",
            "linecolor": "white",
            "ticks": ""
           },
           "bgcolor": "#E5ECF6",
           "caxis": {
            "gridcolor": "white",
            "linecolor": "white",
            "ticks": ""
           }
          },
          "title": {
           "x": 0.05
          },
          "xaxis": {
           "automargin": true,
           "gridcolor": "white",
           "linecolor": "white",
           "ticks": "",
           "title": {
            "standoff": 15
           },
           "zerolinecolor": "white",
           "zerolinewidth": 2
          },
          "yaxis": {
           "automargin": true,
           "gridcolor": "white",
           "linecolor": "white",
           "ticks": "",
           "title": {
            "standoff": 15
           },
           "zerolinecolor": "white",
           "zerolinewidth": 2
          }
         }
        },
        "title": {
         "font": {
          "family": "Teleneo",
          "size": 22
         },
         "text": "Upselling Success Rate by Segment",
         "x": 0.5,
         "xanchor": "center"
        },
        "width": 1400,
        "xaxis": {
         "title": {
          "font": {
           "size": 18
          },
          "text": "Portfolio Size (Number of Contracts)"
         }
        },
        "yaxis": {
         "title": {
          "font": {
           "size": 18
          },
          "text": "Upselling Success Rate (%)"
         }
        }
       }
      }
     },
     "metadata": {},
     "output_type": "display_data"
    },
    {
     "data": {
      "application/vnd.plotly.v1+json": {
       "config": {
        "plotlyServerURL": "https://plot.ly"
       },
       "data": [
        {
         "customdata": {
          "bdata": "bncAABlGAAAgHAAANAgAACgCAABgAAAAGAAAAAQAAAA=",
          "dtype": "u4"
         },
         "hovertemplate": "<b>%{text}</b><br>Avg Revenue: €%{x:.0f}<br>Upselling Rate: %{y:.1f}%<br>Customers: %{customdata}<br><extra></extra>",
         "marker": {
          "color": "rgb(226,0,116)",
          "line": {
           "color": "white",
           "width": 3
          },
          "opacity": 0.7,
          "size": {
           "bdata": "ERERERHZj0BVVVVVVbGCQAAAAAAAAG5AAAAAAACAUUBmZmZmZmYyQJqZmZmZmQlAmpmZmZmZ6T8RERERERHBPw==",
           "dtype": "f8"
          },
          "sizemin": 20,
          "sizemode": "area",
          "sizeref": 24.4592
         },
         "mode": "markers+text",
         "name": "Portfolio Segments",
         "text": [
          "1 contracts",
          "2 contracts",
          "3 contracts",
          "4 contracts",
          "5 contracts",
          "6 contracts",
          "7 contracts",
          "8 contracts"
         ],
         "textfont": {
          "color": "black",
          "family": "Teleneo",
          "size": 18
         },
         "textposition": "top center",
         "type": "scatter",
         "x": {
          "bdata": "cT0K16PQQkBmZmZmZrZSQEjhehSuB1xAmpmZmZkBY0AAAAAAAJBnQHsUrkfhCmxAKVyPwvVccUDsUbgehQdxQA==",
          "dtype": "f8"
         },
         "y": {
          "bdata": "hetRuB6FG0DNzMzMzMwrQAAAAAAAwDNAPQrXo3A9OEBI4XoUrgdBQPYoXI/C9TdACtejcD2qQEAAAAAAAMBSQA==",
          "dtype": "f8"
         }
        }
       ],
       "layout": {
        "annotations": [
         {
          "align": "left",
          "bgcolor": "rgba(255,255,255,0.9)",
          "bordercolor": "rgb(128,128,128)",
          "borderpad": 10,
          "borderwidth": 1,
          "font": {
           "color": "rgb(128,128,128)",
           "family": "Teleneo",
           "size": 14
          },
          "showarrow": false,
          "text": "<b>Quadrant Analysis:</b><br>Top Right: High Value + High Upselling<br>Top Left: Low Value + High Upselling<br>Bottom Right: High Value + Low Upselling<br>Bottom Left: Low Value + Low Upselling",
          "x": 0.02,
          "xref": "paper",
          "y": 0.98,
          "yref": "paper"
         }
        ],
        "font": {
         "family": "Teleneo",
         "size": 16
        },
        "height": 700,
        "paper_bgcolor": "rgb(250,250,250)",
        "plot_bgcolor": "rgba(0,0,0,0)",
        "showlegend": false,
        "template": {
         "data": {
          "bar": [
           {
            "error_x": {
             "color": "#2a3f5f"
            },
            "error_y": {
             "color": "#2a3f5f"
            },
            "marker": {
             "line": {
              "color": "#E5ECF6",
              "width": 0.5
             },
             "pattern": {
              "fillmode": "overlay",
              "size": 10,
              "solidity": 0.2
             }
            },
            "type": "bar"
           }
          ],
          "barpolar": [
           {
            "marker": {
             "line": {
              "color": "#E5ECF6",
              "width": 0.5
             },
             "pattern": {
              "fillmode": "overlay",
              "size": 10,
              "solidity": 0.2
             }
            },
            "type": "barpolar"
           }
          ],
          "carpet": [
           {
            "aaxis": {
             "endlinecolor": "#2a3f5f",
             "gridcolor": "white",
             "linecolor": "white",
             "minorgridcolor": "white",
             "startlinecolor": "#2a3f5f"
            },
            "baxis": {
             "endlinecolor": "#2a3f5f",
             "gridcolor": "white",
             "linecolor": "white",
             "minorgridcolor": "white",
             "startlinecolor": "#2a3f5f"
            },
            "type": "carpet"
           }
          ],
          "choropleth": [
           {
            "colorbar": {
             "outlinewidth": 0,
             "ticks": ""
            },
            "type": "choropleth"
           }
          ],
          "contour": [
           {
            "colorbar": {
             "outlinewidth": 0,
             "ticks": ""
            },
            "colorscale": [
             [
              0,
              "#0d0887"
             ],
             [
              0.1111111111111111,
              "#46039f"
             ],
             [
              0.2222222222222222,
              "#7201a8"
             ],
             [
              0.3333333333333333,
              "#9c179e"
             ],
             [
              0.4444444444444444,
              "#bd3786"
             ],
             [
              0.5555555555555556,
              "#d8576b"
             ],
             [
              0.6666666666666666,
              "#ed7953"
             ],
             [
              0.7777777777777778,
              "#fb9f3a"
             ],
             [
              0.8888888888888888,
              "#fdca26"
             ],
             [
              1,
              "#f0f921"
             ]
            ],
            "type": "contour"
           }
          ],
          "contourcarpet": [
           {
            "colorbar": {
             "outlinewidth": 0,
             "ticks": ""
            },
            "type": "contourcarpet"
           }
          ],
          "heatmap": [
           {
            "colorbar": {
             "outlinewidth": 0,
             "ticks": ""
            },
            "colorscale": [
             [
              0,
              "#0d0887"
             ],
             [
              0.1111111111111111,
              "#46039f"
             ],
             [
              0.2222222222222222,
              "#7201a8"
             ],
             [
              0.3333333333333333,
              "#9c179e"
             ],
             [
              0.4444444444444444,
              "#bd3786"
             ],
             [
              0.5555555555555556,
              "#d8576b"
             ],
             [
              0.6666666666666666,
              "#ed7953"
             ],
             [
              0.7777777777777778,
              "#fb9f3a"
             ],
             [
              0.8888888888888888,
              "#fdca26"
             ],
             [
              1,
              "#f0f921"
             ]
            ],
            "type": "heatmap"
           }
          ],
          "histogram": [
           {
            "marker": {
             "pattern": {
              "fillmode": "overlay",
              "size": 10,
              "solidity": 0.2
             }
            },
            "type": "histogram"
           }
          ],
          "histogram2d": [
           {
            "colorbar": {
             "outlinewidth": 0,
             "ticks": ""
            },
            "colorscale": [
             [
              0,
              "#0d0887"
             ],
             [
              0.1111111111111111,
              "#46039f"
             ],
             [
              0.2222222222222222,
              "#7201a8"
             ],
             [
              0.3333333333333333,
              "#9c179e"
             ],
             [
              0.4444444444444444,
              "#bd3786"
             ],
             [
              0.5555555555555556,
              "#d8576b"
             ],
             [
              0.6666666666666666,
              "#ed7953"
             ],
             [
              0.7777777777777778,
              "#fb9f3a"
             ],
             [
              0.8888888888888888,
              "#fdca26"
             ],
             [
              1,
              "#f0f921"
             ]
            ],
            "type": "histogram2d"
           }
          ],
          "histogram2dcontour": [
           {
            "colorbar": {
             "outlinewidth": 0,
             "ticks": ""
            },
            "colorscale": [
             [
              0,
              "#0d0887"
             ],
             [
              0.1111111111111111,
              "#46039f"
             ],
             [
              0.2222222222222222,
              "#7201a8"
             ],
             [
              0.3333333333333333,
              "#9c179e"
             ],
             [
              0.4444444444444444,
              "#bd3786"
             ],
             [
              0.5555555555555556,
              "#d8576b"
             ],
             [
              0.6666666666666666,
              "#ed7953"
             ],
             [
              0.7777777777777778,
              "#fb9f3a"
             ],
             [
              0.8888888888888888,
              "#fdca26"
             ],
             [
              1,
              "#f0f921"
             ]
            ],
            "type": "histogram2dcontour"
           }
          ],
          "mesh3d": [
           {
            "colorbar": {
             "outlinewidth": 0,
             "ticks": ""
            },
            "type": "mesh3d"
           }
          ],
          "parcoords": [
           {
            "line": {
             "colorbar": {
              "outlinewidth": 0,
              "ticks": ""
             }
            },
            "type": "parcoords"
           }
          ],
          "pie": [
           {
            "automargin": true,
            "type": "pie"
           }
          ],
          "scatter": [
           {
            "fillpattern": {
             "fillmode": "overlay",
             "size": 10,
             "solidity": 0.2
            },
            "type": "scatter"
           }
          ],
          "scatter3d": [
           {
            "line": {
             "colorbar": {
              "outlinewidth": 0,
              "ticks": ""
             }
            },
            "marker": {
             "colorbar": {
              "outlinewidth": 0,
              "ticks": ""
             }
            },
            "type": "scatter3d"
           }
          ],
          "scattercarpet": [
           {
            "marker": {
             "colorbar": {
              "outlinewidth": 0,
              "ticks": ""
             }
            },
            "type": "scattercarpet"
           }
          ],
          "scattergeo": [
           {
            "marker": {
             "colorbar": {
              "outlinewidth": 0,
              "ticks": ""
             }
            },
            "type": "scattergeo"
           }
          ],
          "scattergl": [
           {
            "marker": {
             "colorbar": {
              "outlinewidth": 0,
              "ticks": ""
             }
            },
            "type": "scattergl"
           }
          ],
          "scattermap": [
           {
            "marker": {
             "colorbar": {
              "outlinewidth": 0,
              "ticks": ""
             }
            },
            "type": "scattermap"
           }
          ],
          "scattermapbox": [
           {
            "marker": {
             "colorbar": {
              "outlinewidth": 0,
              "ticks": ""
             }
            },
            "type": "scattermapbox"
           }
          ],
          "scatterpolar": [
           {
            "marker": {
             "colorbar": {
              "outlinewidth": 0,
              "ticks": ""
             }
            },
            "type": "scatterpolar"
           }
          ],
          "scatterpolargl": [
           {
            "marker": {
             "colorbar": {
              "outlinewidth": 0,
              "ticks": ""
             }
            },
            "type": "scatterpolargl"
           }
          ],
          "scatterternary": [
           {
            "marker": {
             "colorbar": {
              "outlinewidth": 0,
              "ticks": ""
             }
            },
            "type": "scatterternary"
           }
          ],
          "surface": [
           {
            "colorbar": {
             "outlinewidth": 0,
             "ticks": ""
            },
            "colorscale": [
             [
              0,
              "#0d0887"
             ],
             [
              0.1111111111111111,
              "#46039f"
             ],
             [
              0.2222222222222222,
              "#7201a8"
             ],
             [
              0.3333333333333333,
              "#9c179e"
             ],
             [
              0.4444444444444444,
              "#bd3786"
             ],
             [
              0.5555555555555556,
              "#d8576b"
             ],
             [
              0.6666666666666666,
              "#ed7953"
             ],
             [
              0.7777777777777778,
              "#fb9f3a"
             ],
             [
              0.8888888888888888,
              "#fdca26"
             ],
             [
              1,
              "#f0f921"
             ]
            ],
            "type": "surface"
           }
          ],
          "table": [
           {
            "cells": {
             "fill": {
              "color": "#EBF0F8"
             },
             "line": {
              "color": "white"
             }
            },
            "header": {
             "fill": {
              "color": "#C8D4E3"
             },
             "line": {
              "color": "white"
             }
            },
            "type": "table"
           }
          ]
         },
         "layout": {
          "annotationdefaults": {
           "arrowcolor": "#2a3f5f",
           "arrowhead": 0,
           "arrowwidth": 1
          },
          "autotypenumbers": "strict",
          "coloraxis": {
           "colorbar": {
            "outlinewidth": 0,
            "ticks": ""
           }
          },
          "colorscale": {
           "diverging": [
            [
             0,
             "#8e0152"
            ],
            [
             0.1,
             "#c51b7d"
            ],
            [
             0.2,
             "#de77ae"
            ],
            [
             0.3,
             "#f1b6da"
            ],
            [
             0.4,
             "#fde0ef"
            ],
            [
             0.5,
             "#f7f7f7"
            ],
            [
             0.6,
             "#e6f5d0"
            ],
            [
             0.7,
             "#b8e186"
            ],
            [
             0.8,
             "#7fbc41"
            ],
            [
             0.9,
             "#4d9221"
            ],
            [
             1,
             "#276419"
            ]
           ],
           "sequential": [
            [
             0,
             "#0d0887"
            ],
            [
             0.1111111111111111,
             "#46039f"
            ],
            [
             0.2222222222222222,
             "#7201a8"
            ],
            [
             0.3333333333333333,
             "#9c179e"
            ],
            [
             0.4444444444444444,
             "#bd3786"
            ],
            [
             0.5555555555555556,
             "#d8576b"
            ],
            [
             0.6666666666666666,
             "#ed7953"
            ],
            [
             0.7777777777777778,
             "#fb9f3a"
            ],
            [
             0.8888888888888888,
             "#fdca26"
            ],
            [
             1,
             "#f0f921"
            ]
           ],
           "sequentialminus": [
            [
             0,
             "#0d0887"
            ],
            [
             0.1111111111111111,
             "#46039f"
            ],
            [
             0.2222222222222222,
             "#7201a8"
            ],
            [
             0.3333333333333333,
             "#9c179e"
            ],
            [
             0.4444444444444444,
             "#bd3786"
            ],
            [
             0.5555555555555556,
             "#d8576b"
            ],
            [
             0.6666666666666666,
             "#ed7953"
            ],
            [
             0.7777777777777778,
             "#fb9f3a"
            ],
            [
             0.8888888888888888,
             "#fdca26"
            ],
            [
             1,
             "#f0f921"
            ]
           ]
          },
          "colorway": [
           "#636efa",
           "#EF553B",
           "#00cc96",
           "#ab63fa",
           "#FFA15A",
           "#19d3f3",
           "#FF6692",
           "#B6E880",
           "#FF97FF",
           "#FECB52"
          ],
          "font": {
           "color": "#2a3f5f"
          },
          "geo": {
           "bgcolor": "white",
           "lakecolor": "white",
           "landcolor": "#E5ECF6",
           "showlakes": true,
           "showland": true,
           "subunitcolor": "white"
          },
          "hoverlabel": {
           "align": "left"
          },
          "hovermode": "closest",
          "mapbox": {
           "style": "light"
          },
          "paper_bgcolor": "white",
          "plot_bgcolor": "#E5ECF6",
          "polar": {
           "angularaxis": {
            "gridcolor": "white",
            "linecolor": "white",
            "ticks": ""
           },
           "bgcolor": "#E5ECF6",
           "radialaxis": {
            "gridcolor": "white",
            "linecolor": "white",
            "ticks": ""
           }
          },
          "scene": {
           "xaxis": {
            "backgroundcolor": "#E5ECF6",
            "gridcolor": "white",
            "gridwidth": 2,
            "linecolor": "white",
            "showbackground": true,
            "ticks": "",
            "zerolinecolor": "white"
           },
           "yaxis": {
            "backgroundcolor": "#E5ECF6",
            "gridcolor": "white",
            "gridwidth": 2,
            "linecolor": "white",
            "showbackground": true,
            "ticks": "",
            "zerolinecolor": "white"
           },
           "zaxis": {
            "backgroundcolor": "#E5ECF6",
            "gridcolor": "white",
            "gridwidth": 2,
            "linecolor": "white",
            "showbackground": true,
            "ticks": "",
            "zerolinecolor": "white"
           }
          },
          "shapedefaults": {
           "line": {
            "color": "#2a3f5f"
           }
          },
          "ternary": {
           "aaxis": {
            "gridcolor": "white",
            "linecolor": "white",
            "ticks": ""
           },
           "baxis": {
            "gridcolor": "white",
            "linecolor": "white",
            "ticks": ""
           },
           "bgcolor": "#E5ECF6",
           "caxis": {
            "gridcolor": "white",
            "linecolor": "white",
            "ticks": ""
           }
          },
          "title": {
           "x": 0.05
          },
          "xaxis": {
           "automargin": true,
           "gridcolor": "white",
           "linecolor": "white",
           "ticks": "",
           "title": {
            "standoff": 15
           },
           "zerolinecolor": "white",
           "zerolinewidth": 2
          },
          "yaxis": {
           "automargin": true,
           "gridcolor": "white",
           "linecolor": "white",
           "ticks": "",
           "title": {
            "standoff": 15
           },
           "zerolinecolor": "white",
           "zerolinewidth": 2
          }
         }
        },
        "title": {
         "font": {
          "family": "Teleneo",
          "size": 22
         },
         "text": "Customer Value vs Upselling Opportunity<br><sub>Bubble size represents number of customers in segment</sub>",
         "x": 0.5,
         "xanchor": "center"
        },
        "width": 1400,
        "xaxis": {
         "title": {
          "font": {
           "size": 18
          },
          "text": "Average Revenue per Customer (€)"
         }
        },
        "yaxis": {
         "title": {
          "font": {
           "size": 18
          },
          "text": "Upselling Success Rate (%)"
         }
        }
       }
      }
     },
     "metadata": {},
     "output_type": "display_data"
    },
    {
     "name": "stdout",
     "output_type": "stream",
     "text": [
      "\n",
      "Portfolio Analysis Summary:\n",
      "==================================================\n",
      "Total customers analyzed: 58,495\n",
      "Average portfolio size: 1.7 contracts\n",
      "Overall upselling rate: 11.5%\n",
      "Average customer value: €64\n"
     ]
    }
   ],
   "source": [
    "# Calculate customer portfolio analysis\n",
    "customer_portfolio = (\n",
    "    core_data\n",
    "    .group_by('customer_id')\n",
    "    .agg([\n",
    "        pl.col('rating_account_id').count().alias('portfolio_size'),\n",
    "        pl.col('gross_mrc').sum().alias('total_value'),\n",
    "        pl.col('has_done_upselling').max().alias('any_upselling'),\n",
    "        pl.col('has_done_upselling').sum().alias('count_upselling'),\n",
    "        (pl.col('has_done_upselling').sum() / pl.col('rating_account_id').count() * 100).round(2).alias('upselling_rate')\n",
    "    ])\n",
    ")\n",
    "\n",
    "# Create portfolio summary\n",
    "portfolio_summary = (\n",
    "    customer_portfolio\n",
    "    .group_by('portfolio_size')\n",
    "    .agg([\n",
    "        pl.col('customer_id').n_unique().alias('total_customers'),\n",
    "        (pl.col('any_upselling').mean() * 100).round(2).alias('customers_with_upselling_percent'),\n",
    "        pl.col('total_value').mean().round(2).alias('avg_total_spend'),\n",
    "        pl.col('upselling_rate').mean().round(2).alias('avg_upselling_rate')\n",
    "    ])\n",
    "    .sort('portfolio_size', descending=False)\n",
    "    .filter(pl.col('portfolio_size') <= 8)  # Focus on main segments\n",
    ")\n",
    "\n",
    "# Plot 1: Customer Distribution by Portfolio Size\n",
    "fig1 = go.Figure()\n",
    "fig1.add_trace(\n",
    "    go.Bar(\n",
    "        x=portfolio_summary['portfolio_size'],\n",
    "        y=portfolio_summary['total_customers'],\n",
    "        name='Customers',\n",
    "        marker_color=MAGENTA_COLOR,\n",
    "        text=portfolio_summary['total_customers'],\n",
    "        textposition='auto',\n",
    "        textfont=dict(size=16)\n",
    "    )\n",
    ")\n",
    "\n",
    "fig1.update_layout(\n",
    "    title={\n",
    "        'text': 'Customer Distribution by Portfolio Size',\n",
    "        'x': 0.5,\n",
    "        'xanchor': 'center',\n",
    "        'font': {'size': 22, 'family': FONT_FAMILY}\n",
    "    },\n",
    "    xaxis_title=\"Portfolio Size (Number of Contracts)\",\n",
    "    yaxis_title=\"Number of Customers\",\n",
    "    plot_bgcolor='rgba(0,0,0,0)',\n",
    "    paper_bgcolor='rgb(250,250,250)',\n",
    "    height=600,\n",
    "    width=1400,\n",
    "    showlegend=False,\n",
    "    font=dict(size=16, family=FONT_FAMILY),\n",
    "    xaxis=dict(title_font=dict(size=18)),\n",
    "    yaxis=dict(title_font=dict(size=18))\n",
    ")\n",
    "fig1.show()\n",
    "\n",
    "# Save as PDF (high quality for printing)\n",
    "fig1.write_image(images_dir / \"portfolio_size.pdf\", \n",
    "                width=1400, height=600, scale=2)\n",
    "\n",
    "# Plot 2: Average Revenue per Customer Segment\n",
    "fig2 = go.Figure()\n",
    "fig2.add_trace(\n",
    "    go.Bar(\n",
    "        x=portfolio_summary['portfolio_size'],\n",
    "        y=portfolio_summary['avg_total_spend'],\n",
    "        name='Avg Revenue (€)',\n",
    "        marker_color=MAGENTA_LIGHT,\n",
    "        text=[f'€{x:.0f}' for x in portfolio_summary['avg_total_spend']],\n",
    "        textposition='auto',\n",
    "        textfont=dict(size=16)\n",
    "    )\n",
    ")\n",
    "\n",
    "fig2.update_layout(\n",
    "    title={\n",
    "        'text': 'Average Revenue per Customer Segment',\n",
    "        'x': 0.5,\n",
    "        'xanchor': 'center',\n",
    "        'font': {'size': 22, 'family': FONT_FAMILY}\n",
    "    },\n",
    "    xaxis_title=\"Portfolio Size (Number of Contracts)\",\n",
    "    yaxis_title=\"Average Revenue (€)\",\n",
    "    plot_bgcolor='rgba(0,0,0,0)',\n",
    "    paper_bgcolor='rgb(250,250,250)',\n",
    "    height=600,\n",
    "    width=1400,\n",
    "    showlegend=False,\n",
    "    font=dict(size=16, family=FONT_FAMILY),\n",
    "    xaxis=dict(title_font=dict(size=18)),\n",
    "    yaxis=dict(title_font=dict(size=18))\n",
    ")\n",
    "fig2.show()\n",
    "\n",
    "# Save as PDF (high quality for printing)\n",
    "fig2.write_image(images_dir / \"portfolio_size_revenue_segments.pdf\", \n",
    "                width=1400, height=600, scale=2)\n",
    "\n",
    "# Plot 3: Upselling Success Rate by Segment\n",
    "fig3 = go.Figure()\n",
    "fig3.add_trace(\n",
    "    go.Bar(\n",
    "        x=portfolio_summary['portfolio_size'],\n",
    "        y=portfolio_summary['customers_with_upselling_percent'],\n",
    "        name='Upselling Success Rate (%)',\n",
    "        marker_color=MAGENTA_DARK,\n",
    "        text=[f'{x:.1f}%' for x in portfolio_summary['customers_with_upselling_percent']],\n",
    "        textposition='auto',\n",
    "        textfont=dict(size=16)\n",
    "    )\n",
    ")\n",
    "\n",
    "fig3.update_layout(\n",
    "    title={\n",
    "        'text': 'Upselling Success Rate by Segment',\n",
    "        'x': 0.5,\n",
    "        'xanchor': 'center',\n",
    "        'font': {'size': 22, 'family': FONT_FAMILY}\n",
    "    },\n",
    "    xaxis_title=\"Portfolio Size (Number of Contracts)\",\n",
    "    yaxis_title=\"Upselling Success Rate (%)\",\n",
    "    plot_bgcolor='rgba(0,0,0,0)',\n",
    "    paper_bgcolor='rgb(250,250,250)',\n",
    "    height=600,\n",
    "    width=1400,\n",
    "    showlegend=False,\n",
    "    font=dict(size=16, family=FONT_FAMILY),\n",
    "    xaxis=dict(title_font=dict(size=18)),\n",
    "    yaxis=dict(title_font=dict(size=18))\n",
    ")\n",
    "fig3.show()\n",
    "\n",
    "# Save as PDF (high quality for printing)\n",
    "fig3.write_image(images_dir / \"portfolio_size_upselling_rate.pdf\", \n",
    "                width=1400, height=600, scale=2)\n",
    "\n",
    "# Plot 4: Customer Value vs Upselling Opportunity (Bubble Chart)\n",
    "fig4 = go.Figure()\n",
    "fig4.add_trace(\n",
    "    go.Scatter(\n",
    "        x=portfolio_summary['avg_total_spend'],\n",
    "        y=portfolio_summary['customers_with_upselling_percent'],\n",
    "        mode='markers+text',\n",
    "        marker=dict(\n",
    "            size=portfolio_summary['total_customers'].to_numpy() / 30,  # Larger bubbles\n",
    "            color=MAGENTA_COLOR,\n",
    "            opacity=0.7,\n",
    "            sizemode='area',\n",
    "            sizeref=2. * max(portfolio_summary['total_customers']) / (50. ** 2),\n",
    "            sizemin=20,\n",
    "            line=dict(width=3, color='white')\n",
    "        ),\n",
    "        text=[f'{x} contracts' for x in portfolio_summary['portfolio_size']],\n",
    "        textposition='top center',\n",
    "        textfont=dict(color='black', size=18, family=FONT_FAMILY),\n",
    "        name='Portfolio Segments',\n",
    "        hovertemplate='<b>%{text}</b><br>' +\n",
    "                     'Avg Revenue: €%{x:.0f}<br>' +\n",
    "                     'Upselling Rate: %{y:.1f}%<br>' +\n",
    "                     'Customers: %{customdata}<br>' +\n",
    "                     '<extra></extra>',\n",
    "        customdata=portfolio_summary['total_customers']\n",
    "    )\n",
    ")\n",
    "\n",
    "fig4.update_layout(\n",
    "    title={\n",
    "        'text': 'Customer Value vs Upselling Opportunity<br><sub>Bubble size represents number of customers in segment</sub>',\n",
    "        'x': 0.5,\n",
    "        'xanchor': 'center',\n",
    "        'font': {'size': 22, 'family': FONT_FAMILY}\n",
    "    },\n",
    "    xaxis_title=\"Average Revenue per Customer (€)\",\n",
    "    yaxis_title=\"Upselling Success Rate (%)\",\n",
    "    plot_bgcolor='rgba(0,0,0,0)',\n",
    "    paper_bgcolor='rgb(250,250,250)',\n",
    "    height=700,\n",
    "    width=1400,\n",
    "    showlegend=False,\n",
    "    font=dict(size=16, family=FONT_FAMILY),\n",
    "    xaxis=dict(title_font=dict(size=18)),\n",
    "    yaxis=dict(title_font=dict(size=18)),\n",
    "    annotations=[\n",
    "        dict(\n",
    "            x=0.02,\n",
    "            y=0.98,\n",
    "            xref='paper',\n",
    "            yref='paper',\n",
    "            text='<b>Quadrant Analysis:</b><br>' +\n",
    "                 'Top Right: High Value + High Upselling<br>' +\n",
    "                 'Top Left: Low Value + High Upselling<br>' +\n",
    "                 'Bottom Right: High Value + Low Upselling<br>' +\n",
    "                 'Bottom Left: Low Value + Low Upselling',\n",
    "            showarrow=False,\n",
    "            font=dict(size=14, color=GRAY_COLOR, family=FONT_FAMILY),\n",
    "            align='left',\n",
    "            bgcolor='rgba(255,255,255,0.9)',\n",
    "            bordercolor=GRAY_COLOR,\n",
    "            borderwidth=1,\n",
    "            borderpad=10\n",
    "        )\n",
    "    ]\n",
    ")\n",
    "fig4.show()\n",
    "\n",
    "# Save as PDF (high quality for printing)\n",
    "fig4.write_image(images_dir / \"portfolio_size_opportunity.pdf\", \n",
    "                width=1400, height=700, scale=2)\n",
    "\n",
    "print(\"\\nPortfolio Analysis Summary:\")\n",
    "print(\"=\" * 50)\n",
    "total_customers = portfolio_summary['total_customers'].sum()\n",
    "print(f\"Total customers analyzed: {total_customers:,}\")\n",
    "print(f\"Average portfolio size: {(portfolio_summary['portfolio_size'] * portfolio_summary['total_customers']).sum() / total_customers:.1f} contracts\")\n",
    "print(f\"Overall upselling rate: {(portfolio_summary['customers_with_upselling_percent'] * portfolio_summary['total_customers']).sum() / total_customers:.1f}%\")\n",
    "print(f\"Average customer value: €{(portfolio_summary['avg_total_spend'] * portfolio_summary['total_customers']).sum() / total_customers:.0f}\")"
   ]
  },
  {
   "cell_type": "markdown",
   "metadata": {},
   "source": [
    "## 3. Age Demographics"
   ]
  },
  {
   "cell_type": "code",
   "execution_count": 32,
   "metadata": {},
   "outputs": [
    {
     "data": {
      "application/vnd.plotly.v1+json": {
       "config": {
        "plotlyServerURL": "https://plot.ly"
       },
       "data": [
        {
         "marker": {
          "color": "rgb(128,128,128)"
         },
         "name": "Not Upsold",
         "text": [
          "5,865",
          "13,600",
          "30,924",
          "32,107",
          "5,514",
          "165",
          "1,886",
          "1,861",
          "882"
         ],
         "textfont": {
          "size": 16
         },
         "textposition": "inside",
         "type": "bar",
         "x": [
          "18-24",
          "25-34",
          "35-44",
          "45-54",
          "55-64",
          "65-74",
          "75-84",
          "85-94",
          "95-100"
         ],
         "y": {
          "bdata": "6RYAACA1AADMeAAAa30AAIoVAAClAAAAXgcAAEUHAAByAwAA",
          "dtype": "u4"
         }
        },
        {
         "marker": {
          "color": "rgb(226,0,116)"
         },
         "name": "Upsold",
         "text": [
          "503",
          "1,184",
          "2,971",
          "1,815",
          "342",
          "10",
          "90",
          "80",
          "41"
         ],
         "textfont": {
          "size": 16
         },
         "textposition": "inside",
         "type": "bar",
         "x": [
          "18-24",
          "25-34",
          "35-44",
          "45-54",
          "55-64",
          "65-74",
          "75-84",
          "85-94",
          "95-100"
         ],
         "y": {
          "bdata": "9wEAAKAEAACbCwAAFwcAAFYBAAAKAAAAWgAAAFAAAAApAAAA",
          "dtype": "u4"
         }
        },
        {
         "line": {
          "color": "rgb(180,0,93)",
          "width": 3
         },
         "marker": {
          "color": "rgb(180,0,93)",
          "size": 8
         },
         "mode": "lines+markers",
         "name": "Upselling Rate (%)",
         "text": [
          "7.9%",
          "8.0%",
          "8.8%",
          "5.3%",
          "5.8%",
          "5.7%",
          "4.5%",
          "4.1%",
          "4.4%"
         ],
         "textfont": {
          "size": 16
         },
         "textposition": "top center",
         "type": "scatter",
         "x": [
          "18-24",
          "25-34",
          "35-44",
          "45-54",
          "55-64",
          "65-74",
          "75-84",
          "85-94",
          "95-100"
         ],
         "y": {
          "bdata": "mpmZmZmZH0CF61G4HgUgQArXo3A9iiFAZmZmZmZmFUBcj8L1KFwXQNejcD0K1xZAMzMzMzMzEkB7FK5H4XoQQMP1KFyPwhFA",
          "dtype": "f8"
         },
         "yaxis": "y2"
        }
       ],
       "layout": {
        "barmode": "stack",
        "font": {
         "family": "Teleneo",
         "size": 16
        },
        "height": 600,
        "legend": {
         "font": {
          "size": 16
         },
         "orientation": "h",
         "x": 1,
         "xanchor": "right",
         "y": 1.02,
         "yanchor": "bottom"
        },
        "paper_bgcolor": "rgb(250,250,250)",
        "plot_bgcolor": "rgba(0,0,0,0)",
        "template": {
         "data": {
          "bar": [
           {
            "error_x": {
             "color": "#2a3f5f"
            },
            "error_y": {
             "color": "#2a3f5f"
            },
            "marker": {
             "line": {
              "color": "#E5ECF6",
              "width": 0.5
             },
             "pattern": {
              "fillmode": "overlay",
              "size": 10,
              "solidity": 0.2
             }
            },
            "type": "bar"
           }
          ],
          "barpolar": [
           {
            "marker": {
             "line": {
              "color": "#E5ECF6",
              "width": 0.5
             },
             "pattern": {
              "fillmode": "overlay",
              "size": 10,
              "solidity": 0.2
             }
            },
            "type": "barpolar"
           }
          ],
          "carpet": [
           {
            "aaxis": {
             "endlinecolor": "#2a3f5f",
             "gridcolor": "white",
             "linecolor": "white",
             "minorgridcolor": "white",
             "startlinecolor": "#2a3f5f"
            },
            "baxis": {
             "endlinecolor": "#2a3f5f",
             "gridcolor": "white",
             "linecolor": "white",
             "minorgridcolor": "white",
             "startlinecolor": "#2a3f5f"
            },
            "type": "carpet"
           }
          ],
          "choropleth": [
           {
            "colorbar": {
             "outlinewidth": 0,
             "ticks": ""
            },
            "type": "choropleth"
           }
          ],
          "contour": [
           {
            "colorbar": {
             "outlinewidth": 0,
             "ticks": ""
            },
            "colorscale": [
             [
              0,
              "#0d0887"
             ],
             [
              0.1111111111111111,
              "#46039f"
             ],
             [
              0.2222222222222222,
              "#7201a8"
             ],
             [
              0.3333333333333333,
              "#9c179e"
             ],
             [
              0.4444444444444444,
              "#bd3786"
             ],
             [
              0.5555555555555556,
              "#d8576b"
             ],
             [
              0.6666666666666666,
              "#ed7953"
             ],
             [
              0.7777777777777778,
              "#fb9f3a"
             ],
             [
              0.8888888888888888,
              "#fdca26"
             ],
             [
              1,
              "#f0f921"
             ]
            ],
            "type": "contour"
           }
          ],
          "contourcarpet": [
           {
            "colorbar": {
             "outlinewidth": 0,
             "ticks": ""
            },
            "type": "contourcarpet"
           }
          ],
          "heatmap": [
           {
            "colorbar": {
             "outlinewidth": 0,
             "ticks": ""
            },
            "colorscale": [
             [
              0,
              "#0d0887"
             ],
             [
              0.1111111111111111,
              "#46039f"
             ],
             [
              0.2222222222222222,
              "#7201a8"
             ],
             [
              0.3333333333333333,
              "#9c179e"
             ],
             [
              0.4444444444444444,
              "#bd3786"
             ],
             [
              0.5555555555555556,
              "#d8576b"
             ],
             [
              0.6666666666666666,
              "#ed7953"
             ],
             [
              0.7777777777777778,
              "#fb9f3a"
             ],
             [
              0.8888888888888888,
              "#fdca26"
             ],
             [
              1,
              "#f0f921"
             ]
            ],
            "type": "heatmap"
           }
          ],
          "histogram": [
           {
            "marker": {
             "pattern": {
              "fillmode": "overlay",
              "size": 10,
              "solidity": 0.2
             }
            },
            "type": "histogram"
           }
          ],
          "histogram2d": [
           {
            "colorbar": {
             "outlinewidth": 0,
             "ticks": ""
            },
            "colorscale": [
             [
              0,
              "#0d0887"
             ],
             [
              0.1111111111111111,
              "#46039f"
             ],
             [
              0.2222222222222222,
              "#7201a8"
             ],
             [
              0.3333333333333333,
              "#9c179e"
             ],
             [
              0.4444444444444444,
              "#bd3786"
             ],
             [
              0.5555555555555556,
              "#d8576b"
             ],
             [
              0.6666666666666666,
              "#ed7953"
             ],
             [
              0.7777777777777778,
              "#fb9f3a"
             ],
             [
              0.8888888888888888,
              "#fdca26"
             ],
             [
              1,
              "#f0f921"
             ]
            ],
            "type": "histogram2d"
           }
          ],
          "histogram2dcontour": [
           {
            "colorbar": {
             "outlinewidth": 0,
             "ticks": ""
            },
            "colorscale": [
             [
              0,
              "#0d0887"
             ],
             [
              0.1111111111111111,
              "#46039f"
             ],
             [
              0.2222222222222222,
              "#7201a8"
             ],
             [
              0.3333333333333333,
              "#9c179e"
             ],
             [
              0.4444444444444444,
              "#bd3786"
             ],
             [
              0.5555555555555556,
              "#d8576b"
             ],
             [
              0.6666666666666666,
              "#ed7953"
             ],
             [
              0.7777777777777778,
              "#fb9f3a"
             ],
             [
              0.8888888888888888,
              "#fdca26"
             ],
             [
              1,
              "#f0f921"
             ]
            ],
            "type": "histogram2dcontour"
           }
          ],
          "mesh3d": [
           {
            "colorbar": {
             "outlinewidth": 0,
             "ticks": ""
            },
            "type": "mesh3d"
           }
          ],
          "parcoords": [
           {
            "line": {
             "colorbar": {
              "outlinewidth": 0,
              "ticks": ""
             }
            },
            "type": "parcoords"
           }
          ],
          "pie": [
           {
            "automargin": true,
            "type": "pie"
           }
          ],
          "scatter": [
           {
            "fillpattern": {
             "fillmode": "overlay",
             "size": 10,
             "solidity": 0.2
            },
            "type": "scatter"
           }
          ],
          "scatter3d": [
           {
            "line": {
             "colorbar": {
              "outlinewidth": 0,
              "ticks": ""
             }
            },
            "marker": {
             "colorbar": {
              "outlinewidth": 0,
              "ticks": ""
             }
            },
            "type": "scatter3d"
           }
          ],
          "scattercarpet": [
           {
            "marker": {
             "colorbar": {
              "outlinewidth": 0,
              "ticks": ""
             }
            },
            "type": "scattercarpet"
           }
          ],
          "scattergeo": [
           {
            "marker": {
             "colorbar": {
              "outlinewidth": 0,
              "ticks": ""
             }
            },
            "type": "scattergeo"
           }
          ],
          "scattergl": [
           {
            "marker": {
             "colorbar": {
              "outlinewidth": 0,
              "ticks": ""
             }
            },
            "type": "scattergl"
           }
          ],
          "scattermap": [
           {
            "marker": {
             "colorbar": {
              "outlinewidth": 0,
              "ticks": ""
             }
            },
            "type": "scattermap"
           }
          ],
          "scattermapbox": [
           {
            "marker": {
             "colorbar": {
              "outlinewidth": 0,
              "ticks": ""
             }
            },
            "type": "scattermapbox"
           }
          ],
          "scatterpolar": [
           {
            "marker": {
             "colorbar": {
              "outlinewidth": 0,
              "ticks": ""
             }
            },
            "type": "scatterpolar"
           }
          ],
          "scatterpolargl": [
           {
            "marker": {
             "colorbar": {
              "outlinewidth": 0,
              "ticks": ""
             }
            },
            "type": "scatterpolargl"
           }
          ],
          "scatterternary": [
           {
            "marker": {
             "colorbar": {
              "outlinewidth": 0,
              "ticks": ""
             }
            },
            "type": "scatterternary"
           }
          ],
          "surface": [
           {
            "colorbar": {
             "outlinewidth": 0,
             "ticks": ""
            },
            "colorscale": [
             [
              0,
              "#0d0887"
             ],
             [
              0.1111111111111111,
              "#46039f"
             ],
             [
              0.2222222222222222,
              "#7201a8"
             ],
             [
              0.3333333333333333,
              "#9c179e"
             ],
             [
              0.4444444444444444,
              "#bd3786"
             ],
             [
              0.5555555555555556,
              "#d8576b"
             ],
             [
              0.6666666666666666,
              "#ed7953"
             ],
             [
              0.7777777777777778,
              "#fb9f3a"
             ],
             [
              0.8888888888888888,
              "#fdca26"
             ],
             [
              1,
              "#f0f921"
             ]
            ],
            "type": "surface"
           }
          ],
          "table": [
           {
            "cells": {
             "fill": {
              "color": "#EBF0F8"
             },
             "line": {
              "color": "white"
             }
            },
            "header": {
             "fill": {
              "color": "#C8D4E3"
             },
             "line": {
              "color": "white"
             }
            },
            "type": "table"
           }
          ]
         },
         "layout": {
          "annotationdefaults": {
           "arrowcolor": "#2a3f5f",
           "arrowhead": 0,
           "arrowwidth": 1
          },
          "autotypenumbers": "strict",
          "coloraxis": {
           "colorbar": {
            "outlinewidth": 0,
            "ticks": ""
           }
          },
          "colorscale": {
           "diverging": [
            [
             0,
             "#8e0152"
            ],
            [
             0.1,
             "#c51b7d"
            ],
            [
             0.2,
             "#de77ae"
            ],
            [
             0.3,
             "#f1b6da"
            ],
            [
             0.4,
             "#fde0ef"
            ],
            [
             0.5,
             "#f7f7f7"
            ],
            [
             0.6,
             "#e6f5d0"
            ],
            [
             0.7,
             "#b8e186"
            ],
            [
             0.8,
             "#7fbc41"
            ],
            [
             0.9,
             "#4d9221"
            ],
            [
             1,
             "#276419"
            ]
           ],
           "sequential": [
            [
             0,
             "#0d0887"
            ],
            [
             0.1111111111111111,
             "#46039f"
            ],
            [
             0.2222222222222222,
             "#7201a8"
            ],
            [
             0.3333333333333333,
             "#9c179e"
            ],
            [
             0.4444444444444444,
             "#bd3786"
            ],
            [
             0.5555555555555556,
             "#d8576b"
            ],
            [
             0.6666666666666666,
             "#ed7953"
            ],
            [
             0.7777777777777778,
             "#fb9f3a"
            ],
            [
             0.8888888888888888,
             "#fdca26"
            ],
            [
             1,
             "#f0f921"
            ]
           ],
           "sequentialminus": [
            [
             0,
             "#0d0887"
            ],
            [
             0.1111111111111111,
             "#46039f"
            ],
            [
             0.2222222222222222,
             "#7201a8"
            ],
            [
             0.3333333333333333,
             "#9c179e"
            ],
            [
             0.4444444444444444,
             "#bd3786"
            ],
            [
             0.5555555555555556,
             "#d8576b"
            ],
            [
             0.6666666666666666,
             "#ed7953"
            ],
            [
             0.7777777777777778,
             "#fb9f3a"
            ],
            [
             0.8888888888888888,
             "#fdca26"
            ],
            [
             1,
             "#f0f921"
            ]
           ]
          },
          "colorway": [
           "#636efa",
           "#EF553B",
           "#00cc96",
           "#ab63fa",
           "#FFA15A",
           "#19d3f3",
           "#FF6692",
           "#B6E880",
           "#FF97FF",
           "#FECB52"
          ],
          "font": {
           "color": "#2a3f5f"
          },
          "geo": {
           "bgcolor": "white",
           "lakecolor": "white",
           "landcolor": "#E5ECF6",
           "showlakes": true,
           "showland": true,
           "subunitcolor": "white"
          },
          "hoverlabel": {
           "align": "left"
          },
          "hovermode": "closest",
          "mapbox": {
           "style": "light"
          },
          "paper_bgcolor": "white",
          "plot_bgcolor": "#E5ECF6",
          "polar": {
           "angularaxis": {
            "gridcolor": "white",
            "linecolor": "white",
            "ticks": ""
           },
           "bgcolor": "#E5ECF6",
           "radialaxis": {
            "gridcolor": "white",
            "linecolor": "white",
            "ticks": ""
           }
          },
          "scene": {
           "xaxis": {
            "backgroundcolor": "#E5ECF6",
            "gridcolor": "white",
            "gridwidth": 2,
            "linecolor": "white",
            "showbackground": true,
            "ticks": "",
            "zerolinecolor": "white"
           },
           "yaxis": {
            "backgroundcolor": "#E5ECF6",
            "gridcolor": "white",
            "gridwidth": 2,
            "linecolor": "white",
            "showbackground": true,
            "ticks": "",
            "zerolinecolor": "white"
           },
           "zaxis": {
            "backgroundcolor": "#E5ECF6",
            "gridcolor": "white",
            "gridwidth": 2,
            "linecolor": "white",
            "showbackground": true,
            "ticks": "",
            "zerolinecolor": "white"
           }
          },
          "shapedefaults": {
           "line": {
            "color": "#2a3f5f"
           }
          },
          "ternary": {
           "aaxis": {
            "gridcolor": "white",
            "linecolor": "white",
            "ticks": ""
           },
           "baxis": {
            "gridcolor": "white",
            "linecolor": "white",
            "ticks": ""
           },
           "bgcolor": "#E5ECF6",
           "caxis": {
            "gridcolor": "white",
            "linecolor": "white",
            "ticks": ""
           }
          },
          "title": {
           "x": 0.05
          },
          "xaxis": {
           "automargin": true,
           "gridcolor": "white",
           "linecolor": "white",
           "ticks": "",
           "title": {
            "standoff": 15
           },
           "zerolinecolor": "white",
           "zerolinewidth": 2
          },
          "yaxis": {
           "automargin": true,
           "gridcolor": "white",
           "linecolor": "white",
           "ticks": "",
           "title": {
            "standoff": 15
           },
           "zerolinecolor": "white",
           "zerolinewidth": 2
          }
         }
        },
        "title": {
         "font": {
          "family": "Teleneo",
          "size": 22
         },
         "text": "Age Demographics: Upselling Patterns Across Customer Segments",
         "x": 0.5,
         "xanchor": "center"
        },
        "width": 1400,
        "xaxis": {
         "title": {
          "font": {
           "size": 18
          },
          "text": "Age Groups"
         }
        },
        "yaxis": {
         "title": {
          "font": {
           "size": 18
          },
          "text": "Number of Contracts"
         }
        },
        "yaxis2": {
         "overlaying": "y",
         "range": [
          0,
          10.524
         ],
         "side": "right",
         "title": {
          "font": {
           "size": 18
          },
          "text": "Upselling Rate (%)"
         }
        }
       }
      }
     },
     "metadata": {},
     "output_type": "display_data"
    }
   ],
   "source": [
    "# Create age bins for analysis\n",
    "bins = [18, 25, 35, 45, 55, 65, 75, 85, 95, 100]\n",
    "labels = [\"18-24\", \"25-34\", \"35-44\", \"45-54\", \"55-64\", \"65-74\", \"75-84\", \"85-94\", \"95-100\"]\n",
    "\n",
    "# Create age bins\n",
    "binned_age_data = core_data.with_columns(\n",
    "    pl.when(pl.col(\"age\") < 18).then(pl.lit('18-'))\n",
    "    .otherwise(pl.lit('+100'))\n",
    "    .alias(\"age_bin\")\n",
    ")\n",
    "\n",
    "for i in range(len(bins)-1):\n",
    "    binned_age_data = binned_age_data.with_columns(\n",
    "        pl.when(pl.col(\"age\").is_between(bins[i], bins[i+1], closed=\"left\")).then(pl.lit(labels[i]))\n",
    "        .otherwise(pl.col('age_bin'))\n",
    "        .alias(\"age_bin\")\n",
    "    )\n",
    "\n",
    "# Group by age bin and calculate metrics\n",
    "age_analysis = binned_age_data.group_by(\"age_bin\").agg([\n",
    "    pl.len().alias(\"total_contracts\"),\n",
    "    (pl.col(\"has_done_upselling\") == True).sum().alias(\"upsold_contracts\"),\n",
    "    (pl.col(\"has_done_upselling\") == False).sum().alias(\"not_upsold_contracts\"),\n",
    "    (pl.col(\"has_done_upselling\").mean() * 100).round(2).alias(\"upselling_rate\"),\n",
    "    pl.col(\"gross_mrc\").mean().round(2).alias(\"avg_revenue\")\n",
    "]).sort('age_bin')\n",
    "\n",
    "# Remove outlier bins\n",
    "age_analysis = age_analysis.filter(~pl.col('age_bin').is_in(['18-', '+100']))\n",
    "\n",
    "# Create stacked bar chart\n",
    "fig = go.Figure()\n",
    "\n",
    "fig.add_trace(go.Bar(\n",
    "    name='Not Upsold',\n",
    "    x=age_analysis['age_bin'],\n",
    "    y=age_analysis['not_upsold_contracts'],\n",
    "    marker_color=GRAY_COLOR,\n",
    "    text=[f'{x:,}' for x in age_analysis['not_upsold_contracts']],\n",
    "    textposition='inside',\n",
    "    textfont=dict(size=16)\n",
    "))\n",
    "\n",
    "fig.add_trace(go.Bar(\n",
    "    name='Upsold',\n",
    "    x=age_analysis['age_bin'],\n",
    "    y=age_analysis['upsold_contracts'],\n",
    "    marker_color=MAGENTA_COLOR,\n",
    "    text=[f'{x:,}' for x in age_analysis['upsold_contracts']],\n",
    "    textposition='inside',\n",
    "    textfont=dict(size=16)\n",
    "))\n",
    "\n",
    "# Add upselling rate as line on secondary y-axis\n",
    "fig.add_trace(go.Scatter(\n",
    "    x=age_analysis['age_bin'],\n",
    "    y=age_analysis['upselling_rate'],\n",
    "    mode='lines+markers',\n",
    "    name='Upselling Rate (%)',\n",
    "    line=dict(color=MAGENTA_DARK, width=3),\n",
    "    marker=dict(size=8, color=MAGENTA_DARK),\n",
    "    text=[f'{x:.1f}%' for x in age_analysis['upselling_rate']],\n",
    "    textposition='top center',\n",
    "    textfont=dict(size=16),\n",
    "    yaxis='y2'\n",
    "))\n",
    "\n",
    "fig.update_layout(\n",
    "    title={\n",
    "        'text': 'Age Demographics: Upselling Patterns Across Customer Segments',\n",
    "        'x': 0.5,\n",
    "        'xanchor': 'center',\n",
    "        'font': {'size': 22, 'family': FONT_FAMILY}\n",
    "    },\n",
    "    xaxis_title='Age Groups',\n",
    "    yaxis_title='Number of Contracts',\n",
    "    yaxis2=dict(\n",
    "        title='Upselling Rate (%)',\n",
    "        overlaying='y',\n",
    "        side='right',\n",
    "        range=[0, max(age_analysis['upselling_rate']) * 1.2],\n",
    "        title_font=dict(size=18)\n",
    "    ),\n",
    "    barmode='stack',\n",
    "    height=600,\n",
    "    width=1400,\n",
    "    plot_bgcolor='rgba(0,0,0,0)',\n",
    "    paper_bgcolor='rgb(250,250,250)',\n",
    "    font=dict(family=FONT_FAMILY, size=16),\n",
    "    xaxis=dict(title_font=dict(size=18)),\n",
    "    yaxis=dict(title_font=dict(size=18)),\n",
    "    legend=dict(\n",
    "        orientation=\"h\",\n",
    "        yanchor=\"bottom\",\n",
    "        y=1.02,\n",
    "        xanchor=\"right\",\n",
    "        x=1,\n",
    "        font=dict(size=16)\n",
    "    )\n",
    ")\n",
    "\n",
    "fig.show()\n",
    "# Save as PDF (high quality for printing)\n",
    "fig.write_image(images_dir / \"age.pdf\", \n",
    "                width=1400, height=600, scale=2)"
   ]
  },
  {
   "cell_type": "markdown",
   "metadata": {},
   "source": [
    "## 4. Contract Lifecycle Analysis"
   ]
  },
  {
   "cell_type": "code",
   "execution_count": 35,
   "metadata": {},
   "outputs": [
    {
     "data": {
      "application/vnd.plotly.v1+json": {
       "config": {
        "plotlyServerURL": "https://plot.ly"
       },
       "data": [
        {
         "marker": {
          "color": "rgb(226,0,116)"
         },
         "name": "Contract Count",
         "text": [
          "13,321",
          "13,644",
          "13,801",
          "13,797",
          "13,753",
          "10,206",
          "6,929",
          "6,806",
          "6,871"
         ],
         "textfont": {
          "size": 16
         },
         "textposition": "auto",
         "type": "bar",
         "x": [
          "0-6m",
          "6-13m",
          "13-19m",
          "20-26m",
          "26-33m",
          "33-39m",
          "40-46m",
          "46-53m",
          "53-59m"
         ],
         "xaxis": "x",
         "y": {
          "bdata": "CTQAAEw1AADpNQAA5TUAALk1AADeJwAAERsAAJYaAADXGgAA",
          "dtype": "u4"
         },
         "yaxis": "y"
        },
        {
         "line": {
          "color": "rgb(226,0,116)",
          "width": 3
         },
         "marker": {
          "color": "rgb(226,0,116)",
          "size": 8
         },
         "mode": "lines+markers",
         "name": "Upselling Rate (%)",
         "text": [
          "5.6%",
          "6.3%",
          "8.1%",
          "7.8%",
          "7.5%",
          "7.8%",
          "7.8%",
          "6.8%",
          "5.3%"
         ],
         "textfont": {
          "size": 16
         },
         "textposition": "top center",
         "type": "scatter",
         "x": [
          "0-6m",
          "6-13m",
          "13-19m",
          "20-26m",
          "26-33m",
          "33-39m",
          "40-46m",
          "46-53m",
          "53-59m"
         ],
         "xaxis": "x2",
         "y": {
          "bdata": "ZmZmZmZmFkA9CtejcD0ZQK5H4XoULiBAH4XrUbgeH0ApXI/C9SgeQFyPwvUoXB9APQrXo3A9H0AUrkfhehQbQFyPwvUoXBVA",
          "dtype": "f8"
         },
         "yaxis": "y2"
        },
        {
         "line": {
          "color": "rgba(226,0,116,0.7)",
          "dash": "dash",
          "width": 2
         },
         "marker": {
          "color": "rgba(226,0,116,0.7)",
          "size": 6
         },
         "mode": "lines+markers",
         "name": "Avg Completion Rate (%)",
         "type": "scatter",
         "x": [
          "0-6m",
          "6-13m",
          "13-19m",
          "20-26m",
          "26-33m",
          "33-39m",
          "40-46m",
          "46-53m",
          "53-59m"
         ],
         "xaxis": "x2",
         "y": {
          "bdata": "AAAAAACQckAAAAAAAMB1QAAAAAAA0HZAAAAAAACwdEAAAAAAAMBhQAAAAAAAgF5A//////9/XEABAAAAAEBbQAAAAAAAwFpA",
          "dtype": "f8"
         },
         "yaxis": "y3"
        }
       ],
       "layout": {
        "annotations": [
         {
          "font": {
           "size": 16
          },
          "showarrow": false,
          "text": "Contract Distribution by Lifetime (Months)",
          "x": 0.47,
          "xanchor": "center",
          "xref": "paper",
          "y": 1,
          "yanchor": "bottom",
          "yref": "paper"
         },
         {
          "font": {
           "size": 16
          },
          "showarrow": false,
          "text": "Upselling Success Rate vs Contract Maturity",
          "x": 0.47,
          "xanchor": "center",
          "xref": "paper",
          "y": 0.4,
          "yanchor": "bottom",
          "yref": "paper"
         }
        ],
        "font": {
         "family": "Teleneo",
         "size": 16
        },
        "height": 800,
        "legend": {
         "font": {
          "size": 16
         },
         "orientation": "h",
         "x": 1,
         "xanchor": "right",
         "y": 1.02,
         "yanchor": "bottom"
        },
        "paper_bgcolor": "rgb(250,250,250)",
        "plot_bgcolor": "rgba(0,0,0,0)",
        "showlegend": true,
        "template": {
         "data": {
          "bar": [
           {
            "error_x": {
             "color": "#2a3f5f"
            },
            "error_y": {
             "color": "#2a3f5f"
            },
            "marker": {
             "line": {
              "color": "#E5ECF6",
              "width": 0.5
             },
             "pattern": {
              "fillmode": "overlay",
              "size": 10,
              "solidity": 0.2
             }
            },
            "type": "bar"
           }
          ],
          "barpolar": [
           {
            "marker": {
             "line": {
              "color": "#E5ECF6",
              "width": 0.5
             },
             "pattern": {
              "fillmode": "overlay",
              "size": 10,
              "solidity": 0.2
             }
            },
            "type": "barpolar"
           }
          ],
          "carpet": [
           {
            "aaxis": {
             "endlinecolor": "#2a3f5f",
             "gridcolor": "white",
             "linecolor": "white",
             "minorgridcolor": "white",
             "startlinecolor": "#2a3f5f"
            },
            "baxis": {
             "endlinecolor": "#2a3f5f",
             "gridcolor": "white",
             "linecolor": "white",
             "minorgridcolor": "white",
             "startlinecolor": "#2a3f5f"
            },
            "type": "carpet"
           }
          ],
          "choropleth": [
           {
            "colorbar": {
             "outlinewidth": 0,
             "ticks": ""
            },
            "type": "choropleth"
           }
          ],
          "contour": [
           {
            "colorbar": {
             "outlinewidth": 0,
             "ticks": ""
            },
            "colorscale": [
             [
              0,
              "#0d0887"
             ],
             [
              0.1111111111111111,
              "#46039f"
             ],
             [
              0.2222222222222222,
              "#7201a8"
             ],
             [
              0.3333333333333333,
              "#9c179e"
             ],
             [
              0.4444444444444444,
              "#bd3786"
             ],
             [
              0.5555555555555556,
              "#d8576b"
             ],
             [
              0.6666666666666666,
              "#ed7953"
             ],
             [
              0.7777777777777778,
              "#fb9f3a"
             ],
             [
              0.8888888888888888,
              "#fdca26"
             ],
             [
              1,
              "#f0f921"
             ]
            ],
            "type": "contour"
           }
          ],
          "contourcarpet": [
           {
            "colorbar": {
             "outlinewidth": 0,
             "ticks": ""
            },
            "type": "contourcarpet"
           }
          ],
          "heatmap": [
           {
            "colorbar": {
             "outlinewidth": 0,
             "ticks": ""
            },
            "colorscale": [
             [
              0,
              "#0d0887"
             ],
             [
              0.1111111111111111,
              "#46039f"
             ],
             [
              0.2222222222222222,
              "#7201a8"
             ],
             [
              0.3333333333333333,
              "#9c179e"
             ],
             [
              0.4444444444444444,
              "#bd3786"
             ],
             [
              0.5555555555555556,
              "#d8576b"
             ],
             [
              0.6666666666666666,
              "#ed7953"
             ],
             [
              0.7777777777777778,
              "#fb9f3a"
             ],
             [
              0.8888888888888888,
              "#fdca26"
             ],
             [
              1,
              "#f0f921"
             ]
            ],
            "type": "heatmap"
           }
          ],
          "histogram": [
           {
            "marker": {
             "pattern": {
              "fillmode": "overlay",
              "size": 10,
              "solidity": 0.2
             }
            },
            "type": "histogram"
           }
          ],
          "histogram2d": [
           {
            "colorbar": {
             "outlinewidth": 0,
             "ticks": ""
            },
            "colorscale": [
             [
              0,
              "#0d0887"
             ],
             [
              0.1111111111111111,
              "#46039f"
             ],
             [
              0.2222222222222222,
              "#7201a8"
             ],
             [
              0.3333333333333333,
              "#9c179e"
             ],
             [
              0.4444444444444444,
              "#bd3786"
             ],
             [
              0.5555555555555556,
              "#d8576b"
             ],
             [
              0.6666666666666666,
              "#ed7953"
             ],
             [
              0.7777777777777778,
              "#fb9f3a"
             ],
             [
              0.8888888888888888,
              "#fdca26"
             ],
             [
              1,
              "#f0f921"
             ]
            ],
            "type": "histogram2d"
           }
          ],
          "histogram2dcontour": [
           {
            "colorbar": {
             "outlinewidth": 0,
             "ticks": ""
            },
            "colorscale": [
             [
              0,
              "#0d0887"
             ],
             [
              0.1111111111111111,
              "#46039f"
             ],
             [
              0.2222222222222222,
              "#7201a8"
             ],
             [
              0.3333333333333333,
              "#9c179e"
             ],
             [
              0.4444444444444444,
              "#bd3786"
             ],
             [
              0.5555555555555556,
              "#d8576b"
             ],
             [
              0.6666666666666666,
              "#ed7953"
             ],
             [
              0.7777777777777778,
              "#fb9f3a"
             ],
             [
              0.8888888888888888,
              "#fdca26"
             ],
             [
              1,
              "#f0f921"
             ]
            ],
            "type": "histogram2dcontour"
           }
          ],
          "mesh3d": [
           {
            "colorbar": {
             "outlinewidth": 0,
             "ticks": ""
            },
            "type": "mesh3d"
           }
          ],
          "parcoords": [
           {
            "line": {
             "colorbar": {
              "outlinewidth": 0,
              "ticks": ""
             }
            },
            "type": "parcoords"
           }
          ],
          "pie": [
           {
            "automargin": true,
            "type": "pie"
           }
          ],
          "scatter": [
           {
            "fillpattern": {
             "fillmode": "overlay",
             "size": 10,
             "solidity": 0.2
            },
            "type": "scatter"
           }
          ],
          "scatter3d": [
           {
            "line": {
             "colorbar": {
              "outlinewidth": 0,
              "ticks": ""
             }
            },
            "marker": {
             "colorbar": {
              "outlinewidth": 0,
              "ticks": ""
             }
            },
            "type": "scatter3d"
           }
          ],
          "scattercarpet": [
           {
            "marker": {
             "colorbar": {
              "outlinewidth": 0,
              "ticks": ""
             }
            },
            "type": "scattercarpet"
           }
          ],
          "scattergeo": [
           {
            "marker": {
             "colorbar": {
              "outlinewidth": 0,
              "ticks": ""
             }
            },
            "type": "scattergeo"
           }
          ],
          "scattergl": [
           {
            "marker": {
             "colorbar": {
              "outlinewidth": 0,
              "ticks": ""
             }
            },
            "type": "scattergl"
           }
          ],
          "scattermap": [
           {
            "marker": {
             "colorbar": {
              "outlinewidth": 0,
              "ticks": ""
             }
            },
            "type": "scattermap"
           }
          ],
          "scattermapbox": [
           {
            "marker": {
             "colorbar": {
              "outlinewidth": 0,
              "ticks": ""
             }
            },
            "type": "scattermapbox"
           }
          ],
          "scatterpolar": [
           {
            "marker": {
             "colorbar": {
              "outlinewidth": 0,
              "ticks": ""
             }
            },
            "type": "scatterpolar"
           }
          ],
          "scatterpolargl": [
           {
            "marker": {
             "colorbar": {
              "outlinewidth": 0,
              "ticks": ""
             }
            },
            "type": "scatterpolargl"
           }
          ],
          "scatterternary": [
           {
            "marker": {
             "colorbar": {
              "outlinewidth": 0,
              "ticks": ""
             }
            },
            "type": "scatterternary"
           }
          ],
          "surface": [
           {
            "colorbar": {
             "outlinewidth": 0,
             "ticks": ""
            },
            "colorscale": [
             [
              0,
              "#0d0887"
             ],
             [
              0.1111111111111111,
              "#46039f"
             ],
             [
              0.2222222222222222,
              "#7201a8"
             ],
             [
              0.3333333333333333,
              "#9c179e"
             ],
             [
              0.4444444444444444,
              "#bd3786"
             ],
             [
              0.5555555555555556,
              "#d8576b"
             ],
             [
              0.6666666666666666,
              "#ed7953"
             ],
             [
              0.7777777777777778,
              "#fb9f3a"
             ],
             [
              0.8888888888888888,
              "#fdca26"
             ],
             [
              1,
              "#f0f921"
             ]
            ],
            "type": "surface"
           }
          ],
          "table": [
           {
            "cells": {
             "fill": {
              "color": "#EBF0F8"
             },
             "line": {
              "color": "white"
             }
            },
            "header": {
             "fill": {
              "color": "#C8D4E3"
             },
             "line": {
              "color": "white"
             }
            },
            "type": "table"
           }
          ]
         },
         "layout": {
          "annotationdefaults": {
           "arrowcolor": "#2a3f5f",
           "arrowhead": 0,
           "arrowwidth": 1
          },
          "autotypenumbers": "strict",
          "coloraxis": {
           "colorbar": {
            "outlinewidth": 0,
            "ticks": ""
           }
          },
          "colorscale": {
           "diverging": [
            [
             0,
             "#8e0152"
            ],
            [
             0.1,
             "#c51b7d"
            ],
            [
             0.2,
             "#de77ae"
            ],
            [
             0.3,
             "#f1b6da"
            ],
            [
             0.4,
             "#fde0ef"
            ],
            [
             0.5,
             "#f7f7f7"
            ],
            [
             0.6,
             "#e6f5d0"
            ],
            [
             0.7,
             "#b8e186"
            ],
            [
             0.8,
             "#7fbc41"
            ],
            [
             0.9,
             "#4d9221"
            ],
            [
             1,
             "#276419"
            ]
           ],
           "sequential": [
            [
             0,
             "#0d0887"
            ],
            [
             0.1111111111111111,
             "#46039f"
            ],
            [
             0.2222222222222222,
             "#7201a8"
            ],
            [
             0.3333333333333333,
             "#9c179e"
            ],
            [
             0.4444444444444444,
             "#bd3786"
            ],
            [
             0.5555555555555556,
             "#d8576b"
            ],
            [
             0.6666666666666666,
             "#ed7953"
            ],
            [
             0.7777777777777778,
             "#fb9f3a"
            ],
            [
             0.8888888888888888,
             "#fdca26"
            ],
            [
             1,
             "#f0f921"
            ]
           ],
           "sequentialminus": [
            [
             0,
             "#0d0887"
            ],
            [
             0.1111111111111111,
             "#46039f"
            ],
            [
             0.2222222222222222,
             "#7201a8"
            ],
            [
             0.3333333333333333,
             "#9c179e"
            ],
            [
             0.4444444444444444,
             "#bd3786"
            ],
            [
             0.5555555555555556,
             "#d8576b"
            ],
            [
             0.6666666666666666,
             "#ed7953"
            ],
            [
             0.7777777777777778,
             "#fb9f3a"
            ],
            [
             0.8888888888888888,
             "#fdca26"
            ],
            [
             1,
             "#f0f921"
            ]
           ]
          },
          "colorway": [
           "#636efa",
           "#EF553B",
           "#00cc96",
           "#ab63fa",
           "#FFA15A",
           "#19d3f3",
           "#FF6692",
           "#B6E880",
           "#FF97FF",
           "#FECB52"
          ],
          "font": {
           "color": "#2a3f5f"
          },
          "geo": {
           "bgcolor": "white",
           "lakecolor": "white",
           "landcolor": "#E5ECF6",
           "showlakes": true,
           "showland": true,
           "subunitcolor": "white"
          },
          "hoverlabel": {
           "align": "left"
          },
          "hovermode": "closest",
          "mapbox": {
           "style": "light"
          },
          "paper_bgcolor": "white",
          "plot_bgcolor": "#E5ECF6",
          "polar": {
           "angularaxis": {
            "gridcolor": "white",
            "linecolor": "white",
            "ticks": ""
           },
           "bgcolor": "#E5ECF6",
           "radialaxis": {
            "gridcolor": "white",
            "linecolor": "white",
            "ticks": ""
           }
          },
          "scene": {
           "xaxis": {
            "backgroundcolor": "#E5ECF6",
            "gridcolor": "white",
            "gridwidth": 2,
            "linecolor": "white",
            "showbackground": true,
            "ticks": "",
            "zerolinecolor": "white"
           },
           "yaxis": {
            "backgroundcolor": "#E5ECF6",
            "gridcolor": "white",
            "gridwidth": 2,
            "linecolor": "white",
            "showbackground": true,
            "ticks": "",
            "zerolinecolor": "white"
           },
           "zaxis": {
            "backgroundcolor": "#E5ECF6",
            "gridcolor": "white",
            "gridwidth": 2,
            "linecolor": "white",
            "showbackground": true,
            "ticks": "",
            "zerolinecolor": "white"
           }
          },
          "shapedefaults": {
           "line": {
            "color": "#2a3f5f"
           }
          },
          "ternary": {
           "aaxis": {
            "gridcolor": "white",
            "linecolor": "white",
            "ticks": ""
           },
           "baxis": {
            "gridcolor": "white",
            "linecolor": "white",
            "ticks": ""
           },
           "bgcolor": "#E5ECF6",
           "caxis": {
            "gridcolor": "white",
            "linecolor": "white",
            "ticks": ""
           }
          },
          "title": {
           "x": 0.05
          },
          "xaxis": {
           "automargin": true,
           "gridcolor": "white",
           "linecolor": "white",
           "ticks": "",
           "title": {
            "standoff": 15
           },
           "zerolinecolor": "white",
           "zerolinewidth": 2
          },
          "yaxis": {
           "automargin": true,
           "gridcolor": "white",
           "linecolor": "white",
           "ticks": "",
           "title": {
            "standoff": 15
           },
           "zerolinecolor": "white",
           "zerolinewidth": 2
          }
         }
        },
        "title": {
         "font": {
          "family": "Teleneo",
          "size": 22
         },
         "text": "Contract Lifecycle Analysis",
         "x": 0.5,
         "xanchor": "center"
        },
        "width": 1400,
        "xaxis": {
         "anchor": "y",
         "domain": [
          0,
          0.94
         ],
         "title": {
          "font": {
           "size": 18
          },
          "text": "Contract Lifetime (Months)"
         }
        },
        "xaxis2": {
         "anchor": "y2",
         "domain": [
          0,
          0.94
         ],
         "title": {
          "font": {
           "size": 18
          },
          "text": "Contract Lifetime (Months)"
         }
        },
        "yaxis": {
         "anchor": "x",
         "domain": [
          0.6000000000000001,
          1
         ],
         "title": {
          "font": {
           "size": 18
          },
          "text": "Number of Contracts"
         }
        },
        "yaxis2": {
         "anchor": "x2",
         "domain": [
          0,
          0.4
         ],
         "title": {
          "font": {
           "size": 18
          },
          "text": "Upselling Rate (%)"
         }
        },
        "yaxis3": {
         "anchor": "x2",
         "overlaying": "y2",
         "side": "right",
         "title": {
          "font": {
           "size": 18
          },
          "text": "Average Completion Rate (%)"
         }
        }
       }
      }
     },
     "metadata": {},
     "output_type": "display_data"
    }
   ],
   "source": [
    "# Create contract lifetime bins (in days, then convert to months for display)\n",
    "lifetime_bins = list(range(0, 1860, 200))\n",
    "lifetime_labels = [f\"{lifetime_bins[i]//30}-{(lifetime_bins[i+1]-1)//30}m\" for i in range(len(lifetime_bins)-1)]\n",
    "\n",
    "# Create lifetime analysis\n",
    "binned_lifetime_data = core_data.with_columns(\n",
    "    pl.when(pl.col(\"contract_lifetime_days\") < 0).then(pl.lit('0-'))\n",
    "    .otherwise(pl.lit('1860+'))\n",
    "    .alias(\"lifetime_bin\")\n",
    ")\n",
    "\n",
    "for i in range(len(lifetime_bins)-1):\n",
    "    binned_lifetime_data = binned_lifetime_data.with_columns(\n",
    "        pl.when(pl.col(\"contract_lifetime_days\").is_between(lifetime_bins[i], lifetime_bins[i+1], closed=\"left\")).then(pl.lit(lifetime_labels[i]))\n",
    "        .otherwise(pl.col('lifetime_bin'))\n",
    "        .alias(\"lifetime_bin\")\n",
    "    )\n",
    "\n",
    "# Calculate lifecycle metrics and sort properly\n",
    "lifecycle_analysis = binned_lifetime_data.group_by(\"lifetime_bin\").agg([\n",
    "    pl.len().alias(\"total_contracts\"),\n",
    "    (pl.col(\"has_done_upselling\").mean() * 100).round(2).alias(\"upselling_rate\"),\n",
    "    pl.col(\"gross_mrc\").mean().round(2).alias(\"avg_revenue\"),\n",
    "    pl.col(\"completion_rate\").mean().round(2).alias(\"avg_completion_rate\")\n",
    "])\n",
    "\n",
    "# Remove outlier bins\n",
    "lifecycle_analysis = lifecycle_analysis.filter(~pl.col('lifetime_bin').is_in(['0-', '1860+']))\n",
    "\n",
    "# Create proper sorting order\n",
    "sort_order = [f\"{lifetime_bins[i]//30}-{(lifetime_bins[i+1]-1)//30}m\" for i in range(len(lifetime_bins)-1)]\n",
    "\n",
    "# Sort by converting to a numeric representation for proper ordering\n",
    "def get_sort_key(bin_label):\n",
    "    if bin_label in ['0-', '1860+']:\n",
    "        return -1 if bin_label == '0-' else 999\n",
    "    # Extract the first number from the label (e.g., \"0-6m\" -> 0)\n",
    "    return int(bin_label.split('-')[0])\n",
    "\n",
    "lifecycle_analysis = lifecycle_analysis.with_columns(\n",
    "    pl.col(\"lifetime_bin\").map_elements(lambda x: get_sort_key(x), return_dtype=pl.Int32).alias(\"sort_key\")\n",
    ").sort(\"sort_key\").drop(\"sort_key\")\n",
    "\n",
    "# Create combined visualization\n",
    "fig = make_subplots(\n",
    "    rows=2, cols=1,\n",
    "    subplot_titles=(\n",
    "        'Contract Distribution by Lifetime (Months)',\n",
    "        'Upselling Success Rate vs Contract Maturity'\n",
    "    ),\n",
    "    vertical_spacing=0.2,\n",
    "    specs=[[{\"secondary_y\": False}], [{\"secondary_y\": True}]]\n",
    ")\n",
    "\n",
    "# Contract distribution\n",
    "fig.add_trace(\n",
    "    go.Bar(\n",
    "        x=lifecycle_analysis['lifetime_bin'],\n",
    "        y=lifecycle_analysis['total_contracts'],\n",
    "        name='Contract Count',\n",
    "        marker_color=MAGENTA_COLOR,\n",
    "        text=[f'{x:,}' for x in lifecycle_analysis['total_contracts']],\n",
    "        textposition='auto',\n",
    "        textfont=dict(size=16)\n",
    "    ),\n",
    "    row=1, col=1\n",
    ")\n",
    "\n",
    "# Upselling rate\n",
    "fig.add_trace(\n",
    "    go.Scatter(\n",
    "        x=lifecycle_analysis['lifetime_bin'],\n",
    "        y=lifecycle_analysis['upselling_rate'],\n",
    "        mode='lines+markers',\n",
    "        name='Upselling Rate (%)',\n",
    "        line=dict(color=MAGENTA_COLOR, width=3),\n",
    "        marker=dict(size=8, color=MAGENTA_COLOR),\n",
    "        text=[f'{x:.1f}%' for x in lifecycle_analysis['upselling_rate']],\n",
    "        textposition='top center',\n",
    "        textfont=dict(size=16)\n",
    "    ),\n",
    "    row=2, col=1\n",
    ")\n",
    "\n",
    "# Completion rate on secondary y-axis\n",
    "fig.add_trace(\n",
    "    go.Scatter(\n",
    "        x=lifecycle_analysis['lifetime_bin'],\n",
    "        y=lifecycle_analysis['avg_completion_rate'] * 100,\n",
    "        mode='lines+markers',\n",
    "        name='Avg Completion Rate (%)',\n",
    "        line=dict(color=MAGENTA_LIGHT, width=2, dash='dash'),\n",
    "        marker=dict(size=6, color=MAGENTA_LIGHT),\n",
    "    ),\n",
    "    row=2, col=1,\n",
    "    secondary_y=True\n",
    ")\n",
    "\n",
    "fig.update_xaxes(title_text=\"Contract Lifetime (Months)\", row=1, col=1, title_font=dict(size=18))\n",
    "fig.update_yaxes(title_text=\"Number of Contracts\", row=1, col=1, title_font=dict(size=18))\n",
    "fig.update_xaxes(title_text=\"Contract Lifetime (Months)\", row=2, col=1, title_font=dict(size=18))\n",
    "fig.update_yaxes(title_text=\"Upselling Rate (%)\", row=2, col=1, title_font=dict(size=18))\n",
    "\n",
    "fig.update_yaxes(title_text=\"Average Completion Rate (%)\", secondary_y=True, row=2, col=1, title_font=dict(size=18))\n",
    "\n",
    "fig.update_layout(\n",
    "    title={\n",
    "        'text': 'Contract Lifecycle Analysis',\n",
    "        'x': 0.5,\n",
    "        'xanchor': 'center',\n",
    "        'font': {'size': 22, 'family': FONT_FAMILY}\n",
    "    },\n",
    "    height=800,\n",
    "    width=1400,\n",
    "    plot_bgcolor='rgba(0,0,0,0)',\n",
    "    paper_bgcolor='rgb(250,250,250)',\n",
    "    showlegend=True,\n",
    "    font=dict(family=FONT_FAMILY, size=16),\n",
    "    legend=dict(\n",
    "        orientation=\"h\",\n",
    "        yanchor=\"bottom\",\n",
    "        y=1.02,\n",
    "        xanchor=\"right\",\n",
    "        x=1,\n",
    "        font=dict(size=16)\n",
    "    )\n",
    ")\n",
    "\n",
    "fig.show()\n",
    "# Save as PDF (high quality for printing)\n",
    "fig.write_image(images_dir / \"contract_lifetime.pdf\", \n",
    "                width=1400, height=800, scale=2)"
   ]
  },
  {
   "cell_type": "markdown",
   "metadata": {},
   "source": [
    "## 5. Data Plan Analysis"
   ]
  },
  {
   "cell_type": "code",
   "execution_count": 40,
   "metadata": {},
   "outputs": [
    {
     "data": {
      "application/vnd.plotly.v1+json": {
       "config": {
        "plotlyServerURL": "https://plot.ly"
       },
       "data": [
        {
         "customdata": [
          [
           "Budget (€0-20)",
           23813,
           25.03,
           30.24,
           29.71
          ],
          [
           "Standard (€20-35)",
           22196,
           24.95,
           30.09,
           30.07
          ],
          [
           "Premium (€35-50)",
           21894,
           25.08,
           29.41,
           29.76
          ],
          [
           "Enterprise (€50+)",
           32097,
           24.95,
           29.94,
           30.19
          ]
         ],
         "hovertemplate": "<b>%{customdata[0]}</b><br>Avg Revenue: €%{x:.0f}<br>Upselling Rate: %{y:.1f}%<br>Total Contracts: %{customdata[1]:,}<br>Avg Data: %{customdata[2]:.0f} GB<br>Magenta1 Rate: %{customdata[3]:.1f}%<br>Special Offers: %{customdata[4]:.1f}%<br><extra></extra>",
         "marker": {
          "color": [
           "#95A5A6",
           "#E74C3C",
           "#E91E63",
           "#8E24AA"
          ],
          "line": {
           "color": "white",
           "width": 3
          },
          "opacity": 0.8,
          "size": [
           100,
           100,
           100,
           100
          ],
          "sizemode": "diameter"
         },
         "mode": "markers+text",
         "name": "Customer Segments",
         "text": [
          "Budget<br>23,813 contracts",
          "Standard<br>22,196 contracts",
          "Premium<br>21,894 contracts",
          "Enterprise<br>32,097 contracts"
         ],
         "textfont": {
          "color": "black",
          "family": "Teleneo",
          "size": 16,
          "weight": "bold"
         },
         "textposition": "middle center",
         "type": "scatter",
         "x": {
          "bdata": "exSuR+F6KECF61G4HoU7QBSuR+F6FEVACtejcD0KTkA=",
          "dtype": "f8"
         },
         "y": {
          "bdata": "pHA9CtejH0CkcD0K16MfQAAAAAAAABlAcT0K16NwGUA=",
          "dtype": "f8"
         }
        }
       ],
       "layout": {
        "annotations": [
         {
          "align": "right",
          "bgcolor": "rgba(255,255,255,0.9)",
          "bordercolor": "#BDC3C7",
          "borderpad": 10,
          "borderwidth": 1,
          "font": {
           "color": "#2C3E50",
           "family": "Teleneo",
           "size": 16
          },
          "showarrow": false,
          "text": "<b>Quadrant Analysis:</b><br>• Top Right: High Value, High Upselling<br>• Top Left: Low Value, High Upselling<br>• Bottom Right: High Value, Low Upselling<br>• Bottom Left: Low Value, Low Upselling",
          "x": 0.9,
          "xanchor": "right",
          "xref": "paper",
          "y": 0.9,
          "yanchor": "top",
          "yref": "paper"
         },
         {
          "align": "right",
          "bgcolor": "rgba(255,255,255,0.9)",
          "bordercolor": "#BDC3C7",
          "borderpad": 10,
          "borderwidth": 1,
          "font": {
           "color": "#2C3E50",
           "family": "Teleneo",
           "size": 16
          },
          "showarrow": false,
          "text": "<b>Quadrant Analysis:</b><br>• Top Right: High Value, High Upselling<br>• Top Left: Low Value, High Upselling<br>• Bottom Right: High Value, Low Upselling<br>• Bottom Left: Low Value, Low Upselling",
          "x": 0.9,
          "xanchor": "right",
          "xref": "paper",
          "y": 0.9,
          "yanchor": "top",
          "yref": "paper"
         }
        ],
        "font": {
         "color": "#2C3E50",
         "family": "Teleneo",
         "size": 16
        },
        "height": 700,
        "paper_bgcolor": "white",
        "plot_bgcolor": "rgba(0,0,0,0)",
        "shapes": [
         {
          "line": {
           "color": "gray",
           "dash": "dash"
          },
          "opacity": 0.5,
          "type": "line",
          "x0": 0,
          "x1": 1,
          "xref": "x domain",
          "y0": 7.1075,
          "y1": 7.1075,
          "yref": "y"
         },
         {
          "line": {
           "color": "gray",
           "dash": "dash"
          },
          "opacity": 0.5,
          "type": "line",
          "x0": 35.5,
          "x1": 35.5,
          "xref": "x",
          "y0": 0,
          "y1": 1,
          "yref": "y domain"
         }
        ],
        "showlegend": false,
        "template": {
         "data": {
          "bar": [
           {
            "error_x": {
             "color": "#2a3f5f"
            },
            "error_y": {
             "color": "#2a3f5f"
            },
            "marker": {
             "line": {
              "color": "#E5ECF6",
              "width": 0.5
             },
             "pattern": {
              "fillmode": "overlay",
              "size": 10,
              "solidity": 0.2
             }
            },
            "type": "bar"
           }
          ],
          "barpolar": [
           {
            "marker": {
             "line": {
              "color": "#E5ECF6",
              "width": 0.5
             },
             "pattern": {
              "fillmode": "overlay",
              "size": 10,
              "solidity": 0.2
             }
            },
            "type": "barpolar"
           }
          ],
          "carpet": [
           {
            "aaxis": {
             "endlinecolor": "#2a3f5f",
             "gridcolor": "white",
             "linecolor": "white",
             "minorgridcolor": "white",
             "startlinecolor": "#2a3f5f"
            },
            "baxis": {
             "endlinecolor": "#2a3f5f",
             "gridcolor": "white",
             "linecolor": "white",
             "minorgridcolor": "white",
             "startlinecolor": "#2a3f5f"
            },
            "type": "carpet"
           }
          ],
          "choropleth": [
           {
            "colorbar": {
             "outlinewidth": 0,
             "ticks": ""
            },
            "type": "choropleth"
           }
          ],
          "contour": [
           {
            "colorbar": {
             "outlinewidth": 0,
             "ticks": ""
            },
            "colorscale": [
             [
              0,
              "#0d0887"
             ],
             [
              0.1111111111111111,
              "#46039f"
             ],
             [
              0.2222222222222222,
              "#7201a8"
             ],
             [
              0.3333333333333333,
              "#9c179e"
             ],
             [
              0.4444444444444444,
              "#bd3786"
             ],
             [
              0.5555555555555556,
              "#d8576b"
             ],
             [
              0.6666666666666666,
              "#ed7953"
             ],
             [
              0.7777777777777778,
              "#fb9f3a"
             ],
             [
              0.8888888888888888,
              "#fdca26"
             ],
             [
              1,
              "#f0f921"
             ]
            ],
            "type": "contour"
           }
          ],
          "contourcarpet": [
           {
            "colorbar": {
             "outlinewidth": 0,
             "ticks": ""
            },
            "type": "contourcarpet"
           }
          ],
          "heatmap": [
           {
            "colorbar": {
             "outlinewidth": 0,
             "ticks": ""
            },
            "colorscale": [
             [
              0,
              "#0d0887"
             ],
             [
              0.1111111111111111,
              "#46039f"
             ],
             [
              0.2222222222222222,
              "#7201a8"
             ],
             [
              0.3333333333333333,
              "#9c179e"
             ],
             [
              0.4444444444444444,
              "#bd3786"
             ],
             [
              0.5555555555555556,
              "#d8576b"
             ],
             [
              0.6666666666666666,
              "#ed7953"
             ],
             [
              0.7777777777777778,
              "#fb9f3a"
             ],
             [
              0.8888888888888888,
              "#fdca26"
             ],
             [
              1,
              "#f0f921"
             ]
            ],
            "type": "heatmap"
           }
          ],
          "histogram": [
           {
            "marker": {
             "pattern": {
              "fillmode": "overlay",
              "size": 10,
              "solidity": 0.2
             }
            },
            "type": "histogram"
           }
          ],
          "histogram2d": [
           {
            "colorbar": {
             "outlinewidth": 0,
             "ticks": ""
            },
            "colorscale": [
             [
              0,
              "#0d0887"
             ],
             [
              0.1111111111111111,
              "#46039f"
             ],
             [
              0.2222222222222222,
              "#7201a8"
             ],
             [
              0.3333333333333333,
              "#9c179e"
             ],
             [
              0.4444444444444444,
              "#bd3786"
             ],
             [
              0.5555555555555556,
              "#d8576b"
             ],
             [
              0.6666666666666666,
              "#ed7953"
             ],
             [
              0.7777777777777778,
              "#fb9f3a"
             ],
             [
              0.8888888888888888,
              "#fdca26"
             ],
             [
              1,
              "#f0f921"
             ]
            ],
            "type": "histogram2d"
           }
          ],
          "histogram2dcontour": [
           {
            "colorbar": {
             "outlinewidth": 0,
             "ticks": ""
            },
            "colorscale": [
             [
              0,
              "#0d0887"
             ],
             [
              0.1111111111111111,
              "#46039f"
             ],
             [
              0.2222222222222222,
              "#7201a8"
             ],
             [
              0.3333333333333333,
              "#9c179e"
             ],
             [
              0.4444444444444444,
              "#bd3786"
             ],
             [
              0.5555555555555556,
              "#d8576b"
             ],
             [
              0.6666666666666666,
              "#ed7953"
             ],
             [
              0.7777777777777778,
              "#fb9f3a"
             ],
             [
              0.8888888888888888,
              "#fdca26"
             ],
             [
              1,
              "#f0f921"
             ]
            ],
            "type": "histogram2dcontour"
           }
          ],
          "mesh3d": [
           {
            "colorbar": {
             "outlinewidth": 0,
             "ticks": ""
            },
            "type": "mesh3d"
           }
          ],
          "parcoords": [
           {
            "line": {
             "colorbar": {
              "outlinewidth": 0,
              "ticks": ""
             }
            },
            "type": "parcoords"
           }
          ],
          "pie": [
           {
            "automargin": true,
            "type": "pie"
           }
          ],
          "scatter": [
           {
            "fillpattern": {
             "fillmode": "overlay",
             "size": 10,
             "solidity": 0.2
            },
            "type": "scatter"
           }
          ],
          "scatter3d": [
           {
            "line": {
             "colorbar": {
              "outlinewidth": 0,
              "ticks": ""
             }
            },
            "marker": {
             "colorbar": {
              "outlinewidth": 0,
              "ticks": ""
             }
            },
            "type": "scatter3d"
           }
          ],
          "scattercarpet": [
           {
            "marker": {
             "colorbar": {
              "outlinewidth": 0,
              "ticks": ""
             }
            },
            "type": "scattercarpet"
           }
          ],
          "scattergeo": [
           {
            "marker": {
             "colorbar": {
              "outlinewidth": 0,
              "ticks": ""
             }
            },
            "type": "scattergeo"
           }
          ],
          "scattergl": [
           {
            "marker": {
             "colorbar": {
              "outlinewidth": 0,
              "ticks": ""
             }
            },
            "type": "scattergl"
           }
          ],
          "scattermap": [
           {
            "marker": {
             "colorbar": {
              "outlinewidth": 0,
              "ticks": ""
             }
            },
            "type": "scattermap"
           }
          ],
          "scattermapbox": [
           {
            "marker": {
             "colorbar": {
              "outlinewidth": 0,
              "ticks": ""
             }
            },
            "type": "scattermapbox"
           }
          ],
          "scatterpolar": [
           {
            "marker": {
             "colorbar": {
              "outlinewidth": 0,
              "ticks": ""
             }
            },
            "type": "scatterpolar"
           }
          ],
          "scatterpolargl": [
           {
            "marker": {
             "colorbar": {
              "outlinewidth": 0,
              "ticks": ""
             }
            },
            "type": "scatterpolargl"
           }
          ],
          "scatterternary": [
           {
            "marker": {
             "colorbar": {
              "outlinewidth": 0,
              "ticks": ""
             }
            },
            "type": "scatterternary"
           }
          ],
          "surface": [
           {
            "colorbar": {
             "outlinewidth": 0,
             "ticks": ""
            },
            "colorscale": [
             [
              0,
              "#0d0887"
             ],
             [
              0.1111111111111111,
              "#46039f"
             ],
             [
              0.2222222222222222,
              "#7201a8"
             ],
             [
              0.3333333333333333,
              "#9c179e"
             ],
             [
              0.4444444444444444,
              "#bd3786"
             ],
             [
              0.5555555555555556,
              "#d8576b"
             ],
             [
              0.6666666666666666,
              "#ed7953"
             ],
             [
              0.7777777777777778,
              "#fb9f3a"
             ],
             [
              0.8888888888888888,
              "#fdca26"
             ],
             [
              1,
              "#f0f921"
             ]
            ],
            "type": "surface"
           }
          ],
          "table": [
           {
            "cells": {
             "fill": {
              "color": "#EBF0F8"
             },
             "line": {
              "color": "white"
             }
            },
            "header": {
             "fill": {
              "color": "#C8D4E3"
             },
             "line": {
              "color": "white"
             }
            },
            "type": "table"
           }
          ]
         },
         "layout": {
          "annotationdefaults": {
           "arrowcolor": "#2a3f5f",
           "arrowhead": 0,
           "arrowwidth": 1
          },
          "autotypenumbers": "strict",
          "coloraxis": {
           "colorbar": {
            "outlinewidth": 0,
            "ticks": ""
           }
          },
          "colorscale": {
           "diverging": [
            [
             0,
             "#8e0152"
            ],
            [
             0.1,
             "#c51b7d"
            ],
            [
             0.2,
             "#de77ae"
            ],
            [
             0.3,
             "#f1b6da"
            ],
            [
             0.4,
             "#fde0ef"
            ],
            [
             0.5,
             "#f7f7f7"
            ],
            [
             0.6,
             "#e6f5d0"
            ],
            [
             0.7,
             "#b8e186"
            ],
            [
             0.8,
             "#7fbc41"
            ],
            [
             0.9,
             "#4d9221"
            ],
            [
             1,
             "#276419"
            ]
           ],
           "sequential": [
            [
             0,
             "#0d0887"
            ],
            [
             0.1111111111111111,
             "#46039f"
            ],
            [
             0.2222222222222222,
             "#7201a8"
            ],
            [
             0.3333333333333333,
             "#9c179e"
            ],
            [
             0.4444444444444444,
             "#bd3786"
            ],
            [
             0.5555555555555556,
             "#d8576b"
            ],
            [
             0.6666666666666666,
             "#ed7953"
            ],
            [
             0.7777777777777778,
             "#fb9f3a"
            ],
            [
             0.8888888888888888,
             "#fdca26"
            ],
            [
             1,
             "#f0f921"
            ]
           ],
           "sequentialminus": [
            [
             0,
             "#0d0887"
            ],
            [
             0.1111111111111111,
             "#46039f"
            ],
            [
             0.2222222222222222,
             "#7201a8"
            ],
            [
             0.3333333333333333,
             "#9c179e"
            ],
            [
             0.4444444444444444,
             "#bd3786"
            ],
            [
             0.5555555555555556,
             "#d8576b"
            ],
            [
             0.6666666666666666,
             "#ed7953"
            ],
            [
             0.7777777777777778,
             "#fb9f3a"
            ],
            [
             0.8888888888888888,
             "#fdca26"
            ],
            [
             1,
             "#f0f921"
            ]
           ]
          },
          "colorway": [
           "#636efa",
           "#EF553B",
           "#00cc96",
           "#ab63fa",
           "#FFA15A",
           "#19d3f3",
           "#FF6692",
           "#B6E880",
           "#FF97FF",
           "#FECB52"
          ],
          "font": {
           "color": "#2a3f5f"
          },
          "geo": {
           "bgcolor": "white",
           "lakecolor": "white",
           "landcolor": "#E5ECF6",
           "showlakes": true,
           "showland": true,
           "subunitcolor": "white"
          },
          "hoverlabel": {
           "align": "left"
          },
          "hovermode": "closest",
          "mapbox": {
           "style": "light"
          },
          "paper_bgcolor": "white",
          "plot_bgcolor": "#E5ECF6",
          "polar": {
           "angularaxis": {
            "gridcolor": "white",
            "linecolor": "white",
            "ticks": ""
           },
           "bgcolor": "#E5ECF6",
           "radialaxis": {
            "gridcolor": "white",
            "linecolor": "white",
            "ticks": ""
           }
          },
          "scene": {
           "xaxis": {
            "backgroundcolor": "#E5ECF6",
            "gridcolor": "white",
            "gridwidth": 2,
            "linecolor": "white",
            "showbackground": true,
            "ticks": "",
            "zerolinecolor": "white"
           },
           "yaxis": {
            "backgroundcolor": "#E5ECF6",
            "gridcolor": "white",
            "gridwidth": 2,
            "linecolor": "white",
            "showbackground": true,
            "ticks": "",
            "zerolinecolor": "white"
           },
           "zaxis": {
            "backgroundcolor": "#E5ECF6",
            "gridcolor": "white",
            "gridwidth": 2,
            "linecolor": "white",
            "showbackground": true,
            "ticks": "",
            "zerolinecolor": "white"
           }
          },
          "shapedefaults": {
           "line": {
            "color": "#2a3f5f"
           }
          },
          "ternary": {
           "aaxis": {
            "gridcolor": "white",
            "linecolor": "white",
            "ticks": ""
           },
           "baxis": {
            "gridcolor": "white",
            "linecolor": "white",
            "ticks": ""
           },
           "bgcolor": "#E5ECF6",
           "caxis": {
            "gridcolor": "white",
            "linecolor": "white",
            "ticks": ""
           }
          },
          "title": {
           "x": 0.05
          },
          "xaxis": {
           "automargin": true,
           "gridcolor": "white",
           "linecolor": "white",
           "ticks": "",
           "title": {
            "standoff": 15
           },
           "zerolinecolor": "white",
           "zerolinewidth": 2
          },
          "yaxis": {
           "automargin": true,
           "gridcolor": "white",
           "linecolor": "white",
           "ticks": "",
           "title": {
            "standoff": 15
           },
           "zerolinecolor": "white",
           "zerolinewidth": 2
          }
         }
        },
        "title": {
         "font": {
          "color": "#2C3E50",
          "family": "Teleneo",
          "size": 24
         },
         "text": "Customer Value Segmentation Analysis<br><sub>Bubble size represents number of contracts</sub>",
         "x": 0.5,
         "xanchor": "center"
        },
        "width": 1200,
        "xaxis": {
         "gridcolor": "lightgray",
         "gridwidth": 1,
         "linecolor": "#2C3E50",
         "linewidth": 2,
         "showline": true,
         "tickfont": {
          "size": 16
         },
         "title": {
          "text": "Average Monthly Revenue (€)"
         },
         "zeroline": false
        },
        "yaxis": {
         "gridcolor": "lightgray",
         "gridwidth": 1,
         "linecolor": "#2C3E50",
         "linewidth": 2,
         "showline": true,
         "tickfont": {
          "size": 16
         },
         "title": {
          "text": "Upselling Success Rate (%)"
         },
         "zeroline": false
        }
       }
      }
     },
     "metadata": {},
     "output_type": "display_data"
    },
    {
     "name": "stdout",
     "output_type": "stream",
     "text": [
      "Analysis\n",
      "\n",
      "Budget (€0-20):\n",
      "  • 23,813 contracts (23.8% of portfolio)\n",
      "  • Upselling Rate: 7.9%\n",
      "  • Average Revenue: €12\n",
      "  • Average Data Usage: 25 GB\n",
      "\n",
      "Standard (€20-35):\n",
      "  • 22,196 contracts (22.2% of portfolio)\n",
      "  • Upselling Rate: 7.9%\n",
      "  • Average Revenue: €28\n",
      "  • Average Data Usage: 25 GB\n",
      "\n",
      "Premium (€35-50):\n",
      "  • 21,894 contracts (21.9% of portfolio)\n",
      "  • Upselling Rate: 6.2%\n",
      "  • Average Revenue: €42\n",
      "  • Average Data Usage: 25 GB\n",
      "\n",
      "Enterprise (€50+):\n",
      "  • 32,097 contracts (32.1% of portfolio)\n",
      "  • Upselling Rate: 6.4%\n",
      "  • Average Revenue: €60\n",
      "  • Average Data Usage: 25 GB\n",
      "\n",
      "Statistics:\n",
      "============================================================\n",
      "• Best Segment: Enterprise (€50+) (€60 avg revenue, 6.4% upselling)\n",
      "• Largest Segment: Enterprise (€50+) (32,097 contracts)\n",
      "============================================================\n"
     ]
    }
   ],
   "source": [
    "## Define revenue bins and labels for segmentation\n",
    "revenue_bins = [0, 20, 35, 50, 100]\n",
    "revenue_labels = [\n",
    "    'Budget (€0-20)',\n",
    "    'Standard (€20-35)',\n",
    "    'Premium (€35-50)',\n",
    "    'Enterprise (€50+)'\n",
    "]\n",
    "\n",
    "## Create revenue segmentation with clear logic\n",
    "binned_revenue_data = core_data.with_columns(\n",
    "    pl.when(pl.col(\"gross_mrc\") < 0).then(pl.lit('Budget (€0-20)'))\n",
    "    .otherwise(pl.lit('Enterprise (€50+)'))\n",
    "    .alias(\"revenue_segment\")\n",
    ")\n",
    "\n",
    "for i in range(len(revenue_bins) - 1):\n",
    "    binned_revenue_data = binned_revenue_data.with_columns(\n",
    "        pl.when(\n",
    "            pl.col(\"gross_mrc\").is_between(\n",
    "                revenue_bins[i], revenue_bins[i + 1], closed=\"left\"\n",
    "            )\n",
    "        )\n",
    "        .then(pl.lit(revenue_labels[i]))\n",
    "        .otherwise(pl.col('revenue_segment'))\n",
    "        .alias(\"revenue_segment\")\n",
    "    )\n",
    "\n",
    "## Aggregate data for segment analysis\n",
    "segment_analysis = binned_revenue_data.group_by(\"revenue_segment\").agg([\n",
    "    pl.len().alias('total_contracts'),\n",
    "    (pl.col('has_done_upselling').mean() * 100).round(2).alias('upselling_rate'),\n",
    "    pl.col('gross_mrc').mean().round(2).alias('avg_revenue'),\n",
    "    pl.col('available_gb').mean().round(2).alias('avg_data_gb'),\n",
    "    (pl.col('is_magenta1_customer').mean() * 100).round(2).alias('magenta1_rate'),\n",
    "    (pl.col('has_special_offer').mean() * 100).round(2).alias('special_offer_rate')\n",
    "]).sort('avg_revenue')\n",
    "\n",
    "## Visualization: Bubble chart setup with increased font sizes\n",
    "fig = go.Figure()\n",
    "\n",
    "segment_colors = ['#95A5A6', '#E74C3C', '#E91E63', '#8E24AA']\n",
    "\n",
    "marker_sizes = [\n",
    "    max(30, min(100, contracts / 200))\n",
    "    for contracts in segment_analysis['total_contracts']\n",
    "]\n",
    "\n",
    "fig.add_trace(go.Scatter(\n",
    "    x=segment_analysis['avg_revenue'],\n",
    "    y=segment_analysis['upselling_rate'],\n",
    "    mode='markers+text',\n",
    "    marker=dict(\n",
    "        size=marker_sizes,\n",
    "        color=segment_colors,\n",
    "        opacity=0.8,\n",
    "        sizemode='diameter',\n",
    "        line=dict(width=3, color='white')\n",
    "    ),\n",
    "    text=[\n",
    "        f\"{segment.split('(')[0].strip()}<br>{contracts:,} contracts\"\n",
    "        for segment, contracts in zip(\n",
    "            segment_analysis['revenue_segment'], segment_analysis['total_contracts']\n",
    "        )\n",
    "    ],\n",
    "    textposition='middle center',\n",
    "    textfont=dict(color='black', size=16, family=FONT_FAMILY, weight='bold'),  # Increased font size\n",
    "    hovertemplate=(\n",
    "        '<b>%{customdata[0]}</b><br>'\n",
    "        'Avg Revenue: €%{x:.0f}<br>'\n",
    "        'Upselling Rate: %{y:.1f}%<br>'\n",
    "        'Total Contracts: %{customdata[1]:,}<br>'\n",
    "        'Avg Data: %{customdata[2]:.0f} GB<br>'\n",
    "        'Magenta1 Rate: %{customdata[3]:.1f}%<br>'\n",
    "        'Special Offers: %{customdata[4]:.1f}%<br>'\n",
    "        '<extra></extra>'\n",
    "    ),\n",
    "    customdata=list(zip(\n",
    "        segment_analysis['revenue_segment'],\n",
    "        segment_analysis['total_contracts'],\n",
    "        segment_analysis['avg_data_gb'],\n",
    "        segment_analysis['magenta1_rate'],\n",
    "        segment_analysis['special_offer_rate']\n",
    "    )),\n",
    "    name='Customer Segments'\n",
    "))\n",
    "\n",
    "## Add quadrant reference lines\n",
    "fig.add_hline(\n",
    "    y=segment_analysis['upselling_rate'].mean(),\n",
    "    line_dash=\"dash\",\n",
    "    line_color=\"gray\",\n",
    "    opacity=0.5,\n",
    "    annotation_text=\"Avg Upselling Rate\",\n",
    "    annotation_position=\"bottom right\"\n",
    ")\n",
    "fig.add_vline(\n",
    "    x=segment_analysis['avg_revenue'].mean(),\n",
    "    line_dash=\"dash\",\n",
    "    line_color=\"gray\",\n",
    "    opacity=0.5,\n",
    "    annotation_text=\"Avg Revenue\",\n",
    "    annotation_position=\"top left\"\n",
    ")\n",
    "\n",
    "## Layout improvements with font size increased to 16\n",
    "fig.update_layout(\n",
    "    title={\n",
    "        'text': 'Customer Value Segmentation Analysis<br><sub>Bubble size represents number of contracts</sub>',\n",
    "        'x': 0.5,\n",
    "        'xanchor': 'center',\n",
    "        'font': {'size': 24, 'family': FONT_FAMILY, 'color': '#2C3E50'}  # Larger title font size\n",
    "    },\n",
    "    xaxis_title='Average Monthly Revenue (€)',\n",
    "    yaxis_title='Upselling Success Rate (%)',\n",
    "    height=700,\n",
    "    width=1200,\n",
    "    plot_bgcolor='rgba(0,0,0,0)',\n",
    "    paper_bgcolor='white',\n",
    "    showlegend=False,\n",
    "    font=dict(family=FONT_FAMILY, size=16, color='#2C3E50'),  # Increase axis and tick font size\n",
    "    xaxis=dict(\n",
    "        gridcolor='lightgray',\n",
    "        gridwidth=1,\n",
    "        zeroline=False,\n",
    "        showline=True,\n",
    "        linewidth=2,\n",
    "        linecolor='#2C3E50',\n",
    "        tickfont=dict(size=16)\n",
    "    ),\n",
    "    yaxis=dict(\n",
    "        gridcolor='lightgray',\n",
    "        gridwidth=1,\n",
    "        zeroline=False,\n",
    "        showline=True,\n",
    "        linewidth=2,\n",
    "        linecolor='#2C3E50',\n",
    "        tickfont=dict(size=16)\n",
    "    ),\n",
    "    annotations=[\n",
    "        dict(\n",
    "            x=0.9,\n",
    "            y=0.9,\n",
    "            xref='paper',\n",
    "            yref='paper',\n",
    "            text=(\n",
    "                '<b>Quadrant Analysis:</b><br>'\n",
    "                '• Top Right: High Value, High Upselling<br>'\n",
    "                '• Top Left: Low Value, High Upselling<br>'\n",
    "                '• Bottom Right: High Value, Low Upselling<br>'\n",
    "                '• Bottom Left: Low Value, Low Upselling'\n",
    "            ),\n",
    "            showarrow=False,\n",
    "            font=dict(size=16, color='#2C3E50', family=FONT_FAMILY),\n",
    "            align='right',\n",
    "            bgcolor='rgba(255,255,255,0.9)',\n",
    "            bordercolor='#BDC3C7',\n",
    "            borderwidth=1,\n",
    "            borderpad=10\n",
    "        )\n",
    "    ]\n",
    ")\n",
    "\n",
    "fig.show()\n",
    "\n",
    "fig.write_image(images_dir / \"customer_value_segmentation.pdf\", width=1400, height=900, scale=2)\n",
    "\n",
    "## Summary Table Output with larger font in print statements if needed (depends on console)\n",
    "print(\"Analysis\\n\")\n",
    "\n",
    "total_contracts = core_data.shape[0]\n",
    "segment_data = segment_analysis.rows()\n",
    "\n",
    "for row in segment_data:\n",
    "    segment, contracts, upselling_rate, avg_revenue, avg_data, magenta1_rate, special_offer_rate = row\n",
    "    print(f\"{segment}:\")\n",
    "    print(f\"  • {contracts:,} contracts ({contracts / total_contracts * 100:.1f}% of portfolio)\")\n",
    "    print(f\"  • Upselling Rate: {upselling_rate:.1f}%\")\n",
    "    print(f\"  • Average Revenue: €{avg_revenue:.0f}\")\n",
    "    print(f\"  • Average Data Usage: {avg_data:.0f} GB\\n\")\n",
    "\n",
    "print(\"Statistics:\")\n",
    "print(\"=\" * 60)\n",
    "\n",
    "best_segment = max(segment_data, key=lambda x: x[3] * (x[2] / 100))\n",
    "print(f\"• Best Segment: {best_segment[0]} (€{best_segment[3]:.0f} avg revenue, {best_segment[2]:.1f}% upselling)\")\n",
    "\n",
    "biggest_opportunity = max(segment_data, key=lambda x: x[1])\n",
    "print(f\"• Largest Segment: {biggest_opportunity[0]} ({biggest_opportunity[1]:,} contracts)\")\n",
    "\n",
    "print(\"=\" * 60)"
   ]
  },
  {
   "cell_type": "markdown",
   "metadata": {},
   "source": [
    "## 6. Customer Value Segmentation: Premium vs Standard Customers\n",
    "\n",
    "Understanding customer value distribution helps prioritize upselling efforts and resource allocation."
   ]
  },
  {
   "cell_type": "code",
   "execution_count": 38,
   "metadata": {},
   "outputs": [
    {
     "data": {
      "application/vnd.plotly.v1+json": {
       "config": {
        "plotlyServerURL": "https://plot.ly"
       },
       "data": [
        {
         "customdata": [
          [
           "Budget (€0-20)",
           23813,
           25.03,
           30.24,
           29.71
          ],
          [
           "Standard (€20-35)",
           22196,
           24.95,
           30.09,
           30.07
          ],
          [
           "Premium (€35-50)",
           21894,
           25.08,
           29.41,
           29.76
          ],
          [
           "Enterprise (€50+)",
           32097,
           24.95,
           29.94,
           30.19
          ]
         ],
         "hovertemplate": "<b>%{customdata[0]}</b><br>Avg Revenue: €%{x:.0f}<br>Upselling Rate: %{y:.1f}%<br>Total Contracts: %{customdata[1]:,}<br>Avg Data: %{customdata[2]:.0f} GB<br>Magenta1 Rate: %{customdata[3]:.1f}%<br>Special Offers: %{customdata[4]:.1f}%<br><extra></extra>",
         "marker": {
          "color": [
           "#95A5A6",
           "#E74C3C",
           "#E91E63",
           "#8E24AA"
          ],
          "line": {
           "color": "white",
           "width": 3
          },
          "opacity": 0.8,
          "size": [
           100,
           100,
           100,
           100
          ],
          "sizemode": "diameter"
         },
         "mode": "markers+text",
         "name": "Customer Segments",
         "text": [
          "Budget<br>23,813 contracts",
          "Standard<br>22,196 contracts",
          "Premium<br>21,894 contracts",
          "Enterprise<br>32,097 contracts"
         ],
         "textfont": {
          "color": "black",
          "family": "Teleneo",
          "size": 14,
          "weight": "bold"
         },
         "textposition": "middle center",
         "type": "scatter",
         "x": {
          "bdata": "exSuR+F6KECF61G4HoU7QBSuR+F6FEVACtejcD0KTkA=",
          "dtype": "f8"
         },
         "y": {
          "bdata": "pHA9CtejH0CkcD0K16MfQAAAAAAAABlAcT0K16NwGUA=",
          "dtype": "f8"
         }
        }
       ],
       "layout": {
        "annotations": [
         {
          "align": "right",
          "bgcolor": "rgba(255,255,255,0.9)",
          "bordercolor": "#BDC3C7",
          "borderpad": 10,
          "borderwidth": 1,
          "font": {
           "color": "#2C3E50",
           "family": "Teleneo",
           "size": 16
          },
          "showarrow": false,
          "text": "<b>Quadrant Analysis:</b><br>• Top Right: High Value, High Upselling<br>• Top Left: Low Value, High Upselling<br>• Bottom Right: High Value, Low Upselling<br>• Bottom Left: Low Value, Low Upselling",
          "x": 0.9,
          "xanchor": "right",
          "xref": "paper",
          "y": 0.9,
          "yanchor": "top",
          "yref": "paper"
         },
         {
          "align": "right",
          "bgcolor": "rgba(255,255,255,0.9)",
          "bordercolor": "#BDC3C7",
          "borderpad": 10,
          "borderwidth": 1,
          "font": {
           "color": "#2C3E50",
           "family": "Teleneo",
           "size": 16
          },
          "showarrow": false,
          "text": "<b>Quadrant Analysis:</b><br>• Top Right: High Value, High Upselling<br>• Top Left: Low Value, High Upselling<br>• Bottom Right: High Value, Low Upselling<br>• Bottom Left: Low Value, Low Upselling",
          "x": 0.9,
          "xanchor": "right",
          "xref": "paper",
          "y": 0.9,
          "yanchor": "top",
          "yref": "paper"
         }
        ],
        "font": {
         "color": "#2C3E50",
         "family": "Teleneo",
         "size": 12
        },
        "height": 700,
        "paper_bgcolor": "white",
        "plot_bgcolor": "rgba(0,0,0,0)",
        "shapes": [
         {
          "line": {
           "color": "gray",
           "dash": "dash"
          },
          "opacity": 0.5,
          "type": "line",
          "x0": 0,
          "x1": 1,
          "xref": "x domain",
          "y0": 7.1075,
          "y1": 7.1075,
          "yref": "y"
         },
         {
          "line": {
           "color": "gray",
           "dash": "dash"
          },
          "opacity": 0.5,
          "type": "line",
          "x0": 35.5,
          "x1": 35.5,
          "xref": "x",
          "y0": 0,
          "y1": 1,
          "yref": "y domain"
         }
        ],
        "showlegend": false,
        "template": {
         "data": {
          "bar": [
           {
            "error_x": {
             "color": "#2a3f5f"
            },
            "error_y": {
             "color": "#2a3f5f"
            },
            "marker": {
             "line": {
              "color": "#E5ECF6",
              "width": 0.5
             },
             "pattern": {
              "fillmode": "overlay",
              "size": 10,
              "solidity": 0.2
             }
            },
            "type": "bar"
           }
          ],
          "barpolar": [
           {
            "marker": {
             "line": {
              "color": "#E5ECF6",
              "width": 0.5
             },
             "pattern": {
              "fillmode": "overlay",
              "size": 10,
              "solidity": 0.2
             }
            },
            "type": "barpolar"
           }
          ],
          "carpet": [
           {
            "aaxis": {
             "endlinecolor": "#2a3f5f",
             "gridcolor": "white",
             "linecolor": "white",
             "minorgridcolor": "white",
             "startlinecolor": "#2a3f5f"
            },
            "baxis": {
             "endlinecolor": "#2a3f5f",
             "gridcolor": "white",
             "linecolor": "white",
             "minorgridcolor": "white",
             "startlinecolor": "#2a3f5f"
            },
            "type": "carpet"
           }
          ],
          "choropleth": [
           {
            "colorbar": {
             "outlinewidth": 0,
             "ticks": ""
            },
            "type": "choropleth"
           }
          ],
          "contour": [
           {
            "colorbar": {
             "outlinewidth": 0,
             "ticks": ""
            },
            "colorscale": [
             [
              0,
              "#0d0887"
             ],
             [
              0.1111111111111111,
              "#46039f"
             ],
             [
              0.2222222222222222,
              "#7201a8"
             ],
             [
              0.3333333333333333,
              "#9c179e"
             ],
             [
              0.4444444444444444,
              "#bd3786"
             ],
             [
              0.5555555555555556,
              "#d8576b"
             ],
             [
              0.6666666666666666,
              "#ed7953"
             ],
             [
              0.7777777777777778,
              "#fb9f3a"
             ],
             [
              0.8888888888888888,
              "#fdca26"
             ],
             [
              1,
              "#f0f921"
             ]
            ],
            "type": "contour"
           }
          ],
          "contourcarpet": [
           {
            "colorbar": {
             "outlinewidth": 0,
             "ticks": ""
            },
            "type": "contourcarpet"
           }
          ],
          "heatmap": [
           {
            "colorbar": {
             "outlinewidth": 0,
             "ticks": ""
            },
            "colorscale": [
             [
              0,
              "#0d0887"
             ],
             [
              0.1111111111111111,
              "#46039f"
             ],
             [
              0.2222222222222222,
              "#7201a8"
             ],
             [
              0.3333333333333333,
              "#9c179e"
             ],
             [
              0.4444444444444444,
              "#bd3786"
             ],
             [
              0.5555555555555556,
              "#d8576b"
             ],
             [
              0.6666666666666666,
              "#ed7953"
             ],
             [
              0.7777777777777778,
              "#fb9f3a"
             ],
             [
              0.8888888888888888,
              "#fdca26"
             ],
             [
              1,
              "#f0f921"
             ]
            ],
            "type": "heatmap"
           }
          ],
          "histogram": [
           {
            "marker": {
             "pattern": {
              "fillmode": "overlay",
              "size": 10,
              "solidity": 0.2
             }
            },
            "type": "histogram"
           }
          ],
          "histogram2d": [
           {
            "colorbar": {
             "outlinewidth": 0,
             "ticks": ""
            },
            "colorscale": [
             [
              0,
              "#0d0887"
             ],
             [
              0.1111111111111111,
              "#46039f"
             ],
             [
              0.2222222222222222,
              "#7201a8"
             ],
             [
              0.3333333333333333,
              "#9c179e"
             ],
             [
              0.4444444444444444,
              "#bd3786"
             ],
             [
              0.5555555555555556,
              "#d8576b"
             ],
             [
              0.6666666666666666,
              "#ed7953"
             ],
             [
              0.7777777777777778,
              "#fb9f3a"
             ],
             [
              0.8888888888888888,
              "#fdca26"
             ],
             [
              1,
              "#f0f921"
             ]
            ],
            "type": "histogram2d"
           }
          ],
          "histogram2dcontour": [
           {
            "colorbar": {
             "outlinewidth": 0,
             "ticks": ""
            },
            "colorscale": [
             [
              0,
              "#0d0887"
             ],
             [
              0.1111111111111111,
              "#46039f"
             ],
             [
              0.2222222222222222,
              "#7201a8"
             ],
             [
              0.3333333333333333,
              "#9c179e"
             ],
             [
              0.4444444444444444,
              "#bd3786"
             ],
             [
              0.5555555555555556,
              "#d8576b"
             ],
             [
              0.6666666666666666,
              "#ed7953"
             ],
             [
              0.7777777777777778,
              "#fb9f3a"
             ],
             [
              0.8888888888888888,
              "#fdca26"
             ],
             [
              1,
              "#f0f921"
             ]
            ],
            "type": "histogram2dcontour"
           }
          ],
          "mesh3d": [
           {
            "colorbar": {
             "outlinewidth": 0,
             "ticks": ""
            },
            "type": "mesh3d"
           }
          ],
          "parcoords": [
           {
            "line": {
             "colorbar": {
              "outlinewidth": 0,
              "ticks": ""
             }
            },
            "type": "parcoords"
           }
          ],
          "pie": [
           {
            "automargin": true,
            "type": "pie"
           }
          ],
          "scatter": [
           {
            "fillpattern": {
             "fillmode": "overlay",
             "size": 10,
             "solidity": 0.2
            },
            "type": "scatter"
           }
          ],
          "scatter3d": [
           {
            "line": {
             "colorbar": {
              "outlinewidth": 0,
              "ticks": ""
             }
            },
            "marker": {
             "colorbar": {
              "outlinewidth": 0,
              "ticks": ""
             }
            },
            "type": "scatter3d"
           }
          ],
          "scattercarpet": [
           {
            "marker": {
             "colorbar": {
              "outlinewidth": 0,
              "ticks": ""
             }
            },
            "type": "scattercarpet"
           }
          ],
          "scattergeo": [
           {
            "marker": {
             "colorbar": {
              "outlinewidth": 0,
              "ticks": ""
             }
            },
            "type": "scattergeo"
           }
          ],
          "scattergl": [
           {
            "marker": {
             "colorbar": {
              "outlinewidth": 0,
              "ticks": ""
             }
            },
            "type": "scattergl"
           }
          ],
          "scattermap": [
           {
            "marker": {
             "colorbar": {
              "outlinewidth": 0,
              "ticks": ""
             }
            },
            "type": "scattermap"
           }
          ],
          "scattermapbox": [
           {
            "marker": {
             "colorbar": {
              "outlinewidth": 0,
              "ticks": ""
             }
            },
            "type": "scattermapbox"
           }
          ],
          "scatterpolar": [
           {
            "marker": {
             "colorbar": {
              "outlinewidth": 0,
              "ticks": ""
             }
            },
            "type": "scatterpolar"
           }
          ],
          "scatterpolargl": [
           {
            "marker": {
             "colorbar": {
              "outlinewidth": 0,
              "ticks": ""
             }
            },
            "type": "scatterpolargl"
           }
          ],
          "scatterternary": [
           {
            "marker": {
             "colorbar": {
              "outlinewidth": 0,
              "ticks": ""
             }
            },
            "type": "scatterternary"
           }
          ],
          "surface": [
           {
            "colorbar": {
             "outlinewidth": 0,
             "ticks": ""
            },
            "colorscale": [
             [
              0,
              "#0d0887"
             ],
             [
              0.1111111111111111,
              "#46039f"
             ],
             [
              0.2222222222222222,
              "#7201a8"
             ],
             [
              0.3333333333333333,
              "#9c179e"
             ],
             [
              0.4444444444444444,
              "#bd3786"
             ],
             [
              0.5555555555555556,
              "#d8576b"
             ],
             [
              0.6666666666666666,
              "#ed7953"
             ],
             [
              0.7777777777777778,
              "#fb9f3a"
             ],
             [
              0.8888888888888888,
              "#fdca26"
             ],
             [
              1,
              "#f0f921"
             ]
            ],
            "type": "surface"
           }
          ],
          "table": [
           {
            "cells": {
             "fill": {
              "color": "#EBF0F8"
             },
             "line": {
              "color": "white"
             }
            },
            "header": {
             "fill": {
              "color": "#C8D4E3"
             },
             "line": {
              "color": "white"
             }
            },
            "type": "table"
           }
          ]
         },
         "layout": {
          "annotationdefaults": {
           "arrowcolor": "#2a3f5f",
           "arrowhead": 0,
           "arrowwidth": 1
          },
          "autotypenumbers": "strict",
          "coloraxis": {
           "colorbar": {
            "outlinewidth": 0,
            "ticks": ""
           }
          },
          "colorscale": {
           "diverging": [
            [
             0,
             "#8e0152"
            ],
            [
             0.1,
             "#c51b7d"
            ],
            [
             0.2,
             "#de77ae"
            ],
            [
             0.3,
             "#f1b6da"
            ],
            [
             0.4,
             "#fde0ef"
            ],
            [
             0.5,
             "#f7f7f7"
            ],
            [
             0.6,
             "#e6f5d0"
            ],
            [
             0.7,
             "#b8e186"
            ],
            [
             0.8,
             "#7fbc41"
            ],
            [
             0.9,
             "#4d9221"
            ],
            [
             1,
             "#276419"
            ]
           ],
           "sequential": [
            [
             0,
             "#0d0887"
            ],
            [
             0.1111111111111111,
             "#46039f"
            ],
            [
             0.2222222222222222,
             "#7201a8"
            ],
            [
             0.3333333333333333,
             "#9c179e"
            ],
            [
             0.4444444444444444,
             "#bd3786"
            ],
            [
             0.5555555555555556,
             "#d8576b"
            ],
            [
             0.6666666666666666,
             "#ed7953"
            ],
            [
             0.7777777777777778,
             "#fb9f3a"
            ],
            [
             0.8888888888888888,
             "#fdca26"
            ],
            [
             1,
             "#f0f921"
            ]
           ],
           "sequentialminus": [
            [
             0,
             "#0d0887"
            ],
            [
             0.1111111111111111,
             "#46039f"
            ],
            [
             0.2222222222222222,
             "#7201a8"
            ],
            [
             0.3333333333333333,
             "#9c179e"
            ],
            [
             0.4444444444444444,
             "#bd3786"
            ],
            [
             0.5555555555555556,
             "#d8576b"
            ],
            [
             0.6666666666666666,
             "#ed7953"
            ],
            [
             0.7777777777777778,
             "#fb9f3a"
            ],
            [
             0.8888888888888888,
             "#fdca26"
            ],
            [
             1,
             "#f0f921"
            ]
           ]
          },
          "colorway": [
           "#636efa",
           "#EF553B",
           "#00cc96",
           "#ab63fa",
           "#FFA15A",
           "#19d3f3",
           "#FF6692",
           "#B6E880",
           "#FF97FF",
           "#FECB52"
          ],
          "font": {
           "color": "#2a3f5f"
          },
          "geo": {
           "bgcolor": "white",
           "lakecolor": "white",
           "landcolor": "#E5ECF6",
           "showlakes": true,
           "showland": true,
           "subunitcolor": "white"
          },
          "hoverlabel": {
           "align": "left"
          },
          "hovermode": "closest",
          "mapbox": {
           "style": "light"
          },
          "paper_bgcolor": "white",
          "plot_bgcolor": "#E5ECF6",
          "polar": {
           "angularaxis": {
            "gridcolor": "white",
            "linecolor": "white",
            "ticks": ""
           },
           "bgcolor": "#E5ECF6",
           "radialaxis": {
            "gridcolor": "white",
            "linecolor": "white",
            "ticks": ""
           }
          },
          "scene": {
           "xaxis": {
            "backgroundcolor": "#E5ECF6",
            "gridcolor": "white",
            "gridwidth": 2,
            "linecolor": "white",
            "showbackground": true,
            "ticks": "",
            "zerolinecolor": "white"
           },
           "yaxis": {
            "backgroundcolor": "#E5ECF6",
            "gridcolor": "white",
            "gridwidth": 2,
            "linecolor": "white",
            "showbackground": true,
            "ticks": "",
            "zerolinecolor": "white"
           },
           "zaxis": {
            "backgroundcolor": "#E5ECF6",
            "gridcolor": "white",
            "gridwidth": 2,
            "linecolor": "white",
            "showbackground": true,
            "ticks": "",
            "zerolinecolor": "white"
           }
          },
          "shapedefaults": {
           "line": {
            "color": "#2a3f5f"
           }
          },
          "ternary": {
           "aaxis": {
            "gridcolor": "white",
            "linecolor": "white",
            "ticks": ""
           },
           "baxis": {
            "gridcolor": "white",
            "linecolor": "white",
            "ticks": ""
           },
           "bgcolor": "#E5ECF6",
           "caxis": {
            "gridcolor": "white",
            "linecolor": "white",
            "ticks": ""
           }
          },
          "title": {
           "x": 0.05
          },
          "xaxis": {
           "automargin": true,
           "gridcolor": "white",
           "linecolor": "white",
           "ticks": "",
           "title": {
            "standoff": 15
           },
           "zerolinecolor": "white",
           "zerolinewidth": 2
          },
          "yaxis": {
           "automargin": true,
           "gridcolor": "white",
           "linecolor": "white",
           "ticks": "",
           "title": {
            "standoff": 15
           },
           "zerolinecolor": "white",
           "zerolinewidth": 2
          }
         }
        },
        "title": {
         "font": {
          "color": "#2C3E50",
          "family": "Teleneo",
          "size": 20
         },
         "text": "Customer Value Segmentation Analysis<br><sub>Bubble size represents number of contracts</sub>",
         "x": 0.5,
         "xanchor": "center"
        },
        "width": 1200,
        "xaxis": {
         "gridcolor": "lightgray",
         "gridwidth": 1,
         "linecolor": "#2C3E50",
         "linewidth": 2,
         "showline": true,
         "title": {
          "text": "Average Monthly Revenue (€)"
         },
         "zeroline": false
        },
        "yaxis": {
         "gridcolor": "lightgray",
         "gridwidth": 1,
         "linecolor": "#2C3E50",
         "linewidth": 2,
         "showline": true,
         "title": {
          "text": "Upselling Success Rate (%)"
         },
         "zeroline": false
        }
       }
      }
     },
     "metadata": {},
     "output_type": "display_data"
    },
    {
     "name": "stdout",
     "output_type": "stream",
     "text": [
      "Analysis\n",
      "\n",
      "Budget (€0-20):\n",
      "  • 23,813 contracts (23.8% of portfolio)\n",
      "  • Upselling Rate: 7.9%\n",
      "  • Average Revenue: €12\n",
      "  • Average Data Usage: 25 GB\n",
      "\n",
      "Standard (€20-35):\n",
      "  • 22,196 contracts (22.2% of portfolio)\n",
      "  • Upselling Rate: 7.9%\n",
      "  • Average Revenue: €28\n",
      "  • Average Data Usage: 25 GB\n",
      "\n",
      "Premium (€35-50):\n",
      "  • 21,894 contracts (21.9% of portfolio)\n",
      "  • Upselling Rate: 6.2%\n",
      "  • Average Revenue: €42\n",
      "  • Average Data Usage: 25 GB\n",
      "\n",
      "Enterprise (€50+):\n",
      "  • 32,097 contracts (32.1% of portfolio)\n",
      "  • Upselling Rate: 6.4%\n",
      "  • Average Revenue: €60\n",
      "  • Average Data Usage: 25 GB\n",
      "\n",
      "Statistics:\n",
      "============================================================\n",
      "• Best Segment: Enterprise (€50+) (€60 avg revenue, 6.4% upselling)\n",
      "• Largest Segment: Enterprise (€50+) (32,097 contracts)\n",
      "============================================================\n"
     ]
    }
   ],
   "source": [
    "## Define revenue bins and labels for segmentation\n",
    "revenue_bins = [0, 20, 35, 50, 100]\n",
    "revenue_labels = [\n",
    "    'Budget (€0-20)',\n",
    "    'Standard (€20-35)',\n",
    "    'Premium (€35-50)',\n",
    "    'Enterprise (€50+)'\n",
    "]\n",
    "\n",
    "## Create revenue segmentation with clear logic\n",
    "binned_revenue_data = core_data.with_columns(\n",
    "    # Start by labeling negative values as 'Budget' and others as 'Enterprise'\n",
    "    pl.when(pl.col(\"gross_mrc\") < 0).then(pl.lit('Budget (€0-20)'))\n",
    "    .otherwise(pl.lit('Enterprise (€50+)'))\n",
    "    .alias(\"revenue_segment\")\n",
    ")\n",
    "\n",
    "# Update revenue_segment for bins between defined ranges\n",
    "for i in range(len(revenue_bins) - 1):\n",
    "    binned_revenue_data = binned_revenue_data.with_columns(\n",
    "        pl.when(\n",
    "            pl.col(\"gross_mrc\").is_between(\n",
    "                revenue_bins[i], revenue_bins[i + 1], closed=\"left\"\n",
    "            )\n",
    "        )\n",
    "        .then(pl.lit(revenue_labels[i]))\n",
    "        .otherwise(pl.col('revenue_segment'))\n",
    "        .alias(\"revenue_segment\")\n",
    "    )\n",
    "\n",
    "## Aggregate data for segment analysis\n",
    "segment_analysis = binned_revenue_data.group_by(\"revenue_segment\").agg([\n",
    "    pl.len().alias('total_contracts'),\n",
    "    (pl.col('has_done_upselling').mean() * 100).round(2).alias('upselling_rate'),\n",
    "    pl.col('gross_mrc').mean().round(2).alias('avg_revenue'),\n",
    "    pl.col('available_gb').mean().round(2).alias('avg_data_gb'),\n",
    "    (pl.col('is_magenta1_customer').mean() * 100).round(2).alias('magenta1_rate'),\n",
    "    (pl.col('has_special_offer').mean() * 100).round(2).alias('special_offer_rate')\n",
    "]).sort('avg_revenue')\n",
    "\n",
    "## Visualization: Bubble chart setup with better readability and size scaling\n",
    "fig = go.Figure()\n",
    "\n",
    "segment_colors = ['#95A5A6', '#E74C3C', '#E91E63', '#8E24AA']  # Gray, Red, Pink, Purple\n",
    "\n",
    "# Compute marker sizes with better scaling (min 30, max 100)\n",
    "marker_sizes = [\n",
    "    max(30, min(100, contracts / 200))\n",
    "    for contracts in segment_analysis['total_contracts']\n",
    "]\n",
    "\n",
    "fig.add_trace(go.Scatter(\n",
    "    x=segment_analysis['avg_revenue'],\n",
    "    y=segment_analysis['upselling_rate'],\n",
    "    mode='markers+text',\n",
    "    marker=dict(\n",
    "        size=marker_sizes,\n",
    "        color=segment_colors,\n",
    "        opacity=0.8,\n",
    "        sizemode='diameter',\n",
    "        line=dict(width=3, color='white')\n",
    "    ),\n",
    "    text=[\n",
    "        f\"{segment.split('(')[0].strip()}<br>{contracts:,} contracts\"\n",
    "        for segment, contracts in zip(\n",
    "            segment_analysis['revenue_segment'], segment_analysis['total_contracts']\n",
    "        )\n",
    "    ],\n",
    "    textposition='middle center',\n",
    "    textfont=dict(color='black', size=14, family=FONT_FAMILY, weight='bold'),\n",
    "    hovertemplate=(\n",
    "        '<b>%{customdata[0]}</b><br>'\n",
    "        'Avg Revenue: €%{x:.0f}<br>'\n",
    "        'Upselling Rate: %{y:.1f}%<br>'\n",
    "        'Total Contracts: %{customdata[1]:,}<br>'\n",
    "        'Avg Data: %{customdata[2]:.0f} GB<br>'\n",
    "        'Magenta1 Rate: %{customdata[3]:.1f}%<br>'\n",
    "        'Special Offers: %{customdata[4]:.1f}%<br>'\n",
    "        '<extra></extra>'\n",
    "    ),\n",
    "    customdata=list(zip(\n",
    "        segment_analysis['revenue_segment'],\n",
    "        segment_analysis['total_contracts'],\n",
    "        segment_analysis['avg_data_gb'],\n",
    "        segment_analysis['magenta1_rate'],\n",
    "        segment_analysis['special_offer_rate']\n",
    "    )),\n",
    "    name='Customer Segments'\n",
    "))\n",
    "\n",
    "## Add quadrant reference lines\n",
    "fig.add_hline(\n",
    "    y=segment_analysis['upselling_rate'].mean(),\n",
    "    line_dash=\"dash\",\n",
    "    line_color=\"gray\",\n",
    "    opacity=0.5,\n",
    "    annotation_text=\"Avg Upselling Rate\",\n",
    "    annotation_position=\"bottom right\"\n",
    ")\n",
    "fig.add_vline(\n",
    "    x=segment_analysis['avg_revenue'].mean(),\n",
    "    line_dash=\"dash\",\n",
    "    line_color=\"gray\",\n",
    "    opacity=0.5,\n",
    "    annotation_text=\"Avg Revenue\",\n",
    "    annotation_position=\"top left\"\n",
    ")\n",
    "\n",
    "## Layout improvements for better readability and wider chart\n",
    "fig.update_layout(\n",
    "    title={\n",
    "        'text': 'Customer Value Segmentation Analysis<br><sub>Bubble size represents number of contracts</sub>',\n",
    "        'x': 0.5,\n",
    "        'xanchor': 'center',\n",
    "        'font': {'size': 20, 'family': FONT_FAMILY, 'color': '#2C3E50'}\n",
    "    },\n",
    "    xaxis_title='Average Monthly Revenue (€)',\n",
    "    yaxis_title='Upselling Success Rate (%)',\n",
    "    height=700,\n",
    "    width=1200,  # Widened width for better spacing\n",
    "    plot_bgcolor='rgba(0,0,0,0)',\n",
    "    paper_bgcolor='white',\n",
    "    showlegend=False,\n",
    "    font=dict(family=FONT_FAMILY, size=12, color='#2C3E50'),\n",
    "    xaxis=dict(\n",
    "        gridcolor='lightgray',\n",
    "        gridwidth=1,\n",
    "        zeroline=False,\n",
    "        showline=True,\n",
    "        linewidth=2,\n",
    "        linecolor='#2C3E50'\n",
    "    ),\n",
    "    yaxis=dict(\n",
    "        gridcolor='lightgray',\n",
    "        gridwidth=1,\n",
    "        zeroline=False,\n",
    "        showline=True,\n",
    "        linewidth=2,\n",
    "        linecolor='#2C3E50'\n",
    "    ),\n",
    "    annotations=[\n",
    "        dict(\n",
    "            x=0.9,\n",
    "            y=0.9,\n",
    "            xref='paper',\n",
    "            yref='paper',\n",
    "            text=(\n",
    "                '<b>Quadrant Analysis:</b><br>'\n",
    "                '• Top Right: High Value, High Upselling<br>'\n",
    "                '• Top Left: Low Value, High Upselling<br>'\n",
    "                '• Bottom Right: High Value, Low Upselling<br>'\n",
    "                '• Bottom Left: Low Value, Low Upselling'\n",
    "            ),\n",
    "            showarrow=False,\n",
    "            font=dict(size=16, color='#2C3E50', family=FONT_FAMILY),\n",
    "            align='right',\n",
    "            bgcolor='rgba(255,255,255,0.9)',\n",
    "            bordercolor='#BDC3C7',\n",
    "            borderwidth=1,\n",
    "            borderpad=10\n",
    "        )\n",
    "    ]\n",
    ")\n",
    "\n",
    "fig.show()\n",
    "\n",
    "# Save the chart with larger width and height for clarity\n",
    "fig.write_image(images_dir / \"customer_value_segmentation.pdf\", width=1400, height=900, scale=2)\n",
    "\n",
    "\n",
    "## Summary Table Output (clean and readable)\n",
    "print(\"Analysis\\n\")\n",
    "\n",
    "total_contracts = core_data.shape[0]\n",
    "segment_data = segment_analysis.rows()\n",
    "\n",
    "for row in segment_data:\n",
    "    segment, contracts, upselling_rate, avg_revenue, avg_data, magenta1_rate, special_offer_rate = row\n",
    "    print(f\"{segment}:\")\n",
    "    print(f\"  • {contracts:,} contracts ({contracts / total_contracts * 100:.1f}% of portfolio)\")\n",
    "    print(f\"  • Upselling Rate: {upselling_rate:.1f}%\")\n",
    "    print(f\"  • Average Revenue: €{avg_revenue:.0f}\")\n",
    "    print(f\"  • Average Data Usage: {avg_data:.0f} GB\\n\")\n",
    "\n",
    "print(\"Statistics:\")\n",
    "print(\"=\" * 60)\n",
    "\n",
    "best_segment = max(segment_data, key=lambda x: x[3] * (x[2] / 100))\n",
    "print(f\"• Best Segment: {best_segment[0]} (€{best_segment[3]:.0f} avg revenue, {best_segment[2]:.1f}% upselling)\")\n",
    "\n",
    "biggest_opportunity = max(segment_data, key=lambda x: x[1])\n",
    "print(f\"• Largest Segment: {biggest_opportunity[0]} ({biggest_opportunity[1]:,} contracts)\")\n",
    "\n",
    "print(\"=\" * 60)"
   ]
  },
  {
   "cell_type": "markdown",
   "metadata": {},
   "source": [
    "## 7. Business Impact Projection: The ML Model Opportunity\n",
    "\n",
    "Quantifying the potential business impact of implementing an ML-driven upselling model."
   ]
  },
  {
   "cell_type": "code",
   "execution_count": 47,
   "metadata": {},
   "outputs": [
    {
     "data": {
      "application/vnd.plotly.v1+json": {
       "config": {
        "plotlyServerURL": "https://plot.ly"
       },
       "data": [
        {
         "marker": {
          "color": "rgb(128,128,128)"
         },
         "name": "Current Rate",
         "text": [
          "7.0%",
          "7.0%",
          "7.0%"
         ],
         "textfont": {
          "family": "Teleneo",
          "size": 16
         },
         "textposition": "auto",
         "type": "bar",
         "x": [
          "Conservative",
          "Moderate",
          "Aggressive"
         ],
         "xaxis": "x",
         "y": [
          7.0489999999999995,
          7.0489999999999995,
          7.0489999999999995
         ],
         "yaxis": "y"
        },
        {
         "marker": {
          "color": [
           "rgba(226,0,116,0.7)",
           "rgb(226,0,116)",
           "rgb(180,0,93)"
          ]
         },
         "name": "Projected Rate",
         "text": [
          "10.6%",
          "14.1%",
          "21.1%"
         ],
         "textfont": {
          "family": "Teleneo",
          "size": 16
         },
         "textposition": "auto",
         "type": "bar",
         "x": [
          "Conservative",
          "Moderate",
          "Aggressive"
         ],
         "xaxis": "x",
         "y": [
          10.5735,
          14.097999999999999,
          21.147
         ],
         "yaxis": "y"
        },
        {
         "marker": {
          "color": [
           "rgba(226,0,116,0.7)",
           "rgb(226,0,116)",
           "rgb(180,0,93)"
          ]
         },
         "name": "Monthly Revenue Increase",
         "text": [
          "€6,911",
          "€13,822",
          "€27,644"
         ],
         "textfont": {
          "family": "Teleneo",
          "size": 16
         },
         "textposition": "auto",
         "type": "bar",
         "x": [
          "Conservative",
          "Moderate",
          "Aggressive"
         ],
         "xaxis": "x2",
         "y": [
          6911.113735946894,
          13822.227471893788,
          27644.454943787576
         ],
         "yaxis": "y2"
        },
        {
         "marker": {
          "color": [
           "rgba(226,0,116,0.7)",
           "rgb(226,0,116)",
           "rgb(180,0,93)"
          ]
         },
         "name": "Annual Revenue Increase",
         "text": [
          "€0.1M",
          "€0.2M",
          "€0.3M"
         ],
         "textfont": {
          "family": "Teleneo",
          "size": 16
         },
         "textposition": "auto",
         "type": "bar",
         "x": [
          "Conservative",
          "Moderate",
          "Aggressive"
         ],
         "xaxis": "x3",
         "y": [
          82933.36483136273,
          165866.72966272547,
          331733.45932545094
         ],
         "yaxis": "y3"
        },
        {
         "marker": {
          "color": [
           "rgba(226,0,116,0.7)",
           "rgb(226,0,116)",
           "rgb(180,0,93)"
          ]
         },
         "name": "ROI (%)",
         "text": [
          "83%",
          "67%",
          "34%"
         ],
         "textfont": {
          "family": "Teleneo",
          "size": 16
         },
         "textposition": "auto",
         "type": "bar",
         "x": [
          "Conservative",
          "Moderate",
          "Aggressive"
         ],
         "xaxis": "x4",
         "y": [
          83.41332703372746,
          66.82665406745491,
          33.653308134909814
         ],
         "yaxis": "y4"
        }
       ],
       "layout": {
        "annotations": [
         {
          "font": {
           "size": 16
          },
          "showarrow": false,
          "text": "Projected Upselling Rate Improvement",
          "x": 0.225,
          "xanchor": "center",
          "xref": "paper",
          "y": 1,
          "yanchor": "bottom",
          "yref": "paper"
         },
         {
          "font": {
           "size": 16
          },
          "showarrow": false,
          "text": "Monthly Revenue Impact",
          "x": 0.775,
          "xanchor": "center",
          "xref": "paper",
          "y": 1,
          "yanchor": "bottom",
          "yref": "paper"
         },
         {
          "font": {
           "size": 16
          },
          "showarrow": false,
          "text": "Annual Revenue Projection",
          "x": 0.225,
          "xanchor": "center",
          "xref": "paper",
          "y": 0.375,
          "yanchor": "bottom",
          "yref": "paper"
         },
         {
          "font": {
           "size": 16
          },
          "showarrow": false,
          "text": "ROI Potential",
          "x": 0.775,
          "xanchor": "center",
          "xref": "paper",
          "y": 0.375,
          "yanchor": "bottom",
          "yref": "paper"
         }
        ],
        "font": {
         "family": "Teleneo",
         "size": 16
        },
        "height": 800,
        "paper_bgcolor": "rgb(250,250,250)",
        "plot_bgcolor": "rgba(0,0,0,0)",
        "showlegend": false,
        "template": {
         "data": {
          "bar": [
           {
            "error_x": {
             "color": "#2a3f5f"
            },
            "error_y": {
             "color": "#2a3f5f"
            },
            "marker": {
             "line": {
              "color": "#E5ECF6",
              "width": 0.5
             },
             "pattern": {
              "fillmode": "overlay",
              "size": 10,
              "solidity": 0.2
             }
            },
            "type": "bar"
           }
          ],
          "barpolar": [
           {
            "marker": {
             "line": {
              "color": "#E5ECF6",
              "width": 0.5
             },
             "pattern": {
              "fillmode": "overlay",
              "size": 10,
              "solidity": 0.2
             }
            },
            "type": "barpolar"
           }
          ],
          "carpet": [
           {
            "aaxis": {
             "endlinecolor": "#2a3f5f",
             "gridcolor": "white",
             "linecolor": "white",
             "minorgridcolor": "white",
             "startlinecolor": "#2a3f5f"
            },
            "baxis": {
             "endlinecolor": "#2a3f5f",
             "gridcolor": "white",
             "linecolor": "white",
             "minorgridcolor": "white",
             "startlinecolor": "#2a3f5f"
            },
            "type": "carpet"
           }
          ],
          "choropleth": [
           {
            "colorbar": {
             "outlinewidth": 0,
             "ticks": ""
            },
            "type": "choropleth"
           }
          ],
          "contour": [
           {
            "colorbar": {
             "outlinewidth": 0,
             "ticks": ""
            },
            "colorscale": [
             [
              0,
              "#0d0887"
             ],
             [
              0.1111111111111111,
              "#46039f"
             ],
             [
              0.2222222222222222,
              "#7201a8"
             ],
             [
              0.3333333333333333,
              "#9c179e"
             ],
             [
              0.4444444444444444,
              "#bd3786"
             ],
             [
              0.5555555555555556,
              "#d8576b"
             ],
             [
              0.6666666666666666,
              "#ed7953"
             ],
             [
              0.7777777777777778,
              "#fb9f3a"
             ],
             [
              0.8888888888888888,
              "#fdca26"
             ],
             [
              1,
              "#f0f921"
             ]
            ],
            "type": "contour"
           }
          ],
          "contourcarpet": [
           {
            "colorbar": {
             "outlinewidth": 0,
             "ticks": ""
            },
            "type": "contourcarpet"
           }
          ],
          "heatmap": [
           {
            "colorbar": {
             "outlinewidth": 0,
             "ticks": ""
            },
            "colorscale": [
             [
              0,
              "#0d0887"
             ],
             [
              0.1111111111111111,
              "#46039f"
             ],
             [
              0.2222222222222222,
              "#7201a8"
             ],
             [
              0.3333333333333333,
              "#9c179e"
             ],
             [
              0.4444444444444444,
              "#bd3786"
             ],
             [
              0.5555555555555556,
              "#d8576b"
             ],
             [
              0.6666666666666666,
              "#ed7953"
             ],
             [
              0.7777777777777778,
              "#fb9f3a"
             ],
             [
              0.8888888888888888,
              "#fdca26"
             ],
             [
              1,
              "#f0f921"
             ]
            ],
            "type": "heatmap"
           }
          ],
          "histogram": [
           {
            "marker": {
             "pattern": {
              "fillmode": "overlay",
              "size": 10,
              "solidity": 0.2
             }
            },
            "type": "histogram"
           }
          ],
          "histogram2d": [
           {
            "colorbar": {
             "outlinewidth": 0,
             "ticks": ""
            },
            "colorscale": [
             [
              0,
              "#0d0887"
             ],
             [
              0.1111111111111111,
              "#46039f"
             ],
             [
              0.2222222222222222,
              "#7201a8"
             ],
             [
              0.3333333333333333,
              "#9c179e"
             ],
             [
              0.4444444444444444,
              "#bd3786"
             ],
             [
              0.5555555555555556,
              "#d8576b"
             ],
             [
              0.6666666666666666,
              "#ed7953"
             ],
             [
              0.7777777777777778,
              "#fb9f3a"
             ],
             [
              0.8888888888888888,
              "#fdca26"
             ],
             [
              1,
              "#f0f921"
             ]
            ],
            "type": "histogram2d"
           }
          ],
          "histogram2dcontour": [
           {
            "colorbar": {
             "outlinewidth": 0,
             "ticks": ""
            },
            "colorscale": [
             [
              0,
              "#0d0887"
             ],
             [
              0.1111111111111111,
              "#46039f"
             ],
             [
              0.2222222222222222,
              "#7201a8"
             ],
             [
              0.3333333333333333,
              "#9c179e"
             ],
             [
              0.4444444444444444,
              "#bd3786"
             ],
             [
              0.5555555555555556,
              "#d8576b"
             ],
             [
              0.6666666666666666,
              "#ed7953"
             ],
             [
              0.7777777777777778,
              "#fb9f3a"
             ],
             [
              0.8888888888888888,
              "#fdca26"
             ],
             [
              1,
              "#f0f921"
             ]
            ],
            "type": "histogram2dcontour"
           }
          ],
          "mesh3d": [
           {
            "colorbar": {
             "outlinewidth": 0,
             "ticks": ""
            },
            "type": "mesh3d"
           }
          ],
          "parcoords": [
           {
            "line": {
             "colorbar": {
              "outlinewidth": 0,
              "ticks": ""
             }
            },
            "type": "parcoords"
           }
          ],
          "pie": [
           {
            "automargin": true,
            "type": "pie"
           }
          ],
          "scatter": [
           {
            "fillpattern": {
             "fillmode": "overlay",
             "size": 10,
             "solidity": 0.2
            },
            "type": "scatter"
           }
          ],
          "scatter3d": [
           {
            "line": {
             "colorbar": {
              "outlinewidth": 0,
              "ticks": ""
             }
            },
            "marker": {
             "colorbar": {
              "outlinewidth": 0,
              "ticks": ""
             }
            },
            "type": "scatter3d"
           }
          ],
          "scattercarpet": [
           {
            "marker": {
             "colorbar": {
              "outlinewidth": 0,
              "ticks": ""
             }
            },
            "type": "scattercarpet"
           }
          ],
          "scattergeo": [
           {
            "marker": {
             "colorbar": {
              "outlinewidth": 0,
              "ticks": ""
             }
            },
            "type": "scattergeo"
           }
          ],
          "scattergl": [
           {
            "marker": {
             "colorbar": {
              "outlinewidth": 0,
              "ticks": ""
             }
            },
            "type": "scattergl"
           }
          ],
          "scattermap": [
           {
            "marker": {
             "colorbar": {
              "outlinewidth": 0,
              "ticks": ""
             }
            },
            "type": "scattermap"
           }
          ],
          "scattermapbox": [
           {
            "marker": {
             "colorbar": {
              "outlinewidth": 0,
              "ticks": ""
             }
            },
            "type": "scattermapbox"
           }
          ],
          "scatterpolar": [
           {
            "marker": {
             "colorbar": {
              "outlinewidth": 0,
              "ticks": ""
             }
            },
            "type": "scatterpolar"
           }
          ],
          "scatterpolargl": [
           {
            "marker": {
             "colorbar": {
              "outlinewidth": 0,
              "ticks": ""
             }
            },
            "type": "scatterpolargl"
           }
          ],
          "scatterternary": [
           {
            "marker": {
             "colorbar": {
              "outlinewidth": 0,
              "ticks": ""
             }
            },
            "type": "scatterternary"
           }
          ],
          "surface": [
           {
            "colorbar": {
             "outlinewidth": 0,
             "ticks": ""
            },
            "colorscale": [
             [
              0,
              "#0d0887"
             ],
             [
              0.1111111111111111,
              "#46039f"
             ],
             [
              0.2222222222222222,
              "#7201a8"
             ],
             [
              0.3333333333333333,
              "#9c179e"
             ],
             [
              0.4444444444444444,
              "#bd3786"
             ],
             [
              0.5555555555555556,
              "#d8576b"
             ],
             [
              0.6666666666666666,
              "#ed7953"
             ],
             [
              0.7777777777777778,
              "#fb9f3a"
             ],
             [
              0.8888888888888888,
              "#fdca26"
             ],
             [
              1,
              "#f0f921"
             ]
            ],
            "type": "surface"
           }
          ],
          "table": [
           {
            "cells": {
             "fill": {
              "color": "#EBF0F8"
             },
             "line": {
              "color": "white"
             }
            },
            "header": {
             "fill": {
              "color": "#C8D4E3"
             },
             "line": {
              "color": "white"
             }
            },
            "type": "table"
           }
          ]
         },
         "layout": {
          "annotationdefaults": {
           "arrowcolor": "#2a3f5f",
           "arrowhead": 0,
           "arrowwidth": 1
          },
          "autotypenumbers": "strict",
          "coloraxis": {
           "colorbar": {
            "outlinewidth": 0,
            "ticks": ""
           }
          },
          "colorscale": {
           "diverging": [
            [
             0,
             "#8e0152"
            ],
            [
             0.1,
             "#c51b7d"
            ],
            [
             0.2,
             "#de77ae"
            ],
            [
             0.3,
             "#f1b6da"
            ],
            [
             0.4,
             "#fde0ef"
            ],
            [
             0.5,
             "#f7f7f7"
            ],
            [
             0.6,
             "#e6f5d0"
            ],
            [
             0.7,
             "#b8e186"
            ],
            [
             0.8,
             "#7fbc41"
            ],
            [
             0.9,
             "#4d9221"
            ],
            [
             1,
             "#276419"
            ]
           ],
           "sequential": [
            [
             0,
             "#0d0887"
            ],
            [
             0.1111111111111111,
             "#46039f"
            ],
            [
             0.2222222222222222,
             "#7201a8"
            ],
            [
             0.3333333333333333,
             "#9c179e"
            ],
            [
             0.4444444444444444,
             "#bd3786"
            ],
            [
             0.5555555555555556,
             "#d8576b"
            ],
            [
             0.6666666666666666,
             "#ed7953"
            ],
            [
             0.7777777777777778,
             "#fb9f3a"
            ],
            [
             0.8888888888888888,
             "#fdca26"
            ],
            [
             1,
             "#f0f921"
            ]
           ],
           "sequentialminus": [
            [
             0,
             "#0d0887"
            ],
            [
             0.1111111111111111,
             "#46039f"
            ],
            [
             0.2222222222222222,
             "#7201a8"
            ],
            [
             0.3333333333333333,
             "#9c179e"
            ],
            [
             0.4444444444444444,
             "#bd3786"
            ],
            [
             0.5555555555555556,
             "#d8576b"
            ],
            [
             0.6666666666666666,
             "#ed7953"
            ],
            [
             0.7777777777777778,
             "#fb9f3a"
            ],
            [
             0.8888888888888888,
             "#fdca26"
            ],
            [
             1,
             "#f0f921"
            ]
           ]
          },
          "colorway": [
           "#636efa",
           "#EF553B",
           "#00cc96",
           "#ab63fa",
           "#FFA15A",
           "#19d3f3",
           "#FF6692",
           "#B6E880",
           "#FF97FF",
           "#FECB52"
          ],
          "font": {
           "color": "#2a3f5f"
          },
          "geo": {
           "bgcolor": "white",
           "lakecolor": "white",
           "landcolor": "#E5ECF6",
           "showlakes": true,
           "showland": true,
           "subunitcolor": "white"
          },
          "hoverlabel": {
           "align": "left"
          },
          "hovermode": "closest",
          "mapbox": {
           "style": "light"
          },
          "paper_bgcolor": "white",
          "plot_bgcolor": "#E5ECF6",
          "polar": {
           "angularaxis": {
            "gridcolor": "white",
            "linecolor": "white",
            "ticks": ""
           },
           "bgcolor": "#E5ECF6",
           "radialaxis": {
            "gridcolor": "white",
            "linecolor": "white",
            "ticks": ""
           }
          },
          "scene": {
           "xaxis": {
            "backgroundcolor": "#E5ECF6",
            "gridcolor": "white",
            "gridwidth": 2,
            "linecolor": "white",
            "showbackground": true,
            "ticks": "",
            "zerolinecolor": "white"
           },
           "yaxis": {
            "backgroundcolor": "#E5ECF6",
            "gridcolor": "white",
            "gridwidth": 2,
            "linecolor": "white",
            "showbackground": true,
            "ticks": "",
            "zerolinecolor": "white"
           },
           "zaxis": {
            "backgroundcolor": "#E5ECF6",
            "gridcolor": "white",
            "gridwidth": 2,
            "linecolor": "white",
            "showbackground": true,
            "ticks": "",
            "zerolinecolor": "white"
           }
          },
          "shapedefaults": {
           "line": {
            "color": "#2a3f5f"
           }
          },
          "ternary": {
           "aaxis": {
            "gridcolor": "white",
            "linecolor": "white",
            "ticks": ""
           },
           "baxis": {
            "gridcolor": "white",
            "linecolor": "white",
            "ticks": ""
           },
           "bgcolor": "#E5ECF6",
           "caxis": {
            "gridcolor": "white",
            "linecolor": "white",
            "ticks": ""
           }
          },
          "title": {
           "x": 0.05
          },
          "xaxis": {
           "automargin": true,
           "gridcolor": "white",
           "linecolor": "white",
           "ticks": "",
           "title": {
            "standoff": 15
           },
           "zerolinecolor": "white",
           "zerolinewidth": 2
          },
          "yaxis": {
           "automargin": true,
           "gridcolor": "white",
           "linecolor": "white",
           "ticks": "",
           "title": {
            "standoff": 15
           },
           "zerolinecolor": "white",
           "zerolinewidth": 2
          }
         }
        },
        "title": {
         "font": {
          "family": "Teleneo",
          "size": 24
         },
         "text": "Business Impact Projection",
         "x": 0.5,
         "xanchor": "center"
        },
        "width": 1600,
        "xaxis": {
         "anchor": "y",
         "domain": [
          0,
          0.45
         ]
        },
        "xaxis2": {
         "anchor": "y2",
         "domain": [
          0.55,
          1
         ]
        },
        "xaxis3": {
         "anchor": "y3",
         "domain": [
          0,
          0.45
         ]
        },
        "xaxis4": {
         "anchor": "y4",
         "domain": [
          0.55,
          1
         ]
        },
        "yaxis": {
         "anchor": "x",
         "domain": [
          0.625,
          1
         ],
         "title": {
          "font": {
           "family": "Teleneo",
           "size": 16
          },
          "text": "Upselling Rate (%)"
         }
        },
        "yaxis2": {
         "anchor": "x2",
         "domain": [
          0.625,
          1
         ],
         "title": {
          "font": {
           "family": "Teleneo",
           "size": 16
          },
          "text": "Monthly Revenue (€)"
         }
        },
        "yaxis3": {
         "anchor": "x3",
         "domain": [
          0,
          0.375
         ],
         "title": {
          "font": {
           "family": "Teleneo",
           "size": 16
          },
          "text": "Annual Revenue (€)"
         }
        },
        "yaxis4": {
         "anchor": "x4",
         "domain": [
          0,
          0.375
         ],
         "title": {
          "font": {
           "family": "Teleneo",
           "size": 16
          },
          "text": "ROI (%)"
         }
        }
       }
      }
     },
     "metadata": {},
     "output_type": "display_data"
    },
    {
     "name": "stdout",
     "output_type": "stream",
     "text": [
      "\n",
      "Business Case Summary:\n",
      "\n",
      "Current State:\n",
      "  • 7.0% upselling rate\n",
      "  • €3,753,817 monthly revenue\n",
      "  • €38 average revenue per contract\n",
      "  • €2 revenue uplift per upsell\n",
      "\n",
      "ML Model Opportunity:\n",
      "  Conservative Scenario (50% improvement in upselling rate):\n",
      "    → 3,524 additional upsells\n",
      "    → €6,911 monthly revenue increase\n",
      "    → €0.1M annual revenue increase\n",
      "    → 83% ROI\n",
      "\n",
      "  Moderate Scenario (100% improvement in upselling rate):\n",
      "    → 7,049 additional upsells\n",
      "    → €13,822 monthly revenue increase\n",
      "    → €0.2M annual revenue increase\n",
      "    → 67% ROI\n",
      "\n",
      "  Aggressive Scenario (200% improvement in upselling rate):\n",
      "    → 14,098 additional upsells\n",
      "    → €27,644 monthly revenue increase\n",
      "    → €0.3M annual revenue increase\n",
      "    → 34% ROI\n",
      "\n"
     ]
    }
   ],
   "source": [
    "# Calculate current state metrics\n",
    "current_upselling_rate = (upsold_contracts / total_contracts) * 100\n",
    "current_monthly_revenue = core_data.select(pl.col('gross_mrc').sum()).item()\n",
    "avg_revenue_per_contract = core_data.select(pl.col('gross_mrc').mean()).item()\n",
    "avg_upselling_revenue = core_data.filter(pl.col('has_done_upselling')).select(pl.col('gross_mrc').mean()).item()\n",
    "avg_non_upselling_revenue = core_data.filter(~pl.col('has_done_upselling')).select(pl.col('gross_mrc').mean()).item()\n",
    "revenue_uplift_per_upsell = abs(avg_upselling_revenue - avg_non_upselling_revenue)  # absolute difference\n",
    "\n",
    "# Define improvement scenarios\n",
    "scenarios = [\n",
    "    {'name': 'Conservative', 'improvement': 1.5, 'description': '50% improvement in upselling rate'},\n",
    "    {'name': 'Moderate', 'improvement': 2.0, 'description': '100% improvement in upselling rate'},\n",
    "    {'name': 'Aggressive', 'improvement': 3.0, 'description': '200% improvement in upselling rate'}\n",
    "]\n",
    "\n",
    "# Calculate projections for each scenario\n",
    "projections = []\n",
    "for scenario in scenarios:\n",
    "    new_upselling_rate = min(current_upselling_rate * scenario['improvement'], 25)  # cap at 25%\n",
    "    additional_upsells = (new_upselling_rate - current_upselling_rate) / 100 * total_contracts\n",
    "    monthly_revenue_increase = abs(additional_upsells * revenue_uplift_per_upsell)\n",
    "    annual_revenue_increase = abs(monthly_revenue_increase * 12)\n",
    "    \n",
    "    projections.append({\n",
    "        'scenario': scenario['name'],\n",
    "        'description': scenario['description'],\n",
    "        'new_upselling_rate': new_upselling_rate,\n",
    "        'additional_upsells': abs(additional_upsells),\n",
    "        'monthly_increase': monthly_revenue_increase,\n",
    "        'annual_increase': annual_revenue_increase\n",
    "    })\n",
    "\n",
    "# Visualization setup: 2x2 subplots\n",
    "fig = make_subplots(\n",
    "    rows=2, cols=2,\n",
    "    subplot_titles=(\n",
    "        'Projected Upselling Rate Improvement',\n",
    "        'Monthly Revenue Impact',\n",
    "        'Annual Revenue Projection',\n",
    "        'ROI Potential'\n",
    "    )\n",
    ")\n",
    "\n",
    "scenario_names = [p['scenario'] for p in projections]\n",
    "colors = [MAGENTA_LIGHT, MAGENTA_COLOR, MAGENTA_DARK]\n",
    "\n",
    "# Current upselling rate bars\n",
    "fig.add_trace(\n",
    "    go.Bar(\n",
    "        x=scenario_names,\n",
    "        y=[current_upselling_rate] * 3,\n",
    "        name='Current Rate',\n",
    "        marker_color=GRAY_COLOR,\n",
    "        text=[f'{current_upselling_rate:.1f}%'] * 3,\n",
    "        textposition='auto',\n",
    "        textfont=dict(size=16, family=FONT_FAMILY)  # Increase font size\n",
    "    ),\n",
    "    row=1, col=1\n",
    ")\n",
    "\n",
    "# Projected upselling rate bars\n",
    "fig.add_trace(\n",
    "    go.Bar(\n",
    "        x=scenario_names,\n",
    "        y=[p['new_upselling_rate'] for p in projections],\n",
    "        name='Projected Rate',\n",
    "        marker_color=colors,\n",
    "        text=[f'{p[\"new_upselling_rate\"]:.1f}%' for p in projections],\n",
    "        textposition='auto',\n",
    "        textfont=dict(size=16, family=FONT_FAMILY)\n",
    "    ),\n",
    "    row=1, col=1\n",
    ")\n",
    "\n",
    "# Monthly revenue increase bars\n",
    "fig.add_trace(\n",
    "    go.Bar(\n",
    "        x=scenario_names,\n",
    "        y=[p['monthly_increase'] for p in projections],\n",
    "        name='Monthly Revenue Increase',\n",
    "        marker_color=colors,\n",
    "        text=[f'€{p[\"monthly_increase\"]:,.0f}' for p in projections],\n",
    "        textposition='auto',\n",
    "        textfont=dict(size=16, family=FONT_FAMILY)\n",
    "    ),\n",
    "    row=1, col=2\n",
    ")\n",
    "\n",
    "# Annual revenue increase bars\n",
    "fig.add_trace(\n",
    "    go.Bar(\n",
    "        x=scenario_names,\n",
    "        y=[p['annual_increase'] for p in projections],\n",
    "        name='Annual Revenue Increase',\n",
    "        marker_color=colors,\n",
    "        text=[f'€{p[\"annual_increase\"]/1_000_000:.1f}M' for p in projections],\n",
    "        textposition='auto',\n",
    "        textfont=dict(size=16, family=FONT_FAMILY)\n",
    "    ),\n",
    "    row=2, col=1\n",
    ")\n",
    "\n",
    "# ROI calculation and bars (assuming 15% implementation cost)\n",
    "implementation_cost = 500_000\n",
    "roi_values = [\n",
    "    abs((p['annual_increase'] - implementation_cost) / implementation_cost * 100)\n",
    "    for p in projections\n",
    "]\n",
    "\n",
    "fig.add_trace(\n",
    "    go.Bar(\n",
    "        x=scenario_names,\n",
    "        y=roi_values,\n",
    "        name='ROI (%)',\n",
    "        marker_color=colors,\n",
    "        text=[f'{roi:.0f}%' for roi in roi_values],\n",
    "        textposition='auto',\n",
    "        textfont=dict(size=16, family=FONT_FAMILY)\n",
    "    ),\n",
    "    row=2, col=2\n",
    ")\n",
    "\n",
    "# Update axes titles with larger font size\n",
    "fig.update_yaxes(title_text=\"Upselling Rate (%)\", row=1, col=1, title_font=dict(size=16, family=FONT_FAMILY))\n",
    "fig.update_yaxes(title_text=\"Monthly Revenue (€)\", row=1, col=2, title_font=dict(size=16, family=FONT_FAMILY))\n",
    "fig.update_yaxes(title_text=\"Annual Revenue (€)\", row=2, col=1, title_font=dict(size=16, family=FONT_FAMILY))\n",
    "fig.update_yaxes(title_text=\"ROI (%)\", row=2, col=2, title_font=dict(size=16, family=FONT_FAMILY))\n",
    "\n",
    "# Update overall layout with increased font sizes\n",
    "fig.update_layout(\n",
    "    title={\n",
    "        'text': 'Business Impact Projection',\n",
    "        'x': 0.5,\n",
    "        'xanchor': 'center',\n",
    "        'font': {'size': 24, 'family': FONT_FAMILY}\n",
    "    },\n",
    "    height=800,\n",
    "    width=1600,\n",
    "    plot_bgcolor='rgba(0,0,0,0)',\n",
    "    paper_bgcolor='rgb(250,250,250)',\n",
    "    showlegend=False,\n",
    "    font=dict(family=FONT_FAMILY, size=16),\n",
    ")\n",
    "\n",
    "fig.show()\n",
    "\n",
    "fig.write_image(images_dir / \"business_impact.pdf\", width=2000, height=800, scale=2)\n",
    "\n",
    "# Business case summary printout\n",
    "print(\"\\nBusiness Case Summary:\\n\")\n",
    "print(f\"Current State:\")\n",
    "print(f\"  • {current_upselling_rate:.1f}% upselling rate\")\n",
    "print(f\"  • €{abs(current_monthly_revenue):,.0f} monthly revenue\")\n",
    "print(f\"  • €{abs(avg_revenue_per_contract):,.0f} average revenue per contract\")\n",
    "print(f\"  • €{abs(revenue_uplift_per_upsell):,.0f} revenue uplift per upsell\\n\")\n",
    "\n",
    "print(\"ML Model Opportunity:\")\n",
    "for p in projections:\n",
    "    roi_percentage = abs((p['annual_increase'] - implementation_cost) / implementation_cost * 100)\n",
    "    print(f\"  {p['scenario']} Scenario ({p['description']}):\")\n",
    "    print(f\"    → {p['additional_upsells']:,.0f} additional upsells\")\n",
    "    print(f\"    → €{p['monthly_increase']:,.0f} monthly revenue increase\")\n",
    "    print(f\"    → €{p['annual_increase']/1_000_000:.1f}M annual revenue increase\")\n",
    "    print(f\"    → {roi_percentage:.0f}% ROI\\n\")\n",
    "    "
   ]
  },
  {
   "cell_type": "code",
   "execution_count": 52,
   "metadata": {},
   "outputs": [
    {
     "data": {
      "application/vnd.plotly.v1+json": {
       "config": {
        "plotlyServerURL": "https://plot.ly"
       },
       "data": [
        {
         "marker": {
          "color": [
           "rgba(226,0,116,0.7)",
           "rgb(226,0,116)",
           "rgb(180,0,93)"
          ]
         },
         "name": "Annual Revenue Increase",
         "text": [
          "€0.1M",
          "€0.2M",
          "€0.3M"
         ],
         "textfont": {
          "family": "Teleneo",
          "size": 16
         },
         "textposition": "auto",
         "type": "bar",
         "x": [
          "Conservative",
          "Moderate",
          "Aggressive"
         ],
         "xaxis": "x",
         "y": [
          82933.36483136273,
          165866.72966272547,
          331733.45932545094
         ],
         "yaxis": "y"
        },
        {
         "marker": {
          "color": [
           "rgba(226,0,116,0.7)",
           "rgb(226,0,116)",
           "rgb(180,0,93)"
          ]
         },
         "name": "ROI (%)",
         "text": [
          "17%",
          "66%",
          "232%"
         ],
         "textfont": {
          "family": "Teleneo",
          "size": 16
         },
         "textposition": "auto",
         "type": "bar",
         "x": [
          "Conservative",
          "Moderate",
          "Aggressive"
         ],
         "xaxis": "x2",
         "y": [
          17.066635168637266,
          65.86672966272546,
          231.73345932545092
         ],
         "yaxis": "y2"
        }
       ],
       "layout": {
        "annotations": [
         {
          "font": {
           "size": 16
          },
          "showarrow": false,
          "text": "Annual Revenue Projection",
          "x": 0.225,
          "xanchor": "center",
          "xref": "paper",
          "y": 1,
          "yanchor": "bottom",
          "yref": "paper"
         },
         {
          "font": {
           "size": 16
          },
          "showarrow": false,
          "text": "ROI Potential",
          "x": 0.775,
          "xanchor": "center",
          "xref": "paper",
          "y": 1,
          "yanchor": "bottom",
          "yref": "paper"
         }
        ],
        "font": {
         "family": "Teleneo",
         "size": 16
        },
        "height": 500,
        "paper_bgcolor": "rgb(250,250,250)",
        "plot_bgcolor": "rgba(0,0,0,0)",
        "showlegend": false,
        "template": {
         "data": {
          "bar": [
           {
            "error_x": {
             "color": "#2a3f5f"
            },
            "error_y": {
             "color": "#2a3f5f"
            },
            "marker": {
             "line": {
              "color": "#E5ECF6",
              "width": 0.5
             },
             "pattern": {
              "fillmode": "overlay",
              "size": 10,
              "solidity": 0.2
             }
            },
            "type": "bar"
           }
          ],
          "barpolar": [
           {
            "marker": {
             "line": {
              "color": "#E5ECF6",
              "width": 0.5
             },
             "pattern": {
              "fillmode": "overlay",
              "size": 10,
              "solidity": 0.2
             }
            },
            "type": "barpolar"
           }
          ],
          "carpet": [
           {
            "aaxis": {
             "endlinecolor": "#2a3f5f",
             "gridcolor": "white",
             "linecolor": "white",
             "minorgridcolor": "white",
             "startlinecolor": "#2a3f5f"
            },
            "baxis": {
             "endlinecolor": "#2a3f5f",
             "gridcolor": "white",
             "linecolor": "white",
             "minorgridcolor": "white",
             "startlinecolor": "#2a3f5f"
            },
            "type": "carpet"
           }
          ],
          "choropleth": [
           {
            "colorbar": {
             "outlinewidth": 0,
             "ticks": ""
            },
            "type": "choropleth"
           }
          ],
          "contour": [
           {
            "colorbar": {
             "outlinewidth": 0,
             "ticks": ""
            },
            "colorscale": [
             [
              0,
              "#0d0887"
             ],
             [
              0.1111111111111111,
              "#46039f"
             ],
             [
              0.2222222222222222,
              "#7201a8"
             ],
             [
              0.3333333333333333,
              "#9c179e"
             ],
             [
              0.4444444444444444,
              "#bd3786"
             ],
             [
              0.5555555555555556,
              "#d8576b"
             ],
             [
              0.6666666666666666,
              "#ed7953"
             ],
             [
              0.7777777777777778,
              "#fb9f3a"
             ],
             [
              0.8888888888888888,
              "#fdca26"
             ],
             [
              1,
              "#f0f921"
             ]
            ],
            "type": "contour"
           }
          ],
          "contourcarpet": [
           {
            "colorbar": {
             "outlinewidth": 0,
             "ticks": ""
            },
            "type": "contourcarpet"
           }
          ],
          "heatmap": [
           {
            "colorbar": {
             "outlinewidth": 0,
             "ticks": ""
            },
            "colorscale": [
             [
              0,
              "#0d0887"
             ],
             [
              0.1111111111111111,
              "#46039f"
             ],
             [
              0.2222222222222222,
              "#7201a8"
             ],
             [
              0.3333333333333333,
              "#9c179e"
             ],
             [
              0.4444444444444444,
              "#bd3786"
             ],
             [
              0.5555555555555556,
              "#d8576b"
             ],
             [
              0.6666666666666666,
              "#ed7953"
             ],
             [
              0.7777777777777778,
              "#fb9f3a"
             ],
             [
              0.8888888888888888,
              "#fdca26"
             ],
             [
              1,
              "#f0f921"
             ]
            ],
            "type": "heatmap"
           }
          ],
          "histogram": [
           {
            "marker": {
             "pattern": {
              "fillmode": "overlay",
              "size": 10,
              "solidity": 0.2
             }
            },
            "type": "histogram"
           }
          ],
          "histogram2d": [
           {
            "colorbar": {
             "outlinewidth": 0,
             "ticks": ""
            },
            "colorscale": [
             [
              0,
              "#0d0887"
             ],
             [
              0.1111111111111111,
              "#46039f"
             ],
             [
              0.2222222222222222,
              "#7201a8"
             ],
             [
              0.3333333333333333,
              "#9c179e"
             ],
             [
              0.4444444444444444,
              "#bd3786"
             ],
             [
              0.5555555555555556,
              "#d8576b"
             ],
             [
              0.6666666666666666,
              "#ed7953"
             ],
             [
              0.7777777777777778,
              "#fb9f3a"
             ],
             [
              0.8888888888888888,
              "#fdca26"
             ],
             [
              1,
              "#f0f921"
             ]
            ],
            "type": "histogram2d"
           }
          ],
          "histogram2dcontour": [
           {
            "colorbar": {
             "outlinewidth": 0,
             "ticks": ""
            },
            "colorscale": [
             [
              0,
              "#0d0887"
             ],
             [
              0.1111111111111111,
              "#46039f"
             ],
             [
              0.2222222222222222,
              "#7201a8"
             ],
             [
              0.3333333333333333,
              "#9c179e"
             ],
             [
              0.4444444444444444,
              "#bd3786"
             ],
             [
              0.5555555555555556,
              "#d8576b"
             ],
             [
              0.6666666666666666,
              "#ed7953"
             ],
             [
              0.7777777777777778,
              "#fb9f3a"
             ],
             [
              0.8888888888888888,
              "#fdca26"
             ],
             [
              1,
              "#f0f921"
             ]
            ],
            "type": "histogram2dcontour"
           }
          ],
          "mesh3d": [
           {
            "colorbar": {
             "outlinewidth": 0,
             "ticks": ""
            },
            "type": "mesh3d"
           }
          ],
          "parcoords": [
           {
            "line": {
             "colorbar": {
              "outlinewidth": 0,
              "ticks": ""
             }
            },
            "type": "parcoords"
           }
          ],
          "pie": [
           {
            "automargin": true,
            "type": "pie"
           }
          ],
          "scatter": [
           {
            "fillpattern": {
             "fillmode": "overlay",
             "size": 10,
             "solidity": 0.2
            },
            "type": "scatter"
           }
          ],
          "scatter3d": [
           {
            "line": {
             "colorbar": {
              "outlinewidth": 0,
              "ticks": ""
             }
            },
            "marker": {
             "colorbar": {
              "outlinewidth": 0,
              "ticks": ""
             }
            },
            "type": "scatter3d"
           }
          ],
          "scattercarpet": [
           {
            "marker": {
             "colorbar": {
              "outlinewidth": 0,
              "ticks": ""
             }
            },
            "type": "scattercarpet"
           }
          ],
          "scattergeo": [
           {
            "marker": {
             "colorbar": {
              "outlinewidth": 0,
              "ticks": ""
             }
            },
            "type": "scattergeo"
           }
          ],
          "scattergl": [
           {
            "marker": {
             "colorbar": {
              "outlinewidth": 0,
              "ticks": ""
             }
            },
            "type": "scattergl"
           }
          ],
          "scattermap": [
           {
            "marker": {
             "colorbar": {
              "outlinewidth": 0,
              "ticks": ""
             }
            },
            "type": "scattermap"
           }
          ],
          "scattermapbox": [
           {
            "marker": {
             "colorbar": {
              "outlinewidth": 0,
              "ticks": ""
             }
            },
            "type": "scattermapbox"
           }
          ],
          "scatterpolar": [
           {
            "marker": {
             "colorbar": {
              "outlinewidth": 0,
              "ticks": ""
             }
            },
            "type": "scatterpolar"
           }
          ],
          "scatterpolargl": [
           {
            "marker": {
             "colorbar": {
              "outlinewidth": 0,
              "ticks": ""
             }
            },
            "type": "scatterpolargl"
           }
          ],
          "scatterternary": [
           {
            "marker": {
             "colorbar": {
              "outlinewidth": 0,
              "ticks": ""
             }
            },
            "type": "scatterternary"
           }
          ],
          "surface": [
           {
            "colorbar": {
             "outlinewidth": 0,
             "ticks": ""
            },
            "colorscale": [
             [
              0,
              "#0d0887"
             ],
             [
              0.1111111111111111,
              "#46039f"
             ],
             [
              0.2222222222222222,
              "#7201a8"
             ],
             [
              0.3333333333333333,
              "#9c179e"
             ],
             [
              0.4444444444444444,
              "#bd3786"
             ],
             [
              0.5555555555555556,
              "#d8576b"
             ],
             [
              0.6666666666666666,
              "#ed7953"
             ],
             [
              0.7777777777777778,
              "#fb9f3a"
             ],
             [
              0.8888888888888888,
              "#fdca26"
             ],
             [
              1,
              "#f0f921"
             ]
            ],
            "type": "surface"
           }
          ],
          "table": [
           {
            "cells": {
             "fill": {
              "color": "#EBF0F8"
             },
             "line": {
              "color": "white"
             }
            },
            "header": {
             "fill": {
              "color": "#C8D4E3"
             },
             "line": {
              "color": "white"
             }
            },
            "type": "table"
           }
          ]
         },
         "layout": {
          "annotationdefaults": {
           "arrowcolor": "#2a3f5f",
           "arrowhead": 0,
           "arrowwidth": 1
          },
          "autotypenumbers": "strict",
          "coloraxis": {
           "colorbar": {
            "outlinewidth": 0,
            "ticks": ""
           }
          },
          "colorscale": {
           "diverging": [
            [
             0,
             "#8e0152"
            ],
            [
             0.1,
             "#c51b7d"
            ],
            [
             0.2,
             "#de77ae"
            ],
            [
             0.3,
             "#f1b6da"
            ],
            [
             0.4,
             "#fde0ef"
            ],
            [
             0.5,
             "#f7f7f7"
            ],
            [
             0.6,
             "#e6f5d0"
            ],
            [
             0.7,
             "#b8e186"
            ],
            [
             0.8,
             "#7fbc41"
            ],
            [
             0.9,
             "#4d9221"
            ],
            [
             1,
             "#276419"
            ]
           ],
           "sequential": [
            [
             0,
             "#0d0887"
            ],
            [
             0.1111111111111111,
             "#46039f"
            ],
            [
             0.2222222222222222,
             "#7201a8"
            ],
            [
             0.3333333333333333,
             "#9c179e"
            ],
            [
             0.4444444444444444,
             "#bd3786"
            ],
            [
             0.5555555555555556,
             "#d8576b"
            ],
            [
             0.6666666666666666,
             "#ed7953"
            ],
            [
             0.7777777777777778,
             "#fb9f3a"
            ],
            [
             0.8888888888888888,
             "#fdca26"
            ],
            [
             1,
             "#f0f921"
            ]
           ],
           "sequentialminus": [
            [
             0,
             "#0d0887"
            ],
            [
             0.1111111111111111,
             "#46039f"
            ],
            [
             0.2222222222222222,
             "#7201a8"
            ],
            [
             0.3333333333333333,
             "#9c179e"
            ],
            [
             0.4444444444444444,
             "#bd3786"
            ],
            [
             0.5555555555555556,
             "#d8576b"
            ],
            [
             0.6666666666666666,
             "#ed7953"
            ],
            [
             0.7777777777777778,
             "#fb9f3a"
            ],
            [
             0.8888888888888888,
             "#fdca26"
            ],
            [
             1,
             "#f0f921"
            ]
           ]
          },
          "colorway": [
           "#636efa",
           "#EF553B",
           "#00cc96",
           "#ab63fa",
           "#FFA15A",
           "#19d3f3",
           "#FF6692",
           "#B6E880",
           "#FF97FF",
           "#FECB52"
          ],
          "font": {
           "color": "#2a3f5f"
          },
          "geo": {
           "bgcolor": "white",
           "lakecolor": "white",
           "landcolor": "#E5ECF6",
           "showlakes": true,
           "showland": true,
           "subunitcolor": "white"
          },
          "hoverlabel": {
           "align": "left"
          },
          "hovermode": "closest",
          "mapbox": {
           "style": "light"
          },
          "paper_bgcolor": "white",
          "plot_bgcolor": "#E5ECF6",
          "polar": {
           "angularaxis": {
            "gridcolor": "white",
            "linecolor": "white",
            "ticks": ""
           },
           "bgcolor": "#E5ECF6",
           "radialaxis": {
            "gridcolor": "white",
            "linecolor": "white",
            "ticks": ""
           }
          },
          "scene": {
           "xaxis": {
            "backgroundcolor": "#E5ECF6",
            "gridcolor": "white",
            "gridwidth": 2,
            "linecolor": "white",
            "showbackground": true,
            "ticks": "",
            "zerolinecolor": "white"
           },
           "yaxis": {
            "backgroundcolor": "#E5ECF6",
            "gridcolor": "white",
            "gridwidth": 2,
            "linecolor": "white",
            "showbackground": true,
            "ticks": "",
            "zerolinecolor": "white"
           },
           "zaxis": {
            "backgroundcolor": "#E5ECF6",
            "gridcolor": "white",
            "gridwidth": 2,
            "linecolor": "white",
            "showbackground": true,
            "ticks": "",
            "zerolinecolor": "white"
           }
          },
          "shapedefaults": {
           "line": {
            "color": "#2a3f5f"
           }
          },
          "ternary": {
           "aaxis": {
            "gridcolor": "white",
            "linecolor": "white",
            "ticks": ""
           },
           "baxis": {
            "gridcolor": "white",
            "linecolor": "white",
            "ticks": ""
           },
           "bgcolor": "#E5ECF6",
           "caxis": {
            "gridcolor": "white",
            "linecolor": "white",
            "ticks": ""
           }
          },
          "title": {
           "x": 0.05
          },
          "xaxis": {
           "automargin": true,
           "gridcolor": "white",
           "linecolor": "white",
           "ticks": "",
           "title": {
            "standoff": 15
           },
           "zerolinecolor": "white",
           "zerolinewidth": 2
          },
          "yaxis": {
           "automargin": true,
           "gridcolor": "white",
           "linecolor": "white",
           "ticks": "",
           "title": {
            "standoff": 15
           },
           "zerolinecolor": "white",
           "zerolinewidth": 2
          }
         }
        },
        "title": {
         "font": {
          "family": "Teleneo",
          "size": 24
         },
         "text": "Annual Impact & ROI Projection",
         "x": 0.5,
         "xanchor": "center"
        },
        "width": 1400,
        "xaxis": {
         "anchor": "y",
         "domain": [
          0,
          0.45
         ]
        },
        "xaxis2": {
         "anchor": "y2",
         "domain": [
          0.55,
          1
         ]
        },
        "yaxis": {
         "anchor": "x",
         "domain": [
          0,
          1
         ],
         "title": {
          "font": {
           "family": "Teleneo",
           "size": 16
          },
          "text": "Annual Revenue (€)"
         }
        },
        "yaxis2": {
         "anchor": "x2",
         "domain": [
          0,
          1
         ],
         "title": {
          "font": {
           "family": "Teleneo",
           "size": 16
          },
          "text": "ROI (%)"
         }
        }
       }
      }
     },
     "metadata": {},
     "output_type": "display_data"
    }
   ],
   "source": [
    "projections = []\n",
    "for scenario in scenarios:\n",
    "    new_upselling_rate = min(current_upselling_rate * scenario['improvement'], 25)  # cap at 25%\n",
    "    additional_upsells = (new_upselling_rate - current_upselling_rate) / 100 * total_contracts\n",
    "    monthly_revenue_increase = abs(additional_upsells * revenue_uplift_per_upsell)\n",
    "    annual_revenue_increase = abs(monthly_revenue_increase * 12)\n",
    "\n",
    "    projections.append({\n",
    "        'scenario': scenario['name'],\n",
    "        'description': scenario['description'],\n",
    "        'new_upselling_rate': new_upselling_rate,\n",
    "        'additional_upsells': abs(additional_upsells),\n",
    "        'monthly_increase': monthly_revenue_increase,\n",
    "        'annual_increase': annual_revenue_increase\n",
    "    })\n",
    "\n",
    "# Visualization setup: 1x2 subplots (wide format)\n",
    "fig = make_subplots(\n",
    "    rows=1, cols=2,\n",
    "    subplot_titles=(\n",
    "        'Annual Revenue Projection',\n",
    "        'ROI Potential'\n",
    "    )\n",
    ")\n",
    "\n",
    "scenario_names = [p['scenario'] for p in projections]\n",
    "colors = [MAGENTA_LIGHT, MAGENTA_COLOR, MAGENTA_DARK]\n",
    "\n",
    "# Annual revenue increase bars\n",
    "fig.add_trace(\n",
    "    go.Bar(\n",
    "        x=scenario_names,\n",
    "        y=[p['annual_increase'] for p in projections],\n",
    "        name='Annual Revenue Increase',\n",
    "        marker_color=colors,\n",
    "        text=[f'€{p[\"annual_increase\"]/1_000_000:.1f}M' for p in projections],\n",
    "        textposition='auto',\n",
    "        textfont=dict(size=16, family=FONT_FAMILY)\n",
    "    ),\n",
    "    row=1, col=1\n",
    ")\n",
    "\n",
    "# ROI calculation and bars\n",
    "implementation_cost = 100000\n",
    "roi_values = [\n",
    "    abs((p['annual_increase'] - implementation_cost) / implementation_cost * 100)\n",
    "    for p in projections\n",
    "]\n",
    "\n",
    "fig.add_trace(\n",
    "    go.Bar(\n",
    "        x=scenario_names,\n",
    "        y=roi_values,\n",
    "        name='ROI (%)',\n",
    "        marker_color=colors,\n",
    "        text=[f'{roi:.0f}%' for roi in roi_values],\n",
    "        textposition='auto',\n",
    "        textfont=dict(size=16, family=FONT_FAMILY)\n",
    "    ),\n",
    "    row=1, col=2\n",
    ")\n",
    "\n",
    "# Update axes titles\n",
    "fig.update_yaxes(title_text=\"Annual Revenue (€)\", row=1, col=1, title_font=dict(size=16, family=FONT_FAMILY))\n",
    "fig.update_yaxes(title_text=\"ROI (%)\", row=1, col=2, title_font=dict(size=16, family=FONT_FAMILY))\n",
    "\n",
    "# Update overall layout\n",
    "fig.update_layout(\n",
    "    title={\n",
    "        'text': 'Annual Impact & ROI Projection',\n",
    "        'x': 0.5,\n",
    "        'xanchor': 'center',\n",
    "        'font': {'size': 24, 'family': FONT_FAMILY}\n",
    "    },\n",
    "    height=500,\n",
    "    width=1400,\n",
    "    plot_bgcolor='rgba(0,0,0,0)',\n",
    "    paper_bgcolor='rgb(250,250,250)',\n",
    "    showlegend=False,\n",
    "    font=dict(family=FONT_FAMILY, size=16),\n",
    ")\n",
    "\n",
    "fig.show()\n",
    "\n",
    "fig.write_image(images_dir / \"annual_impact_roi_projection.pdf\", width=2000, height=600, scale=2)"
   ]
  },
  {
   "cell_type": "code",
   "execution_count": 50,
   "metadata": {},
   "outputs": [
    {
     "data": {
      "application/vnd.plotly.v1+json": {
       "config": {
        "plotlyServerURL": "https://plot.ly"
       },
       "data": [
        {
         "marker": {
          "color": [
           "rgba(226,0,116,0.7)",
           "rgb(226,0,116)",
           "rgb(180,0,93)"
          ]
         },
         "name": "Annual Revenue Increase",
         "text": [
          "€0.1M",
          "€0.2M",
          "€0.3M"
         ],
         "textfont": {
          "family": "Teleneo",
          "size": 16
         },
         "textposition": "auto",
         "type": "bar",
         "x": [
          "Conservative",
          "Moderate",
          "Aggressive"
         ],
         "y": [
          82933.36483136273,
          165866.72966272547,
          331733.45932545094
         ]
        }
       ],
       "layout": {
        "font": {
         "family": "Teleneo",
         "size": 16
        },
        "height": 500,
        "paper_bgcolor": "rgb(250,250,250)",
        "plot_bgcolor": "rgba(0,0,0,0)",
        "showlegend": false,
        "template": {
         "data": {
          "bar": [
           {
            "error_x": {
             "color": "#2a3f5f"
            },
            "error_y": {
             "color": "#2a3f5f"
            },
            "marker": {
             "line": {
              "color": "#E5ECF6",
              "width": 0.5
             },
             "pattern": {
              "fillmode": "overlay",
              "size": 10,
              "solidity": 0.2
             }
            },
            "type": "bar"
           }
          ],
          "barpolar": [
           {
            "marker": {
             "line": {
              "color": "#E5ECF6",
              "width": 0.5
             },
             "pattern": {
              "fillmode": "overlay",
              "size": 10,
              "solidity": 0.2
             }
            },
            "type": "barpolar"
           }
          ],
          "carpet": [
           {
            "aaxis": {
             "endlinecolor": "#2a3f5f",
             "gridcolor": "white",
             "linecolor": "white",
             "minorgridcolor": "white",
             "startlinecolor": "#2a3f5f"
            },
            "baxis": {
             "endlinecolor": "#2a3f5f",
             "gridcolor": "white",
             "linecolor": "white",
             "minorgridcolor": "white",
             "startlinecolor": "#2a3f5f"
            },
            "type": "carpet"
           }
          ],
          "choropleth": [
           {
            "colorbar": {
             "outlinewidth": 0,
             "ticks": ""
            },
            "type": "choropleth"
           }
          ],
          "contour": [
           {
            "colorbar": {
             "outlinewidth": 0,
             "ticks": ""
            },
            "colorscale": [
             [
              0,
              "#0d0887"
             ],
             [
              0.1111111111111111,
              "#46039f"
             ],
             [
              0.2222222222222222,
              "#7201a8"
             ],
             [
              0.3333333333333333,
              "#9c179e"
             ],
             [
              0.4444444444444444,
              "#bd3786"
             ],
             [
              0.5555555555555556,
              "#d8576b"
             ],
             [
              0.6666666666666666,
              "#ed7953"
             ],
             [
              0.7777777777777778,
              "#fb9f3a"
             ],
             [
              0.8888888888888888,
              "#fdca26"
             ],
             [
              1,
              "#f0f921"
             ]
            ],
            "type": "contour"
           }
          ],
          "contourcarpet": [
           {
            "colorbar": {
             "outlinewidth": 0,
             "ticks": ""
            },
            "type": "contourcarpet"
           }
          ],
          "heatmap": [
           {
            "colorbar": {
             "outlinewidth": 0,
             "ticks": ""
            },
            "colorscale": [
             [
              0,
              "#0d0887"
             ],
             [
              0.1111111111111111,
              "#46039f"
             ],
             [
              0.2222222222222222,
              "#7201a8"
             ],
             [
              0.3333333333333333,
              "#9c179e"
             ],
             [
              0.4444444444444444,
              "#bd3786"
             ],
             [
              0.5555555555555556,
              "#d8576b"
             ],
             [
              0.6666666666666666,
              "#ed7953"
             ],
             [
              0.7777777777777778,
              "#fb9f3a"
             ],
             [
              0.8888888888888888,
              "#fdca26"
             ],
             [
              1,
              "#f0f921"
             ]
            ],
            "type": "heatmap"
           }
          ],
          "histogram": [
           {
            "marker": {
             "pattern": {
              "fillmode": "overlay",
              "size": 10,
              "solidity": 0.2
             }
            },
            "type": "histogram"
           }
          ],
          "histogram2d": [
           {
            "colorbar": {
             "outlinewidth": 0,
             "ticks": ""
            },
            "colorscale": [
             [
              0,
              "#0d0887"
             ],
             [
              0.1111111111111111,
              "#46039f"
             ],
             [
              0.2222222222222222,
              "#7201a8"
             ],
             [
              0.3333333333333333,
              "#9c179e"
             ],
             [
              0.4444444444444444,
              "#bd3786"
             ],
             [
              0.5555555555555556,
              "#d8576b"
             ],
             [
              0.6666666666666666,
              "#ed7953"
             ],
             [
              0.7777777777777778,
              "#fb9f3a"
             ],
             [
              0.8888888888888888,
              "#fdca26"
             ],
             [
              1,
              "#f0f921"
             ]
            ],
            "type": "histogram2d"
           }
          ],
          "histogram2dcontour": [
           {
            "colorbar": {
             "outlinewidth": 0,
             "ticks": ""
            },
            "colorscale": [
             [
              0,
              "#0d0887"
             ],
             [
              0.1111111111111111,
              "#46039f"
             ],
             [
              0.2222222222222222,
              "#7201a8"
             ],
             [
              0.3333333333333333,
              "#9c179e"
             ],
             [
              0.4444444444444444,
              "#bd3786"
             ],
             [
              0.5555555555555556,
              "#d8576b"
             ],
             [
              0.6666666666666666,
              "#ed7953"
             ],
             [
              0.7777777777777778,
              "#fb9f3a"
             ],
             [
              0.8888888888888888,
              "#fdca26"
             ],
             [
              1,
              "#f0f921"
             ]
            ],
            "type": "histogram2dcontour"
           }
          ],
          "mesh3d": [
           {
            "colorbar": {
             "outlinewidth": 0,
             "ticks": ""
            },
            "type": "mesh3d"
           }
          ],
          "parcoords": [
           {
            "line": {
             "colorbar": {
              "outlinewidth": 0,
              "ticks": ""
             }
            },
            "type": "parcoords"
           }
          ],
          "pie": [
           {
            "automargin": true,
            "type": "pie"
           }
          ],
          "scatter": [
           {
            "fillpattern": {
             "fillmode": "overlay",
             "size": 10,
             "solidity": 0.2
            },
            "type": "scatter"
           }
          ],
          "scatter3d": [
           {
            "line": {
             "colorbar": {
              "outlinewidth": 0,
              "ticks": ""
             }
            },
            "marker": {
             "colorbar": {
              "outlinewidth": 0,
              "ticks": ""
             }
            },
            "type": "scatter3d"
           }
          ],
          "scattercarpet": [
           {
            "marker": {
             "colorbar": {
              "outlinewidth": 0,
              "ticks": ""
             }
            },
            "type": "scattercarpet"
           }
          ],
          "scattergeo": [
           {
            "marker": {
             "colorbar": {
              "outlinewidth": 0,
              "ticks": ""
             }
            },
            "type": "scattergeo"
           }
          ],
          "scattergl": [
           {
            "marker": {
             "colorbar": {
              "outlinewidth": 0,
              "ticks": ""
             }
            },
            "type": "scattergl"
           }
          ],
          "scattermap": [
           {
            "marker": {
             "colorbar": {
              "outlinewidth": 0,
              "ticks": ""
             }
            },
            "type": "scattermap"
           }
          ],
          "scattermapbox": [
           {
            "marker": {
             "colorbar": {
              "outlinewidth": 0,
              "ticks": ""
             }
            },
            "type": "scattermapbox"
           }
          ],
          "scatterpolar": [
           {
            "marker": {
             "colorbar": {
              "outlinewidth": 0,
              "ticks": ""
             }
            },
            "type": "scatterpolar"
           }
          ],
          "scatterpolargl": [
           {
            "marker": {
             "colorbar": {
              "outlinewidth": 0,
              "ticks": ""
             }
            },
            "type": "scatterpolargl"
           }
          ],
          "scatterternary": [
           {
            "marker": {
             "colorbar": {
              "outlinewidth": 0,
              "ticks": ""
             }
            },
            "type": "scatterternary"
           }
          ],
          "surface": [
           {
            "colorbar": {
             "outlinewidth": 0,
             "ticks": ""
            },
            "colorscale": [
             [
              0,
              "#0d0887"
             ],
             [
              0.1111111111111111,
              "#46039f"
             ],
             [
              0.2222222222222222,
              "#7201a8"
             ],
             [
              0.3333333333333333,
              "#9c179e"
             ],
             [
              0.4444444444444444,
              "#bd3786"
             ],
             [
              0.5555555555555556,
              "#d8576b"
             ],
             [
              0.6666666666666666,
              "#ed7953"
             ],
             [
              0.7777777777777778,
              "#fb9f3a"
             ],
             [
              0.8888888888888888,
              "#fdca26"
             ],
             [
              1,
              "#f0f921"
             ]
            ],
            "type": "surface"
           }
          ],
          "table": [
           {
            "cells": {
             "fill": {
              "color": "#EBF0F8"
             },
             "line": {
              "color": "white"
             }
            },
            "header": {
             "fill": {
              "color": "#C8D4E3"
             },
             "line": {
              "color": "white"
             }
            },
            "type": "table"
           }
          ]
         },
         "layout": {
          "annotationdefaults": {
           "arrowcolor": "#2a3f5f",
           "arrowhead": 0,
           "arrowwidth": 1
          },
          "autotypenumbers": "strict",
          "coloraxis": {
           "colorbar": {
            "outlinewidth": 0,
            "ticks": ""
           }
          },
          "colorscale": {
           "diverging": [
            [
             0,
             "#8e0152"
            ],
            [
             0.1,
             "#c51b7d"
            ],
            [
             0.2,
             "#de77ae"
            ],
            [
             0.3,
             "#f1b6da"
            ],
            [
             0.4,
             "#fde0ef"
            ],
            [
             0.5,
             "#f7f7f7"
            ],
            [
             0.6,
             "#e6f5d0"
            ],
            [
             0.7,
             "#b8e186"
            ],
            [
             0.8,
             "#7fbc41"
            ],
            [
             0.9,
             "#4d9221"
            ],
            [
             1,
             "#276419"
            ]
           ],
           "sequential": [
            [
             0,
             "#0d0887"
            ],
            [
             0.1111111111111111,
             "#46039f"
            ],
            [
             0.2222222222222222,
             "#7201a8"
            ],
            [
             0.3333333333333333,
             "#9c179e"
            ],
            [
             0.4444444444444444,
             "#bd3786"
            ],
            [
             0.5555555555555556,
             "#d8576b"
            ],
            [
             0.6666666666666666,
             "#ed7953"
            ],
            [
             0.7777777777777778,
             "#fb9f3a"
            ],
            [
             0.8888888888888888,
             "#fdca26"
            ],
            [
             1,
             "#f0f921"
            ]
           ],
           "sequentialminus": [
            [
             0,
             "#0d0887"
            ],
            [
             0.1111111111111111,
             "#46039f"
            ],
            [
             0.2222222222222222,
             "#7201a8"
            ],
            [
             0.3333333333333333,
             "#9c179e"
            ],
            [
             0.4444444444444444,
             "#bd3786"
            ],
            [
             0.5555555555555556,
             "#d8576b"
            ],
            [
             0.6666666666666666,
             "#ed7953"
            ],
            [
             0.7777777777777778,
             "#fb9f3a"
            ],
            [
             0.8888888888888888,
             "#fdca26"
            ],
            [
             1,
             "#f0f921"
            ]
           ]
          },
          "colorway": [
           "#636efa",
           "#EF553B",
           "#00cc96",
           "#ab63fa",
           "#FFA15A",
           "#19d3f3",
           "#FF6692",
           "#B6E880",
           "#FF97FF",
           "#FECB52"
          ],
          "font": {
           "color": "#2a3f5f"
          },
          "geo": {
           "bgcolor": "white",
           "lakecolor": "white",
           "landcolor": "#E5ECF6",
           "showlakes": true,
           "showland": true,
           "subunitcolor": "white"
          },
          "hoverlabel": {
           "align": "left"
          },
          "hovermode": "closest",
          "mapbox": {
           "style": "light"
          },
          "paper_bgcolor": "white",
          "plot_bgcolor": "#E5ECF6",
          "polar": {
           "angularaxis": {
            "gridcolor": "white",
            "linecolor": "white",
            "ticks": ""
           },
           "bgcolor": "#E5ECF6",
           "radialaxis": {
            "gridcolor": "white",
            "linecolor": "white",
            "ticks": ""
           }
          },
          "scene": {
           "xaxis": {
            "backgroundcolor": "#E5ECF6",
            "gridcolor": "white",
            "gridwidth": 2,
            "linecolor": "white",
            "showbackground": true,
            "ticks": "",
            "zerolinecolor": "white"
           },
           "yaxis": {
            "backgroundcolor": "#E5ECF6",
            "gridcolor": "white",
            "gridwidth": 2,
            "linecolor": "white",
            "showbackground": true,
            "ticks": "",
            "zerolinecolor": "white"
           },
           "zaxis": {
            "backgroundcolor": "#E5ECF6",
            "gridcolor": "white",
            "gridwidth": 2,
            "linecolor": "white",
            "showbackground": true,
            "ticks": "",
            "zerolinecolor": "white"
           }
          },
          "shapedefaults": {
           "line": {
            "color": "#2a3f5f"
           }
          },
          "ternary": {
           "aaxis": {
            "gridcolor": "white",
            "linecolor": "white",
            "ticks": ""
           },
           "baxis": {
            "gridcolor": "white",
            "linecolor": "white",
            "ticks": ""
           },
           "bgcolor": "#E5ECF6",
           "caxis": {
            "gridcolor": "white",
            "linecolor": "white",
            "ticks": ""
           }
          },
          "title": {
           "x": 0.05
          },
          "xaxis": {
           "automargin": true,
           "gridcolor": "white",
           "linecolor": "white",
           "ticks": "",
           "title": {
            "standoff": 15
           },
           "zerolinecolor": "white",
           "zerolinewidth": 2
          },
          "yaxis": {
           "automargin": true,
           "gridcolor": "white",
           "linecolor": "white",
           "ticks": "",
           "title": {
            "standoff": 15
           },
           "zerolinecolor": "white",
           "zerolinewidth": 2
          }
         }
        },
        "title": {
         "font": {
          "family": "Teleneo",
          "size": 24
         },
         "text": "Annual Revenue Projection",
         "x": 0.5,
         "xanchor": "center"
        },
        "width": 700,
        "yaxis": {
         "title": {
          "font": {
           "family": "Teleneo",
           "size": 16
          },
          "text": "Annual Revenue (€)"
         }
        }
       }
      }
     },
     "metadata": {},
     "output_type": "display_data"
    }
   ],
   "source": [
    "projections = []\n",
    "for scenario in scenarios:\n",
    "    new_upselling_rate = min(current_upselling_rate * scenario['improvement'], 25)  # cap at 25%\n",
    "    additional_upsells = (new_upselling_rate - current_upselling_rate) / 100 * total_contracts\n",
    "    monthly_revenue_increase = abs(additional_upsells * revenue_uplift_per_upsell)\n",
    "    annual_revenue_increase = abs(monthly_revenue_increase * 12)\n",
    "\n",
    "    projections.append({\n",
    "        'scenario': scenario['name'],\n",
    "        'description': scenario['description'],\n",
    "        'new_upselling_rate': new_upselling_rate,\n",
    "        'additional_upsells': abs(additional_upsells),\n",
    "        'monthly_increase': monthly_revenue_increase,\n",
    "        'annual_increase': annual_revenue_increase\n",
    "    })\n",
    "\n",
    "# Visualization: Annual Revenue Projection\n",
    "fig = go.Figure()\n",
    "\n",
    "scenario_names = [p['scenario'] for p in projections]\n",
    "colors = [MAGENTA_LIGHT, MAGENTA_COLOR, MAGENTA_DARK]\n",
    "\n",
    "fig.add_trace(\n",
    "    go.Bar(\n",
    "        x=scenario_names,\n",
    "        y=[p['annual_increase'] for p in projections],\n",
    "        name='Annual Revenue Increase',\n",
    "        marker_color=colors,\n",
    "        text=[f'€{p[\"annual_increase\"]/1_000_000:.1f}M' for p in projections],\n",
    "        textposition='auto',\n",
    "        textfont=dict(size=16, family=FONT_FAMILY)\n",
    "    )\n",
    ")\n",
    "\n",
    "fig.update_yaxes(\n",
    "    title_text=\"Annual Revenue (€)\",\n",
    "    title_font=dict(size=16, family=FONT_FAMILY)\n",
    ")\n",
    "\n",
    "fig.update_layout(\n",
    "    title={\n",
    "        'text': 'Annual Revenue Projection',\n",
    "        'x': 0.5,\n",
    "        'xanchor': 'center',\n",
    "        'font': {'size': 24, 'family': FONT_FAMILY}\n",
    "    },\n",
    "    height=500,\n",
    "    width=700,\n",
    "    plot_bgcolor='rgba(0,0,0,0)',\n",
    "    paper_bgcolor='rgb(250,250,250)',\n",
    "    showlegend=False,\n",
    "    font=dict(family=FONT_FAMILY, size=16),\n",
    ")\n",
    "\n",
    "fig.show()\n",
    "\n",
    "fig.write_image(images_dir / \"annual_revenue_projection.pdf\", width=1000, height=600, scale=2)\n"
   ]
  },
  {
   "cell_type": "code",
   "execution_count": null,
   "metadata": {},
   "outputs": [],
   "source": []
  }
 ],
 "metadata": {
  "kernelspec": {
   "display_name": "Python 3",
   "language": "python",
   "name": "python3"
  },
  "language_info": {
   "codemirror_mode": {
    "name": "ipython",
    "version": 3
   },
   "file_extension": ".py",
   "mimetype": "text/x-python",
   "name": "python",
   "nbconvert_exporter": "python",
   "pygments_lexer": "ipython3",
   "version": "3.8.5"
  }
 },
 "nbformat": 4,
 "nbformat_minor": 4
}
