{
 "cells": [
  {
   "cell_type": "code",
   "execution_count": 1,
   "id": "c114d560",
   "metadata": {},
   "outputs": [],
   "source": [
    "import sys\n",
    "from pathlib import Path\n",
    "import os\n",
    "\n",
    "lib_path = Path(\"/workspaces/data-scientist-at-magenta/src/code_location_interview/code_location_interview/assets/lib\")\n",
    "\n",
    "# Add it to sys.path if it's not already there\n",
    "if str(lib_path) not in sys.path:\n",
    "    sys.path.append(str(lib_path))\n",
    "\n",
    "from datawarehouse import create"
   ]
  },
  {
   "cell_type": "code",
   "execution_count": 2,
   "id": "66355880",
   "metadata": {},
   "outputs": [],
   "source": [
    "duckdb_database = os.environ.get(\"DUCKDB_DATABASE\")"
   ]
  },
  {
   "cell_type": "markdown",
   "id": "76e826ef",
   "metadata": {},
   "source": [
    "# Create"
   ]
  },
  {
   "cell_type": "code",
   "execution_count": 5,
   "id": "118d15c6",
   "metadata": {},
   "outputs": [
    {
     "name": "stdout",
     "output_type": "stream",
     "text": [
      "Initializing data warehouse at: /workspaces/data-scientist-at-magenta/src/code_location_interview/code_location_interview/dwh/database.duckdb\n",
      "Creating raw data tables...\n",
      "Creating feature tables...\n",
      "Creating model registry tables...\n",
      "Creating prediction tables...\n",
      "\n",
      "Successfully created 8 tables:\n",
      "  - feature_statistics\n",
      "  - model_registry\n",
      "  - predictions\n",
      "  - processed_features\n",
      "  - raw_core_data\n",
      "  - raw_customer_interactions\n",
      "  - raw_labels\n",
      "  - raw_usage_info\n",
      "\n",
      "Data warehouse initialization completed successfully!\n",
      "Database file: /workspaces/data-scientist-at-magenta/src/code_location_interview/code_location_interview/dwh/database.duckdb\n"
     ]
    }
   ],
   "source": [
    "create(duckdb_database)"
   ]
  },
  {
   "cell_type": "markdown",
   "id": "3f131780",
   "metadata": {},
   "source": [
    "# Check"
   ]
  },
  {
   "cell_type": "code",
   "execution_count": 22,
   "id": "e83b5f89",
   "metadata": {},
   "outputs": [
    {
     "data": {
      "text/plain": [
       "<duckdb.duckdb.DuckDBPyConnection at 0x75080d67e7b0>"
      ]
     },
     "execution_count": 22,
     "metadata": {},
     "output_type": "execute_result"
    }
   ],
   "source": [
    "conn.execute(\"DROP TABLE IF EXISTS predictions\")"
   ]
  },
  {
   "cell_type": "code",
   "execution_count": 3,
   "id": "1b8f6af0",
   "metadata": {},
   "outputs": [
    {
     "name": "stdout",
     "output_type": "stream",
     "text": [
      "                        name\n",
      "0         feature_statistics\n",
      "1             model_registry\n",
      "2                predictions\n",
      "3         processed_features\n",
      "4              raw_core_data\n",
      "5  raw_customer_interactions\n",
      "6                 raw_labels\n",
      "7             raw_usage_info\n"
     ]
    }
   ],
   "source": [
    "import duckdb\n",
    "\n",
    "conn = duckdb.connect(database=duckdb_database)\n",
    "tables = conn.execute(\"SHOW TABLES\").fetchdf()\n",
    "print(tables)"
   ]
  },
  {
   "cell_type": "markdown",
   "id": "e7e7288f",
   "metadata": {},
   "source": [
    "# Model"
   ]
  },
  {
   "cell_type": "code",
   "execution_count": 9,
   "id": "ebd6eba6",
   "metadata": {},
   "outputs": [
    {
     "data": {
      "text/html": [
       "<div>\n",
       "<style scoped>\n",
       "    .dataframe tbody tr th:only-of-type {\n",
       "        vertical-align: middle;\n",
       "    }\n",
       "\n",
       "    .dataframe tbody tr th {\n",
       "        vertical-align: top;\n",
       "    }\n",
       "\n",
       "    .dataframe thead th {\n",
       "        text-align: right;\n",
       "    }\n",
       "</style>\n",
       "<table border=\"1\" class=\"dataframe\">\n",
       "  <thead>\n",
       "    <tr style=\"text-align: right;\">\n",
       "      <th></th>\n",
       "      <th>model_id</th>\n",
       "      <th>model_name</th>\n",
       "      <th>version</th>\n",
       "      <th>model_artifact</th>\n",
       "      <th>metadata</th>\n",
       "      <th>status</th>\n",
       "      <th>is_current_model</th>\n",
       "      <th>created_at</th>\n",
       "    </tr>\n",
       "  </thead>\n",
       "  <tbody>\n",
       "    <tr>\n",
       "      <th>0</th>\n",
       "      <td>model_001</td>\n",
       "      <td>RandomForest-General</td>\n",
       "      <td>1.0</td>\n",
       "      <td>[128, 4, 149, 232, 3, 1, 0, 0, 0, 0, 0, 140, 2...</td>\n",
       "      <td>{\"algorithm\": \"RandomForestClassifier\", \"hyper...</td>\n",
       "      <td>deployed</td>\n",
       "      <td>True</td>\n",
       "      <td>2025-07-02 23:00:09.682</td>\n",
       "    </tr>\n",
       "  </tbody>\n",
       "</table>\n",
       "</div>"
      ],
      "text/plain": [
       "    model_id            model_name version  \\\n",
       "0  model_001  RandomForest-General     1.0   \n",
       "\n",
       "                                      model_artifact  \\\n",
       "0  [128, 4, 149, 232, 3, 1, 0, 0, 0, 0, 0, 140, 2...   \n",
       "\n",
       "                                            metadata    status  \\\n",
       "0  {\"algorithm\": \"RandomForestClassifier\", \"hyper...  deployed   \n",
       "\n",
       "   is_current_model              created_at  \n",
       "0              True 2025-07-02 23:00:09.682  "
      ]
     },
     "execution_count": 9,
     "metadata": {},
     "output_type": "execute_result"
    }
   ],
   "source": [
    "conn.execute(\"SELECT * FROM model_registry\").fetchdf()"
   ]
  },
  {
   "cell_type": "code",
   "execution_count": 5,
   "id": "c6019af5",
   "metadata": {},
   "outputs": [],
   "source": [
    "query = \"\"\"\n",
    "    SELECT \n",
    "        model_id,\n",
    "        model_name,\n",
    "        version,\n",
    "        model_artifact,\n",
    "        metadata,\n",
    "        created_at\n",
    "    FROM model_registry\n",
    "    WHERE is_current_model = TRUE AND status = 'deployed'\n",
    "    ORDER BY created_at DESC\n",
    "    LIMIT 1\n",
    "\"\"\""
   ]
  },
  {
   "cell_type": "code",
   "execution_count": 6,
   "id": "b3c3fda3",
   "metadata": {},
   "outputs": [
    {
     "data": {
      "text/html": [
       "<div>\n",
       "<style scoped>\n",
       "    .dataframe tbody tr th:only-of-type {\n",
       "        vertical-align: middle;\n",
       "    }\n",
       "\n",
       "    .dataframe tbody tr th {\n",
       "        vertical-align: top;\n",
       "    }\n",
       "\n",
       "    .dataframe thead th {\n",
       "        text-align: right;\n",
       "    }\n",
       "</style>\n",
       "<table border=\"1\" class=\"dataframe\">\n",
       "  <thead>\n",
       "    <tr style=\"text-align: right;\">\n",
       "      <th></th>\n",
       "      <th>model_id</th>\n",
       "      <th>model_name</th>\n",
       "      <th>version</th>\n",
       "      <th>model_artifact</th>\n",
       "      <th>metadata</th>\n",
       "      <th>created_at</th>\n",
       "    </tr>\n",
       "  </thead>\n",
       "  <tbody>\n",
       "    <tr>\n",
       "      <th>0</th>\n",
       "      <td>model_001</td>\n",
       "      <td>RandomForest-General</td>\n",
       "      <td>1.0</td>\n",
       "      <td>[128, 4, 149, 232, 3, 1, 0, 0, 0, 0, 0, 140, 2...</td>\n",
       "      <td>{\"algorithm\": \"RandomForestClassifier\", \"hyper...</td>\n",
       "      <td>2025-07-02 23:00:09.682</td>\n",
       "    </tr>\n",
       "  </tbody>\n",
       "</table>\n",
       "</div>"
      ],
      "text/plain": [
       "    model_id            model_name version  \\\n",
       "0  model_001  RandomForest-General     1.0   \n",
       "\n",
       "                                      model_artifact  \\\n",
       "0  [128, 4, 149, 232, 3, 1, 0, 0, 0, 0, 0, 140, 2...   \n",
       "\n",
       "                                            metadata              created_at  \n",
       "0  {\"algorithm\": \"RandomForestClassifier\", \"hyper... 2025-07-02 23:00:09.682  "
      ]
     },
     "execution_count": 6,
     "metadata": {},
     "output_type": "execute_result"
    }
   ],
   "source": [
    "conn.execute(query).fetchdf()"
   ]
  },
  {
   "cell_type": "code",
   "execution_count": 8,
   "id": "72a52387",
   "metadata": {},
   "outputs": [
    {
     "data": {
      "text/plain": [
       "<duckdb.duckdb.DuckDBPyConnection at 0x7b9d1f341070>"
      ]
     },
     "execution_count": 8,
     "metadata": {},
     "output_type": "execute_result"
    }
   ],
   "source": [
    "import pickle\n",
    "from pathlib import Path\n",
    "import json\n",
    "import duckdb\n",
    "\n",
    "conn = duckdb.connect(database=duckdb_database)\n",
    "# tables = conn.execute(\"SHOW TABLES\").fetchdf()\n",
    "# print(tables)\n",
    "\n",
    "artifact_path = Path(\"../src/code_location_interview/code_location_interview/assets/artifacts/initial_model.pkl\")\n",
    "# Load the pickled model artifact as bytes\n",
    "with open(artifact_path, \"rb\") as f:\n",
    "    model_artifact = f.read()\n",
    "\n",
    "model = pickle.loads(model_artifact)\n",
    "\n",
    "# Define model details\n",
    "model_id = \"model_001\"\n",
    "model_name = \"RandomForest-General\"\n",
    "version = \"1.0\"\n",
    "\n",
    "status = \"deployed\"\n",
    "is_current_model = True\n",
    "metadata = {\n",
    "    \"algorithm\": \"RandomForestClassifier\",\n",
    "    \"hyperparameters\": model.get_params()\n",
    "}\n",
    "\n",
    "# Load the pickled model artifact as bytes\n",
    "with open(artifact_path, \"rb\") as f:\n",
    "    model_artifact = f.read()\n",
    "\n",
    "# Insert the row into model_registry\n",
    "conn.execute(\"\"\"\n",
    "    INSERT INTO model_registry (\n",
    "        model_id, model_name, version, model_artifact, metadata, status, is_current_model\n",
    "    ) VALUES (?, ?, ?, ?, ?, ?, ?)\n",
    "\"\"\", [\n",
    "    model_id,\n",
    "    model_name,\n",
    "    version,\n",
    "    model_artifact,\n",
    "    json.dumps(metadata), \n",
    "    status,\n",
    "    is_current_model\n",
    "])\n"
   ]
  },
  {
   "cell_type": "code",
   "execution_count": null,
   "id": "fa3a1f8f",
   "metadata": {},
   "outputs": [],
   "source": []
  }
 ],
 "metadata": {
  "kernelspec": {
   "display_name": "ci-validation",
   "language": "python",
   "name": "python3"
  },
  "language_info": {
   "codemirror_mode": {
    "name": "ipython",
    "version": 3
   },
   "file_extension": ".py",
   "mimetype": "text/x-python",
   "name": "python",
   "nbconvert_exporter": "python",
   "pygments_lexer": "ipython3",
   "version": "3.12.0"
  }
 },
 "nbformat": 4,
 "nbformat_minor": 5
}
