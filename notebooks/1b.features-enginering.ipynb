{
 "cells": [
  {
   "cell_type": "markdown",
   "id": "66601fc9",
   "metadata": {},
   "source": [
    "# Imports and definitions"
   ]
  },
  {
   "cell_type": "code",
   "execution_count": 66,
   "id": "a8a0ea99",
   "metadata": {},
   "outputs": [],
   "source": [
    "import pickle\n",
    "from pathlib import Path\n",
    "\n",
    "import polars as pl\n",
    "import polars.selectors as cs\n",
    "\n",
    "from sklearn.model_selection import train_test_split\n",
    "from sklearn.impute import SimpleImputer\n",
    "\n",
    "import plotly.express as px\n",
    "import plotly.graph_objects as go\n",
    "\n",
    "import networkx as nx\n",
    "\n",
    "\n",
    "_ = pl.Config.set_tbl_cols(None)\n",
    "_ = pl.Config.set_fmt_str_lengths(500)\n",
    "_ = pl.Config.set_fmt_float(\"full\")"
   ]
  },
  {
   "cell_type": "code",
   "execution_count": 3,
   "id": "177f7486",
   "metadata": {},
   "outputs": [],
   "source": [
    "base_dir = Path('/Users/danlab/code/magenta-task/')\n",
    "code_dir = base_dir / 'notebooks'\n",
    "data_dir = code_dir / \"data\"\n",
    "raw_dir = data_dir / \"raw\"\n",
    "features_dir = data_dir / 'features'\n",
    "train_dir = data_dir / 'train'\n"
   ]
  },
  {
   "cell_type": "code",
   "execution_count": 4,
   "id": "2720f443",
   "metadata": {},
   "outputs": [],
   "source": [
    "def load_artifact(targ_file:str):\n",
    "    targ_path = raw_dir / targ_file\n",
    "    \n",
    "    if not targ_path.exists():\n",
    "        raise FileNotFoundError(f'Artifact {targ_file} not found in {raw_dir}')\n",
    "\n",
    "    with open(targ_path,'rb') as fp:\n",
    "        test_artifact = pickle.load(fp)\n",
    "\n",
    "    return pl.from_pandas(test_artifact)\n",
    "\n",
    "\n",
    "def plot_correlation_network(G, pos):\n",
    "    edge_x = []\n",
    "    edge_y = []\n",
    "    for edge in G.edges(data=True):\n",
    "        x0, y0 = pos[edge[0]]\n",
    "        x1, y1 = pos[edge[1]]\n",
    "        edge_x += [x0, x1, None]\n",
    "        edge_y += [y0, y1, None]\n",
    "\n",
    "    edge_trace = go.Scatter(\n",
    "        x=edge_x, y=edge_y,\n",
    "        line=dict(width=1, color='#888'),\n",
    "        hoverinfo='none',  # Disable edge hover\n",
    "        mode='lines'\n",
    "    )\n",
    "\n",
    "    node_x = []\n",
    "    node_y = []\n",
    "    node_text = []\n",
    "    for node in G.nodes():\n",
    "        x, y = pos[node]\n",
    "        node_x.append(x)\n",
    "        node_y.append(y)\n",
    "        # Gather all neighbors and their correlations\n",
    "        neighbors = []\n",
    "        for nbr in G.neighbors(node):\n",
    "            corr = G.get_edge_data(node, nbr).get('correlation', None)\n",
    "            if corr is not None:\n",
    "                neighbors.append(f\"{nbr}: {corr:.2f}\")\n",
    "            else:\n",
    "                neighbors.append(f\"{nbr}\")\n",
    "        if neighbors:\n",
    "            hover = f\"{node}<br>Correlations:<br>\" + \"<br>\".join(neighbors)\n",
    "        else:\n",
    "            hover = node\n",
    "        node_text.append(hover)\n",
    "\n",
    "    node_trace = go.Scatter(\n",
    "        x=node_x, y=node_y,\n",
    "        mode='markers+text',\n",
    "        text=list(G.nodes),\n",
    "        textposition=\"top center\",\n",
    "        hoverinfo='text',\n",
    "        hovertext=node_text,\n",
    "        marker=dict(\n",
    "            showscale=False,\n",
    "            color='#87ceeb',\n",
    "            size=20,\n",
    "            line_width=2\n",
    "        )\n",
    "    )\n",
    "\n",
    "    fig = go.Figure(data=[edge_trace, node_trace],\n",
    "                    layout=go.Layout(\n",
    "                        title='Clusters of Highly Correlated Features',\n",
    "                        showlegend=False,\n",
    "                        hovermode='closest',\n",
    "                        margin=dict(b=20, l=5, r=5, t=40),\n",
    "                        xaxis=dict(showgrid=False, zeroline=False, showticklabels=False),\n",
    "                        yaxis=dict(showgrid=False, zeroline=False, showticklabels=False),\n",
    "                        width=1200,\n",
    "                        height=800\n",
    "                    ))\n",
    "    fig.show()\n",
    "\n",
    "\n",
    "def correlation_graph_analysis(correlation_analysis, threshold):\n",
    "    # Filter for high correlation\n",
    "    high_corr_df = correlation_analysis.filter(pl.col(\"correlation\").abs() > threshold)\n",
    "\n",
    "    # Extract columns and correlation values as lists\n",
    "    col1_list = high_corr_df[\"col1\"].to_list()\n",
    "    col2_list = high_corr_df[\"col2\"].to_list()\n",
    "    corr_list = high_corr_df[\"correlation\"].to_list()\n",
    "\n",
    "    # Build a graph of correlated columns, adding correlation as edge attribute\n",
    "    G = nx.Graph()\n",
    "    for c1, c2, corr in zip(col1_list, col2_list, corr_list):\n",
    "        G.add_edge(c1, c2, correlation=corr)\n",
    "\n",
    "    # Find groups of correlated columns (connected components)\n",
    "    clusters = list(nx.connected_components(G))\n",
    "\n",
    "    # Select one column from each cluster to keep\n",
    "    columns_to_keep = [list(cluster)[0] for cluster in clusters]\n",
    "\n",
    "    # Identify all involved columns\n",
    "    all_involved = set(col1_list).union(set(col2_list))\n",
    "\n",
    "    # Find all unique columns from original data\n",
    "    all_columns = set(correlation_analysis[\"col1\"].to_list()) | set(correlation_analysis[\"col2\"].to_list())\n",
    "\n",
    "    # Include columns that are not highly correlated with others\n",
    "    non_clustered = all_columns - all_involved\n",
    "    columns_to_keep.extend(non_clustered)\n",
    "\n",
    "    # Final sorted list of columns to keep\n",
    "    columns_to_keep = set(columns_to_keep)\n",
    "\n",
    "    # Columns to remove: all columns involved in high correlation minus those selected to keep\n",
    "    columns_to_remove = sorted(all_involved - columns_to_keep)\n",
    "\n",
    "    return G, columns_to_remove, clusters"
   ]
  },
  {
   "cell_type": "markdown",
   "id": "c602eecb",
   "metadata": {},
   "source": [
    "`core_data` <br><br>\n",
    "\n",
    "| Feature Name           | Description                                                  |\n",
    "|------------------------|--------------------------------------------------------------|\n",
    "| rating_account_id      | Unique identifier for the contract account                    |\n",
    "| customer_id            | Unique identifier for the customer                           |\n",
    "| age                    | Age of the customer **in years**                                       |\n",
    "| contract_lifetime_days | Total duration of the customer contract in days              |\n",
    "| remaining_binding_days | Number of days left in the contract binding period - usual binding period is 2 years - **if it's positive it means that the customer is still in the binding period**       |\n",
    "| has_special_offer      | Indicates if the customer has a special offer      |\n",
    "| is_magenta1_customer   | Indicates if the customer is part of the Magenta1 program - fedelty program    |\n",
    "| available_gb           | Amount of mobile data included in the current tariff         |\n",
    "| gross_mrc              | Gross monthly recurring charge (in euros)                    |\n",
    "| smartphone_brand       | Brand of the customer’s smartphone                           |\n",
    "| has_done_upselling     | Whether the customer has already done an upsell in the last 3 years      |\n"
   ]
  },
  {
   "cell_type": "markdown",
   "id": "583d2e94",
   "metadata": {},
   "source": [
    "`usage_info`\n",
    "\n",
    "| Feature Name           | Description                                                  |\n",
    "|------------------------|--------------------------------------------------------------|\n",
    "| rating_account_id      | Unique identifier for the contract account                    |\n",
    "| billed_period_month_d  | Billing period (monthly)                                     |\n",
    "| has_used_roaming       | Indicates if roaming was used during the period            |\n",
    "| used_gb                | Amount of mobile data used in the billing period (in GB)     |\n"
   ]
  },
  {
   "cell_type": "markdown",
   "id": "074317ef",
   "metadata": {},
   "source": [
    "`customer_interactions`\n",
    "\n",
    "| Feature Name   | Description                                                              |\n",
    "|----------------|--------------------------------------------------------------------------|\n",
    "| customer_id    | Unique identifier for the customer                                       |\n",
    "| type_subtype   | Category and subtype of the interaction (e.g., tariff change, billing)   |\n",
    "| n              | Number of interactions of this type in the last 6 months                                |\n",
    "| days_since_last| Number of days since the last interaction of this type                   |\n"
   ]
  },
  {
   "cell_type": "markdown",
   "id": "f3ab727d",
   "metadata": {},
   "source": [
    "# Read data"
   ]
  },
  {
   "cell_type": "code",
   "execution_count": 68,
   "id": "82ebb18c",
   "metadata": {},
   "outputs": [
    {
     "name": "stdout",
     "output_type": "stream",
     "text": [
      "CPU times: user 55.1 ms, sys: 31.6 ms, total: 86.7 ms\n",
      "Wall time: 152 ms\n"
     ]
    }
   ],
   "source": [
    "%%time\n",
    "\n",
    "core_data = load_artifact('core_data')\n",
    "customer_interactions = load_artifact('customer_interactions')\n",
    "usage_info = load_artifact('usage_info')"
   ]
  },
  {
   "cell_type": "markdown",
   "id": "e2166da0",
   "metadata": {},
   "source": [
    "---"
   ]
  },
  {
   "cell_type": "markdown",
   "id": "a46ae8c8",
   "metadata": {},
   "source": [
    "# Features computation"
   ]
  },
  {
   "cell_type": "markdown",
   "id": "6b561842",
   "metadata": {},
   "source": [
    "## `core_data`"
   ]
  },
  {
   "cell_type": "code",
   "execution_count": 6,
   "id": "1216de29",
   "metadata": {},
   "outputs": [
    {
     "name": "stdout",
     "output_type": "stream",
     "text": [
      "CPU times: user 24.6 ms, sys: 22.7 ms, total: 47.3 ms\n",
      "Wall time: 31.8 ms\n"
     ]
    }
   ],
   "source": [
    "%%time\n",
    "\n",
    "core_data = core_data.with_columns(\n",
    "    pl.col('rating_account_id').cast(pl.Utf8),\n",
    "    pl.col(\"has_done_upselling\").cast(pl.Boolean),\n",
    "    pl.col(\"has_special_offer\").cast(pl.Boolean),\n",
    "    pl.col(\"is_magenta1_customer\").cast(pl.Boolean)\n",
    ")\n",
    "\n",
    "# Manipulating binding days\n",
    "core_data = core_data.with_columns(\n",
    "    (pl.col('contract_lifetime_days') + pl.col('remaining_binding_days')).alias('contract_binding_days'),\n",
    "    (pl.col('contract_lifetime_days') / (pl.col('contract_lifetime_days') + pl.col('remaining_binding_days'))).round(2).alias('completion_rate'),\n",
    "    pl.when(pl.col('remaining_binding_days') > 0)\n",
    "        .then(True)\n",
    "        .otherwise(False)\n",
    "        .alias('is_bounded')\n",
    ")\n",
    "\n",
    "\n",
    "# One-hot-encoding smartphone brands - extracting the values in order to keep the same order for the columns\n",
    "# The number of unique values is not too high, so one-hot-encoding is not affecting the dimensionality too much\n",
    "smartphone_brands_list = core_data.select(pl.col('smartphone_brand')).unique().to_series().sort().to_list()\n",
    "core_data = core_data.with_columns(\n",
    "    [\n",
    "        pl.when(pl.col(\"smartphone_brand\") == brand)\n",
    "        .then(True)\n",
    "        .otherwise(False)\n",
    "        .alias(f\"is_{brand.lower()}\")\n",
    "        for brand in smartphone_brands_list\n",
    "    ]\n",
    ")\n",
    "core_data = core_data.drop(\"smartphone_brand\")\n",
    "\n",
    "\n",
    "# Add how many contract has the customer - including the current one\n",
    "n_contract_per_customer = core_data.group_by(\"customer_id\").agg(\n",
    "    pl.col(\"rating_account_id\").count().alias(\"n_contracts_per_customer\")\n",
    ")\n",
    "core_data = core_data.join(n_contract_per_customer, on=\"customer_id\", how=\"left\")"
   ]
  },
  {
   "cell_type": "code",
   "execution_count": 7,
   "id": "4773ac6f",
   "metadata": {},
   "outputs": [
    {
     "data": {
      "text/html": [
       "<div><style>\n",
       ".dataframe > thead > tr,\n",
       ".dataframe > tbody > tr {\n",
       "  text-align: right;\n",
       "  white-space: pre-wrap;\n",
       "}\n",
       "</style>\n",
       "<small>shape: (100_000, 19)</small><table border=\"1\" class=\"dataframe\"><thead><tr><th>rating_account_id</th><th>customer_id</th><th>age</th><th>contract_lifetime_days</th><th>remaining_binding_days</th><th>has_special_offer</th><th>is_magenta1_customer</th><th>available_gb</th><th>gross_mrc</th><th>has_done_upselling</th><th>contract_binding_days</th><th>completion_rate</th><th>is_bounded</th><th>is_huawei</th><th>is_oneplus</th><th>is_samsung</th><th>is_xiaomi</th><th>is_iphone</th><th>n_contracts_per_customer</th></tr><tr><td>str</td><td>str</td><td>i64</td><td>i64</td><td>i64</td><td>bool</td><td>bool</td><td>i64</td><td>f64</td><td>bool</td><td>i64</td><td>f64</td><td>bool</td><td>bool</td><td>bool</td><td>bool</td><td>bool</td><td>bool</td><td>u32</td></tr></thead><tbody><tr><td>&quot;289094&quot;</td><td>&quot;4.161115&quot;</td><td>36</td><td>878</td><td>325</td><td>false</td><td>false</td><td>20</td><td>70</td><td>false</td><td>1203</td><td>0.73</td><td>true</td><td>false</td><td>false</td><td>false</td><td>false</td><td>true</td><td>1</td></tr><tr><td>&quot;677626&quot;</td><td>&quot;2.429976&quot;</td><td>34</td><td>998</td><td>614</td><td>false</td><td>false</td><td>0</td><td>5</td><td>false</td><td>1612</td><td>0.62</td><td>true</td><td>false</td><td>false</td><td>true</td><td>false</td><td>false</td><td>1</td></tr><tr><td>&quot;769928&quot;</td><td>&quot;3.875044&quot;</td><td>36</td><td>37</td><td>-26</td><td>false</td><td>true</td><td>50</td><td>16.94</td><td>false</td><td>11</td><td>3.36</td><td>false</td><td>false</td><td>false</td><td>true</td><td>false</td><td>false</td><td>2</td></tr><tr><td>&quot;873260&quot;</td><td>&quot;4.649933&quot;</td><td>50</td><td>503</td><td>-149</td><td>false</td><td>true</td><td>20</td><td>30.2</td><td>true</td><td>354</td><td>1.42</td><td>false</td><td>false</td><td>false</td><td>false</td><td>false</td><td>true</td><td>1</td></tr><tr><td>&quot;109774&quot;</td><td>&quot;3.851059&quot;</td><td>47</td><td>331</td><td>-328</td><td>true</td><td>true</td><td>null</td><td>46.12</td><td>false</td><td>3</td><td>110.33</td><td>false</td><td>false</td><td>false</td><td>true</td><td>false</td><td>false</td><td>3</td></tr><tr><td>&hellip;</td><td>&hellip;</td><td>&hellip;</td><td>&hellip;</td><td>&hellip;</td><td>&hellip;</td><td>&hellip;</td><td>&hellip;</td><td>&hellip;</td><td>&hellip;</td><td>&hellip;</td><td>&hellip;</td><td>&hellip;</td><td>&hellip;</td><td>&hellip;</td><td>&hellip;</td><td>&hellip;</td><td>&hellip;</td><td>&hellip;</td></tr><tr><td>&quot;502283&quot;</td><td>&quot;5.605022&quot;</td><td>88</td><td>1573</td><td>-576</td><td>false</td><td>false</td><td>10</td><td>34.18</td><td>false</td><td>997</td><td>1.58</td><td>false</td><td>false</td><td>false</td><td>true</td><td>false</td><td>false</td><td>4</td></tr><tr><td>&quot;618421&quot;</td><td>&quot;2.862063&quot;</td><td>85</td><td>1138</td><td>412</td><td>true</td><td>false</td><td>40</td><td>50.1</td><td>false</td><td>1550</td><td>0.73</td><td>true</td><td>false</td><td>false</td><td>false</td><td>false</td><td>true</td><td>1</td></tr><tr><td>&quot;104422&quot;</td><td>&quot;2.414264&quot;</td><td>79</td><td>1709</td><td>-494</td><td>false</td><td>false</td><td>10</td><td>12.96</td><td>false</td><td>1215</td><td>1.41</td><td>false</td><td>false</td><td>false</td><td>true</td><td>false</td><td>false</td><td>3</td></tr><tr><td>&quot;642380&quot;</td><td>&quot;3.619106&quot;</td><td>84</td><td>1592</td><td>403</td><td>false</td><td>false</td><td>10</td><td>56.73</td><td>false</td><td>1995</td><td>0.8</td><td>true</td><td>false</td><td>false</td><td>true</td><td>false</td><td>false</td><td>2</td></tr><tr><td>&quot;620562&quot;</td><td>&quot;2.177584&quot;</td><td>88</td><td>1711</td><td>383</td><td>false</td><td>false</td><td>10</td><td>5</td><td>false</td><td>2094</td><td>0.82</td><td>true</td><td>false</td><td>false</td><td>false</td><td>false</td><td>true</td><td>2</td></tr></tbody></table></div>"
      ],
      "text/plain": [
       "shape: (100_000, 19)\n",
       "┌────────────┬────────────┬─────┬────────────┬───┬────────────┬───────────┬───────────┬────────────┐\n",
       "│ rating_acc ┆ customer_i ┆ age ┆ contract_l ┆ … ┆ is_samsung ┆ is_xiaomi ┆ is_iphone ┆ n_contract │\n",
       "│ ount_id    ┆ d          ┆ --- ┆ ifetime_da ┆   ┆ ---        ┆ ---       ┆ ---       ┆ s_per_cust │\n",
       "│ ---        ┆ ---        ┆ i64 ┆ ys         ┆   ┆ bool       ┆ bool      ┆ bool      ┆ omer       │\n",
       "│ str        ┆ str        ┆     ┆ ---        ┆   ┆            ┆           ┆           ┆ ---        │\n",
       "│            ┆            ┆     ┆ i64        ┆   ┆            ┆           ┆           ┆ u32        │\n",
       "╞════════════╪════════════╪═════╪════════════╪═══╪════════════╪═══════════╪═══════════╪════════════╡\n",
       "│ 289094     ┆ 4.161115   ┆ 36  ┆ 878        ┆ … ┆ false      ┆ false     ┆ true      ┆ 1          │\n",
       "│ 677626     ┆ 2.429976   ┆ 34  ┆ 998        ┆ … ┆ true       ┆ false     ┆ false     ┆ 1          │\n",
       "│ 769928     ┆ 3.875044   ┆ 36  ┆ 37         ┆ … ┆ true       ┆ false     ┆ false     ┆ 2          │\n",
       "│ 873260     ┆ 4.649933   ┆ 50  ┆ 503        ┆ … ┆ false      ┆ false     ┆ true      ┆ 1          │\n",
       "│ 109774     ┆ 3.851059   ┆ 47  ┆ 331        ┆ … ┆ true       ┆ false     ┆ false     ┆ 3          │\n",
       "│ …          ┆ …          ┆ …   ┆ …          ┆ … ┆ …          ┆ …         ┆ …         ┆ …          │\n",
       "│ 502283     ┆ 5.605022   ┆ 88  ┆ 1573       ┆ … ┆ true       ┆ false     ┆ false     ┆ 4          │\n",
       "│ 618421     ┆ 2.862063   ┆ 85  ┆ 1138       ┆ … ┆ false      ┆ false     ┆ true      ┆ 1          │\n",
       "│ 104422     ┆ 2.414264   ┆ 79  ┆ 1709       ┆ … ┆ true       ┆ false     ┆ false     ┆ 3          │\n",
       "│ 642380     ┆ 3.619106   ┆ 84  ┆ 1592       ┆ … ┆ true       ┆ false     ┆ false     ┆ 2          │\n",
       "│ 620562     ┆ 2.177584   ┆ 88  ┆ 1711       ┆ … ┆ false      ┆ false     ┆ true      ┆ 2          │\n",
       "└────────────┴────────────┴─────┴────────────┴───┴────────────┴───────────┴───────────┴────────────┘"
      ]
     },
     "execution_count": 7,
     "metadata": {},
     "output_type": "execute_result"
    }
   ],
   "source": [
    "core_data"
   ]
  },
  {
   "cell_type": "code",
   "execution_count": 8,
   "id": "245da419",
   "metadata": {},
   "outputs": [
    {
     "data": {
      "text/plain": [
       "(100000, 19)"
      ]
     },
     "execution_count": 8,
     "metadata": {},
     "output_type": "execute_result"
    }
   ],
   "source": [
    "core_data.shape"
   ]
  },
  {
   "cell_type": "markdown",
   "id": "cdd17951",
   "metadata": {},
   "source": [
    "---"
   ]
  },
  {
   "cell_type": "markdown",
   "id": "dec4f76e",
   "metadata": {},
   "source": [
    "## `usage_info`"
   ]
  },
  {
   "cell_type": "code",
   "execution_count": 9,
   "id": "45b12ecd",
   "metadata": {},
   "outputs": [
    {
     "name": "stdout",
     "output_type": "stream",
     "text": [
      "CPU times: user 102 ms, sys: 10.1 ms, total: 112 ms\n",
      "Wall time: 39.6 ms\n"
     ]
    }
   ],
   "source": [
    "%%time\n",
    "\n",
    "usage_info = usage_info.with_columns([\n",
    "    pl.col('rating_account_id').cast(pl.Utf8),\n",
    "    pl.col('billed_period_month_d').cast(pl.Date),\n",
    "    pl.col('has_used_roaming').cast(pl.Boolean),\n",
    "    pl.col('used_gb').cast(pl.Float64)\n",
    "]).sort(['rating_account_id', 'billed_period_month_d'])"
   ]
  },
  {
   "cell_type": "code",
   "execution_count": 10,
   "id": "74f34c97",
   "metadata": {},
   "outputs": [
    {
     "name": "stdout",
     "output_type": "stream",
     "text": [
      "CPU times: user 4.55 ms, sys: 2.85 ms, total: 7.41 ms\n",
      "Wall time: 5.1 ms\n"
     ]
    }
   ],
   "source": [
    "%%time\n",
    "\n",
    "month_usage = usage_info.group_by('rating_account_id').agg([\n",
    "    pl.col('used_gb')\n",
    "])\n",
    "\n",
    "month_usage = month_usage.with_columns([\n",
    "    pl.col('used_gb').list.get(0).alias('last_1_month_usage_gb'),\n",
    "    pl.col('used_gb').list.get(1).alias('last_2_month_usage_gb'),\n",
    "    pl.col('used_gb').list.get(2).alias('last_3_month_usage_gb'),\n",
    "    pl.col('used_gb').list.get(3).alias('last_4_month_usage_gb'),\n",
    "\n",
    "]).drop('used_gb')\n"
   ]
  },
  {
   "cell_type": "code",
   "execution_count": 11,
   "id": "e4e800c9",
   "metadata": {},
   "outputs": [
    {
     "data": {
      "text/html": [
       "<div><style>\n",
       ".dataframe > thead > tr,\n",
       ".dataframe > tbody > tr {\n",
       "  text-align: right;\n",
       "  white-space: pre-wrap;\n",
       "}\n",
       "</style>\n",
       "<small>shape: (100_000, 5)</small><table border=\"1\" class=\"dataframe\"><thead><tr><th>rating_account_id</th><th>last_1_month_usage_gb</th><th>last_2_month_usage_gb</th><th>last_3_month_usage_gb</th><th>last_4_month_usage_gb</th></tr><tr><td>str</td><td>f64</td><td>f64</td><td>f64</td><td>f64</td></tr></thead><tbody><tr><td>&quot;100010&quot;</td><td>0.9</td><td>0.8</td><td>0.4</td><td>0.9</td></tr><tr><td>&quot;100017&quot;</td><td>0.7</td><td>0.5</td><td>0.8</td><td>0.3</td></tr><tr><td>&quot;100036&quot;</td><td>0.9</td><td>0.2</td><td>0.2</td><td>1</td></tr><tr><td>&quot;100047&quot;</td><td>35.6</td><td>48.9</td><td>35.4</td><td>50.7</td></tr><tr><td>&quot;100064&quot;</td><td>0.7</td><td>0.7</td><td>0.3</td><td>0.8</td></tr><tr><td>&hellip;</td><td>&hellip;</td><td>&hellip;</td><td>&hellip;</td><td>&hellip;</td></tr><tr><td>&quot;999922&quot;</td><td>2.3</td><td>1.4</td><td>3.6</td><td>2.1</td></tr><tr><td>&quot;999934&quot;</td><td>12.8</td><td>13.8</td><td>14.5</td><td>6.5</td></tr><tr><td>&quot;999940&quot;</td><td>9.8</td><td>11.6</td><td>5.4</td><td>14.4</td></tr><tr><td>&quot;999956&quot;</td><td>13</td><td>10.4</td><td>13.7</td><td>14.1</td></tr><tr><td>&quot;999971&quot;</td><td>3.7</td><td>2.3</td><td>1.1</td><td>1.1</td></tr></tbody></table></div>"
      ],
      "text/plain": [
       "shape: (100_000, 5)\n",
       "┌───────────────────┬───────────────────┬───────────────────┬───────────────────┬──────────────────┐\n",
       "│ rating_account_id ┆ last_1_month_usag ┆ last_2_month_usag ┆ last_3_month_usag ┆ last_4_month_usa │\n",
       "│ ---               ┆ e_gb              ┆ e_gb              ┆ e_gb              ┆ ge_gb            │\n",
       "│ str               ┆ ---               ┆ ---               ┆ ---               ┆ ---              │\n",
       "│                   ┆ f64               ┆ f64               ┆ f64               ┆ f64              │\n",
       "╞═══════════════════╪═══════════════════╪═══════════════════╪═══════════════════╪══════════════════╡\n",
       "│ 100010            ┆ 0.9               ┆ 0.8               ┆ 0.4               ┆ 0.9              │\n",
       "│ 100017            ┆ 0.7               ┆ 0.5               ┆ 0.8               ┆ 0.3              │\n",
       "│ 100036            ┆ 0.9               ┆ 0.2               ┆ 0.2               ┆ 1                │\n",
       "│ 100047            ┆ 35.6              ┆ 48.9              ┆ 35.4              ┆ 50.7             │\n",
       "│ 100064            ┆ 0.7               ┆ 0.7               ┆ 0.3               ┆ 0.8              │\n",
       "│ …                 ┆ …                 ┆ …                 ┆ …                 ┆ …                │\n",
       "│ 999922            ┆ 2.3               ┆ 1.4               ┆ 3.6               ┆ 2.1              │\n",
       "│ 999934            ┆ 12.8              ┆ 13.8              ┆ 14.5              ┆ 6.5              │\n",
       "│ 999940            ┆ 9.8               ┆ 11.6              ┆ 5.4               ┆ 14.4             │\n",
       "│ 999956            ┆ 13                ┆ 10.4              ┆ 13.7              ┆ 14.1             │\n",
       "│ 999971            ┆ 3.7               ┆ 2.3               ┆ 1.1               ┆ 1.1              │\n",
       "└───────────────────┴───────────────────┴───────────────────┴───────────────────┴──────────────────┘"
      ]
     },
     "execution_count": 11,
     "metadata": {},
     "output_type": "execute_result"
    }
   ],
   "source": [
    "month_usage"
   ]
  },
  {
   "cell_type": "code",
   "execution_count": 12,
   "id": "f1c8a71b",
   "metadata": {},
   "outputs": [
    {
     "name": "stdout",
     "output_type": "stream",
     "text": [
      "CPU times: user 755 ms, sys: 30.3 ms, total: 785 ms\n",
      "Wall time: 116 ms\n"
     ]
    }
   ],
   "source": [
    "%%time\n",
    "\n",
    "aggregated_features = usage_info.group_by('rating_account_id').agg([\n",
    "    \n",
    "    # BASIC USAGE STATISTICS\n",
    "    pl.col('used_gb').mean().round(2).alias('avg_monthly_usage_gb'),\n",
    "    pl.col('used_gb').median().round(2).alias('median_monthly_usage_gb'),\n",
    "    pl.col('used_gb').sum().round(2).alias('total_usage_gb'),\n",
    "    pl.col('used_gb').std().round(2).alias('usage_std_gb'),\n",
    "    pl.col('used_gb').min().round(2).alias('min_monthly_usage_gb'),\n",
    "    pl.col('used_gb').max().round(2).alias('max_monthly_usage_gb'),\n",
    "    pl.col('used_gb').quantile(0.25).round(2).alias('usage_q25_gb'),\n",
    "    pl.col('used_gb').quantile(0.75).round(2).alias('usage_q75_gb'),\n",
    "    \n",
    "    # ROAMING STATISTICS\n",
    "    pl.col('has_used_roaming').sum().alias('months_with_roaming'),\n",
    "    pl.col('has_used_roaming').any().alias('ever_used_roaming'),\n",
    "    pl.col('has_used_roaming').all().alias('always_used_roaming'),\n",
    "    \n",
    "    # # USAGE INTENSITY CATEGORIES\n",
    "    (pl.col('used_gb') == 0).sum().alias('zero_usage_months'),\n",
    "    (pl.col('used_gb') > 0).sum().alias('active_usage_months'),\n",
    "])"
   ]
  },
  {
   "cell_type": "code",
   "execution_count": 13,
   "id": "61b6148d",
   "metadata": {},
   "outputs": [
    {
     "data": {
      "text/html": [
       "<div><style>\n",
       ".dataframe > thead > tr,\n",
       ".dataframe > tbody > tr {\n",
       "  text-align: right;\n",
       "  white-space: pre-wrap;\n",
       "}\n",
       "</style>\n",
       "<small>shape: (100_000, 14)</small><table border=\"1\" class=\"dataframe\"><thead><tr><th>rating_account_id</th><th>avg_monthly_usage_gb</th><th>median_monthly_usage_gb</th><th>total_usage_gb</th><th>usage_std_gb</th><th>min_monthly_usage_gb</th><th>max_monthly_usage_gb</th><th>usage_q25_gb</th><th>usage_q75_gb</th><th>months_with_roaming</th><th>ever_used_roaming</th><th>always_used_roaming</th><th>zero_usage_months</th><th>active_usage_months</th></tr><tr><td>str</td><td>f64</td><td>f64</td><td>f64</td><td>f64</td><td>f64</td><td>f64</td><td>f64</td><td>f64</td><td>u32</td><td>bool</td><td>bool</td><td>u32</td><td>u32</td></tr></thead><tbody><tr><td>&quot;100010&quot;</td><td>0.75</td><td>0.85</td><td>3</td><td>0.24</td><td>0.4</td><td>0.9</td><td>0.8</td><td>0.9</td><td>0</td><td>false</td><td>false</td><td>0</td><td>4</td></tr><tr><td>&quot;100017&quot;</td><td>0.57</td><td>0.6</td><td>2.3</td><td>0.22</td><td>0.3</td><td>0.8</td><td>0.5</td><td>0.7</td><td>2</td><td>true</td><td>false</td><td>0</td><td>4</td></tr><tr><td>&quot;100036&quot;</td><td>0.57</td><td>0.55</td><td>2.3</td><td>0.43</td><td>0.2</td><td>1</td><td>0.2</td><td>0.9</td><td>1</td><td>true</td><td>false</td><td>0</td><td>4</td></tr><tr><td>&quot;100047&quot;</td><td>42.65</td><td>42.25</td><td>170.6</td><td>8.29</td><td>35.4</td><td>50.7</td><td>35.6</td><td>48.9</td><td>0</td><td>false</td><td>false</td><td>0</td><td>4</td></tr><tr><td>&quot;100064&quot;</td><td>0.62</td><td>0.7</td><td>2.5</td><td>0.22</td><td>0.3</td><td>0.8</td><td>0.7</td><td>0.7</td><td>1</td><td>true</td><td>false</td><td>0</td><td>4</td></tr><tr><td>&hellip;</td><td>&hellip;</td><td>&hellip;</td><td>&hellip;</td><td>&hellip;</td><td>&hellip;</td><td>&hellip;</td><td>&hellip;</td><td>&hellip;</td><td>&hellip;</td><td>&hellip;</td><td>&hellip;</td><td>&hellip;</td><td>&hellip;</td></tr><tr><td>&quot;999922&quot;</td><td>2.35</td><td>2.2</td><td>9.4</td><td>0.92</td><td>1.4</td><td>3.6</td><td>2.1</td><td>2.3</td><td>0</td><td>false</td><td>false</td><td>0</td><td>4</td></tr><tr><td>&quot;999934&quot;</td><td>11.9</td><td>13.3</td><td>47.6</td><td>3.67</td><td>6.5</td><td>14.5</td><td>12.8</td><td>13.8</td><td>3</td><td>true</td><td>false</td><td>0</td><td>4</td></tr><tr><td>&quot;999940&quot;</td><td>10.3</td><td>10.7</td><td>41.2</td><td>3.78</td><td>5.4</td><td>14.4</td><td>9.8</td><td>11.6</td><td>1</td><td>true</td><td>false</td><td>0</td><td>4</td></tr><tr><td>&quot;999956&quot;</td><td>12.8</td><td>13.35</td><td>51.2</td><td>1.66</td><td>10.4</td><td>14.1</td><td>13</td><td>13.7</td><td>0</td><td>false</td><td>false</td><td>0</td><td>4</td></tr><tr><td>&quot;999971&quot;</td><td>2.05</td><td>1.7</td><td>8.2</td><td>1.24</td><td>1.1</td><td>3.7</td><td>1.1</td><td>2.3</td><td>2</td><td>true</td><td>false</td><td>0</td><td>4</td></tr></tbody></table></div>"
      ],
      "text/plain": [
       "shape: (100_000, 14)\n",
       "┌───────────┬───────────┬───────────┬───────────┬───┬───────────┬───────────┬───────────┬──────────┐\n",
       "│ rating_ac ┆ avg_month ┆ median_mo ┆ total_usa ┆ … ┆ ever_used ┆ always_us ┆ zero_usag ┆ active_u │\n",
       "│ count_id  ┆ ly_usage_ ┆ nthly_usa ┆ ge_gb     ┆   ┆ _roaming  ┆ ed_roamin ┆ e_months  ┆ sage_mon │\n",
       "│ ---       ┆ gb        ┆ ge_gb     ┆ ---       ┆   ┆ ---       ┆ g         ┆ ---       ┆ ths      │\n",
       "│ str       ┆ ---       ┆ ---       ┆ f64       ┆   ┆ bool      ┆ ---       ┆ u32       ┆ ---      │\n",
       "│           ┆ f64       ┆ f64       ┆           ┆   ┆           ┆ bool      ┆           ┆ u32      │\n",
       "╞═══════════╪═══════════╪═══════════╪═══════════╪═══╪═══════════╪═══════════╪═══════════╪══════════╡\n",
       "│ 100010    ┆ 0.75      ┆ 0.85      ┆ 3         ┆ … ┆ false     ┆ false     ┆ 0         ┆ 4        │\n",
       "│ 100017    ┆ 0.57      ┆ 0.6       ┆ 2.3       ┆ … ┆ true      ┆ false     ┆ 0         ┆ 4        │\n",
       "│ 100036    ┆ 0.57      ┆ 0.55      ┆ 2.3       ┆ … ┆ true      ┆ false     ┆ 0         ┆ 4        │\n",
       "│ 100047    ┆ 42.65     ┆ 42.25     ┆ 170.6     ┆ … ┆ false     ┆ false     ┆ 0         ┆ 4        │\n",
       "│ 100064    ┆ 0.62      ┆ 0.7       ┆ 2.5       ┆ … ┆ true      ┆ false     ┆ 0         ┆ 4        │\n",
       "│ …         ┆ …         ┆ …         ┆ …         ┆ … ┆ …         ┆ …         ┆ …         ┆ …        │\n",
       "│ 999922    ┆ 2.35      ┆ 2.2       ┆ 9.4       ┆ … ┆ false     ┆ false     ┆ 0         ┆ 4        │\n",
       "│ 999934    ┆ 11.9      ┆ 13.3      ┆ 47.6      ┆ … ┆ true      ┆ false     ┆ 0         ┆ 4        │\n",
       "│ 999940    ┆ 10.3      ┆ 10.7      ┆ 41.2      ┆ … ┆ true      ┆ false     ┆ 0         ┆ 4        │\n",
       "│ 999956    ┆ 12.8      ┆ 13.35     ┆ 51.2      ┆ … ┆ false     ┆ false     ┆ 0         ┆ 4        │\n",
       "│ 999971    ┆ 2.05      ┆ 1.7       ┆ 8.2       ┆ … ┆ true      ┆ false     ┆ 0         ┆ 4        │\n",
       "└───────────┴───────────┴───────────┴───────────┴───┴───────────┴───────────┴───────────┴──────────┘"
      ]
     },
     "execution_count": 13,
     "metadata": {},
     "output_type": "execute_result"
    }
   ],
   "source": [
    "aggregated_features"
   ]
  },
  {
   "cell_type": "code",
   "execution_count": 14,
   "id": "d7d17fcd",
   "metadata": {},
   "outputs": [
    {
     "name": "stdout",
     "output_type": "stream",
     "text": [
      "CPU times: user 1.36 s, sys: 62.1 ms, total: 1.42 s\n",
      "Wall time: 261 ms\n"
     ]
    }
   ],
   "source": [
    "%%time\n",
    "\n",
    "# CALCULATE TRENDS AND ROLLING METRICS\n",
    "trend_features = usage_info.group_by('rating_account_id').agg([\n",
    "    # ROLLING AVERAGES\n",
    "    # 2-month rolling average\n",
    "    pl.col('used_gb').rolling_mean_by(\n",
    "        'billed_period_month_d', window_size='2mo'\n",
    "    ).alias('avg_2month_rolling_usage_gb'),\n",
    "    \n",
    "    # 3-month rolling average\n",
    "        pl.col('used_gb').rolling_mean_by(\n",
    "        'billed_period_month_d', window_size='3mo'\n",
    "    ).alias('avg_3month_rolling_usage_gb'),\n",
    "\n",
    "    \n",
    "    # PERIOD-OVER-PERIOD DELTAS\n",
    "    (pl.col('used_gb') - pl.col('used_gb').shift(1)).alias('delta_1mo'),\n",
    "    (pl.col('used_gb') - pl.col('used_gb').shift(2)).alias('delta_2mo'),\n",
    "    (pl.col('used_gb') - pl.col('used_gb').shift(3)).alias('delta_3mo'),\n",
    "\n",
    "    # VOLATILITY METRICS\n",
    "    # Rolling standard deviation\n",
    "    pl.col('used_gb').rolling_std_by(\n",
    "        'billed_period_month_d', window_size='2mo'\n",
    "    ).alias('std_2month_rolling_usage_gb')\n",
    "])\n",
    "\n",
    "trend_features = trend_features.with_columns([\n",
    "    # delta_1mo statistics\n",
    "    pl.col('delta_1mo').list.mean().round(2).alias('avg_delta_1mo'),\n",
    "    pl.col('delta_1mo').list.std().round(2).alias('delta_1mo_volatility'),\n",
    "    pl.col('delta_1mo').list.max().round(2).alias('max_delta_1mo_increase'),\n",
    "    pl.col('delta_1mo').list.min().round(2).alias('max_delta_1mo_decrease'),\n",
    "    pl.col('delta_1mo').list.eval(pl.element() > 0).list.sum().alias('months_with_delta_1mo_increase'),\n",
    "    pl.col('delta_1mo').list.eval(pl.element() < 0).list.sum().alias('months_with_delta_1mo_decrease'),\n",
    "    pl.col('delta_1mo').list.eval(pl.element() == 0).list.sum().alias('months_with_no_delta_1mo_change'),\n",
    "\n",
    "    # delta_2mo statistics\n",
    "    pl.col('delta_2mo').list.mean().round(2).alias('avg_delta_2mo'),\n",
    "    pl.col('delta_2mo').list.std().round(2).alias('delta_2mo_volatility'),\n",
    "    pl.col('delta_2mo').list.max().round(2).alias('max_delta_2mo_increase'),\n",
    "    pl.col('delta_2mo').list.min().round(2).alias('max_delta_2mo_decrease'),\n",
    "    pl.col('delta_2mo').list.eval(pl.element() > 0).list.sum().alias('months_with_delta_2mo_increase'),\n",
    "    pl.col('delta_2mo').list.eval(pl.element() < 0).list.sum().alias('months_with_delta_2mo_decrease'),\n",
    "    pl.col('delta_2mo').list.eval(pl.element() == 0).list.sum().alias('months_with_no_delta_2mo_change'),\n",
    "\n",
    "    # delta_3mo statistics\n",
    "    pl.col('delta_3mo').list.mean().round(2).alias('avg_delta_3mo'),\n",
    "    pl.col('delta_3mo').list.max().round(2).alias('max_delta_3mo_increase'),\n",
    "    pl.col('delta_3mo').list.min().round(2).alias('max_delta_3mo_decrease'),\n",
    "    pl.col('delta_3mo').list.eval(pl.element() > 0).list.sum().alias('months_with_delta_3mo_increase'),\n",
    "    pl.col('delta_3mo').list.eval(pl.element() < 0).list.sum().alias('months_with_delta_3mo_decrease'),\n",
    "    pl.col('delta_3mo').list.eval(pl.element() == 0).list.sum().alias('months_with_no_delta_3mo_change'),\n",
    "])\n",
    "\n",
    "# The following block extracts the last N values from the rolling/statistical lists for each account.\n",
    "# Each column contains the most recent, second most recent, etc. value from the corresponding list\n",
    "\n",
    "trend_features = trend_features.with_columns([\n",
    "    pl.col('avg_2month_rolling_usage_gb').list.get(-(i+1)).round(2).alias(f'last_{i+1}_2mo_rolling_avg')\n",
    "    for i in range(3)\n",
    "]).drop('avg_2month_rolling_usage_gb')\n",
    "\n",
    "trend_features = trend_features.with_columns([\n",
    "    pl.col('avg_3month_rolling_usage_gb').list.get(-(i+1)).round(2).alias(f'last_{i+1}_3mo_rolling_avg')\n",
    "    for i in range(2)\n",
    "]).drop('avg_3month_rolling_usage_gb')\n",
    "\n",
    "trend_features = trend_features.with_columns([\n",
    "    pl.col('delta_1mo').list.get(-(i+1)).round(2).alias(f'last_{i+1}_delta_1mo')\n",
    "    for i in range(3)\n",
    "]).drop('delta_1mo')\n",
    "\n",
    "trend_features = trend_features.with_columns([\n",
    "    pl.col('delta_2mo').list.get(-(i+1)).round(2).alias(f'last_{i+1}_delta_2mo')\n",
    "    for i in range(2)\n",
    "]).drop('delta_2mo')\n",
    "\n",
    "trend_features = trend_features.with_columns([\n",
    "    pl.col('delta_3mo').list.get(-(i+1)).round(2).alias(f'last_{i+1}_delta_3mo')\n",
    "    for i in range(1)\n",
    "]).drop('delta_3mo')\n",
    "\n",
    "trend_features = trend_features.with_columns([\n",
    "    pl.col('std_2month_rolling_usage_gb').list.get(-(i+1)).round(2).alias(f'last_{i+1}_2mo_rolling_stdev')\n",
    "    for i in range(3)\n",
    "]).drop('std_2month_rolling_usage_gb')"
   ]
  },
  {
   "cell_type": "code",
   "execution_count": 15,
   "id": "dbf4932f",
   "metadata": {},
   "outputs": [
    {
     "data": {
      "text/html": [
       "<div><style>\n",
       ".dataframe > thead > tr,\n",
       ".dataframe > tbody > tr {\n",
       "  text-align: right;\n",
       "  white-space: pre-wrap;\n",
       "}\n",
       "</style>\n",
       "<small>shape: (100_000, 35)</small><table border=\"1\" class=\"dataframe\"><thead><tr><th>rating_account_id</th><th>avg_delta_1mo</th><th>delta_1mo_volatility</th><th>max_delta_1mo_increase</th><th>max_delta_1mo_decrease</th><th>months_with_delta_1mo_increase</th><th>months_with_delta_1mo_decrease</th><th>months_with_no_delta_1mo_change</th><th>avg_delta_2mo</th><th>delta_2mo_volatility</th><th>max_delta_2mo_increase</th><th>max_delta_2mo_decrease</th><th>months_with_delta_2mo_increase</th><th>months_with_delta_2mo_decrease</th><th>months_with_no_delta_2mo_change</th><th>avg_delta_3mo</th><th>max_delta_3mo_increase</th><th>max_delta_3mo_decrease</th><th>months_with_delta_3mo_increase</th><th>months_with_delta_3mo_decrease</th><th>months_with_no_delta_3mo_change</th><th>last_1_2mo_rolling_avg</th><th>last_2_2mo_rolling_avg</th><th>last_3_2mo_rolling_avg</th><th>last_1_3mo_rolling_avg</th><th>last_2_3mo_rolling_avg</th><th>last_1_delta_1mo</th><th>last_2_delta_1mo</th><th>last_3_delta_1mo</th><th>last_1_delta_2mo</th><th>last_2_delta_2mo</th><th>last_1_delta_3mo</th><th>last_1_2mo_rolling_stdev</th><th>last_2_2mo_rolling_stdev</th><th>last_3_2mo_rolling_stdev</th></tr><tr><td>str</td><td>f64</td><td>f64</td><td>f64</td><td>f64</td><td>u32</td><td>u32</td><td>u32</td><td>f64</td><td>f64</td><td>f64</td><td>f64</td><td>u32</td><td>u32</td><td>u32</td><td>f64</td><td>f64</td><td>f64</td><td>u32</td><td>u32</td><td>u32</td><td>f64</td><td>f64</td><td>f64</td><td>f64</td><td>f64</td><td>f64</td><td>f64</td><td>f64</td><td>f64</td><td>f64</td><td>f64</td><td>f64</td><td>f64</td><td>f64</td></tr></thead><tbody><tr><td>&quot;100010&quot;</td><td>0</td><td>0.46</td><td>0.5</td><td>-0.4</td><td>1</td><td>2</td><td>0</td><td>-0.2</td><td>0.42</td><td>0.1</td><td>-0.5</td><td>1</td><td>1</td><td>0</td><td>0</td><td>0</td><td>0</td><td>0</td><td>0</td><td>1</td><td>0.65</td><td>0.6</td><td>0.85</td><td>0.7</td><td>0.7</td><td>0.5</td><td>-0.4</td><td>-0.1</td><td>0.1</td><td>-0.5</td><td>0</td><td>0.35</td><td>0.28</td><td>0.07</td></tr><tr><td>&quot;100017&quot;</td><td>-0.13</td><td>0.4</td><td>0.3</td><td>-0.5</td><td>1</td><td>2</td><td>0</td><td>-0.05</td><td>0.21</td><td>0.1</td><td>-0.2</td><td>1</td><td>1</td><td>0</td><td>-0.4</td><td>-0.4</td><td>-0.4</td><td>0</td><td>1</td><td>0</td><td>0.55</td><td>0.65</td><td>0.6</td><td>0.53</td><td>0.67</td><td>-0.5</td><td>0.3</td><td>-0.2</td><td>-0.2</td><td>0.1</td><td>-0.4</td><td>0.35</td><td>0.21</td><td>0.14</td></tr><tr><td>&quot;100036&quot;</td><td>0.03</td><td>0.75</td><td>0.8</td><td>-0.7</td><td>1</td><td>1</td><td>1</td><td>0.05</td><td>1.06</td><td>0.8</td><td>-0.7</td><td>1</td><td>1</td><td>0</td><td>0.1</td><td>0.1</td><td>0.1</td><td>1</td><td>0</td><td>0</td><td>0.6</td><td>0.2</td><td>0.55</td><td>0.47</td><td>0.43</td><td>0.8</td><td>0</td><td>-0.7</td><td>0.8</td><td>-0.7</td><td>0.1</td><td>0.57</td><td>0</td><td>0.49</td></tr><tr><td>&quot;100047&quot;</td><td>5.03</td><td>16.08</td><td>15.3</td><td>-13.5</td><td>2</td><td>1</td><td>0</td><td>0.8</td><td>1.41</td><td>1.8</td><td>-0.2</td><td>1</td><td>1</td><td>0</td><td>15.1</td><td>15.1</td><td>15.1</td><td>1</td><td>0</td><td>0</td><td>43.05</td><td>42.15</td><td>42.25</td><td>45</td><td>39.97</td><td>15.3</td><td>-13.5</td><td>13.3</td><td>1.8</td><td>-0.2</td><td>15.1</td><td>10.82</td><td>9.55</td><td>9.4</td></tr><tr><td>&quot;100064&quot;</td><td>0.03</td><td>0.45</td><td>0.5</td><td>-0.4</td><td>1</td><td>1</td><td>1</td><td>-0.15</td><td>0.35</td><td>0.1</td><td>-0.4</td><td>1</td><td>1</td><td>0</td><td>0.1</td><td>0.1</td><td>0.1</td><td>1</td><td>0</td><td>0</td><td>0.55</td><td>0.5</td><td>0.7</td><td>0.6</td><td>0.57</td><td>0.5</td><td>-0.4</td><td>0</td><td>0.1</td><td>-0.4</td><td>0.1</td><td>0.35</td><td>0.28</td><td>0</td></tr><tr><td>&hellip;</td><td>&hellip;</td><td>&hellip;</td><td>&hellip;</td><td>&hellip;</td><td>&hellip;</td><td>&hellip;</td><td>&hellip;</td><td>&hellip;</td><td>&hellip;</td><td>&hellip;</td><td>&hellip;</td><td>&hellip;</td><td>&hellip;</td><td>&hellip;</td><td>&hellip;</td><td>&hellip;</td><td>&hellip;</td><td>&hellip;</td><td>&hellip;</td><td>&hellip;</td><td>&hellip;</td><td>&hellip;</td><td>&hellip;</td><td>&hellip;</td><td>&hellip;</td><td>&hellip;</td><td>&hellip;</td><td>&hellip;</td><td>&hellip;</td><td>&hellip;</td><td>&hellip;</td><td>&hellip;</td><td>&hellip;</td><td>&hellip;</td></tr><tr><td>&quot;999922&quot;</td><td>-0.07</td><td>1.99</td><td>2.2</td><td>-1.5</td><td>1</td><td>2</td><td>0</td><td>1</td><td>0.42</td><td>1.3</td><td>0.7</td><td>2</td><td>0</td><td>0</td><td>-0.2</td><td>-0.2</td><td>-0.2</td><td>0</td><td>1</td><td>0</td><td>2.85</td><td>2.5</td><td>1.85</td><td>2.37</td><td>2.43</td><td>-1.5</td><td>2.2</td><td>-0.9</td><td>0.7</td><td>1.3</td><td>-0.2</td><td>1.06</td><td>1.56</td><td>0.64</td></tr><tr><td>&quot;999934&quot;</td><td>-2.1</td><td>5.11</td><td>1</td><td>-8</td><td>2</td><td>1</td><td>0</td><td>-2.8</td><td>6.36</td><td>1.7</td><td>-7.3</td><td>1</td><td>1</td><td>0</td><td>-6.3</td><td>-6.3</td><td>-6.3</td><td>0</td><td>1</td><td>0</td><td>10.5</td><td>14.15</td><td>13.3</td><td>11.6</td><td>13.7</td><td>-8</td><td>0.7</td><td>1</td><td>-7.3</td><td>1.7</td><td>-6.3</td><td>5.66</td><td>0.49</td><td>0.71</td></tr><tr><td>&quot;999940&quot;</td><td>1.53</td><td>7.6</td><td>9</td><td>-6.2</td><td>2</td><td>1</td><td>0</td><td>-0.8</td><td>5.09</td><td>2.8</td><td>-4.4</td><td>1</td><td>1</td><td>0</td><td>4.6</td><td>4.6</td><td>4.6</td><td>1</td><td>0</td><td>0</td><td>9.9</td><td>8.5</td><td>10.7</td><td>10.47</td><td>8.93</td><td>9</td><td>-6.2</td><td>1.8</td><td>2.8</td><td>-4.4</td><td>4.6</td><td>6.36</td><td>4.38</td><td>1.27</td></tr><tr><td>&quot;999956&quot;</td><td>0.37</td><td>2.95</td><td>3.3</td><td>-2.6</td><td>2</td><td>1</td><td>0</td><td>2.2</td><td>2.12</td><td>3.7</td><td>0.7</td><td>2</td><td>0</td><td>0</td><td>1.1</td><td>1.1</td><td>1.1</td><td>1</td><td>0</td><td>0</td><td>13.9</td><td>12.05</td><td>11.7</td><td>12.73</td><td>12.37</td><td>0.4</td><td>3.3</td><td>-2.6</td><td>3.7</td><td>0.7</td><td>1.1</td><td>0.28</td><td>2.33</td><td>1.84</td></tr><tr><td>&quot;999971&quot;</td><td>-0.87</td><td>0.76</td><td>0</td><td>-1.4</td><td>0</td><td>2</td><td>1</td><td>-1.9</td><td>0.99</td><td>-1.2</td><td>-2.6</td><td>0</td><td>2</td><td>0</td><td>-2.6</td><td>-2.6</td><td>-2.6</td><td>0</td><td>1</td><td>0</td><td>1.1</td><td>1.7</td><td>3</td><td>1.5</td><td>2.37</td><td>0</td><td>-1.2</td><td>-1.4</td><td>-1.2</td><td>-2.6</td><td>-2.6</td><td>0</td><td>0.85</td><td>0.99</td></tr></tbody></table></div>"
      ],
      "text/plain": [
       "shape: (100_000, 35)\n",
       "┌───────────┬───────────┬───────────┬───────────┬───┬───────────┬───────────┬───────────┬──────────┐\n",
       "│ rating_ac ┆ avg_delta ┆ delta_1mo ┆ max_delta ┆ … ┆ last_1_de ┆ last_1_2m ┆ last_2_2m ┆ last_3_2 │\n",
       "│ count_id  ┆ _1mo      ┆ _volatili ┆ _1mo_incr ┆   ┆ lta_3mo   ┆ o_rolling ┆ o_rolling ┆ mo_rolli │\n",
       "│ ---       ┆ ---       ┆ ty        ┆ ease      ┆   ┆ ---       ┆ _stdev    ┆ _stdev    ┆ ng_stdev │\n",
       "│ str       ┆ f64       ┆ ---       ┆ ---       ┆   ┆ f64       ┆ ---       ┆ ---       ┆ ---      │\n",
       "│           ┆           ┆ f64       ┆ f64       ┆   ┆           ┆ f64       ┆ f64       ┆ f64      │\n",
       "╞═══════════╪═══════════╪═══════════╪═══════════╪═══╪═══════════╪═══════════╪═══════════╪══════════╡\n",
       "│ 100010    ┆ 0         ┆ 0.46      ┆ 0.5       ┆ … ┆ 0         ┆ 0.35      ┆ 0.28      ┆ 0.07     │\n",
       "│ 100017    ┆ -0.13     ┆ 0.4       ┆ 0.3       ┆ … ┆ -0.4      ┆ 0.35      ┆ 0.21      ┆ 0.14     │\n",
       "│ 100036    ┆ 0.03      ┆ 0.75      ┆ 0.8       ┆ … ┆ 0.1       ┆ 0.57      ┆ 0         ┆ 0.49     │\n",
       "│ 100047    ┆ 5.03      ┆ 16.08     ┆ 15.3      ┆ … ┆ 15.1      ┆ 10.82     ┆ 9.55      ┆ 9.4      │\n",
       "│ 100064    ┆ 0.03      ┆ 0.45      ┆ 0.5       ┆ … ┆ 0.1       ┆ 0.35      ┆ 0.28      ┆ 0        │\n",
       "│ …         ┆ …         ┆ …         ┆ …         ┆ … ┆ …         ┆ …         ┆ …         ┆ …        │\n",
       "│ 999922    ┆ -0.07     ┆ 1.99      ┆ 2.2       ┆ … ┆ -0.2      ┆ 1.06      ┆ 1.56      ┆ 0.64     │\n",
       "│ 999934    ┆ -2.1      ┆ 5.11      ┆ 1         ┆ … ┆ -6.3      ┆ 5.66      ┆ 0.49      ┆ 0.71     │\n",
       "│ 999940    ┆ 1.53      ┆ 7.6       ┆ 9         ┆ … ┆ 4.6       ┆ 6.36      ┆ 4.38      ┆ 1.27     │\n",
       "│ 999956    ┆ 0.37      ┆ 2.95      ┆ 3.3       ┆ … ┆ 1.1       ┆ 0.28      ┆ 2.33      ┆ 1.84     │\n",
       "│ 999971    ┆ -0.87     ┆ 0.76      ┆ 0         ┆ … ┆ -2.6      ┆ 0         ┆ 0.85      ┆ 0.99     │\n",
       "└───────────┴───────────┴───────────┴───────────┴───┴───────────┴───────────┴───────────┴──────────┘"
      ]
     },
     "execution_count": 15,
     "metadata": {},
     "output_type": "execute_result"
    }
   ],
   "source": [
    "trend_features"
   ]
  },
  {
   "cell_type": "code",
   "execution_count": 16,
   "id": "cd461e3b",
   "metadata": {},
   "outputs": [],
   "source": [
    "usage_features = aggregated_features.join(\n",
    "    trend_features, \n",
    "    on='rating_account_id', \n",
    "    how='left'\n",
    ").join(\n",
    "    month_usage,\n",
    "    on='rating_account_id',\n",
    "    how='left'\n",
    ")"
   ]
  },
  {
   "cell_type": "code",
   "execution_count": 17,
   "id": "59272474",
   "metadata": {},
   "outputs": [
    {
     "data": {
      "text/html": [
       "<div><style>\n",
       ".dataframe > thead > tr,\n",
       ".dataframe > tbody > tr {\n",
       "  text-align: right;\n",
       "  white-space: pre-wrap;\n",
       "}\n",
       "</style>\n",
       "<small>shape: (100_000, 52)</small><table border=\"1\" class=\"dataframe\"><thead><tr><th>rating_account_id</th><th>avg_monthly_usage_gb</th><th>median_monthly_usage_gb</th><th>total_usage_gb</th><th>usage_std_gb</th><th>min_monthly_usage_gb</th><th>max_monthly_usage_gb</th><th>usage_q25_gb</th><th>usage_q75_gb</th><th>months_with_roaming</th><th>ever_used_roaming</th><th>always_used_roaming</th><th>zero_usage_months</th><th>active_usage_months</th><th>avg_delta_1mo</th><th>delta_1mo_volatility</th><th>max_delta_1mo_increase</th><th>max_delta_1mo_decrease</th><th>months_with_delta_1mo_increase</th><th>months_with_delta_1mo_decrease</th><th>months_with_no_delta_1mo_change</th><th>avg_delta_2mo</th><th>delta_2mo_volatility</th><th>max_delta_2mo_increase</th><th>max_delta_2mo_decrease</th><th>months_with_delta_2mo_increase</th><th>months_with_delta_2mo_decrease</th><th>months_with_no_delta_2mo_change</th><th>avg_delta_3mo</th><th>max_delta_3mo_increase</th><th>max_delta_3mo_decrease</th><th>months_with_delta_3mo_increase</th><th>months_with_delta_3mo_decrease</th><th>months_with_no_delta_3mo_change</th><th>last_1_2mo_rolling_avg</th><th>last_2_2mo_rolling_avg</th><th>last_3_2mo_rolling_avg</th><th>last_1_3mo_rolling_avg</th><th>last_2_3mo_rolling_avg</th><th>last_1_delta_1mo</th><th>last_2_delta_1mo</th><th>last_3_delta_1mo</th><th>last_1_delta_2mo</th><th>last_2_delta_2mo</th><th>last_1_delta_3mo</th><th>last_1_2mo_rolling_stdev</th><th>last_2_2mo_rolling_stdev</th><th>last_3_2mo_rolling_stdev</th><th>last_1_month_usage_gb</th><th>last_2_month_usage_gb</th><th>last_3_month_usage_gb</th><th>last_4_month_usage_gb</th></tr><tr><td>str</td><td>f64</td><td>f64</td><td>f64</td><td>f64</td><td>f64</td><td>f64</td><td>f64</td><td>f64</td><td>u32</td><td>bool</td><td>bool</td><td>u32</td><td>u32</td><td>f64</td><td>f64</td><td>f64</td><td>f64</td><td>u32</td><td>u32</td><td>u32</td><td>f64</td><td>f64</td><td>f64</td><td>f64</td><td>u32</td><td>u32</td><td>u32</td><td>f64</td><td>f64</td><td>f64</td><td>u32</td><td>u32</td><td>u32</td><td>f64</td><td>f64</td><td>f64</td><td>f64</td><td>f64</td><td>f64</td><td>f64</td><td>f64</td><td>f64</td><td>f64</td><td>f64</td><td>f64</td><td>f64</td><td>f64</td><td>f64</td><td>f64</td><td>f64</td><td>f64</td></tr></thead><tbody><tr><td>&quot;100010&quot;</td><td>0.75</td><td>0.85</td><td>3</td><td>0.24</td><td>0.4</td><td>0.9</td><td>0.8</td><td>0.9</td><td>0</td><td>false</td><td>false</td><td>0</td><td>4</td><td>0</td><td>0.46</td><td>0.5</td><td>-0.4</td><td>1</td><td>2</td><td>0</td><td>-0.2</td><td>0.42</td><td>0.1</td><td>-0.5</td><td>1</td><td>1</td><td>0</td><td>0</td><td>0</td><td>0</td><td>0</td><td>0</td><td>1</td><td>0.65</td><td>0.6</td><td>0.85</td><td>0.7</td><td>0.7</td><td>0.5</td><td>-0.4</td><td>-0.1</td><td>0.1</td><td>-0.5</td><td>0</td><td>0.35</td><td>0.28</td><td>0.07</td><td>0.9</td><td>0.8</td><td>0.4</td><td>0.9</td></tr><tr><td>&quot;100017&quot;</td><td>0.57</td><td>0.6</td><td>2.3</td><td>0.22</td><td>0.3</td><td>0.8</td><td>0.5</td><td>0.7</td><td>2</td><td>true</td><td>false</td><td>0</td><td>4</td><td>-0.13</td><td>0.4</td><td>0.3</td><td>-0.5</td><td>1</td><td>2</td><td>0</td><td>-0.05</td><td>0.21</td><td>0.1</td><td>-0.2</td><td>1</td><td>1</td><td>0</td><td>-0.4</td><td>-0.4</td><td>-0.4</td><td>0</td><td>1</td><td>0</td><td>0.55</td><td>0.65</td><td>0.6</td><td>0.53</td><td>0.67</td><td>-0.5</td><td>0.3</td><td>-0.2</td><td>-0.2</td><td>0.1</td><td>-0.4</td><td>0.35</td><td>0.21</td><td>0.14</td><td>0.7</td><td>0.5</td><td>0.8</td><td>0.3</td></tr><tr><td>&quot;100036&quot;</td><td>0.57</td><td>0.55</td><td>2.3</td><td>0.43</td><td>0.2</td><td>1</td><td>0.2</td><td>0.9</td><td>1</td><td>true</td><td>false</td><td>0</td><td>4</td><td>0.03</td><td>0.75</td><td>0.8</td><td>-0.7</td><td>1</td><td>1</td><td>1</td><td>0.05</td><td>1.06</td><td>0.8</td><td>-0.7</td><td>1</td><td>1</td><td>0</td><td>0.1</td><td>0.1</td><td>0.1</td><td>1</td><td>0</td><td>0</td><td>0.6</td><td>0.2</td><td>0.55</td><td>0.47</td><td>0.43</td><td>0.8</td><td>0</td><td>-0.7</td><td>0.8</td><td>-0.7</td><td>0.1</td><td>0.57</td><td>0</td><td>0.49</td><td>0.9</td><td>0.2</td><td>0.2</td><td>1</td></tr><tr><td>&quot;100047&quot;</td><td>42.65</td><td>42.25</td><td>170.6</td><td>8.29</td><td>35.4</td><td>50.7</td><td>35.6</td><td>48.9</td><td>0</td><td>false</td><td>false</td><td>0</td><td>4</td><td>5.03</td><td>16.08</td><td>15.3</td><td>-13.5</td><td>2</td><td>1</td><td>0</td><td>0.8</td><td>1.41</td><td>1.8</td><td>-0.2</td><td>1</td><td>1</td><td>0</td><td>15.1</td><td>15.1</td><td>15.1</td><td>1</td><td>0</td><td>0</td><td>43.05</td><td>42.15</td><td>42.25</td><td>45</td><td>39.97</td><td>15.3</td><td>-13.5</td><td>13.3</td><td>1.8</td><td>-0.2</td><td>15.1</td><td>10.82</td><td>9.55</td><td>9.4</td><td>35.6</td><td>48.9</td><td>35.4</td><td>50.7</td></tr><tr><td>&quot;100064&quot;</td><td>0.62</td><td>0.7</td><td>2.5</td><td>0.22</td><td>0.3</td><td>0.8</td><td>0.7</td><td>0.7</td><td>1</td><td>true</td><td>false</td><td>0</td><td>4</td><td>0.03</td><td>0.45</td><td>0.5</td><td>-0.4</td><td>1</td><td>1</td><td>1</td><td>-0.15</td><td>0.35</td><td>0.1</td><td>-0.4</td><td>1</td><td>1</td><td>0</td><td>0.1</td><td>0.1</td><td>0.1</td><td>1</td><td>0</td><td>0</td><td>0.55</td><td>0.5</td><td>0.7</td><td>0.6</td><td>0.57</td><td>0.5</td><td>-0.4</td><td>0</td><td>0.1</td><td>-0.4</td><td>0.1</td><td>0.35</td><td>0.28</td><td>0</td><td>0.7</td><td>0.7</td><td>0.3</td><td>0.8</td></tr><tr><td>&hellip;</td><td>&hellip;</td><td>&hellip;</td><td>&hellip;</td><td>&hellip;</td><td>&hellip;</td><td>&hellip;</td><td>&hellip;</td><td>&hellip;</td><td>&hellip;</td><td>&hellip;</td><td>&hellip;</td><td>&hellip;</td><td>&hellip;</td><td>&hellip;</td><td>&hellip;</td><td>&hellip;</td><td>&hellip;</td><td>&hellip;</td><td>&hellip;</td><td>&hellip;</td><td>&hellip;</td><td>&hellip;</td><td>&hellip;</td><td>&hellip;</td><td>&hellip;</td><td>&hellip;</td><td>&hellip;</td><td>&hellip;</td><td>&hellip;</td><td>&hellip;</td><td>&hellip;</td><td>&hellip;</td><td>&hellip;</td><td>&hellip;</td><td>&hellip;</td><td>&hellip;</td><td>&hellip;</td><td>&hellip;</td><td>&hellip;</td><td>&hellip;</td><td>&hellip;</td><td>&hellip;</td><td>&hellip;</td><td>&hellip;</td><td>&hellip;</td><td>&hellip;</td><td>&hellip;</td><td>&hellip;</td><td>&hellip;</td><td>&hellip;</td><td>&hellip;</td></tr><tr><td>&quot;999922&quot;</td><td>2.35</td><td>2.2</td><td>9.4</td><td>0.92</td><td>1.4</td><td>3.6</td><td>2.1</td><td>2.3</td><td>0</td><td>false</td><td>false</td><td>0</td><td>4</td><td>-0.07</td><td>1.99</td><td>2.2</td><td>-1.5</td><td>1</td><td>2</td><td>0</td><td>1</td><td>0.42</td><td>1.3</td><td>0.7</td><td>2</td><td>0</td><td>0</td><td>-0.2</td><td>-0.2</td><td>-0.2</td><td>0</td><td>1</td><td>0</td><td>2.85</td><td>2.5</td><td>1.85</td><td>2.37</td><td>2.43</td><td>-1.5</td><td>2.2</td><td>-0.9</td><td>0.7</td><td>1.3</td><td>-0.2</td><td>1.06</td><td>1.56</td><td>0.64</td><td>2.3</td><td>1.4</td><td>3.6</td><td>2.1</td></tr><tr><td>&quot;999934&quot;</td><td>11.9</td><td>13.3</td><td>47.6</td><td>3.67</td><td>6.5</td><td>14.5</td><td>12.8</td><td>13.8</td><td>3</td><td>true</td><td>false</td><td>0</td><td>4</td><td>-2.1</td><td>5.11</td><td>1</td><td>-8</td><td>2</td><td>1</td><td>0</td><td>-2.8</td><td>6.36</td><td>1.7</td><td>-7.3</td><td>1</td><td>1</td><td>0</td><td>-6.3</td><td>-6.3</td><td>-6.3</td><td>0</td><td>1</td><td>0</td><td>10.5</td><td>14.15</td><td>13.3</td><td>11.6</td><td>13.7</td><td>-8</td><td>0.7</td><td>1</td><td>-7.3</td><td>1.7</td><td>-6.3</td><td>5.66</td><td>0.49</td><td>0.71</td><td>12.8</td><td>13.8</td><td>14.5</td><td>6.5</td></tr><tr><td>&quot;999940&quot;</td><td>10.3</td><td>10.7</td><td>41.2</td><td>3.78</td><td>5.4</td><td>14.4</td><td>9.8</td><td>11.6</td><td>1</td><td>true</td><td>false</td><td>0</td><td>4</td><td>1.53</td><td>7.6</td><td>9</td><td>-6.2</td><td>2</td><td>1</td><td>0</td><td>-0.8</td><td>5.09</td><td>2.8</td><td>-4.4</td><td>1</td><td>1</td><td>0</td><td>4.6</td><td>4.6</td><td>4.6</td><td>1</td><td>0</td><td>0</td><td>9.9</td><td>8.5</td><td>10.7</td><td>10.47</td><td>8.93</td><td>9</td><td>-6.2</td><td>1.8</td><td>2.8</td><td>-4.4</td><td>4.6</td><td>6.36</td><td>4.38</td><td>1.27</td><td>9.8</td><td>11.6</td><td>5.4</td><td>14.4</td></tr><tr><td>&quot;999956&quot;</td><td>12.8</td><td>13.35</td><td>51.2</td><td>1.66</td><td>10.4</td><td>14.1</td><td>13</td><td>13.7</td><td>0</td><td>false</td><td>false</td><td>0</td><td>4</td><td>0.37</td><td>2.95</td><td>3.3</td><td>-2.6</td><td>2</td><td>1</td><td>0</td><td>2.2</td><td>2.12</td><td>3.7</td><td>0.7</td><td>2</td><td>0</td><td>0</td><td>1.1</td><td>1.1</td><td>1.1</td><td>1</td><td>0</td><td>0</td><td>13.9</td><td>12.05</td><td>11.7</td><td>12.73</td><td>12.37</td><td>0.4</td><td>3.3</td><td>-2.6</td><td>3.7</td><td>0.7</td><td>1.1</td><td>0.28</td><td>2.33</td><td>1.84</td><td>13</td><td>10.4</td><td>13.7</td><td>14.1</td></tr><tr><td>&quot;999971&quot;</td><td>2.05</td><td>1.7</td><td>8.2</td><td>1.24</td><td>1.1</td><td>3.7</td><td>1.1</td><td>2.3</td><td>2</td><td>true</td><td>false</td><td>0</td><td>4</td><td>-0.87</td><td>0.76</td><td>0</td><td>-1.4</td><td>0</td><td>2</td><td>1</td><td>-1.9</td><td>0.99</td><td>-1.2</td><td>-2.6</td><td>0</td><td>2</td><td>0</td><td>-2.6</td><td>-2.6</td><td>-2.6</td><td>0</td><td>1</td><td>0</td><td>1.1</td><td>1.7</td><td>3</td><td>1.5</td><td>2.37</td><td>0</td><td>-1.2</td><td>-1.4</td><td>-1.2</td><td>-2.6</td><td>-2.6</td><td>0</td><td>0.85</td><td>0.99</td><td>3.7</td><td>2.3</td><td>1.1</td><td>1.1</td></tr></tbody></table></div>"
      ],
      "text/plain": [
       "shape: (100_000, 52)\n",
       "┌───────────┬───────────┬───────────┬───────────┬───┬───────────┬───────────┬───────────┬──────────┐\n",
       "│ rating_ac ┆ avg_month ┆ median_mo ┆ total_usa ┆ … ┆ last_1_mo ┆ last_2_mo ┆ last_3_mo ┆ last_4_m │\n",
       "│ count_id  ┆ ly_usage_ ┆ nthly_usa ┆ ge_gb     ┆   ┆ nth_usage ┆ nth_usage ┆ nth_usage ┆ onth_usa │\n",
       "│ ---       ┆ gb        ┆ ge_gb     ┆ ---       ┆   ┆ _gb       ┆ _gb       ┆ _gb       ┆ ge_gb    │\n",
       "│ str       ┆ ---       ┆ ---       ┆ f64       ┆   ┆ ---       ┆ ---       ┆ ---       ┆ ---      │\n",
       "│           ┆ f64       ┆ f64       ┆           ┆   ┆ f64       ┆ f64       ┆ f64       ┆ f64      │\n",
       "╞═══════════╪═══════════╪═══════════╪═══════════╪═══╪═══════════╪═══════════╪═══════════╪══════════╡\n",
       "│ 100010    ┆ 0.75      ┆ 0.85      ┆ 3         ┆ … ┆ 0.9       ┆ 0.8       ┆ 0.4       ┆ 0.9      │\n",
       "│ 100017    ┆ 0.57      ┆ 0.6       ┆ 2.3       ┆ … ┆ 0.7       ┆ 0.5       ┆ 0.8       ┆ 0.3      │\n",
       "│ 100036    ┆ 0.57      ┆ 0.55      ┆ 2.3       ┆ … ┆ 0.9       ┆ 0.2       ┆ 0.2       ┆ 1        │\n",
       "│ 100047    ┆ 42.65     ┆ 42.25     ┆ 170.6     ┆ … ┆ 35.6      ┆ 48.9      ┆ 35.4      ┆ 50.7     │\n",
       "│ 100064    ┆ 0.62      ┆ 0.7       ┆ 2.5       ┆ … ┆ 0.7       ┆ 0.7       ┆ 0.3       ┆ 0.8      │\n",
       "│ …         ┆ …         ┆ …         ┆ …         ┆ … ┆ …         ┆ …         ┆ …         ┆ …        │\n",
       "│ 999922    ┆ 2.35      ┆ 2.2       ┆ 9.4       ┆ … ┆ 2.3       ┆ 1.4       ┆ 3.6       ┆ 2.1      │\n",
       "│ 999934    ┆ 11.9      ┆ 13.3      ┆ 47.6      ┆ … ┆ 12.8      ┆ 13.8      ┆ 14.5      ┆ 6.5      │\n",
       "│ 999940    ┆ 10.3      ┆ 10.7      ┆ 41.2      ┆ … ┆ 9.8       ┆ 11.6      ┆ 5.4       ┆ 14.4     │\n",
       "│ 999956    ┆ 12.8      ┆ 13.35     ┆ 51.2      ┆ … ┆ 13        ┆ 10.4      ┆ 13.7      ┆ 14.1     │\n",
       "│ 999971    ┆ 2.05      ┆ 1.7       ┆ 8.2       ┆ … ┆ 3.7       ┆ 2.3       ┆ 1.1       ┆ 1.1      │\n",
       "└───────────┴───────────┴───────────┴───────────┴───┴───────────┴───────────┴───────────┴──────────┘"
      ]
     },
     "execution_count": 17,
     "metadata": {},
     "output_type": "execute_result"
    }
   ],
   "source": [
    "usage_features"
   ]
  },
  {
   "cell_type": "code",
   "execution_count": 18,
   "id": "e265851b",
   "metadata": {},
   "outputs": [
    {
     "data": {
      "text/plain": [
       "(100000, 52)"
      ]
     },
     "execution_count": 18,
     "metadata": {},
     "output_type": "execute_result"
    }
   ],
   "source": [
    "usage_features.shape"
   ]
  },
  {
   "cell_type": "markdown",
   "id": "61c38a0b",
   "metadata": {},
   "source": [
    "---"
   ]
  },
  {
   "cell_type": "markdown",
   "id": "0a9036d5",
   "metadata": {},
   "source": [
    "## `customer_interactions`"
   ]
  },
  {
   "cell_type": "code",
   "execution_count": 19,
   "id": "e9ca2ec6",
   "metadata": {},
   "outputs": [
    {
     "name": "stdout",
     "output_type": "stream",
     "text": [
      "CPU times: user 21.6 ms, sys: 13.7 ms, total: 35.3 ms\n",
      "Wall time: 18.6 ms\n"
     ]
    }
   ],
   "source": [
    "%%time\n",
    "\n",
    "interactions_features = customer_interactions.pivot(\n",
    "    index='customer_id',\n",
    "    on='type_subtype', \n",
    "    values=['n', 'days_since_last'],\n",
    "    aggregate_function='first' # There is only one value per customer\n",
    ")"
   ]
  },
  {
   "cell_type": "code",
   "execution_count": 20,
   "id": "12d4ed48",
   "metadata": {},
   "outputs": [
    {
     "data": {
      "text/plain": [
       "(42095, 9)"
      ]
     },
     "execution_count": 20,
     "metadata": {},
     "output_type": "execute_result"
    }
   ],
   "source": [
    "interactions_features.shape"
   ]
  },
  {
   "cell_type": "markdown",
   "id": "6ec71704",
   "metadata": {},
   "source": [
    "---"
   ]
  },
  {
   "cell_type": "markdown",
   "id": "5c7a977d",
   "metadata": {},
   "source": [
    "## `combined_features`"
   ]
  },
  {
   "cell_type": "code",
   "execution_count": 21,
   "id": "53c090e1",
   "metadata": {},
   "outputs": [],
   "source": [
    "features = core_data.join(\n",
    "    usage_features,\n",
    "    on='rating_account_id',\n",
    "    how='left'\n",
    ").join(\n",
    "    interactions_features,\n",
    "    on='customer_id',\n",
    "    how='left'\n",
    ")"
   ]
  },
  {
   "cell_type": "code",
   "execution_count": 22,
   "id": "e11dada6",
   "metadata": {},
   "outputs": [
    {
     "data": {
      "text/html": [
       "<div><style>\n",
       ".dataframe > thead > tr,\n",
       ".dataframe > tbody > tr {\n",
       "  text-align: right;\n",
       "  white-space: pre-wrap;\n",
       "}\n",
       "</style>\n",
       "<small>shape: (5, 78)</small><table border=\"1\" class=\"dataframe\"><thead><tr><th>rating_account_id</th><th>customer_id</th><th>age</th><th>contract_lifetime_days</th><th>remaining_binding_days</th><th>has_special_offer</th><th>is_magenta1_customer</th><th>available_gb</th><th>gross_mrc</th><th>has_done_upselling</th><th>contract_binding_days</th><th>completion_rate</th><th>is_bounded</th><th>is_huawei</th><th>is_oneplus</th><th>is_samsung</th><th>is_xiaomi</th><th>is_iphone</th><th>n_contracts_per_customer</th><th>avg_monthly_usage_gb</th><th>median_monthly_usage_gb</th><th>total_usage_gb</th><th>usage_std_gb</th><th>min_monthly_usage_gb</th><th>max_monthly_usage_gb</th><th>usage_q25_gb</th><th>usage_q75_gb</th><th>months_with_roaming</th><th>ever_used_roaming</th><th>always_used_roaming</th><th>zero_usage_months</th><th>active_usage_months</th><th>avg_delta_1mo</th><th>delta_1mo_volatility</th><th>max_delta_1mo_increase</th><th>max_delta_1mo_decrease</th><th>months_with_delta_1mo_increase</th><th>&hellip;</th><th>max_delta_2mo_increase</th><th>max_delta_2mo_decrease</th><th>months_with_delta_2mo_increase</th><th>months_with_delta_2mo_decrease</th><th>months_with_no_delta_2mo_change</th><th>avg_delta_3mo</th><th>max_delta_3mo_increase</th><th>max_delta_3mo_decrease</th><th>months_with_delta_3mo_increase</th><th>months_with_delta_3mo_decrease</th><th>months_with_no_delta_3mo_change</th><th>last_1_2mo_rolling_avg</th><th>last_2_2mo_rolling_avg</th><th>last_3_2mo_rolling_avg</th><th>last_1_3mo_rolling_avg</th><th>last_2_3mo_rolling_avg</th><th>last_1_delta_1mo</th><th>last_2_delta_1mo</th><th>last_3_delta_1mo</th><th>last_1_delta_2mo</th><th>last_2_delta_2mo</th><th>last_1_delta_3mo</th><th>last_1_2mo_rolling_stdev</th><th>last_2_2mo_rolling_stdev</th><th>last_3_2mo_rolling_stdev</th><th>last_1_month_usage_gb</th><th>last_2_month_usage_gb</th><th>last_3_month_usage_gb</th><th>last_4_month_usage_gb</th><th>n_rechnungsanfragen</th><th>n_produkte&amp;services-tarifdetails</th><th>n_prolongation</th><th>n_produkte&amp;services-tarifwechsel</th><th>days_since_last_rechnungsanfragen</th><th>days_since_last_produkte&amp;services-tarifdetails</th><th>days_since_last_prolongation</th><th>days_since_last_produkte&amp;services-tarifwechsel</th></tr><tr><td>str</td><td>str</td><td>i64</td><td>i64</td><td>i64</td><td>bool</td><td>bool</td><td>i64</td><td>f64</td><td>bool</td><td>i64</td><td>f64</td><td>bool</td><td>bool</td><td>bool</td><td>bool</td><td>bool</td><td>bool</td><td>u32</td><td>f64</td><td>f64</td><td>f64</td><td>f64</td><td>f64</td><td>f64</td><td>f64</td><td>f64</td><td>u32</td><td>bool</td><td>bool</td><td>u32</td><td>u32</td><td>f64</td><td>f64</td><td>f64</td><td>f64</td><td>u32</td><td>&hellip;</td><td>f64</td><td>f64</td><td>u32</td><td>u32</td><td>u32</td><td>f64</td><td>f64</td><td>f64</td><td>u32</td><td>u32</td><td>u32</td><td>f64</td><td>f64</td><td>f64</td><td>f64</td><td>f64</td><td>f64</td><td>f64</td><td>f64</td><td>f64</td><td>f64</td><td>f64</td><td>f64</td><td>f64</td><td>f64</td><td>f64</td><td>f64</td><td>f64</td><td>f64</td><td>i64</td><td>i64</td><td>i64</td><td>i64</td><td>i64</td><td>i64</td><td>i64</td><td>i64</td></tr></thead><tbody><tr><td>&quot;289094&quot;</td><td>&quot;4.161115&quot;</td><td>36</td><td>878</td><td>325</td><td>false</td><td>false</td><td>20</td><td>70</td><td>false</td><td>1203</td><td>0.73</td><td>true</td><td>false</td><td>false</td><td>false</td><td>false</td><td>true</td><td>1</td><td>0.28</td><td>0.15</td><td>1.1</td><td>0.36</td><td>0</td><td>0.8</td><td>0.1</td><td>0.2</td><td>1</td><td>true</td><td>false</td><td>1</td><td>3</td><td>-0.27</td><td>0.29</td><td>-0.1</td><td>-0.6</td><td>0</td><td>&hellip;</td><td>-0.2</td><td>-0.7</td><td>0</td><td>2</td><td>0</td><td>-0.8</td><td>-0.8</td><td>-0.8</td><td>0</td><td>1</td><td>0</td><td>0.05</td><td>0.15</td><td>0.5</td><td>0.1</td><td>0.37</td><td>-0.1</td><td>-0.1</td><td>-0.6</td><td>-0.2</td><td>-0.7</td><td>-0.8</td><td>0.07</td><td>0.07</td><td>0.42</td><td>0.8</td><td>0.2</td><td>0.1</td><td>0</td><td>null</td><td>null</td><td>null</td><td>null</td><td>null</td><td>null</td><td>null</td><td>null</td></tr><tr><td>&quot;677626&quot;</td><td>&quot;2.429976&quot;</td><td>34</td><td>998</td><td>614</td><td>false</td><td>false</td><td>0</td><td>5</td><td>false</td><td>1612</td><td>0.62</td><td>true</td><td>false</td><td>false</td><td>true</td><td>false</td><td>false</td><td>1</td><td>0.65</td><td>0.65</td><td>2.6</td><td>0.31</td><td>0.3</td><td>1</td><td>0.5</td><td>0.8</td><td>1</td><td>true</td><td>false</td><td>0</td><td>4</td><td>0.07</td><td>0.55</td><td>0.7</td><td>-0.3</td><td>1</td><td>&hellip;</td><td>0.5</td><td>-0.5</td><td>1</td><td>1</td><td>0</td><td>0.2</td><td>0.2</td><td>0.2</td><td>1</td><td>0</td><td>0</td><td>0.65</td><td>0.4</td><td>0.65</td><td>0.6</td><td>0.53</td><td>0.7</td><td>-0.2</td><td>-0.3</td><td>0.5</td><td>-0.5</td><td>0.2</td><td>0.49</td><td>0.14</td><td>0.21</td><td>0.8</td><td>0.5</td><td>0.3</td><td>1</td><td>null</td><td>null</td><td>1</td><td>1</td><td>null</td><td>null</td><td>87</td><td>118</td></tr><tr><td>&quot;769928&quot;</td><td>&quot;3.875044&quot;</td><td>36</td><td>37</td><td>-26</td><td>false</td><td>true</td><td>50</td><td>16.94</td><td>false</td><td>11</td><td>3.36</td><td>false</td><td>false</td><td>false</td><td>true</td><td>false</td><td>false</td><td>2</td><td>0.6</td><td>0.55</td><td>2.4</td><td>0.32</td><td>0.3</td><td>1</td><td>0.4</td><td>0.7</td><td>0</td><td>false</td><td>false</td><td>0</td><td>4</td><td>-0.2</td><td>0.56</td><td>0.4</td><td>-0.7</td><td>1</td><td>&hellip;</td><td>0.1</td><td>-0.3</td><td>1</td><td>1</td><td>0</td><td>-0.6</td><td>-0.6</td><td>-0.6</td><td>0</td><td>1</td><td>0</td><td>0.55</td><td>0.5</td><td>0.65</td><td>0.47</td><td>0.67</td><td>-0.3</td><td>0.4</td><td>-0.7</td><td>0.1</td><td>-0.3</td><td>-0.6</td><td>0.21</td><td>0.28</td><td>0.49</td><td>1</td><td>0.3</td><td>0.7</td><td>0.4</td><td>null</td><td>null</td><td>null</td><td>null</td><td>null</td><td>null</td><td>null</td><td>null</td></tr><tr><td>&quot;873260&quot;</td><td>&quot;4.649933&quot;</td><td>50</td><td>503</td><td>-149</td><td>false</td><td>true</td><td>20</td><td>30.2</td><td>true</td><td>354</td><td>1.42</td><td>false</td><td>false</td><td>false</td><td>false</td><td>false</td><td>true</td><td>1</td><td>0.38</td><td>0.25</td><td>1.5</td><td>0.36</td><td>0.1</td><td>0.9</td><td>0.2</td><td>0.3</td><td>0</td><td>false</td><td>false</td><td>0</td><td>4</td><td>0.03</td><td>0.67</td><td>0.6</td><td>-0.7</td><td>2</td><td>&hellip;</td><td>0.8</td><td>-0.1</td><td>1</td><td>1</td><td>0</td><td>0.1</td><td>0.1</td><td>0.1</td><td>1</td><td>0</td><td>0</td><td>0.55</td><td>0.6</td><td>0.2</td><td>0.47</td><td>0.43</td><td>-0.7</td><td>0.6</td><td>0.2</td><td>-0.1</td><td>0.8</td><td>0.1</td><td>0.49</td><td>0.42</td><td>0.14</td><td>0.1</td><td>0.3</td><td>0.9</td><td>0.2</td><td>null</td><td>null</td><td>null</td><td>null</td><td>null</td><td>null</td><td>null</td><td>null</td></tr><tr><td>&quot;109774&quot;</td><td>&quot;3.851059&quot;</td><td>47</td><td>331</td><td>-328</td><td>true</td><td>true</td><td>null</td><td>46.12</td><td>false</td><td>3</td><td>110.33</td><td>false</td><td>false</td><td>false</td><td>true</td><td>false</td><td>false</td><td>3</td><td>0.35</td><td>0.35</td><td>1.4</td><td>0.29</td><td>0.1</td><td>0.6</td><td>0.1</td><td>0.6</td><td>1</td><td>true</td><td>false</td><td>0</td><td>4</td><td>0</td><td>0.5</td><td>0.5</td><td>-0.5</td><td>1</td><td>&hellip;</td><td>0.5</td><td>-0.5</td><td>1</td><td>1</td><td>0</td><td>0</td><td>0</td><td>0</td><td>0</td><td>0</td><td>1</td><td>0.35</td><td>0.1</td><td>0.35</td><td>0.27</td><td>0.27</td><td>0.5</td><td>0</td><td>-0.5</td><td>0.5</td><td>-0.5</td><td>0</td><td>0.35</td><td>0</td><td>0.35</td><td>0.6</td><td>0.1</td><td>0.1</td><td>0.6</td><td>null</td><td>null</td><td>null</td><td>null</td><td>null</td><td>null</td><td>null</td><td>null</td></tr></tbody></table></div>"
      ],
      "text/plain": [
       "shape: (5, 78)\n",
       "┌────────────┬────────────┬─────┬────────────┬───┬────────────┬────────────┬───────────┬───────────┐\n",
       "│ rating_acc ┆ customer_i ┆ age ┆ contract_l ┆ … ┆ days_since ┆ days_since ┆ days_sinc ┆ days_sinc │\n",
       "│ ount_id    ┆ d          ┆ --- ┆ ifetime_da ┆   ┆ _last_rech ┆ _last_prod ┆ e_last_pr ┆ e_last_pr │\n",
       "│ ---        ┆ ---        ┆ i64 ┆ ys         ┆   ┆ nungsanfra ┆ ukte&servi ┆ olongatio ┆ odukte&se │\n",
       "│ str        ┆ str        ┆     ┆ ---        ┆   ┆ gen        ┆ ces-tarifd ┆ n         ┆ rvices-ta │\n",
       "│            ┆            ┆     ┆ i64        ┆   ┆ ---        ┆ etails     ┆ ---       ┆ rifwechse │\n",
       "│            ┆            ┆     ┆            ┆   ┆ i64        ┆ ---        ┆ i64       ┆ l         │\n",
       "│            ┆            ┆     ┆            ┆   ┆            ┆ i64        ┆           ┆ ---       │\n",
       "│            ┆            ┆     ┆            ┆   ┆            ┆            ┆           ┆ i64       │\n",
       "╞════════════╪════════════╪═════╪════════════╪═══╪════════════╪════════════╪═══════════╪═══════════╡\n",
       "│ 289094     ┆ 4.161115   ┆ 36  ┆ 878        ┆ … ┆ null       ┆ null       ┆ null      ┆ null      │\n",
       "│ 677626     ┆ 2.429976   ┆ 34  ┆ 998        ┆ … ┆ null       ┆ null       ┆ 87        ┆ 118       │\n",
       "│ 769928     ┆ 3.875044   ┆ 36  ┆ 37         ┆ … ┆ null       ┆ null       ┆ null      ┆ null      │\n",
       "│ 873260     ┆ 4.649933   ┆ 50  ┆ 503        ┆ … ┆ null       ┆ null       ┆ null      ┆ null      │\n",
       "│ 109774     ┆ 3.851059   ┆ 47  ┆ 331        ┆ … ┆ null       ┆ null       ┆ null      ┆ null      │\n",
       "└────────────┴────────────┴─────┴────────────┴───┴────────────┴────────────┴───────────┴───────────┘"
      ]
     },
     "execution_count": 22,
     "metadata": {},
     "output_type": "execute_result"
    }
   ],
   "source": [
    "features.head()"
   ]
  },
  {
   "cell_type": "code",
   "execution_count": 23,
   "id": "fa21103c",
   "metadata": {},
   "outputs": [
    {
     "name": "stdout",
     "output_type": "stream",
     "text": [
      "CPU times: user 1.97 ms, sys: 4.38 ms, total: 6.35 ms\n",
      "Wall time: 2.44 ms\n"
     ]
    }
   ],
   "source": [
    "%%time\n",
    "\n",
    "# Filling null values from intereactions features\n",
    "features = features.with_columns([\n",
    "    pl.when(pl.col(col).is_null())\n",
    "    .then(0)\n",
    "    .otherwise(pl.col(col))\n",
    "    .alias(col)\n",
    "    for col in features.columns if col.startswith('n_')\n",
    "] + [\n",
    "    pl.when(pl.col(col).is_null())\n",
    "    .then(-1)\n",
    "    .otherwise(pl.col(col))\n",
    "    .alias(col)\n",
    "    for col in features.columns if col.startswith('days_since_last')\n",
    "])"
   ]
  },
  {
   "cell_type": "markdown",
   "id": "85d61e28",
   "metadata": {},
   "source": [
    "### Dealing with null values in `available_gb`"
   ]
  },
  {
   "cell_type": "code",
   "execution_count": 24,
   "id": "1dc62e05",
   "metadata": {},
   "outputs": [
    {
     "data": {
      "text/html": [
       "<div><style>\n",
       ".dataframe > thead > tr,\n",
       ".dataframe > tbody > tr {\n",
       "  text-align: right;\n",
       "  white-space: pre-wrap;\n",
       "}\n",
       "</style>\n",
       "<small>shape: (14_148, 6)</small><table border=\"1\" class=\"dataframe\"><thead><tr><th>rating_account_id</th><th>available_gb</th><th>last_1_month_usage_gb</th><th>last_2_month_usage_gb</th><th>last_3_month_usage_gb</th><th>last_4_month_usage_gb</th></tr><tr><td>str</td><td>i64</td><td>f64</td><td>f64</td><td>f64</td><td>f64</td></tr></thead><tbody><tr><td>&quot;109774&quot;</td><td>null</td><td>0.6</td><td>0.1</td><td>0.1</td><td>0.6</td></tr><tr><td>&quot;781755&quot;</td><td>null</td><td>0.6</td><td>0.8</td><td>0.3</td><td>0</td></tr><tr><td>&quot;827238&quot;</td><td>null</td><td>0</td><td>0.7</td><td>0.9</td><td>0.1</td></tr><tr><td>&quot;330581&quot;</td><td>null</td><td>0</td><td>0.2</td><td>0.2</td><td>0.9</td></tr><tr><td>&quot;416121&quot;</td><td>null</td><td>0.8</td><td>0.8</td><td>0.3</td><td>0.5</td></tr><tr><td>&hellip;</td><td>&hellip;</td><td>&hellip;</td><td>&hellip;</td><td>&hellip;</td><td>&hellip;</td></tr><tr><td>&quot;662172&quot;</td><td>null</td><td>54.7</td><td>62.5</td><td>24.7</td><td>37.4</td></tr><tr><td>&quot;556788&quot;</td><td>null</td><td>19.6</td><td>32.6</td><td>31</td><td>65.2</td></tr><tr><td>&quot;283647&quot;</td><td>null</td><td>51.3</td><td>18.1</td><td>53.3</td><td>39.2</td></tr><tr><td>&quot;581854&quot;</td><td>null</td><td>49.5</td><td>21.5</td><td>27.7</td><td>18.6</td></tr><tr><td>&quot;727874&quot;</td><td>null</td><td>39.7</td><td>20.8</td><td>16.7</td><td>55.4</td></tr></tbody></table></div>"
      ],
      "text/plain": [
       "shape: (14_148, 6)\n",
       "┌────────────────┬──────────────┬────────────────┬────────────────┬────────────────┬───────────────┐\n",
       "│ rating_account ┆ available_gb ┆ last_1_month_u ┆ last_2_month_u ┆ last_3_month_u ┆ last_4_month_ │\n",
       "│ _id            ┆ ---          ┆ sage_gb        ┆ sage_gb        ┆ sage_gb        ┆ usage_gb      │\n",
       "│ ---            ┆ i64          ┆ ---            ┆ ---            ┆ ---            ┆ ---           │\n",
       "│ str            ┆              ┆ f64            ┆ f64            ┆ f64            ┆ f64           │\n",
       "╞════════════════╪══════════════╪════════════════╪════════════════╪════════════════╪═══════════════╡\n",
       "│ 109774         ┆ null         ┆ 0.6            ┆ 0.1            ┆ 0.1            ┆ 0.6           │\n",
       "│ 781755         ┆ null         ┆ 0.6            ┆ 0.8            ┆ 0.3            ┆ 0             │\n",
       "│ 827238         ┆ null         ┆ 0              ┆ 0.7            ┆ 0.9            ┆ 0.1           │\n",
       "│ 330581         ┆ null         ┆ 0              ┆ 0.2            ┆ 0.2            ┆ 0.9           │\n",
       "│ 416121         ┆ null         ┆ 0.8            ┆ 0.8            ┆ 0.3            ┆ 0.5           │\n",
       "│ …              ┆ …            ┆ …              ┆ …              ┆ …              ┆ …             │\n",
       "│ 662172         ┆ null         ┆ 54.7           ┆ 62.5           ┆ 24.7           ┆ 37.4          │\n",
       "│ 556788         ┆ null         ┆ 19.6           ┆ 32.6           ┆ 31             ┆ 65.2          │\n",
       "│ 283647         ┆ null         ┆ 51.3           ┆ 18.1           ┆ 53.3           ┆ 39.2          │\n",
       "│ 581854         ┆ null         ┆ 49.5           ┆ 21.5           ┆ 27.7           ┆ 18.6          │\n",
       "│ 727874         ┆ null         ┆ 39.7           ┆ 20.8           ┆ 16.7           ┆ 55.4          │\n",
       "└────────────────┴──────────────┴────────────────┴────────────────┴────────────────┴───────────────┘"
      ]
     },
     "execution_count": 24,
     "metadata": {},
     "output_type": "execute_result"
    }
   ],
   "source": [
    "features.filter(pl.col('available_gb').is_null()).select('rating_account_id', 'available_gb', 'last_1_month_usage_gb', 'last_2_month_usage_gb', 'last_3_month_usage_gb', 'last_4_month_usage_gb')"
   ]
  },
  {
   "cell_type": "code",
   "execution_count": 25,
   "id": "3c4fad8d",
   "metadata": {},
   "outputs": [
    {
     "name": "stdout",
     "output_type": "stream",
     "text": [
      "CPU times: user 2.89 ms, sys: 1.63 ms, total: 4.52 ms\n",
      "Wall time: 3.78 ms\n"
     ]
    }
   ],
   "source": [
    "%%time\n",
    "\n",
    "available_gb_values = features['available_gb'].to_numpy().reshape(-1, 1)\n",
    "\n",
    "imputer = SimpleImputer(strategy='mean')\n",
    "imputed_available_gb = imputer.fit_transform(available_gb_values).flatten()"
   ]
  },
  {
   "cell_type": "code",
   "execution_count": 26,
   "id": "c5914edb",
   "metadata": {},
   "outputs": [],
   "source": [
    "features = features.with_columns(\n",
    "    pl.Series('available_gb', imputed_available_gb)\n",
    ")"
   ]
  },
  {
   "cell_type": "code",
   "execution_count": 27,
   "id": "caf49508",
   "metadata": {},
   "outputs": [
    {
     "data": {
      "text/html": [
       "<div><style>\n",
       ".dataframe > thead > tr,\n",
       ".dataframe > tbody > tr {\n",
       "  text-align: right;\n",
       "  white-space: pre-wrap;\n",
       "}\n",
       "</style>\n",
       "<small>shape: (0, 0)</small><table border=\"1\" class=\"dataframe\"><thead><tr></tr><tr></tr></thead><tbody></tbody></table></div>"
      ],
      "text/plain": [
       "shape: (0, 0)\n",
       "┌┐\n",
       "╞╡\n",
       "└┘"
      ]
     },
     "execution_count": 27,
     "metadata": {},
     "output_type": "execute_result"
    }
   ],
   "source": [
    "# Checking if there are other columns to fill\n",
    "\n",
    "null_counts_features = features.select([\n",
    "    pl.col(col).is_null().sum().alias(f'{col}_nulls') for col in features.columns\n",
    "])\n",
    "\n",
    "null_counts_features.select([\n",
    "    col for col in null_counts_features.columns if null_counts_features[0, col] != 0\n",
    "])"
   ]
  },
  {
   "cell_type": "markdown",
   "id": "5245db83",
   "metadata": {},
   "source": [
    "### Computing additional features\n",
    "\n",
    "Computing features based on `available_gb`, since there are no missing values"
   ]
  },
  {
   "cell_type": "code",
   "execution_count": 28,
   "id": "e5edfb95",
   "metadata": {},
   "outputs": [
    {
     "name": "stdout",
     "output_type": "stream",
     "text": [
      "CPU times: user 34.9 ms, sys: 20.5 ms, total: 55.3 ms\n",
      "Wall time: 18.9 ms\n"
     ]
    }
   ],
   "source": [
    "%%time\n",
    "\n",
    "# Compute how many times the contract required more than available data, baed on definde threshold of the current plan.\n",
    "\n",
    "# Compute 20%, 50%, and 80% for available_gb per rating_account_id\n",
    "thresholds_available_gb = features.group_by('rating_account_id').agg([\n",
    "    (pl.col('available_gb') / 100 * 25).get(0).round(2).alias('p25'),\n",
    "    (pl.col('available_gb') / 100 * 50).get(0).round(2).alias('p50'),\n",
    "    (pl.col('available_gb') / 100 * 70).get(0).round(2).alias('p75'),\n",
    "])\n",
    "\n",
    "# Compute, for each month, in which range the usage falls\n",
    "percentile_exprs = []\n",
    "for i in range(1, 5):\n",
    "    percentile_expr = (\n",
    "        pl.when(pl.col(f'last_{i}_month_usage_gb').is_between(-1, pl.col('p25'), closed='right'))  # -1 otherwise 0 is not counted\n",
    "        .then(pl.lit('P1'))\n",
    "        .when(pl.col(f'last_{i}_month_usage_gb').is_between(pl.col('p25'), pl.col('p50'), closed='right'))\n",
    "        .then(pl.lit('P2'))\n",
    "        .when(pl.col(f'last_{i}_month_usage_gb').is_between(pl.col('p50'), pl.col('p75'), closed='right'))\n",
    "        .then(pl.lit('P3'))\n",
    "        .when(pl.col(f'last_{i}_month_usage_gb').is_between(pl.col('p75'), pl.col('available_gb'), closed='right'))\n",
    "        .then(pl.lit('P4'))\n",
    "        .when(pl.col(f'last_{i}_month_usage_gb') > pl.col('available_gb'))\n",
    "        .then(pl.lit('P5'))  # how many times has exceeded the available data\n",
    "        .otherwise(pl.lit(None))\n",
    "        .alias(f'month_{i}_threshold')\n",
    "    )\n",
    "    percentile_exprs.append(percentile_expr)\n",
    "\n",
    "# Compute how many times, in the past 4 months, the usage felt in specific ranges\n",
    "count_exprs = []\n",
    "for p in range(1, 6):\n",
    "    count_expr = sum(\n",
    "        (pl.col(f'month_{i}_threshold') == f'P{p}').cast(pl.Int32)\n",
    "        for i in range(1, 5)\n",
    "    ).alias(f'times_in_p{p}')\n",
    "    count_exprs.append(count_expr)\n",
    "\n",
    "# Final computation\n",
    "features = (\n",
    "    features\n",
    "    .join(\n",
    "        thresholds_available_gb,\n",
    "        on='rating_account_id',\n",
    "        how='left')\n",
    "    .with_columns(percentile_exprs)\n",
    "    .with_columns(count_exprs)\n",
    ").drop(['p25', 'p50', 'p75', 'month_1_threshold', 'month_2_threshold', 'month_3_threshold', 'month_4_threshold'])"
   ]
  },
  {
   "cell_type": "code",
   "execution_count": 29,
   "id": "75be9a31",
   "metadata": {},
   "outputs": [
    {
     "name": "stdout",
     "output_type": "stream",
     "text": [
      "Number of invalid rows: 0\n"
     ]
    }
   ],
   "source": [
    "# Check that the sum of times_in_p1 to times_in_p5 is always 4 (number of billing months) for each row\n",
    "check_sum = features.select(\n",
    "    (pl.col('times_in_p1') + pl.col('times_in_p2') + pl.col('times_in_p3') + pl.col('times_in_p4') + pl.col('times_in_p5')).alias('sum_p')\n",
    ")\n",
    "\n",
    "# Count how many rows do not have sum == 4\n",
    "invalid_rows = check_sum.filter(pl.col('sum_p') != 4).height\n",
    "print(f\"Number of invalid rows: {invalid_rows}\")"
   ]
  },
  {
   "cell_type": "markdown",
   "id": "e940d562",
   "metadata": {},
   "source": [
    "---"
   ]
  },
  {
   "cell_type": "markdown",
   "id": "e97e0b0c",
   "metadata": {},
   "source": [
    "## `final features dataframe`"
   ]
  },
  {
   "cell_type": "code",
   "execution_count": 30,
   "id": "c1ba55f3",
   "metadata": {},
   "outputs": [
    {
     "data": {
      "text/plain": [
       "(100000, 83)"
      ]
     },
     "execution_count": 30,
     "metadata": {},
     "output_type": "execute_result"
    }
   ],
   "source": [
    "features.shape"
   ]
  },
  {
   "cell_type": "code",
   "execution_count": 31,
   "id": "6886d4fa",
   "metadata": {},
   "outputs": [
    {
     "data": {
      "text/html": [
       "<div><style>\n",
       ".dataframe > thead > tr,\n",
       ".dataframe > tbody > tr {\n",
       "  text-align: right;\n",
       "  white-space: pre-wrap;\n",
       "}\n",
       "</style>\n",
       "<small>shape: (5, 83)</small><table border=\"1\" class=\"dataframe\"><thead><tr><th>rating_account_id</th><th>customer_id</th><th>age</th><th>contract_lifetime_days</th><th>remaining_binding_days</th><th>has_special_offer</th><th>is_magenta1_customer</th><th>available_gb</th><th>gross_mrc</th><th>has_done_upselling</th><th>contract_binding_days</th><th>completion_rate</th><th>is_bounded</th><th>is_huawei</th><th>is_oneplus</th><th>is_samsung</th><th>is_xiaomi</th><th>is_iphone</th><th>n_contracts_per_customer</th><th>avg_monthly_usage_gb</th><th>median_monthly_usage_gb</th><th>total_usage_gb</th><th>usage_std_gb</th><th>min_monthly_usage_gb</th><th>max_monthly_usage_gb</th><th>usage_q25_gb</th><th>usage_q75_gb</th><th>months_with_roaming</th><th>ever_used_roaming</th><th>always_used_roaming</th><th>zero_usage_months</th><th>active_usage_months</th><th>avg_delta_1mo</th><th>delta_1mo_volatility</th><th>max_delta_1mo_increase</th><th>max_delta_1mo_decrease</th><th>months_with_delta_1mo_increase</th><th>&hellip;</th><th>avg_delta_3mo</th><th>max_delta_3mo_increase</th><th>max_delta_3mo_decrease</th><th>months_with_delta_3mo_increase</th><th>months_with_delta_3mo_decrease</th><th>months_with_no_delta_3mo_change</th><th>last_1_2mo_rolling_avg</th><th>last_2_2mo_rolling_avg</th><th>last_3_2mo_rolling_avg</th><th>last_1_3mo_rolling_avg</th><th>last_2_3mo_rolling_avg</th><th>last_1_delta_1mo</th><th>last_2_delta_1mo</th><th>last_3_delta_1mo</th><th>last_1_delta_2mo</th><th>last_2_delta_2mo</th><th>last_1_delta_3mo</th><th>last_1_2mo_rolling_stdev</th><th>last_2_2mo_rolling_stdev</th><th>last_3_2mo_rolling_stdev</th><th>last_1_month_usage_gb</th><th>last_2_month_usage_gb</th><th>last_3_month_usage_gb</th><th>last_4_month_usage_gb</th><th>n_rechnungsanfragen</th><th>n_produkte&amp;services-tarifdetails</th><th>n_prolongation</th><th>n_produkte&amp;services-tarifwechsel</th><th>days_since_last_rechnungsanfragen</th><th>days_since_last_produkte&amp;services-tarifdetails</th><th>days_since_last_prolongation</th><th>days_since_last_produkte&amp;services-tarifwechsel</th><th>times_in_p1</th><th>times_in_p2</th><th>times_in_p3</th><th>times_in_p4</th><th>times_in_p5</th></tr><tr><td>str</td><td>str</td><td>i64</td><td>i64</td><td>i64</td><td>bool</td><td>bool</td><td>f64</td><td>f64</td><td>bool</td><td>i64</td><td>f64</td><td>bool</td><td>bool</td><td>bool</td><td>bool</td><td>bool</td><td>bool</td><td>u32</td><td>f64</td><td>f64</td><td>f64</td><td>f64</td><td>f64</td><td>f64</td><td>f64</td><td>f64</td><td>u32</td><td>bool</td><td>bool</td><td>u32</td><td>u32</td><td>f64</td><td>f64</td><td>f64</td><td>f64</td><td>u32</td><td>&hellip;</td><td>f64</td><td>f64</td><td>f64</td><td>u32</td><td>u32</td><td>u32</td><td>f64</td><td>f64</td><td>f64</td><td>f64</td><td>f64</td><td>f64</td><td>f64</td><td>f64</td><td>f64</td><td>f64</td><td>f64</td><td>f64</td><td>f64</td><td>f64</td><td>f64</td><td>f64</td><td>f64</td><td>f64</td><td>i64</td><td>i64</td><td>i64</td><td>i64</td><td>i64</td><td>i64</td><td>i64</td><td>i64</td><td>i32</td><td>i32</td><td>i32</td><td>i32</td><td>i32</td></tr></thead><tbody><tr><td>&quot;289094&quot;</td><td>&quot;4.161115&quot;</td><td>36</td><td>878</td><td>325</td><td>false</td><td>false</td><td>20</td><td>70</td><td>false</td><td>1203</td><td>0.73</td><td>true</td><td>false</td><td>false</td><td>false</td><td>false</td><td>true</td><td>1</td><td>0.28</td><td>0.15</td><td>1.1</td><td>0.36</td><td>0</td><td>0.8</td><td>0.1</td><td>0.2</td><td>1</td><td>true</td><td>false</td><td>1</td><td>3</td><td>-0.27</td><td>0.29</td><td>-0.1</td><td>-0.6</td><td>0</td><td>&hellip;</td><td>-0.8</td><td>-0.8</td><td>-0.8</td><td>0</td><td>1</td><td>0</td><td>0.05</td><td>0.15</td><td>0.5</td><td>0.1</td><td>0.37</td><td>-0.1</td><td>-0.1</td><td>-0.6</td><td>-0.2</td><td>-0.7</td><td>-0.8</td><td>0.07</td><td>0.07</td><td>0.42</td><td>0.8</td><td>0.2</td><td>0.1</td><td>0</td><td>0</td><td>0</td><td>0</td><td>0</td><td>-1</td><td>-1</td><td>-1</td><td>-1</td><td>4</td><td>0</td><td>0</td><td>0</td><td>0</td></tr><tr><td>&quot;677626&quot;</td><td>&quot;2.429976&quot;</td><td>34</td><td>998</td><td>614</td><td>false</td><td>false</td><td>0</td><td>5</td><td>false</td><td>1612</td><td>0.62</td><td>true</td><td>false</td><td>false</td><td>true</td><td>false</td><td>false</td><td>1</td><td>0.65</td><td>0.65</td><td>2.6</td><td>0.31</td><td>0.3</td><td>1</td><td>0.5</td><td>0.8</td><td>1</td><td>true</td><td>false</td><td>0</td><td>4</td><td>0.07</td><td>0.55</td><td>0.7</td><td>-0.3</td><td>1</td><td>&hellip;</td><td>0.2</td><td>0.2</td><td>0.2</td><td>1</td><td>0</td><td>0</td><td>0.65</td><td>0.4</td><td>0.65</td><td>0.6</td><td>0.53</td><td>0.7</td><td>-0.2</td><td>-0.3</td><td>0.5</td><td>-0.5</td><td>0.2</td><td>0.49</td><td>0.14</td><td>0.21</td><td>0.8</td><td>0.5</td><td>0.3</td><td>1</td><td>0</td><td>0</td><td>1</td><td>1</td><td>-1</td><td>-1</td><td>87</td><td>118</td><td>0</td><td>0</td><td>0</td><td>0</td><td>4</td></tr><tr><td>&quot;769928&quot;</td><td>&quot;3.875044&quot;</td><td>36</td><td>37</td><td>-26</td><td>false</td><td>true</td><td>50</td><td>16.94</td><td>false</td><td>11</td><td>3.36</td><td>false</td><td>false</td><td>false</td><td>true</td><td>false</td><td>false</td><td>2</td><td>0.6</td><td>0.55</td><td>2.4</td><td>0.32</td><td>0.3</td><td>1</td><td>0.4</td><td>0.7</td><td>0</td><td>false</td><td>false</td><td>0</td><td>4</td><td>-0.2</td><td>0.56</td><td>0.4</td><td>-0.7</td><td>1</td><td>&hellip;</td><td>-0.6</td><td>-0.6</td><td>-0.6</td><td>0</td><td>1</td><td>0</td><td>0.55</td><td>0.5</td><td>0.65</td><td>0.47</td><td>0.67</td><td>-0.3</td><td>0.4</td><td>-0.7</td><td>0.1</td><td>-0.3</td><td>-0.6</td><td>0.21</td><td>0.28</td><td>0.49</td><td>1</td><td>0.3</td><td>0.7</td><td>0.4</td><td>0</td><td>0</td><td>0</td><td>0</td><td>-1</td><td>-1</td><td>-1</td><td>-1</td><td>4</td><td>0</td><td>0</td><td>0</td><td>0</td></tr><tr><td>&quot;873260&quot;</td><td>&quot;4.649933&quot;</td><td>50</td><td>503</td><td>-149</td><td>false</td><td>true</td><td>20</td><td>30.2</td><td>true</td><td>354</td><td>1.42</td><td>false</td><td>false</td><td>false</td><td>false</td><td>false</td><td>true</td><td>1</td><td>0.38</td><td>0.25</td><td>1.5</td><td>0.36</td><td>0.1</td><td>0.9</td><td>0.2</td><td>0.3</td><td>0</td><td>false</td><td>false</td><td>0</td><td>4</td><td>0.03</td><td>0.67</td><td>0.6</td><td>-0.7</td><td>2</td><td>&hellip;</td><td>0.1</td><td>0.1</td><td>0.1</td><td>1</td><td>0</td><td>0</td><td>0.55</td><td>0.6</td><td>0.2</td><td>0.47</td><td>0.43</td><td>-0.7</td><td>0.6</td><td>0.2</td><td>-0.1</td><td>0.8</td><td>0.1</td><td>0.49</td><td>0.42</td><td>0.14</td><td>0.1</td><td>0.3</td><td>0.9</td><td>0.2</td><td>0</td><td>0</td><td>0</td><td>0</td><td>-1</td><td>-1</td><td>-1</td><td>-1</td><td>4</td><td>0</td><td>0</td><td>0</td><td>0</td></tr><tr><td>&quot;109774&quot;</td><td>&quot;3.851059&quot;</td><td>47</td><td>331</td><td>-328</td><td>true</td><td>true</td><td>24.9989516842939</td><td>46.12</td><td>false</td><td>3</td><td>110.33</td><td>false</td><td>false</td><td>false</td><td>true</td><td>false</td><td>false</td><td>3</td><td>0.35</td><td>0.35</td><td>1.4</td><td>0.29</td><td>0.1</td><td>0.6</td><td>0.1</td><td>0.6</td><td>1</td><td>true</td><td>false</td><td>0</td><td>4</td><td>0</td><td>0.5</td><td>0.5</td><td>-0.5</td><td>1</td><td>&hellip;</td><td>0</td><td>0</td><td>0</td><td>0</td><td>0</td><td>1</td><td>0.35</td><td>0.1</td><td>0.35</td><td>0.27</td><td>0.27</td><td>0.5</td><td>0</td><td>-0.5</td><td>0.5</td><td>-0.5</td><td>0</td><td>0.35</td><td>0</td><td>0.35</td><td>0.6</td><td>0.1</td><td>0.1</td><td>0.6</td><td>0</td><td>0</td><td>0</td><td>0</td><td>-1</td><td>-1</td><td>-1</td><td>-1</td><td>4</td><td>0</td><td>0</td><td>0</td><td>0</td></tr></tbody></table></div>"
      ],
      "text/plain": [
       "shape: (5, 83)\n",
       "┌────────────┬────────────┬─────┬────────────┬───┬────────────┬────────────┬───────────┬───────────┐\n",
       "│ rating_acc ┆ customer_i ┆ age ┆ contract_l ┆ … ┆ times_in_p ┆ times_in_p ┆ times_in_ ┆ times_in_ │\n",
       "│ ount_id    ┆ d          ┆ --- ┆ ifetime_da ┆   ┆ 2          ┆ 3          ┆ p4        ┆ p5        │\n",
       "│ ---        ┆ ---        ┆ i64 ┆ ys         ┆   ┆ ---        ┆ ---        ┆ ---       ┆ ---       │\n",
       "│ str        ┆ str        ┆     ┆ ---        ┆   ┆ i32        ┆ i32        ┆ i32       ┆ i32       │\n",
       "│            ┆            ┆     ┆ i64        ┆   ┆            ┆            ┆           ┆           │\n",
       "╞════════════╪════════════╪═════╪════════════╪═══╪════════════╪════════════╪═══════════╪═══════════╡\n",
       "│ 289094     ┆ 4.161115   ┆ 36  ┆ 878        ┆ … ┆ 0          ┆ 0          ┆ 0         ┆ 0         │\n",
       "│ 677626     ┆ 2.429976   ┆ 34  ┆ 998        ┆ … ┆ 0          ┆ 0          ┆ 0         ┆ 4         │\n",
       "│ 769928     ┆ 3.875044   ┆ 36  ┆ 37         ┆ … ┆ 0          ┆ 0          ┆ 0         ┆ 0         │\n",
       "│ 873260     ┆ 4.649933   ┆ 50  ┆ 503        ┆ … ┆ 0          ┆ 0          ┆ 0         ┆ 0         │\n",
       "│ 109774     ┆ 3.851059   ┆ 47  ┆ 331        ┆ … ┆ 0          ┆ 0          ┆ 0         ┆ 0         │\n",
       "└────────────┴────────────┴─────┴────────────┴───┴────────────┴────────────┴───────────┴───────────┘"
      ]
     },
     "execution_count": 31,
     "metadata": {},
     "output_type": "execute_result"
    }
   ],
   "source": [
    "features.head()"
   ]
  },
  {
   "cell_type": "markdown",
   "id": "2d8ec0a1",
   "metadata": {},
   "source": [
    "# Features cleaning"
   ]
  },
  {
   "cell_type": "markdown",
   "id": "b3ab811a",
   "metadata": {},
   "source": [
    "## Correlation analysis"
   ]
  },
  {
   "cell_type": "code",
   "execution_count": 32,
   "id": "414e7157",
   "metadata": {},
   "outputs": [],
   "source": [
    "numeric_and_booleans_features = features.select(cs.numeric() | cs.boolean())"
   ]
  },
  {
   "cell_type": "code",
   "execution_count": 33,
   "id": "14c92494",
   "metadata": {},
   "outputs": [
    {
     "data": {
      "text/plain": [
       "True"
      ]
     },
     "execution_count": 33,
     "metadata": {},
     "output_type": "execute_result"
    }
   ],
   "source": [
    "'has_done_upselling' in numeric_and_booleans_features.columns"
   ]
  },
  {
   "cell_type": "code",
   "execution_count": 34,
   "id": "832f11de",
   "metadata": {},
   "outputs": [
    {
     "name": "stdout",
     "output_type": "stream",
     "text": [
      "CPU times: user 27.5 ms, sys: 54.4 ms, total: 81.9 ms\n",
      "Wall time: 54.5 ms\n"
     ]
    }
   ],
   "source": [
    "%%time\n",
    "\n",
    "correlation_matrix = numeric_and_booleans_features.corr()"
   ]
  },
  {
   "cell_type": "code",
   "execution_count": 35,
   "id": "b181f29b",
   "metadata": {},
   "outputs": [
    {
     "data": {
      "text/html": [
       "<div><style>\n",
       ".dataframe > thead > tr,\n",
       ".dataframe > tbody > tr {\n",
       "  text-align: right;\n",
       "  white-space: pre-wrap;\n",
       "}\n",
       "</style>\n",
       "<small>shape: (81, 81)</small><table border=\"1\" class=\"dataframe\"><thead><tr><th>age</th><th>contract_lifetime_days</th><th>remaining_binding_days</th><th>has_special_offer</th><th>is_magenta1_customer</th><th>available_gb</th><th>gross_mrc</th><th>has_done_upselling</th><th>contract_binding_days</th><th>completion_rate</th><th>is_bounded</th><th>is_huawei</th><th>is_oneplus</th><th>is_samsung</th><th>is_xiaomi</th><th>is_iphone</th><th>n_contracts_per_customer</th><th>avg_monthly_usage_gb</th><th>median_monthly_usage_gb</th><th>total_usage_gb</th><th>usage_std_gb</th><th>min_monthly_usage_gb</th><th>max_monthly_usage_gb</th><th>usage_q25_gb</th><th>usage_q75_gb</th><th>months_with_roaming</th><th>ever_used_roaming</th><th>always_used_roaming</th><th>zero_usage_months</th><th>active_usage_months</th><th>avg_delta_1mo</th><th>delta_1mo_volatility</th><th>max_delta_1mo_increase</th><th>max_delta_1mo_decrease</th><th>months_with_delta_1mo_increase</th><th>months_with_delta_1mo_decrease</th><th>months_with_no_delta_1mo_change</th><th>&hellip;</th><th>avg_delta_3mo</th><th>max_delta_3mo_increase</th><th>max_delta_3mo_decrease</th><th>months_with_delta_3mo_increase</th><th>months_with_delta_3mo_decrease</th><th>months_with_no_delta_3mo_change</th><th>last_1_2mo_rolling_avg</th><th>last_2_2mo_rolling_avg</th><th>last_3_2mo_rolling_avg</th><th>last_1_3mo_rolling_avg</th><th>last_2_3mo_rolling_avg</th><th>last_1_delta_1mo</th><th>last_2_delta_1mo</th><th>last_3_delta_1mo</th><th>last_1_delta_2mo</th><th>last_2_delta_2mo</th><th>last_1_delta_3mo</th><th>last_1_2mo_rolling_stdev</th><th>last_2_2mo_rolling_stdev</th><th>last_3_2mo_rolling_stdev</th><th>last_1_month_usage_gb</th><th>last_2_month_usage_gb</th><th>last_3_month_usage_gb</th><th>last_4_month_usage_gb</th><th>n_rechnungsanfragen</th><th>n_produkte&amp;services-tarifdetails</th><th>n_prolongation</th><th>n_produkte&amp;services-tarifwechsel</th><th>days_since_last_rechnungsanfragen</th><th>days_since_last_produkte&amp;services-tarifdetails</th><th>days_since_last_prolongation</th><th>days_since_last_produkte&amp;services-tarifwechsel</th><th>times_in_p1</th><th>times_in_p2</th><th>times_in_p3</th><th>times_in_p4</th><th>times_in_p5</th></tr><tr><td>f64</td><td>f64</td><td>f64</td><td>f64</td><td>f64</td><td>f64</td><td>f64</td><td>f64</td><td>f64</td><td>f64</td><td>f64</td><td>f64</td><td>f64</td><td>f64</td><td>f64</td><td>f64</td><td>f64</td><td>f64</td><td>f64</td><td>f64</td><td>f64</td><td>f64</td><td>f64</td><td>f64</td><td>f64</td><td>f64</td><td>f64</td><td>f64</td><td>f64</td><td>f64</td><td>f64</td><td>f64</td><td>f64</td><td>f64</td><td>f64</td><td>f64</td><td>f64</td><td>&hellip;</td><td>f64</td><td>f64</td><td>f64</td><td>f64</td><td>f64</td><td>f64</td><td>f64</td><td>f64</td><td>f64</td><td>f64</td><td>f64</td><td>f64</td><td>f64</td><td>f64</td><td>f64</td><td>f64</td><td>f64</td><td>f64</td><td>f64</td><td>f64</td><td>f64</td><td>f64</td><td>f64</td><td>f64</td><td>f64</td><td>f64</td><td>f64</td><td>f64</td><td>f64</td><td>f64</td><td>f64</td><td>f64</td><td>f64</td><td>f64</td><td>f64</td><td>f64</td><td>f64</td></tr></thead><tbody><tr><td>0.9999999999999999</td><td>-0.06295258790534654</td><td>0.007917425991875473</td><td>-0.004591802863005674</td><td>-0.000570452210647228</td><td>-0.0012253075175914954</td><td>-0.0014248647679731138</td><td>-0.04153326724228018</td><td>-0.046891894624137745</td><td>0.0035360243153289943</td><td>0.003974704146399675</td><td>-0.002902167339478592</td><td>0.0019611469676663455</td><td>0.0009508412788796635</td><td>0.0017371282874025114</td><td>0.0002704501086987172</td><td>-0.0033925108458090444</td><td>-0.07313075894941892</td><td>-0.07117159510218991</td><td>-0.07313072441998787</td><td>-0.07526670691780497</td><td>-0.06588505936769569</td><td>-0.07627248976389654</td><td>-0.06852675138912757</td><td>-0.07211471686541757</td><td>0.002421321337000976</td><td>0.0028884406207485515</td><td>0.002764312854141388</td><td>0.01018740634351683</td><td>-0.010187406343516843</td><td>0.0007023898149709595</td><td>-0.06986944684724943</td><td>-0.06434228889805589</td><td>0.06525763675673027</td><td>-0.002710957959640463</td><td>-0.003923417078655525</td><td>0.013449505856100885</td><td>&hellip;</td><td>0.0007018860866903407</td><td>0.0007018860866903407</td><td>0.0007018860866903407</td><td>-0.00279647316290522</td><td>-0.0001612291690173121</td><td>0.008278462206984286</td><td>-0.07023640985753905</td><td>-0.07118943304127509</td><td>-0.07216078833847925</td><td>-0.07239798432566148</td><td>-0.0725167554493371</td><td>-0.0022278083988556117</td><td>0.004810231937738107</td><td>-0.0018765816242891976</td><td>0.0025777466018753643</td><td>0.0029294087217661253</td><td>0.0007018860866903407</td><td>-0.058185068417960825</td><td>-0.06188408762322855</td><td>-0.05992545507252265</td><td>-0.06797684008539366</td><td>-0.06941992923036576</td><td>-0.06614590372886123</td><td>-0.06763631390301164</td><td>-0.0029619271116916672</td><td>-0.0036624528884943667</td><td>-0.0010602562815135994</td><td>0.002456956467397597</td><td>-0.0021735524770574617</td><td>-0.0017217017286032324</td><td>-0.004082781479781801</td><td>0.0007222265215138496</td><td>0.04729548025053901</td><td>0.01236204396638056</td><td>-0.009869349132019378</td><td>-0.026897493871128556</td><td>-0.04815135067381582</td></tr><tr><td>-0.06295258790534654</td><td>1</td><td>-0.000378391001072873</td><td>-0.002302567852481359</td><td>0.002191272514161899</td><td>-0.0024923207572409467</td><td>0.0030451716731356706</td><td>0.0043795501517610745</td><td>0.81715350460163</td><td>-0.07300261199878698</td><td>0.0026355061034911927</td><td>0.00028419739566269334</td><td>-0.004675920594288189</td><td>-0.002674383892171953</td><td>-0.005180140865737782</td><td>0.00549362737358115</td><td>0.0023650517704196113</td><td>0.7632866265204388</td><td>0.7508626128730529</td><td>0.7632872022690684</td><td>0.7272201981256766</td><td>0.7109202571111353</td><td>0.773235463186077</td><td>0.731859339386122</td><td>0.7537621693882461</td><td>-0.005097468591355158</td><td>-0.001969789293841624</td><td>-0.004880964016446409</td><td>-0.09475926466383608</td><td>0.09475926466383568</td><td>-0.0015123138415764302</td><td>0.6811245720092799</td><td>0.6307247798969278</td><td>-0.6291921881077684</td><td>0.032649381714104427</td><td>0.03404249035232128</td><td>-0.13522088707618493</td><td>&hellip;</td><td>-0.0015110509232823463</td><td>-0.0015110509232823463</td><td>-0.0015110509232823463</td><td>0.015538860151976279</td><td>0.013517621426203915</td><td>-0.08134120648697997</td><td>0.7434205175805317</td><td>0.7432780142548713</td><td>0.7427992699446556</td><td>0.7563778588356058</td><td>0.7563208014063175</td><td>-0.0039620653155460215</td><td>0.008440296747651644</td><td>-0.006002610013797876</td><td>0.004470249234288837</td><td>0.0024312511947035165</td><td>-0.0015110509232823463</td><td>0.5862943391397317</td><td>0.587859383432209</td><td>0.5894401962885601</td><td>0.7074652280240127</td><td>0.7068184459534229</td><td>0.708515899699905</td><td>0.7074916297772676</td><td>0.004214446606026722</td><td>0.0021811147714457923</td><td>0.002424094037176001</td><td>0.0038562618871115376</td><td>0.004366695774611266</td><td>0.0014775262795115643</td><td>-0.0016269760313556325</td><td>0.002949492743459896</td><td>-0.45995823470542785</td><td>-0.15633007601866283</td><td>0.0689412525542355</td><td>0.28351976205217794</td><td>0.4918916103943215</td></tr><tr><td>0.007917425991875473</td><td>-0.0003783910010728731</td><td>1</td><td>0.00283662162279771</td><td>-0.001727076244464288</td><td>0.0008559267718102365</td><td>0.0021796198528986886</td><td>-0.022705403240455765</td><td>0.5761108710174806</td><td>-0.15074952149015589</td><td>0.7966607385345018</td><td>0.00224021084383798</td><td>0.0017933132699779603</td><td>-0.0022144562948615398</td><td>-0.0001930799987491974</td><td>-0.00018573325638276183</td><td>0.003118438225211096</td><td>-0.003368056021030916</td><td>-0.003378621844462096</td><td>-0.0033670204985767533</td><td>-0.0022782913243612774</td><td>-0.0035119320813881854</td><td>-0.003135261219195255</td><td>-0.003881068847467617</td><td>-0.002925897534843186</td><td>-0.0033505124922028153</td><td>-0.002559247357206372</td><td>-0.0032729940735208313</td><td>-0.0010846215558287027</td><td>0.001084621555828698</td><td>0.004231075366245361</td><td>-0.0012913676246216748</td><td>-0.0005253656943313113</td><td>0.00124444822266277</td><td>0.0010398710334205044</td><td>-0.0009434670746599099</td><td>-0.00019916025160281116</td><td>&hellip;</td><td>0.004228160955008829</td><td>0.004228160955008829</td><td>0.004228160955008829</td><td>0.008375570520986973</td><td>-0.0067141906362208625</td><td>-0.004642390731301999</td><td>-0.0031345016415436563</td><td>-0.001615083942391334</td><td>-0.0034218387587696035</td><td>-0.002308263865614647</td><td>-0.0032358684666986552</td><td>-0.0013602383904919354</td><td>-0.003388871642487806</td><td>0.00900347689945319</td><td>-0.004733428090167086</td><td>0.005614739084775262</td><td>0.004228160955008829</td><td>-0.0037692239748396495</td><td>-0.001050758085637655</td><td>0.0012077114722155188</td><td>-0.006000834291976906</td><td>-0.0005025521403264938</td><td>-0.002567809623782947</td><td>-0.0034033625327004194</td><td>0.004289310345529879</td><td>-0.004545080383924224</td><td>-0.0005507299682038369</td><td>0.008401502292391555</td><td>0.00411487043439879</td><td>-0.004200652333155375</td><td>-0.001423916837225221</td><td>0.002532071796622155</td><td>0.0034989853085557075</td><td>0.0005367115434312151</td><td>-0.0018877810150013526</td><td>0.0014601049841854936</td><td>-0.004015182071796204</td></tr><tr><td>-0.004591802863005675</td><td>-0.002302567852481359</td><td>0.0028366216227977106</td><td>1</td><td>0.00044653260013578105</td><td>-0.0010260014136004802</td><td>0.003530696955822641</td><td>-0.0007153183529045534</td><td>-0.0002469677269840189</td><td>0.005304590702156605</td><td>0.0031468431797223263</td><td>-0.0018501656333436097</td><td>-0.0019855200479594413</td><td>0.004639694472271227</td><td>-0.0006994313105865521</td><td>-0.002148628346854387</td><td>-0.00739977837345587</td><td>-0.00036387406011781777</td><td>0.0003236738407220768</td><td>-0.0003643486087252134</td><td>-0.00013870475134969456</td><td>-0.0016886485359204765</td><td>-0.0007408673071812726</td><td>0.0005407046809743829</td><td>0.00014650502283508978</td><td>0.0026692221602342453</td><td>0.004323862588915077</td><td>-0.0033479916949770957</td><td>-0.00043438304413737387</td><td>0.0004343830441373694</td><td>0.001351562700263275</td><td>-0.000005663737023054304</td><td>0.00013351741162504746</td><td>-0.0002582157862526477</td><td>0.003004941634871091</td><td>-0.0015036729066845605</td><td>-0.003052345920330754</td><td>&hellip;</td><td>0.001349932506413348</td><td>0.001349932506413348</td><td>0.001349932506413348</td><td>0.0009211738308007091</td><td>-0.001097640478703321</td><td>0.0004951572325244248</td><td>-0.0007434587933056054</td><td>-0.0006425903034163682</td><td>0.00003486163028740664</td><td>-0.000310647923446531</td><td>-0.0006073192648943468</td><td>0.0034742949891955095</td><td>-0.003787841108221768</td><td>0.0016777168352904977</td><td>-0.0003171353616405198</td><td>-0.002106858528473486</td><td>0.001349932506413348</td><td>-0.0001492542358541921</td><td>-0.0007267262013228647</td><td>0.0007879608197672751</td><td>-0.00047936051186666203</td><td>0.0005479364355261377</td><td>-0.0017658823294664225</td><td>0.00035188335134827203</td><td>0.0018968546922942604</td><td>-0.004064966673514216</td><td>0.0006671059750849071</td><td>-0.0013340506894134276</td><td>0.002873786297482064</td><td>-0.005206987725898358</td><td>0.0008017037934854721</td><td>-0.0011162407077475994</td><td>0.005004791888093391</td><td>-0.0023282234309633825</td><td>-0.0005706454190165219</td><td>-0.005875019450550684</td><td>-0.002140377251416099</td></tr><tr><td>-0.0005704522106472281</td><td>0.0021912725141618994</td><td>-0.001727076244464288</td><td>0.000446532600135781</td><td>1</td><td>0.0035168351234423317</td><td>-0.0021994168695607065</td><td>0.034149530521502186</td><td>0.0007955623976277207</td><td>0.0008558560142030636</td><td>0.0005701964969026631</td><td>-0.0004967342566142408</td><td>-0.0026001613540921685</td><td>0.004291713228340905</td><td>-0.00033392055525746173</td><td>-0.002833838644160845</td><td>0.004800126165530714</td><td>0.0004998491989981693</td><td>0.00015949929910605016</td><td>0.000500947556480564</td><td>0.0027149049685117914</td><td>-0.00024960329153579685</td><td>0.0013383993034229867</td><td>-0.0006532016362665892</td><td>0.0008007297292978834</td><td>-0.0019588304706099576</td><td>-0.001945659756255781</td><td>0.0023120308307685035</td><td>0.0008860887027969941</td><td>-0.0008860887027970653</td><td>-0.0006902612895723765</td><td>0.00335921353267419</td><td>0.003963317145546036</td><td>-0.002631617811949843</td><td>-0.005140270866835341</td><td>0.0035799532097913114</td><td>0.003179914686298588</td><td>&hellip;</td><td>-0.0006910313027378003</td><td>-0.0006910313027378003</td><td>-0.0006910313027378003</td><td>-0.0020711702709546743</td><td>0.0028200550221587546</td><td>-0.0020992480963502847</td><td>0.0004149714165761175</td><td>-0.0002638984891702976</td><td>0.000560595971835459</td><td>0.0001651411895966272</td><td>0.00031691512375312295</td><td>0.0018720020621992353</td><td>0.0002461717794627952</td><td>-0.002810463135843386</td><td>0.0021095376520569174</td><td>-0.0025634997389915566</td><td>-0.0006910313027378003</td><td>0.0034654345737461906</td><td>0.003078397220572932</td><td>0.0005181311041372369</td><td>0.0013910333642018387</td><td>-0.0003273415275068238</td><td>-0.00017554152731129045</td><td>0.0009670697878181444</td><td>-0.001350850083372136</td><td>-0.0008705444982001594</td><td>0.0024878267534028005</td><td>0.0038602315018434323</td><td>0.0009160733249253232</td><td>-0.0036879796846019343</td><td>0.002072694952001781</td><td>0.002538730639622578</td><td>0.0020845329347505058</td><td>-0.0031370281050989582</td><td>-0.0012755023013305072</td><td>0.002378399061075557</td><td>-0.0007234401576974356</td></tr><tr><td>&hellip;</td><td>&hellip;</td><td>&hellip;</td><td>&hellip;</td><td>&hellip;</td><td>&hellip;</td><td>&hellip;</td><td>&hellip;</td><td>&hellip;</td><td>&hellip;</td><td>&hellip;</td><td>&hellip;</td><td>&hellip;</td><td>&hellip;</td><td>&hellip;</td><td>&hellip;</td><td>&hellip;</td><td>&hellip;</td><td>&hellip;</td><td>&hellip;</td><td>&hellip;</td><td>&hellip;</td><td>&hellip;</td><td>&hellip;</td><td>&hellip;</td><td>&hellip;</td><td>&hellip;</td><td>&hellip;</td><td>&hellip;</td><td>&hellip;</td><td>&hellip;</td><td>&hellip;</td><td>&hellip;</td><td>&hellip;</td><td>&hellip;</td><td>&hellip;</td><td>&hellip;</td><td>&hellip;</td><td>&hellip;</td><td>&hellip;</td><td>&hellip;</td><td>&hellip;</td><td>&hellip;</td><td>&hellip;</td><td>&hellip;</td><td>&hellip;</td><td>&hellip;</td><td>&hellip;</td><td>&hellip;</td><td>&hellip;</td><td>&hellip;</td><td>&hellip;</td><td>&hellip;</td><td>&hellip;</td><td>&hellip;</td><td>&hellip;</td><td>&hellip;</td><td>&hellip;</td><td>&hellip;</td><td>&hellip;</td><td>&hellip;</td><td>&hellip;</td><td>&hellip;</td><td>&hellip;</td><td>&hellip;</td><td>&hellip;</td><td>&hellip;</td><td>&hellip;</td><td>&hellip;</td><td>&hellip;</td><td>&hellip;</td><td>&hellip;</td><td>&hellip;</td><td>&hellip;</td><td>&hellip;</td></tr><tr><td>0.047295480250539014</td><td>-0.4599582347054279</td><td>0.003498985308555708</td><td>0.00500479188809339</td><td>0.0020845329347505058</td><td>0.41074311320965634</td><td>-0.0015786861049081466</td><td>-0.01611225629727956</td><td>-0.3739399203013364</td><td>0.035459140445478356</td><td>0.0031464814696557696</td><td>-0.007280092630399234</td><td>0.004721126924871832</td><td>0.003379246205920885</td><td>0.003865214673840889</td><td>-0.00006986134206189095</td><td>-0.0010109888745741093</td><td>-0.6532015094918177</td><td>-0.6434330219796277</td><td>-0.6532009821649973</td><td>-0.5876741807283106</td><td>-0.6290316043120352</td><td>-0.6506909666431732</td><td>-0.6324657577469324</td><td>-0.6417055651468832</td><td>-0.002339928911034705</td><td>-0.002786551247788963</td><td>-0.00023237922713744186</td><td>0.19577329571117694</td><td>-0.19577329571117694</td><td>0.0021193464701916576</td><td>-0.5511814953449027</td><td>-0.5098238848700553</td><td>0.5096504295526929</td><td>-0.04930234963309957</td><td>-0.05212650354847552</td><td>0.20565042600436303</td><td>&hellip;</td><td>0.0021196573915745177</td><td>0.0021196573915745177</td><td>0.0021196573915745177</td><td>-0.021970835872872917</td><td>-0.02260701316335844</td><td>0.1247941077532052</td><td>-0.6358571893415916</td><td>-0.6364195096921996</td><td>-0.6360110996388896</td><td>-0.6473137487204913</td><td>-0.6474466893113682</td><td>0.004221304921340401</td><td>-0.005920417786765333</td><td>0.0038387312512564637</td><td>-0.0016996110747849733</td><td>-0.0020770341939769323</td><td>0.0021196573915745177</td><td>-0.4749221577980604</td><td>-0.47554758721969975</td><td>-0.47615516812368636</td><td>-0.6053594590118944</td><td>-0.6056021261973304</td><td>-0.6062564611724778</td><td>-0.6048726041170314</td><td>0.00044736737231605597</td><td>-0.0010028211017341958</td><td>-0.0013228546515921295</td><td>-0.002016528673707046</td><td>0.0002502373139193412</td><td>-0.0038680425910153967</td><td>0.001178934978342407</td><td>-0.0014261710575648276</td><td>0.9999999999999999</td><td>-0.27003863757617325</td><td>-0.331974275508078</td><td>-0.35037080950102245</td><td>-0.7257952054068041</td></tr><tr><td>0.01236204396638056</td><td>-0.1563300760186628</td><td>0.0005367115434312151</td><td>-0.0023282234309633825</td><td>-0.0031370281050989582</td><td>0.10756719282353502</td><td>-0.0008442611540020387</td><td>-0.007837300879381276</td><td>-0.12747039563796564</td><td>0.01074090902428416</td><td>-0.00436545579924208</td><td>0.007211045832619525</td><td>-0.0007378019212895178</td><td>-0.002400816931445504</td><td>0.005234224875406014</td><td>-0.004964383510103827</td><td>-0.004161767624393396</td><td>-0.08181237536883991</td><td>-0.08141842955246964</td><td>-0.08181378725721433</td><td>-0.08892312664229374</td><td>-0.0670614995667678</td><td>-0.08580932019657628</td><td>-0.07831770470321618</td><td>-0.0825568240708893</td><td>0.004167809783582139</td><td>-0.0009295668277054467</td><td>0.002139927981488545</td><td>-0.10153684290979442</td><td>0.10153684290979442</td><td>-0.0030455101373349646</td><td>-0.08320157994258401</td><td>-0.07851366999893133</td><td>0.07535400040476069</td><td>0.023578692640120788</td><td>0.02199823050360579</td><td>-0.09241405697044042</td><td>&hellip;</td><td>-0.0030457801244474724</td><td>-0.0030457801244474724</td><td>-0.0030457801244474724</td><td>0.005358876693272951</td><td>0.014461123243094566</td><td>-0.05549039582309106</td><td>-0.08036444989873993</td><td>-0.07981113433535152</td><td>-0.07893620504338404</td><td>-0.08147382735201102</td><td>-0.08076256180971711</td><td>-0.00024640125486302797</td><td>-0.0019132215008516417</td><td>-0.0009102872620423625</td><td>-0.0021529744001753948</td><td>-0.0028212060860127192</td><td>-0.0030457801244474724</td><td>-0.07293266610317696</td><td>-0.07265557481199317</td><td>-0.07179805082976284</td><td>-0.07470839944552639</td><td>-0.07558751237826275</td><td>-0.07638566148416939</td><td>-0.07668647509758995</td><td>-0.004732616231234803</td><td>-0.0043673531194245</td><td>-0.0023263558988881566</td><td>-0.0009730109795919482</td><td>-0.006692711323621462</td><td>-0.005582105002282609</td><td>-0.00016098785851173595</td><td>-0.0008166769075911994</td><td>-0.27003863757617325</td><td>1</td><td>0.13511359308253995</td><td>-0.07662669191963369</td><td>-0.32386239243083964</td></tr><tr><td>-0.009869349132019378</td><td>0.06894125255423551</td><td>-0.0018877810150013526</td><td>-0.0005706454190165219</td><td>-0.0012755023013305072</td><td>0.034594821895855075</td><td>0.002295932513771814</td><td>0.00012890568655893182</td><td>0.05526246803540288</td><td>-0.0035533747733877104</td><td>-0.004294075449542992</td><td>0.0022519244635989823</td><td>0.00041258982955683885</td><td>-0.004002642892526174</td><td>-0.001915376251856022</td><td>0.0025271983150237497</td><td>0.0014722816962629767</td><td>0.12527121993123702</td><td>0.11767730563819331</td><td>0.125271361646168</td><td>0.14613057334841675</td><td>0.1099003591441631</td><td>0.13831725337910641</td><td>0.10824330100118279</td><td>0.12324590955920568</td><td>0.0061048409105693485</td><td>0.004619926962495058</td><td>0.0031525000296970464</td><td>-0.0733360312776686</td><td>0.0733360312776686</td><td>0.0017253479148058807</td><td>0.13860206988347704</td><td>0.12880495142977866</td><td>-0.12797482915194966</td><td>0.023172612709400024</td><td>0.016976907560337737</td><td>-0.08141812649817545</td><td>&hellip;</td><td>0.0017240803123286402</td><td>0.0017240803123286402</td><td>0.0017240803123286402</td><td>0.012356788959336042</td><td>0.0054245321253456645</td><td>-0.04977409676084924</td><td>0.12312696091847403</td><td>0.12218627936272483</td><td>0.12079032299069292</td><td>0.12442239007145964</td><td>0.12397942066825765</td><td>-0.002765041085094363</td><td>0.006359078032766285</td><td>-0.0018585208136332083</td><td>0.003587092627628026</td><td>0.004494718628979057</td><td>0.0017240803123286402</td><td>0.1170701201423162</td><td>0.1233349096538844</td><td>0.11446164560609781</td><td>0.11531401788344127</td><td>0.11466860255006307</td><td>0.11798849356263658</td><td>0.11653256054395876</td><td>0.0029864581039968094</td><td>0.0034695921455709386</td><td>-0.0028471738873987198</td><td>0.0000503437677622621</td><td>0.004024428496935386</td><td>0.00080512165272705</td><td>-0.00427177884925051</td><td>0.0017648342134535492</td><td>-0.33197427550807795</td><td>0.13511359308253992</td><td>1</td><td>0.18687638364941214</td><td>-0.08924055510122225</td></tr><tr><td>-0.026897493871128556</td><td>0.28351976205217794</td><td>0.0014601049841854933</td><td>-0.005875019450550684</td><td>0.0023783990610755567</td><td>0.08874231344518639</td><td>-0.0014950827643136725</td><td>-0.004972239842683682</td><td>0.23258264024821926</td><td>-0.0220574374591715</td><td>-0.00010245889453231445</td><td>-0.0008076087426728769</td><td>-0.004759380196814446</td><td>0.000742118462571893</td><td>-0.0038007559488619155</td><td>0.002653688672789939</td><td>0.00004274946163062313</td><td>0.3310746468163069</td><td>0.31600409883569264</td><td>0.33107461338526695</td><td>0.324408831255903</td><td>0.3163266900766678</td><td>0.3459461160313032</td><td>0.30695803445711256</td><td>0.3180549581705854</td><td>-0.0016422669788970952</td><td>0.00034891563647536014</td><td>0.0013803172049966447</td><td>-0.07441030308164268</td><td>0.07441030308164268</td><td>-0.010412616977344738</td><td>0.3049504934375339</td><td>0.27825954194405145</td><td>-0.2859461260682165</td><td>0.01947570551696185</td><td>0.02720064853223305</td><td>-0.09462592062673433</td><td>&hellip;</td><td>-0.010413655528002497</td><td>-0.010413655528002497</td><td>-0.010413655528002497</td><td>0.0036034431493937925</td><td>0.016523646323257136</td><td>-0.05635224792254933</td><td>0.3202618858279348</td><td>0.3234820968866977</td><td>0.32438831963441705</td><td>0.32737497316272746</td><td>0.3294930059353755</td><td>-0.008098305959651815</td><td>-0.00019721184168413684</td><td>-0.0022106727009925903</td><td>-0.008260700359072334</td><td>-0.0024068605622494413</td><td>-0.010413655528002497</td><td>0.2581752957377955</td><td>0.26843940541619027</td><td>0.26688122282290866</td><td>0.30883210635979624</td><td>0.30880111299094937</td><td>0.30717248101321687</td><td>0.30283273286247475</td><td>-0.0021037359551696585</td><td>0.00008754415074318521</td><td>-0.0010313698059023465</td><td>0.001204290285092542</td><td>0.0019055219036404258</td><td>0.002108052317379778</td><td>-0.002473512312720446</td><td>-0.0023514797594838613</td><td>-0.35037080950102245</td><td>-0.07662669191963369</td><td>0.18687638364941211</td><td>1</td><td>0.06890945004794564</td></tr><tr><td>-0.04815135067381582</td><td>0.4918916103943215</td><td>-0.004015182071796204</td><td>-0.0021403772514160986</td><td>-0.0007234401576974356</td><td>-0.5541045849768068</td><td>0.001970398495817459</td><td>0.02389323675469545</td><td>0.3997438089987557</td><td>-0.037629196566441675</td><td>0.0005547601197441275</td><td>0.003200818819326319</td><td>-0.0034340749968425027</td><td>-0.0012306791337744606</td><td>-0.005638077536025533</td><td>0.0014575035742021077</td><td>0.0031350781152920813</td><td>0.627303355141718</td><td>0.623299121516721</td><td>0.6273035895961357</td><td>0.5549604999495201</td><td>0.601196075027875</td><td>0.6183099673633816</td><td>0.6151045924555617</td><td>0.6197010540863719</td><td>-0.0013663296071669228</td><td>0.002055329351552439</td><td>-0.002446894819468637</td><td>-0.10842495529038851</td><td>0.10842495529038848</td><td>0.0021129794535430825</td><td>0.5196820687307593</td><td>0.48258744627971717</td><td>-0.4784286032720375</td><td>0.026791238249627442</td><td>0.030463543756896874</td><td>-0.11608213507913502</td><td>&hellip;</td><td>0.002113515850386488</td><td>0.002113515850386488</td><td>0.002113515850386488</td><td>0.015931682040504776</td><td>0.009433063397353322</td><td>-0.07100380915895022</td><td>0.6113214864922284</td><td>0.6109280372853695</td><td>0.6101197183550876</td><td>0.6220171573073173</td><td>0.6212334836811638</td><td>-0.0011623606007079101</td><td>0.0057076643641147526</td><td>-0.00241478101501414</td><td>0.004533492258971607</td><td>0.0032879203096438264</td><td>0.002113515850386488</td><td>0.450662947516258</td><td>0.4460897126082181</td><td>0.44952133743723743</td><td>0.5803286485138014</td><td>0.581337552972168</td><td>0.5819805944678258</td><td>0.5824165963324676</td><td>0.0020469428556152444</td><td>0.0026043525409659286</td><td>0.00406643050771864</td><td>0.0024208867195328362</td><td>0.0018980281934459385</td><td>0.006714850518618192</td><td>0.0009019639688687728</td><td>0.002213833464516609</td><td>-0.7257952054068041</td><td>-0.32386239243083964</td><td>-0.08924055510122225</td><td>0.06890945004794564</td><td>0.9999999999999999</td></tr></tbody></table></div>"
      ],
      "text/plain": [
       "shape: (81, 81)\n",
       "┌───────────┬───────────┬───────────┬───────────┬───┬───────────┬───────────┬───────────┬──────────┐\n",
       "│ age       ┆ contract_ ┆ remaining ┆ has_speci ┆ … ┆ times_in_ ┆ times_in_ ┆ times_in_ ┆ times_in │\n",
       "│ ---       ┆ lifetime_ ┆ _binding_ ┆ al_offer  ┆   ┆ p2        ┆ p3        ┆ p4        ┆ _p5      │\n",
       "│ f64       ┆ days      ┆ days      ┆ ---       ┆   ┆ ---       ┆ ---       ┆ ---       ┆ ---      │\n",
       "│           ┆ ---       ┆ ---       ┆ f64       ┆   ┆ f64       ┆ f64       ┆ f64       ┆ f64      │\n",
       "│           ┆ f64       ┆ f64       ┆           ┆   ┆           ┆           ┆           ┆          │\n",
       "╞═══════════╪═══════════╪═══════════╪═══════════╪═══╪═══════════╪═══════════╪═══════════╪══════════╡\n",
       "│ 0.9999999 ┆ -0.062952 ┆ 0.0079174 ┆ -0.004591 ┆ … ┆ 0.0123620 ┆ -0.009869 ┆ -0.026897 ┆ -0.04815 │\n",
       "│ 999999999 ┆ 587905346 ┆ 259918754 ┆ 802863005 ┆   ┆ 439663805 ┆ 349132019 ┆ 493871128 ┆ 13506738 │\n",
       "│           ┆ 54        ┆ 73        ┆ 674       ┆   ┆ 6         ┆ 378       ┆ 556       ┆ 1582     │\n",
       "│ -0.062952 ┆ 1         ┆ -0.000378 ┆ -0.002302 ┆ … ┆ -0.156330 ┆ 0.0689412 ┆ 0.2835197 ┆ 0.491891 │\n",
       "│ 587905346 ┆           ┆ 391001072 ┆ 567852481 ┆   ┆ 076018662 ┆ 525542355 ┆ 620521779 ┆ 61039432 │\n",
       "│ 54        ┆           ┆ 873       ┆ 359       ┆   ┆ 83        ┆           ┆ 4         ┆ 15       │\n",
       "│ 0.0079174 ┆ -0.000378 ┆ 1         ┆ 0.0028366 ┆ … ┆ 0.0005367 ┆ -0.001887 ┆ 0.0014601 ┆ -0.00401 │\n",
       "│ 259918754 ┆ 391001072 ┆           ┆ 216227977 ┆   ┆ 115434312 ┆ 781015001 ┆ 049841854 ┆ 51820717 │\n",
       "│ 73        ┆ 8731      ┆           ┆ 1         ┆   ┆ 151       ┆ 3526      ┆ 936       ┆ 96204    │\n",
       "│ -0.004591 ┆ -0.002302 ┆ 0.0028366 ┆ 1         ┆ … ┆ -0.002328 ┆ -0.000570 ┆ -0.005875 ┆ -0.00214 │\n",
       "│ 802863005 ┆ 567852481 ┆ 216227977 ┆           ┆   ┆ 223430963 ┆ 645419016 ┆ 019450550 ┆ 03772514 │\n",
       "│ 675       ┆ 359       ┆ 106       ┆           ┆   ┆ 3825      ┆ 5219      ┆ 684       ┆ 16099    │\n",
       "│ -0.000570 ┆ 0.0021912 ┆ -0.001727 ┆ 0.0004465 ┆ … ┆ -0.003137 ┆ -0.001275 ┆ 0.0023783 ┆ -0.00072 │\n",
       "│ 452210647 ┆ 725141618 ┆ 076244464 ┆ 326001357 ┆   ┆ 028105098 ┆ 502301330 ┆ 990610755 ┆ 34401576 │\n",
       "│ 2281      ┆ 994       ┆ 288       ┆ 81        ┆   ┆ 9582      ┆ 5072      ┆ 57        ┆ 974356   │\n",
       "│ …         ┆ …         ┆ …         ┆ …         ┆ … ┆ …         ┆ …         ┆ …         ┆ …        │\n",
       "│ 0.0472954 ┆ -0.459958 ┆ 0.0034989 ┆ 0.0050047 ┆ … ┆ -0.270038 ┆ -0.331974 ┆ -0.350370 ┆ -0.72579 │\n",
       "│ 802505390 ┆ 234705427 ┆ 853085557 ┆ 918880933 ┆   ┆ 637576173 ┆ 275508078 ┆ 809501022 ┆ 52054068 │\n",
       "│ 14        ┆ 9         ┆ 08        ┆ 9         ┆   ┆ 25        ┆           ┆ 45        ┆ 041      │\n",
       "│ 0.0123620 ┆ -0.156330 ┆ 0.0005367 ┆ -0.002328 ┆ … ┆ 1         ┆ 0.1351135 ┆ -0.076626 ┆ -0.32386 │\n",
       "│ 439663805 ┆ 076018662 ┆ 115434312 ┆ 223430963 ┆   ┆           ┆ 930825399 ┆ 691919633 ┆ 23924308 │\n",
       "│ 6         ┆ 8         ┆ 151       ┆ 3825      ┆   ┆           ┆ 5         ┆ 69        ┆ 3964     │\n",
       "│ -0.009869 ┆ 0.0689412 ┆ -0.001887 ┆ -0.000570 ┆ … ┆ 0.1351135 ┆ 1         ┆ 0.1868763 ┆ -0.08924 │\n",
       "│ 349132019 ┆ 525542355 ┆ 781015001 ┆ 645419016 ┆   ┆ 930825399 ┆           ┆ 836494121 ┆ 05551012 │\n",
       "│ 378       ┆ 1         ┆ 3526      ┆ 5219      ┆   ┆ 2         ┆           ┆ 4         ┆ 2225     │\n",
       "│ -0.026897 ┆ 0.2835197 ┆ 0.0014601 ┆ -0.005875 ┆ … ┆ -0.076626 ┆ 0.1868763 ┆ 1         ┆ 0.068909 │\n",
       "│ 493871128 ┆ 620521779 ┆ 049841854 ┆ 019450550 ┆   ┆ 691919633 ┆ 836494121 ┆           ┆ 45004794 │\n",
       "│ 556       ┆ 4         ┆ 933       ┆ 684       ┆   ┆ 69        ┆ 1         ┆           ┆ 564      │\n",
       "│ -0.048151 ┆ 0.4918916 ┆ -0.004015 ┆ -0.002140 ┆ … ┆ -0.323862 ┆ -0.089240 ┆ 0.0689094 ┆ 0.999999 │\n",
       "│ 350673815 ┆ 103943215 ┆ 182071796 ┆ 377251416 ┆   ┆ 392430839 ┆ 555101222 ┆ 500479456 ┆ 99999999 │\n",
       "│ 82        ┆           ┆ 204       ┆ 0986      ┆   ┆ 64        ┆ 25        ┆ 4         ┆ 99       │\n",
       "└───────────┴───────────┴───────────┴───────────┴───┴───────────┴───────────┴───────────┴──────────┘"
      ]
     },
     "execution_count": 35,
     "metadata": {},
     "output_type": "execute_result"
    }
   ],
   "source": [
    "correlation_matrix"
   ]
  },
  {
   "cell_type": "code",
   "execution_count": 36,
   "id": "1f553063",
   "metadata": {},
   "outputs": [
    {
     "data": {
      "application/vnd.plotly.v1+json": {
       "config": {
        "plotlyServerURL": "https://plot.ly"
       },
       "data": [
        {
         "coloraxis": "coloraxis",
         "hovertemplate": "Features: %{x}<br>Features: %{y}<br>Correlation: %{z}<extra></extra>",
         "name": "0",
         "type": "heatmap",
         "x": [
          "age",
          "contract_lifetime_days",
          "remaining_binding_days",
          "has_special_offer",
          "is_magenta1_customer",
          "available_gb",
          "gross_mrc",
          "has_done_upselling",
          "contract_binding_days",
          "completion_rate",
          "is_bounded",
          "is_huawei",
          "is_oneplus",
          "is_samsung",
          "is_xiaomi",
          "is_iphone",
          "n_contracts_per_customer",
          "avg_monthly_usage_gb",
          "median_monthly_usage_gb",
          "total_usage_gb",
          "usage_std_gb",
          "min_monthly_usage_gb",
          "max_monthly_usage_gb",
          "usage_q25_gb",
          "usage_q75_gb",
          "months_with_roaming",
          "ever_used_roaming",
          "always_used_roaming",
          "zero_usage_months",
          "active_usage_months",
          "avg_delta_1mo",
          "delta_1mo_volatility",
          "max_delta_1mo_increase",
          "max_delta_1mo_decrease",
          "months_with_delta_1mo_increase",
          "months_with_delta_1mo_decrease",
          "months_with_no_delta_1mo_change",
          "avg_delta_2mo",
          "delta_2mo_volatility",
          "max_delta_2mo_increase",
          "max_delta_2mo_decrease",
          "months_with_delta_2mo_increase",
          "months_with_delta_2mo_decrease",
          "months_with_no_delta_2mo_change",
          "avg_delta_3mo",
          "max_delta_3mo_increase",
          "max_delta_3mo_decrease",
          "months_with_delta_3mo_increase",
          "months_with_delta_3mo_decrease",
          "months_with_no_delta_3mo_change",
          "last_1_2mo_rolling_avg",
          "last_2_2mo_rolling_avg",
          "last_3_2mo_rolling_avg",
          "last_1_3mo_rolling_avg",
          "last_2_3mo_rolling_avg",
          "last_1_delta_1mo",
          "last_2_delta_1mo",
          "last_3_delta_1mo",
          "last_1_delta_2mo",
          "last_2_delta_2mo",
          "last_1_delta_3mo",
          "last_1_2mo_rolling_stdev",
          "last_2_2mo_rolling_stdev",
          "last_3_2mo_rolling_stdev",
          "last_1_month_usage_gb",
          "last_2_month_usage_gb",
          "last_3_month_usage_gb",
          "last_4_month_usage_gb",
          "n_rechnungsanfragen",
          "n_produkte&services-tarifdetails",
          "n_prolongation",
          "n_produkte&services-tarifwechsel",
          "days_since_last_rechnungsanfragen",
          "days_since_last_produkte&services-tarifdetails",
          "days_since_last_prolongation",
          "days_since_last_produkte&services-tarifwechsel",
          "times_in_p1",
          "times_in_p2",
          "times_in_p3",
          "times_in_p4",
          "times_in_p5"
         ],
         "xaxis": "x",
         "y": [
          "age",
          "contract_lifetime_days",
          "remaining_binding_days",
          "has_special_offer",
          "is_magenta1_customer",
          "available_gb",
          "gross_mrc",
          "has_done_upselling",
          "contract_binding_days",
          "completion_rate",
          "is_bounded",
          "is_huawei",
          "is_oneplus",
          "is_samsung",
          "is_xiaomi",
          "is_iphone",
          "n_contracts_per_customer",
          "avg_monthly_usage_gb",
          "median_monthly_usage_gb",
          "total_usage_gb",
          "usage_std_gb",
          "min_monthly_usage_gb",
          "max_monthly_usage_gb",
          "usage_q25_gb",
          "usage_q75_gb",
          "months_with_roaming",
          "ever_used_roaming",
          "always_used_roaming",
          "zero_usage_months",
          "active_usage_months",
          "avg_delta_1mo",
          "delta_1mo_volatility",
          "max_delta_1mo_increase",
          "max_delta_1mo_decrease",
          "months_with_delta_1mo_increase",
          "months_with_delta_1mo_decrease",
          "months_with_no_delta_1mo_change",
          "avg_delta_2mo",
          "delta_2mo_volatility",
          "max_delta_2mo_increase",
          "max_delta_2mo_decrease",
          "months_with_delta_2mo_increase",
          "months_with_delta_2mo_decrease",
          "months_with_no_delta_2mo_change",
          "avg_delta_3mo",
          "max_delta_3mo_increase",
          "max_delta_3mo_decrease",
          "months_with_delta_3mo_increase",
          "months_with_delta_3mo_decrease",
          "months_with_no_delta_3mo_change",
          "last_1_2mo_rolling_avg",
          "last_2_2mo_rolling_avg",
          "last_3_2mo_rolling_avg",
          "last_1_3mo_rolling_avg",
          "last_2_3mo_rolling_avg",
          "last_1_delta_1mo",
          "last_2_delta_1mo",
          "last_3_delta_1mo",
          "last_1_delta_2mo",
          "last_2_delta_2mo",
          "last_1_delta_3mo",
          "last_1_2mo_rolling_stdev",
          "last_2_2mo_rolling_stdev",
          "last_3_2mo_rolling_stdev",
          "last_1_month_usage_gb",
          "last_2_month_usage_gb",
          "last_3_month_usage_gb",
          "last_4_month_usage_gb",
          "n_rechnungsanfragen",
          "n_produkte&services-tarifdetails",
          "n_prolongation",
          "n_produkte&services-tarifwechsel",
          "days_since_last_rechnungsanfragen",
          "days_since_last_produkte&services-tarifdetails",
          "days_since_last_prolongation",
          "days_since_last_produkte&services-tarifwechsel",
          "times_in_p1",
          "times_in_p2",
          "times_in_p3",
          "times_in_p4",
          "times_in_p5"
         ],
         "yaxis": "y",
         "z": {
          "bdata": "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",
          "dtype": "f8",
          "shape": "81, 81"
         }
        }
       ],
       "layout": {
        "coloraxis": {
         "cmax": 1,
         "cmin": -1,
         "colorbar": {
          "title": {
           "text": "Correlation"
          }
         },
         "colorscale": [
          [
           0,
           "rgb(103,0,31)"
          ],
          [
           0.1,
           "rgb(178,24,43)"
          ],
          [
           0.2,
           "rgb(214,96,77)"
          ],
          [
           0.3,
           "rgb(244,165,130)"
          ],
          [
           0.4,
           "rgb(253,219,199)"
          ],
          [
           0.5,
           "rgb(247,247,247)"
          ],
          [
           0.6,
           "rgb(209,229,240)"
          ],
          [
           0.7,
           "rgb(146,197,222)"
          ],
          [
           0.8,
           "rgb(67,147,195)"
          ],
          [
           0.9,
           "rgb(33,102,172)"
          ],
          [
           1,
           "rgb(5,48,97)"
          ]
         ]
        },
        "height": 1800,
        "margin": {
         "t": 60
        },
        "template": {
         "data": {
          "bar": [
           {
            "error_x": {
             "color": "#2a3f5f"
            },
            "error_y": {
             "color": "#2a3f5f"
            },
            "marker": {
             "line": {
              "color": "#E5ECF6",
              "width": 0.5
             },
             "pattern": {
              "fillmode": "overlay",
              "size": 10,
              "solidity": 0.2
             }
            },
            "type": "bar"
           }
          ],
          "barpolar": [
           {
            "marker": {
             "line": {
              "color": "#E5ECF6",
              "width": 0.5
             },
             "pattern": {
              "fillmode": "overlay",
              "size": 10,
              "solidity": 0.2
             }
            },
            "type": "barpolar"
           }
          ],
          "carpet": [
           {
            "aaxis": {
             "endlinecolor": "#2a3f5f",
             "gridcolor": "white",
             "linecolor": "white",
             "minorgridcolor": "white",
             "startlinecolor": "#2a3f5f"
            },
            "baxis": {
             "endlinecolor": "#2a3f5f",
             "gridcolor": "white",
             "linecolor": "white",
             "minorgridcolor": "white",
             "startlinecolor": "#2a3f5f"
            },
            "type": "carpet"
           }
          ],
          "choropleth": [
           {
            "colorbar": {
             "outlinewidth": 0,
             "ticks": ""
            },
            "type": "choropleth"
           }
          ],
          "contour": [
           {
            "colorbar": {
             "outlinewidth": 0,
             "ticks": ""
            },
            "colorscale": [
             [
              0,
              "#0d0887"
             ],
             [
              0.1111111111111111,
              "#46039f"
             ],
             [
              0.2222222222222222,
              "#7201a8"
             ],
             [
              0.3333333333333333,
              "#9c179e"
             ],
             [
              0.4444444444444444,
              "#bd3786"
             ],
             [
              0.5555555555555556,
              "#d8576b"
             ],
             [
              0.6666666666666666,
              "#ed7953"
             ],
             [
              0.7777777777777778,
              "#fb9f3a"
             ],
             [
              0.8888888888888888,
              "#fdca26"
             ],
             [
              1,
              "#f0f921"
             ]
            ],
            "type": "contour"
           }
          ],
          "contourcarpet": [
           {
            "colorbar": {
             "outlinewidth": 0,
             "ticks": ""
            },
            "type": "contourcarpet"
           }
          ],
          "heatmap": [
           {
            "colorbar": {
             "outlinewidth": 0,
             "ticks": ""
            },
            "colorscale": [
             [
              0,
              "#0d0887"
             ],
             [
              0.1111111111111111,
              "#46039f"
             ],
             [
              0.2222222222222222,
              "#7201a8"
             ],
             [
              0.3333333333333333,
              "#9c179e"
             ],
             [
              0.4444444444444444,
              "#bd3786"
             ],
             [
              0.5555555555555556,
              "#d8576b"
             ],
             [
              0.6666666666666666,
              "#ed7953"
             ],
             [
              0.7777777777777778,
              "#fb9f3a"
             ],
             [
              0.8888888888888888,
              "#fdca26"
             ],
             [
              1,
              "#f0f921"
             ]
            ],
            "type": "heatmap"
           }
          ],
          "histogram": [
           {
            "marker": {
             "pattern": {
              "fillmode": "overlay",
              "size": 10,
              "solidity": 0.2
             }
            },
            "type": "histogram"
           }
          ],
          "histogram2d": [
           {
            "colorbar": {
             "outlinewidth": 0,
             "ticks": ""
            },
            "colorscale": [
             [
              0,
              "#0d0887"
             ],
             [
              0.1111111111111111,
              "#46039f"
             ],
             [
              0.2222222222222222,
              "#7201a8"
             ],
             [
              0.3333333333333333,
              "#9c179e"
             ],
             [
              0.4444444444444444,
              "#bd3786"
             ],
             [
              0.5555555555555556,
              "#d8576b"
             ],
             [
              0.6666666666666666,
              "#ed7953"
             ],
             [
              0.7777777777777778,
              "#fb9f3a"
             ],
             [
              0.8888888888888888,
              "#fdca26"
             ],
             [
              1,
              "#f0f921"
             ]
            ],
            "type": "histogram2d"
           }
          ],
          "histogram2dcontour": [
           {
            "colorbar": {
             "outlinewidth": 0,
             "ticks": ""
            },
            "colorscale": [
             [
              0,
              "#0d0887"
             ],
             [
              0.1111111111111111,
              "#46039f"
             ],
             [
              0.2222222222222222,
              "#7201a8"
             ],
             [
              0.3333333333333333,
              "#9c179e"
             ],
             [
              0.4444444444444444,
              "#bd3786"
             ],
             [
              0.5555555555555556,
              "#d8576b"
             ],
             [
              0.6666666666666666,
              "#ed7953"
             ],
             [
              0.7777777777777778,
              "#fb9f3a"
             ],
             [
              0.8888888888888888,
              "#fdca26"
             ],
             [
              1,
              "#f0f921"
             ]
            ],
            "type": "histogram2dcontour"
           }
          ],
          "mesh3d": [
           {
            "colorbar": {
             "outlinewidth": 0,
             "ticks": ""
            },
            "type": "mesh3d"
           }
          ],
          "parcoords": [
           {
            "line": {
             "colorbar": {
              "outlinewidth": 0,
              "ticks": ""
             }
            },
            "type": "parcoords"
           }
          ],
          "pie": [
           {
            "automargin": true,
            "type": "pie"
           }
          ],
          "scatter": [
           {
            "fillpattern": {
             "fillmode": "overlay",
             "size": 10,
             "solidity": 0.2
            },
            "type": "scatter"
           }
          ],
          "scatter3d": [
           {
            "line": {
             "colorbar": {
              "outlinewidth": 0,
              "ticks": ""
             }
            },
            "marker": {
             "colorbar": {
              "outlinewidth": 0,
              "ticks": ""
             }
            },
            "type": "scatter3d"
           }
          ],
          "scattercarpet": [
           {
            "marker": {
             "colorbar": {
              "outlinewidth": 0,
              "ticks": ""
             }
            },
            "type": "scattercarpet"
           }
          ],
          "scattergeo": [
           {
            "marker": {
             "colorbar": {
              "outlinewidth": 0,
              "ticks": ""
             }
            },
            "type": "scattergeo"
           }
          ],
          "scattergl": [
           {
            "marker": {
             "colorbar": {
              "outlinewidth": 0,
              "ticks": ""
             }
            },
            "type": "scattergl"
           }
          ],
          "scattermap": [
           {
            "marker": {
             "colorbar": {
              "outlinewidth": 0,
              "ticks": ""
             }
            },
            "type": "scattermap"
           }
          ],
          "scattermapbox": [
           {
            "marker": {
             "colorbar": {
              "outlinewidth": 0,
              "ticks": ""
             }
            },
            "type": "scattermapbox"
           }
          ],
          "scatterpolar": [
           {
            "marker": {
             "colorbar": {
              "outlinewidth": 0,
              "ticks": ""
             }
            },
            "type": "scatterpolar"
           }
          ],
          "scatterpolargl": [
           {
            "marker": {
             "colorbar": {
              "outlinewidth": 0,
              "ticks": ""
             }
            },
            "type": "scatterpolargl"
           }
          ],
          "scatterternary": [
           {
            "marker": {
             "colorbar": {
              "outlinewidth": 0,
              "ticks": ""
             }
            },
            "type": "scatterternary"
           }
          ],
          "surface": [
           {
            "colorbar": {
             "outlinewidth": 0,
             "ticks": ""
            },
            "colorscale": [
             [
              0,
              "#0d0887"
             ],
             [
              0.1111111111111111,
              "#46039f"
             ],
             [
              0.2222222222222222,
              "#7201a8"
             ],
             [
              0.3333333333333333,
              "#9c179e"
             ],
             [
              0.4444444444444444,
              "#bd3786"
             ],
             [
              0.5555555555555556,
              "#d8576b"
             ],
             [
              0.6666666666666666,
              "#ed7953"
             ],
             [
              0.7777777777777778,
              "#fb9f3a"
             ],
             [
              0.8888888888888888,
              "#fdca26"
             ],
             [
              1,
              "#f0f921"
             ]
            ],
            "type": "surface"
           }
          ],
          "table": [
           {
            "cells": {
             "fill": {
              "color": "#EBF0F8"
             },
             "line": {
              "color": "white"
             }
            },
            "header": {
             "fill": {
              "color": "#C8D4E3"
             },
             "line": {
              "color": "white"
             }
            },
            "type": "table"
           }
          ]
         },
         "layout": {
          "annotationdefaults": {
           "arrowcolor": "#2a3f5f",
           "arrowhead": 0,
           "arrowwidth": 1
          },
          "autotypenumbers": "strict",
          "coloraxis": {
           "colorbar": {
            "outlinewidth": 0,
            "ticks": ""
           }
          },
          "colorscale": {
           "diverging": [
            [
             0,
             "#8e0152"
            ],
            [
             0.1,
             "#c51b7d"
            ],
            [
             0.2,
             "#de77ae"
            ],
            [
             0.3,
             "#f1b6da"
            ],
            [
             0.4,
             "#fde0ef"
            ],
            [
             0.5,
             "#f7f7f7"
            ],
            [
             0.6,
             "#e6f5d0"
            ],
            [
             0.7,
             "#b8e186"
            ],
            [
             0.8,
             "#7fbc41"
            ],
            [
             0.9,
             "#4d9221"
            ],
            [
             1,
             "#276419"
            ]
           ],
           "sequential": [
            [
             0,
             "#0d0887"
            ],
            [
             0.1111111111111111,
             "#46039f"
            ],
            [
             0.2222222222222222,
             "#7201a8"
            ],
            [
             0.3333333333333333,
             "#9c179e"
            ],
            [
             0.4444444444444444,
             "#bd3786"
            ],
            [
             0.5555555555555556,
             "#d8576b"
            ],
            [
             0.6666666666666666,
             "#ed7953"
            ],
            [
             0.7777777777777778,
             "#fb9f3a"
            ],
            [
             0.8888888888888888,
             "#fdca26"
            ],
            [
             1,
             "#f0f921"
            ]
           ],
           "sequentialminus": [
            [
             0,
             "#0d0887"
            ],
            [
             0.1111111111111111,
             "#46039f"
            ],
            [
             0.2222222222222222,
             "#7201a8"
            ],
            [
             0.3333333333333333,
             "#9c179e"
            ],
            [
             0.4444444444444444,
             "#bd3786"
            ],
            [
             0.5555555555555556,
             "#d8576b"
            ],
            [
             0.6666666666666666,
             "#ed7953"
            ],
            [
             0.7777777777777778,
             "#fb9f3a"
            ],
            [
             0.8888888888888888,
             "#fdca26"
            ],
            [
             1,
             "#f0f921"
            ]
           ]
          },
          "colorway": [
           "#636efa",
           "#EF553B",
           "#00cc96",
           "#ab63fa",
           "#FFA15A",
           "#19d3f3",
           "#FF6692",
           "#B6E880",
           "#FF97FF",
           "#FECB52"
          ],
          "font": {
           "color": "#2a3f5f"
          },
          "geo": {
           "bgcolor": "white",
           "lakecolor": "white",
           "landcolor": "#E5ECF6",
           "showlakes": true,
           "showland": true,
           "subunitcolor": "white"
          },
          "hoverlabel": {
           "align": "left"
          },
          "hovermode": "closest",
          "mapbox": {
           "style": "light"
          },
          "paper_bgcolor": "white",
          "plot_bgcolor": "#E5ECF6",
          "polar": {
           "angularaxis": {
            "gridcolor": "white",
            "linecolor": "white",
            "ticks": ""
           },
           "bgcolor": "#E5ECF6",
           "radialaxis": {
            "gridcolor": "white",
            "linecolor": "white",
            "ticks": ""
           }
          },
          "scene": {
           "xaxis": {
            "backgroundcolor": "#E5ECF6",
            "gridcolor": "white",
            "gridwidth": 2,
            "linecolor": "white",
            "showbackground": true,
            "ticks": "",
            "zerolinecolor": "white"
           },
           "yaxis": {
            "backgroundcolor": "#E5ECF6",
            "gridcolor": "white",
            "gridwidth": 2,
            "linecolor": "white",
            "showbackground": true,
            "ticks": "",
            "zerolinecolor": "white"
           },
           "zaxis": {
            "backgroundcolor": "#E5ECF6",
            "gridcolor": "white",
            "gridwidth": 2,
            "linecolor": "white",
            "showbackground": true,
            "ticks": "",
            "zerolinecolor": "white"
           }
          },
          "shapedefaults": {
           "line": {
            "color": "#2a3f5f"
           }
          },
          "ternary": {
           "aaxis": {
            "gridcolor": "white",
            "linecolor": "white",
            "ticks": ""
           },
           "baxis": {
            "gridcolor": "white",
            "linecolor": "white",
            "ticks": ""
           },
           "bgcolor": "#E5ECF6",
           "caxis": {
            "gridcolor": "white",
            "linecolor": "white",
            "ticks": ""
           }
          },
          "title": {
           "x": 0.05
          },
          "xaxis": {
           "automargin": true,
           "gridcolor": "white",
           "linecolor": "white",
           "ticks": "",
           "title": {
            "standoff": 15
           },
           "zerolinecolor": "white",
           "zerolinewidth": 2
          },
          "yaxis": {
           "automargin": true,
           "gridcolor": "white",
           "linecolor": "white",
           "ticks": "",
           "title": {
            "standoff": 15
           },
           "zerolinecolor": "white",
           "zerolinewidth": 2
          }
         }
        },
        "title": {
         "text": "Correlation Matrix Heatmap"
        },
        "width": 1800,
        "xaxis": {
         "anchor": "y",
         "domain": [
          0,
          1
         ],
         "title": {
          "text": "Features"
         }
        },
        "yaxis": {
         "anchor": "x",
         "autorange": "reversed",
         "domain": [
          0,
          1
         ],
         "title": {
          "text": "Features"
         }
        }
       }
      }
     },
     "metadata": {},
     "output_type": "display_data"
    }
   ],
   "source": [
    "fig = px.imshow(\n",
    "    correlation_matrix.to_numpy(),\n",
    "    labels=dict(x='Features', y='Features', color='Correlation'),\n",
    "    x=correlation_matrix.columns,\n",
    "    y=correlation_matrix.columns,\n",
    "    color_continuous_scale='RdBu',\n",
    "    zmin=-1, zmax=1,\n",
    "    aspect='auto'\n",
    ")\n",
    "fig.update_layout(\n",
    "    width=1800,\n",
    "    height=1800,\n",
    "    title='Correlation Matrix Heatmap'\n",
    ")\n",
    "fig.update_layout(title='Correlation Matrix Heatmap')\n",
    "fig.show()\n",
    "\n",
    "# Blue means that variable X and variable Y follow the same behaviour (both increasing or decreasing)\n",
    "# Red means that variable X has the opposite behaviour of variable Y"
   ]
  },
  {
   "cell_type": "markdown",
   "id": "850ea14f",
   "metadata": {},
   "source": [
    "From the plot, it seems that the target `has_done_upselling` is **not correlated** with any other column"
   ]
  },
  {
   "cell_type": "code",
   "execution_count": 37,
   "id": "ef7a9844",
   "metadata": {},
   "outputs": [
    {
     "name": "stdout",
     "output_type": "stream",
     "text": [
      "CPU times: user 2.76 ms, sys: 3.71 ms, total: 6.47 ms\n",
      "Wall time: 5.81 ms\n"
     ]
    }
   ],
   "source": [
    "%%time \n",
    "\n",
    "correlation_analysis = (\n",
    "    correlation_matrix\n",
    "    .unpivot(index=None, variable_name='col1', value_name='correlation')\n",
    "    .with_columns([\n",
    "        pl.repeat(correlation_matrix.columns, correlation_matrix.height).flatten().alias('col2'),\n",
    "        pl.col('correlation').abs()\n",
    "    ])\n",
    "    .filter(pl.col('col1') != pl.col('col2'))\n",
    "    .filter(pl.col('col1') < pl.col('col2'))  # Keep only one pair per combination\n",
    "    .with_columns([\n",
    "        pl.when(pl.col('correlation') > 0.99)\n",
    "            .then(pl.lit('identical'))\n",
    "        .when(pl.col('correlation') > 0.9)\n",
    "            .then(pl.lit('high'))\n",
    "        .when(pl.col('correlation') > 0.8)\n",
    "            .then(pl.lit('high-medium'))\n",
    "        .when(pl.col('correlation') > 0.7)\n",
    "            .then(pl.lit('medium'))\n",
    "        .otherwise(pl.lit('ok'))\n",
    "        .alias('analysis')\n",
    "    ])\n",
    "    .sort('correlation', descending=True)\n",
    ")"
   ]
  },
  {
   "cell_type": "code",
   "execution_count": 38,
   "id": "2b301b25",
   "metadata": {},
   "outputs": [
    {
     "data": {
      "text/html": [
       "<div><style>\n",
       ".dataframe > thead > tr,\n",
       ".dataframe > tbody > tr {\n",
       "  text-align: right;\n",
       "  white-space: pre-wrap;\n",
       "}\n",
       "</style>\n",
       "<small>shape: (5, 2)</small><table border=\"1\" class=\"dataframe\"><thead><tr><th>analysis</th><th>len</th></tr><tr><td>str</td><td>u32</td></tr></thead><tbody><tr><td>&quot;identical&quot;</td><td>19</td></tr><tr><td>&quot;high&quot;</td><td>100</td></tr><tr><td>&quot;high-medium&quot;</td><td>58</td></tr><tr><td>&quot;medium&quot;</td><td>101</td></tr><tr><td>&quot;ok&quot;</td><td>2962</td></tr></tbody></table></div>"
      ],
      "text/plain": [
       "shape: (5, 2)\n",
       "┌─────────────┬──────┐\n",
       "│ analysis    ┆ len  │\n",
       "│ ---         ┆ ---  │\n",
       "│ str         ┆ u32  │\n",
       "╞═════════════╪══════╡\n",
       "│ identical   ┆ 19   │\n",
       "│ high        ┆ 100  │\n",
       "│ high-medium ┆ 58   │\n",
       "│ medium      ┆ 101  │\n",
       "│ ok          ┆ 2962 │\n",
       "└─────────────┴──────┘"
      ]
     },
     "execution_count": 38,
     "metadata": {},
     "output_type": "execute_result"
    }
   ],
   "source": [
    "correlation_analysis.group_by('analysis', maintain_order=True).len()"
   ]
  },
  {
   "cell_type": "code",
   "execution_count": 39,
   "id": "0e750d28",
   "metadata": {},
   "outputs": [
    {
     "data": {
      "text/html": [
       "<div><style>\n",
       ".dataframe > thead > tr,\n",
       ".dataframe > tbody > tr {\n",
       "  text-align: right;\n",
       "  white-space: pre-wrap;\n",
       "}\n",
       "</style>\n",
       "<small>shape: (80, 4)</small><table border=\"1\" class=\"dataframe\"><thead><tr><th>col1</th><th>correlation</th><th>col2</th><th>analysis</th></tr><tr><td>str</td><td>f64</td><td>str</td><td>str</td></tr></thead><tbody><tr><td>&quot;available_gb&quot;</td><td>0.05250459291014327</td><td>&quot;has_done_upselling&quot;</td><td>&quot;ok&quot;</td></tr><tr><td>&quot;age&quot;</td><td>0.04153326724228019</td><td>&quot;has_done_upselling&quot;</td><td>&quot;ok&quot;</td></tr><tr><td>&quot;has_done_upselling&quot;</td><td>0.034149530521502186</td><td>&quot;is_magenta1_customer&quot;</td><td>&quot;ok&quot;</td></tr><tr><td>&quot;gross_mrc&quot;</td><td>0.02619134627808327</td><td>&quot;has_done_upselling&quot;</td><td>&quot;ok&quot;</td></tr><tr><td>&quot;has_done_upselling&quot;</td><td>0.02389323675469545</td><td>&quot;times_in_p5&quot;</td><td>&quot;ok&quot;</td></tr><tr><td>&hellip;</td><td>&hellip;</td><td>&hellip;</td><td>&hellip;</td></tr><tr><td>&quot;has_done_upselling&quot;</td><td>0.0004813386841002739</td><td>&quot;last_3_2mo_rolling_stdev&quot;</td><td>&quot;ok&quot;</td></tr><tr><td>&quot;has_done_upselling&quot;</td><td>0.0004042028172025814</td><td>&quot;max_delta_1mo_decrease&quot;</td><td>&quot;ok&quot;</td></tr><tr><td>&quot;ever_used_roaming&quot;</td><td>0.00023763468320468282</td><td>&quot;has_done_upselling&quot;</td><td>&quot;ok&quot;</td></tr><tr><td>&quot;has_done_upselling&quot;</td><td>0.00012890568655893182</td><td>&quot;times_in_p3&quot;</td><td>&quot;ok&quot;</td></tr><tr><td>&quot;has_done_upselling&quot;</td><td>0.000030384387498773587</td><td>&quot;last_1_delta_1mo&quot;</td><td>&quot;ok&quot;</td></tr></tbody></table></div>"
      ],
      "text/plain": [
       "shape: (80, 4)\n",
       "┌────────────────────┬─────────────────────────┬──────────────────────────┬──────────┐\n",
       "│ col1               ┆ correlation             ┆ col2                     ┆ analysis │\n",
       "│ ---                ┆ ---                     ┆ ---                      ┆ ---      │\n",
       "│ str                ┆ f64                     ┆ str                      ┆ str      │\n",
       "╞════════════════════╪═════════════════════════╪══════════════════════════╪══════════╡\n",
       "│ available_gb       ┆ 0.05250459291014327     ┆ has_done_upselling       ┆ ok       │\n",
       "│ age                ┆ 0.04153326724228019     ┆ has_done_upselling       ┆ ok       │\n",
       "│ has_done_upselling ┆ 0.034149530521502186    ┆ is_magenta1_customer     ┆ ok       │\n",
       "│ gross_mrc          ┆ 0.02619134627808327     ┆ has_done_upselling       ┆ ok       │\n",
       "│ has_done_upselling ┆ 0.02389323675469545     ┆ times_in_p5              ┆ ok       │\n",
       "│ …                  ┆ …                       ┆ …                        ┆ …        │\n",
       "│ has_done_upselling ┆ 0.0004813386841002739   ┆ last_3_2mo_rolling_stdev ┆ ok       │\n",
       "│ has_done_upselling ┆ 0.0004042028172025814   ┆ max_delta_1mo_decrease   ┆ ok       │\n",
       "│ ever_used_roaming  ┆ 0.00023763468320468282  ┆ has_done_upselling       ┆ ok       │\n",
       "│ has_done_upselling ┆ 0.00012890568655893182  ┆ times_in_p3              ┆ ok       │\n",
       "│ has_done_upselling ┆ 0.000030384387498773587 ┆ last_1_delta_1mo         ┆ ok       │\n",
       "└────────────────────┴─────────────────────────┴──────────────────────────┴──────────┘"
      ]
     },
     "execution_count": 39,
     "metadata": {},
     "output_type": "execute_result"
    }
   ],
   "source": [
    "has_done_upselling_corr = correlation_analysis.filter(\n",
    "    (pl.col('col1') == 'has_done_upselling') | (pl.col('col2') == 'has_done_upselling')\n",
    ")\n",
    "has_done_upselling_corr"
   ]
  },
  {
   "cell_type": "markdown",
   "id": "8ccfd41d",
   "metadata": {},
   "source": [
    "### Anlysis correlated networks"
   ]
  },
  {
   "cell_type": "code",
   "execution_count": 40,
   "id": "74e02ef6",
   "metadata": {},
   "outputs": [],
   "source": [
    "G_70, remove_70, clusters_70 = correlation_graph_analysis(correlation_analysis, 0.7)"
   ]
  },
  {
   "cell_type": "code",
   "execution_count": 41,
   "id": "e6e4540c",
   "metadata": {},
   "outputs": [
    {
     "data": {
      "application/vnd.plotly.v1+json": {
       "config": {
        "plotlyServerURL": "https://plot.ly"
       },
       "data": [
        {
         "hoverinfo": "none",
         "line": {
          "color": "#888",
          "width": 1
         },
         "mode": "lines",
         "type": "scatter",
         "x": [
          0.30062508994064047,
          0.29002735700705246,
          null,
          -0.6877601987943627,
          -0.6462720127477615,
          null,
          -0.6877601987943627,
          -0.6476611844871937,
          null,
          -0.6877601987943627,
          -0.6761906800861147,
          null,
          -0.6877601987943627,
          -0.6957009013765573,
          null,
          -0.6877601987943627,
          -0.6343681049582229,
          null,
          -0.6462720127477615,
          -0.6476611844871937,
          null,
          -0.6462720127477615,
          -0.6761906800861147,
          null,
          -0.6462720127477615,
          -0.6957009013765573,
          null,
          -0.6462720127477615,
          -0.6343681049582229,
          null,
          -0.6476611844871937,
          -0.6761906800861147,
          null,
          -0.6476611844871937,
          -0.6957009013765573,
          null,
          -0.6476611844871937,
          -0.6343681049582229,
          null,
          -0.6761906800861147,
          -0.6957009013765573,
          null,
          -0.6761906800861147,
          -0.6343681049582229,
          null,
          0.04072350701545492,
          0.02697103447625184,
          null,
          0.04072350701545492,
          0.03634282739995606,
          null,
          0.04072350701545492,
          0.032115186677320454,
          null,
          0.04072350701545492,
          0.047630293361907355,
          null,
          0.04072350701545492,
          0.043115700043350066,
          null,
          0.04072350701545492,
          0.021082944267790744,
          null,
          0.04072350701545492,
          0.005662758526142373,
          null,
          0.04072350701545492,
          0.02395788528484669,
          null,
          0.04072350701545492,
          0.014152094370218263,
          null,
          0.04072350701545492,
          0.006135460491715012,
          null,
          0.04072350701545492,
          -0.024825924933807,
          null,
          0.04072350701545492,
          -0.007368853264002389,
          null,
          0.04072350701545492,
          -0.010976098487978689,
          null,
          0.04072350701545492,
          -0.009900173669675582,
          null,
          0.04072350701545492,
          -0.020270624058809774,
          null,
          0.04072350701545492,
          0.01863948572544122,
          null,
          0.04072350701545492,
          0.04760680333386235,
          null,
          0.04072350701545492,
          0.06698917063142834,
          null,
          0.04072350701545492,
          0.06853324248171641,
          null,
          0.04072350701545492,
          -0.03295495068375101,
          null,
          0.04072350701545492,
          0.06877052120178258,
          null,
          0.04072350701545492,
          0.08543737557033595,
          null,
          0.04072350701545492,
          0.07426105735768147,
          null,
          0.04072350701545492,
          0.09595733175233562,
          null,
          0.02697103447625184,
          0.03634282739995606,
          null,
          0.02697103447625184,
          0.032115186677320454,
          null,
          0.02697103447625184,
          0.047630293361907355,
          null,
          0.02697103447625184,
          0.043115700043350066,
          null,
          0.02697103447625184,
          0.021082944267790744,
          null,
          0.02697103447625184,
          0.005662758526142373,
          null,
          0.02697103447625184,
          0.02395788528484669,
          null,
          0.02697103447625184,
          0.014152094370218263,
          null,
          0.02697103447625184,
          0.006135460491715012,
          null,
          0.02697103447625184,
          -0.024825924933807,
          null,
          0.02697103447625184,
          -0.007368853264002389,
          null,
          0.02697103447625184,
          -0.010976098487978689,
          null,
          0.02697103447625184,
          -0.009900173669675582,
          null,
          0.02697103447625184,
          -0.020270624058809774,
          null,
          0.02697103447625184,
          0.01863948572544122,
          null,
          0.02697103447625184,
          0.04760680333386235,
          null,
          0.02697103447625184,
          0.06698917063142834,
          null,
          0.02697103447625184,
          0.06853324248171641,
          null,
          0.02697103447625184,
          -0.03295495068375101,
          null,
          0.02697103447625184,
          0.06877052120178258,
          null,
          0.02697103447625184,
          0.08543737557033595,
          null,
          0.02697103447625184,
          0.07426105735768147,
          null,
          0.02697103447625184,
          0.09595733175233562,
          null,
          -0.6957009013765573,
          -0.6343681049582229,
          null,
          0.03634282739995606,
          0.043115700043350066,
          null,
          0.03634282739995606,
          0.005662758526142373,
          null,
          0.03634282739995606,
          0.047630293361907355,
          null,
          0.03634282739995606,
          0.032115186677320454,
          null,
          0.03634282739995606,
          0.021082944267790744,
          null,
          0.03634282739995606,
          0.02395788528484669,
          null,
          0.03634282739995606,
          0.014152094370218263,
          null,
          0.03634282739995606,
          0.006135460491715012,
          null,
          0.03634282739995606,
          -0.024825924933807,
          null,
          0.03634282739995606,
          -0.007368853264002389,
          null,
          0.03634282739995606,
          -0.010976098487978689,
          null,
          0.03634282739995606,
          -0.009900173669675582,
          null,
          0.03634282739995606,
          -0.020270624058809774,
          null,
          0.03634282739995606,
          0.01863948572544122,
          null,
          0.03634282739995606,
          0.04760680333386235,
          null,
          0.03634282739995606,
          0.06698917063142834,
          null,
          0.03634282739995606,
          0.06853324248171641,
          null,
          0.03634282739995606,
          -0.03295495068375101,
          null,
          0.03634282739995606,
          0.06877052120178258,
          null,
          0.03634282739995606,
          0.07426105735768147,
          null,
          0.03634282739995606,
          0.08543737557033595,
          null,
          0.03634282739995606,
          0.09595733175233562,
          null,
          0.043115700043350066,
          0.032115186677320454,
          null,
          0.043115700043350066,
          0.047630293361907355,
          null,
          0.043115700043350066,
          0.021082944267790744,
          null,
          0.043115700043350066,
          0.02395788528484669,
          null,
          0.043115700043350066,
          0.014152094370218263,
          null,
          0.043115700043350066,
          0.006135460491715012,
          null,
          0.043115700043350066,
          0.005662758526142373,
          null,
          0.043115700043350066,
          -0.024825924933807,
          null,
          0.043115700043350066,
          -0.007368853264002389,
          null,
          0.043115700043350066,
          -0.010976098487978689,
          null,
          0.043115700043350066,
          -0.009900173669675582,
          null,
          0.043115700043350066,
          -0.020270624058809774,
          null,
          0.043115700043350066,
          0.01863948572544122,
          null,
          0.043115700043350066,
          0.04760680333386235,
          null,
          0.043115700043350066,
          0.06698917063142834,
          null,
          0.043115700043350066,
          0.06853324248171641,
          null,
          0.043115700043350066,
          -0.03295495068375101,
          null,
          0.043115700043350066,
          0.06877052120178258,
          null,
          0.043115700043350066,
          0.07426105735768147,
          null,
          0.043115700043350066,
          0.08543737557033595,
          null,
          0.043115700043350066,
          0.09595733175233562,
          null,
          0.032115186677320454,
          0.006135460491715012,
          null,
          0.032115186677320454,
          0.02395788528484669,
          null,
          0.032115186677320454,
          0.021082944267790744,
          null,
          0.032115186677320454,
          0.047630293361907355,
          null,
          0.032115186677320454,
          0.005662758526142373,
          null,
          0.032115186677320454,
          0.014152094370218263,
          null,
          0.032115186677320454,
          -0.024825924933807,
          null,
          0.032115186677320454,
          -0.007368853264002389,
          null,
          0.032115186677320454,
          -0.010976098487978689,
          null,
          0.032115186677320454,
          -0.009900173669675582,
          null,
          0.032115186677320454,
          0.01863948572544122,
          null,
          0.032115186677320454,
          -0.020270624058809774,
          null,
          0.032115186677320454,
          0.04760680333386235,
          null,
          0.032115186677320454,
          0.06853324248171641,
          null,
          0.032115186677320454,
          -0.03295495068375101,
          null,
          0.032115186677320454,
          0.06698917063142834,
          null,
          0.032115186677320454,
          0.08543737557033595,
          null,
          0.032115186677320454,
          0.06877052120178258,
          null,
          0.032115186677320454,
          0.07426105735768147,
          null,
          0.032115186677320454,
          0.09595733175233562,
          null,
          0.047630293361907355,
          0.014152094370218263,
          null,
          0.047630293361907355,
          0.02395788528484669,
          null,
          0.047630293361907355,
          0.021082944267790744,
          null,
          0.047630293361907355,
          0.005662758526142373,
          null,
          0.047630293361907355,
          0.006135460491715012,
          null,
          0.047630293361907355,
          -0.024825924933807,
          null,
          0.047630293361907355,
          -0.007368853264002389,
          null,
          0.047630293361907355,
          -0.020270624058809774,
          null,
          0.047630293361907355,
          -0.009900173669675582,
          null,
          0.047630293361907355,
          0.01863948572544122,
          null,
          0.047630293361907355,
          -0.010976098487978689,
          null,
          0.047630293361907355,
          0.04760680333386235,
          null,
          0.047630293361907355,
          0.06698917063142834,
          null,
          0.047630293361907355,
          -0.03295495068375101,
          null,
          0.047630293361907355,
          0.06853324248171641,
          null,
          0.047630293361907355,
          0.06877052120178258,
          null,
          0.047630293361907355,
          0.07426105735768147,
          null,
          0.047630293361907355,
          0.08543737557033595,
          null,
          0.047630293361907355,
          0.09595733175233562,
          null,
          0.005662758526142373,
          0.02395788528484669,
          null,
          0.005662758526142373,
          0.014152094370218263,
          null,
          0.005662758526142373,
          0.006135460491715012,
          null,
          0.005662758526142373,
          0.021082944267790744,
          null,
          0.005662758526142373,
          -0.024825924933807,
          null,
          0.005662758526142373,
          -0.007368853264002389,
          null,
          0.005662758526142373,
          -0.009900173669675582,
          null,
          0.005662758526142373,
          -0.020270624058809774,
          null,
          0.005662758526142373,
          -0.010976098487978689,
          null,
          0.005662758526142373,
          0.01863948572544122,
          null,
          0.005662758526142373,
          0.04760680333386235,
          null,
          0.005662758526142373,
          -0.03295495068375101,
          null,
          0.005662758526142373,
          0.06698917063142834,
          null,
          0.005662758526142373,
          0.06853324248171641,
          null,
          0.021082944267790744,
          0.02395788528484669,
          null,
          0.021082944267790744,
          0.014152094370218263,
          null,
          0.021082944267790744,
          0.006135460491715012,
          null,
          0.021082944267790744,
          0.01863948572544122,
          null,
          0.021082944267790744,
          -0.007368853264002389,
          null,
          0.021082944267790744,
          -0.024825924933807,
          null,
          0.021082944267790744,
          -0.020270624058809774,
          null,
          0.021082944267790744,
          -0.010976098487978689,
          null,
          0.021082944267790744,
          -0.009900173669675582,
          null,
          0.021082944267790744,
          0.04760680333386235,
          null,
          0.021082944267790744,
          0.06698917063142834,
          null,
          0.021082944267790744,
          0.06853324248171641,
          null,
          0.021082944267790744,
          -0.03295495068375101,
          null,
          0.021082944267790744,
          0.06877052120178258,
          null,
          0.021082944267790744,
          0.08543737557033595,
          null,
          0.021082944267790744,
          0.07426105735768147,
          null,
          0.021082944267790744,
          0.09595733175233562,
          null,
          0.014152094370218263,
          -0.007368853264002389,
          null,
          0.014152094370218263,
          -0.020270624058809774,
          null,
          0.014152094370218263,
          0.02395788528484669,
          null,
          0.014152094370218263,
          -0.024825924933807,
          null,
          0.014152094370218263,
          0.006135460491715012,
          null,
          0.014152094370218263,
          0.01863948572544122,
          null,
          0.014152094370218263,
          -0.009900173669675582,
          null,
          0.014152094370218263,
          -0.010976098487978689,
          null,
          0.014152094370218263,
          0.06698917063142834,
          null,
          0.014152094370218263,
          0.04760680333386235,
          null,
          0.014152094370218263,
          -0.03295495068375101,
          null,
          0.014152094370218263,
          0.06877052120178258,
          null,
          0.014152094370218263,
          0.07426105735768147,
          null,
          0.006135460491715012,
          -0.010976098487978689,
          null,
          0.006135460491715012,
          -0.009900173669675582,
          null,
          0.006135460491715012,
          0.02395788528484669,
          null,
          0.006135460491715012,
          -0.024825924933807,
          null,
          0.006135460491715012,
          0.01863948572544122,
          null,
          0.006135460491715012,
          -0.007368853264002389,
          null,
          0.006135460491715012,
          -0.020270624058809774,
          null,
          0.006135460491715012,
          0.06853324248171641,
          null,
          0.006135460491715012,
          0.04760680333386235,
          null,
          0.006135460491715012,
          -0.03295495068375101,
          null,
          0.006135460491715012,
          0.08543737557033595,
          null,
          0.006135460491715012,
          0.06877052120178258,
          null,
          0.02395788528484669,
          -0.007368853264002389,
          null,
          0.02395788528484669,
          -0.009900173669675582,
          null,
          0.02395788528484669,
          -0.024825924933807,
          null,
          0.02395788528484669,
          0.01863948572544122,
          null,
          0.02395788528484669,
          -0.010976098487978689,
          null,
          0.02395788528484669,
          -0.020270624058809774,
          null,
          0.02395788528484669,
          0.04760680333386235,
          null,
          0.02395788528484669,
          0.06698917063142834,
          null,
          0.02395788528484669,
          0.06853324248171641,
          null,
          0.02395788528484669,
          -0.03295495068375101,
          null,
          0.02395788528484669,
          0.08543737557033595,
          null,
          0.02395788528484669,
          0.06877052120178258,
          null,
          -0.024825924933807,
          -0.007368853264002389,
          null,
          -0.024825924933807,
          -0.009900173669675582,
          null,
          -0.024825924933807,
          -0.010976098487978689,
          null,
          -0.024825924933807,
          -0.020270624058809774,
          null,
          -0.024825924933807,
          0.01863948572544122,
          null,
          -0.024825924933807,
          -0.03295495068375101,
          null,
          -0.007368853264002389,
          0.01863948572544122,
          null,
          -0.007368853264002389,
          -0.020270624058809774,
          null,
          -0.007368853264002389,
          -0.010976098487978689,
          null,
          -0.007368853264002389,
          -0.009900173669675582,
          null,
          -0.007368853264002389,
          0.04760680333386235,
          null,
          -0.007368853264002389,
          0.06698917063142834,
          null,
          -0.007368853264002389,
          -0.03295495068375101,
          null,
          -0.020270624058809774,
          0.01863948572544122,
          null,
          -0.020270624058809774,
          0.06698917063142834,
          null,
          -0.020270624058809774,
          -0.009900173669675582,
          null,
          -0.020270624058809774,
          -0.010976098487978689,
          null,
          -0.020270624058809774,
          0.04760680333386235,
          null,
          -0.020270624058809774,
          -0.03295495068375101,
          null,
          -0.010976098487978689,
          0.01863948572544122,
          null,
          -0.010976098487978689,
          0.06853324248171641,
          null,
          -0.010976098487978689,
          -0.009900173669675582,
          null,
          -0.010976098487978689,
          0.04760680333386235,
          null,
          -0.010976098487978689,
          -0.03295495068375101,
          null,
          -0.009900173669675582,
          0.01863948572544122,
          null,
          -0.009900173669675582,
          0.04760680333386235,
          null,
          -0.009900173669675582,
          0.06853324248171641,
          null,
          -0.009900173669675582,
          -0.03295495068375101,
          null,
          0.01863948572544122,
          0.04760680333386235,
          null,
          0.01863948572544122,
          0.06698917063142834,
          null,
          0.01863948572544122,
          0.06853324248171641,
          null,
          0.01863948572544122,
          0.07426105735768147,
          null,
          0.01863948572544122,
          0.06877052120178258,
          null,
          0.01863948572544122,
          0.08543737557033595,
          null,
          0.01863948572544122,
          0.09595733175233562,
          null,
          0.01863948572544122,
          -0.03295495068375101,
          null,
          0.04760680333386235,
          0.06853324248171641,
          null,
          0.04760680333386235,
          0.06698917063142834,
          null,
          0.04760680333386235,
          0.07426105735768147,
          null,
          0.04760680333386235,
          0.06877052120178258,
          null,
          0.04760680333386235,
          0.08543737557033595,
          null,
          0.04760680333386235,
          0.09595733175233562,
          null,
          0.9619836725236782,
          0.9492238593518422,
          null,
          -0.6193788776279581,
          -0.6420865123169351,
          null,
          0.06853324248171641,
          0.07426105735768147,
          null,
          0.06853324248171641,
          0.08543737557033595,
          null,
          0.06853324248171641,
          0.06877052120178258,
          null,
          0.06853324248171641,
          0.09595733175233562,
          null,
          0.06853324248171641,
          0.06698917063142834,
          null,
          0.06698917063142834,
          0.07426105735768147,
          null,
          0.06698917063142834,
          0.06877052120178258,
          null,
          0.06698917063142834,
          0.08543737557033595,
          null,
          0.06698917063142834,
          0.09595733175233562,
          null,
          0.9121775980004742,
          0.8370228598092653,
          null,
          0.06877052120178258,
          0.09595733175233562,
          null,
          0.08543737557033595,
          0.09595733175233562,
          null,
          -0.13195928539812202,
          -0.03295495068375101,
          null,
          0.3425562569743287,
          0.32098917193969806,
          null,
          -0.6343681049582229,
          -0.6424137426645636,
          null,
          -0.6343681049582229,
          -0.5348542617917056,
          null,
          -0.6343681049582229,
          -0.5838218244096982,
          null,
          -0.6343681049582229,
          -0.6948689042206556,
          null,
          -0.6343681049582229,
          -0.7336917311616632,
          null,
          0.4997566959004347,
          0.4499444550161705,
          null,
          0.9920046709331847,
          0.9969284797732308,
          null
         ],
         "y": [
          0.9810410749883002,
          0.9219084107299993,
          null,
          -0.4330268864027645,
          -0.41810802902453725,
          null,
          -0.4330268864027645,
          -0.3903521426086394,
          null,
          -0.4330268864027645,
          -0.38158983606878677,
          null,
          -0.4330268864027645,
          -0.4034938490628702,
          null,
          -0.4330268864027645,
          -0.4639470591712973,
          null,
          -0.41810802902453725,
          -0.3903521426086394,
          null,
          -0.41810802902453725,
          -0.38158983606878677,
          null,
          -0.41810802902453725,
          -0.4034938490628702,
          null,
          -0.41810802902453725,
          -0.4639470591712973,
          null,
          -0.3903521426086394,
          -0.38158983606878677,
          null,
          -0.3903521426086394,
          -0.4034938490628702,
          null,
          -0.3903521426086394,
          -0.4639470591712973,
          null,
          -0.38158983606878677,
          -0.4034938490628702,
          null,
          -0.38158983606878677,
          -0.4639470591712973,
          null,
          0.013680178394850851,
          0.01060853954907385,
          null,
          0.013680178394850851,
          0.033296617581965664,
          null,
          0.013680178394850851,
          0.05040812067405629,
          null,
          0.013680178394850851,
          0.030950053917664942,
          null,
          0.013680178394850851,
          0.05544456323874458,
          null,
          0.013680178394850851,
          0.025927213425191113,
          null,
          0.013680178394850851,
          0.007754703055367104,
          null,
          0.013680178394850851,
          0.07839664919207061,
          null,
          0.013680178394850851,
          0.06096147515968698,
          null,
          0.013680178394850851,
          0.0762510658294252,
          null,
          0.013680178394850851,
          0.014140839833077186,
          null,
          0.013680178394850851,
          0.018669691135274866,
          null,
          0.013680178394850851,
          0.06376347455100868,
          null,
          0.013680178394850851,
          0.04602436372860766,
          null,
          0.013680178394850851,
          0.03490433310291857,
          null,
          0.013680178394850851,
          0.04280093882466604,
          null,
          0.013680178394850851,
          0.06919746759233579,
          null,
          0.013680178394850851,
          0.01895638865899185,
          null,
          0.013680178394850851,
          0.047115820220933836,
          null,
          0.013680178394850851,
          0.06552834675447475,
          null,
          0.013680178394850851,
          0.08177591404045326,
          null,
          0.013680178394850851,
          0.06342195224005483,
          null,
          0.013680178394850851,
          -0.004432906188186803,
          null,
          0.013680178394850851,
          0.033537508902859677,
          null,
          0.01060853954907385,
          0.033296617581965664,
          null,
          0.01060853954907385,
          0.05040812067405629,
          null,
          0.01060853954907385,
          0.030950053917664942,
          null,
          0.01060853954907385,
          0.05544456323874458,
          null,
          0.01060853954907385,
          0.025927213425191113,
          null,
          0.01060853954907385,
          0.007754703055367104,
          null,
          0.01060853954907385,
          0.07839664919207061,
          null,
          0.01060853954907385,
          0.06096147515968698,
          null,
          0.01060853954907385,
          0.0762510658294252,
          null,
          0.01060853954907385,
          0.014140839833077186,
          null,
          0.01060853954907385,
          0.018669691135274866,
          null,
          0.01060853954907385,
          0.06376347455100868,
          null,
          0.01060853954907385,
          0.04602436372860766,
          null,
          0.01060853954907385,
          0.03490433310291857,
          null,
          0.01060853954907385,
          0.04280093882466604,
          null,
          0.01060853954907385,
          0.06919746759233579,
          null,
          0.01060853954907385,
          0.01895638865899185,
          null,
          0.01060853954907385,
          0.047115820220933836,
          null,
          0.01060853954907385,
          0.06552834675447475,
          null,
          0.01060853954907385,
          0.08177591404045326,
          null,
          0.01060853954907385,
          0.06342195224005483,
          null,
          0.01060853954907385,
          -0.004432906188186803,
          null,
          0.01060853954907385,
          0.033537508902859677,
          null,
          -0.4034938490628702,
          -0.4639470591712973,
          null,
          0.033296617581965664,
          0.05544456323874458,
          null,
          0.033296617581965664,
          0.007754703055367104,
          null,
          0.033296617581965664,
          0.030950053917664942,
          null,
          0.033296617581965664,
          0.05040812067405629,
          null,
          0.033296617581965664,
          0.025927213425191113,
          null,
          0.033296617581965664,
          0.07839664919207061,
          null,
          0.033296617581965664,
          0.06096147515968698,
          null,
          0.033296617581965664,
          0.0762510658294252,
          null,
          0.033296617581965664,
          0.014140839833077186,
          null,
          0.033296617581965664,
          0.018669691135274866,
          null,
          0.033296617581965664,
          0.06376347455100868,
          null,
          0.033296617581965664,
          0.04602436372860766,
          null,
          0.033296617581965664,
          0.03490433310291857,
          null,
          0.033296617581965664,
          0.04280093882466604,
          null,
          0.033296617581965664,
          0.06919746759233579,
          null,
          0.033296617581965664,
          0.01895638865899185,
          null,
          0.033296617581965664,
          0.047115820220933836,
          null,
          0.033296617581965664,
          0.06552834675447475,
          null,
          0.033296617581965664,
          0.08177591404045326,
          null,
          0.033296617581965664,
          -0.004432906188186803,
          null,
          0.033296617581965664,
          0.06342195224005483,
          null,
          0.033296617581965664,
          0.033537508902859677,
          null,
          0.05544456323874458,
          0.05040812067405629,
          null,
          0.05544456323874458,
          0.030950053917664942,
          null,
          0.05544456323874458,
          0.025927213425191113,
          null,
          0.05544456323874458,
          0.07839664919207061,
          null,
          0.05544456323874458,
          0.06096147515968698,
          null,
          0.05544456323874458,
          0.0762510658294252,
          null,
          0.05544456323874458,
          0.007754703055367104,
          null,
          0.05544456323874458,
          0.014140839833077186,
          null,
          0.05544456323874458,
          0.018669691135274866,
          null,
          0.05544456323874458,
          0.06376347455100868,
          null,
          0.05544456323874458,
          0.04602436372860766,
          null,
          0.05544456323874458,
          0.03490433310291857,
          null,
          0.05544456323874458,
          0.04280093882466604,
          null,
          0.05544456323874458,
          0.06919746759233579,
          null,
          0.05544456323874458,
          0.01895638865899185,
          null,
          0.05544456323874458,
          0.047115820220933836,
          null,
          0.05544456323874458,
          0.06552834675447475,
          null,
          0.05544456323874458,
          0.08177591404045326,
          null,
          0.05544456323874458,
          -0.004432906188186803,
          null,
          0.05544456323874458,
          0.06342195224005483,
          null,
          0.05544456323874458,
          0.033537508902859677,
          null,
          0.05040812067405629,
          0.0762510658294252,
          null,
          0.05040812067405629,
          0.07839664919207061,
          null,
          0.05040812067405629,
          0.025927213425191113,
          null,
          0.05040812067405629,
          0.030950053917664942,
          null,
          0.05040812067405629,
          0.007754703055367104,
          null,
          0.05040812067405629,
          0.06096147515968698,
          null,
          0.05040812067405629,
          0.014140839833077186,
          null,
          0.05040812067405629,
          0.018669691135274866,
          null,
          0.05040812067405629,
          0.06376347455100868,
          null,
          0.05040812067405629,
          0.04602436372860766,
          null,
          0.05040812067405629,
          0.04280093882466604,
          null,
          0.05040812067405629,
          0.03490433310291857,
          null,
          0.05040812067405629,
          0.06919746759233579,
          null,
          0.05040812067405629,
          0.047115820220933836,
          null,
          0.05040812067405629,
          0.06552834675447475,
          null,
          0.05040812067405629,
          0.01895638865899185,
          null,
          0.05040812067405629,
          0.06342195224005483,
          null,
          0.05040812067405629,
          0.08177591404045326,
          null,
          0.05040812067405629,
          -0.004432906188186803,
          null,
          0.05040812067405629,
          0.033537508902859677,
          null,
          0.030950053917664942,
          0.06096147515968698,
          null,
          0.030950053917664942,
          0.07839664919207061,
          null,
          0.030950053917664942,
          0.025927213425191113,
          null,
          0.030950053917664942,
          0.007754703055367104,
          null,
          0.030950053917664942,
          0.0762510658294252,
          null,
          0.030950053917664942,
          0.014140839833077186,
          null,
          0.030950053917664942,
          0.018669691135274866,
          null,
          0.030950053917664942,
          0.03490433310291857,
          null,
          0.030950053917664942,
          0.04602436372860766,
          null,
          0.030950053917664942,
          0.04280093882466604,
          null,
          0.030950053917664942,
          0.06376347455100868,
          null,
          0.030950053917664942,
          0.06919746759233579,
          null,
          0.030950053917664942,
          0.01895638865899185,
          null,
          0.030950053917664942,
          0.06552834675447475,
          null,
          0.030950053917664942,
          0.047115820220933836,
          null,
          0.030950053917664942,
          0.08177591404045326,
          null,
          0.030950053917664942,
          -0.004432906188186803,
          null,
          0.030950053917664942,
          0.06342195224005483,
          null,
          0.030950053917664942,
          0.033537508902859677,
          null,
          0.007754703055367104,
          0.07839664919207061,
          null,
          0.007754703055367104,
          0.06096147515968698,
          null,
          0.007754703055367104,
          0.0762510658294252,
          null,
          0.007754703055367104,
          0.025927213425191113,
          null,
          0.007754703055367104,
          0.014140839833077186,
          null,
          0.007754703055367104,
          0.018669691135274866,
          null,
          0.007754703055367104,
          0.04602436372860766,
          null,
          0.007754703055367104,
          0.03490433310291857,
          null,
          0.007754703055367104,
          0.06376347455100868,
          null,
          0.007754703055367104,
          0.04280093882466604,
          null,
          0.007754703055367104,
          0.06919746759233579,
          null,
          0.007754703055367104,
          0.06552834675447475,
          null,
          0.007754703055367104,
          0.01895638865899185,
          null,
          0.007754703055367104,
          0.047115820220933836,
          null,
          0.025927213425191113,
          0.07839664919207061,
          null,
          0.025927213425191113,
          0.06096147515968698,
          null,
          0.025927213425191113,
          0.0762510658294252,
          null,
          0.025927213425191113,
          0.04280093882466604,
          null,
          0.025927213425191113,
          0.018669691135274866,
          null,
          0.025927213425191113,
          0.014140839833077186,
          null,
          0.025927213425191113,
          0.03490433310291857,
          null,
          0.025927213425191113,
          0.06376347455100868,
          null,
          0.025927213425191113,
          0.04602436372860766,
          null,
          0.025927213425191113,
          0.06919746759233579,
          null,
          0.025927213425191113,
          0.01895638865899185,
          null,
          0.025927213425191113,
          0.047115820220933836,
          null,
          0.025927213425191113,
          0.06552834675447475,
          null,
          0.025927213425191113,
          0.08177591404045326,
          null,
          0.025927213425191113,
          0.06342195224005483,
          null,
          0.025927213425191113,
          -0.004432906188186803,
          null,
          0.025927213425191113,
          0.033537508902859677,
          null,
          0.06096147515968698,
          0.018669691135274866,
          null,
          0.06096147515968698,
          0.03490433310291857,
          null,
          0.06096147515968698,
          0.07839664919207061,
          null,
          0.06096147515968698,
          0.014140839833077186,
          null,
          0.06096147515968698,
          0.0762510658294252,
          null,
          0.06096147515968698,
          0.04280093882466604,
          null,
          0.06096147515968698,
          0.04602436372860766,
          null,
          0.06096147515968698,
          0.06376347455100868,
          null,
          0.06096147515968698,
          0.01895638865899185,
          null,
          0.06096147515968698,
          0.06919746759233579,
          null,
          0.06096147515968698,
          0.06552834675447475,
          null,
          0.06096147515968698,
          0.08177591404045326,
          null,
          0.06096147515968698,
          -0.004432906188186803,
          null,
          0.0762510658294252,
          0.06376347455100868,
          null,
          0.0762510658294252,
          0.04602436372860766,
          null,
          0.0762510658294252,
          0.07839664919207061,
          null,
          0.0762510658294252,
          0.014140839833077186,
          null,
          0.0762510658294252,
          0.04280093882466604,
          null,
          0.0762510658294252,
          0.018669691135274866,
          null,
          0.0762510658294252,
          0.03490433310291857,
          null,
          0.0762510658294252,
          0.047115820220933836,
          null,
          0.0762510658294252,
          0.06919746759233579,
          null,
          0.0762510658294252,
          0.06552834675447475,
          null,
          0.0762510658294252,
          0.06342195224005483,
          null,
          0.0762510658294252,
          0.08177591404045326,
          null,
          0.07839664919207061,
          0.018669691135274866,
          null,
          0.07839664919207061,
          0.04602436372860766,
          null,
          0.07839664919207061,
          0.014140839833077186,
          null,
          0.07839664919207061,
          0.04280093882466604,
          null,
          0.07839664919207061,
          0.06376347455100868,
          null,
          0.07839664919207061,
          0.03490433310291857,
          null,
          0.07839664919207061,
          0.06919746759233579,
          null,
          0.07839664919207061,
          0.01895638865899185,
          null,
          0.07839664919207061,
          0.047115820220933836,
          null,
          0.07839664919207061,
          0.06552834675447475,
          null,
          0.07839664919207061,
          0.06342195224005483,
          null,
          0.07839664919207061,
          0.08177591404045326,
          null,
          0.014140839833077186,
          0.018669691135274866,
          null,
          0.014140839833077186,
          0.04602436372860766,
          null,
          0.014140839833077186,
          0.06376347455100868,
          null,
          0.014140839833077186,
          0.03490433310291857,
          null,
          0.014140839833077186,
          0.04280093882466604,
          null,
          0.014140839833077186,
          0.06552834675447475,
          null,
          0.018669691135274866,
          0.04280093882466604,
          null,
          0.018669691135274866,
          0.03490433310291857,
          null,
          0.018669691135274866,
          0.06376347455100868,
          null,
          0.018669691135274866,
          0.04602436372860766,
          null,
          0.018669691135274866,
          0.06919746759233579,
          null,
          0.018669691135274866,
          0.01895638865899185,
          null,
          0.018669691135274866,
          0.06552834675447475,
          null,
          0.03490433310291857,
          0.04280093882466604,
          null,
          0.03490433310291857,
          0.01895638865899185,
          null,
          0.03490433310291857,
          0.04602436372860766,
          null,
          0.03490433310291857,
          0.06376347455100868,
          null,
          0.03490433310291857,
          0.06919746759233579,
          null,
          0.03490433310291857,
          0.06552834675447475,
          null,
          0.06376347455100868,
          0.04280093882466604,
          null,
          0.06376347455100868,
          0.047115820220933836,
          null,
          0.06376347455100868,
          0.04602436372860766,
          null,
          0.06376347455100868,
          0.06919746759233579,
          null,
          0.06376347455100868,
          0.06552834675447475,
          null,
          0.04602436372860766,
          0.04280093882466604,
          null,
          0.04602436372860766,
          0.06919746759233579,
          null,
          0.04602436372860766,
          0.047115820220933836,
          null,
          0.04602436372860766,
          0.06552834675447475,
          null,
          0.04280093882466604,
          0.06919746759233579,
          null,
          0.04280093882466604,
          0.01895638865899185,
          null,
          0.04280093882466604,
          0.047115820220933836,
          null,
          0.04280093882466604,
          -0.004432906188186803,
          null,
          0.04280093882466604,
          0.08177591404045326,
          null,
          0.04280093882466604,
          0.06342195224005483,
          null,
          0.04280093882466604,
          0.033537508902859677,
          null,
          0.04280093882466604,
          0.06552834675447475,
          null,
          0.06919746759233579,
          0.047115820220933836,
          null,
          0.06919746759233579,
          0.01895638865899185,
          null,
          0.06919746759233579,
          -0.004432906188186803,
          null,
          0.06919746759233579,
          0.08177591404045326,
          null,
          0.06919746759233579,
          0.06342195224005483,
          null,
          0.06919746759233579,
          0.033537508902859677,
          null,
          0.5876103008020401,
          0.63665211587886,
          null,
          0.6290752690628332,
          0.5833895643359863,
          null,
          0.047115820220933836,
          -0.004432906188186803,
          null,
          0.047115820220933836,
          0.06342195224005483,
          null,
          0.047115820220933836,
          0.08177591404045326,
          null,
          0.047115820220933836,
          0.033537508902859677,
          null,
          0.047115820220933836,
          0.01895638865899185,
          null,
          0.01895638865899185,
          -0.004432906188186803,
          null,
          0.01895638865899185,
          0.08177591404045326,
          null,
          0.01895638865899185,
          0.06342195224005483,
          null,
          0.01895638865899185,
          0.033537508902859677,
          null,
          0.1948675224665302,
          0.18522118543134217,
          null,
          0.08177591404045326,
          0.033537508902859677,
          null,
          0.06342195224005483,
          0.033537508902859677,
          null,
          0.14862161374722194,
          0.06552834675447475,
          null,
          -1,
          -0.9485669384839048,
          null,
          -0.4639470591712973,
          -0.563330666598342,
          null,
          -0.4639470591712973,
          -0.43893244458395325,
          null,
          -0.4639470591712973,
          -0.5379495604270208,
          null,
          -0.4639470591712973,
          -0.5494718866795691,
          null,
          -0.4639470591712973,
          -0.5102372246274174,
          null,
          0.7581079029645656,
          0.7488298802195886,
          null,
          -0.1624920057489184,
          -0.21290962455481252,
          null
         ]
        },
        {
         "hoverinfo": "text",
         "hovertext": [
          "active_usage_months<br>Correlations:<br>zero_usage_months: 1.00",
          "zero_usage_months<br>Correlations:<br>active_usage_months: 1.00",
          "avg_delta_3mo<br>Correlations:<br>max_delta_3mo_increase: 1.00<br>max_delta_3mo_decrease: 1.00<br>last_1_delta_3mo: 1.00<br>avg_delta_1mo: 1.00<br>avg_delta_2mo: 0.71",
          "max_delta_3mo_increase<br>Correlations:<br>avg_delta_3mo: 1.00<br>max_delta_3mo_decrease: 1.00<br>last_1_delta_3mo: 1.00<br>avg_delta_1mo: 1.00<br>avg_delta_2mo: 0.71",
          "max_delta_3mo_decrease<br>Correlations:<br>avg_delta_3mo: 1.00<br>max_delta_3mo_increase: 1.00<br>last_1_delta_3mo: 1.00<br>avg_delta_1mo: 1.00<br>avg_delta_2mo: 0.71",
          "last_1_delta_3mo<br>Correlations:<br>avg_delta_3mo: 1.00<br>max_delta_3mo_increase: 1.00<br>max_delta_3mo_decrease: 1.00<br>avg_delta_1mo: 1.00<br>avg_delta_2mo: 0.71",
          "avg_monthly_usage_gb<br>Correlations:<br>total_usage_gb: 1.00<br>median_monthly_usage_gb: 0.99<br>last_2_3mo_rolling_avg: 0.99<br>last_1_3mo_rolling_avg: 0.99<br>usage_q75_gb: 0.99<br>max_monthly_usage_gb: 0.99<br>usage_q25_gb: 0.98<br>last_2_2mo_rolling_avg: 0.97<br>last_1_2mo_rolling_avg: 0.97<br>last_3_2mo_rolling_avg: 0.97<br>min_monthly_usage_gb: 0.95<br>last_3_month_usage_gb: 0.93<br>last_1_month_usage_gb: 0.93<br>last_2_month_usage_gb: 0.93<br>last_4_month_usage_gb: 0.93<br>usage_std_gb: 0.89<br>delta_1mo_volatility: 0.83<br>max_delta_1mo_increase: 0.77<br>max_delta_1mo_decrease: 0.77<br>contract_lifetime_days: 0.76<br>last_3_2mo_rolling_stdev: 0.72<br>last_1_2mo_rolling_stdev: 0.72<br>last_2_2mo_rolling_stdev: 0.72<br>delta_2mo_volatility: 0.71",
          "total_usage_gb<br>Correlations:<br>avg_monthly_usage_gb: 1.00<br>median_monthly_usage_gb: 0.99<br>last_2_3mo_rolling_avg: 0.99<br>last_1_3mo_rolling_avg: 0.99<br>usage_q75_gb: 0.99<br>max_monthly_usage_gb: 0.99<br>usage_q25_gb: 0.98<br>last_2_2mo_rolling_avg: 0.97<br>last_1_2mo_rolling_avg: 0.97<br>last_3_2mo_rolling_avg: 0.97<br>min_monthly_usage_gb: 0.95<br>last_3_month_usage_gb: 0.93<br>last_1_month_usage_gb: 0.93<br>last_2_month_usage_gb: 0.93<br>last_4_month_usage_gb: 0.93<br>usage_std_gb: 0.89<br>delta_1mo_volatility: 0.83<br>max_delta_1mo_increase: 0.77<br>max_delta_1mo_decrease: 0.77<br>contract_lifetime_days: 0.76<br>last_3_2mo_rolling_stdev: 0.72<br>last_1_2mo_rolling_stdev: 0.72<br>last_2_2mo_rolling_stdev: 0.72<br>delta_2mo_volatility: 0.71",
          "avg_delta_1mo<br>Correlations:<br>avg_delta_3mo: 1.00<br>max_delta_3mo_increase: 1.00<br>max_delta_3mo_decrease: 1.00<br>last_1_delta_3mo: 1.00<br>avg_delta_2mo: 0.71",
          "median_monthly_usage_gb<br>Correlations:<br>avg_monthly_usage_gb: 0.99<br>total_usage_gb: 0.99<br>usage_q75_gb: 0.99<br>usage_q25_gb: 0.99<br>last_1_3mo_rolling_avg: 0.99<br>last_2_3mo_rolling_avg: 0.99<br>max_monthly_usage_gb: 0.97<br>last_2_2mo_rolling_avg: 0.97<br>last_1_2mo_rolling_avg: 0.97<br>last_3_2mo_rolling_avg: 0.97<br>min_monthly_usage_gb: 0.94<br>last_3_month_usage_gb: 0.92<br>last_1_month_usage_gb: 0.92<br>last_2_month_usage_gb: 0.92<br>last_4_month_usage_gb: 0.92<br>usage_std_gb: 0.88<br>delta_1mo_volatility: 0.82<br>max_delta_1mo_increase: 0.76<br>max_delta_1mo_decrease: 0.76<br>contract_lifetime_days: 0.75<br>last_3_2mo_rolling_stdev: 0.71<br>last_2_2mo_rolling_stdev: 0.71<br>last_1_2mo_rolling_stdev: 0.71<br>delta_2mo_volatility: 0.70",
          "usage_q75_gb<br>Correlations:<br>median_monthly_usage_gb: 0.99<br>total_usage_gb: 0.99<br>avg_monthly_usage_gb: 0.99<br>last_2_3mo_rolling_avg: 0.98<br>last_1_3mo_rolling_avg: 0.98<br>max_monthly_usage_gb: 0.97<br>last_2_2mo_rolling_avg: 0.96<br>last_1_2mo_rolling_avg: 0.96<br>last_3_2mo_rolling_avg: 0.96<br>usage_q25_gb: 0.96<br>min_monthly_usage_gb: 0.92<br>last_3_month_usage_gb: 0.92<br>last_1_month_usage_gb: 0.92<br>last_2_month_usage_gb: 0.92<br>last_4_month_usage_gb: 0.92<br>usage_std_gb: 0.90<br>delta_1mo_volatility: 0.85<br>max_delta_1mo_increase: 0.78<br>max_delta_1mo_decrease: 0.78<br>contract_lifetime_days: 0.75<br>last_3_2mo_rolling_stdev: 0.73<br>last_2_2mo_rolling_stdev: 0.73<br>last_1_2mo_rolling_stdev: 0.73<br>delta_2mo_volatility: 0.71",
          "last_2_3mo_rolling_avg<br>Correlations:<br>avg_monthly_usage_gb: 0.99<br>total_usage_gb: 0.99<br>median_monthly_usage_gb: 0.99<br>last_3_2mo_rolling_avg: 0.98<br>last_2_2mo_rolling_avg: 0.98<br>usage_q75_gb: 0.98<br>max_monthly_usage_gb: 0.98<br>last_1_3mo_rolling_avg: 0.98<br>usage_q25_gb: 0.97<br>last_1_2mo_rolling_avg: 0.95<br>min_monthly_usage_gb: 0.95<br>last_3_month_usage_gb: 0.94<br>last_1_month_usage_gb: 0.94<br>last_2_month_usage_gb: 0.94<br>usage_std_gb: 0.88<br>last_4_month_usage_gb: 0.87<br>delta_1mo_volatility: 0.83<br>max_delta_1mo_decrease: 0.80<br>contract_lifetime_days: 0.76<br>max_delta_1mo_increase: 0.73<br>last_1_2mo_rolling_stdev: 0.71<br>last_3_2mo_rolling_stdev: 0.71<br>last_2_2mo_rolling_stdev: 0.71<br>delta_2mo_volatility: 0.71",
          "last_1_3mo_rolling_avg<br>Correlations:<br>total_usage_gb: 0.99<br>avg_monthly_usage_gb: 0.99<br>median_monthly_usage_gb: 0.99<br>last_1_2mo_rolling_avg: 0.98<br>last_2_2mo_rolling_avg: 0.98<br>usage_q75_gb: 0.98<br>max_monthly_usage_gb: 0.98<br>last_2_3mo_rolling_avg: 0.98<br>usage_q25_gb: 0.97<br>last_3_2mo_rolling_avg: 0.95<br>min_monthly_usage_gb: 0.95<br>last_3_month_usage_gb: 0.94<br>last_4_month_usage_gb: 0.94<br>last_2_month_usage_gb: 0.93<br>usage_std_gb: 0.88<br>last_1_month_usage_gb: 0.87<br>delta_1mo_volatility: 0.83<br>max_delta_1mo_increase: 0.80<br>contract_lifetime_days: 0.76<br>max_delta_1mo_decrease: 0.73<br>last_3_2mo_rolling_stdev: 0.71<br>last_2_2mo_rolling_stdev: 0.71<br>last_1_2mo_rolling_stdev: 0.71<br>delta_2mo_volatility: 0.71",
          "usage_q25_gb<br>Correlations:<br>median_monthly_usage_gb: 0.99<br>avg_monthly_usage_gb: 0.98<br>total_usage_gb: 0.98<br>last_1_3mo_rolling_avg: 0.97<br>last_2_3mo_rolling_avg: 0.97<br>usage_q75_gb: 0.96<br>last_2_2mo_rolling_avg: 0.96<br>last_1_2mo_rolling_avg: 0.95<br>last_3_2mo_rolling_avg: 0.95<br>max_monthly_usage_gb: 0.94<br>min_monthly_usage_gb: 0.94<br>last_3_month_usage_gb: 0.91<br>last_2_month_usage_gb: 0.91<br>last_4_month_usage_gb: 0.91<br>last_1_month_usage_gb: 0.91<br>usage_std_gb: 0.82<br>delta_1mo_volatility: 0.77<br>contract_lifetime_days: 0.73<br>max_delta_1mo_increase: 0.71<br>max_delta_1mo_decrease: 0.71",
          "max_monthly_usage_gb<br>Correlations:<br>total_usage_gb: 0.99<br>avg_monthly_usage_gb: 0.99<br>last_1_3mo_rolling_avg: 0.98<br>last_2_3mo_rolling_avg: 0.98<br>usage_q75_gb: 0.97<br>median_monthly_usage_gb: 0.97<br>last_2_2mo_rolling_avg: 0.96<br>last_1_2mo_rolling_avg: 0.96<br>last_3_2mo_rolling_avg: 0.96<br>usage_q25_gb: 0.94<br>usage_std_gb: 0.94<br>last_3_month_usage_gb: 0.91<br>min_monthly_usage_gb: 0.91<br>last_4_month_usage_gb: 0.91<br>last_1_month_usage_gb: 0.91<br>last_2_month_usage_gb: 0.91<br>delta_1mo_volatility: 0.89<br>max_delta_1mo_increase: 0.82<br>max_delta_1mo_decrease: 0.82<br>contract_lifetime_days: 0.77<br>last_3_2mo_rolling_stdev: 0.76<br>last_1_2mo_rolling_stdev: 0.76<br>last_2_2mo_rolling_stdev: 0.76<br>delta_2mo_volatility: 0.76",
          "last_1_2mo_rolling_avg<br>Correlations:<br>last_1_3mo_rolling_avg: 0.98<br>total_usage_gb: 0.97<br>avg_monthly_usage_gb: 0.97<br>median_monthly_usage_gb: 0.97<br>usage_q75_gb: 0.96<br>max_monthly_usage_gb: 0.96<br>usage_q25_gb: 0.95<br>last_3_month_usage_gb: 0.95<br>last_4_month_usage_gb: 0.95<br>last_2_2mo_rolling_avg: 0.95<br>last_2_3mo_rolling_avg: 0.95<br>min_monthly_usage_gb: 0.93<br>last_3_2mo_rolling_avg: 0.90<br>usage_std_gb: 0.87<br>last_2_month_usage_gb: 0.85<br>last_1_month_usage_gb: 0.85<br>max_delta_1mo_increase: 0.81<br>delta_1mo_volatility: 0.81<br>contract_lifetime_days: 0.74<br>last_3_2mo_rolling_stdev: 0.70<br>last_2_2mo_rolling_stdev: 0.70",
          "last_3_2mo_rolling_avg<br>Correlations:<br>last_2_3mo_rolling_avg: 0.98<br>avg_monthly_usage_gb: 0.97<br>total_usage_gb: 0.97<br>median_monthly_usage_gb: 0.97<br>usage_q75_gb: 0.96<br>max_monthly_usage_gb: 0.96<br>usage_q25_gb: 0.95<br>last_1_month_usage_gb: 0.95<br>last_2_month_usage_gb: 0.95<br>last_2_2mo_rolling_avg: 0.95<br>last_1_3mo_rolling_avg: 0.95<br>min_monthly_usage_gb: 0.93<br>last_1_2mo_rolling_avg: 0.90<br>usage_std_gb: 0.87<br>last_3_month_usage_gb: 0.85<br>last_4_month_usage_gb: 0.85<br>max_delta_1mo_decrease: 0.81<br>delta_1mo_volatility: 0.81<br>contract_lifetime_days: 0.74<br>last_1_2mo_rolling_stdev: 0.70<br>last_3_2mo_rolling_stdev: 0.70",
          "last_2_2mo_rolling_avg<br>Correlations:<br>last_1_3mo_rolling_avg: 0.98<br>last_2_3mo_rolling_avg: 0.98<br>avg_monthly_usage_gb: 0.97<br>total_usage_gb: 0.97<br>median_monthly_usage_gb: 0.97<br>usage_q75_gb: 0.96<br>max_monthly_usage_gb: 0.96<br>usage_q25_gb: 0.96<br>last_3_month_usage_gb: 0.95<br>last_2_month_usage_gb: 0.95<br>last_3_2mo_rolling_avg: 0.95<br>last_1_2mo_rolling_avg: 0.95<br>min_monthly_usage_gb: 0.93<br>usage_std_gb: 0.87<br>last_1_month_usage_gb: 0.85<br>last_4_month_usage_gb: 0.85<br>delta_1mo_volatility: 0.81<br>max_delta_1mo_increase: 0.75<br>max_delta_1mo_decrease: 0.75<br>contract_lifetime_days: 0.74<br>last_1_2mo_rolling_stdev: 0.70<br>last_3_2mo_rolling_stdev: 0.70",
          "min_monthly_usage_gb<br>Correlations:<br>avg_monthly_usage_gb: 0.95<br>total_usage_gb: 0.95<br>last_2_3mo_rolling_avg: 0.95<br>last_1_3mo_rolling_avg: 0.95<br>usage_q25_gb: 0.94<br>median_monthly_usage_gb: 0.94<br>last_2_2mo_rolling_avg: 0.93<br>last_3_2mo_rolling_avg: 0.93<br>last_1_2mo_rolling_avg: 0.93<br>usage_q75_gb: 0.92<br>max_monthly_usage_gb: 0.91<br>last_3_month_usage_gb: 0.89<br>last_2_month_usage_gb: 0.88<br>last_1_month_usage_gb: 0.88<br>last_4_month_usage_gb: 0.88<br>usage_std_gb: 0.74<br>contract_lifetime_days: 0.71",
          "last_3_month_usage_gb<br>Correlations:<br>last_1_2mo_rolling_avg: 0.95<br>last_2_2mo_rolling_avg: 0.95<br>last_1_3mo_rolling_avg: 0.94<br>last_2_3mo_rolling_avg: 0.94<br>total_usage_gb: 0.93<br>avg_monthly_usage_gb: 0.93<br>median_monthly_usage_gb: 0.92<br>usage_q75_gb: 0.92<br>max_monthly_usage_gb: 0.91<br>usage_q25_gb: 0.91<br>min_monthly_usage_gb: 0.89<br>last_3_2mo_rolling_avg: 0.85<br>usage_std_gb: 0.82<br>last_4_month_usage_gb: 0.81<br>last_1_month_usage_gb: 0.81<br>last_2_month_usage_gb: 0.81<br>delta_1mo_volatility: 0.77<br>max_delta_1mo_increase: 0.74<br>contract_lifetime_days: 0.71",
          "last_4_month_usage_gb<br>Correlations:<br>last_1_2mo_rolling_avg: 0.95<br>last_1_3mo_rolling_avg: 0.94<br>total_usage_gb: 0.93<br>avg_monthly_usage_gb: 0.93<br>median_monthly_usage_gb: 0.92<br>usage_q75_gb: 0.92<br>max_monthly_usage_gb: 0.91<br>usage_q25_gb: 0.91<br>min_monthly_usage_gb: 0.88<br>last_2_3mo_rolling_avg: 0.87<br>last_2_2mo_rolling_avg: 0.85<br>last_3_2mo_rolling_avg: 0.85<br>usage_std_gb: 0.83<br>max_delta_1mo_increase: 0.81<br>last_3_month_usage_gb: 0.81<br>last_2_month_usage_gb: 0.81<br>last_1_month_usage_gb: 0.81<br>delta_1mo_volatility: 0.77<br>contract_lifetime_days: 0.71",
          "last_1_month_usage_gb<br>Correlations:<br>last_3_2mo_rolling_avg: 0.95<br>last_2_3mo_rolling_avg: 0.94<br>total_usage_gb: 0.93<br>avg_monthly_usage_gb: 0.93<br>median_monthly_usage_gb: 0.92<br>usage_q75_gb: 0.92<br>max_monthly_usage_gb: 0.91<br>usage_q25_gb: 0.91<br>min_monthly_usage_gb: 0.88<br>last_1_3mo_rolling_avg: 0.87<br>last_2_2mo_rolling_avg: 0.85<br>last_1_2mo_rolling_avg: 0.85<br>usage_std_gb: 0.82<br>max_delta_1mo_decrease: 0.81<br>last_3_month_usage_gb: 0.81<br>last_2_month_usage_gb: 0.81<br>last_4_month_usage_gb: 0.81<br>delta_1mo_volatility: 0.77<br>contract_lifetime_days: 0.71",
          "last_2_month_usage_gb<br>Correlations:<br>last_2_2mo_rolling_avg: 0.95<br>last_3_2mo_rolling_avg: 0.95<br>last_2_3mo_rolling_avg: 0.94<br>last_1_3mo_rolling_avg: 0.93<br>avg_monthly_usage_gb: 0.93<br>total_usage_gb: 0.93<br>median_monthly_usage_gb: 0.92<br>usage_q75_gb: 0.92<br>max_monthly_usage_gb: 0.91<br>usage_q25_gb: 0.91<br>min_monthly_usage_gb: 0.88<br>last_1_2mo_rolling_avg: 0.85<br>usage_std_gb: 0.82<br>last_3_month_usage_gb: 0.81<br>last_1_month_usage_gb: 0.81<br>last_4_month_usage_gb: 0.81<br>delta_1mo_volatility: 0.77<br>max_delta_1mo_decrease: 0.73<br>contract_lifetime_days: 0.71",
          "usage_std_gb<br>Correlations:<br>max_monthly_usage_gb: 0.94<br>delta_1mo_volatility: 0.94<br>usage_q75_gb: 0.90<br>total_usage_gb: 0.89<br>avg_monthly_usage_gb: 0.89<br>last_1_3mo_rolling_avg: 0.88<br>last_2_3mo_rolling_avg: 0.88<br>median_monthly_usage_gb: 0.88<br>max_delta_1mo_increase: 0.87<br>last_1_2mo_rolling_avg: 0.87<br>last_2_2mo_rolling_avg: 0.87<br>last_3_2mo_rolling_avg: 0.87<br>max_delta_1mo_decrease: 0.87<br>last_4_month_usage_gb: 0.83<br>last_3_month_usage_gb: 0.82<br>last_1_month_usage_gb: 0.82<br>last_2_month_usage_gb: 0.82<br>usage_q25_gb: 0.82<br>last_2_2mo_rolling_stdev: 0.81<br>last_3_2mo_rolling_stdev: 0.81<br>last_1_2mo_rolling_stdev: 0.81<br>delta_2mo_volatility: 0.79<br>min_monthly_usage_gb: 0.74<br>contract_lifetime_days: 0.73",
          "delta_1mo_volatility<br>Correlations:<br>usage_std_gb: 0.94<br>max_delta_1mo_decrease: 0.92<br>max_delta_1mo_increase: 0.92<br>max_monthly_usage_gb: 0.89<br>last_2_2mo_rolling_stdev: 0.85<br>usage_q75_gb: 0.85<br>total_usage_gb: 0.83<br>avg_monthly_usage_gb: 0.83<br>last_3_2mo_rolling_stdev: 0.83<br>last_1_2mo_rolling_stdev: 0.83<br>last_2_3mo_rolling_avg: 0.83<br>last_1_3mo_rolling_avg: 0.83<br>median_monthly_usage_gb: 0.82<br>last_3_2mo_rolling_avg: 0.81<br>last_1_2mo_rolling_avg: 0.81<br>last_2_2mo_rolling_avg: 0.81<br>delta_2mo_volatility: 0.79<br>last_1_month_usage_gb: 0.77<br>last_4_month_usage_gb: 0.77<br>last_3_month_usage_gb: 0.77<br>last_2_month_usage_gb: 0.77<br>usage_q25_gb: 0.77",
          "months_with_delta_3mo_decrease<br>Correlations:<br>months_with_delta_3mo_increase: 0.94",
          "months_with_delta_3mo_increase<br>Correlations:<br>months_with_delta_3mo_decrease: 0.94",
          "months_with_delta_2mo_decrease<br>Correlations:<br>months_with_delta_2mo_increase: 0.93",
          "months_with_delta_2mo_increase<br>Correlations:<br>months_with_delta_2mo_decrease: 0.93",
          "max_delta_1mo_decrease<br>Correlations:<br>delta_1mo_volatility: 0.92<br>usage_std_gb: 0.87<br>max_monthly_usage_gb: 0.82<br>last_1_month_usage_gb: 0.81<br>last_3_2mo_rolling_avg: 0.81<br>last_2_3mo_rolling_avg: 0.80<br>last_2_2mo_rolling_stdev: 0.79<br>usage_q75_gb: 0.78<br>total_usage_gb: 0.77<br>avg_monthly_usage_gb: 0.77<br>last_1_2mo_rolling_stdev: 0.77<br>last_3_2mo_rolling_stdev: 0.77<br>median_monthly_usage_gb: 0.76<br>last_2_2mo_rolling_avg: 0.75<br>delta_2mo_volatility: 0.74<br>last_2_month_usage_gb: 0.73<br>last_1_3mo_rolling_avg: 0.73<br>usage_q25_gb: 0.71<br>max_delta_1mo_increase: 0.71",
          "max_delta_1mo_increase<br>Correlations:<br>delta_1mo_volatility: 0.92<br>usage_std_gb: 0.87<br>max_monthly_usage_gb: 0.82<br>last_4_month_usage_gb: 0.81<br>last_1_2mo_rolling_avg: 0.81<br>last_1_3mo_rolling_avg: 0.80<br>last_2_2mo_rolling_stdev: 0.79<br>usage_q75_gb: 0.78<br>total_usage_gb: 0.77<br>avg_monthly_usage_gb: 0.77<br>last_3_2mo_rolling_stdev: 0.77<br>last_1_2mo_rolling_stdev: 0.76<br>median_monthly_usage_gb: 0.76<br>last_2_2mo_rolling_avg: 0.75<br>delta_2mo_volatility: 0.74<br>last_3_month_usage_gb: 0.74<br>last_2_3mo_rolling_avg: 0.73<br>usage_q25_gb: 0.71<br>max_delta_1mo_decrease: 0.71",
          "months_with_delta_1mo_decrease<br>Correlations:<br>months_with_delta_1mo_increase: 0.88",
          "months_with_delta_1mo_increase<br>Correlations:<br>months_with_delta_1mo_decrease: 0.88",
          "last_2_2mo_rolling_stdev<br>Correlations:<br>delta_1mo_volatility: 0.85<br>usage_std_gb: 0.81<br>max_delta_1mo_increase: 0.79<br>max_delta_1mo_decrease: 0.79<br>max_monthly_usage_gb: 0.76<br>usage_q75_gb: 0.73<br>total_usage_gb: 0.72<br>avg_monthly_usage_gb: 0.72<br>last_1_3mo_rolling_avg: 0.71<br>last_2_3mo_rolling_avg: 0.71<br>median_monthly_usage_gb: 0.71<br>last_1_2mo_rolling_avg: 0.70",
          "last_3_2mo_rolling_stdev<br>Correlations:<br>delta_1mo_volatility: 0.83<br>usage_std_gb: 0.81<br>max_delta_1mo_increase: 0.77<br>max_delta_1mo_decrease: 0.77<br>max_monthly_usage_gb: 0.76<br>usage_q75_gb: 0.73<br>delta_2mo_volatility: 0.73<br>total_usage_gb: 0.72<br>avg_monthly_usage_gb: 0.72<br>last_1_3mo_rolling_avg: 0.71<br>last_2_3mo_rolling_avg: 0.71<br>median_monthly_usage_gb: 0.71<br>last_1_2mo_rolling_avg: 0.70<br>last_3_2mo_rolling_avg: 0.70<br>last_2_2mo_rolling_avg: 0.70",
          "last_1_2mo_rolling_stdev<br>Correlations:<br>delta_1mo_volatility: 0.83<br>usage_std_gb: 0.81<br>max_delta_1mo_decrease: 0.77<br>max_monthly_usage_gb: 0.76<br>max_delta_1mo_increase: 0.76<br>delta_2mo_volatility: 0.73<br>usage_q75_gb: 0.73<br>total_usage_gb: 0.72<br>avg_monthly_usage_gb: 0.72<br>last_2_3mo_rolling_avg: 0.71<br>last_1_3mo_rolling_avg: 0.71<br>median_monthly_usage_gb: 0.71<br>last_3_2mo_rolling_avg: 0.70<br>last_2_2mo_rolling_avg: 0.70",
          "contract_binding_days<br>Correlations:<br>contract_lifetime_days: 0.82",
          "contract_lifetime_days<br>Correlations:<br>contract_binding_days: 0.82<br>max_monthly_usage_gb: 0.77<br>total_usage_gb: 0.76<br>avg_monthly_usage_gb: 0.76<br>last_1_3mo_rolling_avg: 0.76<br>last_2_3mo_rolling_avg: 0.76<br>usage_q75_gb: 0.75<br>median_monthly_usage_gb: 0.75<br>last_1_2mo_rolling_avg: 0.74<br>last_2_2mo_rolling_avg: 0.74<br>last_3_2mo_rolling_avg: 0.74<br>usage_q25_gb: 0.73<br>usage_std_gb: 0.73<br>min_monthly_usage_gb: 0.71<br>last_3_month_usage_gb: 0.71<br>last_4_month_usage_gb: 0.71<br>last_1_month_usage_gb: 0.71<br>last_2_month_usage_gb: 0.71",
          "is_bounded<br>Correlations:<br>remaining_binding_days: 0.80",
          "remaining_binding_days<br>Correlations:<br>is_bounded: 0.80",
          "delta_2mo_volatility<br>Correlations:<br>usage_std_gb: 0.79<br>delta_1mo_volatility: 0.79<br>max_monthly_usage_gb: 0.76<br>max_delta_1mo_increase: 0.74<br>max_delta_1mo_decrease: 0.74<br>last_3_2mo_rolling_stdev: 0.73<br>last_1_2mo_rolling_stdev: 0.73<br>total_usage_gb: 0.71<br>avg_monthly_usage_gb: 0.71<br>usage_q75_gb: 0.71<br>last_1_3mo_rolling_avg: 0.71<br>last_2_3mo_rolling_avg: 0.71<br>median_monthly_usage_gb: 0.70",
          "avg_delta_2mo<br>Correlations:<br>max_delta_2mo_increase: 0.76<br>max_delta_2mo_decrease: 0.76<br>avg_delta_3mo: 0.71<br>max_delta_3mo_increase: 0.71<br>max_delta_3mo_decrease: 0.71<br>last_1_delta_3mo: 0.71<br>avg_delta_1mo: 0.71<br>last_1_delta_2mo: 0.71<br>last_2_delta_2mo: 0.71<br>last_2_delta_1mo: 0.71",
          "max_delta_2mo_increase<br>Correlations:<br>avg_delta_2mo: 0.76",
          "max_delta_2mo_decrease<br>Correlations:<br>avg_delta_2mo: 0.76",
          "ever_used_roaming<br>Correlations:<br>months_with_roaming: 0.74",
          "months_with_roaming<br>Correlations:<br>ever_used_roaming: 0.74",
          "times_in_p1<br>Correlations:<br>times_in_p5: 0.73",
          "times_in_p5<br>Correlations:<br>times_in_p1: 0.73",
          "last_1_delta_2mo<br>Correlations:<br>avg_delta_2mo: 0.71",
          "last_2_delta_2mo<br>Correlations:<br>avg_delta_2mo: 0.71",
          "last_2_delta_1mo<br>Correlations:<br>avg_delta_2mo: 0.71"
         ],
         "marker": {
          "color": "#87ceeb",
          "line": {
           "width": 2
          },
          "showscale": false,
          "size": 20
         },
         "mode": "markers+text",
         "text": [
          "active_usage_months",
          "zero_usage_months",
          "avg_delta_3mo",
          "max_delta_3mo_increase",
          "max_delta_3mo_decrease",
          "last_1_delta_3mo",
          "avg_monthly_usage_gb",
          "total_usage_gb",
          "avg_delta_1mo",
          "median_monthly_usage_gb",
          "usage_q75_gb",
          "last_2_3mo_rolling_avg",
          "last_1_3mo_rolling_avg",
          "usage_q25_gb",
          "max_monthly_usage_gb",
          "last_1_2mo_rolling_avg",
          "last_3_2mo_rolling_avg",
          "last_2_2mo_rolling_avg",
          "min_monthly_usage_gb",
          "last_3_month_usage_gb",
          "last_4_month_usage_gb",
          "last_1_month_usage_gb",
          "last_2_month_usage_gb",
          "usage_std_gb",
          "delta_1mo_volatility",
          "months_with_delta_3mo_decrease",
          "months_with_delta_3mo_increase",
          "months_with_delta_2mo_decrease",
          "months_with_delta_2mo_increase",
          "max_delta_1mo_decrease",
          "max_delta_1mo_increase",
          "months_with_delta_1mo_decrease",
          "months_with_delta_1mo_increase",
          "last_2_2mo_rolling_stdev",
          "last_3_2mo_rolling_stdev",
          "last_1_2mo_rolling_stdev",
          "contract_binding_days",
          "contract_lifetime_days",
          "is_bounded",
          "remaining_binding_days",
          "delta_2mo_volatility",
          "avg_delta_2mo",
          "max_delta_2mo_increase",
          "max_delta_2mo_decrease",
          "ever_used_roaming",
          "months_with_roaming",
          "times_in_p1",
          "times_in_p5",
          "last_1_delta_2mo",
          "last_2_delta_2mo",
          "last_2_delta_1mo"
         ],
         "textposition": "top center",
         "type": "scatter",
         "x": [
          0.30062508994064047,
          0.29002735700705246,
          -0.6877601987943627,
          -0.6462720127477615,
          -0.6476611844871937,
          -0.6761906800861147,
          0.04072350701545492,
          0.02697103447625184,
          -0.6957009013765573,
          0.03634282739995606,
          0.043115700043350066,
          0.032115186677320454,
          0.047630293361907355,
          0.005662758526142373,
          0.021082944267790744,
          0.014152094370218263,
          0.006135460491715012,
          0.02395788528484669,
          -0.024825924933807,
          -0.007368853264002389,
          -0.020270624058809774,
          -0.010976098487978689,
          -0.009900173669675582,
          0.01863948572544122,
          0.04760680333386235,
          0.9619836725236782,
          0.9492238593518422,
          -0.6193788776279581,
          -0.6420865123169351,
          0.06853324248171641,
          0.06698917063142834,
          0.9121775980004742,
          0.8370228598092653,
          0.07426105735768147,
          0.06877052120178258,
          0.08543737557033595,
          -0.13195928539812202,
          -0.03295495068375101,
          0.3425562569743287,
          0.32098917193969806,
          0.09595733175233562,
          -0.6343681049582229,
          -0.6424137426645636,
          -0.5348542617917056,
          0.4997566959004347,
          0.4499444550161705,
          0.9920046709331847,
          0.9969284797732308,
          -0.5838218244096982,
          -0.6948689042206556,
          -0.7336917311616632
         ],
         "y": [
          0.9810410749883002,
          0.9219084107299993,
          -0.4330268864027645,
          -0.41810802902453725,
          -0.3903521426086394,
          -0.38158983606878677,
          0.013680178394850851,
          0.01060853954907385,
          -0.4034938490628702,
          0.033296617581965664,
          0.05544456323874458,
          0.05040812067405629,
          0.030950053917664942,
          0.007754703055367104,
          0.025927213425191113,
          0.06096147515968698,
          0.0762510658294252,
          0.07839664919207061,
          0.014140839833077186,
          0.018669691135274866,
          0.03490433310291857,
          0.06376347455100868,
          0.04602436372860766,
          0.04280093882466604,
          0.06919746759233579,
          0.5876103008020401,
          0.63665211587886,
          0.6290752690628332,
          0.5833895643359863,
          0.047115820220933836,
          0.01895638865899185,
          0.1948675224665302,
          0.18522118543134217,
          -0.004432906188186803,
          0.08177591404045326,
          0.06342195224005483,
          0.14862161374722194,
          0.06552834675447475,
          -1,
          -0.9485669384839048,
          0.033537508902859677,
          -0.4639470591712973,
          -0.563330666598342,
          -0.43893244458395325,
          0.7581079029645656,
          0.7488298802195886,
          -0.1624920057489184,
          -0.21290962455481252,
          -0.5379495604270208,
          -0.5494718866795691,
          -0.5102372246274174
         ]
        }
       ],
       "layout": {
        "height": 800,
        "hovermode": "closest",
        "margin": {
         "b": 20,
         "l": 5,
         "r": 5,
         "t": 40
        },
        "showlegend": false,
        "template": {
         "data": {
          "bar": [
           {
            "error_x": {
             "color": "#2a3f5f"
            },
            "error_y": {
             "color": "#2a3f5f"
            },
            "marker": {
             "line": {
              "color": "#E5ECF6",
              "width": 0.5
             },
             "pattern": {
              "fillmode": "overlay",
              "size": 10,
              "solidity": 0.2
             }
            },
            "type": "bar"
           }
          ],
          "barpolar": [
           {
            "marker": {
             "line": {
              "color": "#E5ECF6",
              "width": 0.5
             },
             "pattern": {
              "fillmode": "overlay",
              "size": 10,
              "solidity": 0.2
             }
            },
            "type": "barpolar"
           }
          ],
          "carpet": [
           {
            "aaxis": {
             "endlinecolor": "#2a3f5f",
             "gridcolor": "white",
             "linecolor": "white",
             "minorgridcolor": "white",
             "startlinecolor": "#2a3f5f"
            },
            "baxis": {
             "endlinecolor": "#2a3f5f",
             "gridcolor": "white",
             "linecolor": "white",
             "minorgridcolor": "white",
             "startlinecolor": "#2a3f5f"
            },
            "type": "carpet"
           }
          ],
          "choropleth": [
           {
            "colorbar": {
             "outlinewidth": 0,
             "ticks": ""
            },
            "type": "choropleth"
           }
          ],
          "contour": [
           {
            "colorbar": {
             "outlinewidth": 0,
             "ticks": ""
            },
            "colorscale": [
             [
              0,
              "#0d0887"
             ],
             [
              0.1111111111111111,
              "#46039f"
             ],
             [
              0.2222222222222222,
              "#7201a8"
             ],
             [
              0.3333333333333333,
              "#9c179e"
             ],
             [
              0.4444444444444444,
              "#bd3786"
             ],
             [
              0.5555555555555556,
              "#d8576b"
             ],
             [
              0.6666666666666666,
              "#ed7953"
             ],
             [
              0.7777777777777778,
              "#fb9f3a"
             ],
             [
              0.8888888888888888,
              "#fdca26"
             ],
             [
              1,
              "#f0f921"
             ]
            ],
            "type": "contour"
           }
          ],
          "contourcarpet": [
           {
            "colorbar": {
             "outlinewidth": 0,
             "ticks": ""
            },
            "type": "contourcarpet"
           }
          ],
          "heatmap": [
           {
            "colorbar": {
             "outlinewidth": 0,
             "ticks": ""
            },
            "colorscale": [
             [
              0,
              "#0d0887"
             ],
             [
              0.1111111111111111,
              "#46039f"
             ],
             [
              0.2222222222222222,
              "#7201a8"
             ],
             [
              0.3333333333333333,
              "#9c179e"
             ],
             [
              0.4444444444444444,
              "#bd3786"
             ],
             [
              0.5555555555555556,
              "#d8576b"
             ],
             [
              0.6666666666666666,
              "#ed7953"
             ],
             [
              0.7777777777777778,
              "#fb9f3a"
             ],
             [
              0.8888888888888888,
              "#fdca26"
             ],
             [
              1,
              "#f0f921"
             ]
            ],
            "type": "heatmap"
           }
          ],
          "histogram": [
           {
            "marker": {
             "pattern": {
              "fillmode": "overlay",
              "size": 10,
              "solidity": 0.2
             }
            },
            "type": "histogram"
           }
          ],
          "histogram2d": [
           {
            "colorbar": {
             "outlinewidth": 0,
             "ticks": ""
            },
            "colorscale": [
             [
              0,
              "#0d0887"
             ],
             [
              0.1111111111111111,
              "#46039f"
             ],
             [
              0.2222222222222222,
              "#7201a8"
             ],
             [
              0.3333333333333333,
              "#9c179e"
             ],
             [
              0.4444444444444444,
              "#bd3786"
             ],
             [
              0.5555555555555556,
              "#d8576b"
             ],
             [
              0.6666666666666666,
              "#ed7953"
             ],
             [
              0.7777777777777778,
              "#fb9f3a"
             ],
             [
              0.8888888888888888,
              "#fdca26"
             ],
             [
              1,
              "#f0f921"
             ]
            ],
            "type": "histogram2d"
           }
          ],
          "histogram2dcontour": [
           {
            "colorbar": {
             "outlinewidth": 0,
             "ticks": ""
            },
            "colorscale": [
             [
              0,
              "#0d0887"
             ],
             [
              0.1111111111111111,
              "#46039f"
             ],
             [
              0.2222222222222222,
              "#7201a8"
             ],
             [
              0.3333333333333333,
              "#9c179e"
             ],
             [
              0.4444444444444444,
              "#bd3786"
             ],
             [
              0.5555555555555556,
              "#d8576b"
             ],
             [
              0.6666666666666666,
              "#ed7953"
             ],
             [
              0.7777777777777778,
              "#fb9f3a"
             ],
             [
              0.8888888888888888,
              "#fdca26"
             ],
             [
              1,
              "#f0f921"
             ]
            ],
            "type": "histogram2dcontour"
           }
          ],
          "mesh3d": [
           {
            "colorbar": {
             "outlinewidth": 0,
             "ticks": ""
            },
            "type": "mesh3d"
           }
          ],
          "parcoords": [
           {
            "line": {
             "colorbar": {
              "outlinewidth": 0,
              "ticks": ""
             }
            },
            "type": "parcoords"
           }
          ],
          "pie": [
           {
            "automargin": true,
            "type": "pie"
           }
          ],
          "scatter": [
           {
            "fillpattern": {
             "fillmode": "overlay",
             "size": 10,
             "solidity": 0.2
            },
            "type": "scatter"
           }
          ],
          "scatter3d": [
           {
            "line": {
             "colorbar": {
              "outlinewidth": 0,
              "ticks": ""
             }
            },
            "marker": {
             "colorbar": {
              "outlinewidth": 0,
              "ticks": ""
             }
            },
            "type": "scatter3d"
           }
          ],
          "scattercarpet": [
           {
            "marker": {
             "colorbar": {
              "outlinewidth": 0,
              "ticks": ""
             }
            },
            "type": "scattercarpet"
           }
          ],
          "scattergeo": [
           {
            "marker": {
             "colorbar": {
              "outlinewidth": 0,
              "ticks": ""
             }
            },
            "type": "scattergeo"
           }
          ],
          "scattergl": [
           {
            "marker": {
             "colorbar": {
              "outlinewidth": 0,
              "ticks": ""
             }
            },
            "type": "scattergl"
           }
          ],
          "scattermap": [
           {
            "marker": {
             "colorbar": {
              "outlinewidth": 0,
              "ticks": ""
             }
            },
            "type": "scattermap"
           }
          ],
          "scattermapbox": [
           {
            "marker": {
             "colorbar": {
              "outlinewidth": 0,
              "ticks": ""
             }
            },
            "type": "scattermapbox"
           }
          ],
          "scatterpolar": [
           {
            "marker": {
             "colorbar": {
              "outlinewidth": 0,
              "ticks": ""
             }
            },
            "type": "scatterpolar"
           }
          ],
          "scatterpolargl": [
           {
            "marker": {
             "colorbar": {
              "outlinewidth": 0,
              "ticks": ""
             }
            },
            "type": "scatterpolargl"
           }
          ],
          "scatterternary": [
           {
            "marker": {
             "colorbar": {
              "outlinewidth": 0,
              "ticks": ""
             }
            },
            "type": "scatterternary"
           }
          ],
          "surface": [
           {
            "colorbar": {
             "outlinewidth": 0,
             "ticks": ""
            },
            "colorscale": [
             [
              0,
              "#0d0887"
             ],
             [
              0.1111111111111111,
              "#46039f"
             ],
             [
              0.2222222222222222,
              "#7201a8"
             ],
             [
              0.3333333333333333,
              "#9c179e"
             ],
             [
              0.4444444444444444,
              "#bd3786"
             ],
             [
              0.5555555555555556,
              "#d8576b"
             ],
             [
              0.6666666666666666,
              "#ed7953"
             ],
             [
              0.7777777777777778,
              "#fb9f3a"
             ],
             [
              0.8888888888888888,
              "#fdca26"
             ],
             [
              1,
              "#f0f921"
             ]
            ],
            "type": "surface"
           }
          ],
          "table": [
           {
            "cells": {
             "fill": {
              "color": "#EBF0F8"
             },
             "line": {
              "color": "white"
             }
            },
            "header": {
             "fill": {
              "color": "#C8D4E3"
             },
             "line": {
              "color": "white"
             }
            },
            "type": "table"
           }
          ]
         },
         "layout": {
          "annotationdefaults": {
           "arrowcolor": "#2a3f5f",
           "arrowhead": 0,
           "arrowwidth": 1
          },
          "autotypenumbers": "strict",
          "coloraxis": {
           "colorbar": {
            "outlinewidth": 0,
            "ticks": ""
           }
          },
          "colorscale": {
           "diverging": [
            [
             0,
             "#8e0152"
            ],
            [
             0.1,
             "#c51b7d"
            ],
            [
             0.2,
             "#de77ae"
            ],
            [
             0.3,
             "#f1b6da"
            ],
            [
             0.4,
             "#fde0ef"
            ],
            [
             0.5,
             "#f7f7f7"
            ],
            [
             0.6,
             "#e6f5d0"
            ],
            [
             0.7,
             "#b8e186"
            ],
            [
             0.8,
             "#7fbc41"
            ],
            [
             0.9,
             "#4d9221"
            ],
            [
             1,
             "#276419"
            ]
           ],
           "sequential": [
            [
             0,
             "#0d0887"
            ],
            [
             0.1111111111111111,
             "#46039f"
            ],
            [
             0.2222222222222222,
             "#7201a8"
            ],
            [
             0.3333333333333333,
             "#9c179e"
            ],
            [
             0.4444444444444444,
             "#bd3786"
            ],
            [
             0.5555555555555556,
             "#d8576b"
            ],
            [
             0.6666666666666666,
             "#ed7953"
            ],
            [
             0.7777777777777778,
             "#fb9f3a"
            ],
            [
             0.8888888888888888,
             "#fdca26"
            ],
            [
             1,
             "#f0f921"
            ]
           ],
           "sequentialminus": [
            [
             0,
             "#0d0887"
            ],
            [
             0.1111111111111111,
             "#46039f"
            ],
            [
             0.2222222222222222,
             "#7201a8"
            ],
            [
             0.3333333333333333,
             "#9c179e"
            ],
            [
             0.4444444444444444,
             "#bd3786"
            ],
            [
             0.5555555555555556,
             "#d8576b"
            ],
            [
             0.6666666666666666,
             "#ed7953"
            ],
            [
             0.7777777777777778,
             "#fb9f3a"
            ],
            [
             0.8888888888888888,
             "#fdca26"
            ],
            [
             1,
             "#f0f921"
            ]
           ]
          },
          "colorway": [
           "#636efa",
           "#EF553B",
           "#00cc96",
           "#ab63fa",
           "#FFA15A",
           "#19d3f3",
           "#FF6692",
           "#B6E880",
           "#FF97FF",
           "#FECB52"
          ],
          "font": {
           "color": "#2a3f5f"
          },
          "geo": {
           "bgcolor": "white",
           "lakecolor": "white",
           "landcolor": "#E5ECF6",
           "showlakes": true,
           "showland": true,
           "subunitcolor": "white"
          },
          "hoverlabel": {
           "align": "left"
          },
          "hovermode": "closest",
          "mapbox": {
           "style": "light"
          },
          "paper_bgcolor": "white",
          "plot_bgcolor": "#E5ECF6",
          "polar": {
           "angularaxis": {
            "gridcolor": "white",
            "linecolor": "white",
            "ticks": ""
           },
           "bgcolor": "#E5ECF6",
           "radialaxis": {
            "gridcolor": "white",
            "linecolor": "white",
            "ticks": ""
           }
          },
          "scene": {
           "xaxis": {
            "backgroundcolor": "#E5ECF6",
            "gridcolor": "white",
            "gridwidth": 2,
            "linecolor": "white",
            "showbackground": true,
            "ticks": "",
            "zerolinecolor": "white"
           },
           "yaxis": {
            "backgroundcolor": "#E5ECF6",
            "gridcolor": "white",
            "gridwidth": 2,
            "linecolor": "white",
            "showbackground": true,
            "ticks": "",
            "zerolinecolor": "white"
           },
           "zaxis": {
            "backgroundcolor": "#E5ECF6",
            "gridcolor": "white",
            "gridwidth": 2,
            "linecolor": "white",
            "showbackground": true,
            "ticks": "",
            "zerolinecolor": "white"
           }
          },
          "shapedefaults": {
           "line": {
            "color": "#2a3f5f"
           }
          },
          "ternary": {
           "aaxis": {
            "gridcolor": "white",
            "linecolor": "white",
            "ticks": ""
           },
           "baxis": {
            "gridcolor": "white",
            "linecolor": "white",
            "ticks": ""
           },
           "bgcolor": "#E5ECF6",
           "caxis": {
            "gridcolor": "white",
            "linecolor": "white",
            "ticks": ""
           }
          },
          "title": {
           "x": 0.05
          },
          "xaxis": {
           "automargin": true,
           "gridcolor": "white",
           "linecolor": "white",
           "ticks": "",
           "title": {
            "standoff": 15
           },
           "zerolinecolor": "white",
           "zerolinewidth": 2
          },
          "yaxis": {
           "automargin": true,
           "gridcolor": "white",
           "linecolor": "white",
           "ticks": "",
           "title": {
            "standoff": 15
           },
           "zerolinecolor": "white",
           "zerolinewidth": 2
          }
         }
        },
        "title": {
         "text": "Clusters of Highly Correlated Features"
        },
        "width": 1200,
        "xaxis": {
         "showgrid": false,
         "showticklabels": false,
         "zeroline": false
        },
        "yaxis": {
         "showgrid": false,
         "showticklabels": false,
         "zeroline": false
        }
       }
      }
     },
     "metadata": {},
     "output_type": "display_data"
    }
   ],
   "source": [
    "plot_correlation_network(G_70, pos=nx.spring_layout(G_70, seed=42))"
   ]
  },
  {
   "cell_type": "code",
   "execution_count": null,
   "id": "fac1950f",
   "metadata": {},
   "outputs": [],
   "source": []
  },
  {
   "cell_type": "code",
   "execution_count": 42,
   "id": "0f8b50ca",
   "metadata": {},
   "outputs": [],
   "source": [
    "G_80, remove_80, clusters_80 = correlation_graph_analysis(correlation_analysis, 0.8)"
   ]
  },
  {
   "cell_type": "code",
   "execution_count": 43,
   "id": "16bebcaf",
   "metadata": {},
   "outputs": [
    {
     "data": {
      "application/vnd.plotly.v1+json": {
       "config": {
        "plotlyServerURL": "https://plot.ly"
       },
       "data": [
        {
         "hoverinfo": "none",
         "line": {
          "color": "#888",
          "width": 1
         },
         "mode": "lines",
         "type": "scatter",
         "x": [
          0.49488442015897255,
          0.5166094461089296,
          null,
          -0.7451970930479028,
          -0.7470519693345146,
          null,
          -0.7451970930479028,
          -0.7045496256668458,
          null,
          -0.7451970930479028,
          -0.7859209073504774,
          null,
          -0.7451970930479028,
          -0.7825293738779175,
          null,
          -0.7470519693345146,
          -0.7045496256668458,
          null,
          -0.7470519693345146,
          -0.7859209073504774,
          null,
          -0.7470519693345146,
          -0.7825293738779175,
          null,
          -0.7045496256668458,
          -0.7859209073504774,
          null,
          -0.7045496256668458,
          -0.7825293738779175,
          null,
          -0.7859209073504774,
          -0.7825293738779175,
          null,
          0.028945655279834528,
          0.05068364061313995,
          null,
          0.028945655279834528,
          0.049321959081918144,
          null,
          0.028945655279834528,
          0.08281374424220161,
          null,
          0.028945655279834528,
          0.042584411846586234,
          null,
          0.028945655279834528,
          0.07078638003683634,
          null,
          0.028945655279834528,
          0.04352271612694898,
          null,
          0.028945655279834528,
          0.07459199990879206,
          null,
          0.028945655279834528,
          0.06046160874602845,
          null,
          0.028945655279834528,
          0.06319334403610871,
          null,
          0.028945655279834528,
          0.01859232517957906,
          null,
          0.028945655279834528,
          0.08706001679512716,
          null,
          0.028945655279834528,
          0.10354824668834008,
          null,
          0.028945655279834528,
          0.028308969671333336,
          null,
          0.028945655279834528,
          0.09025562310091428,
          null,
          0.028945655279834528,
          0.09665506613691374,
          null,
          0.028945655279834528,
          0.018605733022778573,
          null,
          0.028945655279834528,
          -0.0028514059240226926,
          null,
          0.05068364061313995,
          0.049321959081918144,
          null,
          0.05068364061313995,
          0.08281374424220161,
          null,
          0.05068364061313995,
          0.042584411846586234,
          null,
          0.05068364061313995,
          0.07078638003683634,
          null,
          0.05068364061313995,
          0.04352271612694898,
          null,
          0.05068364061313995,
          0.07459199990879206,
          null,
          0.05068364061313995,
          0.06046160874602845,
          null,
          0.05068364061313995,
          0.06319334403610871,
          null,
          0.05068364061313995,
          0.01859232517957906,
          null,
          0.05068364061313995,
          0.08706001679512716,
          null,
          0.05068364061313995,
          0.10354824668834008,
          null,
          0.05068364061313995,
          0.028308969671333336,
          null,
          0.05068364061313995,
          0.09025562310091428,
          null,
          0.05068364061313995,
          0.09665506613691374,
          null,
          0.05068364061313995,
          0.018605733022778573,
          null,
          0.05068364061313995,
          -0.0028514059240226926,
          null,
          0.049321959081918144,
          0.07078638003683634,
          null,
          0.049321959081918144,
          0.07459199990879206,
          null,
          0.049321959081918144,
          0.042584411846586234,
          null,
          0.049321959081918144,
          0.08281374424220161,
          null,
          0.049321959081918144,
          0.04352271612694898,
          null,
          0.049321959081918144,
          0.06046160874602845,
          null,
          0.049321959081918144,
          0.06319334403610871,
          null,
          0.049321959081918144,
          0.01859232517957906,
          null,
          0.049321959081918144,
          0.08706001679512716,
          null,
          0.049321959081918144,
          0.10354824668834008,
          null,
          0.049321959081918144,
          0.028308969671333336,
          null,
          0.049321959081918144,
          0.09025562310091428,
          null,
          0.049321959081918144,
          0.09665506613691374,
          null,
          0.049321959081918144,
          0.018605733022778573,
          null,
          0.049321959081918144,
          -0.0028514059240226926,
          null,
          0.07078638003683634,
          0.08281374424220161,
          null,
          0.07078638003683634,
          0.042584411846586234,
          null,
          0.07078638003683634,
          0.04352271612694898,
          null,
          0.07078638003683634,
          0.06046160874602845,
          null,
          0.07078638003683634,
          0.06319334403610871,
          null,
          0.07078638003683634,
          0.01859232517957906,
          null,
          0.07078638003683634,
          0.07459199990879206,
          null,
          0.07078638003683634,
          0.08706001679512716,
          null,
          0.07078638003683634,
          0.10354824668834008,
          null,
          0.07078638003683634,
          0.028308969671333336,
          null,
          0.07078638003683634,
          0.09025562310091428,
          null,
          0.07078638003683634,
          0.09665506613691374,
          null,
          0.07078638003683634,
          0.018605733022778573,
          null,
          0.07078638003683634,
          -0.0028514059240226926,
          null,
          0.08281374424220161,
          0.01859232517957906,
          null,
          0.08281374424220161,
          0.06046160874602845,
          null,
          0.08281374424220161,
          0.04352271612694898,
          null,
          0.08281374424220161,
          0.042584411846586234,
          null,
          0.08281374424220161,
          0.07459199990879206,
          null,
          0.08281374424220161,
          0.06319334403610871,
          null,
          0.08281374424220161,
          0.08706001679512716,
          null,
          0.08281374424220161,
          0.10354824668834008,
          null,
          0.08281374424220161,
          0.028308969671333336,
          null,
          0.08281374424220161,
          0.09025562310091428,
          null,
          0.08281374424220161,
          0.018605733022778573,
          null,
          0.08281374424220161,
          0.09665506613691374,
          null,
          0.08281374424220161,
          -0.0028514059240226926,
          null,
          0.042584411846586234,
          0.06319334403610871,
          null,
          0.042584411846586234,
          0.06046160874602845,
          null,
          0.042584411846586234,
          0.04352271612694898,
          null,
          0.042584411846586234,
          0.07459199990879206,
          null,
          0.042584411846586234,
          0.01859232517957906,
          null,
          0.042584411846586234,
          0.08706001679512716,
          null,
          0.042584411846586234,
          0.10354824668834008,
          null,
          0.042584411846586234,
          0.09665506613691374,
          null,
          0.042584411846586234,
          0.09025562310091428,
          null,
          0.042584411846586234,
          0.018605733022778573,
          null,
          0.042584411846586234,
          0.028308969671333336,
          null,
          0.042584411846586234,
          -0.0028514059240226926,
          null,
          0.07459199990879206,
          0.06046160874602845,
          null,
          0.07459199990879206,
          0.06319334403610871,
          null,
          0.07459199990879206,
          0.01859232517957906,
          null,
          0.07459199990879206,
          0.04352271612694898,
          null,
          0.07459199990879206,
          0.08706001679512716,
          null,
          0.07459199990879206,
          0.10354824668834008,
          null,
          0.07459199990879206,
          0.09025562310091428,
          null,
          0.07459199990879206,
          0.09665506613691374,
          null,
          0.07459199990879206,
          0.028308969671333336,
          null,
          0.07459199990879206,
          0.018605733022778573,
          null,
          0.04352271612694898,
          0.06046160874602845,
          null,
          0.04352271612694898,
          0.06319334403610871,
          null,
          0.04352271612694898,
          0.01859232517957906,
          null,
          0.04352271612694898,
          0.018605733022778573,
          null,
          0.04352271612694898,
          0.10354824668834008,
          null,
          0.04352271612694898,
          0.08706001679512716,
          null,
          0.04352271612694898,
          0.09665506613691374,
          null,
          0.04352271612694898,
          0.028308969671333336,
          null,
          0.04352271612694898,
          0.09025562310091428,
          null,
          0.04352271612694898,
          -0.0028514059240226926,
          null,
          0.04352271612694898,
          0.06086486004646553,
          null,
          0.04352271612694898,
          -0.04599677458161149,
          null,
          0.06319334403610871,
          0.10354824668834008,
          null,
          0.06319334403610871,
          0.09665506613691374,
          null,
          0.06319334403610871,
          0.06046160874602845,
          null,
          0.06319334403610871,
          0.08706001679512716,
          null,
          0.06319334403610871,
          0.01859232517957906,
          null,
          0.06319334403610871,
          0.018605733022778573,
          null,
          0.06319334403610871,
          0.09025562310091428,
          null,
          0.06319334403610871,
          0.028308969671333336,
          null,
          0.06319334403610871,
          0.06086486004646553,
          null,
          0.06319334403610871,
          -0.0028514059240226926,
          null,
          0.01859232517957906,
          0.028308969671333336,
          null,
          0.01859232517957906,
          0.09025562310091428,
          null,
          0.01859232517957906,
          0.06046160874602845,
          null,
          0.01859232517957906,
          0.08706001679512716,
          null,
          0.01859232517957906,
          0.018605733022778573,
          null,
          0.01859232517957906,
          0.10354824668834008,
          null,
          0.01859232517957906,
          0.09665506613691374,
          null,
          0.01859232517957906,
          -0.04599677458161149,
          null,
          0.01859232517957906,
          -0.0028514059240226926,
          null,
          0.06046160874602845,
          0.10354824668834008,
          null,
          0.06046160874602845,
          0.09025562310091428,
          null,
          0.06046160874602845,
          0.08706001679512716,
          null,
          0.06046160874602845,
          0.018605733022778573,
          null,
          0.06046160874602845,
          0.028308969671333336,
          null,
          0.06046160874602845,
          0.09665506613691374,
          null,
          0.06046160874602845,
          -0.0028514059240226926,
          null,
          0.08706001679512716,
          0.10354824668834008,
          null,
          0.08706001679512716,
          0.09025562310091428,
          null,
          0.08706001679512716,
          0.028308969671333336,
          null,
          0.08706001679512716,
          0.09665506613691374,
          null,
          0.10354824668834008,
          0.018605733022778573,
          null,
          0.10354824668834008,
          0.09665506613691374,
          null,
          0.10354824668834008,
          0.028308969671333336,
          null,
          0.10354824668834008,
          0.09025562310091428,
          null,
          0.09665506613691374,
          0.018605733022778573,
          null,
          0.09665506613691374,
          0.06086486004646553,
          null,
          0.09665506613691374,
          0.09025562310091428,
          null,
          0.09665506613691374,
          0.028308969671333336,
          null,
          0.028308969671333336,
          0.018605733022778573,
          null,
          0.028308969671333336,
          -0.04599677458161149,
          null,
          0.028308969671333336,
          0.09025562310091428,
          null,
          0.09025562310091428,
          0.018605733022778573,
          null,
          0.018605733022778573,
          -0.0028514059240226926,
          null,
          0.018605733022778573,
          0.06086486004646553,
          null,
          0.018605733022778573,
          -0.04599677458161149,
          null,
          0.018605733022778573,
          -0.07302825507900673,
          null,
          0.018605733022778573,
          -0.0999435384141643,
          null,
          0.018605733022778573,
          -0.022931515179474664,
          null,
          -0.0028514059240226926,
          -0.04599677458161149,
          null,
          -0.0028514059240226926,
          0.06086486004646553,
          null,
          -0.0028514059240226926,
          -0.07302825507900673,
          null,
          -0.0028514059240226926,
          -0.0999435384141643,
          null,
          -0.0028514059240226926,
          -0.022931515179474664,
          null,
          0.9999999999999999,
          0.9882793584888268,
          null,
          -0.6720721206392057,
          -0.7467258999468601,
          null,
          0.8975795275600346,
          0.8168672330692986,
          null,
          -0.2055406300593198,
          -0.150677176844584,
          null
         ],
         "y": [
          0.7096211791011178,
          0.658571694766293,
          null,
          0.17150807463410472,
          0.22640454966683027,
          null,
          0.17150807463410472,
          0.17978143928824694,
          null,
          0.17150807463410472,
          0.21682040228558122,
          null,
          0.17150807463410472,
          0.17523679115947602,
          null,
          0.22640454966683027,
          0.17978143928824694,
          null,
          0.22640454966683027,
          0.21682040228558122,
          null,
          0.22640454966683027,
          0.17523679115947602,
          null,
          0.17978143928824694,
          0.21682040228558122,
          null,
          0.17978143928824694,
          0.17523679115947602,
          null,
          0.21682040228558122,
          0.17523679115947602,
          null,
          -0.1278492413247967,
          -0.15998216432850296,
          null,
          -0.1278492413247967,
          -0.13877472968275115,
          null,
          -0.1278492413247967,
          -0.14597168936084642,
          null,
          -0.1278492413247967,
          -0.11452066478177474,
          null,
          -0.1278492413247967,
          -0.16384244484232052,
          null,
          -0.1278492413247967,
          -0.1862506439636528,
          null,
          -0.1278492413247967,
          -0.12745302910739145,
          null,
          -0.1278492413247967,
          -0.11536264664267104,
          null,
          -0.1278492413247967,
          -0.18632944712276378,
          null,
          -0.1278492413247967,
          -0.1457956143052767,
          null,
          -0.1278492413247967,
          -0.1844053531320662,
          null,
          -0.1278492413247967,
          -0.1457283483263515,
          null,
          -0.1278492413247967,
          -0.16134271686388157,
          null,
          -0.1278492413247967,
          -0.11864439511815725,
          null,
          -0.1278492413247967,
          -0.172395115778955,
          null,
          -0.1278492413247967,
          -0.1900776801043691,
          null,
          -0.1278492413247967,
          -0.19484647558552531,
          null,
          -0.15998216432850296,
          -0.13877472968275115,
          null,
          -0.15998216432850296,
          -0.14597168936084642,
          null,
          -0.15998216432850296,
          -0.11452066478177474,
          null,
          -0.15998216432850296,
          -0.16384244484232052,
          null,
          -0.15998216432850296,
          -0.1862506439636528,
          null,
          -0.15998216432850296,
          -0.12745302910739145,
          null,
          -0.15998216432850296,
          -0.11536264664267104,
          null,
          -0.15998216432850296,
          -0.18632944712276378,
          null,
          -0.15998216432850296,
          -0.1457956143052767,
          null,
          -0.15998216432850296,
          -0.1844053531320662,
          null,
          -0.15998216432850296,
          -0.1457283483263515,
          null,
          -0.15998216432850296,
          -0.16134271686388157,
          null,
          -0.15998216432850296,
          -0.11864439511815725,
          null,
          -0.15998216432850296,
          -0.172395115778955,
          null,
          -0.15998216432850296,
          -0.1900776801043691,
          null,
          -0.15998216432850296,
          -0.19484647558552531,
          null,
          -0.13877472968275115,
          -0.16384244484232052,
          null,
          -0.13877472968275115,
          -0.12745302910739145,
          null,
          -0.13877472968275115,
          -0.11452066478177474,
          null,
          -0.13877472968275115,
          -0.14597168936084642,
          null,
          -0.13877472968275115,
          -0.1862506439636528,
          null,
          -0.13877472968275115,
          -0.11536264664267104,
          null,
          -0.13877472968275115,
          -0.18632944712276378,
          null,
          -0.13877472968275115,
          -0.1457956143052767,
          null,
          -0.13877472968275115,
          -0.1844053531320662,
          null,
          -0.13877472968275115,
          -0.1457283483263515,
          null,
          -0.13877472968275115,
          -0.16134271686388157,
          null,
          -0.13877472968275115,
          -0.11864439511815725,
          null,
          -0.13877472968275115,
          -0.172395115778955,
          null,
          -0.13877472968275115,
          -0.1900776801043691,
          null,
          -0.13877472968275115,
          -0.19484647558552531,
          null,
          -0.16384244484232052,
          -0.14597168936084642,
          null,
          -0.16384244484232052,
          -0.11452066478177474,
          null,
          -0.16384244484232052,
          -0.1862506439636528,
          null,
          -0.16384244484232052,
          -0.11536264664267104,
          null,
          -0.16384244484232052,
          -0.18632944712276378,
          null,
          -0.16384244484232052,
          -0.1457956143052767,
          null,
          -0.16384244484232052,
          -0.12745302910739145,
          null,
          -0.16384244484232052,
          -0.1844053531320662,
          null,
          -0.16384244484232052,
          -0.1457283483263515,
          null,
          -0.16384244484232052,
          -0.16134271686388157,
          null,
          -0.16384244484232052,
          -0.11864439511815725,
          null,
          -0.16384244484232052,
          -0.172395115778955,
          null,
          -0.16384244484232052,
          -0.1900776801043691,
          null,
          -0.16384244484232052,
          -0.19484647558552531,
          null,
          -0.14597168936084642,
          -0.1457956143052767,
          null,
          -0.14597168936084642,
          -0.11536264664267104,
          null,
          -0.14597168936084642,
          -0.1862506439636528,
          null,
          -0.14597168936084642,
          -0.11452066478177474,
          null,
          -0.14597168936084642,
          -0.12745302910739145,
          null,
          -0.14597168936084642,
          -0.18632944712276378,
          null,
          -0.14597168936084642,
          -0.1844053531320662,
          null,
          -0.14597168936084642,
          -0.1457283483263515,
          null,
          -0.14597168936084642,
          -0.16134271686388157,
          null,
          -0.14597168936084642,
          -0.11864439511815725,
          null,
          -0.14597168936084642,
          -0.1900776801043691,
          null,
          -0.14597168936084642,
          -0.172395115778955,
          null,
          -0.14597168936084642,
          -0.19484647558552531,
          null,
          -0.11452066478177474,
          -0.18632944712276378,
          null,
          -0.11452066478177474,
          -0.11536264664267104,
          null,
          -0.11452066478177474,
          -0.1862506439636528,
          null,
          -0.11452066478177474,
          -0.12745302910739145,
          null,
          -0.11452066478177474,
          -0.1457956143052767,
          null,
          -0.11452066478177474,
          -0.1844053531320662,
          null,
          -0.11452066478177474,
          -0.1457283483263515,
          null,
          -0.11452066478177474,
          -0.172395115778955,
          null,
          -0.11452066478177474,
          -0.11864439511815725,
          null,
          -0.11452066478177474,
          -0.1900776801043691,
          null,
          -0.11452066478177474,
          -0.16134271686388157,
          null,
          -0.11452066478177474,
          -0.19484647558552531,
          null,
          -0.12745302910739145,
          -0.11536264664267104,
          null,
          -0.12745302910739145,
          -0.18632944712276378,
          null,
          -0.12745302910739145,
          -0.1457956143052767,
          null,
          -0.12745302910739145,
          -0.1862506439636528,
          null,
          -0.12745302910739145,
          -0.1844053531320662,
          null,
          -0.12745302910739145,
          -0.1457283483263515,
          null,
          -0.12745302910739145,
          -0.11864439511815725,
          null,
          -0.12745302910739145,
          -0.172395115778955,
          null,
          -0.12745302910739145,
          -0.16134271686388157,
          null,
          -0.12745302910739145,
          -0.1900776801043691,
          null,
          -0.1862506439636528,
          -0.11536264664267104,
          null,
          -0.1862506439636528,
          -0.18632944712276378,
          null,
          -0.1862506439636528,
          -0.1457956143052767,
          null,
          -0.1862506439636528,
          -0.1900776801043691,
          null,
          -0.1862506439636528,
          -0.1457283483263515,
          null,
          -0.1862506439636528,
          -0.1844053531320662,
          null,
          -0.1862506439636528,
          -0.172395115778955,
          null,
          -0.1862506439636528,
          -0.16134271686388157,
          null,
          -0.1862506439636528,
          -0.11864439511815725,
          null,
          -0.1862506439636528,
          -0.19484647558552531,
          null,
          -0.1862506439636528,
          -0.2568255578926765,
          null,
          -0.1862506439636528,
          -0.18576380351284008,
          null,
          -0.18632944712276378,
          -0.1457283483263515,
          null,
          -0.18632944712276378,
          -0.172395115778955,
          null,
          -0.18632944712276378,
          -0.11536264664267104,
          null,
          -0.18632944712276378,
          -0.1844053531320662,
          null,
          -0.18632944712276378,
          -0.1457956143052767,
          null,
          -0.18632944712276378,
          -0.1900776801043691,
          null,
          -0.18632944712276378,
          -0.11864439511815725,
          null,
          -0.18632944712276378,
          -0.16134271686388157,
          null,
          -0.18632944712276378,
          -0.2568255578926765,
          null,
          -0.18632944712276378,
          -0.19484647558552531,
          null,
          -0.1457956143052767,
          -0.16134271686388157,
          null,
          -0.1457956143052767,
          -0.11864439511815725,
          null,
          -0.1457956143052767,
          -0.11536264664267104,
          null,
          -0.1457956143052767,
          -0.1844053531320662,
          null,
          -0.1457956143052767,
          -0.1900776801043691,
          null,
          -0.1457956143052767,
          -0.1457283483263515,
          null,
          -0.1457956143052767,
          -0.172395115778955,
          null,
          -0.1457956143052767,
          -0.18576380351284008,
          null,
          -0.1457956143052767,
          -0.19484647558552531,
          null,
          -0.11536264664267104,
          -0.1457283483263515,
          null,
          -0.11536264664267104,
          -0.11864439511815725,
          null,
          -0.11536264664267104,
          -0.1844053531320662,
          null,
          -0.11536264664267104,
          -0.1900776801043691,
          null,
          -0.11536264664267104,
          -0.16134271686388157,
          null,
          -0.11536264664267104,
          -0.172395115778955,
          null,
          -0.11536264664267104,
          -0.19484647558552531,
          null,
          -0.1844053531320662,
          -0.1457283483263515,
          null,
          -0.1844053531320662,
          -0.11864439511815725,
          null,
          -0.1844053531320662,
          -0.16134271686388157,
          null,
          -0.1844053531320662,
          -0.172395115778955,
          null,
          -0.1457283483263515,
          -0.1900776801043691,
          null,
          -0.1457283483263515,
          -0.172395115778955,
          null,
          -0.1457283483263515,
          -0.16134271686388157,
          null,
          -0.1457283483263515,
          -0.11864439511815725,
          null,
          -0.172395115778955,
          -0.1900776801043691,
          null,
          -0.172395115778955,
          -0.2568255578926765,
          null,
          -0.172395115778955,
          -0.11864439511815725,
          null,
          -0.172395115778955,
          -0.16134271686388157,
          null,
          -0.16134271686388157,
          -0.1900776801043691,
          null,
          -0.16134271686388157,
          -0.18576380351284008,
          null,
          -0.16134271686388157,
          -0.11864439511815725,
          null,
          -0.11864439511815725,
          -0.1900776801043691,
          null,
          -0.1900776801043691,
          -0.19484647558552531,
          null,
          -0.1900776801043691,
          -0.2568255578926765,
          null,
          -0.1900776801043691,
          -0.18576380351284008,
          null,
          -0.1900776801043691,
          -0.2607721058893225,
          null,
          -0.1900776801043691,
          -0.1897957799104421,
          null,
          -0.1900776801043691,
          -0.2959564440201939,
          null,
          -0.19484647558552531,
          -0.18576380351284008,
          null,
          -0.19484647558552531,
          -0.2568255578926765,
          null,
          -0.19484647558552531,
          -0.2607721058893225,
          null,
          -0.19484647558552531,
          -0.1897957799104421,
          null,
          -0.19484647558552531,
          -0.2959564440201939,
          null,
          0.2799714424622916,
          0.33417471246021585,
          null,
          -0.16971436529141917,
          -0.20665115800552725,
          null,
          -0.037874419950060724,
          -0.025326523042599063,
          null,
          0.7323742169026332,
          0.723788055160344,
          null
         ]
        },
        {
         "hoverinfo": "text",
         "hovertext": [
          "active_usage_months<br>Correlations:<br>zero_usage_months: 1.00",
          "zero_usage_months<br>Correlations:<br>active_usage_months: 1.00",
          "avg_delta_3mo<br>Correlations:<br>max_delta_3mo_increase: 1.00<br>max_delta_3mo_decrease: 1.00<br>last_1_delta_3mo: 1.00<br>avg_delta_1mo: 1.00",
          "max_delta_3mo_increase<br>Correlations:<br>avg_delta_3mo: 1.00<br>max_delta_3mo_decrease: 1.00<br>last_1_delta_3mo: 1.00<br>avg_delta_1mo: 1.00",
          "max_delta_3mo_decrease<br>Correlations:<br>avg_delta_3mo: 1.00<br>max_delta_3mo_increase: 1.00<br>last_1_delta_3mo: 1.00<br>avg_delta_1mo: 1.00",
          "last_1_delta_3mo<br>Correlations:<br>avg_delta_3mo: 1.00<br>max_delta_3mo_increase: 1.00<br>max_delta_3mo_decrease: 1.00<br>avg_delta_1mo: 1.00",
          "avg_monthly_usage_gb<br>Correlations:<br>total_usage_gb: 1.00<br>median_monthly_usage_gb: 0.99<br>last_2_3mo_rolling_avg: 0.99<br>last_1_3mo_rolling_avg: 0.99<br>usage_q75_gb: 0.99<br>max_monthly_usage_gb: 0.99<br>usage_q25_gb: 0.98<br>last_2_2mo_rolling_avg: 0.97<br>last_1_2mo_rolling_avg: 0.97<br>last_3_2mo_rolling_avg: 0.97<br>min_monthly_usage_gb: 0.95<br>last_3_month_usage_gb: 0.93<br>last_1_month_usage_gb: 0.93<br>last_2_month_usage_gb: 0.93<br>last_4_month_usage_gb: 0.93<br>usage_std_gb: 0.89<br>delta_1mo_volatility: 0.83",
          "total_usage_gb<br>Correlations:<br>avg_monthly_usage_gb: 1.00<br>median_monthly_usage_gb: 0.99<br>last_2_3mo_rolling_avg: 0.99<br>last_1_3mo_rolling_avg: 0.99<br>usage_q75_gb: 0.99<br>max_monthly_usage_gb: 0.99<br>usage_q25_gb: 0.98<br>last_2_2mo_rolling_avg: 0.97<br>last_1_2mo_rolling_avg: 0.97<br>last_3_2mo_rolling_avg: 0.97<br>min_monthly_usage_gb: 0.95<br>last_3_month_usage_gb: 0.93<br>last_1_month_usage_gb: 0.93<br>last_2_month_usage_gb: 0.93<br>last_4_month_usage_gb: 0.93<br>usage_std_gb: 0.89<br>delta_1mo_volatility: 0.83",
          "avg_delta_1mo<br>Correlations:<br>avg_delta_3mo: 1.00<br>max_delta_3mo_increase: 1.00<br>max_delta_3mo_decrease: 1.00<br>last_1_delta_3mo: 1.00",
          "median_monthly_usage_gb<br>Correlations:<br>avg_monthly_usage_gb: 0.99<br>total_usage_gb: 0.99<br>usage_q75_gb: 0.99<br>usage_q25_gb: 0.99<br>last_1_3mo_rolling_avg: 0.99<br>last_2_3mo_rolling_avg: 0.99<br>max_monthly_usage_gb: 0.97<br>last_2_2mo_rolling_avg: 0.97<br>last_1_2mo_rolling_avg: 0.97<br>last_3_2mo_rolling_avg: 0.97<br>min_monthly_usage_gb: 0.94<br>last_3_month_usage_gb: 0.92<br>last_1_month_usage_gb: 0.92<br>last_2_month_usage_gb: 0.92<br>last_4_month_usage_gb: 0.92<br>usage_std_gb: 0.88<br>delta_1mo_volatility: 0.82",
          "usage_q75_gb<br>Correlations:<br>median_monthly_usage_gb: 0.99<br>total_usage_gb: 0.99<br>avg_monthly_usage_gb: 0.99<br>last_2_3mo_rolling_avg: 0.98<br>last_1_3mo_rolling_avg: 0.98<br>max_monthly_usage_gb: 0.97<br>last_2_2mo_rolling_avg: 0.96<br>last_1_2mo_rolling_avg: 0.96<br>last_3_2mo_rolling_avg: 0.96<br>usage_q25_gb: 0.96<br>min_monthly_usage_gb: 0.92<br>last_3_month_usage_gb: 0.92<br>last_1_month_usage_gb: 0.92<br>last_2_month_usage_gb: 0.92<br>last_4_month_usage_gb: 0.92<br>usage_std_gb: 0.90<br>delta_1mo_volatility: 0.85",
          "last_2_3mo_rolling_avg<br>Correlations:<br>avg_monthly_usage_gb: 0.99<br>total_usage_gb: 0.99<br>median_monthly_usage_gb: 0.99<br>last_3_2mo_rolling_avg: 0.98<br>last_2_2mo_rolling_avg: 0.98<br>usage_q75_gb: 0.98<br>max_monthly_usage_gb: 0.98<br>last_1_3mo_rolling_avg: 0.98<br>usage_q25_gb: 0.97<br>last_1_2mo_rolling_avg: 0.95<br>min_monthly_usage_gb: 0.95<br>last_3_month_usage_gb: 0.94<br>last_1_month_usage_gb: 0.94<br>last_2_month_usage_gb: 0.94<br>usage_std_gb: 0.88<br>last_4_month_usage_gb: 0.87<br>delta_1mo_volatility: 0.83",
          "last_1_3mo_rolling_avg<br>Correlations:<br>total_usage_gb: 0.99<br>avg_monthly_usage_gb: 0.99<br>median_monthly_usage_gb: 0.99<br>last_1_2mo_rolling_avg: 0.98<br>last_2_2mo_rolling_avg: 0.98<br>usage_q75_gb: 0.98<br>max_monthly_usage_gb: 0.98<br>last_2_3mo_rolling_avg: 0.98<br>usage_q25_gb: 0.97<br>last_3_2mo_rolling_avg: 0.95<br>min_monthly_usage_gb: 0.95<br>last_3_month_usage_gb: 0.94<br>last_4_month_usage_gb: 0.94<br>last_2_month_usage_gb: 0.93<br>usage_std_gb: 0.88<br>last_1_month_usage_gb: 0.87<br>delta_1mo_volatility: 0.83",
          "usage_q25_gb<br>Correlations:<br>median_monthly_usage_gb: 0.99<br>avg_monthly_usage_gb: 0.98<br>total_usage_gb: 0.98<br>last_1_3mo_rolling_avg: 0.97<br>last_2_3mo_rolling_avg: 0.97<br>usage_q75_gb: 0.96<br>last_2_2mo_rolling_avg: 0.96<br>last_1_2mo_rolling_avg: 0.95<br>last_3_2mo_rolling_avg: 0.95<br>max_monthly_usage_gb: 0.94<br>min_monthly_usage_gb: 0.94<br>last_3_month_usage_gb: 0.91<br>last_2_month_usage_gb: 0.91<br>last_4_month_usage_gb: 0.91<br>last_1_month_usage_gb: 0.91<br>usage_std_gb: 0.82",
          "max_monthly_usage_gb<br>Correlations:<br>total_usage_gb: 0.99<br>avg_monthly_usage_gb: 0.99<br>last_1_3mo_rolling_avg: 0.98<br>last_2_3mo_rolling_avg: 0.98<br>usage_q75_gb: 0.97<br>median_monthly_usage_gb: 0.97<br>last_2_2mo_rolling_avg: 0.96<br>last_1_2mo_rolling_avg: 0.96<br>last_3_2mo_rolling_avg: 0.96<br>usage_q25_gb: 0.94<br>usage_std_gb: 0.94<br>last_3_month_usage_gb: 0.91<br>min_monthly_usage_gb: 0.91<br>last_4_month_usage_gb: 0.91<br>last_1_month_usage_gb: 0.91<br>last_2_month_usage_gb: 0.91<br>delta_1mo_volatility: 0.89<br>max_delta_1mo_increase: 0.82<br>max_delta_1mo_decrease: 0.82",
          "last_1_2mo_rolling_avg<br>Correlations:<br>last_1_3mo_rolling_avg: 0.98<br>total_usage_gb: 0.97<br>avg_monthly_usage_gb: 0.97<br>median_monthly_usage_gb: 0.97<br>usage_q75_gb: 0.96<br>max_monthly_usage_gb: 0.96<br>usage_q25_gb: 0.95<br>last_3_month_usage_gb: 0.95<br>last_4_month_usage_gb: 0.95<br>last_2_2mo_rolling_avg: 0.95<br>last_2_3mo_rolling_avg: 0.95<br>min_monthly_usage_gb: 0.93<br>last_3_2mo_rolling_avg: 0.90<br>usage_std_gb: 0.87<br>last_2_month_usage_gb: 0.85<br>last_1_month_usage_gb: 0.85<br>max_delta_1mo_increase: 0.81<br>delta_1mo_volatility: 0.81",
          "last_3_2mo_rolling_avg<br>Correlations:<br>last_2_3mo_rolling_avg: 0.98<br>avg_monthly_usage_gb: 0.97<br>total_usage_gb: 0.97<br>median_monthly_usage_gb: 0.97<br>usage_q75_gb: 0.96<br>max_monthly_usage_gb: 0.96<br>usage_q25_gb: 0.95<br>last_1_month_usage_gb: 0.95<br>last_2_month_usage_gb: 0.95<br>last_2_2mo_rolling_avg: 0.95<br>last_1_3mo_rolling_avg: 0.95<br>min_monthly_usage_gb: 0.93<br>last_1_2mo_rolling_avg: 0.90<br>usage_std_gb: 0.87<br>last_3_month_usage_gb: 0.85<br>last_4_month_usage_gb: 0.85<br>max_delta_1mo_decrease: 0.81<br>delta_1mo_volatility: 0.81",
          "last_2_2mo_rolling_avg<br>Correlations:<br>last_1_3mo_rolling_avg: 0.98<br>last_2_3mo_rolling_avg: 0.98<br>avg_monthly_usage_gb: 0.97<br>total_usage_gb: 0.97<br>median_monthly_usage_gb: 0.97<br>usage_q75_gb: 0.96<br>max_monthly_usage_gb: 0.96<br>usage_q25_gb: 0.96<br>last_3_month_usage_gb: 0.95<br>last_2_month_usage_gb: 0.95<br>last_3_2mo_rolling_avg: 0.95<br>last_1_2mo_rolling_avg: 0.95<br>min_monthly_usage_gb: 0.93<br>usage_std_gb: 0.87<br>last_1_month_usage_gb: 0.85<br>last_4_month_usage_gb: 0.85<br>delta_1mo_volatility: 0.81",
          "min_monthly_usage_gb<br>Correlations:<br>avg_monthly_usage_gb: 0.95<br>total_usage_gb: 0.95<br>last_2_3mo_rolling_avg: 0.95<br>last_1_3mo_rolling_avg: 0.95<br>usage_q25_gb: 0.94<br>median_monthly_usage_gb: 0.94<br>last_2_2mo_rolling_avg: 0.93<br>last_3_2mo_rolling_avg: 0.93<br>last_1_2mo_rolling_avg: 0.93<br>usage_q75_gb: 0.92<br>max_monthly_usage_gb: 0.91<br>last_3_month_usage_gb: 0.89<br>last_2_month_usage_gb: 0.88<br>last_1_month_usage_gb: 0.88<br>last_4_month_usage_gb: 0.88",
          "last_3_month_usage_gb<br>Correlations:<br>last_1_2mo_rolling_avg: 0.95<br>last_2_2mo_rolling_avg: 0.95<br>last_1_3mo_rolling_avg: 0.94<br>last_2_3mo_rolling_avg: 0.94<br>total_usage_gb: 0.93<br>avg_monthly_usage_gb: 0.93<br>median_monthly_usage_gb: 0.92<br>usage_q75_gb: 0.92<br>max_monthly_usage_gb: 0.91<br>usage_q25_gb: 0.91<br>min_monthly_usage_gb: 0.89<br>last_3_2mo_rolling_avg: 0.85<br>usage_std_gb: 0.82<br>last_4_month_usage_gb: 0.81<br>last_1_month_usage_gb: 0.81<br>last_2_month_usage_gb: 0.81",
          "last_4_month_usage_gb<br>Correlations:<br>last_1_2mo_rolling_avg: 0.95<br>last_1_3mo_rolling_avg: 0.94<br>total_usage_gb: 0.93<br>avg_monthly_usage_gb: 0.93<br>median_monthly_usage_gb: 0.92<br>usage_q75_gb: 0.92<br>max_monthly_usage_gb: 0.91<br>usage_q25_gb: 0.91<br>min_monthly_usage_gb: 0.88<br>last_2_3mo_rolling_avg: 0.87<br>last_2_2mo_rolling_avg: 0.85<br>last_3_2mo_rolling_avg: 0.85<br>usage_std_gb: 0.83<br>max_delta_1mo_increase: 0.81<br>last_3_month_usage_gb: 0.81<br>last_2_month_usage_gb: 0.81<br>last_1_month_usage_gb: 0.81",
          "last_1_month_usage_gb<br>Correlations:<br>last_3_2mo_rolling_avg: 0.95<br>last_2_3mo_rolling_avg: 0.94<br>total_usage_gb: 0.93<br>avg_monthly_usage_gb: 0.93<br>median_monthly_usage_gb: 0.92<br>usage_q75_gb: 0.92<br>max_monthly_usage_gb: 0.91<br>usage_q25_gb: 0.91<br>min_monthly_usage_gb: 0.88<br>last_1_3mo_rolling_avg: 0.87<br>last_2_2mo_rolling_avg: 0.85<br>last_1_2mo_rolling_avg: 0.85<br>usage_std_gb: 0.82<br>max_delta_1mo_decrease: 0.81<br>last_3_month_usage_gb: 0.81<br>last_2_month_usage_gb: 0.81<br>last_4_month_usage_gb: 0.81",
          "last_2_month_usage_gb<br>Correlations:<br>last_2_2mo_rolling_avg: 0.95<br>last_3_2mo_rolling_avg: 0.95<br>last_2_3mo_rolling_avg: 0.94<br>last_1_3mo_rolling_avg: 0.93<br>avg_monthly_usage_gb: 0.93<br>total_usage_gb: 0.93<br>median_monthly_usage_gb: 0.92<br>usage_q75_gb: 0.92<br>max_monthly_usage_gb: 0.91<br>usage_q25_gb: 0.91<br>min_monthly_usage_gb: 0.88<br>last_1_2mo_rolling_avg: 0.85<br>usage_std_gb: 0.82<br>last_3_month_usage_gb: 0.81<br>last_1_month_usage_gb: 0.81<br>last_4_month_usage_gb: 0.81",
          "usage_std_gb<br>Correlations:<br>max_monthly_usage_gb: 0.94<br>delta_1mo_volatility: 0.94<br>usage_q75_gb: 0.90<br>total_usage_gb: 0.89<br>avg_monthly_usage_gb: 0.89<br>last_1_3mo_rolling_avg: 0.88<br>last_2_3mo_rolling_avg: 0.88<br>median_monthly_usage_gb: 0.88<br>max_delta_1mo_increase: 0.87<br>last_1_2mo_rolling_avg: 0.87<br>last_2_2mo_rolling_avg: 0.87<br>last_3_2mo_rolling_avg: 0.87<br>max_delta_1mo_decrease: 0.87<br>last_4_month_usage_gb: 0.83<br>last_3_month_usage_gb: 0.82<br>last_1_month_usage_gb: 0.82<br>last_2_month_usage_gb: 0.82<br>usage_q25_gb: 0.82<br>last_2_2mo_rolling_stdev: 0.81<br>last_3_2mo_rolling_stdev: 0.81<br>last_1_2mo_rolling_stdev: 0.81",
          "delta_1mo_volatility<br>Correlations:<br>usage_std_gb: 0.94<br>max_delta_1mo_decrease: 0.92<br>max_delta_1mo_increase: 0.92<br>max_monthly_usage_gb: 0.89<br>last_2_2mo_rolling_stdev: 0.85<br>usage_q75_gb: 0.85<br>total_usage_gb: 0.83<br>avg_monthly_usage_gb: 0.83<br>last_3_2mo_rolling_stdev: 0.83<br>last_1_2mo_rolling_stdev: 0.83<br>last_2_3mo_rolling_avg: 0.83<br>last_1_3mo_rolling_avg: 0.83<br>median_monthly_usage_gb: 0.82<br>last_3_2mo_rolling_avg: 0.81<br>last_1_2mo_rolling_avg: 0.81<br>last_2_2mo_rolling_avg: 0.81",
          "months_with_delta_3mo_decrease<br>Correlations:<br>months_with_delta_3mo_increase: 0.94",
          "months_with_delta_3mo_increase<br>Correlations:<br>months_with_delta_3mo_decrease: 0.94",
          "months_with_delta_2mo_decrease<br>Correlations:<br>months_with_delta_2mo_increase: 0.93",
          "months_with_delta_2mo_increase<br>Correlations:<br>months_with_delta_2mo_decrease: 0.93",
          "max_delta_1mo_decrease<br>Correlations:<br>delta_1mo_volatility: 0.92<br>usage_std_gb: 0.87<br>max_monthly_usage_gb: 0.82<br>last_1_month_usage_gb: 0.81<br>last_3_2mo_rolling_avg: 0.81",
          "max_delta_1mo_increase<br>Correlations:<br>delta_1mo_volatility: 0.92<br>usage_std_gb: 0.87<br>max_monthly_usage_gb: 0.82<br>last_4_month_usage_gb: 0.81<br>last_1_2mo_rolling_avg: 0.81",
          "months_with_delta_1mo_decrease<br>Correlations:<br>months_with_delta_1mo_increase: 0.88",
          "months_with_delta_1mo_increase<br>Correlations:<br>months_with_delta_1mo_decrease: 0.88",
          "last_2_2mo_rolling_stdev<br>Correlations:<br>delta_1mo_volatility: 0.85<br>usage_std_gb: 0.81",
          "last_3_2mo_rolling_stdev<br>Correlations:<br>delta_1mo_volatility: 0.83<br>usage_std_gb: 0.81",
          "last_1_2mo_rolling_stdev<br>Correlations:<br>delta_1mo_volatility: 0.83<br>usage_std_gb: 0.81",
          "contract_binding_days<br>Correlations:<br>contract_lifetime_days: 0.82",
          "contract_lifetime_days<br>Correlations:<br>contract_binding_days: 0.82"
         ],
         "marker": {
          "color": "#87ceeb",
          "line": {
           "width": 2
          },
          "showscale": false,
          "size": 20
         },
         "mode": "markers+text",
         "text": [
          "active_usage_months",
          "zero_usage_months",
          "avg_delta_3mo",
          "max_delta_3mo_increase",
          "max_delta_3mo_decrease",
          "last_1_delta_3mo",
          "avg_monthly_usage_gb",
          "total_usage_gb",
          "avg_delta_1mo",
          "median_monthly_usage_gb",
          "usage_q75_gb",
          "last_2_3mo_rolling_avg",
          "last_1_3mo_rolling_avg",
          "usage_q25_gb",
          "max_monthly_usage_gb",
          "last_1_2mo_rolling_avg",
          "last_3_2mo_rolling_avg",
          "last_2_2mo_rolling_avg",
          "min_monthly_usage_gb",
          "last_3_month_usage_gb",
          "last_4_month_usage_gb",
          "last_1_month_usage_gb",
          "last_2_month_usage_gb",
          "usage_std_gb",
          "delta_1mo_volatility",
          "months_with_delta_3mo_decrease",
          "months_with_delta_3mo_increase",
          "months_with_delta_2mo_decrease",
          "months_with_delta_2mo_increase",
          "max_delta_1mo_decrease",
          "max_delta_1mo_increase",
          "months_with_delta_1mo_decrease",
          "months_with_delta_1mo_increase",
          "last_2_2mo_rolling_stdev",
          "last_3_2mo_rolling_stdev",
          "last_1_2mo_rolling_stdev",
          "contract_binding_days",
          "contract_lifetime_days"
         ],
         "textposition": "top center",
         "type": "scatter",
         "x": [
          0.49488442015897255,
          0.5166094461089296,
          -0.7451970930479028,
          -0.7470519693345146,
          -0.7045496256668458,
          -0.7859209073504774,
          0.028945655279834528,
          0.05068364061313995,
          -0.7825293738779175,
          0.049321959081918144,
          0.07078638003683634,
          0.08281374424220161,
          0.042584411846586234,
          0.07459199990879206,
          0.04352271612694898,
          0.06319334403610871,
          0.01859232517957906,
          0.06046160874602845,
          0.08706001679512716,
          0.10354824668834008,
          0.09665506613691374,
          0.028308969671333336,
          0.09025562310091428,
          0.018605733022778573,
          -0.0028514059240226926,
          0.9999999999999999,
          0.9882793584888268,
          -0.6720721206392057,
          -0.7467258999468601,
          -0.04599677458161149,
          0.06086486004646553,
          0.8975795275600346,
          0.8168672330692986,
          -0.07302825507900673,
          -0.0999435384141643,
          -0.022931515179474664,
          -0.2055406300593198,
          -0.150677176844584
         ],
         "y": [
          0.7096211791011178,
          0.658571694766293,
          0.17150807463410472,
          0.22640454966683027,
          0.17978143928824694,
          0.21682040228558122,
          -0.1278492413247967,
          -0.15998216432850296,
          0.17523679115947602,
          -0.13877472968275115,
          -0.16384244484232052,
          -0.14597168936084642,
          -0.11452066478177474,
          -0.12745302910739145,
          -0.1862506439636528,
          -0.18632944712276378,
          -0.1457956143052767,
          -0.11536264664267104,
          -0.1844053531320662,
          -0.1457283483263515,
          -0.172395115778955,
          -0.16134271686388157,
          -0.11864439511815725,
          -0.1900776801043691,
          -0.19484647558552531,
          0.2799714424622916,
          0.33417471246021585,
          -0.16971436529141917,
          -0.20665115800552725,
          -0.18576380351284008,
          -0.2568255578926765,
          -0.037874419950060724,
          -0.025326523042599063,
          -0.2607721058893225,
          -0.1897957799104421,
          -0.2959564440201939,
          0.7323742169026332,
          0.723788055160344
         ]
        }
       ],
       "layout": {
        "height": 800,
        "hovermode": "closest",
        "margin": {
         "b": 20,
         "l": 5,
         "r": 5,
         "t": 40
        },
        "showlegend": false,
        "template": {
         "data": {
          "bar": [
           {
            "error_x": {
             "color": "#2a3f5f"
            },
            "error_y": {
             "color": "#2a3f5f"
            },
            "marker": {
             "line": {
              "color": "#E5ECF6",
              "width": 0.5
             },
             "pattern": {
              "fillmode": "overlay",
              "size": 10,
              "solidity": 0.2
             }
            },
            "type": "bar"
           }
          ],
          "barpolar": [
           {
            "marker": {
             "line": {
              "color": "#E5ECF6",
              "width": 0.5
             },
             "pattern": {
              "fillmode": "overlay",
              "size": 10,
              "solidity": 0.2
             }
            },
            "type": "barpolar"
           }
          ],
          "carpet": [
           {
            "aaxis": {
             "endlinecolor": "#2a3f5f",
             "gridcolor": "white",
             "linecolor": "white",
             "minorgridcolor": "white",
             "startlinecolor": "#2a3f5f"
            },
            "baxis": {
             "endlinecolor": "#2a3f5f",
             "gridcolor": "white",
             "linecolor": "white",
             "minorgridcolor": "white",
             "startlinecolor": "#2a3f5f"
            },
            "type": "carpet"
           }
          ],
          "choropleth": [
           {
            "colorbar": {
             "outlinewidth": 0,
             "ticks": ""
            },
            "type": "choropleth"
           }
          ],
          "contour": [
           {
            "colorbar": {
             "outlinewidth": 0,
             "ticks": ""
            },
            "colorscale": [
             [
              0,
              "#0d0887"
             ],
             [
              0.1111111111111111,
              "#46039f"
             ],
             [
              0.2222222222222222,
              "#7201a8"
             ],
             [
              0.3333333333333333,
              "#9c179e"
             ],
             [
              0.4444444444444444,
              "#bd3786"
             ],
             [
              0.5555555555555556,
              "#d8576b"
             ],
             [
              0.6666666666666666,
              "#ed7953"
             ],
             [
              0.7777777777777778,
              "#fb9f3a"
             ],
             [
              0.8888888888888888,
              "#fdca26"
             ],
             [
              1,
              "#f0f921"
             ]
            ],
            "type": "contour"
           }
          ],
          "contourcarpet": [
           {
            "colorbar": {
             "outlinewidth": 0,
             "ticks": ""
            },
            "type": "contourcarpet"
           }
          ],
          "heatmap": [
           {
            "colorbar": {
             "outlinewidth": 0,
             "ticks": ""
            },
            "colorscale": [
             [
              0,
              "#0d0887"
             ],
             [
              0.1111111111111111,
              "#46039f"
             ],
             [
              0.2222222222222222,
              "#7201a8"
             ],
             [
              0.3333333333333333,
              "#9c179e"
             ],
             [
              0.4444444444444444,
              "#bd3786"
             ],
             [
              0.5555555555555556,
              "#d8576b"
             ],
             [
              0.6666666666666666,
              "#ed7953"
             ],
             [
              0.7777777777777778,
              "#fb9f3a"
             ],
             [
              0.8888888888888888,
              "#fdca26"
             ],
             [
              1,
              "#f0f921"
             ]
            ],
            "type": "heatmap"
           }
          ],
          "histogram": [
           {
            "marker": {
             "pattern": {
              "fillmode": "overlay",
              "size": 10,
              "solidity": 0.2
             }
            },
            "type": "histogram"
           }
          ],
          "histogram2d": [
           {
            "colorbar": {
             "outlinewidth": 0,
             "ticks": ""
            },
            "colorscale": [
             [
              0,
              "#0d0887"
             ],
             [
              0.1111111111111111,
              "#46039f"
             ],
             [
              0.2222222222222222,
              "#7201a8"
             ],
             [
              0.3333333333333333,
              "#9c179e"
             ],
             [
              0.4444444444444444,
              "#bd3786"
             ],
             [
              0.5555555555555556,
              "#d8576b"
             ],
             [
              0.6666666666666666,
              "#ed7953"
             ],
             [
              0.7777777777777778,
              "#fb9f3a"
             ],
             [
              0.8888888888888888,
              "#fdca26"
             ],
             [
              1,
              "#f0f921"
             ]
            ],
            "type": "histogram2d"
           }
          ],
          "histogram2dcontour": [
           {
            "colorbar": {
             "outlinewidth": 0,
             "ticks": ""
            },
            "colorscale": [
             [
              0,
              "#0d0887"
             ],
             [
              0.1111111111111111,
              "#46039f"
             ],
             [
              0.2222222222222222,
              "#7201a8"
             ],
             [
              0.3333333333333333,
              "#9c179e"
             ],
             [
              0.4444444444444444,
              "#bd3786"
             ],
             [
              0.5555555555555556,
              "#d8576b"
             ],
             [
              0.6666666666666666,
              "#ed7953"
             ],
             [
              0.7777777777777778,
              "#fb9f3a"
             ],
             [
              0.8888888888888888,
              "#fdca26"
             ],
             [
              1,
              "#f0f921"
             ]
            ],
            "type": "histogram2dcontour"
           }
          ],
          "mesh3d": [
           {
            "colorbar": {
             "outlinewidth": 0,
             "ticks": ""
            },
            "type": "mesh3d"
           }
          ],
          "parcoords": [
           {
            "line": {
             "colorbar": {
              "outlinewidth": 0,
              "ticks": ""
             }
            },
            "type": "parcoords"
           }
          ],
          "pie": [
           {
            "automargin": true,
            "type": "pie"
           }
          ],
          "scatter": [
           {
            "fillpattern": {
             "fillmode": "overlay",
             "size": 10,
             "solidity": 0.2
            },
            "type": "scatter"
           }
          ],
          "scatter3d": [
           {
            "line": {
             "colorbar": {
              "outlinewidth": 0,
              "ticks": ""
             }
            },
            "marker": {
             "colorbar": {
              "outlinewidth": 0,
              "ticks": ""
             }
            },
            "type": "scatter3d"
           }
          ],
          "scattercarpet": [
           {
            "marker": {
             "colorbar": {
              "outlinewidth": 0,
              "ticks": ""
             }
            },
            "type": "scattercarpet"
           }
          ],
          "scattergeo": [
           {
            "marker": {
             "colorbar": {
              "outlinewidth": 0,
              "ticks": ""
             }
            },
            "type": "scattergeo"
           }
          ],
          "scattergl": [
           {
            "marker": {
             "colorbar": {
              "outlinewidth": 0,
              "ticks": ""
             }
            },
            "type": "scattergl"
           }
          ],
          "scattermap": [
           {
            "marker": {
             "colorbar": {
              "outlinewidth": 0,
              "ticks": ""
             }
            },
            "type": "scattermap"
           }
          ],
          "scattermapbox": [
           {
            "marker": {
             "colorbar": {
              "outlinewidth": 0,
              "ticks": ""
             }
            },
            "type": "scattermapbox"
           }
          ],
          "scatterpolar": [
           {
            "marker": {
             "colorbar": {
              "outlinewidth": 0,
              "ticks": ""
             }
            },
            "type": "scatterpolar"
           }
          ],
          "scatterpolargl": [
           {
            "marker": {
             "colorbar": {
              "outlinewidth": 0,
              "ticks": ""
             }
            },
            "type": "scatterpolargl"
           }
          ],
          "scatterternary": [
           {
            "marker": {
             "colorbar": {
              "outlinewidth": 0,
              "ticks": ""
             }
            },
            "type": "scatterternary"
           }
          ],
          "surface": [
           {
            "colorbar": {
             "outlinewidth": 0,
             "ticks": ""
            },
            "colorscale": [
             [
              0,
              "#0d0887"
             ],
             [
              0.1111111111111111,
              "#46039f"
             ],
             [
              0.2222222222222222,
              "#7201a8"
             ],
             [
              0.3333333333333333,
              "#9c179e"
             ],
             [
              0.4444444444444444,
              "#bd3786"
             ],
             [
              0.5555555555555556,
              "#d8576b"
             ],
             [
              0.6666666666666666,
              "#ed7953"
             ],
             [
              0.7777777777777778,
              "#fb9f3a"
             ],
             [
              0.8888888888888888,
              "#fdca26"
             ],
             [
              1,
              "#f0f921"
             ]
            ],
            "type": "surface"
           }
          ],
          "table": [
           {
            "cells": {
             "fill": {
              "color": "#EBF0F8"
             },
             "line": {
              "color": "white"
             }
            },
            "header": {
             "fill": {
              "color": "#C8D4E3"
             },
             "line": {
              "color": "white"
             }
            },
            "type": "table"
           }
          ]
         },
         "layout": {
          "annotationdefaults": {
           "arrowcolor": "#2a3f5f",
           "arrowhead": 0,
           "arrowwidth": 1
          },
          "autotypenumbers": "strict",
          "coloraxis": {
           "colorbar": {
            "outlinewidth": 0,
            "ticks": ""
           }
          },
          "colorscale": {
           "diverging": [
            [
             0,
             "#8e0152"
            ],
            [
             0.1,
             "#c51b7d"
            ],
            [
             0.2,
             "#de77ae"
            ],
            [
             0.3,
             "#f1b6da"
            ],
            [
             0.4,
             "#fde0ef"
            ],
            [
             0.5,
             "#f7f7f7"
            ],
            [
             0.6,
             "#e6f5d0"
            ],
            [
             0.7,
             "#b8e186"
            ],
            [
             0.8,
             "#7fbc41"
            ],
            [
             0.9,
             "#4d9221"
            ],
            [
             1,
             "#276419"
            ]
           ],
           "sequential": [
            [
             0,
             "#0d0887"
            ],
            [
             0.1111111111111111,
             "#46039f"
            ],
            [
             0.2222222222222222,
             "#7201a8"
            ],
            [
             0.3333333333333333,
             "#9c179e"
            ],
            [
             0.4444444444444444,
             "#bd3786"
            ],
            [
             0.5555555555555556,
             "#d8576b"
            ],
            [
             0.6666666666666666,
             "#ed7953"
            ],
            [
             0.7777777777777778,
             "#fb9f3a"
            ],
            [
             0.8888888888888888,
             "#fdca26"
            ],
            [
             1,
             "#f0f921"
            ]
           ],
           "sequentialminus": [
            [
             0,
             "#0d0887"
            ],
            [
             0.1111111111111111,
             "#46039f"
            ],
            [
             0.2222222222222222,
             "#7201a8"
            ],
            [
             0.3333333333333333,
             "#9c179e"
            ],
            [
             0.4444444444444444,
             "#bd3786"
            ],
            [
             0.5555555555555556,
             "#d8576b"
            ],
            [
             0.6666666666666666,
             "#ed7953"
            ],
            [
             0.7777777777777778,
             "#fb9f3a"
            ],
            [
             0.8888888888888888,
             "#fdca26"
            ],
            [
             1,
             "#f0f921"
            ]
           ]
          },
          "colorway": [
           "#636efa",
           "#EF553B",
           "#00cc96",
           "#ab63fa",
           "#FFA15A",
           "#19d3f3",
           "#FF6692",
           "#B6E880",
           "#FF97FF",
           "#FECB52"
          ],
          "font": {
           "color": "#2a3f5f"
          },
          "geo": {
           "bgcolor": "white",
           "lakecolor": "white",
           "landcolor": "#E5ECF6",
           "showlakes": true,
           "showland": true,
           "subunitcolor": "white"
          },
          "hoverlabel": {
           "align": "left"
          },
          "hovermode": "closest",
          "mapbox": {
           "style": "light"
          },
          "paper_bgcolor": "white",
          "plot_bgcolor": "#E5ECF6",
          "polar": {
           "angularaxis": {
            "gridcolor": "white",
            "linecolor": "white",
            "ticks": ""
           },
           "bgcolor": "#E5ECF6",
           "radialaxis": {
            "gridcolor": "white",
            "linecolor": "white",
            "ticks": ""
           }
          },
          "scene": {
           "xaxis": {
            "backgroundcolor": "#E5ECF6",
            "gridcolor": "white",
            "gridwidth": 2,
            "linecolor": "white",
            "showbackground": true,
            "ticks": "",
            "zerolinecolor": "white"
           },
           "yaxis": {
            "backgroundcolor": "#E5ECF6",
            "gridcolor": "white",
            "gridwidth": 2,
            "linecolor": "white",
            "showbackground": true,
            "ticks": "",
            "zerolinecolor": "white"
           },
           "zaxis": {
            "backgroundcolor": "#E5ECF6",
            "gridcolor": "white",
            "gridwidth": 2,
            "linecolor": "white",
            "showbackground": true,
            "ticks": "",
            "zerolinecolor": "white"
           }
          },
          "shapedefaults": {
           "line": {
            "color": "#2a3f5f"
           }
          },
          "ternary": {
           "aaxis": {
            "gridcolor": "white",
            "linecolor": "white",
            "ticks": ""
           },
           "baxis": {
            "gridcolor": "white",
            "linecolor": "white",
            "ticks": ""
           },
           "bgcolor": "#E5ECF6",
           "caxis": {
            "gridcolor": "white",
            "linecolor": "white",
            "ticks": ""
           }
          },
          "title": {
           "x": 0.05
          },
          "xaxis": {
           "automargin": true,
           "gridcolor": "white",
           "linecolor": "white",
           "ticks": "",
           "title": {
            "standoff": 15
           },
           "zerolinecolor": "white",
           "zerolinewidth": 2
          },
          "yaxis": {
           "automargin": true,
           "gridcolor": "white",
           "linecolor": "white",
           "ticks": "",
           "title": {
            "standoff": 15
           },
           "zerolinecolor": "white",
           "zerolinewidth": 2
          }
         }
        },
        "title": {
         "text": "Clusters of Highly Correlated Features"
        },
        "width": 1200,
        "xaxis": {
         "showgrid": false,
         "showticklabels": false,
         "zeroline": false
        },
        "yaxis": {
         "showgrid": false,
         "showticklabels": false,
         "zeroline": false
        }
       }
      }
     },
     "metadata": {},
     "output_type": "display_data"
    }
   ],
   "source": [
    "plot_correlation_network(G_80, pos=nx.spring_layout(G_80, seed=42))"
   ]
  },
  {
   "cell_type": "code",
   "execution_count": null,
   "id": "2b94f83c",
   "metadata": {},
   "outputs": [],
   "source": []
  },
  {
   "cell_type": "code",
   "execution_count": 44,
   "id": "0f49dbd2",
   "metadata": {},
   "outputs": [],
   "source": [
    "G_90, remove_90, clusters_90 = correlation_graph_analysis(correlation_analysis, 0.9)"
   ]
  },
  {
   "cell_type": "code",
   "execution_count": 45,
   "id": "7f8947b4",
   "metadata": {},
   "outputs": [
    {
     "data": {
      "application/vnd.plotly.v1+json": {
       "config": {
        "plotlyServerURL": "https://plot.ly"
       },
       "data": [
        {
         "hoverinfo": "none",
         "line": {
          "color": "#888",
          "width": 1
         },
         "mode": "lines",
         "type": "scatter",
         "x": [
          0.4236747938636155,
          0.4423243615225703,
          null,
          -0.6873042261566543,
          -0.7321261524256069,
          null,
          -0.6873042261566543,
          -0.6519519504879354,
          null,
          -0.6873042261566543,
          -0.7233372738230144,
          null,
          -0.6873042261566543,
          -0.6817216641743348,
          null,
          -0.7321261524256069,
          -0.6519519504879354,
          null,
          -0.7321261524256069,
          -0.7233372738230144,
          null,
          -0.7321261524256069,
          -0.6817216641743348,
          null,
          -0.6519519504879354,
          -0.7233372738230144,
          null,
          -0.6519519504879354,
          -0.6817216641743348,
          null,
          -0.7233372738230144,
          -0.6817216641743348,
          null,
          0.09481559083539903,
          0.08424153330365614,
          null,
          0.09481559083539903,
          0.11253873825578647,
          null,
          0.09481559083539903,
          0.10190278248546324,
          null,
          0.09481559083539903,
          0.14469739067673232,
          null,
          0.09481559083539903,
          0.1061656173342331,
          null,
          0.09481559083539903,
          0.0866744000653605,
          null,
          0.09481559083539903,
          0.11918583530187056,
          null,
          0.09481559083539903,
          0.13509554275536517,
          null,
          0.09481559083539903,
          0.1686057583123654,
          null,
          0.09481559083539903,
          0.06055387211148361,
          null,
          0.09481559083539903,
          0.13970301678345065,
          null,
          0.09481559083539903,
          0.17104298840852183,
          null,
          0.09481559083539903,
          0.03269803854856152,
          null,
          0.09481559083539903,
          0.07728907354064535,
          null,
          0.09481559083539903,
          0.1444681710186362,
          null,
          0.08424153330365614,
          0.11253873825578647,
          null,
          0.08424153330365614,
          0.10190278248546324,
          null,
          0.08424153330365614,
          0.14469739067673232,
          null,
          0.08424153330365614,
          0.1061656173342331,
          null,
          0.08424153330365614,
          0.0866744000653605,
          null,
          0.08424153330365614,
          0.11918583530187056,
          null,
          0.08424153330365614,
          0.13509554275536517,
          null,
          0.08424153330365614,
          0.1686057583123654,
          null,
          0.08424153330365614,
          0.06055387211148361,
          null,
          0.08424153330365614,
          0.13970301678345065,
          null,
          0.08424153330365614,
          0.17104298840852183,
          null,
          0.08424153330365614,
          0.03269803854856152,
          null,
          0.08424153330365614,
          0.07728907354064535,
          null,
          0.08424153330365614,
          0.1444681710186362,
          null,
          0.11253873825578647,
          0.1061656173342331,
          null,
          0.11253873825578647,
          0.11918583530187056,
          null,
          0.11253873825578647,
          0.14469739067673232,
          null,
          0.11253873825578647,
          0.10190278248546324,
          null,
          0.11253873825578647,
          0.0866744000653605,
          null,
          0.11253873825578647,
          0.13509554275536517,
          null,
          0.11253873825578647,
          0.1686057583123654,
          null,
          0.11253873825578647,
          0.06055387211148361,
          null,
          0.11253873825578647,
          0.13970301678345065,
          null,
          0.11253873825578647,
          0.17104298840852183,
          null,
          0.11253873825578647,
          0.03269803854856152,
          null,
          0.11253873825578647,
          0.07728907354064535,
          null,
          0.11253873825578647,
          0.1444681710186362,
          null,
          0.1061656173342331,
          0.10190278248546324,
          null,
          0.1061656173342331,
          0.14469739067673232,
          null,
          0.1061656173342331,
          0.0866744000653605,
          null,
          0.1061656173342331,
          0.13509554275536517,
          null,
          0.1061656173342331,
          0.1686057583123654,
          null,
          0.1061656173342331,
          0.06055387211148361,
          null,
          0.1061656173342331,
          0.11918583530187056,
          null,
          0.1061656173342331,
          0.13970301678345065,
          null,
          0.1061656173342331,
          0.17104298840852183,
          null,
          0.1061656173342331,
          0.03269803854856152,
          null,
          0.1061656173342331,
          0.07728907354064535,
          null,
          0.1061656173342331,
          0.1444681710186362,
          null,
          0.1061656173342331,
          0.0679059819068681,
          null,
          0.10190278248546324,
          0.06055387211148361,
          null,
          0.10190278248546324,
          0.13509554275536517,
          null,
          0.10190278248546324,
          0.0866744000653605,
          null,
          0.10190278248546324,
          0.14469739067673232,
          null,
          0.10190278248546324,
          0.11918583530187056,
          null,
          0.10190278248546324,
          0.1686057583123654,
          null,
          0.10190278248546324,
          0.13970301678345065,
          null,
          0.10190278248546324,
          0.17104298840852183,
          null,
          0.10190278248546324,
          0.03269803854856152,
          null,
          0.10190278248546324,
          0.07728907354064535,
          null,
          0.14469739067673232,
          0.1686057583123654,
          null,
          0.14469739067673232,
          0.13509554275536517,
          null,
          0.14469739067673232,
          0.0866744000653605,
          null,
          0.14469739067673232,
          0.11918583530187056,
          null,
          0.14469739067673232,
          0.06055387211148361,
          null,
          0.14469739067673232,
          0.13970301678345065,
          null,
          0.14469739067673232,
          0.17104298840852183,
          null,
          0.14469739067673232,
          0.1444681710186362,
          null,
          0.14469739067673232,
          0.07728907354064535,
          null,
          0.11918583530187056,
          0.13509554275536517,
          null,
          0.11918583530187056,
          0.1686057583123654,
          null,
          0.11918583530187056,
          0.06055387211148361,
          null,
          0.11918583530187056,
          0.0866744000653605,
          null,
          0.11918583530187056,
          0.13970301678345065,
          null,
          0.11918583530187056,
          0.17104298840852183,
          null,
          0.11918583530187056,
          0.07728907354064535,
          null,
          0.11918583530187056,
          0.1444681710186362,
          null,
          0.11918583530187056,
          0.03269803854856152,
          null,
          0.0866744000653605,
          0.13509554275536517,
          null,
          0.0866744000653605,
          0.1686057583123654,
          null,
          0.0866744000653605,
          0.06055387211148361,
          null,
          0.0866744000653605,
          0.0679059819068681,
          null,
          0.0866744000653605,
          0.17104298840852183,
          null,
          0.0866744000653605,
          0.13970301678345065,
          null,
          0.0866744000653605,
          0.1444681710186362,
          null,
          0.0866744000653605,
          0.03269803854856152,
          null,
          0.0866744000653605,
          0.07728907354064535,
          null,
          0.1686057583123654,
          0.17104298840852183,
          null,
          0.1686057583123654,
          0.1444681710186362,
          null,
          0.1686057583123654,
          0.13509554275536517,
          null,
          0.1686057583123654,
          0.13970301678345065,
          null,
          0.06055387211148361,
          0.03269803854856152,
          null,
          0.06055387211148361,
          0.07728907354064535,
          null,
          0.06055387211148361,
          0.13509554275536517,
          null,
          0.06055387211148361,
          0.13970301678345065,
          null,
          0.13509554275536517,
          0.17104298840852183,
          null,
          0.13509554275536517,
          0.07728907354064535,
          null,
          0.13509554275536517,
          0.13970301678345065,
          null,
          0.0679059819068681,
          0.04006422565380986,
          null,
          0.04006422565380986,
          -0.014829229403487656,
          null,
          0.04006422565380986,
          0.06575833422911763,
          null,
          1,
          0.9887116256757826,
          null,
          -0.614981859386258,
          -0.7018653167320037,
          null
         ],
         "y": [
          0.7955215089039661,
          0.7359389794285593,
          null,
          0.3149676781976224,
          0.33968218369259495,
          null,
          0.3149676781976224,
          0.3424628923035713,
          null,
          0.3149676781976224,
          0.381565083263974,
          null,
          0.3149676781976224,
          0.38822621358523357,
          null,
          0.33968218369259495,
          0.3424628923035713,
          null,
          0.33968218369259495,
          0.381565083263974,
          null,
          0.33968218369259495,
          0.38822621358523357,
          null,
          0.3424628923035713,
          0.381565083263974,
          null,
          0.3424628923035713,
          0.38822621358523357,
          null,
          0.381565083263974,
          0.38822621358523357,
          null,
          -0.11406404731071056,
          -0.13421556155149766,
          null,
          -0.11406404731071056,
          -0.13412998469528212,
          null,
          -0.11406404731071056,
          -0.08337195189011032,
          null,
          -0.11406404731071056,
          -0.11373209886172422,
          null,
          -0.11406404731071056,
          -0.16947641257250473,
          null,
          -0.11406404731071056,
          -0.166037366646541,
          null,
          -0.11406404731071056,
          -0.1066114431486576,
          null,
          -0.11406404731071056,
          -0.07830406359918067,
          null,
          -0.11406404731071056,
          -0.14357601549065652,
          null,
          -0.11406404731071056,
          -0.10019309565077796,
          null,
          -0.11406404731071056,
          -0.1499005666262139,
          null,
          -0.11406404731071056,
          -0.10373994951560138,
          null,
          -0.11406404731071056,
          -0.13291029176616315,
          null,
          -0.11406404731071056,
          -0.06614359596677818,
          null,
          -0.11406404731071056,
          -0.19122882604753552,
          null,
          -0.13421556155149766,
          -0.13412998469528212,
          null,
          -0.13421556155149766,
          -0.08337195189011032,
          null,
          -0.13421556155149766,
          -0.11373209886172422,
          null,
          -0.13421556155149766,
          -0.16947641257250473,
          null,
          -0.13421556155149766,
          -0.166037366646541,
          null,
          -0.13421556155149766,
          -0.1066114431486576,
          null,
          -0.13421556155149766,
          -0.07830406359918067,
          null,
          -0.13421556155149766,
          -0.14357601549065652,
          null,
          -0.13421556155149766,
          -0.10019309565077796,
          null,
          -0.13421556155149766,
          -0.1499005666262139,
          null,
          -0.13421556155149766,
          -0.10373994951560138,
          null,
          -0.13421556155149766,
          -0.13291029176616315,
          null,
          -0.13421556155149766,
          -0.06614359596677818,
          null,
          -0.13421556155149766,
          -0.19122882604753552,
          null,
          -0.13412998469528212,
          -0.16947641257250473,
          null,
          -0.13412998469528212,
          -0.1066114431486576,
          null,
          -0.13412998469528212,
          -0.11373209886172422,
          null,
          -0.13412998469528212,
          -0.08337195189011032,
          null,
          -0.13412998469528212,
          -0.166037366646541,
          null,
          -0.13412998469528212,
          -0.07830406359918067,
          null,
          -0.13412998469528212,
          -0.14357601549065652,
          null,
          -0.13412998469528212,
          -0.10019309565077796,
          null,
          -0.13412998469528212,
          -0.1499005666262139,
          null,
          -0.13412998469528212,
          -0.10373994951560138,
          null,
          -0.13412998469528212,
          -0.13291029176616315,
          null,
          -0.13412998469528212,
          -0.06614359596677818,
          null,
          -0.13412998469528212,
          -0.19122882604753552,
          null,
          -0.16947641257250473,
          -0.08337195189011032,
          null,
          -0.16947641257250473,
          -0.11373209886172422,
          null,
          -0.16947641257250473,
          -0.166037366646541,
          null,
          -0.16947641257250473,
          -0.07830406359918067,
          null,
          -0.16947641257250473,
          -0.14357601549065652,
          null,
          -0.16947641257250473,
          -0.10019309565077796,
          null,
          -0.16947641257250473,
          -0.1066114431486576,
          null,
          -0.16947641257250473,
          -0.1499005666262139,
          null,
          -0.16947641257250473,
          -0.10373994951560138,
          null,
          -0.16947641257250473,
          -0.13291029176616315,
          null,
          -0.16947641257250473,
          -0.06614359596677818,
          null,
          -0.16947641257250473,
          -0.19122882604753552,
          null,
          -0.16947641257250473,
          -0.31706763385203157,
          null,
          -0.08337195189011032,
          -0.10019309565077796,
          null,
          -0.08337195189011032,
          -0.07830406359918067,
          null,
          -0.08337195189011032,
          -0.166037366646541,
          null,
          -0.08337195189011032,
          -0.11373209886172422,
          null,
          -0.08337195189011032,
          -0.1066114431486576,
          null,
          -0.08337195189011032,
          -0.14357601549065652,
          null,
          -0.08337195189011032,
          -0.1499005666262139,
          null,
          -0.08337195189011032,
          -0.10373994951560138,
          null,
          -0.08337195189011032,
          -0.13291029176616315,
          null,
          -0.08337195189011032,
          -0.06614359596677818,
          null,
          -0.11373209886172422,
          -0.14357601549065652,
          null,
          -0.11373209886172422,
          -0.07830406359918067,
          null,
          -0.11373209886172422,
          -0.166037366646541,
          null,
          -0.11373209886172422,
          -0.1066114431486576,
          null,
          -0.11373209886172422,
          -0.10019309565077796,
          null,
          -0.11373209886172422,
          -0.1499005666262139,
          null,
          -0.11373209886172422,
          -0.10373994951560138,
          null,
          -0.11373209886172422,
          -0.19122882604753552,
          null,
          -0.11373209886172422,
          -0.06614359596677818,
          null,
          -0.1066114431486576,
          -0.07830406359918067,
          null,
          -0.1066114431486576,
          -0.14357601549065652,
          null,
          -0.1066114431486576,
          -0.10019309565077796,
          null,
          -0.1066114431486576,
          -0.166037366646541,
          null,
          -0.1066114431486576,
          -0.1499005666262139,
          null,
          -0.1066114431486576,
          -0.10373994951560138,
          null,
          -0.1066114431486576,
          -0.06614359596677818,
          null,
          -0.1066114431486576,
          -0.19122882604753552,
          null,
          -0.1066114431486576,
          -0.13291029176616315,
          null,
          -0.166037366646541,
          -0.07830406359918067,
          null,
          -0.166037366646541,
          -0.14357601549065652,
          null,
          -0.166037366646541,
          -0.10019309565077796,
          null,
          -0.166037366646541,
          -0.31706763385203157,
          null,
          -0.166037366646541,
          -0.10373994951560138,
          null,
          -0.166037366646541,
          -0.1499005666262139,
          null,
          -0.166037366646541,
          -0.19122882604753552,
          null,
          -0.166037366646541,
          -0.13291029176616315,
          null,
          -0.166037366646541,
          -0.06614359596677818,
          null,
          -0.14357601549065652,
          -0.10373994951560138,
          null,
          -0.14357601549065652,
          -0.19122882604753552,
          null,
          -0.14357601549065652,
          -0.07830406359918067,
          null,
          -0.14357601549065652,
          -0.1499005666262139,
          null,
          -0.10019309565077796,
          -0.13291029176616315,
          null,
          -0.10019309565077796,
          -0.06614359596677818,
          null,
          -0.10019309565077796,
          -0.07830406359918067,
          null,
          -0.10019309565077796,
          -0.1499005666262139,
          null,
          -0.07830406359918067,
          -0.10373994951560138,
          null,
          -0.07830406359918067,
          -0.06614359596677818,
          null,
          -0.07830406359918067,
          -0.1499005666262139,
          null,
          -0.31706763385203157,
          -0.49029580401068174,
          null,
          -0.49029580401068174,
          -0.5863211510442718,
          null,
          -0.49029580401068174,
          -0.5998681278827737,
          null,
          0.30584954393520103,
          0.3672112460422618,
          null,
          0.021405613779835915,
          -0.011642955003124313,
          null
         ]
        },
        {
         "hoverinfo": "text",
         "hovertext": [
          "active_usage_months<br>Correlations:<br>zero_usage_months: 1.00",
          "zero_usage_months<br>Correlations:<br>active_usage_months: 1.00",
          "avg_delta_3mo<br>Correlations:<br>max_delta_3mo_increase: 1.00<br>max_delta_3mo_decrease: 1.00<br>last_1_delta_3mo: 1.00<br>avg_delta_1mo: 1.00",
          "max_delta_3mo_increase<br>Correlations:<br>avg_delta_3mo: 1.00<br>max_delta_3mo_decrease: 1.00<br>last_1_delta_3mo: 1.00<br>avg_delta_1mo: 1.00",
          "max_delta_3mo_decrease<br>Correlations:<br>avg_delta_3mo: 1.00<br>max_delta_3mo_increase: 1.00<br>last_1_delta_3mo: 1.00<br>avg_delta_1mo: 1.00",
          "last_1_delta_3mo<br>Correlations:<br>avg_delta_3mo: 1.00<br>max_delta_3mo_increase: 1.00<br>max_delta_3mo_decrease: 1.00<br>avg_delta_1mo: 1.00",
          "avg_monthly_usage_gb<br>Correlations:<br>total_usage_gb: 1.00<br>median_monthly_usage_gb: 0.99<br>last_2_3mo_rolling_avg: 0.99<br>last_1_3mo_rolling_avg: 0.99<br>usage_q75_gb: 0.99<br>max_monthly_usage_gb: 0.99<br>usage_q25_gb: 0.98<br>last_2_2mo_rolling_avg: 0.97<br>last_1_2mo_rolling_avg: 0.97<br>last_3_2mo_rolling_avg: 0.97<br>min_monthly_usage_gb: 0.95<br>last_3_month_usage_gb: 0.93<br>last_1_month_usage_gb: 0.93<br>last_2_month_usage_gb: 0.93<br>last_4_month_usage_gb: 0.93",
          "total_usage_gb<br>Correlations:<br>avg_monthly_usage_gb: 1.00<br>median_monthly_usage_gb: 0.99<br>last_2_3mo_rolling_avg: 0.99<br>last_1_3mo_rolling_avg: 0.99<br>usage_q75_gb: 0.99<br>max_monthly_usage_gb: 0.99<br>usage_q25_gb: 0.98<br>last_2_2mo_rolling_avg: 0.97<br>last_1_2mo_rolling_avg: 0.97<br>last_3_2mo_rolling_avg: 0.97<br>min_monthly_usage_gb: 0.95<br>last_3_month_usage_gb: 0.93<br>last_1_month_usage_gb: 0.93<br>last_2_month_usage_gb: 0.93<br>last_4_month_usage_gb: 0.93",
          "avg_delta_1mo<br>Correlations:<br>avg_delta_3mo: 1.00<br>max_delta_3mo_increase: 1.00<br>max_delta_3mo_decrease: 1.00<br>last_1_delta_3mo: 1.00",
          "median_monthly_usage_gb<br>Correlations:<br>avg_monthly_usage_gb: 0.99<br>total_usage_gb: 0.99<br>usage_q75_gb: 0.99<br>usage_q25_gb: 0.99<br>last_1_3mo_rolling_avg: 0.99<br>last_2_3mo_rolling_avg: 0.99<br>max_monthly_usage_gb: 0.97<br>last_2_2mo_rolling_avg: 0.97<br>last_1_2mo_rolling_avg: 0.97<br>last_3_2mo_rolling_avg: 0.97<br>min_monthly_usage_gb: 0.94<br>last_3_month_usage_gb: 0.92<br>last_1_month_usage_gb: 0.92<br>last_2_month_usage_gb: 0.92<br>last_4_month_usage_gb: 0.92",
          "usage_q75_gb<br>Correlations:<br>median_monthly_usage_gb: 0.99<br>total_usage_gb: 0.99<br>avg_monthly_usage_gb: 0.99<br>last_2_3mo_rolling_avg: 0.98<br>last_1_3mo_rolling_avg: 0.98<br>max_monthly_usage_gb: 0.97<br>last_2_2mo_rolling_avg: 0.96<br>last_1_2mo_rolling_avg: 0.96<br>last_3_2mo_rolling_avg: 0.96<br>usage_q25_gb: 0.96<br>min_monthly_usage_gb: 0.92<br>last_3_month_usage_gb: 0.92<br>last_1_month_usage_gb: 0.92<br>last_2_month_usage_gb: 0.92<br>last_4_month_usage_gb: 0.92<br>usage_std_gb: 0.90",
          "last_2_3mo_rolling_avg<br>Correlations:<br>avg_monthly_usage_gb: 0.99<br>total_usage_gb: 0.99<br>median_monthly_usage_gb: 0.99<br>last_3_2mo_rolling_avg: 0.98<br>last_2_2mo_rolling_avg: 0.98<br>usage_q75_gb: 0.98<br>max_monthly_usage_gb: 0.98<br>last_1_3mo_rolling_avg: 0.98<br>usage_q25_gb: 0.97<br>last_1_2mo_rolling_avg: 0.95<br>min_monthly_usage_gb: 0.95<br>last_3_month_usage_gb: 0.94<br>last_1_month_usage_gb: 0.94<br>last_2_month_usage_gb: 0.94",
          "last_1_3mo_rolling_avg<br>Correlations:<br>total_usage_gb: 0.99<br>avg_monthly_usage_gb: 0.99<br>median_monthly_usage_gb: 0.99<br>last_1_2mo_rolling_avg: 0.98<br>last_2_2mo_rolling_avg: 0.98<br>usage_q75_gb: 0.98<br>max_monthly_usage_gb: 0.98<br>last_2_3mo_rolling_avg: 0.98<br>usage_q25_gb: 0.97<br>last_3_2mo_rolling_avg: 0.95<br>min_monthly_usage_gb: 0.95<br>last_3_month_usage_gb: 0.94<br>last_4_month_usage_gb: 0.94<br>last_2_month_usage_gb: 0.93",
          "usage_q25_gb<br>Correlations:<br>median_monthly_usage_gb: 0.99<br>avg_monthly_usage_gb: 0.98<br>total_usage_gb: 0.98<br>last_1_3mo_rolling_avg: 0.97<br>last_2_3mo_rolling_avg: 0.97<br>usage_q75_gb: 0.96<br>last_2_2mo_rolling_avg: 0.96<br>last_1_2mo_rolling_avg: 0.95<br>last_3_2mo_rolling_avg: 0.95<br>max_monthly_usage_gb: 0.94<br>min_monthly_usage_gb: 0.94<br>last_3_month_usage_gb: 0.91<br>last_2_month_usage_gb: 0.91<br>last_4_month_usage_gb: 0.91<br>last_1_month_usage_gb: 0.91",
          "max_monthly_usage_gb<br>Correlations:<br>total_usage_gb: 0.99<br>avg_monthly_usage_gb: 0.99<br>last_1_3mo_rolling_avg: 0.98<br>last_2_3mo_rolling_avg: 0.98<br>usage_q75_gb: 0.97<br>median_monthly_usage_gb: 0.97<br>last_2_2mo_rolling_avg: 0.96<br>last_1_2mo_rolling_avg: 0.96<br>last_3_2mo_rolling_avg: 0.96<br>usage_q25_gb: 0.94<br>usage_std_gb: 0.94<br>last_3_month_usage_gb: 0.91<br>min_monthly_usage_gb: 0.91<br>last_4_month_usage_gb: 0.91<br>last_1_month_usage_gb: 0.91<br>last_2_month_usage_gb: 0.91",
          "last_1_2mo_rolling_avg<br>Correlations:<br>last_1_3mo_rolling_avg: 0.98<br>total_usage_gb: 0.97<br>avg_monthly_usage_gb: 0.97<br>median_monthly_usage_gb: 0.97<br>usage_q75_gb: 0.96<br>max_monthly_usage_gb: 0.96<br>usage_q25_gb: 0.95<br>last_3_month_usage_gb: 0.95<br>last_4_month_usage_gb: 0.95<br>last_2_2mo_rolling_avg: 0.95<br>last_2_3mo_rolling_avg: 0.95<br>min_monthly_usage_gb: 0.93",
          "last_3_2mo_rolling_avg<br>Correlations:<br>last_2_3mo_rolling_avg: 0.98<br>avg_monthly_usage_gb: 0.97<br>total_usage_gb: 0.97<br>median_monthly_usage_gb: 0.97<br>usage_q75_gb: 0.96<br>max_monthly_usage_gb: 0.96<br>usage_q25_gb: 0.95<br>last_1_month_usage_gb: 0.95<br>last_2_month_usage_gb: 0.95<br>last_2_2mo_rolling_avg: 0.95<br>last_1_3mo_rolling_avg: 0.95<br>min_monthly_usage_gb: 0.93",
          "last_2_2mo_rolling_avg<br>Correlations:<br>last_1_3mo_rolling_avg: 0.98<br>last_2_3mo_rolling_avg: 0.98<br>avg_monthly_usage_gb: 0.97<br>total_usage_gb: 0.97<br>median_monthly_usage_gb: 0.97<br>usage_q75_gb: 0.96<br>max_monthly_usage_gb: 0.96<br>usage_q25_gb: 0.96<br>last_3_month_usage_gb: 0.95<br>last_2_month_usage_gb: 0.95<br>last_3_2mo_rolling_avg: 0.95<br>last_1_2mo_rolling_avg: 0.95<br>min_monthly_usage_gb: 0.93",
          "min_monthly_usage_gb<br>Correlations:<br>avg_monthly_usage_gb: 0.95<br>total_usage_gb: 0.95<br>last_2_3mo_rolling_avg: 0.95<br>last_1_3mo_rolling_avg: 0.95<br>usage_q25_gb: 0.94<br>median_monthly_usage_gb: 0.94<br>last_2_2mo_rolling_avg: 0.93<br>last_3_2mo_rolling_avg: 0.93<br>last_1_2mo_rolling_avg: 0.93<br>usage_q75_gb: 0.92<br>max_monthly_usage_gb: 0.91",
          "last_3_month_usage_gb<br>Correlations:<br>last_1_2mo_rolling_avg: 0.95<br>last_2_2mo_rolling_avg: 0.95<br>last_1_3mo_rolling_avg: 0.94<br>last_2_3mo_rolling_avg: 0.94<br>total_usage_gb: 0.93<br>avg_monthly_usage_gb: 0.93<br>median_monthly_usage_gb: 0.92<br>usage_q75_gb: 0.92<br>max_monthly_usage_gb: 0.91<br>usage_q25_gb: 0.91",
          "last_4_month_usage_gb<br>Correlations:<br>last_1_2mo_rolling_avg: 0.95<br>last_1_3mo_rolling_avg: 0.94<br>total_usage_gb: 0.93<br>avg_monthly_usage_gb: 0.93<br>median_monthly_usage_gb: 0.92<br>usage_q75_gb: 0.92<br>max_monthly_usage_gb: 0.91<br>usage_q25_gb: 0.91",
          "last_1_month_usage_gb<br>Correlations:<br>last_3_2mo_rolling_avg: 0.95<br>last_2_3mo_rolling_avg: 0.94<br>total_usage_gb: 0.93<br>avg_monthly_usage_gb: 0.93<br>median_monthly_usage_gb: 0.92<br>usage_q75_gb: 0.92<br>max_monthly_usage_gb: 0.91<br>usage_q25_gb: 0.91",
          "last_2_month_usage_gb<br>Correlations:<br>last_2_2mo_rolling_avg: 0.95<br>last_3_2mo_rolling_avg: 0.95<br>last_2_3mo_rolling_avg: 0.94<br>last_1_3mo_rolling_avg: 0.93<br>avg_monthly_usage_gb: 0.93<br>total_usage_gb: 0.93<br>median_monthly_usage_gb: 0.92<br>usage_q75_gb: 0.92<br>max_monthly_usage_gb: 0.91<br>usage_q25_gb: 0.91",
          "usage_std_gb<br>Correlations:<br>max_monthly_usage_gb: 0.94<br>delta_1mo_volatility: 0.94<br>usage_q75_gb: 0.90",
          "delta_1mo_volatility<br>Correlations:<br>usage_std_gb: 0.94<br>max_delta_1mo_decrease: 0.92<br>max_delta_1mo_increase: 0.92",
          "months_with_delta_3mo_decrease<br>Correlations:<br>months_with_delta_3mo_increase: 0.94",
          "months_with_delta_3mo_increase<br>Correlations:<br>months_with_delta_3mo_decrease: 0.94",
          "months_with_delta_2mo_decrease<br>Correlations:<br>months_with_delta_2mo_increase: 0.93",
          "months_with_delta_2mo_increase<br>Correlations:<br>months_with_delta_2mo_decrease: 0.93",
          "max_delta_1mo_decrease<br>Correlations:<br>delta_1mo_volatility: 0.92",
          "max_delta_1mo_increase<br>Correlations:<br>delta_1mo_volatility: 0.92"
         ],
         "marker": {
          "color": "#87ceeb",
          "line": {
           "width": 2
          },
          "showscale": false,
          "size": 20
         },
         "mode": "markers+text",
         "text": [
          "active_usage_months",
          "zero_usage_months",
          "avg_delta_3mo",
          "max_delta_3mo_increase",
          "max_delta_3mo_decrease",
          "last_1_delta_3mo",
          "avg_monthly_usage_gb",
          "total_usage_gb",
          "avg_delta_1mo",
          "median_monthly_usage_gb",
          "usage_q75_gb",
          "last_2_3mo_rolling_avg",
          "last_1_3mo_rolling_avg",
          "usage_q25_gb",
          "max_monthly_usage_gb",
          "last_1_2mo_rolling_avg",
          "last_3_2mo_rolling_avg",
          "last_2_2mo_rolling_avg",
          "min_monthly_usage_gb",
          "last_3_month_usage_gb",
          "last_4_month_usage_gb",
          "last_1_month_usage_gb",
          "last_2_month_usage_gb",
          "usage_std_gb",
          "delta_1mo_volatility",
          "months_with_delta_3mo_decrease",
          "months_with_delta_3mo_increase",
          "months_with_delta_2mo_decrease",
          "months_with_delta_2mo_increase",
          "max_delta_1mo_decrease",
          "max_delta_1mo_increase"
         ],
         "textposition": "top center",
         "type": "scatter",
         "x": [
          0.4236747938636155,
          0.4423243615225703,
          -0.6873042261566543,
          -0.7321261524256069,
          -0.6519519504879354,
          -0.7233372738230144,
          0.09481559083539903,
          0.08424153330365614,
          -0.6817216641743348,
          0.11253873825578647,
          0.1061656173342331,
          0.10190278248546324,
          0.14469739067673232,
          0.11918583530187056,
          0.0866744000653605,
          0.1686057583123654,
          0.06055387211148361,
          0.13509554275536517,
          0.13970301678345065,
          0.17104298840852183,
          0.1444681710186362,
          0.03269803854856152,
          0.07728907354064535,
          0.0679059819068681,
          0.04006422565380986,
          1,
          0.9887116256757826,
          -0.614981859386258,
          -0.7018653167320037,
          -0.014829229403487656,
          0.06575833422911763
         ],
         "y": [
          0.7955215089039661,
          0.7359389794285593,
          0.3149676781976224,
          0.33968218369259495,
          0.3424628923035713,
          0.381565083263974,
          -0.11406404731071056,
          -0.13421556155149766,
          0.38822621358523357,
          -0.13412998469528212,
          -0.16947641257250473,
          -0.08337195189011032,
          -0.11373209886172422,
          -0.1066114431486576,
          -0.166037366646541,
          -0.14357601549065652,
          -0.10019309565077796,
          -0.07830406359918067,
          -0.1499005666262139,
          -0.10373994951560138,
          -0.19122882604753552,
          -0.13291029176616315,
          -0.06614359596677818,
          -0.31706763385203157,
          -0.49029580401068174,
          0.30584954393520103,
          0.3672112460422618,
          0.021405613779835915,
          -0.011642955003124313,
          -0.5863211510442718,
          -0.5998681278827737
         ]
        }
       ],
       "layout": {
        "height": 800,
        "hovermode": "closest",
        "margin": {
         "b": 20,
         "l": 5,
         "r": 5,
         "t": 40
        },
        "showlegend": false,
        "template": {
         "data": {
          "bar": [
           {
            "error_x": {
             "color": "#2a3f5f"
            },
            "error_y": {
             "color": "#2a3f5f"
            },
            "marker": {
             "line": {
              "color": "#E5ECF6",
              "width": 0.5
             },
             "pattern": {
              "fillmode": "overlay",
              "size": 10,
              "solidity": 0.2
             }
            },
            "type": "bar"
           }
          ],
          "barpolar": [
           {
            "marker": {
             "line": {
              "color": "#E5ECF6",
              "width": 0.5
             },
             "pattern": {
              "fillmode": "overlay",
              "size": 10,
              "solidity": 0.2
             }
            },
            "type": "barpolar"
           }
          ],
          "carpet": [
           {
            "aaxis": {
             "endlinecolor": "#2a3f5f",
             "gridcolor": "white",
             "linecolor": "white",
             "minorgridcolor": "white",
             "startlinecolor": "#2a3f5f"
            },
            "baxis": {
             "endlinecolor": "#2a3f5f",
             "gridcolor": "white",
             "linecolor": "white",
             "minorgridcolor": "white",
             "startlinecolor": "#2a3f5f"
            },
            "type": "carpet"
           }
          ],
          "choropleth": [
           {
            "colorbar": {
             "outlinewidth": 0,
             "ticks": ""
            },
            "type": "choropleth"
           }
          ],
          "contour": [
           {
            "colorbar": {
             "outlinewidth": 0,
             "ticks": ""
            },
            "colorscale": [
             [
              0,
              "#0d0887"
             ],
             [
              0.1111111111111111,
              "#46039f"
             ],
             [
              0.2222222222222222,
              "#7201a8"
             ],
             [
              0.3333333333333333,
              "#9c179e"
             ],
             [
              0.4444444444444444,
              "#bd3786"
             ],
             [
              0.5555555555555556,
              "#d8576b"
             ],
             [
              0.6666666666666666,
              "#ed7953"
             ],
             [
              0.7777777777777778,
              "#fb9f3a"
             ],
             [
              0.8888888888888888,
              "#fdca26"
             ],
             [
              1,
              "#f0f921"
             ]
            ],
            "type": "contour"
           }
          ],
          "contourcarpet": [
           {
            "colorbar": {
             "outlinewidth": 0,
             "ticks": ""
            },
            "type": "contourcarpet"
           }
          ],
          "heatmap": [
           {
            "colorbar": {
             "outlinewidth": 0,
             "ticks": ""
            },
            "colorscale": [
             [
              0,
              "#0d0887"
             ],
             [
              0.1111111111111111,
              "#46039f"
             ],
             [
              0.2222222222222222,
              "#7201a8"
             ],
             [
              0.3333333333333333,
              "#9c179e"
             ],
             [
              0.4444444444444444,
              "#bd3786"
             ],
             [
              0.5555555555555556,
              "#d8576b"
             ],
             [
              0.6666666666666666,
              "#ed7953"
             ],
             [
              0.7777777777777778,
              "#fb9f3a"
             ],
             [
              0.8888888888888888,
              "#fdca26"
             ],
             [
              1,
              "#f0f921"
             ]
            ],
            "type": "heatmap"
           }
          ],
          "histogram": [
           {
            "marker": {
             "pattern": {
              "fillmode": "overlay",
              "size": 10,
              "solidity": 0.2
             }
            },
            "type": "histogram"
           }
          ],
          "histogram2d": [
           {
            "colorbar": {
             "outlinewidth": 0,
             "ticks": ""
            },
            "colorscale": [
             [
              0,
              "#0d0887"
             ],
             [
              0.1111111111111111,
              "#46039f"
             ],
             [
              0.2222222222222222,
              "#7201a8"
             ],
             [
              0.3333333333333333,
              "#9c179e"
             ],
             [
              0.4444444444444444,
              "#bd3786"
             ],
             [
              0.5555555555555556,
              "#d8576b"
             ],
             [
              0.6666666666666666,
              "#ed7953"
             ],
             [
              0.7777777777777778,
              "#fb9f3a"
             ],
             [
              0.8888888888888888,
              "#fdca26"
             ],
             [
              1,
              "#f0f921"
             ]
            ],
            "type": "histogram2d"
           }
          ],
          "histogram2dcontour": [
           {
            "colorbar": {
             "outlinewidth": 0,
             "ticks": ""
            },
            "colorscale": [
             [
              0,
              "#0d0887"
             ],
             [
              0.1111111111111111,
              "#46039f"
             ],
             [
              0.2222222222222222,
              "#7201a8"
             ],
             [
              0.3333333333333333,
              "#9c179e"
             ],
             [
              0.4444444444444444,
              "#bd3786"
             ],
             [
              0.5555555555555556,
              "#d8576b"
             ],
             [
              0.6666666666666666,
              "#ed7953"
             ],
             [
              0.7777777777777778,
              "#fb9f3a"
             ],
             [
              0.8888888888888888,
              "#fdca26"
             ],
             [
              1,
              "#f0f921"
             ]
            ],
            "type": "histogram2dcontour"
           }
          ],
          "mesh3d": [
           {
            "colorbar": {
             "outlinewidth": 0,
             "ticks": ""
            },
            "type": "mesh3d"
           }
          ],
          "parcoords": [
           {
            "line": {
             "colorbar": {
              "outlinewidth": 0,
              "ticks": ""
             }
            },
            "type": "parcoords"
           }
          ],
          "pie": [
           {
            "automargin": true,
            "type": "pie"
           }
          ],
          "scatter": [
           {
            "fillpattern": {
             "fillmode": "overlay",
             "size": 10,
             "solidity": 0.2
            },
            "type": "scatter"
           }
          ],
          "scatter3d": [
           {
            "line": {
             "colorbar": {
              "outlinewidth": 0,
              "ticks": ""
             }
            },
            "marker": {
             "colorbar": {
              "outlinewidth": 0,
              "ticks": ""
             }
            },
            "type": "scatter3d"
           }
          ],
          "scattercarpet": [
           {
            "marker": {
             "colorbar": {
              "outlinewidth": 0,
              "ticks": ""
             }
            },
            "type": "scattercarpet"
           }
          ],
          "scattergeo": [
           {
            "marker": {
             "colorbar": {
              "outlinewidth": 0,
              "ticks": ""
             }
            },
            "type": "scattergeo"
           }
          ],
          "scattergl": [
           {
            "marker": {
             "colorbar": {
              "outlinewidth": 0,
              "ticks": ""
             }
            },
            "type": "scattergl"
           }
          ],
          "scattermap": [
           {
            "marker": {
             "colorbar": {
              "outlinewidth": 0,
              "ticks": ""
             }
            },
            "type": "scattermap"
           }
          ],
          "scattermapbox": [
           {
            "marker": {
             "colorbar": {
              "outlinewidth": 0,
              "ticks": ""
             }
            },
            "type": "scattermapbox"
           }
          ],
          "scatterpolar": [
           {
            "marker": {
             "colorbar": {
              "outlinewidth": 0,
              "ticks": ""
             }
            },
            "type": "scatterpolar"
           }
          ],
          "scatterpolargl": [
           {
            "marker": {
             "colorbar": {
              "outlinewidth": 0,
              "ticks": ""
             }
            },
            "type": "scatterpolargl"
           }
          ],
          "scatterternary": [
           {
            "marker": {
             "colorbar": {
              "outlinewidth": 0,
              "ticks": ""
             }
            },
            "type": "scatterternary"
           }
          ],
          "surface": [
           {
            "colorbar": {
             "outlinewidth": 0,
             "ticks": ""
            },
            "colorscale": [
             [
              0,
              "#0d0887"
             ],
             [
              0.1111111111111111,
              "#46039f"
             ],
             [
              0.2222222222222222,
              "#7201a8"
             ],
             [
              0.3333333333333333,
              "#9c179e"
             ],
             [
              0.4444444444444444,
              "#bd3786"
             ],
             [
              0.5555555555555556,
              "#d8576b"
             ],
             [
              0.6666666666666666,
              "#ed7953"
             ],
             [
              0.7777777777777778,
              "#fb9f3a"
             ],
             [
              0.8888888888888888,
              "#fdca26"
             ],
             [
              1,
              "#f0f921"
             ]
            ],
            "type": "surface"
           }
          ],
          "table": [
           {
            "cells": {
             "fill": {
              "color": "#EBF0F8"
             },
             "line": {
              "color": "white"
             }
            },
            "header": {
             "fill": {
              "color": "#C8D4E3"
             },
             "line": {
              "color": "white"
             }
            },
            "type": "table"
           }
          ]
         },
         "layout": {
          "annotationdefaults": {
           "arrowcolor": "#2a3f5f",
           "arrowhead": 0,
           "arrowwidth": 1
          },
          "autotypenumbers": "strict",
          "coloraxis": {
           "colorbar": {
            "outlinewidth": 0,
            "ticks": ""
           }
          },
          "colorscale": {
           "diverging": [
            [
             0,
             "#8e0152"
            ],
            [
             0.1,
             "#c51b7d"
            ],
            [
             0.2,
             "#de77ae"
            ],
            [
             0.3,
             "#f1b6da"
            ],
            [
             0.4,
             "#fde0ef"
            ],
            [
             0.5,
             "#f7f7f7"
            ],
            [
             0.6,
             "#e6f5d0"
            ],
            [
             0.7,
             "#b8e186"
            ],
            [
             0.8,
             "#7fbc41"
            ],
            [
             0.9,
             "#4d9221"
            ],
            [
             1,
             "#276419"
            ]
           ],
           "sequential": [
            [
             0,
             "#0d0887"
            ],
            [
             0.1111111111111111,
             "#46039f"
            ],
            [
             0.2222222222222222,
             "#7201a8"
            ],
            [
             0.3333333333333333,
             "#9c179e"
            ],
            [
             0.4444444444444444,
             "#bd3786"
            ],
            [
             0.5555555555555556,
             "#d8576b"
            ],
            [
             0.6666666666666666,
             "#ed7953"
            ],
            [
             0.7777777777777778,
             "#fb9f3a"
            ],
            [
             0.8888888888888888,
             "#fdca26"
            ],
            [
             1,
             "#f0f921"
            ]
           ],
           "sequentialminus": [
            [
             0,
             "#0d0887"
            ],
            [
             0.1111111111111111,
             "#46039f"
            ],
            [
             0.2222222222222222,
             "#7201a8"
            ],
            [
             0.3333333333333333,
             "#9c179e"
            ],
            [
             0.4444444444444444,
             "#bd3786"
            ],
            [
             0.5555555555555556,
             "#d8576b"
            ],
            [
             0.6666666666666666,
             "#ed7953"
            ],
            [
             0.7777777777777778,
             "#fb9f3a"
            ],
            [
             0.8888888888888888,
             "#fdca26"
            ],
            [
             1,
             "#f0f921"
            ]
           ]
          },
          "colorway": [
           "#636efa",
           "#EF553B",
           "#00cc96",
           "#ab63fa",
           "#FFA15A",
           "#19d3f3",
           "#FF6692",
           "#B6E880",
           "#FF97FF",
           "#FECB52"
          ],
          "font": {
           "color": "#2a3f5f"
          },
          "geo": {
           "bgcolor": "white",
           "lakecolor": "white",
           "landcolor": "#E5ECF6",
           "showlakes": true,
           "showland": true,
           "subunitcolor": "white"
          },
          "hoverlabel": {
           "align": "left"
          },
          "hovermode": "closest",
          "mapbox": {
           "style": "light"
          },
          "paper_bgcolor": "white",
          "plot_bgcolor": "#E5ECF6",
          "polar": {
           "angularaxis": {
            "gridcolor": "white",
            "linecolor": "white",
            "ticks": ""
           },
           "bgcolor": "#E5ECF6",
           "radialaxis": {
            "gridcolor": "white",
            "linecolor": "white",
            "ticks": ""
           }
          },
          "scene": {
           "xaxis": {
            "backgroundcolor": "#E5ECF6",
            "gridcolor": "white",
            "gridwidth": 2,
            "linecolor": "white",
            "showbackground": true,
            "ticks": "",
            "zerolinecolor": "white"
           },
           "yaxis": {
            "backgroundcolor": "#E5ECF6",
            "gridcolor": "white",
            "gridwidth": 2,
            "linecolor": "white",
            "showbackground": true,
            "ticks": "",
            "zerolinecolor": "white"
           },
           "zaxis": {
            "backgroundcolor": "#E5ECF6",
            "gridcolor": "white",
            "gridwidth": 2,
            "linecolor": "white",
            "showbackground": true,
            "ticks": "",
            "zerolinecolor": "white"
           }
          },
          "shapedefaults": {
           "line": {
            "color": "#2a3f5f"
           }
          },
          "ternary": {
           "aaxis": {
            "gridcolor": "white",
            "linecolor": "white",
            "ticks": ""
           },
           "baxis": {
            "gridcolor": "white",
            "linecolor": "white",
            "ticks": ""
           },
           "bgcolor": "#E5ECF6",
           "caxis": {
            "gridcolor": "white",
            "linecolor": "white",
            "ticks": ""
           }
          },
          "title": {
           "x": 0.05
          },
          "xaxis": {
           "automargin": true,
           "gridcolor": "white",
           "linecolor": "white",
           "ticks": "",
           "title": {
            "standoff": 15
           },
           "zerolinecolor": "white",
           "zerolinewidth": 2
          },
          "yaxis": {
           "automargin": true,
           "gridcolor": "white",
           "linecolor": "white",
           "ticks": "",
           "title": {
            "standoff": 15
           },
           "zerolinecolor": "white",
           "zerolinewidth": 2
          }
         }
        },
        "title": {
         "text": "Clusters of Highly Correlated Features"
        },
        "width": 1200,
        "xaxis": {
         "showgrid": false,
         "showticklabels": false,
         "zeroline": false
        },
        "yaxis": {
         "showgrid": false,
         "showticklabels": false,
         "zeroline": false
        }
       }
      }
     },
     "metadata": {},
     "output_type": "display_data"
    }
   ],
   "source": [
    "plot_correlation_network(G_90, pos=nx.spring_layout(G_90, seed=42))"
   ]
  },
  {
   "cell_type": "code",
   "execution_count": null,
   "id": "50a3f17b",
   "metadata": {},
   "outputs": [],
   "source": []
  },
  {
   "cell_type": "code",
   "execution_count": 46,
   "id": "15cde223",
   "metadata": {},
   "outputs": [],
   "source": [
    "G_95, remove_95, clusters_95 = correlation_graph_analysis(correlation_analysis, 0.95)"
   ]
  },
  {
   "cell_type": "code",
   "execution_count": 47,
   "id": "92fe285c",
   "metadata": {},
   "outputs": [
    {
     "data": {
      "application/vnd.plotly.v1+json": {
       "config": {
        "plotlyServerURL": "https://plot.ly"
       },
       "data": [
        {
         "hoverinfo": "none",
         "line": {
          "color": "#888",
          "width": 1
         },
         "mode": "lines",
         "type": "scatter",
         "x": [
          0.5972809226293299,
          0.6441155962582179,
          null,
          -0.9469554944720102,
          -1,
          null,
          -0.9469554944720102,
          -0.8943289043742217,
          null,
          -0.9469554944720102,
          -0.9997167084766153,
          null,
          -0.9469554944720102,
          -0.9380941272546799,
          null,
          -1,
          -0.8943289043742217,
          null,
          -1,
          -0.9997167084766153,
          null,
          -1,
          -0.9380941272546799,
          null,
          -0.8943289043742217,
          -0.9997167084766153,
          null,
          -0.8943289043742217,
          -0.9380941272546799,
          null,
          -0.9997167084766153,
          -0.9380941272546799,
          null,
          0.23851537337692189,
          0.20511495520936182,
          null,
          0.23851537337692189,
          0.21546984097185984,
          null,
          0.23851537337692189,
          0.17748783901422843,
          null,
          0.23851537337692189,
          0.14116068178441865,
          null,
          0.23851537337692189,
          0.1844496438083813,
          null,
          0.23851537337692189,
          0.13727634949758968,
          null,
          0.23851537337692189,
          0.15449802719035954,
          null,
          0.23851537337692189,
          0.26999994692532703,
          null,
          0.23851537337692189,
          0.1832249957464534,
          null,
          0.23851537337692189,
          0.23787633344516915,
          null,
          0.23851537337692189,
          0.2710914268911363,
          null,
          0.20511495520936182,
          0.21546984097185984,
          null,
          0.20511495520936182,
          0.17748783901422843,
          null,
          0.20511495520936182,
          0.14116068178441865,
          null,
          0.20511495520936182,
          0.1844496438083813,
          null,
          0.20511495520936182,
          0.13727634949758968,
          null,
          0.20511495520936182,
          0.15449802719035954,
          null,
          0.20511495520936182,
          0.26999994692532703,
          null,
          0.20511495520936182,
          0.1832249957464534,
          null,
          0.20511495520936182,
          0.23787633344516915,
          null,
          0.20511495520936182,
          0.2710914268911363,
          null,
          0.21546984097185984,
          0.1844496438083813,
          null,
          0.21546984097185984,
          0.15449802719035954,
          null,
          0.21546984097185984,
          0.14116068178441865,
          null,
          0.21546984097185984,
          0.17748783901422843,
          null,
          0.21546984097185984,
          0.13727634949758968,
          null,
          0.21546984097185984,
          0.26999994692532703,
          null,
          0.21546984097185984,
          0.1832249957464534,
          null,
          0.21546984097185984,
          0.23787633344516915,
          null,
          0.1844496438083813,
          0.17748783901422843,
          null,
          0.1844496438083813,
          0.14116068178441865,
          null,
          0.1844496438083813,
          0.13727634949758968,
          null,
          0.1844496438083813,
          0.26999994692532703,
          null,
          0.1844496438083813,
          0.1832249957464534,
          null,
          0.1844496438083813,
          0.23787633344516915,
          null,
          0.1844496438083813,
          0.15449802719035954,
          null,
          0.17748783901422843,
          0.23787633344516915,
          null,
          0.17748783901422843,
          0.26999994692532703,
          null,
          0.17748783901422843,
          0.13727634949758968,
          null,
          0.17748783901422843,
          0.14116068178441865,
          null,
          0.17748783901422843,
          0.15449802719035954,
          null,
          0.14116068178441865,
          0.1832249957464534,
          null,
          0.14116068178441865,
          0.26999994692532703,
          null,
          0.14116068178441865,
          0.13727634949758968,
          null,
          0.14116068178441865,
          0.15449802719035954,
          null,
          0.15449802719035954,
          0.26999994692532703,
          null,
          0.15449802719035954,
          0.1832249957464534,
          null,
          0.15449802719035954,
          0.23787633344516915,
          null,
          0.13727634949758968,
          0.26999994692532703,
          null,
          0.13727634949758968,
          0.1832249957464534,
          null,
          0.13727634949758968,
          0.23787633344516915,
          null,
          0.1832249957464534,
          0.34501843455856557,
          null,
          0.1832249957464534,
          0.129468273920608,
          null,
          0.23787633344516915,
          0.276339001764385,
          null,
          0.23787633344516915,
          0.3707075915852134,
          null,
          0.26999994692532703,
          0.34501843455856557,
          null,
          0.26999994692532703,
          0.3707075915852134,
          null
         ],
         "y": [
          0.9463439505836685,
          0.8709324754991593,
          null,
          0.1390098830654882,
          0.16065817771250152,
          null,
          0.1390098830654882,
          0.18282641763209304,
          null,
          0.1390098830654882,
          0.22460875939900235,
          null,
          0.1390098830654882,
          0.23822194731101354,
          null,
          0.16065817771250152,
          0.18282641763209304,
          null,
          0.16065817771250152,
          0.22460875939900235,
          null,
          0.16065817771250152,
          0.23822194731101354,
          null,
          0.18282641763209304,
          0.22460875939900235,
          null,
          0.18282641763209304,
          0.23822194731101354,
          null,
          0.22460875939900235,
          0.23822194731101354,
          null,
          -0.19660139509190955,
          -0.20943751317356227,
          null,
          -0.19660139509190955,
          -0.13689788063251482,
          null,
          -0.19660139509190955,
          -0.09168599029137786,
          null,
          -0.19660139509190955,
          -0.20596090173653567,
          null,
          -0.19660139509190955,
          -0.16401485043186695,
          null,
          -0.19660139509190955,
          -0.1596410804297656,
          null,
          -0.19660139509190955,
          -0.1274115507273526,
          null,
          -0.19660139509190955,
          -0.1488262852218742,
          null,
          -0.19660139509190955,
          -0.27236997127577806,
          null,
          -0.19660139509190955,
          -0.05959146909484181,
          null,
          -0.19660139509190955,
          -0.33986815645931423,
          null,
          -0.20943751317356227,
          -0.13689788063251482,
          null,
          -0.20943751317356227,
          -0.09168599029137786,
          null,
          -0.20943751317356227,
          -0.20596090173653567,
          null,
          -0.20943751317356227,
          -0.16401485043186695,
          null,
          -0.20943751317356227,
          -0.1596410804297656,
          null,
          -0.20943751317356227,
          -0.1274115507273526,
          null,
          -0.20943751317356227,
          -0.1488262852218742,
          null,
          -0.20943751317356227,
          -0.27236997127577806,
          null,
          -0.20943751317356227,
          -0.05959146909484181,
          null,
          -0.20943751317356227,
          -0.33986815645931423,
          null,
          -0.13689788063251482,
          -0.16401485043186695,
          null,
          -0.13689788063251482,
          -0.1274115507273526,
          null,
          -0.13689788063251482,
          -0.20596090173653567,
          null,
          -0.13689788063251482,
          -0.09168599029137786,
          null,
          -0.13689788063251482,
          -0.1596410804297656,
          null,
          -0.13689788063251482,
          -0.1488262852218742,
          null,
          -0.13689788063251482,
          -0.27236997127577806,
          null,
          -0.13689788063251482,
          -0.05959146909484181,
          null,
          -0.16401485043186695,
          -0.09168599029137786,
          null,
          -0.16401485043186695,
          -0.20596090173653567,
          null,
          -0.16401485043186695,
          -0.1596410804297656,
          null,
          -0.16401485043186695,
          -0.1488262852218742,
          null,
          -0.16401485043186695,
          -0.27236997127577806,
          null,
          -0.16401485043186695,
          -0.05959146909484181,
          null,
          -0.16401485043186695,
          -0.1274115507273526,
          null,
          -0.09168599029137786,
          -0.05959146909484181,
          null,
          -0.09168599029137786,
          -0.1488262852218742,
          null,
          -0.09168599029137786,
          -0.1596410804297656,
          null,
          -0.09168599029137786,
          -0.20596090173653567,
          null,
          -0.09168599029137786,
          -0.1274115507273526,
          null,
          -0.20596090173653567,
          -0.27236997127577806,
          null,
          -0.20596090173653567,
          -0.1488262852218742,
          null,
          -0.20596090173653567,
          -0.1596410804297656,
          null,
          -0.20596090173653567,
          -0.1274115507273526,
          null,
          -0.1274115507273526,
          -0.1488262852218742,
          null,
          -0.1274115507273526,
          -0.27236997127577806,
          null,
          -0.1274115507273526,
          -0.05959146909484181,
          null,
          -0.1596410804297656,
          -0.1488262852218742,
          null,
          -0.1596410804297656,
          -0.27236997127577806,
          null,
          -0.1596410804297656,
          -0.05959146909484181,
          null,
          -0.27236997127577806,
          -0.28139324704147456,
          null,
          -0.27236997127577806,
          -0.44880236782798255,
          null,
          -0.05959146909484181,
          0.11554375149440095,
          null,
          -0.05959146909484181,
          -0.035642703261175405,
          null,
          -0.1488262852218742,
          -0.28139324704147456,
          null,
          -0.1488262852218742,
          -0.035642703261175405,
          null
         ]
        },
        {
         "hoverinfo": "text",
         "hovertext": [
          "active_usage_months<br>Correlations:<br>zero_usage_months: 1.00",
          "zero_usage_months<br>Correlations:<br>active_usage_months: 1.00",
          "avg_delta_3mo<br>Correlations:<br>max_delta_3mo_increase: 1.00<br>max_delta_3mo_decrease: 1.00<br>last_1_delta_3mo: 1.00<br>avg_delta_1mo: 1.00",
          "max_delta_3mo_increase<br>Correlations:<br>avg_delta_3mo: 1.00<br>max_delta_3mo_decrease: 1.00<br>last_1_delta_3mo: 1.00<br>avg_delta_1mo: 1.00",
          "max_delta_3mo_decrease<br>Correlations:<br>avg_delta_3mo: 1.00<br>max_delta_3mo_increase: 1.00<br>last_1_delta_3mo: 1.00<br>avg_delta_1mo: 1.00",
          "last_1_delta_3mo<br>Correlations:<br>avg_delta_3mo: 1.00<br>max_delta_3mo_increase: 1.00<br>max_delta_3mo_decrease: 1.00<br>avg_delta_1mo: 1.00",
          "avg_monthly_usage_gb<br>Correlations:<br>total_usage_gb: 1.00<br>median_monthly_usage_gb: 0.99<br>last_2_3mo_rolling_avg: 0.99<br>last_1_3mo_rolling_avg: 0.99<br>usage_q75_gb: 0.99<br>max_monthly_usage_gb: 0.99<br>usage_q25_gb: 0.98<br>last_2_2mo_rolling_avg: 0.97<br>last_1_2mo_rolling_avg: 0.97<br>last_3_2mo_rolling_avg: 0.97<br>min_monthly_usage_gb: 0.95",
          "total_usage_gb<br>Correlations:<br>avg_monthly_usage_gb: 1.00<br>median_monthly_usage_gb: 0.99<br>last_2_3mo_rolling_avg: 0.99<br>last_1_3mo_rolling_avg: 0.99<br>usage_q75_gb: 0.99<br>max_monthly_usage_gb: 0.99<br>usage_q25_gb: 0.98<br>last_2_2mo_rolling_avg: 0.97<br>last_1_2mo_rolling_avg: 0.97<br>last_3_2mo_rolling_avg: 0.97<br>min_monthly_usage_gb: 0.95",
          "avg_delta_1mo<br>Correlations:<br>avg_delta_3mo: 1.00<br>max_delta_3mo_increase: 1.00<br>max_delta_3mo_decrease: 1.00<br>last_1_delta_3mo: 1.00",
          "median_monthly_usage_gb<br>Correlations:<br>avg_monthly_usage_gb: 0.99<br>total_usage_gb: 0.99<br>usage_q75_gb: 0.99<br>usage_q25_gb: 0.99<br>last_1_3mo_rolling_avg: 0.99<br>last_2_3mo_rolling_avg: 0.99<br>max_monthly_usage_gb: 0.97<br>last_2_2mo_rolling_avg: 0.97<br>last_1_2mo_rolling_avg: 0.97<br>last_3_2mo_rolling_avg: 0.97",
          "usage_q75_gb<br>Correlations:<br>median_monthly_usage_gb: 0.99<br>total_usage_gb: 0.99<br>avg_monthly_usage_gb: 0.99<br>last_2_3mo_rolling_avg: 0.98<br>last_1_3mo_rolling_avg: 0.98<br>max_monthly_usage_gb: 0.97<br>last_2_2mo_rolling_avg: 0.96<br>last_1_2mo_rolling_avg: 0.96<br>last_3_2mo_rolling_avg: 0.96<br>usage_q25_gb: 0.96",
          "last_2_3mo_rolling_avg<br>Correlations:<br>avg_monthly_usage_gb: 0.99<br>total_usage_gb: 0.99<br>median_monthly_usage_gb: 0.99<br>last_3_2mo_rolling_avg: 0.98<br>last_2_2mo_rolling_avg: 0.98<br>usage_q75_gb: 0.98<br>max_monthly_usage_gb: 0.98<br>last_1_3mo_rolling_avg: 0.98<br>usage_q25_gb: 0.97",
          "last_1_3mo_rolling_avg<br>Correlations:<br>total_usage_gb: 0.99<br>avg_monthly_usage_gb: 0.99<br>median_monthly_usage_gb: 0.99<br>last_1_2mo_rolling_avg: 0.98<br>last_2_2mo_rolling_avg: 0.98<br>usage_q75_gb: 0.98<br>max_monthly_usage_gb: 0.98<br>last_2_3mo_rolling_avg: 0.98<br>usage_q25_gb: 0.97",
          "usage_q25_gb<br>Correlations:<br>median_monthly_usage_gb: 0.99<br>avg_monthly_usage_gb: 0.98<br>total_usage_gb: 0.98<br>last_1_3mo_rolling_avg: 0.97<br>last_2_3mo_rolling_avg: 0.97<br>usage_q75_gb: 0.96<br>last_2_2mo_rolling_avg: 0.96<br>last_1_2mo_rolling_avg: 0.95<br>last_3_2mo_rolling_avg: 0.95",
          "max_monthly_usage_gb<br>Correlations:<br>total_usage_gb: 0.99<br>avg_monthly_usage_gb: 0.99<br>last_1_3mo_rolling_avg: 0.98<br>last_2_3mo_rolling_avg: 0.98<br>usage_q75_gb: 0.97<br>median_monthly_usage_gb: 0.97<br>last_2_2mo_rolling_avg: 0.96<br>last_1_2mo_rolling_avg: 0.96<br>last_3_2mo_rolling_avg: 0.96",
          "last_1_2mo_rolling_avg<br>Correlations:<br>last_1_3mo_rolling_avg: 0.98<br>total_usage_gb: 0.97<br>avg_monthly_usage_gb: 0.97<br>median_monthly_usage_gb: 0.97<br>usage_q75_gb: 0.96<br>max_monthly_usage_gb: 0.96<br>usage_q25_gb: 0.95<br>last_3_month_usage_gb: 0.95<br>last_4_month_usage_gb: 0.95",
          "last_3_2mo_rolling_avg<br>Correlations:<br>last_2_3mo_rolling_avg: 0.98<br>avg_monthly_usage_gb: 0.97<br>total_usage_gb: 0.97<br>median_monthly_usage_gb: 0.97<br>usage_q75_gb: 0.96<br>max_monthly_usage_gb: 0.96<br>usage_q25_gb: 0.95<br>last_1_month_usage_gb: 0.95<br>last_2_month_usage_gb: 0.95",
          "last_2_2mo_rolling_avg<br>Correlations:<br>last_1_3mo_rolling_avg: 0.98<br>last_2_3mo_rolling_avg: 0.98<br>avg_monthly_usage_gb: 0.97<br>total_usage_gb: 0.97<br>median_monthly_usage_gb: 0.97<br>usage_q75_gb: 0.96<br>max_monthly_usage_gb: 0.96<br>usage_q25_gb: 0.96<br>last_3_month_usage_gb: 0.95<br>last_2_month_usage_gb: 0.95",
          "min_monthly_usage_gb<br>Correlations:<br>avg_monthly_usage_gb: 0.95<br>total_usage_gb: 0.95",
          "last_3_month_usage_gb<br>Correlations:<br>last_1_2mo_rolling_avg: 0.95<br>last_2_2mo_rolling_avg: 0.95",
          "last_4_month_usage_gb<br>Correlations:<br>last_1_2mo_rolling_avg: 0.95",
          "last_1_month_usage_gb<br>Correlations:<br>last_3_2mo_rolling_avg: 0.95",
          "last_2_month_usage_gb<br>Correlations:<br>last_2_2mo_rolling_avg: 0.95<br>last_3_2mo_rolling_avg: 0.95"
         ],
         "marker": {
          "color": "#87ceeb",
          "line": {
           "width": 2
          },
          "showscale": false,
          "size": 20
         },
         "mode": "markers+text",
         "text": [
          "active_usage_months",
          "zero_usage_months",
          "avg_delta_3mo",
          "max_delta_3mo_increase",
          "max_delta_3mo_decrease",
          "last_1_delta_3mo",
          "avg_monthly_usage_gb",
          "total_usage_gb",
          "avg_delta_1mo",
          "median_monthly_usage_gb",
          "usage_q75_gb",
          "last_2_3mo_rolling_avg",
          "last_1_3mo_rolling_avg",
          "usage_q25_gb",
          "max_monthly_usage_gb",
          "last_1_2mo_rolling_avg",
          "last_3_2mo_rolling_avg",
          "last_2_2mo_rolling_avg",
          "min_monthly_usage_gb",
          "last_3_month_usage_gb",
          "last_4_month_usage_gb",
          "last_1_month_usage_gb",
          "last_2_month_usage_gb"
         ],
         "textposition": "top center",
         "type": "scatter",
         "x": [
          0.5972809226293299,
          0.6441155962582179,
          -0.9469554944720102,
          -1,
          -0.8943289043742217,
          -0.9997167084766153,
          0.23851537337692189,
          0.20511495520936182,
          -0.9380941272546799,
          0.21546984097185984,
          0.1844496438083813,
          0.17748783901422843,
          0.14116068178441865,
          0.15449802719035954,
          0.13727634949758968,
          0.1832249957464534,
          0.23787633344516915,
          0.26999994692532703,
          0.2710914268911363,
          0.34501843455856557,
          0.129468273920608,
          0.276339001764385,
          0.3707075915852134
         ],
         "y": [
          0.9463439505836685,
          0.8709324754991593,
          0.1390098830654882,
          0.16065817771250152,
          0.18282641763209304,
          0.22460875939900235,
          -0.19660139509190955,
          -0.20943751317356227,
          0.23822194731101354,
          -0.13689788063251482,
          -0.16401485043186695,
          -0.09168599029137786,
          -0.20596090173653567,
          -0.1274115507273526,
          -0.1596410804297656,
          -0.27236997127577806,
          -0.05959146909484181,
          -0.1488262852218742,
          -0.33986815645931423,
          -0.28139324704147456,
          -0.44880236782798255,
          0.11554375149440095,
          -0.035642703261175405
         ]
        }
       ],
       "layout": {
        "height": 800,
        "hovermode": "closest",
        "margin": {
         "b": 20,
         "l": 5,
         "r": 5,
         "t": 40
        },
        "showlegend": false,
        "template": {
         "data": {
          "bar": [
           {
            "error_x": {
             "color": "#2a3f5f"
            },
            "error_y": {
             "color": "#2a3f5f"
            },
            "marker": {
             "line": {
              "color": "#E5ECF6",
              "width": 0.5
             },
             "pattern": {
              "fillmode": "overlay",
              "size": 10,
              "solidity": 0.2
             }
            },
            "type": "bar"
           }
          ],
          "barpolar": [
           {
            "marker": {
             "line": {
              "color": "#E5ECF6",
              "width": 0.5
             },
             "pattern": {
              "fillmode": "overlay",
              "size": 10,
              "solidity": 0.2
             }
            },
            "type": "barpolar"
           }
          ],
          "carpet": [
           {
            "aaxis": {
             "endlinecolor": "#2a3f5f",
             "gridcolor": "white",
             "linecolor": "white",
             "minorgridcolor": "white",
             "startlinecolor": "#2a3f5f"
            },
            "baxis": {
             "endlinecolor": "#2a3f5f",
             "gridcolor": "white",
             "linecolor": "white",
             "minorgridcolor": "white",
             "startlinecolor": "#2a3f5f"
            },
            "type": "carpet"
           }
          ],
          "choropleth": [
           {
            "colorbar": {
             "outlinewidth": 0,
             "ticks": ""
            },
            "type": "choropleth"
           }
          ],
          "contour": [
           {
            "colorbar": {
             "outlinewidth": 0,
             "ticks": ""
            },
            "colorscale": [
             [
              0,
              "#0d0887"
             ],
             [
              0.1111111111111111,
              "#46039f"
             ],
             [
              0.2222222222222222,
              "#7201a8"
             ],
             [
              0.3333333333333333,
              "#9c179e"
             ],
             [
              0.4444444444444444,
              "#bd3786"
             ],
             [
              0.5555555555555556,
              "#d8576b"
             ],
             [
              0.6666666666666666,
              "#ed7953"
             ],
             [
              0.7777777777777778,
              "#fb9f3a"
             ],
             [
              0.8888888888888888,
              "#fdca26"
             ],
             [
              1,
              "#f0f921"
             ]
            ],
            "type": "contour"
           }
          ],
          "contourcarpet": [
           {
            "colorbar": {
             "outlinewidth": 0,
             "ticks": ""
            },
            "type": "contourcarpet"
           }
          ],
          "heatmap": [
           {
            "colorbar": {
             "outlinewidth": 0,
             "ticks": ""
            },
            "colorscale": [
             [
              0,
              "#0d0887"
             ],
             [
              0.1111111111111111,
              "#46039f"
             ],
             [
              0.2222222222222222,
              "#7201a8"
             ],
             [
              0.3333333333333333,
              "#9c179e"
             ],
             [
              0.4444444444444444,
              "#bd3786"
             ],
             [
              0.5555555555555556,
              "#d8576b"
             ],
             [
              0.6666666666666666,
              "#ed7953"
             ],
             [
              0.7777777777777778,
              "#fb9f3a"
             ],
             [
              0.8888888888888888,
              "#fdca26"
             ],
             [
              1,
              "#f0f921"
             ]
            ],
            "type": "heatmap"
           }
          ],
          "histogram": [
           {
            "marker": {
             "pattern": {
              "fillmode": "overlay",
              "size": 10,
              "solidity": 0.2
             }
            },
            "type": "histogram"
           }
          ],
          "histogram2d": [
           {
            "colorbar": {
             "outlinewidth": 0,
             "ticks": ""
            },
            "colorscale": [
             [
              0,
              "#0d0887"
             ],
             [
              0.1111111111111111,
              "#46039f"
             ],
             [
              0.2222222222222222,
              "#7201a8"
             ],
             [
              0.3333333333333333,
              "#9c179e"
             ],
             [
              0.4444444444444444,
              "#bd3786"
             ],
             [
              0.5555555555555556,
              "#d8576b"
             ],
             [
              0.6666666666666666,
              "#ed7953"
             ],
             [
              0.7777777777777778,
              "#fb9f3a"
             ],
             [
              0.8888888888888888,
              "#fdca26"
             ],
             [
              1,
              "#f0f921"
             ]
            ],
            "type": "histogram2d"
           }
          ],
          "histogram2dcontour": [
           {
            "colorbar": {
             "outlinewidth": 0,
             "ticks": ""
            },
            "colorscale": [
             [
              0,
              "#0d0887"
             ],
             [
              0.1111111111111111,
              "#46039f"
             ],
             [
              0.2222222222222222,
              "#7201a8"
             ],
             [
              0.3333333333333333,
              "#9c179e"
             ],
             [
              0.4444444444444444,
              "#bd3786"
             ],
             [
              0.5555555555555556,
              "#d8576b"
             ],
             [
              0.6666666666666666,
              "#ed7953"
             ],
             [
              0.7777777777777778,
              "#fb9f3a"
             ],
             [
              0.8888888888888888,
              "#fdca26"
             ],
             [
              1,
              "#f0f921"
             ]
            ],
            "type": "histogram2dcontour"
           }
          ],
          "mesh3d": [
           {
            "colorbar": {
             "outlinewidth": 0,
             "ticks": ""
            },
            "type": "mesh3d"
           }
          ],
          "parcoords": [
           {
            "line": {
             "colorbar": {
              "outlinewidth": 0,
              "ticks": ""
             }
            },
            "type": "parcoords"
           }
          ],
          "pie": [
           {
            "automargin": true,
            "type": "pie"
           }
          ],
          "scatter": [
           {
            "fillpattern": {
             "fillmode": "overlay",
             "size": 10,
             "solidity": 0.2
            },
            "type": "scatter"
           }
          ],
          "scatter3d": [
           {
            "line": {
             "colorbar": {
              "outlinewidth": 0,
              "ticks": ""
             }
            },
            "marker": {
             "colorbar": {
              "outlinewidth": 0,
              "ticks": ""
             }
            },
            "type": "scatter3d"
           }
          ],
          "scattercarpet": [
           {
            "marker": {
             "colorbar": {
              "outlinewidth": 0,
              "ticks": ""
             }
            },
            "type": "scattercarpet"
           }
          ],
          "scattergeo": [
           {
            "marker": {
             "colorbar": {
              "outlinewidth": 0,
              "ticks": ""
             }
            },
            "type": "scattergeo"
           }
          ],
          "scattergl": [
           {
            "marker": {
             "colorbar": {
              "outlinewidth": 0,
              "ticks": ""
             }
            },
            "type": "scattergl"
           }
          ],
          "scattermap": [
           {
            "marker": {
             "colorbar": {
              "outlinewidth": 0,
              "ticks": ""
             }
            },
            "type": "scattermap"
           }
          ],
          "scattermapbox": [
           {
            "marker": {
             "colorbar": {
              "outlinewidth": 0,
              "ticks": ""
             }
            },
            "type": "scattermapbox"
           }
          ],
          "scatterpolar": [
           {
            "marker": {
             "colorbar": {
              "outlinewidth": 0,
              "ticks": ""
             }
            },
            "type": "scatterpolar"
           }
          ],
          "scatterpolargl": [
           {
            "marker": {
             "colorbar": {
              "outlinewidth": 0,
              "ticks": ""
             }
            },
            "type": "scatterpolargl"
           }
          ],
          "scatterternary": [
           {
            "marker": {
             "colorbar": {
              "outlinewidth": 0,
              "ticks": ""
             }
            },
            "type": "scatterternary"
           }
          ],
          "surface": [
           {
            "colorbar": {
             "outlinewidth": 0,
             "ticks": ""
            },
            "colorscale": [
             [
              0,
              "#0d0887"
             ],
             [
              0.1111111111111111,
              "#46039f"
             ],
             [
              0.2222222222222222,
              "#7201a8"
             ],
             [
              0.3333333333333333,
              "#9c179e"
             ],
             [
              0.4444444444444444,
              "#bd3786"
             ],
             [
              0.5555555555555556,
              "#d8576b"
             ],
             [
              0.6666666666666666,
              "#ed7953"
             ],
             [
              0.7777777777777778,
              "#fb9f3a"
             ],
             [
              0.8888888888888888,
              "#fdca26"
             ],
             [
              1,
              "#f0f921"
             ]
            ],
            "type": "surface"
           }
          ],
          "table": [
           {
            "cells": {
             "fill": {
              "color": "#EBF0F8"
             },
             "line": {
              "color": "white"
             }
            },
            "header": {
             "fill": {
              "color": "#C8D4E3"
             },
             "line": {
              "color": "white"
             }
            },
            "type": "table"
           }
          ]
         },
         "layout": {
          "annotationdefaults": {
           "arrowcolor": "#2a3f5f",
           "arrowhead": 0,
           "arrowwidth": 1
          },
          "autotypenumbers": "strict",
          "coloraxis": {
           "colorbar": {
            "outlinewidth": 0,
            "ticks": ""
           }
          },
          "colorscale": {
           "diverging": [
            [
             0,
             "#8e0152"
            ],
            [
             0.1,
             "#c51b7d"
            ],
            [
             0.2,
             "#de77ae"
            ],
            [
             0.3,
             "#f1b6da"
            ],
            [
             0.4,
             "#fde0ef"
            ],
            [
             0.5,
             "#f7f7f7"
            ],
            [
             0.6,
             "#e6f5d0"
            ],
            [
             0.7,
             "#b8e186"
            ],
            [
             0.8,
             "#7fbc41"
            ],
            [
             0.9,
             "#4d9221"
            ],
            [
             1,
             "#276419"
            ]
           ],
           "sequential": [
            [
             0,
             "#0d0887"
            ],
            [
             0.1111111111111111,
             "#46039f"
            ],
            [
             0.2222222222222222,
             "#7201a8"
            ],
            [
             0.3333333333333333,
             "#9c179e"
            ],
            [
             0.4444444444444444,
             "#bd3786"
            ],
            [
             0.5555555555555556,
             "#d8576b"
            ],
            [
             0.6666666666666666,
             "#ed7953"
            ],
            [
             0.7777777777777778,
             "#fb9f3a"
            ],
            [
             0.8888888888888888,
             "#fdca26"
            ],
            [
             1,
             "#f0f921"
            ]
           ],
           "sequentialminus": [
            [
             0,
             "#0d0887"
            ],
            [
             0.1111111111111111,
             "#46039f"
            ],
            [
             0.2222222222222222,
             "#7201a8"
            ],
            [
             0.3333333333333333,
             "#9c179e"
            ],
            [
             0.4444444444444444,
             "#bd3786"
            ],
            [
             0.5555555555555556,
             "#d8576b"
            ],
            [
             0.6666666666666666,
             "#ed7953"
            ],
            [
             0.7777777777777778,
             "#fb9f3a"
            ],
            [
             0.8888888888888888,
             "#fdca26"
            ],
            [
             1,
             "#f0f921"
            ]
           ]
          },
          "colorway": [
           "#636efa",
           "#EF553B",
           "#00cc96",
           "#ab63fa",
           "#FFA15A",
           "#19d3f3",
           "#FF6692",
           "#B6E880",
           "#FF97FF",
           "#FECB52"
          ],
          "font": {
           "color": "#2a3f5f"
          },
          "geo": {
           "bgcolor": "white",
           "lakecolor": "white",
           "landcolor": "#E5ECF6",
           "showlakes": true,
           "showland": true,
           "subunitcolor": "white"
          },
          "hoverlabel": {
           "align": "left"
          },
          "hovermode": "closest",
          "mapbox": {
           "style": "light"
          },
          "paper_bgcolor": "white",
          "plot_bgcolor": "#E5ECF6",
          "polar": {
           "angularaxis": {
            "gridcolor": "white",
            "linecolor": "white",
            "ticks": ""
           },
           "bgcolor": "#E5ECF6",
           "radialaxis": {
            "gridcolor": "white",
            "linecolor": "white",
            "ticks": ""
           }
          },
          "scene": {
           "xaxis": {
            "backgroundcolor": "#E5ECF6",
            "gridcolor": "white",
            "gridwidth": 2,
            "linecolor": "white",
            "showbackground": true,
            "ticks": "",
            "zerolinecolor": "white"
           },
           "yaxis": {
            "backgroundcolor": "#E5ECF6",
            "gridcolor": "white",
            "gridwidth": 2,
            "linecolor": "white",
            "showbackground": true,
            "ticks": "",
            "zerolinecolor": "white"
           },
           "zaxis": {
            "backgroundcolor": "#E5ECF6",
            "gridcolor": "white",
            "gridwidth": 2,
            "linecolor": "white",
            "showbackground": true,
            "ticks": "",
            "zerolinecolor": "white"
           }
          },
          "shapedefaults": {
           "line": {
            "color": "#2a3f5f"
           }
          },
          "ternary": {
           "aaxis": {
            "gridcolor": "white",
            "linecolor": "white",
            "ticks": ""
           },
           "baxis": {
            "gridcolor": "white",
            "linecolor": "white",
            "ticks": ""
           },
           "bgcolor": "#E5ECF6",
           "caxis": {
            "gridcolor": "white",
            "linecolor": "white",
            "ticks": ""
           }
          },
          "title": {
           "x": 0.05
          },
          "xaxis": {
           "automargin": true,
           "gridcolor": "white",
           "linecolor": "white",
           "ticks": "",
           "title": {
            "standoff": 15
           },
           "zerolinecolor": "white",
           "zerolinewidth": 2
          },
          "yaxis": {
           "automargin": true,
           "gridcolor": "white",
           "linecolor": "white",
           "ticks": "",
           "title": {
            "standoff": 15
           },
           "zerolinecolor": "white",
           "zerolinewidth": 2
          }
         }
        },
        "title": {
         "text": "Clusters of Highly Correlated Features"
        },
        "width": 1200,
        "xaxis": {
         "showgrid": false,
         "showticklabels": false,
         "zeroline": false
        },
        "yaxis": {
         "showgrid": false,
         "showticklabels": false,
         "zeroline": false
        }
       }
      }
     },
     "metadata": {},
     "output_type": "display_data"
    }
   ],
   "source": [
    "plot_correlation_network(G_95, pos=nx.spring_layout(G_95, seed=42))"
   ]
  },
  {
   "cell_type": "markdown",
   "id": "750c6a27",
   "metadata": {},
   "source": [
    "## Variance analysis"
   ]
  },
  {
   "cell_type": "code",
   "execution_count": 48,
   "id": "cedb61b3",
   "metadata": {},
   "outputs": [],
   "source": [
    "only_numeric_features = features.select(cs.numeric() & ~cs.boolean())"
   ]
  },
  {
   "cell_type": "code",
   "execution_count": 49,
   "id": "341759e1",
   "metadata": {},
   "outputs": [
    {
     "name": "stdout",
     "output_type": "stream",
     "text": [
      "CPU times: user 11.2 ms, sys: 2.62 ms, total: 13.8 ms\n",
      "Wall time: 3.16 ms\n"
     ]
    }
   ],
   "source": [
    "%%time\n",
    "\n",
    "# Compute the standard deviation\n",
    "variance_analysis = (\n",
    "    features\n",
    "    .select([\n",
    "        pl.col(col).std()\n",
    "        for col in numeric_and_booleans_features.columns\n",
    "    ])\n",
    "    .unpivot(variable_name='feature', value_name='stdev')\n",
    "    .sort('stdev', descending=True)\n",
    ")"
   ]
  },
  {
   "cell_type": "code",
   "execution_count": 50,
   "id": "27f61b96",
   "metadata": {},
   "outputs": [
    {
     "data": {
      "text/html": [
       "<div><style>\n",
       ".dataframe > thead > tr,\n",
       ".dataframe > tbody > tr {\n",
       "  text-align: right;\n",
       "  white-space: pre-wrap;\n",
       "}\n",
       "</style>\n",
       "<small>shape: (81, 2)</small><table border=\"1\" class=\"dataframe\"><thead><tr><th>feature</th><th>stdev</th></tr><tr><td>str</td><td>f64</td></tr></thead><tbody><tr><td>&quot;contract_binding_days&quot;</td><td>599.6380492222537</td></tr><tr><td>&quot;contract_lifetime_days&quot;</td><td>490.1271217887316</td></tr><tr><td>&quot;remaining_binding_days&quot;</td><td>345.64345852492005</td></tr><tr><td>&quot;total_usage_gb&quot;</td><td>69.21684430203867</td></tr><tr><td>&quot;days_since_last_produkte&amp;services-tarifwechsel&quot;</td><td>42.254754177537286</td></tr><tr><td>&hellip;</td><td>&hellip;</td></tr><tr><td>&quot;active_usage_months&quot;</td><td>0.23464950586759353</td></tr><tr><td>&quot;months_with_no_delta_3mo_change&quot;</td><td>0.17850662773735188</td></tr><tr><td>&quot;is_oneplus&quot;</td><td>0.15636891670783257</td></tr><tr><td>&quot;is_xiaomi&quot;</td><td>0.15450390873559847</td></tr><tr><td>&quot;always_used_roaming&quot;</td><td>0.08947041494008787</td></tr></tbody></table></div>"
      ],
      "text/plain": [
       "shape: (81, 2)\n",
       "┌────────────────────────────────────────────────┬─────────────────────┐\n",
       "│ feature                                        ┆ stdev               │\n",
       "│ ---                                            ┆ ---                 │\n",
       "│ str                                            ┆ f64                 │\n",
       "╞════════════════════════════════════════════════╪═════════════════════╡\n",
       "│ contract_binding_days                          ┆ 599.6380492222537   │\n",
       "│ contract_lifetime_days                         ┆ 490.1271217887316   │\n",
       "│ remaining_binding_days                         ┆ 345.64345852492005  │\n",
       "│ total_usage_gb                                 ┆ 69.21684430203867   │\n",
       "│ days_since_last_produkte&services-tarifwechsel ┆ 42.254754177537286  │\n",
       "│ …                                              ┆ …                   │\n",
       "│ active_usage_months                            ┆ 0.23464950586759353 │\n",
       "│ months_with_no_delta_3mo_change                ┆ 0.17850662773735188 │\n",
       "│ is_oneplus                                     ┆ 0.15636891670783257 │\n",
       "│ is_xiaomi                                      ┆ 0.15450390873559847 │\n",
       "│ always_used_roaming                            ┆ 0.08947041494008787 │\n",
       "└────────────────────────────────────────────────┴─────────────────────┘"
      ]
     },
     "execution_count": 50,
     "metadata": {},
     "output_type": "execute_result"
    }
   ],
   "source": [
    "variance_analysis"
   ]
  },
  {
   "cell_type": "code",
   "execution_count": 51,
   "id": "6a461f1a",
   "metadata": {},
   "outputs": [
    {
     "name": "stdout",
     "output_type": "stream",
     "text": [
      "CPU times: user 66.1 ms, sys: 6.94 ms, total: 73 ms\n",
      "Wall time: 12 ms\n"
     ]
    }
   ],
   "source": [
    "%%time\n",
    "\n",
    "# Unique count dataframe (excluding boolean columns)\n",
    "unique_count = (\n",
    "    features\n",
    "    .select([\n",
    "        pl.col(col).n_unique().alias(col)\n",
    "        for col in only_numeric_features.columns \n",
    "    ])\n",
    "    .unpivot(variable_name=\"feature\", value_name=\"unique_count\")\n",
    "    .sort(\"unique_count\")\n",
    ")\n"
   ]
  },
  {
   "cell_type": "code",
   "execution_count": 52,
   "id": "7d784ef8",
   "metadata": {},
   "outputs": [
    {
     "data": {
      "text/html": [
       "<div><style>\n",
       ".dataframe > thead > tr,\n",
       ".dataframe > tbody > tr {\n",
       "  text-align: right;\n",
       "  white-space: pre-wrap;\n",
       "}\n",
       "</style>\n",
       "<small>shape: (70, 2)</small><table border=\"1\" class=\"dataframe\"><thead><tr><th>feature</th><th>unique_count</th></tr><tr><td>str</td><td>u32</td></tr></thead><tbody><tr><td>&quot;months_with_delta_3mo_increase&quot;</td><td>2</td></tr><tr><td>&quot;months_with_delta_3mo_decrease&quot;</td><td>2</td></tr><tr><td>&quot;months_with_no_delta_3mo_change&quot;</td><td>2</td></tr><tr><td>&quot;months_with_delta_2mo_increase&quot;</td><td>3</td></tr><tr><td>&quot;months_with_delta_2mo_decrease&quot;</td><td>3</td></tr><tr><td>&hellip;</td><td>&hellip;</td></tr><tr><td>&quot;completion_rate&quot;</td><td>2487</td></tr><tr><td>&quot;contract_binding_days&quot;</td><td>2516</td></tr><tr><td>&quot;usage_std_gb&quot;</td><td>2671</td></tr><tr><td>&quot;avg_monthly_usage_gb&quot;</td><td>2748</td></tr><tr><td>&quot;delta_1mo_volatility&quot;</td><td>4858</td></tr></tbody></table></div>"
      ],
      "text/plain": [
       "shape: (70, 2)\n",
       "┌─────────────────────────────────┬──────────────┐\n",
       "│ feature                         ┆ unique_count │\n",
       "│ ---                             ┆ ---          │\n",
       "│ str                             ┆ u32          │\n",
       "╞═════════════════════════════════╪══════════════╡\n",
       "│ months_with_delta_3mo_increase  ┆ 2            │\n",
       "│ months_with_delta_3mo_decrease  ┆ 2            │\n",
       "│ months_with_no_delta_3mo_change ┆ 2            │\n",
       "│ months_with_delta_2mo_increase  ┆ 3            │\n",
       "│ months_with_delta_2mo_decrease  ┆ 3            │\n",
       "│ …                               ┆ …            │\n",
       "│ completion_rate                 ┆ 2487         │\n",
       "│ contract_binding_days           ┆ 2516         │\n",
       "│ usage_std_gb                    ┆ 2671         │\n",
       "│ avg_monthly_usage_gb            ┆ 2748         │\n",
       "│ delta_1mo_volatility            ┆ 4858         │\n",
       "└─────────────────────────────────┴──────────────┘"
      ]
     },
     "execution_count": 52,
     "metadata": {},
     "output_type": "execute_result"
    }
   ],
   "source": [
    "unique_count"
   ]
  },
  {
   "cell_type": "markdown",
   "id": "30e9ac99",
   "metadata": {},
   "source": [
    "## Cleaning"
   ]
  },
  {
   "cell_type": "code",
   "execution_count": 58,
   "id": "3ae8667b",
   "metadata": {},
   "outputs": [],
   "source": [
    "do_not_remove = ['has_done_upselling']"
   ]
  },
  {
   "cell_type": "code",
   "execution_count": 59,
   "id": "6462236e",
   "metadata": {},
   "outputs": [],
   "source": [
    "stdev_threshold = 0.1\n",
    "stdev_1quantile = variance_analysis['stdev'].quantile(0.1)"
   ]
  },
  {
   "cell_type": "code",
   "execution_count": 60,
   "id": "e4f5cf75",
   "metadata": {},
   "outputs": [
    {
     "data": {
      "text/html": [
       "<div><style>\n",
       ".dataframe > thead > tr,\n",
       ".dataframe > tbody > tr {\n",
       "  text-align: right;\n",
       "  white-space: pre-wrap;\n",
       "}\n",
       "</style>\n",
       "<small>shape: (1,)</small><table border=\"1\" class=\"dataframe\"><thead><tr><th>feature</th></tr><tr><td>str</td></tr></thead><tbody><tr><td>&quot;always_used_roaming&quot;</td></tr></tbody></table></div>"
      ],
      "text/plain": [
       "shape: (1,)\n",
       "Series: 'feature' [str]\n",
       "[\n",
       "\t\"always_used_roaming\"\n",
       "]"
      ]
     },
     "execution_count": 60,
     "metadata": {},
     "output_type": "execute_result"
    }
   ],
   "source": [
    "low_variance_features = variance_analysis.filter(\n",
    "    pl.col('stdev') <= stdev_threshold\n",
    ")['feature'].unique()\n",
    "\n",
    "low_variance_features"
   ]
  },
  {
   "cell_type": "code",
   "execution_count": 61,
   "id": "e07a8a49",
   "metadata": {},
   "outputs": [],
   "source": [
    "highly_correlated_keep = [\n",
    "    'active_usage_months', 'total_usage_gb', 'avg_monthly_usage_gb', 'max_monthly_usage_gb',\n",
    "    'contract_lifetime_days', 'last_1_delta_3mo', 'months_with_delta_3mo_increase', 'months_with_delta_2mo_increase', 'months_with_delta_3mo_increase'\n",
    "]\n",
    "\n",
    "features_from_clusters = sorted(set().union(*clusters_80))\n",
    "highly_correlated_remove = list(set(features_from_clusters) - set(highly_correlated_keep))"
   ]
  },
  {
   "cell_type": "code",
   "execution_count": 63,
   "id": "df9f13d8",
   "metadata": {},
   "outputs": [
    {
     "name": "stdout",
     "output_type": "stream",
     "text": [
      "Dimensions before cleaning: (100000, 83)\n",
      "Dimensions after cleaning: (100000, 52)\n"
     ]
    }
   ],
   "source": [
    "# Cleaning the dataset\n",
    "features_to_remove = (\n",
    "    set(low_variance_features.to_list()) | set(highly_correlated_remove)\n",
    ") - set(do_not_remove)\n",
    "\n",
    "print(f'Dimensions before cleaning: {features.shape}')\n",
    "\n",
    "features = features.drop(list(features_to_remove))\n",
    "\n",
    "print(f'Dimensions after cleaning: {features.shape}')"
   ]
  },
  {
   "cell_type": "code",
   "execution_count": 64,
   "id": "9e02505d",
   "metadata": {},
   "outputs": [
    {
     "data": {
      "text/plain": [
       "['rating_account_id',\n",
       " 'customer_id',\n",
       " 'age',\n",
       " 'contract_lifetime_days',\n",
       " 'remaining_binding_days',\n",
       " 'has_special_offer',\n",
       " 'is_magenta1_customer',\n",
       " 'available_gb',\n",
       " 'gross_mrc',\n",
       " 'has_done_upselling',\n",
       " 'completion_rate',\n",
       " 'is_bounded',\n",
       " 'is_huawei',\n",
       " 'is_oneplus',\n",
       " 'is_samsung',\n",
       " 'is_xiaomi',\n",
       " 'is_iphone',\n",
       " 'n_contracts_per_customer',\n",
       " 'avg_monthly_usage_gb',\n",
       " 'total_usage_gb',\n",
       " 'max_monthly_usage_gb',\n",
       " 'months_with_roaming',\n",
       " 'ever_used_roaming',\n",
       " 'active_usage_months',\n",
       " 'months_with_no_delta_1mo_change',\n",
       " 'avg_delta_2mo',\n",
       " 'delta_2mo_volatility',\n",
       " 'max_delta_2mo_increase',\n",
       " 'max_delta_2mo_decrease',\n",
       " 'months_with_delta_2mo_increase',\n",
       " 'months_with_no_delta_2mo_change',\n",
       " 'months_with_delta_3mo_increase',\n",
       " 'months_with_no_delta_3mo_change',\n",
       " 'last_1_delta_1mo',\n",
       " 'last_2_delta_1mo',\n",
       " 'last_3_delta_1mo',\n",
       " 'last_1_delta_2mo',\n",
       " 'last_2_delta_2mo',\n",
       " 'last_1_delta_3mo',\n",
       " 'n_rechnungsanfragen',\n",
       " 'n_produkte&services-tarifdetails',\n",
       " 'n_prolongation',\n",
       " 'n_produkte&services-tarifwechsel',\n",
       " 'days_since_last_rechnungsanfragen',\n",
       " 'days_since_last_produkte&services-tarifdetails',\n",
       " 'days_since_last_prolongation',\n",
       " 'days_since_last_produkte&services-tarifwechsel',\n",
       " 'times_in_p1',\n",
       " 'times_in_p2',\n",
       " 'times_in_p3',\n",
       " 'times_in_p4',\n",
       " 'times_in_p5']"
      ]
     },
     "execution_count": 64,
     "metadata": {},
     "output_type": "execute_result"
    }
   ],
   "source": [
    "features.columns"
   ]
  },
  {
   "cell_type": "markdown",
   "id": "7a9465da",
   "metadata": {},
   "source": [
    "# Storing"
   ]
  },
  {
   "cell_type": "code",
   "execution_count": 67,
   "id": "e862928b",
   "metadata": {},
   "outputs": [
    {
     "name": "stdout",
     "output_type": "stream",
     "text": [
      "CPU times: user 227 ms, sys: 29.6 ms, total: 257 ms\n",
      "Wall time: 209 ms\n"
     ]
    }
   ],
   "source": [
    "%%time \n",
    "\n",
    "output_dir = code_dir / 'data'\n",
    "output_dir.mkdir(parents=True, exist_ok=True)\n",
    "features.write_parquet(output_dir / 'features' / 'features_cleaned-v1.parquet')\n",
    "\n",
    "\n",
    "X = features.select(pl.exclude(['rating_account_id', 'customer_id', 'has_done_upselling']))\n",
    "y = features.select('has_done_upselling')\n",
    "\n",
    "X_train, X_test, y_train, y_test = train_test_split(\n",
    "    X, y, test_size=0.2, random_state=42, stratify=y\n",
    ")\n",
    "\n",
    "train_df = pl.concat([X_train.with_columns(y_train),], how='horizontal')\n",
    "test_df = pl.concat([X_test.with_columns(y_test),], how='horizontal')\n",
    "\n",
    "train_dir = output_dir / 'train'\n",
    "train_dir.mkdir(parents=True, exist_ok=True)\n",
    "train_df.write_parquet(train_dir / 'data-v1-80.parquet')\n",
    "\n",
    "\n",
    "test_dir = output_dir / 'test'\n",
    "test_dir.mkdir(parents=True, exist_ok=True)\n",
    "test_df.write_parquet(test_dir / 'data-v1-20.parquet')"
   ]
  },
  {
   "cell_type": "markdown",
   "id": "ccc65b72",
   "metadata": {},
   "source": [
    "**Features version 1**: \n",
    "\n",
    "- age imputed with mean value\n",
    "    \n",
    "- stdev_threshold = 0.1\n",
    "    \n",
    "- explain we choose specif correlated # TODO"
   ]
  },
  {
   "cell_type": "markdown",
   "id": "b35bf4e8",
   "metadata": {},
   "source": []
  }
 ],
 "metadata": {
  "kernelspec": {
   "display_name": "magenta-task",
   "language": "python",
   "name": "python3"
  },
  "language_info": {
   "codemirror_mode": {
    "name": "ipython",
    "version": 3
   },
   "file_extension": ".py",
   "mimetype": "text/x-python",
   "name": "python",
   "nbconvert_exporter": "python",
   "pygments_lexer": "ipython3",
   "version": "3.12.11"
  }
 },
 "nbformat": 4,
 "nbformat_minor": 5
}
