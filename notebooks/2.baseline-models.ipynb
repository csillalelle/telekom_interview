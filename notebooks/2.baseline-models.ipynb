{
 "cells": [
  {
   "cell_type": "markdown",
   "id": "5a373d7c",
   "metadata": {},
   "source": [
    "# Imports and definitions"
   ]
  },
  {
   "cell_type": "code",
   "execution_count": 1,
   "id": "efa3a5de",
   "metadata": {},
   "outputs": [],
   "source": [
    "from pathlib import Path\n",
    "\n",
    "import polars as pl\n",
    "\n",
    "from sklearn.model_selection import StratifiedKFold, cross_val_score\n",
    "\n",
    "from sklearn.svm import LinearSVC\n",
    "from sklearn.ensemble import RandomForestClassifier, HistGradientBoostingClassifier\n",
    "from xgboost import XGBClassifier\n",
    "from lightgbm import LGBMClassifier\n",
    "from catboost import CatBoostClassifier\n",
    "\n",
    "\n",
    "_ = pl.Config.set_tbl_cols(None)\n",
    "_ = pl.Config.set_fmt_str_lengths(500)\n",
    "_ = pl.Config.set_fmt_float(\"full\")"
   ]
  },
  {
   "cell_type": "code",
   "execution_count": 2,
   "id": "baee2078",
   "metadata": {},
   "outputs": [],
   "source": [
    "import warnings\n",
    "warnings.filterwarnings('ignore', category=RuntimeWarning, module='sklearn')"
   ]
  },
  {
   "cell_type": "code",
   "execution_count": 3,
   "id": "a762eeae",
   "metadata": {},
   "outputs": [],
   "source": [
    "base_dir = Path('/Users/danlab/code/magenta-task/')\n",
    "code_dir = base_dir / 'notebooks'\n",
    "data_dir = code_dir / \"data\"\n",
    "features_dir = data_dir / 'features'\n",
    "train_dir = data_dir / 'train'\n"
   ]
  },
  {
   "cell_type": "markdown",
   "id": "c2bfd8be",
   "metadata": {},
   "source": [
    "# Load data"
   ]
  },
  {
   "cell_type": "code",
   "execution_count": 4,
   "id": "29ba25e9",
   "metadata": {},
   "outputs": [
    {
     "name": "stdout",
     "output_type": "stream",
     "text": [
      "CPU times: user 33.2 ms, sys: 14.7 ms, total: 47.9 ms\n",
      "Wall time: 62.5 ms\n"
     ]
    }
   ],
   "source": [
    "%%time\n",
    "\n",
    "features = pl.read_parquet(features_dir / 'features_cleaned-v0.parquet')\n",
    "train = pl.read_parquet(train_dir / 'data-v0-80.parquet')"
   ]
  },
  {
   "cell_type": "code",
   "execution_count": 5,
   "id": "8a377b26",
   "metadata": {},
   "outputs": [
    {
     "data": {
      "text/html": [
       "<div><style>\n",
       ".dataframe > thead > tr,\n",
       ".dataframe > tbody > tr {\n",
       "  text-align: right;\n",
       "  white-space: pre-wrap;\n",
       "}\n",
       "</style>\n",
       "<small>shape: (5, 61)</small><table border=\"1\" class=\"dataframe\"><thead><tr><th>rating_account_id</th><th>customer_id</th><th>age</th><th>contract_lifetime_days</th><th>remaining_binding_days</th><th>has_special_offer</th><th>is_magenta1_customer</th><th>available_gb</th><th>gross_mrc</th><th>has_done_upselling</th><th>completion_rate</th><th>is_bounded</th><th>is_huawei</th><th>is_oneplus</th><th>is_samsung</th><th>is_xiaomi</th><th>is_iphone</th><th>n_contracts_per_customer</th><th>avg_monthly_usage_gb</th><th>total_usage_gb</th><th>max_monthly_usage_gb</th><th>months_with_roaming</th><th>ever_used_roaming</th><th>zero_usage_months</th><th>active_usage_months</th><th>max_delta_1mo_increase</th><th>max_delta_1mo_decrease</th><th>months_with_delta_1mo_increase</th><th>months_with_delta_1mo_decrease</th><th>months_with_no_delta_1mo_change</th><th>avg_delta_2mo</th><th>delta_2mo_volatility</th><th>max_delta_2mo_increase</th><th>max_delta_2mo_decrease</th><th>months_with_delta_2mo_increase</th><th>months_with_delta_2mo_decrease</th><th>months_with_no_delta_2mo_change</th><th>max_delta_3mo_increase</th><th>max_delta_3mo_decrease</th><th>months_with_delta_3mo_increase</th><th>months_with_delta_3mo_decrease</th><th>months_with_no_delta_3mo_change</th><th>last_1_delta_1mo</th><th>last_2_delta_1mo</th><th>last_3_delta_1mo</th><th>last_1_delta_2mo</th><th>last_2_delta_2mo</th><th>last_1_delta_3mo</th><th>n_rechnungsanfragen</th><th>n_produkte&amp;services-tarifdetails</th><th>n_prolongation</th><th>n_produkte&amp;services-tarifwechsel</th><th>days_since_last_rechnungsanfragen</th><th>days_since_last_produkte&amp;services-tarifdetails</th><th>days_since_last_prolongation</th><th>days_since_last_produkte&amp;services-tarifwechsel</th><th>times_in_p1</th><th>times_in_p2</th><th>times_in_p3</th><th>times_in_p4</th><th>times_in_p5</th></tr><tr><td>str</td><td>str</td><td>i64</td><td>i64</td><td>i64</td><td>bool</td><td>bool</td><td>i64</td><td>f64</td><td>bool</td><td>f64</td><td>bool</td><td>bool</td><td>bool</td><td>bool</td><td>bool</td><td>bool</td><td>u32</td><td>f64</td><td>f64</td><td>f64</td><td>u32</td><td>bool</td><td>u32</td><td>u32</td><td>f64</td><td>f64</td><td>u32</td><td>u32</td><td>u32</td><td>f64</td><td>f64</td><td>f64</td><td>f64</td><td>u32</td><td>u32</td><td>u32</td><td>f64</td><td>f64</td><td>u32</td><td>u32</td><td>u32</td><td>f64</td><td>f64</td><td>f64</td><td>f64</td><td>f64</td><td>f64</td><td>i64</td><td>i64</td><td>i64</td><td>i64</td><td>i64</td><td>i64</td><td>i64</td><td>i64</td><td>i32</td><td>i32</td><td>i32</td><td>i32</td><td>i32</td></tr></thead><tbody><tr><td>&quot;289094&quot;</td><td>&quot;4.161115&quot;</td><td>36</td><td>878</td><td>325</td><td>false</td><td>false</td><td>20</td><td>70</td><td>false</td><td>0.73</td><td>true</td><td>false</td><td>false</td><td>false</td><td>false</td><td>true</td><td>1</td><td>0.28</td><td>1.1</td><td>0.8</td><td>1</td><td>true</td><td>1</td><td>3</td><td>-0.1</td><td>-0.6</td><td>0</td><td>3</td><td>0</td><td>-0.45</td><td>0.35</td><td>-0.2</td><td>-0.7</td><td>0</td><td>2</td><td>0</td><td>-0.8</td><td>-0.8</td><td>0</td><td>1</td><td>0</td><td>-0.1</td><td>-0.1</td><td>-0.6</td><td>-0.2</td><td>-0.7</td><td>-0.8</td><td>0</td><td>0</td><td>0</td><td>0</td><td>-1</td><td>-1</td><td>-1</td><td>-1</td><td>4</td><td>0</td><td>0</td><td>0</td><td>0</td></tr><tr><td>&quot;677626&quot;</td><td>&quot;2.429976&quot;</td><td>34</td><td>998</td><td>614</td><td>false</td><td>false</td><td>0</td><td>5</td><td>false</td><td>0.62</td><td>true</td><td>false</td><td>false</td><td>true</td><td>false</td><td>false</td><td>1</td><td>0.65</td><td>2.6</td><td>1</td><td>1</td><td>true</td><td>0</td><td>4</td><td>0.7</td><td>-0.3</td><td>1</td><td>2</td><td>0</td><td>0</td><td>0.71</td><td>0.5</td><td>-0.5</td><td>1</td><td>1</td><td>0</td><td>0.2</td><td>0.2</td><td>1</td><td>0</td><td>0</td><td>0.7</td><td>-0.2</td><td>-0.3</td><td>0.5</td><td>-0.5</td><td>0.2</td><td>0</td><td>0</td><td>1</td><td>1</td><td>-1</td><td>-1</td><td>87</td><td>118</td><td>0</td><td>0</td><td>0</td><td>0</td><td>4</td></tr><tr><td>&quot;769928&quot;</td><td>&quot;3.875044&quot;</td><td>36</td><td>37</td><td>-26</td><td>false</td><td>true</td><td>50</td><td>16.94</td><td>false</td><td>3.36</td><td>false</td><td>false</td><td>false</td><td>true</td><td>false</td><td>false</td><td>2</td><td>0.6</td><td>2.4</td><td>1</td><td>0</td><td>false</td><td>0</td><td>4</td><td>0.4</td><td>-0.7</td><td>1</td><td>2</td><td>0</td><td>-0.1</td><td>0.28</td><td>0.1</td><td>-0.3</td><td>1</td><td>1</td><td>0</td><td>-0.6</td><td>-0.6</td><td>0</td><td>1</td><td>0</td><td>-0.3</td><td>0.4</td><td>-0.7</td><td>0.1</td><td>-0.3</td><td>-0.6</td><td>0</td><td>0</td><td>0</td><td>0</td><td>-1</td><td>-1</td><td>-1</td><td>-1</td><td>4</td><td>0</td><td>0</td><td>0</td><td>0</td></tr><tr><td>&quot;873260&quot;</td><td>&quot;4.649933&quot;</td><td>50</td><td>503</td><td>-149</td><td>false</td><td>true</td><td>20</td><td>30.2</td><td>true</td><td>1.42</td><td>false</td><td>false</td><td>false</td><td>false</td><td>false</td><td>true</td><td>1</td><td>0.38</td><td>1.5</td><td>0.9</td><td>0</td><td>false</td><td>0</td><td>4</td><td>0.6</td><td>-0.7</td><td>2</td><td>1</td><td>0</td><td>0.35</td><td>0.64</td><td>0.8</td><td>-0.1</td><td>1</td><td>1</td><td>0</td><td>0.1</td><td>0.1</td><td>1</td><td>0</td><td>0</td><td>-0.7</td><td>0.6</td><td>0.2</td><td>-0.1</td><td>0.8</td><td>0.1</td><td>0</td><td>0</td><td>0</td><td>0</td><td>-1</td><td>-1</td><td>-1</td><td>-1</td><td>4</td><td>0</td><td>0</td><td>0</td><td>0</td></tr><tr><td>&quot;692379&quot;</td><td>&quot;4.382165&quot;</td><td>46</td><td>80</td><td>-25</td><td>false</td><td>true</td><td>40</td><td>60.71</td><td>false</td><td>1.45</td><td>false</td><td>true</td><td>false</td><td>false</td><td>false</td><td>false</td><td>1</td><td>0.55</td><td>2.2</td><td>0.8</td><td>2</td><td>true</td><td>0</td><td>4</td><td>0.6</td><td>-0.4</td><td>1</td><td>2</td><td>0</td><td>-0.1</td><td>0.71</td><td>0.4</td><td>-0.6</td><td>1</td><td>1</td><td>0</td><td>0</td><td>0</td><td>0</td><td>0</td><td>1</td><td>0.6</td><td>-0.2</td><td>-0.4</td><td>0.4</td><td>-0.6</td><td>0</td><td>0</td><td>0</td><td>0</td><td>0</td><td>-1</td><td>-1</td><td>-1</td><td>-1</td><td>4</td><td>0</td><td>0</td><td>0</td><td>0</td></tr></tbody></table></div>"
      ],
      "text/plain": [
       "shape: (5, 61)\n",
       "┌────────────┬────────────┬─────┬────────────┬───┬────────────┬────────────┬───────────┬───────────┐\n",
       "│ rating_acc ┆ customer_i ┆ age ┆ contract_l ┆ … ┆ times_in_p ┆ times_in_p ┆ times_in_ ┆ times_in_ │\n",
       "│ ount_id    ┆ d          ┆ --- ┆ ifetime_da ┆   ┆ 2          ┆ 3          ┆ p4        ┆ p5        │\n",
       "│ ---        ┆ ---        ┆ i64 ┆ ys         ┆   ┆ ---        ┆ ---        ┆ ---       ┆ ---       │\n",
       "│ str        ┆ str        ┆     ┆ ---        ┆   ┆ i32        ┆ i32        ┆ i32       ┆ i32       │\n",
       "│            ┆            ┆     ┆ i64        ┆   ┆            ┆            ┆           ┆           │\n",
       "╞════════════╪════════════╪═════╪════════════╪═══╪════════════╪════════════╪═══════════╪═══════════╡\n",
       "│ 289094     ┆ 4.161115   ┆ 36  ┆ 878        ┆ … ┆ 0          ┆ 0          ┆ 0         ┆ 0         │\n",
       "│ 677626     ┆ 2.429976   ┆ 34  ┆ 998        ┆ … ┆ 0          ┆ 0          ┆ 0         ┆ 4         │\n",
       "│ 769928     ┆ 3.875044   ┆ 36  ┆ 37         ┆ … ┆ 0          ┆ 0          ┆ 0         ┆ 0         │\n",
       "│ 873260     ┆ 4.649933   ┆ 50  ┆ 503        ┆ … ┆ 0          ┆ 0          ┆ 0         ┆ 0         │\n",
       "│ 692379     ┆ 4.382165   ┆ 46  ┆ 80         ┆ … ┆ 0          ┆ 0          ┆ 0         ┆ 0         │\n",
       "└────────────┴────────────┴─────┴────────────┴───┴────────────┴────────────┴───────────┴───────────┘"
      ]
     },
     "execution_count": 5,
     "metadata": {},
     "output_type": "execute_result"
    }
   ],
   "source": [
    "features.head()"
   ]
  },
  {
   "cell_type": "code",
   "execution_count": 6,
   "id": "5800eeef",
   "metadata": {},
   "outputs": [
    {
     "data": {
      "text/html": [
       "<div><style>\n",
       ".dataframe > thead > tr,\n",
       ".dataframe > tbody > tr {\n",
       "  text-align: right;\n",
       "  white-space: pre-wrap;\n",
       "}\n",
       "</style>\n",
       "<small>shape: (5, 59)</small><table border=\"1\" class=\"dataframe\"><thead><tr><th>age</th><th>contract_lifetime_days</th><th>remaining_binding_days</th><th>has_special_offer</th><th>is_magenta1_customer</th><th>available_gb</th><th>gross_mrc</th><th>completion_rate</th><th>is_bounded</th><th>is_huawei</th><th>is_oneplus</th><th>is_samsung</th><th>is_xiaomi</th><th>is_iphone</th><th>n_contracts_per_customer</th><th>avg_monthly_usage_gb</th><th>total_usage_gb</th><th>max_monthly_usage_gb</th><th>months_with_roaming</th><th>ever_used_roaming</th><th>zero_usage_months</th><th>active_usage_months</th><th>max_delta_1mo_increase</th><th>max_delta_1mo_decrease</th><th>months_with_delta_1mo_increase</th><th>months_with_delta_1mo_decrease</th><th>months_with_no_delta_1mo_change</th><th>avg_delta_2mo</th><th>delta_2mo_volatility</th><th>max_delta_2mo_increase</th><th>max_delta_2mo_decrease</th><th>months_with_delta_2mo_increase</th><th>months_with_delta_2mo_decrease</th><th>months_with_no_delta_2mo_change</th><th>max_delta_3mo_increase</th><th>max_delta_3mo_decrease</th><th>months_with_delta_3mo_increase</th><th>months_with_delta_3mo_decrease</th><th>months_with_no_delta_3mo_change</th><th>last_1_delta_1mo</th><th>last_2_delta_1mo</th><th>last_3_delta_1mo</th><th>last_1_delta_2mo</th><th>last_2_delta_2mo</th><th>last_1_delta_3mo</th><th>n_rechnungsanfragen</th><th>n_produkte&amp;services-tarifdetails</th><th>n_prolongation</th><th>n_produkte&amp;services-tarifwechsel</th><th>days_since_last_rechnungsanfragen</th><th>days_since_last_produkte&amp;services-tarifdetails</th><th>days_since_last_prolongation</th><th>days_since_last_produkte&amp;services-tarifwechsel</th><th>times_in_p1</th><th>times_in_p2</th><th>times_in_p3</th><th>times_in_p4</th><th>times_in_p5</th><th>has_done_upselling</th></tr><tr><td>i64</td><td>i64</td><td>i64</td><td>bool</td><td>bool</td><td>i64</td><td>f64</td><td>f64</td><td>bool</td><td>bool</td><td>bool</td><td>bool</td><td>bool</td><td>bool</td><td>u32</td><td>f64</td><td>f64</td><td>f64</td><td>u32</td><td>bool</td><td>u32</td><td>u32</td><td>f64</td><td>f64</td><td>u32</td><td>u32</td><td>u32</td><td>f64</td><td>f64</td><td>f64</td><td>f64</td><td>u32</td><td>u32</td><td>u32</td><td>f64</td><td>f64</td><td>u32</td><td>u32</td><td>u32</td><td>f64</td><td>f64</td><td>f64</td><td>f64</td><td>f64</td><td>f64</td><td>i64</td><td>i64</td><td>i64</td><td>i64</td><td>i64</td><td>i64</td><td>i64</td><td>i64</td><td>i32</td><td>i32</td><td>i32</td><td>i32</td><td>i32</td><td>bool</td></tr></thead><tbody><tr><td>41</td><td>20</td><td>15</td><td>true</td><td>false</td><td>10</td><td>63.37</td><td>0.57</td><td>true</td><td>false</td><td>false</td><td>true</td><td>false</td><td>false</td><td>2</td><td>3.38</td><td>13.5</td><td>4.9</td><td>0</td><td>false</td><td>0</td><td>4</td><td>0.9</td><td>-2.3</td><td>1</td><td>2</td><td>0</td><td>-2.15</td><td>1.06</td><td>-1.4</td><td>-2.9</td><td>0</td><td>2</td><td>0</td><td>-2</td><td>-2</td><td>0</td><td>1</td><td>0</td><td>-0.6</td><td>-2.3</td><td>0.9</td><td>-2.9</td><td>-1.4</td><td>-2</td><td>1</td><td>3</td><td>0</td><td>2</td><td>11</td><td>108</td><td>-1</td><td>140</td><td>1</td><td>3</td><td>0</td><td>0</td><td>0</td><td>false</td></tr><tr><td>31</td><td>30</td><td>-23</td><td>false</td><td>false</td><td>50</td><td>16.94</td><td>4.29</td><td>false</td><td>false</td><td>false</td><td>false</td><td>false</td><td>true</td><td>3</td><td>8.9</td><td>35.6</td><td>10.9</td><td>1</td><td>true</td><td>0</td><td>4</td><td>2.9</td><td>-4.4</td><td>1</td><td>2</td><td>0</td><td>-3.3</td><td>2.55</td><td>-1.5</td><td>-5.1</td><td>0</td><td>2</td><td>0</td><td>-2.2</td><td>-2.2</td><td>0</td><td>1</td><td>0</td><td>2.9</td><td>-4.4</td><td>-0.7</td><td>-1.5</td><td>-5.1</td><td>-2.2</td><td>0</td><td>0</td><td>1</td><td>1</td><td>-1</td><td>-1</td><td>134</td><td>149</td><td>4</td><td>0</td><td>0</td><td>0</td><td>0</td><td>false</td></tr><tr><td>25</td><td>1794</td><td>182</td><td>true</td><td>true</td><td>10</td><td>48.78</td><td>0.91</td><td>true</td><td>false</td><td>false</td><td>false</td><td>false</td><td>true</td><td>4</td><td>48.32</td><td>193.3</td><td>68.9</td><td>0</td><td>false</td><td>0</td><td>4</td><td>23.7</td><td>-36.2</td><td>1</td><td>2</td><td>0</td><td>4.95</td><td>24.68</td><td>22.4</td><td>-12.5</td><td>1</td><td>1</td><td>0</td><td>-13.8</td><td>-13.8</td><td>0</td><td>1</td><td>0</td><td>-36.2</td><td>23.7</td><td>-1.3</td><td>-12.5</td><td>22.4</td><td>-13.8</td><td>0</td><td>2</td><td>0</td><td>0</td><td>-1</td><td>2</td><td>-1</td><td>-1</td><td>0</td><td>0</td><td>0</td><td>0</td><td>4</td><td>true</td></tr><tr><td>91</td><td>1375</td><td>-242</td><td>false</td><td>false</td><td>20</td><td>39.49</td><td>1.21</td><td>false</td><td>false</td><td>false</td><td>true</td><td>false</td><td>false</td><td>5</td><td>36.45</td><td>145.8</td><td>53.2</td><td>0</td><td>false</td><td>0</td><td>4</td><td>16.3</td><td>-21.8</td><td>1</td><td>2</td><td>0</td><td>-17.2</td><td>16.55</td><td>-5.5</td><td>-28.9</td><td>0</td><td>2</td><td>0</td><td>-12.6</td><td>-12.6</td><td>0</td><td>1</td><td>0</td><td>-7.1</td><td>-21.8</td><td>16.3</td><td>-28.9</td><td>-5.5</td><td>-12.6</td><td>0</td><td>0</td><td>0</td><td>0</td><td>-1</td><td>-1</td><td>-1</td><td>-1</td><td>0</td><td>0</td><td>0</td><td>0</td><td>4</td><td>false</td></tr><tr><td>44</td><td>292</td><td>-93</td><td>true</td><td>false</td><td>10</td><td>24.9</td><td>1.47</td><td>false</td><td>false</td><td>false</td><td>true</td><td>false</td><td>false</td><td>1</td><td>8.18</td><td>32.7</td><td>11.8</td><td>2</td><td>true</td><td>0</td><td>4</td><td>4.9</td><td>-1.8</td><td>2</td><td>1</td><td>0</td><td>2.35</td><td>4.74</td><td>5.7</td><td>-1</td><td>1</td><td>1</td><td>0</td><td>3.9</td><td>3.9</td><td>1</td><td>0</td><td>0</td><td>4.9</td><td>0.8</td><td>-1.8</td><td>5.7</td><td>-1</td><td>3.9</td><td>0</td><td>0</td><td>0</td><td>0</td><td>-1</td><td>-1</td><td>-1</td><td>-1</td><td>0</td><td>0</td><td>2</td><td>1</td><td>1</td><td>false</td></tr></tbody></table></div>"
      ],
      "text/plain": [
       "shape: (5, 59)\n",
       "┌─────┬────────────┬────────────┬────────────┬───┬────────────┬────────────┬───────────┬───────────┐\n",
       "│ age ┆ contract_l ┆ remaining_ ┆ has_specia ┆ … ┆ times_in_p ┆ times_in_p ┆ times_in_ ┆ has_done_ │\n",
       "│ --- ┆ ifetime_da ┆ binding_da ┆ l_offer    ┆   ┆ 3          ┆ 4          ┆ p5        ┆ upselling │\n",
       "│ i64 ┆ ys         ┆ ys         ┆ ---        ┆   ┆ ---        ┆ ---        ┆ ---       ┆ ---       │\n",
       "│     ┆ ---        ┆ ---        ┆ bool       ┆   ┆ i32        ┆ i32        ┆ i32       ┆ bool      │\n",
       "│     ┆ i64        ┆ i64        ┆            ┆   ┆            ┆            ┆           ┆           │\n",
       "╞═════╪════════════╪════════════╪════════════╪═══╪════════════╪════════════╪═══════════╪═══════════╡\n",
       "│ 41  ┆ 20         ┆ 15         ┆ true       ┆ … ┆ 0          ┆ 0          ┆ 0         ┆ false     │\n",
       "│ 31  ┆ 30         ┆ -23        ┆ false      ┆ … ┆ 0          ┆ 0          ┆ 0         ┆ false     │\n",
       "│ 25  ┆ 1794       ┆ 182        ┆ true       ┆ … ┆ 0          ┆ 0          ┆ 4         ┆ true      │\n",
       "│ 91  ┆ 1375       ┆ -242       ┆ false      ┆ … ┆ 0          ┆ 0          ┆ 4         ┆ false     │\n",
       "│ 44  ┆ 292        ┆ -93        ┆ true       ┆ … ┆ 2          ┆ 1          ┆ 1         ┆ false     │\n",
       "└─────┴────────────┴────────────┴────────────┴───┴────────────┴────────────┴───────────┴───────────┘"
      ]
     },
     "execution_count": 6,
     "metadata": {},
     "output_type": "execute_result"
    }
   ],
   "source": [
    "train.head()"
   ]
  },
  {
   "cell_type": "markdown",
   "id": "354a68d8",
   "metadata": {},
   "source": [
    "---"
   ]
  },
  {
   "cell_type": "markdown",
   "id": "b5c9f1a9",
   "metadata": {},
   "source": [
    "# Models"
   ]
  },
  {
   "cell_type": "markdown",
   "id": "55faa236",
   "metadata": {},
   "source": [
    "## Choosing evaluation metrics for model performance\n",
    "\n",
    "When selecting metrics to evaluate the models, there are several options depending on the nature of the campaign and business objectives:\n",
    "\n",
    "1. **Precision**\n",
    "This is preferred when the campaign involves **human interactions and is time-constrained**. In this case, the goal is to **maximize the effective use of limited time** and minimize wasted agent effort.\n",
    "\n",
    "2. **Recall** \n",
    "This is more suitable for **online or telematic campaigns**, where it is feasible to contact all potential customers at lower marginal cost. In this case, the priority is to **reach as many relevant targets as possible**, capturing maximum revenue opportunity even if it includes some false positives (this is may be a problem because false positives still have costs: customer annoyance, brand perception, potential churn).\n",
    "\n",
    "3. **F1-Score**\n",
    "The F1-score is ideal for **balancing optimization**, particularly in the following scenarios:\n",
    "    - **Mixed deployment** where one model serves both human and automated channels  \n",
    "    - **Customer experience considerations** where you must balance reach with relevance to avoid over-targeting"
   ]
  },
  {
   "cell_type": "markdown",
   "id": "588c3ec8",
   "metadata": {},
   "source": [
    "## Prepare the data"
   ]
  },
  {
   "cell_type": "code",
   "execution_count": 7,
   "id": "5769ea94",
   "metadata": {},
   "outputs": [],
   "source": [
    "\n",
    "X = train.select(pl.exclude(['rating_account_id', 'customer_id', 'has_done_upselling']))\n",
    "y = train.select('has_done_upselling')\n",
    "\n",
    "\n",
    "skf = StratifiedKFold(n_splits=5, shuffle=True, random_state=42)"
   ]
  },
  {
   "cell_type": "code",
   "execution_count": 8,
   "id": "4dacd06e",
   "metadata": {},
   "outputs": [],
   "source": [
    "performance_dict  = {\n",
    "    'Algorithm': list(),\n",
    "    'Score': list(),\n",
    "    'Metric': list()\n",
    "}"
   ]
  },
  {
   "cell_type": "markdown",
   "id": "0c7ffa41",
   "metadata": {},
   "source": [
    "## Support Vector Machine"
   ]
  },
  {
   "cell_type": "code",
   "execution_count": 9,
   "id": "aafa26e7",
   "metadata": {},
   "outputs": [
    {
     "name": "stderr",
     "output_type": "stream",
     "text": [
      "/Users/danlab/code/magenta-task/.venv/lib/python3.12/site-packages/sklearn/metrics/_classification.py:1706: UndefinedMetricWarning: Precision is ill-defined and being set to 0.0 due to no predicted samples. Use `zero_division` parameter to control this behavior.\n",
      "  _warn_prf(average, modifier, f\"{metric.capitalize()} is\", result.shape[0])\n",
      "/Users/danlab/code/magenta-task/.venv/lib/python3.12/site-packages/sklearn/metrics/_classification.py:1706: UndefinedMetricWarning: Precision is ill-defined and being set to 0.0 due to no predicted samples. Use `zero_division` parameter to control this behavior.\n",
      "  _warn_prf(average, modifier, f\"{metric.capitalize()} is\", result.shape[0])\n",
      "/Users/danlab/code/magenta-task/.venv/lib/python3.12/site-packages/sklearn/metrics/_classification.py:1706: UndefinedMetricWarning: Precision is ill-defined and being set to 0.0 due to no predicted samples. Use `zero_division` parameter to control this behavior.\n",
      "  _warn_prf(average, modifier, f\"{metric.capitalize()} is\", result.shape[0])\n",
      "/Users/danlab/code/magenta-task/.venv/lib/python3.12/site-packages/sklearn/metrics/_classification.py:1706: UndefinedMetricWarning: Precision is ill-defined and being set to 0.0 due to no predicted samples. Use `zero_division` parameter to control this behavior.\n",
      "  _warn_prf(average, modifier, f\"{metric.capitalize()} is\", result.shape[0])\n"
     ]
    },
    {
     "name": "stdout",
     "output_type": "stream",
     "text": [
      "Mean CV precision: 0.0000 (+/- 0.0000)\n",
      "CPU times: user 978 ms, sys: 119 ms, total: 1.1 s\n",
      "Wall time: 1.06 s\n"
     ]
    },
    {
     "name": "stderr",
     "output_type": "stream",
     "text": [
      "/Users/danlab/code/magenta-task/.venv/lib/python3.12/site-packages/sklearn/metrics/_classification.py:1706: UndefinedMetricWarning: Precision is ill-defined and being set to 0.0 due to no predicted samples. Use `zero_division` parameter to control this behavior.\n",
      "  _warn_prf(average, modifier, f\"{metric.capitalize()} is\", result.shape[0])\n"
     ]
    }
   ],
   "source": [
    "%%time\n",
    "from sklearn.preprocessing import StandardScaler\n",
    "scaler = StandardScaler()\n",
    "X_scaled = scaler.fit_transform(X)\n",
    "\n",
    "metric = 'precision'\n",
    "\n",
    "# Linear Support Vector Machine\n",
    "svm = LinearSVC()\n",
    "cv_scores = cross_val_score(svm, X_scaled, y.to_numpy().ravel(), cv=skf, scoring=metric)\n",
    "print(f\"Mean CV {metric}: {cv_scores.mean():.4f} (+/- {cv_scores.std() * 2:.4f})\")\n",
    "\n",
    "performance_dict['Algorithm'].append('Linear Support Vector Machine')\n",
    "performance_dict['Score'].append(cv_scores.mean())\n",
    "performance_dict['Metric'].append(metric)"
   ]
  },
  {
   "cell_type": "code",
   "execution_count": 10,
   "id": "ffaab409",
   "metadata": {},
   "outputs": [
    {
     "name": "stdout",
     "output_type": "stream",
     "text": [
      "Mean CV accuracy: 0.9295 (+/- 0.0000)\n",
      "CPU times: user 941 ms, sys: 106 ms, total: 1.05 s\n",
      "Wall time: 998 ms\n"
     ]
    }
   ],
   "source": [
    "%%time\n",
    "from sklearn.preprocessing import StandardScaler\n",
    "scaler = StandardScaler()\n",
    "X_scaled = scaler.fit_transform(X)\n",
    "\n",
    "metric = 'accuracy'\n",
    "\n",
    "# Linear Support Vector Machine\n",
    "svm = LinearSVC()\n",
    "cv_scores = cross_val_score(svm, X_scaled, y.to_numpy().ravel(), cv=skf, scoring=metric)\n",
    "print(f\"Mean CV {metric}: {cv_scores.mean():.4f} (+/- {cv_scores.std() * 2:.4f})\")\n",
    "\n",
    "performance_dict['Algorithm'].append('Linear Support Vector Machine')\n",
    "performance_dict['Score'].append(cv_scores.mean())\n",
    "performance_dict['Metric'].append(metric)"
   ]
  },
  {
   "cell_type": "markdown",
   "id": "5a40728b",
   "metadata": {},
   "source": [
    "Model predicts always 0"
   ]
  },
  {
   "cell_type": "markdown",
   "id": "f9ded5c0",
   "metadata": {},
   "source": [
    "## RandomForest"
   ]
  },
  {
   "cell_type": "code",
   "execution_count": 11,
   "id": "08282c9c",
   "metadata": {},
   "outputs": [
    {
     "name": "stdout",
     "output_type": "stream",
     "text": [
      "Mean CV f1: 0.0000 (+/- 0.0000)\n",
      "CPU times: user 1min, sys: 823 ms, total: 1min\n",
      "Wall time: 1min 1s\n"
     ]
    }
   ],
   "source": [
    "%%time\n",
    "\n",
    "metric = 'f1'\n",
    "\n",
    "# Random Forest Classifier\n",
    "rf = RandomForestClassifier()\n",
    "\n",
    "cv_scores = cross_val_score(rf, X, y.to_numpy().ravel(), cv=skf, scoring=metric)\n",
    "print(f\"Mean CV {metric}: {cv_scores.mean():.4f} (+/- {cv_scores.std() * 2:.4f})\")\n",
    "\n",
    "performance_dict['Algorithm'].append('Random Forest')\n",
    "performance_dict['Score'].append(cv_scores.mean())\n",
    "performance_dict['Metric'].append(metric)"
   ]
  },
  {
   "cell_type": "code",
   "execution_count": 12,
   "id": "b8b1d98b",
   "metadata": {},
   "outputs": [
    {
     "name": "stdout",
     "output_type": "stream",
     "text": [
      "Mean CV accuracy: 0.9295 (+/- 0.0000)\n",
      "CPU times: user 1min 2s, sys: 1.79 s, total: 1min 4s\n",
      "Wall time: 1min 6s\n"
     ]
    }
   ],
   "source": [
    "%%time\n",
    "\n",
    "metric = 'accuracy'\n",
    "\n",
    "# Random Forest Classifier\n",
    "rf = RandomForestClassifier()\n",
    "\n",
    "cv_scores = cross_val_score(rf, X, y.to_numpy().ravel(), cv=skf, scoring=metric)\n",
    "print(f\"Mean CV {metric}: {cv_scores.mean():.4f} (+/- {cv_scores.std() * 2:.4f})\")\n",
    "\n",
    "performance_dict['Algorithm'].append('Random Forest')\n",
    "performance_dict['Score'].append(cv_scores.mean())\n",
    "performance_dict['Metric'].append(metric)"
   ]
  },
  {
   "cell_type": "code",
   "execution_count": 13,
   "id": "b27637c5",
   "metadata": {},
   "outputs": [
    {
     "name": "stdout",
     "output_type": "stream",
     "text": [
      "Mean CV recall: 0.0000 (+/- 0.0000)\n",
      "CPU times: user 1min 1s, sys: 1.31 s, total: 1min 2s\n",
      "Wall time: 1min 4s\n"
     ]
    }
   ],
   "source": [
    "%%time\n",
    "\n",
    "metric = 'recall'\n",
    "\n",
    "# Random Forest Classifier\n",
    "rf = RandomForestClassifier()\n",
    "\n",
    "cv_scores = cross_val_score(rf, X, y.to_numpy().ravel(), cv=skf, scoring=metric)\n",
    "print(f\"Mean CV {metric}: {cv_scores.mean():.4f} (+/- {cv_scores.std() * 2:.4f})\")\n",
    "\n",
    "performance_dict['Algorithm'].append('Random Forest')\n",
    "performance_dict['Score'].append(cv_scores.mean())\n",
    "performance_dict['Metric'].append(metric)"
   ]
  },
  {
   "cell_type": "markdown",
   "id": "bb3b1b9f",
   "metadata": {},
   "source": [
    "Model predicts always 0"
   ]
  },
  {
   "cell_type": "markdown",
   "id": "ee2f64f4",
   "metadata": {},
   "source": [
    "## HistGradientBoostingClassifier"
   ]
  },
  {
   "cell_type": "code",
   "execution_count": 14,
   "id": "40f30755",
   "metadata": {},
   "outputs": [
    {
     "name": "stdout",
     "output_type": "stream",
     "text": [
      "Mean CV recall: 0.0000 (+/- 0.0000)\n",
      "CPU times: user 11.2 s, sys: 4.97 s, total: 16.2 s\n",
      "Wall time: 2.15 s\n"
     ]
    }
   ],
   "source": [
    "%%time\n",
    "\n",
    "metric = 'recall'\n",
    "\n",
    "# Histogram-based Gradient Boosting\n",
    "hist_boost = HistGradientBoostingClassifier()\n",
    "\n",
    "cv_scores = cross_val_score(hist_boost, X, y.to_numpy().ravel(), cv=skf, scoring=metric)\n",
    "print(f\"Mean CV {metric}: {cv_scores.mean():.4f} (+/- {cv_scores.std() * 2:.4f})\")\n",
    "\n",
    "performance_dict['Algorithm'].append('HistGradientBoostingClassifier')\n",
    "performance_dict['Score'].append(cv_scores.mean())\n",
    "performance_dict['Metric'].append(metric)"
   ]
  },
  {
   "cell_type": "code",
   "execution_count": 15,
   "id": "f9bf5a3b",
   "metadata": {},
   "outputs": [
    {
     "name": "stdout",
     "output_type": "stream",
     "text": [
      "Mean CV accuracy: 0.9295 (+/- 0.0000)\n",
      "CPU times: user 11.9 s, sys: 7.49 s, total: 19.4 s\n",
      "Wall time: 2.83 s\n"
     ]
    }
   ],
   "source": [
    "%%time\n",
    "\n",
    "metric = 'accuracy'\n",
    "\n",
    "# Histogram-based Gradient Boosting\n",
    "hist_boost = HistGradientBoostingClassifier()\n",
    "\n",
    "cv_scores = cross_val_score(hist_boost, X, y.to_numpy().ravel(), cv=skf, scoring=metric)\n",
    "print(f\"Mean CV {metric}: {cv_scores.mean():.4f} (+/- {cv_scores.std() * 2:.4f})\")\n",
    "\n",
    "performance_dict['Algorithm'].append('HistGradientBoostingClassifier')\n",
    "performance_dict['Score'].append(cv_scores.mean())\n",
    "performance_dict['Metric'].append(metric)"
   ]
  },
  {
   "cell_type": "code",
   "execution_count": 16,
   "id": "3cdeec52",
   "metadata": {},
   "outputs": [
    {
     "name": "stdout",
     "output_type": "stream",
     "text": [
      "Mean CV f1: 0.0000 (+/- 0.0000)\n",
      "CPU times: user 12.1 s, sys: 6.82 s, total: 18.9 s\n",
      "Wall time: 2.52 s\n"
     ]
    }
   ],
   "source": [
    "%%time\n",
    "\n",
    "metric = 'f1'\n",
    "\n",
    "# Histogram-based Gradient Boosting\n",
    "hist_boost = HistGradientBoostingClassifier()\n",
    "\n",
    "cv_scores = cross_val_score(hist_boost, X, y.to_numpy().ravel(), cv=skf, scoring=metric)\n",
    "print(f\"Mean CV {metric}: {cv_scores.mean():.4f} (+/- {cv_scores.std() * 2:.4f})\")\n",
    "\n",
    "performance_dict['Algorithm'].append('HistGradientBoostingClassifier')\n",
    "performance_dict['Score'].append(cv_scores.mean())\n",
    "performance_dict['Metric'].append(metric)"
   ]
  },
  {
   "cell_type": "markdown",
   "id": "75bee45d",
   "metadata": {},
   "source": [
    "## xGBoost"
   ]
  },
  {
   "cell_type": "code",
   "execution_count": 17,
   "id": "ba804b13",
   "metadata": {},
   "outputs": [
    {
     "name": "stdout",
     "output_type": "stream",
     "text": [
      "Mean CV f1: 0.0035 (+/- 0.0050)\n",
      "CPU times: user 4.66 s, sys: 1.8 s, total: 6.47 s\n",
      "Wall time: 1.81 s\n"
     ]
    }
   ],
   "source": [
    "%%time\n",
    "\n",
    "metric = 'f1'\n",
    "\n",
    "# XGBoost Classifier\n",
    "xgb = XGBClassifier(eval_metric='logloss')\n",
    "\n",
    "cv_scores = cross_val_score(xgb, X, y.to_numpy().ravel(), cv=skf, scoring=metric)\n",
    "print(f\"Mean CV {metric}: {cv_scores.mean():.4f} (+/- {cv_scores.std() * 2:.4f})\")\n",
    "\n",
    "performance_dict['Algorithm'].append('XGBoost')\n",
    "performance_dict['Score'].append(cv_scores.mean())\n",
    "performance_dict['Metric'].append(metric)"
   ]
  },
  {
   "cell_type": "code",
   "execution_count": 18,
   "id": "888daa04",
   "metadata": {},
   "outputs": [
    {
     "name": "stdout",
     "output_type": "stream",
     "text": [
      "Mean CV accuracy: 0.9291 (+/- 0.0004)\n",
      "CPU times: user 4.31 s, sys: 1.35 s, total: 5.66 s\n",
      "Wall time: 1.57 s\n"
     ]
    }
   ],
   "source": [
    "%%time\n",
    "\n",
    "metric = 'accuracy'\n",
    "\n",
    "# XGBoost Classifier\n",
    "xgb = XGBClassifier(eval_metric='logloss')\n",
    "\n",
    "cv_scores = cross_val_score(xgb, X, y.to_numpy().ravel(), cv=skf, scoring=metric)\n",
    "print(f\"Mean CV {metric}: {cv_scores.mean():.4f} (+/- {cv_scores.std() * 2:.4f})\")\n",
    "\n",
    "performance_dict['Algorithm'].append('XGBoost')\n",
    "performance_dict['Score'].append(cv_scores.mean())\n",
    "performance_dict['Metric'].append(metric)"
   ]
  },
  {
   "cell_type": "code",
   "execution_count": 19,
   "id": "ae61e522",
   "metadata": {},
   "outputs": [
    {
     "name": "stdout",
     "output_type": "stream",
     "text": [
      "Mean CV precision: 0.1844 (+/- 0.2392)\n",
      "CPU times: user 4.36 s, sys: 1.35 s, total: 5.71 s\n",
      "Wall time: 1.67 s\n"
     ]
    }
   ],
   "source": [
    "%%time\n",
    "\n",
    "metric = 'precision'\n",
    "\n",
    "# XGBoost Classifier\n",
    "xgb = XGBClassifier(eval_metric='logloss')\n",
    "\n",
    "cv_scores = cross_val_score(xgb, X, y.to_numpy().ravel(), cv=skf, scoring=metric)\n",
    "print(f\"Mean CV {metric}: {cv_scores.mean():.4f} (+/- {cv_scores.std() * 2:.4f})\")\n",
    "\n",
    "performance_dict['Algorithm'].append('XGBoost')\n",
    "performance_dict['Score'].append(cv_scores.mean())\n",
    "performance_dict['Metric'].append(metric)"
   ]
  },
  {
   "cell_type": "markdown",
   "id": "647688ce",
   "metadata": {},
   "source": [
    "## LightGBM"
   ]
  },
  {
   "cell_type": "code",
   "execution_count": 20,
   "id": "848b413f",
   "metadata": {},
   "outputs": [
    {
     "name": "stderr",
     "output_type": "stream",
     "text": [
      "/Users/danlab/code/magenta-task/.venv/lib/python3.12/site-packages/sklearn/utils/validation.py:2749: UserWarning: X does not have valid feature names, but LGBMClassifier was fitted with feature names\n",
      "  warnings.warn(\n",
      "/Users/danlab/code/magenta-task/.venv/lib/python3.12/site-packages/sklearn/metrics/_classification.py:1706: UndefinedMetricWarning: Precision is ill-defined and being set to 0.0 due to no predicted samples. Use `zero_division` parameter to control this behavior.\n",
      "  _warn_prf(average, modifier, f\"{metric.capitalize()} is\", result.shape[0])\n",
      "/Users/danlab/code/magenta-task/.venv/lib/python3.12/site-packages/sklearn/utils/validation.py:2749: UserWarning: X does not have valid feature names, but LGBMClassifier was fitted with feature names\n",
      "  warnings.warn(\n",
      "/Users/danlab/code/magenta-task/.venv/lib/python3.12/site-packages/sklearn/utils/validation.py:2749: UserWarning: X does not have valid feature names, but LGBMClassifier was fitted with feature names\n",
      "  warnings.warn(\n",
      "/Users/danlab/code/magenta-task/.venv/lib/python3.12/site-packages/sklearn/metrics/_classification.py:1706: UndefinedMetricWarning: Precision is ill-defined and being set to 0.0 due to no predicted samples. Use `zero_division` parameter to control this behavior.\n",
      "  _warn_prf(average, modifier, f\"{metric.capitalize()} is\", result.shape[0])\n",
      "/Users/danlab/code/magenta-task/.venv/lib/python3.12/site-packages/sklearn/utils/validation.py:2749: UserWarning: X does not have valid feature names, but LGBMClassifier was fitted with feature names\n",
      "  warnings.warn(\n",
      "/Users/danlab/code/magenta-task/.venv/lib/python3.12/site-packages/sklearn/metrics/_classification.py:1706: UndefinedMetricWarning: Precision is ill-defined and being set to 0.0 due to no predicted samples. Use `zero_division` parameter to control this behavior.\n",
      "  _warn_prf(average, modifier, f\"{metric.capitalize()} is\", result.shape[0])\n"
     ]
    },
    {
     "name": "stdout",
     "output_type": "stream",
     "text": [
      "Mean CV precision: 0.0000 (+/- 0.0000)\n",
      "CPU times: user 4.61 s, sys: 4.58 s, total: 9.19 s\n",
      "Wall time: 3.27 s\n"
     ]
    },
    {
     "name": "stderr",
     "output_type": "stream",
     "text": [
      "/Users/danlab/code/magenta-task/.venv/lib/python3.12/site-packages/sklearn/utils/validation.py:2749: UserWarning: X does not have valid feature names, but LGBMClassifier was fitted with feature names\n",
      "  warnings.warn(\n",
      "/Users/danlab/code/magenta-task/.venv/lib/python3.12/site-packages/sklearn/metrics/_classification.py:1706: UndefinedMetricWarning: Precision is ill-defined and being set to 0.0 due to no predicted samples. Use `zero_division` parameter to control this behavior.\n",
      "  _warn_prf(average, modifier, f\"{metric.capitalize()} is\", result.shape[0])\n"
     ]
    }
   ],
   "source": [
    "%%time\n",
    "\n",
    "metric = 'precision'\n",
    "\n",
    "# LightGBM Classifier\n",
    "lgbm = LGBMClassifier(verbose=0)\n",
    "\n",
    "cv_scores = cross_val_score(lgbm, X.to_numpy(), y.to_numpy().ravel(), cv=skf, scoring=metric)\n",
    "print(f\"Mean CV {metric}: {cv_scores.mean():.4f} (+/- {cv_scores.std() * 2:.4f})\")\n",
    "\n",
    "performance_dict['Algorithm'].append('LightGBM')\n",
    "performance_dict['Score'].append(cv_scores.mean())\n",
    "performance_dict['Metric'].append(metric)"
   ]
  },
  {
   "cell_type": "code",
   "execution_count": 21,
   "id": "e59614b5",
   "metadata": {},
   "outputs": [
    {
     "name": "stderr",
     "output_type": "stream",
     "text": [
      "/Users/danlab/code/magenta-task/.venv/lib/python3.12/site-packages/sklearn/utils/validation.py:2749: UserWarning: X does not have valid feature names, but LGBMClassifier was fitted with feature names\n",
      "  warnings.warn(\n",
      "/Users/danlab/code/magenta-task/.venv/lib/python3.12/site-packages/sklearn/utils/validation.py:2749: UserWarning: X does not have valid feature names, but LGBMClassifier was fitted with feature names\n",
      "  warnings.warn(\n",
      "/Users/danlab/code/magenta-task/.venv/lib/python3.12/site-packages/sklearn/utils/validation.py:2749: UserWarning: X does not have valid feature names, but LGBMClassifier was fitted with feature names\n",
      "  warnings.warn(\n",
      "/Users/danlab/code/magenta-task/.venv/lib/python3.12/site-packages/sklearn/utils/validation.py:2749: UserWarning: X does not have valid feature names, but LGBMClassifier was fitted with feature names\n",
      "  warnings.warn(\n"
     ]
    },
    {
     "name": "stdout",
     "output_type": "stream",
     "text": [
      "Mean CV f1: 0.0000 (+/- 0.0000)\n",
      "CPU times: user 4.61 s, sys: 4.57 s, total: 9.18 s\n",
      "Wall time: 3.23 s\n"
     ]
    },
    {
     "name": "stderr",
     "output_type": "stream",
     "text": [
      "/Users/danlab/code/magenta-task/.venv/lib/python3.12/site-packages/sklearn/utils/validation.py:2749: UserWarning: X does not have valid feature names, but LGBMClassifier was fitted with feature names\n",
      "  warnings.warn(\n"
     ]
    }
   ],
   "source": [
    "%%time\n",
    "\n",
    "metric = 'f1'\n",
    "\n",
    "# LightGBM Classifier\n",
    "lgbm = LGBMClassifier(verbose=0)\n",
    "\n",
    "cv_scores = cross_val_score(lgbm, X.to_numpy(), y.to_numpy().ravel(), cv=skf, scoring=metric)\n",
    "print(f\"Mean CV {metric}: {cv_scores.mean():.4f} (+/- {cv_scores.std() * 2:.4f})\")\n",
    "\n",
    "performance_dict['Algorithm'].append('LightGBM')\n",
    "performance_dict['Score'].append(cv_scores.mean())\n",
    "performance_dict['Metric'].append(metric)"
   ]
  },
  {
   "cell_type": "code",
   "execution_count": 22,
   "id": "6395aabb",
   "metadata": {},
   "outputs": [
    {
     "name": "stderr",
     "output_type": "stream",
     "text": [
      "/Users/danlab/code/magenta-task/.venv/lib/python3.12/site-packages/sklearn/utils/validation.py:2749: UserWarning: X does not have valid feature names, but LGBMClassifier was fitted with feature names\n",
      "  warnings.warn(\n",
      "/Users/danlab/code/magenta-task/.venv/lib/python3.12/site-packages/sklearn/utils/validation.py:2749: UserWarning: X does not have valid feature names, but LGBMClassifier was fitted with feature names\n",
      "  warnings.warn(\n",
      "/Users/danlab/code/magenta-task/.venv/lib/python3.12/site-packages/sklearn/utils/validation.py:2749: UserWarning: X does not have valid feature names, but LGBMClassifier was fitted with feature names\n",
      "  warnings.warn(\n",
      "/Users/danlab/code/magenta-task/.venv/lib/python3.12/site-packages/sklearn/utils/validation.py:2749: UserWarning: X does not have valid feature names, but LGBMClassifier was fitted with feature names\n",
      "  warnings.warn(\n"
     ]
    },
    {
     "name": "stdout",
     "output_type": "stream",
     "text": [
      "Mean CV accuracy: 0.9295 (+/- 0.0001)\n",
      "CPU times: user 4.47 s, sys: 4.39 s, total: 8.86 s\n",
      "Wall time: 3.02 s\n"
     ]
    },
    {
     "name": "stderr",
     "output_type": "stream",
     "text": [
      "/Users/danlab/code/magenta-task/.venv/lib/python3.12/site-packages/sklearn/utils/validation.py:2749: UserWarning: X does not have valid feature names, but LGBMClassifier was fitted with feature names\n",
      "  warnings.warn(\n"
     ]
    }
   ],
   "source": [
    "%%time\n",
    "\n",
    "metric = 'accuracy'\n",
    "\n",
    "# LightGBM Classifier\n",
    "lgbm = LGBMClassifier(verbose=0)\n",
    "\n",
    "cv_scores = cross_val_score(lgbm, X.to_numpy(), y.to_numpy().ravel(), cv=skf, scoring=metric)\n",
    "print(f\"Mean CV {metric}: {cv_scores.mean():.4f} (+/- {cv_scores.std() * 2:.4f})\")\n",
    "\n",
    "performance_dict['Algorithm'].append('LightGBM')\n",
    "performance_dict['Score'].append(cv_scores.mean())\n",
    "performance_dict['Metric'].append(metric)"
   ]
  },
  {
   "cell_type": "markdown",
   "id": "a8d92cdd",
   "metadata": {},
   "source": [
    "Model predicts always 0"
   ]
  },
  {
   "cell_type": "markdown",
   "id": "bbff2398",
   "metadata": {},
   "source": [
    "## Catboost"
   ]
  },
  {
   "cell_type": "code",
   "execution_count": 23,
   "id": "9895a18c",
   "metadata": {},
   "outputs": [
    {
     "name": "stdout",
     "output_type": "stream",
     "text": [
      "Mean CV accuracy: 0.9295 (+/- 0.0001)\n",
      "CPU times: user 3min 10s, sys: 27.5 s, total: 3min 38s\n",
      "Wall time: 30.5 s\n"
     ]
    }
   ],
   "source": [
    "%%time\n",
    "\n",
    "metric = 'accuracy'\n",
    "\n",
    "# CatBoost Classifier\n",
    "catboost = CatBoostClassifier(verbose=0)\n",
    "\n",
    "cv_scores = cross_val_score(catboost, X.to_numpy(), y.to_numpy().ravel(), cv=skf, scoring=metric)\n",
    "print(f\"Mean CV {metric}: {cv_scores.mean():.4f} (+/- {cv_scores.std() * 2:.4f})\")\n",
    "\n",
    "performance_dict['Algorithm'].append('CatBoost')\n",
    "performance_dict['Score'].append(cv_scores.mean())\n",
    "performance_dict['Metric'].append(metric)"
   ]
  },
  {
   "cell_type": "code",
   "execution_count": 24,
   "id": "8f03715a",
   "metadata": {},
   "outputs": [
    {
     "name": "stderr",
     "output_type": "stream",
     "text": [
      "/Users/danlab/code/magenta-task/.venv/lib/python3.12/site-packages/sklearn/metrics/_classification.py:1706: UndefinedMetricWarning: Precision is ill-defined and being set to 0.0 due to no predicted samples. Use `zero_division` parameter to control this behavior.\n",
      "  _warn_prf(average, modifier, f\"{metric.capitalize()} is\", result.shape[0])\n",
      "/Users/danlab/code/magenta-task/.venv/lib/python3.12/site-packages/sklearn/metrics/_classification.py:1706: UndefinedMetricWarning: Precision is ill-defined and being set to 0.0 due to no predicted samples. Use `zero_division` parameter to control this behavior.\n",
      "  _warn_prf(average, modifier, f\"{metric.capitalize()} is\", result.shape[0])\n"
     ]
    },
    {
     "name": "stdout",
     "output_type": "stream",
     "text": [
      "Mean CV precision: 0.1000 (+/- 0.4000)\n",
      "CPU times: user 3min 12s, sys: 25.8 s, total: 3min 37s\n",
      "Wall time: 29.2 s\n"
     ]
    }
   ],
   "source": [
    "%%time\n",
    "\n",
    "metric = 'precision'\n",
    "\n",
    "# CatBoost Classifier\n",
    "catboost = CatBoostClassifier(verbose=0)\n",
    "\n",
    "cv_scores = cross_val_score(catboost, X.to_numpy(), y.to_numpy().ravel(), cv=skf, scoring=metric)\n",
    "print(f\"Mean CV {metric}: {cv_scores.mean():.4f} (+/- {cv_scores.std() * 2:.4f})\")\n",
    "\n",
    "performance_dict['Algorithm'].append('CatBoost')\n",
    "performance_dict['Score'].append(cv_scores.mean())\n",
    "performance_dict['Metric'].append(metric)"
   ]
  },
  {
   "cell_type": "markdown",
   "id": "d1b857ff",
   "metadata": {},
   "source": [
    "Model predicts always 0"
   ]
  },
  {
   "cell_type": "markdown",
   "id": "0062ba03",
   "metadata": {},
   "source": [
    "---"
   ]
  },
  {
   "cell_type": "markdown",
   "id": "9fb56546",
   "metadata": {},
   "source": [
    "# Results"
   ]
  },
  {
   "cell_type": "code",
   "execution_count": 26,
   "id": "3a24eced",
   "metadata": {},
   "outputs": [
    {
     "data": {
      "text/html": [
       "<div><style>\n",
       ".dataframe > thead > tr,\n",
       ".dataframe > tbody > tr {\n",
       "  text-align: right;\n",
       "  white-space: pre-wrap;\n",
       "}\n",
       "</style>\n",
       "<small>shape: (16, 3)</small><table border=\"1\" class=\"dataframe\"><thead><tr><th>Algorithm</th><th>Score</th><th>Metric</th></tr><tr><td>str</td><td>f64</td><td>str</td></tr></thead><tbody><tr><td>&quot;Linear Support Vector Machine&quot;</td><td>0</td><td>&quot;precision&quot;</td></tr><tr><td>&quot;Linear Support Vector Machine&quot;</td><td>0.9295124999999999</td><td>&quot;accuracy&quot;</td></tr><tr><td>&quot;Random Forest&quot;</td><td>0</td><td>&quot;f1&quot;</td></tr><tr><td>&quot;Random Forest&quot;</td><td>0.9295124999999999</td><td>&quot;accuracy&quot;</td></tr><tr><td>&quot;Random Forest&quot;</td><td>0</td><td>&quot;recall&quot;</td></tr><tr><td>&hellip;</td><td>&hellip;</td><td>&hellip;</td></tr><tr><td>&quot;LightGBM&quot;</td><td>0</td><td>&quot;precision&quot;</td></tr><tr><td>&quot;LightGBM&quot;</td><td>0</td><td>&quot;f1&quot;</td></tr><tr><td>&quot;LightGBM&quot;</td><td>0.9295</td><td>&quot;accuracy&quot;</td></tr><tr><td>&quot;CatBoost&quot;</td><td>0.9294874999999999</td><td>&quot;accuracy&quot;</td></tr><tr><td>&quot;CatBoost&quot;</td><td>0.1</td><td>&quot;precision&quot;</td></tr></tbody></table></div>"
      ],
      "text/plain": [
       "shape: (16, 3)\n",
       "┌───────────────────────────────┬────────────────────┬───────────┐\n",
       "│ Algorithm                     ┆ Score              ┆ Metric    │\n",
       "│ ---                           ┆ ---                ┆ ---       │\n",
       "│ str                           ┆ f64                ┆ str       │\n",
       "╞═══════════════════════════════╪════════════════════╪═══════════╡\n",
       "│ Linear Support Vector Machine ┆ 0                  ┆ precision │\n",
       "│ Linear Support Vector Machine ┆ 0.9295124999999999 ┆ accuracy  │\n",
       "│ Random Forest                 ┆ 0                  ┆ f1        │\n",
       "│ Random Forest                 ┆ 0.9295124999999999 ┆ accuracy  │\n",
       "│ Random Forest                 ┆ 0                  ┆ recall    │\n",
       "│ …                             ┆ …                  ┆ …         │\n",
       "│ LightGBM                      ┆ 0                  ┆ precision │\n",
       "│ LightGBM                      ┆ 0                  ┆ f1        │\n",
       "│ LightGBM                      ┆ 0.9295             ┆ accuracy  │\n",
       "│ CatBoost                      ┆ 0.9294874999999999 ┆ accuracy  │\n",
       "│ CatBoost                      ┆ 0.1                ┆ precision │\n",
       "└───────────────────────────────┴────────────────────┴───────────┘"
      ]
     },
     "execution_count": 26,
     "metadata": {},
     "output_type": "execute_result"
    }
   ],
   "source": [
    "performance_df = pl.DataFrame(performance_dict)\n",
    "performance_df"
   ]
  },
  {
   "cell_type": "markdown",
   "id": "366e5b67",
   "metadata": {},
   "source": [
    "Looking at the initial performances of all the models, it seems that **no model** can really capture and generalize the pattern behind the target. Also the fact that the target column is really **imbalanced** contributes to this low performances"
   ]
  },
  {
   "cell_type": "code",
   "execution_count": null,
   "id": "f62ab19d",
   "metadata": {},
   "outputs": [],
   "source": []
  }
 ],
 "metadata": {
  "kernelspec": {
   "display_name": "magenta-task",
   "language": "python",
   "name": "python3"
  },
  "language_info": {
   "codemirror_mode": {
    "name": "ipython",
    "version": 3
   },
   "file_extension": ".py",
   "mimetype": "text/x-python",
   "name": "python",
   "nbconvert_exporter": "python",
   "pygments_lexer": "ipython3",
   "version": "3.12.11"
  }
 },
 "nbformat": 4,
 "nbformat_minor": 5
}
